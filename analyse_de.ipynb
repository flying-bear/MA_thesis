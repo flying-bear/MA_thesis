{
 "cells": [
  {
   "cell_type": "markdown",
   "id": "a98d5e3a",
   "metadata": {},
   "source": [
    "# Imports & Constants"
   ]
  },
  {
   "cell_type": "code",
   "execution_count": 1,
   "id": "243abe99",
   "metadata": {},
   "outputs": [],
   "source": [
    "%load_ext autoreload"
   ]
  },
  {
   "cell_type": "code",
   "execution_count": 2,
   "id": "8f58a50c",
   "metadata": {},
   "outputs": [],
   "source": [
    "%autoreload 2"
   ]
  },
  {
   "cell_type": "code",
   "execution_count": 3,
   "id": "288a9339",
   "metadata": {},
   "outputs": [],
   "source": [
    "import ast\n",
    "import matplotlib.pyplot as plt\n",
    "import numpy as np\n",
    "import pickle\n",
    "import pandas as pd\n",
    "import random\n",
    "import seaborn as sns\n",
    "import statsmodels.api as sm"
   ]
  },
  {
   "cell_type": "code",
   "execution_count": 4,
   "id": "45a3c435",
   "metadata": {},
   "outputs": [],
   "source": [
    "from random import choices\n",
    "from scipy import stats\n",
    "from tqdm.notebook import tqdm\n",
    "from matplotlib.colors import ListedColormap"
   ]
  },
  {
   "cell_type": "code",
   "execution_count": 5,
   "id": "a71cf51c",
   "metadata": {},
   "outputs": [],
   "source": [
    "from jupyter_utils import style, mean_std, display_test, display_group_test, \\\n",
    "    scatter_annotate, show_corrtest_mask_corr, pointplot, pointplot_horizontal, add_grey, \\\n",
    "    prep_horizontal_pointplot_errobar_data, map_model, prep_LM_pointplot, draw_sample_with_replacement, t_test\n",
    "from ortogonolize_utils import compute_coefficient"
   ]
  },
  {
   "cell_type": "code",
   "execution_count": 6,
   "id": "f4f7917f",
   "metadata": {},
   "outputs": [],
   "source": [
    "import warnings\n",
    "warnings.filterwarnings(action='ignore', category=np.VisibleDeprecationWarning)\n",
    "warnings.filterwarnings(action='ignore', message='All-NaN slice encountered')\n",
    "warnings.filterwarnings(action='ignore', message='Precision loss occurred in moment calculation due to catastrophic cancellation. This occurs when the data are nearly identical. Results may be unreliable.')\n",
    "warnings.filterwarnings(action='ignore', message='Mean of empty slice')\n",
    "warnings.filterwarnings(action='ignore', category=stats.ConstantInputWarning)\n",
    "warnings.filterwarnings(action='ignore', message='indexing past lexsort depth may impact performance')"
   ]
  },
  {
   "cell_type": "code",
   "execution_count": 7,
   "id": "fe37e70e",
   "metadata": {},
   "outputs": [],
   "source": [
    "sns.set_theme(style=\"whitegrid\")"
   ]
  },
  {
   "cell_type": "code",
   "execution_count": 8,
   "id": "a4bb2e23",
   "metadata": {},
   "outputs": [],
   "source": [
    "PATH = '/Users/galina.ryazanskaya/Downloads/thesis?/code?/processed_values'"
   ]
  },
  {
   "cell_type": "code",
   "execution_count": 9,
   "id": "e8665931",
   "metadata": {},
   "outputs": [],
   "source": [
    "PATH_FIG = '/Users/galina.ryazanskaya/Downloads/thesis?/figures/de/'"
   ]
  },
  {
   "cell_type": "markdown",
   "id": "e0ed4dd1",
   "metadata": {},
   "source": [
    "# Load data"
   ]
  },
  {
   "cell_type": "code",
   "execution_count": 10,
   "id": "f6091e5d",
   "metadata": {},
   "outputs": [],
   "source": [
    "combined_data_averaged = pd.read_csv('/Users/galina.ryazanskaya/Downloads/thesis?/code?/processed_values/de_averaged.csv', index_col=0)"
   ]
  },
  {
   "cell_type": "code",
   "execution_count": 11,
   "id": "23339b25",
   "metadata": {},
   "outputs": [],
   "source": [
    "combined_data_averaged.columns = [c if '(' not in c else ast.literal_eval(c) for c in combined_data_averaged.columns]"
   ]
  },
  {
   "cell_type": "code",
   "execution_count": 12,
   "id": "c8e780f3",
   "metadata": {},
   "outputs": [],
   "source": [
    "combined_data_all = pd.read_csv('/Users/galina.ryazanskaya/Downloads/thesis?/code?/processed_values/de_all.csv', index_col=0, header=[0, 1, 2])"
   ]
  },
  {
   "cell_type": "code",
   "execution_count": 13,
   "id": "dd631e0a",
   "metadata": {},
   "outputs": [],
   "source": [
    "TASKS = ['anger', 'fear', 'happiness', 'sadness']"
   ]
  },
  {
   "cell_type": "code",
   "execution_count": 14,
   "id": "4ebee551",
   "metadata": {},
   "outputs": [],
   "source": [
    "def task_data(df, task, keep_target=True, fill_synt=True):\n",
    "    subset = df[task].dropna(axis=0, how='any')\n",
    "    if task == 'fear' and 'KG_018' in subset.index:\n",
    "        subset = subset.drop(['KG_018'])   # incorrect task\n",
    "    if fill_synt:\n",
    "        subset['syntactic'] = subset['syntactic'].fillna(0.0)\n",
    "    if keep_target:\n",
    "        subset = pd.concat([subset, df['target'].loc[subset.index]], axis=1)\n",
    "    return subset"
   ]
  },
  {
   "cell_type": "code",
   "execution_count": 15,
   "id": "3ff475a1",
   "metadata": {},
   "outputs": [],
   "source": [
    "def aplly_to_all_tasks(df, f, tasks=TASKS, to_df=True, *args, **kwargs):\n",
    "    res = {}\n",
    "    for task in tasks:\n",
    "        data = task_data(df, task)\n",
    "        res[task] = f(data, *args, **kwargs)\n",
    "    if to_df:\n",
    "        if all(isinstance(v, pd.Series) for v in res.values()):\n",
    "            return pd.DataFrame(res)\n",
    "        elif all(isinstance(v, pd.DataFrame) for v in res.values()):\n",
    "            return pd.concat(list(res.values()), keys=list(res.keys()), names=['task'], axis=1)\n",
    "        else:\n",
    "            return res\n",
    "    return res"
   ]
  },
  {
   "cell_type": "markdown",
   "id": "ef22de1d",
   "metadata": {},
   "source": [
    "# Bootstrap"
   ]
  },
  {
   "cell_type": "code",
   "execution_count": 16,
   "id": "9927af73",
   "metadata": {},
   "outputs": [],
   "source": [
    "scale_cols = ['saps_total',\n",
    "             'sans_total',\n",
    "             'panss_pos',\n",
    "             'panss_neg',\n",
    "             'panss_o',\n",
    "             'panss_total']"
   ]
  },
  {
   "cell_type": "code",
   "execution_count": 17,
   "id": "14b96d1e",
   "metadata": {},
   "outputs": [],
   "source": [
    "cols_LM = [col for col in combined_data_averaged.columns if col[0] == 'LM']\n",
    "cols_synt = [col for col in combined_data_averaged.columns if col[0] == 'syntactic']\n",
    "cols_lex = [col for col in combined_data_averaged.columns if col[0] == 'lexical']\n",
    "cols_graph = [col for col in combined_data_averaged.columns if col[0] == 'graph']\n",
    "cols_av = cols_LM + cols_synt + cols_lex + cols_graph"
   ]
  },
  {
   "cell_type": "code",
   "execution_count": 18,
   "id": "fb7105c2",
   "metadata": {},
   "outputs": [],
   "source": [
    "## 1 sample with replacement\n",
    "## 1.1 compute r for each scale for each iteration\n",
    "## 1.2 compute t test for each iteration\n",
    "\n",
    "def bootstrap(df, cols_av, scale_cols, N, col_to_correct_for=('syntactic', 'mean_sent_len'), group=None):\n",
    "    dict_scales_sapmles = {k: {scale: {metric: [] for metric in cols_av} for scale in scale_cols} \\\n",
    "                           for k in ('sample_raw', 'r', 't', 'r_corr_w_control')}\n",
    "    for i in tqdm(range(N)):\n",
    "        sample = draw_sample_with_replacement(df, seed=i)\n",
    "        for scale in scale_cols:\n",
    "            for col in cols_av:\n",
    "                if group:\n",
    "                    t_test_res = t_test(sample, col, group)\n",
    "                    dict_scales_sapmles['t'][scale][col].append(t_test_res)\n",
    "                    \n",
    "                r_raw = compute_coefficient(sample, scale, col)[0]\n",
    "                dict_scales_sapmles['sample_raw'][scale][col].append(r_raw)\n",
    "                \n",
    "                droped = sample.dropna(subset=[col, scale])\n",
    "                r = stats.pearsonr(droped[col], droped[scale])[0]\n",
    "                dict_scales_sapmles['r'][scale][col].append(r)\n",
    "                \n",
    "                if col != col_to_correct_for:\n",
    "                    \n",
    "                    droped_c = sample.dropna(subset=[col, col_to_correct_for])\n",
    "                    r_c = stats.pearsonr(droped_c[col], droped_c[col_to_correct_for])[0]\n",
    "                    dict_scales_sapmles['r_corr_w_control'][scale][col].append(r_c)\n",
    "                    \n",
    "    return dict_scales_sapmles"
   ]
  },
  {
   "cell_type": "markdown",
   "id": "e18d46a3",
   "metadata": {},
   "source": [
    "**expensive to compute**"
   ]
  },
  {
   "cell_type": "code",
   "execution_count": 19,
   "id": "cdec6c37",
   "metadata": {},
   "outputs": [],
   "source": [
    "# N = 1000\n",
    "# dict_scales_sapmles = bootstrap(combined_data_averaged, cols_av, scale_cols, N, col_to_correct_for=('syntactic', 'mean_sent_len'), group='group')"
   ]
  },
  {
   "cell_type": "code",
   "execution_count": 20,
   "id": "c5c428cc",
   "metadata": {},
   "outputs": [],
   "source": [
    "# reform = {(scale, measure): dict_scales_sapmles[measure][scale] for scale in scale_cols for measure in dict_scales_sapmles}"
   ]
  },
  {
   "cell_type": "code",
   "execution_count": 21,
   "id": "4bb500a2",
   "metadata": {},
   "outputs": [],
   "source": [
    "# with open('processed_values/de_scales_samples_wo_o.pickle', 'wb') as f:\n",
    "#     pickle.dump(reform, f)"
   ]
  },
  {
   "cell_type": "code",
   "execution_count": 22,
   "id": "f53035f2",
   "metadata": {},
   "outputs": [],
   "source": [
    "with open('processed_values/de_scales_samples_wo_o.pickle', 'rb') as f:\n",
    "    reform = pickle.load(f)"
   ]
  },
  {
   "cell_type": "code",
   "execution_count": 23,
   "id": "5d658f15",
   "metadata": {},
   "outputs": [],
   "source": [
    "reformed_d = pd.DataFrame(reform)"
   ]
  },
  {
   "cell_type": "markdown",
   "id": "8d9a5aae",
   "metadata": {},
   "source": [
    "### Bootstrap for each task"
   ]
  },
  {
   "cell_type": "code",
   "execution_count": 24,
   "id": "0b10babf",
   "metadata": {},
   "outputs": [],
   "source": [
    "def bootstrap_tasks(df, cols_av, scale_cols, N, col_to_correct_for=('syntactic', 'mean_sent_len'), group=None):\n",
    "    res_c = ('sample_raw', 'r', 't', 'r_corr_w_control')\n",
    "    dict_scales_sapmles = {k: {scale: {metric: [] for metric in cols_av} for scale in scale_cols} for k in res_c}\n",
    "    for i in tqdm(range(N)):\n",
    "        sample = draw_sample_with_replacement(df, seed=i)\n",
    "        scale_independent = {k: {metric: [] for metric in cols_av} for k in ('t', 'r_corr_w_control')}\n",
    "        for col in cols_av:\n",
    "            if group:\n",
    "                t_test_res = t_test(sample, col, group)\n",
    "                scale_independent['t'][col].append(t_test_res)\n",
    "            if col != col_to_correct_for:\n",
    "                dropped_c = sample.dropna(subset=[col, col_to_correct_for])\n",
    "                r_c = stats.pearsonr(dropped_c[col], dropped_c[col_to_correct_for])[0]\n",
    "                scale_independent['r_corr_w_control'][col] = r_c\n",
    "            for scale in scale_cols:\n",
    "                scale_ = ('target', scale)\n",
    "                r_raw = compute_coefficient(sample, scale_, col)[0]\n",
    "                dict_scales_sapmles['sample_raw'][scale][col].append(r_raw)\n",
    "                \n",
    "                dropped = sample.dropna(subset=[col, scale_])\n",
    "                r = stats.pearsonr(dropped[col], dropped[scale_])[0]\n",
    "                dict_scales_sapmles['r'][scale][col].append(r)\n",
    "                               \n",
    "                for k in scale_independent:\n",
    "                    dict_scales_sapmles[k][scale][col].append(scale_independent[k][col])\n",
    "                \n",
    "    return dict_scales_sapmles"
   ]
  },
  {
   "cell_type": "code",
   "execution_count": 25,
   "id": "0ea173cf",
   "metadata": {},
   "outputs": [
    {
     "data": {
      "text/plain": [
       "['saps_total',\n",
       " 'sans_total',\n",
       " 'panss_pos',\n",
       " 'panss_neg',\n",
       " 'panss_o',\n",
       " 'panss_total']"
      ]
     },
     "execution_count": 25,
     "metadata": {},
     "output_type": "execute_result"
    }
   ],
   "source": [
    "scale_cols"
   ]
  },
  {
   "cell_type": "markdown",
   "id": "dc9e7daa",
   "metadata": {},
   "source": [
    "**expensive to compute**"
   ]
  },
  {
   "cell_type": "code",
   "execution_count": 26,
   "id": "9661c5dd",
   "metadata": {},
   "outputs": [],
   "source": [
    "# N = 1000\n",
    "# dict_scales_sapmles_tasks = aplly_to_all_tasks(combined_data_all, bootstrap_tasks, cols_av=cols_av, scale_cols=scale_cols, N=N, col_to_correct_for=('syntactic', 'mean_sent_len'), group=('target', 'group'))"
   ]
  },
  {
   "cell_type": "code",
   "execution_count": 27,
   "id": "b009adc8",
   "metadata": {},
   "outputs": [],
   "source": [
    "# reform_tasks = {(task, scale, measure): dict_scales_sapmles_tasks[task][measure][scale] for scale in scale_cols \n",
    "#                 for task in dict_scales_sapmles_tasks\n",
    "#                 for measure in dict_scales_sapmles_tasks[task]}"
   ]
  },
  {
   "cell_type": "code",
   "execution_count": 28,
   "id": "11175210",
   "metadata": {},
   "outputs": [],
   "source": [
    "# with open('processed_values/de_scales_samples_wo_o_tasks.pickle', 'wb') as f:\n",
    "#     pickle.dump(reform_tasks, f)"
   ]
  },
  {
   "cell_type": "code",
   "execution_count": 29,
   "id": "725b7547",
   "metadata": {},
   "outputs": [],
   "source": [
    "with open('processed_values/de_scales_samples_wo_o_tasks.pickle', 'rb') as f:\n",
    "    reform_tasks = pickle.load(f)"
   ]
  },
  {
   "cell_type": "code",
   "execution_count": 30,
   "id": "de4985de",
   "metadata": {},
   "outputs": [],
   "source": [
    "reformed_tasks = pd.DataFrame(reform_tasks)\n",
    "reformed_tasks.columns.names = ['TASK', 'scale', 'measure']"
   ]
  },
  {
   "cell_type": "markdown",
   "id": "399775b6",
   "metadata": {},
   "source": [
    "# Plot & Analyze"
   ]
  },
  {
   "cell_type": "code",
   "execution_count": 31,
   "id": "37df6a3e",
   "metadata": {},
   "outputs": [],
   "source": [
    "figprms = {'syntactic': \n",
    "               {'subplot_size': (9, 4.5),\n",
    "                'wspace': 0.25,\n",
    "                'hspace': 0.125,\n",
    "                'yt': 0.925\n",
    "                }, \n",
    "           'LM': \n",
    "               {'subplot_size': (9, 5.5),\n",
    "                'wspace': 0.275,\n",
    "                'hspace': 0.125,\n",
    "                'yt': 0.92\n",
    "               }, \n",
    "           'lexical': \n",
    "               {'subplot_size': (9, 2),\n",
    "                'wspace': 0.2,\n",
    "                'hspace': 0.25,\n",
    "                'yt': 0.925\n",
    "               }, \n",
    "           'graph': \n",
    "               {'subplot_size': (9, 3.5), \n",
    "                'wspace': 0.3,\n",
    "                'hspace': 0.125,\n",
    "                'yt': 0.925\n",
    "               }}"
   ]
  },
  {
   "cell_type": "code",
   "execution_count": 32,
   "id": "60c0dfc1",
   "metadata": {},
   "outputs": [],
   "source": [
    "def get_fparams(m_type, n_sublots_height, n_sublots_width, figparams):\n",
    "    subplot_size = figprms[m_type]['subplot_size']\n",
    "    width = subplot_size[0] * n_sublots_width\n",
    "    height = subplot_size[1] * n_sublots_height\n",
    "    figsize = (width, height)\n",
    "    wspace = figprms[m_type]['wspace']\n",
    "    hspace = figprms[m_type]['hspace']\n",
    "    yt = figprms[m_type]['yt']\n",
    "    return figsize, wspace, hspace, yt"
   ]
  },
  {
   "cell_type": "code",
   "execution_count": 33,
   "id": "81e93fa2",
   "metadata": {},
   "outputs": [],
   "source": [
    "ORDERED_SCALES = ['panss_pos', 'panss_neg', 'panss_o', 'panss_total', 'saps_total', 'sans_total']"
   ]
  },
  {
   "cell_type": "markdown",
   "id": "a5c1c203",
   "metadata": {},
   "source": [
    "### Plot horizontal bar plots"
   ]
  },
  {
   "cell_type": "code",
   "execution_count": 34,
   "id": "d86fc32d",
   "metadata": {},
   "outputs": [],
   "source": [
    "def plot_horizontal_tasks(df, title, measure, m_type='syntactic', plot_abs=False, figparams=figprms):\n",
    "    figsize, wspace, hspace, yt = get_fparams(m_type, 3, 2, figparams)\n",
    "    fig, axes = plt.subplots(3, 2, figsize=figsize, sharex=True)\n",
    "    fig.suptitle(title, y=yt+0.25)\n",
    "    plt.subplots_adjust(wspace=wspace) #left=None, bottom=None, right=None, top=None, wspace=None, hspace=None)\n",
    "    \n",
    "    ab = 'abs ' if plot_abs else ''\n",
    "    \n",
    "    axs = axes.flatten()\n",
    "\n",
    "    for i, scale in enumerate(ORDERED_SCALES):\n",
    "        ax = axs[i]\n",
    "        d = prep_horizontal_pointplot_errobar_data(df[scale].loc[m_type], measure, plot_abs=plot_abs)\n",
    "        pointplot_horizontal(d, x=measure, ax=ax)\n",
    "        ax.set_title(f'{ab}{measure} {scale}')\n",
    "    \n",
    "    add_grey(axes)\n",
    "\n",
    "    if plot_abs:\n",
    "        for ax in axes.reshape(-1): \n",
    "            ax.set_xlabel('abs ' + measure);\n",
    "    return fig"
   ]
  },
  {
   "cell_type": "code",
   "execution_count": 35,
   "id": "0a3fbc7d",
   "metadata": {},
   "outputs": [],
   "source": [
    "def plot_all(df, m_type='syntactic', measure='r', path=PATH_FIG, dpi=150, plot_abs=False, figparams=figprms):\n",
    "    ab = 'abs_' if plot_abs else ''\n",
    "    absolute_value = f' (absolute {measure} value)' if plot_abs else ''\n",
    "    fig = plot_horizontal_tasks(df, title=f'cross-scale comparison for {m_type} metrics{absolute_value}', \n",
    "                                measure=measure, m_type=m_type, plot_abs=plot_abs, figparams=figprms)\n",
    "    plt.savefig(f'{path}{m_type}/{ab}scale_r.png', dpi=dpi)\n",
    "    plt.close(fig)\n",
    "    \n",
    "    figsize, wspace, hspace, yt = get_fparams(m_type, 1, 1, figparams)\n",
    "    d_t = prep_horizontal_pointplot_errobar_data(df['panss_o'].loc[m_type], 't')\n",
    "    fig, ax = plt.subplots(1, 1, figsize=figsize)\n",
    "    fig.suptitle(f'group difference (t-test) for {m_type} metrics')\n",
    "    pointplot_horizontal(d_t, 't', ax=ax)\n",
    "    add_grey(ax, r=2)\n",
    "    plt.savefig(f'{path}{m_type}/t.png', dpi=dpi, bbox_inches = 'tight')\n",
    "    plt.close(fig)\n",
    "    \n",
    "    d_c = prep_horizontal_pointplot_errobar_data(df['panss_o'].loc[m_type], 'r_corr_w_control')\n",
    "    fig, ax = plt.subplots(1, 1, figsize=figsize)\n",
    "    fig.suptitle(f'correlation with mean sentence length for {m_type} metrics')\n",
    "    pointplot_horizontal(d_c, 'r_corr_w_control', ax=ax)\n",
    "    ax.set_xlabel('r');\n",
    "    add_grey(ax)\n",
    "    plt.savefig(f'{path}{m_type}/corr_len.png', dpi=dpi, bbox_inches = 'tight')\n",
    "    plt.close(fig)\n",
    "\n",
    "    figsize, wspace, hspace, yt = get_fparams(m_type, 1, 2, figparams)\n",
    "    fig, axes = plt.subplots(1, 2, figsize=figsize)\n",
    "    fig.suptitle(f'group difference and correlation with mean sentence length for {m_type} metrics', y=yt+0.12)\n",
    "    plt.subplots_adjust(wspace=wspace)\n",
    "    pointplot_horizontal(d_t, x='t', ax=axes[0])\n",
    "    axes[0].set_title('group difference (t-test)')\n",
    "    pointplot_horizontal(d_c, x='r_corr_w_control', ax=axes[1])\n",
    "    axes[1].set_title('correlation with mean sentence length')\n",
    "    axes[1].set_xlabel('r');\n",
    "    add_grey(axes[0], r=2)\n",
    "    add_grey(axes[1])\n",
    "    plt.savefig(f'{path}{m_type}/t_test_corr_len.png', dpi=dpi, bbox_inches = 'tight')\n",
    "    plt.close(fig)"
   ]
  },
  {
   "cell_type": "code",
   "execution_count": 36,
   "id": "629b6a80",
   "metadata": {},
   "outputs": [],
   "source": [
    "for m_type in reformed_d.index.unique(level=0):\n",
    "    plot_all(reformed_d, m_type, plot_abs=True)\n",
    "    plot_all(reformed_d, m_type, plot_abs=False)"
   ]
  },
  {
   "cell_type": "markdown",
   "id": "365d42f1",
   "metadata": {},
   "source": [
    "### Plot vertical bar plots for LMs"
   ]
  },
  {
   "cell_type": "code",
   "execution_count": 37,
   "id": "5f7c289c",
   "metadata": {},
   "outputs": [],
   "source": [
    "order = ['bert', 'glove_tf', 'glove_avg', 'w2v_tf', 'w2v_avg']"
   ]
  },
  {
   "cell_type": "code",
   "execution_count": 38,
   "id": "841b7554",
   "metadata": {},
   "outputs": [],
   "source": [
    "def plot_LM_scales(df, title, measure='r', plot_abs=False, figsize=(18, 18), order=order):\n",
    "    ab = 'abs ' if plot_abs else ''\n",
    "    absolute_value = f' (absolute {measure} value)' if plot_abs else ''\n",
    "    \n",
    "    fig, axes = plt.subplots(3, 2, figsize=figsize, sharey=True)\n",
    "    fig.suptitle(title + absolute_value, y=0.91)\n",
    "    plt.subplots_adjust(wspace=0.075)\n",
    "    \n",
    "    axs = axes.flatten()\n",
    "    for i, scale in enumerate(ORDERED_SCALES):\n",
    "        ax = axs[i]\n",
    "        d = prep_LM_pointplot(df.loc['LM', scale], measure, plot_abs=plot_abs)\n",
    "        pointplot(d, x='model', y=measure, hue='metric', ax=ax, order=order, use_errorbar=True)\n",
    "        ax.set_title(f'{ab}{measure} {scale}')\n",
    "    \n",
    "    add_grey(axes, line_dir='h')\n",
    "    if plot_abs:\n",
    "        for ax in axes.reshape(-1): \n",
    "            ax.set_ylabel('abs ' + measure);\n",
    "    return fig"
   ]
  },
  {
   "cell_type": "code",
   "execution_count": 39,
   "id": "abdcefe8",
   "metadata": {},
   "outputs": [],
   "source": [
    "def plot_all_LM(df, path=PATH_FIG, dpi=150, plot_abs=False, figsize=(9, 9), measure='r'):\n",
    "    \n",
    "    ab = 'abs_' if plot_abs else ''\n",
    "    \n",
    "    fig = plot_LM_scales(df, 'cross-scale comparison of LM metrcis across models', plot_abs=plot_abs)\n",
    "    plt.savefig(f'{path}LM/model/{ab}scale_r.png', dpi=dpi, bbox_inches = 'tight')\n",
    "    plt.close(fig)\n",
    "    \n",
    "    d_lm_t = prep_LM_pointplot(df.loc['LM', 'panss_o'], 't')\n",
    "    fig, ax = plt.subplots(1, 1, figsize=figsize)\n",
    "    fig.suptitle('group difference (t-test) for LM metrcis across models')\n",
    "    pointplot(d_lm_t, x='model', y='t', hue='metric', ax=ax, order=order, use_errorbar=True)\n",
    "    add_grey(ax, r=2, line_dir='h')\n",
    "    plt.savefig(f'{path}LM/model/t.png', dpi=dpi, bbox_inches = 'tight')\n",
    "    plt.close(fig)\n",
    "    \n",
    "    absolute_value = f' (absolute {measure} value)' if plot_abs else ''\n",
    "    d_lm_c = prep_LM_pointplot(df.loc['LM', 'panss_o'], 'r_corr_w_control', plot_abs=plot_abs)\n",
    "    fig, ax = plt.subplots(1, 1, figsize=figsize)\n",
    "    fig.suptitle('correlation with mean sentence length for LM metrcis across models' + absolute_value)\n",
    "    pointplot(d_lm_c, x='model', y='r_corr_w_control', hue='metric', ax=ax, order=order, use_errorbar=True)\n",
    "    ax.set_xlabel(f'{ab}r')\n",
    "    add_grey(ax, line_dir='h')\n",
    "    plt.savefig(f'{path}LM/model/{ab}corr_len.png', dpi=dpi, bbox_inches = 'tight')\n",
    "    plt.close(fig)\n",
    "    \n",
    "\n",
    "    fig, axes = plt.subplots(1, 2, figsize=(18, 6))\n",
    "    fig.suptitle('group difference and correlation with mean sentence length of LM metrcis across models')\n",
    "\n",
    "    pointplot(d_lm_t, x='model', y='t', hue='metric', ax=axes[0], order=order, use_errorbar=True)\n",
    "    axes[0].set_title('group difference (t-test)')\n",
    "\n",
    "    pointplot(d_lm_c, x='model', y='r_corr_w_control', hue='metric', ax=axes[1], order=order, use_errorbar=True)\n",
    "    axes[1].set_title('correlation with mean sentence length')\n",
    "    axes[1].set_xlabel('r')\n",
    "    add_grey(axes[0], r=2, line_dir='h')\n",
    "    add_grey(axes[1], line_dir='h')\n",
    "    plt.savefig(f'{path}LM/model/t_test_corr_len.png', dpi=dpi, bbox_inches = 'tight')\n",
    "    plt.close(fig)"
   ]
  },
  {
   "cell_type": "code",
   "execution_count": 40,
   "id": "48e9cdf8",
   "metadata": {},
   "outputs": [],
   "source": [
    "plot_all_LM(reformed_d, plot_abs=True)\n",
    "plot_all_LM(reformed_d, plot_abs=False)"
   ]
  },
  {
   "cell_type": "markdown",
   "id": "8fd53290",
   "metadata": {},
   "source": [
    "## Cross-metric comparison"
   ]
  },
  {
   "cell_type": "markdown",
   "id": "3495b9db",
   "metadata": {},
   "source": [
    "### R squared"
   ]
  },
  {
   "cell_type": "code",
   "execution_count": 41,
   "id": "ea673ebe",
   "metadata": {},
   "outputs": [],
   "source": [
    "def select_ok_metrics(row, t=1, r=0.3, rc=0.3):\n",
    "    ok_corr = False\n",
    "    ok_t = abs(row['saps_total', 't']) >= t\n",
    "    ok_len = pd.isna(row['saps_total', 'r_corr_w_control']) or abs(row['saps_total', 'r_corr_w_control']) <= rc\n",
    "    for scale in scale_cols:\n",
    "        if abs(row[scale, 'r']) >= r:\n",
    "            ok_corr = True \n",
    "            break\n",
    "    return (ok_corr or ok_t) and ok_len"
   ]
  },
  {
   "cell_type": "code",
   "execution_count": 42,
   "id": "e17cc068",
   "metadata": {},
   "outputs": [],
   "source": [
    "def select_ok_metrics_for_one_scale(row, scale, r=0.3, rc=0.3):\n",
    "    ok_corr = False\n",
    "    ok_len = pd.isna(row['panss_total', 'r_corr_w_control']) or abs(row['panss_total', 'r_corr_w_control']) <= rc\n",
    "    ok_corr = abs(row[scale, 'r']) >= r\n",
    "    return ok_corr and ok_len"
   ]
  },
  {
   "cell_type": "code",
   "execution_count": 43,
   "id": "c3770c6f",
   "metadata": {},
   "outputs": [],
   "source": [
    "def select_control_corr_ms_better_than_len(row, row_len, r=0.3, rc=0.3):\n",
    "    if select_ok_metrics(row, r=r, rc=rc):\n",
    "        return False\n",
    "    ok_len = pd.isna(row['saps_total', 'r_corr_w_control']) or abs(row['saps_total', 'r_corr_w_control']) <= rc\n",
    "    if ok_len:\n",
    "        return False\n",
    "    else:\n",
    "        for scale in scales_:\n",
    "            if abs(row[scale, 'r']) >= abs(row_len[scale, 'r']):\n",
    "                return True\n",
    "        return False"
   ]
  },
  {
   "cell_type": "code",
   "execution_count": 44,
   "id": "0991fd15",
   "metadata": {},
   "outputs": [],
   "source": [
    "def select_control_corr_ms_better_than_len_for_one_scale(row, row_len, scale, r=0.3, rc=0.3):\n",
    "    if select_ok_metrics(row, r=r, rc=rc):\n",
    "        return False\n",
    "    ok_len = pd.isna(row['saps_total', 'r_corr_w_control']) or abs(row['saps_total', 'r_corr_w_control']) <= rc\n",
    "    if ok_len:\n",
    "        return False\n",
    "    else:\n",
    "        if abs(row[scale, 'r']) >= abs(row_len[scale, 'r']) and abs(row[scale, 'r']) > r:\n",
    "            return True\n",
    "        return False"
   ]
  },
  {
   "cell_type": "code",
   "execution_count": 45,
   "id": "7f38a2ba",
   "metadata": {},
   "outputs": [],
   "source": [
    "def select_bad_len_metrics(row, rc=0.3):\n",
    "    ok_len = pd.isna(row['panss_total', 'r_corr_w_control']) or abs(row['panss_total', 'r_corr_w_control']) <= rc\n",
    "    return not ok_len"
   ]
  },
  {
   "cell_type": "code",
   "execution_count": 46,
   "id": "e6e5758f",
   "metadata": {},
   "outputs": [],
   "source": [
    "median_d = reformed_d.applymap(np.nanmedian)"
   ]
  },
  {
   "cell_type": "code",
   "execution_count": 47,
   "id": "ab309874",
   "metadata": {},
   "outputs": [],
   "source": [
    "idxs_scale = {}\n",
    "idxs_bad_bet_len = {}\n",
    "for scale in scale_cols:\n",
    "    ids = median_d[median_d.apply(lambda x: select_ok_metrics_for_one_scale(x, scale=scale), axis=1)].index\n",
    "    idxs_scale[scale] = ids\n",
    "    idsl = median_d[median_d.apply(lambda x: select_control_corr_ms_better_than_len_for_one_scale(x, \n",
    "                                                                                                  row_len=median_d.loc[('syntactic', 'mean_sent_len')], \n",
    "                                                                                                  scale=scale), axis=1)].index\n",
    "    idxs_bad_bet_len[scale] = idsl"
   ]
  },
  {
   "cell_type": "code",
   "execution_count": 48,
   "id": "2f30dbc7",
   "metadata": {},
   "outputs": [],
   "source": [
    "good_ms = sorted(list(set([y for x in idxs_scale.values() for y in x])))"
   ]
  },
  {
   "cell_type": "code",
   "execution_count": 49,
   "id": "3fbb915c",
   "metadata": {},
   "outputs": [],
   "source": [
    "bad_ms_better_than_len = sorted(list(set([y for x in idxs_bad_bet_len.values() for y in x])))"
   ]
  },
  {
   "cell_type": "code",
   "execution_count": 50,
   "id": "c511c0d5",
   "metadata": {},
   "outputs": [],
   "source": [
    "bad_ms = median_d[median_d.apply(select_bad_len_metrics, axis=1)].index"
   ]
  },
  {
   "cell_type": "code",
   "execution_count": 51,
   "id": "471d1846",
   "metadata": {},
   "outputs": [],
   "source": [
    "fig, ax = plt.subplots(1, 1, figsize=(8, 6), sharex=True)\n",
    "fig.suptitle('cross-type metric comparison for correlation with mean sent len')\n",
    "measure = 'r_corr_w_control'\n",
    "plot_abs = False\n",
    "\n",
    "\n",
    "d = prep_horizontal_pointplot_errobar_data(reformed_d['panss_pos'].loc[bad_ms], measure, plot_abs=plot_abs)\n",
    "pointplot_horizontal(d, x=measure, ax=ax)\n",
    "ax.set_xlabel('r')\n",
    "add_grey(ax)\n",
    "plt.savefig(f'{PATH_FIG}/compare_corr_len.png', dpi=150, bbox_inches = 'tight')\n",
    "plt.close(fig)"
   ]
  },
  {
   "cell_type": "code",
   "execution_count": 52,
   "id": "d80e8215",
   "metadata": {},
   "outputs": [],
   "source": [
    "ms_to_plot = sorted(bad_ms_better_than_len+ good_ms)"
   ]
  },
  {
   "cell_type": "code",
   "execution_count": 53,
   "id": "66d863ad",
   "metadata": {},
   "outputs": [
    {
     "data": {
      "text/plain": [
       "21"
      ]
     },
     "execution_count": 53,
     "metadata": {},
     "output_type": "execute_result"
    }
   ],
   "source": [
    "len(ms_to_plot)"
   ]
  },
  {
   "cell_type": "code",
   "execution_count": 54,
   "id": "9daee90e",
   "metadata": {},
   "outputs": [
    {
     "data": {
      "text/plain": [
       "4"
      ]
     },
     "execution_count": 54,
     "metadata": {},
     "output_type": "execute_result"
    }
   ],
   "source": [
    "len(good_ms)"
   ]
  },
  {
   "cell_type": "code",
   "execution_count": 55,
   "id": "5ac133cd",
   "metadata": {},
   "outputs": [
    {
     "data": {
      "text/plain": [
       "{'saps_total': 5,\n",
       " 'sans_total': 10,\n",
       " 'panss_pos': 1,\n",
       " 'panss_neg': 12,\n",
       " 'panss_o': 14,\n",
       " 'panss_total': 16}"
      ]
     },
     "execution_count": 55,
     "metadata": {},
     "output_type": "execute_result"
    }
   ],
   "source": [
    "{s: len(idxs_scale[s]) + len(idxs_bad_bet_len[s]) for s in idxs_scale}"
   ]
  },
  {
   "cell_type": "code",
   "execution_count": 56,
   "id": "c5f78c29",
   "metadata": {},
   "outputs": [
    {
     "data": {
      "text/plain": [
       "{'saps_total': 1,\n",
       " 'sans_total': 3,\n",
       " 'panss_pos': 0,\n",
       " 'panss_neg': 3,\n",
       " 'panss_o': 2,\n",
       " 'panss_total': 3}"
      ]
     },
     "execution_count": 56,
     "metadata": {},
     "output_type": "execute_result"
    }
   ],
   "source": [
    "{s: len(idxs_scale[s]) for s in idxs_scale}"
   ]
  },
  {
   "cell_type": "code",
   "execution_count": 57,
   "id": "a00e2e3a",
   "metadata": {},
   "outputs": [],
   "source": [
    "def sort_index(idxs):\n",
    "    ms = sorted(idxs)\n",
    "    for s in ('syntactic: mean_sent_len', 'mean_sent_len', ('syntactic', 'mean_sent_len')):\n",
    "        if s in ms:\n",
    "            ms.remove(s)\n",
    "            ms.append(s)\n",
    "    return ms "
   ]
  },
  {
   "cell_type": "code",
   "execution_count": 58,
   "id": "396c397a",
   "metadata": {},
   "outputs": [],
   "source": [
    "def map_marker(m, scale, idxs_scale):\n",
    "    if m in idxs_scale[scale]:\n",
    "        return 'o'\n",
    "    else: \n",
    "        return 'x'"
   ]
  },
  {
   "cell_type": "code",
   "execution_count": 59,
   "id": "51b2c5fd",
   "metadata": {},
   "outputs": [],
   "source": [
    "def add_len_lines(ax, median_d, scale):\n",
    "    ax.axvline(median_d.loc[('syntactic', 'mean_sent_len')][scale, 'r'], linestyle='--')\n",
    "    ax.axvline(-median_d.loc[('syntactic', 'mean_sent_len')][scale, 'r'], linestyle='--')"
   ]
  },
  {
   "cell_type": "code",
   "execution_count": 60,
   "id": "c0b4f033",
   "metadata": {},
   "outputs": [],
   "source": [
    "def plot_one_scale(ax, scale, idxs_scale, reformed_d, ms_to_plot, measure, plot_abs):\n",
    "    markers = [map_marker(m, scale, idxs_scale) for m in ms_to_plot]\n",
    "    if ('syntactic', 'mean_sent_len') in idxs_scale[scale]:\n",
    "        add_len_lines(ax, median_d, scale)\n",
    "    d = prep_horizontal_pointplot_errobar_data(reformed_d[scale].loc[ms_to_plot], measure, plot_abs=plot_abs)\n",
    "    pointplot_horizontal(d, x=measure, ax=ax, markers=markers)\n",
    "    ax.set_title(f'{measure} {scale}')"
   ]
  },
  {
   "cell_type": "code",
   "execution_count": 61,
   "id": "8aa39de6",
   "metadata": {},
   "outputs": [],
   "source": [
    "fig, axes = plt.subplots(3, 2, figsize=(18, 14), sharex=True)\n",
    "fig.suptitle('cross-scale cross-type metric comparison', y=0.915)\n",
    "plt.subplots_adjust(wspace=0.4, hspace=0.1) #left=None, bottom=None, right=None, top=None, wspace=None, hspace=None)\n",
    "measure = 'r'\n",
    "plot_abs = False\n",
    "idxs = sort_index(ms_to_plot)\n",
    "axs = axes.flatten()\n",
    "\n",
    "for i, scale in enumerate(ORDERED_SCALES):\n",
    "    ax = axs[i]\n",
    "    plot_one_scale(ax, scale, idxs_scale, reformed_d, ms_to_plot, measure, plot_abs)\n",
    "    \n",
    "add_grey(axes)\n",
    "plt.savefig(f'{PATH_FIG}/compare_r.png', dpi=150, bbox_inches = 'tight')\n",
    "plt.close(fig)"
   ]
  },
  {
   "cell_type": "markdown",
   "id": "5187b3d8",
   "metadata": {},
   "source": [
    "### t-test"
   ]
  },
  {
   "cell_type": "code",
   "execution_count": 62,
   "id": "a93233d9",
   "metadata": {},
   "outputs": [],
   "source": [
    "def select_ok_metrics_t(row):\n",
    "    q25 = np.quantile(row['saps_total', 't'], 0.25)\n",
    "    q75 = np.quantile(row['saps_total', 't'], 0.75)\n",
    "    return q25 > 0 or q75 < 0"
   ]
  },
  {
   "cell_type": "code",
   "execution_count": 63,
   "id": "7e924871",
   "metadata": {},
   "outputs": [],
   "source": [
    "idx_comp_t = reformed_d[reformed_d.apply(select_ok_metrics_t, axis=1)].index"
   ]
  },
  {
   "cell_type": "code",
   "execution_count": 64,
   "id": "dd2e2a1d",
   "metadata": {},
   "outputs": [],
   "source": [
    "fig, axes = plt.subplots(1, 2, figsize=(18, 4))\n",
    "plt.subplots_adjust(wspace=0.4)\n",
    "fig.suptitle('cross-type metric comparison for group difference and correlation with mean sentence length', y=1)\n",
    "\n",
    "dcr = reformed_d['sans_total'].loc[idx_comp_t].drop([('syntactic', 'mean_sent_len')])\n",
    "d_c = prep_horizontal_pointplot_errobar_data(dcr, 'r_corr_w_control', plot_abs=False)\n",
    "d_t = prep_horizontal_pointplot_errobar_data(reformed_d['sans_total'].loc[idx_comp_t], 't', plot_abs=False)\n",
    "\n",
    "\n",
    "pointplot_horizontal(d_t, x='t', ax=axes[0])\n",
    "axes[0].set_title('t')\n",
    "axes[0].set_title('group difference (t-test)')\n",
    "\n",
    "pointplot_horizontal(d_c, x='r_corr_w_control', ax=axes[1])\n",
    "axes[1].set_title('correlation with mean sentence length')\n",
    "axes[1].set_xlabel('r');\n",
    "add_grey(axes[0], r=2)\n",
    "add_grey(axes[1])\n",
    "plt.savefig(f'{PATH_FIG}/compare_t.png', dpi=150, bbox_inches = 'tight')\n",
    "plt.close(fig)"
   ]
  },
  {
   "cell_type": "markdown",
   "id": "2e3192fd",
   "metadata": {},
   "source": [
    "### average LM model / metric performance medians across scales"
   ]
  },
  {
   "cell_type": "code",
   "execution_count": 65,
   "id": "c17728bb",
   "metadata": {},
   "outputs": [],
   "source": [
    "scales_ = ('sans_total', 'saps_total', 'panss_pos', 'panss_neg', 'panss_o', 'panss_total')\n",
    "sc_ind_ = ('t', 'r_corr_w_control')\n",
    "models_ = ('bert', 'glove_tf', 'glove_avg', 'w2v_tf', 'w2v_avg')\n",
    "metrics_ = ('cgcoh', 'gcoh', 'lcoh', 'scoh', 'sprob', 'pppl')"
   ]
  },
  {
   "cell_type": "code",
   "execution_count": 66,
   "id": "bca23d68",
   "metadata": {},
   "outputs": [],
   "source": [
    "def mean_model_metric_medians(median_df, leave_out=()):\n",
    "    resp_d_model = pd.DataFrame(columns=[f'{sc} abs r' for sc in scales_] + list(sc_ind_), index=models_)\n",
    "    resp_d_metric = pd.DataFrame(columns=[f'{sc} abs r' for sc in scales_] + list(sc_ind_), index=metrics_)\n",
    "    for scale in scales_:\n",
    "        ex_d = prep_LM_pointplot(median_df.loc['LM', scale], col='r', use_errorbar=False, plot_abs=True)\n",
    "        for model in models_:\n",
    "            leave_out_ = ex_d[ex_d['model'] == model]\n",
    "            leave_out_ = leave_out_[~leave_out_['metric'].isin(leave_out)]\n",
    "            resp_d_model.loc[model, f'{scale} abs r'] = np.nanmean(leave_out_['r'])\n",
    "        for metric in metrics_:\n",
    "            resp_d_metric.loc[metric, f'{scale} abs r'] = np.nanmean(ex_d[ex_d['metric'] == metric]['r'])\n",
    "    for sc_ind in sc_ind_:\n",
    "        for model in models_:\n",
    "            leave_out_ = ex_d[ex_d['model'] == model]\n",
    "            leave_out_ = leave_out_[~leave_out_['metric'].isin(leave_out)]\n",
    "            resp_d_model.loc[model, sc_ind] = np.nanmean(leave_out_[sc_ind])\n",
    "        for metric in metrics_:\n",
    "            resp_d_metric.loc[metric, sc_ind] = np.nanmean(ex_d[ex_d['metric'] == metric][sc_ind])\n",
    "    return resp_d_model, resp_d_metric\n"
   ]
  },
  {
   "cell_type": "markdown",
   "id": "f4d4f823",
   "metadata": {},
   "source": [
    "#### only including cosine-similarity based metrics"
   ]
  },
  {
   "cell_type": "code",
   "execution_count": 67,
   "id": "11a1f33e",
   "metadata": {},
   "outputs": [],
   "source": [
    "resp_d_model, resp_d_metric = mean_model_metric_medians(median_d, leave_out=('pppl', 'sprob'))"
   ]
  },
  {
   "cell_type": "code",
   "execution_count": 68,
   "id": "1fbe1e87",
   "metadata": {},
   "outputs": [
    {
     "data": {
      "text/html": [
       "<style type=\"text/css\">\n",
       "#T_dc8ec_row0_col0 {\n",
       "  background-color: #6aaed6;\n",
       "  color: #f1f1f1;\n",
       "}\n",
       "#T_dc8ec_row0_col1, #T_dc8ec_row0_col2, #T_dc8ec_row0_col7, #T_dc8ec_row1_col0, #T_dc8ec_row1_col3, #T_dc8ec_row1_col4, #T_dc8ec_row1_col5, #T_dc8ec_row1_col6 {\n",
       "  background-color: #f7fbff;\n",
       "  color: #000000;\n",
       "}\n",
       "#T_dc8ec_row0_col3 {\n",
       "  background-color: #bed8ec;\n",
       "  color: #000000;\n",
       "}\n",
       "#T_dc8ec_row0_col4 {\n",
       "  background-color: #083776;\n",
       "  color: #f1f1f1;\n",
       "}\n",
       "#T_dc8ec_row0_col5 {\n",
       "  background-color: #cddff1;\n",
       "  color: #000000;\n",
       "}\n",
       "#T_dc8ec_row0_col6 {\n",
       "  background-color: #a6cee4;\n",
       "  color: #000000;\n",
       "}\n",
       "#T_dc8ec_row1_col1, #T_dc8ec_row4_col2 {\n",
       "  background-color: #4090c5;\n",
       "  color: #f1f1f1;\n",
       "}\n",
       "#T_dc8ec_row1_col2 {\n",
       "  background-color: #09529d;\n",
       "  color: #f1f1f1;\n",
       "}\n",
       "#T_dc8ec_row1_col7 {\n",
       "  background-color: #519ccc;\n",
       "  color: #f1f1f1;\n",
       "}\n",
       "#T_dc8ec_row2_col0 {\n",
       "  background-color: #8fc2de;\n",
       "  color: #000000;\n",
       "}\n",
       "#T_dc8ec_row2_col1 {\n",
       "  background-color: #4f9bcb;\n",
       "  color: #f1f1f1;\n",
       "}\n",
       "#T_dc8ec_row2_col2 {\n",
       "  background-color: #3080bd;\n",
       "  color: #f1f1f1;\n",
       "}\n",
       "#T_dc8ec_row2_col3 {\n",
       "  background-color: #a9cfe5;\n",
       "  color: #000000;\n",
       "}\n",
       "#T_dc8ec_row2_col4 {\n",
       "  background-color: #caddf0;\n",
       "  color: #000000;\n",
       "}\n",
       "#T_dc8ec_row2_col5 {\n",
       "  background-color: #c1d9ed;\n",
       "  color: #000000;\n",
       "}\n",
       "#T_dc8ec_row2_col6 {\n",
       "  background-color: #f5fafe;\n",
       "  color: #000000;\n",
       "}\n",
       "#T_dc8ec_row2_col7 {\n",
       "  background-color: #084f99;\n",
       "  color: #f1f1f1;\n",
       "}\n",
       "#T_dc8ec_row3_col0 {\n",
       "  background-color: #1460a8;\n",
       "  color: #f1f1f1;\n",
       "}\n",
       "#T_dc8ec_row3_col1, #T_dc8ec_row3_col2, #T_dc8ec_row3_col4, #T_dc8ec_row3_col5, #T_dc8ec_row3_col6, #T_dc8ec_row4_col0, #T_dc8ec_row4_col3, #T_dc8ec_row4_col7 {\n",
       "  background-color: #08306b;\n",
       "  color: #f1f1f1;\n",
       "}\n",
       "#T_dc8ec_row3_col3 {\n",
       "  background-color: #083471;\n",
       "  color: #f1f1f1;\n",
       "}\n",
       "#T_dc8ec_row3_col7 {\n",
       "  background-color: #083d7f;\n",
       "  color: #f1f1f1;\n",
       "}\n",
       "#T_dc8ec_row4_col1 {\n",
       "  background-color: #1b69af;\n",
       "  color: #f1f1f1;\n",
       "}\n",
       "#T_dc8ec_row4_col4 {\n",
       "  background-color: #1d6cb1;\n",
       "  color: #f1f1f1;\n",
       "}\n",
       "#T_dc8ec_row4_col5 {\n",
       "  background-color: #2474b7;\n",
       "  color: #f1f1f1;\n",
       "}\n",
       "#T_dc8ec_row4_col6 {\n",
       "  background-color: #3787c0;\n",
       "  color: #f1f1f1;\n",
       "}\n",
       "</style>\n",
       "<table id=\"T_dc8ec\">\n",
       "  <thead>\n",
       "    <tr>\n",
       "      <th class=\"blank level0\" >&nbsp;</th>\n",
       "      <th id=\"T_dc8ec_level0_col0\" class=\"col_heading level0 col0\" >sans_total abs r</th>\n",
       "      <th id=\"T_dc8ec_level0_col1\" class=\"col_heading level0 col1\" >saps_total abs r</th>\n",
       "      <th id=\"T_dc8ec_level0_col2\" class=\"col_heading level0 col2\" >panss_pos abs r</th>\n",
       "      <th id=\"T_dc8ec_level0_col3\" class=\"col_heading level0 col3\" >panss_neg abs r</th>\n",
       "      <th id=\"T_dc8ec_level0_col4\" class=\"col_heading level0 col4\" >panss_o abs r</th>\n",
       "      <th id=\"T_dc8ec_level0_col5\" class=\"col_heading level0 col5\" >panss_total abs r</th>\n",
       "      <th id=\"T_dc8ec_level0_col6\" class=\"col_heading level0 col6\" >t</th>\n",
       "      <th id=\"T_dc8ec_level0_col7\" class=\"col_heading level0 col7\" >r_corr_w_control</th>\n",
       "    </tr>\n",
       "  </thead>\n",
       "  <tbody>\n",
       "    <tr>\n",
       "      <th id=\"T_dc8ec_level0_row0\" class=\"row_heading level0 row0\" >bert</th>\n",
       "      <td id=\"T_dc8ec_row0_col0\" class=\"data row0 col0\" >0.236577</td>\n",
       "      <td id=\"T_dc8ec_row0_col1\" class=\"data row0 col1\" >0.044427</td>\n",
       "      <td id=\"T_dc8ec_row0_col2\" class=\"data row0 col2\" >0.070759</td>\n",
       "      <td id=\"T_dc8ec_row0_col3\" class=\"data row0 col3\" >0.225894</td>\n",
       "      <td id=\"T_dc8ec_row0_col4\" class=\"data row0 col4\" >0.252356</td>\n",
       "      <td id=\"T_dc8ec_row0_col5\" class=\"data row0 col5\" >0.226347</td>\n",
       "      <td id=\"T_dc8ec_row0_col6\" class=\"data row0 col6\" >0.512648</td>\n",
       "      <td id=\"T_dc8ec_row0_col7\" class=\"data row0 col7\" >0.164490</td>\n",
       "    </tr>\n",
       "    <tr>\n",
       "      <th id=\"T_dc8ec_level0_row1\" class=\"row_heading level0 row1\" >glove_tf</th>\n",
       "      <td id=\"T_dc8ec_row1_col0\" class=\"data row1 col0\" >0.165831</td>\n",
       "      <td id=\"T_dc8ec_row1_col1\" class=\"data row1 col1\" >0.208567</td>\n",
       "      <td id=\"T_dc8ec_row1_col2\" class=\"data row1 col2\" >0.234527</td>\n",
       "      <td id=\"T_dc8ec_row1_col3\" class=\"data row1 col3\" >0.192332</td>\n",
       "      <td id=\"T_dc8ec_row1_col4\" class=\"data row1 col4\" >0.163751</td>\n",
       "      <td id=\"T_dc8ec_row1_col5\" class=\"data row1 col5\" >0.198657</td>\n",
       "      <td id=\"T_dc8ec_row1_col6\" class=\"data row1 col6\" >0.394510</td>\n",
       "      <td id=\"T_dc8ec_row1_col7\" class=\"data row1 col7\" >0.423193</td>\n",
       "    </tr>\n",
       "    <tr>\n",
       "      <th id=\"T_dc8ec_level0_row2\" class=\"row_heading level0 row2\" >glove_avg</th>\n",
       "      <td id=\"T_dc8ec_row2_col0\" class=\"data row2 col0\" >0.223965</td>\n",
       "      <td id=\"T_dc8ec_row2_col1\" class=\"data row2 col1\" >0.196259</td>\n",
       "      <td id=\"T_dc8ec_row2_col2\" class=\"data row2 col2\" >0.201146</td>\n",
       "      <td id=\"T_dc8ec_row2_col3\" class=\"data row2 col3\" >0.234413</td>\n",
       "      <td id=\"T_dc8ec_row2_col4\" class=\"data row2 col4\" >0.184835</td>\n",
       "      <td id=\"T_dc8ec_row2_col5\" class=\"data row2 col5\" >0.232335</td>\n",
       "      <td id=\"T_dc8ec_row2_col6\" class=\"data row2 col6\" >0.397490</td>\n",
       "      <td id=\"T_dc8ec_row2_col7\" class=\"data row2 col7\" >0.559332</td>\n",
       "    </tr>\n",
       "    <tr>\n",
       "      <th id=\"T_dc8ec_level0_row3\" class=\"row_heading level0 row3\" >w2v_tf</th>\n",
       "      <td id=\"T_dc8ec_row3_col0\" class=\"data row3 col0\" >0.280048</td>\n",
       "      <td id=\"T_dc8ec_row3_col1\" class=\"data row3 col1\" >0.303887</td>\n",
       "      <td id=\"T_dc8ec_row3_col2\" class=\"data row3 col2\" >0.259121</td>\n",
       "      <td id=\"T_dc8ec_row3_col3\" class=\"data row3 col3\" >0.312481</td>\n",
       "      <td id=\"T_dc8ec_row3_col4\" class=\"data row3 col4\" >0.255188</td>\n",
       "      <td id=\"T_dc8ec_row3_col5\" class=\"data row3 col5\" >0.325277</td>\n",
       "      <td id=\"T_dc8ec_row3_col6\" class=\"data row3 col6\" >0.733133</td>\n",
       "      <td id=\"T_dc8ec_row3_col7\" class=\"data row3 col7\" >0.588689</td>\n",
       "    </tr>\n",
       "    <tr>\n",
       "      <th id=\"T_dc8ec_level0_row4\" class=\"row_heading level0 row4\" >w2v_avg</th>\n",
       "      <td id=\"T_dc8ec_row4_col0\" class=\"data row4 col0\" >0.306273</td>\n",
       "      <td id=\"T_dc8ec_row4_col1\" class=\"data row4 col1\" >0.246191</td>\n",
       "      <td id=\"T_dc8ec_row4_col2\" class=\"data row4 col2\" >0.189937</td>\n",
       "      <td id=\"T_dc8ec_row4_col3\" class=\"data row4 col3\" >0.314826</td>\n",
       "      <td id=\"T_dc8ec_row4_col4\" class=\"data row4 col4\" >0.233992</td>\n",
       "      <td id=\"T_dc8ec_row4_col5\" class=\"data row4 col5\" >0.292005</td>\n",
       "      <td id=\"T_dc8ec_row4_col6\" class=\"data row4 col6\" >0.620401</td>\n",
       "      <td id=\"T_dc8ec_row4_col7\" class=\"data row4 col7\" >0.611941</td>\n",
       "    </tr>\n",
       "  </tbody>\n",
       "</table>\n"
      ],
      "text/plain": [
       "<pandas.io.formats.style.Styler at 0x7fcedd2f7fa0>"
      ]
     },
     "execution_count": 68,
     "metadata": {},
     "output_type": "execute_result"
    }
   ],
   "source": [
    "style(resp_d_model)"
   ]
  },
  {
   "cell_type": "code",
   "execution_count": 69,
   "id": "6cb92e4b",
   "metadata": {},
   "outputs": [
    {
     "data": {
      "text/plain": [
       "bert         0.176060\n",
       "glove_tf     0.193944\n",
       "glove_avg    0.212159\n",
       "w2v_avg      0.263871\n",
       "w2v_tf       0.289334\n",
       "dtype: float64"
      ]
     },
     "execution_count": 69,
     "metadata": {},
     "output_type": "execute_result"
    }
   ],
   "source": [
    "resp_d_model[['sans_total abs r',\n",
    " 'saps_total abs r',\n",
    " 'panss_pos abs r',\n",
    " 'panss_neg abs r',\n",
    " 'panss_o abs r',\n",
    " 'panss_total abs r']].mean(axis=1).sort_values() "
   ]
  },
  {
   "cell_type": "code",
   "execution_count": 70,
   "id": "e3acee3f",
   "metadata": {},
   "outputs": [
    {
     "data": {
      "text/plain": [
       "bert          0.16449\n",
       "glove_tf     0.423193\n",
       "glove_avg    0.559332\n",
       "w2v_tf       0.588689\n",
       "w2v_avg      0.611941\n",
       "Name: r_corr_w_control, dtype: object"
      ]
     },
     "execution_count": 70,
     "metadata": {},
     "output_type": "execute_result"
    }
   ],
   "source": [
    "resp_d_model['r_corr_w_control']"
   ]
  },
  {
   "cell_type": "code",
   "execution_count": 71,
   "id": "ab0158ca",
   "metadata": {},
   "outputs": [
    {
     "data": {
      "text/plain": [
       "cgcoh    0.283809\n",
       "gcoh     0.489772\n",
       "lcoh      0.54957\n",
       "scoh     0.554965\n",
       "sprob     0.57879\n",
       "pppl     0.536921\n",
       "Name: r_corr_w_control, dtype: object"
      ]
     },
     "execution_count": 71,
     "metadata": {},
     "output_type": "execute_result"
    }
   ],
   "source": [
    "resp_d_metric['r_corr_w_control']"
   ]
  },
  {
   "cell_type": "markdown",
   "id": "26bd5633",
   "metadata": {},
   "source": [
    "#### including feature based metrics for BERT"
   ]
  },
  {
   "cell_type": "code",
   "execution_count": 72,
   "id": "1ce80db7",
   "metadata": {},
   "outputs": [],
   "source": [
    "resp_d_model, resp_d_metric = mean_model_metric_medians(median_d)"
   ]
  },
  {
   "cell_type": "code",
   "execution_count": 73,
   "id": "1cad0500",
   "metadata": {},
   "outputs": [
    {
     "data": {
      "text/html": [
       "<style type=\"text/css\">\n",
       "#T_aac52_row0_col0, #T_aac52_row0_col3, #T_aac52_row0_col4, #T_aac52_row0_col5, #T_aac52_row0_col7, #T_aac52_row1_col6, #T_aac52_row4_col1, #T_aac52_row5_col2 {\n",
       "  background-color: #f7fbff;\n",
       "  color: #000000;\n",
       "}\n",
       "#T_aac52_row0_col1 {\n",
       "  background-color: #4f9bcb;\n",
       "  color: #f1f1f1;\n",
       "}\n",
       "#T_aac52_row0_col2 {\n",
       "  background-color: #d6e5f4;\n",
       "  color: #000000;\n",
       "}\n",
       "#T_aac52_row0_col6 {\n",
       "  background-color: #99c7e0;\n",
       "  color: #000000;\n",
       "}\n",
       "#T_aac52_row1_col0 {\n",
       "  background-color: #d0e2f2;\n",
       "  color: #000000;\n",
       "}\n",
       "#T_aac52_row1_col1 {\n",
       "  background-color: #68acd5;\n",
       "  color: #f1f1f1;\n",
       "}\n",
       "#T_aac52_row1_col2 {\n",
       "  background-color: #afd1e7;\n",
       "  color: #000000;\n",
       "}\n",
       "#T_aac52_row1_col3 {\n",
       "  background-color: #bdd7ec;\n",
       "  color: #000000;\n",
       "}\n",
       "#T_aac52_row1_col4 {\n",
       "  background-color: #cde0f1;\n",
       "  color: #000000;\n",
       "}\n",
       "#T_aac52_row1_col5 {\n",
       "  background-color: #a9cfe5;\n",
       "  color: #000000;\n",
       "}\n",
       "#T_aac52_row1_col7 {\n",
       "  background-color: #2f7fbc;\n",
       "  color: #f1f1f1;\n",
       "}\n",
       "#T_aac52_row2_col0 {\n",
       "  background-color: #539ecd;\n",
       "  color: #f1f1f1;\n",
       "}\n",
       "#T_aac52_row2_col1, #T_aac52_row2_col2, #T_aac52_row4_col7, #T_aac52_row5_col0, #T_aac52_row5_col3, #T_aac52_row5_col4, #T_aac52_row5_col5, #T_aac52_row5_col6 {\n",
       "  background-color: #08306b;\n",
       "  color: #f1f1f1;\n",
       "}\n",
       "#T_aac52_row2_col3 {\n",
       "  background-color: #3d8dc4;\n",
       "  color: #f1f1f1;\n",
       "}\n",
       "#T_aac52_row2_col4 {\n",
       "  background-color: #4a98c9;\n",
       "  color: #f1f1f1;\n",
       "}\n",
       "#T_aac52_row2_col5 {\n",
       "  background-color: #1967ad;\n",
       "  color: #f1f1f1;\n",
       "}\n",
       "#T_aac52_row2_col6 {\n",
       "  background-color: #b2d2e8;\n",
       "  color: #000000;\n",
       "}\n",
       "#T_aac52_row2_col7 {\n",
       "  background-color: #084a91;\n",
       "  color: #f1f1f1;\n",
       "}\n",
       "#T_aac52_row3_col0 {\n",
       "  background-color: #2575b7;\n",
       "  color: #f1f1f1;\n",
       "}\n",
       "#T_aac52_row3_col1, #T_aac52_row4_col6 {\n",
       "  background-color: #4896c8;\n",
       "  color: #f1f1f1;\n",
       "}\n",
       "#T_aac52_row3_col2 {\n",
       "  background-color: #4b98ca;\n",
       "  color: #f1f1f1;\n",
       "}\n",
       "#T_aac52_row3_col3 {\n",
       "  background-color: #125ea6;\n",
       "  color: #f1f1f1;\n",
       "}\n",
       "#T_aac52_row3_col4 {\n",
       "  background-color: #2a7ab9;\n",
       "  color: #f1f1f1;\n",
       "}\n",
       "#T_aac52_row3_col5 {\n",
       "  background-color: #09529d;\n",
       "  color: #f1f1f1;\n",
       "}\n",
       "#T_aac52_row3_col6 {\n",
       "  background-color: #deebf7;\n",
       "  color: #000000;\n",
       "}\n",
       "#T_aac52_row3_col7 {\n",
       "  background-color: #08458a;\n",
       "  color: #f1f1f1;\n",
       "}\n",
       "#T_aac52_row4_col0 {\n",
       "  background-color: #9ac8e0;\n",
       "  color: #000000;\n",
       "}\n",
       "#T_aac52_row4_col2 {\n",
       "  background-color: #4594c7;\n",
       "  color: #f1f1f1;\n",
       "}\n",
       "#T_aac52_row4_col3 {\n",
       "  background-color: #4695c8;\n",
       "  color: #f1f1f1;\n",
       "}\n",
       "#T_aac52_row4_col4 {\n",
       "  background-color: #58a1cf;\n",
       "  color: #f1f1f1;\n",
       "}\n",
       "#T_aac52_row4_col5 {\n",
       "  background-color: #3181bd;\n",
       "  color: #f1f1f1;\n",
       "}\n",
       "#T_aac52_row5_col1 {\n",
       "  background-color: #c9ddf0;\n",
       "  color: #000000;\n",
       "}\n",
       "#T_aac52_row5_col7 {\n",
       "  background-color: #0b559f;\n",
       "  color: #f1f1f1;\n",
       "}\n",
       "</style>\n",
       "<table id=\"T_aac52\">\n",
       "  <thead>\n",
       "    <tr>\n",
       "      <th class=\"blank level0\" >&nbsp;</th>\n",
       "      <th id=\"T_aac52_level0_col0\" class=\"col_heading level0 col0\" >sans_total abs r</th>\n",
       "      <th id=\"T_aac52_level0_col1\" class=\"col_heading level0 col1\" >saps_total abs r</th>\n",
       "      <th id=\"T_aac52_level0_col2\" class=\"col_heading level0 col2\" >panss_pos abs r</th>\n",
       "      <th id=\"T_aac52_level0_col3\" class=\"col_heading level0 col3\" >panss_neg abs r</th>\n",
       "      <th id=\"T_aac52_level0_col4\" class=\"col_heading level0 col4\" >panss_o abs r</th>\n",
       "      <th id=\"T_aac52_level0_col5\" class=\"col_heading level0 col5\" >panss_total abs r</th>\n",
       "      <th id=\"T_aac52_level0_col6\" class=\"col_heading level0 col6\" >t</th>\n",
       "      <th id=\"T_aac52_level0_col7\" class=\"col_heading level0 col7\" >r_corr_w_control</th>\n",
       "    </tr>\n",
       "  </thead>\n",
       "  <tbody>\n",
       "    <tr>\n",
       "      <th id=\"T_aac52_level0_row0\" class=\"row_heading level0 row0\" >cgcoh</th>\n",
       "      <td id=\"T_aac52_row0_col0\" class=\"data row0 col0\" >0.105299</td>\n",
       "      <td id=\"T_aac52_row0_col1\" class=\"data row0 col1\" >0.190716</td>\n",
       "      <td id=\"T_aac52_row0_col2\" class=\"data row0 col2\" >0.142744</td>\n",
       "      <td id=\"T_aac52_row0_col3\" class=\"data row0 col3\" >0.102059</td>\n",
       "      <td id=\"T_aac52_row0_col4\" class=\"data row0 col4\" >0.085015</td>\n",
       "      <td id=\"T_aac52_row0_col5\" class=\"data row0 col5\" >0.098072</td>\n",
       "      <td id=\"T_aac52_row0_col6\" class=\"data row0 col6\" >0.876023</td>\n",
       "      <td id=\"T_aac52_row0_col7\" class=\"data row0 col7\" >0.283809</td>\n",
       "    </tr>\n",
       "    <tr>\n",
       "      <th id=\"T_aac52_level0_row1\" class=\"row_heading level0 row1\" >gcoh</th>\n",
       "      <td id=\"T_aac52_row1_col0\" class=\"data row1 col0\" >0.176891</td>\n",
       "      <td id=\"T_aac52_row1_col1\" class=\"data row1 col1\" >0.183033</td>\n",
       "      <td id=\"T_aac52_row1_col2\" class=\"data row1 col2\" >0.163362</td>\n",
       "      <td id=\"T_aac52_row1_col3\" class=\"data row1 col3\" >0.200699</td>\n",
       "      <td id=\"T_aac52_row1_col4\" class=\"data row1 col4\" >0.159443</td>\n",
       "      <td id=\"T_aac52_row1_col5\" class=\"data row1 col5\" >0.205444</td>\n",
       "      <td id=\"T_aac52_row1_col6\" class=\"data row1 col6\" >0.136936</td>\n",
       "      <td id=\"T_aac52_row1_col7\" class=\"data row1 col7\" >0.489772</td>\n",
       "    </tr>\n",
       "    <tr>\n",
       "      <th id=\"T_aac52_level0_row2\" class=\"row_heading level0 row2\" >lcoh</th>\n",
       "      <td id=\"T_aac52_row2_col0\" class=\"data row2 col0\" >0.314002</td>\n",
       "      <td id=\"T_aac52_row2_col1\" class=\"data row2 col1\" >0.232792</td>\n",
       "      <td id=\"T_aac52_row2_col2\" class=\"data row2 col2\" >0.256959</td>\n",
       "      <td id=\"T_aac52_row2_col3\" class=\"data row2 col3\" >0.328495</td>\n",
       "      <td id=\"T_aac52_row2_col4\" class=\"data row2 col4\" >0.292893</td>\n",
       "      <td id=\"T_aac52_row2_col5\" class=\"data row2 col5\" >0.345097</td>\n",
       "      <td id=\"T_aac52_row2_col6\" class=\"data row2 col6\" >0.734223</td>\n",
       "      <td id=\"T_aac52_row2_col7\" class=\"data row2 col7\" >0.549570</td>\n",
       "    </tr>\n",
       "    <tr>\n",
       "      <th id=\"T_aac52_level0_row3\" class=\"row_heading level0 row3\" >scoh</th>\n",
       "      <td id=\"T_aac52_row3_col0\" class=\"data row3 col0\" >0.373963</td>\n",
       "      <td id=\"T_aac52_row3_col1\" class=\"data row3 col1\" >0.192923</td>\n",
       "      <td id=\"T_aac52_row3_col2\" class=\"data row3 col2\" >0.201327</td>\n",
       "      <td id=\"T_aac52_row3_col3\" class=\"data row3 col3\" >0.392703</td>\n",
       "      <td id=\"T_aac52_row3_col4\" class=\"data row3 col4\" >0.334748</td>\n",
       "      <td id=\"T_aac52_row3_col5\" class=\"data row3 col5\" >0.371083</td>\n",
       "      <td id=\"T_aac52_row3_col6\" class=\"data row3 col6\" >0.379362</td>\n",
       "      <td id=\"T_aac52_row3_col7\" class=\"data row3 col7\" >0.554965</td>\n",
       "    </tr>\n",
       "    <tr>\n",
       "      <th id=\"T_aac52_level0_row4\" class=\"row_heading level0 row4\" >sprob</th>\n",
       "      <td id=\"T_aac52_row4_col0\" class=\"data row4 col0\" >0.245612</td>\n",
       "      <td id=\"T_aac52_row4_col1\" class=\"data row4 col1\" >0.131360</td>\n",
       "      <td id=\"T_aac52_row4_col2\" class=\"data row4 col2\" >0.203768</td>\n",
       "      <td id=\"T_aac52_row4_col3\" class=\"data row4 col3\" >0.318323</td>\n",
       "      <td id=\"T_aac52_row4_col4\" class=\"data row4 col4\" >0.278572</td>\n",
       "      <td id=\"T_aac52_row4_col5\" class=\"data row4 col5\" >0.314921</td>\n",
       "      <td id=\"T_aac52_row4_col6\" class=\"data row4 col6\" >1.292476</td>\n",
       "      <td id=\"T_aac52_row4_col7\" class=\"data row4 col7\" >0.578790</td>\n",
       "    </tr>\n",
       "    <tr>\n",
       "      <th id=\"T_aac52_level0_row5\" class=\"row_heading level0 row5\" >pppl</th>\n",
       "      <td id=\"T_aac52_row5_col0\" class=\"data row5 col0\" >0.471239</td>\n",
       "      <td id=\"T_aac52_row5_col1\" class=\"data row5 col1\" >0.155317</td>\n",
       "      <td id=\"T_aac52_row5_col2\" class=\"data row5 col2\" >0.119219</td>\n",
       "      <td id=\"T_aac52_row5_col3\" class=\"data row5 col3\" >0.454768</td>\n",
       "      <td id=\"T_aac52_row5_col4\" class=\"data row5 col4\" >0.432778</td>\n",
       "      <td id=\"T_aac52_row5_col5\" class=\"data row5 col5\" >0.412121</td>\n",
       "      <td id=\"T_aac52_row5_col6\" class=\"data row5 col6\" >2.039498</td>\n",
       "      <td id=\"T_aac52_row5_col7\" class=\"data row5 col7\" >0.536921</td>\n",
       "    </tr>\n",
       "  </tbody>\n",
       "</table>\n"
      ],
      "text/plain": [
       "<pandas.io.formats.style.Styler at 0x7fcefef0d0d0>"
      ]
     },
     "execution_count": 73,
     "metadata": {},
     "output_type": "execute_result"
    }
   ],
   "source": [
    "style(resp_d_metric)"
   ]
  },
  {
   "cell_type": "code",
   "execution_count": 74,
   "id": "bc74eb60",
   "metadata": {},
   "outputs": [
    {
     "data": {
      "text/plain": [
       "glove_tf     0.193944\n",
       "glove_avg    0.212159\n",
       "bert         0.215651\n",
       "w2v_avg      0.263871\n",
       "w2v_tf       0.289334\n",
       "dtype: float64"
      ]
     },
     "execution_count": 74,
     "metadata": {},
     "output_type": "execute_result"
    }
   ],
   "source": [
    "resp_d_model[['sans_total abs r',\n",
    " 'saps_total abs r',\n",
    " 'panss_pos abs r',\n",
    " 'panss_neg abs r',\n",
    " 'panss_o abs r',\n",
    " 'panss_total abs r']].mean(axis=1).sort_values() "
   ]
  },
  {
   "cell_type": "code",
   "execution_count": 75,
   "id": "a4fea5f9",
   "metadata": {},
   "outputs": [
    {
     "data": {
      "text/plain": [
       "bert         0.295612\n",
       "glove_tf     0.423193\n",
       "glove_avg    0.559332\n",
       "w2v_tf       0.588689\n",
       "w2v_avg      0.611941\n",
       "Name: r_corr_w_control, dtype: object"
      ]
     },
     "execution_count": 75,
     "metadata": {},
     "output_type": "execute_result"
    }
   ],
   "source": [
    "resp_d_model['r_corr_w_control']"
   ]
  },
  {
   "cell_type": "code",
   "execution_count": 76,
   "id": "155b6368",
   "metadata": {},
   "outputs": [
    {
     "data": {
      "text/plain": [
       "cgcoh    0.283809\n",
       "gcoh     0.489772\n",
       "lcoh      0.54957\n",
       "scoh     0.554965\n",
       "sprob     0.57879\n",
       "pppl     0.536921\n",
       "Name: r_corr_w_control, dtype: object"
      ]
     },
     "execution_count": 76,
     "metadata": {},
     "output_type": "execute_result"
    }
   ],
   "source": [
    "resp_d_metric['r_corr_w_control']"
   ]
  },
  {
   "cell_type": "markdown",
   "id": "2ae3cf50",
   "metadata": {},
   "source": [
    "## Plot and analyze across parts of NET"
   ]
  },
  {
   "cell_type": "code",
   "execution_count": 77,
   "id": "02c3a5a4",
   "metadata": {},
   "outputs": [],
   "source": [
    "def plot_horizontal_tasks(df, title, scale, measure, xname=None, m_type='syntactic', \n",
    "                          plot_abs=False, r=0.3, figparams=figprms):\n",
    "    absolute_value = f' (absolute r value)' if plot_abs else ''\n",
    "    figsize, wspace, hspace, yt = get_fparams(m_type, 2, 2, figparams)\n",
    "    fig, axes = plt.subplots(2, 2, figsize=figsize, sharex=True)\n",
    "    fig.suptitle(title + absolute_value, y=yt)\n",
    "    plt.subplots_adjust(wspace=wspace, hspace=hspace)\n",
    "    \n",
    "    axs = axes.flatten()\n",
    "    \n",
    "    for i, task in enumerate(TASKS):\n",
    "        ax = axs[i]\n",
    "        data_task = df.loc[m_type, (task, scale)]\n",
    "        if m_type == 'syntactic' and measure == 'r_corr_w_control':\n",
    "            data_task = df.loc[m_type, (task, scale)].drop('mean_sent_len')\n",
    "        pointplot_horizontal(prep_horizontal_pointplot_errobar_data(data_task, \n",
    "                                                        col=measure, plot_abs=plot_abs), \n",
    "                       x=measure, ax=ax)\n",
    "        ax.set_title(task)\n",
    "\n",
    "    add_grey(axes, r=r)\n",
    "    if xname is None:\n",
    "        xname = measure\n",
    "    \n",
    "    for ax in axes.reshape(-1): \n",
    "        label = 'abs ' + xname if plot_abs else xname\n",
    "        ax.set_xlabel(label)\n",
    "    return fig"
   ]
  },
  {
   "cell_type": "code",
   "execution_count": 78,
   "id": "f915bd44",
   "metadata": {
    "scrolled": true
   },
   "outputs": [],
   "source": [
    "m_type = 'graph'\n",
    "fig = plot_horizontal_tasks(reformed_tasks, \n",
    "                      f'cross-task comparison for {m_type} metrics on group difference (t-test)', \n",
    "                      scale='panss_o', measure='t', m_type=m_type, r=2, figparams=figprms)\n",
    "plt.close(fig)"
   ]
  },
  {
   "cell_type": "code",
   "execution_count": 79,
   "id": "90569d3b",
   "metadata": {},
   "outputs": [],
   "source": [
    "fig = plot_horizontal_tasks(reformed_tasks, \n",
    "                      f'cross-task comparison for {m_type} metrics on sans_total', \n",
    "                      scale='sans_total', measure='r', m_type=m_type, figparams=figprms)\n",
    "plt.close(fig)"
   ]
  },
  {
   "cell_type": "code",
   "execution_count": 80,
   "id": "b834810c",
   "metadata": {},
   "outputs": [],
   "source": [
    "fig = plot_horizontal_tasks(reformed_tasks, \n",
    "                            f'cross-task comparison for {m_type} metrics on correlation with mean sentence length', \n",
    "                            scale='panss_o', measure='r_corr_w_control', \n",
    "                            xname='r', m_type=m_type, figparams=figprms)\n",
    "plt.close(fig)"
   ]
  },
  {
   "cell_type": "code",
   "execution_count": 81,
   "id": "63ccc6ad",
   "metadata": {},
   "outputs": [],
   "source": [
    "def plot_all_scales(reformed_d, m_type='syntactic', path=PATH_FIG, plot_abs=True, dpi=150, figparams=figprms):\n",
    "    \n",
    "    fig = plot_horizontal_tasks(reformed_d, \n",
    "                                f'cross-task comparison for {m_type} metrics on group difference (t-test)', \n",
    "                                scale='panss_o', measure='t', m_type=m_type, r=2, figparams=figparams)\n",
    "    plt.savefig(f'{path}{m_type}/t_across_tasks.png', dpi=dpi, bbox_inches = 'tight')\n",
    "    plt.close(fig)\n",
    "    \n",
    "    ab = 'abs_' if plot_abs else ''\n",
    "    \n",
    "    upfig = figparams.copy()\n",
    "    if m_type == 'lexical':\n",
    "        upfig[m_type]['yt'] += 0.05\n",
    "    fig = plot_horizontal_tasks(reformed_d, \n",
    "                            f'cross-task comparison for {m_type} metrics on correlation with mean sentence length', \n",
    "                            scale='panss_o', measure='r_corr_w_control', \n",
    "                            xname='r', m_type=m_type, figparams=upfig)\n",
    "    plt.savefig(f'{path}{m_type}/{ab}corr_len_across_tasks.png', dpi=dpi, bbox_inches = 'tight')\n",
    "    plt.close(fig)\n",
    "    \n",
    "    for scale in ORDERED_SCALES:\n",
    "        fig = plot_horizontal_tasks(reformed_d, \n",
    "                                    f'cross-task comparison for {m_type} metrics on {scale}', \n",
    "                                    scale=scale, measure='r', \n",
    "                                    plot_abs=plot_abs, m_type=m_type, figparams=figparams)\n",
    "        plt.savefig(f'{path}{m_type}/{ab}r_{scale}_across_tasks.png', dpi=dpi, bbox_inches = 'tight')\n",
    "        plt.close(fig)"
   ]
  },
  {
   "cell_type": "code",
   "execution_count": 82,
   "id": "825fd57f",
   "metadata": {},
   "outputs": [],
   "source": [
    "for m_type in reformed_tasks.index.unique(level=0):\n",
    "    plot_all_scales(reformed_tasks, m_type, plot_abs=True)\n",
    "    plot_all_scales(reformed_tasks, m_type, plot_abs=False)"
   ]
  },
  {
   "cell_type": "code",
   "execution_count": 83,
   "id": "17d71375",
   "metadata": {},
   "outputs": [],
   "source": [
    "def plot_lm_tasks(df, title, scale, measure, order=order, plot_abs=False, use_errorbar=True,\n",
    "                 figsize=(15, 10), yname=None, r=0.3):\n",
    "    absolute_value = f' (absolute {measure} value)' if plot_abs else ''\n",
    "    fig, axes = plt.subplots(2, 2, figsize=figsize, sharey=True)\n",
    "    fig.suptitle(title+absolute_value, y=0.925)\n",
    "    plt.subplots_adjust(wspace=0.1)\n",
    "    \n",
    "    axs = axes.flatten()\n",
    "    for i, task in enumerate(TASKS):\n",
    "        ax = axs[i]\n",
    "        d = prep_LM_pointplot(df.loc['LM', (task, scale)], col=measure, plot_abs=plot_abs)\n",
    "        pointplot(d, x='model', y=measure, hue='metric', ax=ax, order=order, use_errorbar=use_errorbar)\n",
    "        ax.set_title(task)\n",
    "\n",
    "    add_grey(axes, line_dir='h', r=r)\n",
    "    \n",
    "    if yname is None:\n",
    "        yname = measure\n",
    "    for ax in axes.reshape(-1): \n",
    "        label = 'abs ' + yname if plot_abs else yname\n",
    "        ax.set_ylabel(label)\n",
    "    return fig"
   ]
  },
  {
   "cell_type": "code",
   "execution_count": 84,
   "id": "9daa6de2",
   "metadata": {},
   "outputs": [],
   "source": [
    "fig = plot_lm_tasks(reformed_tasks, \n",
    "                    'cross-task comparison for LM metrics across models on group difference (t-test)',\n",
    "                    scale='panss_o', measure='t', use_errorbar=True, figsize=(15, 10), r=2)\n",
    "plt.close(fig)"
   ]
  },
  {
   "cell_type": "code",
   "execution_count": 85,
   "id": "916d2b42",
   "metadata": {},
   "outputs": [],
   "source": [
    "fig = plot_lm_tasks(reformed_tasks, \n",
    "                    'cross-task comparison for LM metrics across models on sans_total',\n",
    "                    scale='sans_total', measure='r', use_errorbar=True, figsize=(15, 10))\n",
    "plt.close(fig)"
   ]
  },
  {
   "cell_type": "code",
   "execution_count": 86,
   "id": "55302623",
   "metadata": {},
   "outputs": [],
   "source": [
    "def plot_all_LM_across_tasks(reformed_d, m_type='LM', path=PATH_FIG, plot_abs=False, figsize=(18, 12), dpi = 150):\n",
    "    ab = 'abs_' if plot_abs else ''\n",
    "    absolute_value = f' (absolute r value)' if plot_abs else ''\n",
    "    \n",
    "    fig = plot_lm_tasks(reformed_d, \n",
    "                        'cross-task comparison for LM metrics across models on group difference (t-test)',\n",
    "                        scale='panss_o', measure='t', use_errorbar=True, figsize=figsize, r=2)\n",
    "    plt.savefig(f'{path}{m_type}/model/t_across_tasks.png', dpi=dpi, bbox_inches = 'tight')\n",
    "    plt.close(fig)\n",
    "    \n",
    "    fig = plot_lm_tasks(reformed_d, \n",
    "                        'cross-task comparison for LM metrics across models on correlation with mean sentence length',\n",
    "                        scale='panss_o', measure='r_corr_w_control', yname='r',\n",
    "                        plot_abs=plot_abs, use_errorbar=True, figsize=figsize)\n",
    "    plt.savefig(f'{path}{m_type}/model/{ab}corr_len_across_tasks.png', dpi=dpi, bbox_inches = 'tight')\n",
    "    plt.close(fig)\n",
    "    \n",
    "    for scale in ORDERED_SCALES:\n",
    "        fig = plot_lm_tasks(reformed_d, \n",
    "                            f'cross-task comparison for LM metrics across models on {scale}{absolute_value}', \n",
    "                            scale=scale, measure='r', \n",
    "                            plot_abs=plot_abs, use_errorbar=True, figsize=figsize)\n",
    "        plt.savefig(f'{path}{m_type}/model/{ab}r_{scale}_across_tasks.png', dpi=dpi, bbox_inches = 'tight')\n",
    "        plt.close(fig)\n",
    "    plt.close(fig)"
   ]
  },
  {
   "cell_type": "code",
   "execution_count": 87,
   "id": "dc3525c6",
   "metadata": {},
   "outputs": [],
   "source": [
    "plot_all_LM_across_tasks(reformed_tasks, plot_abs=True)\n",
    "plot_all_LM_across_tasks(reformed_tasks, plot_abs=False)"
   ]
  }
 ],
 "metadata": {
  "kernelspec": {
   "display_name": "Python 3 (ipykernel)",
   "language": "python",
   "name": "python3"
  },
  "language_info": {
   "codemirror_mode": {
    "name": "ipython",
    "version": 3
   },
   "file_extension": ".py",
   "mimetype": "text/x-python",
   "name": "python",
   "nbconvert_exporter": "python",
   "pygments_lexer": "ipython3",
   "version": "3.9.7"
  }
 },
 "nbformat": 4,
 "nbformat_minor": 5
}
