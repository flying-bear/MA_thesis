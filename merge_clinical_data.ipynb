{
 "cells": [
  {
   "cell_type": "code",
   "execution_count": 184,
   "id": "bed98d34",
   "metadata": {
    "scrolled": true
   },
   "outputs": [],
   "source": [
    "import pandas as pd\n",
    "import numpy as np"
   ]
  },
  {
   "cell_type": "markdown",
   "id": "4382fe60",
   "metadata": {},
   "source": [
    "## Load combined datasets with demography and clinical scales\n",
    "\n",
    "[combined](https://docs.google.com/spreadsheets/d/1Sry9B78TtzQZIxZsHlgVUOApPfdON2lGIhKYj2Nt3pc/edit#gid=391698543)\n",
    "\n",
    "[pd data](https://docs.google.com/spreadsheets/d/1nS2YOswtcSKBBsAnKnxFsng9hzg5IV6IkiVzMITD99Q/edit#gid=635915857)\n",
    "\n",
    "[psychiatric participant data](https://docs.google.com/spreadsheets/u/0/d/1kSkywJC18Dtytk7yNNLgWRq_e8AVdfkB/edit?usp=sheets_home&ths=true&rtpof=true)\n",
    "\n",
    "[demography](https://docs.google.com/spreadsheets/d/1GIuIjkeAFOoTP3n9Q_1-eFtYkbFKmvFBIlpHrIKM7tA/edit#gid=1966721918)\n",
    "\n",
    "norm - separate csv\n",
    "\n",
    "______\n",
    "\n",
    "0 - при поступлении, \n",
    "\n",
    "1 - при выписке и на момент осмотра, \n",
    "\n",
    "2 - через год\n",
    "\n",
    "Hdrs просто наверно соответствует тому, который 1"
   ]
  },
  {
   "cell_type": "markdown",
   "id": "0fb23db1",
   "metadata": {},
   "source": [
    "\n",
    "при различиях в HDRS за основу брать те значения, которые в таблицах 0, 1 и 2\n",
    " \n",
    "при различиях в пансс - взять значения из панс-форм\n",
    "\n",
    " \n",
    "диагноз брать из демографии, https://docs.google.com/spreadsheets/d/1GIuIjkeAFOoTP3n9Q_1-eFtYkbFKmvFBIlpHrIKM7tA/edit?usp=sharing там они написаны словами, но в целом понятно, первый - это первый депрессивный эпизод, F32"
   ]
  },
  {
   "cell_type": "code",
   "execution_count": 185,
   "id": "34af2f87",
   "metadata": {
    "scrolled": true
   },
   "outputs": [],
   "source": [
    "dataframes = pd.read_excel('/Users/galina.ryazanskaya/Downloads/thesis?/2023_annotation/combined_scales_2023_annotation.xlsx', sheet_name=None)"
   ]
  },
  {
   "cell_type": "code",
   "execution_count": 186,
   "id": "ade4095a",
   "metadata": {
    "scrolled": true
   },
   "outputs": [
    {
     "data": {
      "text/plain": [
       "dict_keys(['patient_data', 'PD_participant_data', 'combined_old_data_scales', 'demography', 'sans-1-total', 'sans-2-total', 'hdrs-0-total', 'hdrs-total', 'hdrs-1-total', 'hdrs-2-total', 'panss', 'panss-', 'saps-ftd-1-total', 'saps-ftd-2-total', 'sops', 'sops-1-total', 'sops-2-total'])"
      ]
     },
     "execution_count": 186,
     "metadata": {},
     "output_type": "execute_result"
    }
   ],
   "source": [
    "dataframes.keys()"
   ]
  },
  {
   "cell_type": "code",
   "execution_count": 187,
   "id": "327aae01",
   "metadata": {
    "scrolled": true
   },
   "outputs": [
    {
     "data": {
      "text/html": [
       "<div>\n",
       "<style scoped>\n",
       "    .dataframe tbody tr th:only-of-type {\n",
       "        vertical-align: middle;\n",
       "    }\n",
       "\n",
       "    .dataframe tbody tr th {\n",
       "        vertical-align: top;\n",
       "    }\n",
       "\n",
       "    .dataframe thead th {\n",
       "        text-align: right;\n",
       "    }\n",
       "</style>\n",
       "<table border=\"1\" class=\"dataframe\">\n",
       "  <thead>\n",
       "    <tr style=\"text-align: right;\">\n",
       "      <th></th>\n",
       "      <th>longitudinal</th>\n",
       "      <th>group</th>\n",
       "      <th>diagnosis</th>\n",
       "      <th>sex</th>\n",
       "      <th>age</th>\n",
       "      <th>education.level</th>\n",
       "      <th>education.years</th>\n",
       "      <th>depression.symptoms</th>\n",
       "      <th>dep.scale</th>\n",
       "      <th>thought.disorder.symptoms</th>\n",
       "      <th>td.scales</th>\n",
       "      <th>2.depression.symptoms</th>\n",
       "      <th>2.thought.disorder.symptoms</th>\n",
       "    </tr>\n",
       "    <tr>\n",
       "      <th>ID</th>\n",
       "      <th></th>\n",
       "      <th></th>\n",
       "      <th></th>\n",
       "      <th></th>\n",
       "      <th></th>\n",
       "      <th></th>\n",
       "      <th></th>\n",
       "      <th></th>\n",
       "      <th></th>\n",
       "      <th></th>\n",
       "      <th></th>\n",
       "      <th></th>\n",
       "      <th></th>\n",
       "    </tr>\n",
       "  </thead>\n",
       "  <tbody>\n",
       "    <tr>\n",
       "      <th>PD-001</th>\n",
       "      <td>NaN</td>\n",
       "      <td>patient</td>\n",
       "      <td>schizotypal.disorder</td>\n",
       "      <td>female</td>\n",
       "      <td>19.0</td>\n",
       "      <td>secondary</td>\n",
       "      <td>11</td>\n",
       "      <td>1</td>\n",
       "      <td>HDRS</td>\n",
       "      <td>0</td>\n",
       "      <td>SAPS</td>\n",
       "      <td>NaN</td>\n",
       "      <td>NaN</td>\n",
       "    </tr>\n",
       "    <tr>\n",
       "      <th>PD-002</th>\n",
       "      <td>NaN</td>\n",
       "      <td>patient</td>\n",
       "      <td>bipolar.affective.disorder</td>\n",
       "      <td>female</td>\n",
       "      <td>26.0</td>\n",
       "      <td>higher</td>\n",
       "      <td>17</td>\n",
       "      <td>1</td>\n",
       "      <td>HDRS</td>\n",
       "      <td>0</td>\n",
       "      <td>SAPS</td>\n",
       "      <td>NaN</td>\n",
       "      <td>NaN</td>\n",
       "    </tr>\n",
       "  </tbody>\n",
       "</table>\n",
       "</div>"
      ],
      "text/plain": [
       "        longitudinal    group                   diagnosis     sex   age  \\\n",
       "ID                                                                        \n",
       "PD-001           NaN  patient        schizotypal.disorder  female  19.0   \n",
       "PD-002           NaN  patient  bipolar.affective.disorder  female  26.0   \n",
       "\n",
       "       education.level  education.years  depression.symptoms dep.scale  \\\n",
       "ID                                                                       \n",
       "PD-001       secondary               11                    1      HDRS   \n",
       "PD-002          higher               17                    1      HDRS   \n",
       "\n",
       "        thought.disorder.symptoms td.scales  2.depression.symptoms  \\\n",
       "ID                                                                   \n",
       "PD-001                          0      SAPS                    NaN   \n",
       "PD-002                          0      SAPS                    NaN   \n",
       "\n",
       "        2.thought.disorder.symptoms  \n",
       "ID                                   \n",
       "PD-001                          NaN  \n",
       "PD-002                          NaN  "
      ]
     },
     "execution_count": 187,
     "metadata": {},
     "output_type": "execute_result"
    }
   ],
   "source": [
    "dataframes['PD_participant_data'].set_index('ID').head(2)"
   ]
  },
  {
   "cell_type": "code",
   "execution_count": 188,
   "id": "f41403a9",
   "metadata": {
    "scrolled": true
   },
   "outputs": [
    {
     "data": {
      "text/html": [
       "<div>\n",
       "<style scoped>\n",
       "    .dataframe tbody tr th:only-of-type {\n",
       "        vertical-align: middle;\n",
       "    }\n",
       "\n",
       "    .dataframe tbody tr th {\n",
       "        vertical-align: top;\n",
       "    }\n",
       "\n",
       "    .dataframe thead th {\n",
       "        text-align: right;\n",
       "    }\n",
       "</style>\n",
       "<table border=\"1\" class=\"dataframe\">\n",
       "  <thead>\n",
       "    <tr style=\"text-align: right;\">\n",
       "      <th></th>\n",
       "      <th>oldID</th>\n",
       "      <th>diagnosis</th>\n",
       "      <th>hdrs-total-</th>\n",
       "      <th>dep.severity-</th>\n",
       "      <th>panss-td--</th>\n",
       "      <th>panss-total--</th>\n",
       "      <th>panss-o-total--</th>\n",
       "      <th>panss-p-total--</th>\n",
       "      <th>panss-n-total--</th>\n",
       "      <th>sex</th>\n",
       "      <th>age</th>\n",
       "      <th>educ.years</th>\n",
       "    </tr>\n",
       "    <tr>\n",
       "      <th>ID</th>\n",
       "      <th></th>\n",
       "      <th></th>\n",
       "      <th></th>\n",
       "      <th></th>\n",
       "      <th></th>\n",
       "      <th></th>\n",
       "      <th></th>\n",
       "      <th></th>\n",
       "      <th></th>\n",
       "      <th></th>\n",
       "      <th></th>\n",
       "      <th></th>\n",
       "    </tr>\n",
       "  </thead>\n",
       "  <tbody>\n",
       "    <tr>\n",
       "      <th>PN-001</th>\n",
       "      <td>H01</td>\n",
       "      <td>NaN</td>\n",
       "      <td>NaN</td>\n",
       "      <td>NaN</td>\n",
       "      <td>4</td>\n",
       "      <td>30</td>\n",
       "      <td>16</td>\n",
       "      <td>7</td>\n",
       "      <td>7</td>\n",
       "      <td>m</td>\n",
       "      <td>27.0</td>\n",
       "      <td>22</td>\n",
       "    </tr>\n",
       "    <tr>\n",
       "      <th>PN-002</th>\n",
       "      <td>H02</td>\n",
       "      <td>NaN</td>\n",
       "      <td>1.0</td>\n",
       "      <td>0.0</td>\n",
       "      <td>6</td>\n",
       "      <td>33</td>\n",
       "      <td>17</td>\n",
       "      <td>8</td>\n",
       "      <td>8</td>\n",
       "      <td>f</td>\n",
       "      <td>36.0</td>\n",
       "      <td>17</td>\n",
       "    </tr>\n",
       "  </tbody>\n",
       "</table>\n",
       "</div>"
      ],
      "text/plain": [
       "       oldID diagnosis  hdrs-total-  dep.severity-  panss-td--  panss-total--  \\\n",
       "ID                                                                              \n",
       "PN-001   H01       NaN          NaN            NaN           4             30   \n",
       "PN-002   H02       NaN          1.0            0.0           6             33   \n",
       "\n",
       "        panss-o-total--  panss-p-total--  panss-n-total-- sex   age  \\\n",
       "ID                                                                    \n",
       "PN-001               16                7                7   m  27.0   \n",
       "PN-002               17                8                8   f  36.0   \n",
       "\n",
       "        educ.years  \n",
       "ID                  \n",
       "PN-001          22  \n",
       "PN-002          17  "
      ]
     },
     "execution_count": 188,
     "metadata": {},
     "output_type": "execute_result"
    }
   ],
   "source": [
    "dataframes['combined_old_data_scales'].set_index('ID').head(2)"
   ]
  },
  {
   "cell_type": "code",
   "execution_count": 189,
   "id": "a1df33b7",
   "metadata": {
    "scrolled": true
   },
   "outputs": [
    {
     "data": {
      "text/html": [
       "<div>\n",
       "<style scoped>\n",
       "    .dataframe tbody tr th:only-of-type {\n",
       "        vertical-align: middle;\n",
       "    }\n",
       "\n",
       "    .dataframe tbody tr th {\n",
       "        vertical-align: top;\n",
       "    }\n",
       "\n",
       "    .dataframe thead th {\n",
       "        text-align: right;\n",
       "    }\n",
       "</style>\n",
       "<table border=\"1\" class=\"dataframe\">\n",
       "  <thead>\n",
       "    <tr style=\"text-align: right;\">\n",
       "      <th></th>\n",
       "      <th>group</th>\n",
       "      <th>ds</th>\n",
       "      <th>age</th>\n",
       "      <th>educ.years</th>\n",
       "      <th>edulevel</th>\n",
       "      <th>socstat1</th>\n",
       "      <th>socstat2</th>\n",
       "      <th>age-onset</th>\n",
       "      <th>GAF1</th>\n",
       "      <th>Condition-at-discharge</th>\n",
       "      <th>CPE1</th>\n",
       "      <th>exacerbation</th>\n",
       "      <th>rehospitalization</th>\n",
       "      <th>GAF2</th>\n",
       "      <th>CPE2</th>\n",
       "    </tr>\n",
       "    <tr>\n",
       "      <th>ID</th>\n",
       "      <th></th>\n",
       "      <th></th>\n",
       "      <th></th>\n",
       "      <th></th>\n",
       "      <th></th>\n",
       "      <th></th>\n",
       "      <th></th>\n",
       "      <th></th>\n",
       "      <th></th>\n",
       "      <th></th>\n",
       "      <th></th>\n",
       "      <th></th>\n",
       "      <th></th>\n",
       "      <th></th>\n",
       "      <th></th>\n",
       "    </tr>\n",
       "  </thead>\n",
       "  <tbody>\n",
       "    <tr>\n",
       "      <th>PD-002</th>\n",
       "      <td>1</td>\n",
       "      <td>БАР</td>\n",
       "      <td>26</td>\n",
       "      <td>17</td>\n",
       "      <td>4</td>\n",
       "      <td>2</td>\n",
       "      <td>NaN</td>\n",
       "      <td>14</td>\n",
       "      <td>10</td>\n",
       "      <td>2</td>\n",
       "      <td>587.0</td>\n",
       "      <td>1.0</td>\n",
       "      <td>0.0</td>\n",
       "      <td>NaN</td>\n",
       "      <td>NaN</td>\n",
       "    </tr>\n",
       "    <tr>\n",
       "      <th>PD-004</th>\n",
       "      <td>1</td>\n",
       "      <td>ПРЛ</td>\n",
       "      <td>16</td>\n",
       "      <td>9</td>\n",
       "      <td>0</td>\n",
       "      <td>1</td>\n",
       "      <td>1.0</td>\n",
       "      <td>14</td>\n",
       "      <td>20</td>\n",
       "      <td>1</td>\n",
       "      <td>800.0</td>\n",
       "      <td>1.0</td>\n",
       "      <td>0.0</td>\n",
       "      <td>55.0</td>\n",
       "      <td>200.0</td>\n",
       "    </tr>\n",
       "  </tbody>\n",
       "</table>\n",
       "</div>"
      ],
      "text/plain": [
       "        group   ds  age  educ.years  edulevel  socstat1  socstat2  age-onset  \\\n",
       "ID                                                                             \n",
       "PD-002      1  БАР   26          17         4         2       NaN         14   \n",
       "PD-004      1  ПРЛ   16           9         0         1       1.0         14   \n",
       "\n",
       "        GAF1  Condition-at-discharge   CPE1  exacerbation  rehospitalization  \\\n",
       "ID                                                                             \n",
       "PD-002    10                       2  587.0           1.0                0.0   \n",
       "PD-004    20                       1  800.0           1.0                0.0   \n",
       "\n",
       "        GAF2   CPE2  \n",
       "ID                   \n",
       "PD-002   NaN    NaN  \n",
       "PD-004  55.0  200.0  "
      ]
     },
     "execution_count": 189,
     "metadata": {},
     "output_type": "execute_result"
    }
   ],
   "source": [
    "dataframes['demography'].rename(columns={'id': 'ID'}).set_index('ID').head(2)"
   ]
  },
  {
   "cell_type": "code",
   "execution_count": 190,
   "id": "74236980",
   "metadata": {
    "scrolled": true
   },
   "outputs": [
    {
     "data": {
      "text/html": [
       "<div>\n",
       "<style scoped>\n",
       "    .dataframe tbody tr th:only-of-type {\n",
       "        vertical-align: middle;\n",
       "    }\n",
       "\n",
       "    .dataframe tbody tr th {\n",
       "        vertical-align: top;\n",
       "    }\n",
       "\n",
       "    .dataframe thead th {\n",
       "        text-align: right;\n",
       "    }\n",
       "</style>\n",
       "<table border=\"1\" class=\"dataframe\">\n",
       "  <thead>\n",
       "    <tr style=\"text-align: right;\">\n",
       "      <th></th>\n",
       "      <th>oldID</th>\n",
       "      <th>group</th>\n",
       "      <th>diagnosis.rus</th>\n",
       "      <th>diagnosis</th>\n",
       "      <th>sex</th>\n",
       "      <th>age</th>\n",
       "      <th>educ.years</th>\n",
       "      <th>ID.HDRS</th>\n",
       "      <th>DEP.SEVERITY(0-3)</th>\n",
       "      <th>HDRS</th>\n",
       "      <th>...</th>\n",
       "      <th>SOPS Pos Total</th>\n",
       "      <th>SOPS Neg Total</th>\n",
       "      <th>SOPS Des Total</th>\n",
       "      <th>SOPS Com Total</th>\n",
       "      <th>PANSS.ID</th>\n",
       "      <th>panss 1 sum</th>\n",
       "      <th>panss p sum</th>\n",
       "      <th>panss n sum</th>\n",
       "      <th>panss o sum</th>\n",
       "      <th>panss TD</th>\n",
       "    </tr>\n",
       "    <tr>\n",
       "      <th>ID</th>\n",
       "      <th></th>\n",
       "      <th></th>\n",
       "      <th></th>\n",
       "      <th></th>\n",
       "      <th></th>\n",
       "      <th></th>\n",
       "      <th></th>\n",
       "      <th></th>\n",
       "      <th></th>\n",
       "      <th></th>\n",
       "      <th></th>\n",
       "      <th></th>\n",
       "      <th></th>\n",
       "      <th></th>\n",
       "      <th></th>\n",
       "      <th></th>\n",
       "      <th></th>\n",
       "      <th></th>\n",
       "      <th></th>\n",
       "      <th></th>\n",
       "      <th></th>\n",
       "    </tr>\n",
       "  </thead>\n",
       "  <tbody>\n",
       "    <tr>\n",
       "      <th>PD-001</th>\n",
       "      <td>PD01</td>\n",
       "      <td>NaN</td>\n",
       "      <td>Шизотипическое</td>\n",
       "      <td>F21.3</td>\n",
       "      <td>f</td>\n",
       "      <td>19.0</td>\n",
       "      <td>11.0</td>\n",
       "      <td>PD-001</td>\n",
       "      <td>1.0</td>\n",
       "      <td>12.0</td>\n",
       "      <td>...</td>\n",
       "      <td>15.0</td>\n",
       "      <td>15.0</td>\n",
       "      <td>9.0</td>\n",
       "      <td>9.0</td>\n",
       "      <td>PD-001</td>\n",
       "      <td>NaN</td>\n",
       "      <td>NaN</td>\n",
       "      <td>NaN</td>\n",
       "      <td>NaN</td>\n",
       "      <td>NaN</td>\n",
       "    </tr>\n",
       "    <tr>\n",
       "      <th>PD-002</th>\n",
       "      <td>PD02</td>\n",
       "      <td>dep</td>\n",
       "      <td>БАР</td>\n",
       "      <td>F31.4</td>\n",
       "      <td>f</td>\n",
       "      <td>26.0</td>\n",
       "      <td>17.0</td>\n",
       "      <td>PD-002</td>\n",
       "      <td>1.0</td>\n",
       "      <td>13.0</td>\n",
       "      <td>...</td>\n",
       "      <td>1.0</td>\n",
       "      <td>5.0</td>\n",
       "      <td>2.0</td>\n",
       "      <td>16.0</td>\n",
       "      <td>PD-002</td>\n",
       "      <td>43.0</td>\n",
       "      <td>7.0</td>\n",
       "      <td>10.0</td>\n",
       "      <td>26.0</td>\n",
       "      <td>4.0</td>\n",
       "    </tr>\n",
       "  </tbody>\n",
       "</table>\n",
       "<p>2 rows × 24 columns</p>\n",
       "</div>"
      ],
      "text/plain": [
       "       oldID group   diagnosis.rus diagnosis sex   age  educ.years ID.HDRS  \\\n",
       "ID                                                                           \n",
       "PD-001  PD01   NaN  Шизотипическое     F21.3   f  19.0        11.0  PD-001   \n",
       "PD-002  PD02   dep             БАР     F31.4   f  26.0        17.0  PD-002   \n",
       "\n",
       "        DEP.SEVERITY(0-3)  HDRS  ...  SOPS Pos Total  SOPS Neg Total  \\\n",
       "ID                               ...                                   \n",
       "PD-001                1.0  12.0  ...            15.0            15.0   \n",
       "PD-002                1.0  13.0  ...             1.0             5.0   \n",
       "\n",
       "        SOPS Des Total SOPS Com Total  PANSS.ID  panss 1 sum  panss p sum  \\\n",
       "ID                                                                          \n",
       "PD-001             9.0            9.0    PD-001          NaN          NaN   \n",
       "PD-002             2.0           16.0    PD-002         43.0          7.0   \n",
       "\n",
       "        panss n sum panss o sum  panss TD  \n",
       "ID                                         \n",
       "PD-001          NaN         NaN       NaN  \n",
       "PD-002         10.0        26.0       4.0  \n",
       "\n",
       "[2 rows x 24 columns]"
      ]
     },
     "execution_count": 190,
     "metadata": {},
     "output_type": "execute_result"
    }
   ],
   "source": [
    "dataframes['patient_data'].set_index('ID').head(2)"
   ]
  },
  {
   "cell_type": "markdown",
   "id": "5e575aff",
   "metadata": {},
   "source": [
    "### merge old data to demography"
   ]
  },
  {
   "cell_type": "code",
   "execution_count": 191,
   "id": "18cccbbe",
   "metadata": {
    "scrolled": true
   },
   "outputs": [
    {
     "data": {
      "text/html": [
       "<div>\n",
       "<style scoped>\n",
       "    .dataframe tbody tr th:only-of-type {\n",
       "        vertical-align: middle;\n",
       "    }\n",
       "\n",
       "    .dataframe tbody tr th {\n",
       "        vertical-align: top;\n",
       "    }\n",
       "\n",
       "    .dataframe thead th {\n",
       "        text-align: right;\n",
       "    }\n",
       "</style>\n",
       "<table border=\"1\" class=\"dataframe\">\n",
       "  <thead>\n",
       "    <tr style=\"text-align: right;\">\n",
       "      <th></th>\n",
       "      <th>oldID</th>\n",
       "      <th>diagnosis</th>\n",
       "      <th>hdrs-total-</th>\n",
       "      <th>dep.severity-</th>\n",
       "      <th>panss-td--</th>\n",
       "      <th>panss-total--</th>\n",
       "      <th>panss-o-total--</th>\n",
       "      <th>panss-p-total--</th>\n",
       "      <th>panss-n-total--</th>\n",
       "      <th>sex</th>\n",
       "      <th>...</th>\n",
       "      <th>socstat1</th>\n",
       "      <th>socstat2</th>\n",
       "      <th>age-onset</th>\n",
       "      <th>GAF1</th>\n",
       "      <th>Condition-at-discharge</th>\n",
       "      <th>CPE1</th>\n",
       "      <th>exacerbation</th>\n",
       "      <th>rehospitalization</th>\n",
       "      <th>GAF2</th>\n",
       "      <th>CPE2</th>\n",
       "    </tr>\n",
       "    <tr>\n",
       "      <th>ID</th>\n",
       "      <th></th>\n",
       "      <th></th>\n",
       "      <th></th>\n",
       "      <th></th>\n",
       "      <th></th>\n",
       "      <th></th>\n",
       "      <th></th>\n",
       "      <th></th>\n",
       "      <th></th>\n",
       "      <th></th>\n",
       "      <th></th>\n",
       "      <th></th>\n",
       "      <th></th>\n",
       "      <th></th>\n",
       "      <th></th>\n",
       "      <th></th>\n",
       "      <th></th>\n",
       "      <th></th>\n",
       "      <th></th>\n",
       "      <th></th>\n",
       "      <th></th>\n",
       "    </tr>\n",
       "  </thead>\n",
       "  <tbody>\n",
       "    <tr>\n",
       "      <th>PN-001</th>\n",
       "      <td>H01</td>\n",
       "      <td>NaN</td>\n",
       "      <td>NaN</td>\n",
       "      <td>NaN</td>\n",
       "      <td>4.0</td>\n",
       "      <td>30.0</td>\n",
       "      <td>16.0</td>\n",
       "      <td>7.0</td>\n",
       "      <td>7.0</td>\n",
       "      <td>m</td>\n",
       "      <td>...</td>\n",
       "      <td>NaN</td>\n",
       "      <td>NaN</td>\n",
       "      <td>NaN</td>\n",
       "      <td>NaN</td>\n",
       "      <td>NaN</td>\n",
       "      <td>NaN</td>\n",
       "      <td>NaN</td>\n",
       "      <td>NaN</td>\n",
       "      <td>NaN</td>\n",
       "      <td>NaN</td>\n",
       "    </tr>\n",
       "    <tr>\n",
       "      <th>PN-002</th>\n",
       "      <td>H02</td>\n",
       "      <td>NaN</td>\n",
       "      <td>1.0</td>\n",
       "      <td>0.0</td>\n",
       "      <td>6.0</td>\n",
       "      <td>33.0</td>\n",
       "      <td>17.0</td>\n",
       "      <td>8.0</td>\n",
       "      <td>8.0</td>\n",
       "      <td>f</td>\n",
       "      <td>...</td>\n",
       "      <td>NaN</td>\n",
       "      <td>NaN</td>\n",
       "      <td>NaN</td>\n",
       "      <td>NaN</td>\n",
       "      <td>NaN</td>\n",
       "      <td>NaN</td>\n",
       "      <td>NaN</td>\n",
       "      <td>NaN</td>\n",
       "      <td>NaN</td>\n",
       "      <td>NaN</td>\n",
       "    </tr>\n",
       "  </tbody>\n",
       "</table>\n",
       "<p>2 rows × 27 columns</p>\n",
       "</div>"
      ],
      "text/plain": [
       "       oldID diagnosis  hdrs-total-  dep.severity-  panss-td--  panss-total--  \\\n",
       "ID                                                                              \n",
       "PN-001   H01       NaN          NaN            NaN         4.0           30.0   \n",
       "PN-002   H02       NaN          1.0            0.0         6.0           33.0   \n",
       "\n",
       "        panss-o-total--  panss-p-total--  panss-n-total-- sex  ...  socstat1  \\\n",
       "ID                                                             ...             \n",
       "PN-001             16.0              7.0              7.0   m  ...       NaN   \n",
       "PN-002             17.0              8.0              8.0   f  ...       NaN   \n",
       "\n",
       "        socstat2  age-onset GAF1  Condition-at-discharge  CPE1  exacerbation  \\\n",
       "ID                                                                             \n",
       "PN-001       NaN        NaN  NaN                     NaN   NaN           NaN   \n",
       "PN-002       NaN        NaN  NaN                     NaN   NaN           NaN   \n",
       "\n",
       "        rehospitalization  GAF2  CPE2  \n",
       "ID                                     \n",
       "PN-001                NaN   NaN   NaN  \n",
       "PN-002                NaN   NaN   NaN  \n",
       "\n",
       "[2 rows x 27 columns]"
      ]
     },
     "execution_count": 191,
     "metadata": {},
     "output_type": "execute_result"
    }
   ],
   "source": [
    "x = pd.merge(dataframes['combined_old_data_scales'].set_index('ID'), dataframes['demography'].rename(columns={'id': 'ID'}).set_index('ID'), on='ID', how='outer')\n",
    "x.head(2)"
   ]
  },
  {
   "cell_type": "code",
   "execution_count": 192,
   "id": "e9c948c7",
   "metadata": {
    "scrolled": true
   },
   "outputs": [],
   "source": [
    "def merge_cols(row, colname_1, colname_2, resolve, verbose=True):\n",
    "    col_1, col_2 = row[colname_1], row[colname_2]\n",
    "    if pd.isnull(col_1) and pd.isnull(col_2):\n",
    "        return col_1\n",
    "    elif not pd.isnull(col_1) and pd.isnull(col_2):\n",
    "        return col_1\n",
    "    elif pd.isnull(col_1) and not pd.isnull(col_2):\n",
    "        return col_2\n",
    "    else:\n",
    "        if col_1 == col_2:\n",
    "            return col_1\n",
    "        else:\n",
    "            if verbose:\n",
    "                print(row)\n",
    "            res = resolve(col_1, col_2)\n",
    "            return res"
   ]
  },
  {
   "cell_type": "code",
   "execution_count": 193,
   "id": "b2b296be",
   "metadata": {
    "scrolled": true
   },
   "outputs": [],
   "source": [
    "x['age'] = x.apply(lambda row: merge_cols(row, 'age_x', 'age_y', lambda x, y: x), axis=1)"
   ]
  },
  {
   "cell_type": "code",
   "execution_count": 194,
   "id": "7b2d1e72",
   "metadata": {
    "scrolled": true
   },
   "outputs": [],
   "source": [
    "x['educ.years'] = x.apply(lambda row: merge_cols(row, 'educ.years_x', 'educ.years_y', lambda x, y: x), axis=1)"
   ]
  },
  {
   "cell_type": "code",
   "execution_count": 195,
   "id": "38c4dd74",
   "metadata": {
    "scrolled": true
   },
   "outputs": [],
   "source": [
    "x.drop(columns=['age_x', 'age_y', 'educ.years_x', 'educ.years_y'], inplace=True)"
   ]
  },
  {
   "cell_type": "code",
   "execution_count": 196,
   "id": "379f867d",
   "metadata": {},
   "outputs": [],
   "source": [
    "x.rename(columns={'group': 'group.code'}, inplace=True)"
   ]
  },
  {
   "cell_type": "markdown",
   "id": "1886b0ee",
   "metadata": {},
   "source": [
    "### merge to patient data"
   ]
  },
  {
   "cell_type": "code",
   "execution_count": 197,
   "id": "4ac67b33",
   "metadata": {
    "scrolled": true
   },
   "outputs": [
    {
     "data": {
      "text/html": [
       "<div>\n",
       "<style scoped>\n",
       "    .dataframe tbody tr th:only-of-type {\n",
       "        vertical-align: middle;\n",
       "    }\n",
       "\n",
       "    .dataframe tbody tr th {\n",
       "        vertical-align: top;\n",
       "    }\n",
       "\n",
       "    .dataframe thead th {\n",
       "        text-align: right;\n",
       "    }\n",
       "</style>\n",
       "<table border=\"1\" class=\"dataframe\">\n",
       "  <thead>\n",
       "    <tr style=\"text-align: right;\">\n",
       "      <th></th>\n",
       "      <th>oldID_x</th>\n",
       "      <th>diagnosis_x</th>\n",
       "      <th>hdrs-total-</th>\n",
       "      <th>dep.severity-</th>\n",
       "      <th>panss-td--</th>\n",
       "      <th>panss-total--</th>\n",
       "      <th>panss-o-total--</th>\n",
       "      <th>panss-p-total--</th>\n",
       "      <th>panss-n-total--</th>\n",
       "      <th>sex_x</th>\n",
       "      <th>...</th>\n",
       "      <th>SOPS Pos Total</th>\n",
       "      <th>SOPS Neg Total</th>\n",
       "      <th>SOPS Des Total</th>\n",
       "      <th>SOPS Com Total</th>\n",
       "      <th>PANSS.ID</th>\n",
       "      <th>panss 1 sum</th>\n",
       "      <th>panss p sum</th>\n",
       "      <th>panss n sum</th>\n",
       "      <th>panss o sum</th>\n",
       "      <th>panss TD</th>\n",
       "    </tr>\n",
       "    <tr>\n",
       "      <th>ID</th>\n",
       "      <th></th>\n",
       "      <th></th>\n",
       "      <th></th>\n",
       "      <th></th>\n",
       "      <th></th>\n",
       "      <th></th>\n",
       "      <th></th>\n",
       "      <th></th>\n",
       "      <th></th>\n",
       "      <th></th>\n",
       "      <th></th>\n",
       "      <th></th>\n",
       "      <th></th>\n",
       "      <th></th>\n",
       "      <th></th>\n",
       "      <th></th>\n",
       "      <th></th>\n",
       "      <th></th>\n",
       "      <th></th>\n",
       "      <th></th>\n",
       "      <th></th>\n",
       "    </tr>\n",
       "  </thead>\n",
       "  <tbody>\n",
       "    <tr>\n",
       "      <th>PN-001</th>\n",
       "      <td>H01</td>\n",
       "      <td>NaN</td>\n",
       "      <td>NaN</td>\n",
       "      <td>NaN</td>\n",
       "      <td>4.0</td>\n",
       "      <td>30.0</td>\n",
       "      <td>16.0</td>\n",
       "      <td>7.0</td>\n",
       "      <td>7.0</td>\n",
       "      <td>m</td>\n",
       "      <td>...</td>\n",
       "      <td>NaN</td>\n",
       "      <td>NaN</td>\n",
       "      <td>NaN</td>\n",
       "      <td>NaN</td>\n",
       "      <td>NaN</td>\n",
       "      <td>NaN</td>\n",
       "      <td>NaN</td>\n",
       "      <td>NaN</td>\n",
       "      <td>NaN</td>\n",
       "      <td>NaN</td>\n",
       "    </tr>\n",
       "    <tr>\n",
       "      <th>PN-002</th>\n",
       "      <td>H02</td>\n",
       "      <td>NaN</td>\n",
       "      <td>1.0</td>\n",
       "      <td>0.0</td>\n",
       "      <td>6.0</td>\n",
       "      <td>33.0</td>\n",
       "      <td>17.0</td>\n",
       "      <td>8.0</td>\n",
       "      <td>8.0</td>\n",
       "      <td>f</td>\n",
       "      <td>...</td>\n",
       "      <td>NaN</td>\n",
       "      <td>NaN</td>\n",
       "      <td>NaN</td>\n",
       "      <td>NaN</td>\n",
       "      <td>NaN</td>\n",
       "      <td>NaN</td>\n",
       "      <td>NaN</td>\n",
       "      <td>NaN</td>\n",
       "      <td>NaN</td>\n",
       "      <td>NaN</td>\n",
       "    </tr>\n",
       "  </tbody>\n",
       "</table>\n",
       "<p>2 rows × 49 columns</p>\n",
       "</div>"
      ],
      "text/plain": [
       "       oldID_x diagnosis_x  hdrs-total-  dep.severity-  panss-td--  \\\n",
       "ID                                                                   \n",
       "PN-001     H01         NaN          NaN            NaN         4.0   \n",
       "PN-002     H02         NaN          1.0            0.0         6.0   \n",
       "\n",
       "        panss-total--  panss-o-total--  panss-p-total--  panss-n-total--  \\\n",
       "ID                                                                         \n",
       "PN-001           30.0             16.0              7.0              7.0   \n",
       "PN-002           33.0             17.0              8.0              8.0   \n",
       "\n",
       "       sex_x  ...  SOPS Pos Total SOPS Neg Total  SOPS Des Total  \\\n",
       "ID            ...                                                  \n",
       "PN-001     m  ...             NaN            NaN             NaN   \n",
       "PN-002     f  ...             NaN            NaN             NaN   \n",
       "\n",
       "        SOPS Com Total  PANSS.ID  panss 1 sum  panss p sum  panss n sum  \\\n",
       "ID                                                                        \n",
       "PN-001             NaN       NaN          NaN          NaN          NaN   \n",
       "PN-002             NaN       NaN          NaN          NaN          NaN   \n",
       "\n",
       "        panss o sum  panss TD  \n",
       "ID                             \n",
       "PN-001          NaN       NaN  \n",
       "PN-002          NaN       NaN  \n",
       "\n",
       "[2 rows x 49 columns]"
      ]
     },
     "execution_count": 197,
     "metadata": {},
     "output_type": "execute_result"
    }
   ],
   "source": [
    "x = pd.merge(x, dataframes['patient_data'].set_index('ID'), on='ID', how='outer')\n",
    "x.head(2)"
   ]
  },
  {
   "cell_type": "code",
   "execution_count": 198,
   "id": "2c55d6fa",
   "metadata": {
    "scrolled": true
   },
   "outputs": [],
   "source": [
    "x['oldID'] = x.apply(lambda row: merge_cols(row, 'oldID_x', 'oldID_y', lambda x, y: x), axis=1)\n",
    "x.drop(columns=['oldID_x', 'oldID_y'], inplace=True)"
   ]
  },
  {
   "cell_type": "code",
   "execution_count": 199,
   "id": "607dfd26",
   "metadata": {
    "scrolled": true
   },
   "outputs": [],
   "source": [
    "x.diagnosis_x = x.diagnosis_x.apply(lambda x: x.replace(' ', '') if not pd.isnull(x) else x)\n",
    "x['diagnosis'] = x.apply(lambda row: merge_cols(row, 'diagnosis_x', 'diagnosis_y', lambda x, y: x), axis=1)\n",
    "x.drop(columns=['diagnosis_x', 'diagnosis_y'], inplace=True)"
   ]
  },
  {
   "cell_type": "code",
   "execution_count": 200,
   "id": "d9b441bb",
   "metadata": {
    "scrolled": true
   },
   "outputs": [],
   "source": [
    "x.loc['PD-115', 'age_x'] = 27.0 \n",
    "x['age'] = x.apply(lambda row: merge_cols(row, 'age_x', 'age_y', lambda x, y: x), axis=1)\n",
    "x.drop(columns=['age_x', 'age_y'], inplace=True)"
   ]
  },
  {
   "cell_type": "code",
   "execution_count": 201,
   "id": "c3629db2",
   "metadata": {
    "scrolled": true
   },
   "outputs": [],
   "source": [
    "x['sex'] = x.apply(lambda row: merge_cols(row, 'sex_x', 'sex_y', lambda x, y: x), axis=1)\n",
    "x.drop(columns=['sex_x', 'sex_y'], inplace=True)"
   ]
  },
  {
   "cell_type": "code",
   "execution_count": 202,
   "id": "fbb412dc",
   "metadata": {
    "scrolled": true
   },
   "outputs": [],
   "source": [
    "x.rename(columns = {'group_x':'group_BA', 'group_y':'group'}, inplace=True)"
   ]
  },
  {
   "cell_type": "code",
   "execution_count": 203,
   "id": "be171f8d",
   "metadata": {
    "scrolled": true
   },
   "outputs": [],
   "source": [
    "x['educ.years'] = x.apply(lambda row: merge_cols(row, 'educ.years_x', 'educ.years_y', lambda x, y: x), axis=1)\n",
    "x.drop(columns=['educ.years_x', 'educ.years_y'], inplace=True)"
   ]
  },
  {
   "cell_type": "code",
   "execution_count": 204,
   "id": "8739303b",
   "metadata": {
    "scrolled": true
   },
   "outputs": [],
   "source": [
    "x['ID'] = x.index\n",
    "x['ID'] = x.apply(lambda row: merge_cols(row, 'ID', 'PANSS.ID', lambda x, y: x), axis=1)\n",
    "x['ID'] = x.apply(lambda row: merge_cols(row, 'ID', 'ID.HDRS', lambda x, y: x), axis=1)\n",
    "x['ID'] = x.apply(lambda row: merge_cols(row, 'ID', 'ID.SOPS', lambda x, y: x), axis=1)\n",
    "x.drop(columns=['PANSS.ID', 'ID.SOPS', 'ID.HDRS', 'ID'], inplace=True)"
   ]
  },
  {
   "cell_type": "code",
   "execution_count": 205,
   "id": "c62fbfe2",
   "metadata": {
    "scrolled": true
   },
   "outputs": [],
   "source": [
    "x['panss-1-td'] = x.apply(lambda row: merge_cols(row, 'panss-td--', 'panss TD', lambda x, y: x), axis=1)\n",
    "x.drop(columns=['panss-td--', 'panss TD'], inplace=True)"
   ]
  },
  {
   "cell_type": "code",
   "execution_count": 206,
   "id": "8f94be8d",
   "metadata": {
    "scrolled": true
   },
   "outputs": [],
   "source": [
    "x.loc['PD-109', 'panss-total--'] = 68.0\n",
    "x.loc['PD-109', 'panss-o-total--'] = 31.0\n",
    "x.loc['PD-110', 'panss-total--'] = 93.0\n",
    "x['panss-1-total'] = x.apply(lambda row: merge_cols(row, 'panss 1 sum', 'panss-total--', lambda x, y: x), axis=1)\n",
    "x.drop(columns=['panss-total--', 'panss 1 sum'], inplace=True)"
   ]
  },
  {
   "cell_type": "code",
   "execution_count": 207,
   "id": "04d4b6df",
   "metadata": {
    "scrolled": true
   },
   "outputs": [],
   "source": [
    "x['panss-o-1-total'] = x.apply(lambda row: merge_cols(row, 'panss o sum', 'panss-o-total--', lambda x, y: x), axis=1)\n",
    "x.drop(columns=['panss-o-total--', 'panss o sum'], inplace=True)"
   ]
  },
  {
   "cell_type": "code",
   "execution_count": 208,
   "id": "341477c7",
   "metadata": {
    "scrolled": true
   },
   "outputs": [],
   "source": [
    "x['panss-p-1-total'] = x.apply(lambda row: merge_cols(row, 'panss p sum', 'panss-p-total--', lambda x, y: x), axis=1)\n",
    "x.drop(columns=['panss-p-total--', 'panss p sum'], inplace=True)"
   ]
  },
  {
   "cell_type": "code",
   "execution_count": 209,
   "id": "fe5f5bb4",
   "metadata": {
    "scrolled": true
   },
   "outputs": [],
   "source": [
    "x['panss-n-1-total'] = x.apply(lambda row: merge_cols(row, 'panss n sum', 'panss-n-total--', lambda x, y: x), axis=1)\n",
    "x.drop(columns=['panss-n-total--', 'panss n sum'], inplace=True)"
   ]
  },
  {
   "cell_type": "code",
   "execution_count": 210,
   "id": "b7c174ea",
   "metadata": {
    "scrolled": true
   },
   "outputs": [],
   "source": [
    "x['panss-1-td'] = x.apply(lambda row: merge_cols(row, 'panss-1-td', 'PANSS-FTD', lambda x, y: x), axis=1)\n",
    "x.drop(columns=['PANSS-FTD'], inplace=True)"
   ]
  },
  {
   "cell_type": "code",
   "execution_count": 211,
   "id": "b8ee01fc",
   "metadata": {
    "scrolled": true
   },
   "outputs": [],
   "source": [
    "x.rename(columns = {'DEP.SEVERITY(0-3)':'dep.severity', 'SOPS Pos Total':'sops-p-total',\n",
    "                       'SOPS Neg Total': 'sops-n-total', 'SOPS Des Total': 'sops-d-total',\n",
    "                        'SOPS Com Total': 'sops-c-total', 'TD': 'td.severity', 'SAPS-FTD': 'saps-td',\n",
    "                       'HDRS': 'hdrs-1-total', 'ds': 'diagnosis_rus', 'Condition-at-discharge':\n",
    "                       'condition-at-discharge'}, inplace=True)"
   ]
  },
  {
   "cell_type": "code",
   "execution_count": 212,
   "id": "aa666c41",
   "metadata": {
    "scrolled": true
   },
   "outputs": [],
   "source": [
    "x['hdrs-1-total']= x.apply(lambda row: merge_cols(row, 'hdrs-total-', 'hdrs-1-total', lambda x, y: x), axis=1)\n",
    "x.drop(columns=['hdrs-total-'], inplace=True)"
   ]
  },
  {
   "cell_type": "code",
   "execution_count": 213,
   "id": "754706ad",
   "metadata": {
    "scrolled": true
   },
   "outputs": [
    {
     "data": {
      "text/plain": [
       "ID\n",
       "PD-108    36.0\n",
       "PD-116    20.0\n",
       "Name: hdrs-1-total, dtype: float64"
      ]
     },
     "execution_count": 213,
     "metadata": {},
     "output_type": "execute_result"
    }
   ],
   "source": [
    "x[x['dep.severity'] == 3]['hdrs-1-total']"
   ]
  },
  {
   "cell_type": "code",
   "execution_count": 214,
   "id": "506747fc",
   "metadata": {
    "scrolled": true
   },
   "outputs": [
    {
     "data": {
      "text/html": [
       "<div>\n",
       "<style scoped>\n",
       "    .dataframe tbody tr th:only-of-type {\n",
       "        vertical-align: middle;\n",
       "    }\n",
       "\n",
       "    .dataframe tbody tr th {\n",
       "        vertical-align: top;\n",
       "    }\n",
       "\n",
       "    .dataframe thead th {\n",
       "        text-align: right;\n",
       "    }\n",
       "</style>\n",
       "<table border=\"1\" class=\"dataframe\">\n",
       "  <thead>\n",
       "    <tr style=\"text-align: right;\">\n",
       "      <th></th>\n",
       "      <th>dep.severity</th>\n",
       "      <th>hdrs-1-total</th>\n",
       "    </tr>\n",
       "    <tr>\n",
       "      <th>ID</th>\n",
       "      <th></th>\n",
       "      <th></th>\n",
       "    </tr>\n",
       "  </thead>\n",
       "  <tbody>\n",
       "    <tr>\n",
       "      <th>PD-108</th>\n",
       "      <td>3.0</td>\n",
       "      <td>36.0</td>\n",
       "    </tr>\n",
       "    <tr>\n",
       "      <th>PD-116</th>\n",
       "      <td>3.0</td>\n",
       "      <td>20.0</td>\n",
       "    </tr>\n",
       "  </tbody>\n",
       "</table>\n",
       "</div>"
      ],
      "text/plain": [
       "        dep.severity  hdrs-1-total\n",
       "ID                                \n",
       "PD-108           3.0          36.0\n",
       "PD-116           3.0          20.0"
      ]
     },
     "execution_count": 214,
     "metadata": {},
     "output_type": "execute_result"
    }
   ],
   "source": [
    "x[x['hdrs-1-total'] >= 20][['dep.severity', 'hdrs-1-total']]"
   ]
  },
  {
   "cell_type": "code",
   "execution_count": 215,
   "id": "c529db73",
   "metadata": {
    "scrolled": true
   },
   "outputs": [],
   "source": [
    "x.loc['PD-116', 'dep.severity'] = 3.0  # mistake in newer dataset\n",
    "x['dep.severity'] = x.apply(lambda row: merge_cols(row, 'dep.severity', 'dep.severity-', lambda x, y: x), axis=1)\n",
    "x.drop(columns=['dep.severity-'], inplace=True)"
   ]
  },
  {
   "cell_type": "markdown",
   "id": "75e7234c",
   "metadata": {},
   "source": [
    "### merge to PD participant data"
   ]
  },
  {
   "cell_type": "code",
   "execution_count": 216,
   "id": "9d82ca1f",
   "metadata": {
    "scrolled": true
   },
   "outputs": [],
   "source": [
    "x = pd.merge(x, dataframes['PD_participant_data'].set_index('ID'), on='ID', how='outer')"
   ]
  },
  {
   "cell_type": "code",
   "execution_count": 217,
   "id": "e9ae644d",
   "metadata": {
    "scrolled": true
   },
   "outputs": [],
   "source": [
    "x['age'] = x.apply(lambda row: merge_cols(row, 'age_x', 'age_y', lambda x, y: x), axis=1)\n",
    "x.drop(columns=['age_x', 'age_y'], inplace=True)"
   ]
  },
  {
   "cell_type": "code",
   "execution_count": 218,
   "id": "3caa04d4",
   "metadata": {
    "scrolled": true
   },
   "outputs": [],
   "source": [
    "x.rename(columns={'diagnosis_x': 'diagnosis_code', 'diagnosis_y': 'diagnosis_eng',\n",
    "                 '2.depression.symptoms': 'dep.severity-2',\n",
    "                 '2.thought.disorder.symptoms': 'td.severity-2'}, inplace=True)"
   ]
  },
  {
   "cell_type": "code",
   "execution_count": 219,
   "id": "b9ce004d",
   "metadata": {
    "scrolled": true
   },
   "outputs": [],
   "source": [
    "x.loc['PD-116', 'depression.symptoms'] = 3.0  # mistake in newer dataset\n",
    "x['dep.severity'] = x[['depression.symptoms', 'dep.severity']].apply(lambda row: merge_cols(row, 'depression.symptoms', 'dep.severity', lambda x, y: x), axis=1)\n",
    "x.drop(columns=['depression.symptoms'], inplace=True)"
   ]
  },
  {
   "cell_type": "code",
   "execution_count": 220,
   "id": "f3f45ac8",
   "metadata": {},
   "outputs": [
    {
     "data": {
      "text/plain": [
       "0.0"
      ]
     },
     "execution_count": 220,
     "metadata": {},
     "output_type": "execute_result"
    }
   ],
   "source": [
    "x.loc['PD-126', 'dep.severity']"
   ]
  },
  {
   "cell_type": "code",
   "execution_count": 221,
   "id": "5a7cdc25",
   "metadata": {
    "scrolled": true
   },
   "outputs": [
    {
     "data": {
      "text/plain": [
       "ID\n",
       "PN-001    0.0\n",
       "PN-002    0.0\n",
       "PN-003    0.0\n",
       "PN-004    0.0\n",
       "PN-005    0.0\n",
       "         ... \n",
       "PN-319    0.0\n",
       "PN-320    0.0\n",
       "PN-321    0.0\n",
       "PN-322    0.0\n",
       "PN-324    0.0\n",
       "Name: thought.disorder.symptoms, Length: 353, dtype: float64"
      ]
     },
     "execution_count": 221,
     "metadata": {},
     "output_type": "execute_result"
    }
   ],
   "source": [
    "x['thought.disorder.symptoms'].dropna()"
   ]
  },
  {
   "cell_type": "code",
   "execution_count": 222,
   "id": "ba6ef315",
   "metadata": {
    "scrolled": true
   },
   "outputs": [
    {
     "data": {
      "text/html": [
       "<div>\n",
       "<style scoped>\n",
       "    .dataframe tbody tr th:only-of-type {\n",
       "        vertical-align: middle;\n",
       "    }\n",
       "\n",
       "    .dataframe tbody tr th {\n",
       "        vertical-align: top;\n",
       "    }\n",
       "\n",
       "    .dataframe thead th {\n",
       "        text-align: right;\n",
       "    }\n",
       "</style>\n",
       "<table border=\"1\" class=\"dataframe\">\n",
       "  <thead>\n",
       "    <tr style=\"text-align: right;\">\n",
       "      <th></th>\n",
       "      <th>thought.disorder.symptoms</th>\n",
       "      <th>td.severity</th>\n",
       "      <th>panss-1-td</th>\n",
       "      <th>saps-td</th>\n",
       "    </tr>\n",
       "    <tr>\n",
       "      <th>ID</th>\n",
       "      <th></th>\n",
       "      <th></th>\n",
       "      <th></th>\n",
       "      <th></th>\n",
       "    </tr>\n",
       "  </thead>\n",
       "  <tbody>\n",
       "    <tr>\n",
       "      <th>PD-050</th>\n",
       "      <td>1.0</td>\n",
       "      <td>2.0</td>\n",
       "      <td>NaN</td>\n",
       "      <td>21.0</td>\n",
       "    </tr>\n",
       "    <tr>\n",
       "      <th>PD-092</th>\n",
       "      <td>1.0</td>\n",
       "      <td>1.0</td>\n",
       "      <td>NaN</td>\n",
       "      <td>16.0</td>\n",
       "    </tr>\n",
       "    <tr>\n",
       "      <th>PD-095</th>\n",
       "      <td>1.0</td>\n",
       "      <td>1.0</td>\n",
       "      <td>NaN</td>\n",
       "      <td>17.0</td>\n",
       "    </tr>\n",
       "    <tr>\n",
       "      <th>PD-093</th>\n",
       "      <td>1.0</td>\n",
       "      <td>1.0</td>\n",
       "      <td>NaN</td>\n",
       "      <td>15.0</td>\n",
       "    </tr>\n",
       "  </tbody>\n",
       "</table>\n",
       "</div>"
      ],
      "text/plain": [
       "        thought.disorder.symptoms  td.severity  panss-1-td  saps-td\n",
       "ID                                                                 \n",
       "PD-050                        1.0          2.0         NaN     21.0\n",
       "PD-092                        1.0          1.0         NaN     16.0\n",
       "PD-095                        1.0          1.0         NaN     17.0\n",
       "PD-093                        1.0          1.0         NaN     15.0"
      ]
     },
     "execution_count": 222,
     "metadata": {},
     "output_type": "execute_result"
    }
   ],
   "source": [
    "x[x['saps-td']>=15][['thought.disorder.symptoms', 'td.severity', 'panss-1-td', 'saps-td']]"
   ]
  },
  {
   "cell_type": "code",
   "execution_count": 223,
   "id": "2e001bd4",
   "metadata": {
    "scrolled": true
   },
   "outputs": [
    {
     "data": {
      "text/html": [
       "<div>\n",
       "<style scoped>\n",
       "    .dataframe tbody tr th:only-of-type {\n",
       "        vertical-align: middle;\n",
       "    }\n",
       "\n",
       "    .dataframe tbody tr th {\n",
       "        vertical-align: top;\n",
       "    }\n",
       "\n",
       "    .dataframe thead th {\n",
       "        text-align: right;\n",
       "    }\n",
       "</style>\n",
       "<table border=\"1\" class=\"dataframe\">\n",
       "  <thead>\n",
       "    <tr style=\"text-align: right;\">\n",
       "      <th></th>\n",
       "      <th>thought.disorder.symptoms</th>\n",
       "      <th>td.severity</th>\n",
       "      <th>panss-1-td</th>\n",
       "      <th>saps-td</th>\n",
       "    </tr>\n",
       "    <tr>\n",
       "      <th>ID</th>\n",
       "      <th></th>\n",
       "      <th></th>\n",
       "      <th></th>\n",
       "      <th></th>\n",
       "    </tr>\n",
       "  </thead>\n",
       "  <tbody>\n",
       "    <tr>\n",
       "      <th>PD-105</th>\n",
       "      <td>2.0</td>\n",
       "      <td>2.0</td>\n",
       "      <td>15.0</td>\n",
       "      <td>NaN</td>\n",
       "    </tr>\n",
       "    <tr>\n",
       "      <th>PD-116</th>\n",
       "      <td>3.0</td>\n",
       "      <td>2.0</td>\n",
       "      <td>15.0</td>\n",
       "      <td>NaN</td>\n",
       "    </tr>\n",
       "    <tr>\n",
       "      <th>PD-119</th>\n",
       "      <td>2.0</td>\n",
       "      <td>2.0</td>\n",
       "      <td>19.0</td>\n",
       "      <td>NaN</td>\n",
       "    </tr>\n",
       "    <tr>\n",
       "      <th>PD-126</th>\n",
       "      <td>2.0</td>\n",
       "      <td>2.0</td>\n",
       "      <td>15.0</td>\n",
       "      <td>NaN</td>\n",
       "    </tr>\n",
       "    <tr>\n",
       "      <th>PD-050</th>\n",
       "      <td>1.0</td>\n",
       "      <td>2.0</td>\n",
       "      <td>NaN</td>\n",
       "      <td>21.0</td>\n",
       "    </tr>\n",
       "  </tbody>\n",
       "</table>\n",
       "</div>"
      ],
      "text/plain": [
       "        thought.disorder.symptoms  td.severity  panss-1-td  saps-td\n",
       "ID                                                                 \n",
       "PD-105                        2.0          2.0        15.0      NaN\n",
       "PD-116                        3.0          2.0        15.0      NaN\n",
       "PD-119                        2.0          2.0        19.0      NaN\n",
       "PD-126                        2.0          2.0        15.0      NaN\n",
       "PD-050                        1.0          2.0         NaN     21.0"
      ]
     },
     "execution_count": 223,
     "metadata": {},
     "output_type": "execute_result"
    }
   ],
   "source": [
    "x[x['td.severity']>=2][['thought.disorder.symptoms', 'td.severity', 'panss-1-td', 'saps-td']]"
   ]
  },
  {
   "cell_type": "code",
   "execution_count": 224,
   "id": "aab55a53",
   "metadata": {
    "scrolled": true
   },
   "outputs": [
    {
     "data": {
      "text/html": [
       "<div>\n",
       "<style scoped>\n",
       "    .dataframe tbody tr th:only-of-type {\n",
       "        vertical-align: middle;\n",
       "    }\n",
       "\n",
       "    .dataframe tbody tr th {\n",
       "        vertical-align: top;\n",
       "    }\n",
       "\n",
       "    .dataframe thead th {\n",
       "        text-align: right;\n",
       "    }\n",
       "</style>\n",
       "<table border=\"1\" class=\"dataframe\">\n",
       "  <thead>\n",
       "    <tr style=\"text-align: right;\">\n",
       "      <th></th>\n",
       "      <th>thought.disorder.symptoms</th>\n",
       "      <th>td.severity</th>\n",
       "      <th>panss-1-td</th>\n",
       "      <th>saps-td</th>\n",
       "    </tr>\n",
       "    <tr>\n",
       "      <th>ID</th>\n",
       "      <th></th>\n",
       "      <th></th>\n",
       "      <th></th>\n",
       "      <th></th>\n",
       "    </tr>\n",
       "  </thead>\n",
       "  <tbody>\n",
       "    <tr>\n",
       "      <th>PD-105</th>\n",
       "      <td>2.0</td>\n",
       "      <td>2.0</td>\n",
       "      <td>15.0</td>\n",
       "      <td>NaN</td>\n",
       "    </tr>\n",
       "    <tr>\n",
       "      <th>PD-116</th>\n",
       "      <td>3.0</td>\n",
       "      <td>2.0</td>\n",
       "      <td>15.0</td>\n",
       "      <td>NaN</td>\n",
       "    </tr>\n",
       "    <tr>\n",
       "      <th>PD-119</th>\n",
       "      <td>2.0</td>\n",
       "      <td>2.0</td>\n",
       "      <td>19.0</td>\n",
       "      <td>NaN</td>\n",
       "    </tr>\n",
       "    <tr>\n",
       "      <th>PD-126</th>\n",
       "      <td>2.0</td>\n",
       "      <td>2.0</td>\n",
       "      <td>15.0</td>\n",
       "      <td>NaN</td>\n",
       "    </tr>\n",
       "    <tr>\n",
       "      <th>PD-050</th>\n",
       "      <td>1.0</td>\n",
       "      <td>2.0</td>\n",
       "      <td>NaN</td>\n",
       "      <td>21.0</td>\n",
       "    </tr>\n",
       "  </tbody>\n",
       "</table>\n",
       "</div>"
      ],
      "text/plain": [
       "        thought.disorder.symptoms  td.severity  panss-1-td  saps-td\n",
       "ID                                                                 \n",
       "PD-105                        2.0          2.0        15.0      NaN\n",
       "PD-116                        3.0          2.0        15.0      NaN\n",
       "PD-119                        2.0          2.0        19.0      NaN\n",
       "PD-126                        2.0          2.0        15.0      NaN\n",
       "PD-050                        1.0          2.0         NaN     21.0"
      ]
     },
     "execution_count": 224,
     "metadata": {},
     "output_type": "execute_result"
    }
   ],
   "source": [
    "x[x['td.severity']>=2][['thought.disorder.symptoms', 'td.severity', 'panss-1-td', 'saps-td']]"
   ]
  },
  {
   "cell_type": "code",
   "execution_count": 225,
   "id": "fee37270",
   "metadata": {
    "scrolled": true
   },
   "outputs": [
    {
     "name": "stdout",
     "output_type": "stream",
     "text": [
      "group.code                                        NaN\n",
      "diagnosis_rus                                     NaN\n",
      "edulevel                                          NaN\n",
      "socstat1                                          NaN\n",
      "socstat2                                          NaN\n",
      "age-onset                                         NaN\n",
      "GAF1                                              NaN\n",
      "condition-at-discharge                            NaN\n",
      "CPE1                                              NaN\n",
      "exacerbation                                      NaN\n",
      "rehospitalization                                 NaN\n",
      "GAF2                                              NaN\n",
      "CPE2                                              NaN\n",
      "group_x                                            sz\n",
      "diagnosis.rus                                     NaN\n",
      "dep.severity                                      3.0\n",
      "hdrs-1-total                                     20.0\n",
      "td.severity                                       2.0\n",
      "saps-td                                           NaN\n",
      "sops-p-total                                      NaN\n",
      "sops-n-total                                      NaN\n",
      "sops-d-total                                      NaN\n",
      "sops-c-total                                      NaN\n",
      "oldID                                             S16\n",
      "diagnosis_code                                    F25\n",
      "sex_x                                               f\n",
      "educ.years                                       12.0\n",
      "panss-1-td                                       15.0\n",
      "panss-1-total                                    83.0\n",
      "panss-o-1-total                                  44.0\n",
      "panss-p-1-total                                  18.0\n",
      "panss-n-1-total                                  21.0\n",
      "longitudinal                                      NaN\n",
      "group_y                                       patient\n",
      "diagnosis_eng                schizoaffective.disorder\n",
      "sex_y                                          female\n",
      "education.level                     higher.unfinished\n",
      "education.years                                  12.0\n",
      "dep.scale                                        HDRS\n",
      "thought.disorder.symptoms                         3.0\n",
      "td.scales                                       PANSS\n",
      "dep.severity-2                                    NaN\n",
      "td.severity-2                                     NaN\n",
      "age                                              19.0\n",
      "Name: PD-116, dtype: object\n",
      "group.code                                    2.0\n",
      "diagnosis_rus                      Шизотипическое\n",
      "edulevel                                      3.0\n",
      "socstat1                                      1.0\n",
      "socstat2                                      NaN\n",
      "age-onset                                    12.0\n",
      "GAF1                                         30.0\n",
      "condition-at-discharge                        1.0\n",
      "CPE1                                          0.0\n",
      "exacerbation                                  NaN\n",
      "rehospitalization                             0.0\n",
      "GAF2                                          NaN\n",
      "CPE2                                          NaN\n",
      "group_x                                       NaN\n",
      "diagnosis.rus                      Шизотипическое\n",
      "dep.severity                                  1.0\n",
      "hdrs-1-total                                 16.0\n",
      "td.severity                                   2.0\n",
      "saps-td                                      21.0\n",
      "sops-p-total                                  NaN\n",
      "sops-n-total                                  NaN\n",
      "sops-d-total                                  NaN\n",
      "sops-c-total                                  NaN\n",
      "oldID                                        PD50\n",
      "diagnosis_code                                F21\n",
      "sex_x                                           f\n",
      "educ.years                                   13.0\n",
      "panss-1-td                                    NaN\n",
      "panss-1-total                                 NaN\n",
      "panss-o-1-total                               NaN\n",
      "panss-p-1-total                               NaN\n",
      "panss-n-1-total                               NaN\n",
      "longitudinal                                  NaN\n",
      "group_y                                   patient\n",
      "diagnosis_eng                schizotypal.disorder\n",
      "sex_y                                      female\n",
      "education.level                 higher.unfinished\n",
      "education.years                              13.0\n",
      "dep.scale                                    HDRS\n",
      "thought.disorder.symptoms                     1.0\n",
      "td.scales                                    SAPS\n",
      "dep.severity-2                                NaN\n",
      "td.severity-2                                 NaN\n",
      "age                                          18.0\n",
      "Name: PD-050, dtype: object\n",
      "group.code                                        3.0\n",
      "diagnosis_rus                                     ШАР\n",
      "edulevel                                          4.0\n",
      "socstat1                                          0.0\n",
      "socstat2                                          2.0\n",
      "age-onset                                        22.0\n",
      "GAF1                                             21.0\n",
      "condition-at-discharge                            2.0\n",
      "CPE1                                            450.0\n",
      "exacerbation                                      1.0\n",
      "rehospitalization                                 0.0\n",
      "GAF2                                             76.0\n",
      "CPE2                                              NaN\n",
      "group_x                                           NaN\n",
      "diagnosis.rus                                     ШАР\n",
      "dep.severity                                      0.0\n",
      "hdrs-1-total                                      4.0\n",
      "td.severity                                       0.0\n",
      "saps-td                                           6.0\n",
      "sops-p-total                                      NaN\n",
      "sops-n-total                                      NaN\n",
      "sops-d-total                                      NaN\n",
      "sops-c-total                                      NaN\n",
      "oldID                                            PD98\n",
      "diagnosis_code                                    NaN\n",
      "sex_x                                             NaN\n",
      "educ.years                                       15.0\n",
      "panss-1-td                                        NaN\n",
      "panss-1-total                                     NaN\n",
      "panss-o-1-total                                   NaN\n",
      "panss-p-1-total                                   NaN\n",
      "panss-n-1-total                                   NaN\n",
      "longitudinal                                      NaN\n",
      "group_y                                       patient\n",
      "diagnosis_eng                schizoaffective.disorder\n",
      "sex_y                                          female\n",
      "education.level                                higher\n",
      "education.years                                  15.0\n",
      "dep.scale                                        HDRS\n",
      "thought.disorder.symptoms                         1.0\n",
      "td.scales                                        SAPS\n",
      "dep.severity-2                                    NaN\n",
      "td.severity-2                                     NaN\n",
      "age                                              28.0\n",
      "Name: PD-098, dtype: object\n"
     ]
    }
   ],
   "source": [
    "# x.loc['PD-116', 'thought.disorder.symptoms'] = 2.0  # mistake?\n",
    "# x.loc['PD-050', 'thought.disorder.symptoms'] = 2.0  # mistake?\n",
    "# x.loc['PD-098', 'thought.disorder.symptoms'] = 0.0  # mistake?\n",
    "x['td.severity'] = x.apply(lambda row: merge_cols(row, 'thought.disorder.symptoms', 'td.severity', lambda x, y: x), axis=1)\n",
    "x.drop(columns=['thought.disorder.symptoms'], inplace=True)"
   ]
  },
  {
   "cell_type": "code",
   "execution_count": 226,
   "id": "56dd5b8f",
   "metadata": {
    "scrolled": true
   },
   "outputs": [],
   "source": [
    "x.rename(columns={'edulevel': 'education.level.code', 'education.level': 'education.level.eng'}, inplace=True)"
   ]
  },
  {
   "cell_type": "code",
   "execution_count": 227,
   "id": "de96dbaf",
   "metadata": {
    "scrolled": true
   },
   "outputs": [],
   "source": [
    "x.loc['PD-148', 'education.years'] = 11.0  # mistake ????\n",
    "x['education.years'] = x.apply(lambda row: merge_cols(row, 'education.years', 'educ.years', lambda x, y: x), axis=1)\n",
    "x.drop(columns=['educ.years'], inplace=True)"
   ]
  },
  {
   "cell_type": "code",
   "execution_count": 228,
   "id": "c2d23090",
   "metadata": {
    "scrolled": true
   },
   "outputs": [],
   "source": [
    "x.rename(columns={'group_x': 'diagnosis.type', 'group_y': 'diagnosis.group'}, inplace=True)"
   ]
  },
  {
   "cell_type": "code",
   "execution_count": 229,
   "id": "7b2e1930",
   "metadata": {
    "scrolled": true
   },
   "outputs": [],
   "source": [
    "# rename f to female and m to male\n",
    "def sex(row):    \n",
    "    sex_x, sex_y = row['sex_x'], row['sex_y']\n",
    "    if pd.isnull(sex_x) and pd.isnull(sex_y):\n",
    "        return sex_x\n",
    "    elif not pd.isnull(sex_x) and pd.isnull(sex_y):\n",
    "        return 'female' if sex_x == 'f' else 'male'\n",
    "    elif pd.isnull(sex_x) and not pd.isnull(sex_y):\n",
    "        return sex_y\n",
    "    else:\n",
    "        if sex_x == sex_y:\n",
    "            return sex_y\n",
    "        else:\n",
    "            if sex_x == 'f' and sex_y == 'female':\n",
    "                return sex_y\n",
    "            elif sex_x == 'm' and sex_y == 'male':\n",
    "                return sex_y\n",
    "            else:\n",
    "                print(row)\n",
    "                return sex_y"
   ]
  },
  {
   "cell_type": "code",
   "execution_count": 230,
   "id": "544e1b92",
   "metadata": {
    "scrolled": true
   },
   "outputs": [],
   "source": [
    "x.loc['PN-023', 'sex_x'] = 'f'  # mistake\n",
    "x['sex'] = x[['sex_x', 'sex_y']].apply(sex, axis=1)\n",
    "x.drop(columns=['sex_x', 'sex_y'], inplace=True)"
   ]
  },
  {
   "cell_type": "markdown",
   "id": "63cdb405",
   "metadata": {},
   "source": [
    "### merge to single-scale totals"
   ]
  },
  {
   "cell_type": "code",
   "execution_count": 231,
   "id": "efd7d4bb",
   "metadata": {
    "scrolled": true
   },
   "outputs": [],
   "source": [
    "x = pd.merge(x, dataframes['sans-1-total'].set_index('ID'), on='ID', how='outer')"
   ]
  },
  {
   "cell_type": "code",
   "execution_count": 232,
   "id": "1fe37bd7",
   "metadata": {
    "scrolled": true
   },
   "outputs": [],
   "source": [
    "x = pd.merge(x, dataframes['sans-2-total'].set_index('ID'), on='ID', how='outer')"
   ]
  },
  {
   "cell_type": "code",
   "execution_count": 233,
   "id": "bf79a8df",
   "metadata": {
    "scrolled": true
   },
   "outputs": [],
   "source": [
    "x = pd.merge(x, dataframes['hdrs-0-total'].set_index('ID'), on='ID', how='outer')"
   ]
  },
  {
   "cell_type": "code",
   "execution_count": 234,
   "id": "44c0da31",
   "metadata": {
    "scrolled": true
   },
   "outputs": [],
   "source": [
    "x = pd.merge(x, dataframes['hdrs-total'].set_index('ID'), on='ID', how='outer')"
   ]
  },
  {
   "cell_type": "code",
   "execution_count": 235,
   "id": "cf14a67f",
   "metadata": {
    "scrolled": true
   },
   "outputs": [],
   "source": [
    "x['HDRS-17.score'] = x.apply(lambda row: merge_cols(row, 'hdrs-1-total', 'HDRS-17.score', lambda x, y: x), axis=1)\n",
    "x.drop(columns=['hdrs-1-total'], inplace=True)"
   ]
  },
  {
   "cell_type": "code",
   "execution_count": 236,
   "id": "5d77522f",
   "metadata": {
    "scrolled": true
   },
   "outputs": [],
   "source": [
    "x = pd.merge(x, dataframes['hdrs-1-total'].set_index('ID'), on='ID', how='outer')"
   ]
  },
  {
   "cell_type": "code",
   "execution_count": 237,
   "id": "582f6767",
   "metadata": {
    "scrolled": true
   },
   "outputs": [],
   "source": [
    "x = pd.merge(x, dataframes['hdrs-2-total'].set_index('ID'), on='ID', how='outer')"
   ]
  },
  {
   "cell_type": "code",
   "execution_count": 238,
   "id": "a910a4c1",
   "metadata": {
    "scrolled": true
   },
   "outputs": [],
   "source": [
    "x.drop(columns=['hdrs-0-total',\n",
    " 'hdrs-1-total',\n",
    " 'hdrs-2-total',\n",
    " 'hdrs-total-dep.severity-1',\n",
    " 'hdrs-total-dep.severity-2',], inplace=True)"
   ]
  },
  {
   "cell_type": "code",
   "execution_count": 239,
   "id": "55aea2f1",
   "metadata": {
    "scrolled": true
   },
   "outputs": [],
   "source": [
    "x.loc['PD-116', 'dep.severity_y'] = 3.0  # mistake in newer dataset\n",
    "x['dep.severity-total'] = x.apply(lambda row: merge_cols(row, 'dep.severity_x', 'dep.severity_y', lambda x, y: x), axis=1)\n",
    "x.drop(columns=['dep.severity_x', 'dep.severity_y'], inplace=True)"
   ]
  },
  {
   "cell_type": "markdown",
   "id": "21e19b13",
   "metadata": {},
   "source": [
    "#### look for differences in HDRS-17 at different timepoints"
   ]
  },
  {
   "cell_type": "code",
   "execution_count": 240,
   "id": "e6fedf67",
   "metadata": {
    "scrolled": true
   },
   "outputs": [],
   "source": [
    "compare_hdrs = x[['HDRS-17.score', 'HDRS-17.score-0', 'HDRS-17.score-1', 'HDRS-17.score-2',]]"
   ]
  },
  {
   "cell_type": "code",
   "execution_count": 241,
   "id": "c7185a64",
   "metadata": {
    "scrolled": true
   },
   "outputs": [],
   "source": [
    "def compare_cols(row, colname_1, colname_2):\n",
    "    col_1, col_2 = row[colname_1], row[colname_2]\n",
    "    if pd.isnull(col_1) and pd.isnull(col_2):\n",
    "        return True\n",
    "    elif not pd.isnull(col_1) and pd.isnull(col_2):\n",
    "        return True\n",
    "    elif pd.isnull(col_1) and not pd.isnull(col_2):\n",
    "        return True\n",
    "    else:\n",
    "        if col_1 == col_2:\n",
    "            return True\n",
    "        else:\n",
    "            return False"
   ]
  },
  {
   "cell_type": "code",
   "execution_count": 242,
   "id": "68456481",
   "metadata": {
    "scrolled": false
   },
   "outputs": [
    {
     "name": "stderr",
     "output_type": "stream",
     "text": [
      "/var/folders/1l/2khv4cgj7xs0zrm9hnl_yrzh0000gn/T/ipykernel_65347/1498707070.py:1: SettingWithCopyWarning: \n",
      "A value is trying to be set on a copy of a slice from a DataFrame.\n",
      "Try using .loc[row_indexer,col_indexer] = value instead\n",
      "\n",
      "See the caveats in the documentation: https://pandas.pydata.org/pandas-docs/stable/user_guide/indexing.html#returning-a-view-versus-a-copy\n",
      "  compare_hdrs['comp-0'] = compare_hdrs.apply(lambda row: compare_cols(row, 'HDRS-17.score', 'HDRS-17.score-0'), axis=1)\n",
      "/var/folders/1l/2khv4cgj7xs0zrm9hnl_yrzh0000gn/T/ipykernel_65347/1498707070.py:2: SettingWithCopyWarning: \n",
      "A value is trying to be set on a copy of a slice from a DataFrame.\n",
      "Try using .loc[row_indexer,col_indexer] = value instead\n",
      "\n",
      "See the caveats in the documentation: https://pandas.pydata.org/pandas-docs/stable/user_guide/indexing.html#returning-a-view-versus-a-copy\n",
      "  compare_hdrs['comp-1'] = compare_hdrs.apply(lambda row: compare_cols(row, 'HDRS-17.score', 'HDRS-17.score-1'), axis=1)\n",
      "/var/folders/1l/2khv4cgj7xs0zrm9hnl_yrzh0000gn/T/ipykernel_65347/1498707070.py:3: SettingWithCopyWarning: \n",
      "A value is trying to be set on a copy of a slice from a DataFrame.\n",
      "Try using .loc[row_indexer,col_indexer] = value instead\n",
      "\n",
      "See the caveats in the documentation: https://pandas.pydata.org/pandas-docs/stable/user_guide/indexing.html#returning-a-view-versus-a-copy\n",
      "  compare_hdrs['comp-2'] = compare_hdrs.apply(lambda row: compare_cols(row, 'HDRS-17.score', 'HDRS-17.score-2'), axis=1)\n"
     ]
    }
   ],
   "source": [
    "compare_hdrs['comp-0'] = compare_hdrs.apply(lambda row: compare_cols(row, 'HDRS-17.score', 'HDRS-17.score-0'), axis=1)\n",
    "compare_hdrs['comp-1'] = compare_hdrs.apply(lambda row: compare_cols(row, 'HDRS-17.score', 'HDRS-17.score-1'), axis=1)\n",
    "compare_hdrs['comp-2'] = compare_hdrs.apply(lambda row: compare_cols(row, 'HDRS-17.score', 'HDRS-17.score-2'), axis=1)"
   ]
  },
  {
   "cell_type": "code",
   "execution_count": 243,
   "id": "03c08f3e",
   "metadata": {
    "scrolled": true
   },
   "outputs": [
    {
     "data": {
      "text/plain": [
       "True     422\n",
       "False    114\n",
       "Name: comp-0, dtype: int64"
      ]
     },
     "execution_count": 243,
     "metadata": {},
     "output_type": "execute_result"
    }
   ],
   "source": [
    "compare_hdrs['comp-0'].value_counts()"
   ]
  },
  {
   "cell_type": "code",
   "execution_count": 244,
   "id": "a3af85d5",
   "metadata": {
    "scrolled": true
   },
   "outputs": [
    {
     "data": {
      "text/plain": [
       "True     427\n",
       "False    109\n",
       "Name: comp-1, dtype: int64"
      ]
     },
     "execution_count": 244,
     "metadata": {},
     "output_type": "execute_result"
    }
   ],
   "source": [
    "compare_hdrs['comp-1'].value_counts()"
   ]
  },
  {
   "cell_type": "code",
   "execution_count": 245,
   "id": "82e6daee",
   "metadata": {
    "scrolled": true
   },
   "outputs": [
    {
     "data": {
      "text/plain": [
       "True     475\n",
       "False     61\n",
       "Name: comp-2, dtype: int64"
      ]
     },
     "execution_count": 245,
     "metadata": {},
     "output_type": "execute_result"
    }
   ],
   "source": [
    "compare_hdrs['comp-2'].value_counts()"
   ]
  },
  {
   "cell_type": "code",
   "execution_count": 246,
   "id": "3fa3f26c",
   "metadata": {
    "scrolled": true
   },
   "outputs": [
    {
     "name": "stdout",
     "output_type": "stream",
     "text": [
      "ID\tHDRS-17.score\tHDRS-17.score-0\tHDRS-17.score-1\tHDRS-17.score-2\tcomp-0\tcomp-1\tcomp-2\n",
      "PN-003\t3.0\t\t0.0\t\tTrue\tFalse\tTrue\n",
      "PN-013\t1.0\t\t3.0\t\tTrue\tFalse\tTrue\n",
      "PD-002\t13.0\t35.0\t0.0\t\tFalse\tFalse\tTrue\n",
      "PD-004\t15.0\t21.0\t13.0\t10.0\tFalse\tFalse\tFalse\n",
      "PD-006\t5.0\t20.0\t15.0\t12.0\tFalse\tFalse\tFalse\n",
      "PD-016\t15.0\t28.0\t9.0\t14.0\tFalse\tFalse\tFalse\n",
      "PD-017\t5.0\t15.0\t2.0\t\tFalse\tFalse\tTrue\n",
      "PD-018\t10.0\t23.0\t15.0\t0.0\tFalse\tFalse\tFalse\n",
      "PD-020\t2.0\t16.0\t10.0\t\tFalse\tFalse\tTrue\n",
      "PD-021\t16.0\t17.0\t17.0\t2.0\tFalse\tFalse\tFalse\n",
      "PD-022\t5.0\t16.0\t2.0\t\tFalse\tFalse\tTrue\n",
      "PD-023\t10.0\t18.0\t16.0\t8.0\tFalse\tFalse\tFalse\n",
      "PD-024\t14.0\t19.0\t5.0\t\tFalse\tFalse\tTrue\n",
      "PD-025\t1.0\t19.0\t10.0\t0.0\tFalse\tFalse\tFalse\n",
      "PD-029\t5.0\t12.0\t9.0\t0.0\tFalse\tFalse\tFalse\n",
      "PD-031\t2.0\t25.0\t5.0\t2.0\tFalse\tFalse\tTrue\n",
      "PD-032\t6.0\t19.0\t4.0\t4.0\tFalse\tFalse\tFalse\n",
      "PD-033\t5.0\t16.0\t2.0\t14.0\tFalse\tFalse\tFalse\n",
      "PD-034\t3.0\t25.0\t6.0\t14.0\tFalse\tFalse\tFalse\n",
      "PD-035\t4.0\t17.0\t5.0\t3.0\tFalse\tFalse\tFalse\n",
      "PD-037\t2.0\t23.0\t4.0\t5.0\tFalse\tFalse\tFalse\n",
      "PD-042\t7.0\t16.0\t4.0\t8.0\tFalse\tFalse\tFalse\n",
      "PD-047\t4.0\t14.0\t3.0\t5.0\tFalse\tFalse\tFalse\n",
      "PD-049\t5.0\t25.0\t4.0\t2.0\tFalse\tFalse\tFalse\n",
      "PD-052\t2.0\t20.0\t16.0\t\tFalse\tFalse\tTrue\n",
      "PD-053\t16.0\t29.0\t6.0\t18.0\tFalse\tFalse\tFalse\n",
      "PD-054\t6.0\t18.0\t2.0\t\tFalse\tFalse\tTrue\n",
      "PD-055\t7.0\t15.0\t16.0\t4.0\tFalse\tFalse\tFalse\n",
      "PD-056\t15.0\t25.0\t6.0\t10.0\tFalse\tFalse\tFalse\n",
      "PD-056\t15.0\t25.0\t6.0\t10.0\tFalse\tFalse\tFalse\n",
      "PD-058\t8.0\t16.0\t15.0\t\tFalse\tFalse\tTrue\n",
      "PD-062\t5.0\t23.0\t12.0\t\tFalse\tFalse\tTrue\n",
      "PD-063\t3.0\t22.0\t10.0\t2.0\tFalse\tFalse\tFalse\n",
      "PD-064\t9.0\t19.0\t5.0\t4.0\tFalse\tFalse\tFalse\n",
      "PD-065\t7.0\t23.0\t3.0\t\tFalse\tFalse\tTrue\n",
      "PD-082\t6.0\t21.0\t5.0\t9.0\tFalse\tFalse\tFalse\n",
      "PD-086\t11.0\t23.0\t2.0\t\tFalse\tFalse\tTrue\n",
      "PD-087\t2.0\t25.0\t3.0\t15.0\tFalse\tFalse\tFalse\n",
      "PD-088\t7.0\t28.0\t11.0\t3.0\tFalse\tFalse\tFalse\n",
      "PD-089\t3.0\t23.0\t2.0\t\tFalse\tFalse\tTrue\n",
      "PD-091\t8.0\t15.0\t3.0\t\tFalse\tFalse\tTrue\n",
      "PD-094\t4.0\t18.0\t5.0\t2.0\tFalse\tFalse\tFalse\n",
      "PD-096\t3.0\t23.0\t4.0\t0.0\tFalse\tFalse\tFalse\n",
      "PD-099\t5.0\t18.0\t6.0\t\tFalse\tFalse\tTrue\n",
      "PD-138\t2.0\t17.0\t4.0\t\tFalse\tFalse\tTrue\n",
      "PD-142\t2.0\t13.0\t6.0\t\tFalse\tFalse\tTrue\n",
      "PD-001\t12.0\t24.0\t0.0\t\tFalse\tFalse\tTrue\n",
      "PD-003\t2.0\t16.0\t12.0\t2.0\tFalse\tFalse\tTrue\n",
      "PD-005\t4.0\t18.0\t2.0\t2.0\tFalse\tFalse\tFalse\n",
      "PD-008\t8.0\t24.0\t5.0\t18.0\tFalse\tFalse\tFalse\n",
      "PD-009\t7.0\t24.0\t4.0\t7.0\tFalse\tFalse\tTrue\n",
      "PD-010\t6.0\t21.0\t8.0\t\tFalse\tFalse\tTrue\n",
      "PD-011\t3.0\t24.0\t7.0\t4.0\tFalse\tFalse\tFalse\n",
      "PD-012\t2.0\t21.0\t6.0\t\tFalse\tFalse\tTrue\n",
      "PD-013\t9.0\t31.0\t3.0\t8.0\tFalse\tFalse\tFalse\n",
      "PD-014\t9.0\t16.0\t2.0\t\tFalse\tFalse\tTrue\n",
      "PD-015\t2.0\t11.0\t9.0\t6.0\tFalse\tFalse\tFalse\n",
      "PD-019\t17.0\t24.0\t5.0\t11.0\tFalse\tFalse\tFalse\n",
      "PD-019\t17.0\t24.0\t5.0\t11.0\tFalse\tFalse\tFalse\n",
      "PD-019\t17.0\t24.0\t5.0\t11.0\tFalse\tFalse\tFalse\n",
      "PD-019\t17.0\t24.0\t5.0\t11.0\tFalse\tFalse\tFalse\n",
      "PD-036\t15.0\t34.0\t3.0\t\tFalse\tFalse\tTrue\n",
      "PD-038\t6.0\t20.0\t15.0\t5.0\tFalse\tFalse\tFalse\n",
      "PD-040\t4.0\t17.0\t6.0\t4.0\tFalse\tFalse\tTrue\n",
      "PD-041\t9.0\t17.0\t15.0\t18.0\tFalse\tFalse\tFalse\n",
      "PD-043\t5.0\t26.0\t9.0\t6.0\tFalse\tFalse\tFalse\n",
      "PD-044\t4.0\t26.0\t7.0\t25.0\tFalse\tFalse\tFalse\n",
      "PD-045\t3.0\t22.0\t5.0\t6.0\tFalse\tFalse\tFalse\n",
      "PD-046\t5.0\t25.0\t4.0\t19.0\tFalse\tFalse\tFalse\n",
      "PD-050\t16.0\t35.0\t5.0\t\tFalse\tFalse\tTrue\n",
      "PD-051\t6.0\t26.0\t5.0\t19.0\tFalse\tFalse\tFalse\n",
      "PD-057\t15.0\t26.0\t7.0\t19.0\tFalse\tFalse\tFalse\n",
      "PD-059\t1.0\t18.0\t15.0\t14.0\tFalse\tFalse\tFalse\n",
      "PD-060\t12.0\t26.0\t8.0\t13.0\tFalse\tFalse\tFalse\n",
      "PD-061\t10.0\t23.0\t1.0\t15.0\tFalse\tFalse\tFalse\n",
      "PD-067\t6.0\t19.0\t7.0\t12.0\tFalse\tFalse\tFalse\n",
      "PD-068\t5.0\t24.0\t8.0\t\tFalse\tFalse\tTrue\n",
      "PD-069\t4.0\t19.0\t6.0\t13.0\tFalse\tFalse\tFalse\n",
      "PD-070\t2.0\t16.0\t5.0\t10.0\tFalse\tFalse\tFalse\n",
      "PD-071\t0.0\t18.0\t4.0\t0.0\tFalse\tFalse\tTrue\n",
      "PD-072\t10.0\t27.0\t2.0\t\tFalse\tFalse\tTrue\n",
      "PD-073\t8.0\t24.0\t0.0\t\tFalse\tFalse\tTrue\n",
      "PD-075\t4.0\t12.0\t8.0\t\tFalse\tFalse\tTrue\n",
      "PD-076\t4.0\t15.0\t6.0\t12.0\tFalse\tFalse\tFalse\n",
      "PD-080\t5.0\t19.0\t14.0\t11.0\tFalse\tFalse\tFalse\n",
      "PD-083\t3.0\t26.0\t5.0\t18.0\tFalse\tFalse\tFalse\n",
      "PD-084\t2.0\t19.0\t6.0\t\tFalse\tFalse\tTrue\n",
      "PD-090\t4.0\t19.0\t7.0\t\tFalse\tFalse\tTrue\n",
      "PD-092\t5.0\t13.0\t4.0\t\tFalse\tFalse\tTrue\n",
      "PD-095\t5.0\t20.0\t4.0\t\tFalse\tFalse\tTrue\n",
      "PD-097\t6.0\t20.0\t5.0\t10.0\tFalse\tFalse\tFalse\n",
      "PD-136\t4.0\t21.0\t5.0\t\tFalse\tFalse\tTrue\n",
      "PD-139\t6.0\t14.0\t8.0\t\tFalse\tFalse\tTrue\n",
      "PD-143\t2.0\t28.0\t14.0\t4.0\tFalse\tFalse\tFalse\n",
      "PD-144\t7.0\t13.0\t2.0\t\tFalse\tFalse\tTrue\n",
      "PD-026\t4.0\t15.0\t14.0\t\tFalse\tFalse\tTrue\n",
      "PD-027\t9.0\t28.0\t1.0\t\tFalse\tFalse\tTrue\n",
      "PD-039\t15.0\t19.0\t2.0\t2.0\tFalse\tFalse\tFalse\n",
      "PD-066\t8.0\t24.0\t9.0\t\tFalse\tFalse\tTrue\n",
      "PD-074\t6.0\t21.0\t10.0\t2.0\tFalse\tFalse\tFalse\n",
      "PD-078\t14.0\t22.0\t4.0\t\tFalse\tFalse\tTrue\n",
      "PD-081\t5.0\t22.0\t4.0\t\tFalse\tFalse\tTrue\n",
      "PD-093\t4.0\t14.0\t8.0\t\tFalse\tFalse\tTrue\n",
      "PD-098\t4.0\t15.0\t3.0\t\tFalse\tFalse\tTrue\n",
      "PD-135\t5.0\t25.0\t4.0\t\tFalse\tFalse\tTrue\n",
      "PD-137\t8.0\t22.0\t5.0\t\tFalse\tFalse\tTrue\n",
      "PD-140\t5.0\t16.0\t2.0\t\tFalse\tFalse\tTrue\n",
      "PD-141\t14.0\t25.0\t6.0\t\tFalse\tFalse\tTrue\n",
      "PD-145\t3.0\t24.0\t2.0\t\tFalse\tFalse\tTrue\n",
      "\n"
     ]
    }
   ],
   "source": [
    "print(compare_hdrs[~compare_hdrs['comp-1']].to_csv(sep='\\t'))"
   ]
  },
  {
   "cell_type": "code",
   "execution_count": 247,
   "id": "8e7d67bc",
   "metadata": {
    "scrolled": true
   },
   "outputs": [],
   "source": [
    "x.loc['PD-007', 'dep.severity-2_x'] = 1.0  # mistake\n",
    "x.loc['PD-033', 'dep.severity-2_x'] = 1.0  # mistake\n",
    "x.loc['PD-034', 'dep.severity-2_x'] = 1.0  # mistake\n",
    "x.loc['PD-087', 'dep.severity-2_x'] = 1.0  # mistake\n",
    "x.loc['PD-059', 'dep.severity-2_x'] = 1.0  # mistake\n",
    "x.loc['PD-061', 'dep.severity-2_x'] = 1.0  # mistake\n",
    "x.loc['PD-044', 'dep.severity-2_x'] = 4.0  # mistake\n",
    "x.loc['PD-046', 'dep.severity-2_y'] = 3.0  # mistake\n",
    "x.loc['PD-051', 'dep.severity-2_y'] = 3.0  # mistake\n",
    "x.loc['PD-057', 'dep.severity-2_y'] = 3.0  # mistake\n",
    "x['dep.severity-2'] = x[['dep.severity-2_x', 'dep.severity-2_y', 'HDRS-17.score-2']].apply(lambda row: merge_cols(row, 'dep.severity-2_x', 'dep.severity-2_y', lambda x, y: x), axis=1)\n",
    "x.drop(columns=['dep.severity-2_x', 'dep.severity-2_y'], inplace=True)"
   ]
  },
  {
   "cell_type": "code",
   "execution_count": 248,
   "id": "6a9bcab9",
   "metadata": {
    "scrolled": false
   },
   "outputs": [
    {
     "data": {
      "text/html": [
       "<div>\n",
       "<style scoped>\n",
       "    .dataframe tbody tr th:only-of-type {\n",
       "        vertical-align: middle;\n",
       "    }\n",
       "\n",
       "    .dataframe tbody tr th {\n",
       "        vertical-align: top;\n",
       "    }\n",
       "\n",
       "    .dataframe thead th {\n",
       "        text-align: right;\n",
       "    }\n",
       "</style>\n",
       "<table border=\"1\" class=\"dataframe\">\n",
       "  <thead>\n",
       "    <tr style=\"text-align: right;\">\n",
       "      <th></th>\n",
       "      <th>dep.severity-0</th>\n",
       "      <th>dep.severity-1</th>\n",
       "      <th>dep.severity-2</th>\n",
       "    </tr>\n",
       "    <tr>\n",
       "      <th>ID</th>\n",
       "      <th></th>\n",
       "      <th></th>\n",
       "      <th></th>\n",
       "    </tr>\n",
       "  </thead>\n",
       "  <tbody>\n",
       "    <tr>\n",
       "      <th>PD-002</th>\n",
       "      <td>4.0</td>\n",
       "      <td>0.0</td>\n",
       "      <td>NaN</td>\n",
       "    </tr>\n",
       "    <tr>\n",
       "      <th>PD-004</th>\n",
       "      <td>2.0</td>\n",
       "      <td>1.0</td>\n",
       "      <td>1.0</td>\n",
       "    </tr>\n",
       "    <tr>\n",
       "      <th>PD-006</th>\n",
       "      <td>2.0</td>\n",
       "      <td>1.0</td>\n",
       "      <td>1.0</td>\n",
       "    </tr>\n",
       "    <tr>\n",
       "      <th>PD-007</th>\n",
       "      <td>2.0</td>\n",
       "      <td>0.0</td>\n",
       "      <td>1.0</td>\n",
       "    </tr>\n",
       "    <tr>\n",
       "      <th>PD-016</th>\n",
       "      <td>4.0</td>\n",
       "      <td>1.0</td>\n",
       "      <td>1.0</td>\n",
       "    </tr>\n",
       "    <tr>\n",
       "      <th>...</th>\n",
       "      <td>...</td>\n",
       "      <td>...</td>\n",
       "      <td>...</td>\n",
       "    </tr>\n",
       "    <tr>\n",
       "      <th>PD-141</th>\n",
       "      <td>4.0</td>\n",
       "      <td>0.0</td>\n",
       "      <td>NaN</td>\n",
       "    </tr>\n",
       "    <tr>\n",
       "      <th>PD-145</th>\n",
       "      <td>4.0</td>\n",
       "      <td>0.0</td>\n",
       "      <td>NaN</td>\n",
       "    </tr>\n",
       "    <tr>\n",
       "      <th>PD-148</th>\n",
       "      <td>4.0</td>\n",
       "      <td>0.0</td>\n",
       "      <td>NaN</td>\n",
       "    </tr>\n",
       "    <tr>\n",
       "      <th>PD-150</th>\n",
       "      <td>1.0</td>\n",
       "      <td>1.0</td>\n",
       "      <td>NaN</td>\n",
       "    </tr>\n",
       "    <tr>\n",
       "      <th>PD-999</th>\n",
       "      <td>1.0</td>\n",
       "      <td>0.0</td>\n",
       "      <td>NaN</td>\n",
       "    </tr>\n",
       "  </tbody>\n",
       "</table>\n",
       "<p>119 rows × 3 columns</p>\n",
       "</div>"
      ],
      "text/plain": [
       "        dep.severity-0  dep.severity-1  dep.severity-2\n",
       "ID                                                    \n",
       "PD-002             4.0             0.0             NaN\n",
       "PD-004             2.0             1.0             1.0\n",
       "PD-006             2.0             1.0             1.0\n",
       "PD-007             2.0             0.0             1.0\n",
       "PD-016             4.0             1.0             1.0\n",
       "...                ...             ...             ...\n",
       "PD-141             4.0             0.0             NaN\n",
       "PD-145             4.0             0.0             NaN\n",
       "PD-148             4.0             0.0             NaN\n",
       "PD-150             1.0             1.0             NaN\n",
       "PD-999             1.0             0.0             NaN\n",
       "\n",
       "[119 rows x 3 columns]"
      ]
     },
     "execution_count": 248,
     "metadata": {},
     "output_type": "execute_result"
    }
   ],
   "source": [
    "x[['dep.severity-0',\n",
    " 'dep.severity-1',\n",
    " 'dep.severity-2']].dropna(thresh=2)"
   ]
  },
  {
   "cell_type": "code",
   "execution_count": 249,
   "id": "1032201b",
   "metadata": {
    "scrolled": true
   },
   "outputs": [],
   "source": [
    "# x[['HDRS-17.score', 'HDRS-17.score-1']].apply(lambda row: merge_cols(row, 'HDRS-17.score', 'HDRS-17.score-1', lambda x, y: x), axis=1)"
   ]
  },
  {
   "cell_type": "code",
   "execution_count": 250,
   "id": "75b120b2",
   "metadata": {},
   "outputs": [
    {
     "data": {
      "text/plain": [
       "0.0"
      ]
     },
     "execution_count": 250,
     "metadata": {},
     "output_type": "execute_result"
    }
   ],
   "source": [
    "x.loc['PD-126', 'dep.severity-total']"
   ]
  },
  {
   "cell_type": "code",
   "execution_count": null,
   "id": "4f54fcb0",
   "metadata": {},
   "outputs": [],
   "source": []
  },
  {
   "cell_type": "markdown",
   "id": "6a082bc0",
   "metadata": {},
   "source": [
    "### merge to PANSS"
   ]
  },
  {
   "cell_type": "code",
   "execution_count": 251,
   "id": "5e1939f9",
   "metadata": {
    "scrolled": true
   },
   "outputs": [],
   "source": [
    "x = pd.merge(x, dataframes['panss'].set_index('ID'), on='ID', how='outer')"
   ]
  },
  {
   "cell_type": "code",
   "execution_count": 252,
   "id": "335f2798",
   "metadata": {
    "scrolled": true
   },
   "outputs": [],
   "source": [
    "x['panss-o-1-total'] = x.apply(lambda row: merge_cols(row, 'PANSS O', 'panss-o-1-total', lambda x, y: x), axis=1)\n",
    "x.drop(columns=['PANSS O'], inplace=True)"
   ]
  },
  {
   "cell_type": "code",
   "execution_count": 253,
   "id": "e5b456bc",
   "metadata": {
    "scrolled": true
   },
   "outputs": [],
   "source": [
    "x['panss-p-1-total'] = x.apply(lambda row: merge_cols(row, 'PANSS P', 'panss-p-1-total', lambda x, y: x), axis=1)\n",
    "x.drop(columns=['PANSS P'], inplace=True)"
   ]
  },
  {
   "cell_type": "code",
   "execution_count": 254,
   "id": "eff75bdd",
   "metadata": {
    "scrolled": true
   },
   "outputs": [],
   "source": [
    "x.rename(columns={'PANSS 016': 'PANSS O16', 'PANSS 09': 'PANSS O9'}, inplace=True)"
   ]
  },
  {
   "cell_type": "code",
   "execution_count": 255,
   "id": "d1046b80",
   "metadata": {
    "scrolled": true
   },
   "outputs": [],
   "source": [
    "x = pd.merge(x, dataframes['panss-'].set_index('ID'), on='ID', how='outer')"
   ]
  },
  {
   "cell_type": "code",
   "execution_count": 256,
   "id": "ef1e6255",
   "metadata": {
    "scrolled": true
   },
   "outputs": [],
   "source": [
    "x['panss-n-1-total'] = x.apply(lambda row: merge_cols(row, 'panss-n-total-', 'panss-n-1-total', lambda x, y: x), axis=1)\n",
    "x.drop(columns=['panss-n-total-'], inplace=True)"
   ]
  },
  {
   "cell_type": "code",
   "execution_count": 257,
   "id": "ee737169",
   "metadata": {
    "scrolled": true
   },
   "outputs": [],
   "source": [
    "x['panss-1-total'] = x.apply(lambda row: merge_cols(row, 'panss-1-total', 'panss-total-', lambda x, y: x), axis=1)\n",
    "x.drop(columns=['panss-total-'], inplace=True)"
   ]
  },
  {
   "cell_type": "code",
   "execution_count": 258,
   "id": "90fe0eb9",
   "metadata": {
    "scrolled": true
   },
   "outputs": [],
   "source": [
    "x['panss-o-1-total'] = x.apply(lambda row: merge_cols(row, 'panss-o-1-total', 'panss-o-total-', lambda x, y: x), axis=1)\n",
    "x.drop(columns=['panss-o-total-'], inplace=True)"
   ]
  },
  {
   "cell_type": "code",
   "execution_count": 259,
   "id": "9d5defbc",
   "metadata": {
    "scrolled": true
   },
   "outputs": [],
   "source": [
    "x['panss-p-1-total'] = x.apply(lambda row: merge_cols(row, 'panss-p-1-total', 'panss-p-total-', lambda x, y: x), axis=1)\n",
    "x.drop(columns=['panss-p-total-'], inplace=True)"
   ]
  },
  {
   "cell_type": "markdown",
   "id": "b23908d1",
   "metadata": {},
   "source": [
    "#### identify PANSS inconsistencies"
   ]
  },
  {
   "cell_type": "code",
   "execution_count": 260,
   "id": "9860e806",
   "metadata": {
    "scrolled": false
   },
   "outputs": [
    {
     "data": {
      "text/html": [
       "<div>\n",
       "<style scoped>\n",
       "    .dataframe tbody tr th:only-of-type {\n",
       "        vertical-align: middle;\n",
       "    }\n",
       "\n",
       "    .dataframe tbody tr th {\n",
       "        vertical-align: top;\n",
       "    }\n",
       "\n",
       "    .dataframe thead th {\n",
       "        text-align: right;\n",
       "    }\n",
       "</style>\n",
       "<table border=\"1\" class=\"dataframe\">\n",
       "  <thead>\n",
       "    <tr style=\"text-align: right;\">\n",
       "      <th></th>\n",
       "      <th>PANSS N</th>\n",
       "      <th>panss-n-1-total</th>\n",
       "    </tr>\n",
       "    <tr>\n",
       "      <th>ID</th>\n",
       "      <th></th>\n",
       "      <th></th>\n",
       "    </tr>\n",
       "  </thead>\n",
       "  <tbody>\n",
       "    <tr>\n",
       "      <th>PN-001</th>\n",
       "      <td>NaN</td>\n",
       "      <td>7.0</td>\n",
       "    </tr>\n",
       "    <tr>\n",
       "      <th>PN-002</th>\n",
       "      <td>NaN</td>\n",
       "      <td>8.0</td>\n",
       "    </tr>\n",
       "    <tr>\n",
       "      <th>PN-003</th>\n",
       "      <td>NaN</td>\n",
       "      <td>7.0</td>\n",
       "    </tr>\n",
       "    <tr>\n",
       "      <th>PN-004</th>\n",
       "      <td>NaN</td>\n",
       "      <td>7.0</td>\n",
       "    </tr>\n",
       "    <tr>\n",
       "      <th>PN-005</th>\n",
       "      <td>NaN</td>\n",
       "      <td>9.0</td>\n",
       "    </tr>\n",
       "    <tr>\n",
       "      <th>...</th>\n",
       "      <td>...</td>\n",
       "      <td>...</td>\n",
       "    </tr>\n",
       "    <tr>\n",
       "      <th>NaN</th>\n",
       "      <td>NaN</td>\n",
       "      <td>NaN</td>\n",
       "    </tr>\n",
       "    <tr>\n",
       "      <th>?-1</th>\n",
       "      <td>30.0</td>\n",
       "      <td>NaN</td>\n",
       "    </tr>\n",
       "    <tr>\n",
       "      <th>?-2</th>\n",
       "      <td>23.0</td>\n",
       "      <td>NaN</td>\n",
       "    </tr>\n",
       "    <tr>\n",
       "      <th>?-3</th>\n",
       "      <td>29.0</td>\n",
       "      <td>NaN</td>\n",
       "    </tr>\n",
       "    <tr>\n",
       "      <th>?-4</th>\n",
       "      <td>19.0</td>\n",
       "      <td>NaN</td>\n",
       "    </tr>\n",
       "  </tbody>\n",
       "</table>\n",
       "<p>540 rows × 2 columns</p>\n",
       "</div>"
      ],
      "text/plain": [
       "        PANSS N  panss-n-1-total\n",
       "ID                              \n",
       "PN-001      NaN              7.0\n",
       "PN-002      NaN              8.0\n",
       "PN-003      NaN              7.0\n",
       "PN-004      NaN              7.0\n",
       "PN-005      NaN              9.0\n",
       "...         ...              ...\n",
       "NaN         NaN              NaN\n",
       "?-1        30.0              NaN\n",
       "?-2        23.0              NaN\n",
       "?-3        29.0              NaN\n",
       "?-4        19.0              NaN\n",
       "\n",
       "[540 rows x 2 columns]"
      ]
     },
     "execution_count": 260,
     "metadata": {},
     "output_type": "execute_result"
    }
   ],
   "source": [
    "compare_panss_n = pd.DataFrame()\n",
    "\n",
    "compare_panss_n['PANSS N'] = x['PANSS N']\n",
    "compare_panss_n['panss-n-1-total'] = x['panss-n-1-total']\n",
    "\n",
    "compare_panss_n"
   ]
  },
  {
   "cell_type": "code",
   "execution_count": 261,
   "id": "9df7f5d2",
   "metadata": {
    "scrolled": false
   },
   "outputs": [
    {
     "name": "stdout",
     "output_type": "stream",
     "text": [
      "PANSS N             8.0\n",
      "panss-n-1-total    10.0\n",
      "Name: PD-002, dtype: float64\n",
      "PANSS N            7.0\n",
      "panss-n-1-total    8.0\n",
      "Name: PD-006, dtype: float64\n",
      "PANSS N            7.0\n",
      "panss-n-1-total    9.0\n",
      "Name: PD-007, dtype: float64\n",
      "PANSS N            7.0\n",
      "panss-n-1-total    8.0\n",
      "Name: PD-017, dtype: float64\n",
      "PANSS N             9.0\n",
      "panss-n-1-total    10.0\n",
      "Name: PD-018, dtype: float64\n",
      "PANSS N            7.0\n",
      "panss-n-1-total    9.0\n",
      "Name: PD-020, dtype: float64\n",
      "PANSS N            7.0\n",
      "panss-n-1-total    9.0\n",
      "Name: PD-023, dtype: float64\n",
      "PANSS N            7.0\n",
      "panss-n-1-total    8.0\n",
      "Name: PD-025, dtype: float64\n",
      "PANSS N            7.0\n",
      "panss-n-1-total    8.0\n",
      "Name: PD-029, dtype: float64\n",
      "PANSS N            14.0\n",
      "panss-n-1-total    17.0\n",
      "Name: PD-032, dtype: float64\n",
      "PANSS N            22.0\n",
      "panss-n-1-total    25.0\n",
      "Name: PD-042, dtype: float64\n",
      "PANSS N            13.0\n",
      "panss-n-1-total    15.0\n",
      "Name: PD-008, dtype: float64\n",
      "PANSS N            10.0\n",
      "panss-n-1-total    12.0\n",
      "Name: PD-019, dtype: float64\n",
      "PANSS N            10.0\n",
      "panss-n-1-total    12.0\n",
      "Name: PD-019, dtype: float64\n",
      "PANSS N            10.0\n",
      "panss-n-1-total    12.0\n",
      "Name: PD-019, dtype: float64\n",
      "PANSS N            10.0\n",
      "panss-n-1-total    12.0\n",
      "Name: PD-019, dtype: float64\n"
     ]
    },
    {
     "data": {
      "text/plain": [
       "ID\n",
       "PN-001     7.0\n",
       "PN-002     8.0\n",
       "PN-003     7.0\n",
       "PN-004     7.0\n",
       "PN-005     9.0\n",
       "          ... \n",
       "NaN        NaN\n",
       "?-1       30.0\n",
       "?-2       23.0\n",
       "?-3       29.0\n",
       "?-4       19.0\n",
       "Length: 540, dtype: float64"
      ]
     },
     "execution_count": 261,
     "metadata": {},
     "output_type": "execute_result"
    }
   ],
   "source": [
    "compare_panss_n.apply(lambda row: merge_cols(row, 'PANSS N', 'panss-n-1-total', lambda x, y: x), axis=1)"
   ]
  },
  {
   "cell_type": "code",
   "execution_count": 262,
   "id": "52ab590c",
   "metadata": {
    "scrolled": true
   },
   "outputs": [
    {
     "data": {
      "text/plain": [
       "ID\n",
       "PN-001     NaN\n",
       "PN-002     NaN\n",
       "PN-003     NaN\n",
       "PN-004     NaN\n",
       "PN-005     NaN\n",
       "          ... \n",
       "NaN        NaN\n",
       "?-1       30.0\n",
       "?-2       23.0\n",
       "?-3       29.0\n",
       "?-4       19.0\n",
       "Length: 540, dtype: float64"
      ]
     },
     "execution_count": 262,
     "metadata": {},
     "output_type": "execute_result"
    }
   ],
   "source": [
    "compare_panss_n['sum'] = x[[\n",
    " 'PANSS N1',\n",
    " 'PANSS N2',\n",
    " 'PANSS N3',\n",
    " 'PANSS N4',\n",
    " 'PANSS N5',\n",
    " 'PANSS N6',\n",
    " 'PANSS N7',]].sum(axis=1, min_count=1)\n",
    "compare_panss_n.apply(lambda row: merge_cols(row, 'PANSS N', 'sum', lambda x, y: x), axis=1)"
   ]
  },
  {
   "cell_type": "code",
   "execution_count": 263,
   "id": "2d0fc316",
   "metadata": {
    "scrolled": true
   },
   "outputs": [],
   "source": [
    "# I believe the correct is PANSS N, not panss-n-1-total"
   ]
  },
  {
   "cell_type": "code",
   "execution_count": null,
   "id": "c59fa40b",
   "metadata": {},
   "outputs": [],
   "source": []
  },
  {
   "cell_type": "code",
   "execution_count": 264,
   "id": "6c0eafca",
   "metadata": {
    "scrolled": true
   },
   "outputs": [],
   "source": [
    "compare_panss_total = pd.DataFrame()"
   ]
  },
  {
   "cell_type": "code",
   "execution_count": 265,
   "id": "a300d681",
   "metadata": {
    "scrolled": true
   },
   "outputs": [],
   "source": [
    "compare_panss_total['sum'] = x[['panss-n-1-total', 'panss-o-1-total', 'panss-p-1-total',]].sum(axis=1, min_count=1)\n",
    "compare_panss_total['sum-'] = x[['PANSS N', 'panss-o-1-total', 'panss-p-1-total',]].sum(axis=1, min_count=1)"
   ]
  },
  {
   "cell_type": "code",
   "execution_count": 266,
   "id": "ac9d8894",
   "metadata": {
    "scrolled": true
   },
   "outputs": [],
   "source": [
    "compare_panss_total['panss-total'] = x['panss-total']\n",
    "compare_panss_total['panss-1-total'] = x['panss-1-total']"
   ]
  },
  {
   "cell_type": "code",
   "execution_count": 267,
   "id": "6c95b97c",
   "metadata": {
    "scrolled": true
   },
   "outputs": [],
   "source": [
    "x['panss-1-td'] = x.apply(lambda row: merge_cols(row, 'panss-td-total', 'panss-1-td', lambda x, y: x), axis=1)\n",
    "x.drop(columns=['panss-td-total'], inplace=True)"
   ]
  },
  {
   "cell_type": "code",
   "execution_count": 268,
   "id": "29f7bfc2",
   "metadata": {
    "scrolled": true
   },
   "outputs": [
    {
     "data": {
      "text/html": [
       "<div>\n",
       "<style scoped>\n",
       "    .dataframe tbody tr th:only-of-type {\n",
       "        vertical-align: middle;\n",
       "    }\n",
       "\n",
       "    .dataframe tbody tr th {\n",
       "        vertical-align: top;\n",
       "    }\n",
       "\n",
       "    .dataframe thead th {\n",
       "        text-align: right;\n",
       "    }\n",
       "</style>\n",
       "<table border=\"1\" class=\"dataframe\">\n",
       "  <thead>\n",
       "    <tr style=\"text-align: right;\">\n",
       "      <th></th>\n",
       "      <th>sum</th>\n",
       "      <th>sum-</th>\n",
       "      <th>panss-total</th>\n",
       "      <th>panss-1-total</th>\n",
       "    </tr>\n",
       "    <tr>\n",
       "      <th>ID</th>\n",
       "      <th></th>\n",
       "      <th></th>\n",
       "      <th></th>\n",
       "      <th></th>\n",
       "    </tr>\n",
       "  </thead>\n",
       "  <tbody>\n",
       "    <tr>\n",
       "      <th>PN-001</th>\n",
       "      <td>30.0</td>\n",
       "      <td>23.0</td>\n",
       "      <td>NaN</td>\n",
       "      <td>30.0</td>\n",
       "    </tr>\n",
       "    <tr>\n",
       "      <th>PN-002</th>\n",
       "      <td>33.0</td>\n",
       "      <td>25.0</td>\n",
       "      <td>NaN</td>\n",
       "      <td>33.0</td>\n",
       "    </tr>\n",
       "    <tr>\n",
       "      <th>PN-003</th>\n",
       "      <td>30.0</td>\n",
       "      <td>23.0</td>\n",
       "      <td>NaN</td>\n",
       "      <td>30.0</td>\n",
       "    </tr>\n",
       "    <tr>\n",
       "      <th>PN-004</th>\n",
       "      <td>30.0</td>\n",
       "      <td>23.0</td>\n",
       "      <td>NaN</td>\n",
       "      <td>30.0</td>\n",
       "    </tr>\n",
       "    <tr>\n",
       "      <th>PN-005</th>\n",
       "      <td>35.0</td>\n",
       "      <td>26.0</td>\n",
       "      <td>NaN</td>\n",
       "      <td>35.0</td>\n",
       "    </tr>\n",
       "    <tr>\n",
       "      <th>...</th>\n",
       "      <td>...</td>\n",
       "      <td>...</td>\n",
       "      <td>...</td>\n",
       "      <td>...</td>\n",
       "    </tr>\n",
       "    <tr>\n",
       "      <th>NaN</th>\n",
       "      <td>NaN</td>\n",
       "      <td>NaN</td>\n",
       "      <td>NaN</td>\n",
       "      <td>NaN</td>\n",
       "    </tr>\n",
       "    <tr>\n",
       "      <th>?-1</th>\n",
       "      <td>46.0</td>\n",
       "      <td>76.0</td>\n",
       "      <td>76.0</td>\n",
       "      <td>NaN</td>\n",
       "    </tr>\n",
       "    <tr>\n",
       "      <th>?-2</th>\n",
       "      <td>60.0</td>\n",
       "      <td>83.0</td>\n",
       "      <td>83.0</td>\n",
       "      <td>NaN</td>\n",
       "    </tr>\n",
       "    <tr>\n",
       "      <th>?-3</th>\n",
       "      <td>46.0</td>\n",
       "      <td>75.0</td>\n",
       "      <td>75.0</td>\n",
       "      <td>NaN</td>\n",
       "    </tr>\n",
       "    <tr>\n",
       "      <th>?-4</th>\n",
       "      <td>27.0</td>\n",
       "      <td>46.0</td>\n",
       "      <td>46.0</td>\n",
       "      <td>NaN</td>\n",
       "    </tr>\n",
       "  </tbody>\n",
       "</table>\n",
       "<p>540 rows × 4 columns</p>\n",
       "</div>"
      ],
      "text/plain": [
       "         sum  sum-  panss-total  panss-1-total\n",
       "ID                                            \n",
       "PN-001  30.0  23.0          NaN           30.0\n",
       "PN-002  33.0  25.0          NaN           33.0\n",
       "PN-003  30.0  23.0          NaN           30.0\n",
       "PN-004  30.0  23.0          NaN           30.0\n",
       "PN-005  35.0  26.0          NaN           35.0\n",
       "...      ...   ...          ...            ...\n",
       "NaN      NaN   NaN          NaN            NaN\n",
       "?-1     46.0  76.0         76.0            NaN\n",
       "?-2     60.0  83.0         83.0            NaN\n",
       "?-3     46.0  75.0         75.0            NaN\n",
       "?-4     27.0  46.0         46.0            NaN\n",
       "\n",
       "[540 rows x 4 columns]"
      ]
     },
     "execution_count": 268,
     "metadata": {},
     "output_type": "execute_result"
    }
   ],
   "source": [
    "compare_panss_total\n",
    "# DUE TO DIFFS IN NEG"
   ]
  },
  {
   "cell_type": "code",
   "execution_count": 269,
   "id": "4572fa9d",
   "metadata": {
    "scrolled": true
   },
   "outputs": [
    {
     "data": {
      "text/plain": [
       "dict_keys(['patient_data', 'PD_participant_data', 'combined_old_data_scales', 'demography', 'sans-1-total', 'sans-2-total', 'hdrs-0-total', 'hdrs-total', 'hdrs-1-total', 'hdrs-2-total', 'panss', 'panss-', 'saps-ftd-1-total', 'saps-ftd-2-total', 'sops', 'sops-1-total', 'sops-2-total'])"
      ]
     },
     "execution_count": 269,
     "metadata": {},
     "output_type": "execute_result"
    }
   ],
   "source": [
    "dataframes.keys()"
   ]
  },
  {
   "cell_type": "code",
   "execution_count": 270,
   "id": "1392e534",
   "metadata": {},
   "outputs": [
    {
     "name": "stdout",
     "output_type": "stream",
     "text": [
      "group.code              1.0\n",
      "diagnosis_rus           БАР\n",
      "education.level.code    4.0\n",
      "socstat1                2.0\n",
      "socstat2                NaN\n",
      "                       ... \n",
      "PANSS O12               3.0\n",
      "PANSS O13               1.0\n",
      "PANSS O14               1.0\n",
      "PANSS O15               1.0\n",
      "PANSS O16               3.0\n",
      "Name: PD-002, Length: 80, dtype: object\n",
      "group.code              1.0\n",
      "diagnosis_rus           ПРЛ\n",
      "education.level.code    3.0\n",
      "socstat1                1.0\n",
      "socstat2                2.0\n",
      "                       ... \n",
      "PANSS O12               1.0\n",
      "PANSS O13               1.0\n",
      "PANSS O14               1.0\n",
      "PANSS O15               1.0\n",
      "PANSS O16               1.0\n",
      "Name: PD-006, Length: 80, dtype: object\n",
      "group.code              1.0\n",
      "diagnosis_rus           БАР\n",
      "education.level.code    4.0\n",
      "socstat1                2.0\n",
      "socstat2                0.0\n",
      "                       ... \n",
      "PANSS O12               1.0\n",
      "PANSS O13               1.0\n",
      "PANSS O14               1.0\n",
      "PANSS O15               1.0\n",
      "PANSS O16               1.0\n",
      "Name: PD-007, Length: 80, dtype: object\n",
      "group.code              1.0\n",
      "diagnosis_rus           БАР\n",
      "education.level.code    3.0\n",
      "socstat1                1.0\n",
      "socstat2                NaN\n",
      "                       ... \n",
      "PANSS O12               1.0\n",
      "PANSS O13               1.0\n",
      "PANSS O14               1.0\n",
      "PANSS O15               1.0\n",
      "PANSS O16               1.0\n",
      "Name: PD-017, Length: 80, dtype: object\n",
      "group.code              1.0\n",
      "diagnosis_rus           БАР\n",
      "education.level.code    3.0\n",
      "socstat1                0.0\n",
      "socstat2                2.0\n",
      "                       ... \n",
      "PANSS O12               1.0\n",
      "PANSS O13               3.0\n",
      "PANSS O14               1.0\n",
      "PANSS O15               1.0\n",
      "PANSS O16               1.0\n",
      "Name: PD-018, Length: 80, dtype: object\n",
      "group.code                 1.0\n",
      "diagnosis_rus           Первый\n",
      "education.level.code       3.0\n",
      "socstat1                   1.0\n",
      "socstat2                   NaN\n",
      "                         ...  \n",
      "PANSS O12                  1.0\n",
      "PANSS O13                  1.0\n",
      "PANSS O14                  1.0\n",
      "PANSS O15                  1.0\n",
      "PANSS O16                  1.0\n",
      "Name: PD-020, Length: 80, dtype: object\n",
      "group.code              1.0\n",
      "diagnosis_rus           БАР\n",
      "education.level.code    4.0\n",
      "socstat1                2.0\n",
      "socstat2                2.0\n",
      "                       ... \n",
      "PANSS O12               1.0\n",
      "PANSS O13               1.0\n",
      "PANSS O14               1.0\n",
      "PANSS O15               1.0\n",
      "PANSS O16               1.0\n",
      "Name: PD-023, Length: 80, dtype: object\n",
      "group.code              1.0\n",
      "diagnosis_rus           БАР\n",
      "education.level.code    3.0\n",
      "socstat1                0.0\n",
      "socstat2                2.0\n",
      "                       ... \n",
      "PANSS O12               1.0\n",
      "PANSS O13               1.0\n",
      "PANSS O14               1.0\n",
      "PANSS O15               1.0\n",
      "PANSS O16               1.0\n",
      "Name: PD-025, Length: 80, dtype: object\n",
      "group.code              1.0\n",
      "diagnosis_rus           БАР\n",
      "education.level.code    3.0\n",
      "socstat1                1.0\n",
      "socstat2                2.0\n",
      "                       ... \n",
      "PANSS O12               1.0\n",
      "PANSS O13               1.0\n",
      "PANSS O14               1.0\n",
      "PANSS O15               1.0\n",
      "PANSS O16               1.0\n",
      "Name: PD-029, Length: 80, dtype: object\n",
      "group.code              1.0\n",
      "diagnosis_rus           БАР\n",
      "education.level.code    0.0\n",
      "socstat1                1.0\n",
      "socstat2                0.0\n",
      "                       ... \n",
      "PANSS O12               1.0\n",
      "PANSS O13               1.0\n",
      "PANSS O14               1.0\n",
      "PANSS O15               1.0\n",
      "PANSS O16               1.0\n",
      "Name: PD-032, Length: 80, dtype: object\n",
      "group.code              1.0\n",
      "diagnosis_rus           БАР\n",
      "education.level.code    0.0\n",
      "socstat1                0.0\n",
      "socstat2                0.0\n",
      "                       ... \n",
      "PANSS O12               1.0\n",
      "PANSS O13               3.0\n",
      "PANSS O14               1.0\n",
      "PANSS O15               1.0\n",
      "PANSS O16               1.0\n",
      "Name: PD-042, Length: 80, dtype: object\n",
      "group.code              2.0\n",
      "diagnosis_rus           БАР\n",
      "education.level.code    3.0\n",
      "socstat1                1.0\n",
      "socstat2                0.0\n",
      "                       ... \n",
      "PANSS O12               1.0\n",
      "PANSS O13               1.0\n",
      "PANSS O14               1.0\n",
      "PANSS O15               1.0\n",
      "PANSS O16               1.0\n",
      "Name: PD-008, Length: 80, dtype: object\n",
      "group.code              2.0\n",
      "diagnosis_rus           ПРЛ\n",
      "education.level.code    3.0\n",
      "socstat1                0.0\n",
      "socstat2                0.0\n",
      "                       ... \n",
      "PANSS O12               1.0\n",
      "PANSS O13               1.0\n",
      "PANSS O14               1.0\n",
      "PANSS O15               1.0\n",
      "PANSS O16               2.0\n",
      "Name: PD-019, Length: 80, dtype: object\n",
      "group.code              2.0\n",
      "diagnosis_rus           ПРЛ\n",
      "education.level.code    3.0\n",
      "socstat1                0.0\n",
      "socstat2                0.0\n",
      "                       ... \n",
      "PANSS O12               1.0\n",
      "PANSS O13               1.0\n",
      "PANSS O14               1.0\n",
      "PANSS O15               1.0\n",
      "PANSS O16               2.0\n",
      "Name: PD-019, Length: 80, dtype: object\n",
      "group.code              2.0\n",
      "diagnosis_rus           ПРЛ\n",
      "education.level.code    3.0\n",
      "socstat1                0.0\n",
      "socstat2                0.0\n",
      "                       ... \n",
      "PANSS O12               1.0\n",
      "PANSS O13               1.0\n",
      "PANSS O14               1.0\n",
      "PANSS O15               1.0\n",
      "PANSS O16               2.0\n",
      "Name: PD-019, Length: 80, dtype: object\n",
      "group.code              2.0\n",
      "diagnosis_rus           ПРЛ\n",
      "education.level.code    3.0\n",
      "socstat1                0.0\n",
      "socstat2                0.0\n",
      "                       ... \n",
      "PANSS O12               1.0\n",
      "PANSS O13               1.0\n",
      "PANSS O14               1.0\n",
      "PANSS O15               1.0\n",
      "PANSS O16               2.0\n",
      "Name: PD-019, Length: 80, dtype: object\n"
     ]
    }
   ],
   "source": [
    "x['panss-n-1-total'] = x.apply(lambda row: merge_cols(row, 'PANSS N', 'panss-n-1-total', lambda x, y: x), axis=1)\n",
    "x.drop(columns=['PANSS N'], inplace=True)"
   ]
  },
  {
   "cell_type": "code",
   "execution_count": 271,
   "id": "8e75312c",
   "metadata": {},
   "outputs": [],
   "source": [
    "x['panss-sum'] = x[['panss-n-1-total', 'panss-o-1-total', 'panss-p-1-total',]].sum(axis=1, min_count=1)"
   ]
  },
  {
   "cell_type": "code",
   "execution_count": 272,
   "id": "aeb9816e",
   "metadata": {},
   "outputs": [],
   "source": [
    "x['panss-total'] = x.apply(lambda row: merge_cols(row, 'panss-total', 'panss-sum', lambda x, y: x), axis=1)\n"
   ]
  },
  {
   "cell_type": "code",
   "execution_count": 273,
   "id": "4c39fc19",
   "metadata": {},
   "outputs": [
    {
     "name": "stdout",
     "output_type": "stream",
     "text": [
      "group.code               1.0\n",
      "diagnosis_rus            БАР\n",
      "education.level.code     4.0\n",
      "socstat1                 2.0\n",
      "socstat2                 NaN\n",
      "                        ... \n",
      "PANSS O13                1.0\n",
      "PANSS O14                1.0\n",
      "PANSS O15                1.0\n",
      "PANSS O16                3.0\n",
      "panss-sum               41.0\n",
      "Name: PD-002, Length: 80, dtype: object\n",
      "group.code               1.0\n",
      "diagnosis_rus            ПРЛ\n",
      "education.level.code     3.0\n",
      "socstat1                 1.0\n",
      "socstat2                 2.0\n",
      "                        ... \n",
      "PANSS O13                1.0\n",
      "PANSS O14                1.0\n",
      "PANSS O15                1.0\n",
      "PANSS O16                1.0\n",
      "panss-sum               33.0\n",
      "Name: PD-006, Length: 80, dtype: object\n",
      "group.code               1.0\n",
      "diagnosis_rus            БАР\n",
      "education.level.code     4.0\n",
      "socstat1                 2.0\n",
      "socstat2                 0.0\n",
      "                        ... \n",
      "PANSS O13                1.0\n",
      "PANSS O14                1.0\n",
      "PANSS O15                1.0\n",
      "PANSS O16                1.0\n",
      "panss-sum               32.0\n",
      "Name: PD-007, Length: 80, dtype: object\n",
      "group.code               1.0\n",
      "diagnosis_rus            БАР\n",
      "education.level.code     3.0\n",
      "socstat1                 1.0\n",
      "socstat2                 NaN\n",
      "                        ... \n",
      "PANSS O13                1.0\n",
      "PANSS O14                1.0\n",
      "PANSS O15                1.0\n",
      "PANSS O16                1.0\n",
      "panss-sum               36.0\n",
      "Name: PD-017, Length: 80, dtype: object\n",
      "group.code               1.0\n",
      "diagnosis_rus            БАР\n",
      "education.level.code     3.0\n",
      "socstat1                 0.0\n",
      "socstat2                 2.0\n",
      "                        ... \n",
      "PANSS O13                3.0\n",
      "PANSS O14                1.0\n",
      "PANSS O15                1.0\n",
      "PANSS O16                1.0\n",
      "panss-sum               44.0\n",
      "Name: PD-018, Length: 80, dtype: object\n",
      "group.code                 1.0\n",
      "diagnosis_rus           Первый\n",
      "education.level.code       3.0\n",
      "socstat1                   1.0\n",
      "socstat2                   NaN\n",
      "                         ...  \n",
      "PANSS O13                  1.0\n",
      "PANSS O14                  1.0\n",
      "PANSS O15                  1.0\n",
      "PANSS O16                  1.0\n",
      "panss-sum                 33.0\n",
      "Name: PD-020, Length: 80, dtype: object\n",
      "group.code               1.0\n",
      "diagnosis_rus            БАР\n",
      "education.level.code     4.0\n",
      "socstat1                 2.0\n",
      "socstat2                 2.0\n",
      "                        ... \n",
      "PANSS O13                1.0\n",
      "PANSS O14                1.0\n",
      "PANSS O15                1.0\n",
      "PANSS O16                1.0\n",
      "panss-sum               36.0\n",
      "Name: PD-023, Length: 80, dtype: object\n",
      "group.code               1.0\n",
      "diagnosis_rus            БАР\n",
      "education.level.code     3.0\n",
      "socstat1                 0.0\n",
      "socstat2                 2.0\n",
      "                        ... \n",
      "PANSS O13                1.0\n",
      "PANSS O14                1.0\n",
      "PANSS O15                1.0\n",
      "PANSS O16                1.0\n",
      "panss-sum               30.0\n",
      "Name: PD-025, Length: 80, dtype: object\n",
      "group.code               1.0\n",
      "diagnosis_rus            БАР\n",
      "education.level.code     3.0\n",
      "socstat1                 1.0\n",
      "socstat2                 2.0\n",
      "                        ... \n",
      "PANSS O13                1.0\n",
      "PANSS O14                1.0\n",
      "PANSS O15                1.0\n",
      "PANSS O16                1.0\n",
      "panss-sum               31.0\n",
      "Name: PD-029, Length: 80, dtype: object\n",
      "group.code               1.0\n",
      "diagnosis_rus            БАР\n",
      "education.level.code     0.0\n",
      "socstat1                 1.0\n",
      "socstat2                 0.0\n",
      "                        ... \n",
      "PANSS O13                1.0\n",
      "PANSS O14                1.0\n",
      "PANSS O15                1.0\n",
      "PANSS O16                1.0\n",
      "panss-sum               41.0\n",
      "Name: PD-032, Length: 80, dtype: object\n",
      "group.code               1.0\n",
      "diagnosis_rus            БАР\n",
      "education.level.code     0.0\n",
      "socstat1                 0.0\n",
      "socstat2                 0.0\n",
      "                        ... \n",
      "PANSS O13                3.0\n",
      "PANSS O14                1.0\n",
      "PANSS O15                1.0\n",
      "PANSS O16                1.0\n",
      "panss-sum               48.0\n",
      "Name: PD-042, Length: 80, dtype: object\n",
      "group.code               2.0\n",
      "diagnosis_rus            БАР\n",
      "education.level.code     3.0\n",
      "socstat1                 1.0\n",
      "socstat2                 0.0\n",
      "                        ... \n",
      "PANSS O13                1.0\n",
      "PANSS O14                1.0\n",
      "PANSS O15                1.0\n",
      "PANSS O16                1.0\n",
      "panss-sum               50.0\n",
      "Name: PD-008, Length: 80, dtype: object\n",
      "group.code               2.0\n",
      "diagnosis_rus            ПРЛ\n",
      "education.level.code     3.0\n",
      "socstat1                 0.0\n",
      "socstat2                 0.0\n",
      "                        ... \n",
      "PANSS O13                1.0\n",
      "PANSS O14                1.0\n",
      "PANSS O15                1.0\n",
      "PANSS O16                2.0\n",
      "panss-sum               44.0\n",
      "Name: PD-019, Length: 80, dtype: object\n",
      "group.code               2.0\n",
      "diagnosis_rus            ПРЛ\n",
      "education.level.code     3.0\n",
      "socstat1                 0.0\n",
      "socstat2                 0.0\n",
      "                        ... \n",
      "PANSS O13                1.0\n",
      "PANSS O14                1.0\n",
      "PANSS O15                1.0\n",
      "PANSS O16                2.0\n",
      "panss-sum               44.0\n",
      "Name: PD-019, Length: 80, dtype: object\n",
      "group.code               2.0\n",
      "diagnosis_rus            ПРЛ\n",
      "education.level.code     3.0\n",
      "socstat1                 0.0\n",
      "socstat2                 0.0\n",
      "                        ... \n",
      "PANSS O13                1.0\n",
      "PANSS O14                1.0\n",
      "PANSS O15                1.0\n",
      "PANSS O16                2.0\n",
      "panss-sum               44.0\n",
      "Name: PD-019, Length: 80, dtype: object\n",
      "group.code               2.0\n",
      "diagnosis_rus            ПРЛ\n",
      "education.level.code     3.0\n",
      "socstat1                 0.0\n",
      "socstat2                 0.0\n",
      "                        ... \n",
      "PANSS O13                1.0\n",
      "PANSS O14                1.0\n",
      "PANSS O15                1.0\n",
      "PANSS O16                2.0\n",
      "panss-sum               44.0\n",
      "Name: PD-019, Length: 80, dtype: object\n"
     ]
    }
   ],
   "source": [
    "x['panss-1-total'] = x.apply(lambda row: merge_cols(row, 'panss-total', 'panss-1-total', lambda x, y: x), axis=1)\n",
    "x.drop(columns=['panss-total'], inplace=True)"
   ]
  },
  {
   "cell_type": "markdown",
   "id": "bb5f6824",
   "metadata": {},
   "source": [
    "### merge to saps and sops"
   ]
  },
  {
   "cell_type": "code",
   "execution_count": 274,
   "id": "8548c0ce",
   "metadata": {
    "scrolled": true
   },
   "outputs": [],
   "source": [
    "x = pd.merge(x, dataframes['saps-ftd-1-total'].set_index('ID'), on='ID', how='outer')"
   ]
  },
  {
   "cell_type": "code",
   "execution_count": 275,
   "id": "22ef66ca",
   "metadata": {
    "scrolled": true
   },
   "outputs": [],
   "source": [
    "x['saps-ftd-1-total'] = x.apply(lambda row: merge_cols(row, 'saps-ftd-1-total', 'saps-td', lambda x, y: x), axis=1)\n",
    "x.drop(columns=['saps-td'], inplace=True)"
   ]
  },
  {
   "cell_type": "code",
   "execution_count": 276,
   "id": "521c6377",
   "metadata": {
    "scrolled": true
   },
   "outputs": [],
   "source": [
    "x = pd.merge(x, dataframes['saps-ftd-2-total'].set_index('ID'), on='ID', how='outer')"
   ]
  },
  {
   "cell_type": "code",
   "execution_count": 277,
   "id": "51925a5a",
   "metadata": {
    "scrolled": true
   },
   "outputs": [],
   "source": [
    "x = pd.merge(x, dataframes['sops'].set_index('ID'), on='ID', how='outer')"
   ]
  },
  {
   "cell_type": "code",
   "execution_count": 278,
   "id": "bb338eaa",
   "metadata": {
    "scrolled": true
   },
   "outputs": [],
   "source": [
    "x['sops-c-total'] = x.apply(lambda row: merge_cols(row, 'sops-c-total', 'sops-com-total', lambda x, y: x), axis=1)\n",
    "x['sops-d-total'] = x.apply(lambda row: merge_cols(row, 'sops-d-total', 'sops-dep-total', lambda x, y: x), axis=1)\n",
    "x['sops-n-total'] = x.apply(lambda row: merge_cols(row, 'sops-n-total', 'sops-neg-total', lambda x, y: x), axis=1)\n",
    "x['sops-p-total'] = x.apply(lambda row: merge_cols(row, 'sops-p-total', 'sops-pos-total', lambda x, y: x), axis=1)\n",
    "x.drop(columns=['sops-com-total', 'sops-dep-total', 'sops-neg-total', 'sops-pos-total'], inplace=True)"
   ]
  },
  {
   "cell_type": "code",
   "execution_count": 279,
   "id": "f56bba15",
   "metadata": {
    "scrolled": true
   },
   "outputs": [],
   "source": [
    "x = pd.merge(x, dataframes['sops-1-total'].set_index('ID'), on='ID', how='outer')\n",
    "x = pd.merge(x, dataframes['sops-2-total'].set_index('ID'), on='ID', how='outer')"
   ]
  },
  {
   "cell_type": "code",
   "execution_count": 280,
   "id": "f2db9ae4",
   "metadata": {
    "scrolled": false
   },
   "outputs": [
    {
     "name": "stdout",
     "output_type": "stream",
     "text": [
      "diagnosis_rus    БАР\n",
      "diagnosis.rus    РДР\n",
      "Name: PD-055, dtype: object\n",
      "diagnosis_rus    БАР\n",
      "diagnosis.rus    РДР\n",
      "Name: PD-094, dtype: object\n",
      "diagnosis_rus                РЛ\n",
      "diagnosis.rus    Шизотипическое\n",
      "Name: PD-005, dtype: object\n",
      "diagnosis_rus    Шизотипическое\n",
      "diagnosis.rus        Шизофрения\n",
      "Name: PD-040, dtype: object\n",
      "diagnosis_rus               БАР\n",
      "diagnosis.rus    Шизотипическое\n",
      "Name: PD-043, dtype: object\n",
      "diagnosis_rus               БАР\n",
      "diagnosis.rus    Шизотипическое\n",
      "Name: PD-070, dtype: object\n",
      "diagnosis_rus               БАР\n",
      "diagnosis.rus    Шизотипическое\n",
      "Name: PD-077, dtype: object\n",
      "diagnosis_rus    РДР\n",
      "diagnosis.rus    ШАР\n",
      "Name: PD-139, dtype: object\n"
     ]
    }
   ],
   "source": [
    "# diagnosis_rus should be correct, as it comes from demograpy datasheet which is newer\n",
    "x['diagnosis_rus'] = x[['diagnosis_rus', 'diagnosis.rus']].apply(lambda row: merge_cols(row, 'diagnosis_rus', 'diagnosis.rus', lambda x, y: x), axis=1)\n",
    "x.drop(columns=['diagnosis.rus'], inplace=True)"
   ]
  },
  {
   "cell_type": "code",
   "execution_count": 281,
   "id": "d88cb2de",
   "metadata": {
    "scrolled": true
   },
   "outputs": [],
   "source": [
    "# sorted(x.columns, key=lambda x: x.lower())"
   ]
  },
  {
   "cell_type": "markdown",
   "id": "4949d639",
   "metadata": {},
   "source": [
    "## identify NAs"
   ]
  },
  {
   "cell_type": "code",
   "execution_count": 282,
   "id": "819fe3cb",
   "metadata": {
    "scrolled": true
   },
   "outputs": [],
   "source": [
    "cols = ['age',\n",
    " 'dep.scale',\n",
    " 'dep.severity-1',\n",
    " 'group.code',\n",
    " 'diagnosis.group',\n",
    " 'diagnosis.type',\n",
    " 'diagnosis_code',\n",
    " 'diagnosis_eng',\n",
    " 'diagnosis_rus',\n",
    " 'education.level.code',\n",
    " 'education.level.eng',\n",
    " 'education.years',\n",
    " 'exacerbation',\n",
    "#  'HDRS-17.score',\n",
    " 'HDRS-17.score-1',\n",
    " 'longitudinal',\n",
    "#  'PANSS N',\n",
    " 'panss-1-td',\n",
    " 'panss-1-total',\n",
    " 'panss-n-1-total',\n",
    " 'panss-o-1-total',\n",
    " 'panss-p-1-total',\n",
    "#  'panss-total',\n",
    " 'rehospitalization',\n",
    " 'sans-1-total',\n",
    " 'saps-ftd-1-total',\n",
    " 'sex',\n",
    " 'sops-1-total',\n",
    " 'sops-c-total',\n",
    " 'sops-d-total',\n",
    " 'sops-n-total',\n",
    " 'sops-p-total',\n",
    " 'td.scales',\n",
    " 'td.severity']"
   ]
  },
  {
   "cell_type": "code",
   "execution_count": 283,
   "id": "6b7f7b1b",
   "metadata": {
    "scrolled": true
   },
   "outputs": [],
   "source": [
    "x = x[~x.index.isna()]"
   ]
  },
  {
   "cell_type": "markdown",
   "id": "52b1b6c1",
   "metadata": {},
   "source": [
    "### fill NA in diagnosis"
   ]
  },
  {
   "cell_type": "code",
   "execution_count": 284,
   "id": "53ee9be5",
   "metadata": {
    "scrolled": true
   },
   "outputs": [],
   "source": [
    "def fill_group_na(row):\n",
    "    dg = row['diagnosis.group']\n",
    "    if not pd.isnull(dg):\n",
    "        return dg\n",
    "    elif row.name.startswith('PN'):\n",
    "        return 'control'\n",
    "    elif row.name.startswith('PD'):\n",
    "        return 'patient'\n",
    "    else:\n",
    "        return np.nan"
   ]
  },
  {
   "cell_type": "code",
   "execution_count": 285,
   "id": "158a52b6",
   "metadata": {
    "scrolled": true
   },
   "outputs": [],
   "source": [
    "x['diagnosis.group'] = x.apply(fill_group_na, axis=1)"
   ]
  },
  {
   "cell_type": "code",
   "execution_count": 286,
   "id": "fe0b0667",
   "metadata": {
    "scrolled": true
   },
   "outputs": [
    {
     "data": {
      "text/plain": [
       "445"
      ]
     },
     "execution_count": 286,
     "metadata": {},
     "output_type": "execute_result"
    }
   ],
   "source": [
    "len(x)"
   ]
  },
  {
   "cell_type": "code",
   "execution_count": 287,
   "id": "57cf4a89",
   "metadata": {
    "scrolled": false
   },
   "outputs": [
    {
     "data": {
      "text/plain": [
       "age                      58\n",
       "dep.scale                81\n",
       "dep.severity-1          274\n",
       "group.code              303\n",
       "diagnosis.group           4\n",
       "diagnosis.type          356\n",
       "diagnosis_code          330\n",
       "diagnosis_eng           292\n",
       "diagnosis_rus           303\n",
       "education.level.code    303\n",
       "education.level.eng      81\n",
       "education.years          57\n",
       "exacerbation            337\n",
       "HDRS-17.score-1         274\n",
       "longitudinal            382\n",
       "panss-1-td              333\n",
       "panss-1-total           326\n",
       "panss-n-1-total         326\n",
       "panss-o-1-total         326\n",
       "panss-p-1-total         326\n",
       "rehospitalization       332\n",
       "sans-1-total            305\n",
       "saps-ftd-1-total        305\n",
       "sex                      74\n",
       "sops-1-total            436\n",
       "sops-c-total            424\n",
       "sops-d-total            424\n",
       "sops-n-total            424\n",
       "sops-p-total            424\n",
       "td.scales                81\n",
       "td.severity              78\n",
       "dtype: int64"
      ]
     },
     "execution_count": 287,
     "metadata": {},
     "output_type": "execute_result"
    }
   ],
   "source": [
    "x[cols].isna().sum(axis=0)"
   ]
  },
  {
   "cell_type": "code",
   "execution_count": 288,
   "id": "2898aae8",
   "metadata": {
    "scrolled": true
   },
   "outputs": [
    {
     "data": {
      "text/plain": [
       "227"
      ]
     },
     "execution_count": 288,
     "metadata": {},
     "output_type": "execute_result"
    }
   ],
   "source": [
    "len(x[x['diagnosis.group'] == 'patient'])"
   ]
  },
  {
   "cell_type": "code",
   "execution_count": 289,
   "id": "baadce87",
   "metadata": {
    "scrolled": false
   },
   "outputs": [
    {
     "data": {
      "text/html": [
       "<div>\n",
       "<style scoped>\n",
       "    .dataframe tbody tr th:only-of-type {\n",
       "        vertical-align: middle;\n",
       "    }\n",
       "\n",
       "    .dataframe tbody tr th {\n",
       "        vertical-align: top;\n",
       "    }\n",
       "\n",
       "    .dataframe thead th {\n",
       "        text-align: right;\n",
       "    }\n",
       "</style>\n",
       "<table border=\"1\" class=\"dataframe\">\n",
       "  <thead>\n",
       "    <tr style=\"text-align: right;\">\n",
       "      <th></th>\n",
       "      <th>diagnosis.type</th>\n",
       "      <th>diagnosis_code</th>\n",
       "      <th>diagnosis_eng</th>\n",
       "      <th>diagnosis_rus</th>\n",
       "    </tr>\n",
       "    <tr>\n",
       "      <th>ID</th>\n",
       "      <th></th>\n",
       "      <th></th>\n",
       "      <th></th>\n",
       "      <th></th>\n",
       "    </tr>\n",
       "  </thead>\n",
       "  <tbody>\n",
       "    <tr>\n",
       "      <th>PD-101</th>\n",
       "      <td>sz</td>\n",
       "      <td>F20</td>\n",
       "      <td>schizophrenia</td>\n",
       "      <td>NaN</td>\n",
       "    </tr>\n",
       "    <tr>\n",
       "      <th>PD-102</th>\n",
       "      <td>sz</td>\n",
       "      <td>F20</td>\n",
       "      <td>schizophrenia</td>\n",
       "      <td>NaN</td>\n",
       "    </tr>\n",
       "    <tr>\n",
       "      <th>PD-103</th>\n",
       "      <td>sz</td>\n",
       "      <td>F20</td>\n",
       "      <td>schizophrenia</td>\n",
       "      <td>NaN</td>\n",
       "    </tr>\n",
       "    <tr>\n",
       "      <th>PD-105</th>\n",
       "      <td>sz</td>\n",
       "      <td>F20</td>\n",
       "      <td>schizophrenia</td>\n",
       "      <td>NaN</td>\n",
       "    </tr>\n",
       "    <tr>\n",
       "      <th>PD-106</th>\n",
       "      <td>sz</td>\n",
       "      <td>F20</td>\n",
       "      <td>schizophrenia</td>\n",
       "      <td>NaN</td>\n",
       "    </tr>\n",
       "    <tr>\n",
       "      <th>...</th>\n",
       "      <td>...</td>\n",
       "      <td>...</td>\n",
       "      <td>...</td>\n",
       "      <td>...</td>\n",
       "    </tr>\n",
       "    <tr>\n",
       "      <th>PD-196</th>\n",
       "      <td>NaN</td>\n",
       "      <td>NaN</td>\n",
       "      <td>NaN</td>\n",
       "      <td>NaN</td>\n",
       "    </tr>\n",
       "    <tr>\n",
       "      <th>PD-197</th>\n",
       "      <td>NaN</td>\n",
       "      <td>NaN</td>\n",
       "      <td>NaN</td>\n",
       "      <td>NaN</td>\n",
       "    </tr>\n",
       "    <tr>\n",
       "      <th>PD-198</th>\n",
       "      <td>NaN</td>\n",
       "      <td>NaN</td>\n",
       "      <td>NaN</td>\n",
       "      <td>NaN</td>\n",
       "    </tr>\n",
       "    <tr>\n",
       "      <th>PD-199</th>\n",
       "      <td>NaN</td>\n",
       "      <td>NaN</td>\n",
       "      <td>NaN</td>\n",
       "      <td>NaN</td>\n",
       "    </tr>\n",
       "    <tr>\n",
       "      <th>PD-200</th>\n",
       "      <td>NaN</td>\n",
       "      <td>NaN</td>\n",
       "      <td>NaN</td>\n",
       "      <td>NaN</td>\n",
       "    </tr>\n",
       "  </tbody>\n",
       "</table>\n",
       "<p>227 rows × 4 columns</p>\n",
       "</div>"
      ],
      "text/plain": [
       "       diagnosis.type diagnosis_code  diagnosis_eng diagnosis_rus\n",
       "ID                                                               \n",
       "PD-101             sz            F20  schizophrenia           NaN\n",
       "PD-102             sz            F20  schizophrenia           NaN\n",
       "PD-103             sz            F20  schizophrenia           NaN\n",
       "PD-105             sz            F20  schizophrenia           NaN\n",
       "PD-106             sz            F20  schizophrenia           NaN\n",
       "...               ...            ...            ...           ...\n",
       "PD-196            NaN            NaN            NaN           NaN\n",
       "PD-197            NaN            NaN            NaN           NaN\n",
       "PD-198            NaN            NaN            NaN           NaN\n",
       "PD-199            NaN            NaN            NaN           NaN\n",
       "PD-200            NaN            NaN            NaN           NaN\n",
       "\n",
       "[227 rows x 4 columns]"
      ]
     },
     "execution_count": 289,
     "metadata": {},
     "output_type": "execute_result"
    }
   ],
   "source": [
    "x[x['diagnosis.group'] == 'patient'][['diagnosis.type',\n",
    " 'diagnosis_code',\n",
    " 'diagnosis_eng',\n",
    " 'diagnosis_rus',]]"
   ]
  },
  {
   "cell_type": "code",
   "execution_count": 290,
   "id": "c429af69",
   "metadata": {
    "scrolled": true
   },
   "outputs": [
    {
     "data": {
      "text/plain": [
       "dep    54\n",
       "sz     35\n",
       "Name: diagnosis.type, dtype: int64"
      ]
     },
     "execution_count": 290,
     "metadata": {},
     "output_type": "execute_result"
    }
   ],
   "source": [
    "x['diagnosis.type'].value_counts()"
   ]
  },
  {
   "cell_type": "code",
   "execution_count": 291,
   "id": "46675df9",
   "metadata": {
    "scrolled": true
   },
   "outputs": [
    {
     "data": {
      "text/plain": [
       "F20      27\n",
       "F31      18\n",
       "F25      15\n",
       "F31.3    11\n",
       "F21?      5\n",
       "F60       5\n",
       "F21       4\n",
       "F31.5     4\n",
       "F33       4\n",
       "F21.3     3\n",
       "F32       3\n",
       "F32.0     3\n",
       "F32.1     3\n",
       "F31.4     3\n",
       "F34.1     2\n",
       "F41.2     1\n",
       "F33.3     1\n",
       "F32.3     1\n",
       "F23       1\n",
       "F33.1     1\n",
       "Name: diagnosis_code, dtype: int64"
      ]
     },
     "execution_count": 291,
     "metadata": {},
     "output_type": "execute_result"
    }
   ],
   "source": [
    "x['diagnosis_code'].value_counts()"
   ]
  },
  {
   "cell_type": "code",
   "execution_count": 292,
   "id": "58854f7e",
   "metadata": {
    "scrolled": true
   },
   "outputs": [
    {
     "data": {
      "text/plain": [
       "bipolar.affective.disorder         39\n",
       "schizophrenia                      37\n",
       "schizotypal.disorder               22\n",
       "schizoaffective.disorder           17\n",
       "borderline.personality.disorder    15\n",
       "recurrent.depressive.disorder      13\n",
       "depressive.episode                  5\n",
       "personality.disorder                5\n",
       "Name: diagnosis_eng, dtype: int64"
      ]
     },
     "execution_count": 292,
     "metadata": {},
     "output_type": "execute_result"
    }
   ],
   "source": [
    "x['diagnosis_eng'].value_counts()"
   ]
  },
  {
   "cell_type": "code",
   "execution_count": 293,
   "id": "137d3077",
   "metadata": {
    "scrolled": true
   },
   "outputs": [
    {
     "data": {
      "text/plain": [
       "БАР               45\n",
       "Шизофрения        23\n",
       "Шизотипическое    21\n",
       "ПРЛ               17\n",
       "РДР               14\n",
       "ШАР               10\n",
       "РЛ                 7\n",
       "Первый             5\n",
       "Name: diagnosis_rus, dtype: int64"
      ]
     },
     "execution_count": 293,
     "metadata": {},
     "output_type": "execute_result"
    }
   ],
   "source": [
    "x['diagnosis_rus'].value_counts()"
   ]
  },
  {
   "cell_type": "code",
   "execution_count": 294,
   "id": "907bd5ea",
   "metadata": {
    "scrolled": true
   },
   "outputs": [],
   "source": [
    "diagnosis_rus_eng = {\n",
    "                    'БАР': 'bipolar.affective.disorder',\n",
    "                    'Шизофрения': 'schizophrenia',\n",
    "                    'Шизотипическое': 'schizotypal.disorder',\n",
    "                    'ПРЛ': 'borderline.personality.disorder',\n",
    "                    'РДР': 'recurrent.depressive.disorder',\n",
    "                    'ШАР': 'schizoaffective.disorder',\n",
    "                    'РЛ': 'personality.disorder', \n",
    "                    'Первый': 'depressive.episode'}"
   ]
  },
  {
   "cell_type": "code",
   "execution_count": 295,
   "id": "ba3da779",
   "metadata": {
    "scrolled": true
   },
   "outputs": [],
   "source": [
    "diagnosis_eng_rus = {v: k for k, v in diagnosis_rus_eng.items()}"
   ]
  },
  {
   "cell_type": "code",
   "execution_count": 296,
   "id": "9d864bcc",
   "metadata": {
    "scrolled": true
   },
   "outputs": [],
   "source": [
    "diagnosis_code_eng = {\n",
    "'F20': 'schizophrenia', \n",
    "'F21': 'schizotypal.disorder', \n",
    "'F21.3': 'schizotypal.disorder.pseudoneurotic.schizophrenia', \n",
    "'F23': 'acute.psychotic.disorder', \n",
    "'F25': 'schizoaffective.disorder', \n",
    "'F31': 'bipolar.affective.disorder', \n",
    "'F31.3': 'bipolar.affective.disorder.mild', \n",
    "'F31.4': 'bipolar.affective.disorder.severe',\n",
    "'F31.5': 'bipolar.affective.disorder.severe.psychotic', \n",
    "'F32': 'depressive.episode', \n",
    "'F32.0': 'depressive.episode.mild', \n",
    "'F32.1': 'depressive.episode.moderate', \n",
    "'F32.3': 'depressive.episode.severe.psychotic',\n",
    "'F33': 'recurrent.depressive.disorder', \n",
    "'F33.1': 'recurrent.depressive.disorder.moderate',\n",
    "'F33.3': 'recurrent.depressive.disorder.severe.psychotic',\n",
    "'F34.1': 'dysthymia',\n",
    "'F41.2': 'mixed.anxiety.depressive.disorder',\n",
    "'F60': 'personality.disorder', \n",
    "'F60.31': 'borderline.personality.disorder',\n",
    "'F21?': 'exclude: suspected.schizotypal.disorder'\n",
    "}"
   ]
  },
  {
   "cell_type": "code",
   "execution_count": 297,
   "id": "7b2db3eb",
   "metadata": {
    "scrolled": true
   },
   "outputs": [],
   "source": [
    "diagnosis_code_type = {\n",
    "'F20': 'sz', \n",
    "'F21': 'sz', \n",
    "'F21.3': 'sz', \n",
    "'F23': 'sz', \n",
    "'F25': 'sz', \n",
    "'F31': 'dep', \n",
    "'F31.3': 'dep', \n",
    "'F31.4': 'dep',\n",
    "'F31.5': 'dep', \n",
    "'F32': 'dep', \n",
    "'F32.0': 'dep', \n",
    "'F32.1': 'dep', \n",
    "'F32.3': 'dep',\n",
    "'F33': 'dep', \n",
    "'F33.1': 'dep',\n",
    "'F33.3': 'dep',\n",
    "'F34.1': 'dep',\n",
    "'F41.2': 'dep',\n",
    "'F60': 'dep', \n",
    "'F60.31': 'dep',\n",
    "'F21?': 'exclude',\n",
    "}"
   ]
  },
  {
   "cell_type": "code",
   "execution_count": 298,
   "id": "e704f433",
   "metadata": {
    "scrolled": true
   },
   "outputs": [],
   "source": [
    "diagnosis_eng_code = {v: k for k, v in diagnosis_code_eng.items()}"
   ]
  },
  {
   "cell_type": "code",
   "execution_count": 299,
   "id": "fdcc4dd4",
   "metadata": {
    "scrolled": true
   },
   "outputs": [],
   "source": [
    "def fill_diagnosis(row):\n",
    "    diagnosis_code, diagnosis_rus, diagnosis_eng = row['diagnosis_code'], row['diagnosis_rus'], row['diagnosis_eng']\n",
    "    if pd.isnull(diagnosis_code) and pd.isnull(diagnosis_eng) and pd.isnull(diagnosis_rus):\n",
    "        if row['diagnosis.type'] == 'patient':\n",
    "            print(row.name)\n",
    "        # all are nan\n",
    "        \n",
    "    elif not pd.isnull(diagnosis_rus) and pd.isnull(diagnosis_code) and pd.isnull(diagnosis_eng):\n",
    "        # diagnosis_rus is only used to fill diagniosis_eng\n",
    "        diagnosis_eng = diagnosis_rus_eng[diagnosis_rus]  \n",
    "    \n",
    "    if not pd.isnull(diagnosis_code) and pd.isnull(diagnosis_eng):\n",
    "        # code but no eng\n",
    "        diagnosis_eng = diagnosis_code_eng[diagnosis_code]\n",
    "        \n",
    "    elif pd.isnull(diagnosis_code) and not pd.isnull(diagnosis_eng):\n",
    "        # eng but no code\n",
    "        diagnosis_code = diagnosis_eng_code[diagnosis_eng]\n",
    "    \n",
    "    elif not pd.isnull(diagnosis_code) and not pd.isnull(diagnosis_eng):\n",
    "        # both\n",
    "        eng = diagnosis_code_eng[diagnosis_code]\n",
    "        code = diagnosis_eng_code[diagnosis_eng]\n",
    "#         if code != diagnosis_code or eng != diagnosis_eng:\n",
    "#             print(row.name, code, diagnosis_code, eng, diagnosis_eng)\n",
    "        diagnosis_eng = eng\n",
    "    return diagnosis_code, diagnosis_eng\n",
    "        \n",
    "        "
   ]
  },
  {
   "cell_type": "code",
   "execution_count": 300,
   "id": "38a25775",
   "metadata": {
    "scrolled": true
   },
   "outputs": [],
   "source": [
    "x[['diagnosis_code', 'diagnosis_eng']] = pd.DataFrame(x.apply(fill_diagnosis, axis=1).tolist(), index=x.index, columns=['diagnosis_code', 'diagnosis_eng'])"
   ]
  },
  {
   "cell_type": "code",
   "execution_count": 301,
   "id": "dd3b23db",
   "metadata": {
    "scrolled": false
   },
   "outputs": [
    {
     "data": {
      "text/html": [
       "<div>\n",
       "<style scoped>\n",
       "    .dataframe tbody tr th:only-of-type {\n",
       "        vertical-align: middle;\n",
       "    }\n",
       "\n",
       "    .dataframe tbody tr th {\n",
       "        vertical-align: top;\n",
       "    }\n",
       "\n",
       "    .dataframe thead th {\n",
       "        text-align: right;\n",
       "    }\n",
       "</style>\n",
       "<table border=\"1\" class=\"dataframe\">\n",
       "  <thead>\n",
       "    <tr style=\"text-align: right;\">\n",
       "      <th></th>\n",
       "      <th>diagnosis.type</th>\n",
       "      <th>diagnosis_code</th>\n",
       "      <th>diagnosis_eng</th>\n",
       "      <th>diagnosis_rus</th>\n",
       "    </tr>\n",
       "    <tr>\n",
       "      <th>ID</th>\n",
       "      <th></th>\n",
       "      <th></th>\n",
       "      <th></th>\n",
       "      <th></th>\n",
       "    </tr>\n",
       "  </thead>\n",
       "  <tbody>\n",
       "    <tr>\n",
       "      <th>PD-101</th>\n",
       "      <td>sz</td>\n",
       "      <td>F20</td>\n",
       "      <td>schizophrenia</td>\n",
       "      <td>NaN</td>\n",
       "    </tr>\n",
       "    <tr>\n",
       "      <th>PD-102</th>\n",
       "      <td>sz</td>\n",
       "      <td>F20</td>\n",
       "      <td>schizophrenia</td>\n",
       "      <td>NaN</td>\n",
       "    </tr>\n",
       "    <tr>\n",
       "      <th>PD-103</th>\n",
       "      <td>sz</td>\n",
       "      <td>F20</td>\n",
       "      <td>schizophrenia</td>\n",
       "      <td>NaN</td>\n",
       "    </tr>\n",
       "    <tr>\n",
       "      <th>PD-105</th>\n",
       "      <td>sz</td>\n",
       "      <td>F20</td>\n",
       "      <td>schizophrenia</td>\n",
       "      <td>NaN</td>\n",
       "    </tr>\n",
       "    <tr>\n",
       "      <th>PD-106</th>\n",
       "      <td>sz</td>\n",
       "      <td>F20</td>\n",
       "      <td>schizophrenia</td>\n",
       "      <td>NaN</td>\n",
       "    </tr>\n",
       "    <tr>\n",
       "      <th>...</th>\n",
       "      <td>...</td>\n",
       "      <td>...</td>\n",
       "      <td>...</td>\n",
       "      <td>...</td>\n",
       "    </tr>\n",
       "    <tr>\n",
       "      <th>PD-196</th>\n",
       "      <td>NaN</td>\n",
       "      <td>NaN</td>\n",
       "      <td>NaN</td>\n",
       "      <td>NaN</td>\n",
       "    </tr>\n",
       "    <tr>\n",
       "      <th>PD-197</th>\n",
       "      <td>NaN</td>\n",
       "      <td>NaN</td>\n",
       "      <td>NaN</td>\n",
       "      <td>NaN</td>\n",
       "    </tr>\n",
       "    <tr>\n",
       "      <th>PD-198</th>\n",
       "      <td>NaN</td>\n",
       "      <td>NaN</td>\n",
       "      <td>NaN</td>\n",
       "      <td>NaN</td>\n",
       "    </tr>\n",
       "    <tr>\n",
       "      <th>PD-199</th>\n",
       "      <td>NaN</td>\n",
       "      <td>NaN</td>\n",
       "      <td>NaN</td>\n",
       "      <td>NaN</td>\n",
       "    </tr>\n",
       "    <tr>\n",
       "      <th>PD-200</th>\n",
       "      <td>NaN</td>\n",
       "      <td>NaN</td>\n",
       "      <td>NaN</td>\n",
       "      <td>NaN</td>\n",
       "    </tr>\n",
       "  </tbody>\n",
       "</table>\n",
       "<p>227 rows × 4 columns</p>\n",
       "</div>"
      ],
      "text/plain": [
       "       diagnosis.type diagnosis_code  diagnosis_eng diagnosis_rus\n",
       "ID                                                               \n",
       "PD-101             sz            F20  schizophrenia           NaN\n",
       "PD-102             sz            F20  schizophrenia           NaN\n",
       "PD-103             sz            F20  schizophrenia           NaN\n",
       "PD-105             sz            F20  schizophrenia           NaN\n",
       "PD-106             sz            F20  schizophrenia           NaN\n",
       "...               ...            ...            ...           ...\n",
       "PD-196            NaN            NaN            NaN           NaN\n",
       "PD-197            NaN            NaN            NaN           NaN\n",
       "PD-198            NaN            NaN            NaN           NaN\n",
       "PD-199            NaN            NaN            NaN           NaN\n",
       "PD-200            NaN            NaN            NaN           NaN\n",
       "\n",
       "[227 rows x 4 columns]"
      ]
     },
     "execution_count": 301,
     "metadata": {},
     "output_type": "execute_result"
    }
   ],
   "source": [
    "x[x['diagnosis.group'] == 'patient'][['diagnosis.type',\n",
    " 'diagnosis_code',\n",
    " 'diagnosis_eng',\n",
    " 'diagnosis_rus',]]"
   ]
  },
  {
   "cell_type": "code",
   "execution_count": 302,
   "id": "d03ac954",
   "metadata": {
    "scrolled": true
   },
   "outputs": [],
   "source": [
    "def fill_diagnosis_group(row):\n",
    "    dg = row['diagnosis.type']\n",
    "    code = row['diagnosis_code']\n",
    "    if pd.isnull(dg) and pd.isnull(code):\n",
    "        return np.nan\n",
    "    elif pd.isnull(dg) and not pd.isnull(code):\n",
    "        return diagnosis_code_type[code]\n",
    "    elif not pd.isnull(dg) and not pd.isnull(code):\n",
    "        if not diagnosis_code_type[code] == dg:\n",
    "            print(row.name, dg, diagnosis_code_type[code])\n",
    "        return diagnosis_code_type[code]"
   ]
  },
  {
   "cell_type": "code",
   "execution_count": 303,
   "id": "48aeb29a",
   "metadata": {
    "scrolled": true
   },
   "outputs": [],
   "source": [
    "x['diagnosis.type'] = x.apply(fill_diagnosis_group, axis=1)"
   ]
  },
  {
   "cell_type": "code",
   "execution_count": 304,
   "id": "c67472c6",
   "metadata": {
    "scrolled": false
   },
   "outputs": [
    {
     "data": {
      "text/plain": [
       "age                      53\n",
       "dep.scale                74\n",
       "dep.severity-1           82\n",
       "group.code               85\n",
       "diagnosis.group           0\n",
       "diagnosis.type           53\n",
       "diagnosis_code           53\n",
       "diagnosis_eng            53\n",
       "diagnosis_rus            85\n",
       "education.level.code     85\n",
       "education.level.eng      74\n",
       "education.years          53\n",
       "exacerbation            119\n",
       "HDRS-17.score-1          82\n",
       "longitudinal            164\n",
       "panss-1-td              146\n",
       "panss-1-total           143\n",
       "panss-n-1-total         143\n",
       "panss-o-1-total         143\n",
       "panss-p-1-total         143\n",
       "rehospitalization       114\n",
       "sans-1-total             87\n",
       "saps-ftd-1-total         87\n",
       "sex                      70\n",
       "sops-1-total            218\n",
       "sops-c-total            206\n",
       "sops-d-total            206\n",
       "sops-n-total            206\n",
       "sops-p-total            206\n",
       "td.scales                74\n",
       "td.severity              71\n",
       "dtype: int64"
      ]
     },
     "execution_count": 304,
     "metadata": {},
     "output_type": "execute_result"
    }
   ],
   "source": [
    "x[x['diagnosis.group'] == 'patient'][cols].isna().sum(axis=0)"
   ]
  },
  {
   "cell_type": "markdown",
   "id": "8137634c",
   "metadata": {},
   "source": [
    "### identifty NA in controls"
   ]
  },
  {
   "cell_type": "code",
   "execution_count": 305,
   "id": "cbd60ea6",
   "metadata": {
    "scrolled": true
   },
   "outputs": [
    {
     "data": {
      "text/plain": [
       "age                      1\n",
       "dep.scale                3\n",
       "dep.severity-1         188\n",
       "education.level.eng      3\n",
       "education.years          0\n",
       "HDRS-17.score-1        188\n",
       "panss-1-td             183\n",
       "panss-1-total          183\n",
       "panss-n-1-total        183\n",
       "panss-o-1-total        183\n",
       "panss-p-1-total        183\n",
       "sex                      0\n",
       "td.scales                3\n",
       "td.severity              3\n",
       "dtype: int64"
      ]
     },
     "execution_count": 305,
     "metadata": {},
     "output_type": "execute_result"
    }
   ],
   "source": [
    "control_cols = ['age',\n",
    " 'dep.scale',\n",
    " 'dep.severity-1',\n",
    "#  'dep.severity-total',\n",
    " 'education.level.eng',\n",
    " 'education.years',\n",
    "#  'HDRS-17.score',\n",
    " 'HDRS-17.score-1',\n",
    "#  'PANSS N',\n",
    " 'panss-1-td',\n",
    " 'panss-1-total',\n",
    " 'panss-n-1-total',\n",
    " 'panss-o-1-total',\n",
    " 'panss-p-1-total',\n",
    "#  'panss-total',\n",
    " 'sex',\n",
    " 'td.scales',\n",
    " 'td.severity']\n",
    "\n",
    "x[x['diagnosis.group'] == 'control'][control_cols].isna().sum(axis=0)"
   ]
  },
  {
   "cell_type": "code",
   "execution_count": 306,
   "id": "7a8a8ca8",
   "metadata": {
    "scrolled": true
   },
   "outputs": [
    {
     "data": {
      "text/plain": [
       "214"
      ]
     },
     "execution_count": 306,
     "metadata": {},
     "output_type": "execute_result"
    }
   ],
   "source": [
    "len(x[x['diagnosis.group'] == 'control'])"
   ]
  },
  {
   "cell_type": "markdown",
   "id": "0d330530",
   "metadata": {},
   "source": [
    "### Add self-reported norm data"
   ]
  },
  {
   "cell_type": "code",
   "execution_count": 307,
   "id": "503c2128",
   "metadata": {
    "scrolled": true
   },
   "outputs": [],
   "source": [
    "norm_demography = pd.read_csv('/Users/galina.ryazanskaya/Downloads/thesis?/2023_annotation/norm.sbj.csv', index_col=0)"
   ]
  },
  {
   "cell_type": "code",
   "execution_count": 308,
   "id": "8e0eedc7",
   "metadata": {},
   "outputs": [
    {
     "data": {
      "text/plain": [
       "Index(['N-01', 'N-02', 'N-03', 'N-04', 'N-05', 'N-06', 'N-07', 'N-30', 'N-09',\n",
       "       'N-10', 'N-11', 'N-12', 'N-13', 'N-14', 'N-15', 'N-16', 'N-17', 'N-18',\n",
       "       'N-19', 'N-20', 'N-21', 'N-22', 'N-23', 'N-24', 'N-25', 'N-26', 'N-28',\n",
       "       'N-29', 'N-40', 'N-46', 'N-32', 'N-33', 'N-34', 'N-35', 'N-36', 'N-37',\n",
       "       'N-38', 'N-51', 'N-54', 'N-41', 'N-42', 'N-43', 'N-44', 'N-45', 'N-55',\n",
       "       'N-56', 'N-48', 'N-49', 'N-50', 'N-57', 'N-52', 'N-53', 'N-63', 'N-67',\n",
       "       'N-72', 'N-76', 'N-58', 'N-59', 'N-60', 'N-78', 'N-08', 'N-31', 'N-39',\n",
       "       'N-47', 'N-69', 'N-70', 'N-71', 'N-61', 'N-73', 'N-74', 'N-75', 'N-62',\n",
       "       'N-77', 'N-68', 'N-79', 'N-80', 'N-81', 'N-82', 'N-83', 'N-84', 'N-85',\n",
       "       'N-88', 'N-90', 'N-91', 'N-94', 'N-95'],\n",
       "      dtype='object', name='ID')"
      ]
     },
     "execution_count": 308,
     "metadata": {},
     "output_type": "execute_result"
    }
   ],
   "source": [
    "norm_demography.index"
   ]
  },
  {
   "cell_type": "code",
   "execution_count": 309,
   "id": "7c6c713e",
   "metadata": {
    "scrolled": true
   },
   "outputs": [],
   "source": [
    "x = pd.merge(x, norm_demography, on='ID', how='outer')"
   ]
  },
  {
   "cell_type": "code",
   "execution_count": 310,
   "id": "39bc2a3f",
   "metadata": {
    "scrolled": true
   },
   "outputs": [],
   "source": [
    "x['age'] = x.apply(lambda row: merge_cols(row, 'age_x', 'age_y', lambda x, y: x), axis=1)\n",
    "x.drop(columns=['age_x', 'age_y'], inplace=True)"
   ]
  },
  {
   "cell_type": "code",
   "execution_count": 311,
   "id": "16fc846e",
   "metadata": {
    "scrolled": true
   },
   "outputs": [],
   "source": [
    "x['education.years'] = x.apply(lambda row: merge_cols(row, 'education.years_x', 'education.years_y', lambda x, y: x), axis=1)\n",
    "x.drop(columns=['education.years_x', 'education.years_y'], inplace=True)"
   ]
  },
  {
   "cell_type": "code",
   "execution_count": 312,
   "id": "96607064",
   "metadata": {
    "scrolled": true
   },
   "outputs": [],
   "source": [
    "x['education.level.eng'] = x.apply(lambda row: merge_cols(row, 'education.level.eng', 'education.level', lambda x, y: x), axis=1)\n",
    "x.drop(columns=['education.level'], inplace=True)"
   ]
  },
  {
   "cell_type": "code",
   "execution_count": 313,
   "id": "e67efc2a",
   "metadata": {
    "scrolled": true
   },
   "outputs": [],
   "source": [
    "x['sex'] = x.apply(lambda row: merge_cols(row, 'sex_x', 'sex_y', lambda x, y: x), axis=1)\n",
    "x.drop(columns=['sex_x', 'sex_y'], inplace=True)"
   ]
  },
  {
   "cell_type": "code",
   "execution_count": 314,
   "id": "2c406641",
   "metadata": {},
   "outputs": [],
   "source": [
    "x.loc[norm_demography.index, 'diagnosis.group'] = 'control'"
   ]
  },
  {
   "cell_type": "code",
   "execution_count": 315,
   "id": "38562e60",
   "metadata": {
    "scrolled": false
   },
   "outputs": [
    {
     "data": {
      "text/plain": [
       "['age',\n",
       " 'age-onset',\n",
       " 'age.group',\n",
       " 'condition-at-discharge',\n",
       " 'CPE1',\n",
       " 'CPE2',\n",
       " 'dep.scale',\n",
       " 'dep.severity-0',\n",
       " 'dep.severity-1',\n",
       " 'dep.severity-2',\n",
       " 'dep.severity-total',\n",
       " 'diagnosis.group',\n",
       " 'diagnosis.type',\n",
       " 'diagnosis_code',\n",
       " 'diagnosis_eng',\n",
       " 'diagnosis_rus',\n",
       " 'education.level.code',\n",
       " 'education.level.eng',\n",
       " 'education.years',\n",
       " 'exacerbation',\n",
       " 'GAF1',\n",
       " 'GAF2',\n",
       " 'group.code',\n",
       " 'HDRS-17.score',\n",
       " 'HDRS-17.score-0',\n",
       " 'HDRS-17.score-1',\n",
       " 'HDRS-17.score-2',\n",
       " 'longitudinal',\n",
       " 'oldID',\n",
       " 'PANSS N1',\n",
       " 'PANSS N2',\n",
       " 'PANSS N3',\n",
       " 'PANSS N4',\n",
       " 'PANSS N5',\n",
       " 'PANSS N6',\n",
       " 'PANSS N7',\n",
       " 'PANSS O1',\n",
       " 'PANSS O10',\n",
       " 'PANSS O11',\n",
       " 'PANSS O12',\n",
       " 'PANSS O13',\n",
       " 'PANSS O14',\n",
       " 'PANSS O15',\n",
       " 'PANSS O16',\n",
       " 'PANSS O2',\n",
       " 'PANSS O3',\n",
       " 'PANSS O4',\n",
       " 'PANSS O5',\n",
       " 'PANSS O6',\n",
       " 'PANSS O7',\n",
       " 'PANSS O8',\n",
       " 'PANSS O9',\n",
       " 'PANSS P1',\n",
       " 'PANSS P2',\n",
       " 'PANSS P3',\n",
       " 'PANSS P4',\n",
       " 'PANSS P5',\n",
       " 'PANSS P6',\n",
       " 'PANSS P7',\n",
       " 'panss-1-td',\n",
       " 'panss-1-total',\n",
       " 'panss-n-1-total',\n",
       " 'panss-o-1-total',\n",
       " 'panss-p-1-total',\n",
       " 'panss-sum',\n",
       " 'rehospitalization',\n",
       " 'sans-1-total',\n",
       " 'sans-2-total',\n",
       " 'saps-ftd-1-total',\n",
       " 'saps-ftd-2-total',\n",
       " 'sex',\n",
       " 'socstat1',\n",
       " 'socstat2',\n",
       " 'sops-1-total',\n",
       " 'sops-2-total',\n",
       " 'sops-c-total',\n",
       " 'sops-d-total',\n",
       " 'sops-n-total',\n",
       " 'sops-p-total',\n",
       " 'td.scales',\n",
       " 'td.severity',\n",
       " 'td.severity-2']"
      ]
     },
     "execution_count": 315,
     "metadata": {},
     "output_type": "execute_result"
    }
   ],
   "source": [
    "sorted(x.columns, key=lambda x: x.lower())"
   ]
  },
  {
   "cell_type": "code",
   "execution_count": 316,
   "id": "68f2b00d",
   "metadata": {
    "scrolled": true
   },
   "outputs": [],
   "source": [
    "# I believe the correct is PANSS N, not panss-n-1-total\n",
    "# x.drop(columns=['panss-n-1-total', 'panss-1-total'], inplace=True)\n",
    "# x.rename(columns={'PANSS N': 'panss-n-1-total', 'panss-total': 'panss-1-total'}, inplace=True)"
   ]
  },
  {
   "cell_type": "markdown",
   "id": "2d47639f",
   "metadata": {},
   "source": [
    "### infer missing panss td severity"
   ]
  },
  {
   "cell_type": "code",
   "execution_count": 317,
   "id": "eba792b3",
   "metadata": {
    "scrolled": true
   },
   "outputs": [
    {
     "data": {
      "text/plain": [
       "ID\n",
       "PN-020    4.0\n",
       "PN-021    4.0\n",
       "PN-029    4.0\n",
       "Name: panss-1-td, dtype: float64"
      ]
     },
     "execution_count": 317,
     "metadata": {},
     "output_type": "execute_result"
    }
   ],
   "source": [
    "x[x['td.severity'].isna()]['panss-1-td'].dropna()"
   ]
  },
  {
   "cell_type": "code",
   "execution_count": 318,
   "id": "7469ad8f",
   "metadata": {
    "scrolled": true
   },
   "outputs": [],
   "source": [
    "x.loc[x[x['panss-1-td'] < 5]['td.severity'].index, 'td.severity'] = 0.0"
   ]
  },
  {
   "cell_type": "code",
   "execution_count": 319,
   "id": "9f580a8d",
   "metadata": {
    "scrolled": true
   },
   "outputs": [
    {
     "data": {
      "text/plain": [
       "0.0"
      ]
     },
     "execution_count": 319,
     "metadata": {},
     "output_type": "execute_result"
    }
   ],
   "source": [
    "x.loc['PN-020']['td.severity']"
   ]
  },
  {
   "cell_type": "markdown",
   "id": "0e638512",
   "metadata": {},
   "source": [
    "### infer missing saps-ftd td.severity"
   ]
  },
  {
   "cell_type": "code",
   "execution_count": 320,
   "id": "729a7771",
   "metadata": {},
   "outputs": [
    {
     "data": {
      "text/html": [
       "<div>\n",
       "<style scoped>\n",
       "    .dataframe tbody tr th:only-of-type {\n",
       "        vertical-align: middle;\n",
       "    }\n",
       "\n",
       "    .dataframe tbody tr th {\n",
       "        vertical-align: top;\n",
       "    }\n",
       "\n",
       "    .dataframe thead th {\n",
       "        text-align: right;\n",
       "    }\n",
       "</style>\n",
       "<table border=\"1\" class=\"dataframe\">\n",
       "  <thead>\n",
       "    <tr style=\"text-align: right;\">\n",
       "      <th></th>\n",
       "      <th>td.severity</th>\n",
       "      <th>saps-ftd-1-total</th>\n",
       "      <th>panss-1-td</th>\n",
       "    </tr>\n",
       "    <tr>\n",
       "      <th>ID</th>\n",
       "      <th></th>\n",
       "      <th></th>\n",
       "      <th></th>\n",
       "    </tr>\n",
       "  </thead>\n",
       "  <tbody>\n",
       "    <tr>\n",
       "      <th>PD-899</th>\n",
       "      <td>NaN</td>\n",
       "      <td>9.0</td>\n",
       "      <td>NaN</td>\n",
       "    </tr>\n",
       "    <tr>\n",
       "      <th>PD-014</th>\n",
       "      <td>NaN</td>\n",
       "      <td>7.0</td>\n",
       "      <td>NaN</td>\n",
       "    </tr>\n",
       "    <tr>\n",
       "      <th>PD-069</th>\n",
       "      <td>NaN</td>\n",
       "      <td>9.0</td>\n",
       "      <td>NaN</td>\n",
       "    </tr>\n",
       "    <tr>\n",
       "      <th>PD-077</th>\n",
       "      <td>NaN</td>\n",
       "      <td>8.0</td>\n",
       "      <td>NaN</td>\n",
       "    </tr>\n",
       "    <tr>\n",
       "      <th>PD-995</th>\n",
       "      <td>NaN</td>\n",
       "      <td>8.0</td>\n",
       "      <td>NaN</td>\n",
       "    </tr>\n",
       "    <tr>\n",
       "      <th>PD-998</th>\n",
       "      <td>NaN</td>\n",
       "      <td>9.0</td>\n",
       "      <td>NaN</td>\n",
       "    </tr>\n",
       "    <tr>\n",
       "      <th>PD-135</th>\n",
       "      <td>NaN</td>\n",
       "      <td>5.0</td>\n",
       "      <td>NaN</td>\n",
       "    </tr>\n",
       "    <tr>\n",
       "      <th>PD-893</th>\n",
       "      <td>NaN</td>\n",
       "      <td>16.0</td>\n",
       "      <td>NaN</td>\n",
       "    </tr>\n",
       "    <tr>\n",
       "      <th>PD-894</th>\n",
       "      <td>NaN</td>\n",
       "      <td>18.0</td>\n",
       "      <td>NaN</td>\n",
       "    </tr>\n",
       "    <tr>\n",
       "      <th>PD-895</th>\n",
       "      <td>NaN</td>\n",
       "      <td>25.0</td>\n",
       "      <td>NaN</td>\n",
       "    </tr>\n",
       "    <tr>\n",
       "      <th>PD-991</th>\n",
       "      <td>NaN</td>\n",
       "      <td>6.0</td>\n",
       "      <td>NaN</td>\n",
       "    </tr>\n",
       "    <tr>\n",
       "      <th>PD-992</th>\n",
       "      <td>NaN</td>\n",
       "      <td>22.0</td>\n",
       "      <td>NaN</td>\n",
       "    </tr>\n",
       "    <tr>\n",
       "      <th>PD-993</th>\n",
       "      <td>NaN</td>\n",
       "      <td>15.0</td>\n",
       "      <td>NaN</td>\n",
       "    </tr>\n",
       "    <tr>\n",
       "      <th>PD-994</th>\n",
       "      <td>NaN</td>\n",
       "      <td>10.0</td>\n",
       "      <td>NaN</td>\n",
       "    </tr>\n",
       "    <tr>\n",
       "      <th>PD-996</th>\n",
       "      <td>NaN</td>\n",
       "      <td>11.0</td>\n",
       "      <td>NaN</td>\n",
       "    </tr>\n",
       "    <tr>\n",
       "      <th>PD-997</th>\n",
       "      <td>NaN</td>\n",
       "      <td>8.0</td>\n",
       "      <td>NaN</td>\n",
       "    </tr>\n",
       "    <tr>\n",
       "      <th>PD-999</th>\n",
       "      <td>NaN</td>\n",
       "      <td>5.0</td>\n",
       "      <td>NaN</td>\n",
       "    </tr>\n",
       "  </tbody>\n",
       "</table>\n",
       "</div>"
      ],
      "text/plain": [
       "        td.severity  saps-ftd-1-total  panss-1-td\n",
       "ID                                               \n",
       "PD-899          NaN               9.0         NaN\n",
       "PD-014          NaN               7.0         NaN\n",
       "PD-069          NaN               9.0         NaN\n",
       "PD-077          NaN               8.0         NaN\n",
       "PD-995          NaN               8.0         NaN\n",
       "PD-998          NaN               9.0         NaN\n",
       "PD-135          NaN               5.0         NaN\n",
       "PD-893          NaN              16.0         NaN\n",
       "PD-894          NaN              18.0         NaN\n",
       "PD-895          NaN              25.0         NaN\n",
       "PD-991          NaN               6.0         NaN\n",
       "PD-992          NaN              22.0         NaN\n",
       "PD-993          NaN              15.0         NaN\n",
       "PD-994          NaN              10.0         NaN\n",
       "PD-996          NaN              11.0         NaN\n",
       "PD-997          NaN               8.0         NaN\n",
       "PD-999          NaN               5.0         NaN"
      ]
     },
     "execution_count": 320,
     "metadata": {},
     "output_type": "execute_result"
    }
   ],
   "source": [
    "x[x['td.severity'].isna() & ~x['saps-ftd-1-total'].isna()][['td.severity', 'saps-ftd-1-total', 'panss-1-td']]"
   ]
  },
  {
   "cell_type": "markdown",
   "id": "3b634658",
   "metadata": {},
   "source": [
    "### infer missing dep.scale"
   ]
  },
  {
   "cell_type": "code",
   "execution_count": 321,
   "id": "3dd4e611",
   "metadata": {
    "scrolled": false
   },
   "outputs": [
    {
     "data": {
      "text/html": [
       "<div>\n",
       "<style scoped>\n",
       "    .dataframe tbody tr th:only-of-type {\n",
       "        vertical-align: middle;\n",
       "    }\n",
       "\n",
       "    .dataframe tbody tr th {\n",
       "        vertical-align: top;\n",
       "    }\n",
       "\n",
       "    .dataframe thead th {\n",
       "        text-align: right;\n",
       "    }\n",
       "</style>\n",
       "<table border=\"1\" class=\"dataframe\">\n",
       "  <thead>\n",
       "    <tr style=\"text-align: right;\">\n",
       "      <th></th>\n",
       "      <th>dep.scale</th>\n",
       "      <th>dep.severity-1</th>\n",
       "      <th>HDRS-17.score-1</th>\n",
       "      <th>dep.severity-total</th>\n",
       "      <th>HDRS-17.score</th>\n",
       "      <th>dep.severity-0</th>\n",
       "      <th>HDRS-17.score-0</th>\n",
       "    </tr>\n",
       "    <tr>\n",
       "      <th>ID</th>\n",
       "      <th></th>\n",
       "      <th></th>\n",
       "      <th></th>\n",
       "      <th></th>\n",
       "      <th></th>\n",
       "      <th></th>\n",
       "      <th></th>\n",
       "    </tr>\n",
       "  </thead>\n",
       "  <tbody>\n",
       "    <tr>\n",
       "      <th>PN-020</th>\n",
       "      <td>NaN</td>\n",
       "      <td>0.0</td>\n",
       "      <td>1.0</td>\n",
       "      <td>0.0</td>\n",
       "      <td>1.0</td>\n",
       "      <td>NaN</td>\n",
       "      <td>NaN</td>\n",
       "    </tr>\n",
       "    <tr>\n",
       "      <th>PN-021</th>\n",
       "      <td>NaN</td>\n",
       "      <td>0.0</td>\n",
       "      <td>3.0</td>\n",
       "      <td>0.0</td>\n",
       "      <td>3.0</td>\n",
       "      <td>NaN</td>\n",
       "      <td>NaN</td>\n",
       "    </tr>\n",
       "    <tr>\n",
       "      <th>PN-029</th>\n",
       "      <td>NaN</td>\n",
       "      <td>0.0</td>\n",
       "      <td>0.0</td>\n",
       "      <td>0.0</td>\n",
       "      <td>0.0</td>\n",
       "      <td>NaN</td>\n",
       "      <td>NaN</td>\n",
       "    </tr>\n",
       "    <tr>\n",
       "      <th>PD-062</th>\n",
       "      <td>NaN</td>\n",
       "      <td>1.0</td>\n",
       "      <td>12.0</td>\n",
       "      <td>0.0</td>\n",
       "      <td>5.0</td>\n",
       "      <td>2.0</td>\n",
       "      <td>23.0</td>\n",
       "    </tr>\n",
       "    <tr>\n",
       "      <th>PD-899</th>\n",
       "      <td>NaN</td>\n",
       "      <td>0.0</td>\n",
       "      <td>5.0</td>\n",
       "      <td>NaN</td>\n",
       "      <td>NaN</td>\n",
       "      <td>2.0</td>\n",
       "      <td>20.0</td>\n",
       "    </tr>\n",
       "    <tr>\n",
       "      <th>PD-014</th>\n",
       "      <td>NaN</td>\n",
       "      <td>0.0</td>\n",
       "      <td>2.0</td>\n",
       "      <td>1.0</td>\n",
       "      <td>9.0</td>\n",
       "      <td>1.0</td>\n",
       "      <td>16.0</td>\n",
       "    </tr>\n",
       "    <tr>\n",
       "      <th>PD-069</th>\n",
       "      <td>NaN</td>\n",
       "      <td>0.0</td>\n",
       "      <td>6.0</td>\n",
       "      <td>0.0</td>\n",
       "      <td>4.0</td>\n",
       "      <td>2.0</td>\n",
       "      <td>19.0</td>\n",
       "    </tr>\n",
       "    <tr>\n",
       "      <th>PD-077</th>\n",
       "      <td>NaN</td>\n",
       "      <td>0.0</td>\n",
       "      <td>4.0</td>\n",
       "      <td>0.0</td>\n",
       "      <td>4.0</td>\n",
       "      <td>2.0</td>\n",
       "      <td>17.0</td>\n",
       "    </tr>\n",
       "    <tr>\n",
       "      <th>PD-135</th>\n",
       "      <td>NaN</td>\n",
       "      <td>0.0</td>\n",
       "      <td>4.0</td>\n",
       "      <td>0.0</td>\n",
       "      <td>5.0</td>\n",
       "      <td>4.0</td>\n",
       "      <td>25.0</td>\n",
       "    </tr>\n",
       "    <tr>\n",
       "      <th>PD-999</th>\n",
       "      <td>NaN</td>\n",
       "      <td>0.0</td>\n",
       "      <td>6.0</td>\n",
       "      <td>NaN</td>\n",
       "      <td>NaN</td>\n",
       "      <td>1.0</td>\n",
       "      <td>12.0</td>\n",
       "    </tr>\n",
       "    <tr>\n",
       "      <th>PD-128</th>\n",
       "      <td>NaN</td>\n",
       "      <td>1.0</td>\n",
       "      <td>12.0</td>\n",
       "      <td>1.0</td>\n",
       "      <td>12.0</td>\n",
       "      <td>NaN</td>\n",
       "      <td>NaN</td>\n",
       "    </tr>\n",
       "  </tbody>\n",
       "</table>\n",
       "</div>"
      ],
      "text/plain": [
       "       dep.scale  dep.severity-1  HDRS-17.score-1  dep.severity-total  \\\n",
       "ID                                                                      \n",
       "PN-020       NaN             0.0              1.0                 0.0   \n",
       "PN-021       NaN             0.0              3.0                 0.0   \n",
       "PN-029       NaN             0.0              0.0                 0.0   \n",
       "PD-062       NaN             1.0             12.0                 0.0   \n",
       "PD-899       NaN             0.0              5.0                 NaN   \n",
       "PD-014       NaN             0.0              2.0                 1.0   \n",
       "PD-069       NaN             0.0              6.0                 0.0   \n",
       "PD-077       NaN             0.0              4.0                 0.0   \n",
       "PD-135       NaN             0.0              4.0                 0.0   \n",
       "PD-999       NaN             0.0              6.0                 NaN   \n",
       "PD-128       NaN             1.0             12.0                 1.0   \n",
       "\n",
       "        HDRS-17.score  dep.severity-0  HDRS-17.score-0  \n",
       "ID                                                      \n",
       "PN-020            1.0             NaN              NaN  \n",
       "PN-021            3.0             NaN              NaN  \n",
       "PN-029            0.0             NaN              NaN  \n",
       "PD-062            5.0             2.0             23.0  \n",
       "PD-899            NaN             2.0             20.0  \n",
       "PD-014            9.0             1.0             16.0  \n",
       "PD-069            4.0             2.0             19.0  \n",
       "PD-077            4.0             2.0             17.0  \n",
       "PD-135            5.0             4.0             25.0  \n",
       "PD-999            NaN             1.0             12.0  \n",
       "PD-128           12.0             NaN              NaN  "
      ]
     },
     "execution_count": 321,
     "metadata": {},
     "output_type": "execute_result"
    }
   ],
   "source": [
    "dep_scales = ['dep.scale', 'dep.severity-1', 'HDRS-17.score-1', 'dep.severity-total', 'HDRS-17.score', 'dep.severity-0', 'HDRS-17.score-0']\n",
    "x[x['dep.scale'].isna() & ~x['dep.severity-1'].isna()][dep_scales]"
   ]
  },
  {
   "cell_type": "code",
   "execution_count": 322,
   "id": "fa0bcbd2",
   "metadata": {
    "scrolled": true
   },
   "outputs": [
    {
     "data": {
      "text/html": [
       "<div>\n",
       "<style scoped>\n",
       "    .dataframe tbody tr th:only-of-type {\n",
       "        vertical-align: middle;\n",
       "    }\n",
       "\n",
       "    .dataframe tbody tr th {\n",
       "        vertical-align: top;\n",
       "    }\n",
       "\n",
       "    .dataframe thead th {\n",
       "        text-align: right;\n",
       "    }\n",
       "</style>\n",
       "<table border=\"1\" class=\"dataframe\">\n",
       "  <thead>\n",
       "    <tr style=\"text-align: right;\">\n",
       "      <th></th>\n",
       "      <th>dep.scale</th>\n",
       "      <th>dep.severity-1</th>\n",
       "      <th>HDRS-17.score-1</th>\n",
       "      <th>dep.severity-total</th>\n",
       "      <th>HDRS-17.score</th>\n",
       "      <th>dep.severity-0</th>\n",
       "      <th>HDRS-17.score-0</th>\n",
       "    </tr>\n",
       "    <tr>\n",
       "      <th>ID</th>\n",
       "      <th></th>\n",
       "      <th></th>\n",
       "      <th></th>\n",
       "      <th></th>\n",
       "      <th></th>\n",
       "      <th></th>\n",
       "      <th></th>\n",
       "    </tr>\n",
       "  </thead>\n",
       "  <tbody>\n",
       "    <tr>\n",
       "      <th>PN-020</th>\n",
       "      <td>NaN</td>\n",
       "      <td>0.0</td>\n",
       "      <td>1.0</td>\n",
       "      <td>0.0</td>\n",
       "      <td>1.0</td>\n",
       "      <td>NaN</td>\n",
       "      <td>NaN</td>\n",
       "    </tr>\n",
       "    <tr>\n",
       "      <th>PN-021</th>\n",
       "      <td>NaN</td>\n",
       "      <td>0.0</td>\n",
       "      <td>3.0</td>\n",
       "      <td>0.0</td>\n",
       "      <td>3.0</td>\n",
       "      <td>NaN</td>\n",
       "      <td>NaN</td>\n",
       "    </tr>\n",
       "    <tr>\n",
       "      <th>PN-029</th>\n",
       "      <td>NaN</td>\n",
       "      <td>0.0</td>\n",
       "      <td>0.0</td>\n",
       "      <td>0.0</td>\n",
       "      <td>0.0</td>\n",
       "      <td>NaN</td>\n",
       "      <td>NaN</td>\n",
       "    </tr>\n",
       "    <tr>\n",
       "      <th>PD-133</th>\n",
       "      <td>NaN</td>\n",
       "      <td>NaN</td>\n",
       "      <td>NaN</td>\n",
       "      <td>0.0</td>\n",
       "      <td>6.0</td>\n",
       "      <td>NaN</td>\n",
       "      <td>NaN</td>\n",
       "    </tr>\n",
       "    <tr>\n",
       "      <th>PD-134</th>\n",
       "      <td>NaN</td>\n",
       "      <td>NaN</td>\n",
       "      <td>NaN</td>\n",
       "      <td>1.0</td>\n",
       "      <td>8.0</td>\n",
       "      <td>NaN</td>\n",
       "      <td>NaN</td>\n",
       "    </tr>\n",
       "    <tr>\n",
       "      <th>PD-062</th>\n",
       "      <td>NaN</td>\n",
       "      <td>1.0</td>\n",
       "      <td>12.0</td>\n",
       "      <td>0.0</td>\n",
       "      <td>5.0</td>\n",
       "      <td>2.0</td>\n",
       "      <td>23.0</td>\n",
       "    </tr>\n",
       "    <tr>\n",
       "      <th>PD-014</th>\n",
       "      <td>NaN</td>\n",
       "      <td>0.0</td>\n",
       "      <td>2.0</td>\n",
       "      <td>1.0</td>\n",
       "      <td>9.0</td>\n",
       "      <td>1.0</td>\n",
       "      <td>16.0</td>\n",
       "    </tr>\n",
       "    <tr>\n",
       "      <th>PD-069</th>\n",
       "      <td>NaN</td>\n",
       "      <td>0.0</td>\n",
       "      <td>6.0</td>\n",
       "      <td>0.0</td>\n",
       "      <td>4.0</td>\n",
       "      <td>2.0</td>\n",
       "      <td>19.0</td>\n",
       "    </tr>\n",
       "    <tr>\n",
       "      <th>PD-077</th>\n",
       "      <td>NaN</td>\n",
       "      <td>0.0</td>\n",
       "      <td>4.0</td>\n",
       "      <td>0.0</td>\n",
       "      <td>4.0</td>\n",
       "      <td>2.0</td>\n",
       "      <td>17.0</td>\n",
       "    </tr>\n",
       "    <tr>\n",
       "      <th>PD-135</th>\n",
       "      <td>NaN</td>\n",
       "      <td>0.0</td>\n",
       "      <td>4.0</td>\n",
       "      <td>0.0</td>\n",
       "      <td>5.0</td>\n",
       "      <td>4.0</td>\n",
       "      <td>25.0</td>\n",
       "    </tr>\n",
       "    <tr>\n",
       "      <th>PD-128</th>\n",
       "      <td>NaN</td>\n",
       "      <td>1.0</td>\n",
       "      <td>12.0</td>\n",
       "      <td>1.0</td>\n",
       "      <td>12.0</td>\n",
       "      <td>NaN</td>\n",
       "      <td>NaN</td>\n",
       "    </tr>\n",
       "  </tbody>\n",
       "</table>\n",
       "</div>"
      ],
      "text/plain": [
       "       dep.scale  dep.severity-1  HDRS-17.score-1  dep.severity-total  \\\n",
       "ID                                                                      \n",
       "PN-020       NaN             0.0              1.0                 0.0   \n",
       "PN-021       NaN             0.0              3.0                 0.0   \n",
       "PN-029       NaN             0.0              0.0                 0.0   \n",
       "PD-133       NaN             NaN              NaN                 0.0   \n",
       "PD-134       NaN             NaN              NaN                 1.0   \n",
       "PD-062       NaN             1.0             12.0                 0.0   \n",
       "PD-014       NaN             0.0              2.0                 1.0   \n",
       "PD-069       NaN             0.0              6.0                 0.0   \n",
       "PD-077       NaN             0.0              4.0                 0.0   \n",
       "PD-135       NaN             0.0              4.0                 0.0   \n",
       "PD-128       NaN             1.0             12.0                 1.0   \n",
       "\n",
       "        HDRS-17.score  dep.severity-0  HDRS-17.score-0  \n",
       "ID                                                      \n",
       "PN-020            1.0             NaN              NaN  \n",
       "PN-021            3.0             NaN              NaN  \n",
       "PN-029            0.0             NaN              NaN  \n",
       "PD-133            6.0             NaN              NaN  \n",
       "PD-134            8.0             NaN              NaN  \n",
       "PD-062            5.0             2.0             23.0  \n",
       "PD-014            9.0             1.0             16.0  \n",
       "PD-069            4.0             2.0             19.0  \n",
       "PD-077            4.0             2.0             17.0  \n",
       "PD-135            5.0             4.0             25.0  \n",
       "PD-128           12.0             NaN              NaN  "
      ]
     },
     "execution_count": 322,
     "metadata": {},
     "output_type": "execute_result"
    }
   ],
   "source": [
    "x[x['dep.scale'].isna() & ~x['dep.severity-total'].isna()][dep_scales]"
   ]
  },
  {
   "cell_type": "code",
   "execution_count": 323,
   "id": "9767db60",
   "metadata": {
    "scrolled": true
   },
   "outputs": [],
   "source": [
    "x.loc[x[x['dep.scale'].isna() & ~x['dep.severity-1'].isna()].index, 'dep.scale'] = 'HDRS'"
   ]
  },
  {
   "cell_type": "code",
   "execution_count": 324,
   "id": "37b0d0ad",
   "metadata": {
    "scrolled": true
   },
   "outputs": [],
   "source": [
    "x.loc[x[x['dep.scale'].isna() & ~x['dep.severity-total'].isna()].index, 'dep.scale'] = 'HDRS'"
   ]
  },
  {
   "cell_type": "code",
   "execution_count": 325,
   "id": "571fd3e5",
   "metadata": {
    "scrolled": true
   },
   "outputs": [
    {
     "data": {
      "text/html": [
       "<div>\n",
       "<style scoped>\n",
       "    .dataframe tbody tr th:only-of-type {\n",
       "        vertical-align: middle;\n",
       "    }\n",
       "\n",
       "    .dataframe tbody tr th {\n",
       "        vertical-align: top;\n",
       "    }\n",
       "\n",
       "    .dataframe thead th {\n",
       "        text-align: right;\n",
       "    }\n",
       "</style>\n",
       "<table border=\"1\" class=\"dataframe\">\n",
       "  <thead>\n",
       "    <tr style=\"text-align: right;\">\n",
       "      <th></th>\n",
       "      <th>dep.scale</th>\n",
       "      <th>dep.severity-1</th>\n",
       "      <th>HDRS-17.score-1</th>\n",
       "      <th>dep.severity-total</th>\n",
       "      <th>HDRS-17.score</th>\n",
       "      <th>dep.severity-0</th>\n",
       "      <th>HDRS-17.score-0</th>\n",
       "    </tr>\n",
       "    <tr>\n",
       "      <th>ID</th>\n",
       "      <th></th>\n",
       "      <th></th>\n",
       "      <th></th>\n",
       "      <th></th>\n",
       "      <th></th>\n",
       "      <th></th>\n",
       "      <th></th>\n",
       "    </tr>\n",
       "  </thead>\n",
       "  <tbody>\n",
       "  </tbody>\n",
       "</table>\n",
       "</div>"
      ],
      "text/plain": [
       "Empty DataFrame\n",
       "Columns: [dep.scale, dep.severity-1, HDRS-17.score-1, dep.severity-total, HDRS-17.score, dep.severity-0, HDRS-17.score-0]\n",
       "Index: []"
      ]
     },
     "execution_count": 325,
     "metadata": {},
     "output_type": "execute_result"
    }
   ],
   "source": [
    "x[~x['HDRS-17.score-1'].isna() & x['dep.severity-1'].isna()][dep_scales]"
   ]
  },
  {
   "cell_type": "code",
   "execution_count": 326,
   "id": "8caab270",
   "metadata": {
    "scrolled": true
   },
   "outputs": [
    {
     "data": {
      "text/html": [
       "<div>\n",
       "<style scoped>\n",
       "    .dataframe tbody tr th:only-of-type {\n",
       "        vertical-align: middle;\n",
       "    }\n",
       "\n",
       "    .dataframe tbody tr th {\n",
       "        vertical-align: top;\n",
       "    }\n",
       "\n",
       "    .dataframe thead th {\n",
       "        text-align: right;\n",
       "    }\n",
       "</style>\n",
       "<table border=\"1\" class=\"dataframe\">\n",
       "  <thead>\n",
       "    <tr style=\"text-align: right;\">\n",
       "      <th></th>\n",
       "      <th>dep.scale</th>\n",
       "      <th>dep.severity-1</th>\n",
       "      <th>HDRS-17.score-1</th>\n",
       "      <th>dep.severity-total</th>\n",
       "      <th>HDRS-17.score</th>\n",
       "      <th>dep.severity-0</th>\n",
       "      <th>HDRS-17.score-0</th>\n",
       "    </tr>\n",
       "    <tr>\n",
       "      <th>ID</th>\n",
       "      <th></th>\n",
       "      <th></th>\n",
       "      <th></th>\n",
       "      <th></th>\n",
       "      <th></th>\n",
       "      <th></th>\n",
       "      <th></th>\n",
       "    </tr>\n",
       "  </thead>\n",
       "  <tbody>\n",
       "  </tbody>\n",
       "</table>\n",
       "</div>"
      ],
      "text/plain": [
       "Empty DataFrame\n",
       "Columns: [dep.scale, dep.severity-1, HDRS-17.score-1, dep.severity-total, HDRS-17.score, dep.severity-0, HDRS-17.score-0]\n",
       "Index: []"
      ]
     },
     "execution_count": 326,
     "metadata": {},
     "output_type": "execute_result"
    }
   ],
   "source": [
    "x[~x['HDRS-17.score'].isna() & x['dep.severity-total'].isna()][dep_scales]"
   ]
  },
  {
   "cell_type": "code",
   "execution_count": 327,
   "id": "c8e4e5e8",
   "metadata": {
    "scrolled": true
   },
   "outputs": [],
   "source": [
    "def score_hdrs_17_severity(score):\n",
    "    if score <= 7:\n",
    "        res = 0\n",
    "    elif score <= 16:\n",
    "        res = 1\n",
    "    elif score <= 19:\n",
    "        res = 2\n",
    "    elif score <= 23:\n",
    "        res = 3\n",
    "    else:\n",
    "        res = 4\n",
    "    return res"
   ]
  },
  {
   "cell_type": "code",
   "execution_count": 328,
   "id": "2c9d9109",
   "metadata": {
    "scrolled": true
   },
   "outputs": [
    {
     "data": {
      "text/html": [
       "<div>\n",
       "<style scoped>\n",
       "    .dataframe tbody tr th:only-of-type {\n",
       "        vertical-align: middle;\n",
       "    }\n",
       "\n",
       "    .dataframe tbody tr th {\n",
       "        vertical-align: top;\n",
       "    }\n",
       "\n",
       "    .dataframe thead th {\n",
       "        text-align: right;\n",
       "    }\n",
       "</style>\n",
       "<table border=\"1\" class=\"dataframe\">\n",
       "  <thead>\n",
       "    <tr style=\"text-align: right;\">\n",
       "      <th></th>\n",
       "      <th>dep.scale</th>\n",
       "      <th>dep.severity-1</th>\n",
       "      <th>HDRS-17.score-1</th>\n",
       "      <th>dep.severity-total</th>\n",
       "      <th>HDRS-17.score</th>\n",
       "      <th>dep.severity-0</th>\n",
       "      <th>HDRS-17.score-0</th>\n",
       "    </tr>\n",
       "    <tr>\n",
       "      <th>ID</th>\n",
       "      <th></th>\n",
       "      <th></th>\n",
       "      <th></th>\n",
       "      <th></th>\n",
       "      <th></th>\n",
       "      <th></th>\n",
       "      <th></th>\n",
       "    </tr>\n",
       "  </thead>\n",
       "  <tbody>\n",
       "  </tbody>\n",
       "</table>\n",
       "</div>"
      ],
      "text/plain": [
       "Empty DataFrame\n",
       "Columns: [dep.scale, dep.severity-1, HDRS-17.score-1, dep.severity-total, HDRS-17.score, dep.severity-0, HDRS-17.score-0]\n",
       "Index: []"
      ]
     },
     "execution_count": 328,
     "metadata": {},
     "output_type": "execute_result"
    }
   ],
   "source": [
    "x[x['HDRS-17.score-1'] >= 19][dep_scales].dropna()"
   ]
  },
  {
   "cell_type": "code",
   "execution_count": 329,
   "id": "04d606f5",
   "metadata": {},
   "outputs": [],
   "source": [
    "x.loc['PD-116', 'dep.severity-1'] = 3.0"
   ]
  },
  {
   "cell_type": "code",
   "execution_count": 330,
   "id": "6878889a",
   "metadata": {
    "scrolled": true
   },
   "outputs": [],
   "source": [
    "# x.loc[x[~x['HDRS-17.score'].isna() & x['dep.severity-1'].isna()].index, 'HDRS-17.score'] = x[~x['HDRS-17.score'].isna() & x['dep.severity-1'].isna()]['HDRS-17.score'].apply(score_hdrs_17_severity)"
   ]
  },
  {
   "cell_type": "code",
   "execution_count": 331,
   "id": "553f7874",
   "metadata": {},
   "outputs": [
    {
     "data": {
      "text/html": [
       "<div>\n",
       "<style scoped>\n",
       "    .dataframe tbody tr th:only-of-type {\n",
       "        vertical-align: middle;\n",
       "    }\n",
       "\n",
       "    .dataframe tbody tr th {\n",
       "        vertical-align: top;\n",
       "    }\n",
       "\n",
       "    .dataframe thead th {\n",
       "        text-align: right;\n",
       "    }\n",
       "</style>\n",
       "<table border=\"1\" class=\"dataframe\">\n",
       "  <thead>\n",
       "    <tr style=\"text-align: right;\">\n",
       "      <th></th>\n",
       "      <th>dep.scale</th>\n",
       "      <th>dep.severity-1</th>\n",
       "      <th>HDRS-17.score-1</th>\n",
       "      <th>dep.severity-total</th>\n",
       "      <th>HDRS-17.score</th>\n",
       "      <th>dep.severity-0</th>\n",
       "      <th>HDRS-17.score-0</th>\n",
       "    </tr>\n",
       "    <tr>\n",
       "      <th>ID</th>\n",
       "      <th></th>\n",
       "      <th></th>\n",
       "      <th></th>\n",
       "      <th></th>\n",
       "      <th></th>\n",
       "      <th></th>\n",
       "      <th></th>\n",
       "    </tr>\n",
       "  </thead>\n",
       "  <tbody>\n",
       "    <tr>\n",
       "      <th>PD-108</th>\n",
       "      <td>HDRS</td>\n",
       "      <td>NaN</td>\n",
       "      <td>NaN</td>\n",
       "      <td>3.0</td>\n",
       "      <td>36.0</td>\n",
       "      <td>NaN</td>\n",
       "      <td>NaN</td>\n",
       "    </tr>\n",
       "    <tr>\n",
       "      <th>PD-129</th>\n",
       "      <td>HDRS</td>\n",
       "      <td>NaN</td>\n",
       "      <td>NaN</td>\n",
       "      <td>1.0</td>\n",
       "      <td>12.0</td>\n",
       "      <td>NaN</td>\n",
       "      <td>NaN</td>\n",
       "    </tr>\n",
       "    <tr>\n",
       "      <th>PD-133</th>\n",
       "      <td>HDRS</td>\n",
       "      <td>NaN</td>\n",
       "      <td>NaN</td>\n",
       "      <td>0.0</td>\n",
       "      <td>6.0</td>\n",
       "      <td>NaN</td>\n",
       "      <td>NaN</td>\n",
       "    </tr>\n",
       "    <tr>\n",
       "      <th>PD-134</th>\n",
       "      <td>HDRS</td>\n",
       "      <td>NaN</td>\n",
       "      <td>NaN</td>\n",
       "      <td>1.0</td>\n",
       "      <td>8.0</td>\n",
       "      <td>NaN</td>\n",
       "      <td>NaN</td>\n",
       "    </tr>\n",
       "  </tbody>\n",
       "</table>\n",
       "</div>"
      ],
      "text/plain": [
       "       dep.scale  dep.severity-1  HDRS-17.score-1  dep.severity-total  \\\n",
       "ID                                                                      \n",
       "PD-108      HDRS             NaN              NaN                 3.0   \n",
       "PD-129      HDRS             NaN              NaN                 1.0   \n",
       "PD-133      HDRS             NaN              NaN                 0.0   \n",
       "PD-134      HDRS             NaN              NaN                 1.0   \n",
       "\n",
       "        HDRS-17.score  dep.severity-0  HDRS-17.score-0  \n",
       "ID                                                      \n",
       "PD-108           36.0             NaN              NaN  \n",
       "PD-129           12.0             NaN              NaN  \n",
       "PD-133            6.0             NaN              NaN  \n",
       "PD-134            8.0             NaN              NaN  "
      ]
     },
     "execution_count": 331,
     "metadata": {},
     "output_type": "execute_result"
    }
   ],
   "source": [
    "x[~x['HDRS-17.score'].isna() & x['HDRS-17.score-1'].isna()][dep_scales]"
   ]
  },
  {
   "cell_type": "code",
   "execution_count": 332,
   "id": "ce80df25",
   "metadata": {},
   "outputs": [],
   "source": [
    "x.loc[x[~x['HDRS-17.score'].isna() & x['HDRS-17.score-1'].isna()].index, 'HDRS-17.score-1'] = x[~x['HDRS-17.score'].isna() & x['HDRS-17.score-1'].isna()]['HDRS-17.score']"
   ]
  },
  {
   "cell_type": "code",
   "execution_count": 333,
   "id": "0cd6c5fa",
   "metadata": {},
   "outputs": [],
   "source": [
    "x.loc[x[~x['dep.severity-total'].isna() & x['dep.severity-1'].isna()].index, 'dep.severity-1'] = x[~x['dep.severity-total'].isna() & x['dep.severity-1'].isna()]['dep.severity-total']"
   ]
  },
  {
   "cell_type": "code",
   "execution_count": 334,
   "id": "6c05ddda",
   "metadata": {},
   "outputs": [
    {
     "data": {
      "text/plain": [
       "0.0"
      ]
     },
     "execution_count": 334,
     "metadata": {},
     "output_type": "execute_result"
    }
   ],
   "source": [
    "x.loc['PD-126', 'dep.severity-total']"
   ]
  },
  {
   "cell_type": "code",
   "execution_count": 335,
   "id": "a2355167",
   "metadata": {},
   "outputs": [
    {
     "data": {
      "text/plain": [
       "0.0"
      ]
     },
     "execution_count": 335,
     "metadata": {},
     "output_type": "execute_result"
    }
   ],
   "source": [
    "x.loc['PD-126', 'dep.severity-1']"
   ]
  },
  {
   "cell_type": "code",
   "execution_count": 336,
   "id": "120b8dcd",
   "metadata": {},
   "outputs": [
    {
     "data": {
      "text/plain": [
       "nan"
      ]
     },
     "execution_count": 336,
     "metadata": {},
     "output_type": "execute_result"
    }
   ],
   "source": [
    "x.loc['PD-126', 'HDRS-17.score']"
   ]
  },
  {
   "cell_type": "code",
   "execution_count": 337,
   "id": "afc18e48",
   "metadata": {},
   "outputs": [
    {
     "data": {
      "text/plain": [
       "nan"
      ]
     },
     "execution_count": 337,
     "metadata": {},
     "output_type": "execute_result"
    }
   ],
   "source": [
    "x.loc['PD-126', 'HDRS-17.score-1']"
   ]
  },
  {
   "cell_type": "code",
   "execution_count": 338,
   "id": "0b73e7b6",
   "metadata": {},
   "outputs": [
    {
     "data": {
      "text/plain": [
       "nan"
      ]
     },
     "execution_count": 338,
     "metadata": {},
     "output_type": "execute_result"
    }
   ],
   "source": [
    "x.loc['PD-126', 'HDRS-17.score-0']"
   ]
  },
  {
   "cell_type": "code",
   "execution_count": 339,
   "id": "c0c51c13",
   "metadata": {},
   "outputs": [
    {
     "data": {
      "text/plain": [
       "nan"
      ]
     },
     "execution_count": 339,
     "metadata": {},
     "output_type": "execute_result"
    }
   ],
   "source": [
    "x.loc['PD-126', 'HDRS-17.score-1']"
   ]
  },
  {
   "cell_type": "code",
   "execution_count": 340,
   "id": "1d268115",
   "metadata": {},
   "outputs": [],
   "source": [
    "x.drop(columns=['HDRS-17.score', 'dep.severity-total'], inplace=True)"
   ]
  },
  {
   "cell_type": "code",
   "execution_count": 341,
   "id": "2e586bdb",
   "metadata": {},
   "outputs": [
    {
     "data": {
      "text/plain": [
       "['CPE1',\n",
       " 'CPE2',\n",
       " 'GAF1',\n",
       " 'GAF2',\n",
       " 'HDRS-17.score-0',\n",
       " 'HDRS-17.score-1',\n",
       " 'HDRS-17.score-2',\n",
       " 'PANSS N1',\n",
       " 'PANSS N2',\n",
       " 'PANSS N3',\n",
       " 'PANSS N4',\n",
       " 'PANSS N5',\n",
       " 'PANSS N6',\n",
       " 'PANSS N7',\n",
       " 'PANSS O1',\n",
       " 'PANSS O10',\n",
       " 'PANSS O11',\n",
       " 'PANSS O12',\n",
       " 'PANSS O13',\n",
       " 'PANSS O14',\n",
       " 'PANSS O15',\n",
       " 'PANSS O16',\n",
       " 'PANSS O2',\n",
       " 'PANSS O3',\n",
       " 'PANSS O4',\n",
       " 'PANSS O5',\n",
       " 'PANSS O6',\n",
       " 'PANSS O7',\n",
       " 'PANSS O8',\n",
       " 'PANSS O9',\n",
       " 'PANSS P1',\n",
       " 'PANSS P2',\n",
       " 'PANSS P3',\n",
       " 'PANSS P4',\n",
       " 'PANSS P5',\n",
       " 'PANSS P6',\n",
       " 'PANSS P7',\n",
       " 'age',\n",
       " 'age-onset',\n",
       " 'age.group',\n",
       " 'condition-at-discharge',\n",
       " 'dep.scale',\n",
       " 'dep.severity-0',\n",
       " 'dep.severity-1',\n",
       " 'dep.severity-2',\n",
       " 'diagnosis.group',\n",
       " 'diagnosis.type',\n",
       " 'diagnosis_code',\n",
       " 'diagnosis_eng',\n",
       " 'diagnosis_rus',\n",
       " 'education.level.code',\n",
       " 'education.level.eng',\n",
       " 'education.years',\n",
       " 'exacerbation',\n",
       " 'group.code',\n",
       " 'longitudinal',\n",
       " 'oldID',\n",
       " 'panss-1-td',\n",
       " 'panss-1-total',\n",
       " 'panss-n-1-total',\n",
       " 'panss-o-1-total',\n",
       " 'panss-p-1-total',\n",
       " 'panss-sum',\n",
       " 'rehospitalization',\n",
       " 'sans-1-total',\n",
       " 'sans-2-total',\n",
       " 'saps-ftd-1-total',\n",
       " 'saps-ftd-2-total',\n",
       " 'sex',\n",
       " 'socstat1',\n",
       " 'socstat2',\n",
       " 'sops-1-total',\n",
       " 'sops-2-total',\n",
       " 'sops-c-total',\n",
       " 'sops-d-total',\n",
       " 'sops-n-total',\n",
       " 'sops-p-total',\n",
       " 'td.scales',\n",
       " 'td.severity',\n",
       " 'td.severity-2']"
      ]
     },
     "execution_count": 341,
     "metadata": {},
     "output_type": "execute_result"
    }
   ],
   "source": [
    "sorted(x.columns)"
   ]
  },
  {
   "cell_type": "markdown",
   "id": "a20822b2",
   "metadata": {},
   "source": [
    "### save data"
   ]
  },
  {
   "cell_type": "code",
   "execution_count": 342,
   "id": "fb42e55c",
   "metadata": {
    "scrolled": true
   },
   "outputs": [],
   "source": [
    "x.to_csv('combined_data.tsv', sep='\\t')"
   ]
  },
  {
   "cell_type": "markdown",
   "id": "55ac5a83",
   "metadata": {},
   "source": [
    "## Get ids for which transcripts are available"
   ]
  },
  {
   "cell_type": "code",
   "execution_count": 343,
   "id": "4431b317",
   "metadata": {
    "scrolled": true
   },
   "outputs": [],
   "source": [
    "df = pd.read_csv('transcript_lex_by_task_with_dots.tsv', sep='\\t', index_col=0)"
   ]
  },
  {
   "cell_type": "code",
   "execution_count": 344,
   "id": "2b39715e",
   "metadata": {
    "scrolled": true
   },
   "outputs": [],
   "source": [
    "first = [x.split('_')[0] for x in df.index if x.endswith('1')]\n",
    "second = [x.split('_')[0] for x in df.index if x.endswith('2')]\n",
    "third = [x.split('_')[0] for x in df.index if x.endswith('3')]"
   ]
  },
  {
   "cell_type": "code",
   "execution_count": 345,
   "id": "2ca8027c",
   "metadata": {
    "scrolled": true
   },
   "outputs": [
    {
     "data": {
      "text/plain": [
       "236"
      ]
     },
     "execution_count": 345,
     "metadata": {},
     "output_type": "execute_result"
    }
   ],
   "source": [
    "len(first)"
   ]
  },
  {
   "cell_type": "code",
   "execution_count": 346,
   "id": "8a68d770",
   "metadata": {
    "scrolled": true
   },
   "outputs": [
    {
     "data": {
      "text/plain": [
       "46"
      ]
     },
     "execution_count": 346,
     "metadata": {},
     "output_type": "execute_result"
    }
   ],
   "source": [
    "len(second)"
   ]
  },
  {
   "cell_type": "code",
   "execution_count": 347,
   "id": "21c503c1",
   "metadata": {
    "scrolled": true
   },
   "outputs": [
    {
     "data": {
      "text/plain": [
       "17"
      ]
     },
     "execution_count": 347,
     "metadata": {},
     "output_type": "execute_result"
    }
   ],
   "source": [
    "len(third)"
   ]
  },
  {
   "cell_type": "code",
   "execution_count": 348,
   "id": "194b37c0",
   "metadata": {
    "scrolled": true
   },
   "outputs": [],
   "source": [
    "def change_id(ID):\n",
    "    if ID.startswith('PD'):\n",
    "        ID = 'PD-' + ID[2:]\n",
    "    elif ID.startswith('PN'):\n",
    "        ID ='PN-' + ID[2:]\n",
    "    elif ID.startswith('S'):\n",
    "        ID = 'PD-1' + ID[1:]\n",
    "    elif ID.startswith('H'):\n",
    "        ID = 'PN-0' + ID[1:]\n",
    "    elif ID.startswith('N'):\n",
    "        ID = 'N-' + ID[1:]\n",
    "    return ID"
   ]
  },
  {
   "cell_type": "code",
   "execution_count": 349,
   "id": "ddc041cf",
   "metadata": {
    "scrolled": true
   },
   "outputs": [],
   "source": [
    "used_id_1 = [change_id(i) for i in first]\n",
    "used_id_2 = [change_id(i) for i in second]\n",
    "used_id_3 = [change_id(i) for i in third]"
   ]
  },
  {
   "cell_type": "markdown",
   "id": "ec332d41",
   "metadata": {},
   "source": [
    "## Identify NAs in the used ids"
   ]
  },
  {
   "cell_type": "code",
   "execution_count": 350,
   "id": "52ef877e",
   "metadata": {
    "scrolled": true
   },
   "outputs": [
    {
     "data": {
      "text/plain": [
       "{'PN-238', 'PN-327'}"
      ]
     },
     "execution_count": 350,
     "metadata": {},
     "output_type": "execute_result"
    }
   ],
   "source": [
    "set(used_id_1).difference(set(x.index))"
   ]
  },
  {
   "cell_type": "code",
   "execution_count": 351,
   "id": "c884369b",
   "metadata": {
    "scrolled": true
   },
   "outputs": [],
   "source": [
    "used_id = set(used_id_1) - set(used_id_1).difference(set(x.index))"
   ]
  },
  {
   "cell_type": "code",
   "execution_count": 352,
   "id": "084b8250",
   "metadata": {
    "scrolled": true
   },
   "outputs": [],
   "source": [
    "x_to_use = x.loc[list(used_id)]"
   ]
  },
  {
   "cell_type": "markdown",
   "id": "d42287db",
   "metadata": {},
   "source": [
    "### Drop NA / excluded"
   ]
  },
  {
   "cell_type": "code",
   "execution_count": 353,
   "id": "577d0ec9",
   "metadata": {
    "scrolled": true
   },
   "outputs": [],
   "source": [
    "x_to_use.drop(index=x[x['diagnosis_code'] == 'F21?'].index, inplace=True)"
   ]
  },
  {
   "cell_type": "code",
   "execution_count": 354,
   "id": "545b61e1",
   "metadata": {
    "scrolled": true
   },
   "outputs": [],
   "source": [
    "x_to_use.dropna(how='all', inplace=True)"
   ]
  },
  {
   "cell_type": "code",
   "execution_count": 355,
   "id": "cbf3d78e",
   "metadata": {},
   "outputs": [
    {
     "data": {
      "text/html": [
       "<div>\n",
       "<style scoped>\n",
       "    .dataframe tbody tr th:only-of-type {\n",
       "        vertical-align: middle;\n",
       "    }\n",
       "\n",
       "    .dataframe tbody tr th {\n",
       "        vertical-align: top;\n",
       "    }\n",
       "\n",
       "    .dataframe thead th {\n",
       "        text-align: right;\n",
       "    }\n",
       "</style>\n",
       "<table border=\"1\" class=\"dataframe\">\n",
       "  <thead>\n",
       "    <tr style=\"text-align: right;\">\n",
       "      <th></th>\n",
       "      <th>age</th>\n",
       "      <th>dep.scale</th>\n",
       "      <th>dep.severity-1</th>\n",
       "      <th>group.code</th>\n",
       "      <th>diagnosis.group</th>\n",
       "      <th>diagnosis.type</th>\n",
       "      <th>diagnosis_code</th>\n",
       "      <th>diagnosis_eng</th>\n",
       "      <th>diagnosis_rus</th>\n",
       "      <th>education.level.code</th>\n",
       "      <th>...</th>\n",
       "      <th>sans-1-total</th>\n",
       "      <th>saps-ftd-1-total</th>\n",
       "      <th>sex</th>\n",
       "      <th>sops-1-total</th>\n",
       "      <th>sops-c-total</th>\n",
       "      <th>sops-d-total</th>\n",
       "      <th>sops-n-total</th>\n",
       "      <th>sops-p-total</th>\n",
       "      <th>td.scales</th>\n",
       "      <th>td.severity</th>\n",
       "    </tr>\n",
       "    <tr>\n",
       "      <th>ID</th>\n",
       "      <th></th>\n",
       "      <th></th>\n",
       "      <th></th>\n",
       "      <th></th>\n",
       "      <th></th>\n",
       "      <th></th>\n",
       "      <th></th>\n",
       "      <th></th>\n",
       "      <th></th>\n",
       "      <th></th>\n",
       "      <th></th>\n",
       "      <th></th>\n",
       "      <th></th>\n",
       "      <th></th>\n",
       "      <th></th>\n",
       "      <th></th>\n",
       "      <th></th>\n",
       "      <th></th>\n",
       "      <th></th>\n",
       "      <th></th>\n",
       "      <th></th>\n",
       "    </tr>\n",
       "  </thead>\n",
       "  <tbody>\n",
       "    <tr>\n",
       "      <th>PD-157</th>\n",
       "      <td>NaN</td>\n",
       "      <td>NaN</td>\n",
       "      <td>NaN</td>\n",
       "      <td>NaN</td>\n",
       "      <td>patient</td>\n",
       "      <td>NaN</td>\n",
       "      <td>NaN</td>\n",
       "      <td>NaN</td>\n",
       "      <td>NaN</td>\n",
       "      <td>NaN</td>\n",
       "      <td>...</td>\n",
       "      <td>NaN</td>\n",
       "      <td>NaN</td>\n",
       "      <td>NaN</td>\n",
       "      <td>NaN</td>\n",
       "      <td>NaN</td>\n",
       "      <td>NaN</td>\n",
       "      <td>NaN</td>\n",
       "      <td>NaN</td>\n",
       "      <td>NaN</td>\n",
       "      <td>NaN</td>\n",
       "    </tr>\n",
       "    <tr>\n",
       "      <th>PD-153</th>\n",
       "      <td>NaN</td>\n",
       "      <td>NaN</td>\n",
       "      <td>NaN</td>\n",
       "      <td>NaN</td>\n",
       "      <td>patient</td>\n",
       "      <td>NaN</td>\n",
       "      <td>NaN</td>\n",
       "      <td>NaN</td>\n",
       "      <td>NaN</td>\n",
       "      <td>NaN</td>\n",
       "      <td>...</td>\n",
       "      <td>NaN</td>\n",
       "      <td>NaN</td>\n",
       "      <td>NaN</td>\n",
       "      <td>NaN</td>\n",
       "      <td>NaN</td>\n",
       "      <td>NaN</td>\n",
       "      <td>NaN</td>\n",
       "      <td>NaN</td>\n",
       "      <td>NaN</td>\n",
       "      <td>NaN</td>\n",
       "    </tr>\n",
       "    <tr>\n",
       "      <th>PD-104</th>\n",
       "      <td>NaN</td>\n",
       "      <td>NaN</td>\n",
       "      <td>NaN</td>\n",
       "      <td>NaN</td>\n",
       "      <td>patient</td>\n",
       "      <td>NaN</td>\n",
       "      <td>NaN</td>\n",
       "      <td>NaN</td>\n",
       "      <td>NaN</td>\n",
       "      <td>NaN</td>\n",
       "      <td>...</td>\n",
       "      <td>NaN</td>\n",
       "      <td>NaN</td>\n",
       "      <td>NaN</td>\n",
       "      <td>NaN</td>\n",
       "      <td>NaN</td>\n",
       "      <td>NaN</td>\n",
       "      <td>NaN</td>\n",
       "      <td>NaN</td>\n",
       "      <td>NaN</td>\n",
       "      <td>NaN</td>\n",
       "    </tr>\n",
       "    <tr>\n",
       "      <th>PD-152</th>\n",
       "      <td>NaN</td>\n",
       "      <td>NaN</td>\n",
       "      <td>NaN</td>\n",
       "      <td>NaN</td>\n",
       "      <td>patient</td>\n",
       "      <td>NaN</td>\n",
       "      <td>NaN</td>\n",
       "      <td>NaN</td>\n",
       "      <td>NaN</td>\n",
       "      <td>NaN</td>\n",
       "      <td>...</td>\n",
       "      <td>NaN</td>\n",
       "      <td>NaN</td>\n",
       "      <td>NaN</td>\n",
       "      <td>NaN</td>\n",
       "      <td>NaN</td>\n",
       "      <td>NaN</td>\n",
       "      <td>NaN</td>\n",
       "      <td>NaN</td>\n",
       "      <td>NaN</td>\n",
       "      <td>NaN</td>\n",
       "    </tr>\n",
       "    <tr>\n",
       "      <th>PD-128</th>\n",
       "      <td>NaN</td>\n",
       "      <td>HDRS</td>\n",
       "      <td>1.0</td>\n",
       "      <td>NaN</td>\n",
       "      <td>patient</td>\n",
       "      <td>NaN</td>\n",
       "      <td>NaN</td>\n",
       "      <td>NaN</td>\n",
       "      <td>NaN</td>\n",
       "      <td>NaN</td>\n",
       "      <td>...</td>\n",
       "      <td>NaN</td>\n",
       "      <td>NaN</td>\n",
       "      <td>NaN</td>\n",
       "      <td>NaN</td>\n",
       "      <td>NaN</td>\n",
       "      <td>NaN</td>\n",
       "      <td>NaN</td>\n",
       "      <td>NaN</td>\n",
       "      <td>NaN</td>\n",
       "      <td>NaN</td>\n",
       "    </tr>\n",
       "    <tr>\n",
       "      <th>PD-156</th>\n",
       "      <td>NaN</td>\n",
       "      <td>NaN</td>\n",
       "      <td>NaN</td>\n",
       "      <td>NaN</td>\n",
       "      <td>patient</td>\n",
       "      <td>NaN</td>\n",
       "      <td>NaN</td>\n",
       "      <td>NaN</td>\n",
       "      <td>NaN</td>\n",
       "      <td>NaN</td>\n",
       "      <td>...</td>\n",
       "      <td>NaN</td>\n",
       "      <td>NaN</td>\n",
       "      <td>NaN</td>\n",
       "      <td>NaN</td>\n",
       "      <td>NaN</td>\n",
       "      <td>NaN</td>\n",
       "      <td>NaN</td>\n",
       "      <td>NaN</td>\n",
       "      <td>NaN</td>\n",
       "      <td>NaN</td>\n",
       "    </tr>\n",
       "    <tr>\n",
       "      <th>PD-155</th>\n",
       "      <td>NaN</td>\n",
       "      <td>NaN</td>\n",
       "      <td>NaN</td>\n",
       "      <td>NaN</td>\n",
       "      <td>patient</td>\n",
       "      <td>NaN</td>\n",
       "      <td>NaN</td>\n",
       "      <td>NaN</td>\n",
       "      <td>NaN</td>\n",
       "      <td>NaN</td>\n",
       "      <td>...</td>\n",
       "      <td>NaN</td>\n",
       "      <td>NaN</td>\n",
       "      <td>NaN</td>\n",
       "      <td>NaN</td>\n",
       "      <td>NaN</td>\n",
       "      <td>NaN</td>\n",
       "      <td>NaN</td>\n",
       "      <td>NaN</td>\n",
       "      <td>NaN</td>\n",
       "      <td>NaN</td>\n",
       "    </tr>\n",
       "    <tr>\n",
       "      <th>PD-151</th>\n",
       "      <td>NaN</td>\n",
       "      <td>NaN</td>\n",
       "      <td>NaN</td>\n",
       "      <td>NaN</td>\n",
       "      <td>patient</td>\n",
       "      <td>NaN</td>\n",
       "      <td>NaN</td>\n",
       "      <td>NaN</td>\n",
       "      <td>NaN</td>\n",
       "      <td>NaN</td>\n",
       "      <td>...</td>\n",
       "      <td>NaN</td>\n",
       "      <td>NaN</td>\n",
       "      <td>NaN</td>\n",
       "      <td>NaN</td>\n",
       "      <td>NaN</td>\n",
       "      <td>NaN</td>\n",
       "      <td>NaN</td>\n",
       "      <td>NaN</td>\n",
       "      <td>NaN</td>\n",
       "      <td>NaN</td>\n",
       "    </tr>\n",
       "  </tbody>\n",
       "</table>\n",
       "<p>8 rows × 31 columns</p>\n",
       "</div>"
      ],
      "text/plain": [
       "        age dep.scale  dep.severity-1  group.code diagnosis.group  \\\n",
       "ID                                                                  \n",
       "PD-157  NaN       NaN             NaN         NaN         patient   \n",
       "PD-153  NaN       NaN             NaN         NaN         patient   \n",
       "PD-104  NaN       NaN             NaN         NaN         patient   \n",
       "PD-152  NaN       NaN             NaN         NaN         patient   \n",
       "PD-128  NaN      HDRS             1.0         NaN         patient   \n",
       "PD-156  NaN       NaN             NaN         NaN         patient   \n",
       "PD-155  NaN       NaN             NaN         NaN         patient   \n",
       "PD-151  NaN       NaN             NaN         NaN         patient   \n",
       "\n",
       "       diagnosis.type diagnosis_code diagnosis_eng diagnosis_rus  \\\n",
       "ID                                                                 \n",
       "PD-157            NaN            NaN           NaN           NaN   \n",
       "PD-153            NaN            NaN           NaN           NaN   \n",
       "PD-104            NaN            NaN           NaN           NaN   \n",
       "PD-152            NaN            NaN           NaN           NaN   \n",
       "PD-128            NaN            NaN           NaN           NaN   \n",
       "PD-156            NaN            NaN           NaN           NaN   \n",
       "PD-155            NaN            NaN           NaN           NaN   \n",
       "PD-151            NaN            NaN           NaN           NaN   \n",
       "\n",
       "        education.level.code  ... sans-1-total  saps-ftd-1-total  sex  \\\n",
       "ID                            ...                                       \n",
       "PD-157                   NaN  ...          NaN               NaN  NaN   \n",
       "PD-153                   NaN  ...          NaN               NaN  NaN   \n",
       "PD-104                   NaN  ...          NaN               NaN  NaN   \n",
       "PD-152                   NaN  ...          NaN               NaN  NaN   \n",
       "PD-128                   NaN  ...          NaN               NaN  NaN   \n",
       "PD-156                   NaN  ...          NaN               NaN  NaN   \n",
       "PD-155                   NaN  ...          NaN               NaN  NaN   \n",
       "PD-151                   NaN  ...          NaN               NaN  NaN   \n",
       "\n",
       "        sops-1-total  sops-c-total  sops-d-total  sops-n-total  sops-p-total  \\\n",
       "ID                                                                             \n",
       "PD-157           NaN           NaN           NaN           NaN           NaN   \n",
       "PD-153           NaN           NaN           NaN           NaN           NaN   \n",
       "PD-104           NaN           NaN           NaN           NaN           NaN   \n",
       "PD-152           NaN           NaN           NaN           NaN           NaN   \n",
       "PD-128           NaN           NaN           NaN           NaN           NaN   \n",
       "PD-156           NaN           NaN           NaN           NaN           NaN   \n",
       "PD-155           NaN           NaN           NaN           NaN           NaN   \n",
       "PD-151           NaN           NaN           NaN           NaN           NaN   \n",
       "\n",
       "        td.scales  td.severity  \n",
       "ID                              \n",
       "PD-157        NaN          NaN  \n",
       "PD-153        NaN          NaN  \n",
       "PD-104        NaN          NaN  \n",
       "PD-152        NaN          NaN  \n",
       "PD-128        NaN          NaN  \n",
       "PD-156        NaN          NaN  \n",
       "PD-155        NaN          NaN  \n",
       "PD-151        NaN          NaN  \n",
       "\n",
       "[8 rows x 31 columns]"
      ]
     },
     "execution_count": 355,
     "metadata": {},
     "output_type": "execute_result"
    }
   ],
   "source": [
    "x_to_use[x_to_use['age'].isna() & x_to_use['sex'].isna()][cols]"
   ]
  },
  {
   "cell_type": "code",
   "execution_count": 356,
   "id": "f0265de7",
   "metadata": {},
   "outputs": [],
   "source": [
    "x_to_use.drop(index=x_to_use[x_to_use['age'].isna() & x_to_use['sex'].isna()].index, inplace=True)"
   ]
  },
  {
   "cell_type": "code",
   "execution_count": 357,
   "id": "81477e6b",
   "metadata": {
    "scrolled": false
   },
   "outputs": [
    {
     "data": {
      "text/plain": [
       "age                      0\n",
       "dep.scale                0\n",
       "dep.severity-1           0\n",
       "group.code              31\n",
       "diagnosis.group          0\n",
       "diagnosis.type           0\n",
       "diagnosis_code           0\n",
       "diagnosis_eng            0\n",
       "diagnosis_rus           31\n",
       "education.level.code    31\n",
       "education.level.eng      3\n",
       "education.years          0\n",
       "exacerbation            37\n",
       "HDRS-17.score-1         10\n",
       "longitudinal            52\n",
       "panss-1-td              23\n",
       "panss-1-total           21\n",
       "panss-n-1-total         21\n",
       "panss-o-1-total         21\n",
       "panss-p-1-total         21\n",
       "rehospitalization       36\n",
       "sans-1-total            32\n",
       "saps-ftd-1-total        31\n",
       "sex                      0\n",
       "sops-1-total            72\n",
       "sops-c-total            58\n",
       "sops-d-total            58\n",
       "sops-n-total            58\n",
       "sops-p-total            58\n",
       "td.scales                3\n",
       "td.severity              1\n",
       "dtype: int64"
      ]
     },
     "execution_count": 357,
     "metadata": {},
     "output_type": "execute_result"
    }
   ],
   "source": [
    "x_to_use[x_to_use['diagnosis.group'] == 'patient'][cols].isna().sum(axis=0)"
   ]
  },
  {
   "cell_type": "code",
   "execution_count": 358,
   "id": "d9158452",
   "metadata": {},
   "outputs": [
    {
     "data": {
      "text/plain": [
       "Index(['PD-110', 'PD-119', 'PD-109', 'PD-126', 'PD-114', 'PD-121', 'PD-102',\n",
       "       'PD-105', 'PD-115', 'PD-120'],\n",
       "      dtype='object', name='ID')"
      ]
     },
     "execution_count": 358,
     "metadata": {},
     "output_type": "execute_result"
    }
   ],
   "source": [
    "x_to_use[x_to_use['diagnosis.group'] == 'patient'][x_to_use[x_to_use['diagnosis.group'] == 'patient']['HDRS-17.score-1'].isna()].index"
   ]
  },
  {
   "cell_type": "code",
   "execution_count": 359,
   "id": "e0acf265",
   "metadata": {
    "scrolled": true
   },
   "outputs": [],
   "source": [
    "cols_for_na_check = ['age', 'sex', 'education.years', 'td.severity', 'diagnosis_code', 'dep.scale', 'dep.severity-1']"
   ]
  },
  {
   "cell_type": "code",
   "execution_count": 360,
   "id": "cbad3db1",
   "metadata": {
    "scrolled": true
   },
   "outputs": [
    {
     "data": {
      "text/html": [
       "<style type=\"text/css\">\n",
       "#T_3d631_row0_col3 {\n",
       "  background-color: red;\n",
       "}\n",
       "</style>\n",
       "<table id=\"T_3d631\">\n",
       "  <thead>\n",
       "    <tr>\n",
       "      <th class=\"blank level0\" >&nbsp;</th>\n",
       "      <th id=\"T_3d631_level0_col0\" class=\"col_heading level0 col0\" >age</th>\n",
       "      <th id=\"T_3d631_level0_col1\" class=\"col_heading level0 col1\" >sex</th>\n",
       "      <th id=\"T_3d631_level0_col2\" class=\"col_heading level0 col2\" >education.years</th>\n",
       "      <th id=\"T_3d631_level0_col3\" class=\"col_heading level0 col3\" >td.severity</th>\n",
       "      <th id=\"T_3d631_level0_col4\" class=\"col_heading level0 col4\" >diagnosis_code</th>\n",
       "      <th id=\"T_3d631_level0_col5\" class=\"col_heading level0 col5\" >dep.scale</th>\n",
       "      <th id=\"T_3d631_level0_col6\" class=\"col_heading level0 col6\" >dep.severity-1</th>\n",
       "    </tr>\n",
       "    <tr>\n",
       "      <th class=\"index_name level0\" >ID</th>\n",
       "      <th class=\"blank col0\" >&nbsp;</th>\n",
       "      <th class=\"blank col1\" >&nbsp;</th>\n",
       "      <th class=\"blank col2\" >&nbsp;</th>\n",
       "      <th class=\"blank col3\" >&nbsp;</th>\n",
       "      <th class=\"blank col4\" >&nbsp;</th>\n",
       "      <th class=\"blank col5\" >&nbsp;</th>\n",
       "      <th class=\"blank col6\" >&nbsp;</th>\n",
       "    </tr>\n",
       "  </thead>\n",
       "  <tbody>\n",
       "    <tr>\n",
       "      <th id=\"T_3d631_level0_row0\" class=\"row_heading level0 row0\" >PD-135</th>\n",
       "      <td id=\"T_3d631_row0_col0\" class=\"data row0 col0\" >17.000000</td>\n",
       "      <td id=\"T_3d631_row0_col1\" class=\"data row0 col1\" >female</td>\n",
       "      <td id=\"T_3d631_row0_col2\" class=\"data row0 col2\" >10.000000</td>\n",
       "      <td id=\"T_3d631_row0_col3\" class=\"data row0 col3\" >nan</td>\n",
       "      <td id=\"T_3d631_row0_col4\" class=\"data row0 col4\" >F25</td>\n",
       "      <td id=\"T_3d631_row0_col5\" class=\"data row0 col5\" >HDRS</td>\n",
       "      <td id=\"T_3d631_row0_col6\" class=\"data row0 col6\" >0.000000</td>\n",
       "    </tr>\n",
       "  </tbody>\n",
       "</table>\n"
      ],
      "text/plain": [
       "<pandas.io.formats.style.Styler at 0x7fb5759c2490>"
      ]
     },
     "execution_count": 360,
     "metadata": {},
     "output_type": "execute_result"
    }
   ],
   "source": [
    "patient_na = x_to_use[x_to_use['diagnosis.group'] == 'patient'][cols_for_na_check][x_to_use[x_to_use['diagnosis.group'] == 'patient'][cols_for_na_check].isna().sum(axis=1) != 0]\n",
    "patient_na.style.highlight_null()"
   ]
  },
  {
   "cell_type": "code",
   "execution_count": 361,
   "id": "3bc3a9d0",
   "metadata": {
    "scrolled": true
   },
   "outputs": [
    {
     "data": {
      "text/html": [
       "<style type=\"text/css\">\n",
       "#T_f4432_row0_col3 {\n",
       "  background-color: red;\n",
       "}\n",
       "</style>\n",
       "<table id=\"T_f4432\">\n",
       "  <thead>\n",
       "    <tr>\n",
       "      <th class=\"blank level0\" >&nbsp;</th>\n",
       "      <th id=\"T_f4432_level0_col0\" class=\"col_heading level0 col0\" >age</th>\n",
       "      <th id=\"T_f4432_level0_col1\" class=\"col_heading level0 col1\" >sex</th>\n",
       "      <th id=\"T_f4432_level0_col2\" class=\"col_heading level0 col2\" >education.years</th>\n",
       "      <th id=\"T_f4432_level0_col3\" class=\"col_heading level0 col3\" >td.severity</th>\n",
       "      <th id=\"T_f4432_level0_col4\" class=\"col_heading level0 col4\" >diagnosis_code</th>\n",
       "      <th id=\"T_f4432_level0_col5\" class=\"col_heading level0 col5\" >dep.scale</th>\n",
       "      <th id=\"T_f4432_level0_col6\" class=\"col_heading level0 col6\" >dep.severity-1</th>\n",
       "    </tr>\n",
       "    <tr>\n",
       "      <th class=\"index_name level0\" >ID</th>\n",
       "      <th class=\"blank col0\" >&nbsp;</th>\n",
       "      <th class=\"blank col1\" >&nbsp;</th>\n",
       "      <th class=\"blank col2\" >&nbsp;</th>\n",
       "      <th class=\"blank col3\" >&nbsp;</th>\n",
       "      <th class=\"blank col4\" >&nbsp;</th>\n",
       "      <th class=\"blank col5\" >&nbsp;</th>\n",
       "      <th class=\"blank col6\" >&nbsp;</th>\n",
       "    </tr>\n",
       "  </thead>\n",
       "  <tbody>\n",
       "    <tr>\n",
       "      <th id=\"T_f4432_level0_row0\" class=\"row_heading level0 row0\" >PD-135</th>\n",
       "      <td id=\"T_f4432_row0_col0\" class=\"data row0 col0\" >17.000000</td>\n",
       "      <td id=\"T_f4432_row0_col1\" class=\"data row0 col1\" >female</td>\n",
       "      <td id=\"T_f4432_row0_col2\" class=\"data row0 col2\" >10.000000</td>\n",
       "      <td id=\"T_f4432_row0_col3\" class=\"data row0 col3\" >nan</td>\n",
       "      <td id=\"T_f4432_row0_col4\" class=\"data row0 col4\" >F25</td>\n",
       "      <td id=\"T_f4432_row0_col5\" class=\"data row0 col5\" >HDRS</td>\n",
       "      <td id=\"T_f4432_row0_col6\" class=\"data row0 col6\" >0.000000</td>\n",
       "    </tr>\n",
       "  </tbody>\n",
       "</table>\n"
      ],
      "text/plain": [
       "<pandas.io.formats.style.Styler at 0x7fb57828aa60>"
      ]
     },
     "execution_count": 361,
     "metadata": {},
     "output_type": "execute_result"
    }
   ],
   "source": [
    "patient_na.dropna(how='all').style.highlight_null()"
   ]
  },
  {
   "cell_type": "code",
   "execution_count": 362,
   "id": "2a84d7f1",
   "metadata": {
    "scrolled": true
   },
   "outputs": [
    {
     "data": {
      "text/plain": [
       "age                      1\n",
       "dep.scale               86\n",
       "dep.severity-1          86\n",
       "education.level.eng      2\n",
       "education.years          1\n",
       "HDRS-17.score-1        105\n",
       "panss-1-td             105\n",
       "panss-1-total          105\n",
       "panss-n-1-total        105\n",
       "panss-o-1-total        105\n",
       "panss-p-1-total        105\n",
       "sex                      0\n",
       "td.scales               88\n",
       "td.severity             86\n",
       "dtype: int64"
      ]
     },
     "execution_count": 362,
     "metadata": {},
     "output_type": "execute_result"
    }
   ],
   "source": [
    "x_to_use[x_to_use['diagnosis.group'] == 'control'][control_cols].isna().sum(axis=0)"
   ]
  },
  {
   "cell_type": "code",
   "execution_count": 363,
   "id": "58f33f7b",
   "metadata": {
    "scrolled": false
   },
   "outputs": [
    {
     "data": {
      "text/html": [
       "<style type=\"text/css\">\n",
       "#T_9541b_row0_col3, #T_9541b_row0_col4, #T_9541b_row0_col5, #T_9541b_row1_col3, #T_9541b_row1_col4, #T_9541b_row1_col5, #T_9541b_row2_col3, #T_9541b_row2_col4, #T_9541b_row2_col5, #T_9541b_row3_col3, #T_9541b_row3_col4, #T_9541b_row3_col5, #T_9541b_row4_col3, #T_9541b_row4_col4, #T_9541b_row4_col5, #T_9541b_row5_col3, #T_9541b_row5_col4, #T_9541b_row5_col5, #T_9541b_row6_col2, #T_9541b_row6_col3, #T_9541b_row6_col4, #T_9541b_row6_col5, #T_9541b_row7_col3, #T_9541b_row7_col4, #T_9541b_row7_col5, #T_9541b_row8_col3, #T_9541b_row8_col4, #T_9541b_row8_col5, #T_9541b_row9_col3, #T_9541b_row9_col4, #T_9541b_row9_col5, #T_9541b_row10_col3, #T_9541b_row10_col4, #T_9541b_row10_col5, #T_9541b_row11_col3, #T_9541b_row11_col4, #T_9541b_row11_col5, #T_9541b_row12_col3, #T_9541b_row12_col4, #T_9541b_row12_col5, #T_9541b_row13_col3, #T_9541b_row13_col4, #T_9541b_row13_col5, #T_9541b_row14_col3, #T_9541b_row14_col4, #T_9541b_row14_col5, #T_9541b_row15_col3, #T_9541b_row15_col4, #T_9541b_row15_col5, #T_9541b_row16_col3, #T_9541b_row16_col4, #T_9541b_row16_col5, #T_9541b_row17_col3, #T_9541b_row17_col4, #T_9541b_row17_col5, #T_9541b_row18_col3, #T_9541b_row18_col4, #T_9541b_row18_col5, #T_9541b_row19_col3, #T_9541b_row19_col4, #T_9541b_row19_col5, #T_9541b_row20_col3, #T_9541b_row20_col4, #T_9541b_row20_col5, #T_9541b_row21_col3, #T_9541b_row21_col4, #T_9541b_row21_col5, #T_9541b_row22_col3, #T_9541b_row22_col4, #T_9541b_row22_col5, #T_9541b_row23_col3, #T_9541b_row23_col4, #T_9541b_row23_col5, #T_9541b_row24_col3, #T_9541b_row24_col4, #T_9541b_row24_col5, #T_9541b_row25_col3, #T_9541b_row25_col4, #T_9541b_row25_col5, #T_9541b_row26_col3, #T_9541b_row26_col4, #T_9541b_row26_col5, #T_9541b_row27_col3, #T_9541b_row27_col4, #T_9541b_row27_col5, #T_9541b_row28_col3, #T_9541b_row28_col4, #T_9541b_row28_col5, #T_9541b_row29_col3, #T_9541b_row29_col4, #T_9541b_row29_col5, #T_9541b_row30_col3, #T_9541b_row30_col4, #T_9541b_row30_col5, #T_9541b_row31_col3, #T_9541b_row31_col4, #T_9541b_row31_col5, #T_9541b_row32_col3, #T_9541b_row32_col4, #T_9541b_row32_col5, #T_9541b_row33_col3, #T_9541b_row33_col4, #T_9541b_row33_col5, #T_9541b_row34_col3, #T_9541b_row34_col4, #T_9541b_row34_col5, #T_9541b_row35_col3, #T_9541b_row35_col4, #T_9541b_row35_col5, #T_9541b_row36_col3, #T_9541b_row36_col4, #T_9541b_row36_col5, #T_9541b_row37_col3, #T_9541b_row37_col4, #T_9541b_row37_col5, #T_9541b_row38_col3, #T_9541b_row38_col4, #T_9541b_row38_col5, #T_9541b_row39_col3, #T_9541b_row39_col4, #T_9541b_row39_col5, #T_9541b_row40_col3, #T_9541b_row40_col4, #T_9541b_row40_col5, #T_9541b_row41_col3, #T_9541b_row41_col4, #T_9541b_row41_col5, #T_9541b_row42_col3, #T_9541b_row42_col4, #T_9541b_row42_col5, #T_9541b_row43_col3, #T_9541b_row43_col4, #T_9541b_row43_col5, #T_9541b_row44_col3, #T_9541b_row44_col4, #T_9541b_row44_col5, #T_9541b_row45_col3, #T_9541b_row45_col4, #T_9541b_row45_col5, #T_9541b_row46_col3, #T_9541b_row46_col4, #T_9541b_row46_col5, #T_9541b_row47_col3, #T_9541b_row47_col4, #T_9541b_row47_col5, #T_9541b_row48_col3, #T_9541b_row48_col4, #T_9541b_row48_col5, #T_9541b_row49_col3, #T_9541b_row49_col4, #T_9541b_row49_col5, #T_9541b_row50_col3, #T_9541b_row50_col4, #T_9541b_row50_col5, #T_9541b_row51_col3, #T_9541b_row51_col4, #T_9541b_row51_col5, #T_9541b_row52_col3, #T_9541b_row52_col4, #T_9541b_row52_col5, #T_9541b_row53_col3, #T_9541b_row53_col4, #T_9541b_row53_col5, #T_9541b_row54_col3, #T_9541b_row54_col4, #T_9541b_row54_col5, #T_9541b_row55_col3, #T_9541b_row55_col4, #T_9541b_row55_col5, #T_9541b_row56_col3, #T_9541b_row56_col4, #T_9541b_row56_col5, #T_9541b_row57_col3, #T_9541b_row57_col4, #T_9541b_row57_col5, #T_9541b_row58_col3, #T_9541b_row58_col4, #T_9541b_row58_col5, #T_9541b_row59_col3, #T_9541b_row59_col4, #T_9541b_row59_col5, #T_9541b_row60_col3, #T_9541b_row60_col4, #T_9541b_row60_col5, #T_9541b_row61_col3, #T_9541b_row61_col4, #T_9541b_row61_col5, #T_9541b_row62_col3, #T_9541b_row62_col4, #T_9541b_row62_col5, #T_9541b_row63_col3, #T_9541b_row63_col4, #T_9541b_row63_col5, #T_9541b_row64_col3, #T_9541b_row64_col4, #T_9541b_row64_col5, #T_9541b_row65_col3, #T_9541b_row65_col4, #T_9541b_row65_col5, #T_9541b_row66_col3, #T_9541b_row66_col4, #T_9541b_row66_col5, #T_9541b_row67_col3, #T_9541b_row67_col4, #T_9541b_row67_col5, #T_9541b_row68_col3, #T_9541b_row68_col4, #T_9541b_row68_col5, #T_9541b_row69_col3, #T_9541b_row69_col4, #T_9541b_row69_col5, #T_9541b_row70_col0, #T_9541b_row71_col3, #T_9541b_row71_col4, #T_9541b_row71_col5, #T_9541b_row72_col3, #T_9541b_row72_col4, #T_9541b_row72_col5, #T_9541b_row73_col3, #T_9541b_row73_col4, #T_9541b_row73_col5, #T_9541b_row74_col3, #T_9541b_row74_col4, #T_9541b_row74_col5, #T_9541b_row75_col3, #T_9541b_row75_col4, #T_9541b_row75_col5, #T_9541b_row76_col3, #T_9541b_row76_col4, #T_9541b_row76_col5, #T_9541b_row77_col3, #T_9541b_row77_col4, #T_9541b_row77_col5, #T_9541b_row78_col3, #T_9541b_row78_col4, #T_9541b_row78_col5, #T_9541b_row79_col3, #T_9541b_row79_col4, #T_9541b_row79_col5, #T_9541b_row80_col3, #T_9541b_row80_col4, #T_9541b_row80_col5, #T_9541b_row81_col3, #T_9541b_row81_col4, #T_9541b_row81_col5, #T_9541b_row82_col3, #T_9541b_row82_col4, #T_9541b_row82_col5, #T_9541b_row83_col3, #T_9541b_row83_col4, #T_9541b_row83_col5, #T_9541b_row84_col3, #T_9541b_row84_col4, #T_9541b_row84_col5, #T_9541b_row85_col3, #T_9541b_row85_col4, #T_9541b_row85_col5, #T_9541b_row86_col3, #T_9541b_row86_col4, #T_9541b_row86_col5 {\n",
       "  background-color: red;\n",
       "}\n",
       "</style>\n",
       "<table id=\"T_9541b\">\n",
       "  <thead>\n",
       "    <tr>\n",
       "      <th class=\"blank level0\" >&nbsp;</th>\n",
       "      <th id=\"T_9541b_level0_col0\" class=\"col_heading level0 col0\" >age</th>\n",
       "      <th id=\"T_9541b_level0_col1\" class=\"col_heading level0 col1\" >sex</th>\n",
       "      <th id=\"T_9541b_level0_col2\" class=\"col_heading level0 col2\" >education.years</th>\n",
       "      <th id=\"T_9541b_level0_col3\" class=\"col_heading level0 col3\" >td.severity</th>\n",
       "      <th id=\"T_9541b_level0_col4\" class=\"col_heading level0 col4\" >dep.scale</th>\n",
       "      <th id=\"T_9541b_level0_col5\" class=\"col_heading level0 col5\" >dep.severity-1</th>\n",
       "    </tr>\n",
       "    <tr>\n",
       "      <th class=\"index_name level0\" >ID</th>\n",
       "      <th class=\"blank col0\" >&nbsp;</th>\n",
       "      <th class=\"blank col1\" >&nbsp;</th>\n",
       "      <th class=\"blank col2\" >&nbsp;</th>\n",
       "      <th class=\"blank col3\" >&nbsp;</th>\n",
       "      <th class=\"blank col4\" >&nbsp;</th>\n",
       "      <th class=\"blank col5\" >&nbsp;</th>\n",
       "    </tr>\n",
       "  </thead>\n",
       "  <tbody>\n",
       "    <tr>\n",
       "      <th id=\"T_9541b_level0_row0\" class=\"row_heading level0 row0\" >N-49</th>\n",
       "      <td id=\"T_9541b_row0_col0\" class=\"data row0 col0\" >35.000000</td>\n",
       "      <td id=\"T_9541b_row0_col1\" class=\"data row0 col1\" >female</td>\n",
       "      <td id=\"T_9541b_row0_col2\" class=\"data row0 col2\" >12.000000</td>\n",
       "      <td id=\"T_9541b_row0_col3\" class=\"data row0 col3\" >nan</td>\n",
       "      <td id=\"T_9541b_row0_col4\" class=\"data row0 col4\" >nan</td>\n",
       "      <td id=\"T_9541b_row0_col5\" class=\"data row0 col5\" >nan</td>\n",
       "    </tr>\n",
       "    <tr>\n",
       "      <th id=\"T_9541b_level0_row1\" class=\"row_heading level0 row1\" >N-19</th>\n",
       "      <td id=\"T_9541b_row1_col0\" class=\"data row1 col0\" >26.000000</td>\n",
       "      <td id=\"T_9541b_row1_col1\" class=\"data row1 col1\" >male</td>\n",
       "      <td id=\"T_9541b_row1_col2\" class=\"data row1 col2\" >17.000000</td>\n",
       "      <td id=\"T_9541b_row1_col3\" class=\"data row1 col3\" >nan</td>\n",
       "      <td id=\"T_9541b_row1_col4\" class=\"data row1 col4\" >nan</td>\n",
       "      <td id=\"T_9541b_row1_col5\" class=\"data row1 col5\" >nan</td>\n",
       "    </tr>\n",
       "    <tr>\n",
       "      <th id=\"T_9541b_level0_row2\" class=\"row_heading level0 row2\" >N-15</th>\n",
       "      <td id=\"T_9541b_row2_col0\" class=\"data row2 col0\" >22.000000</td>\n",
       "      <td id=\"T_9541b_row2_col1\" class=\"data row2 col1\" >female</td>\n",
       "      <td id=\"T_9541b_row2_col2\" class=\"data row2 col2\" >15.000000</td>\n",
       "      <td id=\"T_9541b_row2_col3\" class=\"data row2 col3\" >nan</td>\n",
       "      <td id=\"T_9541b_row2_col4\" class=\"data row2 col4\" >nan</td>\n",
       "      <td id=\"T_9541b_row2_col5\" class=\"data row2 col5\" >nan</td>\n",
       "    </tr>\n",
       "    <tr>\n",
       "      <th id=\"T_9541b_level0_row3\" class=\"row_heading level0 row3\" >N-71</th>\n",
       "      <td id=\"T_9541b_row3_col0\" class=\"data row3 col0\" >71.000000</td>\n",
       "      <td id=\"T_9541b_row3_col1\" class=\"data row3 col1\" >female</td>\n",
       "      <td id=\"T_9541b_row3_col2\" class=\"data row3 col2\" >13.000000</td>\n",
       "      <td id=\"T_9541b_row3_col3\" class=\"data row3 col3\" >nan</td>\n",
       "      <td id=\"T_9541b_row3_col4\" class=\"data row3 col4\" >nan</td>\n",
       "      <td id=\"T_9541b_row3_col5\" class=\"data row3 col5\" >nan</td>\n",
       "    </tr>\n",
       "    <tr>\n",
       "      <th id=\"T_9541b_level0_row4\" class=\"row_heading level0 row4\" >N-23</th>\n",
       "      <td id=\"T_9541b_row4_col0\" class=\"data row4 col0\" >20.000000</td>\n",
       "      <td id=\"T_9541b_row4_col1\" class=\"data row4 col1\" >male</td>\n",
       "      <td id=\"T_9541b_row4_col2\" class=\"data row4 col2\" >14.000000</td>\n",
       "      <td id=\"T_9541b_row4_col3\" class=\"data row4 col3\" >nan</td>\n",
       "      <td id=\"T_9541b_row4_col4\" class=\"data row4 col4\" >nan</td>\n",
       "      <td id=\"T_9541b_row4_col5\" class=\"data row4 col5\" >nan</td>\n",
       "    </tr>\n",
       "    <tr>\n",
       "      <th id=\"T_9541b_level0_row5\" class=\"row_heading level0 row5\" >N-74</th>\n",
       "      <td id=\"T_9541b_row5_col0\" class=\"data row5 col0\" >71.000000</td>\n",
       "      <td id=\"T_9541b_row5_col1\" class=\"data row5 col1\" >female</td>\n",
       "      <td id=\"T_9541b_row5_col2\" class=\"data row5 col2\" >12.000000</td>\n",
       "      <td id=\"T_9541b_row5_col3\" class=\"data row5 col3\" >nan</td>\n",
       "      <td id=\"T_9541b_row5_col4\" class=\"data row5 col4\" >nan</td>\n",
       "      <td id=\"T_9541b_row5_col5\" class=\"data row5 col5\" >nan</td>\n",
       "    </tr>\n",
       "    <tr>\n",
       "      <th id=\"T_9541b_level0_row6\" class=\"row_heading level0 row6\" >N-70</th>\n",
       "      <td id=\"T_9541b_row6_col0\" class=\"data row6 col0\" >75.000000</td>\n",
       "      <td id=\"T_9541b_row6_col1\" class=\"data row6 col1\" >female</td>\n",
       "      <td id=\"T_9541b_row6_col2\" class=\"data row6 col2\" >nan</td>\n",
       "      <td id=\"T_9541b_row6_col3\" class=\"data row6 col3\" >nan</td>\n",
       "      <td id=\"T_9541b_row6_col4\" class=\"data row6 col4\" >nan</td>\n",
       "      <td id=\"T_9541b_row6_col5\" class=\"data row6 col5\" >nan</td>\n",
       "    </tr>\n",
       "    <tr>\n",
       "      <th id=\"T_9541b_level0_row7\" class=\"row_heading level0 row7\" >N-38</th>\n",
       "      <td id=\"T_9541b_row7_col0\" class=\"data row7 col0\" >38.000000</td>\n",
       "      <td id=\"T_9541b_row7_col1\" class=\"data row7 col1\" >female</td>\n",
       "      <td id=\"T_9541b_row7_col2\" class=\"data row7 col2\" >19.000000</td>\n",
       "      <td id=\"T_9541b_row7_col3\" class=\"data row7 col3\" >nan</td>\n",
       "      <td id=\"T_9541b_row7_col4\" class=\"data row7 col4\" >nan</td>\n",
       "      <td id=\"T_9541b_row7_col5\" class=\"data row7 col5\" >nan</td>\n",
       "    </tr>\n",
       "    <tr>\n",
       "      <th id=\"T_9541b_level0_row8\" class=\"row_heading level0 row8\" >N-73</th>\n",
       "      <td id=\"T_9541b_row8_col0\" class=\"data row8 col0\" >71.000000</td>\n",
       "      <td id=\"T_9541b_row8_col1\" class=\"data row8 col1\" >male</td>\n",
       "      <td id=\"T_9541b_row8_col2\" class=\"data row8 col2\" >16.000000</td>\n",
       "      <td id=\"T_9541b_row8_col3\" class=\"data row8 col3\" >nan</td>\n",
       "      <td id=\"T_9541b_row8_col4\" class=\"data row8 col4\" >nan</td>\n",
       "      <td id=\"T_9541b_row8_col5\" class=\"data row8 col5\" >nan</td>\n",
       "    </tr>\n",
       "    <tr>\n",
       "      <th id=\"T_9541b_level0_row9\" class=\"row_heading level0 row9\" >N-85</th>\n",
       "      <td id=\"T_9541b_row9_col0\" class=\"data row9 col0\" >67.000000</td>\n",
       "      <td id=\"T_9541b_row9_col1\" class=\"data row9 col1\" >male</td>\n",
       "      <td id=\"T_9541b_row9_col2\" class=\"data row9 col2\" >14.000000</td>\n",
       "      <td id=\"T_9541b_row9_col3\" class=\"data row9 col3\" >nan</td>\n",
       "      <td id=\"T_9541b_row9_col4\" class=\"data row9 col4\" >nan</td>\n",
       "      <td id=\"T_9541b_row9_col5\" class=\"data row9 col5\" >nan</td>\n",
       "    </tr>\n",
       "    <tr>\n",
       "      <th id=\"T_9541b_level0_row10\" class=\"row_heading level0 row10\" >N-21</th>\n",
       "      <td id=\"T_9541b_row10_col0\" class=\"data row10 col0\" >20.000000</td>\n",
       "      <td id=\"T_9541b_row10_col1\" class=\"data row10 col1\" >female</td>\n",
       "      <td id=\"T_9541b_row10_col2\" class=\"data row10 col2\" >14.000000</td>\n",
       "      <td id=\"T_9541b_row10_col3\" class=\"data row10 col3\" >nan</td>\n",
       "      <td id=\"T_9541b_row10_col4\" class=\"data row10 col4\" >nan</td>\n",
       "      <td id=\"T_9541b_row10_col5\" class=\"data row10 col5\" >nan</td>\n",
       "    </tr>\n",
       "    <tr>\n",
       "      <th id=\"T_9541b_level0_row11\" class=\"row_heading level0 row11\" >N-82</th>\n",
       "      <td id=\"T_9541b_row11_col0\" class=\"data row11 col0\" >70.000000</td>\n",
       "      <td id=\"T_9541b_row11_col1\" class=\"data row11 col1\" >female</td>\n",
       "      <td id=\"T_9541b_row11_col2\" class=\"data row11 col2\" >17.000000</td>\n",
       "      <td id=\"T_9541b_row11_col3\" class=\"data row11 col3\" >nan</td>\n",
       "      <td id=\"T_9541b_row11_col4\" class=\"data row11 col4\" >nan</td>\n",
       "      <td id=\"T_9541b_row11_col5\" class=\"data row11 col5\" >nan</td>\n",
       "    </tr>\n",
       "    <tr>\n",
       "      <th id=\"T_9541b_level0_row12\" class=\"row_heading level0 row12\" >N-02</th>\n",
       "      <td id=\"T_9541b_row12_col0\" class=\"data row12 col0\" >46.000000</td>\n",
       "      <td id=\"T_9541b_row12_col1\" class=\"data row12 col1\" >female</td>\n",
       "      <td id=\"T_9541b_row12_col2\" class=\"data row12 col2\" >20.000000</td>\n",
       "      <td id=\"T_9541b_row12_col3\" class=\"data row12 col3\" >nan</td>\n",
       "      <td id=\"T_9541b_row12_col4\" class=\"data row12 col4\" >nan</td>\n",
       "      <td id=\"T_9541b_row12_col5\" class=\"data row12 col5\" >nan</td>\n",
       "    </tr>\n",
       "    <tr>\n",
       "      <th id=\"T_9541b_level0_row13\" class=\"row_heading level0 row13\" >N-90</th>\n",
       "      <td id=\"T_9541b_row13_col0\" class=\"data row13 col0\" >76.000000</td>\n",
       "      <td id=\"T_9541b_row13_col1\" class=\"data row13 col1\" >male</td>\n",
       "      <td id=\"T_9541b_row13_col2\" class=\"data row13 col2\" >16.000000</td>\n",
       "      <td id=\"T_9541b_row13_col3\" class=\"data row13 col3\" >nan</td>\n",
       "      <td id=\"T_9541b_row13_col4\" class=\"data row13 col4\" >nan</td>\n",
       "      <td id=\"T_9541b_row13_col5\" class=\"data row13 col5\" >nan</td>\n",
       "    </tr>\n",
       "    <tr>\n",
       "      <th id=\"T_9541b_level0_row14\" class=\"row_heading level0 row14\" >N-24</th>\n",
       "      <td id=\"T_9541b_row14_col0\" class=\"data row14 col0\" >25.000000</td>\n",
       "      <td id=\"T_9541b_row14_col1\" class=\"data row14 col1\" >female</td>\n",
       "      <td id=\"T_9541b_row14_col2\" class=\"data row14 col2\" >18.000000</td>\n",
       "      <td id=\"T_9541b_row14_col3\" class=\"data row14 col3\" >nan</td>\n",
       "      <td id=\"T_9541b_row14_col4\" class=\"data row14 col4\" >nan</td>\n",
       "      <td id=\"T_9541b_row14_col5\" class=\"data row14 col5\" >nan</td>\n",
       "    </tr>\n",
       "    <tr>\n",
       "      <th id=\"T_9541b_level0_row15\" class=\"row_heading level0 row15\" >N-26</th>\n",
       "      <td id=\"T_9541b_row15_col0\" class=\"data row15 col0\" >41.000000</td>\n",
       "      <td id=\"T_9541b_row15_col1\" class=\"data row15 col1\" >male</td>\n",
       "      <td id=\"T_9541b_row15_col2\" class=\"data row15 col2\" >16.000000</td>\n",
       "      <td id=\"T_9541b_row15_col3\" class=\"data row15 col3\" >nan</td>\n",
       "      <td id=\"T_9541b_row15_col4\" class=\"data row15 col4\" >nan</td>\n",
       "      <td id=\"T_9541b_row15_col5\" class=\"data row15 col5\" >nan</td>\n",
       "    </tr>\n",
       "    <tr>\n",
       "      <th id=\"T_9541b_level0_row16\" class=\"row_heading level0 row16\" >N-41</th>\n",
       "      <td id=\"T_9541b_row16_col0\" class=\"data row16 col0\" >21.000000</td>\n",
       "      <td id=\"T_9541b_row16_col1\" class=\"data row16 col1\" >female</td>\n",
       "      <td id=\"T_9541b_row16_col2\" class=\"data row16 col2\" >15.000000</td>\n",
       "      <td id=\"T_9541b_row16_col3\" class=\"data row16 col3\" >nan</td>\n",
       "      <td id=\"T_9541b_row16_col4\" class=\"data row16 col4\" >nan</td>\n",
       "      <td id=\"T_9541b_row16_col5\" class=\"data row16 col5\" >nan</td>\n",
       "    </tr>\n",
       "    <tr>\n",
       "      <th id=\"T_9541b_level0_row17\" class=\"row_heading level0 row17\" >N-39</th>\n",
       "      <td id=\"T_9541b_row17_col0\" class=\"data row17 col0\" >57.000000</td>\n",
       "      <td id=\"T_9541b_row17_col1\" class=\"data row17 col1\" >male</td>\n",
       "      <td id=\"T_9541b_row17_col2\" class=\"data row17 col2\" >15.000000</td>\n",
       "      <td id=\"T_9541b_row17_col3\" class=\"data row17 col3\" >nan</td>\n",
       "      <td id=\"T_9541b_row17_col4\" class=\"data row17 col4\" >nan</td>\n",
       "      <td id=\"T_9541b_row17_col5\" class=\"data row17 col5\" >nan</td>\n",
       "    </tr>\n",
       "    <tr>\n",
       "      <th id=\"T_9541b_level0_row18\" class=\"row_heading level0 row18\" >N-50</th>\n",
       "      <td id=\"T_9541b_row18_col0\" class=\"data row18 col0\" >41.000000</td>\n",
       "      <td id=\"T_9541b_row18_col1\" class=\"data row18 col1\" >female</td>\n",
       "      <td id=\"T_9541b_row18_col2\" class=\"data row18 col2\" >10.000000</td>\n",
       "      <td id=\"T_9541b_row18_col3\" class=\"data row18 col3\" >nan</td>\n",
       "      <td id=\"T_9541b_row18_col4\" class=\"data row18 col4\" >nan</td>\n",
       "      <td id=\"T_9541b_row18_col5\" class=\"data row18 col5\" >nan</td>\n",
       "    </tr>\n",
       "    <tr>\n",
       "      <th id=\"T_9541b_level0_row19\" class=\"row_heading level0 row19\" >N-52</th>\n",
       "      <td id=\"T_9541b_row19_col0\" class=\"data row19 col0\" >36.000000</td>\n",
       "      <td id=\"T_9541b_row19_col1\" class=\"data row19 col1\" >female</td>\n",
       "      <td id=\"T_9541b_row19_col2\" class=\"data row19 col2\" >18.000000</td>\n",
       "      <td id=\"T_9541b_row19_col3\" class=\"data row19 col3\" >nan</td>\n",
       "      <td id=\"T_9541b_row19_col4\" class=\"data row19 col4\" >nan</td>\n",
       "      <td id=\"T_9541b_row19_col5\" class=\"data row19 col5\" >nan</td>\n",
       "    </tr>\n",
       "    <tr>\n",
       "      <th id=\"T_9541b_level0_row20\" class=\"row_heading level0 row20\" >N-81</th>\n",
       "      <td id=\"T_9541b_row20_col0\" class=\"data row20 col0\" >81.000000</td>\n",
       "      <td id=\"T_9541b_row20_col1\" class=\"data row20 col1\" >female</td>\n",
       "      <td id=\"T_9541b_row20_col2\" class=\"data row20 col2\" >15.000000</td>\n",
       "      <td id=\"T_9541b_row20_col3\" class=\"data row20 col3\" >nan</td>\n",
       "      <td id=\"T_9541b_row20_col4\" class=\"data row20 col4\" >nan</td>\n",
       "      <td id=\"T_9541b_row20_col5\" class=\"data row20 col5\" >nan</td>\n",
       "    </tr>\n",
       "    <tr>\n",
       "      <th id=\"T_9541b_level0_row21\" class=\"row_heading level0 row21\" >N-33</th>\n",
       "      <td id=\"T_9541b_row21_col0\" class=\"data row21 col0\" >46.000000</td>\n",
       "      <td id=\"T_9541b_row21_col1\" class=\"data row21 col1\" >male</td>\n",
       "      <td id=\"T_9541b_row21_col2\" class=\"data row21 col2\" >20.000000</td>\n",
       "      <td id=\"T_9541b_row21_col3\" class=\"data row21 col3\" >nan</td>\n",
       "      <td id=\"T_9541b_row21_col4\" class=\"data row21 col4\" >nan</td>\n",
       "      <td id=\"T_9541b_row21_col5\" class=\"data row21 col5\" >nan</td>\n",
       "    </tr>\n",
       "    <tr>\n",
       "      <th id=\"T_9541b_level0_row22\" class=\"row_heading level0 row22\" >N-13</th>\n",
       "      <td id=\"T_9541b_row22_col0\" class=\"data row22 col0\" >18.000000</td>\n",
       "      <td id=\"T_9541b_row22_col1\" class=\"data row22 col1\" >female</td>\n",
       "      <td id=\"T_9541b_row22_col2\" class=\"data row22 col2\" >12.000000</td>\n",
       "      <td id=\"T_9541b_row22_col3\" class=\"data row22 col3\" >nan</td>\n",
       "      <td id=\"T_9541b_row22_col4\" class=\"data row22 col4\" >nan</td>\n",
       "      <td id=\"T_9541b_row22_col5\" class=\"data row22 col5\" >nan</td>\n",
       "    </tr>\n",
       "    <tr>\n",
       "      <th id=\"T_9541b_level0_row23\" class=\"row_heading level0 row23\" >N-20</th>\n",
       "      <td id=\"T_9541b_row23_col0\" class=\"data row23 col0\" >20.000000</td>\n",
       "      <td id=\"T_9541b_row23_col1\" class=\"data row23 col1\" >female</td>\n",
       "      <td id=\"T_9541b_row23_col2\" class=\"data row23 col2\" >13.000000</td>\n",
       "      <td id=\"T_9541b_row23_col3\" class=\"data row23 col3\" >nan</td>\n",
       "      <td id=\"T_9541b_row23_col4\" class=\"data row23 col4\" >nan</td>\n",
       "      <td id=\"T_9541b_row23_col5\" class=\"data row23 col5\" >nan</td>\n",
       "    </tr>\n",
       "    <tr>\n",
       "      <th id=\"T_9541b_level0_row24\" class=\"row_heading level0 row24\" >N-60</th>\n",
       "      <td id=\"T_9541b_row24_col0\" class=\"data row24 col0\" >32.000000</td>\n",
       "      <td id=\"T_9541b_row24_col1\" class=\"data row24 col1\" >female</td>\n",
       "      <td id=\"T_9541b_row24_col2\" class=\"data row24 col2\" >15.000000</td>\n",
       "      <td id=\"T_9541b_row24_col3\" class=\"data row24 col3\" >nan</td>\n",
       "      <td id=\"T_9541b_row24_col4\" class=\"data row24 col4\" >nan</td>\n",
       "      <td id=\"T_9541b_row24_col5\" class=\"data row24 col5\" >nan</td>\n",
       "    </tr>\n",
       "    <tr>\n",
       "      <th id=\"T_9541b_level0_row25\" class=\"row_heading level0 row25\" >N-01</th>\n",
       "      <td id=\"T_9541b_row25_col0\" class=\"data row25 col0\" >20.000000</td>\n",
       "      <td id=\"T_9541b_row25_col1\" class=\"data row25 col1\" >female</td>\n",
       "      <td id=\"T_9541b_row25_col2\" class=\"data row25 col2\" >14.000000</td>\n",
       "      <td id=\"T_9541b_row25_col3\" class=\"data row25 col3\" >nan</td>\n",
       "      <td id=\"T_9541b_row25_col4\" class=\"data row25 col4\" >nan</td>\n",
       "      <td id=\"T_9541b_row25_col5\" class=\"data row25 col5\" >nan</td>\n",
       "    </tr>\n",
       "    <tr>\n",
       "      <th id=\"T_9541b_level0_row26\" class=\"row_heading level0 row26\" >N-37</th>\n",
       "      <td id=\"T_9541b_row26_col0\" class=\"data row26 col0\" >30.000000</td>\n",
       "      <td id=\"T_9541b_row26_col1\" class=\"data row26 col1\" >female</td>\n",
       "      <td id=\"T_9541b_row26_col2\" class=\"data row26 col2\" >21.000000</td>\n",
       "      <td id=\"T_9541b_row26_col3\" class=\"data row26 col3\" >nan</td>\n",
       "      <td id=\"T_9541b_row26_col4\" class=\"data row26 col4\" >nan</td>\n",
       "      <td id=\"T_9541b_row26_col5\" class=\"data row26 col5\" >nan</td>\n",
       "    </tr>\n",
       "    <tr>\n",
       "      <th id=\"T_9541b_level0_row27\" class=\"row_heading level0 row27\" >N-45</th>\n",
       "      <td id=\"T_9541b_row27_col0\" class=\"data row27 col0\" >39.000000</td>\n",
       "      <td id=\"T_9541b_row27_col1\" class=\"data row27 col1\" >female</td>\n",
       "      <td id=\"T_9541b_row27_col2\" class=\"data row27 col2\" >16.000000</td>\n",
       "      <td id=\"T_9541b_row27_col3\" class=\"data row27 col3\" >nan</td>\n",
       "      <td id=\"T_9541b_row27_col4\" class=\"data row27 col4\" >nan</td>\n",
       "      <td id=\"T_9541b_row27_col5\" class=\"data row27 col5\" >nan</td>\n",
       "    </tr>\n",
       "    <tr>\n",
       "      <th id=\"T_9541b_level0_row28\" class=\"row_heading level0 row28\" >N-76</th>\n",
       "      <td id=\"T_9541b_row28_col0\" class=\"data row28 col0\" >64.000000</td>\n",
       "      <td id=\"T_9541b_row28_col1\" class=\"data row28 col1\" >female</td>\n",
       "      <td id=\"T_9541b_row28_col2\" class=\"data row28 col2\" >15.000000</td>\n",
       "      <td id=\"T_9541b_row28_col3\" class=\"data row28 col3\" >nan</td>\n",
       "      <td id=\"T_9541b_row28_col4\" class=\"data row28 col4\" >nan</td>\n",
       "      <td id=\"T_9541b_row28_col5\" class=\"data row28 col5\" >nan</td>\n",
       "    </tr>\n",
       "    <tr>\n",
       "      <th id=\"T_9541b_level0_row29\" class=\"row_heading level0 row29\" >N-95</th>\n",
       "      <td id=\"T_9541b_row29_col0\" class=\"data row29 col0\" >75.000000</td>\n",
       "      <td id=\"T_9541b_row29_col1\" class=\"data row29 col1\" >male</td>\n",
       "      <td id=\"T_9541b_row29_col2\" class=\"data row29 col2\" >16.000000</td>\n",
       "      <td id=\"T_9541b_row29_col3\" class=\"data row29 col3\" >nan</td>\n",
       "      <td id=\"T_9541b_row29_col4\" class=\"data row29 col4\" >nan</td>\n",
       "      <td id=\"T_9541b_row29_col5\" class=\"data row29 col5\" >nan</td>\n",
       "    </tr>\n",
       "    <tr>\n",
       "      <th id=\"T_9541b_level0_row30\" class=\"row_heading level0 row30\" >N-47</th>\n",
       "      <td id=\"T_9541b_row30_col0\" class=\"data row30 col0\" >61.000000</td>\n",
       "      <td id=\"T_9541b_row30_col1\" class=\"data row30 col1\" >male</td>\n",
       "      <td id=\"T_9541b_row30_col2\" class=\"data row30 col2\" >15.000000</td>\n",
       "      <td id=\"T_9541b_row30_col3\" class=\"data row30 col3\" >nan</td>\n",
       "      <td id=\"T_9541b_row30_col4\" class=\"data row30 col4\" >nan</td>\n",
       "      <td id=\"T_9541b_row30_col5\" class=\"data row30 col5\" >nan</td>\n",
       "    </tr>\n",
       "    <tr>\n",
       "      <th id=\"T_9541b_level0_row31\" class=\"row_heading level0 row31\" >N-53</th>\n",
       "      <td id=\"T_9541b_row31_col0\" class=\"data row31 col0\" >30.000000</td>\n",
       "      <td id=\"T_9541b_row31_col1\" class=\"data row31 col1\" >male</td>\n",
       "      <td id=\"T_9541b_row31_col2\" class=\"data row31 col2\" >16.000000</td>\n",
       "      <td id=\"T_9541b_row31_col3\" class=\"data row31 col3\" >nan</td>\n",
       "      <td id=\"T_9541b_row31_col4\" class=\"data row31 col4\" >nan</td>\n",
       "      <td id=\"T_9541b_row31_col5\" class=\"data row31 col5\" >nan</td>\n",
       "    </tr>\n",
       "    <tr>\n",
       "      <th id=\"T_9541b_level0_row32\" class=\"row_heading level0 row32\" >N-40</th>\n",
       "      <td id=\"T_9541b_row32_col0\" class=\"data row32 col0\" >54.000000</td>\n",
       "      <td id=\"T_9541b_row32_col1\" class=\"data row32 col1\" >female</td>\n",
       "      <td id=\"T_9541b_row32_col2\" class=\"data row32 col2\" >16.000000</td>\n",
       "      <td id=\"T_9541b_row32_col3\" class=\"data row32 col3\" >nan</td>\n",
       "      <td id=\"T_9541b_row32_col4\" class=\"data row32 col4\" >nan</td>\n",
       "      <td id=\"T_9541b_row32_col5\" class=\"data row32 col5\" >nan</td>\n",
       "    </tr>\n",
       "    <tr>\n",
       "      <th id=\"T_9541b_level0_row33\" class=\"row_heading level0 row33\" >N-54</th>\n",
       "      <td id=\"T_9541b_row33_col0\" class=\"data row33 col0\" >60.000000</td>\n",
       "      <td id=\"T_9541b_row33_col1\" class=\"data row33 col1\" >female</td>\n",
       "      <td id=\"T_9541b_row33_col2\" class=\"data row33 col2\" >15.000000</td>\n",
       "      <td id=\"T_9541b_row33_col3\" class=\"data row33 col3\" >nan</td>\n",
       "      <td id=\"T_9541b_row33_col4\" class=\"data row33 col4\" >nan</td>\n",
       "      <td id=\"T_9541b_row33_col5\" class=\"data row33 col5\" >nan</td>\n",
       "    </tr>\n",
       "    <tr>\n",
       "      <th id=\"T_9541b_level0_row34\" class=\"row_heading level0 row34\" >N-72</th>\n",
       "      <td id=\"T_9541b_row34_col0\" class=\"data row34 col0\" >60.000000</td>\n",
       "      <td id=\"T_9541b_row34_col1\" class=\"data row34 col1\" >female</td>\n",
       "      <td id=\"T_9541b_row34_col2\" class=\"data row34 col2\" >16.000000</td>\n",
       "      <td id=\"T_9541b_row34_col3\" class=\"data row34 col3\" >nan</td>\n",
       "      <td id=\"T_9541b_row34_col4\" class=\"data row34 col4\" >nan</td>\n",
       "      <td id=\"T_9541b_row34_col5\" class=\"data row34 col5\" >nan</td>\n",
       "    </tr>\n",
       "    <tr>\n",
       "      <th id=\"T_9541b_level0_row35\" class=\"row_heading level0 row35\" >N-17</th>\n",
       "      <td id=\"T_9541b_row35_col0\" class=\"data row35 col0\" >18.000000</td>\n",
       "      <td id=\"T_9541b_row35_col1\" class=\"data row35 col1\" >female</td>\n",
       "      <td id=\"T_9541b_row35_col2\" class=\"data row35 col2\" >12.000000</td>\n",
       "      <td id=\"T_9541b_row35_col3\" class=\"data row35 col3\" >nan</td>\n",
       "      <td id=\"T_9541b_row35_col4\" class=\"data row35 col4\" >nan</td>\n",
       "      <td id=\"T_9541b_row35_col5\" class=\"data row35 col5\" >nan</td>\n",
       "    </tr>\n",
       "    <tr>\n",
       "      <th id=\"T_9541b_level0_row36\" class=\"row_heading level0 row36\" >N-62</th>\n",
       "      <td id=\"T_9541b_row36_col0\" class=\"data row36 col0\" >50.000000</td>\n",
       "      <td id=\"T_9541b_row36_col1\" class=\"data row36 col1\" >male</td>\n",
       "      <td id=\"T_9541b_row36_col2\" class=\"data row36 col2\" >20.000000</td>\n",
       "      <td id=\"T_9541b_row36_col3\" class=\"data row36 col3\" >nan</td>\n",
       "      <td id=\"T_9541b_row36_col4\" class=\"data row36 col4\" >nan</td>\n",
       "      <td id=\"T_9541b_row36_col5\" class=\"data row36 col5\" >nan</td>\n",
       "    </tr>\n",
       "    <tr>\n",
       "      <th id=\"T_9541b_level0_row37\" class=\"row_heading level0 row37\" >N-79</th>\n",
       "      <td id=\"T_9541b_row37_col0\" class=\"data row37 col0\" >66.000000</td>\n",
       "      <td id=\"T_9541b_row37_col1\" class=\"data row37 col1\" >female</td>\n",
       "      <td id=\"T_9541b_row37_col2\" class=\"data row37 col2\" >19.000000</td>\n",
       "      <td id=\"T_9541b_row37_col3\" class=\"data row37 col3\" >nan</td>\n",
       "      <td id=\"T_9541b_row37_col4\" class=\"data row37 col4\" >nan</td>\n",
       "      <td id=\"T_9541b_row37_col5\" class=\"data row37 col5\" >nan</td>\n",
       "    </tr>\n",
       "    <tr>\n",
       "      <th id=\"T_9541b_level0_row38\" class=\"row_heading level0 row38\" >N-08</th>\n",
       "      <td id=\"T_9541b_row38_col0\" class=\"data row38 col0\" >61.000000</td>\n",
       "      <td id=\"T_9541b_row38_col1\" class=\"data row38 col1\" >male</td>\n",
       "      <td id=\"T_9541b_row38_col2\" class=\"data row38 col2\" >15.000000</td>\n",
       "      <td id=\"T_9541b_row38_col3\" class=\"data row38 col3\" >nan</td>\n",
       "      <td id=\"T_9541b_row38_col4\" class=\"data row38 col4\" >nan</td>\n",
       "      <td id=\"T_9541b_row38_col5\" class=\"data row38 col5\" >nan</td>\n",
       "    </tr>\n",
       "    <tr>\n",
       "      <th id=\"T_9541b_level0_row39\" class=\"row_heading level0 row39\" >N-77</th>\n",
       "      <td id=\"T_9541b_row39_col0\" class=\"data row39 col0\" >69.000000</td>\n",
       "      <td id=\"T_9541b_row39_col1\" class=\"data row39 col1\" >female</td>\n",
       "      <td id=\"T_9541b_row39_col2\" class=\"data row39 col2\" >15.000000</td>\n",
       "      <td id=\"T_9541b_row39_col3\" class=\"data row39 col3\" >nan</td>\n",
       "      <td id=\"T_9541b_row39_col4\" class=\"data row39 col4\" >nan</td>\n",
       "      <td id=\"T_9541b_row39_col5\" class=\"data row39 col5\" >nan</td>\n",
       "    </tr>\n",
       "    <tr>\n",
       "      <th id=\"T_9541b_level0_row40\" class=\"row_heading level0 row40\" >N-88</th>\n",
       "      <td id=\"T_9541b_row40_col0\" class=\"data row40 col0\" >63.000000</td>\n",
       "      <td id=\"T_9541b_row40_col1\" class=\"data row40 col1\" >male</td>\n",
       "      <td id=\"T_9541b_row40_col2\" class=\"data row40 col2\" >22.000000</td>\n",
       "      <td id=\"T_9541b_row40_col3\" class=\"data row40 col3\" >nan</td>\n",
       "      <td id=\"T_9541b_row40_col4\" class=\"data row40 col4\" >nan</td>\n",
       "      <td id=\"T_9541b_row40_col5\" class=\"data row40 col5\" >nan</td>\n",
       "    </tr>\n",
       "    <tr>\n",
       "      <th id=\"T_9541b_level0_row41\" class=\"row_heading level0 row41\" >N-94</th>\n",
       "      <td id=\"T_9541b_row41_col0\" class=\"data row41 col0\" >72.000000</td>\n",
       "      <td id=\"T_9541b_row41_col1\" class=\"data row41 col1\" >male</td>\n",
       "      <td id=\"T_9541b_row41_col2\" class=\"data row41 col2\" >16.000000</td>\n",
       "      <td id=\"T_9541b_row41_col3\" class=\"data row41 col3\" >nan</td>\n",
       "      <td id=\"T_9541b_row41_col4\" class=\"data row41 col4\" >nan</td>\n",
       "      <td id=\"T_9541b_row41_col5\" class=\"data row41 col5\" >nan</td>\n",
       "    </tr>\n",
       "    <tr>\n",
       "      <th id=\"T_9541b_level0_row42\" class=\"row_heading level0 row42\" >N-04</th>\n",
       "      <td id=\"T_9541b_row42_col0\" class=\"data row42 col0\" >45.000000</td>\n",
       "      <td id=\"T_9541b_row42_col1\" class=\"data row42 col1\" >female</td>\n",
       "      <td id=\"T_9541b_row42_col2\" class=\"data row42 col2\" >16.000000</td>\n",
       "      <td id=\"T_9541b_row42_col3\" class=\"data row42 col3\" >nan</td>\n",
       "      <td id=\"T_9541b_row42_col4\" class=\"data row42 col4\" >nan</td>\n",
       "      <td id=\"T_9541b_row42_col5\" class=\"data row42 col5\" >nan</td>\n",
       "    </tr>\n",
       "    <tr>\n",
       "      <th id=\"T_9541b_level0_row43\" class=\"row_heading level0 row43\" >N-34</th>\n",
       "      <td id=\"T_9541b_row43_col0\" class=\"data row43 col0\" >45.000000</td>\n",
       "      <td id=\"T_9541b_row43_col1\" class=\"data row43 col1\" >female</td>\n",
       "      <td id=\"T_9541b_row43_col2\" class=\"data row43 col2\" >19.000000</td>\n",
       "      <td id=\"T_9541b_row43_col3\" class=\"data row43 col3\" >nan</td>\n",
       "      <td id=\"T_9541b_row43_col4\" class=\"data row43 col4\" >nan</td>\n",
       "      <td id=\"T_9541b_row43_col5\" class=\"data row43 col5\" >nan</td>\n",
       "    </tr>\n",
       "    <tr>\n",
       "      <th id=\"T_9541b_level0_row44\" class=\"row_heading level0 row44\" >N-32</th>\n",
       "      <td id=\"T_9541b_row44_col0\" class=\"data row44 col0\" >31.000000</td>\n",
       "      <td id=\"T_9541b_row44_col1\" class=\"data row44 col1\" >female</td>\n",
       "      <td id=\"T_9541b_row44_col2\" class=\"data row44 col2\" >16.000000</td>\n",
       "      <td id=\"T_9541b_row44_col3\" class=\"data row44 col3\" >nan</td>\n",
       "      <td id=\"T_9541b_row44_col4\" class=\"data row44 col4\" >nan</td>\n",
       "      <td id=\"T_9541b_row44_col5\" class=\"data row44 col5\" >nan</td>\n",
       "    </tr>\n",
       "    <tr>\n",
       "      <th id=\"T_9541b_level0_row45\" class=\"row_heading level0 row45\" >N-83</th>\n",
       "      <td id=\"T_9541b_row45_col0\" class=\"data row45 col0\" >66.000000</td>\n",
       "      <td id=\"T_9541b_row45_col1\" class=\"data row45 col1\" >female</td>\n",
       "      <td id=\"T_9541b_row45_col2\" class=\"data row45 col2\" >16.000000</td>\n",
       "      <td id=\"T_9541b_row45_col3\" class=\"data row45 col3\" >nan</td>\n",
       "      <td id=\"T_9541b_row45_col4\" class=\"data row45 col4\" >nan</td>\n",
       "      <td id=\"T_9541b_row45_col5\" class=\"data row45 col5\" >nan</td>\n",
       "    </tr>\n",
       "    <tr>\n",
       "      <th id=\"T_9541b_level0_row46\" class=\"row_heading level0 row46\" >N-29</th>\n",
       "      <td id=\"T_9541b_row46_col0\" class=\"data row46 col0\" >44.000000</td>\n",
       "      <td id=\"T_9541b_row46_col1\" class=\"data row46 col1\" >male</td>\n",
       "      <td id=\"T_9541b_row46_col2\" class=\"data row46 col2\" >20.000000</td>\n",
       "      <td id=\"T_9541b_row46_col3\" class=\"data row46 col3\" >nan</td>\n",
       "      <td id=\"T_9541b_row46_col4\" class=\"data row46 col4\" >nan</td>\n",
       "      <td id=\"T_9541b_row46_col5\" class=\"data row46 col5\" >nan</td>\n",
       "    </tr>\n",
       "    <tr>\n",
       "      <th id=\"T_9541b_level0_row47\" class=\"row_heading level0 row47\" >N-05</th>\n",
       "      <td id=\"T_9541b_row47_col0\" class=\"data row47 col0\" >18.000000</td>\n",
       "      <td id=\"T_9541b_row47_col1\" class=\"data row47 col1\" >female</td>\n",
       "      <td id=\"T_9541b_row47_col2\" class=\"data row47 col2\" >12.000000</td>\n",
       "      <td id=\"T_9541b_row47_col3\" class=\"data row47 col3\" >nan</td>\n",
       "      <td id=\"T_9541b_row47_col4\" class=\"data row47 col4\" >nan</td>\n",
       "      <td id=\"T_9541b_row47_col5\" class=\"data row47 col5\" >nan</td>\n",
       "    </tr>\n",
       "    <tr>\n",
       "      <th id=\"T_9541b_level0_row48\" class=\"row_heading level0 row48\" >N-36</th>\n",
       "      <td id=\"T_9541b_row48_col0\" class=\"data row48 col0\" >32.000000</td>\n",
       "      <td id=\"T_9541b_row48_col1\" class=\"data row48 col1\" >male</td>\n",
       "      <td id=\"T_9541b_row48_col2\" class=\"data row48 col2\" >14.000000</td>\n",
       "      <td id=\"T_9541b_row48_col3\" class=\"data row48 col3\" >nan</td>\n",
       "      <td id=\"T_9541b_row48_col4\" class=\"data row48 col4\" >nan</td>\n",
       "      <td id=\"T_9541b_row48_col5\" class=\"data row48 col5\" >nan</td>\n",
       "    </tr>\n",
       "    <tr>\n",
       "      <th id=\"T_9541b_level0_row49\" class=\"row_heading level0 row49\" >N-42</th>\n",
       "      <td id=\"T_9541b_row49_col0\" class=\"data row49 col0\" >30.000000</td>\n",
       "      <td id=\"T_9541b_row49_col1\" class=\"data row49 col1\" >female</td>\n",
       "      <td id=\"T_9541b_row49_col2\" class=\"data row49 col2\" >13.000000</td>\n",
       "      <td id=\"T_9541b_row49_col3\" class=\"data row49 col3\" >nan</td>\n",
       "      <td id=\"T_9541b_row49_col4\" class=\"data row49 col4\" >nan</td>\n",
       "      <td id=\"T_9541b_row49_col5\" class=\"data row49 col5\" >nan</td>\n",
       "    </tr>\n",
       "    <tr>\n",
       "      <th id=\"T_9541b_level0_row50\" class=\"row_heading level0 row50\" >N-12</th>\n",
       "      <td id=\"T_9541b_row50_col0\" class=\"data row50 col0\" >18.000000</td>\n",
       "      <td id=\"T_9541b_row50_col1\" class=\"data row50 col1\" >male</td>\n",
       "      <td id=\"T_9541b_row50_col2\" class=\"data row50 col2\" >12.000000</td>\n",
       "      <td id=\"T_9541b_row50_col3\" class=\"data row50 col3\" >nan</td>\n",
       "      <td id=\"T_9541b_row50_col4\" class=\"data row50 col4\" >nan</td>\n",
       "      <td id=\"T_9541b_row50_col5\" class=\"data row50 col5\" >nan</td>\n",
       "    </tr>\n",
       "    <tr>\n",
       "      <th id=\"T_9541b_level0_row51\" class=\"row_heading level0 row51\" >N-16</th>\n",
       "      <td id=\"T_9541b_row51_col0\" class=\"data row51 col0\" >48.000000</td>\n",
       "      <td id=\"T_9541b_row51_col1\" class=\"data row51 col1\" >female</td>\n",
       "      <td id=\"T_9541b_row51_col2\" class=\"data row51 col2\" >18.000000</td>\n",
       "      <td id=\"T_9541b_row51_col3\" class=\"data row51 col3\" >nan</td>\n",
       "      <td id=\"T_9541b_row51_col4\" class=\"data row51 col4\" >nan</td>\n",
       "      <td id=\"T_9541b_row51_col5\" class=\"data row51 col5\" >nan</td>\n",
       "    </tr>\n",
       "    <tr>\n",
       "      <th id=\"T_9541b_level0_row52\" class=\"row_heading level0 row52\" >N-78</th>\n",
       "      <td id=\"T_9541b_row52_col0\" class=\"data row52 col0\" >64.000000</td>\n",
       "      <td id=\"T_9541b_row52_col1\" class=\"data row52 col1\" >female</td>\n",
       "      <td id=\"T_9541b_row52_col2\" class=\"data row52 col2\" >19.000000</td>\n",
       "      <td id=\"T_9541b_row52_col3\" class=\"data row52 col3\" >nan</td>\n",
       "      <td id=\"T_9541b_row52_col4\" class=\"data row52 col4\" >nan</td>\n",
       "      <td id=\"T_9541b_row52_col5\" class=\"data row52 col5\" >nan</td>\n",
       "    </tr>\n",
       "    <tr>\n",
       "      <th id=\"T_9541b_level0_row53\" class=\"row_heading level0 row53\" >N-14</th>\n",
       "      <td id=\"T_9541b_row53_col0\" class=\"data row53 col0\" >21.000000</td>\n",
       "      <td id=\"T_9541b_row53_col1\" class=\"data row53 col1\" >female</td>\n",
       "      <td id=\"T_9541b_row53_col2\" class=\"data row53 col2\" >14.000000</td>\n",
       "      <td id=\"T_9541b_row53_col3\" class=\"data row53 col3\" >nan</td>\n",
       "      <td id=\"T_9541b_row53_col4\" class=\"data row53 col4\" >nan</td>\n",
       "      <td id=\"T_9541b_row53_col5\" class=\"data row53 col5\" >nan</td>\n",
       "    </tr>\n",
       "    <tr>\n",
       "      <th id=\"T_9541b_level0_row54\" class=\"row_heading level0 row54\" >N-84</th>\n",
       "      <td id=\"T_9541b_row54_col0\" class=\"data row54 col0\" >66.000000</td>\n",
       "      <td id=\"T_9541b_row54_col1\" class=\"data row54 col1\" >female</td>\n",
       "      <td id=\"T_9541b_row54_col2\" class=\"data row54 col2\" >20.000000</td>\n",
       "      <td id=\"T_9541b_row54_col3\" class=\"data row54 col3\" >nan</td>\n",
       "      <td id=\"T_9541b_row54_col4\" class=\"data row54 col4\" >nan</td>\n",
       "      <td id=\"T_9541b_row54_col5\" class=\"data row54 col5\" >nan</td>\n",
       "    </tr>\n",
       "    <tr>\n",
       "      <th id=\"T_9541b_level0_row55\" class=\"row_heading level0 row55\" >N-75</th>\n",
       "      <td id=\"T_9541b_row55_col0\" class=\"data row55 col0\" >71.000000</td>\n",
       "      <td id=\"T_9541b_row55_col1\" class=\"data row55 col1\" >male</td>\n",
       "      <td id=\"T_9541b_row55_col2\" class=\"data row55 col2\" >21.000000</td>\n",
       "      <td id=\"T_9541b_row55_col3\" class=\"data row55 col3\" >nan</td>\n",
       "      <td id=\"T_9541b_row55_col4\" class=\"data row55 col4\" >nan</td>\n",
       "      <td id=\"T_9541b_row55_col5\" class=\"data row55 col5\" >nan</td>\n",
       "    </tr>\n",
       "    <tr>\n",
       "      <th id=\"T_9541b_level0_row56\" class=\"row_heading level0 row56\" >N-28</th>\n",
       "      <td id=\"T_9541b_row56_col0\" class=\"data row56 col0\" >34.000000</td>\n",
       "      <td id=\"T_9541b_row56_col1\" class=\"data row56 col1\" >male</td>\n",
       "      <td id=\"T_9541b_row56_col2\" class=\"data row56 col2\" >16.000000</td>\n",
       "      <td id=\"T_9541b_row56_col3\" class=\"data row56 col3\" >nan</td>\n",
       "      <td id=\"T_9541b_row56_col4\" class=\"data row56 col4\" >nan</td>\n",
       "      <td id=\"T_9541b_row56_col5\" class=\"data row56 col5\" >nan</td>\n",
       "    </tr>\n",
       "    <tr>\n",
       "      <th id=\"T_9541b_level0_row57\" class=\"row_heading level0 row57\" >N-25</th>\n",
       "      <td id=\"T_9541b_row57_col0\" class=\"data row57 col0\" >21.000000</td>\n",
       "      <td id=\"T_9541b_row57_col1\" class=\"data row57 col1\" >male</td>\n",
       "      <td id=\"T_9541b_row57_col2\" class=\"data row57 col2\" >15.000000</td>\n",
       "      <td id=\"T_9541b_row57_col3\" class=\"data row57 col3\" >nan</td>\n",
       "      <td id=\"T_9541b_row57_col4\" class=\"data row57 col4\" >nan</td>\n",
       "      <td id=\"T_9541b_row57_col5\" class=\"data row57 col5\" >nan</td>\n",
       "    </tr>\n",
       "    <tr>\n",
       "      <th id=\"T_9541b_level0_row58\" class=\"row_heading level0 row58\" >N-68</th>\n",
       "      <td id=\"T_9541b_row58_col0\" class=\"data row58 col0\" >56.000000</td>\n",
       "      <td id=\"T_9541b_row58_col1\" class=\"data row58 col1\" >male</td>\n",
       "      <td id=\"T_9541b_row58_col2\" class=\"data row58 col2\" >18.000000</td>\n",
       "      <td id=\"T_9541b_row58_col3\" class=\"data row58 col3\" >nan</td>\n",
       "      <td id=\"T_9541b_row58_col4\" class=\"data row58 col4\" >nan</td>\n",
       "      <td id=\"T_9541b_row58_col5\" class=\"data row58 col5\" >nan</td>\n",
       "    </tr>\n",
       "    <tr>\n",
       "      <th id=\"T_9541b_level0_row59\" class=\"row_heading level0 row59\" >N-55</th>\n",
       "      <td id=\"T_9541b_row59_col0\" class=\"data row59 col0\" >57.000000</td>\n",
       "      <td id=\"T_9541b_row59_col1\" class=\"data row59 col1\" >female</td>\n",
       "      <td id=\"T_9541b_row59_col2\" class=\"data row59 col2\" >14.000000</td>\n",
       "      <td id=\"T_9541b_row59_col3\" class=\"data row59 col3\" >nan</td>\n",
       "      <td id=\"T_9541b_row59_col4\" class=\"data row59 col4\" >nan</td>\n",
       "      <td id=\"T_9541b_row59_col5\" class=\"data row59 col5\" >nan</td>\n",
       "    </tr>\n",
       "    <tr>\n",
       "      <th id=\"T_9541b_level0_row60\" class=\"row_heading level0 row60\" >N-46</th>\n",
       "      <td id=\"T_9541b_row60_col0\" class=\"data row60 col0\" >59.000000</td>\n",
       "      <td id=\"T_9541b_row60_col1\" class=\"data row60 col1\" >female</td>\n",
       "      <td id=\"T_9541b_row60_col2\" class=\"data row60 col2\" >17.000000</td>\n",
       "      <td id=\"T_9541b_row60_col3\" class=\"data row60 col3\" >nan</td>\n",
       "      <td id=\"T_9541b_row60_col4\" class=\"data row60 col4\" >nan</td>\n",
       "      <td id=\"T_9541b_row60_col5\" class=\"data row60 col5\" >nan</td>\n",
       "    </tr>\n",
       "    <tr>\n",
       "      <th id=\"T_9541b_level0_row61\" class=\"row_heading level0 row61\" >N-11</th>\n",
       "      <td id=\"T_9541b_row61_col0\" class=\"data row61 col0\" >26.000000</td>\n",
       "      <td id=\"T_9541b_row61_col1\" class=\"data row61 col1\" >male</td>\n",
       "      <td id=\"T_9541b_row61_col2\" class=\"data row61 col2\" >18.000000</td>\n",
       "      <td id=\"T_9541b_row61_col3\" class=\"data row61 col3\" >nan</td>\n",
       "      <td id=\"T_9541b_row61_col4\" class=\"data row61 col4\" >nan</td>\n",
       "      <td id=\"T_9541b_row61_col5\" class=\"data row61 col5\" >nan</td>\n",
       "    </tr>\n",
       "    <tr>\n",
       "      <th id=\"T_9541b_level0_row62\" class=\"row_heading level0 row62\" >N-03</th>\n",
       "      <td id=\"T_9541b_row62_col0\" class=\"data row62 col0\" >53.000000</td>\n",
       "      <td id=\"T_9541b_row62_col1\" class=\"data row62 col1\" >female</td>\n",
       "      <td id=\"T_9541b_row62_col2\" class=\"data row62 col2\" >15.000000</td>\n",
       "      <td id=\"T_9541b_row62_col3\" class=\"data row62 col3\" >nan</td>\n",
       "      <td id=\"T_9541b_row62_col4\" class=\"data row62 col4\" >nan</td>\n",
       "      <td id=\"T_9541b_row62_col5\" class=\"data row62 col5\" >nan</td>\n",
       "    </tr>\n",
       "    <tr>\n",
       "      <th id=\"T_9541b_level0_row63\" class=\"row_heading level0 row63\" >N-59</th>\n",
       "      <td id=\"T_9541b_row63_col0\" class=\"data row63 col0\" >65.000000</td>\n",
       "      <td id=\"T_9541b_row63_col1\" class=\"data row63 col1\" >female</td>\n",
       "      <td id=\"T_9541b_row63_col2\" class=\"data row63 col2\" >11.000000</td>\n",
       "      <td id=\"T_9541b_row63_col3\" class=\"data row63 col3\" >nan</td>\n",
       "      <td id=\"T_9541b_row63_col4\" class=\"data row63 col4\" >nan</td>\n",
       "      <td id=\"T_9541b_row63_col5\" class=\"data row63 col5\" >nan</td>\n",
       "    </tr>\n",
       "    <tr>\n",
       "      <th id=\"T_9541b_level0_row64\" class=\"row_heading level0 row64\" >N-09</th>\n",
       "      <td id=\"T_9541b_row64_col0\" class=\"data row64 col0\" >23.000000</td>\n",
       "      <td id=\"T_9541b_row64_col1\" class=\"data row64 col1\" >female</td>\n",
       "      <td id=\"T_9541b_row64_col2\" class=\"data row64 col2\" >16.000000</td>\n",
       "      <td id=\"T_9541b_row64_col3\" class=\"data row64 col3\" >nan</td>\n",
       "      <td id=\"T_9541b_row64_col4\" class=\"data row64 col4\" >nan</td>\n",
       "      <td id=\"T_9541b_row64_col5\" class=\"data row64 col5\" >nan</td>\n",
       "    </tr>\n",
       "    <tr>\n",
       "      <th id=\"T_9541b_level0_row65\" class=\"row_heading level0 row65\" >N-61</th>\n",
       "      <td id=\"T_9541b_row65_col0\" class=\"data row65 col0\" >58.000000</td>\n",
       "      <td id=\"T_9541b_row65_col1\" class=\"data row65 col1\" >male</td>\n",
       "      <td id=\"T_9541b_row65_col2\" class=\"data row65 col2\" >19.000000</td>\n",
       "      <td id=\"T_9541b_row65_col3\" class=\"data row65 col3\" >nan</td>\n",
       "      <td id=\"T_9541b_row65_col4\" class=\"data row65 col4\" >nan</td>\n",
       "      <td id=\"T_9541b_row65_col5\" class=\"data row65 col5\" >nan</td>\n",
       "    </tr>\n",
       "    <tr>\n",
       "      <th id=\"T_9541b_level0_row66\" class=\"row_heading level0 row66\" >N-30</th>\n",
       "      <td id=\"T_9541b_row66_col0\" class=\"data row66 col0\" >53.000000</td>\n",
       "      <td id=\"T_9541b_row66_col1\" class=\"data row66 col1\" >female</td>\n",
       "      <td id=\"T_9541b_row66_col2\" class=\"data row66 col2\" >15.000000</td>\n",
       "      <td id=\"T_9541b_row66_col3\" class=\"data row66 col3\" >nan</td>\n",
       "      <td id=\"T_9541b_row66_col4\" class=\"data row66 col4\" >nan</td>\n",
       "      <td id=\"T_9541b_row66_col5\" class=\"data row66 col5\" >nan</td>\n",
       "    </tr>\n",
       "    <tr>\n",
       "      <th id=\"T_9541b_level0_row67\" class=\"row_heading level0 row67\" >N-63</th>\n",
       "      <td id=\"T_9541b_row67_col0\" class=\"data row67 col0\" >58.000000</td>\n",
       "      <td id=\"T_9541b_row67_col1\" class=\"data row67 col1\" >female</td>\n",
       "      <td id=\"T_9541b_row67_col2\" class=\"data row67 col2\" >17.000000</td>\n",
       "      <td id=\"T_9541b_row67_col3\" class=\"data row67 col3\" >nan</td>\n",
       "      <td id=\"T_9541b_row67_col4\" class=\"data row67 col4\" >nan</td>\n",
       "      <td id=\"T_9541b_row67_col5\" class=\"data row67 col5\" >nan</td>\n",
       "    </tr>\n",
       "    <tr>\n",
       "      <th id=\"T_9541b_level0_row68\" class=\"row_heading level0 row68\" >N-22</th>\n",
       "      <td id=\"T_9541b_row68_col0\" class=\"data row68 col0\" >18.000000</td>\n",
       "      <td id=\"T_9541b_row68_col1\" class=\"data row68 col1\" >female</td>\n",
       "      <td id=\"T_9541b_row68_col2\" class=\"data row68 col2\" >12.000000</td>\n",
       "      <td id=\"T_9541b_row68_col3\" class=\"data row68 col3\" >nan</td>\n",
       "      <td id=\"T_9541b_row68_col4\" class=\"data row68 col4\" >nan</td>\n",
       "      <td id=\"T_9541b_row68_col5\" class=\"data row68 col5\" >nan</td>\n",
       "    </tr>\n",
       "    <tr>\n",
       "      <th id=\"T_9541b_level0_row69\" class=\"row_heading level0 row69\" >N-07</th>\n",
       "      <td id=\"T_9541b_row69_col0\" class=\"data row69 col0\" >22.000000</td>\n",
       "      <td id=\"T_9541b_row69_col1\" class=\"data row69 col1\" >female</td>\n",
       "      <td id=\"T_9541b_row69_col2\" class=\"data row69 col2\" >15.000000</td>\n",
       "      <td id=\"T_9541b_row69_col3\" class=\"data row69 col3\" >nan</td>\n",
       "      <td id=\"T_9541b_row69_col4\" class=\"data row69 col4\" >nan</td>\n",
       "      <td id=\"T_9541b_row69_col5\" class=\"data row69 col5\" >nan</td>\n",
       "    </tr>\n",
       "    <tr>\n",
       "      <th id=\"T_9541b_level0_row70\" class=\"row_heading level0 row70\" >PN-202</th>\n",
       "      <td id=\"T_9541b_row70_col0\" class=\"data row70 col0\" >nan</td>\n",
       "      <td id=\"T_9541b_row70_col1\" class=\"data row70 col1\" >male</td>\n",
       "      <td id=\"T_9541b_row70_col2\" class=\"data row70 col2\" >15.000000</td>\n",
       "      <td id=\"T_9541b_row70_col3\" class=\"data row70 col3\" >0.000000</td>\n",
       "      <td id=\"T_9541b_row70_col4\" class=\"data row70 col4\" >QIDS</td>\n",
       "      <td id=\"T_9541b_row70_col5\" class=\"data row70 col5\" >0.000000</td>\n",
       "    </tr>\n",
       "    <tr>\n",
       "      <th id=\"T_9541b_level0_row71\" class=\"row_heading level0 row71\" >N-91</th>\n",
       "      <td id=\"T_9541b_row71_col0\" class=\"data row71 col0\" >74.000000</td>\n",
       "      <td id=\"T_9541b_row71_col1\" class=\"data row71 col1\" >male</td>\n",
       "      <td id=\"T_9541b_row71_col2\" class=\"data row71 col2\" >20.000000</td>\n",
       "      <td id=\"T_9541b_row71_col3\" class=\"data row71 col3\" >nan</td>\n",
       "      <td id=\"T_9541b_row71_col4\" class=\"data row71 col4\" >nan</td>\n",
       "      <td id=\"T_9541b_row71_col5\" class=\"data row71 col5\" >nan</td>\n",
       "    </tr>\n",
       "    <tr>\n",
       "      <th id=\"T_9541b_level0_row72\" class=\"row_heading level0 row72\" >N-10</th>\n",
       "      <td id=\"T_9541b_row72_col0\" class=\"data row72 col0\" >19.000000</td>\n",
       "      <td id=\"T_9541b_row72_col1\" class=\"data row72 col1\" >female</td>\n",
       "      <td id=\"T_9541b_row72_col2\" class=\"data row72 col2\" >11.000000</td>\n",
       "      <td id=\"T_9541b_row72_col3\" class=\"data row72 col3\" >nan</td>\n",
       "      <td id=\"T_9541b_row72_col4\" class=\"data row72 col4\" >nan</td>\n",
       "      <td id=\"T_9541b_row72_col5\" class=\"data row72 col5\" >nan</td>\n",
       "    </tr>\n",
       "    <tr>\n",
       "      <th id=\"T_9541b_level0_row73\" class=\"row_heading level0 row73\" >N-18</th>\n",
       "      <td id=\"T_9541b_row73_col0\" class=\"data row73 col0\" >24.000000</td>\n",
       "      <td id=\"T_9541b_row73_col1\" class=\"data row73 col1\" >female</td>\n",
       "      <td id=\"T_9541b_row73_col2\" class=\"data row73 col2\" >15.000000</td>\n",
       "      <td id=\"T_9541b_row73_col3\" class=\"data row73 col3\" >nan</td>\n",
       "      <td id=\"T_9541b_row73_col4\" class=\"data row73 col4\" >nan</td>\n",
       "      <td id=\"T_9541b_row73_col5\" class=\"data row73 col5\" >nan</td>\n",
       "    </tr>\n",
       "    <tr>\n",
       "      <th id=\"T_9541b_level0_row74\" class=\"row_heading level0 row74\" >N-58</th>\n",
       "      <td id=\"T_9541b_row74_col0\" class=\"data row74 col0\" >65.000000</td>\n",
       "      <td id=\"T_9541b_row74_col1\" class=\"data row74 col1\" >female</td>\n",
       "      <td id=\"T_9541b_row74_col2\" class=\"data row74 col2\" >10.000000</td>\n",
       "      <td id=\"T_9541b_row74_col3\" class=\"data row74 col3\" >nan</td>\n",
       "      <td id=\"T_9541b_row74_col4\" class=\"data row74 col4\" >nan</td>\n",
       "      <td id=\"T_9541b_row74_col5\" class=\"data row74 col5\" >nan</td>\n",
       "    </tr>\n",
       "    <tr>\n",
       "      <th id=\"T_9541b_level0_row75\" class=\"row_heading level0 row75\" >N-48</th>\n",
       "      <td id=\"T_9541b_row75_col0\" class=\"data row75 col0\" >31.000000</td>\n",
       "      <td id=\"T_9541b_row75_col1\" class=\"data row75 col1\" >male</td>\n",
       "      <td id=\"T_9541b_row75_col2\" class=\"data row75 col2\" >15.000000</td>\n",
       "      <td id=\"T_9541b_row75_col3\" class=\"data row75 col3\" >nan</td>\n",
       "      <td id=\"T_9541b_row75_col4\" class=\"data row75 col4\" >nan</td>\n",
       "      <td id=\"T_9541b_row75_col5\" class=\"data row75 col5\" >nan</td>\n",
       "    </tr>\n",
       "    <tr>\n",
       "      <th id=\"T_9541b_level0_row76\" class=\"row_heading level0 row76\" >N-31</th>\n",
       "      <td id=\"T_9541b_row76_col0\" class=\"data row76 col0\" >51.000000</td>\n",
       "      <td id=\"T_9541b_row76_col1\" class=\"data row76 col1\" >male</td>\n",
       "      <td id=\"T_9541b_row76_col2\" class=\"data row76 col2\" >15.000000</td>\n",
       "      <td id=\"T_9541b_row76_col3\" class=\"data row76 col3\" >nan</td>\n",
       "      <td id=\"T_9541b_row76_col4\" class=\"data row76 col4\" >nan</td>\n",
       "      <td id=\"T_9541b_row76_col5\" class=\"data row76 col5\" >nan</td>\n",
       "    </tr>\n",
       "    <tr>\n",
       "      <th id=\"T_9541b_level0_row77\" class=\"row_heading level0 row77\" >N-67</th>\n",
       "      <td id=\"T_9541b_row77_col0\" class=\"data row77 col0\" >53.000000</td>\n",
       "      <td id=\"T_9541b_row77_col1\" class=\"data row77 col1\" >female</td>\n",
       "      <td id=\"T_9541b_row77_col2\" class=\"data row77 col2\" >17.000000</td>\n",
       "      <td id=\"T_9541b_row77_col3\" class=\"data row77 col3\" >nan</td>\n",
       "      <td id=\"T_9541b_row77_col4\" class=\"data row77 col4\" >nan</td>\n",
       "      <td id=\"T_9541b_row77_col5\" class=\"data row77 col5\" >nan</td>\n",
       "    </tr>\n",
       "    <tr>\n",
       "      <th id=\"T_9541b_level0_row78\" class=\"row_heading level0 row78\" >N-43</th>\n",
       "      <td id=\"T_9541b_row78_col0\" class=\"data row78 col0\" >46.000000</td>\n",
       "      <td id=\"T_9541b_row78_col1\" class=\"data row78 col1\" >female</td>\n",
       "      <td id=\"T_9541b_row78_col2\" class=\"data row78 col2\" >14.000000</td>\n",
       "      <td id=\"T_9541b_row78_col3\" class=\"data row78 col3\" >nan</td>\n",
       "      <td id=\"T_9541b_row78_col4\" class=\"data row78 col4\" >nan</td>\n",
       "      <td id=\"T_9541b_row78_col5\" class=\"data row78 col5\" >nan</td>\n",
       "    </tr>\n",
       "    <tr>\n",
       "      <th id=\"T_9541b_level0_row79\" class=\"row_heading level0 row79\" >N-35</th>\n",
       "      <td id=\"T_9541b_row79_col0\" class=\"data row79 col0\" >46.000000</td>\n",
       "      <td id=\"T_9541b_row79_col1\" class=\"data row79 col1\" >female</td>\n",
       "      <td id=\"T_9541b_row79_col2\" class=\"data row79 col2\" >15.000000</td>\n",
       "      <td id=\"T_9541b_row79_col3\" class=\"data row79 col3\" >nan</td>\n",
       "      <td id=\"T_9541b_row79_col4\" class=\"data row79 col4\" >nan</td>\n",
       "      <td id=\"T_9541b_row79_col5\" class=\"data row79 col5\" >nan</td>\n",
       "    </tr>\n",
       "    <tr>\n",
       "      <th id=\"T_9541b_level0_row80\" class=\"row_heading level0 row80\" >N-56</th>\n",
       "      <td id=\"T_9541b_row80_col0\" class=\"data row80 col0\" >57.000000</td>\n",
       "      <td id=\"T_9541b_row80_col1\" class=\"data row80 col1\" >female</td>\n",
       "      <td id=\"T_9541b_row80_col2\" class=\"data row80 col2\" >14.000000</td>\n",
       "      <td id=\"T_9541b_row80_col3\" class=\"data row80 col3\" >nan</td>\n",
       "      <td id=\"T_9541b_row80_col4\" class=\"data row80 col4\" >nan</td>\n",
       "      <td id=\"T_9541b_row80_col5\" class=\"data row80 col5\" >nan</td>\n",
       "    </tr>\n",
       "    <tr>\n",
       "      <th id=\"T_9541b_level0_row81\" class=\"row_heading level0 row81\" >N-69</th>\n",
       "      <td id=\"T_9541b_row81_col0\" class=\"data row81 col0\" >69.000000</td>\n",
       "      <td id=\"T_9541b_row81_col1\" class=\"data row81 col1\" >female</td>\n",
       "      <td id=\"T_9541b_row81_col2\" class=\"data row81 col2\" >18.000000</td>\n",
       "      <td id=\"T_9541b_row81_col3\" class=\"data row81 col3\" >nan</td>\n",
       "      <td id=\"T_9541b_row81_col4\" class=\"data row81 col4\" >nan</td>\n",
       "      <td id=\"T_9541b_row81_col5\" class=\"data row81 col5\" >nan</td>\n",
       "    </tr>\n",
       "    <tr>\n",
       "      <th id=\"T_9541b_level0_row82\" class=\"row_heading level0 row82\" >N-06</th>\n",
       "      <td id=\"T_9541b_row82_col0\" class=\"data row82 col0\" >19.000000</td>\n",
       "      <td id=\"T_9541b_row82_col1\" class=\"data row82 col1\" >female</td>\n",
       "      <td id=\"T_9541b_row82_col2\" class=\"data row82 col2\" >13.000000</td>\n",
       "      <td id=\"T_9541b_row82_col3\" class=\"data row82 col3\" >nan</td>\n",
       "      <td id=\"T_9541b_row82_col4\" class=\"data row82 col4\" >nan</td>\n",
       "      <td id=\"T_9541b_row82_col5\" class=\"data row82 col5\" >nan</td>\n",
       "    </tr>\n",
       "    <tr>\n",
       "      <th id=\"T_9541b_level0_row83\" class=\"row_heading level0 row83\" >N-57</th>\n",
       "      <td id=\"T_9541b_row83_col0\" class=\"data row83 col0\" >51.000000</td>\n",
       "      <td id=\"T_9541b_row83_col1\" class=\"data row83 col1\" >female</td>\n",
       "      <td id=\"T_9541b_row83_col2\" class=\"data row83 col2\" >15.000000</td>\n",
       "      <td id=\"T_9541b_row83_col3\" class=\"data row83 col3\" >nan</td>\n",
       "      <td id=\"T_9541b_row83_col4\" class=\"data row83 col4\" >nan</td>\n",
       "      <td id=\"T_9541b_row83_col5\" class=\"data row83 col5\" >nan</td>\n",
       "    </tr>\n",
       "    <tr>\n",
       "      <th id=\"T_9541b_level0_row84\" class=\"row_heading level0 row84\" >N-80</th>\n",
       "      <td id=\"T_9541b_row84_col0\" class=\"data row84 col0\" >74.000000</td>\n",
       "      <td id=\"T_9541b_row84_col1\" class=\"data row84 col1\" >female</td>\n",
       "      <td id=\"T_9541b_row84_col2\" class=\"data row84 col2\" >16.000000</td>\n",
       "      <td id=\"T_9541b_row84_col3\" class=\"data row84 col3\" >nan</td>\n",
       "      <td id=\"T_9541b_row84_col4\" class=\"data row84 col4\" >nan</td>\n",
       "      <td id=\"T_9541b_row84_col5\" class=\"data row84 col5\" >nan</td>\n",
       "    </tr>\n",
       "    <tr>\n",
       "      <th id=\"T_9541b_level0_row85\" class=\"row_heading level0 row85\" >N-51</th>\n",
       "      <td id=\"T_9541b_row85_col0\" class=\"data row85 col0\" >58.000000</td>\n",
       "      <td id=\"T_9541b_row85_col1\" class=\"data row85 col1\" >female</td>\n",
       "      <td id=\"T_9541b_row85_col2\" class=\"data row85 col2\" >20.000000</td>\n",
       "      <td id=\"T_9541b_row85_col3\" class=\"data row85 col3\" >nan</td>\n",
       "      <td id=\"T_9541b_row85_col4\" class=\"data row85 col4\" >nan</td>\n",
       "      <td id=\"T_9541b_row85_col5\" class=\"data row85 col5\" >nan</td>\n",
       "    </tr>\n",
       "    <tr>\n",
       "      <th id=\"T_9541b_level0_row86\" class=\"row_heading level0 row86\" >N-44</th>\n",
       "      <td id=\"T_9541b_row86_col0\" class=\"data row86 col0\" >31.000000</td>\n",
       "      <td id=\"T_9541b_row86_col1\" class=\"data row86 col1\" >male</td>\n",
       "      <td id=\"T_9541b_row86_col2\" class=\"data row86 col2\" >21.000000</td>\n",
       "      <td id=\"T_9541b_row86_col3\" class=\"data row86 col3\" >nan</td>\n",
       "      <td id=\"T_9541b_row86_col4\" class=\"data row86 col4\" >nan</td>\n",
       "      <td id=\"T_9541b_row86_col5\" class=\"data row86 col5\" >nan</td>\n",
       "    </tr>\n",
       "  </tbody>\n",
       "</table>\n"
      ],
      "text/plain": [
       "<pandas.io.formats.style.Styler at 0x7fb578285d60>"
      ]
     },
     "execution_count": 363,
     "metadata": {},
     "output_type": "execute_result"
    }
   ],
   "source": [
    "cols_for_na_check_c = ['age', 'sex', 'education.years', 'td.severity', 'dep.scale', 'dep.severity-1']\n",
    "control_na = x_to_use[x_to_use['diagnosis.group'] == 'control'][cols_for_na_check_c][x_to_use[x_to_use['diagnosis.group'] == 'control'][cols_for_na_check_c].isna().sum(axis=1) != 0]\n",
    "control_na.style.highlight_null()"
   ]
  },
  {
   "cell_type": "code",
   "execution_count": 364,
   "id": "9cdbabde",
   "metadata": {},
   "outputs": [],
   "source": [
    "x_to_use[cols].to_csv('merged_psychosocial_data.csv')"
   ]
  },
  {
   "cell_type": "code",
   "execution_count": 365,
   "id": "832f59fe",
   "metadata": {
    "scrolled": true
   },
   "outputs": [
    {
     "data": {
      "text/plain": [
       "'45_6M, 61_6M, 26_6M, 53_6M, 29_6M, 4_6M, 14_6M, 30_6M, 70_6M, 37_6M, 13_6M, 3_6M, 54_6M, 66_6M, 42_6M, 38_6M, 36_6M, 71_6M, 55_6M, 68_6M, 20_6M, 39_6M, 43_6M, 27_6M, 60_6M, 28_6M, 5_6M, 52_6M, 57_6M, 10_6M, 34_6M, 41_6M, 58_6M, 65_6M, 22_6M, 25_6M, 8_6M, 46_6M, 74_6M, 33_6M, 17_6M, 7_6M, 50_6M, 24_6M, 9_6M, 19_6M, 47_6M, 48_6M, 51_6M, 16_6M, 6_6M, 1_6M, 11_6M, 72_6M, 35_6M, 40_6M, 23_6M, 59_6M, 64_6M'"
      ]
     },
     "execution_count": 365,
     "metadata": {},
     "output_type": "execute_result"
    }
   ],
   "source": [
    "', '.join([x.strip('_manual_c') for x in pd.read_csv('/Users/galina.ryazanskaya/Downloads/thesis?/code?/processed_values/NET_NAP_new_try.tsv', sep='\\t', index_col=0, header=[0, 1, 2]).index])"
   ]
  }
 ],
 "metadata": {
  "kernelspec": {
   "display_name": "Python 3 (ipykernel)",
   "language": "python",
   "name": "python3"
  },
  "language_info": {
   "codemirror_mode": {
    "name": "ipython",
    "version": 3
   },
   "file_extension": ".py",
   "mimetype": "text/x-python",
   "name": "python",
   "nbconvert_exporter": "python",
   "pygments_lexer": "ipython3",
   "version": "3.9.7"
  }
 },
 "nbformat": 4,
 "nbformat_minor": 5
}
