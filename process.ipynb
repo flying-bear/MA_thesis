{
 "cells": [
  {
   "cell_type": "markdown",
   "metadata": {
    "id": "-47JgV2kywWg"
   },
   "source": [
    "### install & download"
   ]
  },
  {
   "cell_type": "code",
   "execution_count": 1,
   "metadata": {
    "colab": {
     "base_uri": "https://localhost:8080/"
    },
    "id": "-mFzyXtwroEd",
    "outputId": "9f220a13-d56d-4527-f854-75446d10fe52"
   },
   "outputs": [
    {
     "name": "stdout",
     "output_type": "stream",
     "text": [
      "Collecting HanTa\n",
      "  Downloading HanTa-1.1.1-py3-none-any.whl (15.0 MB)\n",
      "\u001b[K     |████████████████████████████████| 15.0 MB 4.7 MB/s eta 0:00:01\n",
      "\u001b[?25hInstalling collected packages: HanTa\n",
      "Successfully installed HanTa-1.1.1\n"
     ]
    }
   ],
   "source": [
    "!pip install HanTa"
   ]
  },
  {
   "cell_type": "code",
   "execution_count": 2,
   "metadata": {
    "colab": {
     "base_uri": "https://localhost:8080/"
    },
    "id": "3D6dwhAGMuwd",
    "outputId": "dbfff0a2-cffe-4890-e09a-3679316f69cd"
   },
   "outputs": [
    {
     "name": "stdout",
     "output_type": "stream",
     "text": [
      "Collecting transformers\n",
      "  Downloading transformers-4.35.2-py3-none-any.whl (7.9 MB)\n",
      "\u001b[K     |████████████████████████████████| 7.9 MB 4.2 MB/s eta 0:00:01\n",
      "\u001b[?25hCollecting pyyaml>=5.1\n",
      "  Downloading PyYAML-6.0.1-cp39-cp39-macosx_10_9_x86_64.whl (197 kB)\n",
      "\u001b[K     |████████████████████████████████| 197 kB 4.2 MB/s eta 0:00:01\n",
      "\u001b[?25hCollecting safetensors>=0.3.1\n",
      "  Downloading safetensors-0.4.1-cp39-cp39-macosx_10_7_x86_64.whl (441 kB)\n",
      "\u001b[K     |████████████████████████████████| 441 kB 4.6 MB/s eta 0:00:01\n",
      "\u001b[?25hCollecting tokenizers<0.19,>=0.14\n",
      "  Downloading tokenizers-0.15.0-cp39-cp39-macosx_10_7_x86_64.whl (2.6 MB)\n",
      "\u001b[K     |████████████████████████████████| 2.6 MB 4.9 MB/s eta 0:00:01\n",
      "\u001b[?25hCollecting filelock\n",
      "  Downloading filelock-3.13.1-py3-none-any.whl (11 kB)\n",
      "Collecting huggingface-hub<1.0,>=0.16.4\n",
      "  Downloading huggingface_hub-0.19.4-py3-none-any.whl (311 kB)\n",
      "\u001b[K     |████████████████████████████████| 311 kB 3.9 MB/s eta 0:00:01\n",
      "\u001b[?25hRequirement already satisfied: packaging>=20.0 in /Users/galina.ryazanskaya/miniconda3/lib/python3.9/site-packages (from transformers) (21.3)\n",
      "Requirement already satisfied: tqdm>=4.27 in /Users/galina.ryazanskaya/miniconda3/lib/python3.9/site-packages (from transformers) (4.62.3)\n",
      "Requirement already satisfied: regex!=2019.12.17 in /Users/galina.ryazanskaya/miniconda3/lib/python3.9/site-packages (from transformers) (2022.6.2)\n",
      "Requirement already satisfied: requests in /Users/galina.ryazanskaya/miniconda3/lib/python3.9/site-packages (from transformers) (2.27.1)\n",
      "Requirement already satisfied: numpy>=1.17 in /Users/galina.ryazanskaya/miniconda3/lib/python3.9/site-packages (from transformers) (1.23.0)\n",
      "Collecting fsspec>=2023.5.0\n",
      "  Downloading fsspec-2023.10.0-py3-none-any.whl (166 kB)\n",
      "\u001b[K     |████████████████████████████████| 166 kB 4.6 MB/s eta 0:00:01\n",
      "\u001b[?25hRequirement already satisfied: typing-extensions>=3.7.4.3 in /Users/galina.ryazanskaya/miniconda3/lib/python3.9/site-packages (from huggingface-hub<1.0,>=0.16.4->transformers) (4.3.0)\n",
      "Requirement already satisfied: pyparsing!=3.0.5,>=2.0.2 in /Users/galina.ryazanskaya/miniconda3/lib/python3.9/site-packages (from packaging>=20.0->transformers) (3.0.9)\n",
      "Requirement already satisfied: charset-normalizer~=2.0.0 in /Users/galina.ryazanskaya/miniconda3/lib/python3.9/site-packages (from requests->transformers) (2.0.4)\n",
      "Requirement already satisfied: urllib3<1.27,>=1.21.1 in /Users/galina.ryazanskaya/miniconda3/lib/python3.9/site-packages (from requests->transformers) (1.26.7)\n",
      "Requirement already satisfied: certifi>=2017.4.17 in /Users/galina.ryazanskaya/miniconda3/lib/python3.9/site-packages (from requests->transformers) (2021.10.8)\n",
      "Requirement already satisfied: idna<4,>=2.5 in /Users/galina.ryazanskaya/miniconda3/lib/python3.9/site-packages (from requests->transformers) (3.3)\n",
      "Installing collected packages: pyyaml, fsspec, filelock, huggingface-hub, tokenizers, safetensors, transformers\n",
      "Successfully installed filelock-3.13.1 fsspec-2023.10.0 huggingface-hub-0.19.4 pyyaml-6.0.1 safetensors-0.4.1 tokenizers-0.15.0 transformers-4.35.2\n"
     ]
    }
   ],
   "source": [
    "!pip install transformers"
   ]
  },
  {
   "cell_type": "code",
   "execution_count": 3,
   "metadata": {
    "colab": {
     "base_uri": "https://localhost:8080/"
    },
    "id": "-TW2_wcCG_nj",
    "outputId": "d2fa5a9e-5b6a-4ca1-b7f5-dc1196246aa2"
   },
   "outputs": [
    {
     "name": "stdout",
     "output_type": "stream",
     "text": [
      "Collecting wordfreq\n",
      "  Downloading wordfreq-3.1.1-py3-none-any.whl (56.8 MB)\n",
      "\u001b[K     |████████████████████████████████| 56.8 MB 4.6 MB/s eta 0:00:01\n",
      "\u001b[?25hRequirement already satisfied: langcodes>=3.0 in /Users/galina.ryazanskaya/miniconda3/lib/python3.9/site-packages (from wordfreq) (3.3.0)\n",
      "Collecting regex>=2023.10.3\n",
      "  Downloading regex-2023.10.3-cp39-cp39-macosx_10_9_x86_64.whl (296 kB)\n",
      "\u001b[K     |████████████████████████████████| 296 kB 3.1 MB/s eta 0:00:01\n",
      "\u001b[?25hCollecting locate<2.0.0,>=1.1.1\n",
      "  Downloading locate-1.1.1-py3-none-any.whl (5.4 kB)\n",
      "Collecting ftfy>=6.1\n",
      "  Downloading ftfy-6.1.3-py3-none-any.whl (53 kB)\n",
      "\u001b[K     |████████████████████████████████| 53 kB 2.4 MB/s eta 0:00:01\n",
      "\u001b[?25hCollecting msgpack<2.0.0,>=1.0.7\n",
      "  Downloading msgpack-1.0.7-cp39-cp39-macosx_10_9_x86_64.whl (234 kB)\n",
      "\u001b[K     |████████████████████████████████| 234 kB 3.1 MB/s eta 0:00:01\n",
      "\u001b[?25hCollecting wcwidth<0.3.0,>=0.2.12\n",
      "  Downloading wcwidth-0.2.12-py2.py3-none-any.whl (34 kB)\n",
      "Installing collected packages: wcwidth, regex, msgpack, locate, ftfy, wordfreq\n",
      "  Attempting uninstall: wcwidth\n",
      "    Found existing installation: wcwidth 0.2.5\n",
      "    Uninstalling wcwidth-0.2.5:\n",
      "      Successfully uninstalled wcwidth-0.2.5\n",
      "  Attempting uninstall: regex\n",
      "    Found existing installation: regex 2022.6.2\n",
      "    Uninstalling regex-2022.6.2:\n",
      "      Successfully uninstalled regex-2022.6.2\n",
      "Successfully installed ftfy-6.1.3 locate-1.1.1 msgpack-1.0.7 regex-2023.10.3 wcwidth-0.2.12 wordfreq-3.1.1\n"
     ]
    }
   ],
   "source": [
    "!pip3 install wordfreq"
   ]
  },
  {
   "cell_type": "code",
   "execution_count": 4,
   "metadata": {
    "colab": {
     "base_uri": "https://localhost:8080/"
    },
    "id": "6Nk6_0QmnawS",
    "outputId": "71832ff0-0558-4239-fd96-8dd86ee184d8"
   },
   "outputs": [
    {
     "name": "stdout",
     "output_type": "stream",
     "text": [
      "Collecting de-core-news-md==3.4.0\n",
      "  Downloading https://github.com/explosion/spacy-models/releases/download/de_core_news_md-3.4.0/de_core_news_md-3.4.0-py3-none-any.whl (44.4 MB)\n",
      "\u001b[K     |████████████████████████████████| 44.4 MB 1.9 MB/s eta 0:00:01\n",
      "\u001b[?25hRequirement already satisfied: spacy<3.5.0,>=3.4.0 in /Users/galina.ryazanskaya/miniconda3/lib/python3.9/site-packages (from de-core-news-md==3.4.0) (3.4.1)\n",
      "Requirement already satisfied: pathy>=0.3.5 in /Users/galina.ryazanskaya/miniconda3/lib/python3.9/site-packages (from spacy<3.5.0,>=3.4.0->de-core-news-md==3.4.0) (0.6.2)\n",
      "Requirement already satisfied: jinja2 in /Users/galina.ryazanskaya/miniconda3/lib/python3.9/site-packages (from spacy<3.5.0,>=3.4.0->de-core-news-md==3.4.0) (3.1.2)\n",
      "Requirement already satisfied: numpy>=1.15.0 in /Users/galina.ryazanskaya/miniconda3/lib/python3.9/site-packages (from spacy<3.5.0,>=3.4.0->de-core-news-md==3.4.0) (1.23.0)\n",
      "Requirement already satisfied: typer<0.5.0,>=0.3.0 in /Users/galina.ryazanskaya/miniconda3/lib/python3.9/site-packages (from spacy<3.5.0,>=3.4.0->de-core-news-md==3.4.0) (0.4.2)\n",
      "Requirement already satisfied: thinc<8.2.0,>=8.1.0 in /Users/galina.ryazanskaya/miniconda3/lib/python3.9/site-packages (from spacy<3.5.0,>=3.4.0->de-core-news-md==3.4.0) (8.1.1)\n",
      "Requirement already satisfied: preshed<3.1.0,>=3.0.2 in /Users/galina.ryazanskaya/miniconda3/lib/python3.9/site-packages (from spacy<3.5.0,>=3.4.0->de-core-news-md==3.4.0) (3.0.7)\n",
      "Requirement already satisfied: srsly<3.0.0,>=2.4.3 in /Users/galina.ryazanskaya/miniconda3/lib/python3.9/site-packages (from spacy<3.5.0,>=3.4.0->de-core-news-md==3.4.0) (2.4.4)\n",
      "Requirement already satisfied: pydantic!=1.8,!=1.8.1,<1.10.0,>=1.7.4 in /Users/galina.ryazanskaya/miniconda3/lib/python3.9/site-packages (from spacy<3.5.0,>=3.4.0->de-core-news-md==3.4.0) (1.9.2)\n",
      "Requirement already satisfied: wasabi<1.1.0,>=0.9.1 in /Users/galina.ryazanskaya/miniconda3/lib/python3.9/site-packages (from spacy<3.5.0,>=3.4.0->de-core-news-md==3.4.0) (0.10.1)\n",
      "Requirement already satisfied: spacy-legacy<3.1.0,>=3.0.9 in /Users/galina.ryazanskaya/miniconda3/lib/python3.9/site-packages (from spacy<3.5.0,>=3.4.0->de-core-news-md==3.4.0) (3.0.10)\n",
      "Requirement already satisfied: langcodes<4.0.0,>=3.2.0 in /Users/galina.ryazanskaya/miniconda3/lib/python3.9/site-packages (from spacy<3.5.0,>=3.4.0->de-core-news-md==3.4.0) (3.3.0)\n",
      "Requirement already satisfied: tqdm<5.0.0,>=4.38.0 in /Users/galina.ryazanskaya/miniconda3/lib/python3.9/site-packages (from spacy<3.5.0,>=3.4.0->de-core-news-md==3.4.0) (4.62.3)\n",
      "Requirement already satisfied: catalogue<2.1.0,>=2.0.6 in /Users/galina.ryazanskaya/miniconda3/lib/python3.9/site-packages (from spacy<3.5.0,>=3.4.0->de-core-news-md==3.4.0) (2.0.8)\n",
      "Requirement already satisfied: spacy-loggers<2.0.0,>=1.0.0 in /Users/galina.ryazanskaya/miniconda3/lib/python3.9/site-packages (from spacy<3.5.0,>=3.4.0->de-core-news-md==3.4.0) (1.0.3)\n",
      "Requirement already satisfied: requests<3.0.0,>=2.13.0 in /Users/galina.ryazanskaya/miniconda3/lib/python3.9/site-packages (from spacy<3.5.0,>=3.4.0->de-core-news-md==3.4.0) (2.27.1)\n",
      "Requirement already satisfied: cymem<2.1.0,>=2.0.2 in /Users/galina.ryazanskaya/miniconda3/lib/python3.9/site-packages (from spacy<3.5.0,>=3.4.0->de-core-news-md==3.4.0) (2.0.6)\n",
      "Requirement already satisfied: setuptools in /Users/galina.ryazanskaya/miniconda3/lib/python3.9/site-packages (from spacy<3.5.0,>=3.4.0->de-core-news-md==3.4.0) (58.0.4)\n",
      "Requirement already satisfied: murmurhash<1.1.0,>=0.28.0 in /Users/galina.ryazanskaya/miniconda3/lib/python3.9/site-packages (from spacy<3.5.0,>=3.4.0->de-core-news-md==3.4.0) (1.0.8)\n",
      "Requirement already satisfied: packaging>=20.0 in /Users/galina.ryazanskaya/miniconda3/lib/python3.9/site-packages (from spacy<3.5.0,>=3.4.0->de-core-news-md==3.4.0) (21.3)\n",
      "Requirement already satisfied: pyparsing!=3.0.5,>=2.0.2 in /Users/galina.ryazanskaya/miniconda3/lib/python3.9/site-packages (from packaging>=20.0->spacy<3.5.0,>=3.4.0->de-core-news-md==3.4.0) (3.0.9)\n",
      "Requirement already satisfied: smart-open<6.0.0,>=5.2.1 in /Users/galina.ryazanskaya/miniconda3/lib/python3.9/site-packages (from pathy>=0.3.5->spacy<3.5.0,>=3.4.0->de-core-news-md==3.4.0) (5.2.1)\n",
      "Requirement already satisfied: typing-extensions>=3.7.4.3 in /Users/galina.ryazanskaya/miniconda3/lib/python3.9/site-packages (from pydantic!=1.8,!=1.8.1,<1.10.0,>=1.7.4->spacy<3.5.0,>=3.4.0->de-core-news-md==3.4.0) (4.3.0)\n",
      "Requirement already satisfied: urllib3<1.27,>=1.21.1 in /Users/galina.ryazanskaya/miniconda3/lib/python3.9/site-packages (from requests<3.0.0,>=2.13.0->spacy<3.5.0,>=3.4.0->de-core-news-md==3.4.0) (1.26.7)\n",
      "Requirement already satisfied: charset-normalizer~=2.0.0 in /Users/galina.ryazanskaya/miniconda3/lib/python3.9/site-packages (from requests<3.0.0,>=2.13.0->spacy<3.5.0,>=3.4.0->de-core-news-md==3.4.0) (2.0.4)\n",
      "Requirement already satisfied: certifi>=2017.4.17 in /Users/galina.ryazanskaya/miniconda3/lib/python3.9/site-packages (from requests<3.0.0,>=2.13.0->spacy<3.5.0,>=3.4.0->de-core-news-md==3.4.0) (2021.10.8)\n",
      "Requirement already satisfied: idna<4,>=2.5 in /Users/galina.ryazanskaya/miniconda3/lib/python3.9/site-packages (from requests<3.0.0,>=2.13.0->spacy<3.5.0,>=3.4.0->de-core-news-md==3.4.0) (3.3)\n",
      "Requirement already satisfied: blis<0.10.0,>=0.7.8 in /Users/galina.ryazanskaya/miniconda3/lib/python3.9/site-packages (from thinc<8.2.0,>=8.1.0->spacy<3.5.0,>=3.4.0->de-core-news-md==3.4.0) (0.9.1)\n",
      "Requirement already satisfied: confection<1.0.0,>=0.0.1 in /Users/galina.ryazanskaya/miniconda3/lib/python3.9/site-packages (from thinc<8.2.0,>=8.1.0->spacy<3.5.0,>=3.4.0->de-core-news-md==3.4.0) (0.0.1)\n",
      "Requirement already satisfied: click<9.0.0,>=7.1.1 in /Users/galina.ryazanskaya/miniconda3/lib/python3.9/site-packages (from typer<0.5.0,>=0.3.0->spacy<3.5.0,>=3.4.0->de-core-news-md==3.4.0) (8.1.3)\n",
      "Requirement already satisfied: MarkupSafe>=2.0 in /Users/galina.ryazanskaya/miniconda3/lib/python3.9/site-packages (from jinja2->spacy<3.5.0,>=3.4.0->de-core-news-md==3.4.0) (2.1.1)\n",
      "Installing collected packages: de-core-news-md\n",
      "Successfully installed de-core-news-md-3.4.0\n",
      "\u001b[38;5;2m✔ Download and installation successful\u001b[0m\n",
      "You can now load the package via spacy.load('de_core_news_md')\n"
     ]
    }
   ],
   "source": [
    "!python -m spacy download de_core_news_md"
   ]
  },
  {
   "cell_type": "code",
   "execution_count": 5,
   "metadata": {
    "colab": {
     "base_uri": "https://localhost:8080/"
    },
    "id": "OmRsdPM4YWqU",
    "outputId": "78bffb7f-e80a-443f-d840-ddd4b9db3739"
   },
   "outputs": [
    {
     "name": "stdout",
     "output_type": "stream",
     "text": [
      "Collecting ru-core-news-md==3.4.0\n",
      "  Downloading https://github.com/explosion/spacy-models/releases/download/ru_core_news_md-3.4.0/ru_core_news_md-3.4.0-py3-none-any.whl (41.9 MB)\n",
      "\u001b[K     |████████████████████████████████| 41.9 MB 5.4 MB/s eta 0:00:01\n",
      "\u001b[?25hRequirement already satisfied: spacy<3.5.0,>=3.4.0 in /Users/galina.ryazanskaya/miniconda3/lib/python3.9/site-packages (from ru-core-news-md==3.4.0) (3.4.1)\n",
      "Collecting pymorphy2>=0.9\n",
      "  Downloading pymorphy2-0.9.1-py3-none-any.whl (55 kB)\n",
      "\u001b[K     |████████████████████████████████| 55 kB 1.5 MB/s eta 0:00:01\n",
      "\u001b[?25hCollecting dawg-python>=0.7.1\n",
      "  Downloading DAWG_Python-0.7.2-py2.py3-none-any.whl (11 kB)\n",
      "Collecting docopt>=0.6\n",
      "  Using cached docopt-0.6.2.tar.gz (25 kB)\n",
      "Collecting pymorphy2-dicts-ru<3.0,>=2.4\n",
      "  Downloading pymorphy2_dicts_ru-2.4.417127.4579844-py2.py3-none-any.whl (8.2 MB)\n",
      "\u001b[K     |████████████████████████████████| 8.2 MB 5.4 MB/s eta 0:00:01\n",
      "\u001b[?25hRequirement already satisfied: wasabi<1.1.0,>=0.9.1 in /Users/galina.ryazanskaya/miniconda3/lib/python3.9/site-packages (from spacy<3.5.0,>=3.4.0->ru-core-news-md==3.4.0) (0.10.1)\n",
      "Requirement already satisfied: jinja2 in /Users/galina.ryazanskaya/miniconda3/lib/python3.9/site-packages (from spacy<3.5.0,>=3.4.0->ru-core-news-md==3.4.0) (3.1.2)\n",
      "Requirement already satisfied: murmurhash<1.1.0,>=0.28.0 in /Users/galina.ryazanskaya/miniconda3/lib/python3.9/site-packages (from spacy<3.5.0,>=3.4.0->ru-core-news-md==3.4.0) (1.0.8)\n",
      "Requirement already satisfied: setuptools in /Users/galina.ryazanskaya/miniconda3/lib/python3.9/site-packages (from spacy<3.5.0,>=3.4.0->ru-core-news-md==3.4.0) (58.0.4)\n",
      "Requirement already satisfied: tqdm<5.0.0,>=4.38.0 in /Users/galina.ryazanskaya/miniconda3/lib/python3.9/site-packages (from spacy<3.5.0,>=3.4.0->ru-core-news-md==3.4.0) (4.62.3)\n",
      "Requirement already satisfied: langcodes<4.0.0,>=3.2.0 in /Users/galina.ryazanskaya/miniconda3/lib/python3.9/site-packages (from spacy<3.5.0,>=3.4.0->ru-core-news-md==3.4.0) (3.3.0)\n",
      "Requirement already satisfied: pydantic!=1.8,!=1.8.1,<1.10.0,>=1.7.4 in /Users/galina.ryazanskaya/miniconda3/lib/python3.9/site-packages (from spacy<3.5.0,>=3.4.0->ru-core-news-md==3.4.0) (1.9.2)\n",
      "Requirement already satisfied: srsly<3.0.0,>=2.4.3 in /Users/galina.ryazanskaya/miniconda3/lib/python3.9/site-packages (from spacy<3.5.0,>=3.4.0->ru-core-news-md==3.4.0) (2.4.4)\n",
      "Requirement already satisfied: packaging>=20.0 in /Users/galina.ryazanskaya/miniconda3/lib/python3.9/site-packages (from spacy<3.5.0,>=3.4.0->ru-core-news-md==3.4.0) (21.3)\n",
      "Requirement already satisfied: spacy-legacy<3.1.0,>=3.0.9 in /Users/galina.ryazanskaya/miniconda3/lib/python3.9/site-packages (from spacy<3.5.0,>=3.4.0->ru-core-news-md==3.4.0) (3.0.10)\n",
      "Requirement already satisfied: typer<0.5.0,>=0.3.0 in /Users/galina.ryazanskaya/miniconda3/lib/python3.9/site-packages (from spacy<3.5.0,>=3.4.0->ru-core-news-md==3.4.0) (0.4.2)\n",
      "Requirement already satisfied: numpy>=1.15.0 in /Users/galina.ryazanskaya/miniconda3/lib/python3.9/site-packages (from spacy<3.5.0,>=3.4.0->ru-core-news-md==3.4.0) (1.23.0)\n",
      "Requirement already satisfied: cymem<2.1.0,>=2.0.2 in /Users/galina.ryazanskaya/miniconda3/lib/python3.9/site-packages (from spacy<3.5.0,>=3.4.0->ru-core-news-md==3.4.0) (2.0.6)\n",
      "Requirement already satisfied: catalogue<2.1.0,>=2.0.6 in /Users/galina.ryazanskaya/miniconda3/lib/python3.9/site-packages (from spacy<3.5.0,>=3.4.0->ru-core-news-md==3.4.0) (2.0.8)\n",
      "Requirement already satisfied: thinc<8.2.0,>=8.1.0 in /Users/galina.ryazanskaya/miniconda3/lib/python3.9/site-packages (from spacy<3.5.0,>=3.4.0->ru-core-news-md==3.4.0) (8.1.1)\n",
      "Requirement already satisfied: spacy-loggers<2.0.0,>=1.0.0 in /Users/galina.ryazanskaya/miniconda3/lib/python3.9/site-packages (from spacy<3.5.0,>=3.4.0->ru-core-news-md==3.4.0) (1.0.3)\n",
      "Requirement already satisfied: requests<3.0.0,>=2.13.0 in /Users/galina.ryazanskaya/miniconda3/lib/python3.9/site-packages (from spacy<3.5.0,>=3.4.0->ru-core-news-md==3.4.0) (2.27.1)\n",
      "Requirement already satisfied: preshed<3.1.0,>=3.0.2 in /Users/galina.ryazanskaya/miniconda3/lib/python3.9/site-packages (from spacy<3.5.0,>=3.4.0->ru-core-news-md==3.4.0) (3.0.7)\n",
      "Requirement already satisfied: pathy>=0.3.5 in /Users/galina.ryazanskaya/miniconda3/lib/python3.9/site-packages (from spacy<3.5.0,>=3.4.0->ru-core-news-md==3.4.0) (0.6.2)\n",
      "Requirement already satisfied: pyparsing!=3.0.5,>=2.0.2 in /Users/galina.ryazanskaya/miniconda3/lib/python3.9/site-packages (from packaging>=20.0->spacy<3.5.0,>=3.4.0->ru-core-news-md==3.4.0) (3.0.9)\n",
      "Requirement already satisfied: smart-open<6.0.0,>=5.2.1 in /Users/galina.ryazanskaya/miniconda3/lib/python3.9/site-packages (from pathy>=0.3.5->spacy<3.5.0,>=3.4.0->ru-core-news-md==3.4.0) (5.2.1)\n",
      "Requirement already satisfied: typing-extensions>=3.7.4.3 in /Users/galina.ryazanskaya/miniconda3/lib/python3.9/site-packages (from pydantic!=1.8,!=1.8.1,<1.10.0,>=1.7.4->spacy<3.5.0,>=3.4.0->ru-core-news-md==3.4.0) (4.3.0)\n",
      "Requirement already satisfied: urllib3<1.27,>=1.21.1 in /Users/galina.ryazanskaya/miniconda3/lib/python3.9/site-packages (from requests<3.0.0,>=2.13.0->spacy<3.5.0,>=3.4.0->ru-core-news-md==3.4.0) (1.26.7)\n",
      "Requirement already satisfied: certifi>=2017.4.17 in /Users/galina.ryazanskaya/miniconda3/lib/python3.9/site-packages (from requests<3.0.0,>=2.13.0->spacy<3.5.0,>=3.4.0->ru-core-news-md==3.4.0) (2021.10.8)\n",
      "Requirement already satisfied: charset-normalizer~=2.0.0 in /Users/galina.ryazanskaya/miniconda3/lib/python3.9/site-packages (from requests<3.0.0,>=2.13.0->spacy<3.5.0,>=3.4.0->ru-core-news-md==3.4.0) (2.0.4)\n",
      "Requirement already satisfied: idna<4,>=2.5 in /Users/galina.ryazanskaya/miniconda3/lib/python3.9/site-packages (from requests<3.0.0,>=2.13.0->spacy<3.5.0,>=3.4.0->ru-core-news-md==3.4.0) (3.3)\n",
      "Requirement already satisfied: blis<0.10.0,>=0.7.8 in /Users/galina.ryazanskaya/miniconda3/lib/python3.9/site-packages (from thinc<8.2.0,>=8.1.0->spacy<3.5.0,>=3.4.0->ru-core-news-md==3.4.0) (0.9.1)\n",
      "Requirement already satisfied: confection<1.0.0,>=0.0.1 in /Users/galina.ryazanskaya/miniconda3/lib/python3.9/site-packages (from thinc<8.2.0,>=8.1.0->spacy<3.5.0,>=3.4.0->ru-core-news-md==3.4.0) (0.0.1)\n",
      "Requirement already satisfied: click<9.0.0,>=7.1.1 in /Users/galina.ryazanskaya/miniconda3/lib/python3.9/site-packages (from typer<0.5.0,>=0.3.0->spacy<3.5.0,>=3.4.0->ru-core-news-md==3.4.0) (8.1.3)\n",
      "Requirement already satisfied: MarkupSafe>=2.0 in /Users/galina.ryazanskaya/miniconda3/lib/python3.9/site-packages (from jinja2->spacy<3.5.0,>=3.4.0->ru-core-news-md==3.4.0) (2.1.1)\n",
      "Building wheels for collected packages: docopt\n",
      "  Building wheel for docopt (setup.py) ... \u001b[?25ldone\n",
      "\u001b[?25h  Created wheel for docopt: filename=docopt-0.6.2-py2.py3-none-any.whl size=13723 sha256=70be8b4d33bbee220cac6fd2027c8329bff83dc3f5654aa547cecdc255b0dcbe\n",
      "  Stored in directory: /Users/galina.ryazanskaya/Library/Caches/pip/wheels/70/4a/46/1309fc853b8d395e60bafaf1b6df7845bdd82c95fd59dd8d2b\n",
      "Successfully built docopt\n",
      "Installing collected packages: pymorphy2-dicts-ru, docopt, dawg-python, pymorphy2, ru-core-news-md\n",
      "Successfully installed dawg-python-0.7.2 docopt-0.6.2 pymorphy2-0.9.1 pymorphy2-dicts-ru-2.4.417127.4579844 ru-core-news-md-3.4.0\n",
      "\u001b[38;5;2m✔ Download and installation successful\u001b[0m\n",
      "You can now load the package via spacy.load('ru_core_news_md')\n"
     ]
    }
   ],
   "source": [
    "!python -m spacy download ru_core_news_md"
   ]
  },
  {
   "cell_type": "code",
   "execution_count": 6,
   "metadata": {
    "colab": {
     "base_uri": "https://localhost:8080/"
    },
    "id": "HbgTzE_UA3YD",
    "outputId": "4390bd56-41d1-478b-a3d1-c26414ef31c9"
   },
   "outputs": [
    {
     "name": "stdout",
     "output_type": "stream",
     "text": [
      "--2023-11-29 19:14:18--  https://int-emb-glove-de-wiki.s3.eu-central-1.amazonaws.com/vectors.txt\n",
      "Resolving int-emb-glove-de-wiki.s3.eu-central-1.amazonaws.com (int-emb-glove-de-wiki.s3.eu-central-1.amazonaws.com)... 52.219.75.76, 3.5.135.12, 52.219.75.128, ...\n",
      "Connecting to int-emb-glove-de-wiki.s3.eu-central-1.amazonaws.com (int-emb-glove-de-wiki.s3.eu-central-1.amazonaws.com)|52.219.75.76|:443... connected.\n",
      "HTTP request sent, awaiting response... 200 OK\n",
      "Length: 3744610526 (3,5G) [text/plain]\n",
      "Saving to: ‘vectors.txt’\n",
      "\n",
      "vectors.txt         100%[===================>]   3,49G  5,24MB/s    in 11m 56s \n",
      "\n",
      "2023-11-29 19:26:14 (4,99 MB/s) - ‘vectors.txt’ saved [3744610526/3744610526]\n",
      "\n"
     ]
    }
   ],
   "source": [
    "!wget https://int-emb-glove-de-wiki.s3.eu-central-1.amazonaws.com/vectors.txt"
   ]
  },
  {
   "cell_type": "markdown",
   "metadata": {
    "id": "RfiQ3_5kHKNF"
   },
   "source": [
    "### import & load"
   ]
  },
  {
   "cell_type": "markdown",
   "metadata": {
    "id": "6JipvxhW5dbL"
   },
   "source": [
    "https://github.com/aalok-sathe/surprisal\n",
    "does not support bert"
   ]
  },
  {
   "cell_type": "code",
   "execution_count": 7,
   "metadata": {
    "id": "zfm1yKAukwWW"
   },
   "outputs": [
    {
     "ename": "ModuleNotFoundError",
     "evalue": "No module named 'torch'",
     "output_type": "error",
     "traceback": [
      "\u001b[0;31m---------------------------------------------------------------------------\u001b[0m",
      "\u001b[0;31mModuleNotFoundError\u001b[0m                       Traceback (most recent call last)",
      "Input \u001b[0;32mIn [7]\u001b[0m, in \u001b[0;36m<cell line: 9>\u001b[0;34m()\u001b[0m\n\u001b[1;32m      7\u001b[0m \u001b[38;5;28;01mimport\u001b[39;00m \u001b[38;5;21;01mre\u001b[39;00m\n\u001b[1;32m      8\u001b[0m \u001b[38;5;28;01mimport\u001b[39;00m \u001b[38;5;21;01mspacy\u001b[39;00m\n\u001b[0;32m----> 9\u001b[0m \u001b[38;5;28;01mimport\u001b[39;00m \u001b[38;5;21;01mtorch\u001b[39;00m\n\u001b[1;32m     11\u001b[0m \u001b[38;5;28;01mfrom\u001b[39;00m \u001b[38;5;21;01mcollections\u001b[39;00m \u001b[38;5;28;01mimport\u001b[39;00m Counter\n\u001b[1;32m     12\u001b[0m \u001b[38;5;28;01mfrom\u001b[39;00m \u001b[38;5;21;01mfunctools\u001b[39;00m \u001b[38;5;28;01mimport\u001b[39;00m cached_property, cache\n",
      "\u001b[0;31mModuleNotFoundError\u001b[0m: No module named 'torch'"
     ]
    }
   ],
   "source": [
    "import attr\n",
    "\n",
    "import numpy as np\n",
    "import networkx as nx\n",
    "import nltk\n",
    "import nltk.stem\n",
    "import re\n",
    "import spacy\n",
    "import torch\n",
    "\n",
    "from collections import Counter\n",
    "from functools import cached_property, cache\n",
    "from HanTa import HanoverTagger as ht\n",
    "from nltk.corpus import stopwords\n",
    "from spacy.lang.de.examples import sentences\n",
    "from transformers import AutoModel, AutoTokenizer\n",
    "from transformers import BertTokenizer, BertForNextSentencePrediction\n",
    "from typing import Callable, Dict, Optional, List\n",
    "from wordfreq import word_frequency"
   ]
  },
  {
   "cell_type": "code",
   "execution_count": null,
   "metadata": {
    "colab": {
     "base_uri": "https://localhost:8080/"
    },
    "id": "avW-zuH4n9ig",
    "outputId": "fa432d77-4947-4eac-b0df-2a8f0edb65f6"
   },
   "outputs": [],
   "source": [
    "nltk.download('punkt')\n",
    "nltk.download('averaged_perceptron_tagger')\n",
    "nltk.download('stopwords')"
   ]
  },
  {
   "cell_type": "code",
   "execution_count": null,
   "metadata": {
    "id": "G6oVoepxWtCF"
   },
   "outputs": [],
   "source": [
    "nlp_de = spacy.load(\"de_core_news_md\")\n",
    "nlp_ru = spacy.load(\"ru_core_news_md\")"
   ]
  },
  {
   "cell_type": "code",
   "execution_count": 10,
   "metadata": {
    "id": "FKKqt0n1XDI2"
   },
   "outputs": [],
   "source": [
    "stopwords_ru = stopwords.words(\"russian\")"
   ]
  },
  {
   "cell_type": "code",
   "execution_count": 11,
   "metadata": {
    "id": "c5ZBo_EiXFmY"
   },
   "outputs": [],
   "source": [
    "stopwords_de = stopwords.words(\"german\")"
   ]
  },
  {
   "cell_type": "code",
   "execution_count": null,
   "metadata": {
    "id": "rD0YzsVhBurp"
   },
   "outputs": [],
   "source": [
    "#german_stopwords = [\"a\",\"ab\",\"aber\",\"ach\",\"acht\",\"achte\",\"achten\",\"achter\",\"achtes\",\"ag\",\"alle\",\"allein\",\"allem\",\"allen\",\"aller\",\"allerdings\",\"alles\",\"allgemeinen\",\"als\",\"also\",\"am\",\"an\",\"ander\",\"andere\",\"anderem\",\"anderen\",\"anderer\",\"anderes\",\"anderm\",\"andern\",\"anderr\",\"anders\",\"au\",\"auch\",\"auf\",\"aus\",\"ausser\",\"ausserdem\",\"außer\",\"außerdem\",\"b\",\"bald\",\"bei\",\"beide\",\"beiden\",\"beim\",\"beispiel\",\"bekannt\",\"bereits\",\"besonders\",\"besser\",\"besten\",\"bin\",\"bis\",\"bisher\",\"bist\",\"c\",\"d\",\"d.h\",\"da\",\"dabei\",\"dadurch\",\"dafür\",\"dagegen\",\"daher\",\"dahin\",\"dahinter\",\"damals\",\"damit\",\"danach\",\"daneben\",\"dank\",\"dann\",\"daran\",\"darauf\",\"daraus\",\"darf\",\"darfst\",\"darin\",\"darum\",\"darunter\",\"darüber\",\"das\",\"dasein\",\"daselbst\",\"dass\",\"dasselbe\",\"davon\",\"davor\",\"dazu\",\"dazwischen\",\"daß\",\"dein\",\"deine\",\"deinem\",\"deinen\",\"deiner\",\"deines\",\"dem\",\"dementsprechend\",\"demgegenüber\",\"demgemäss\",\"demgemäß\",\"demselben\",\"demzufolge\",\"den\",\"denen\",\"denn\",\"denselben\",\"der\",\"deren\",\"derer\",\"derjenige\",\"derjenigen\",\"dermassen\",\"dermaßen\",\"derselbe\",\"derselben\",\"des\",\"deshalb\",\"desselben\",\"dessen\",\"deswegen\",\"dich\",\"die\",\"diejenige\",\"diejenigen\",\"dies\",\"diese\",\"dieselbe\",\"dieselben\",\"diesem\",\"diesen\",\"dieser\",\"dieses\",\"dir\",\"doch\",\"dort\",\"drei\",\"drin\",\"dritte\",\"dritten\",\"dritter\",\"drittes\",\"du\",\"durch\",\"durchaus\",\"durfte\",\"durften\",\"dürfen\",\"dürft\",\"e\",\"eben\",\"ebenso\",\"ehrlich\",\"ei\",\"ei,\",\"eigen\",\"eigene\",\"eigenen\",\"eigener\",\"eigenes\",\"ein\",\"einander\",\"eine\",\"einem\",\"einen\",\"einer\",\"eines\",\"einig\",\"einige\",\"einigem\",\"einigen\",\"einiger\",\"einiges\",\"einmal\",\"eins\",\"elf\",\"en\",\"ende\",\"endlich\",\"entweder\",\"er\",\"ernst\",\"erst\",\"erste\",\"ersten\",\"erster\",\"erstes\",\"es\",\"etwa\",\"etwas\",\"euch\",\"euer\",\"eure\",\"eurem\",\"euren\",\"eurer\",\"eures\",\"f\",\"folgende\",\"früher\",\"fünf\",\"fünfte\",\"fünften\",\"fünfter\",\"fünftes\",\"für\",\"g\",\"gab\",\"ganz\",\"ganze\",\"ganzen\",\"ganzer\",\"ganzes\",\"gar\",\"gedurft\",\"gegen\",\"gegenüber\",\"gehabt\",\"gehen\",\"geht\",\"gekannt\",\"gekonnt\",\"gemacht\",\"gemocht\",\"gemusst\",\"genug\",\"gerade\",\"gern\",\"gesagt\",\"geschweige\",\"gewesen\",\"gewollt\",\"geworden\",\"gibt\",\"ging\",\"gleich\",\"gott\",\"gross\",\"grosse\",\"grossen\",\"grosser\",\"grosses\",\"groß\",\"große\",\"großen\",\"großer\",\"großes\",\"gut\",\"gute\",\"guter\",\"gutes\",\"h\",\"hab\",\"habe\",\"haben\",\"habt\",\"hast\",\"hat\",\"hatte\",\"hatten\",\"hattest\",\"hattet\",\"heisst\",\"her\",\"heute\",\"hier\",\"hin\",\"hinter\",\"hoch\",\"hätte\",\"hätten\",\"i\",\"ich\",\"ihm\",\"ihn\",\"ihnen\",\"ihr\",\"ihre\",\"ihrem\",\"ihren\",\"ihrer\",\"ihres\",\"im\",\"immer\",\"in\",\"indem\",\"infolgedessen\",\"ins\",\"irgend\",\"ist\",\"j\",\"ja\",\"jahr\",\"jahre\",\"jahren\",\"je\",\"jede\",\"jedem\",\"jeden\",\"jeder\",\"jedermann\",\"jedermanns\",\"jedes\",\"jedoch\",\"jemand\",\"jemandem\",\"jemanden\",\"jene\",\"jenem\",\"jenen\",\"jener\",\"jenes\",\"jetzt\",\"k\",\"kam\",\"kann\",\"kannst\",\"kaum\",\"kein\",\"keine\",\"keinem\",\"keinen\",\"keiner\",\"keines\",\"kleine\",\"kleinen\",\"kleiner\",\"kleines\",\"kommen\",\"kommt\",\"konnte\",\"konnten\",\"kurz\",\"können\",\"könnt\",\"könnte\",\"l\",\"lang\",\"lange\",\"leicht\",\"leide\",\"lieber\",\"los\",\"m\",\"machen\",\"macht\",\"machte\",\"mag\",\"magst\",\"mahn\",\"mal\",\"man\",\"manche\",\"manchem\",\"manchen\",\"mancher\",\"manches\",\"mann\",\"mehr\",\"mein\",\"meine\",\"meinem\",\"meinen\",\"meiner\",\"meines\",\"mensch\",\"menschen\",\"mich\",\"mir\",\"mit\",\"mittel\",\"mochte\",\"mochten\",\"morgen\",\"muss\",\"musst\",\"musste\",\"mussten\",\"muß\",\"mußt\",\"möchte\",\"mögen\",\"möglich\",\"mögt\",\"müssen\",\"müsst\",\"müßt\",\"n\",\"na\",\"nach\",\"nachdem\",\"nahm\",\"natürlich\",\"neben\",\"nein\",\"neue\",\"neuen\",\"neun\",\"neunte\",\"neunten\",\"neunter\",\"neuntes\",\"nicht\",\"nichts\",\"nie\",\"niemand\",\"niemandem\",\"niemanden\",\"noch\",\"nun\",\"nur\",\"o\",\"ob\",\"oben\",\"oder\",\"offen\",\"oft\",\"ohne\",\"ordnung\",\"p\",\"q\",\"r\",\"recht\",\"rechte\",\"rechten\",\"rechter\",\"rechtes\",\"richtig\",\"rund\",\"s\",\"sa\",\"sache\",\"sagt\",\"sagte\",\"sah\",\"satt\",\"schlecht\",\"schluss\",\"schon\",\"sechs\",\"sechste\",\"sechsten\",\"sechster\",\"sechstes\",\"sehr\",\"sei\",\"seid\",\"seien\",\"sein\",\"seine\",\"seinem\",\"seinen\",\"seiner\",\"seines\",\"seit\",\"seitdem\",\"selbst\",\"sich\",\"sie\",\"sieben\",\"siebente\",\"siebenten\",\"siebenter\",\"siebentes\",\"sind\",\"so\",\"solang\",\"solche\",\"solchem\",\"solchen\",\"solcher\",\"solches\",\"soll\",\"sollen\",\"sollst\",\"sollt\",\"sollte\",\"sollten\",\"sondern\",\"sonst\",\"soweit\",\"sowie\",\"später\",\"startseite\",\"statt\",\"steht\",\"suche\",\"t\",\"tag\",\"tage\",\"tagen\",\"tat\",\"teil\",\"tel\",\"tritt\",\"trotzdem\",\"tun\",\"u\",\"uhr\",\"um\",\"und\",\"uns\",\"unse\",\"unsem\",\"unsen\",\"unser\",\"unsere\",\"unserer\",\"unses\",\"unter\",\"v\",\"vergangenen\",\"viel\",\"viele\",\"vielem\",\"vielen\",\"vielleicht\",\"vier\",\"vierte\",\"vierten\",\"vierter\",\"viertes\",\"vom\",\"von\",\"vor\",\"w\",\"wahr\",\"wann\",\"war\",\"waren\",\"warst\",\"wart\",\"warum\",\"was\",\"weg\",\"wegen\",\"weil\",\"weit\",\"weiter\",\"weitere\",\"weiteren\",\"weiteres\",\"welche\",\"welchem\",\"welchen\",\"welcher\",\"welches\",\"wem\",\"wen\",\"wenig\",\"wenige\",\"weniger\",\"weniges\",\"wenigstens\",\"wenn\",\"wer\",\"werde\",\"werden\",\"werdet\",\"weshalb\",\"wessen\",\"wie\",\"wieder\",\"wieso\",\"will\",\"willst\",\"wir\",\"wird\",\"wirklich\",\"wirst\",\"wissen\",\"wo\",\"woher\",\"wohin\",\"wohl\",\"wollen\",\"wollt\",\"wollte\",\"wollten\",\"worden\",\"wurde\",\"wurden\",\"während\",\"währenddem\",\"währenddessen\",\"wäre\",\"würde\",\"würden\",\"x\",\"y\",\"z\",\"z.b\",\"zehn\",\"zehnte\",\"zehnten\",\"zehnter\",\"zehntes\",\"zeit\",\"zu\",\"zuerst\",\"zugleich\",\"zum\",\"zunächst\",\"zur\",\"zurück\",\"zusammen\",\"zwanzig\",\"zwar\",\"zwei\",\"zweite\",\"zweiten\",\"zweiter\",\"zweites\",\"zwischen\",\"zwölf\",\"über\",\"überhaupt\",\"übrigens\"]"
   ]
  },
  {
   "cell_type": "markdown",
   "metadata": {
    "id": "kHdZZRITBHt2"
   },
   "source": [
    "## GloVe German"
   ]
  },
  {
   "cell_type": "code",
   "execution_count": 12,
   "metadata": {
    "id": "Fy7hCm7ABmut"
   },
   "outputs": [],
   "source": [
    "punct = '\\!\"#$%&\\'\\(\\)\\*\\+,\\-\\./:;<=>\\?@[\\\\]^_`{|}~\\^„“/…'\n",
    "def test_unicode(text):\n",
    "    non_unicode = re.findall(f'[^A-Za-zÀ-ž0-9\\\\n {punct}]', text)\n",
    "    return not bool(non_unicode), non_unicode"
   ]
  },
  {
   "cell_type": "code",
   "execution_count": null,
   "metadata": {
    "id": "Ap8ztzSJBHQC"
   },
   "outputs": [],
   "source": [
    "with open('vectors.txt') as f:\n",
    "    lines = f.readlines()"
   ]
  },
  {
   "cell_type": "code",
   "execution_count": null,
   "metadata": {
    "id": "VdUvJW_SBRgq"
   },
   "outputs": [],
   "source": [
    "def process_line(line):\n",
    "    key, str_value = line.strip().split(' ', 1)\n",
    "    return key, np.array([float(x) for x in str_value.split()])"
   ]
  },
  {
   "cell_type": "code",
   "execution_count": null,
   "metadata": {
    "id": "RiWFIXLvBUaR"
   },
   "outputs": [],
   "source": [
    "glove = {}\n",
    "for line in lines:\n",
    "    key, value = process_line(line)\n",
    "    if test_unicode(key):\n",
    "        glove[key] = value"
   ]
  },
  {
   "cell_type": "code",
   "execution_count": null,
   "metadata": {
    "id": "hqbeb-0MBWWT"
   },
   "outputs": [],
   "source": [
    "glove_oov = set()\n",
    "def get_glove_vector(word):\n",
    "    if word in glove:\n",
    "        return glove[word]\n",
    "    else:\n",
    "        glove_oov.add(word)\n",
    "        return None"
   ]
  },
  {
   "cell_type": "markdown",
   "metadata": {
    "id": "k1beNnkdfT6r"
   },
   "source": [
    "#### Save glove"
   ]
  },
  {
   "cell_type": "code",
   "execution_count": null,
   "metadata": {
    "id": "MA05I5q8Z5ld"
   },
   "outputs": [],
   "source": [
    "import gensim\n",
    "from tqdm import tqdm"
   ]
  },
  {
   "cell_type": "code",
   "execution_count": 45,
   "metadata": {
    "id": "1RpWbeefaAYk"
   },
   "outputs": [],
   "source": [
    "\n",
    "def save_word2vec_format(fname, vocab, vector_size, binary=True):\n",
    "  # gensim 3.4\n",
    "    \"\"\"Store the input-hidden weight matrix in the same format used by the original\n",
    "    C word2vec-tool, for compatibility.\n",
    "\n",
    "    Parameters\n",
    "    ----------\n",
    "    fname : str\n",
    "        The file path used to save the vectors in.\n",
    "    vocab : dict\n",
    "        The vocabulary of words.\n",
    "    vector_size : int\n",
    "        The number of dimensions of word vectors.\n",
    "    binary : bool, optional\n",
    "        If True, the data wil be saved in binary word2vec format, else it will be saved in plain text.\n",
    "\n",
    "\n",
    "    \"\"\"\n",
    "\n",
    "    total_vec = len(vocab)\n",
    "    with gensim.utils.open(fname, 'wb') as fout:\n",
    "        print(total_vec, vector_size)\n",
    "        fout.write(gensim.utils.to_utf8(\"%s %s\\n\" % (total_vec, vector_size)))\n",
    "        # store in sorted order: most frequent words at the top\n",
    "        for word, row in tqdm(vocab.items()):\n",
    "            if binary:\n",
    "                row = row.astype(np.float32)\n",
    "                fout.write(gensim.utils.to_utf8(word) + b\" \" + row.tostring())\n",
    "            else:\n",
    "                fout.write(gensim.utils.to_utf8(\"%s %s\\n\" % (word, ' '.join(repr(val) for val in row))))"
   ]
  },
  {
   "cell_type": "code",
   "execution_count": 46,
   "metadata": {
    "colab": {
     "base_uri": "https://localhost:8080/"
    },
    "id": "G4EzCb5taBum",
    "outputId": "166e12d0-ec0f-4de8-a6ca-d2e1d06008c1"
   },
   "outputs": [
    {
     "name": "stdout",
     "output_type": "stream",
     "text": [
      "1309281 300\n"
     ]
    },
    {
     "name": "stderr",
     "output_type": "stream",
     "text": [
      "  0%|          | 0/1309281 [00:00<?, ?it/s]<ipython-input-45-e1f2e0282abc>:27: DeprecationWarning: tostring() is deprecated. Use tobytes() instead.\n",
      "  fout.write(gensim.utils.to_utf8(word) + b\" \" + row.tostring())\n",
      "100%|██████████| 1309281/1309281 [02:40<00:00, 8165.24it/s]"
     ]
    },
    {
     "name": "stdout",
     "output_type": "stream",
     "text": [
      "CPU times: user 8.46 s, sys: 2 s, total: 10.5 s\n",
      "Wall time: 2min 40s\n"
     ]
    },
    {
     "name": "stderr",
     "output_type": "stream",
     "text": [
      "\n"
     ]
    }
   ],
   "source": [
    "%%time\n",
    "# save_word2vec_format(binary=True, fname='/content/drive/MyDrive/studies/science/Schizophrenia_private/german/glove_de.bin', vocab=glove, vector_size=300)"
   ]
  },
  {
   "cell_type": "code",
   "execution_count": null,
   "metadata": {
    "id": "U2w1JljMaLvf"
   },
   "outputs": [],
   "source": [
    "# model = gensim.models.KeyedVectors.load_word2vec_format('glove_de.bin', binary=True)"
   ]
  },
  {
   "cell_type": "markdown",
   "metadata": {
    "id": "OceVfvhpy7V5"
   },
   "source": [
    "## Preprocess\n",
    "https://textmining.wp.hs-hannover.de/Preprocessing.html\n",
    "\n",
    "https://spacy.io/usage/linguistic-features"
   ]
  },
  {
   "cell_type": "code",
   "execution_count": null,
   "metadata": {
    "id": "erMtlMi7Xgcg"
   },
   "outputs": [],
   "source": [
    "#from pymystem3 import Mystem\n",
    "#mystem = Mystem()\n",
    "# def preprocess_text_ru(text):\n",
    "#     tokens = mystem.lemmatize(text.lower())\n",
    "#     tokens = [token for token in tokens if token not in stopwords_ru\\\n",
    "#               and token != \" \" \\\n",
    "#               and token.strip() not in punct]\n",
    "\n",
    "#     text = \" \".join(tokens)\n",
    "\n",
    "#     return text"
   ]
  },
  {
   "cell_type": "code",
   "execution_count": 48,
   "metadata": {
    "id": "NEPdwsDir0CW"
   },
   "outputs": [],
   "source": [
    "tagger = ht.HanoverTagger('morphmodel_ger.pgz')"
   ]
  },
  {
   "cell_type": "code",
   "execution_count": 49,
   "metadata": {
    "id": "3wBCp0mZoa1-"
   },
   "outputs": [],
   "source": [
    "default_sent_tokenizer = lambda t: nltk.sent_tokenize(t, 'german')\n",
    "default_word_tokenizer = lambda t: nltk.word_tokenize(t, 'german')\n",
    "# default_stemmer = lambda w: nltk.stem.snowball.GermanStemmer().stem(w)\n",
    "default_pos_tagger = lambda w: tagger.analyze(w)[-1]\n",
    "default_lemmatizer = lambda w: tagger.analyze(w)[0]\n",
    "default_model = lambda w: get_glove_vector(w)"
   ]
  },
  {
   "cell_type": "code",
   "execution_count": 13,
   "metadata": {
    "id": "1VOCJrLQJmq3"
   },
   "outputs": [],
   "source": [
    "def idf_sent_vectors(words: List[str], vectors: List[np.array]) -> np.array:\n",
    "  assert len(words) == len(vectors)\n",
    "  weights = [word_frequency(w, 'de') for w in words]\n",
    "  return np.average(vectors, axis=0, weights=weights)"
   ]
  },
  {
   "cell_type": "code",
   "execution_count": 14,
   "metadata": {
    "id": "5HmxiPiakq-5"
   },
   "outputs": [],
   "source": [
    "@attr.s(auto_attribs=True)\n",
    "class TextData():\n",
    "  text: str\n",
    "  words: Optional[List[str]] = attr.ib(factory=list)\n",
    "  lemmas: Optional[List[str]] = attr.ib(factory=list)\n",
    "  pos: Optional[List[str]] = attr.ib(factory=list)\n",
    "  sents: Optional[List[str]] = attr.ib(factory=list)\n",
    "  sent_words: Optional[List[List[str]]] = attr.ib(factory=list)\n",
    "  word_vectors: Optional[List[np.array]] = attr.ib(factory=list)\n",
    "  word_for_vectors: Optional[List[str]] = attr.ib(factory=list)\n",
    "  sent_word_vectors: Optional[List[List[np.array]]] = attr.ib(factory=list)\n",
    "  sent_word_for_vectors: Optional[List[List[str]]] = attr.ib(factory=list)\n",
    "  oov: Optional[List[str]] = attr.ib(factory=list)\n",
    "\n",
    "  def __attrs_post_init__(self):\n",
    "    self.sent_vectors = [idf_sent_vectors(words, vectors) for words, vectors in zip(self.sent_word_for_vectors, self.sent_word_vectors)]"
   ]
  },
  {
   "cell_type": "code",
   "execution_count": 52,
   "metadata": {
    "id": "s2ZSevi6EHZk"
   },
   "outputs": [],
   "source": [
    "def process_default(text: str, stopwords: Optional[List[str]] = []) -> TextData:\n",
    "    words = default_word_tokenizer(text)\n",
    "    sents = default_sent_tokenizer(text)\n",
    "    sent_words = [default_word_tokenizer(sent) for sent in sents]\n",
    "    pos = [default_pos_tagger(w) for w in words]\n",
    "    lemmas = [default_lemmatizer(w) for w in words]\n",
    "    word_vectors = [default_model(w.lower()) for w in lemmas if default_model(w.lower()) is not None]\n",
    "    word_for_vectors = [w for w in lemmas if default_model(w.lower()) is not None]\n",
    "    oov = [w for w in lemmas if default_model(w.lower()) is None]\n",
    "    sent_word_vectors = [[default_model(default_lemmatizer(w).lower()) \\\n",
    "                          for w in sent if \\\n",
    "                          default_model(default_lemmatizer(w).lower()) is not None]\n",
    "                         for sent in sent_words]\n",
    "    sent_word_for_vectors = [[default_lemmatizer(w) for w in sent if \\\n",
    "                              default_model(default_lemmatizer(w).lower()) \\\n",
    "                              is not None]\n",
    "                              for sent in sent_words]\n",
    "    data = TextData(text=text, words=words, lemmas=lemmas, pos=pos, sents=sents,\n",
    "                    sent_words=sent_words, word_vectors=word_vectors, oov=oov,\n",
    "                    sent_word_vectors=sent_word_vectors,\n",
    "                    word_for_vectors=word_for_vectors,\n",
    "                    sent_word_for_vectors=sent_word_for_vectors)\n",
    "    return data"
   ]
  },
  {
   "cell_type": "code",
   "execution_count": 15,
   "metadata": {
    "id": "DNWqMCzBvHs4"
   },
   "outputs": [],
   "source": [
    "def process_spacy(text: str, stopwords: Optional[List[str]] = [], nlp=nlp_de) -> TextData:\n",
    "    doc = nlp(text)\n",
    "    words = [token for token in doc if token.text not in stopwords]\n",
    "    sents = [str(sent) for sent in doc.sents]\n",
    "    sent_words = [[token for token in nlp(sent) if token.text not in stopwords]\n",
    "                   for sent in sents]\n",
    "    sent_words = [s for s in sent_words if s]\n",
    "    pos = [token.pos_ for token in doc]\n",
    "    lemmas = [token.lemma_ for token in doc]\n",
    "    word_vectors = [token.vector for token in doc\n",
    "                    if ((token.text not in stopwords\n",
    "                         and not token.is_oov\n",
    "                         and token.pos_ not in ['PUNCT', 'NUM']))]\n",
    "    word_for_vectors = [token.text for token in doc\n",
    "                        if ((token.text not in stopwords\n",
    "                              and not token.is_oov\n",
    "                              and token.pos_ not in ['PUNCT', 'NUM']))]\n",
    "    oov = list(set(token.text for token in doc\n",
    "                   if (token.text not in stopwords\n",
    "                       and token.is_oov\n",
    "                       and token.pos_ not in ['PUNCT', 'NUM'])))\n",
    "    sent_word_vectors = [[token.vector for token in nlp(sent)\n",
    "                        if ((token.text not in stopwords\n",
    "                            and not token.is_oov\n",
    "                            and token.pos_ not in ['PUNCT', 'NUM']))] for sent in sents]\n",
    "    sent_word_vectors = [s for s in sent_word_vectors if s]\n",
    "    sent_word_for_vectors = [[token.text for token in nlp(sent)\n",
    "                              if ((token.text not in stopwords\n",
    "                                  and not token.is_oov\n",
    "                                  and token.pos_ not in ['PUNCT', 'NUM']))] for sent in sents]\n",
    "    sent_word_for_vectors = [s for s in sent_word_for_vectors if s]\n",
    "    data = TextData(text=text, words=words, lemmas=lemmas, pos=pos, sents=sents,\n",
    "                sent_words=sent_words, word_vectors=word_vectors, oov=oov,\n",
    "                sent_word_vectors=sent_word_vectors,\n",
    "                word_for_vectors=word_for_vectors,\n",
    "                sent_word_for_vectors=sent_word_for_vectors)\n",
    "    return data"
   ]
  },
  {
   "cell_type": "code",
   "execution_count": 16,
   "metadata": {
    "id": "dWgoB0NLUTw5"
   },
   "outputs": [],
   "source": [
    "some_large_text = \"Der Dackel zeichnet sich durch niedrige, kurzläufige, langgestreckte, aber kompakte Gestalt aus. Er ist sehr muskulös, mit aufrechter Haltung des Kopfes und aufmerksamem Gesichtsausdruck. Die verkürzten Beine der Dackel sind das Resultat einer gezielten Selektion auf Chondrodysplasie und sind im Rassestandard verankert. Es gibt die Hunde in verschiedenen Größen und Fellvariationen: Langhaar, Rauhaar, Kurzhaar in jeweils vielen Farbvariationen, auch mehrfarbig, gestromt oder gefleckt. Während gefleckte Tiere als eine der 4 Färbungen durch den FCI definiert sind, werden Schwarze Tiere ohne Brand sowie weiße mit oder ohne Brand im Rassestandard der FCI ausdrücklich ausgeschlossen[2]. Unter AKC-Regeln können weiß gescheckte Dackel ausgestellt werden und sind dort als Piebalds bekannt.[3] Die hängenden Ohren sind nicht zu weit vorne angesetzt, ausreichend, aber nicht übertrieben lang und abgerundet. In den drei Haararten werden die Dackel im FCI-Standard nach ihrer Größe unterschieden in Teckel (T) (früher Normalteckel), Brustumfang (BU) über 35 cm, Gewichtsobergrenze etwa 9 kg, Zwergteckel (Zw), BU über 30 bis 35 cm, und Kaninchenteckel (Kt), BU bis 30 cm.\""
   ]
  },
  {
   "cell_type": "code",
   "execution_count": null,
   "metadata": {
    "id": "1bfwqiAtjptx"
   },
   "outputs": [],
   "source": [
    "# data_default = process_default(some_large_text)"
   ]
  },
  {
   "cell_type": "code",
   "execution_count": 17,
   "metadata": {
    "id": "x6QagTDhJUYk"
   },
   "outputs": [],
   "source": [
    "data = process_spacy(some_large_text)"
   ]
  },
  {
   "cell_type": "code",
   "execution_count": 18,
   "metadata": {
    "id": "LiA8K_pijCOS"
   },
   "outputs": [],
   "source": [
    "some_large_text_ru = \"Знаете ли вы? Будапештский университет иудаики, около 1890 года Социалистическая власть не мешала работе раввинской семинарии (на илл.). Будапештский университет иудаики был открыт в 1877 году, через несколько десятилетий после того, как в Падуе, Меце, Париже и Бреслау были построены первые европейские раввинские семинарии. Тем не менее, он остаётся старейшим существующим учебным заведением в мире, где готовят раввинов.\""
   ]
  },
  {
   "cell_type": "code",
   "execution_count": 19,
   "metadata": {
    "id": "1tWklTH_gqL_"
   },
   "outputs": [],
   "source": [
    "data_ru = process_spacy(some_large_text_ru, nlp=nlp_ru)"
   ]
  },
  {
   "cell_type": "markdown",
   "metadata": {
    "id": "HEe2J22rzJiR"
   },
   "source": [
    "## Lexical"
   ]
  },
  {
   "cell_type": "code",
   "execution_count": 20,
   "metadata": {
    "id": "WO1oqQLZyPwD"
   },
   "outputs": [],
   "source": [
    "def TTR(words: List[str]) -> float:\n",
    "  return len(set(words)) / len(words)"
   ]
  },
  {
   "cell_type": "code",
   "execution_count": 21,
   "metadata": {
    "colab": {
     "base_uri": "https://localhost:8080/"
    },
    "id": "p6RyMgMjzMFf",
    "outputId": "8ac7da3d-f56e-4140-e6dd-84fd3e05535e"
   },
   "outputs": [
    {
     "data": {
      "text/plain": [
       "0.5643564356435643"
      ]
     },
     "execution_count": 21,
     "metadata": {},
     "output_type": "execute_result"
    }
   ],
   "source": [
    "TTR(data.lemmas)"
   ]
  },
  {
   "cell_type": "code",
   "execution_count": 22,
   "metadata": {
    "id": "VCsNSc39zOnK"
   },
   "outputs": [],
   "source": [
    "def MATTR(words: List[str], w: Optional[int] = 10) -> float:\n",
    "  if len(words) <= w:\n",
    "    return TTR(words)\n",
    "  else:\n",
    "    ttrs = []\n",
    "    for i in range(len(words)-w):\n",
    "      ttrs.append(TTR(words[i:i+w]))\n",
    "    return np.mean(ttrs)"
   ]
  },
  {
   "cell_type": "code",
   "execution_count": 23,
   "metadata": {
    "colab": {
     "base_uri": "https://localhost:8080/"
    },
    "id": "qixZPD3_1Ey3",
    "outputId": "11293cac-e4a1-40d8-fff5-35a3cf27d946"
   },
   "outputs": [
    {
     "data": {
      "text/plain": [
       "0.8822916666666668"
      ]
     },
     "execution_count": 23,
     "metadata": {},
     "output_type": "execute_result"
    }
   ],
   "source": [
    "MATTR(data.lemmas)"
   ]
  },
  {
   "cell_type": "markdown",
   "metadata": {
    "id": "MxxzYOyo1HKJ"
   },
   "source": [
    "## Syntactic"
   ]
  },
  {
   "cell_type": "code",
   "execution_count": 24,
   "metadata": {
    "id": "dj0bs2W_1GTM"
   },
   "outputs": [],
   "source": [
    "def pos_rates(pos: List[str]) -> float:\n",
    "  return {k: v/len(pos) for k, v in Counter(pos).items()}"
   ]
  },
  {
   "cell_type": "code",
   "execution_count": 65,
   "metadata": {
    "colab": {
     "base_uri": "https://localhost:8080/"
    },
    "id": "KMJbze_V1XN_",
    "outputId": "4683f0a0-3d6b-4d30-da8d-51d2849a59f5"
   },
   "outputs": [
    {
     "data": {
      "text/plain": [
       "{'DET': 0.06930693069306931,\n",
       " 'NOUN': 0.18316831683168316,\n",
       " 'VERB': 0.04455445544554455,\n",
       " 'PRON': 0.024752475247524754,\n",
       " 'ADP': 0.09900990099009901,\n",
       " 'ADJ': 0.07425742574257425,\n",
       " 'PUNCT': 0.18316831683168316,\n",
       " 'CCONJ': 0.0594059405940594,\n",
       " 'AUX': 0.04950495049504951,\n",
       " 'ADV': 0.08415841584158416,\n",
       " 'PROPN': 0.06930693069306931,\n",
       " 'SCONJ': 0.0049504950495049506,\n",
       " 'NUM': 0.034653465346534656,\n",
       " 'PART': 0.01485148514851485,\n",
       " 'X': 0.0049504950495049506}"
      ]
     },
     "execution_count": 65,
     "metadata": {},
     "output_type": "execute_result"
    }
   ],
   "source": [
    "pos_rates(data.pos)"
   ]
  },
  {
   "cell_type": "code",
   "execution_count": 25,
   "metadata": {
    "id": "59We2FtJ1vLi"
   },
   "outputs": [],
   "source": [
    "def sent_lengts(sents_words: List[List[str]]) -> float:\n",
    "  return np.mean([len(sent) for sent in sents_words])"
   ]
  },
  {
   "cell_type": "code",
   "execution_count": 67,
   "metadata": {
    "colab": {
     "base_uri": "https://localhost:8080/"
    },
    "id": "HLgDvTxI2AO8",
    "outputId": "6d2ea5df-196f-4b38-8e9b-473a00f3f287"
   },
   "outputs": [
    {
     "data": {
      "text/plain": [
       "28.857142857142858"
      ]
     },
     "execution_count": 67,
     "metadata": {},
     "output_type": "execute_result"
    }
   ],
   "source": [
    "sent_lengts(data.sent_words)"
   ]
  },
  {
   "cell_type": "markdown",
   "metadata": {
    "id": "YSUDiON3y3PI"
   },
   "source": [
    "## Graph"
   ]
  },
  {
   "cell_type": "code",
   "execution_count": 26,
   "metadata": {
    "id": "q8wjhlrShglt"
   },
   "outputs": [],
   "source": [
    "class _graphStatistics():\n",
    "\n",
    "\tdef __init__(self, graph: nx.MultiDiGraph):\n",
    "\t\tself.graph = graph\n",
    "\n",
    "\tdef statistics(self) -> Dict[str, float]:\n",
    "\t\tres = {}\n",
    "\t\tgraph = self.graph\n",
    "\t\tres['number_of_nodes'] = graph.number_of_nodes()\n",
    "\t\tres['number_of_edges'] = graph.number_of_edges()\n",
    "\t\tres['PE'] =  (np.array(list(Counter(graph.edges()).values()))>1).sum()\n",
    "\t\tres['LCC'] = len(max(nx.weakly_connected_components(graph), key=len))\n",
    "\t\tres['LSC'] = len(max(nx.strongly_connected_components(graph), key=len))\n",
    "\n",
    "\t\tdegrees = [v for k, v in graph.degree()]\n",
    "\t\tres['degree_average'] =  np.mean(degrees)\n",
    "\t\tres['degree_std'] =  np.std(degrees)\n",
    "\n",
    "\n",
    "\t\tadj_matrix = nx.adjacency_matrix(graph).toarray()\n",
    "\t\tadj_matrix2 = np.dot(adj_matrix , adj_matrix)\n",
    "\t\tadj_matrix3 = np.dot(adj_matrix2 , adj_matrix)\n",
    "\n",
    "\t\tres['L1'] =  np.trace(adj_matrix)\n",
    "\t\tres['L2'] =  np.trace(adj_matrix2)\n",
    "\t\tres['L3'] =  np.trace(adj_matrix3)\n",
    "\n",
    "\t\treturn res\n",
    "\n",
    "\n",
    "class naiveGraph():\n",
    "\tdef __init__(self):\n",
    "\t\tpass\n",
    "\n",
    "\tdef _text2graph(self, words: List[str]) -> nx.MultiDiGraph:\n",
    "\t\tgr = nx.MultiDiGraph()\n",
    "\t\tgr.add_edges_from(zip(words[:-1], words[1:]))\n",
    "\t\treturn gr\n",
    "\n",
    "\tdef analyzeText(self, text: str) -> Dict[str, float]:\n",
    "\t\tdgr = self._text2graph(text)\n",
    "\t\treturn _graphStatistics(dgr).statistics()\n",
    "\n",
    "# https://github.com/facuzeta/speechgraph/blob/master/speechgraph/speechgraph.py"
   ]
  },
  {
   "cell_type": "code",
   "execution_count": 69,
   "metadata": {
    "colab": {
     "base_uri": "https://localhost:8080/"
    },
    "id": "Mg_csei2hjEj",
    "outputId": "fac238cc-bb8a-43a7-a26c-55e5e5805764"
   },
   "outputs": [
    {
     "data": {
      "text/plain": [
       "{'number_of_nodes': 114,\n",
       " 'number_of_edges': 201,\n",
       " 'PE': 10,\n",
       " 'LCC': 114,\n",
       " 'LSC': 114,\n",
       " 'degree_average': 3.526315789473684,\n",
       " 'degree_std': 6.730671516139514,\n",
       " 'L1': 4,\n",
       " 'L2': 44,\n",
       " 'L3': 271}"
      ]
     },
     "execution_count": 69,
     "metadata": {},
     "output_type": "execute_result"
    }
   ],
   "source": [
    "naiveGraph().analyzeText(data.lemmas)"
   ]
  },
  {
   "cell_type": "code",
   "execution_count": 27,
   "metadata": {
    "id": "xCC5lRpj2WIj"
   },
   "outputs": [],
   "source": [
    "def moving_graph_statistics(words: List[str], w: Optional[int] = 10) -> Dict[str, float]:\n",
    "  if len(words) <= w:\n",
    "    return naiveGraph().analyzeText(words)\n",
    "  else:\n",
    "    graph_stats = {}\n",
    "    for i in range(len(words)-w):\n",
    "      current_stats = naiveGraph().analyzeText(words[i:i+w])\n",
    "      graph_stats = {key: graph_stats.get(key, []) + [value] for key, value in current_stats.items()}\n",
    "\n",
    "    return {key: np.mean(value) for key, value in graph_stats.items()}"
   ]
  },
  {
   "cell_type": "code",
   "execution_count": 71,
   "metadata": {
    "colab": {
     "base_uri": "https://localhost:8080/"
    },
    "id": "jaOvMlow5Hhj",
    "outputId": "0e16ef74-277c-43d2-a1c9-60cc3969f616"
   },
   "outputs": [
    {
     "data": {
      "text/plain": [
       "{'number_of_nodes': 12.732620320855615,\n",
       " 'number_of_edges': 14.0,\n",
       " 'PE': 0.10695187165775401,\n",
       " 'LCC': 12.732620320855615,\n",
       " 'LSC': 6.705882352941177,\n",
       " 'degree_average': 2.233913798619681,\n",
       " 'degree_std': 1.1645017125950392,\n",
       " 'L1': 0.25133689839572193,\n",
       " 'L2': 1.7379679144385027,\n",
       " 'L3': 2.9946524064171123}"
      ]
     },
     "execution_count": 71,
     "metadata": {},
     "output_type": "execute_result"
    }
   ],
   "source": [
    "moving_graph_statistics(data.lemmas, 15)"
   ]
  },
  {
   "cell_type": "markdown",
   "metadata": {
    "id": "EvcR2em_2P7o"
   },
   "source": [
    "## LM"
   ]
  },
  {
   "cell_type": "code",
   "execution_count": 28,
   "metadata": {
    "id": "NGeuBv0_7-nl"
   },
   "outputs": [],
   "source": [
    "flatten = lambda l: [item for sublist in l for item in sublist]"
   ]
  },
  {
   "cell_type": "code",
   "execution_count": 29,
   "metadata": {
    "id": "qghAa8ng7o6T"
   },
   "outputs": [],
   "source": [
    "def cos_sim(v1, v2):\n",
    "    return np.inner(v1, v2)/(np.linalg.norm(v1)*np.linalg.norm(v2))"
   ]
  },
  {
   "cell_type": "code",
   "execution_count": 30,
   "metadata": {
    "id": "NY5X_DVZ8DoY"
   },
   "outputs": [],
   "source": [
    "def get_local_coherence_list(clause_vectors: List[np.array]) -> List[float]:\n",
    "    local_coherence_list = []\n",
    "    for i in range(len(clause_vectors)-1):\n",
    "        local_coherence_list.append(cos_sim(clause_vectors[i], clause_vectors[i+1]))\n",
    "    return local_coherence_list"
   ]
  },
  {
   "cell_type": "code",
   "execution_count": 31,
   "metadata": {
    "id": "ORLbNvxW8I4D"
   },
   "outputs": [],
   "source": [
    "def get_second_order_coherence_list(clause_vectors: List[np.array]) -> List[float]:\n",
    "    SOC_list = []\n",
    "    for i in range(len(clause_vectors)-2):\n",
    "        SOC_list.append(cos_sim(clause_vectors[i], clause_vectors[i+2]))\n",
    "    return SOC_list"
   ]
  },
  {
   "cell_type": "code",
   "execution_count": 32,
   "metadata": {
    "id": "OB4vb3vQ8WkF"
   },
   "outputs": [],
   "source": [
    "def compare_text_to_a_standard_vector(clause_vectors: List[np.array], standard_vector: np.array) -> float:\n",
    "    average_file_vector = np.average(clause_vectors, axis=0)\n",
    "    return cos_sim(average_file_vector, standard_vector)"
   ]
  },
  {
   "cell_type": "code",
   "execution_count": 33,
   "metadata": {
    "id": "8Jpqywaj8gks"
   },
   "outputs": [],
   "source": [
    "def get_global_coherence_list(clause_vectors: List[np.array]) -> List[float]:\n",
    "    standard_vector = np.average(clause_vectors, axis=0)\n",
    "    return [cos_sim(vec, standard_vector) for vec in clause_vectors]"
   ]
  },
  {
   "cell_type": "code",
   "execution_count": 34,
   "metadata": {
    "id": "X0k2pfKU87BW"
   },
   "outputs": [],
   "source": [
    "def get_cumulative_global_coherence_list(clause_vectors: List[np.array]) -> List[float]:\n",
    "    cumulative_global_coherence_list = []\n",
    "    for i in range(len(clause_vectors)):\n",
    "      cumulative_vector = np.average(clause_vectors[:i+1], axis=0)\n",
    "      cumulative_global_coherence_list.append(cos_sim(clause_vectors[i], cumulative_vector))\n",
    "    return cumulative_global_coherence_list"
   ]
  },
  {
   "cell_type": "markdown",
   "metadata": {
    "id": "kvcdM5yPMpp6"
   },
   "source": [
    "### BERT\n",
    "\n",
    "https://aclanthology.org/2020.coling-main.598/"
   ]
  },
  {
   "cell_type": "code",
   "execution_count": 35,
   "metadata": {
    "colab": {
     "base_uri": "https://localhost:8080/",
     "height": 177,
     "referenced_widgets": [
      "e555c7d7bacb4aa58f1631f93c5b56ba",
      "41157b1fee5f415fb012e63d32b041c9",
      "931dedbd84e2409fa117ac929f42f61f",
      "6d5f89f21b3249ecba45da965f203e5d",
      "5034a15e17a74ba383bfa44afd9deea0",
      "1a94f3ab50374ae4842bb2091693caba",
      "1dbf51ee691a45999f2076051f9a1a52",
      "c0af8bc4fa2442c88b512de224ecbf58",
      "a1a388b331884e77a4e0fb5e96cacc2b",
      "03fb9c4bdd1149a09ece29ff9c5442dc",
      "ae3c449f254e4b41bac796cdbc975714",
      "c96b062378b240379c9ceaf56a176cd3",
      "a78507a63e4a48deaff3b85d5586f50e",
      "020ecfeafb0f47e4b66e24b061859236",
      "c8ff31ee8a5d4cca9526fe19d74e9159",
      "33f1c667af6d4861b8145c59650b8850",
      "e93dd6201b0e413fae15848bbed51eaa",
      "077f282fca3d45beb6ed29159adfc75a",
      "b32ed3e039f149899ec5268b0bf826fd",
      "b344deee93994912a8f52b73022230fe",
      "7a54356e19bc4927aa228ecafc9e1e09",
      "ccc4c621be9b4c9e96912c7b10e1d6a3",
      "1936ee06a9704d4e977399ef57f03955",
      "9b66b70cefeb4c3b883c1a98f5a8f614",
      "8c89038e700c40318573495c76612656",
      "b1f5ed23510c42a687a119ae7d165dc8",
      "7b41bb38f1d444f3a9754920d6cae370",
      "f62a97a4084045c39b6ce78f43cffd83",
      "67b9dba6a2c640ccb5c2fefb709183cb",
      "bb7e4e9f114e4a63b946a97f5d05563f",
      "8b86ee1c77c84e9ab89d0c8e9d64e670",
      "88941c329d5646a6a4582925a89c8b53",
      "29c5586329fe4705b381e0d43bf8a8dd",
      "e253806dcf9145a1974689f83af63a5b",
      "e2f7f7c4190c4a3487deb56f08c607ea",
      "c26c8affb7554ec6b45b2adfb50f3915",
      "b6de42f39681423db67d6c258f087611",
      "d0678429fd5140c3b2335d6a7ffb9ded",
      "faef169972df44bc976fd6f5eeb89ed8",
      "76d8689c694c4ab3b301380a627716f9",
      "eccba3eea78c4928b3a1e2b5ca725d47",
      "9ae1c736378a48a89e171e870801bcb6",
      "78328f10bc3e425fabbbc6bc3ce9c250",
      "9acb276a52cf42d69592be7c3a9f1b18",
      "1295ad2f7b444b749fa46ff3c51729a5",
      "c6469bb137a2436aa3df1201de8a6285",
      "2a64c1c027f24a7c9cb0098ef15ac490",
      "0f3d295efb5240668a0ad7536358ca67",
      "356215d882e64df8982b47d31b0b1c4d",
      "b246282faec8493e84c54318f135581d",
      "8b604a99f60b4cae93e283d3788e5600",
      "2812c1f313704363bc4dc0e9f32b4eea",
      "a11c39b4912041efa2176f7c0d3b72a5",
      "e8f08be715704a539190a0b29674df2c",
      "64a15716033d4831bd3b43318810a050"
     ]
    },
    "id": "jop7xHOCM4mb",
    "outputId": "d79e89fa-4f5f-4b92-99de-eee7adf04e34"
   },
   "outputs": [
    {
     "data": {
      "application/vnd.jupyter.widget-view+json": {
       "model_id": "e555c7d7bacb4aa58f1631f93c5b56ba",
       "version_major": 2,
       "version_minor": 0
      },
      "text/plain": [
       "Downloading (…)lve/main/config.json:   0%|          | 0.00/433 [00:00<?, ?B/s]"
      ]
     },
     "metadata": {},
     "output_type": "display_data"
    },
    {
     "data": {
      "application/vnd.jupyter.widget-view+json": {
       "model_id": "c96b062378b240379c9ceaf56a176cd3",
       "version_major": 2,
       "version_minor": 0
      },
      "text/plain": [
       "Downloading model.safetensors:   0%|          | 0.00/439M [00:00<?, ?B/s]"
      ]
     },
     "metadata": {},
     "output_type": "display_data"
    },
    {
     "data": {
      "application/vnd.jupyter.widget-view+json": {
       "model_id": "1936ee06a9704d4e977399ef57f03955",
       "version_major": 2,
       "version_minor": 0
      },
      "text/plain": [
       "Downloading (…)okenizer_config.json:   0%|          | 0.00/29.0 [00:00<?, ?B/s]"
      ]
     },
     "metadata": {},
     "output_type": "display_data"
    },
    {
     "data": {
      "application/vnd.jupyter.widget-view+json": {
       "model_id": "e253806dcf9145a1974689f83af63a5b",
       "version_major": 2,
       "version_minor": 0
      },
      "text/plain": [
       "Downloading (…)solve/main/vocab.txt:   0%|          | 0.00/255k [00:00<?, ?B/s]"
      ]
     },
     "metadata": {},
     "output_type": "display_data"
    },
    {
     "data": {
      "application/vnd.jupyter.widget-view+json": {
       "model_id": "1295ad2f7b444b749fa46ff3c51729a5",
       "version_major": 2,
       "version_minor": 0
      },
      "text/plain": [
       "Downloading (…)/main/tokenizer.json:   0%|          | 0.00/485k [00:00<?, ?B/s]"
      ]
     },
     "metadata": {},
     "output_type": "display_data"
    }
   ],
   "source": [
    "model_name_de = \"bert-base-german-cased\"\n",
    "model_de = AutoModel.from_pretrained(model_name_de)\n",
    "tokenizer_de = AutoTokenizer.from_pretrained(model_name_de)"
   ]
  },
  {
   "cell_type": "code",
   "execution_count": 36,
   "metadata": {
    "colab": {
     "base_uri": "https://localhost:8080/",
     "height": 248,
     "referenced_widgets": [
      "7752183c1da1403497531948be2a63a8",
      "b724fdca41054e959cdba99221f6eff0",
      "bcbcdf68115e4e0b93d7eb74ab432b56",
      "50e1fd2dfd3147858d17a222423e1cf0",
      "f107c0b5ccbb483e8ae38dc9a3216901",
      "2b7eca88603e4c4fb5d048a20ab5190c",
      "56b20bd1c57a467a85dfcfc9c27c226d",
      "b63a51bfa5a84adca0fbe7ecb37bd0ba",
      "5e1fb00b64664e5fb76f6711ab69bb59",
      "1f70fcbd23c346f0a5fdf8cb040934fc",
      "c5ca36795e57458faf5330d665727aad",
      "b446ea7194bf46bebd7b141ac817adcd",
      "9042e07f736748aeb60aa7ab16ea0b3e",
      "2090f3e522f9485482c92cc330db1330",
      "c5f4e6d3d1eb420d98cca0e6d9a330c2",
      "1303c16a82404da3b5d661e51e267794",
      "573b2e4990144267b6893a77bbe06bb4",
      "ef66137f0cd84a9594876f9782ca688c",
      "7d78d9f37d764535819f06bb3e387e1d",
      "379e51f6301e457f9654c8ab288e76dc",
      "ffb8c5618c2149e78424e33398f2e33a",
      "56959b17ca064b4690bad44ac97098f9",
      "534f12322ef54bf3a258a14284e96ac2",
      "fd0cbd5b840a40f090f1b0fc09a003c7",
      "122dd2724e2847e3bfb070952707e125",
      "331a75bc1001485bacc473a1489cacbe",
      "8f30637e408f4d79b802d01ea654a8b5",
      "9d95ce2e0fa94aee94f3a30bdab95cb1",
      "6338c857236240d98267f19b74ed5f42",
      "99af5efd95f74d9aaf12b88a703ba98d",
      "95a7adf7db55460498067f6516ab5722",
      "7ec2af3336194beb91403d8e99301a8d",
      "e928f508f8cd4ba39d250b252cf2388d",
      "37c4813fa5044aea8f8450c186e1c1a5",
      "c4d657ac263043f8a20f8976c5680e8b",
      "0d74e0c30c6341e9836eac31d545465c",
      "32c8cea5e31e40ed9f0f149671f391dc",
      "a01d20021cd44e889626bb73b0e3f2c4",
      "fd19c65085fd483daf232250d2f76bca",
      "16309d68b6a74fd5af3b245295d82d7b",
      "7591c5a935244ac6924ab0bfe49c23c5",
      "241d1ae910494459b13bda3cb5298fb9",
      "bf5b46e9f9174f79b75fb8840cced2ca",
      "aacc4af3950b437583145ae90c6fda3d",
      "db35ef8f9f36449abd331a8ddbc1e422",
      "3949e073f63544ee88ca8009c6ed5813",
      "ed9ff30c779f4811acb4d92a3c8a201f",
      "10806dece23246be9ac98711ca99c1a2",
      "ce928a74bde64e5199b7d126abe70175",
      "3396f821ac504980ba7c2d076b52f5e2",
      "347599a849ed4259ba4df9d696e92ba2",
      "a3d9897673aa414a91eff716b1700497",
      "6d8d13895bb94ef4a6ce82febef32bdb",
      "5fba7b449eb24b80b3f28fcdd45b835f",
      "8bcdd3ebf3db4058873ee6b65dec8452"
     ]
    },
    "id": "IFgORAM3YGWa",
    "outputId": "3835a829-e0c9-4768-baf9-01302258dd49"
   },
   "outputs": [
    {
     "data": {
      "application/vnd.jupyter.widget-view+json": {
       "model_id": "7752183c1da1403497531948be2a63a8",
       "version_major": 2,
       "version_minor": 0
      },
      "text/plain": [
       "Downloading (…)lve/main/config.json:   0%|          | 0.00/642 [00:00<?, ?B/s]"
      ]
     },
     "metadata": {},
     "output_type": "display_data"
    },
    {
     "data": {
      "application/vnd.jupyter.widget-view+json": {
       "model_id": "b446ea7194bf46bebd7b141ac817adcd",
       "version_major": 2,
       "version_minor": 0
      },
      "text/plain": [
       "Downloading pytorch_model.bin:   0%|          | 0.00/714M [00:00<?, ?B/s]"
      ]
     },
     "metadata": {},
     "output_type": "display_data"
    },
    {
     "name": "stderr",
     "output_type": "stream",
     "text": [
      "Some weights of the model checkpoint at DeepPavlov/rubert-base-cased were not used when initializing BertModel: ['cls.predictions.bias', 'cls.predictions.transform.LayerNorm.bias', 'cls.seq_relationship.bias', 'cls.predictions.decoder.bias', 'cls.predictions.transform.dense.bias', 'cls.predictions.transform.dense.weight', 'cls.predictions.transform.LayerNorm.weight', 'cls.predictions.decoder.weight', 'cls.seq_relationship.weight']\n",
      "- This IS expected if you are initializing BertModel from the checkpoint of a model trained on another task or with another architecture (e.g. initializing a BertForSequenceClassification model from a BertForPreTraining model).\n",
      "- This IS NOT expected if you are initializing BertModel from the checkpoint of a model that you expect to be exactly identical (initializing a BertForSequenceClassification model from a BertForSequenceClassification model).\n"
     ]
    },
    {
     "data": {
      "application/vnd.jupyter.widget-view+json": {
       "model_id": "534f12322ef54bf3a258a14284e96ac2",
       "version_major": 2,
       "version_minor": 0
      },
      "text/plain": [
       "Downloading (…)okenizer_config.json:   0%|          | 0.00/24.0 [00:00<?, ?B/s]"
      ]
     },
     "metadata": {},
     "output_type": "display_data"
    },
    {
     "data": {
      "application/vnd.jupyter.widget-view+json": {
       "model_id": "37c4813fa5044aea8f8450c186e1c1a5",
       "version_major": 2,
       "version_minor": 0
      },
      "text/plain": [
       "Downloading (…)solve/main/vocab.txt:   0%|          | 0.00/1.65M [00:00<?, ?B/s]"
      ]
     },
     "metadata": {},
     "output_type": "display_data"
    },
    {
     "data": {
      "application/vnd.jupyter.widget-view+json": {
       "model_id": "db35ef8f9f36449abd331a8ddbc1e422",
       "version_major": 2,
       "version_minor": 0
      },
      "text/plain": [
       "Downloading (…)cial_tokens_map.json:   0%|          | 0.00/112 [00:00<?, ?B/s]"
      ]
     },
     "metadata": {},
     "output_type": "display_data"
    }
   ],
   "source": [
    "model_name_ru = \"DeepPavlov/rubert-base-cased\"\n",
    "model_ru = AutoModel.from_pretrained(model_name_ru)\n",
    "tokenizer_ru = AutoTokenizer.from_pretrained(model_name_ru)"
   ]
  },
  {
   "cell_type": "markdown",
   "metadata": {
    "id": "a4soKh1kQnrk"
   },
   "source": [
    "### sent vectorize"
   ]
  },
  {
   "cell_type": "code",
   "execution_count": 37,
   "metadata": {
    "id": "Op-JY6dENBpl"
   },
   "outputs": [],
   "source": [
    "inputs = tokenizer_de(some_large_text, return_tensors=\"pt\")\n",
    "outputs, outputs_1 = model_de(**inputs).to_tuple()"
   ]
  },
  {
   "cell_type": "code",
   "execution_count": 38,
   "metadata": {
    "id": "H4gUEXZai15X"
   },
   "outputs": [],
   "source": [
    "inputs = tokenizer_ru(some_large_text_ru, return_tensors=\"pt\")\n",
    "outputs, outputs_1 = model_ru(**inputs).to_tuple()"
   ]
  },
  {
   "cell_type": "code",
   "execution_count": 41,
   "metadata": {
    "id": "tfSfizeHRxY_"
   },
   "outputs": [],
   "source": [
    "def bert_sent_vectorize(text: str, model=model_de, tokenizer=tokenizer_de) -> np.array:\n",
    "  inputs = tokenizer(text, return_tensors=\"pt\")\n",
    "  word_vectors, sent_vector = model(**inputs).to_tuple()\n",
    "  return sent_vector.detach().squeeze().numpy()"
   ]
  },
  {
   "cell_type": "code",
   "execution_count": 43,
   "metadata": {
    "colab": {
     "base_uri": "https://localhost:8080/"
    },
    "id": "QW9Z453VSAI7",
    "outputId": "b7dfb07f-b61d-4576-a580-d3425cd93212"
   },
   "outputs": [
    {
     "data": {
      "text/plain": [
       "array([ 0.9998575 ,  0.09257472, -0.06688777,  0.4215318 , -0.4227732 ,\n",
       "        0.9772717 , -0.18655269, -0.66038036,  0.17960058, -0.21039967],\n",
       "      dtype=float32)"
      ]
     },
     "execution_count": 43,
     "metadata": {},
     "output_type": "execute_result"
    }
   ],
   "source": [
    "bert_sent_vectorize(data.sents[0])[:10]"
   ]
  },
  {
   "cell_type": "code",
   "execution_count": 44,
   "metadata": {
    "colab": {
     "base_uri": "https://localhost:8080/"
    },
    "id": "WBYjFu_qlFo_",
    "outputId": "99e9289b-1cca-4cdc-b736-ebc910f43241"
   },
   "outputs": [
    {
     "data": {
      "text/plain": [
       "array([ 0.06534111,  0.02699744,  0.09295036,  0.22325635, -0.01652229,\n",
       "        0.21227604,  0.05135136,  0.05099475, -0.07633962,  0.11428361],\n",
       "      dtype=float32)"
      ]
     },
     "execution_count": 44,
     "metadata": {},
     "output_type": "execute_result"
    }
   ],
   "source": [
    "bert_sent_vectorize(data_ru.sents[0], model=model_ru, tokenizer=tokenizer_ru)[:10]"
   ]
  },
  {
   "cell_type": "markdown",
   "metadata": {
    "id": "7J3Bl3uCQpu1"
   },
   "source": [
    "### next sentence prediction"
   ]
  },
  {
   "cell_type": "code",
   "execution_count": 45,
   "metadata": {
    "id": "4EJ4BxvlOkJE"
   },
   "outputs": [],
   "source": [
    "tokenizer_nsp_de = BertTokenizer.from_pretrained(model_name_de)\n",
    "model_nsp_de = BertForNextSentencePrediction.from_pretrained(model_name_de)\n",
    "tokenizer_nsp_ru = BertTokenizer.from_pretrained(model_name_ru)\n",
    "model_nsp_ru = BertForNextSentencePrediction.from_pretrained(model_name_ru)"
   ]
  },
  {
   "cell_type": "code",
   "execution_count": 46,
   "metadata": {
    "id": "URPa6aQDQ3T0"
   },
   "outputs": [],
   "source": [
    "def next_sent_prob(sent_text_1: str, sent_text_2: str,\n",
    "                   tokenizer_nsp=tokenizer_nsp_de,\n",
    "                   model_nsp=model_nsp_de) -> float:\n",
    "  tokenized = tokenizer_nsp(sent_text_1, sent_text_2, return_tensors='pt')\n",
    "  predict = model_nsp(**tokenized)\n",
    "  pred = torch.nn.functional.softmax(predict.logits[0], dim=0)[0].item()\n",
    "  return pred"
   ]
  },
  {
   "cell_type": "code",
   "execution_count": 59,
   "metadata": {
    "id": "MsXeG2JNOzzK"
   },
   "outputs": [],
   "source": [
    "sentence_A = \"Ich bin nicht so sicher.\"\n",
    "sentence_B = \"Jedoch nur die Rasse Dachshund enthält.\""
   ]
  },
  {
   "cell_type": "code",
   "execution_count": 60,
   "metadata": {
    "colab": {
     "base_uri": "https://localhost:8080/"
    },
    "id": "Fyyt0TLKRaqX",
    "outputId": "a894f0f5-1c09-4bce-e0b2-95d9f52e921c"
   },
   "outputs": [
    {
     "data": {
      "text/plain": [
       "0.036054715514183044"
      ]
     },
     "execution_count": 60,
     "metadata": {},
     "output_type": "execute_result"
    }
   ],
   "source": [
    "next_sent_prob(sentence_A, sentence_B)"
   ]
  },
  {
   "cell_type": "code",
   "execution_count": 57,
   "metadata": {
    "id": "tEMGM0TSlk00"
   },
   "outputs": [],
   "source": [
    "sentence_A_ru = \"Ну что такое?\"\n",
    "sentence_B_ru = \"Почему-то все опять не работает.\""
   ]
  },
  {
   "cell_type": "code",
   "execution_count": 58,
   "metadata": {
    "colab": {
     "base_uri": "https://localhost:8080/"
    },
    "id": "lePlHhJEljHe",
    "outputId": "18883aa9-9bb0-46c8-a9e4-e13a28fa06bd"
   },
   "outputs": [
    {
     "data": {
      "text/plain": [
       "0.9802790880203247"
      ]
     },
     "execution_count": 58,
     "metadata": {},
     "output_type": "execute_result"
    }
   ],
   "source": [
    "next_sent_prob(sentence_A_ru, sentence_B_ru, tokenizer_nsp=tokenizer_nsp_ru, model_nsp=model_nsp_ru)"
   ]
  },
  {
   "cell_type": "code",
   "execution_count": 55,
   "metadata": {
    "id": "QwPaea6lTclI"
   },
   "outputs": [],
   "source": [
    "def get_prob_list(sents: List[str], tokenizer_nsp=tokenizer_nsp_de, model_nsp=model_nsp_de) -> List[float]:\n",
    "  return [next_sent_prob(sents[i], sents[i+1], tokenizer_nsp=tokenizer_nsp, model_nsp=model_nsp) for i in range(len(sents)-1)]"
   ]
  },
  {
   "cell_type": "code",
   "execution_count": 50,
   "metadata": {
    "colab": {
     "base_uri": "https://localhost:8080/"
    },
    "id": "OfCLbhLVT4TE",
    "outputId": "e13cc351-ccfc-47d8-d133-38ec77da1e06"
   },
   "outputs": [
    {
     "data": {
      "text/plain": [
       "[0.9973336458206177,\n",
       " 0.9355976581573486,\n",
       " 0.9985324144363403,\n",
       " 0.9998193383216858,\n",
       " 0.9998990297317505,\n",
       " 0.9999611377716064]"
      ]
     },
     "execution_count": 50,
     "metadata": {},
     "output_type": "execute_result"
    }
   ],
   "source": [
    "get_prob_list(data.sents)"
   ]
  },
  {
   "cell_type": "code",
   "execution_count": 56,
   "metadata": {
    "colab": {
     "base_uri": "https://localhost:8080/"
    },
    "id": "iFv08kR2lafW",
    "outputId": "f87ec901-e53c-4e09-d937-239021c48026"
   },
   "outputs": [
    {
     "data": {
      "text/plain": [
       "[0.0777721181511879, 0.9999936819076538, 0.999984622001648]"
      ]
     },
     "execution_count": 56,
     "metadata": {},
     "output_type": "execute_result"
    }
   ],
   "source": [
    "get_prob_list(data_ru.sents, tokenizer_nsp=tokenizer_nsp_ru, model_nsp=model_nsp_ru)"
   ]
  },
  {
   "cell_type": "markdown",
   "metadata": {
    "id": "KJ5VUgApqhKF"
   },
   "source": [
    "## Apply"
   ]
  },
  {
   "cell_type": "code",
   "execution_count": 78,
   "metadata": {
    "id": "4n4CDdGUqjPf"
   },
   "outputs": [],
   "source": [
    "@attr.s(auto_attribs=True)\n",
    "class ProcessTextData:\n",
    "  data: TextData\n",
    "  bert_lang: Optional[str] = attr.ib(default='de')\n",
    "\n",
    "  def __attrs_post_init__(self):\n",
    "    if self.bert_lang == 'de':\n",
    "      self.bert_model = model_de\n",
    "      self.bert_model_nsp = model_nsp_de\n",
    "      self.bert_tokenizer = tokenizer_de\n",
    "      self.bert_tokenizer_nsp = tokenizer_nsp_de\n",
    "    elif self.bert_lang == 'ru':\n",
    "      self.bert_model = model_ru\n",
    "      self.bert_model_nsp = model_nsp_ru\n",
    "      self.bert_tokenizer = tokenizer_ru\n",
    "      self.bert_tokenizer_nsp = tokenizer_nsp_ru\n",
    "\n",
    "    self.n_words = len(self.data.words)\n",
    "    self.LTR = self.TTR()\n",
    "    self.MALTR = self.MATTR()\n",
    "    self.lexical = {'n_words': self.n_words,\n",
    "                    'LTR': self.LTR,\n",
    "                    'MALTR': self.MALTR}\n",
    "\n",
    "    self.n_sents = len(self.data.sents)\n",
    "    self.mean_sent_words = np.mean([len(s) for s in self.data.sent_words])\n",
    "    self.pos_rates = pos_rates(self.data.pos)\n",
    "\n",
    "    self.syntactic = {'n_sents': self.n_sents,\n",
    "                    'mean_sent_words': self.mean_sent_words}\n",
    "    self.syntactic.update(self.pos_rates)\n",
    "\n",
    "    self.graph_statistics = self.graph_statistics()\n",
    "\n",
    "    self.mean_lcoh = np.mean(self.local_coherence_list())\n",
    "    self.mean_gcoh = np.mean(self.global_coherence_list())\n",
    "    self.mean_cgcoh = np.mean(self.cumulative_global_coherence_list())\n",
    "    self.mean_scoh = np.mean(self.second_order_coherence_list())\n",
    "    self.mean_sent_prob = np.mean(self.sent_prob_list)\n",
    "\n",
    "    self.LM = {'m_lcoh': self.mean_lcoh,\n",
    "               'm_gcoh': self.mean_gcoh,\n",
    "               'm_cgcoh': self.mean_cgcoh,\n",
    "               'm_scoh': self.mean_scoh,\n",
    "               'm_sporb': self.mean_sent_prob,\n",
    "               'm_bert_lcoh': np.mean(self.local_coherence_list(model='bert')),\n",
    "               'm_bert_gcoh': np.mean(self.global_coherence_list(model='bert')),\n",
    "               'm_bert_cgcoh': np.mean(self.cumulative_global_coherence_list(model='bert')),\n",
    "               'm_bert_scoh': np.mean(self.second_order_coherence_list(model='bert'))\n",
    "               }\n",
    "\n",
    "\n",
    "  # lexical\n",
    "\n",
    "  def TTR(self, lemmas: bool = True) -> float:\n",
    "    items = self.data.lemmas if lemmas else self.data.words\n",
    "    return TTR(items)\n",
    "\n",
    "  def MATTR(self, w: Optional[int] = 10, lemmas: bool = True) -> float:\n",
    "    items = self.data.lemmas if lemmas else self.data.words\n",
    "    return MATTR(items, w=w)\n",
    "\n",
    "  # graph\n",
    "\n",
    "  def graph_statistics(self, w: Optional[int] = 10, lemmas: bool = True) -> Dict[str, float]:\n",
    "    items = self.data.lemmas if lemmas else self.data.words\n",
    "    return moving_graph_statistics(items, w=w)\n",
    "\n",
    "  # LM\n",
    "  @cached_property\n",
    "  def bert_sent_vectors(self) -> List[np.array]:\n",
    "    return [bert_sent_vectorize(s,\n",
    "                                model=self.bert_model,\n",
    "                                tokenizer=self.bert_tokenizer)\n",
    "    for s in data.sents]\n",
    "\n",
    "  def sent_vectors(self, model: Optional[str] = 'default') -> List[np.array]:\n",
    "    if model == 'bert':\n",
    "      return self.bert_sent_vectors\n",
    "    else:\n",
    "      return self.data.sent_vectors\n",
    "\n",
    "  def local_coherence_list(self, model: Optional[str] = 'default') -> List[float]:\n",
    "    return get_local_coherence_list(self.sent_vectors(model=model))\n",
    "\n",
    "  def global_coherence_list(self, model: Optional[str] = 'default') -> List[float]:\n",
    "    return get_global_coherence_list(self.sent_vectors(model=model))\n",
    "\n",
    "  def cumulative_global_coherence_list(self, model: Optional[str] = 'default') -> List[float]:\n",
    "    return get_cumulative_global_coherence_list(self.sent_vectors(model=model))\n",
    "\n",
    "  def second_order_coherence_list(self, model: Optional[str] = 'default') -> List[float]:\n",
    "    return get_second_order_coherence_list(self.sent_vectors(model=model))\n",
    "\n",
    "  @cached_property\n",
    "  def sent_prob_list(self):\n",
    "    return get_prob_list(self.data.sents,\n",
    "                         model_nsp=self.bert_model_nsp,\n",
    "                         tokenizer_nsp=self.bert_tokenizer_nsp)\n",
    "\n",
    "  # values\n",
    "  @cached_property\n",
    "  def values(self):\n",
    "    return {'LM': self.LM, 'syntactic': self.syntactic,\n",
    "            'lexical': self.lexical, 'graph': self.graph_statistics}"
   ]
  },
  {
   "cell_type": "code",
   "execution_count": 79,
   "metadata": {
    "colab": {
     "base_uri": "https://localhost:8080/"
    },
    "id": "UzNLlAOrrRNY",
    "outputId": "556435f7-4c77-41ab-83bb-285a74163234"
   },
   "outputs": [
    {
     "data": {
      "text/plain": [
       "{'LM': {'m_lcoh': 0.4842664306268148,\n",
       "  'm_gcoh': 0.7365893185018518,\n",
       "  'm_cgcoh': 0.7693006449156451,\n",
       "  'm_scoh': 0.5764330740012963,\n",
       "  'm_sporb': 0.9885238707065582,\n",
       "  'm_bert_lcoh': 0.8709225,\n",
       "  'm_bert_gcoh': 0.9313899,\n",
       "  'm_bert_cgcoh': 0.9489261,\n",
       "  'm_bert_scoh': 0.8724599},\n",
       " 'syntactic': {'n_sents': 7,\n",
       "  'mean_sent_words': 28.857142857142858,\n",
       "  'DET': 0.06930693069306931,\n",
       "  'NOUN': 0.18316831683168316,\n",
       "  'VERB': 0.04455445544554455,\n",
       "  'PRON': 0.024752475247524754,\n",
       "  'ADP': 0.09900990099009901,\n",
       "  'ADJ': 0.07425742574257425,\n",
       "  'PUNCT': 0.18316831683168316,\n",
       "  'CCONJ': 0.0594059405940594,\n",
       "  'AUX': 0.04950495049504951,\n",
       "  'ADV': 0.08415841584158416,\n",
       "  'PROPN': 0.06930693069306931,\n",
       "  'SCONJ': 0.0049504950495049506,\n",
       "  'NUM': 0.034653465346534656,\n",
       "  'PART': 0.01485148514851485,\n",
       "  'X': 0.0049504950495049506},\n",
       " 'lexical': {'n_words': 202,\n",
       "  'LTR': 0.5643564356435643,\n",
       "  'MALTR': 0.8822916666666668},\n",
       " 'graph': {'number_of_nodes': 8.822916666666666,\n",
       "  'number_of_edges': 9.0,\n",
       "  'PE': 0.041666666666666664,\n",
       "  'LCC': 8.822916666666666,\n",
       "  'LSC': 3.3854166666666665,\n",
       "  'degree_average': 2.0795386904761908,\n",
       "  'degree_std': 0.8755921530671769,\n",
       "  'L1': 0.16666666666666666,\n",
       "  'L2': 1.1041666666666667,\n",
       "  'L3': 1.5885416666666667}}"
      ]
     },
     "execution_count": 79,
     "metadata": {},
     "output_type": "execute_result"
    }
   ],
   "source": [
    "d = ProcessTextData(data)\n",
    "d.values"
   ]
  },
  {
   "cell_type": "code",
   "execution_count": 80,
   "metadata": {
    "colab": {
     "base_uri": "https://localhost:8080/"
    },
    "id": "d-I5ofkAozxw",
    "outputId": "d0622f13-7fae-48b8-aae7-d8dcf43460bf"
   },
   "outputs": [
    {
     "data": {
      "text/plain": [
       "{'LM': {'m_lcoh': 0.999392411995775,\n",
       "  'm_gcoh': 0.9998244997103022,\n",
       "  'm_cgcoh': 0.9999012745447248,\n",
       "  'm_scoh': 0.999507581413138,\n",
       "  'm_sporb': 0.6925834740201632,\n",
       "  'm_bert_lcoh': 0.97850305,\n",
       "  'm_bert_gcoh': 0.9868716,\n",
       "  'm_bert_cgcoh': 0.99049085,\n",
       "  'm_bert_scoh': 0.97659856},\n",
       " 'syntactic': {'n_sents': 4,\n",
       "  'mean_sent_words': 18.0,\n",
       "  'VERB': 0.09722222222222222,\n",
       "  'PART': 0.041666666666666664,\n",
       "  'PRON': 0.05555555555555555,\n",
       "  'PUNCT': 0.19444444444444445,\n",
       "  'ADJ': 0.1527777777777778,\n",
       "  'NOUN': 0.19444444444444445,\n",
       "  'ADP': 0.09722222222222222,\n",
       "  'PROPN': 0.06944444444444445,\n",
       "  'AUX': 0.027777777777777776,\n",
       "  'NUM': 0.013888888888888888,\n",
       "  'SCONJ': 0.013888888888888888,\n",
       "  'CCONJ': 0.013888888888888888,\n",
       "  'ADV': 0.027777777777777776},\n",
       " 'lexical': {'n_words': 72, 'LTR': 0.75, 'MALTR': 0.9564516129032259},\n",
       " 'graph': {'number_of_nodes': 9.564516129032258,\n",
       "  'number_of_edges': 9.0,\n",
       "  'PE': 0.0,\n",
       "  'LCC': 9.564516129032258,\n",
       "  'LSC': 2.0,\n",
       "  'degree_average': 1.8903225806451611,\n",
       "  'degree_std': 0.5381270235354685,\n",
       "  'L1': 0.0,\n",
       "  'L2': 0.5161290322580645,\n",
       "  'L3': 0.0}}"
      ]
     },
     "execution_count": 80,
     "metadata": {},
     "output_type": "execute_result"
    }
   ],
   "source": [
    "d_ru = ProcessTextData(data_ru, bert_lang='ru')\n",
    "d_ru.values"
   ]
  },
  {
   "cell_type": "code",
   "execution_count": null,
   "metadata": {
    "id": "T19lvBST7BaN"
   },
   "outputs": [],
   "source": [
    "def average_values(list_of_values_dicts: List[Dict[str, Dict[str, float]]]) -> Dict[str, Dict[str, float]]:\n",
    "  new_val = {metric_type: {metric_name: [] for metric_name in metric_dict.keys()}\n",
    "             for metric_type, metric_dict in list_of_values_dicts[0].items()}\n",
    "  for values in list_of_values_dicts:\n",
    "    for metric_type, d in values.items():\n",
    "      for metric_name, metric_value in d.items():\n",
    "        if metric_name not in new_val[metric_type]:\n",
    "          new_val[metric_type][metric_name] = [metric_value]\n",
    "        new_val[metric_type][metric_name].append(metric_value)\n",
    "\n",
    "  return {metric_type: {metric_name: np.mean(metric_values) for metric_name,\n",
    "                        metric_values in metric_dict.items()}\n",
    "             for metric_type, metric_dict in new_val.items()}"
   ]
  },
  {
   "cell_type": "markdown",
   "metadata": {
    "id": "UF-H2A_AA8jd"
   },
   "source": [
    "Test"
   ]
  },
  {
   "cell_type": "code",
   "execution_count": null,
   "metadata": {
    "id": "dQu3O6-HABJM"
   },
   "outputs": [],
   "source": [
    "import pandas as pd\n",
    "df = pd.read_csv('turns.tsv', sep='\\t', index_col=0)"
   ]
  },
  {
   "cell_type": "code",
   "execution_count": null,
   "metadata": {
    "colab": {
     "base_uri": "https://localhost:8080/"
    },
    "id": "eudhYT1ZA70I",
    "outputId": "92707dbe-4d8a-46fb-b6e7-6b06e560564b"
   },
   "outputs": [
    {
     "metadata": {
      "tags": null
     },
     "name": "stderr",
     "output_type": "stream",
     "text": [
      "/usr/local/lib/python3.10/dist-packages/numpy/core/fromnumeric.py:3432: RuntimeWarning: Mean of empty slice.\n",
      "  return _methods._mean(a, axis=axis, dtype=dtype,\n",
      "/usr/local/lib/python3.10/dist-packages/numpy/core/_methods.py:190: RuntimeWarning: invalid value encountered in double_scalars\n",
      "  ret = ret.dtype.type(ret / rcount)\n"
     ]
    }
   ],
   "source": [
    "newrows = {}\n",
    "for index, row in df.iterrows():\n",
    "  vals = []\n",
    "  for w in row:\n",
    "    v = ProcessTextData(process_spacy(w)).values\n",
    "    vals.append(v)\n",
    "  newrows[index] = average_values(vals)\n",
    "  # print(row['wut_patient_turns'])"
   ]
  },
  {
   "cell_type": "code",
   "execution_count": null,
   "metadata": {
    "id": "cYqWF2FtEkSG"
   },
   "outputs": [],
   "source": [
    "for_pd = []\n",
    "for i, d in newrows.items():\n",
    "  d_p = {'index' : i}\n",
    "  for dd in d.values():\n",
    "    d_p.update(dd)\n",
    "  for_pd.append(d_p)\n",
    "new_df = pd.DataFrame(for_pd)\n",
    "with open('NET_NAP_new.tsv', 'w') as f:\n",
    "  f.write(new_df.to_csv(index=False, sep='\\t'))"
   ]
  },
  {
   "cell_type": "code",
   "execution_count": null,
   "metadata": {
    "colab": {
     "base_uri": "https://localhost:8080/",
     "height": 253
    },
    "id": "SYojzU_HE7OW",
    "outputId": "78e53986-7518-438f-8524-9fcc59c3524d"
   },
   "outputs": [
    {
     "data": {
      "text/html": [
       "\n",
       "  <div id=\"df-dc5a16a0-e76c-4975-af1f-16a66ffabe85\" class=\"colab-df-container\">\n",
       "    <div>\n",
       "<style scoped>\n",
       "    .dataframe tbody tr th:only-of-type {\n",
       "        vertical-align: middle;\n",
       "    }\n",
       "\n",
       "    .dataframe tbody tr th {\n",
       "        vertical-align: top;\n",
       "    }\n",
       "\n",
       "    .dataframe thead th {\n",
       "        text-align: right;\n",
       "    }\n",
       "</style>\n",
       "<table border=\"1\" class=\"dataframe\">\n",
       "  <thead>\n",
       "    <tr style=\"text-align: right;\">\n",
       "      <th></th>\n",
       "      <th>index</th>\n",
       "      <th>m_lcoh</th>\n",
       "      <th>m_gcoh</th>\n",
       "      <th>m_cgcoh</th>\n",
       "      <th>m_scoh</th>\n",
       "      <th>m_sporb</th>\n",
       "      <th>m_bert_lcoh</th>\n",
       "      <th>m_bert_gcoh</th>\n",
       "      <th>m_bert_cgcoh</th>\n",
       "      <th>m_bert_scoh</th>\n",
       "      <th>...</th>\n",
       "      <th>PE</th>\n",
       "      <th>LCC</th>\n",
       "      <th>LSC</th>\n",
       "      <th>degree_average</th>\n",
       "      <th>degree_std</th>\n",
       "      <th>L1</th>\n",
       "      <th>L2</th>\n",
       "      <th>L3</th>\n",
       "      <th>X</th>\n",
       "      <th>PROPN</th>\n",
       "    </tr>\n",
       "  </thead>\n",
       "  <tbody>\n",
       "    <tr>\n",
       "      <th>0</th>\n",
       "      <td>34</td>\n",
       "      <td>0.445511</td>\n",
       "      <td>0.665204</td>\n",
       "      <td>0.713319</td>\n",
       "      <td>0.480528</td>\n",
       "      <td>0.855603</td>\n",
       "      <td>0.870923</td>\n",
       "      <td>0.93139</td>\n",
       "      <td>0.948926</td>\n",
       "      <td>0.87246</td>\n",
       "      <td>...</td>\n",
       "      <td>0.203084</td>\n",
       "      <td>8.375699</td>\n",
       "      <td>3.944242</td>\n",
       "      <td>2.219160</td>\n",
       "      <td>1.001812</td>\n",
       "      <td>0.426063</td>\n",
       "      <td>1.732931</td>\n",
       "      <td>3.689045</td>\n",
       "      <td>NaN</td>\n",
       "      <td>NaN</td>\n",
       "    </tr>\n",
       "    <tr>\n",
       "      <th>1</th>\n",
       "      <td>60</td>\n",
       "      <td>0.417252</td>\n",
       "      <td>0.615969</td>\n",
       "      <td>0.678460</td>\n",
       "      <td>0.321578</td>\n",
       "      <td>0.887510</td>\n",
       "      <td>0.870923</td>\n",
       "      <td>0.93139</td>\n",
       "      <td>0.948926</td>\n",
       "      <td>0.87246</td>\n",
       "      <td>...</td>\n",
       "      <td>0.183619</td>\n",
       "      <td>8.908038</td>\n",
       "      <td>3.571602</td>\n",
       "      <td>2.059414</td>\n",
       "      <td>0.675319</td>\n",
       "      <td>0.122953</td>\n",
       "      <td>0.604877</td>\n",
       "      <td>1.239897</td>\n",
       "      <td>0.008213</td>\n",
       "      <td>0.019545</td>\n",
       "    </tr>\n",
       "    <tr>\n",
       "      <th>2</th>\n",
       "      <td>76</td>\n",
       "      <td>0.376666</td>\n",
       "      <td>0.607762</td>\n",
       "      <td>0.663830</td>\n",
       "      <td>0.356495</td>\n",
       "      <td>0.859433</td>\n",
       "      <td>0.870923</td>\n",
       "      <td>0.93139</td>\n",
       "      <td>0.948926</td>\n",
       "      <td>0.87246</td>\n",
       "      <td>...</td>\n",
       "      <td>0.183220</td>\n",
       "      <td>8.576408</td>\n",
       "      <td>4.232904</td>\n",
       "      <td>2.147339</td>\n",
       "      <td>0.908804</td>\n",
       "      <td>0.274941</td>\n",
       "      <td>1.068746</td>\n",
       "      <td>2.936122</td>\n",
       "      <td>0.004237</td>\n",
       "      <td>0.012254</td>\n",
       "    </tr>\n",
       "    <tr>\n",
       "      <th>3</th>\n",
       "      <td>84</td>\n",
       "      <td>0.334272</td>\n",
       "      <td>0.603192</td>\n",
       "      <td>0.669950</td>\n",
       "      <td>0.357711</td>\n",
       "      <td>0.883172</td>\n",
       "      <td>0.870923</td>\n",
       "      <td>0.93139</td>\n",
       "      <td>0.948926</td>\n",
       "      <td>0.87246</td>\n",
       "      <td>...</td>\n",
       "      <td>0.141174</td>\n",
       "      <td>8.763347</td>\n",
       "      <td>3.989202</td>\n",
       "      <td>2.093529</td>\n",
       "      <td>0.764162</td>\n",
       "      <td>0.069488</td>\n",
       "      <td>0.727639</td>\n",
       "      <td>1.383873</td>\n",
       "      <td>0.016592</td>\n",
       "      <td>0.010665</td>\n",
       "    </tr>\n",
       "    <tr>\n",
       "      <th>4</th>\n",
       "      <td>88</td>\n",
       "      <td>0.711440</td>\n",
       "      <td>0.837232</td>\n",
       "      <td>0.881330</td>\n",
       "      <td>0.489078</td>\n",
       "      <td>0.950917</td>\n",
       "      <td>0.870923</td>\n",
       "      <td>0.93139</td>\n",
       "      <td>0.948926</td>\n",
       "      <td>0.87246</td>\n",
       "      <td>...</td>\n",
       "      <td>0.039770</td>\n",
       "      <td>8.903360</td>\n",
       "      <td>4.372477</td>\n",
       "      <td>2.040719</td>\n",
       "      <td>0.648437</td>\n",
       "      <td>0.006503</td>\n",
       "      <td>0.106605</td>\n",
       "      <td>0.435152</td>\n",
       "      <td>0.002809</td>\n",
       "      <td>0.026404</td>\n",
       "    </tr>\n",
       "  </tbody>\n",
       "</table>\n",
       "<p>5 rows × 41 columns</p>\n",
       "</div>\n",
       "    <div class=\"colab-df-buttons\">\n",
       "\n",
       "  <div class=\"colab-df-container\">\n",
       "    <button class=\"colab-df-convert\" onclick=\"convertToInteractive('df-dc5a16a0-e76c-4975-af1f-16a66ffabe85')\"\n",
       "            title=\"Convert this dataframe to an interactive table.\"\n",
       "            style=\"display:none;\">\n",
       "\n",
       "  <svg xmlns=\"http://www.w3.org/2000/svg\" height=\"24px\" viewBox=\"0 -960 960 960\">\n",
       "    <path d=\"M120-120v-720h720v720H120Zm60-500h600v-160H180v160Zm220 220h160v-160H400v160Zm0 220h160v-160H400v160ZM180-400h160v-160H180v160Zm440 0h160v-160H620v160ZM180-180h160v-160H180v160Zm440 0h160v-160H620v160Z\"/>\n",
       "  </svg>\n",
       "    </button>\n",
       "\n",
       "  <style>\n",
       "    .colab-df-container {\n",
       "      display:flex;\n",
       "      gap: 12px;\n",
       "    }\n",
       "\n",
       "    .colab-df-convert {\n",
       "      background-color: #E8F0FE;\n",
       "      border: none;\n",
       "      border-radius: 50%;\n",
       "      cursor: pointer;\n",
       "      display: none;\n",
       "      fill: #1967D2;\n",
       "      height: 32px;\n",
       "      padding: 0 0 0 0;\n",
       "      width: 32px;\n",
       "    }\n",
       "\n",
       "    .colab-df-convert:hover {\n",
       "      background-color: #E2EBFA;\n",
       "      box-shadow: 0px 1px 2px rgba(60, 64, 67, 0.3), 0px 1px 3px 1px rgba(60, 64, 67, 0.15);\n",
       "      fill: #174EA6;\n",
       "    }\n",
       "\n",
       "    .colab-df-buttons div {\n",
       "      margin-bottom: 4px;\n",
       "    }\n",
       "\n",
       "    [theme=dark] .colab-df-convert {\n",
       "      background-color: #3B4455;\n",
       "      fill: #D2E3FC;\n",
       "    }\n",
       "\n",
       "    [theme=dark] .colab-df-convert:hover {\n",
       "      background-color: #434B5C;\n",
       "      box-shadow: 0px 1px 3px 1px rgba(0, 0, 0, 0.15);\n",
       "      filter: drop-shadow(0px 1px 2px rgba(0, 0, 0, 0.3));\n",
       "      fill: #FFFFFF;\n",
       "    }\n",
       "  </style>\n",
       "\n",
       "    <script>\n",
       "      const buttonEl =\n",
       "        document.querySelector('#df-dc5a16a0-e76c-4975-af1f-16a66ffabe85 button.colab-df-convert');\n",
       "      buttonEl.style.display =\n",
       "        google.colab.kernel.accessAllowed ? 'block' : 'none';\n",
       "\n",
       "      async function convertToInteractive(key) {\n",
       "        const element = document.querySelector('#df-dc5a16a0-e76c-4975-af1f-16a66ffabe85');\n",
       "        const dataTable =\n",
       "          await google.colab.kernel.invokeFunction('convertToInteractive',\n",
       "                                                    [key], {});\n",
       "        if (!dataTable) return;\n",
       "\n",
       "        const docLinkHtml = 'Like what you see? Visit the ' +\n",
       "          '<a target=\"_blank\" href=https://colab.research.google.com/notebooks/data_table.ipynb>data table notebook</a>'\n",
       "          + ' to learn more about interactive tables.';\n",
       "        element.innerHTML = '';\n",
       "        dataTable['output_type'] = 'display_data';\n",
       "        await google.colab.output.renderOutput(dataTable, element);\n",
       "        const docLink = document.createElement('div');\n",
       "        docLink.innerHTML = docLinkHtml;\n",
       "        element.appendChild(docLink);\n",
       "      }\n",
       "    </script>\n",
       "  </div>\n",
       "\n",
       "\n",
       "<div id=\"df-72d16197-719d-450c-9d2d-4086341470e4\">\n",
       "  <button class=\"colab-df-quickchart\" onclick=\"quickchart('df-72d16197-719d-450c-9d2d-4086341470e4')\"\n",
       "            title=\"Suggest charts.\"\n",
       "            style=\"display:none;\">\n",
       "\n",
       "<svg xmlns=\"http://www.w3.org/2000/svg\" height=\"24px\"viewBox=\"0 0 24 24\"\n",
       "     width=\"24px\">\n",
       "    <g>\n",
       "        <path d=\"M19 3H5c-1.1 0-2 .9-2 2v14c0 1.1.9 2 2 2h14c1.1 0 2-.9 2-2V5c0-1.1-.9-2-2-2zM9 17H7v-7h2v7zm4 0h-2V7h2v10zm4 0h-2v-4h2v4z\"/>\n",
       "    </g>\n",
       "</svg>\n",
       "  </button>\n",
       "\n",
       "<style>\n",
       "  .colab-df-quickchart {\n",
       "      --bg-color: #E8F0FE;\n",
       "      --fill-color: #1967D2;\n",
       "      --hover-bg-color: #E2EBFA;\n",
       "      --hover-fill-color: #174EA6;\n",
       "      --disabled-fill-color: #AAA;\n",
       "      --disabled-bg-color: #DDD;\n",
       "  }\n",
       "\n",
       "  [theme=dark] .colab-df-quickchart {\n",
       "      --bg-color: #3B4455;\n",
       "      --fill-color: #D2E3FC;\n",
       "      --hover-bg-color: #434B5C;\n",
       "      --hover-fill-color: #FFFFFF;\n",
       "      --disabled-bg-color: #3B4455;\n",
       "      --disabled-fill-color: #666;\n",
       "  }\n",
       "\n",
       "  .colab-df-quickchart {\n",
       "    background-color: var(--bg-color);\n",
       "    border: none;\n",
       "    border-radius: 50%;\n",
       "    cursor: pointer;\n",
       "    display: none;\n",
       "    fill: var(--fill-color);\n",
       "    height: 32px;\n",
       "    padding: 0;\n",
       "    width: 32px;\n",
       "  }\n",
       "\n",
       "  .colab-df-quickchart:hover {\n",
       "    background-color: var(--hover-bg-color);\n",
       "    box-shadow: 0 1px 2px rgba(60, 64, 67, 0.3), 0 1px 3px 1px rgba(60, 64, 67, 0.15);\n",
       "    fill: var(--button-hover-fill-color);\n",
       "  }\n",
       "\n",
       "  .colab-df-quickchart-complete:disabled,\n",
       "  .colab-df-quickchart-complete:disabled:hover {\n",
       "    background-color: var(--disabled-bg-color);\n",
       "    fill: var(--disabled-fill-color);\n",
       "    box-shadow: none;\n",
       "  }\n",
       "\n",
       "  .colab-df-spinner {\n",
       "    border: 2px solid var(--fill-color);\n",
       "    border-color: transparent;\n",
       "    border-bottom-color: var(--fill-color);\n",
       "    animation:\n",
       "      spin 1s steps(1) infinite;\n",
       "  }\n",
       "\n",
       "  @keyframes spin {\n",
       "    0% {\n",
       "      border-color: transparent;\n",
       "      border-bottom-color: var(--fill-color);\n",
       "      border-left-color: var(--fill-color);\n",
       "    }\n",
       "    20% {\n",
       "      border-color: transparent;\n",
       "      border-left-color: var(--fill-color);\n",
       "      border-top-color: var(--fill-color);\n",
       "    }\n",
       "    30% {\n",
       "      border-color: transparent;\n",
       "      border-left-color: var(--fill-color);\n",
       "      border-top-color: var(--fill-color);\n",
       "      border-right-color: var(--fill-color);\n",
       "    }\n",
       "    40% {\n",
       "      border-color: transparent;\n",
       "      border-right-color: var(--fill-color);\n",
       "      border-top-color: var(--fill-color);\n",
       "    }\n",
       "    60% {\n",
       "      border-color: transparent;\n",
       "      border-right-color: var(--fill-color);\n",
       "    }\n",
       "    80% {\n",
       "      border-color: transparent;\n",
       "      border-right-color: var(--fill-color);\n",
       "      border-bottom-color: var(--fill-color);\n",
       "    }\n",
       "    90% {\n",
       "      border-color: transparent;\n",
       "      border-bottom-color: var(--fill-color);\n",
       "    }\n",
       "  }\n",
       "</style>\n",
       "\n",
       "  <script>\n",
       "    async function quickchart(key) {\n",
       "      const quickchartButtonEl =\n",
       "        document.querySelector('#' + key + ' button');\n",
       "      quickchartButtonEl.disabled = true;  // To prevent multiple clicks.\n",
       "      quickchartButtonEl.classList.add('colab-df-spinner');\n",
       "      try {\n",
       "        const charts = await google.colab.kernel.invokeFunction(\n",
       "            'suggestCharts', [key], {});\n",
       "      } catch (error) {\n",
       "        console.error('Error during call to suggestCharts:', error);\n",
       "      }\n",
       "      quickchartButtonEl.classList.remove('colab-df-spinner');\n",
       "      quickchartButtonEl.classList.add('colab-df-quickchart-complete');\n",
       "    }\n",
       "    (() => {\n",
       "      let quickchartButtonEl =\n",
       "        document.querySelector('#df-72d16197-719d-450c-9d2d-4086341470e4 button');\n",
       "      quickchartButtonEl.style.display =\n",
       "        google.colab.kernel.accessAllowed ? 'block' : 'none';\n",
       "    })();\n",
       "  </script>\n",
       "</div>\n",
       "    </div>\n",
       "  </div>\n"
      ],
      "text/plain": [
       "   index    m_lcoh    m_gcoh   m_cgcoh    m_scoh   m_sporb  m_bert_lcoh  \\\n",
       "0     34  0.445511  0.665204  0.713319  0.480528  0.855603     0.870923   \n",
       "1     60  0.417252  0.615969  0.678460  0.321578  0.887510     0.870923   \n",
       "2     76  0.376666  0.607762  0.663830  0.356495  0.859433     0.870923   \n",
       "3     84  0.334272  0.603192  0.669950  0.357711  0.883172     0.870923   \n",
       "4     88  0.711440  0.837232  0.881330  0.489078  0.950917     0.870923   \n",
       "\n",
       "   m_bert_gcoh  m_bert_cgcoh  m_bert_scoh  ...        PE       LCC       LSC  \\\n",
       "0      0.93139      0.948926      0.87246  ...  0.203084  8.375699  3.944242   \n",
       "1      0.93139      0.948926      0.87246  ...  0.183619  8.908038  3.571602   \n",
       "2      0.93139      0.948926      0.87246  ...  0.183220  8.576408  4.232904   \n",
       "3      0.93139      0.948926      0.87246  ...  0.141174  8.763347  3.989202   \n",
       "4      0.93139      0.948926      0.87246  ...  0.039770  8.903360  4.372477   \n",
       "\n",
       "   degree_average  degree_std        L1        L2        L3         X  \\\n",
       "0        2.219160    1.001812  0.426063  1.732931  3.689045       NaN   \n",
       "1        2.059414    0.675319  0.122953  0.604877  1.239897  0.008213   \n",
       "2        2.147339    0.908804  0.274941  1.068746  2.936122  0.004237   \n",
       "3        2.093529    0.764162  0.069488  0.727639  1.383873  0.016592   \n",
       "4        2.040719    0.648437  0.006503  0.106605  0.435152  0.002809   \n",
       "\n",
       "      PROPN  \n",
       "0       NaN  \n",
       "1  0.019545  \n",
       "2  0.012254  \n",
       "3  0.010665  \n",
       "4  0.026404  \n",
       "\n",
       "[5 rows x 41 columns]"
      ]
     },
     "execution_count": 84,
     "metadata": {},
     "output_type": "execute_result"
    }
   ],
   "source": [
    "new_df.head()"
   ]
  }
 ],
 "metadata": {
  "colab": {
   "provenance": []
  },
  "kernelspec": {
   "display_name": "Python 3 (ipykernel)",
   "language": "python",
   "name": "python3"
  },
  "language_info": {
   "codemirror_mode": {
    "name": "ipython",
    "version": 3
   },
   "file_extension": ".py",
   "mimetype": "text/x-python",
   "name": "python",
   "nbconvert_exporter": "python",
   "pygments_lexer": "ipython3",
   "version": "3.9.7"
  },
  "widgets": {
   "application/vnd.jupyter.widget-state+json": {
    "020ecfeafb0f47e4b66e24b061859236": {
     "model_module": "@jupyter-widgets/controls",
     "model_module_version": "1.5.0",
     "model_name": "FloatProgressModel",
     "state": {
      "_dom_classes": [],
      "_model_module": "@jupyter-widgets/controls",
      "_model_module_version": "1.5.0",
      "_model_name": "FloatProgressModel",
      "_view_count": null,
      "_view_module": "@jupyter-widgets/controls",
      "_view_module_version": "1.5.0",
      "_view_name": "ProgressView",
      "bar_style": "success",
      "description": "",
      "description_tooltip": null,
      "layout": "IPY_MODEL_b32ed3e039f149899ec5268b0bf826fd",
      "max": 438844124,
      "min": 0,
      "orientation": "horizontal",
      "style": "IPY_MODEL_b344deee93994912a8f52b73022230fe",
      "value": 438844124
     }
    },
    "03fb9c4bdd1149a09ece29ff9c5442dc": {
     "model_module": "@jupyter-widgets/base",
     "model_module_version": "1.2.0",
     "model_name": "LayoutModel",
     "state": {
      "_model_module": "@jupyter-widgets/base",
      "_model_module_version": "1.2.0",
      "_model_name": "LayoutModel",
      "_view_count": null,
      "_view_module": "@jupyter-widgets/base",
      "_view_module_version": "1.2.0",
      "_view_name": "LayoutView",
      "align_content": null,
      "align_items": null,
      "align_self": null,
      "border": null,
      "bottom": null,
      "display": null,
      "flex": null,
      "flex_flow": null,
      "grid_area": null,
      "grid_auto_columns": null,
      "grid_auto_flow": null,
      "grid_auto_rows": null,
      "grid_column": null,
      "grid_gap": null,
      "grid_row": null,
      "grid_template_areas": null,
      "grid_template_columns": null,
      "grid_template_rows": null,
      "height": null,
      "justify_content": null,
      "justify_items": null,
      "left": null,
      "margin": null,
      "max_height": null,
      "max_width": null,
      "min_height": null,
      "min_width": null,
      "object_fit": null,
      "object_position": null,
      "order": null,
      "overflow": null,
      "overflow_x": null,
      "overflow_y": null,
      "padding": null,
      "right": null,
      "top": null,
      "visibility": null,
      "width": null
     }
    },
    "077f282fca3d45beb6ed29159adfc75a": {
     "model_module": "@jupyter-widgets/controls",
     "model_module_version": "1.5.0",
     "model_name": "DescriptionStyleModel",
     "state": {
      "_model_module": "@jupyter-widgets/controls",
      "_model_module_version": "1.5.0",
      "_model_name": "DescriptionStyleModel",
      "_view_count": null,
      "_view_module": "@jupyter-widgets/base",
      "_view_module_version": "1.2.0",
      "_view_name": "StyleView",
      "description_width": ""
     }
    },
    "0d74e0c30c6341e9836eac31d545465c": {
     "model_module": "@jupyter-widgets/controls",
     "model_module_version": "1.5.0",
     "model_name": "FloatProgressModel",
     "state": {
      "_dom_classes": [],
      "_model_module": "@jupyter-widgets/controls",
      "_model_module_version": "1.5.0",
      "_model_name": "FloatProgressModel",
      "_view_count": null,
      "_view_module": "@jupyter-widgets/controls",
      "_view_module_version": "1.5.0",
      "_view_name": "ProgressView",
      "bar_style": "success",
      "description": "",
      "description_tooltip": null,
      "layout": "IPY_MODEL_7591c5a935244ac6924ab0bfe49c23c5",
      "max": 1649718,
      "min": 0,
      "orientation": "horizontal",
      "style": "IPY_MODEL_241d1ae910494459b13bda3cb5298fb9",
      "value": 1649718
     }
    },
    "0f3d295efb5240668a0ad7536358ca67": {
     "model_module": "@jupyter-widgets/controls",
     "model_module_version": "1.5.0",
     "model_name": "HTMLModel",
     "state": {
      "_dom_classes": [],
      "_model_module": "@jupyter-widgets/controls",
      "_model_module_version": "1.5.0",
      "_model_name": "HTMLModel",
      "_view_count": null,
      "_view_module": "@jupyter-widgets/controls",
      "_view_module_version": "1.5.0",
      "_view_name": "HTMLView",
      "description": "",
      "description_tooltip": null,
      "layout": "IPY_MODEL_e8f08be715704a539190a0b29674df2c",
      "placeholder": "​",
      "style": "IPY_MODEL_64a15716033d4831bd3b43318810a050",
      "value": " 485k/485k [00:00&lt;00:00, 2.83MB/s]"
     }
    },
    "10806dece23246be9ac98711ca99c1a2": {
     "model_module": "@jupyter-widgets/controls",
     "model_module_version": "1.5.0",
     "model_name": "HTMLModel",
     "state": {
      "_dom_classes": [],
      "_model_module": "@jupyter-widgets/controls",
      "_model_module_version": "1.5.0",
      "_model_name": "HTMLModel",
      "_view_count": null,
      "_view_module": "@jupyter-widgets/controls",
      "_view_module_version": "1.5.0",
      "_view_name": "HTMLView",
      "description": "",
      "description_tooltip": null,
      "layout": "IPY_MODEL_5fba7b449eb24b80b3f28fcdd45b835f",
      "placeholder": "​",
      "style": "IPY_MODEL_8bcdd3ebf3db4058873ee6b65dec8452",
      "value": " 112/112 [00:00&lt;00:00, 4.21kB/s]"
     }
    },
    "122dd2724e2847e3bfb070952707e125": {
     "model_module": "@jupyter-widgets/controls",
     "model_module_version": "1.5.0",
     "model_name": "FloatProgressModel",
     "state": {
      "_dom_classes": [],
      "_model_module": "@jupyter-widgets/controls",
      "_model_module_version": "1.5.0",
      "_model_name": "FloatProgressModel",
      "_view_count": null,
      "_view_module": "@jupyter-widgets/controls",
      "_view_module_version": "1.5.0",
      "_view_name": "ProgressView",
      "bar_style": "success",
      "description": "",
      "description_tooltip": null,
      "layout": "IPY_MODEL_99af5efd95f74d9aaf12b88a703ba98d",
      "max": 24,
      "min": 0,
      "orientation": "horizontal",
      "style": "IPY_MODEL_95a7adf7db55460498067f6516ab5722",
      "value": 24
     }
    },
    "1295ad2f7b444b749fa46ff3c51729a5": {
     "model_module": "@jupyter-widgets/controls",
     "model_module_version": "1.5.0",
     "model_name": "HBoxModel",
     "state": {
      "_dom_classes": [],
      "_model_module": "@jupyter-widgets/controls",
      "_model_module_version": "1.5.0",
      "_model_name": "HBoxModel",
      "_view_count": null,
      "_view_module": "@jupyter-widgets/controls",
      "_view_module_version": "1.5.0",
      "_view_name": "HBoxView",
      "box_style": "",
      "children": [
       "IPY_MODEL_c6469bb137a2436aa3df1201de8a6285",
       "IPY_MODEL_2a64c1c027f24a7c9cb0098ef15ac490",
       "IPY_MODEL_0f3d295efb5240668a0ad7536358ca67"
      ],
      "layout": "IPY_MODEL_356215d882e64df8982b47d31b0b1c4d"
     }
    },
    "1303c16a82404da3b5d661e51e267794": {
     "model_module": "@jupyter-widgets/base",
     "model_module_version": "1.2.0",
     "model_name": "LayoutModel",
     "state": {
      "_model_module": "@jupyter-widgets/base",
      "_model_module_version": "1.2.0",
      "_model_name": "LayoutModel",
      "_view_count": null,
      "_view_module": "@jupyter-widgets/base",
      "_view_module_version": "1.2.0",
      "_view_name": "LayoutView",
      "align_content": null,
      "align_items": null,
      "align_self": null,
      "border": null,
      "bottom": null,
      "display": null,
      "flex": null,
      "flex_flow": null,
      "grid_area": null,
      "grid_auto_columns": null,
      "grid_auto_flow": null,
      "grid_auto_rows": null,
      "grid_column": null,
      "grid_gap": null,
      "grid_row": null,
      "grid_template_areas": null,
      "grid_template_columns": null,
      "grid_template_rows": null,
      "height": null,
      "justify_content": null,
      "justify_items": null,
      "left": null,
      "margin": null,
      "max_height": null,
      "max_width": null,
      "min_height": null,
      "min_width": null,
      "object_fit": null,
      "object_position": null,
      "order": null,
      "overflow": null,
      "overflow_x": null,
      "overflow_y": null,
      "padding": null,
      "right": null,
      "top": null,
      "visibility": null,
      "width": null
     }
    },
    "16309d68b6a74fd5af3b245295d82d7b": {
     "model_module": "@jupyter-widgets/controls",
     "model_module_version": "1.5.0",
     "model_name": "DescriptionStyleModel",
     "state": {
      "_model_module": "@jupyter-widgets/controls",
      "_model_module_version": "1.5.0",
      "_model_name": "DescriptionStyleModel",
      "_view_count": null,
      "_view_module": "@jupyter-widgets/base",
      "_view_module_version": "1.2.0",
      "_view_name": "StyleView",
      "description_width": ""
     }
    },
    "1936ee06a9704d4e977399ef57f03955": {
     "model_module": "@jupyter-widgets/controls",
     "model_module_version": "1.5.0",
     "model_name": "HBoxModel",
     "state": {
      "_dom_classes": [],
      "_model_module": "@jupyter-widgets/controls",
      "_model_module_version": "1.5.0",
      "_model_name": "HBoxModel",
      "_view_count": null,
      "_view_module": "@jupyter-widgets/controls",
      "_view_module_version": "1.5.0",
      "_view_name": "HBoxView",
      "box_style": "",
      "children": [
       "IPY_MODEL_9b66b70cefeb4c3b883c1a98f5a8f614",
       "IPY_MODEL_8c89038e700c40318573495c76612656",
       "IPY_MODEL_b1f5ed23510c42a687a119ae7d165dc8"
      ],
      "layout": "IPY_MODEL_7b41bb38f1d444f3a9754920d6cae370"
     }
    },
    "1a94f3ab50374ae4842bb2091693caba": {
     "model_module": "@jupyter-widgets/base",
     "model_module_version": "1.2.0",
     "model_name": "LayoutModel",
     "state": {
      "_model_module": "@jupyter-widgets/base",
      "_model_module_version": "1.2.0",
      "_model_name": "LayoutModel",
      "_view_count": null,
      "_view_module": "@jupyter-widgets/base",
      "_view_module_version": "1.2.0",
      "_view_name": "LayoutView",
      "align_content": null,
      "align_items": null,
      "align_self": null,
      "border": null,
      "bottom": null,
      "display": null,
      "flex": null,
      "flex_flow": null,
      "grid_area": null,
      "grid_auto_columns": null,
      "grid_auto_flow": null,
      "grid_auto_rows": null,
      "grid_column": null,
      "grid_gap": null,
      "grid_row": null,
      "grid_template_areas": null,
      "grid_template_columns": null,
      "grid_template_rows": null,
      "height": null,
      "justify_content": null,
      "justify_items": null,
      "left": null,
      "margin": null,
      "max_height": null,
      "max_width": null,
      "min_height": null,
      "min_width": null,
      "object_fit": null,
      "object_position": null,
      "order": null,
      "overflow": null,
      "overflow_x": null,
      "overflow_y": null,
      "padding": null,
      "right": null,
      "top": null,
      "visibility": null,
      "width": null
     }
    },
    "1dbf51ee691a45999f2076051f9a1a52": {
     "model_module": "@jupyter-widgets/controls",
     "model_module_version": "1.5.0",
     "model_name": "DescriptionStyleModel",
     "state": {
      "_model_module": "@jupyter-widgets/controls",
      "_model_module_version": "1.5.0",
      "_model_name": "DescriptionStyleModel",
      "_view_count": null,
      "_view_module": "@jupyter-widgets/base",
      "_view_module_version": "1.2.0",
      "_view_name": "StyleView",
      "description_width": ""
     }
    },
    "1f70fcbd23c346f0a5fdf8cb040934fc": {
     "model_module": "@jupyter-widgets/base",
     "model_module_version": "1.2.0",
     "model_name": "LayoutModel",
     "state": {
      "_model_module": "@jupyter-widgets/base",
      "_model_module_version": "1.2.0",
      "_model_name": "LayoutModel",
      "_view_count": null,
      "_view_module": "@jupyter-widgets/base",
      "_view_module_version": "1.2.0",
      "_view_name": "LayoutView",
      "align_content": null,
      "align_items": null,
      "align_self": null,
      "border": null,
      "bottom": null,
      "display": null,
      "flex": null,
      "flex_flow": null,
      "grid_area": null,
      "grid_auto_columns": null,
      "grid_auto_flow": null,
      "grid_auto_rows": null,
      "grid_column": null,
      "grid_gap": null,
      "grid_row": null,
      "grid_template_areas": null,
      "grid_template_columns": null,
      "grid_template_rows": null,
      "height": null,
      "justify_content": null,
      "justify_items": null,
      "left": null,
      "margin": null,
      "max_height": null,
      "max_width": null,
      "min_height": null,
      "min_width": null,
      "object_fit": null,
      "object_position": null,
      "order": null,
      "overflow": null,
      "overflow_x": null,
      "overflow_y": null,
      "padding": null,
      "right": null,
      "top": null,
      "visibility": null,
      "width": null
     }
    },
    "2090f3e522f9485482c92cc330db1330": {
     "model_module": "@jupyter-widgets/controls",
     "model_module_version": "1.5.0",
     "model_name": "FloatProgressModel",
     "state": {
      "_dom_classes": [],
      "_model_module": "@jupyter-widgets/controls",
      "_model_module_version": "1.5.0",
      "_model_name": "FloatProgressModel",
      "_view_count": null,
      "_view_module": "@jupyter-widgets/controls",
      "_view_module_version": "1.5.0",
      "_view_name": "ProgressView",
      "bar_style": "success",
      "description": "",
      "description_tooltip": null,
      "layout": "IPY_MODEL_7d78d9f37d764535819f06bb3e387e1d",
      "max": 714355318,
      "min": 0,
      "orientation": "horizontal",
      "style": "IPY_MODEL_379e51f6301e457f9654c8ab288e76dc",
      "value": 714355318
     }
    },
    "241d1ae910494459b13bda3cb5298fb9": {
     "model_module": "@jupyter-widgets/controls",
     "model_module_version": "1.5.0",
     "model_name": "ProgressStyleModel",
     "state": {
      "_model_module": "@jupyter-widgets/controls",
      "_model_module_version": "1.5.0",
      "_model_name": "ProgressStyleModel",
      "_view_count": null,
      "_view_module": "@jupyter-widgets/base",
      "_view_module_version": "1.2.0",
      "_view_name": "StyleView",
      "bar_color": null,
      "description_width": ""
     }
    },
    "2812c1f313704363bc4dc0e9f32b4eea": {
     "model_module": "@jupyter-widgets/base",
     "model_module_version": "1.2.0",
     "model_name": "LayoutModel",
     "state": {
      "_model_module": "@jupyter-widgets/base",
      "_model_module_version": "1.2.0",
      "_model_name": "LayoutModel",
      "_view_count": null,
      "_view_module": "@jupyter-widgets/base",
      "_view_module_version": "1.2.0",
      "_view_name": "LayoutView",
      "align_content": null,
      "align_items": null,
      "align_self": null,
      "border": null,
      "bottom": null,
      "display": null,
      "flex": null,
      "flex_flow": null,
      "grid_area": null,
      "grid_auto_columns": null,
      "grid_auto_flow": null,
      "grid_auto_rows": null,
      "grid_column": null,
      "grid_gap": null,
      "grid_row": null,
      "grid_template_areas": null,
      "grid_template_columns": null,
      "grid_template_rows": null,
      "height": null,
      "justify_content": null,
      "justify_items": null,
      "left": null,
      "margin": null,
      "max_height": null,
      "max_width": null,
      "min_height": null,
      "min_width": null,
      "object_fit": null,
      "object_position": null,
      "order": null,
      "overflow": null,
      "overflow_x": null,
      "overflow_y": null,
      "padding": null,
      "right": null,
      "top": null,
      "visibility": null,
      "width": null
     }
    },
    "29c5586329fe4705b381e0d43bf8a8dd": {
     "model_module": "@jupyter-widgets/controls",
     "model_module_version": "1.5.0",
     "model_name": "DescriptionStyleModel",
     "state": {
      "_model_module": "@jupyter-widgets/controls",
      "_model_module_version": "1.5.0",
      "_model_name": "DescriptionStyleModel",
      "_view_count": null,
      "_view_module": "@jupyter-widgets/base",
      "_view_module_version": "1.2.0",
      "_view_name": "StyleView",
      "description_width": ""
     }
    },
    "2a64c1c027f24a7c9cb0098ef15ac490": {
     "model_module": "@jupyter-widgets/controls",
     "model_module_version": "1.5.0",
     "model_name": "FloatProgressModel",
     "state": {
      "_dom_classes": [],
      "_model_module": "@jupyter-widgets/controls",
      "_model_module_version": "1.5.0",
      "_model_name": "FloatProgressModel",
      "_view_count": null,
      "_view_module": "@jupyter-widgets/controls",
      "_view_module_version": "1.5.0",
      "_view_name": "ProgressView",
      "bar_style": "success",
      "description": "",
      "description_tooltip": null,
      "layout": "IPY_MODEL_2812c1f313704363bc4dc0e9f32b4eea",
      "max": 485115,
      "min": 0,
      "orientation": "horizontal",
      "style": "IPY_MODEL_a11c39b4912041efa2176f7c0d3b72a5",
      "value": 485115
     }
    },
    "2b7eca88603e4c4fb5d048a20ab5190c": {
     "model_module": "@jupyter-widgets/base",
     "model_module_version": "1.2.0",
     "model_name": "LayoutModel",
     "state": {
      "_model_module": "@jupyter-widgets/base",
      "_model_module_version": "1.2.0",
      "_model_name": "LayoutModel",
      "_view_count": null,
      "_view_module": "@jupyter-widgets/base",
      "_view_module_version": "1.2.0",
      "_view_name": "LayoutView",
      "align_content": null,
      "align_items": null,
      "align_self": null,
      "border": null,
      "bottom": null,
      "display": null,
      "flex": null,
      "flex_flow": null,
      "grid_area": null,
      "grid_auto_columns": null,
      "grid_auto_flow": null,
      "grid_auto_rows": null,
      "grid_column": null,
      "grid_gap": null,
      "grid_row": null,
      "grid_template_areas": null,
      "grid_template_columns": null,
      "grid_template_rows": null,
      "height": null,
      "justify_content": null,
      "justify_items": null,
      "left": null,
      "margin": null,
      "max_height": null,
      "max_width": null,
      "min_height": null,
      "min_width": null,
      "object_fit": null,
      "object_position": null,
      "order": null,
      "overflow": null,
      "overflow_x": null,
      "overflow_y": null,
      "padding": null,
      "right": null,
      "top": null,
      "visibility": null,
      "width": null
     }
    },
    "32c8cea5e31e40ed9f0f149671f391dc": {
     "model_module": "@jupyter-widgets/controls",
     "model_module_version": "1.5.0",
     "model_name": "HTMLModel",
     "state": {
      "_dom_classes": [],
      "_model_module": "@jupyter-widgets/controls",
      "_model_module_version": "1.5.0",
      "_model_name": "HTMLModel",
      "_view_count": null,
      "_view_module": "@jupyter-widgets/controls",
      "_view_module_version": "1.5.0",
      "_view_name": "HTMLView",
      "description": "",
      "description_tooltip": null,
      "layout": "IPY_MODEL_bf5b46e9f9174f79b75fb8840cced2ca",
      "placeholder": "​",
      "style": "IPY_MODEL_aacc4af3950b437583145ae90c6fda3d",
      "value": " 1.65M/1.65M [00:00&lt;00:00, 1.93MB/s]"
     }
    },
    "331a75bc1001485bacc473a1489cacbe": {
     "model_module": "@jupyter-widgets/controls",
     "model_module_version": "1.5.0",
     "model_name": "HTMLModel",
     "state": {
      "_dom_classes": [],
      "_model_module": "@jupyter-widgets/controls",
      "_model_module_version": "1.5.0",
      "_model_name": "HTMLModel",
      "_view_count": null,
      "_view_module": "@jupyter-widgets/controls",
      "_view_module_version": "1.5.0",
      "_view_name": "HTMLView",
      "description": "",
      "description_tooltip": null,
      "layout": "IPY_MODEL_7ec2af3336194beb91403d8e99301a8d",
      "placeholder": "​",
      "style": "IPY_MODEL_e928f508f8cd4ba39d250b252cf2388d",
      "value": " 24.0/24.0 [00:00&lt;00:00, 873B/s]"
     }
    },
    "3396f821ac504980ba7c2d076b52f5e2": {
     "model_module": "@jupyter-widgets/base",
     "model_module_version": "1.2.0",
     "model_name": "LayoutModel",
     "state": {
      "_model_module": "@jupyter-widgets/base",
      "_model_module_version": "1.2.0",
      "_model_name": "LayoutModel",
      "_view_count": null,
      "_view_module": "@jupyter-widgets/base",
      "_view_module_version": "1.2.0",
      "_view_name": "LayoutView",
      "align_content": null,
      "align_items": null,
      "align_self": null,
      "border": null,
      "bottom": null,
      "display": null,
      "flex": null,
      "flex_flow": null,
      "grid_area": null,
      "grid_auto_columns": null,
      "grid_auto_flow": null,
      "grid_auto_rows": null,
      "grid_column": null,
      "grid_gap": null,
      "grid_row": null,
      "grid_template_areas": null,
      "grid_template_columns": null,
      "grid_template_rows": null,
      "height": null,
      "justify_content": null,
      "justify_items": null,
      "left": null,
      "margin": null,
      "max_height": null,
      "max_width": null,
      "min_height": null,
      "min_width": null,
      "object_fit": null,
      "object_position": null,
      "order": null,
      "overflow": null,
      "overflow_x": null,
      "overflow_y": null,
      "padding": null,
      "right": null,
      "top": null,
      "visibility": null,
      "width": null
     }
    },
    "33f1c667af6d4861b8145c59650b8850": {
     "model_module": "@jupyter-widgets/base",
     "model_module_version": "1.2.0",
     "model_name": "LayoutModel",
     "state": {
      "_model_module": "@jupyter-widgets/base",
      "_model_module_version": "1.2.0",
      "_model_name": "LayoutModel",
      "_view_count": null,
      "_view_module": "@jupyter-widgets/base",
      "_view_module_version": "1.2.0",
      "_view_name": "LayoutView",
      "align_content": null,
      "align_items": null,
      "align_self": null,
      "border": null,
      "bottom": null,
      "display": null,
      "flex": null,
      "flex_flow": null,
      "grid_area": null,
      "grid_auto_columns": null,
      "grid_auto_flow": null,
      "grid_auto_rows": null,
      "grid_column": null,
      "grid_gap": null,
      "grid_row": null,
      "grid_template_areas": null,
      "grid_template_columns": null,
      "grid_template_rows": null,
      "height": null,
      "justify_content": null,
      "justify_items": null,
      "left": null,
      "margin": null,
      "max_height": null,
      "max_width": null,
      "min_height": null,
      "min_width": null,
      "object_fit": null,
      "object_position": null,
      "order": null,
      "overflow": null,
      "overflow_x": null,
      "overflow_y": null,
      "padding": null,
      "right": null,
      "top": null,
      "visibility": null,
      "width": null
     }
    },
    "347599a849ed4259ba4df9d696e92ba2": {
     "model_module": "@jupyter-widgets/controls",
     "model_module_version": "1.5.0",
     "model_name": "DescriptionStyleModel",
     "state": {
      "_model_module": "@jupyter-widgets/controls",
      "_model_module_version": "1.5.0",
      "_model_name": "DescriptionStyleModel",
      "_view_count": null,
      "_view_module": "@jupyter-widgets/base",
      "_view_module_version": "1.2.0",
      "_view_name": "StyleView",
      "description_width": ""
     }
    },
    "356215d882e64df8982b47d31b0b1c4d": {
     "model_module": "@jupyter-widgets/base",
     "model_module_version": "1.2.0",
     "model_name": "LayoutModel",
     "state": {
      "_model_module": "@jupyter-widgets/base",
      "_model_module_version": "1.2.0",
      "_model_name": "LayoutModel",
      "_view_count": null,
      "_view_module": "@jupyter-widgets/base",
      "_view_module_version": "1.2.0",
      "_view_name": "LayoutView",
      "align_content": null,
      "align_items": null,
      "align_self": null,
      "border": null,
      "bottom": null,
      "display": null,
      "flex": null,
      "flex_flow": null,
      "grid_area": null,
      "grid_auto_columns": null,
      "grid_auto_flow": null,
      "grid_auto_rows": null,
      "grid_column": null,
      "grid_gap": null,
      "grid_row": null,
      "grid_template_areas": null,
      "grid_template_columns": null,
      "grid_template_rows": null,
      "height": null,
      "justify_content": null,
      "justify_items": null,
      "left": null,
      "margin": null,
      "max_height": null,
      "max_width": null,
      "min_height": null,
      "min_width": null,
      "object_fit": null,
      "object_position": null,
      "order": null,
      "overflow": null,
      "overflow_x": null,
      "overflow_y": null,
      "padding": null,
      "right": null,
      "top": null,
      "visibility": null,
      "width": null
     }
    },
    "379e51f6301e457f9654c8ab288e76dc": {
     "model_module": "@jupyter-widgets/controls",
     "model_module_version": "1.5.0",
     "model_name": "ProgressStyleModel",
     "state": {
      "_model_module": "@jupyter-widgets/controls",
      "_model_module_version": "1.5.0",
      "_model_name": "ProgressStyleModel",
      "_view_count": null,
      "_view_module": "@jupyter-widgets/base",
      "_view_module_version": "1.2.0",
      "_view_name": "StyleView",
      "bar_color": null,
      "description_width": ""
     }
    },
    "37c4813fa5044aea8f8450c186e1c1a5": {
     "model_module": "@jupyter-widgets/controls",
     "model_module_version": "1.5.0",
     "model_name": "HBoxModel",
     "state": {
      "_dom_classes": [],
      "_model_module": "@jupyter-widgets/controls",
      "_model_module_version": "1.5.0",
      "_model_name": "HBoxModel",
      "_view_count": null,
      "_view_module": "@jupyter-widgets/controls",
      "_view_module_version": "1.5.0",
      "_view_name": "HBoxView",
      "box_style": "",
      "children": [
       "IPY_MODEL_c4d657ac263043f8a20f8976c5680e8b",
       "IPY_MODEL_0d74e0c30c6341e9836eac31d545465c",
       "IPY_MODEL_32c8cea5e31e40ed9f0f149671f391dc"
      ],
      "layout": "IPY_MODEL_a01d20021cd44e889626bb73b0e3f2c4"
     }
    },
    "3949e073f63544ee88ca8009c6ed5813": {
     "model_module": "@jupyter-widgets/controls",
     "model_module_version": "1.5.0",
     "model_name": "HTMLModel",
     "state": {
      "_dom_classes": [],
      "_model_module": "@jupyter-widgets/controls",
      "_model_module_version": "1.5.0",
      "_model_name": "HTMLModel",
      "_view_count": null,
      "_view_module": "@jupyter-widgets/controls",
      "_view_module_version": "1.5.0",
      "_view_name": "HTMLView",
      "description": "",
      "description_tooltip": null,
      "layout": "IPY_MODEL_3396f821ac504980ba7c2d076b52f5e2",
      "placeholder": "​",
      "style": "IPY_MODEL_347599a849ed4259ba4df9d696e92ba2",
      "value": "Downloading (…)cial_tokens_map.json: 100%"
     }
    },
    "41157b1fee5f415fb012e63d32b041c9": {
     "model_module": "@jupyter-widgets/controls",
     "model_module_version": "1.5.0",
     "model_name": "HTMLModel",
     "state": {
      "_dom_classes": [],
      "_model_module": "@jupyter-widgets/controls",
      "_model_module_version": "1.5.0",
      "_model_name": "HTMLModel",
      "_view_count": null,
      "_view_module": "@jupyter-widgets/controls",
      "_view_module_version": "1.5.0",
      "_view_name": "HTMLView",
      "description": "",
      "description_tooltip": null,
      "layout": "IPY_MODEL_1a94f3ab50374ae4842bb2091693caba",
      "placeholder": "​",
      "style": "IPY_MODEL_1dbf51ee691a45999f2076051f9a1a52",
      "value": "Downloading (…)lve/main/config.json: 100%"
     }
    },
    "5034a15e17a74ba383bfa44afd9deea0": {
     "model_module": "@jupyter-widgets/base",
     "model_module_version": "1.2.0",
     "model_name": "LayoutModel",
     "state": {
      "_model_module": "@jupyter-widgets/base",
      "_model_module_version": "1.2.0",
      "_model_name": "LayoutModel",
      "_view_count": null,
      "_view_module": "@jupyter-widgets/base",
      "_view_module_version": "1.2.0",
      "_view_name": "LayoutView",
      "align_content": null,
      "align_items": null,
      "align_self": null,
      "border": null,
      "bottom": null,
      "display": null,
      "flex": null,
      "flex_flow": null,
      "grid_area": null,
      "grid_auto_columns": null,
      "grid_auto_flow": null,
      "grid_auto_rows": null,
      "grid_column": null,
      "grid_gap": null,
      "grid_row": null,
      "grid_template_areas": null,
      "grid_template_columns": null,
      "grid_template_rows": null,
      "height": null,
      "justify_content": null,
      "justify_items": null,
      "left": null,
      "margin": null,
      "max_height": null,
      "max_width": null,
      "min_height": null,
      "min_width": null,
      "object_fit": null,
      "object_position": null,
      "order": null,
      "overflow": null,
      "overflow_x": null,
      "overflow_y": null,
      "padding": null,
      "right": null,
      "top": null,
      "visibility": null,
      "width": null
     }
    },
    "50e1fd2dfd3147858d17a222423e1cf0": {
     "model_module": "@jupyter-widgets/controls",
     "model_module_version": "1.5.0",
     "model_name": "HTMLModel",
     "state": {
      "_dom_classes": [],
      "_model_module": "@jupyter-widgets/controls",
      "_model_module_version": "1.5.0",
      "_model_name": "HTMLModel",
      "_view_count": null,
      "_view_module": "@jupyter-widgets/controls",
      "_view_module_version": "1.5.0",
      "_view_name": "HTMLView",
      "description": "",
      "description_tooltip": null,
      "layout": "IPY_MODEL_1f70fcbd23c346f0a5fdf8cb040934fc",
      "placeholder": "​",
      "style": "IPY_MODEL_c5ca36795e57458faf5330d665727aad",
      "value": " 642/642 [00:00&lt;00:00, 11.4kB/s]"
     }
    },
    "534f12322ef54bf3a258a14284e96ac2": {
     "model_module": "@jupyter-widgets/controls",
     "model_module_version": "1.5.0",
     "model_name": "HBoxModel",
     "state": {
      "_dom_classes": [],
      "_model_module": "@jupyter-widgets/controls",
      "_model_module_version": "1.5.0",
      "_model_name": "HBoxModel",
      "_view_count": null,
      "_view_module": "@jupyter-widgets/controls",
      "_view_module_version": "1.5.0",
      "_view_name": "HBoxView",
      "box_style": "",
      "children": [
       "IPY_MODEL_fd0cbd5b840a40f090f1b0fc09a003c7",
       "IPY_MODEL_122dd2724e2847e3bfb070952707e125",
       "IPY_MODEL_331a75bc1001485bacc473a1489cacbe"
      ],
      "layout": "IPY_MODEL_8f30637e408f4d79b802d01ea654a8b5"
     }
    },
    "56959b17ca064b4690bad44ac97098f9": {
     "model_module": "@jupyter-widgets/controls",
     "model_module_version": "1.5.0",
     "model_name": "DescriptionStyleModel",
     "state": {
      "_model_module": "@jupyter-widgets/controls",
      "_model_module_version": "1.5.0",
      "_model_name": "DescriptionStyleModel",
      "_view_count": null,
      "_view_module": "@jupyter-widgets/base",
      "_view_module_version": "1.2.0",
      "_view_name": "StyleView",
      "description_width": ""
     }
    },
    "56b20bd1c57a467a85dfcfc9c27c226d": {
     "model_module": "@jupyter-widgets/controls",
     "model_module_version": "1.5.0",
     "model_name": "DescriptionStyleModel",
     "state": {
      "_model_module": "@jupyter-widgets/controls",
      "_model_module_version": "1.5.0",
      "_model_name": "DescriptionStyleModel",
      "_view_count": null,
      "_view_module": "@jupyter-widgets/base",
      "_view_module_version": "1.2.0",
      "_view_name": "StyleView",
      "description_width": ""
     }
    },
    "573b2e4990144267b6893a77bbe06bb4": {
     "model_module": "@jupyter-widgets/base",
     "model_module_version": "1.2.0",
     "model_name": "LayoutModel",
     "state": {
      "_model_module": "@jupyter-widgets/base",
      "_model_module_version": "1.2.0",
      "_model_name": "LayoutModel",
      "_view_count": null,
      "_view_module": "@jupyter-widgets/base",
      "_view_module_version": "1.2.0",
      "_view_name": "LayoutView",
      "align_content": null,
      "align_items": null,
      "align_self": null,
      "border": null,
      "bottom": null,
      "display": null,
      "flex": null,
      "flex_flow": null,
      "grid_area": null,
      "grid_auto_columns": null,
      "grid_auto_flow": null,
      "grid_auto_rows": null,
      "grid_column": null,
      "grid_gap": null,
      "grid_row": null,
      "grid_template_areas": null,
      "grid_template_columns": null,
      "grid_template_rows": null,
      "height": null,
      "justify_content": null,
      "justify_items": null,
      "left": null,
      "margin": null,
      "max_height": null,
      "max_width": null,
      "min_height": null,
      "min_width": null,
      "object_fit": null,
      "object_position": null,
      "order": null,
      "overflow": null,
      "overflow_x": null,
      "overflow_y": null,
      "padding": null,
      "right": null,
      "top": null,
      "visibility": null,
      "width": null
     }
    },
    "5e1fb00b64664e5fb76f6711ab69bb59": {
     "model_module": "@jupyter-widgets/controls",
     "model_module_version": "1.5.0",
     "model_name": "ProgressStyleModel",
     "state": {
      "_model_module": "@jupyter-widgets/controls",
      "_model_module_version": "1.5.0",
      "_model_name": "ProgressStyleModel",
      "_view_count": null,
      "_view_module": "@jupyter-widgets/base",
      "_view_module_version": "1.2.0",
      "_view_name": "StyleView",
      "bar_color": null,
      "description_width": ""
     }
    },
    "5fba7b449eb24b80b3f28fcdd45b835f": {
     "model_module": "@jupyter-widgets/base",
     "model_module_version": "1.2.0",
     "model_name": "LayoutModel",
     "state": {
      "_model_module": "@jupyter-widgets/base",
      "_model_module_version": "1.2.0",
      "_model_name": "LayoutModel",
      "_view_count": null,
      "_view_module": "@jupyter-widgets/base",
      "_view_module_version": "1.2.0",
      "_view_name": "LayoutView",
      "align_content": null,
      "align_items": null,
      "align_self": null,
      "border": null,
      "bottom": null,
      "display": null,
      "flex": null,
      "flex_flow": null,
      "grid_area": null,
      "grid_auto_columns": null,
      "grid_auto_flow": null,
      "grid_auto_rows": null,
      "grid_column": null,
      "grid_gap": null,
      "grid_row": null,
      "grid_template_areas": null,
      "grid_template_columns": null,
      "grid_template_rows": null,
      "height": null,
      "justify_content": null,
      "justify_items": null,
      "left": null,
      "margin": null,
      "max_height": null,
      "max_width": null,
      "min_height": null,
      "min_width": null,
      "object_fit": null,
      "object_position": null,
      "order": null,
      "overflow": null,
      "overflow_x": null,
      "overflow_y": null,
      "padding": null,
      "right": null,
      "top": null,
      "visibility": null,
      "width": null
     }
    },
    "6338c857236240d98267f19b74ed5f42": {
     "model_module": "@jupyter-widgets/controls",
     "model_module_version": "1.5.0",
     "model_name": "DescriptionStyleModel",
     "state": {
      "_model_module": "@jupyter-widgets/controls",
      "_model_module_version": "1.5.0",
      "_model_name": "DescriptionStyleModel",
      "_view_count": null,
      "_view_module": "@jupyter-widgets/base",
      "_view_module_version": "1.2.0",
      "_view_name": "StyleView",
      "description_width": ""
     }
    },
    "64a15716033d4831bd3b43318810a050": {
     "model_module": "@jupyter-widgets/controls",
     "model_module_version": "1.5.0",
     "model_name": "DescriptionStyleModel",
     "state": {
      "_model_module": "@jupyter-widgets/controls",
      "_model_module_version": "1.5.0",
      "_model_name": "DescriptionStyleModel",
      "_view_count": null,
      "_view_module": "@jupyter-widgets/base",
      "_view_module_version": "1.2.0",
      "_view_name": "StyleView",
      "description_width": ""
     }
    },
    "67b9dba6a2c640ccb5c2fefb709183cb": {
     "model_module": "@jupyter-widgets/controls",
     "model_module_version": "1.5.0",
     "model_name": "DescriptionStyleModel",
     "state": {
      "_model_module": "@jupyter-widgets/controls",
      "_model_module_version": "1.5.0",
      "_model_name": "DescriptionStyleModel",
      "_view_count": null,
      "_view_module": "@jupyter-widgets/base",
      "_view_module_version": "1.2.0",
      "_view_name": "StyleView",
      "description_width": ""
     }
    },
    "6d5f89f21b3249ecba45da965f203e5d": {
     "model_module": "@jupyter-widgets/controls",
     "model_module_version": "1.5.0",
     "model_name": "HTMLModel",
     "state": {
      "_dom_classes": [],
      "_model_module": "@jupyter-widgets/controls",
      "_model_module_version": "1.5.0",
      "_model_name": "HTMLModel",
      "_view_count": null,
      "_view_module": "@jupyter-widgets/controls",
      "_view_module_version": "1.5.0",
      "_view_name": "HTMLView",
      "description": "",
      "description_tooltip": null,
      "layout": "IPY_MODEL_03fb9c4bdd1149a09ece29ff9c5442dc",
      "placeholder": "​",
      "style": "IPY_MODEL_ae3c449f254e4b41bac796cdbc975714",
      "value": " 433/433 [00:00&lt;00:00, 8.47kB/s]"
     }
    },
    "6d8d13895bb94ef4a6ce82febef32bdb": {
     "model_module": "@jupyter-widgets/controls",
     "model_module_version": "1.5.0",
     "model_name": "ProgressStyleModel",
     "state": {
      "_model_module": "@jupyter-widgets/controls",
      "_model_module_version": "1.5.0",
      "_model_name": "ProgressStyleModel",
      "_view_count": null,
      "_view_module": "@jupyter-widgets/base",
      "_view_module_version": "1.2.0",
      "_view_name": "StyleView",
      "bar_color": null,
      "description_width": ""
     }
    },
    "7591c5a935244ac6924ab0bfe49c23c5": {
     "model_module": "@jupyter-widgets/base",
     "model_module_version": "1.2.0",
     "model_name": "LayoutModel",
     "state": {
      "_model_module": "@jupyter-widgets/base",
      "_model_module_version": "1.2.0",
      "_model_name": "LayoutModel",
      "_view_count": null,
      "_view_module": "@jupyter-widgets/base",
      "_view_module_version": "1.2.0",
      "_view_name": "LayoutView",
      "align_content": null,
      "align_items": null,
      "align_self": null,
      "border": null,
      "bottom": null,
      "display": null,
      "flex": null,
      "flex_flow": null,
      "grid_area": null,
      "grid_auto_columns": null,
      "grid_auto_flow": null,
      "grid_auto_rows": null,
      "grid_column": null,
      "grid_gap": null,
      "grid_row": null,
      "grid_template_areas": null,
      "grid_template_columns": null,
      "grid_template_rows": null,
      "height": null,
      "justify_content": null,
      "justify_items": null,
      "left": null,
      "margin": null,
      "max_height": null,
      "max_width": null,
      "min_height": null,
      "min_width": null,
      "object_fit": null,
      "object_position": null,
      "order": null,
      "overflow": null,
      "overflow_x": null,
      "overflow_y": null,
      "padding": null,
      "right": null,
      "top": null,
      "visibility": null,
      "width": null
     }
    },
    "76d8689c694c4ab3b301380a627716f9": {
     "model_module": "@jupyter-widgets/controls",
     "model_module_version": "1.5.0",
     "model_name": "DescriptionStyleModel",
     "state": {
      "_model_module": "@jupyter-widgets/controls",
      "_model_module_version": "1.5.0",
      "_model_name": "DescriptionStyleModel",
      "_view_count": null,
      "_view_module": "@jupyter-widgets/base",
      "_view_module_version": "1.2.0",
      "_view_name": "StyleView",
      "description_width": ""
     }
    },
    "7752183c1da1403497531948be2a63a8": {
     "model_module": "@jupyter-widgets/controls",
     "model_module_version": "1.5.0",
     "model_name": "HBoxModel",
     "state": {
      "_dom_classes": [],
      "_model_module": "@jupyter-widgets/controls",
      "_model_module_version": "1.5.0",
      "_model_name": "HBoxModel",
      "_view_count": null,
      "_view_module": "@jupyter-widgets/controls",
      "_view_module_version": "1.5.0",
      "_view_name": "HBoxView",
      "box_style": "",
      "children": [
       "IPY_MODEL_b724fdca41054e959cdba99221f6eff0",
       "IPY_MODEL_bcbcdf68115e4e0b93d7eb74ab432b56",
       "IPY_MODEL_50e1fd2dfd3147858d17a222423e1cf0"
      ],
      "layout": "IPY_MODEL_f107c0b5ccbb483e8ae38dc9a3216901"
     }
    },
    "78328f10bc3e425fabbbc6bc3ce9c250": {
     "model_module": "@jupyter-widgets/base",
     "model_module_version": "1.2.0",
     "model_name": "LayoutModel",
     "state": {
      "_model_module": "@jupyter-widgets/base",
      "_model_module_version": "1.2.0",
      "_model_name": "LayoutModel",
      "_view_count": null,
      "_view_module": "@jupyter-widgets/base",
      "_view_module_version": "1.2.0",
      "_view_name": "LayoutView",
      "align_content": null,
      "align_items": null,
      "align_self": null,
      "border": null,
      "bottom": null,
      "display": null,
      "flex": null,
      "flex_flow": null,
      "grid_area": null,
      "grid_auto_columns": null,
      "grid_auto_flow": null,
      "grid_auto_rows": null,
      "grid_column": null,
      "grid_gap": null,
      "grid_row": null,
      "grid_template_areas": null,
      "grid_template_columns": null,
      "grid_template_rows": null,
      "height": null,
      "justify_content": null,
      "justify_items": null,
      "left": null,
      "margin": null,
      "max_height": null,
      "max_width": null,
      "min_height": null,
      "min_width": null,
      "object_fit": null,
      "object_position": null,
      "order": null,
      "overflow": null,
      "overflow_x": null,
      "overflow_y": null,
      "padding": null,
      "right": null,
      "top": null,
      "visibility": null,
      "width": null
     }
    },
    "7a54356e19bc4927aa228ecafc9e1e09": {
     "model_module": "@jupyter-widgets/base",
     "model_module_version": "1.2.0",
     "model_name": "LayoutModel",
     "state": {
      "_model_module": "@jupyter-widgets/base",
      "_model_module_version": "1.2.0",
      "_model_name": "LayoutModel",
      "_view_count": null,
      "_view_module": "@jupyter-widgets/base",
      "_view_module_version": "1.2.0",
      "_view_name": "LayoutView",
      "align_content": null,
      "align_items": null,
      "align_self": null,
      "border": null,
      "bottom": null,
      "display": null,
      "flex": null,
      "flex_flow": null,
      "grid_area": null,
      "grid_auto_columns": null,
      "grid_auto_flow": null,
      "grid_auto_rows": null,
      "grid_column": null,
      "grid_gap": null,
      "grid_row": null,
      "grid_template_areas": null,
      "grid_template_columns": null,
      "grid_template_rows": null,
      "height": null,
      "justify_content": null,
      "justify_items": null,
      "left": null,
      "margin": null,
      "max_height": null,
      "max_width": null,
      "min_height": null,
      "min_width": null,
      "object_fit": null,
      "object_position": null,
      "order": null,
      "overflow": null,
      "overflow_x": null,
      "overflow_y": null,
      "padding": null,
      "right": null,
      "top": null,
      "visibility": null,
      "width": null
     }
    },
    "7b41bb38f1d444f3a9754920d6cae370": {
     "model_module": "@jupyter-widgets/base",
     "model_module_version": "1.2.0",
     "model_name": "LayoutModel",
     "state": {
      "_model_module": "@jupyter-widgets/base",
      "_model_module_version": "1.2.0",
      "_model_name": "LayoutModel",
      "_view_count": null,
      "_view_module": "@jupyter-widgets/base",
      "_view_module_version": "1.2.0",
      "_view_name": "LayoutView",
      "align_content": null,
      "align_items": null,
      "align_self": null,
      "border": null,
      "bottom": null,
      "display": null,
      "flex": null,
      "flex_flow": null,
      "grid_area": null,
      "grid_auto_columns": null,
      "grid_auto_flow": null,
      "grid_auto_rows": null,
      "grid_column": null,
      "grid_gap": null,
      "grid_row": null,
      "grid_template_areas": null,
      "grid_template_columns": null,
      "grid_template_rows": null,
      "height": null,
      "justify_content": null,
      "justify_items": null,
      "left": null,
      "margin": null,
      "max_height": null,
      "max_width": null,
      "min_height": null,
      "min_width": null,
      "object_fit": null,
      "object_position": null,
      "order": null,
      "overflow": null,
      "overflow_x": null,
      "overflow_y": null,
      "padding": null,
      "right": null,
      "top": null,
      "visibility": null,
      "width": null
     }
    },
    "7d78d9f37d764535819f06bb3e387e1d": {
     "model_module": "@jupyter-widgets/base",
     "model_module_version": "1.2.0",
     "model_name": "LayoutModel",
     "state": {
      "_model_module": "@jupyter-widgets/base",
      "_model_module_version": "1.2.0",
      "_model_name": "LayoutModel",
      "_view_count": null,
      "_view_module": "@jupyter-widgets/base",
      "_view_module_version": "1.2.0",
      "_view_name": "LayoutView",
      "align_content": null,
      "align_items": null,
      "align_self": null,
      "border": null,
      "bottom": null,
      "display": null,
      "flex": null,
      "flex_flow": null,
      "grid_area": null,
      "grid_auto_columns": null,
      "grid_auto_flow": null,
      "grid_auto_rows": null,
      "grid_column": null,
      "grid_gap": null,
      "grid_row": null,
      "grid_template_areas": null,
      "grid_template_columns": null,
      "grid_template_rows": null,
      "height": null,
      "justify_content": null,
      "justify_items": null,
      "left": null,
      "margin": null,
      "max_height": null,
      "max_width": null,
      "min_height": null,
      "min_width": null,
      "object_fit": null,
      "object_position": null,
      "order": null,
      "overflow": null,
      "overflow_x": null,
      "overflow_y": null,
      "padding": null,
      "right": null,
      "top": null,
      "visibility": null,
      "width": null
     }
    },
    "7ec2af3336194beb91403d8e99301a8d": {
     "model_module": "@jupyter-widgets/base",
     "model_module_version": "1.2.0",
     "model_name": "LayoutModel",
     "state": {
      "_model_module": "@jupyter-widgets/base",
      "_model_module_version": "1.2.0",
      "_model_name": "LayoutModel",
      "_view_count": null,
      "_view_module": "@jupyter-widgets/base",
      "_view_module_version": "1.2.0",
      "_view_name": "LayoutView",
      "align_content": null,
      "align_items": null,
      "align_self": null,
      "border": null,
      "bottom": null,
      "display": null,
      "flex": null,
      "flex_flow": null,
      "grid_area": null,
      "grid_auto_columns": null,
      "grid_auto_flow": null,
      "grid_auto_rows": null,
      "grid_column": null,
      "grid_gap": null,
      "grid_row": null,
      "grid_template_areas": null,
      "grid_template_columns": null,
      "grid_template_rows": null,
      "height": null,
      "justify_content": null,
      "justify_items": null,
      "left": null,
      "margin": null,
      "max_height": null,
      "max_width": null,
      "min_height": null,
      "min_width": null,
      "object_fit": null,
      "object_position": null,
      "order": null,
      "overflow": null,
      "overflow_x": null,
      "overflow_y": null,
      "padding": null,
      "right": null,
      "top": null,
      "visibility": null,
      "width": null
     }
    },
    "88941c329d5646a6a4582925a89c8b53": {
     "model_module": "@jupyter-widgets/base",
     "model_module_version": "1.2.0",
     "model_name": "LayoutModel",
     "state": {
      "_model_module": "@jupyter-widgets/base",
      "_model_module_version": "1.2.0",
      "_model_name": "LayoutModel",
      "_view_count": null,
      "_view_module": "@jupyter-widgets/base",
      "_view_module_version": "1.2.0",
      "_view_name": "LayoutView",
      "align_content": null,
      "align_items": null,
      "align_self": null,
      "border": null,
      "bottom": null,
      "display": null,
      "flex": null,
      "flex_flow": null,
      "grid_area": null,
      "grid_auto_columns": null,
      "grid_auto_flow": null,
      "grid_auto_rows": null,
      "grid_column": null,
      "grid_gap": null,
      "grid_row": null,
      "grid_template_areas": null,
      "grid_template_columns": null,
      "grid_template_rows": null,
      "height": null,
      "justify_content": null,
      "justify_items": null,
      "left": null,
      "margin": null,
      "max_height": null,
      "max_width": null,
      "min_height": null,
      "min_width": null,
      "object_fit": null,
      "object_position": null,
      "order": null,
      "overflow": null,
      "overflow_x": null,
      "overflow_y": null,
      "padding": null,
      "right": null,
      "top": null,
      "visibility": null,
      "width": null
     }
    },
    "8b604a99f60b4cae93e283d3788e5600": {
     "model_module": "@jupyter-widgets/controls",
     "model_module_version": "1.5.0",
     "model_name": "DescriptionStyleModel",
     "state": {
      "_model_module": "@jupyter-widgets/controls",
      "_model_module_version": "1.5.0",
      "_model_name": "DescriptionStyleModel",
      "_view_count": null,
      "_view_module": "@jupyter-widgets/base",
      "_view_module_version": "1.2.0",
      "_view_name": "StyleView",
      "description_width": ""
     }
    },
    "8b86ee1c77c84e9ab89d0c8e9d64e670": {
     "model_module": "@jupyter-widgets/controls",
     "model_module_version": "1.5.0",
     "model_name": "ProgressStyleModel",
     "state": {
      "_model_module": "@jupyter-widgets/controls",
      "_model_module_version": "1.5.0",
      "_model_name": "ProgressStyleModel",
      "_view_count": null,
      "_view_module": "@jupyter-widgets/base",
      "_view_module_version": "1.2.0",
      "_view_name": "StyleView",
      "bar_color": null,
      "description_width": ""
     }
    },
    "8bcdd3ebf3db4058873ee6b65dec8452": {
     "model_module": "@jupyter-widgets/controls",
     "model_module_version": "1.5.0",
     "model_name": "DescriptionStyleModel",
     "state": {
      "_model_module": "@jupyter-widgets/controls",
      "_model_module_version": "1.5.0",
      "_model_name": "DescriptionStyleModel",
      "_view_count": null,
      "_view_module": "@jupyter-widgets/base",
      "_view_module_version": "1.2.0",
      "_view_name": "StyleView",
      "description_width": ""
     }
    },
    "8c89038e700c40318573495c76612656": {
     "model_module": "@jupyter-widgets/controls",
     "model_module_version": "1.5.0",
     "model_name": "FloatProgressModel",
     "state": {
      "_dom_classes": [],
      "_model_module": "@jupyter-widgets/controls",
      "_model_module_version": "1.5.0",
      "_model_name": "FloatProgressModel",
      "_view_count": null,
      "_view_module": "@jupyter-widgets/controls",
      "_view_module_version": "1.5.0",
      "_view_name": "ProgressView",
      "bar_style": "success",
      "description": "",
      "description_tooltip": null,
      "layout": "IPY_MODEL_bb7e4e9f114e4a63b946a97f5d05563f",
      "max": 29,
      "min": 0,
      "orientation": "horizontal",
      "style": "IPY_MODEL_8b86ee1c77c84e9ab89d0c8e9d64e670",
      "value": 29
     }
    },
    "8f30637e408f4d79b802d01ea654a8b5": {
     "model_module": "@jupyter-widgets/base",
     "model_module_version": "1.2.0",
     "model_name": "LayoutModel",
     "state": {
      "_model_module": "@jupyter-widgets/base",
      "_model_module_version": "1.2.0",
      "_model_name": "LayoutModel",
      "_view_count": null,
      "_view_module": "@jupyter-widgets/base",
      "_view_module_version": "1.2.0",
      "_view_name": "LayoutView",
      "align_content": null,
      "align_items": null,
      "align_self": null,
      "border": null,
      "bottom": null,
      "display": null,
      "flex": null,
      "flex_flow": null,
      "grid_area": null,
      "grid_auto_columns": null,
      "grid_auto_flow": null,
      "grid_auto_rows": null,
      "grid_column": null,
      "grid_gap": null,
      "grid_row": null,
      "grid_template_areas": null,
      "grid_template_columns": null,
      "grid_template_rows": null,
      "height": null,
      "justify_content": null,
      "justify_items": null,
      "left": null,
      "margin": null,
      "max_height": null,
      "max_width": null,
      "min_height": null,
      "min_width": null,
      "object_fit": null,
      "object_position": null,
      "order": null,
      "overflow": null,
      "overflow_x": null,
      "overflow_y": null,
      "padding": null,
      "right": null,
      "top": null,
      "visibility": null,
      "width": null
     }
    },
    "9042e07f736748aeb60aa7ab16ea0b3e": {
     "model_module": "@jupyter-widgets/controls",
     "model_module_version": "1.5.0",
     "model_name": "HTMLModel",
     "state": {
      "_dom_classes": [],
      "_model_module": "@jupyter-widgets/controls",
      "_model_module_version": "1.5.0",
      "_model_name": "HTMLModel",
      "_view_count": null,
      "_view_module": "@jupyter-widgets/controls",
      "_view_module_version": "1.5.0",
      "_view_name": "HTMLView",
      "description": "",
      "description_tooltip": null,
      "layout": "IPY_MODEL_573b2e4990144267b6893a77bbe06bb4",
      "placeholder": "​",
      "style": "IPY_MODEL_ef66137f0cd84a9594876f9782ca688c",
      "value": "Downloading pytorch_model.bin: 100%"
     }
    },
    "931dedbd84e2409fa117ac929f42f61f": {
     "model_module": "@jupyter-widgets/controls",
     "model_module_version": "1.5.0",
     "model_name": "FloatProgressModel",
     "state": {
      "_dom_classes": [],
      "_model_module": "@jupyter-widgets/controls",
      "_model_module_version": "1.5.0",
      "_model_name": "FloatProgressModel",
      "_view_count": null,
      "_view_module": "@jupyter-widgets/controls",
      "_view_module_version": "1.5.0",
      "_view_name": "ProgressView",
      "bar_style": "success",
      "description": "",
      "description_tooltip": null,
      "layout": "IPY_MODEL_c0af8bc4fa2442c88b512de224ecbf58",
      "max": 433,
      "min": 0,
      "orientation": "horizontal",
      "style": "IPY_MODEL_a1a388b331884e77a4e0fb5e96cacc2b",
      "value": 433
     }
    },
    "95a7adf7db55460498067f6516ab5722": {
     "model_module": "@jupyter-widgets/controls",
     "model_module_version": "1.5.0",
     "model_name": "ProgressStyleModel",
     "state": {
      "_model_module": "@jupyter-widgets/controls",
      "_model_module_version": "1.5.0",
      "_model_name": "ProgressStyleModel",
      "_view_count": null,
      "_view_module": "@jupyter-widgets/base",
      "_view_module_version": "1.2.0",
      "_view_name": "StyleView",
      "bar_color": null,
      "description_width": ""
     }
    },
    "99af5efd95f74d9aaf12b88a703ba98d": {
     "model_module": "@jupyter-widgets/base",
     "model_module_version": "1.2.0",
     "model_name": "LayoutModel",
     "state": {
      "_model_module": "@jupyter-widgets/base",
      "_model_module_version": "1.2.0",
      "_model_name": "LayoutModel",
      "_view_count": null,
      "_view_module": "@jupyter-widgets/base",
      "_view_module_version": "1.2.0",
      "_view_name": "LayoutView",
      "align_content": null,
      "align_items": null,
      "align_self": null,
      "border": null,
      "bottom": null,
      "display": null,
      "flex": null,
      "flex_flow": null,
      "grid_area": null,
      "grid_auto_columns": null,
      "grid_auto_flow": null,
      "grid_auto_rows": null,
      "grid_column": null,
      "grid_gap": null,
      "grid_row": null,
      "grid_template_areas": null,
      "grid_template_columns": null,
      "grid_template_rows": null,
      "height": null,
      "justify_content": null,
      "justify_items": null,
      "left": null,
      "margin": null,
      "max_height": null,
      "max_width": null,
      "min_height": null,
      "min_width": null,
      "object_fit": null,
      "object_position": null,
      "order": null,
      "overflow": null,
      "overflow_x": null,
      "overflow_y": null,
      "padding": null,
      "right": null,
      "top": null,
      "visibility": null,
      "width": null
     }
    },
    "9acb276a52cf42d69592be7c3a9f1b18": {
     "model_module": "@jupyter-widgets/controls",
     "model_module_version": "1.5.0",
     "model_name": "DescriptionStyleModel",
     "state": {
      "_model_module": "@jupyter-widgets/controls",
      "_model_module_version": "1.5.0",
      "_model_name": "DescriptionStyleModel",
      "_view_count": null,
      "_view_module": "@jupyter-widgets/base",
      "_view_module_version": "1.2.0",
      "_view_name": "StyleView",
      "description_width": ""
     }
    },
    "9ae1c736378a48a89e171e870801bcb6": {
     "model_module": "@jupyter-widgets/controls",
     "model_module_version": "1.5.0",
     "model_name": "ProgressStyleModel",
     "state": {
      "_model_module": "@jupyter-widgets/controls",
      "_model_module_version": "1.5.0",
      "_model_name": "ProgressStyleModel",
      "_view_count": null,
      "_view_module": "@jupyter-widgets/base",
      "_view_module_version": "1.2.0",
      "_view_name": "StyleView",
      "bar_color": null,
      "description_width": ""
     }
    },
    "9b66b70cefeb4c3b883c1a98f5a8f614": {
     "model_module": "@jupyter-widgets/controls",
     "model_module_version": "1.5.0",
     "model_name": "HTMLModel",
     "state": {
      "_dom_classes": [],
      "_model_module": "@jupyter-widgets/controls",
      "_model_module_version": "1.5.0",
      "_model_name": "HTMLModel",
      "_view_count": null,
      "_view_module": "@jupyter-widgets/controls",
      "_view_module_version": "1.5.0",
      "_view_name": "HTMLView",
      "description": "",
      "description_tooltip": null,
      "layout": "IPY_MODEL_f62a97a4084045c39b6ce78f43cffd83",
      "placeholder": "​",
      "style": "IPY_MODEL_67b9dba6a2c640ccb5c2fefb709183cb",
      "value": "Downloading (…)okenizer_config.json: 100%"
     }
    },
    "9d95ce2e0fa94aee94f3a30bdab95cb1": {
     "model_module": "@jupyter-widgets/base",
     "model_module_version": "1.2.0",
     "model_name": "LayoutModel",
     "state": {
      "_model_module": "@jupyter-widgets/base",
      "_model_module_version": "1.2.0",
      "_model_name": "LayoutModel",
      "_view_count": null,
      "_view_module": "@jupyter-widgets/base",
      "_view_module_version": "1.2.0",
      "_view_name": "LayoutView",
      "align_content": null,
      "align_items": null,
      "align_self": null,
      "border": null,
      "bottom": null,
      "display": null,
      "flex": null,
      "flex_flow": null,
      "grid_area": null,
      "grid_auto_columns": null,
      "grid_auto_flow": null,
      "grid_auto_rows": null,
      "grid_column": null,
      "grid_gap": null,
      "grid_row": null,
      "grid_template_areas": null,
      "grid_template_columns": null,
      "grid_template_rows": null,
      "height": null,
      "justify_content": null,
      "justify_items": null,
      "left": null,
      "margin": null,
      "max_height": null,
      "max_width": null,
      "min_height": null,
      "min_width": null,
      "object_fit": null,
      "object_position": null,
      "order": null,
      "overflow": null,
      "overflow_x": null,
      "overflow_y": null,
      "padding": null,
      "right": null,
      "top": null,
      "visibility": null,
      "width": null
     }
    },
    "a01d20021cd44e889626bb73b0e3f2c4": {
     "model_module": "@jupyter-widgets/base",
     "model_module_version": "1.2.0",
     "model_name": "LayoutModel",
     "state": {
      "_model_module": "@jupyter-widgets/base",
      "_model_module_version": "1.2.0",
      "_model_name": "LayoutModel",
      "_view_count": null,
      "_view_module": "@jupyter-widgets/base",
      "_view_module_version": "1.2.0",
      "_view_name": "LayoutView",
      "align_content": null,
      "align_items": null,
      "align_self": null,
      "border": null,
      "bottom": null,
      "display": null,
      "flex": null,
      "flex_flow": null,
      "grid_area": null,
      "grid_auto_columns": null,
      "grid_auto_flow": null,
      "grid_auto_rows": null,
      "grid_column": null,
      "grid_gap": null,
      "grid_row": null,
      "grid_template_areas": null,
      "grid_template_columns": null,
      "grid_template_rows": null,
      "height": null,
      "justify_content": null,
      "justify_items": null,
      "left": null,
      "margin": null,
      "max_height": null,
      "max_width": null,
      "min_height": null,
      "min_width": null,
      "object_fit": null,
      "object_position": null,
      "order": null,
      "overflow": null,
      "overflow_x": null,
      "overflow_y": null,
      "padding": null,
      "right": null,
      "top": null,
      "visibility": null,
      "width": null
     }
    },
    "a11c39b4912041efa2176f7c0d3b72a5": {
     "model_module": "@jupyter-widgets/controls",
     "model_module_version": "1.5.0",
     "model_name": "ProgressStyleModel",
     "state": {
      "_model_module": "@jupyter-widgets/controls",
      "_model_module_version": "1.5.0",
      "_model_name": "ProgressStyleModel",
      "_view_count": null,
      "_view_module": "@jupyter-widgets/base",
      "_view_module_version": "1.2.0",
      "_view_name": "StyleView",
      "bar_color": null,
      "description_width": ""
     }
    },
    "a1a388b331884e77a4e0fb5e96cacc2b": {
     "model_module": "@jupyter-widgets/controls",
     "model_module_version": "1.5.0",
     "model_name": "ProgressStyleModel",
     "state": {
      "_model_module": "@jupyter-widgets/controls",
      "_model_module_version": "1.5.0",
      "_model_name": "ProgressStyleModel",
      "_view_count": null,
      "_view_module": "@jupyter-widgets/base",
      "_view_module_version": "1.2.0",
      "_view_name": "StyleView",
      "bar_color": null,
      "description_width": ""
     }
    },
    "a3d9897673aa414a91eff716b1700497": {
     "model_module": "@jupyter-widgets/base",
     "model_module_version": "1.2.0",
     "model_name": "LayoutModel",
     "state": {
      "_model_module": "@jupyter-widgets/base",
      "_model_module_version": "1.2.0",
      "_model_name": "LayoutModel",
      "_view_count": null,
      "_view_module": "@jupyter-widgets/base",
      "_view_module_version": "1.2.0",
      "_view_name": "LayoutView",
      "align_content": null,
      "align_items": null,
      "align_self": null,
      "border": null,
      "bottom": null,
      "display": null,
      "flex": null,
      "flex_flow": null,
      "grid_area": null,
      "grid_auto_columns": null,
      "grid_auto_flow": null,
      "grid_auto_rows": null,
      "grid_column": null,
      "grid_gap": null,
      "grid_row": null,
      "grid_template_areas": null,
      "grid_template_columns": null,
      "grid_template_rows": null,
      "height": null,
      "justify_content": null,
      "justify_items": null,
      "left": null,
      "margin": null,
      "max_height": null,
      "max_width": null,
      "min_height": null,
      "min_width": null,
      "object_fit": null,
      "object_position": null,
      "order": null,
      "overflow": null,
      "overflow_x": null,
      "overflow_y": null,
      "padding": null,
      "right": null,
      "top": null,
      "visibility": null,
      "width": null
     }
    },
    "a78507a63e4a48deaff3b85d5586f50e": {
     "model_module": "@jupyter-widgets/controls",
     "model_module_version": "1.5.0",
     "model_name": "HTMLModel",
     "state": {
      "_dom_classes": [],
      "_model_module": "@jupyter-widgets/controls",
      "_model_module_version": "1.5.0",
      "_model_name": "HTMLModel",
      "_view_count": null,
      "_view_module": "@jupyter-widgets/controls",
      "_view_module_version": "1.5.0",
      "_view_name": "HTMLView",
      "description": "",
      "description_tooltip": null,
      "layout": "IPY_MODEL_e93dd6201b0e413fae15848bbed51eaa",
      "placeholder": "​",
      "style": "IPY_MODEL_077f282fca3d45beb6ed29159adfc75a",
      "value": "Downloading model.safetensors: 100%"
     }
    },
    "aacc4af3950b437583145ae90c6fda3d": {
     "model_module": "@jupyter-widgets/controls",
     "model_module_version": "1.5.0",
     "model_name": "DescriptionStyleModel",
     "state": {
      "_model_module": "@jupyter-widgets/controls",
      "_model_module_version": "1.5.0",
      "_model_name": "DescriptionStyleModel",
      "_view_count": null,
      "_view_module": "@jupyter-widgets/base",
      "_view_module_version": "1.2.0",
      "_view_name": "StyleView",
      "description_width": ""
     }
    },
    "ae3c449f254e4b41bac796cdbc975714": {
     "model_module": "@jupyter-widgets/controls",
     "model_module_version": "1.5.0",
     "model_name": "DescriptionStyleModel",
     "state": {
      "_model_module": "@jupyter-widgets/controls",
      "_model_module_version": "1.5.0",
      "_model_name": "DescriptionStyleModel",
      "_view_count": null,
      "_view_module": "@jupyter-widgets/base",
      "_view_module_version": "1.2.0",
      "_view_name": "StyleView",
      "description_width": ""
     }
    },
    "b1f5ed23510c42a687a119ae7d165dc8": {
     "model_module": "@jupyter-widgets/controls",
     "model_module_version": "1.5.0",
     "model_name": "HTMLModel",
     "state": {
      "_dom_classes": [],
      "_model_module": "@jupyter-widgets/controls",
      "_model_module_version": "1.5.0",
      "_model_name": "HTMLModel",
      "_view_count": null,
      "_view_module": "@jupyter-widgets/controls",
      "_view_module_version": "1.5.0",
      "_view_name": "HTMLView",
      "description": "",
      "description_tooltip": null,
      "layout": "IPY_MODEL_88941c329d5646a6a4582925a89c8b53",
      "placeholder": "​",
      "style": "IPY_MODEL_29c5586329fe4705b381e0d43bf8a8dd",
      "value": " 29.0/29.0 [00:00&lt;00:00, 557B/s]"
     }
    },
    "b246282faec8493e84c54318f135581d": {
     "model_module": "@jupyter-widgets/base",
     "model_module_version": "1.2.0",
     "model_name": "LayoutModel",
     "state": {
      "_model_module": "@jupyter-widgets/base",
      "_model_module_version": "1.2.0",
      "_model_name": "LayoutModel",
      "_view_count": null,
      "_view_module": "@jupyter-widgets/base",
      "_view_module_version": "1.2.0",
      "_view_name": "LayoutView",
      "align_content": null,
      "align_items": null,
      "align_self": null,
      "border": null,
      "bottom": null,
      "display": null,
      "flex": null,
      "flex_flow": null,
      "grid_area": null,
      "grid_auto_columns": null,
      "grid_auto_flow": null,
      "grid_auto_rows": null,
      "grid_column": null,
      "grid_gap": null,
      "grid_row": null,
      "grid_template_areas": null,
      "grid_template_columns": null,
      "grid_template_rows": null,
      "height": null,
      "justify_content": null,
      "justify_items": null,
      "left": null,
      "margin": null,
      "max_height": null,
      "max_width": null,
      "min_height": null,
      "min_width": null,
      "object_fit": null,
      "object_position": null,
      "order": null,
      "overflow": null,
      "overflow_x": null,
      "overflow_y": null,
      "padding": null,
      "right": null,
      "top": null,
      "visibility": null,
      "width": null
     }
    },
    "b32ed3e039f149899ec5268b0bf826fd": {
     "model_module": "@jupyter-widgets/base",
     "model_module_version": "1.2.0",
     "model_name": "LayoutModel",
     "state": {
      "_model_module": "@jupyter-widgets/base",
      "_model_module_version": "1.2.0",
      "_model_name": "LayoutModel",
      "_view_count": null,
      "_view_module": "@jupyter-widgets/base",
      "_view_module_version": "1.2.0",
      "_view_name": "LayoutView",
      "align_content": null,
      "align_items": null,
      "align_self": null,
      "border": null,
      "bottom": null,
      "display": null,
      "flex": null,
      "flex_flow": null,
      "grid_area": null,
      "grid_auto_columns": null,
      "grid_auto_flow": null,
      "grid_auto_rows": null,
      "grid_column": null,
      "grid_gap": null,
      "grid_row": null,
      "grid_template_areas": null,
      "grid_template_columns": null,
      "grid_template_rows": null,
      "height": null,
      "justify_content": null,
      "justify_items": null,
      "left": null,
      "margin": null,
      "max_height": null,
      "max_width": null,
      "min_height": null,
      "min_width": null,
      "object_fit": null,
      "object_position": null,
      "order": null,
      "overflow": null,
      "overflow_x": null,
      "overflow_y": null,
      "padding": null,
      "right": null,
      "top": null,
      "visibility": null,
      "width": null
     }
    },
    "b344deee93994912a8f52b73022230fe": {
     "model_module": "@jupyter-widgets/controls",
     "model_module_version": "1.5.0",
     "model_name": "ProgressStyleModel",
     "state": {
      "_model_module": "@jupyter-widgets/controls",
      "_model_module_version": "1.5.0",
      "_model_name": "ProgressStyleModel",
      "_view_count": null,
      "_view_module": "@jupyter-widgets/base",
      "_view_module_version": "1.2.0",
      "_view_name": "StyleView",
      "bar_color": null,
      "description_width": ""
     }
    },
    "b446ea7194bf46bebd7b141ac817adcd": {
     "model_module": "@jupyter-widgets/controls",
     "model_module_version": "1.5.0",
     "model_name": "HBoxModel",
     "state": {
      "_dom_classes": [],
      "_model_module": "@jupyter-widgets/controls",
      "_model_module_version": "1.5.0",
      "_model_name": "HBoxModel",
      "_view_count": null,
      "_view_module": "@jupyter-widgets/controls",
      "_view_module_version": "1.5.0",
      "_view_name": "HBoxView",
      "box_style": "",
      "children": [
       "IPY_MODEL_9042e07f736748aeb60aa7ab16ea0b3e",
       "IPY_MODEL_2090f3e522f9485482c92cc330db1330",
       "IPY_MODEL_c5f4e6d3d1eb420d98cca0e6d9a330c2"
      ],
      "layout": "IPY_MODEL_1303c16a82404da3b5d661e51e267794"
     }
    },
    "b63a51bfa5a84adca0fbe7ecb37bd0ba": {
     "model_module": "@jupyter-widgets/base",
     "model_module_version": "1.2.0",
     "model_name": "LayoutModel",
     "state": {
      "_model_module": "@jupyter-widgets/base",
      "_model_module_version": "1.2.0",
      "_model_name": "LayoutModel",
      "_view_count": null,
      "_view_module": "@jupyter-widgets/base",
      "_view_module_version": "1.2.0",
      "_view_name": "LayoutView",
      "align_content": null,
      "align_items": null,
      "align_self": null,
      "border": null,
      "bottom": null,
      "display": null,
      "flex": null,
      "flex_flow": null,
      "grid_area": null,
      "grid_auto_columns": null,
      "grid_auto_flow": null,
      "grid_auto_rows": null,
      "grid_column": null,
      "grid_gap": null,
      "grid_row": null,
      "grid_template_areas": null,
      "grid_template_columns": null,
      "grid_template_rows": null,
      "height": null,
      "justify_content": null,
      "justify_items": null,
      "left": null,
      "margin": null,
      "max_height": null,
      "max_width": null,
      "min_height": null,
      "min_width": null,
      "object_fit": null,
      "object_position": null,
      "order": null,
      "overflow": null,
      "overflow_x": null,
      "overflow_y": null,
      "padding": null,
      "right": null,
      "top": null,
      "visibility": null,
      "width": null
     }
    },
    "b6de42f39681423db67d6c258f087611": {
     "model_module": "@jupyter-widgets/controls",
     "model_module_version": "1.5.0",
     "model_name": "HTMLModel",
     "state": {
      "_dom_classes": [],
      "_model_module": "@jupyter-widgets/controls",
      "_model_module_version": "1.5.0",
      "_model_name": "HTMLModel",
      "_view_count": null,
      "_view_module": "@jupyter-widgets/controls",
      "_view_module_version": "1.5.0",
      "_view_name": "HTMLView",
      "description": "",
      "description_tooltip": null,
      "layout": "IPY_MODEL_78328f10bc3e425fabbbc6bc3ce9c250",
      "placeholder": "​",
      "style": "IPY_MODEL_9acb276a52cf42d69592be7c3a9f1b18",
      "value": " 255k/255k [00:00&lt;00:00, 498kB/s]"
     }
    },
    "b724fdca41054e959cdba99221f6eff0": {
     "model_module": "@jupyter-widgets/controls",
     "model_module_version": "1.5.0",
     "model_name": "HTMLModel",
     "state": {
      "_dom_classes": [],
      "_model_module": "@jupyter-widgets/controls",
      "_model_module_version": "1.5.0",
      "_model_name": "HTMLModel",
      "_view_count": null,
      "_view_module": "@jupyter-widgets/controls",
      "_view_module_version": "1.5.0",
      "_view_name": "HTMLView",
      "description": "",
      "description_tooltip": null,
      "layout": "IPY_MODEL_2b7eca88603e4c4fb5d048a20ab5190c",
      "placeholder": "​",
      "style": "IPY_MODEL_56b20bd1c57a467a85dfcfc9c27c226d",
      "value": "Downloading (…)lve/main/config.json: 100%"
     }
    },
    "bb7e4e9f114e4a63b946a97f5d05563f": {
     "model_module": "@jupyter-widgets/base",
     "model_module_version": "1.2.0",
     "model_name": "LayoutModel",
     "state": {
      "_model_module": "@jupyter-widgets/base",
      "_model_module_version": "1.2.0",
      "_model_name": "LayoutModel",
      "_view_count": null,
      "_view_module": "@jupyter-widgets/base",
      "_view_module_version": "1.2.0",
      "_view_name": "LayoutView",
      "align_content": null,
      "align_items": null,
      "align_self": null,
      "border": null,
      "bottom": null,
      "display": null,
      "flex": null,
      "flex_flow": null,
      "grid_area": null,
      "grid_auto_columns": null,
      "grid_auto_flow": null,
      "grid_auto_rows": null,
      "grid_column": null,
      "grid_gap": null,
      "grid_row": null,
      "grid_template_areas": null,
      "grid_template_columns": null,
      "grid_template_rows": null,
      "height": null,
      "justify_content": null,
      "justify_items": null,
      "left": null,
      "margin": null,
      "max_height": null,
      "max_width": null,
      "min_height": null,
      "min_width": null,
      "object_fit": null,
      "object_position": null,
      "order": null,
      "overflow": null,
      "overflow_x": null,
      "overflow_y": null,
      "padding": null,
      "right": null,
      "top": null,
      "visibility": null,
      "width": null
     }
    },
    "bcbcdf68115e4e0b93d7eb74ab432b56": {
     "model_module": "@jupyter-widgets/controls",
     "model_module_version": "1.5.0",
     "model_name": "FloatProgressModel",
     "state": {
      "_dom_classes": [],
      "_model_module": "@jupyter-widgets/controls",
      "_model_module_version": "1.5.0",
      "_model_name": "FloatProgressModel",
      "_view_count": null,
      "_view_module": "@jupyter-widgets/controls",
      "_view_module_version": "1.5.0",
      "_view_name": "ProgressView",
      "bar_style": "success",
      "description": "",
      "description_tooltip": null,
      "layout": "IPY_MODEL_b63a51bfa5a84adca0fbe7ecb37bd0ba",
      "max": 642,
      "min": 0,
      "orientation": "horizontal",
      "style": "IPY_MODEL_5e1fb00b64664e5fb76f6711ab69bb59",
      "value": 642
     }
    },
    "bf5b46e9f9174f79b75fb8840cced2ca": {
     "model_module": "@jupyter-widgets/base",
     "model_module_version": "1.2.0",
     "model_name": "LayoutModel",
     "state": {
      "_model_module": "@jupyter-widgets/base",
      "_model_module_version": "1.2.0",
      "_model_name": "LayoutModel",
      "_view_count": null,
      "_view_module": "@jupyter-widgets/base",
      "_view_module_version": "1.2.0",
      "_view_name": "LayoutView",
      "align_content": null,
      "align_items": null,
      "align_self": null,
      "border": null,
      "bottom": null,
      "display": null,
      "flex": null,
      "flex_flow": null,
      "grid_area": null,
      "grid_auto_columns": null,
      "grid_auto_flow": null,
      "grid_auto_rows": null,
      "grid_column": null,
      "grid_gap": null,
      "grid_row": null,
      "grid_template_areas": null,
      "grid_template_columns": null,
      "grid_template_rows": null,
      "height": null,
      "justify_content": null,
      "justify_items": null,
      "left": null,
      "margin": null,
      "max_height": null,
      "max_width": null,
      "min_height": null,
      "min_width": null,
      "object_fit": null,
      "object_position": null,
      "order": null,
      "overflow": null,
      "overflow_x": null,
      "overflow_y": null,
      "padding": null,
      "right": null,
      "top": null,
      "visibility": null,
      "width": null
     }
    },
    "c0af8bc4fa2442c88b512de224ecbf58": {
     "model_module": "@jupyter-widgets/base",
     "model_module_version": "1.2.0",
     "model_name": "LayoutModel",
     "state": {
      "_model_module": "@jupyter-widgets/base",
      "_model_module_version": "1.2.0",
      "_model_name": "LayoutModel",
      "_view_count": null,
      "_view_module": "@jupyter-widgets/base",
      "_view_module_version": "1.2.0",
      "_view_name": "LayoutView",
      "align_content": null,
      "align_items": null,
      "align_self": null,
      "border": null,
      "bottom": null,
      "display": null,
      "flex": null,
      "flex_flow": null,
      "grid_area": null,
      "grid_auto_columns": null,
      "grid_auto_flow": null,
      "grid_auto_rows": null,
      "grid_column": null,
      "grid_gap": null,
      "grid_row": null,
      "grid_template_areas": null,
      "grid_template_columns": null,
      "grid_template_rows": null,
      "height": null,
      "justify_content": null,
      "justify_items": null,
      "left": null,
      "margin": null,
      "max_height": null,
      "max_width": null,
      "min_height": null,
      "min_width": null,
      "object_fit": null,
      "object_position": null,
      "order": null,
      "overflow": null,
      "overflow_x": null,
      "overflow_y": null,
      "padding": null,
      "right": null,
      "top": null,
      "visibility": null,
      "width": null
     }
    },
    "c26c8affb7554ec6b45b2adfb50f3915": {
     "model_module": "@jupyter-widgets/controls",
     "model_module_version": "1.5.0",
     "model_name": "FloatProgressModel",
     "state": {
      "_dom_classes": [],
      "_model_module": "@jupyter-widgets/controls",
      "_model_module_version": "1.5.0",
      "_model_name": "FloatProgressModel",
      "_view_count": null,
      "_view_module": "@jupyter-widgets/controls",
      "_view_module_version": "1.5.0",
      "_view_name": "ProgressView",
      "bar_style": "success",
      "description": "",
      "description_tooltip": null,
      "layout": "IPY_MODEL_eccba3eea78c4928b3a1e2b5ca725d47",
      "max": 254728,
      "min": 0,
      "orientation": "horizontal",
      "style": "IPY_MODEL_9ae1c736378a48a89e171e870801bcb6",
      "value": 254728
     }
    },
    "c4d657ac263043f8a20f8976c5680e8b": {
     "model_module": "@jupyter-widgets/controls",
     "model_module_version": "1.5.0",
     "model_name": "HTMLModel",
     "state": {
      "_dom_classes": [],
      "_model_module": "@jupyter-widgets/controls",
      "_model_module_version": "1.5.0",
      "_model_name": "HTMLModel",
      "_view_count": null,
      "_view_module": "@jupyter-widgets/controls",
      "_view_module_version": "1.5.0",
      "_view_name": "HTMLView",
      "description": "",
      "description_tooltip": null,
      "layout": "IPY_MODEL_fd19c65085fd483daf232250d2f76bca",
      "placeholder": "​",
      "style": "IPY_MODEL_16309d68b6a74fd5af3b245295d82d7b",
      "value": "Downloading (…)solve/main/vocab.txt: 100%"
     }
    },
    "c5ca36795e57458faf5330d665727aad": {
     "model_module": "@jupyter-widgets/controls",
     "model_module_version": "1.5.0",
     "model_name": "DescriptionStyleModel",
     "state": {
      "_model_module": "@jupyter-widgets/controls",
      "_model_module_version": "1.5.0",
      "_model_name": "DescriptionStyleModel",
      "_view_count": null,
      "_view_module": "@jupyter-widgets/base",
      "_view_module_version": "1.2.0",
      "_view_name": "StyleView",
      "description_width": ""
     }
    },
    "c5f4e6d3d1eb420d98cca0e6d9a330c2": {
     "model_module": "@jupyter-widgets/controls",
     "model_module_version": "1.5.0",
     "model_name": "HTMLModel",
     "state": {
      "_dom_classes": [],
      "_model_module": "@jupyter-widgets/controls",
      "_model_module_version": "1.5.0",
      "_model_name": "HTMLModel",
      "_view_count": null,
      "_view_module": "@jupyter-widgets/controls",
      "_view_module_version": "1.5.0",
      "_view_name": "HTMLView",
      "description": "",
      "description_tooltip": null,
      "layout": "IPY_MODEL_ffb8c5618c2149e78424e33398f2e33a",
      "placeholder": "​",
      "style": "IPY_MODEL_56959b17ca064b4690bad44ac97098f9",
      "value": " 714M/714M [00:16&lt;00:00, 47.4MB/s]"
     }
    },
    "c6469bb137a2436aa3df1201de8a6285": {
     "model_module": "@jupyter-widgets/controls",
     "model_module_version": "1.5.0",
     "model_name": "HTMLModel",
     "state": {
      "_dom_classes": [],
      "_model_module": "@jupyter-widgets/controls",
      "_model_module_version": "1.5.0",
      "_model_name": "HTMLModel",
      "_view_count": null,
      "_view_module": "@jupyter-widgets/controls",
      "_view_module_version": "1.5.0",
      "_view_name": "HTMLView",
      "description": "",
      "description_tooltip": null,
      "layout": "IPY_MODEL_b246282faec8493e84c54318f135581d",
      "placeholder": "​",
      "style": "IPY_MODEL_8b604a99f60b4cae93e283d3788e5600",
      "value": "Downloading (…)/main/tokenizer.json: 100%"
     }
    },
    "c8ff31ee8a5d4cca9526fe19d74e9159": {
     "model_module": "@jupyter-widgets/controls",
     "model_module_version": "1.5.0",
     "model_name": "HTMLModel",
     "state": {
      "_dom_classes": [],
      "_model_module": "@jupyter-widgets/controls",
      "_model_module_version": "1.5.0",
      "_model_name": "HTMLModel",
      "_view_count": null,
      "_view_module": "@jupyter-widgets/controls",
      "_view_module_version": "1.5.0",
      "_view_name": "HTMLView",
      "description": "",
      "description_tooltip": null,
      "layout": "IPY_MODEL_7a54356e19bc4927aa228ecafc9e1e09",
      "placeholder": "​",
      "style": "IPY_MODEL_ccc4c621be9b4c9e96912c7b10e1d6a3",
      "value": " 439M/439M [00:20&lt;00:00, 22.8MB/s]"
     }
    },
    "c96b062378b240379c9ceaf56a176cd3": {
     "model_module": "@jupyter-widgets/controls",
     "model_module_version": "1.5.0",
     "model_name": "HBoxModel",
     "state": {
      "_dom_classes": [],
      "_model_module": "@jupyter-widgets/controls",
      "_model_module_version": "1.5.0",
      "_model_name": "HBoxModel",
      "_view_count": null,
      "_view_module": "@jupyter-widgets/controls",
      "_view_module_version": "1.5.0",
      "_view_name": "HBoxView",
      "box_style": "",
      "children": [
       "IPY_MODEL_a78507a63e4a48deaff3b85d5586f50e",
       "IPY_MODEL_020ecfeafb0f47e4b66e24b061859236",
       "IPY_MODEL_c8ff31ee8a5d4cca9526fe19d74e9159"
      ],
      "layout": "IPY_MODEL_33f1c667af6d4861b8145c59650b8850"
     }
    },
    "ccc4c621be9b4c9e96912c7b10e1d6a3": {
     "model_module": "@jupyter-widgets/controls",
     "model_module_version": "1.5.0",
     "model_name": "DescriptionStyleModel",
     "state": {
      "_model_module": "@jupyter-widgets/controls",
      "_model_module_version": "1.5.0",
      "_model_name": "DescriptionStyleModel",
      "_view_count": null,
      "_view_module": "@jupyter-widgets/base",
      "_view_module_version": "1.2.0",
      "_view_name": "StyleView",
      "description_width": ""
     }
    },
    "ce928a74bde64e5199b7d126abe70175": {
     "model_module": "@jupyter-widgets/base",
     "model_module_version": "1.2.0",
     "model_name": "LayoutModel",
     "state": {
      "_model_module": "@jupyter-widgets/base",
      "_model_module_version": "1.2.0",
      "_model_name": "LayoutModel",
      "_view_count": null,
      "_view_module": "@jupyter-widgets/base",
      "_view_module_version": "1.2.0",
      "_view_name": "LayoutView",
      "align_content": null,
      "align_items": null,
      "align_self": null,
      "border": null,
      "bottom": null,
      "display": null,
      "flex": null,
      "flex_flow": null,
      "grid_area": null,
      "grid_auto_columns": null,
      "grid_auto_flow": null,
      "grid_auto_rows": null,
      "grid_column": null,
      "grid_gap": null,
      "grid_row": null,
      "grid_template_areas": null,
      "grid_template_columns": null,
      "grid_template_rows": null,
      "height": null,
      "justify_content": null,
      "justify_items": null,
      "left": null,
      "margin": null,
      "max_height": null,
      "max_width": null,
      "min_height": null,
      "min_width": null,
      "object_fit": null,
      "object_position": null,
      "order": null,
      "overflow": null,
      "overflow_x": null,
      "overflow_y": null,
      "padding": null,
      "right": null,
      "top": null,
      "visibility": null,
      "width": null
     }
    },
    "d0678429fd5140c3b2335d6a7ffb9ded": {
     "model_module": "@jupyter-widgets/base",
     "model_module_version": "1.2.0",
     "model_name": "LayoutModel",
     "state": {
      "_model_module": "@jupyter-widgets/base",
      "_model_module_version": "1.2.0",
      "_model_name": "LayoutModel",
      "_view_count": null,
      "_view_module": "@jupyter-widgets/base",
      "_view_module_version": "1.2.0",
      "_view_name": "LayoutView",
      "align_content": null,
      "align_items": null,
      "align_self": null,
      "border": null,
      "bottom": null,
      "display": null,
      "flex": null,
      "flex_flow": null,
      "grid_area": null,
      "grid_auto_columns": null,
      "grid_auto_flow": null,
      "grid_auto_rows": null,
      "grid_column": null,
      "grid_gap": null,
      "grid_row": null,
      "grid_template_areas": null,
      "grid_template_columns": null,
      "grid_template_rows": null,
      "height": null,
      "justify_content": null,
      "justify_items": null,
      "left": null,
      "margin": null,
      "max_height": null,
      "max_width": null,
      "min_height": null,
      "min_width": null,
      "object_fit": null,
      "object_position": null,
      "order": null,
      "overflow": null,
      "overflow_x": null,
      "overflow_y": null,
      "padding": null,
      "right": null,
      "top": null,
      "visibility": null,
      "width": null
     }
    },
    "db35ef8f9f36449abd331a8ddbc1e422": {
     "model_module": "@jupyter-widgets/controls",
     "model_module_version": "1.5.0",
     "model_name": "HBoxModel",
     "state": {
      "_dom_classes": [],
      "_model_module": "@jupyter-widgets/controls",
      "_model_module_version": "1.5.0",
      "_model_name": "HBoxModel",
      "_view_count": null,
      "_view_module": "@jupyter-widgets/controls",
      "_view_module_version": "1.5.0",
      "_view_name": "HBoxView",
      "box_style": "",
      "children": [
       "IPY_MODEL_3949e073f63544ee88ca8009c6ed5813",
       "IPY_MODEL_ed9ff30c779f4811acb4d92a3c8a201f",
       "IPY_MODEL_10806dece23246be9ac98711ca99c1a2"
      ],
      "layout": "IPY_MODEL_ce928a74bde64e5199b7d126abe70175"
     }
    },
    "e253806dcf9145a1974689f83af63a5b": {
     "model_module": "@jupyter-widgets/controls",
     "model_module_version": "1.5.0",
     "model_name": "HBoxModel",
     "state": {
      "_dom_classes": [],
      "_model_module": "@jupyter-widgets/controls",
      "_model_module_version": "1.5.0",
      "_model_name": "HBoxModel",
      "_view_count": null,
      "_view_module": "@jupyter-widgets/controls",
      "_view_module_version": "1.5.0",
      "_view_name": "HBoxView",
      "box_style": "",
      "children": [
       "IPY_MODEL_e2f7f7c4190c4a3487deb56f08c607ea",
       "IPY_MODEL_c26c8affb7554ec6b45b2adfb50f3915",
       "IPY_MODEL_b6de42f39681423db67d6c258f087611"
      ],
      "layout": "IPY_MODEL_d0678429fd5140c3b2335d6a7ffb9ded"
     }
    },
    "e2f7f7c4190c4a3487deb56f08c607ea": {
     "model_module": "@jupyter-widgets/controls",
     "model_module_version": "1.5.0",
     "model_name": "HTMLModel",
     "state": {
      "_dom_classes": [],
      "_model_module": "@jupyter-widgets/controls",
      "_model_module_version": "1.5.0",
      "_model_name": "HTMLModel",
      "_view_count": null,
      "_view_module": "@jupyter-widgets/controls",
      "_view_module_version": "1.5.0",
      "_view_name": "HTMLView",
      "description": "",
      "description_tooltip": null,
      "layout": "IPY_MODEL_faef169972df44bc976fd6f5eeb89ed8",
      "placeholder": "​",
      "style": "IPY_MODEL_76d8689c694c4ab3b301380a627716f9",
      "value": "Downloading (…)solve/main/vocab.txt: 100%"
     }
    },
    "e555c7d7bacb4aa58f1631f93c5b56ba": {
     "model_module": "@jupyter-widgets/controls",
     "model_module_version": "1.5.0",
     "model_name": "HBoxModel",
     "state": {
      "_dom_classes": [],
      "_model_module": "@jupyter-widgets/controls",
      "_model_module_version": "1.5.0",
      "_model_name": "HBoxModel",
      "_view_count": null,
      "_view_module": "@jupyter-widgets/controls",
      "_view_module_version": "1.5.0",
      "_view_name": "HBoxView",
      "box_style": "",
      "children": [
       "IPY_MODEL_41157b1fee5f415fb012e63d32b041c9",
       "IPY_MODEL_931dedbd84e2409fa117ac929f42f61f",
       "IPY_MODEL_6d5f89f21b3249ecba45da965f203e5d"
      ],
      "layout": "IPY_MODEL_5034a15e17a74ba383bfa44afd9deea0"
     }
    },
    "e8f08be715704a539190a0b29674df2c": {
     "model_module": "@jupyter-widgets/base",
     "model_module_version": "1.2.0",
     "model_name": "LayoutModel",
     "state": {
      "_model_module": "@jupyter-widgets/base",
      "_model_module_version": "1.2.0",
      "_model_name": "LayoutModel",
      "_view_count": null,
      "_view_module": "@jupyter-widgets/base",
      "_view_module_version": "1.2.0",
      "_view_name": "LayoutView",
      "align_content": null,
      "align_items": null,
      "align_self": null,
      "border": null,
      "bottom": null,
      "display": null,
      "flex": null,
      "flex_flow": null,
      "grid_area": null,
      "grid_auto_columns": null,
      "grid_auto_flow": null,
      "grid_auto_rows": null,
      "grid_column": null,
      "grid_gap": null,
      "grid_row": null,
      "grid_template_areas": null,
      "grid_template_columns": null,
      "grid_template_rows": null,
      "height": null,
      "justify_content": null,
      "justify_items": null,
      "left": null,
      "margin": null,
      "max_height": null,
      "max_width": null,
      "min_height": null,
      "min_width": null,
      "object_fit": null,
      "object_position": null,
      "order": null,
      "overflow": null,
      "overflow_x": null,
      "overflow_y": null,
      "padding": null,
      "right": null,
      "top": null,
      "visibility": null,
      "width": null
     }
    },
    "e928f508f8cd4ba39d250b252cf2388d": {
     "model_module": "@jupyter-widgets/controls",
     "model_module_version": "1.5.0",
     "model_name": "DescriptionStyleModel",
     "state": {
      "_model_module": "@jupyter-widgets/controls",
      "_model_module_version": "1.5.0",
      "_model_name": "DescriptionStyleModel",
      "_view_count": null,
      "_view_module": "@jupyter-widgets/base",
      "_view_module_version": "1.2.0",
      "_view_name": "StyleView",
      "description_width": ""
     }
    },
    "e93dd6201b0e413fae15848bbed51eaa": {
     "model_module": "@jupyter-widgets/base",
     "model_module_version": "1.2.0",
     "model_name": "LayoutModel",
     "state": {
      "_model_module": "@jupyter-widgets/base",
      "_model_module_version": "1.2.0",
      "_model_name": "LayoutModel",
      "_view_count": null,
      "_view_module": "@jupyter-widgets/base",
      "_view_module_version": "1.2.0",
      "_view_name": "LayoutView",
      "align_content": null,
      "align_items": null,
      "align_self": null,
      "border": null,
      "bottom": null,
      "display": null,
      "flex": null,
      "flex_flow": null,
      "grid_area": null,
      "grid_auto_columns": null,
      "grid_auto_flow": null,
      "grid_auto_rows": null,
      "grid_column": null,
      "grid_gap": null,
      "grid_row": null,
      "grid_template_areas": null,
      "grid_template_columns": null,
      "grid_template_rows": null,
      "height": null,
      "justify_content": null,
      "justify_items": null,
      "left": null,
      "margin": null,
      "max_height": null,
      "max_width": null,
      "min_height": null,
      "min_width": null,
      "object_fit": null,
      "object_position": null,
      "order": null,
      "overflow": null,
      "overflow_x": null,
      "overflow_y": null,
      "padding": null,
      "right": null,
      "top": null,
      "visibility": null,
      "width": null
     }
    },
    "eccba3eea78c4928b3a1e2b5ca725d47": {
     "model_module": "@jupyter-widgets/base",
     "model_module_version": "1.2.0",
     "model_name": "LayoutModel",
     "state": {
      "_model_module": "@jupyter-widgets/base",
      "_model_module_version": "1.2.0",
      "_model_name": "LayoutModel",
      "_view_count": null,
      "_view_module": "@jupyter-widgets/base",
      "_view_module_version": "1.2.0",
      "_view_name": "LayoutView",
      "align_content": null,
      "align_items": null,
      "align_self": null,
      "border": null,
      "bottom": null,
      "display": null,
      "flex": null,
      "flex_flow": null,
      "grid_area": null,
      "grid_auto_columns": null,
      "grid_auto_flow": null,
      "grid_auto_rows": null,
      "grid_column": null,
      "grid_gap": null,
      "grid_row": null,
      "grid_template_areas": null,
      "grid_template_columns": null,
      "grid_template_rows": null,
      "height": null,
      "justify_content": null,
      "justify_items": null,
      "left": null,
      "margin": null,
      "max_height": null,
      "max_width": null,
      "min_height": null,
      "min_width": null,
      "object_fit": null,
      "object_position": null,
      "order": null,
      "overflow": null,
      "overflow_x": null,
      "overflow_y": null,
      "padding": null,
      "right": null,
      "top": null,
      "visibility": null,
      "width": null
     }
    },
    "ed9ff30c779f4811acb4d92a3c8a201f": {
     "model_module": "@jupyter-widgets/controls",
     "model_module_version": "1.5.0",
     "model_name": "FloatProgressModel",
     "state": {
      "_dom_classes": [],
      "_model_module": "@jupyter-widgets/controls",
      "_model_module_version": "1.5.0",
      "_model_name": "FloatProgressModel",
      "_view_count": null,
      "_view_module": "@jupyter-widgets/controls",
      "_view_module_version": "1.5.0",
      "_view_name": "ProgressView",
      "bar_style": "success",
      "description": "",
      "description_tooltip": null,
      "layout": "IPY_MODEL_a3d9897673aa414a91eff716b1700497",
      "max": 112,
      "min": 0,
      "orientation": "horizontal",
      "style": "IPY_MODEL_6d8d13895bb94ef4a6ce82febef32bdb",
      "value": 112
     }
    },
    "ef66137f0cd84a9594876f9782ca688c": {
     "model_module": "@jupyter-widgets/controls",
     "model_module_version": "1.5.0",
     "model_name": "DescriptionStyleModel",
     "state": {
      "_model_module": "@jupyter-widgets/controls",
      "_model_module_version": "1.5.0",
      "_model_name": "DescriptionStyleModel",
      "_view_count": null,
      "_view_module": "@jupyter-widgets/base",
      "_view_module_version": "1.2.0",
      "_view_name": "StyleView",
      "description_width": ""
     }
    },
    "f107c0b5ccbb483e8ae38dc9a3216901": {
     "model_module": "@jupyter-widgets/base",
     "model_module_version": "1.2.0",
     "model_name": "LayoutModel",
     "state": {
      "_model_module": "@jupyter-widgets/base",
      "_model_module_version": "1.2.0",
      "_model_name": "LayoutModel",
      "_view_count": null,
      "_view_module": "@jupyter-widgets/base",
      "_view_module_version": "1.2.0",
      "_view_name": "LayoutView",
      "align_content": null,
      "align_items": null,
      "align_self": null,
      "border": null,
      "bottom": null,
      "display": null,
      "flex": null,
      "flex_flow": null,
      "grid_area": null,
      "grid_auto_columns": null,
      "grid_auto_flow": null,
      "grid_auto_rows": null,
      "grid_column": null,
      "grid_gap": null,
      "grid_row": null,
      "grid_template_areas": null,
      "grid_template_columns": null,
      "grid_template_rows": null,
      "height": null,
      "justify_content": null,
      "justify_items": null,
      "left": null,
      "margin": null,
      "max_height": null,
      "max_width": null,
      "min_height": null,
      "min_width": null,
      "object_fit": null,
      "object_position": null,
      "order": null,
      "overflow": null,
      "overflow_x": null,
      "overflow_y": null,
      "padding": null,
      "right": null,
      "top": null,
      "visibility": null,
      "width": null
     }
    },
    "f62a97a4084045c39b6ce78f43cffd83": {
     "model_module": "@jupyter-widgets/base",
     "model_module_version": "1.2.0",
     "model_name": "LayoutModel",
     "state": {
      "_model_module": "@jupyter-widgets/base",
      "_model_module_version": "1.2.0",
      "_model_name": "LayoutModel",
      "_view_count": null,
      "_view_module": "@jupyter-widgets/base",
      "_view_module_version": "1.2.0",
      "_view_name": "LayoutView",
      "align_content": null,
      "align_items": null,
      "align_self": null,
      "border": null,
      "bottom": null,
      "display": null,
      "flex": null,
      "flex_flow": null,
      "grid_area": null,
      "grid_auto_columns": null,
      "grid_auto_flow": null,
      "grid_auto_rows": null,
      "grid_column": null,
      "grid_gap": null,
      "grid_row": null,
      "grid_template_areas": null,
      "grid_template_columns": null,
      "grid_template_rows": null,
      "height": null,
      "justify_content": null,
      "justify_items": null,
      "left": null,
      "margin": null,
      "max_height": null,
      "max_width": null,
      "min_height": null,
      "min_width": null,
      "object_fit": null,
      "object_position": null,
      "order": null,
      "overflow": null,
      "overflow_x": null,
      "overflow_y": null,
      "padding": null,
      "right": null,
      "top": null,
      "visibility": null,
      "width": null
     }
    },
    "faef169972df44bc976fd6f5eeb89ed8": {
     "model_module": "@jupyter-widgets/base",
     "model_module_version": "1.2.0",
     "model_name": "LayoutModel",
     "state": {
      "_model_module": "@jupyter-widgets/base",
      "_model_module_version": "1.2.0",
      "_model_name": "LayoutModel",
      "_view_count": null,
      "_view_module": "@jupyter-widgets/base",
      "_view_module_version": "1.2.0",
      "_view_name": "LayoutView",
      "align_content": null,
      "align_items": null,
      "align_self": null,
      "border": null,
      "bottom": null,
      "display": null,
      "flex": null,
      "flex_flow": null,
      "grid_area": null,
      "grid_auto_columns": null,
      "grid_auto_flow": null,
      "grid_auto_rows": null,
      "grid_column": null,
      "grid_gap": null,
      "grid_row": null,
      "grid_template_areas": null,
      "grid_template_columns": null,
      "grid_template_rows": null,
      "height": null,
      "justify_content": null,
      "justify_items": null,
      "left": null,
      "margin": null,
      "max_height": null,
      "max_width": null,
      "min_height": null,
      "min_width": null,
      "object_fit": null,
      "object_position": null,
      "order": null,
      "overflow": null,
      "overflow_x": null,
      "overflow_y": null,
      "padding": null,
      "right": null,
      "top": null,
      "visibility": null,
      "width": null
     }
    },
    "fd0cbd5b840a40f090f1b0fc09a003c7": {
     "model_module": "@jupyter-widgets/controls",
     "model_module_version": "1.5.0",
     "model_name": "HTMLModel",
     "state": {
      "_dom_classes": [],
      "_model_module": "@jupyter-widgets/controls",
      "_model_module_version": "1.5.0",
      "_model_name": "HTMLModel",
      "_view_count": null,
      "_view_module": "@jupyter-widgets/controls",
      "_view_module_version": "1.5.0",
      "_view_name": "HTMLView",
      "description": "",
      "description_tooltip": null,
      "layout": "IPY_MODEL_9d95ce2e0fa94aee94f3a30bdab95cb1",
      "placeholder": "​",
      "style": "IPY_MODEL_6338c857236240d98267f19b74ed5f42",
      "value": "Downloading (…)okenizer_config.json: 100%"
     }
    },
    "fd19c65085fd483daf232250d2f76bca": {
     "model_module": "@jupyter-widgets/base",
     "model_module_version": "1.2.0",
     "model_name": "LayoutModel",
     "state": {
      "_model_module": "@jupyter-widgets/base",
      "_model_module_version": "1.2.0",
      "_model_name": "LayoutModel",
      "_view_count": null,
      "_view_module": "@jupyter-widgets/base",
      "_view_module_version": "1.2.0",
      "_view_name": "LayoutView",
      "align_content": null,
      "align_items": null,
      "align_self": null,
      "border": null,
      "bottom": null,
      "display": null,
      "flex": null,
      "flex_flow": null,
      "grid_area": null,
      "grid_auto_columns": null,
      "grid_auto_flow": null,
      "grid_auto_rows": null,
      "grid_column": null,
      "grid_gap": null,
      "grid_row": null,
      "grid_template_areas": null,
      "grid_template_columns": null,
      "grid_template_rows": null,
      "height": null,
      "justify_content": null,
      "justify_items": null,
      "left": null,
      "margin": null,
      "max_height": null,
      "max_width": null,
      "min_height": null,
      "min_width": null,
      "object_fit": null,
      "object_position": null,
      "order": null,
      "overflow": null,
      "overflow_x": null,
      "overflow_y": null,
      "padding": null,
      "right": null,
      "top": null,
      "visibility": null,
      "width": null
     }
    },
    "ffb8c5618c2149e78424e33398f2e33a": {
     "model_module": "@jupyter-widgets/base",
     "model_module_version": "1.2.0",
     "model_name": "LayoutModel",
     "state": {
      "_model_module": "@jupyter-widgets/base",
      "_model_module_version": "1.2.0",
      "_model_name": "LayoutModel",
      "_view_count": null,
      "_view_module": "@jupyter-widgets/base",
      "_view_module_version": "1.2.0",
      "_view_name": "LayoutView",
      "align_content": null,
      "align_items": null,
      "align_self": null,
      "border": null,
      "bottom": null,
      "display": null,
      "flex": null,
      "flex_flow": null,
      "grid_area": null,
      "grid_auto_columns": null,
      "grid_auto_flow": null,
      "grid_auto_rows": null,
      "grid_column": null,
      "grid_gap": null,
      "grid_row": null,
      "grid_template_areas": null,
      "grid_template_columns": null,
      "grid_template_rows": null,
      "height": null,
      "justify_content": null,
      "justify_items": null,
      "left": null,
      "margin": null,
      "max_height": null,
      "max_width": null,
      "min_height": null,
      "min_width": null,
      "object_fit": null,
      "object_position": null,
      "order": null,
      "overflow": null,
      "overflow_x": null,
      "overflow_y": null,
      "padding": null,
      "right": null,
      "top": null,
      "visibility": null,
      "width": null
     }
    }
   }
  }
 },
 "nbformat": 4,
 "nbformat_minor": 1
}
