{
 "cells": [
  {
   "cell_type": "markdown",
   "metadata": {
    "id": "-47JgV2kywWg"
   },
   "source": [
    "### install & download"
   ]
  },
  {
   "cell_type": "code",
   "execution_count": 1,
   "metadata": {
    "colab": {
     "base_uri": "https://localhost:8080/"
    },
    "id": "-mFzyXtwroEd",
    "outputId": "12075389-d949-4a77-9681-57f749b859d2"
   },
   "outputs": [],
   "source": [
    "# !pip install HanTa"
   ]
  },
  {
   "cell_type": "code",
   "execution_count": null,
   "metadata": {
    "colab": {
     "base_uri": "https://localhost:8080/"
    },
    "id": "3D6dwhAGMuwd",
    "outputId": "f8cb8e5e-9c94-490e-85a6-34f30e49725a"
   },
   "outputs": [],
   "source": [
    "# !pip install transformers"
   ]
  },
  {
   "cell_type": "code",
   "execution_count": 3,
   "metadata": {
    "colab": {
     "base_uri": "https://localhost:8080/"
    },
    "id": "-TW2_wcCG_nj",
    "outputId": "82bd6bcf-67d6-4c1b-e6b2-b9138a323d71"
   },
   "outputs": [],
   "source": [
    "# !pip3 install wordfreq"
   ]
  },
  {
   "cell_type": "code",
   "execution_count": 4,
   "metadata": {
    "colab": {
     "base_uri": "https://localhost:8080/"
    },
    "id": "6Nk6_0QmnawS",
    "outputId": "927dc967-94ce-4487-af0f-b65576cf29e9"
   },
   "outputs": [],
   "source": [
    "# !python -m spacy download de_core_news_md"
   ]
  },
  {
   "cell_type": "code",
   "execution_count": 5,
   "metadata": {
    "colab": {
     "base_uri": "https://localhost:8080/"
    },
    "id": "OmRsdPM4YWqU",
    "outputId": "772b6531-996e-4819-a07d-565f3d1084dd"
   },
   "outputs": [],
   "source": [
    "# !python -m spacy download ru_core_news_md"
   ]
  },
  {
   "cell_type": "code",
   "execution_count": 6,
   "metadata": {
    "colab": {
     "base_uri": "https://localhost:8080/"
    },
    "id": "HbgTzE_UA3YD",
    "outputId": "4390bd56-41d1-478b-a3d1-c26414ef31c9"
   },
   "outputs": [],
   "source": [
    "# !wget https://int-emb-glove-de-wiki.s3.eu-central-1.amazonaws.com/vectors.txt"
   ]
  },
  {
   "cell_type": "code",
   "execution_count": 7,
   "metadata": {},
   "outputs": [],
   "source": [
    "# !pip install torch"
   ]
  },
  {
   "cell_type": "markdown",
   "metadata": {
    "id": "RfiQ3_5kHKNF"
   },
   "source": [
    "### import & load"
   ]
  },
  {
   "cell_type": "markdown",
   "metadata": {
    "id": "6JipvxhW5dbL"
   },
   "source": [
    "https://github.com/aalok-sathe/surprisal\n",
    "does not support bert"
   ]
  },
  {
   "cell_type": "code",
   "execution_count": 67,
   "metadata": {
    "id": "zfm1yKAukwWW"
   },
   "outputs": [],
   "source": [
    "import attr\n",
    "\n",
    "import numpy as np\n",
    "import networkx as nx\n",
    "import nltk\n",
    "import nltk.stem\n",
    "import re\n",
    "import spacy\n",
    "import torch\n",
    "\n",
    "from collections import Counter\n",
    "from functools import cached_property, cache\n",
    "from HanTa import HanoverTagger as ht\n",
    "from nltk.corpus import stopwords\n",
    "from spacy.lang.de.examples import sentences\n",
    "from transformers import AutoModel, AutoTokenizer\n",
    "from transformers import BertTokenizer, BertForNextSentencePrediction\n",
    "from typing import Callable, Dict, Optional, List\n",
    "from wordfreq import word_frequency"
   ]
  },
  {
   "cell_type": "code",
   "execution_count": 9,
   "metadata": {
    "colab": {
     "base_uri": "https://localhost:8080/"
    },
    "id": "avW-zuH4n9ig",
    "outputId": "dd6ba873-f70e-4871-a31b-92f8856d066b"
   },
   "outputs": [
    {
     "name": "stderr",
     "output_type": "stream",
     "text": [
      "[nltk_data] Downloading package punkt to\n",
      "[nltk_data]     /Users/galina.ryazanskaya/nltk_data...\n",
      "[nltk_data]   Package punkt is already up-to-date!\n",
      "[nltk_data] Downloading package averaged_perceptron_tagger to\n",
      "[nltk_data]     /Users/galina.ryazanskaya/nltk_data...\n",
      "[nltk_data]   Package averaged_perceptron_tagger is already up-to-\n",
      "[nltk_data]       date!\n",
      "[nltk_data] Downloading package stopwords to\n",
      "[nltk_data]     /Users/galina.ryazanskaya/nltk_data...\n",
      "[nltk_data]   Package stopwords is already up-to-date!\n"
     ]
    },
    {
     "data": {
      "text/plain": [
       "True"
      ]
     },
     "execution_count": 9,
     "metadata": {},
     "output_type": "execute_result"
    }
   ],
   "source": [
    "nltk.download('punkt')\n",
    "nltk.download('averaged_perceptron_tagger')\n",
    "nltk.download('stopwords')"
   ]
  },
  {
   "cell_type": "code",
   "execution_count": 68,
   "metadata": {
    "id": "G6oVoepxWtCF"
   },
   "outputs": [],
   "source": [
    "nlp_de = spacy.load(\"de_core_news_md\")\n",
    "nlp_ru = spacy.load(\"ru_core_news_md\")"
   ]
  },
  {
   "cell_type": "code",
   "execution_count": 12,
   "metadata": {
    "id": "FKKqt0n1XDI2"
   },
   "outputs": [],
   "source": [
    "stopwords_ru = stopwords.words(\"russian\")"
   ]
  },
  {
   "cell_type": "code",
   "execution_count": 13,
   "metadata": {
    "id": "c5ZBo_EiXFmY"
   },
   "outputs": [],
   "source": [
    "stopwords_de = stopwords.words(\"german\")"
   ]
  },
  {
   "cell_type": "code",
   "execution_count": null,
   "metadata": {
    "id": "rD0YzsVhBurp"
   },
   "outputs": [],
   "source": [
    "# german_stopwords = [\"a\",\"ab\",\"aber\",\"ach\",\"acht\",\"achte\",\"achten\",\"achter\",\"achtes\",\"ag\",\"alle\",\"allein\",\"allem\",\"allen\",\"aller\",\"allerdings\",\"alles\",\"allgemeinen\",\"als\",\"also\",\"am\",\"an\",\"ander\",\"andere\",\"anderem\",\"anderen\",\"anderer\",\"anderes\",\"anderm\",\"andern\",\"anderr\",\"anders\",\"au\",\"auch\",\"auf\",\"aus\",\"ausser\",\"ausserdem\",\"außer\",\"außerdem\",\"b\",\"bald\",\"bei\",\"beide\",\"beiden\",\"beim\",\"beispiel\",\"bekannt\",\"bereits\",\"besonders\",\"besser\",\"besten\",\"bin\",\"bis\",\"bisher\",\"bist\",\"c\",\"d\",\"d.h\",\"da\",\"dabei\",\"dadurch\",\"dafür\",\"dagegen\",\"daher\",\"dahin\",\"dahinter\",\"damals\",\"damit\",\"danach\",\"daneben\",\"dank\",\"dann\",\"daran\",\"darauf\",\"daraus\",\"darf\",\"darfst\",\"darin\",\"darum\",\"darunter\",\"darüber\",\"das\",\"dasein\",\"daselbst\",\"dass\",\"dasselbe\",\"davon\",\"davor\",\"dazu\",\"dazwischen\",\"daß\",\"dein\",\"deine\",\"deinem\",\"deinen\",\"deiner\",\"deines\",\"dem\",\"dementsprechend\",\"demgegenüber\",\"demgemäss\",\"demgemäß\",\"demselben\",\"demzufolge\",\"den\",\"denen\",\"denn\",\"denselben\",\"der\",\"deren\",\"derer\",\"derjenige\",\"derjenigen\",\"dermassen\",\"dermaßen\",\"derselbe\",\"derselben\",\"des\",\"deshalb\",\"desselben\",\"dessen\",\"deswegen\",\"dich\",\"die\",\"diejenige\",\"diejenigen\",\"dies\",\"diese\",\"dieselbe\",\"dieselben\",\"diesem\",\"diesen\",\"dieser\",\"dieses\",\"dir\",\"doch\",\"dort\",\"drei\",\"drin\",\"dritte\",\"dritten\",\"dritter\",\"drittes\",\"du\",\"durch\",\"durchaus\",\"durfte\",\"durften\",\"dürfen\",\"dürft\",\"e\",\"eben\",\"ebenso\",\"ehrlich\",\"ei\",\"ei,\",\"eigen\",\"eigene\",\"eigenen\",\"eigener\",\"eigenes\",\"ein\",\"einander\",\"eine\",\"einem\",\"einen\",\"einer\",\"eines\",\"einig\",\"einige\",\"einigem\",\"einigen\",\"einiger\",\"einiges\",\"einmal\",\"eins\",\"elf\",\"en\",\"ende\",\"endlich\",\"entweder\",\"er\",\"ernst\",\"erst\",\"erste\",\"ersten\",\"erster\",\"erstes\",\"es\",\"etwa\",\"etwas\",\"euch\",\"euer\",\"eure\",\"eurem\",\"euren\",\"eurer\",\"eures\",\"f\",\"folgende\",\"früher\",\"fünf\",\"fünfte\",\"fünften\",\"fünfter\",\"fünftes\",\"für\",\"g\",\"gab\",\"ganz\",\"ganze\",\"ganzen\",\"ganzer\",\"ganzes\",\"gar\",\"gedurft\",\"gegen\",\"gegenüber\",\"gehabt\",\"gehen\",\"geht\",\"gekannt\",\"gekonnt\",\"gemacht\",\"gemocht\",\"gemusst\",\"genug\",\"gerade\",\"gern\",\"gesagt\",\"geschweige\",\"gewesen\",\"gewollt\",\"geworden\",\"gibt\",\"ging\",\"gleich\",\"gott\",\"gross\",\"grosse\",\"grossen\",\"grosser\",\"grosses\",\"groß\",\"große\",\"großen\",\"großer\",\"großes\",\"gut\",\"gute\",\"guter\",\"gutes\",\"h\",\"hab\",\"habe\",\"haben\",\"habt\",\"hast\",\"hat\",\"hatte\",\"hatten\",\"hattest\",\"hattet\",\"heisst\",\"her\",\"heute\",\"hier\",\"hin\",\"hinter\",\"hoch\",\"hätte\",\"hätten\",\"i\",\"ich\",\"ihm\",\"ihn\",\"ihnen\",\"ihr\",\"ihre\",\"ihrem\",\"ihren\",\"ihrer\",\"ihres\",\"im\",\"immer\",\"in\",\"indem\",\"infolgedessen\",\"ins\",\"irgend\",\"ist\",\"j\",\"ja\",\"jahr\",\"jahre\",\"jahren\",\"je\",\"jede\",\"jedem\",\"jeden\",\"jeder\",\"jedermann\",\"jedermanns\",\"jedes\",\"jedoch\",\"jemand\",\"jemandem\",\"jemanden\",\"jene\",\"jenem\",\"jenen\",\"jener\",\"jenes\",\"jetzt\",\"k\",\"kam\",\"kann\",\"kannst\",\"kaum\",\"kein\",\"keine\",\"keinem\",\"keinen\",\"keiner\",\"keines\",\"kleine\",\"kleinen\",\"kleiner\",\"kleines\",\"kommen\",\"kommt\",\"konnte\",\"konnten\",\"kurz\",\"können\",\"könnt\",\"könnte\",\"l\",\"lang\",\"lange\",\"leicht\",\"leide\",\"lieber\",\"los\",\"m\",\"machen\",\"macht\",\"machte\",\"mag\",\"magst\",\"mahn\",\"mal\",\"man\",\"manche\",\"manchem\",\"manchen\",\"mancher\",\"manches\",\"mann\",\"mehr\",\"mein\",\"meine\",\"meinem\",\"meinen\",\"meiner\",\"meines\",\"mensch\",\"menschen\",\"mich\",\"mir\",\"mit\",\"mittel\",\"mochte\",\"mochten\",\"morgen\",\"muss\",\"musst\",\"musste\",\"mussten\",\"muß\",\"mußt\",\"möchte\",\"mögen\",\"möglich\",\"mögt\",\"müssen\",\"müsst\",\"müßt\",\"n\",\"na\",\"nach\",\"nachdem\",\"nahm\",\"natürlich\",\"neben\",\"nein\",\"neue\",\"neuen\",\"neun\",\"neunte\",\"neunten\",\"neunter\",\"neuntes\",\"nicht\",\"nichts\",\"nie\",\"niemand\",\"niemandem\",\"niemanden\",\"noch\",\"nun\",\"nur\",\"o\",\"ob\",\"oben\",\"oder\",\"offen\",\"oft\",\"ohne\",\"ordnung\",\"p\",\"q\",\"r\",\"recht\",\"rechte\",\"rechten\",\"rechter\",\"rechtes\",\"richtig\",\"rund\",\"s\",\"sa\",\"sache\",\"sagt\",\"sagte\",\"sah\",\"satt\",\"schlecht\",\"schluss\",\"schon\",\"sechs\",\"sechste\",\"sechsten\",\"sechster\",\"sechstes\",\"sehr\",\"sei\",\"seid\",\"seien\",\"sein\",\"seine\",\"seinem\",\"seinen\",\"seiner\",\"seines\",\"seit\",\"seitdem\",\"selbst\",\"sich\",\"sie\",\"sieben\",\"siebente\",\"siebenten\",\"siebenter\",\"siebentes\",\"sind\",\"so\",\"solang\",\"solche\",\"solchem\",\"solchen\",\"solcher\",\"solches\",\"soll\",\"sollen\",\"sollst\",\"sollt\",\"sollte\",\"sollten\",\"sondern\",\"sonst\",\"soweit\",\"sowie\",\"später\",\"startseite\",\"statt\",\"steht\",\"suche\",\"t\",\"tag\",\"tage\",\"tagen\",\"tat\",\"teil\",\"tel\",\"tritt\",\"trotzdem\",\"tun\",\"u\",\"uhr\",\"um\",\"und\",\"uns\",\"unse\",\"unsem\",\"unsen\",\"unser\",\"unsere\",\"unserer\",\"unses\",\"unter\",\"v\",\"vergangenen\",\"viel\",\"viele\",\"vielem\",\"vielen\",\"vielleicht\",\"vier\",\"vierte\",\"vierten\",\"vierter\",\"viertes\",\"vom\",\"von\",\"vor\",\"w\",\"wahr\",\"wann\",\"war\",\"waren\",\"warst\",\"wart\",\"warum\",\"was\",\"weg\",\"wegen\",\"weil\",\"weit\",\"weiter\",\"weitere\",\"weiteren\",\"weiteres\",\"welche\",\"welchem\",\"welchen\",\"welcher\",\"welches\",\"wem\",\"wen\",\"wenig\",\"wenige\",\"weniger\",\"weniges\",\"wenigstens\",\"wenn\",\"wer\",\"werde\",\"werden\",\"werdet\",\"weshalb\",\"wessen\",\"wie\",\"wieder\",\"wieso\",\"will\",\"willst\",\"wir\",\"wird\",\"wirklich\",\"wirst\",\"wissen\",\"wo\",\"woher\",\"wohin\",\"wohl\",\"wollen\",\"wollt\",\"wollte\",\"wollten\",\"worden\",\"wurde\",\"wurden\",\"während\",\"währenddem\",\"währenddessen\",\"wäre\",\"würde\",\"würden\",\"x\",\"y\",\"z\",\"z.b\",\"zehn\",\"zehnte\",\"zehnten\",\"zehnter\",\"zehntes\",\"zeit\",\"zu\",\"zuerst\",\"zugleich\",\"zum\",\"zunächst\",\"zur\",\"zurück\",\"zusammen\",\"zwanzig\",\"zwar\",\"zwei\",\"zweite\",\"zweiten\",\"zweiter\",\"zweites\",\"zwischen\",\"zwölf\",\"über\",\"überhaupt\",\"übrigens\"]"
   ]
  },
  {
   "cell_type": "code",
   "execution_count": 14,
   "metadata": {
    "id": "6gdPCWyX7hkE"
   },
   "outputs": [],
   "source": [
    "flatten = lambda l: [item for sublist in l for item in sublist]"
   ]
  },
  {
   "cell_type": "markdown",
   "metadata": {
    "id": "kHdZZRITBHt2"
   },
   "source": [
    "## GloVe German"
   ]
  },
  {
   "cell_type": "code",
   "execution_count": 15,
   "metadata": {
    "id": "Fy7hCm7ABmut"
   },
   "outputs": [],
   "source": [
    "punct = '\\!\"#$%&\\'\\(\\)\\*\\+,\\-\\./:;<=>\\?@[\\\\]^_`{|}~\\^„“/…'\n",
    "def test_unicode(text):\n",
    "    non_unicode = re.findall(f'[^A-Za-zÀ-ž0-9\\\\n {punct}]', text)\n",
    "    return not bool(non_unicode), non_unicode"
   ]
  },
  {
   "cell_type": "code",
   "execution_count": null,
   "metadata": {
    "id": "Ap8ztzSJBHQC"
   },
   "outputs": [],
   "source": [
    "with open('vectors.txt') as f:\n",
    "    lines = f.readlines()"
   ]
  },
  {
   "cell_type": "code",
   "execution_count": null,
   "metadata": {
    "id": "VdUvJW_SBRgq"
   },
   "outputs": [],
   "source": [
    "def process_line(line):\n",
    "    key, str_value = line.strip().split(' ', 1)\n",
    "    return key, np.array([float(x) for x in str_value.split()])"
   ]
  },
  {
   "cell_type": "code",
   "execution_count": null,
   "metadata": {
    "id": "RiWFIXLvBUaR"
   },
   "outputs": [],
   "source": [
    "glove = {}\n",
    "for line in lines:\n",
    "    key, value = process_line(line)\n",
    "    if test_unicode(key):\n",
    "        glove[key] = value"
   ]
  },
  {
   "cell_type": "code",
   "execution_count": null,
   "metadata": {
    "id": "hqbeb-0MBWWT"
   },
   "outputs": [],
   "source": [
    "glove_oov = set()\n",
    "def get_glove_vector(word):\n",
    "    if word in glove:\n",
    "        return glove[word]\n",
    "    else:\n",
    "        glove_oov.add(word)\n",
    "        return None"
   ]
  },
  {
   "cell_type": "markdown",
   "metadata": {
    "id": "k1beNnkdfT6r"
   },
   "source": [
    "#### Save glove"
   ]
  },
  {
   "cell_type": "code",
   "execution_count": null,
   "metadata": {
    "id": "MA05I5q8Z5ld"
   },
   "outputs": [],
   "source": [
    "import gensim\n",
    "from tqdm import tqdm"
   ]
  },
  {
   "cell_type": "code",
   "execution_count": null,
   "metadata": {
    "id": "1RpWbeefaAYk"
   },
   "outputs": [],
   "source": [
    "\n",
    "def save_word2vec_format(fname, vocab, vector_size, binary=True):\n",
    "  # gensim 3.4\n",
    "    \"\"\"Store the input-hidden weight matrix in the same format used by the original\n",
    "    C word2vec-tool, for compatibility.\n",
    "\n",
    "    Parameters\n",
    "    ----------\n",
    "    fname : str\n",
    "        The file path used to save the vectors in.\n",
    "    vocab : dict\n",
    "        The vocabulary of words.\n",
    "    vector_size : int\n",
    "        The number of dimensions of word vectors.\n",
    "    binary : bool, optional\n",
    "        If True, the data wil be saved in binary word2vec format, else it will be saved in plain text.\n",
    "\n",
    "\n",
    "    \"\"\"\n",
    "\n",
    "    total_vec = len(vocab)\n",
    "    with gensim.utils.open(fname, 'wb') as fout:\n",
    "        print(total_vec, vector_size)\n",
    "        fout.write(gensim.utils.to_utf8(\"%s %s\\n\" % (total_vec, vector_size)))\n",
    "        # store in sorted order: most frequent words at the top\n",
    "        for word, row in tqdm(vocab.items()):\n",
    "            if binary:\n",
    "                row = row.astype(np.float32)\n",
    "                fout.write(gensim.utils.to_utf8(word) + b\" \" + row.tostring())\n",
    "            else:\n",
    "                fout.write(gensim.utils.to_utf8(\"%s %s\\n\" % (word, ' '.join(repr(val) for val in row))))"
   ]
  },
  {
   "cell_type": "code",
   "execution_count": null,
   "metadata": {
    "colab": {
     "base_uri": "https://localhost:8080/"
    },
    "id": "G4EzCb5taBum",
    "outputId": "166e12d0-ec0f-4de8-a6ca-d2e1d06008c1"
   },
   "outputs": [],
   "source": [
    "%%time\n",
    "# save_word2vec_format(binary=True, fname='/content/drive/MyDrive/studies/science/Schizophrenia_private/german/glove_de.bin', vocab=glove, vector_size=300)"
   ]
  },
  {
   "cell_type": "code",
   "execution_count": null,
   "metadata": {
    "id": "U2w1JljMaLvf"
   },
   "outputs": [],
   "source": [
    "# model = gensim.models.KeyedVectors.load_word2vec_format('glove_de.bin', binary=True)"
   ]
  },
  {
   "cell_type": "markdown",
   "metadata": {
    "id": "OceVfvhpy7V5"
   },
   "source": [
    "## Preprocess\n",
    "https://textmining.wp.hs-hannover.de/Preprocessing.html\n",
    "\n",
    "https://spacy.io/usage/linguistic-features"
   ]
  },
  {
   "cell_type": "code",
   "execution_count": null,
   "metadata": {
    "id": "erMtlMi7Xgcg"
   },
   "outputs": [],
   "source": [
    "#from pymystem3 import Mystem\n",
    "#mystem = Mystem()\n",
    "# def preprocess_text_ru(text):\n",
    "#     tokens = mystem.lemmatize(text.lower())\n",
    "#     tokens = [token for token in tokens if token not in stopwords_ru\\\n",
    "#               and token != \" \" \\\n",
    "#               and token.strip() not in punct]\n",
    "\n",
    "#     text = \" \".join(tokens)\n",
    "\n",
    "#     return text"
   ]
  },
  {
   "cell_type": "code",
   "execution_count": 16,
   "metadata": {
    "id": "NEPdwsDir0CW"
   },
   "outputs": [],
   "source": [
    "tagger = ht.HanoverTagger('morphmodel_ger.pgz')"
   ]
  },
  {
   "cell_type": "code",
   "execution_count": null,
   "metadata": {
    "id": "3wBCp0mZoa1-"
   },
   "outputs": [],
   "source": [
    "default_sent_tokenizer = lambda t: nltk.sent_tokenize(t, 'german')\n",
    "default_word_tokenizer = lambda t: nltk.word_tokenize(t, 'german')\n",
    "# default_stemmer = lambda w: nltk.stem.snowball.GermanStemmer().stem(w)\n",
    "default_pos_tagger = lambda w: tagger.analyze(w)[-1]\n",
    "default_lemmatizer = lambda w: tagger.analyze(w)[0]\n",
    "default_model = lambda w: get_glove_vector(w)"
   ]
  },
  {
   "cell_type": "code",
   "execution_count": 17,
   "metadata": {
    "id": "1VOCJrLQJmq3"
   },
   "outputs": [],
   "source": [
    "def idf_sent_vectors(words: List[str], vectors: List[np.array]) -> np.array:\n",
    "    assert len(words) == len(vectors)\n",
    "    weights = [word_frequency(w, 'de') for w in words]\n",
    "    return np.average(vectors, axis=0, weights=weights)"
   ]
  },
  {
   "cell_type": "code",
   "execution_count": 18,
   "metadata": {
    "id": "5HmxiPiakq-5"
   },
   "outputs": [],
   "source": [
    "@attr.s(auto_attribs=True)\n",
    "class TextData():\n",
    "    text: str\n",
    "    words: Optional[List[str]] = attr.ib(factory=list)\n",
    "    lemmas: Optional[List[str]] = attr.ib(factory=list)\n",
    "    pos: Optional[List[str]] = attr.ib(factory=list)\n",
    "    sents: Optional[List[str]] = attr.ib(factory=list)\n",
    "    sent_words: Optional[List[List[str]]] = attr.ib(factory=list)\n",
    "    word_vectors: Optional[List[np.array]] = attr.ib(factory=list)\n",
    "    word_for_vectors: Optional[List[str]] = attr.ib(factory=list)\n",
    "    sent_word_vectors: Optional[List[List[np.array]]] = attr.ib(factory=list)\n",
    "    sent_word_for_vectors: Optional[List[List[str]]] = attr.ib(factory=list)\n",
    "    oov: Optional[List[str]] = attr.ib(factory=list)\n",
    "\n",
    "    def __attrs_post_init__(self):\n",
    "        self.sent_vectors = [idf_sent_vectors(words, vectors) for words, vectors in zip(self.sent_word_for_vectors, self.sent_word_vectors)]"
   ]
  },
  {
   "cell_type": "code",
   "execution_count": null,
   "metadata": {
    "id": "s2ZSevi6EHZk"
   },
   "outputs": [],
   "source": [
    "def process_default(text: str, stopwords: Optional[List[str]] = []) -> TextData:\n",
    "    words = default_word_tokenizer(text)\n",
    "    sents = default_sent_tokenizer(text)\n",
    "    sent_words = [default_word_tokenizer(sent) for sent in sents]\n",
    "    pos = [default_pos_tagger(w) for w in words]\n",
    "    lemmas = [default_lemmatizer(w) for w in words]\n",
    "    word_vectors = [default_model(w.lower()) for w in lemmas if default_model(w.lower()) is not None]\n",
    "    word_for_vectors = [w for w in lemmas if default_model(w.lower()) is not None]\n",
    "    oov = [w for w in lemmas if default_model(w.lower()) is None]\n",
    "    sent_word_vectors = [[default_model(default_lemmatizer(w).lower()) \\\n",
    "                          for w in sent if \\\n",
    "                          default_model(default_lemmatizer(w).lower()) is not None]\n",
    "                         for sent in sent_words]\n",
    "    sent_word_for_vectors = [[default_lemmatizer(w) for w in sent if \\\n",
    "                              default_model(default_lemmatizer(w).lower()) \\\n",
    "                              is not None]\n",
    "                              for sent in sent_words]\n",
    "    data = TextData(text=text, words=words, lemmas=lemmas, pos=pos, sents=sents,\n",
    "                    sent_words=sent_words, word_vectors=word_vectors, oov=oov,\n",
    "                    sent_word_vectors=sent_word_vectors,\n",
    "                    word_for_vectors=word_for_vectors,\n",
    "                    sent_word_for_vectors=sent_word_for_vectors)\n",
    "    return data"
   ]
  },
  {
   "cell_type": "code",
   "execution_count": 19,
   "metadata": {
    "id": "DNWqMCzBvHs4"
   },
   "outputs": [],
   "source": [
    "def process_spacy(text: str, stopwords: Optional[List[str]] = [], nlp=nlp_de) -> TextData:\n",
    "    doc = nlp(text)\n",
    "    words = [token for token in doc if token.text not in stopwords]\n",
    "    sents = [str(sent) for sent in doc.sents]\n",
    "    sent_words = [[token for token in nlp(sent) if token.text not in stopwords]\n",
    "                   for sent in sents]\n",
    "    pos = [token.pos_ for token in doc]\n",
    "    lemmas = [token.lemma_ for token in doc]\n",
    "    filter_token = lambda token: token.text not in stopwords and not token.is_oov and token.pos_ not in ['PUNCT', 'NUM']\n",
    "    cleaned_sent_words = [[t for t in s if filter_token(t)] for s in sent_words]\n",
    "    cleaned_sent_words = [s for s in cleaned_sent_words if s]\n",
    "    oov = list(set(token.text for token in doc\n",
    "                   if (token.text not in stopwords\n",
    "                       and token.is_oov\n",
    "                       and token.pos_ not in ['PUNCT', 'NUM'])))\n",
    "    sent_word_vectors = [[token.vector for token in s] for s in cleaned_sent_words]\n",
    "    sent_word_for_vectors = [[token.text for token in s] for s in cleaned_sent_words]\n",
    "    word_vectors = flatten(sent_word_vectors)\n",
    "    word_for_vectors = flatten(sent_word_for_vectors)\n",
    "    data = TextData(text=text, words=words, lemmas=lemmas, pos=pos, sents=sents,\n",
    "                sent_words=sent_words, word_vectors=word_vectors, oov=oov,\n",
    "                sent_word_vectors=sent_word_vectors,\n",
    "                word_for_vectors=word_for_vectors,\n",
    "                sent_word_for_vectors=sent_word_for_vectors)\n",
    "    return data"
   ]
  },
  {
   "cell_type": "code",
   "execution_count": 69,
   "metadata": {
    "id": "dWgoB0NLUTw5"
   },
   "outputs": [],
   "source": [
    "some_large_text = \"Der Dackel zeichnet sich durch niedrige, kurzläufige, langgestreckte, aber kompakte Gestalt aus. Er ist sehr muskulös, mit aufrechter Haltung des Kopfes und aufmerksamem Gesichtsausdruck. Die verkürzten Beine der Dackel sind das Resultat einer gezielten Selektion auf Chondrodysplasie und sind im Rassestandard verankert. Es gibt die Hunde in verschiedenen Größen und Fellvariationen: Langhaar, Rauhaar, Kurzhaar in jeweils vielen Farbvariationen, auch mehrfarbig, gestromt oder gefleckt. Während gefleckte Tiere als eine der 4 Färbungen durch den FCI definiert sind, werden Schwarze Tiere ohne Brand sowie weiße mit oder ohne Brand im Rassestandard der FCI ausdrücklich ausgeschlossen[2]. Unter AKC-Regeln können weiß gescheckte Dackel ausgestellt werden und sind dort als Piebalds bekannt.[3] Die hängenden Ohren sind nicht zu weit vorne angesetzt, ausreichend, aber nicht übertrieben lang und abgerundet. In den drei Haararten werden die Dackel im FCI-Standard nach ihrer Größe unterschieden in Teckel (T) (früher Normalteckel), Brustumfang (BU) über 35 cm, Gewichtsobergrenze etwa 9 kg, Zwergteckel (Zw), BU über 30 bis 35 cm, und Kaninchenteckel (Kt), BU bis 30 cm.\""
   ]
  },
  {
   "cell_type": "code",
   "execution_count": null,
   "metadata": {
    "id": "1bfwqiAtjptx"
   },
   "outputs": [],
   "source": [
    "# data_default = process_default(some_large_text)"
   ]
  },
  {
   "cell_type": "code",
   "execution_count": 70,
   "metadata": {
    "id": "x6QagTDhJUYk"
   },
   "outputs": [],
   "source": [
    "data = process_spacy(some_large_text)"
   ]
  },
  {
   "cell_type": "code",
   "execution_count": 88,
   "metadata": {},
   "outputs": [
    {
     "data": {
      "text/plain": [
       "spacy.lang.de.German"
      ]
     },
     "execution_count": 88,
     "metadata": {},
     "output_type": "execute_result"
    }
   ],
   "source": [
    "type(nlp_de)"
   ]
  },
  {
   "cell_type": "code",
   "execution_count": null,
   "metadata": {
    "id": "LiA8K_pijCOS"
   },
   "outputs": [],
   "source": [
    "some_large_text_ru = \"Знаете ли вы? Будапештский университет иудаики, около 1890 года Социалистическая власть не мешала работе раввинской семинарии (на илл.). Будапештский университет иудаики был открыт в 1877 году, через несколько десятилетий после того, как в Падуе, Меце, Париже и Бреслау были построены первые европейские раввинские семинарии. Тем не менее, он остаётся старейшим существующим учебным заведением в мире, где готовят раввинов.\""
   ]
  },
  {
   "cell_type": "code",
   "execution_count": null,
   "metadata": {
    "id": "1tWklTH_gqL_"
   },
   "outputs": [],
   "source": [
    "data_ru = process_spacy(some_large_text_ru, nlp=nlp_ru)"
   ]
  },
  {
   "cell_type": "markdown",
   "metadata": {
    "id": "HEe2J22rzJiR"
   },
   "source": [
    "## Lexical"
   ]
  },
  {
   "cell_type": "code",
   "execution_count": null,
   "metadata": {
    "id": "WO1oqQLZyPwD"
   },
   "outputs": [],
   "source": [
    "def TTR(words: List[str]) -> float:\n",
    "    return len(set(words)) / len(words)"
   ]
  },
  {
   "cell_type": "code",
   "execution_count": null,
   "metadata": {
    "colab": {
     "base_uri": "https://localhost:8080/"
    },
    "id": "p6RyMgMjzMFf",
    "outputId": "540ad7eb-e8bb-4cff-95fd-18c82dca12a2"
   },
   "outputs": [],
   "source": [
    "TTR(data.lemmas)"
   ]
  },
  {
   "cell_type": "code",
   "execution_count": null,
   "metadata": {
    "id": "VCsNSc39zOnK"
   },
   "outputs": [],
   "source": [
    "def MATTR(words: List[str], w: Optional[int] = 10) -> float:\n",
    "    if len(words) <= w:\n",
    "        return TTR(words)\n",
    "    else:\n",
    "        ttrs = []\n",
    "        for i in range(len(words)-w):\n",
    "            ttrs.append(TTR(words[i:i+w]))\n",
    "        return np.mean(ttrs)"
   ]
  },
  {
   "cell_type": "code",
   "execution_count": null,
   "metadata": {
    "colab": {
     "base_uri": "https://localhost:8080/"
    },
    "id": "qixZPD3_1Ey3",
    "outputId": "11bf7aaa-ffca-4b39-b216-79c842c5fac6"
   },
   "outputs": [],
   "source": [
    "MATTR(data.lemmas)"
   ]
  },
  {
   "cell_type": "markdown",
   "metadata": {
    "id": "MxxzYOyo1HKJ"
   },
   "source": [
    "## Syntactic"
   ]
  },
  {
   "cell_type": "code",
   "execution_count": null,
   "metadata": {
    "id": "dj0bs2W_1GTM"
   },
   "outputs": [],
   "source": [
    "def pos_rates(pos: List[str]) -> Dict[str, float]:\n",
    "    return {k: v/len(pos) for k, v in Counter(pos).items()}"
   ]
  },
  {
   "cell_type": "code",
   "execution_count": null,
   "metadata": {
    "colab": {
     "base_uri": "https://localhost:8080/"
    },
    "id": "KMJbze_V1XN_",
    "outputId": "ad6559ae-8f7e-4ace-d4f5-70fd46004104"
   },
   "outputs": [],
   "source": [
    "pos_rates(data.pos)"
   ]
  },
  {
   "cell_type": "code",
   "execution_count": null,
   "metadata": {
    "id": "59We2FtJ1vLi"
   },
   "outputs": [],
   "source": [
    "def sent_lengts(sents_words: List[List[str]]) -> float:\n",
    "    return np.mean([len(sent) for sent in sents_words])"
   ]
  },
  {
   "cell_type": "code",
   "execution_count": null,
   "metadata": {
    "colab": {
     "base_uri": "https://localhost:8080/"
    },
    "id": "HLgDvTxI2AO8",
    "outputId": "1e587a70-f354-4626-b056-5ec69df3b93d"
   },
   "outputs": [],
   "source": [
    "sent_lengts(data.sent_words)"
   ]
  },
  {
   "cell_type": "markdown",
   "metadata": {
    "id": "YSUDiON3y3PI"
   },
   "source": [
    "## Graph"
   ]
  },
  {
   "cell_type": "code",
   "execution_count": null,
   "metadata": {
    "id": "q8wjhlrShglt"
   },
   "outputs": [],
   "source": [
    "class _graphStatistics():\n",
    "\n",
    "\tdef __init__(self, graph: nx.MultiDiGraph):\n",
    "\t\tself.graph = graph\n",
    "\n",
    "\tdef statistics(self) -> Dict[str, float]:\n",
    "\t\tres = {}\n",
    "\t\tgraph = self.graph\n",
    "\t\tres['number_of_nodes'] = graph.number_of_nodes()\n",
    "\t\tres['number_of_edges'] = graph.number_of_edges()\n",
    "\t\tres['PE'] =  (np.array(list(Counter(graph.edges()).values()))>1).sum()\n",
    "\t\tres['LCC'] = len(max(nx.weakly_connected_components(graph), key=len))\n",
    "\t\tres['LSC'] = len(max(nx.strongly_connected_components(graph), key=len))\n",
    "\n",
    "\t\tdegrees = [v for k, v in graph.degree()]\n",
    "\t\tres['degree_average'] =  np.mean(degrees)\n",
    "\t\tres['degree_std'] =  np.std(degrees)\n",
    "\n",
    "\n",
    "\t\tadj_matrix = nx.adjacency_matrix(graph).toarray()\n",
    "\t\tadj_matrix2 = np.dot(adj_matrix , adj_matrix)\n",
    "\t\tadj_matrix3 = np.dot(adj_matrix2 , adj_matrix)\n",
    "\n",
    "\t\tres['L1'] =  np.trace(adj_matrix)\n",
    "\t\tres['L2'] =  np.trace(adj_matrix2)\n",
    "\t\tres['L3'] =  np.trace(adj_matrix3)\n",
    "\n",
    "\t\treturn res\n",
    "\n",
    "\n",
    "class naiveGraph():\n",
    "\tdef __init__(self):\n",
    "\t\tpass\n",
    "\n",
    "\tdef _text2graph(self, words: List[str]) -> nx.MultiDiGraph:\n",
    "\t\tgr = nx.MultiDiGraph()\n",
    "\t\tgr.add_edges_from(zip(words[:-1], words[1:]))\n",
    "\t\treturn gr\n",
    "\n",
    "\tdef analyzeText(self, words: List[str]) -> Dict[str, float]:\n",
    "\t\tdgr = self._text2graph(words)\n",
    "\t\treturn _graphStatistics(dgr).statistics()\n",
    "\n",
    "# https://github.com/facuzeta/speechgraph/blob/master/speechgraph/speechgraph.py"
   ]
  },
  {
   "cell_type": "code",
   "execution_count": null,
   "metadata": {
    "colab": {
     "base_uri": "https://localhost:8080/"
    },
    "id": "Mg_csei2hjEj",
    "outputId": "77b5f048-2bda-4670-e891-cbea38546e83"
   },
   "outputs": [],
   "source": [
    "naiveGraph().analyzeText(data.lemmas)"
   ]
  },
  {
   "cell_type": "code",
   "execution_count": null,
   "metadata": {
    "id": "xCC5lRpj2WIj"
   },
   "outputs": [],
   "source": [
    "def moving_graph_statistics(words: List[str], w: Optional[int] = 10) -> Dict[str, float]:\n",
    "    if len(words) <= w:\n",
    "        return naiveGraph().analyzeText(words)\n",
    "    else:\n",
    "        graph_stats = {}\n",
    "        for i in range(len(words)-w):\n",
    "            current_stats = naiveGraph().analyzeText(words[i:i+w])\n",
    "            graph_stats = {key: graph_stats.get(key, []) + [value] for key, value in current_stats.items()}\n",
    "        return {key: np.mean(value) for key, value in graph_stats.items()}"
   ]
  },
  {
   "cell_type": "code",
   "execution_count": null,
   "metadata": {
    "colab": {
     "base_uri": "https://localhost:8080/"
    },
    "id": "jaOvMlow5Hhj",
    "outputId": "423a3da5-7e62-4b72-9007-d403ec89a282"
   },
   "outputs": [],
   "source": [
    "moving_graph_statistics(data.lemmas, 15)"
   ]
  },
  {
   "cell_type": "markdown",
   "metadata": {
    "id": "EvcR2em_2P7o"
   },
   "source": [
    "## LM"
   ]
  },
  {
   "cell_type": "code",
   "execution_count": null,
   "metadata": {
    "id": "qghAa8ng7o6T"
   },
   "outputs": [],
   "source": [
    "def cos_sim(v1, v2):\n",
    "    return np.inner(v1, v2)/(np.linalg.norm(v1)*np.linalg.norm(v2))"
   ]
  },
  {
   "cell_type": "code",
   "execution_count": null,
   "metadata": {
    "id": "NY5X_DVZ8DoY"
   },
   "outputs": [],
   "source": [
    "def get_local_coherence_list(clause_vectors: List[np.array]) -> List[float]:\n",
    "    if len(clause_vectors) <= 1:\n",
    "        return [np.nan]\n",
    "    local_coherence_list = []\n",
    "    for i in range(len(clause_vectors)-1):\n",
    "        local_coherence_list.append(cos_sim(clause_vectors[i], clause_vectors[i+1]))\n",
    "    return local_coherence_list"
   ]
  },
  {
   "cell_type": "code",
   "execution_count": null,
   "metadata": {
    "id": "ORLbNvxW8I4D"
   },
   "outputs": [],
   "source": [
    "def get_second_order_coherence_list(clause_vectors: List[np.array]) -> List[float]:\n",
    "    if len(clause_vectors) <= 1:\n",
    "        return [np.nan]\n",
    "    SOC_list = []\n",
    "    for i in range(len(clause_vectors)-2):\n",
    "        SOC_list.append(cos_sim(clause_vectors[i], clause_vectors[i+2]))\n",
    "    return SOC_list"
   ]
  },
  {
   "cell_type": "code",
   "execution_count": null,
   "metadata": {
    "id": "OB4vb3vQ8WkF"
   },
   "outputs": [],
   "source": [
    "def compare_text_to_a_standard_vector(clause_vectors: List[np.array], standard_vector: np.array) -> float:\n",
    "    average_file_vector = np.average(clause_vectors, axis=0)\n",
    "    return cos_sim(average_file_vector, standard_vector)"
   ]
  },
  {
   "cell_type": "code",
   "execution_count": null,
   "metadata": {
    "id": "8Jpqywaj8gks"
   },
   "outputs": [],
   "source": [
    "def get_global_coherence_list(clause_vectors: List[np.array]) -> List[float]:\n",
    "    if len(clause_vectors) <= 1:\n",
    "        return [np.nan]\n",
    "    standard_vector = np.average(clause_vectors, axis=0)\n",
    "    return [cos_sim(vec, standard_vector) for vec in clause_vectors]"
   ]
  },
  {
   "cell_type": "code",
   "execution_count": null,
   "metadata": {
    "id": "X0k2pfKU87BW"
   },
   "outputs": [],
   "source": [
    "def get_cumulative_global_coherence_list(clause_vectors: List[np.array]) -> List[float]:\n",
    "    if len(clause_vectors) <= 1:\n",
    "        return [np.nan]\n",
    "    cumulative_global_coherence_list = []\n",
    "    for i in range(len(clause_vectors)):\n",
    "        cumulative_vector = np.average(clause_vectors[:i+1], axis=0)\n",
    "        cumulative_global_coherence_list.append(cos_sim(clause_vectors[i], cumulative_vector))\n",
    "    return cumulative_global_coherence_list"
   ]
  },
  {
   "cell_type": "markdown",
   "metadata": {
    "id": "kvcdM5yPMpp6"
   },
   "source": [
    "### BERT\n",
    "\n",
    "https://aclanthology.org/2020.coling-main.598/"
   ]
  },
  {
   "cell_type": "code",
   "execution_count": null,
   "metadata": {
    "colab": {
     "base_uri": "https://localhost:8080/",
     "height": 177
    },
    "id": "jop7xHOCM4mb",
    "outputId": "dc10c8eb-09f4-4229-97f8-1e55c0b77b8e"
   },
   "outputs": [],
   "source": [
    "model_name_de = \"bert-base-german-cased\"\n",
    "model_de = AutoModel.from_pretrained(model_name_de)\n",
    "tokenizer_de = AutoTokenizer.from_pretrained(model_name_de)"
   ]
  },
  {
   "cell_type": "code",
   "execution_count": null,
   "metadata": {
    "colab": {
     "base_uri": "https://localhost:8080/",
     "height": 248
    },
    "id": "IFgORAM3YGWa",
    "outputId": "9a2390aa-2b4f-411c-ffdc-2db4cd49d66f"
   },
   "outputs": [],
   "source": [
    "model_name_ru = \"DeepPavlov/rubert-base-cased\"\n",
    "model_ru = AutoModel.from_pretrained(model_name_ru)\n",
    "tokenizer_ru = AutoTokenizer.from_pretrained(model_name_ru)"
   ]
  },
  {
   "cell_type": "markdown",
   "metadata": {
    "id": "a4soKh1kQnrk"
   },
   "source": [
    "### sent vectorize"
   ]
  },
  {
   "cell_type": "code",
   "execution_count": null,
   "metadata": {
    "id": "Op-JY6dENBpl"
   },
   "outputs": [],
   "source": [
    "inputs = tokenizer_de(some_large_text, return_tensors=\"pt\")\n",
    "outputs, outputs_1 = model_de(**inputs).to_tuple()"
   ]
  },
  {
   "cell_type": "code",
   "execution_count": null,
   "metadata": {
    "id": "H4gUEXZai15X"
   },
   "outputs": [],
   "source": [
    "inputs = tokenizer_ru(some_large_text_ru, return_tensors=\"pt\")\n",
    "outputs, outputs_1 = model_ru(**inputs).to_tuple()"
   ]
  },
  {
   "cell_type": "code",
   "execution_count": null,
   "metadata": {
    "id": "tfSfizeHRxY_"
   },
   "outputs": [],
   "source": [
    "def bert_sent_vectorize(text: str, model=model_de, tokenizer=tokenizer_de) -> np.array:\n",
    "    inputs = tokenizer(text, return_tensors=\"pt\")\n",
    "    word_vectors, sent_vector = model(**inputs).to_tuple()\n",
    "    return sent_vector.detach().squeeze().numpy()"
   ]
  },
  {
   "cell_type": "code",
   "execution_count": null,
   "metadata": {
    "colab": {
     "base_uri": "https://localhost:8080/"
    },
    "id": "QW9Z453VSAI7",
    "outputId": "9aac4304-d689-468c-fe7f-542377158405"
   },
   "outputs": [],
   "source": [
    "bert_sent_vectorize(data.sents[0])[:10]"
   ]
  },
  {
   "cell_type": "code",
   "execution_count": null,
   "metadata": {
    "colab": {
     "base_uri": "https://localhost:8080/"
    },
    "id": "WBYjFu_qlFo_",
    "outputId": "f8de9e91-2a63-4cb8-a1a8-16a5a0ee9a23"
   },
   "outputs": [],
   "source": [
    "bert_sent_vectorize(data_ru.sents[0], model=model_ru, tokenizer=tokenizer_ru)[:10]"
   ]
  },
  {
   "cell_type": "markdown",
   "metadata": {
    "id": "7J3Bl3uCQpu1"
   },
   "source": [
    "### next sentence prediction"
   ]
  },
  {
   "cell_type": "code",
   "execution_count": null,
   "metadata": {
    "id": "4EJ4BxvlOkJE"
   },
   "outputs": [],
   "source": [
    "tokenizer_nsp_de = BertTokenizer.from_pretrained(model_name_de)\n",
    "model_nsp_de = BertForNextSentencePrediction.from_pretrained(model_name_de)\n",
    "tokenizer_nsp_ru = BertTokenizer.from_pretrained(model_name_ru)\n",
    "model_nsp_ru = BertForNextSentencePrediction.from_pretrained(model_name_ru)"
   ]
  },
  {
   "cell_type": "code",
   "execution_count": null,
   "metadata": {
    "id": "URPa6aQDQ3T0"
   },
   "outputs": [],
   "source": [
    "def next_sent_prob(sent_text_1: str, sent_text_2: str,\n",
    "                   tokenizer_nsp=tokenizer_nsp_de,\n",
    "                   model_nsp=model_nsp_de) -> float:\n",
    "    tokenized = tokenizer_nsp(sent_text_1, sent_text_2, return_tensors='pt')\n",
    "    predict = model_nsp(**tokenized)\n",
    "    pred = torch.nn.functional.softmax(predict.logits[0], dim=0)[0].item()\n",
    "    return pred"
   ]
  },
  {
   "cell_type": "code",
   "execution_count": null,
   "metadata": {
    "id": "MsXeG2JNOzzK"
   },
   "outputs": [],
   "source": [
    "sentence_A = \"Ich bin nicht so sicher.\"\n",
    "sentence_B = \"Jedoch nur die Rasse Dachshund enthält.\""
   ]
  },
  {
   "cell_type": "code",
   "execution_count": null,
   "metadata": {
    "colab": {
     "base_uri": "https://localhost:8080/"
    },
    "id": "Fyyt0TLKRaqX",
    "outputId": "1f92e052-96db-4ecd-db34-0d018531d67f"
   },
   "outputs": [],
   "source": [
    "next_sent_prob(sentence_A, sentence_B)"
   ]
  },
  {
   "cell_type": "code",
   "execution_count": null,
   "metadata": {
    "id": "tEMGM0TSlk00"
   },
   "outputs": [],
   "source": [
    "sentence_A_ru = \"Ну что такое?\"\n",
    "sentence_B_ru = \"Почему-то все опять не работает.\""
   ]
  },
  {
   "cell_type": "code",
   "execution_count": null,
   "metadata": {
    "colab": {
     "base_uri": "https://localhost:8080/"
    },
    "id": "lePlHhJEljHe",
    "outputId": "a30cc814-87c3-4052-b97d-5d64ae07ee25"
   },
   "outputs": [],
   "source": [
    "next_sent_prob(sentence_A_ru, sentence_B_ru, tokenizer_nsp=tokenizer_nsp_ru, model_nsp=model_nsp_ru)"
   ]
  },
  {
   "cell_type": "code",
   "execution_count": null,
   "metadata": {
    "id": "QwPaea6lTclI"
   },
   "outputs": [],
   "source": [
    "def get_prob_list(sents: List[str], tokenizer_nsp=tokenizer_nsp_de, model_nsp=model_nsp_de) -> List[float]:\n",
    "    return [next_sent_prob(sents[i], sents[i+1], tokenizer_nsp=tokenizer_nsp, model_nsp=model_nsp) for i in range(len(sents)-1)]"
   ]
  },
  {
   "cell_type": "code",
   "execution_count": null,
   "metadata": {
    "colab": {
     "base_uri": "https://localhost:8080/"
    },
    "id": "OfCLbhLVT4TE",
    "outputId": "70cc8ed8-b63c-47e7-c32c-43d393640713"
   },
   "outputs": [],
   "source": [
    "get_prob_list(data.sents)"
   ]
  },
  {
   "cell_type": "code",
   "execution_count": null,
   "metadata": {
    "colab": {
     "base_uri": "https://localhost:8080/"
    },
    "id": "iFv08kR2lafW",
    "outputId": "e2fec813-1094-419a-b4de-8dc051cb573b"
   },
   "outputs": [],
   "source": [
    "get_prob_list(data_ru.sents, tokenizer_nsp=tokenizer_nsp_ru, model_nsp=model_nsp_ru)"
   ]
  },
  {
   "cell_type": "markdown",
   "metadata": {
    "id": "KJ5VUgApqhKF"
   },
   "source": [
    "## Apply"
   ]
  },
  {
   "cell_type": "code",
   "execution_count": null,
   "metadata": {
    "id": "4n4CDdGUqjPf"
   },
   "outputs": [],
   "source": [
    "@attr.s(auto_attribs=True)\n",
    "class ProcessTextData:\n",
    "    data: TextData\n",
    "    bert_lang: Optional[str] = attr.ib(default='de')\n",
    "\n",
    "    def __attrs_post_init__(self):\n",
    "        if self.bert_lang == 'de':\n",
    "            self.bert_model = model_de\n",
    "            self.bert_model_nsp = model_nsp_de\n",
    "            self.bert_tokenizer = tokenizer_de\n",
    "            self.bert_tokenizer_nsp = tokenizer_nsp_de\n",
    "        elif self.bert_lang == 'ru':\n",
    "            self.bert_model = model_ru\n",
    "            self.bert_model_nsp = model_nsp_ru\n",
    "            self.bert_tokenizer = tokenizer_ru\n",
    "            self.bert_tokenizer_nsp = tokenizer_nsp_ru\n",
    "\n",
    "        self.n_words = len(self.data.words)\n",
    "        self.LTR = self.TTR()\n",
    "        self.MALTR = self.MATTR()\n",
    "        self.lexical = {'n_words': self.n_words,\n",
    "                        'LTR': self.LTR,\n",
    "                        'MALTR': self.MALTR}\n",
    "\n",
    "        self.n_sents = len(self.data.sents)\n",
    "        self.mean_sent_words = np.mean([len(s) for s in self.data.sent_words])\n",
    "        self.pos_rates = pos_rates(self.data.pos)\n",
    "\n",
    "        self.syntactic = {'n_sents': self.n_sents,\n",
    "                        'mean_sent_words': self.mean_sent_words}\n",
    "        self.syntactic.update(self.pos_rates)\n",
    "\n",
    "        self.graph_statistics = self.graph_statistics()\n",
    "\n",
    "        self.mean_lcoh = np.mean(self.local_coherence_list())\n",
    "        self.mean_gcoh = np.mean(self.global_coherence_list())\n",
    "        self.mean_cgcoh = np.mean(self.cumulative_global_coherence_list())\n",
    "        self.mean_scoh = np.mean(self.second_order_coherence_list())\n",
    "        self.mean_sent_prob = np.mean(self.sent_prob_list)\n",
    "\n",
    "        self.LM = {'m_lcoh': self.mean_lcoh,\n",
    "                   'm_gcoh': self.mean_gcoh,\n",
    "                   'm_cgcoh': self.mean_cgcoh,\n",
    "                   'm_scoh': self.mean_scoh,\n",
    "                   'm_sporb': self.mean_sent_prob,\n",
    "                   'm_bert_lcoh': np.mean(self.local_coherence_list(model='bert')),\n",
    "                   'm_bert_gcoh': np.mean(self.global_coherence_list(model='bert')),\n",
    "                   'm_bert_cgcoh': np.mean(self.cumulative_global_coherence_list(model='bert')),\n",
    "                   'm_bert_scoh': np.mean(self.second_order_coherence_list(model='bert'))\n",
    "                   }\n",
    "\n",
    "\n",
    "    # lexical\n",
    "    def TTR(self, lemmas: bool = True) -> float:\n",
    "        items = self.data.lemmas if lemmas else self.data.words\n",
    "        return TTR(items)\n",
    "\n",
    "    def MATTR(self, w: Optional[int] = 10, lemmas: bool = True) -> float:\n",
    "        items = self.data.lemmas if lemmas else self.data.words\n",
    "        return MATTR(items, w=w)\n",
    "\n",
    "    # graph\n",
    "    def graph_statistics(self, w: Optional[int] = 10, lemmas: bool = True) -> Dict[str, float]:\n",
    "        items = self.data.lemmas if lemmas else self.data.words\n",
    "        return moving_graph_statistics(items, w=w)\n",
    "\n",
    "    # LM\n",
    "    @cached_property\n",
    "    def bert_sent_vectors(self) -> List[np.array]:\n",
    "        return [bert_sent_vectorize(s,\n",
    "                                    model=self.bert_model,\n",
    "                                    tokenizer=self.bert_tokenizer)\n",
    "                for s in self.data.sents]\n",
    "\n",
    "    def sent_vectors(self, model: Optional[str] = 'default') -> List[np.array]:\n",
    "        if model == 'bert':\n",
    "            return self.bert_sent_vectors\n",
    "        else:\n",
    "            return self.data.sent_vectors\n",
    "\n",
    "    def local_coherence_list(self, model: Optional[str] = 'default') -> List[float]:\n",
    "        return get_local_coherence_list(self.sent_vectors(model=model))\n",
    "\n",
    "    def global_coherence_list(self, model: Optional[str] = 'default') -> List[float]:\n",
    "        return get_global_coherence_list(self.sent_vectors(model=model))\n",
    "\n",
    "    def cumulative_global_coherence_list(self, model: Optional[str] = 'default') -> List[float]:\n",
    "        return get_cumulative_global_coherence_list(self.sent_vectors(model=model))\n",
    "\n",
    "    def second_order_coherence_list(self, model: Optional[str] = 'default') -> List[float]:\n",
    "        return get_second_order_coherence_list(self.sent_vectors(model=model))\n",
    "\n",
    "    @cached_property\n",
    "    def sent_prob_list(self):\n",
    "        return get_prob_list(self.data.sents,\n",
    "                             model_nsp=self.bert_model_nsp,\n",
    "                             tokenizer_nsp=self.bert_tokenizer_nsp)\n",
    "\n",
    "    # values\n",
    "    @cached_property\n",
    "    def values(self):\n",
    "        return {'LM': self.LM, 'syntactic': self.syntactic,\n",
    "                'lexical': self.lexical, 'graph': self.graph_statistics}"
   ]
  },
  {
   "cell_type": "code",
   "execution_count": null,
   "metadata": {
    "colab": {
     "base_uri": "https://localhost:8080/"
    },
    "id": "UzNLlAOrrRNY",
    "outputId": "aafb98ff-4047-4ca4-bdd4-9a824de11d23"
   },
   "outputs": [],
   "source": [
    "d = ProcessTextData(data)\n",
    "d.values"
   ]
  },
  {
   "cell_type": "code",
   "execution_count": 54,
   "metadata": {},
   "outputs": [
    {
     "data": {
      "text/plain": [
       "0.000182"
      ]
     },
     "execution_count": 54,
     "metadata": {},
     "output_type": "execute_result"
    }
   ],
   "source": [
    "word_frequency('работе', 'ru')"
   ]
  },
  {
   "cell_type": "code",
   "execution_count": null,
   "metadata": {
    "colab": {
     "base_uri": "https://localhost:8080/"
    },
    "id": "d-I5ofkAozxw",
    "outputId": "1074c3a1-b071-4ac1-bcf3-2e47ebc8905b"
   },
   "outputs": [],
   "source": [
    "d_ru = ProcessTextData(data_ru, bert_lang='ru')\n",
    "d_ru.values"
   ]
  },
  {
   "cell_type": "code",
   "execution_count": null,
   "metadata": {
    "id": "T19lvBST7BaN"
   },
   "outputs": [],
   "source": [
    "def average_values(list_of_values_dicts: List[Dict[str, Dict[str, float]]]) -> Dict[str, Dict[str, float]]:\n",
    "    new_val = {metric_type: {metric_name: [] for metric_name in metric_dict.keys()}\n",
    "               for metric_type, metric_dict in list_of_values_dicts[0].items()}\n",
    "    for values in list_of_values_dicts:\n",
    "        for metric_type, d in values.items():\n",
    "            for metric_name, metric_value in d.items():\n",
    "                if metric_name not in new_val[metric_type]:\n",
    "                    new_val[metric_type][metric_name] = [metric_value]\n",
    "                new_val[metric_type][metric_name].append(metric_value)\n",
    "\n",
    "    return {metric_type: {metric_name: np.mean(metric_values) for metric_name,\n",
    "                        metric_values in metric_dict.items()}\n",
    "             for metric_type, metric_dict in new_val.items()}"
   ]
  },
  {
   "cell_type": "markdown",
   "metadata": {
    "id": "UF-H2A_AA8jd"
   },
   "source": [
    "Test"
   ]
  },
  {
   "cell_type": "code",
   "execution_count": 41,
   "metadata": {
    "id": "dQu3O6-HABJM"
   },
   "outputs": [],
   "source": [
    "import pandas as pd\n",
    "df = pd.read_csv('split_questions_cp_0.tsv', sep='\\t', index_col=0).dropna()"
   ]
  },
  {
   "cell_type": "code",
   "execution_count": null,
   "metadata": {
    "colab": {
     "background_save": true,
     "base_uri": "https://localhost:8080/"
    },
    "id": "eudhYT1ZA70I",
    "outputId": "65d9431d-e3e3-4b9e-ccb2-3483e4e6d29b"
   },
   "outputs": [],
   "source": [
    "newrows = {}\n",
    "for index, row in df.iterrows():\n",
    "    vals = []\n",
    "#     print(len(row))\n",
    "    for w in row:\n",
    "        d = process_spacy(w)\n",
    "        v = ProcessTextData(d).values\n",
    "        vals.append(v)\n",
    "        del d\n",
    "    newrows[index] = average_values(vals)\n",
    "#     print(row['anger'])"
   ]
  },
  {
   "cell_type": "code",
   "execution_count": 65,
   "metadata": {},
   "outputs": [
    {
     "name": "stdout",
     "output_type": "stream",
     "text": [
      "45_6M_manual_c  Ja was bedeutet Traurigkeit. Also generell habe ich halt ein Problem mit Emotionen und ähm. Also ich bin eigentlich eher ein rational orientierter Mensch. Aber jetzt so in letzter Zeit lerne ich das halt so kennen. Weil ich ja eben diese verschiedenen Wechsel tagtäglich erlebe. Ja ja Trauer ist halt Trauer. Was soll ich jetzt dazu sagen?  Mhm ja. Also das ist halt wenn ich. Also ich kann das halt eben bei einem anderen Menschen also fühlen. Wenn in einem anderen Menschen sehr viel Trauer drinne ist und ich mit dem verbunden bin dann nehme ich diese Trauer wahr. Ja. Ja ansonsten ist es halt so dass ich meine eigenen Emotionen ja eigentlich mein Leben lang unterdrückt habe und ja. Ähm. Es ist halt dann. Es gibt halt dann so Situationen wo Trauer da ist. Und wo es dann zum Weinen kommt und ich dadurch dann die Trauer auflöse. Und es danach dann besser wird. Hatte ich naja. Also da jetzt gestern vorgestern war jetzt einiges da so mit Frauen und sowas halt. Und in Bezug auf diese ganzen Kommunikationen und mit dieser sexuellen Lust und so weiter. Und da habe ich mich auf eine bestimmte Art und Weise verhalten in dieser Kommunikation und Austausch. Und des hat halt irgendwie einen. War halt überwältigend für die Frau. Und ich habe diese Überwältigung dann selbst wahrgenommen dass mir dann die Tränen kamen. Und wahrscheinlich kamen der Frau die Tränen und. Das ist halt schwierig dann da sein bisschen zu unterscheiden irgendwie. Und auch schwer nachvollziehbar für andere.  Okay also ganz konkret bei dieser Situation ging es halt darum dass ich auf der einen Seite eine große Sehnsucht habe nach sexueller Lust. Das auf eine gesunde Art und Weise auszuleben. Und auf der anderen Seite ist aber eine Strenge ein strenger Verbot da dass es nicht sein darf. Und da stecke ich ja drinne. Das ist ja das Dilemma. Und ich hatte das halt einfach so festgestellt. Und Ja irgendwie macht es halt dann traurig da halt in so einer in so einem Zwiespalt irgendwie drinne zu stecken und nicht rauszukommen.  Ja hm. Okay. Wut beruht auf Unsicherheit. Theoretisch jetzt. Mh ganz konkret ist es halt so dass wegen einer Projektion aus der Vergangenheit in die gegenwärtige Situation hinein das ausbricht. Und letztendlich hat das wenig mit der gegenwärtigen Situation zu tun. Die gegenwärtige Situation ist halt nur der Trigger sozusagen der die Wutsituation veranlasst. Und dahinter steckt natürlich dann dieses Überzeugungssystem dass etwas nicht sein darf. Und wenn irgendwas anders läuft als es irgendwie in der im eigenen Weltbild in der Vorstellung ähm. Also wenn es halt anders ist dann wird man halt wütend. Entweder ist es unterdrückt. Einfach nur im mittleren Rückenbereich dann als Schmerz spürbar ähm oder man äußert es halt irgendwie. Naja und. Also das ist halt eher der negative Aspekt. Der positive Aspekt in diesem Bereich ist halt die Stärke. Also die Stärke beruht aber auch Sicherheit. Und dann kann sie halt auch beherrscht geäußert werden. Bestimmt selbstsicher integriert weil es einfach angebracht ist.  Ja zum Beispiel da in der Rehaklinik mit dem Chefarzt. Das war ziemlich heftig. Aber ich habe es dann ähm bis zum nächsten Tag am nächsten Morgen dann bereinigt. Und mir wurde halt klar was ich da halt reinprojiziert habe. Also das was dahintersteckte war halt ähm. Also mein Leben lang geht es irgenwie darum dass ich sozusagen. Also zum Beispiel die Schüler sind die halt dann die ich beschütze gegenüber den Lehrern weil der Lehrer irgendwie alle ungerecht behandelt. Und das war halt dann in der Universität eventuell so. Und jetzt da in der Therapie die Gruppe da ging es halt darum die Gruppe gegenüber dem Therapeuten zu verteidigen: Ja und das ist halt. Also letztendlich beruht es wahrscheinlich darauf dass ähm also meine Schwester sozusagen die Gruppe ist die ich gegenüber meinem Vater oder den Autoritätspersonen beschützt habe. Also das ist halt das was halt die ganze Zeit eigentlich bis jetzt aktiv ist. Groß übertragen wäre das halt so dass im Prinzip die Menschheit und die normalen Menschen. Dass ich sie vor der Machtelite oder den autoritären herrschenden Personen dann irgendwie beschützen befreien kannn. Und dass ich Wut und Ärger gegenüber den Entscheidern dann empfinde. Und diese Ungerechtigkeit auflösen will. Ähm wie war die Frage nochmal?  Ja das habe ich ja jetzt beantwortet. Also und die Bereinigung war halt dass ich das dann erkannt am nächsten. Als ich eine Nacht darüber geschlafen habe. Und dann habe ich halt die Thematik irgendwie mit spirituellen Methoden bereinigt und dadurch. Also ich habe im nächsten Gespräch dann auch irgendwie sanft da mit ihm drüber gesprochen und das halt versucht zu besänftigen irgendwie. Aber letztendlich war es berechtigt. Es war aber unprofessionell dass es zu so einer krassen heftigen Reaktion kam. Aber es ging nicht anders. Es hat sich halt immer mehr angestaut. Und er hat nicht aufgehört mit dem destruktiven Verhalten als Therapeuten. Also es war so ein richtiger Kampf halt zwischen ihm und mir.  Naja. Also es ist halt so wenn nach dem Bewertungssystem etwas nicht erlaubt ist was stattfindet dann ist es so dass das verurteilt wird. Und dann kommt es zur Bestrafung. Und Angst hat immer damit zu tun dass einem etwas weggenommen wird. Das Gewohnte und Bekannte ähm kann weggenommen werden. Das kann halt das Gesicht verlieren also das Gesicht sein das Ansehen sein. Es kann Eigentum sein. Es kann das Leben sein. Also das Höchste ist ja dass man hingerichtet wird für eine Verurteilung. Und ja. Also Angst entsteht dann wenn etwas stattfindet was eigentlich nicht sein darf. Und dann ist halt eben zieht sich alles zusammen. Es ist halt Angst da die Hemmung da. Und dann ähm kann das halt unterschiedlich stark sein. Aber letztendlich geht es halt darum zu lernen dass all diese Verurteilungen und Bewertungen und Regeln eben nicht stimmen. Dass man das halt irgendwie auflöst mit Hilfe von religiösen Kräften und dadurch dann die Angst auflöst. Und dann ist Liebe da. Also das wandelt sich dann um. Und das ist halt dann dieses Wohlgefühl eben. Die Konfliktfreiheit in der Situation.  Naja das ist halt immer wenn es halt zu einer Lustreaktion kommt. Ähm im Bus im Café überall. Naja und vor allem wenn es jetzt halt dann ähm eine Frau ist die mit ihrem Mann oder mit ihrem Partner gerade da ist. Dann ist es halt besonders krass. Naja und das dann irgendwie da hinzukriegen ist halt keine einfache Geschichte. Da bin ich dann mehrere Tage mit beschäftigt.  Ja es ist halt. Darf halt nicht sein nach der gesellschaftlichen Konvention. Ja. Also wenn jetzt halt die Situation längere Zeit andauert in einem Café oder so da schaffe ich es dann irgendwie über die Seelenkommunikation. Also die Lösung liegt darin. Also das hat halt Jesus am Brunnen. Da wollte er mit der Frau. Da ging es genau um diese Lustreaktion. Und dann hat er in ihr wahrgenommen dass sie ja mit verschiedenen Männern eigentlich innerlich verbunden ist. Und hat ihr ja diese 4 5 Beziehungen genannt. Und er hat halt gewusst dass eben sie momentan eine Beziehung mit einem Mann hat. Und als er das herausgefunden hat hat erhalt gesagt: Ja wir sollten deinen Mann mithinzunehmen und dann halt weitermachen sozusagen. Also die Lösung liegt halt darin dass man den Mann mit hinzunimmt in die ganze Lustreaktion und dem ganzen Ereignis. Und dass man mit dem Mann erst mal die ganze Situation klärt. Natürlich jetzt nicht verbal sondern eben über die Seelenkomunikation. Und dann kann man halt ähm da das irgendwie zu einer Lösung kommen. Dass das halt sein darf und in Ordnung ist. Und dann kann man das hemmungslos ausleben. Also in die Richtung führt halt die Lösung der ganzen Situation. Aber ist halt dann nicht so auf die Schnelle möglich. Also das. Dafür braucht man dann vielleicht unterschiedlich lange um das halt zu klären. Und das ist ja dann auch von dem momentanen Zustand abhängig. Ob man jetzt total unruhig ist wegen vorherigen Ereignissen. Oder ob man gerade jetzt eigentlich in einem entspannten Zustand ist und Klarheit innere Klarheit und innere Mitte hat und so.  Naja. Mh. Ja das ist halt das Anstrebenswerte. Mir geht es darum Leichtigkeit und Freude in mein Leben reinzubringen. Also ich hatte das. In der Vergangenheit hatte ich schon viel Freude und so. Mein Lachen ist halt ansteckend. Und da kommen denn manchmal. Auf einer Party kamen die aus einem anderen Raum und haben geschaut wer lacht da. Oder halt im Unterricht. Da haben da habe ich manchmal so richtig fröhlich gelacht dass die Schüler halt das so toll fanden dass sie das halt nochmal haben wollten. Naja leider ist halt diese Freude verloren gegangen. Weil ich halt eben mich immer mehr mich in diese Sache reinvertieft habe dass das ganze Umfeld irgendwie gegen mich ist. Und deshalb alles nicht so wahrhaben will. Und ich mich nicht verstanden fühle und so weiter. Und das macht bringt mich halt in die Trauer. Und das ist halt schwierig in die Freude reinzukommen. Weil es halt irgendwie so ein bisschen läuft aber insgesamt betrachtet dann doch nicht so läuft. Dass es halt jetzt gesellschaftlich angenommen wird. Also diese ganzen geheimen Geschichten das sind halt für mich dann irgendwelche persönlichen Erfolgserlebnisse über die ich ja mit anderen nur bedingt sprechen kann und als Erfolg verbuchen kann. Aber ich muss halt dadurch. Das ist klar. Das ist ja genau das Hemmnis und das Hindernis das ich zu überwinden habe. Und dann kann ich halt eben selbstsicher auch irgendwie das machen worum es dann weiter geht.  Also jetzt so in den letzten Tagen da ist halt eine ähm mit der ich halt auf der Seelenebene kommuniziere die jetzt sozusagen meine Lehrerin ist. Also die hat ein Buch geschrieben ähm. Und so sieht die aus. Und das ist halt echt heftig. Und sie bringt mich halt zur Freude. Also sie hilft mir dabei dieses mit der sexuellen Lust irgendwie diese Hemmnisse und so zu überwinden. Ähm ja. Und die Hilfe ist halt dass ich mich nicht auf alle gleichzeitig konzentriere sondern dass ich mich halt auf eine konzentriere. Und ich soll mich auf sie konzentrieren. Aber ich habe halt große Hemmnisse mich jetzt auf sie einfach einzulassen irgendwie. Naja und das versuchen wir jetzt halt Stück für Stück zu lösen. Und wenn ich mit ihr verbunden bin dann ist es halt so dass die anderen bereinigt werden. Also sie mit einbezogen werden die anderen. Und dass sozusagen diese Lustreaktionen vollendet werden. Und dass sie dann immer mehr befreit werden. Also die alten Geschichten die sich halt angesammelt haben die dann auch zu diesen ganzen Schmerzen und Blockaden führen. Naja und das ist halt die Arbeit die ich jetzt so in den letzten Tagen ähm wo ich halt eben jetzt stark dran bin. Und also das bringt halt ähm zur Freude und so. Also sie hat mich halt zur Freude gebracht in den letzten Tagen.  Naja sie kitzeln mich halt dass ich mich auf sie einlassen soll sexuell. Und naja und ich bin halt total gehemmt und kann irgendwie nicht. Und sie reizt mich halt immer mehr und so halt. Naja und manchmal gibt sie halt dann so Impulse im Herzbereich und so die dann halt zum Lachen führen. Naja oder ich hatte halt da auch jetzt in den letzten Tagen mit einer anderen Frau die wo ich halt mich auch irgendwie verbunden hab. Und die halt anscheinend auch irgendwie so höhere Fähigkeiten hat. Und die in mir dann halt irgendwie das befreit hat. Und wo ich dann wo sie halt gesagt hat: ja ich darf mit ihr verbunden bleiben. Und die hat mich dann irgendwie so innerlich in diesem Bereich gekitzelt und mich zum Lachen gebracht. Also so mit dieser Seelenkommunikation halt.\n",
      "61_6M_manual_c  Ähm. Was bedeutet Traurigkeit für mich? Ja. Ja ich weiß nicht ob ich das eher. Was bedeutet Traurigkeit? Ja das ist. Ja das halt das ähm das halt. Das was halt alles so passiert und so ähm. Das ist halt das was mit mir nicht stimmt und so. Das macht mich traurig alles. Das ähm das ja.  Eine Situation? Ähm. Eine Situation. Ja ich weiß nicht. Ich bin immer so traurig. Weiß nicht. Mein bei mir. Ja bin. Ja das ist automatisch. Was macht mir da traurig? Ich weiß nicht. Ja ja halt. Die Leute sagen: Warum bist du immer so traurig . Ich weiß es auch. Kommt alles diese das ähm. Ja meine Krankheit halt. Das halt was so alles passiert ist. Man alles traurig super traurig. Das kommt immer und denn wenn ich vergesse sie traurig dann kommt vielleicht das automatisch oder ja halt.  Ja das mir irgendwas passiert. Ja.  Ja wirklich als diese Person mir dann mir dann. Der macht mir Angst. Der gibt mir immer wieder das Gefühl dass irgendwas mit mir nicht stimmt und so. Da. Wie war nochmal die Frage?  Ja warum. Ja? Ja das wie gesagt das. Warum Angst? Ähm ja. Ja warum? Dass mir wie gesagt irgendwas passiert. Mit mir oder meiner Tochter oder. Da sind. Das ist Angst. Ja. Ja.  Ja. Was bedeutet Wut für mich? Wut? Ja Wut ist. Ja ich hasse wie gesagt ähm ja denn die diese Person da. Denn was.  Ja wie gesagt ähm ja. Eine Situation? Ja. Ich versuche.  Ja ähm wenn ich ähm. Ja weiß nicht. Was bedeutet Freude für mich? Ja. Also das sind alles ganz einfache Fragen. Aber manchmal kann ich nicht denken.  Ja wenn ja wo. Achso eine Situation? Ja wenn alles läuft. Wenn ich im ähm meine Arbeit geschafft habe meine Sachen und so. Und äm ja. Weil ich einfach alles geschafft habe. Wenn alles läuft und so. Wenn alles gut läuft und so dann na dann freue ich mich. Dann bin ich auch glücklich und so. Ja.  Na das ich. Warum? Ja dass ich halt. Wenn ich halt schaffe. Wenn ich das halt ja. In meinem Leben was schaffe. Wenn alles funktioniert. Wenn ja.\n",
      "26_6M_manual_c  Äh dass jemand von mir Abschied genommen hat. Ja. Traurigkeit. Tief bedrückt sein.  Ja. Als ich meine Katze meine äh letzte vorletzte Katze ins Tierheim bringen musste. Da war mir zum Weinen zumute.  Ja weil ich sie verloren habe. Weil sie nicht mehr bei mir sein konnte.  Ein Zustand den ich nicht gern habe. Ein Vernichtungsgefühl also dass man da äh nicht mehr weiter existiert. Oder nicht mehr weiter existieren kann.  Viele. Auf der Arbeit bezogen dass dass die Leute über mich sprechen können negativ.  Na weil ich mich dann vielleicht ähm schämen müsste oder weiß ich nicht.  Ist ein unangenehmes Gefühl Wut. Also für mich. Weil ich manchmal das Gefühl habe ich müsste explodieren. Also nicht vom Geist her sondern vom Körper her. Der müsste sich Platz schaffen. Also.  Das tritt manchmal einfach so auf. Natürlich wenn mich jemand verärgert oder so. Oder ich mit Sachen nicht einverstanden bin. Dann kann Wut entstehen. Hm ja ich weiß nicht. Ob ich das überhaupt sagen darf. Sagen kann darf ich alles ich weiß. Ja genau. Ähm mir wurde das Fahrrad geklaut. Dadrüber bin ich wütend. Ja ich habe ich bin zu meinen Eltern gefahren zu Besuch. Habe das Fahrrad unten abgestellt angeschlossen. Kam nach einer Stunde runter das Fahrrad samt Schloss weg. Da war ich wütend.  Weil ich jetzt mit der U-Bahn fahren musste. Ja natürlich weil es Geld kostet. Weil das Fahrrad ist weg. Das Eigentum wurde gestohlen. Das hat also jemand hat einfach die Sache die mir gehört sich einfach angeeignet.  Das sind Fragen. Ähm Freude. Frei sein. Das bedeutet Freude für mich.  Ach eigentlich freue ich mich ständig. Auch wenn ich sage mir geht es manchmal nicht gut oder so. Also ich freue mich immer wenn ich den nächsten Tag nach dem es mir schlecht ging. Da freu ich mich immer am meisten drüber. Wenn ich wieder merke es geht mir wieder gut. Ich bin gefestigt. Und ruhe in mir.  Weil ich dann alle umarmen könnte. Weiß ich nicht. Weil ich dann denke es ist Friede. Es ist alles in Ordnung. Man braucht sich keine Sorgen machen. Man braucht keine Ängste haben. Da freu ich mich drüber.\n",
      "53_6M_manual_c  Ja Traurigkeit bedeutet wenn man wenn man traurig ist. Wie soll man das beschreiben? Ja wenn man um etwas trauert. Genau wenn einem etwas leidtut. Oder wenn man um andere trauert genau.  Ja das war vor und während meiner Psychose. Da habe ich mich oft ähm einsam gefühlt. Und da habe ich mich auch sehr traurig gefühlt unter anderem ja.  Hm weil ich mich persönlich sehr einsam gefühlt habe glaube ich ja. Hm also ich denke ich denke dass ähm ich denke dass vielleicht meine gesamte Lebenssituation vor der Psychose und auch während der Psychose ähm mich sehr traurig gemacht hat genau. Dass also mehrere Umstände. Ich hatte damals wie gesagt sehr viel Stress im Job und habe auch sehr viel gearbeitet. Und dass einfach mehrere Faktoren dazu geführt haben dass ich mich am Ende sehr traurig so gefühlt habe ja.  Ja Angst bedeutet Gefahr äh große Gefahr und äh. Dass man in Deckung gehen muss und äh ja. Dass man etwas ähm erwartet etwas Großes erwartet etwas Schreckliches oder Böses ja genau.  Ähm ja ich glaube das war zum Anfang von meiner Psychose. Als es mit den Stimmen angefangen hat. Dass ich also überhaupt nicht wusste was jetzt los ist genau. Und ähm ich glaube ja doch da hatte ich Angst genau.  Ja weil ich die Situation nicht einordnen konnte. Weil das also völlig außer Kontrolle geraten ist ähm. Meine Stimmen haben ja kommentiert. Und damals war das so dass ich mir eingebildet habe dass meine Nachbarn mich beobachten und bewachen würden. Und das hat mir doch große Angst gemacht genau. Weil ich nicht wusste welche Konsequenzen das für mich hat genau.  Ähm Wut ja Wut wenn sich alles so aufstaut. Und wenn man also sich sehr über etwas ärgert.  Ja das kann ich. Ja das war auch während meiner Psychose. War ich unter anderem auch sehr wütend über meine sogenannten Überwacher oder Nachbarn eben. Und ich habe da also nach dieser Phase wo ich mich erstmal neu koordinieren musste bin ich sozusagen in den Kampf übergegangen und ähm. Da war ich oft sehr wütend sehr wütend ja.  Ähm mich hat damals so wütend gemacht dass da so ähm dass ich überwacht werde. Und dass jetzt also andere Menschen Einblick in mein Leben haben und ähm sozusagen auch Eingriff in mein Leben haben können. Denn sie haben mich ja auch beeinflusst damals genau. Und ich habe damals ja wirklich geglaubt dass meine Nachbarn irgendwie mich auf Schritt und Tritt überwachen. Und das hat mich sehr wütend gemacht. Und fand ich vor allen Dingen auch sehr ungerecht genau. Ich fand das sehr ungerecht dass da jetzt genau.  Freude bedeutet für mich so eine Art Leichtigkeit. Wenn man sich an Dingen erfreut oder wenn einem Dinge gefallen genau. Und wenn man auch mit Menschen zusammen ist kommt Freude auf ja.  Ja da gibt es viele. Ich weiß nicht. Wenn ich mit meinen Kolleginnen spreche oder mit meinem Bruder und äh witzele manchmal so rum. Empfinde ich große Freude.  Ich weiß nicht diese Leichtigkeit einfach diese ja. Also es gibt verschiedene Arten von Freude. Man kann sich auch über Geld freuen oder sein Gehalt oder einen Erfolg. Aber ich denke am meisten freue ich mich wenn ich vielleicht auch Anerkennung bekomme in irgendeiner Form ja. Ich weiß nicht na wie soll ich das erklären? Man freut sich einfach. Das geht runter wie Öl.\n",
      "29_6M_manual_c  Also wenn man viel über was nachdenkt und halt traurig guckt. Und wenn man vielleicht weint. Was bei mir aber nicht vorkommt.  Ja wenn die Kinder mich enttäuschen.  Na weil ich enttäuscht bin. Also zum Beispiel neulich hat mir jemand aus dem Portemonnaie Geld geklaut. Da war ich natürlich enttäuscht und traurig. Ja kann man so sagen.  Wenn ich mich zurückhalte vor irgendwas was mir Angst machen könnte. Das ist jetzt zum Beispiel die Auseinandersetzung dass meine große Tochter halt Borderline hat. Das ist natürlich wo ich Angst habe dass sie sich halt verletzt.  Na weil ich das nicht verstehe.  Wenn ich auf was sauer bin. Stinkig. Kommt nicht so oft vor.  Na wo mir das Geld aus dem Portemonnaie geklaut wurde war ich auch wütend gleichzeitig. Und habe das an die Kinder ausgelassen. Wo ich halt gesagt habe dass ich enttäuscht bin und dass es jetzt erstmal kein Geld gibt.  Na weil ich nicht wusste wer es war. Und weil sie das alle abgestritten haben.  Wenn mein Partner nach Hause kommt. Ja wenn ich mich freue wenn ich lache wenn ich grinse. Ja.  Weil ich dann nicht mehr allein bin. Da bin ich traurig.\n",
      "4_6M_manual_c  Ich kann so ich habe es schon erlebt. Ich kann so traurig sein dass selbst Gott mich nicht mehr erreichen kann. Dass ich mich nur noch in ein Nichts wünsche. In so einen Winkel von nichts in so einer tiefen Traurigkeit dass selbst noch Gott kommen könnte und ich würde gar nicht darauf reagieren wenn er mich tröstet. Also so eine tiefe Traurigkeit habe ich schon erlebt. Das totale Abwenden egal was da kommt.  Es ist jetzt schwer zu mich zu erinnern wo das passiert ist. Da haben mich Menschen mal so verletzt und missachtet in meiner Person dass ich da in eine ganz tiefe Traurigkeit gefallen bin. Weil das tu ich selber einem anderen Menschen nicht an. Ja das. Ich kann Ihnen erzählen wann mich Leute verletzen. Aber ich kann Ihnen jetzt nicht sagen wann bei welcher Situation diese ganz tiefe Traurigkeit aufgetreten ist.  Also es verletzt mich zutiefst in meinen Gefühlen wenn ich auf das reduziert werde zwischen meinen Beinen. Ähm mir haben Männer so offen über Sex geredet ähm dass die meinen die Spiritualität einer Frau liegt zwischen ihren die haben auch entsprechende Wörter benutzt die spare ich mir jetzt. Das reduziert es auf das da zwischen den Beinen. Da habe ich gemerkt in meinem menschlichen Sein verletzt mich das zutiefst. nach dem Motto Eine Frau hat ja nicht irgendwo Geist im Gehirn sie wird dann darauf reduziert . Das verletzt mich total in meiner Würde als Mensch.  Angst hatte ich in vielen Situationen. Ich habe manchmal bekl- weil man mich so häufig eingesperrt hat auch über längere Zeiträume. Ich sitze manchmal in meinem Zimmer und ich habe da so eine Schräge. Also nicht wie hier jetzt so eine hohe Decke in alle Richtungen. Und dann passiert es mir dass ich ein Beklemmungsgefühl kriege. So eine Art Panikgefühl. Und dann möchte ich irgendwie aus der Wohnung rausstürzen ins Freie. Und ähm dann kommt so eine diffuse Angstgefühle hat auch was mit der Zukunft zu tun oder kann ich nicht immer genau erfassen wo das herkommt. Also da spüre ich dann da Angst ja. Und wenn ich auf der Straße gehe und da kommt mir so eine Horde Multikulti Leute im Alter von fünfzehn sechzehn Jahren entgegen männlichen Geschlechts und ich sehe schon wie die mich angucken. Und dass da irgendwas kommt. Und ich habe da eine ganze Gruppe vor mir. Eh da kommt da auch eine gewisse Angst. Aber ich versuche nicht in Panik zu kommen sondern ruhig und überlegt zu handeln. Das heißt aber nicht dass man keine Angst habt.  Weil ich solche Begegnungen schon öfter hatte. Wo üble Sachen gelaufen sind. Schlechte Erfahrungen.  Wut? Ja Wut kriege ich grade in letzter Zeit. Jetzt nicht so sehr auf mich persönlich bezogen. Wenn ich sehe dass dieser Planet so kaputt gemacht wird. Und es offensichtlich achtzig Prozent der Menschheit nicht kümmert. Und schon gar nicht die Verantwortlichen nämlich die Politiker.  Hier. Da ist Wut. Ja so hier Bauch. Da wo der Solarplexus ist da wäre die korrekte Gegend.  Ja jetzt erzähle ich Ihnen was Krasses. Ich habe ja als Kampfsporttrainer gearbeitet für Schwertfechten. War ja auch ausgebildet. Und ähm ich überlege grade welchen. Ne ich nehme mal einen Ex. Wir waren im Urlaub mit Freunden in Region X. So der Urlaub war beendet. Wir hatten ein nettes Ostern oder so gemeinsam gefeiert. Und die waren alle drinnen im Haus. Wir waren kurz vorm Abfahren. Die redeten tranken ein bisschen Kaffee. Und ich habe den Job übernommen weil er ja gefahren ist habe ich das Auto vollgeladen. Weil ich kann sehr gut Sachen verstauen. Wirklich auf den Millimeter. Und da hatte ich natürlich eine Riesenschlepperei weil da die ganze Mittelalterausrüstung war. Schwerter Schilder Reisetaschen blablabla. Noch für Person A weil Kind war ja auch noch bei. Ich hatte jedenfalls das Auto ganz schön voll zu laden. Und wir wollte ja um eine bestimmte Zeit abfahren. Und er da am sülzen mein Ex. Sülzen Labberkarton das kann er gut. Immer den King machen. Er ist Löwe. Salonlöwe. Am labbern. Hat sich nett mit den Kumpels unterhalten und ich war am Ackern. Plötzlich kommt er raus. Guckt wie weit ich bin und sagt zu mir: Kann das nicht ein bisschen schneller gehen? Da hatte ich einen Affekt in dem Moment. Das ging in Sekundenbruchteilen. Ich hatte grade seine Gitarre in der Hand. Ich habe gar nicht überlegt. Das ging wirklich wie ferngesteuert. Da war ein Eisengeländer von der Treppe. Ich nahm die Gitarre und knallte die mit einem Ausbruch von Ki. Das ist so eine Kraft die man beim Kampfsport lernen kann. Die hatte ich aber da nicht unter Kontrolle. Knallte ich so ohne großen Kraftaufwand die Gitarre gegen das Geländer und da lagen da lauter Spänchen. Das war die höchste Form von Wut die ich haben kann. Ich habe nicht gebrüllt. Ich habe keine Meckerszene keine Hysterieszene nichts. Aber das kam so in Sekundenbruchteilen.  Ich habe korrekt meine Arbeit gemacht. Er hatte Spaß. Und da will er bei mir noch den Sklaventreiber machen nach dem Motto: Du arbeitest nicht schnell genug . Also da war der Punkt erreicht.  Freude ja. Freude habe ich wenn ich wandern gehe in die Natur. Wenn ich mitten im Wald bin. Wenn ich die Schönheit der Bäume sehe. Vor allen Dingen Ende April so. Die schöne Zeit. Wenn ich da die Möglichkeit habe aus Stadt Y rauszukommen rein in die Natur. Dieses totale Ergrünen der Natur. Ich habe mein Proviant dabei und ich bin so frei. Ich kann frei laufen. Ich sehe die schöne Natur. Ich bin allein. Ich habe keine Nervensägen um mich. Ich kann es genießen. Ich bin da mittendrin in der Natur. Ich kann ihn richtig innerlich fühlen. T: Was ist dann da? P: Tiefe Freude. Das ist auch das wo ich meine Wurzeln habe. Wo ich meine Kraft schöpfe.\n",
      "14_6M_manual_c  weiß ich nicht. Traurig? Ja wenn man was verloren hat. Oder man ist nicht richtig geschätzt oder  Keine Ahnung ich weiß nicht mehr.  Ja so Angst Achtung vor etwas. Also Gefahr.  Weiß ich nicht.  Stress. Keine Ahnung.  Ja. Also es kamen so viele Stimmen dass ich. Ich kann nicht mehr aushalten war ich richtig sauer war ich wütig. Habe ich angefangen mit Selbstgesprächen und hat nichts geholfen.  Weil jemand jemand hat mich schlecht gemacht. Und ich konnte mich nicht verteidigen.  Freude was Tolles was äh Angenehmes passiert oder was Nettes.  Hm wenn ich meine Tochter treffe freue ich mich schon.  Warum? Ja es ist irgendwie weil die wächst und sie kleidet sich immer anders aus. Und sie hat mir nichts Schlechtes gemacht also nicht wehgetan. Und verbringen mit ihr Zeit ist ganz nett. \n",
      "30_6M_manual_c  Ähm naja ist ein Gefühl. Also was man empfindet in verschiedenen Situationen. Wie Verlust oder Erinnerung an Dinge die einen traurig stimmen.  Beim Tod von Verwandten oder Bekannten.  Naja weil bis zum gewissen Punkt finde ich gehört das mit dazu. Also mhm beispielsweise anhand von Tod oder anhand von jetzt irgendwie einer beschissenen Situation hätte man sich manche Sachen einfach anders gewünscht und ähm steht halt vor so einem Dilemma und würde es gerne auflösen. Kann es aber nicht. Und muss halt eben mit den Folgen umgehen.  Wut ist genauso ist ein Gefühl wie jedes andere. Kommt halt. Entsteht. Und ja. Ist eine Sache die mir früher mehr eigen. Jetzt eher so am Rande meiner Persönlichkeit stattfindet oder so gut wie gar nicht mehr.  Also ich bin bei kann sehr sehr wütend werden über. Ziemlich so jähzornig und sehr sehr wütend. Also beispielsweise jetzt in der Studiumssituation die wir besprochen haben ähm. Kann ich schon sehr sehr wütend werden.  Ähm weil ich finde dass diese Situation zu neunzig Prozent unzumutbar ist. In fast allen Kategorien. Also sei es jetzt beispielsweise in dem Rollenverhalten ähm meiner Dozenten. In der Behandlung von mir. Die Folgen die das Verhalten dieser Leute hatte für mich und sie. Ähm und so. Sehr wütend. kann ich darüber reden. Aber ist halt eben so. Und ist dann auch irgendwann. Also bringt eben nicht wirklich was. Sehr unkonstruktiv.  Na Angst ist halt auch ein Gefühl. Was eben aufkommt wenn man ähm irgendeine Situation oder sowas meistern möchte.  Mhm. Na im Nachhinein wenn man so knapp an einem Unfall oder sowas vorbeirauscht. Dann wird mir bewusst wie zerbrechlich alles ist. Und man entwickelt doch eine gewisse Angst vor der Realität.  Wieso? Mhm der Grund dafür ist letztendlich dieser. Also man beispielsweise jetzt in dieser Unfallsituation. Man kriegt halt sehr man merkt dass es hat schon diesen Auflösungseffekt. Man merkt dass es eigentlich nicht so wichtig ist. Aber man entwickelt doch die Angst. Man will es eben dass bestimmte Sachen halt auch relativ irrational. Deswegen eben die Frage nach dem Warum ähm sehr schnell vorbei sein können so. Also das ist der Grund dahinter. Nur dass es halt relativ irrational passieren kann. Und man eben auf diese Emotion als Triebfehler halt auch angewiesen ist so.  Das ist ein Gefühl wenn man ähm der Freude halt. Also man freut sich über irgendwelche über eine günstige Auflösung von einer Situation. Über einen Menschen. Über irgendeinen Sachgegenstand.  In der ich Freude empfunden habe. Na beispielsweise jetzt in diesem Krankheitskontext wenn man halt eben eine Situation die für einen problematisch war aufgelöst hat so. Man irgendwie konstruktiven da hatte. Dann freut man sich. So aber eben auch in anderen Situationen. Oder wenn man irgendwas geschafft hat was einem wichtig war. Und so.  Das ist eine Emotion. Ähnlich wie Angst oder wie alle anderen stellt sie sich halt ein. Und ähm man freut sich. Man freut sich für ein über eine Situation beispielsweise. Also schon bei ganz kleinen Details einfach die ähm jetzt im Gegensatz beispielsweise zu Angst oder Niedergeschlagenheit ähm halt eben auch ein positives Bild der Persönlichkeit herauskehren.\n",
      "70_6M_manual_c  Nachdenklichkeit. Mich mit einem Thema weiter auseinandersetzen was mich belastet. Was ich auch weiß dass ich es bearbeiten möchte. Traurigkeit entsteht ja so ein bisschen auch aus weiß nicht etwas was nicht erfüllt ist. Oder irgendeine Situation die passiert. Oder der Tod von meiner Oma. In so einer Situation ist eine Traurigkeit die ich dann aber auch proaktiv angehe. Ich fühle mich jetzt nicht so dämmerig in meiner Depression und fühle mich da. Ich meine ich kenne die Depressionsphasen. Da ist es manchmal schwer dass man duschen geht und sein Essen macht. Ganz banale Sachen. Aber da ist es halt ein Krankheitsbild. Traurigkeit hat jeder. Die hab ich jetzt in der stabilisierten Phase in der ich jetzt bin auch. Traurigkeit ist auch da. Enttäuschung. Also die ganzen Aspekte die dazu passen würde ich sagen als Emotion.  Sie hat ein Riesenloch hinterlassen persönlich.  Hatten wir ja vorhin das Thema. Also ich bin kein ängstlicher Mensch. Was bedeutet für mich Angst? Mit Angst hab ich halt selten Kontakt wenn man darüber so sprechen kann. Hat so ein bisschen was von Bedrohlichkeit. Wenn man jetzt mal bei Straßenverkehr ist wo wir auch dieses Thema mit den. Ängste hat man da. Ich hab. Meinen Helm trage ich auch dadurch dass ich Angst hätte nochmal in so eine Situation zu kommen zum Beispiel. Super Beispiel. Jetzt wo ich den Helm trage habe ich keine Ängste mehr was das betrifft oder weniger. Wenn im Straßenverkehr ein Unfall ist dann hab ich mit einem Helm jetzt auch nicht ein Airbag wie irgendein Auto aber für den Hinterkopf besiegt es eine Angst. Das ist glaube ich jetzt so das Einzige was ich jetzt so als Angst definieren würde bei mir.  Ja weil es lebensbedrohlich ist. Also wenn man. Ich meine unser Kopf ist wie eine Melone. Die ganzen Tests hat man schon gesehen. Wenn man einen Radhelm tägt wie schützend das ist.  Das ist so ein bisschen auch mit Traurigkeit. Ist auch wieder etwas nicht Erfülltes wo man sich drüber aufregt. Also ich rege mich gerne mal über den Straßenverkehr auf. Aber eigentlich sehe ich das wieder so dass ich die Situation kenne als Autofahrer als Linksabbieger zum Beispiel. Dass man da langsam genervt ist wenn der dritte vierte Autofahrer ähm Radfahrer von links am Spiegel vorbeifährt und von rechts. Ich hinterfrage immer auch wenn ich auch irgendwas wütend bin. Dann hinterfrage ich immer so warum ist der jetzt so. Ich bin nicht cholerisch. Ich kann wütend sein ja aber das ist schnell geklärt. Ich bin jetzt nicht der tollwütige Mensch der auf alles wütend ist.  Weil es lebensbedrohlich ist. Also wenn ein Autofahrer mir die Vorfahrt nimmt oder je nachdem. Das kann mein komplettes Leben ändern.  Das ist so ein Aspekt jetzt der Lebensfreude bringt. Freude? Freude? Ja kommt auf die Situation an. Hat mich gefreut dass meine Mutter mir zum Beispiel geschrieben hat. Wo wir wieder bei dem Thema sind was mich mehr beschäftigt ist dass sie. Hatte ihr so ein Kondolenzbuch geschickt da waren so Sprüche drinne die sie sich mal angucken sollte. Hat sie mir nach 2 3 Wochen geschrieben dass es ihr sehr geholfen hat. Das war zum Beispiel die Freude die so intensiv und persönlich war die letzte wo ich mich echt sehr drüber gefreut hab dass sie das so angenommen hat. Sie liest selber sehr viel. Aber ich hab das so aus meinen Stücken. Wir haben da nicht drüber geredet. Ich hab ihr das einfach gegeben.  Ja weil ich ein enges Verhältnis zu meiner Mutter haben. Und ich mich freue wenn es ihr auch gut geht. Wie nennt man das was ich gerade sage das passt doch so super zu mir. Ich bin so ein harmoniebedürftiger Mensch. Also alle Leute die um mich rum sind die mich mögen oder wo mir wichtig ist freue ich mich wenn es denen gut geht.\n",
      "37_6M_manual_c  Ähm Traurigkeit Traurigkeit bedeutet für mich eine Art ähm Hilflosigkeit. Ähm und hat meist mit irgendeinem Verlust zu tun.  Ähm wenn ich mich von meinen Eltern verabschiede zum Beispiel. Oder wenn ich von einer Reise wenn irgendeine tolle Reise zu Ende ist. Am Flughafen wenn man wieder zurückfliegen muss. Oder beim Tod von einer Person natürlich.  Also bei dem Flughafen ist eigentlich bei jeder großen Reise die ich gemacht habe war das meistens so dass diese Zeit die eine spezielle Zeit ist jetzt vorbei ist schon vorbei ist. Das man irgendwie jetzt schon wieder da ist und zurück muss in das alltägliche Leben. Und äh auch dass man auch den Mensch also wenn ich die Reise mit jemandem anderen gemacht habe den Menschen sozusagen zu verabschieden. Ähm weil man auf einer Reise doch irgendwie eine spezielle Beziehung hat zueinander. Eine außergewöhnliche Beziehung die nicht sonst im alltäglichen Leben gelebt wird. Und auch dass dann sozusagen beendet wird. Und äh beim Verabschieden meiner Eltern habe ich glaube ich vor allen Dingen Traurigkeit da war vor allen Dingen Traurigkeit meinerseits ähm. Weil ich gespürt habe wie meine Eltern traurig sind dass sie mich jetzt lange nicht mehr sehen. Und das hat mich auch traurig gemacht.  Wut bedeutet für mich äh. Das ist ein Ventil äh. Das bedeutet hm also. Ich weiß nicht wie ich das mit bedeutet äh. Auf jeden Fall äh ist für mich Wut eine Emotion die kommt bei beim Gefühl von Ungerechtigkeit ähm von sich Raum verschaffen ähm. Das ist so eine Emotion die Raum einnimmt. Wo man sich ausbreitet und sich irgendwie wehrt. Ähm genau mit Verteidigung hat das auch viel zu tun glaube ich und äh ähm ja.  Ähm zum Beispiel gerade äh jetzt dieses Wochenende als mir diese Ex-Freundin nach 4 Jahren immer noch eine Mail schreibt und immer noch nicht begriffen hat dass ich mit ihr nicht mehr Kontakt haben will. Und sie einfach nichts verstanden hat. Das macht mich wütend. Das war eine Situation. Oder ähm bei Dummheit von Leute. Wenn ich das Gefühl habe. Oder äh bei äh Empathielosigkeit macht mich wütend. Äh Ignoranz.  Zum Beispiel wenn äh ein offensichtlich reicher Mensch irgendwo oder muss nicht reich sein offensichtlich ein Mensch dem es gut geht finanziell irgendwo so seinen Champagner trinkt oder sein Aperol Spritz. Und es kommt äh ein Penner vorbei und fragt nach einer Spende und derjenige der da sitzt ihm mit einer abwertenden Geste wieder vertreibt. Dann macht mich das wütend. Und was ist die Frage. Warum mich das wütend macht? Ja der Grund dafür dass mich das wütend macht ist die der die Ignoranz und der Egoismus des ähm und Empathielosigkeit dieses äh gutgesitteten Menschen da.  Angst bedeutet für mich meistens etwas Schlechtes für mich. Ähm bedeutet für mich meistens eine Lähmung. Hm ja ist meistens hat mit Situationen zu tun die ich noch nicht kenne. Oder äh ähm ist aber auch äh wenn ich es nutzen kann etwas was ich gerne also was ein Zeichen ist für etwas was ich überwinden kann oder muss. Also es gibt beides wechselt immer zwischen der Lähmung dann ist sie schädlich oder indem man sie überwindet und man dadurch ein Stück weiterkommt und die Angst verliert.  Vorsprechen zum Beispiel.  Weil ich auf der Bühne immer eine gewisse Angst hatte und es immer darum ging diese Angst zu überwinden. Und bei Vorsprechen ähm man sich äh Prüfungssituation ist es im Grunde und man natürlich eine Absage bekommen kann. Und dadurch man äh wieder extrem an sich selbst anfängt zu zweifeln. Und je nachdem ähm ist es gerade in dem Beruf. Wenn man sich emotional öffnet ist man auch sehr verletzlich und ähm. Diese Absagen kommen zum Teil ziemlich brutal. Und dann ist man das macht dann noch mehr Angst. Also Angst wieder so niedergeschlagen zu werden zum Beispiel.  Freude bedeutet für mich ähm. Das ist natürlich ein positives Gefühl ähm. Tritt Freude ja ähm ist lebensnotwendig jeden Tag Freude zu haben damit man irgendwie manchmal im Kleinen. Manchmal äh wissen Sie ist die Freude größer. Manchmal freue ich über einen kleinen Augenblick über einen kleinen Moment über einen Blick über äh Geruch. Und manchmal wenn ich was geschafft habe ähm dann kommt die Freude oder Menschen zu treffen ähm. Ein lebensnotwendiges Gefühl. Ähm dass eben jeder Tag jede Stunde immer wieder eintreten muss.  Ähm eine Prüfung geschafft zu haben ähm. Menschen die man liebt zu treffen. Na vor allem nach langer Zeit wiederzutreffen. Ähm sonst eine schwierige Situation überstanden zu haben oder schwierige Zeit überstanden zu haben eine Krankheit überstanden zu haben. Ähm oder äh auch andere also sich für andere freuen dass die etwas geschafft haben oder überstanden haben.  Gerade jetzt zum Beispiel als ich mich so lange so fremd in meinem Körper gefühlt habe. Und ich gemerkt habe ich spüre ihn wieder allmählich so wie ich ihn kenne. Ich kann ihn wieder so bewegen wie ich ihn kenne. Ich habe nicht mehr das Gefühl es ist der Körper eines Fremden eines anderen Menschen oder es ist nicht mehr der Körper eines 60- 70-Jährigen. Die Schmerzen waren nicht mehr so da ä. Das hat mir Freude gemacht natürlich.\n",
      "13_6M_manual_c  Traurigkeit bedeutet für mich einen Verlust. Einen Verlust oder Reue.  Ja ich habe meine Kinder damals verloren. Und habe es bereut warum ich sie verloren habe. Wieso das passiert ist. Traurigkeit ist auch wenn man sich bewusst wird dass Dinge mit einem gemacht wurden die man. Also nein das kann ich nicht so richtig nein. Aber wenn einem bewusst wird dass etwas nicht richtig ist. Also wenn man es nicht versteht. Das kann ich jetzt nicht richtig beschreiben. Aber Traurigkeit ist traurig.  Ja. Traurigkeit ist auch ein Gefühl könnte man sagen. Und ja weil ich starke Emotionen halt entwickelt habe für meine Kinder und deswegen.  Ja Angst. Angst es bedeutet dass man in die Enge geführt wird beziehungsweise bedroht wird. Vielleicht sogar erpresst oder irgendwas. Angst ist ein Gefühl. Also man zieht sich körperlich total man kehrt in sich ein. Man zittert vielleicht sogar auch. T: Können Sie auch eine Situation beschreiben in der Sie Angst empfunden haben. P: Ja also wenn mir jemand auflauert in meiner Wohnung jemand einbricht. Wenn ich die Tür aufmache und mir jemand auflauert.  Weil die Stimmen mir das oft genug sagen. Ich soll nur warten bis sie haben meine Wohnung und. Oder wenn die sagen: „ Ja ich bringe dich um oder so. “ Dafür kann ich keine richtige. Das ist ja das ist wahrscheinlich auch ein Problem was ich habe. Mit meinem eigenen Tod kann ich kaum ein Gefühl für entwickeln aber ich hatte es schon einmal. Oh Gott oh Gott wie bescheuert bin ich eigentlich ne? Ich hatte es schon oft. Und ich habe mal gespürt da dachte ich so „ Nein eigentlich willst du nicht sterben. Das wäre das Schlimmste was es gibt. “ Aber wenn man merkt man wird alleine man ist immer mehr alleine und da ist nicht viel. Und dann kommen solche Gedanken also solche Stimmen dann noch dazu. Das macht es einem dann wirklich nicht gerade leicht.  Unverstandenheit. Und hm kein Unverstandenheit ja.  Ja also zum Beispiel wenn ich anfange Sport zu machen und die Leute halten mich davon ab. Und verbieten mir das dann fühle ich mich total unverstanden. Und bin sauer da drüber warum die das machen. Weshalb die das dass die das überhaupt machen. Mir solche Vorschriften machen. Dieses das hm wie nennt sich das? Ja wenn miteinander das Eingestehen also wenn die Vereinbarlichkeit. Das ist irgendwie nicht vorhanden.  Ja weil ich denke das ist mein Recht auch das machen zu dürfen. Ja.  Freude ist wenn man glücklich ist ja.  Ja wenn man lacht. Wenn man lacht über irgendwas oder über sich selbst oder Ja ich lache eigentlich oft jeden Tag manchmal sogar also in guten Zeiten. Ja meistens wenn ich mit anderen zusammen bin oder so dann lachen wir schon viel.  Ja weil es lustig war ja. Weil was weiß ich weil lustige Dinge erzählt wurden und das ja.\n",
      "3_6M_manual_c  Ähm gute Frage ähm. Ja Angst ist jedenfalls teilweise ein Begleiter für mich. Eben was wir vorhin ja besprochen hatten ähm. Insofern gehört er mit zum Leben. Ist manchmal ja auch ganz nützlich wenn er einen warnt sozusagen oder aufmerksamer macht ähm. Ja und manchmal ist es ein Hindernis.  Ähm ja vielleicht in der S-Bahn neulich ähm als ich da gefahren bin und so. Es war sehr voll. Äh das war in der letzten Woche war sehr voll und die Leute waren sehr dicht bei mir dran und so. Und das hat mir dann doch Angst gemacht halt ne? Weil ich es nicht mag von fremden Leuten berührt zu werden so also so. Ähm ja das hat mir dann Angst gemacht.  Na einmal zu viel Nähe und äh dann die Angst auch äh der Fremdkontrolle ähm. Oder dass die Leute dann irgendwie über mich reden oder so äh hinter meinem Rücken und ähm ja. So würde ich sagen.  Wut ähm ja Wut ist vielleicht auch manchmal ganz nützlich um Spannung abzubauen innere. Ähm. Manchmal wäre ich gerne wütend. Ähm aber ich habe selten richtig Wut also das.  Ähm ja. Hm na nun eine ganz kleine Situation. Ähm hat mich jemand an der Rolltreppe angestoßen also ist vorbei. Ich stand recht und er ist links vorbeigelaufen und hat mich so voll angerempelt also so. Und das hat mich dann auch wütend gemacht halt dann. Jetzt nicht lange. Aber so was anderes weiß ich jetzt im Moment nicht.  Na weil ich das Verhalten als respektlos und unhöflich fand so ne? Weil war genug Platz. Also hätte ja auch ganz normal dran vorbeigehen können halt.  Ähm. Ja Traurigkeit ist vielleicht auch wie die Angst auch ein relativ häufiger Begleiter bei mir Begleiterin bei mir. Und ähm ja. Na Traurigkeit kann eben wenn sie zu groß wird wieder dann zu Depression führen und zum Abwärtstrip bei mir führen. Und ähm deswegen bin ich da immer etwas vorsichtig und versuche das dann wenn es zu viel wird ähm irgendwie noch umzudrehen zu verwandeln. Ja aber ist doch relativ häufig bei mir da.  Ja das kommt öfter mal vor wenn ich zum Beispiel ähm. Ich hatte ja meine Wohnung verloren ähm. Ich wurde ja zwangsgeräumt sozusagen und ähm da sehr Vieles verloren halt. Und das kommt mir immer mal wieder in den Sinn weiß nicht. Wenn ich hier äh meine Bücher angucke und ich hatte früher sehr viele Bücher äh und dann kommt mir das so in den Sinn. Und dann kommt natürlich dann auch Traurigkeit so ein bisschen dazu halt dann. Oder was eben so an Freunden verloren gegangen ist oder an Lebensfreude und so das ist dann. Das sind so immer so kurze Erinnerungen die dann damit verbunden sind dann oder die dann Traurigkeit hervorrufen.  Ja in denen speziell natürlich Verlust. Also entweder eben äh materielle Verluste oder eben äh emotionale Verluste. Wenn eben Freunde von früher nicht mehr da sind oder so ne?  Ja Freude ist eigentlich ähm versuche ich immer irgendwo zu bekommen sozusagen und äh ähm ja. Absolut hilfreich gegen Traurigkeit und auch gegen die Angst halt.  Ach naja das war pff eine ganz kleine Situation nur aber äh ähm gestern eben nach. Der Tag war ziemlich anstrengend für mich irgendwie so. Und dann habe ich ähm habe ich mir einen Film rausgesucht und mir den angeguckt. Und das war auch eine kleine Freude aber immerhin so äh so als Belohnung dass ich den Tag geschafft habe sozusagen. Und das hat mich gefreut auch dann.  Na weil es ja für mich eine Belohnung war die ich mir auch vorher habe vorstellen können sozusagen visualisieren konnte und äh das dann auch gemacht habe. Und dann passte das so ganz gut zusammen.\n",
      "54_6M_manual_c  Traurigkeit was das bedeutet. Also wenn man traurig ist wenn irgendeine Situation passiert was. Traurigkeit beziehe ich eigentlich drauf wenn man irgendwen also kann ich nur jetzt für mich selber ähm. Wenn man jetzt einen Menschen verliert oder ein Verlust genau.  Ja ne. Also wenn dann Menschen die man halt geliebte Menschen nicht mehr da sind.  Ja logisch weil die einen weil die halt jetzt nicht mehr für einen da sind. Also man kann nicht mehr hingehen. Man kann nicht mehr reden. Man kann äh äh zum Teil dann nicht bei einer Situation würde man gern noch mal nachfragen warum ist diese Situation passiert. Oder warum ist er nicht mehr da. Vielleicht hätte man helfen können. Und konnte es halt nicht. Oder.  Angst. Angst bedeutet für mich. Was bedeutet für mich Angst? Wann habe ich Angst? Angst habe ich um geliebte Menschen. Dass denen was passiert. Warum auch immer. Klar logisch. Angst ist Angst hatte ich da natürlich jetzt war kommt eine gewisse Angst auf wenn man einfach merkt äh jetzt Arbeitsverlust. Dann hast du die ganze Sache. Das entwickelt dann schon ein Angstgefühl im Bezug mit ähm ähm wo steuert es mich hin? Kann ich alles um mich herum behalten? Kann ich die Wohnung behalten? Werde ich was weiß ich. Also da war schon eine also ja. Dass das strukturierte Umfeld verloren geht. Das erzeugt schon manchmal ein gewisses Angstgefühl.  Warum man da Angst hat? Äh dass man vielleicht dass man da Einfluss nicht mehr hat das selber zu ähm steuern oder zu regeln.  Also Wut ist was ganz Schlimmes. Wut ist was total Unangenehmes.  Wenn ich zur Ruhe komme und einfach jetzt wenn ich dann wirklich einen guten Tag hatte. Und alles erledigt habe. Und wirklich richtig mit mir selber in mir zufrieden auf der Terrasse sitze. In aller Ruhe und so richtig schön wegsinke. Und also wirklich dann aber gerechterweise darf meine Augen zumachen. Und dann in dieser Ruhe gestört werde. Das macht mich grantig. Oder wenn in der S-Bahn oder U-Bahn egal wo heute.  Weil ich gestört werde. Und weil ich gehört habe weil ich diesen Satz gehört habe: Jetzt müssen wir laut sein. .  Also Freude ist wenn ich äh äh. Freude ist ja wenn man zugucken kann wenn jemandem irgendwas Gutes widerfährt. Wenn. Freude. Freude ist wenn man Familie sieht mit kleinen Kindern. Wenn man äh.  Situation wo ich mich gefreut habe. Siehst du ich muss lange stocken. Gibt viele Situationen wo man sich freut. Freuen tu ich mich ich freu mich jetzt was. Wenn daheim im Garten die ganzen Blumen kommen. Wo dann alle gewachsen. Jetzt ganz kurz ist das. Da freu ich mich wahnsinnig drauf.  Warum ich mich da freue? Gut man hat es jetzt eingepflanzt da diese kleinen Körnchen. Und warum ich mich darüber freue? Was für eine Frage. Das freut mich dann da bin ich so richtig mit Spannung jetzt dran was da so alles kommt. Ich freu mich wenn jetzt was weiß ich hoffentlich Person C seine Arbeit da behält. Das würde ich dem total wünschen.\n",
      "66_6M_manual_c  Oh. Was ist Traurigkeit? Das ist halt ein Gefühl das halt irgendwie so aufsteigt. Und ähm zu Tränen führen kann. Und hat auch was mit Schmerzen zu tun.  Ja also und ähm. Ja könnte ich verschiedene. Weiß gerade gerade nicht. Ähm also was mich jetzt zuletzt traurig gemacht hat war ähm. Also ich habe meine Ex-Freundin seit so zweieinhalb Jahren nicht mehr zusammen. Ja so ungefähr. Aber wird haben eine gute Freundschaft. Eine gute Freundschaft hat sich halt daraus entwickelt. Und ähm joa und denn. Sie hatte schon mal jemanden wo das nicht geklappt hat. Und jetzt hat sie wohl wieder jemanden. Und das hat mich halt schon ein bisschen traurig gemacht. Obwohl für mich eigentlich klar ist dass ähm sie nicht mehr mit mir zusammen sein möchte. Und ich auch selber gar nicht wüsste wenn das anders wäre was ich eigentlich also ob ich das wirklich wollen würde oder so. Aber trotzdem hat mich das halt traurig gemacht.  Ähm. Das hat so ein bisschen so auch was von Abschied so weil ich auch nicht weiß. Also das wird sich ja auch erst zeigen ob dieser Freund dann damit zurecht kommt wenn wir weiterhin eine gute freundschaftliche Beziehung haben. Also Abschied nehmen halt. Ja. Genau also. Ja.  Angst? Also Angst ist was ähm was einen blockieren kann so. Aber auch warnen kann. Wenn man vor etwas Angst hat weil das gefährlich ist. Und ähm aber auch halt. Ja. Kann auch ähm blockieren und hemmen.  Ähm. Na zum Beispiel bei diesen also diesen Vortrag da zu halten. Weil ich nicht einfach nicht wusste was an Reaktionen da so. Wenn man wenn ich genau. Also so Unsicherheiten so führen bei mir zu Angst oder vielleicht bei allen Menschen.  Also Wut ähm kann. Also es ist halt. Während Angst eher blockiert ist Wut wahrscheinlich eher eine Energie die einen zu Aktivität verleitet. Und zum Beispiel halt auch wieder dieser Vortrag den ich gehalten habe. Der war halt. Das hat mich halt schon sehr. Also da war. Und da waren viele Gefühle dabei aber auch Wut halt. Und ähm genau. Und diese Wut darüber dass da halt dieses Thema so überhaupt nicht ernstgenommen wird oder beachtet wird. So und dass.  Ähm. Naja dass es da halt einen Mensch gibt einen Täter der halt dem diese Gruppe vielleicht viel zu verdanken hat aber ähm gleichzeitig Menschen direkt andere Menschen sehr geschadet und verletzt hat. Und dass der damit dann. Dass man da einfach so ja ein Auge zudrückt. Naja der hat halt so viel für uns getan also kann er ja ein paar Leute missbrauchen . Oder irgendwie so eine Haltung. Oder irgendwas also. Ähm. Also dieser. Ich find das eine schlechten zwischenmenschlichen Umgang irgendwie. Genau. Ja. Also ich hatte halt. Da gibt es halt insbesondere von einem Rückfall halt einen ausführlichen Bericht. Und der ist mir halt sehr nahe gegangen. Ich hab da halt mich sehr wie soll ich sagen mich einfühlen können so. Und fand das halt schockierend dass also genau. Also dass das überhaupt nicht gesehen wird und diese Person dann nur als unglaubwürdig und weiß ich nicht und so ne Sachen dann hingestellt wird. Ja ist doch eh alles unglaubwürdig was der sagt und . Das nicht gehört werden und ähm. Genau. Die Erfahrung denke ich habe ich also auch selber halt gemacht. Also jetzt in meiner Familie. Damit meine ich diese Erfahrung so habe ich auch gemacht. Also wenn für irgendwas nicht in Ordnung war dass mir dann gar nicht zugehört wird. Also das ist halt auch halt. Ne also da so. Also deswegen. Also hat irgendwie auch was mit mir zu tun auch wenn ich jetzt nicht sexuell missbraucht wurde oder so.  Also Freude ist ähm ja ist auch so ein Gefühl von Leichtigkeit würde ich sagen. Dass man alles gut findet wie es gerade ist. Und ähm sich eins fühlt mit einem so.  Ja. Also das ist Das ist halt ähm jetzt auch wieder zurück in den letzten Wochen halt auch. Dass ich da gemerkt habe wenn ich da zu den Buddhisten gehe. Dass da auch ja viele mich freundlich weiterhin begrüßen und ich von manchen weiß die fanden das auch nicht so toll aber das. Also das hat mich gefreut also wie. Ja da war dann auch. Also es ist halt gemischt. Also Sorgen und Anspannung auf der einen Seite aber auch positive Erlebnisse und.  Ähm na auch wieder halt dieses Zuhören. Also ich glaube das ist glaube ich eine wichtige Sache dass man einander zuhört so. Das ist mir wichtig. Und ich habe das Gefühl dadurch dass ich diesen Vortrag halten durfte und also. Und die Art und Weise wie es jetzt halt auch weitergeht dass dann doch. Ähm genau. Ich hatte kritisiert mit dem Vortrag dass bestimmte Opfer nicht gehört werden. Ähm aber ich bin jetzt letztendlich gehört worden irgendwie auch stellvertretend für die Opfer so. Oder ich habe den Opfern Gehör verschafft und das genau. Das freut mich zu sehen dass das anscheinend möglich ist in dieser Gruppe halt. Genau.\n",
      "42_6M_manual_c  Naja, ähm persönlich bin ich kein trauriger Mensch. Bin eigentlich eher ein Kind des Lächelns und ähm. Traurigkeit hat natürlich seinen seine Berechtigung. Und ähm selber möchte ich aber nicht traurig sein.  Ja dass äh zum Beispiel ein geliebtes Tier gestorben ist zum Beispiel aber das ist ja dann Trauer eigentlich. Ähm so was. Fällt mir aber muss ich sagen momentan auch schwer zu empfinden. Ist nicht so dass ich jetzt hier ähm das einfach ähm. Das macht mich nervös. Nein das ist wirklich so. Ich weiß nicht warum es so ist aber ja. Äh ja also Trauer ist schwierig.  Ähm ja weil es ein Abschied ist. Weil man konnte es nicht richtig verabschieden. Und man hängt halt so ein bisschen hinterher.  Angst ist auf jeden Fall ein sehr wichtiges Gefühl das man auch nicht unterschätzen sollte weil es meistens vor irgendwelchen Dummheiten beschützt. Und äh zu sagen: Wer keine Angst hat der ist ein Narr. So schön darzustellen wie man immer so sagt.  Ja Angst muss ich schon sagen habe ich schon Ewigkeiten nicht mehr gespürt. Natürlich Angst mit Herzklopfen und so kann man natürlich auch bei Computerspielen haben. Aber das ist eine künstlich herbeigeführte Situation. Das ist ja keine reelle Bedrohung ähm. Das ist was anderes. Wobei man da natürlich auch drüberstehen kann. Man kann die Angst auch ignorieren oder durchfließen lassen das geht auch. Aber naja selber ich habe recht wenig Angst.  Weil es ein reeller Verlust gewesen wäre. Also es wäre das ist ein Spiel das lief online. Und das wäre dann ein Spiel gewesen wo man reelle Werte verliert. Und wenn man da mit sehr viel Wert was weiß ich 20 30 40 Euro in Anführungszeichen durch die Gegend karrt und man wird dann abgeschossen das ist dann schon tut dann schon weh. Und das ist dann halt wo man dann ein Angstgefühl entwickelt.  Wut bedeutet für mich eigentlich gar nichts. Weil ich kann mich kaum daran erinnern mal jemals richtig wütend gewesen zu sein außer dem Zeitraum wo ich Kind war aber das wurde dann ja immer schnell ähm auskorrigiert sage ich jetzt mal.  Nein. Also Wut also Danger auf Englisch habe ich ähm schon ewig nicht mehr gehabt. Also das ist bestimmt schon 10 20 Jahre her.  Na Freude ist Freude man freut sich also ähm. Es ist ein sehr angenehmes Gefühl finde ich ähm. Kann man sehr gut mit umgehen und ähm ja. Also ich würde Freude nicht missen wollen so.  Also ich bin sowieso generell schnell freudiger Mensch. Also ja wenn ich zum Beispiel zum Essen eingeladen werde und das kommt unerwartet dann ist das eine freudige Situation für mich zum Beispiel und ja. Bin dann voll begeistert.  Warum? Das ist eine gute Frage. Das kann ich Ihnen so jetzt gar nicht beantworten. Also ist halt einfach so. Man freut sich man freut sich auch häufig für jemanden anders. Und ähm ist halt von der Situation gesehen ist das halt auch ein unterstützendes Gefühl. Man kann ja Freude auch teilen mit anderen Leuten und äh. Aber warum jetzt gerade wie Freude entsteht da muss ich passen. Da müssen Sie mal einen Psychologen oder Neurologen fragen keine Ahnung.\n",
      "38_6M_manual_c  Also Traurigkeit ähm habe ich vor allem wenn was nicht so klappt wie ich mir vorstelle irgendwie. Und ähm ja ich habe manchmal so eine Grundtraurigkeit auch so eine gewisse Schwelle an Traurigkeit immer.  Mhm ja also in der Klinik hat mich meine Mutter immer besucht. Wenn sie weggegangen ist. Also das war schon da war ich schon ziemlich traurig immer. Oder vor allem als sie mich hingebracht hat. Da war ich sehr traurig ja.  Ja weil sie mich halt da dann also alleingelassen hat ja.  Angst. Ja Angst vor der Zukunft habe ich vor allem eher.  Mhm das war auch damals in der Zeit eigentlich ja. Ähm da hatte ich ziemlich viel Angst ja.  Ja so ähm so eine unsichere Zeit war das. Habe ich das einfach als so empfunden.  Wut. Habe ich jetzt wenig gehabt eigentlich in letzter Zeit. Also kann ich jetzt gar nicht so sagen.  Ja das ist dann eher Wut auf mich. Ähm ja. Ich bin manchmal kurz davor dann gesund zu sein manchmal denke ich mir. Und dann bin ich wütend auf mich weil es dann doch nicht geklappt hat.  Ja also wenn ich mit meiner Mutter unterwegs bin im Park. Wenn wir spazieren gehen das ist immer sehr schön. Da freu ich mich schon ja.  Mhm die Natur. Dass ich mich jemand anderem unterwegs bin. Dass ich draußen bin ja.\n",
      "36_6M_manual_c  Traurigkeit bedeutet für mich sehr schlimm. Man ist immer traurig und man findet den Sinn nicht warum man traurig ist.  Ja. Es geht um meine Eltern. Weil die alle krank geworden sind. Deswegen macht mich traurig.  Ja.  Angst? Angst ist sehr schlimm. Also nicht nur äußerlich hat man Angst also vom von der Realität sondern innerlich ist die Angst auch da. Man hat Angstzustände.  Ja ich habe Angst vor der Zukunft am meisten.  Weil ich mein Leben nicht in den Griff kriege. Nee weil wenn ich jetzt nicht hochkomme wie sieht es dann in ein paar Jahren aus?  Wut ist wenn ich jetzt ähm zum Beispiel Auto fahre. Jemand nimmt mein Spur. Ist auch Wut. Oder wenn ich ähm also wenn mich jemand ärgert so auf dumme Weise. So belästigt bedroht. Das ist auch Wut ja.  Ja gibt es schon viele ja. Meine Konzentration ist weg. Ähm zum Beispiel wo ich in der Ausbildung war da haben die Jungs einfach so einen Eimer Wasser auf mich geworfen. Und ich bin da so richtig nass geworden. Ich hatte ja auch Kontaktlinsen. Alles verrutscht. Und war auf dem Weg nach Hause. Wollte einfach mich ausruhen ja.  Freude bedeutet mir was sehr Schönes. Zum Beispiel wenn mir wenn jemand zu mir kommt und mir einfach einen Blumenstrauß schenkt. Oder mich irgendwo einladet. Dass er mich für mich da ist. Das ist Freude.  Ja da war eine Sache gewesen. Ja von einem Mann. Also der hat mir so richtig Freude in mein Gesicht gezaubert.  Weil er mich so respektiert hat. Der war nett zu mir. Weil sonst waren nicht viele nett zu mir deswegen. Und ich sehe das zum ersten Mal dass jemand nett zu mir ist.\n",
      "71_6M_manual_c  Ich verstehe die Frage nicht. Was bedeutet das für mich? Also ich kenne auf jeden Fall diese Emotion. Und es ist für mich auch eine wichtige Emotion. Und ähm es ist für mich irgendwie. Traurigkeit ist für mich auch ein Prozess um Schmerzen zu lindern und irgendwie unangenehme Situationen zu verarbeiten und wieder fröhlich zu werden.  Also mehrere. Oftmals empfinde ich Trauigkeit wenn ich angesprochen werde warum ich keine eigenen Kinder habe.  Ne das kann ich eigentlich nicht sagen. Das ist irgendwie. Das ist glaube ich viel zu komplex als dass ich das jemals wissen kann.  Ich kenne auch Angst gut. Angst ist für mich erst einmal ein Schutzreflex. Kann für mich so ein Schutzreflex sein. Angst kann für mich aber auch ein Ansporn sein. Und ähm kann für mich aber auch gerade wenn es um eine diffuse Angst geht ähm so ein Unbehagen unbehaglich sein.  Ja also genau zum Beispiel auf einem Kletterparcour als ich mich so eingehakt hatte und 12 Meter springen sollte an der Stelle. Und da war ich ängstlich.  Das ist ja. Für mich ist das ein Instinkt. Also ist ja hat ja Angst davor runterzuspringen wahrscheinlich irgendwie aus Todesangst oder aus Angst sich zu verletzen. Keine Ahnung.  Wie? Was? Wut? Wütend bin ich super selten. Ähm was bedeutet das für mich? Was bedeutet Wut für mich? Wut. Wut ist für mich irgendwie so mit Ungerechtigkeit assoziiert. Das vielleicht Wut so einer empfundenen Ungerechtigkeit entspringt vielleicht.  Eigentlich nicht so richtig. Ne. Also nicht. Also ist mir jetzt ehrlich gesagt jetzt alles zu banal was mir da jetzt einfällt. Ach so im Straßenverkehr bin ich irgendwie aus einer Situation heraus gezwungen gewesen in der zweiten Reihe zu fahren. Und jemand ist hinter mir gefahren und hat mich irgendwie glaube ich als dumme Kuh beschimpft oder so. Und da bin ich wütend geworden weil ich gar nicht dafür konnte. Deswegen passt ganz gut vielleicht was mir eben eingefallen ist dazu. Weil ich da ungerecht beschimpft gefühlt habe oder ungerechtfertigt.  Freude ist für mich das was mich am Leben hält und ähm. Gut ein schöner. Also. Ja also gerade so diese Freude und Trauer zusammen ist glaube ich so für mich so die zwei Pole des Lebens. Und Freude ist für mich unwahrscheinlich positiv besetzt. Und ist etwas was ich total gerne teile.  Zum Beispiel erst gestern da waren ein paar meiner Freunde im Kleingarten versammelt. Und ich kam später erst dazu. Und kam so da rein und habe schon alle um diesen Tisch und in diesem Garten gesehen. Und da war ich sehr sehr sehr fröhlich. Und gar glücklich beschreibt es noch besser.  Auch das ist ja anmaßend das irgendwie zu definieren oder zu ergründen. Ich fing doch an weil ich einfach diese Menschen sehr mochte und mag und den Ort so gerne mag und ich die Gesellschaft schätze. Ja. Und das so ein schönes Bild war da alle an diesem schönen Ort zu sehen. Und ich mich auch auf die gemeinsam Zeit da gefreut habe.\n",
      "55_6M_manual_c  Naja wenn es jetzt sage ich mal so trostlos ist alles jetzt. Ein trauriges traurige Gesichter machen sagen wir dann und ähm. Man selbst eben sich so richtig niedergeschlagen fühlt und gar nicht so richtig denn mehr was anderes sieht außer Traurigkeit und sowas dann. Also das.  Hm. Ja als es meiner Mutter nicht so richtig gut ging. Da ähm also da  Na weil ich ihr auch nicht so richtig helfen konnte dann dabei. Und also das war dann so eine Hilflosigkeit die man dann hatte dann und.  Ähm die ist eigentlich so sag ich mal so allgegenwärtig dann. Also dann wenn man was machen soll oder das Haus verlassen soll sage ich mal. So ein bisschen dann. Und die ist eben dann sag ich mal schon ein ziemlich großes Gebiet was zurzeit jetzt hier so mein Leben beherrscht. Und also das ist dann immer ganz schön Auch manchmal manchmal auch so unbegründete Angst wie Angst vor der Angst oder sowas denn. Und.  Also das war auch im Urlaub gewesen jetzt in Land T. Ähm und da waren wir essen gewesen hier im X. Das war so ein Restaurant. Und da hatte ich dann schon während des Essens so eine Art Schweißausbruch bekommen gehabt denn. Und ähm als es dann darum ging ob wir noch in die Stadt wollen oder nicht mehr wieder zurück ins Hotel hatte ich erst gesagt: Ich komme noch mit in die Stadt. Und dann hatte ich aber dann wieder so eine so eine Panikattacken oder solche Angstattacken dann gehabt. Das waren so 3 innerhalb von 5 Minuten dann. Also ist dann so. Kann man immer nicht so richtig beschreiben. Das ist dann so wie so eine. Das überkommt einen dann. Also man kann damit dann einfach nicht umgehen dann sozusagen. Und das ist dann immer irgendwie dass man sich da hilflos ausgeliefert fühlte dann sozusagen. Aber es war eben dann kein richtiger Grund zu erkennen dann.  Und dass das gab es eben keinen richtigen Grund denn für. Also das war wie so eine Art Automatismus dann gewesen dann. Und so wie phasenverschoben. Dann erst ging es einem noch gut sage ich mal. Und dann ist es dann wieder zusammengebrochen dann sozusagen dann. Also das ist eben nicht zu beschreiben dann. Also das ist dann nur als ob einen da das Schicksal so ein bisschen da so mit einen Stock zwischen die Beine schiebt oder sowas. Also sowas dann so. Also das ist immer wieder dieser dieses Auserwähltsein und ja vom Schicksal dann eben dann gebeutelt und.  Ähm also Wut unterdrücke ich meistens dann. Also so richtig wütend werden war ich schon lange nicht mehr gewesen dann. Also es ist dann schon eine ziemlicher eine ziemliche Zeit her. Also ich kann mich gar nicht mehr erinnern wann ich mal so richtig wütend gewesen bin weil man eben dann immer alles dann sage ich mal mehr oder weniger dann runterschluckt dann. Also das ist dann so.  Hm. Naja ich war irgendwie denn auf mich wütend gewesen als ich denn gestern da nicht so nicht so durchgehalten habe jetzt beim Einkaufen sozusagen. Also wo ich mich dann wieder ins Auto geflüchtet habe und ja. Als dass man. Aber so richtig wütend dann eben dann in dem Sinne also da. T: Warum haben Sie in dieser Situation Wut empfunden? Weil Sie nicht durchgehalten haben sagten Sie? P: Mhm.  Freude ist sage ich mal wenn man sich dann über Sachen oder Dinge freuen kann. Sag ich mal wie die Sonne scheint oder.  Das war am Anfang vom Urlaub sage ich mal. Wo es noch ein bisschen besser ging sage ich mal. Da hat man sich dann auch so auf Sachen gefreut aufs Essen gefreut sage ich mal so denn oder auf die Cocktails die es dann da gegeben hat und sowas dann. Und joa das war eigentlich das letzte Mal wo man da so ein bisschen denn Freude empfunden hatte. Also das.  Naja weil man denn von dem ganzen Negativen jetzt erstmal wieder weg gewesen ist jetzt sozusagen. Also von den ganzen bösen Emotionen und ähm Stimmen. Was das alles dann so mit reinspielt: so Gedankenspiralen sowas dass man das dann nicht hatte dann. Wie gesagt ich kann das immer nicht ähm nicht beschreiben. Also das ist immer dann so automatisch dann eben. Dann ist es dann. Also warum es immer mal besser wird mal schlechter wird kann man irgendwie nicht so richtig einschätzen dann. Also das ist immer so wie ein wie ein Glücksspiel kann man fast sagen. Genau sowas.\n",
      "68_6M_manual_c  Ich weiß nicht was ich hier antworten soll. Es ist unangenehm.  Wenn von Freunden eine Katze gestorben ist.  Weil mir die Katze leidtut und der Besitzer leidtut.  Ist auch unangenehm.  Na während der Psychose nur. Also Angst vor Menschen nur. Na eben das ich Angst habe dass die über mich reden oder mich komisch angucken.  Also weil ich Mobbingerfahrung in der Schule habe. In der Grundschule.  Ich werde sehr selten wütend.  Wenn ich mich mit meiner Mutter mal gestritten habe.  Um Kleinigkeiten. Das hat mich wütend gemacht dass sie wütend wurde.  Was Schönes.  Ja. Wenn ich Anerkennung für meine Zeichnungen bekomme.  Na weil meine Arbeit belohnt wird. Oder auch wenn ich mit meinen Katzen zusammen bin. Ich liebe meine Katzen. Einfach schön mit denen zusammen zu sein.\n",
      "20_6M_manual_c  Also das ist ein ganz blödes Gefühl. Also wenn man traurig ist dann ist man ja im tiefen Tal der Tränen. Also da kann man dann schon anfangen zu heulen und dann. Also so ging es mir ja gestern ne? Heult man und dann ja. Also man fühlt sich dann ganz schlecht eigentlich ne? Und man fühlt sich dann auch je nachdem was für eine Trauer das ist allein einfach ne mit sich und dem ganzen Geschehen.  Ja natürlich. Also als der mir gesagt hat jetzt ist Schluss aus vorbei und jetzt will er mich nie wiedersehen nie wieder hören nie wieder und gar nichts mehr. Da brach eine Welt für mich zusammen. Und ich war todtraurig. Und wenn ich dann noch so einen Film gucke wie Bridget Jones und so und wo die sich da alle umarmen also natürlich breche ich in Tränen aus.  Weil ich dachte naja dann gibt es keine Gemeinsamkeit mehr dann gibt es keine Liebe mehr gibt es erstmals nur mich und mich alleine. Einsamkeit ist dann da angesagt. Darüber war ich dann auch traurig weil er hat mich ja verlassen. Man fühlt sich so zurückgelassen so.  Oh das ist ein ganz höllisches Thema. Angst ist was ganz Schreckliches. Es kann einen wirklich bewegungslos machen. Also es ist ein ganz schlechter. ganz schlechte Emotion. Also Angst ist eigentlich was ganz Schreckliches wenn man Angst hat. Man fühlt sich hilflos einfach ausgeliefert.  Ja klar ja durch den Stalker halt. Ich war hilflos ich war dem hilflos ausgeliefert. Der konnte mit mir machen was er wollte ne? Ich hatte so eine Angst halt. Mhm. Also wie gelähmt eigentlich so. So eine Lähmung wie so eine Lähmung bei mir. Also ich konnte nicht vor und nicht zurück. gar nicht. Wie gelähmt wie gesagt.  Ja das ist ja auch ein ganz guter ja. Manchmal befreit es einen manchmal ist es wichtig Ruhe zu haben. Damit man sich befreien kann von den Lasten die man so hat. Ja ist manchmal wenn man sich mit jemandem streitet ist Wut vielleicht auch ein falscher Ratgeber. Dann sagt man manchmal Dinge die man nicht so sagen wollte. Also manchmal befreit er einen. Aber manchmal ist es halt schlecht also man fühlt sich dann schlecht wenn man was einem angetan hat damit in der Wut.  Mhm. Ja vielleicht meinem Freund gegenüber. Und dann habe ich ihn natürlich auch beschimpft oder habe gesagt so: „ Nicht mit mir “ oder so. Ja oder habe ihm ein paar Worte gesagt die ich dann bereut habe hinterher so.  Er hat mich einfach auf die Palme gemacht so mit seiner Art und Weise und mit seiner mit seinen Worten einfach. Mhm ja. Und ja dann bin ich wütend. Und manchmal bin ich auch wütend und dann schlage ich auch um mich. Weil ich es nicht so mit Worten habe. Ach das habe ich glaube ich von meinem Vater der konnte das auch nicht.  Das ist was ganz Schönes. Freude ist was ganz Schönes. Das ist wirklich ein Glücksgefühl. Das möchte man am liebsten immer haben. Aber das ist nur mal da und dann vergeht es auch wieder. Aber Freude ist was Schönes. Mhm. Ich freue mich so gerne mit anderen Menschen. Wenn die irgendwas erreicht haben. Wenn die irgendwie Erfolg haben oder sei es gewonnen haben finde ich toll. Da freue ich mich auch. Oder wenn ich anderen Geschenke mache die freuen sich da freue ich mich mit. Das ist ein schönes Gefühl.  Naja als jetzt meine Tochter das Abitur bestanden hat und ihren äh Abiball hatte. Habe ich mich für sie gefreut dass sie das alles so gemeistert hat. So den Erfolg und so. Also das habe ich unheimlich Freude empfunden. Und war auch gleichzeitig stolz auf sie.  Naja weil sie was erreicht hat so was ich nicht geschafft hätte glaub ich. Also ich glaube ich hätte so ein Abitur nicht bestanden. Und sie hat sich ja unheimlich reingekniet und wollte es ja unbedingt auch. Und das ist so ein besonderer Glücksmoment. Wenn man so einen Abschnitt geschafft hat.\n",
      "39_6M_manual_c  Na zum Beispiel so ein Zustand irgendwie ähm dass so Handlungen entgleiten. Und ähm man keinen Einfluss darauf hat.  Naja zum Beispiel jetzt also zum Beispiel macht es mich jetzt traurig wenn jetzt so viele Dreck rumliegt irgendwie. Und zum Beispiel das Silvester macht mich total traurig. Dass also die Achtlosigkeit einfach dass alles liegen zu lassen zum Beispiel.  Ja weil es so eine Achtlosigkeit irgendwie. Für mich ist irgendwo. Also da denke ich irgendwie das Laute ist irgendwo so präsent und das Leise und Schleichende das wird ignoriert oder so. Genau. Und ist natürlich sage ich jetzt mal was vom bleibenden Einfluss ist vermute ich. Also für mich sind es nicht die lauten Dinge.  Angst bedeutet in alten eingeschränkt zu worden durch starke ungute Gefühle.  Na ich bin manchmal schon irgendwie auf jeden Fall mit dem Fahrrad unterwegs. Und dann habe ich einfach irgendwie nicht geachtet was passiert und wäre da manchmal schon fast mit jemand zusammengestoßen oder so. Und ja da hatte ich dann schon so ein Angstgefühl irgendwo durch Unachtsamkeit da irgendwie Schaden anzurichten.  Naja Wut ist eigentlich dieses kommt eigentlich oft zustande wenn man die irgendwie nicht aushalten kann.  Na es war in den meisten meistens irgendwie mit Unpersönlichem. Irgendwie Behörden oder. Weiß ich nicht ob ich Wut sagen kann. Das hatte ich noch öfters wie ich Auto gefahren bin da hatte ich noch öfters Situation wo ich dann mal einfach wütend wurde.  Weil ich der Meinung war ähm es gehört irgendwie auch im Straßenverkehr dazu sich da irgendwo respektvoll zu verhalten. Und wenn man da so das eben nicht so war dann bin dann wütend geworden. So.  Joa das ist eben für mich ist es nichts Berechnendes. Also das kann das ist etwas sehr Spontanes oft.  Na das genügt das war zuerst dass dann irgendwie so. Dass ich denke irgendwie das war jetzt gut gesagt die können das gar nicht so nachvollziehen. Das ist so. Dass ich da so im Moment auffalle und dann denken alle es war halt gut gesagt oder irgendwie eine berühmte Melodie oder so die dann irgendwo so ganz viel sagen.  Keine Ahnung. Ist halt so.\n",
      "43_6M_manual_c  Mh Schmerz der sich nicht beschreiben lässt. Der nicht physisch ist. Mh kann auch mit einer Leere verbunden sein. Ja.  Mh ja. In der äh also während meiner Krankheit. Und jetzt kann ich eigentlich gar keine Trauer mehr empfinden. Also da stumpfen mich die Medikamente so ab.  Das weiß ich nicht. Also das äh wahrscheinlich durch die Symptome. Weil mich das psychisch ziemlich fertig gemacht hat. Und sonst habe ich eigentlich keine Ahnung was das sein könnte. Also es war jetzt kein konkreter Moment der mich traurig gemacht hat. Sondern ähm eher dieses Wirrwarr in meinem Kopf.  Das ist eine Emotion die wichtige Seiten hat. Wenn man. Also man kann in völlige Starre verfallen wenn man äh so viel Angst hat. Oder man will nur noch rennen. Und mh das Herz schlägt schneller. Also man hat körperliche Symptome.  Mh zum Beispiel manchmal wenn ich unterwegs war. Und unter also unter großer Menschenmasse war zum Beispiel. Also nicht richtig Angst sondern eher so eine Art auch keine Panikattacke aber ein Kloß im Hals. Druck Druckgefühl. Und wusste auch nicht woher das kommt. Das hatte ich eigentlich nie. Und dann war es plötzlich da und ich wusste nicht wieso.  Also habe ich auch manchmal immer noch wenn ich eine Situation nicht einschätzen kann. Oder wenn ich unterwegs bin und äh in der Bahn bin zum Beispiel äh schlecht geschlafen habe dann habe ich das manchmal. Oder nicht lange geschlafen habe. Mh allerdings kann ich mir nicht erklären wo das herkommt.  Wenn man. Na wenn man nur noch ausrasten möchte würde ich sagen. Also wenn man schreien möchte. Oder so im Kopf hat dass man nicht mehr weiß wohin.  Eigentlich nicht. Also ich habe jetzt so selten Wut verspürt. Könnte jetzt nicht an einem Moment festmachen.  Spaß haben. Wenn man glücklich ist.  Wenn jemand einen Witz erzählt.  Weil es lustig war. Also ja wenn man oder wenn man mit Freunden viel rumalbert oder weiß nicht. Gibt es ja viele Möglichkeiten. Mh wahrscheinlich weil ich mich dann mit denen verbunden fühle.\n",
      "27_6M_manual_c  Na dass man niedergeschlagen ist. Dass man äh Hoffnungslosigkeit empfindet und keinen Ausweg mehr findet. Und dass alles grau ist und trübe. Dass man viel weint. So die Richtung.  Na zum Beispiel wo meine Oma gestorben ist. Da hatte ich sehr viel Traurigkeit empfunden.  Na weil da irgendwie eine Lücke entstanden ist die nicht mehr geschlossen werden kann.  Also Angst ist für mich ein beklemmendes Gefühl. Also in der Psychose hatte ich zum Beispiel Angst vor den Stimmen und vor den Reaktionen der anderen. Und hatte Angst dass die Anderen irgendwie meine Gedanken lesen können und so eine Sache.  Na zum Beispiel ähm als die Psychose akut war äh da ist meine Mutter nachmittags gekommen zum Besuch. Und da hatte ich so wirre Gedanken und hatte Angst dass das irgendwie übertragen würde auf meine Mutter. Dass ich mich so geschämt habe und dass ich sie einfach. Also ich hatte ihr dann gesagt: „ Mama tut mir leid ich kann nicht. Könntest du bitte wieder nach Hause fahren? “. Das hat sie auch gemacht. Also das war zum Beispiel eine sehr es war sehr. Da hatte ich wirklich Angst gehabt ne?  Na irgendwie hatte ich ähm die Vorstellung dass die Gedanken sich auf meine Mutter übertragen. Na dass da dass da so böse Gedanken teilweise auch bei waren die ich nicht steuern konnte. Also mir fällt jetzt nichts Spezielles ein. Aber also die Gedanken waren mir fremd. Und dafür habe ich mich geschämt. Und ich wollte halt nicht dass es irgendjemand mitbekommt.  Also Wut bedeutet für mich Ausbrechen. Aus irgendeiner Situation ausbrechen und den Gefühlen freien Lauf lassen. Und Wut bedeutet auch Aggression für mich. Aber wütend war ich eigentlich selten.  Ähm. Na zum Beispiel war ich mit einer Freundin unterwegs. Und ich kannte auch ihren Freund und ähm. Aus irgendwelchen Gründen hat sie mir unterstellt dass ich also dass der Freund mit mir betrogen hätte was überhaupt nicht der Fall war. Und da war ich so wütend ähm dass ich ihr dann wirklich so eine runtergehauen habe. Also das war so weil da hat sie mich wirklich angegriffen weil. Das ist eine Sache die geht gar nicht. Für mich. Ähm. Also wenn jemand in einer Beziehung ist dann ist wirklich ein No-Go.  Na weil ähm der Vorwurf total unberechtigt war. Also ich fühlte mich ähm ungerecht behandelt ja.  Also Freude ist ein sehr schönes Gefühl mit Glück verbunden. Und also ich singe sehr viel wenn ich glücklich bin und Freude empfinde und ja.  Na ich habe ja damals in einer Musical-Gruppe mitgesungen. Da hatten wir auch ein Paar Auftritte gehabt. Und wenn mir die Leute so applaudiert haben und wenn du dann Anerkennung bekommen hast für deinen Auftritt dann habe ich sehr viel Freude empfunden.  Na weil man den Text nicht vergessen hat die Töne getroffen hat und ja wegen der Anerkennung. Ja und man hat halt was geschafft irgendwie ne?\n",
      "60_6M_manual_c  Ja wenn irgendwas Schlechtes. Wenn jemand anderem was Schlechtes passiert. Also durch Empathie oder ja.  Der Tod meines Großvaters zum Beispiel. Sowas vielleicht also. Ja Zwischenmenschliches: Verlust von Freunden also wenn er irgendwie Kontakt abbrechen würde. Sowas zum Beispiel. Halt irgendwie wenn ein Freund durchdreht und was weiß ich macht. Die ganze Zeit nur Scheiße baut ähm irgendwie abhängig wird und sein Leben kaputt macht. Sowas finde ich halt traurig.  Naja weil er ein Vorbild für mich war. Und ja ich so eine ziemlich gute Bindung zu ihm seit Langem. Ich kannte ihn ja wirklich seitdem ich klein war als eine der wenigen Personen. Ja.  Naja wenn man ähm halt nicht weiß was zukünftig passieren soll oder sowas oder was halt ähm irgendwie. Also wenn irgendwas Bedrohliches halt. Dann ist man ängstlich und ja. Oder wenn irgendwer sich bedrohlich verhält zum Beispiel. Seinen Tod oder keine Ahnung einen zusammenschlagen oder sowas. Ja das sind halt so Situationen die mir gerade so in den Kopf gekommen sind. Flashbacks wo ich halt zuletzt Angst empfunden habe aber.  Na am Anfang als das angefangen hat mit den ganzen Sachen den Stimmen und sowas. Da habe ich Angst empfunden aber da. Die habe ich jetzt fast komplett wegmeditiert. Also mittlerweile kann ich sie ziemlich gut beherrschen und so.  Na weil ich nicht wusste ob es real ist oder nicht. Und was hier gerade passiert.  Naja ziemlich unangenehme Emotion der man sich gar nicht. Also in der man eigentlich nur Scheiße macht und ja nicht mehr rational denken kann. Deswegen versuche ich sie halt möglichst einzudämmen. Also echt so eine Emotion die meiner Meinung nach nicht mehr existieren sollte. Vielleicht so aufgrund von Überlebensinstinkten oder sowas. Ist natürlich eine Sache es ist vorteilhaft Wut zu empfinden aber ja.  Ja als ich halt irgendwie dumm angemacht wurde oder sowas. So sowas halt. Achso was gab es noch. Achso ja letztens irgendwie. Wenn man so beim Kundenservice egal was man eingetippt hat also bei der Weiterleitung immer eine Fortleitung auf die Webseite bekommen hat und man nie einen Berater sprechen konnte egal was man eingab. Also die haben so gesagt: 2 um jetzt dies zu machen 1 um Auskunft über das Girokonto zu machen . Aber ich habe alles Mögliche durchprobiert. Und ich bin immer wieder auf diese Webseite weitergeleitet worden. Sowas macht mich halt wütend.  Naja weil ich halt Beratung wollte. Und meine Zeit irgendwie wirklich vergeudet wurde. Und ähm es irgendwie wirklich absurd war weil da halt wirklich gesagt wurde dass das Mitarbeiter sind und man sich im Endeffekt denkt: Ja wie kann man die überhaupt sprechen . Und egal was man eintippt man an die Webseite weitergeleitet wird. Oder gesagt wird dass man auf die Webseite gehen soll. Und das macht einen halt echt irgendwie wütend. Und ja.  Ja angenehm. Das angenehmste Gefühl halt. Also eigentlich halt zum Teil auch der Grund weswegen man lebt. Also was kann man. Was ich fühle oder?  Naja wenn andere glücklich sind. Wenn andere lachen. Wenn mir selbst etwas Gutes passiert. Sowas halt.  Zum Beispiel. Was gibt es denn als schönes Beispiel? Also zum Beispiel als wir in einer Gruppe unterwegs waren und Äpfel und Pfirsiche gegen Bier getauscht haben. Das hat uns alle froh gemacht. Deswegen fand ich es auch so besonders freudeerregend so. So wenn man als Team einfach so Freude empfindet halt. Ne also. Ja.\n",
      "28_6M_manual_c  Traurigkeit bedeutet so eine Gedrückt sein und ähm irgendwie ein Verlust erlebt zu haben oder was verloren zu haben.  Ähm. Als ich neulich die Kollegin die Freundin aus der Literaturgruppe besucht hatte und sie so eine tiefe Depression hatte. Da war ich traurig weil mir das nahe gegangen ist ihre Depression. Und weil ich finde das Leben ist so schwierig für sie und für mich manchmal auch. Ja.  Angst bedeutet für mich bedrängt sein ähm. Das Gefühl von Kontrollverlust und nicht mehr handeln zu können oder nicht mehr wissen wie ich handeln kann. Und ähm so das Gefühl von ausgeliefert sein.  Ich habe ähm ja ähm ich wohne in der Pattere-Wohnung. Und ich komme relativ nah der Straße mit auch wenn Fenster zu sind. Und da gibt es manchmal halt auch Betrunkene die herumgrölen oder aggressiv sind. Und das macht mir Angst.  Ich habe Angst dass da Gewalt entsteht aus der Aggression der Betrunkenen. Und dass ich schutzlos ausgeliefert bin.  Wut ist immer ein Gefühl wovor ich Angst habe so ein bisschen das überhaupt spüren zu können oder das zuzulassen. Ich finde wenn die Wut dann da ist habe ich das Gefühl sie raubt mir viel Kraft. Und das kostet viel Kraft äh Wut zu haben.  Ja. Ähm. Eine Freundin meinte mal weil mein Zimmer nicht so gut aussieht ob sie mir helfen solle beim Aufräumen. Und da habe ich mich so klein gemacht gefühlt. Und da war ich wütend auf sie.  Weil ich mich ähm weil ich habe mich. Das kam so von oben herab. Das kam ja so ich bin kleiner Junge der nicht sein Zimmer aufräumen kann. So kam mir das vor.  Freude geht schnell in bei mir geht das schnell in sowas Euphorisches und ähm dass ich dann wenn dann ähm. Freude ist eigentlich wenn ich mit mir klarkomme auf einer Art und Weise. Wenn ich mich annehme wie ich bin. Und wenn ich gutes Auskommen mit mir habe. Wenn ich wenn die inneren Dialoge wenn ich denen gerne zuhöre und mich mit mir im Reinen bin.  Ähm ich habe Schwierigkeiten jetzt. Ich habe mich ein bisschen gefreut dass mein Vater sich über das Geburtstagsgeschenk gefreut hat.  Weil das Verhältnis zum Vater eher distanziert ist und ich da ein bisschen Schwierigkeiten habe. Und ich war mir auch unsicher ob äh das Geschenk bei ihm so gut ankommt. Da hat er sich gefreut ja.\n",
      "5_6M_manual_c  Freude. Was Positives. Freude. Freude ist wenn man aufgedreht aufgedreht und voller Erwartung.  Ich habe einen schönen Traum gehabt. Ich habe mich gefreut über den Traum. Es gibt Träume haben Bedeutung so.  Weil es eine positive Nachricht ist.  Traurigkeit hm. Antriebslos. Äh besorgt und so weiter.  Ist Vieles aber man weiß jetzt nicht. Hm ja zum Beispiel eine Frau die mich interessiert hat und hat kein Interesse an mir.  Ja weil ich ähm weil ich mir schon also Gedanken gemacht habe. Was soll ich sagen?  Angst ist so mit Adrenalin so etwas. Und anstrengend. T: Können Sie mir eine Situation schildern in der Sie Angst empfunden haben. P: Ja irgendwo Ärger gehabt mit irgendwo draußen. Da ist eigentlich nichts passiert. Zum Schluss ne? Hat keiner äh was gemacht.  Damals war ich sehr ängstlich so und dachte so Ja vielleicht sind die stärker. Ne?  Ja Wut ist wie so ein Feuer dass innen brennt. Das zweitschwerste da wäre am schwersten ist Angst danach kommt irgendwie Wut. Schwer zu ertragen.  Ja also ich meine. Wie soll ich sagen? Wann war ich wütend? Wenn es mir so vorkommt dass ich ausgenutzt werde. Wenn einer einen immer wieder nach Hilfe fragt.  Weil ich mich ausgenutzt fühle.\n",
      "52_6M_manual_c  Verlust. Ähm Enttäuschung. Traurigkeit bedeutet für mich hm ähm ja. Fällt mir generell schwer irgendwie ähm Gefühle zu beschreiben ähm. Traurigkeit ist irgendwie. Also Traurigkeit bedeutet für mich irgendwie was nicht zu haben was ich eigentlich gern hätte. Und das könnte ein Verlust sein. Oder das könnte was sein was mir fehlt. Es könnte was sein was ich nicht irgendwie gemacht habe oder falsch gemacht habe. Oder ähm halt auch. Also am meisten bin ich traurig wenn ich irgendwie ähm merke dass ich jetzt irgendwen nicht so behandelt habe wie ich finde dass ich ihn behandelt haben sollte so. Das ist so mein aus meinem Alltag so meine Beziehung zu Traurigkeit glaube ich.  Okay. Ähm eine Situation. Eine konkrete Situation. Zum Beispiel habe ich eine Verabredung mit meiner Freundin vergessen. Punkt.  Weil weil sie enttäuscht von mir war. Also weil sie weil ich ihr sozusagen einen Schaden zugefügt habe. Und weil ich äh ja so äh so ganz simpel formuliert weil ich sie verletzt habe dadurch. Und ähm das nicht wollte ja. Ja.  Ähm ähm Angst. Angst bedeutet für mich irgendwie nicht zu wissen was passieren wird. Zu denken mir oder anderen könnte irgendwie Schaden zugefügt werden oder würde Schaden drohen. Ähm ja.  Ähm ja. Also immer eigentlich immer wenn so vor allem bei Kindern. Also irgendwie halt Kinder aus der Familie äh. Da ist dann oft mal so dass bei mir irgendwie so hochkommt: Gott und könnte denen was passieren? . Und äh oder dass es irgendwie. Ich habe halt ähm wenn sie dann so auch nichts Konkretes so. Also nicht irgendwie sondern was ganz Diffuses. So einfach diese Angst denen als meiner Nichte meinem Neffen denen könnte was passieren. Und also die könnten sich irgendwie verletzen oder denen könnte Schaden die könnten einen Unfall haben. Und ähm das sind so Sachen also eher so eine diffuse Angst. Oder also jetzt nicht irgendwie. Es fällt mir jetzt keine konkrete Situation ein wo ich jetzt dachte: Oh da ist er aber halt fast vom Trampolin gefallen oder sowas . So wo ich dann wo dann wirklich mal was fast passiert wäre oder so. Sondern eher so eine Grundangst ähm den Menschen die mir lieb sind könnte was passieren so. Könnte was Schlimmes zustoßen. Eher also wenn im direkten Kontakt nicht. Sondern eher wenn sie nicht da sind. So irgendwie ähm. Ja oder ach. Ein anderes Beispiel was mir noch einfällt ist so wenn die mal irgendwie so ganz einfache Sachen wenn sie mal ähm am Husten oder am Kränkeln sind und gleich so Oh Gott oh Gott werden sie das überleben und kommen sie da durch? . Oder so. Und dann ja.  Weil ach shit ich muss selber drüber lachen. Es ist äh. Oder auch bei meiner Freundin. Irgendwie das ist. Das hört sich jetzt blöd an wenn ich das sage aber ich denke immer: Gott habe ich sie mit irgendwas angesteckt? . Oder sowas so ne. Oder halt auch keine Ahnung es ist also ja ähm. Also oft irgendwie wenn ich jetzt dadrüber rede beziehe ich es glaube ich oft auch auf mich. So irgendwie habe ich irgendwie was gemacht oder so? Und äh also so ganz dahinter steckt irgendwie sowas wie ähm ich glaube auch teilweise nicht ganz verarbeitete so Wahninhalte noch so irgendwie. Zum Beispiel dachte ich dann in der Akutphase oft ich hätte irgendwelche ganz schlimmen Krankheiten und ganz irgendwie. Also ich kann es gar nicht so genau beschreiben. Also ich kann es nicht genau formulieren. Irgendwie ist es halt so irgendwie so was so eine Gefühl von ich bin schuld oder sowas so ne irgendwie. So in die Richtung geht das. Ja. Es ist eher sowas wie ein grübeln auch wieder. Also könnte ich schuld sein oder so ähm. Es ist echt ja. Ach keine Ahnung. Es ist irgendwie sowas wie ähm. Ich spinne mir dann glaube ich auch irgendwie was zusammen glaube ich. Weil irgendwie ich mache ja ähm bei der Behandlung ja auch immer Bluttests und so weiter. Und da wird ja alles mal abgefragt ähm. Und dann mache ich da irgendwie so Konstrukte draus glaube ich. Also konstruiere ich mir da irgendwie was zusammen. Zum Beispiel in der Pflege ist ja ganz klar irgendwie halt zum Beispiel Hepatitis A B Impfung oder sowas Nadelstichverletzung ist ein Thema. Ähm und dann ist halt spinne ich mir da irgendwie sowas zusammen wie habe ich mir da jetzt irgendwas eingefangen habe ich mich mit irgendwas angesteckt. Habe ich da wen anders angesteckt oder so was. Und dann ist halt irgendwie dann haben die einen Husten oder eine Erkältung oder so was. Und ich und dann rattert es bei mir gleich los irgendwie so. Ja so ungefähr. Äh und also und da ja.  Oh Gott. Äh ähm Wut bedeutet für mich etwas was ich eigentlich gar nicht verspüren will. Aber trotzdem verspüre. Und mich darüber ärgere dass ich das verspüre. Und äh also so etwa also ein sehr. Ich wäre am liebsten nie wütend ne. Und wenn ich wütend bin äh merke ich bin ich wütend auf mich dass ich wütend bin so ein bisschen. Und äh äh habe Probleme damit einfach wütend zu sein. So ja. Es ist irgendwie verworren sage ich mal.  Also so ein ganz leichtes ist immer wenn meine Freundin wieder nicht die Scheißpappe zerreißt bevor sie sie in den Papiereimer tut. Sondern einfach ist voll der Eimer so. Also dann verspüre ich so ganz leichte Wut. So äh ich habe es doch zehn Mal erzählt jetzt bitte einmal einfach in der Mitte durchreißen und dann passt auch mehr rein so.  Dass sie das nicht versteht dass das so wie ich das mache doch richtig ist. So äh so und dass sie einfach nicht anscheinend irgendwie begreift dass man dann dass ich die dann zerreiße. Dass ich die dann zerreißen muss so. Und kleinmachen muss. Also ja. Und dass sie das nicht irgendwie begreift so. Das ist so.  Äh Freude. Ähm Freude? Was Schönes. Einfach wenn ich mich gut fühle. Also ähm Freude Freude Freude. Ist also da habe ich keine Interpretation zu. Also Freude ist einfach Freude so. Also Freude ist also ich freue mich eigentlich ziemlich oft würde ich sagen so.  Ähm so im Alltag einfach. Ähm wenn ich irgendwie Menschen sehe die gut miteinander umgehen. Oder nett und humorvoll und freundlich miteinander umgehen ähm. Oder halt auch auf der Arbeit mit Patientinnen und Patienten. Wenn die ähm wenn die sich freuen dann freue ich mich. So also so ganz einfach gesagt. Wenn man irgendwie ähm wenn irgendwie was Schönes passiert ist. Also wenn die sich freuen oder wenn zum Beispiel jetzt eine Patientin. Die ist halt den ganzen Tag allein zuhause und wenn man dann da reinkommt zu den Pflegeeinsätzen dann ist gleich so Och! . Also auch sehr dement aber ähm halt auch einfach wenn sie einen halt wiedererkennen so: R dass du dich nochmal blicken lässt oder irgendwie sowas. Das ist dann echt so. Äh da freue ich mich. Oder wenn ich was. Ich freue mich auch jedes Mal wenn ich ein To Do Häkchen aufs Häkchen klicke. Da freue ich mich zum Beispiel.  Ähm hm. Zum Beispiel wenn jetzt die Patientin mich wiedererkennt oder wenn sie sich über diesen Besuch über diesen zwischenmenschlichen Kontakt freut dann freut mich einfach dass ich da irgendwie beitrage. Dazu beitrage dass sie sich gut fühlt. So also dass ich irgendwie was zum Positiven bewege. Und das kann halt alles Mögliche sein. Und das ist halt auch das To Do Häkchen. Dann ist halt irgendwie halt was zum Besseren bewegt. So auf die Waage so ein bisschen auf die gute Seite ein bisschen mehr Gewicht draufgelegt irgendwie. Ja. Das ist schön. Das freut mich.\n",
      "57_6M_manual_c  Naja Traurigkeit ist wenn ich mich nicht gut fühle. Also wenn zum Beispiel irgendwas nicht so Gutes passiert ist einfach. Oder wenn man sich nicht ähm na wenn man einfach down ist so ein bisschen. Wenn man weint vielleicht auch oder wenn man äh. Wenn man irgendwie eine schlechte Nachricht bekommen hat. Das ist traurig eigentlich denke ich ja.  Ja. Zum Beispiel als ich erfahren habe als meine Oma Krebs hat. Oder als ich erfahren habe dass mein Bruder erkrankt ist. Da war ich sehr traurig und hatte kein gutes Gefühl. Und da war ich schlapp ja.  Naja weil es jemand aus meinem näheren Umfeld halt nicht gut geht. Und dann besorgt mich das einfach denke ich ja.  Mhm. Ähm naja Angst ist schon häufig so bei eigentlich. Aber was es für mich bedeutet so. Na wenn zum Beispiel also wenn ich das nicht mag die Situation. Oder wenn ich mich unwohl fühle. Oder das bedeutet für mich dass ich mich unwohl fühle und ja. Dass ich das nicht möchte oder dass das ja. Dass ich der Situation eigentlich ausweichen will so ein bisschen.  Ja naja zum Beispiel äh. Naja was soll ich sagen Angst hatte ich zum Beispiel. Ich weiß jetzt gar nicht was ich sagen soll denn es ist schon. Ja Angst zum Beispiel ähm. Nicht so einfach nein ist eigentlich schon einfach. Na zum Beispiel oder zum Beispiel ist Angst auch wenn ich zum Beispiel. Ach ich weiß es nicht. Ach zum Beispiel wenn man einfach Angst hat. Ja wenn ich über die Straße gehe und denke dass ich vom Auto überfahren werde und so ja.  Na weil es gefährlich sein könnte ja.  Wut ist naja wenn man so einfach im Bauch ein bisschen denkt so naja nein. Man könnte sagen bis zum Eskalieren denke ich. Naja Wut wenn man zum Beispiel auf jemanden wütend ist denke ich. Oder wenn man ja wütend auf jemanden ist. Zum Beispiel war ich auf meine Mama wütend weil sie meine alten Schränke verkauft hat die ich eigentlich behalten wollte. Oder wo wir die Absprache hatten dass es meine sind und dass die zu meiner Oma kommen und sie hat die einfach verkauft ja. Und da war ich wütend.  Weil ich das ungerecht fand. Und ich habe das so erlebt dass es nicht richtig ist. Und dann war ich wütend auf Mama.  Freude bedeutet das wenn ich morgens aufwache und äh ja. Wenn mein Freund neben mir liegt ja.  Freude ist wenn ich zum Beispiel auf Arbeit bin und es ist 10 vor 12. Und ich weiß in 10 Minuten gibt es Mittagspause und es gibt Mittag. Dann denke ich mir: Yeah. Ja.  Na weil ich Hunger habe meistens schon 10 vor 12 meistens auch schon halb 12 aber ähm ja. Aber dann freue ich mich einfach ja.\n",
      "10_6M_manual_c  Schwierig. Tja na ein tiefgreifendes Gefühl. Und schwierig. Können Sie mir ein bisschen auf die Sprünge helfen? Es ist ein tiefgreifendes Gefühl. Aber es kann auch dazu dienen und wichtig sein um was zu verarbeiten. Was man erlebt hat. In seinem Leben zum Beispiel. T: Und könnten Sie eine Situation schildern in der Sie Traurigkeit empfunden haben. P: Äh ja also in meinen Krankheitsphasen da war ich traurig dass ich ähm nicht mehr so aktiv am Leben teilnehmen konnte. Dass ich mich schlecht gefühlt habe. Und also dass ich so ein lähmendes Gefühl gespürt habe. Ja das hat mich traurig gemacht. Der Tod meiner Mutter auch. Aber das war mehr so zum Verarbeiten also oder da habe ich sie betrauert. Und als ich krank war da habe ich die Traurigkeit eher negativ erlebt so als Lähmung.  Warum hm. Na eigentlich habe ich das schon gesagt eben und kann jetzt nichts anderes dazu sagen.  Ja Wut das Gegenteil von Traurigkeit. Ja das Gegenteil von Traurigkeit. Ähm mehr fällt mir dazu jetzt gar nicht ein.  Ja na auch was ich schon so erzählt habe auf meine Mutter. Wenn sie sich so in mein Leben eingemischt hat. Und Wut auch auf mich dass ich ja dann vielleicht doch nicht den Kontakt abgebrochen habe oder ihr so powerhaft entgegentreten konnte dass sie ihr Verhalten geändert hat.  Weil ich mich so eingegrenzt eingeschränkt gefühlt habe in meinem Leben wie ich sein wollte was ich machen wollte. Also mit meinem Mann zoffe ich mich auch ab und zu aber da erlebe ich die Wut eher positiv dass sie da eher was bringt. Oder Wut kann auch befreien was ablassen. Oder etwas bereinigen dass ein Gespräch darauf folgen kann konstruktives. Also hat auch was Positives. Mal aus der Jacke zu gehen.  Angst. Naja negativ auch durch meine Mutter geprägt weil die ein eher ängstlicher Mensch war und auch gerade auf mich eher ängstlich. Ich denke auch schon als ich natürlich klein war und was dann auch zu einer größeren Unselbständigkeit geführt hat oder die länger bei mir angedauert hat dadurch. Aber ja erstmal die rohe Angst sehe ich positiv also die dient ja dazu nicht ins Feuer zu greifen oder nicht vor das Auto zu laufen. Also da sehe ich die Angst positiv natürlich oder als was Schützendes. Aber dann später oder auch wie ich meine Mutter erlebt habe doch eher was Einengendes also Angst das Gefühl. Und ich habe auch mal Angst um meine Kinder dass die eben. Aber da versuche ich mich eben zurückzunehmen und Vertrauen zu haben und nur einmal zu sagen Fahr vorsichtig . Und wir haben zwei Kaninchen bei uns im Garten leben die. Um die Kaninchen habe ich auch Angst dass sie nicht vom Fuchs gefressen werden ja wirklich. Also muss ich mich ganz doll zusammennehmen. Ja. Ist was Lustiges.  Na das ist eine Verlustangst denke ich ne? Mhm. Hatte meine Mutter bei mir bestimmt auch. Aber ich finde die muss man reflektieren ja? Sonst macht die mit dem anderen was ja? Was der gar nicht haben will so. Was haben Sie jetzt gesagt?  Positives Gefühl ja.  Als ich meine Kinder bekommen habe. Ich habe zwei Mädchen. 14 und 19. Ja Freude empfinde ich wenn ich arbeite. Ähm wenn ich meine Freunde treffe meine Freundinnen. Hm ich empfinde Freude wenn ich verreise oder wenn ich mir Vorträge anhöre ich gehe gern ins X. Ähm ja durchweg ein positives Gefühl.  Ähm na weil ich also die beiden Kinder waren Wunschkinder und ähm. Ich habe mich gefreut auf die neue Rolle als Mutter und ja. Freue mich heute noch über zwei wunderbare Töchter. Mehr kann ich nicht sagen.\n",
      "34_6M_manual_c  Angst? Hm ja Anspannung und Unsicherheit äh. Unsicherheit und ähm Panik.  Hm. Ich glaube ähm. Ja also ich habe letztens die Befürchtung. Also ich habe manchmal so Übelkeit ein bisschen. Und das hatte ich letztens Mal so so dass es den ganzen Tag war. Und da hatte ich dann irgendwie auch Angst gefühlt. Naja keine Ahnung was das sein könnte oder so.  Na weil ich nicht wusste was jetzt der Grund ist von der Übelkeit. Naja dass es irgendwas Gesundheitliches sein könnte vielleicht ja körperlich.  Wut ist Aufregung aber kann auch Energie sein. Aber so richtig Wut habe ich schon lange nicht mehr empfunden. Aber Sie wollen jetzt eine Situation ne?  Hm. Äh ja war schon bisschen länger her aber war so eine Situation dass ein. Ich wohne ja in X ist ja auch ein bisschen auch weiter draußen und ähm. Und da hat ein Passant ein also einen Schwarzen äh so angemacht auf der Straße und ja. Da bin ich wütend.  Na weil ich das einfach nicht gerechtfertigt finde also dieses Verhalten.  Traurigkeit ist einerseits ein Gefühl etwas vielleicht verloren zu haben aber kann auch so ein Mitgefühl sein also ja.  Das na das war bei diesem Film. Ja. Und ähm also der Grund war also ich habe mitgefühlt und aber auch das auch auf mich also auf meine Situation bezogen und ja so ein Gefühl gehabt so die Frage: Werde ich gesund? Oder nicht ne? Das hat mich riesentraurig gemacht.  Freude na ja Freude ist Leichtigkeit bisschen Gefühl von Leichtigkeit und ja. Ich spüre oft Freude wenn ich Musik mache und freue mich jetzt auch auf. Also wir haben jetzt bald so ein kleines Konzert und das ja das freut mich. Warum? Ähm weil es naja weil es Spaß macht und Freude bringt.\n",
      "41_6M_manual_c T: Was bedeutet Traurigkeit für Sie? Können Sie das ein bisschen beschreiben? P: Traurigkeit. Ah das ist schon ein sehr quälendes Gefühl. Also das spüre ich auch körperlich auf jeden Fall. Solarplexus und ja. Ist auch was was länger anhält. Wovon ich mich aber auch immer wieder erholt habe bisher.  Ja als mein Hund gestorben ist auf jeden Fall. Ähm ja nach einer Trennung halt. Das auf jeden Fall. Ja so. Mhm.  Hm naja wenn man was verliert was nie wiederkommt.  Angst habe ich sehr selten Gott sei Dank. Also sagen wir mal wenn ich nicht krank bin dann bin ich ein sehr mutiger Mensch und habe weniger Angst als andere. Und wenn ich krank bin dann ist das natürlich äh ganz schlimm weil man da vor allem möglichen Angst hat ähm. Ja also ich würde mich auf keinen Fall als ängstlichen Menschen bezeichnen. Aber wenn ich krank bin und Angst habe dann ist es irgendwie was was ich dann gar nicht in Griff kriege. Das ist dann äh beängstigend. Das ist das falsche Wort aber äh bedrohlich.  Hm äh ich überlege. Also ich wurde mal gestalkt von einem Mann. Und da hatte ich dann schon Angst auch in mein Haus zu kommen weil ich dachte Oh Gott der könnte überall stehen und so. Ich wusste nicht was der vorhat. Da hatte ich schon Angst einfach. Und ich wohne auch im Parterre und dann da dachte ich Oh Gott jetzt muss ich mal die Gardine zumachen. Wer weiß wer weiß. Und das hat sich dann auch so habe ich mich so reingesteigert. Das war dann teilweise nicht mehr real aber äh. Das war unangenehm ja. Das habe ich dann auch körperlich gemerkt. Also ich fange dann auch an zu zittern oder so.  Ähm ja das ist schwer zu sagen. Weil es war ja irgendwo also ich hatte versucht da rational ranzugehen. Was könnte jetzt passieren und so. Aber es war eben so diese Ungewissheit. Man weiß nicht was er vorhat oder wie es weitergehen kann oder ob das jetzt irgendwann wieder zu Ende ist ähm ja. Hm ja die Warum-Frage ist schwer schwer zu beantworten also. Na dass man das Gefühl hat man kommt nicht mehr raus also äh. Da kriege ich dann Angst. Also wenn ich jetzt vorher wüsste zum Beispiel bei dem jetzt der hatte nach ein paar Monaten aufgehört zu stalken. Wenn ich das dann weiß okay das hört dann auf dann ist das nicht so bedrohlich. Aber ich hatte auch schon mal Angst. Ich war mal in so einer äh Polizeizelle eingesperrt. Ist ganz lange her. Und da hatte ich natürlich auch Angst weil ich einfach nicht wusste wann komme ich da wieder raus. Was machen die jetzt mit mir. Und es wusste auch keiner dass ich da bin. Und da habe ich natürlich Angst gekriegt obwohl man natürlich hinterher denkt naja wieso was sollen die schon machen? Oder natürlich müssen die einen rauslassen und so. Ähm aber so ja ich steigere mich da wahrscheinlich so ein bisschen rein und wenn ich nicht wie gesagt wann es zu Ende ist. Genauso hätte ich auch Angst in einem Fahrstuhl stecken zu bleiben obwohl man rational weiß okay da kommt irgendwann einer und holt einen raus. Aber dieser Moment der Ungewissheit äh der macht mir Angst. Und deshalb vermeide ich es zum Beispiel auch mit Fahrstühlen zu fahren äh. Also lieber mit Leuten zusammen fahre ich Fahrstuhl und wenn ich alleine bin nur zur Not. Ansonsten vermeide ich das.  Also Wut versuche ich zu vermeiden. Weil wenn ich wütend bin dann bin ich richtig wütend. Dann muss ich mich auch echt bremsen. Ähm darum ist es so dass ich. Also ich fange noch mal an. Also wenn ich jetzt. Also ich weiß dass ich sehr wütend werden kann und äh. Wenn ich das dann merke dass ich jetzt sehr wütend werde mache ich halt Sport. Dann gehe ich eine Runde joggen oder gehe laufen oder höre eine CD oder so. Meistens bewege ich mich. Ähm oder versuche mit Leuten dann zu reden später und. Es ist aber ein sehr starkes Gefühl. Und deshalb versuche ich das zu vermeiden. Also ich habe in meiner Ex-Beziehung ja hat man sich auch mal angebrüllt. Aber das war dann aber so schlimm dass man sich dann einen Tag davon erholen musste so von diesem Wutausbruch ja. Und wie gesagt ich versuche es zu vermeiden. Also wenn jetzt zum Beispiel mit Leuten ist in einer Gruppe oder wie auch immer dann halte ich mich aus manchen Diskussionen auch komplett raus. Also gerade aus politischen oder aus anderen Diskussion. Weil ich weiß ich könnte dann so wütend werden dass ich dann auch nicht mehr vernünftig argumentieren kann oder so. Also ich versuche es zu vermeiden weil es ein so starkes Gefühl ist dass dann andere auch Angst vor mir kriegen könnten. Also ich hatte auch mal so einen Job einen Nebenjob wo die unseren Lohn kürzen wollten. Und dann also Dienstberatung und dann wurde ich so wütend und so rot. Also ich habe nicht gebrüllt aber man hat gesehen dass ich wütend bin dass der Lohn dann nicht gekürzt wurde. Das war dann natürlich gut. Aber ähm es ist für mich sehr unangenehm. Und ich hatte auch letztens in der Musikschule eine Situation wo ich auf einen Schüler sehr wütend war. Und dann bin ich eben habe ich den Raum verlassen und habe gesagt Die Stunde ist jetzt erst mal beendet und bin eine halbe Stunde spazieren gegangen damit der das halt nicht abkriegt. Und danach war es dann auch okay. Aber ist ein sehr sehr starkes Gefühl.  Ähm genau also das war so. Ich unterrichte den schon seit 5 Jahren. Das ist so ein. Der ist jetzt mittlerweile 12 ein Junge und ähm. Ich war schon relativ oft so ein bisschen wütend auf den weil der eben äh nicht richtig übt oder dann seine Noten nicht mitbringt oder sein Instrument vergisst und äh ja. Bei dem war es erreicht dass er vorrankommt und so. Und da genau habe ich dann immer die Mutter angeschrieben ob die noch mal drauf achtet dass er alles mithat und blablabla. Und die Mutter ist eben auch echt anstrengend und ja. Und irgendwann kam er dann eben wieder ohne Noten und äh. Und ich war sauer und habe es ihm auch gezeigt aber der ist dann immer so knallcool. Also der zuckt dann mit den Schultern und sagt Ja wo ist jetzt das Problem? Können wir was anderes machen? und so. Und das hat mich dann irgendwann wütend gemacht ähm. Und dann ja war ich so wütend dass ich dachte ich könnte ihn jetzt anbrüllen vor Wut. Und um das nicht zu tun habe ich gesagt Die Stunde ist beendet und habe halt gewartet bis er eingepackt hat und gegangen ist. Und dann bin ich halt wie gesagt eine halbe Stunde durch den Park spaziert. Habe dann der Mutter noch eine sachliche Email geschrieben dass eben folgende Bedingungen zu erfüllen sind für den Unterricht. Das habe ich dann gut in den Griff gekriegt aber ich. Also ja ich habe es relativ gut im Griff. Versuche es auch alles so zu vermeiden. So stark wütend zu werden. Aber früher hatte ich damit ein sehr starkes Problem. Also ich gehe zum Beispiel auch nicht auf Demos auch wenn mich das Thema irgendwie interessiert weil ich da so mitgerissen werde von der ganzen Stimmung und der Wut. Dass mich das dann auch so aggressiv macht dass ich da gar nicht mehr rauskomme emotional und äh. Meine Freunde wissen das auch. Dass die mich eigentlich nicht mehr fragen brauchen ob ich zu einer Demo mitkomme. Und ich bin auch oft früher mit der Polizei da in äh wie soll ich sagen in Konflikt gekommen ja. Und ja mittlerweile meide ich das eben.  Hm naja. Also ich habe mich eben persönlich äh angegriffen ist zu viel gesagt also ähm. Na ich wie soll ich denn das sagen? So ich konnte mit diesem ignoranten Verhalten nicht umgehen. Also dass ich ihm was beibringen möchte und meine Bedingungen sage und er nur mit den Schultern zuckt. Also äh ich habe ja viele Schüler und da kommt immer mal vor dass jemand was vergisst aber äh. Die anderen entschuldigen sich dafür oder bringen einem eben Respekt entgegen. Und in dem Fall war ich auch sauer dass also dass ich. Also ich ja irgendwie meine Wut und meinen Unmut schon gezeigt und dass ist halt überhaupt nicht angekommen also gar nicht. Und da werde ich dann halt noch wütender. Und ja aber wie gesagt ich bin dann gegangen weil es hätte kein gutes Ende genommen. Und so konnten wir am Ende später auch alles noch mal klären.  Ja Freude habe ich sehr viel. Also Gott sei Dank schon immer gehabt ähm. Leute sagen auch dass ich mich so über kleine Sachen so total freuen kann und dass die das auch gern hätten. Also es ist schon mehr glaube ich als bei anderen Leuten äh ja. Ist natürlich auch ein sehr starkes Gefühl und was eigentlich so mein eigentlich so mein dominierendes Gefühl ist.  So also ich freue mich eigentlich auf jeden Auftritt. Ich freue mich auch auf jeden Kaffee. Aso ich trinke halt sehr wenig Kaffee also was heißt wenig also einen am Nachmittag und auf den freue ich mich. Dann genieße ich den. Und wenn ich weiß äh der und der kommt mich besuchen wir spielen jetzt Mühle oder so dann freue ich mich eben auf diesen Abend und so. Und es dann aber auch so wenn man sich dann so freut und dann wird man enttäuscht ist es natürlich besonders schlimm wo man dann wieder bei der Verbindlichkeit sind mich dann auf Sachen einstellen die dann nach Möglichkeit auch stattfinden ähm ja. Ich freue mich sehr über ein tolles Konzert wenn ich auch mal selber äh im Publikum bin oder so und ja. Nach Sport empfinde ich natürlich eine große Freude oder bei Erfolg und ja. Das ist eigentlich Gott sei Dank mein dominierendes Gefühl.  Okay Freude Freude was habe ich denn jetzt äh genau. Ich treffe jemanden und der Kaffee. Sport. Viel ähm na gut bei Kaffee und Sport ist ja auch klar dass da sowieso was im Gehirn passiert. Also ist ja schon bisschen ähnlich wie bei einer Droge. Nicht ganz so ist mir schon klar. Ja ähm ansonsten wenn ich mich auf einen schönen Abend freue ja. Also ich bin halt sehr empfänglich für so Energien und Schwingungen und äh. Das kommt dann eben bei mir an wenn ja wenn man gut harmoniert oder so. Und wenn ich mich mit jemandem treffe dann geht das ja auch meistens so übe mehrere Stunden so dass man wirklich den ganzen Abend miteinander verbringt. Und ich freue mich dann die Person anzugucken und äh ja besonders in die Augen zu gucken und die guten Gespräche zu führen und einfach die Schwingungen wahrzunehmen. Und dann kann ich mich da wirklich auch noch Tage später drüber freuen weil es dann so nachwirkt. Also manchmal lache ich dann auch noch zwei Tage später über irgendeinen Witz weil es eben so ein schönes Treffen war und so ein schöner Gedankenaustausch.\n",
      "58_6M_manual_c  Traurigkeit. Ja. Ähm. Was bedeutet Traurigkeit? Naja wenn man enttäuscht ist oder mehr als enttäuscht ist. Dann kann man traurig sein oder über gewisse Gegebenheiten negative Gegebenheiten. Ja.  Ähm. Na wo ich erfahren habe dass es meiner Mutter gesundheitlich schlechter geht.  Na weil ich darüber nachgedacht habe ob sie vielleicht nicht mehr so lange lebt. Ja.  Ähm. Wut? Überreizung. Ja. Ja eigentlich Überreizung.  Weiß ich jetzt nicht. Kann ich mich jetzt nicht dran erinnern. So richtig wütend? Weiß ich nicht. Nein. Ist zu lange her. Ja ist ein paar Wochen her da bin ich mit dem Bus gefahren und ähm. Ja dem Busfahrer ist irgendwie ein bisschen hat immer ein bisschen abrupt gebremst. Und ähm es war sehr heiß im Bus. Und die Klimaanlage war nicht eingeschaltet. Da war ich schon ein bisschen gereizt. Jetzt nicht wütend aber gestresst und gereizt.  Naja weil es warm war. Es war im Bus wärmer als draußen und ähm. Ja war schon ein bisschen anstrengend.  Ähm Angst. Ähm Angst ist eigentlich noch nie so in meinem Leben wirklich. Ähm ähm muss kann ich nicht so viel mit verbinden mit Angst. Weiß ich nicht. Also Angst ähm ist so die Steigerung von Schrecken vielleicht.  Ähm Angst Angst. Die einzige Angst die ich habe ist eigentlich Angst vor Schlangen. Das ist die einzige Angst die ich habe.  Was mich da ängstigt? Gute Frage. Keine Ahnung. Ich habe irgendwie ähm. Ich finde das ist irgendwie so eine Tierart vor der man irgendwie die man nicht. Also ich kann die irgendwie nicht lieb gewinnen. Also ich habe. Ja.  Freude? Ähm ähm ähm. Ja Freude habe ich wenn ich schmerzfrei bin oder Erfolg habe oder irgendwas so ähm so ähm so klappt. Wenn ich das geplant habe und das dann auch erfolgreich ähm ja. Wenn ich das Geplante so erfolgreich ähm abläuft wie geplant. Dann kann es sein dass ich Freude empfinde. Aber naja durch die Depression ist es halt selten dass ich mich irgendwie über irgendwelche Dinge freuen kann. Ich freue mich halt wenn es mir einigermaßen gut geht.  Habe ich jetzt keine direkten Erinnerungen dran. Ja wo ich das erste Mal eine Schmerztablette genommen habe das war. Ja das war so ein bisschen. Da habe ich mich ähm. Ja da habe ich mich so ein bisschen drauf gefreut dass ich mich so ein bisschen entspannen konnte.  Ja weil ich so eine Entspannung hatte und halt ähm diese Schmerzen nicht mehr. Da habe ich mich halt gefreut. Mich ein bisschen wohlgefühlt so ein bisschen.\n",
      "65_6M_manual_c  Sehr wichtige Emotion für mich. Ähm ich verbinde es auch mit Schönheit Und hab es auch oft im Anschauen von Naturschönheit empfunden. Ganz bestimmte Wetterstimmungen vielleicht: oftmals eher etwas naja nicht unbedingt aber schon meistens etwas regnerisch zugezogene Stimmung. Aber es ja kann auch anders sein.  Es ist eine sehr philosophische Frage eigentlich. Schwer zu sagen. Kann ich gerade nicht genau beantworten. Aber ich werde mir Gedanken darüber machen.  Naja ist eine sehr heftige also geballte Emotion irgendwie. Die oftmals halt auch etwas nach außen bringt. Also wie zum Beispiel dass man irgendwas durch die Gegend wirft und diese Wut eine Art Ventil oder Kompensation wird. Das ist Wut.  Ja wenn ich ungerecht behandelt werde so meistens reagiere ich mit Wut. Naja das ähm ich bin ja. Ich hab das auch. Ich achte ja auch nicht auf alles. Das geht ja nicht. Manchmal halt eine gewisse Unsensibilität von Menschen die dann halt gar nicht drauf achten was sie eigentlich ablassen oder so. Das macht mich traurig und wütend zugleich. Also ich versuche besser jetzt damit umzugehen. Aber es kann schon so sein dass ich da mal irgendwie einen kurzen Schrei irgendwie von mir lasse oder so wenn ich so etwas erlebe. Ich hab sowas schon oft erlebt ja.  Naja vielleicht eine gewisse Hilflosigkeit. Warum mir das gerade passiert manchmal so. So ein ausgesetzt sein ein bisschen.  Unbewusstheit bedeutet das glaube ich inzwischen für mich. Weil ich glaube wenn man sich versucht klarzumachen warum man vor einer Sache Angst hat dann durchbricht man das schon ein Stück weit.  Naja ich habe alle möglichen Ängste in meiner Psychose halt erlebt. Also die Einsamkeit die Angst als einziger Mensch auf Erden zu leben zum Beispiel.  Naja ich glaube es hat auch oft irgendetwas mit Erlösung zu tun.  Freude? Ja wenn etwas gelungen wirkt oder Oder auch wenn einem einfach etwas Schönes begegnet. Das kann Freude hervorrufen.  Ja zum Beispiel da lag ein toter schöner Vogel bei uns im Hof und ähm. Der hatte indigoblaue Federn. Und das hat mich. Ich habe ein Foto davon gemacht. Also ich. Erstens wie er dahin gekommen ist. Aber das war schon so eine Art Freude auch wenn der Vogel tot war. Es war Freude. Schwierig zu sagen. Dass ich ihm begegnen durfte sag ich mal so.  Naja halt das hängt mit der Aussage vorher zusammen. Schönheit empfinden zu dürfen so. Die Situation.\n",
      "22_6M_manual_c  Ein Gefühl das ist sehr viel unterschätzt. Traurigkeit kann viele Leute auch einigeln.  Ähm. Es wurde sehr viel zu arg simpli- exemplifizieren. Na ne einfach. Na gut ein einfaches Beispiel ist ein Film der etwas passiert das rührt mich so viel. Das war ein Film von. Von diesem Hund. Ein Jäger hat ihn getötet. Ja.  Weil es fühlte sich als wenn das Leben von dem Hund dein eigenes Leben war. Und dann puff . Und dann das Gefühl war sehr hart.  Es kann helfen wenn ein Problem kommen wird. Aber wenn du den ganzen Zeit es hast es lasst dich nicht denken.  Ja eine war die war sehr nah von meine Wohnung und Büro. Wenn ein Verrückter. Er saß hier und er sagte dass ich gebe ihm mein Geld. Und dann kam jemand laufen bei mir. Und ich sagte: Hilf mir. Er hat eine Pistole . Ne er hat nur eine Flasche . Warum? Warum?  Warum? Weil du fürchtest der hat einen Revolver.  Für mich nicht so hilfreich. Es lässt mich nicht klar denken und normal entscheiden.  Ähm. Ich mache nicht so oft wütend. Ich glaube einfache war. Wenn ich habe mit meine Mutter geredet. Und wenn sie normalerweise normal mit mir redet sie hat so Verhalten wie die Leute da. Und über mich geredet hat zu anderes. Und ich fühlte mich: Wow warum?  Weil diese Art von Verhalten von meine Mutter war so anders als normal. Und ähm es war wie bei mir weil so. Und mit das Depressionen sie war andere Person. Und hat nichts Gutes über mich gesagt.  Ich freue mich an den guten Freu. Na gut gute Gefühle wenn etwas Gutes passiert. Und auch eine Grund. Ein wärmendes Gefühl für mein Herz.  Ja die letzte Mal war eine. Ich war beim X Gruppe. Und da plötzlich kam einer von meine Kumpels. Der Dritte der auch die Stimmen hört ohne Probleme. Da hab ich mich so gefühlt weil ich wusste nicht dass ich würde ihn wiedersehen. Weil er ist sehr schwer zu finden.  Jemanden zu sehen den du normalerweise nicht so oft siehst. Und guter Bekannter oder Freundin von dir ist. Ist eine gute Freudauslöser.\n",
      "25_6M_manual_c  Ich bin immer ein Mensch der viel traurig war. Und dann auch wieder nicht. Sicher bin ich eine Art Melancholiker. Mhm. Da das meine Konstitution ist stört sie mich nicht.  Ja. 9 11. Da habe ich geheult ich saß im Zug nach Stadt X. Leute kamen rein um das mitzuteilen. Und ich saß so im ja Apartment mit Amerikanern die zum Max-Planck-Institut wollten. Da haben wir alle geheult.  Ja hm dass sowas überhaupt geschehen kann.  Ich habe ganz viel Angst ja. Vor der Operation hatte ich ähm auch Todesangst ja. Zweimal ganz extrem.  Ja mir blieb einfach das Leben weg. Ich war trocken am Vertrocknen. Ja.  Ähm wütend bin ich zu wenig. Und wenn dann weiß ich nicht wie sie angemessen sich äußern darf. Und da bin ich schlecht beraten also immer zu ähm. ja. Wütend war ich über die Abschaffung der D-Mark ja?  Die Mark war gut. Da habe ich nichts mehr verstanden Da kann ich schon einen Wutanfall kriegen. Oder ich habe einen Wutanfall gekriegt wie ich. hm. Harz-IVer dürften sich nicht bewegen 40 Kilometer im Durchmesser ne? Und ich wollte zu einer Ausstellungseröffnung fahren wo einer redete wo ich wusste dass der aufhört. Das hatte ich intern mitbekommen. Und dass man ihn nie wieder so hören würde also auch vom Alter her. Und das lag so 45 Kilometer weg. Und dann habe ich einen Wutanfall gekriegt in dem Augenblick wo ich beschlossen hatte nicht zu fahren weil ich ja nicht darf. Und dann bin ich ins Badezimmer gegangen und hatte hier eine Beule hängen. Eine Schokoladenzyste ein Riesending. Ganz schnell in Sekunden. Und da war ich so verzweifelt. Da habe ich geheult. Tag und Nacht und dann musste ich mich behandeln. Von da habe ich das mit der Schilddrüse und allem immer weiter bekommen.  Mich hatte wütend gemacht dass ich mich daran halte. Dass ich die Kilometer berechne. Dass ich nicht gefahren bin. Weil es nie wiederkommt. Ja. Hm.  Ja wenn es ist dann ist es großartig.  Ja als ich das erste Mal das erste Kind der ältesten meiner Schwestern gesehen habe. Es ist wie so Vorenkelkind.  Alles das Wesen dass so ein bisschen was ähnlich ist. Ihre Mutter hatte ich schon so gerne als Baby und kleines Kind. Und ähm die Andersartigkeit. Und dann die wächst zweisprachig auf wie sie dann hm. Ja schon dieses Mautzen wie mit vor-französisch und vor-deutsch und dass sie irgendwie wusste wie sie den französischen Elternteil anspricht so klein und den Deutschen. Das fand ich so unglaublich großartig. Was immer noch mehr geworden ist ne? Die quatscht in beiden Sprachen wie Wasser. Ich sehe sie nicht und die vermisse ich. Aber ich stelle sie mir vor und das macht mir Freude. So die liebe ich einfach.\n",
      "8_6M_manual_c  Vielleicht Ode an die Freude fällt mir dazu ein. Aber ist das ja das ist. Das Leben wird lebendig wenn man Gelegenheit hat sich zu freuen. Und hm ein freudloses Leben bedeutet Alltagstrott und vielleicht auch missgestimmt sein.  Als Doktor S mir geschrieben hatte dass er noch einen Therapieplatz frei hat habe ich mich gefreut.  Weil er mir von drei Seiten empfohlen worden ist. Und ich davon ausgegangen bin dass es endlich ein Arzt ist der die richtigen Fragen stellt und der hinter die Kulissen schaut.  Da fällt mir ein der Buchtitel von Alexander Mitscherlich Die Unfähigkeit zu trauern . Das Buch habe ich leider nicht gelesen. Aber ich kann mir denken worum es in dem Buch geht. Und ich glaube wer Trauer nicht aushalten kann der ist schlecht beraten. Es gibt genug Anlass traurig zu sein. Und wenn man akzeptiert dass Traurigkeit zum Leben dazugehört dann beschäftigt man sich auch leichter und besser mit Themen wie Konzentrationslager oder Unrecht was im Dritten Reich geschehen ist.  Person A von der hatte ich Ihnen erzählt ist spurlos verschwunden. Und ihr Freund Person K mit schwedischem Vater hat vergebens versucht im Weglaufhaus anzurufen und zu erfahren wo sie ist. Sie hatten keine Auskunft gegeben. Das hat mich traurig werden lassen.  Na es war ja nicht sicher ob sie noch am Leben ist. T: Hat sich das im Nachhinein gelöst? P: Ja sicher. Sie ist mir begegnet und dann wusste ich sie ist am Leben.  Schwer darauf zu antworten. Also ich bin ein Mensch der öfter ängstlich ist als es eigentlich guttut. Und ich kann sehr selbstsicher sein und hm so sprechen dass anders wer Folgen daran hat. Aber es gibt Zeiten wo ich Angst habe zu versagen und Angst habe vor Situationen vor denen ich keine Angst haben möchte.  Da blocke ich im Moment ab. Geht nicht. Ehrlich nicht.  Also Ärger lasse ich zu Wut eigentlich nein. Wobei es eine Situation gibt die eigentlich Schuldgefühle provozieren soll. Es ist aber nicht der Fall. Ich hatte in Stadt X liebe türkische Nachbarn. Und der Vater intelligent die Mutter hochintelligent und drei Kinder in der Familie. Und die beiden Ältesten der eine vielleicht vierzehn Jahre der andere dreizehn Jahre alt hatten eingeladen einen deutschen Jungen der um einiges älter war. Und der hat im Treppenhaus einen Böller gezündet und in die Richtung auf den türkischen Jungen geworfen so dass sein Trommelfell entzweigegangen ist. Und ich hatte ich weiß nicht weshalb geahnt dass so etwas bevorsteht. Hatte dem türkischen Jungen Ohropax angeboten. Der hat gesagt der braucht das nicht. Ich habe mir selbst Ohropax in die Ohren getan und dann ist das passiert. Also so etwas hatte ich gefürchtet. Weshalb ich auf den Gedanken kam weiß ich nicht. Und dann kam dann der junge Mann stellte sich mir gegenüber. Und ich habe dann vielleicht aus Furcht dass er noch einmal so etwas tut vielleicht nur aus Wut heraus habe ich mich fallen lassen. Es war im dritten Stock. Habe ihn übers Geländer geschubst und habe dann Glück gehabt dass der türkische Junge mich festgehalten hat. Sonst wäre ich selbst hinuntergestürzt. Also Wut lasse ich eigentlich nicht zu. Aber es kommt vor dass ich auch wütend bin. Die Kriminalpolizei war dann bei mir. Und ich habe gesagt ich verweigere die Aussage. Es war wohl auch das Klügste.  Na also mir kam in den Sinn der tut noch einmal so etwas. Und verhindert womöglich dass der Rettungsdienst den türkischen Jungen richtig behandelt. So wurde dann der Rettungsdienst zu Zweien gerufen. Aber ja wie soll ich das überhaupt zur Sprache bringen. Also ich hatte wirklich gefürchtet dass dann nochmals etwas passiert und dann Hopfen und Malz verloren ist. Und ja ich weiß nicht. Es war Selbstjustiz und das ist verboten in Deutschland. Sowas macht man nicht. Also es war ein Fehler wütend zu sein. Ich hätte mir das sparen können. In der Regel lasse ich das auch nicht zu.\n",
      "46_6M_manual_c  Traurigkeit ähm ja ähm ist verbunden mit. Wenn man irgendetwas Negatives erlebt und äh ähm etwas vielleicht verliert. Äh mit dem zum Beispiel eine Person äh die man äh an der man sehr äh sehr gebunden ist.  Äh nein ich war gerade bei dem Geburtstag letztens äh. Dass Sie mir keine Geschenke gebracht hat.  Weil ich das von immer kenne dass man zum Geburtstag irgendwas also dass man bekommt und äh. Jetzt war das nicht so.  Äh Angst äh ach ich habe immer Angst in meinem ganzen Leben. Und ich bin sehr ängstliche Person und äh. Meistens vor äh neuen Sachen die ich gar nicht kenne.  Ach zum Beispiel vor Prüfungen sehr große Angst. Ja.  Ja weil ich nicht weiß was ich da erwarten kann und ähm. Dass sie abfragen könnten was ich nicht weiß.  Ja wütend ist man wenn man noch mehr als sauer ist äh. Aber eigentlich das ist mir fremdes Wort weil ich nicht so ein Mensch. Aber ist noch mehr als sauer sein.  Das passiert sehr selten. Weil es ist schwer mich aus der Fassung zu bringen äh. Das passiert fast nie äh. Ich bin oft sauer aber ich bin nicht wütend. Ja bei dem Streit mit meiner Schwester vielleicht letztens zu Weihnachten.  Weil Sie zum Beispiel Sachen erzählt hat was zum Teil nicht stimmen oder ähm was ich an ihrer Stelle gar nicht sagen würde.  Freude ist ein sehr schönes Gefühl das man nicht so oft erlebt aber äh.  Das war bestimmt der Moment als ich meine Weiterbildung bekommen habe. Ja weil das kur also nur 2 Monate dauert und dann ging es mir. Weil meine Betreuerin hat mir gesagt der Chef letztens im April war dagegen. Aber jetzt hat sie mit einer anderen Chefin gesprochen und die andere hat zugesagt. Und ja.  Weil das mir so wichtig war. So am Herzen gelegen hat.\n",
      "74_6M_manual_c  Also Angst bedeutet für mich der Weg zu meiner eigenen Verletzlichkeit. Das ist sozusagen das Gefühl was mir so das vermittelt dass ich verletzlich bin. Und ja die Wege die verschiedenen Ängste zeigen mir verschiedene Wege zu meiner eigenen Verletzlichkeit dann.  Ähm das war die Situation die schon beschrieben habe. Dass das Medikament einflutet. Da habe ich das am meisten. Aber das passiert auch dass ich irgendwie ein Schreck kriege wenn zum Beispiel irgendwo ein Unfall passiert. Das passiert ja dass auf der Straße mal Autos zusammenkrachen. Und da kriege ich auch schon ein Schreck und Angst zum Beispiel.  Ähm also bei der Situation mit den Medikamenten würde ich sagen dass ähm ähm der Grund dafür ist dass ich ganz klar ich rauche zu viel zum Beispiel. Und das kann ja auch ist ja auch eine gesundheitliche Gefahr. Und vor dieser Gefahr habe ich Angst. Und die Ursache dafür ist dass ich zu viel rauche. Wenn ich das nicht machen würde hätte ich diese Angst nicht. Die anderen so Situationen teilweise sind auch irrational. Also übersteigert dass ich irgendwie diese Angst vor einer faschistischen Revolution habe oder so. Ah und die also die wo ich mir nicht vorstellen kann dass die wirklich passiert also. Und ähm ja.  Na Wut ist erstmal eine Energie. Und ich glaube dass das meine Aufgabe ist wenn ich jetzt wütend die Energie in solche Bahnen zu lenken dass es für mich und die Anderen produktiv ist. Und deswegen glaube ich an Wut also an sich ist ein nützliches Gefühl. Genauso wie alle anderen Gefühle eigentlich auch finde ich. Und ähm ja Wut ist dann erst ein Problem wenn sie unkontrolliert wenn man um sich schlägt wie wild oder so. Dann wird Wut zum Problem. Aber wenn man diese Energie nutzt und die einen antreibt dann glaube ich dass sowas auch nützlich sein kann.  Also Wut ja. Als ich dann die Lohneinstufung bekommen habe. Ähm und wusste dass ich irgendwie für fünfzig Cent die Stunde oder achtzig Cent die Stunde arbeite. Da habe ich schon echt da war ich schon wütend. Und ähm aber ich konnte ja nicht so diese. Also ich konnte keinem die Schuld für meine Wut in meiner Umgebung. Da hätte ich schon irgendwelche Politiker verantwortlich machen müssen. Und die habe ich nicht erreicht. Deswegen konnte ich also nur ins Kissen hauen sozusagen. Oder irgendwie ich habe das dann gemacht. Dass ich irgendwann zu Weihnachten einfach an den See W gefahren bin und dort geschrien habe. Sowas konnte ich dann machen. Aber ich konnte ja habe gar nicht so mein Ziel gehabt irgendwie an der ich meine Wut ausüben konnte. Ich konnte mich über keinen weil keiner irgendwie so richtig verantwortlich dafür war für meine Situation.  Ähm das ist so dieses Gefühl von ungerecht behandelt zu werden. Und dieses Gefühl von mangelnder Anerkennung. Das hat mich irgendwie am wütendsten gemacht.  Ja manchmal finde ich Traurigkeit so ein wenn es so ein gewisses Maß hat dann finde ich das eigentlich ganz ja so. Wenn zum Beispiel die Regentropfen fallen und es gerade so ein Herbst ist wo man so gefühlt als gemütlich irgendwie so eine traurige Situation zu erleben oder so. Aber ähm so Traurigkeit bedeutet für mich auch irgendwie so die Anerkennung von Verlust. So traurig bin ich wenn ich zum Beispiel wenn ich an meine verstorbene Mutter denke. Oder verlorene Freunde. Oder so. Also so dieses Leben was ich hatte in der Psychiatrie wo ich sage ich habe was verpasst und manchmal so traurig werde. Und ähm das ist halt eine Methode meine Methode damit umzugehen würde ich sagen.  Na erstmal ist das ein grausames Sterben gewesen. Sie ist ja an Krebs gestorben. Und das war grausam. Und ähm ähm das war für mich auch ein Verlust an Heimat zum Beispiel. Oder auch ein Verlust an Wurzeln die ich da verloren habe. Und auch ein Verlust an Zugang zu meiner Vergangenheit. Und der hat mich halt traurig gemacht halt.  Mh ja Freude also dieses Glücklichsein. Manchmal ähm ähm ist für mich zum Beispiel in so einem Gespräch wo man gemütlich bei Kerzenschein Schach spielt und einen Kaffee trinkt und sich nett unterhält. Und freundlich zueinander ist. Das löst bei mir Freude aus. Und das ist sozusagen wie so eine Insel von auf der man na so ab und zu mal landet. Weil man irgendwie lange geschwommen ist und vielleicht auch dem Tod entronnen ist sozusagen. Und ähm dann landet man auf so einer Insel und hat ein schönes Erlebnis und das bereitet mir dann Freunde Freude. Und ähm ja. Und das ist eigentlich ein sehr wichtiges Gefühl.  Ähm weil vielleicht ist es so ein bisschen die persönliche Nähe. Also dass man sich so austauscht. Dass man jemanden anderes kennenlernt. Dass man sich mag. Das ist auch wichtig. So die Ursache warum ich Freude habe und auch so die Harmonie die da so herrscht. Die erzeugt oft bei mir Freude.\n",
      "33_6M_manual_c  Das ist das was ich momentan empfinde. So im Leben gegenüber dem Leben und gegenüber allem. Also ich fühle mich momentan sehr traurig.  Naja der Gedanke dass nächste Woche meine Kinder kommen der macht mich nicht froh der macht mich eher traurig. Weil ich mich gar nicht so richtig darauf. Naja ich kann mich nicht darauf freuen. Und das macht mich traurig weil die denken die tun mir was Gutes.  Na Angst das ist so was äh was ich vorhin schon beschrieben habe mit diesem dass ich Angst habe mein Portemonnaie zu verlieren oder dass mir das gestohlen wird und dass ich den Schlüssel verliere. Obwohl ich da ich habe noch einen zu liegen. Das wäre alles gar nicht. Aber ist halt trotzdem die Angst.  Ja ja. So eine spezifische Situation ja.  Naja weil ich so vergesslich geworden bin. Ich kann mir äh. Also mein Kurzzeitgedächtnis das ist ganz schlecht. Ich kann mir auf jetzt auf gleich nichts oder fast nichts mehr merken.  Oh Wut kann ich momentan gar nicht so richtig beschreiben. Wut habe ich im Moment nicht. Nein habe ich nicht.  Ja da fällt mir ein als ich mit den Schülern noch gearbeitet habe und äh ich habe. Also die sollten Sterne falten. Und Falten ist bei Erzieherin ich bilde Erzieher aus ist Falten ist Papierfalten eine ganz wichtige Sache im Kindergarten. Und äh mehrere haben spontan gesagt: Also das ist nicht mein Ding. und Das kann ich nicht. und Das mache ich nicht. und Das will ich nicht . Und da war ich wütend.  Na weil das so eine wichtige Sache ist. Also die machen diese Ausbildung. Und stellen sich hin und sagen Das ist nicht mein Ding. und Das will ich nicht. und das geht nicht. Ich erwarte einfach dass wenn jemand die Ausbildung macht dass er dann damit einverstanden ist das zu lernen was er angeboten bekommt. Weil das ja einen tiefen Sinn hat.  Freude wäre wenn ich lesen würde: Die und die Ausstellung ist meist schon ja in der Sammlung B ist eine Ausstellung. Habe ich mich eigentlich gefreut als ich das gelesen habe. Ach da geh ich ihn. Ja ich geh aber trotzdem nicht hin weil ich es momentan nicht schaffe.  Als ich das gelesen habe habe ich mich gefreut. Da habe ich gesagt: Das ist bestimmt eine schöne Ausstellung. Und da gehe ich hin. Mhm.  Weil ich erstmal gern in das Gebäude gehe. Und äh weil das äh Bilder der Moderne sind die da ausgestellt werden. Und ich liebe die Moderne sehr. Mhm.\n",
      "17_6M_manual_c  Das ist. Angst ist ein sehr unangenehmes Gefühl. Eines der unangenehmsten überhaupt wahrscheinlich. Ähm was man schnell wieder loswerden möchte.  Naja ich habe ja im Rahmen meiner Erkrankung Angst. Aber ähm es ist mein Gedächtnis übrigens auch schlechter geworden viel schlechter geworden. Im Rahmen meiner Erkrankung. Ähm ja ich hatte auch. Also ich glaube ich hatte das letzte Mal. Einer der letzten Malen wo ich Angst hatte so beim Duschen. Da hatte ich dann nach meiner Betreuerin gerufen. Und ich hatte aber auch gerade mal Angst im Straßenverkehr gehabt oder so. Ich weiß nicht mehr genau. Kann sein. Keine Ahnung.  Tja beim Duschen das weiß ich selber nicht so genau. Es kommt irgendwie aus der Tiefe aus dem Unbewussten. Und im Straßenverkehr ich kann mich nicht mehr genau erinnern an die Situation. Aber ich weiß nicht mehr genau. Keine Ahnung.  Wut. Naja ähm mit Wut. Also ähm Wut ist ein Gefühl wovor ich eigentlich selber Angst habe bei mir. Ähm ich habe da immer Angst gehabt damit zu viel die nicht rauszulassen. Weil ich dachte ich schlage da zerschlage da viel Porzellan oder so ja. Wenn ich da rauslasse und vergraule damit meine Mitmenschen und so. Habe aber auch gelernt dass die ganz wichtig ist um ähm für die eigene Seele so. Für die eigene Seelenhygiene und ähm. Um überhaupt sich im Leben zurecht zu finden auch und. Da muss ich also noch ein bisschen irgendwie an mir arbeiten. Und ja. Habe gemerkt dass es ganz angenehm sein kann wenn man die rauslässt.  Ja also ich hatte gerade davon berichtet dass ich eine dass mich eine Mitbewohnerin wütend gemacht hat. Ähm sie hat auf eine berechtigte Bitte hin gesagt es sei ihr egal und sie macht sie entspricht dieser Bitte nicht und da bin ich halt wütend geworden.  Naja weil sie so stur war. Und weil sie. Ich meine sie hat es im Rahmen ihrer Demenz gemacht. Eigentlich hätte ich mir sagen können ähm sie ist nicht richtig im Kopf. Sie kann nicht richtig denken. Und sie hat halt eine Störung oder aber es ist halt auch ihr Charakter. Und ich habe mich halt hinreißen lassen da dann wütend zu werden ja. Naja.  Also Traurigkeit ist auch eigentlich für mich nicht so schönes Gefühl. Weil es sich eigentlich bei mir meistens mit Perspektivlosigkeit auch verbindet. Ähm also. Also ich war jetzt letztens richtig traurig weil eine Bekannte von mir gestorben ist. Aus dem Chor. Sie war sehr lieb. Und ähm naja da wusste ich da weiß man eigentlich dass da so eine Trauer auch wieder vergeht also. Aber trotzdem ist es nicht so schön.  Mhm. Ja eigentlich wenn es mir schlecht geht. Da bin ich eigentlich auch immer ein bisschen traurig ja. Weil dass es mir schlecht geht und ähm. Ja. Wenn ich traurig bin trauer ich auch über meine Lebenssituation. Dass ich halt wenig Kontakte habe oder dass ich keine Freundin habe. Oder dass ich kein erfülltes Leben habe so richtig. Ja. Ja sowas zum Beispiel.  Warum? Habe ich ja eigentlich gerade gesagt oder?  Freude? Naja Freude ist eigentlich ein Gefühl was ich was ich oft vermisse eigentlich in meinem Leben. Wo ich schon eigentlich neidisch war wenn ich bei anderen bemerkt habe dass sie sich gefreut haben ja? Weil es bei mir eben so also eigentlich nicht vorkam. Musste dann auch erstmal mich zurücknehmen dieses Neid diese Neid zu erfahren sondern mich vielleicht mitzufreuen. Oder es erstmal tolerant zu bleiben zumindest. Also Freude ist eigentlich ein wunderschönes Gefühl und ich habe es manchmal doch ein paar Lichtblicke schon gehabt jetzt in den letzten Monaten oder so. Aber ganz selten nur eigentlich. Ja ein schönes Gefühl halt einfach ja.  Nee das habe ich schon das kann ich mich nicht erinnern nee. Also eigentlich ne ich hatte doch kleine Freuden ganz kleine Freuden die habe ich doch öfter manchmal. Also ich habe einen Balkon mit Blumen. Und da blühen grade die Malven sehr schön. Und wenn ich da diese rosa Blüten sehe dann freut es mich eigentlich doch ein bisschen. Auch wenn es zwar nicht viel aber ein bisschen wenigstens ja. Ja. Aber so ganz dass die ganze Seele von Freude durchströmt ist oder so das kenne ich eigentlich gar nicht ja. Also oder dass man dass ich aus tiefem Herzen mal lache oder so. Das kenne ich eigentlich auch nicht ja. Wie ich das bei anderen beim erlebe oder so. Vielleicht ich weiß nicht ob es an den Medikamenten liegt oder an der Krankheit. Keine Ahnung. Wahrscheinlich beides.  Warum? Na weil die Farbe sehr schön ist. Weil die Form der Blüte sehr schön ist. Und weil ich weiß dass es vergänglich ist. Und ähm ja. Weil die Pflanze mir geschenkt wurde von meiner Betreuerin. Die hat die eingepflanzt und so. Und weil das da bin ich auch dankbar dem Schöpfer dem Gott der die Pflanze halt geschaffen hat oder den guten Geistern und so. Ja deshalb.\n",
      "7_6M_manual_c  Traurigkeit. Ein erdrückendes Gefühl. Traurigkeit ist schwer zu ertragen und ähm zieht das Wohlbefinden runter. Es ist ähm. Traurigkeit ist für mich unter der Nulllinie.  Als meine Exfrau die Diagnose bekam Krebs zu haben. Da war ich traurig weil ich nach Gründen gesucht habe weil vieles bei mir eigentlich immer rationell erklärbar ist und dafür dass sie dann halt an Krebs erkrankt ist hatte ich keine Antwort. Und das hat mich tief betroffen und traurig gemacht. Damals als meine Frau als meine jetzige Frau mir erzählte dass ähm unser Sohn an der Haustür sich die Hand eingeklemmt hat da war ich auch traurig. Ich war nicht da. Ich habe es nicht gesehen. Aber ich habe bei der Übertragung des Geschehens ähm habe ich Trauer empfunden. T: Warum haben Sie in dieser Situation Trauer empfunden? P: Vielleicht hätte man es verhindern können?  Das ist schwierig. Angst ist ähm Angst. Das Wort selber hat keine so große Bedeutung für mich weil ich ähm der kontrollierte bin aus der Warte äh wo Angst kein Normalzustand also im normalen Zustand für mich nicht fühlbar sein sollte. Also so denke ich das zumindest. Ich habe aber Verlustängste wenn irgendwann sich meine jetzige Frau entscheiden sollte nicht mehr an meiner Seite zu sein warum auch immer. Verlustängste habe ich äh. Verlustängste auch dass meine Eltern irgendwann ableben werden. Verlustängste ähm vor meiner Arbeit weil ich sie verlieren könnte. Aber das Wort Angst selber habe ich intensiv nur in meinen psychotischen Phasen erlebt und äh da hat es mich dann. Da hat die Angst mich kontrolliert nicht umgekehrt. Und das war nicht schön.  Ähm bei meinem Telefon gibt es eine Funktion langsames Sprechen . Und ich wusste nicht dass es die Funktion gibt. Und die hat entweder mein Sohn beim Spielen von dem Gerät eingerichtet oder ich bin fälschlicherweise drangekommen. Und da war der Gesprächspartner auf der anderen Leitung immer langsam. Und ich kam mir verarscht vor aber ich kam mir nicht verarscht im Sinne von dass die Leute mit mir was machen sondern ich hatte Angst dass mit mir was ist. Dass ich die Leute nicht mehr verstehe dass ich sie nicht mehr dass ich sie nicht mehr so wahrnehme wie sie normalerweise mit mir kommunizieren. Und da hatte ich Angst zu Beispiel so ein Brennen in der Brustgegend wo ich dachte Okay mein Lebensfilm wird jetzt wieder reißen. Da habe ich Angst erlebt ja.  Wut ist ähm laute Stimme äh roter Kopf. Es gibt berechtigt wütig äh wütend sein. Aber an für sich ist das ein Zustand der meist der kontrolliert werden muss ähm weil die Situation in der man dann wütend ist die hat ja die wird ja von anderen Augen wieder anders wahrgenommen. Und ähm Wut nicht ausleben lassen.  Meistens träume ich wütend. Im realen Leben ist es selten dass ich wütend werde aber ähm ich kenne das Gefühl wütend zu sein von Träumen. Ähm dass wenn sich ein fremder Mann meiner Frau sich nähert. Und wenn ich dann träume dann habe ich ja meistens nicht den Einfluss auf das was ich träume. Und ähm da werde ich wütend. Da werde ich sehr wütend.  Eifersüchtig?  Na die schöne harmonische die erreicht werden müsste um Glück im Leben zu haben. Oder Freude ist der Ursprung äh für ein glückliches Leben ja.  Mit Sicherheit. Gestern Abend an der Seite meines Sohnes einzuschlafen. Mein Vater hat gesagt irgendwann: Eigentlich guckst du ihnen nur zu dass sie wachsen dass sie gedeihen dass sie im Leben stehen. Und sie erwarten dass du irgendwann stirbst. Und diese Aussage von ihm die war so harsch äh hart genannt wo ich gesagt habe so: Was willst du mir denn vorwerfen? . Aber wenn ich dann die verärgerten Situationen von meinem Sohn nehme wo er mich dann wegschickt und er sagt: Geh Papa geh. Und so und ich teilweise auch selber Gedanken hatte. In den psychotischen Phasen war es sogar sehr schlimm ähm dass ich den Tod von meinem Vater gewünscht habe oder dass ich jetzt endlich ein eigenes Leben führen wollte und so weiter. Und er hatte Recht damit und wenn ich genau weiß dass ich ähm das irgendwann auch meinem Sohn dann sagen werde. Da er wird die Freude die man hat erst verstehen können wenn er selbst Vater geworden ist. Vorher wird er die Freude nicht begreifen können.  Das waren zwei gesunde Menschen Vater Sohn liegen nebeneinander und äh lesen sich Gute-Nacht-Geschichten. Das war schön ja.\n",
      "50_6M_manual_c  Tränen. Blau. Dunkelblau. Ähm eigentlich bedeutet Traurigkeit. Ist positiv für mich. Weil ich es immer wieder verbinde mit einer Befreiung. Ja.  Ja ich glaube ich glaube als ich noch in Person X verliebt war. In das letzte Mädchen in das ich verliebt war. Und zu Hause allein war. Und irgendwie ich gemerkt habe dass sie wieder einen Freund hatte. Ich glaube da war ich traurig. Obwohl ich das gar nicht so unter unbedigt dazu ordnen würde. Das ist eher so eine Erschütterung. Ja. Lange her glaube ich dass ich mal traurig war. Obwohl ich habe es einmal ähm irgendwie erzeugen können über ein Youtube Video. Aber das ist eher so eine fröhliche Traurigkeit. Da wurde jemand gerettet von einem Gleis. Ja. Ist glaube ich lange her dass ich wirklich traurig war. Wüsste ich. Ich wüsste keine wirkliche Situation gerade.  Doch in meiner Kindheit noch. Da stimmt das auch nicht so ganz dass Trauer eine Befreiung ist. Ich hatte mit 11 schon sehr starke Depressionen. Und da war das dann über ein halbes Jahr hinweg dass ich eigentlich alle 2 3 Tage geweint habe. Und das war wirklich eine erschütternde tiefe Trauer und ja. Das weiß ich noch.  Es war halt das Problem dass es keinen Grund dafür gab. Und das ich eigentlich auch mit meinem damaligen Therapeuten und mit meinen Eltern nie herausfinden konnte was die Ursache eigentlich war. Und das war immer so ein schwebendes Gefühl dass plötzlich von Außen kam. In mich. Oder auch aus mir heraus in mich. So. Und da habe ich nicht wirklich eine Antwort drauf gefunden warum dieses Gefühl jetzt kam.  Ähm. Angst ist immer ein eine Aufgabe die zu akzeptieren und zu überwinden und. Ja Angst. Angst ist eine Warnung. Und ist eigentlich ähm ein Gefühl dass einen Prozess provoziert in dem ich eine Überwindung leisten muss. Ja.  Ähm. Ne fällt mir nicht ein. Ist auch so im Alltag nicht so häufig der Fall. Obwohl ich glaube ich bin ständig irgendwie konfrontiert mit Ängsten aber nicht nie so ganz konkret. Ich überlege gerade ob bei Person X irgendwie. Ja doch. Da habe ich mich einmal mit ihr ausgesprochen. Und hab ihr so versucht so ein bisschen meine Gefühle zu ähm zu veranschaulichen. Da hab ich glaube ich Angst mal versucht zu überwinden. Ja.  Ja Gefühl zu zeigen. Gefühle zu offenbaren. Und wahrscheinlich dann verletzt zu werden. Doch genau kann ich es gar nicht sagen. Es ist eher auch dieses Gefühl der Offenbarung der Offenlegung. Was auch so eben so eine Nacktheit mit sich bringt. Und dieses Gefühl ist halt auch relativ unangenehm. Sich halt so zu öffnen. Ja. Und vielleicht auch dass so ein bisschen so tiefer liegende stärkere Ängste dadurch hochkommen. Dieses Gefühl der Unsicherheit das mich auch oft begleitet. Dass das halt irgendwie so hochkommt und ich dann wieder nicht richtig damit umgehe. Das könnte glaube ich gut ein Grund sein. Ja.  Wut ist eine Kraft. Eine spezifische. Und auch eine Kraft Menschen zu schützen und sie gleichzeitig zu besiegen. Da sind glaube ich zwei Facetten der Wut. Ich habe halt wie gesagt immer wieder so Kämpferphantasien die ich aber tatsächlich nicht auslebe. Und ich glaube dass die Wut sehr zentral für mich ist. Dass ich sehr viel Wut aufgestaut habe. Und dass sie auch für meine Zukunft so eine Art Taktgeber sein wird. Dass ich darüber eben eine Kraft aufbaue und die Wut halt auch rauslasse.  Ne ähm es ist immer. Diese Phantasien die sind auch relativ unabhängig oft von dem was meine Umfeld gerade so gibt. Na gut doch. Meine Mutter da bin ich öfters sehr wütend. Da aber fällt es mir sehr schwer die Wut rauszulassen. Weil ich halt auch über meine Mutter da so geprägt bin. Die hatte selber immer so Ausraster. Und dass ich da so mich in mein Schneckenhaus zurückziehe. Und das ist eben auch so eine Sache der Wut. Dass ich die eben nutze um aus dieser Einschüchterung herauszukommen. Weil ich eigentlich glaube ich kein Mensch bin der wirklich schüchtern. Das ist eher so Prägung die ich erhalten habe über meine Mutter und über meine Umwelt. Aber so ansonsten bin ich doch eher ein gelassener Typ. Und ich neige nicht zu Jähzorn und Gefühlausbrüchen.  Na das ist halt das Gefühl mit dem sie einem begegnet. Das ist so wie auch das Gesicht das sie aufsetzt. Dass sie halt einen so grundlos irgendwie so anscheißt so ankeift und einem halt so eine Schwulzt aus bad Emotions halt gibt. Und einfach so relativ grundlos. Und da so. wieso kannst du mich so behandeln? Also ich habe dir gar nichts getan. Das ist so ein bisschen. Dass man halt angegriffen wird so vollkommen grundlos. Ja das ist so ein bisschen der Hintergrund.  Freude ist Lebenssinn. Gold. Also nicht Gold selbst sondern so in der Verbildlichung: Goldbild oder goldenes Licht. Und Freude ist auch so ein bisschen der Kitt der Freundschaft. Na und ist halt so: Wer Freude empfindet der hat auch einen Lebenssinn. Naja wer zusammen Freude erlebt der bindet sich halt. Das meine ich so damit. Und das ist halt auch wenn du selbst fröhlich und freundlich und freudvoll bist dass es auch sehr leicht ist Freundschaften zu schließen. Ja. Und das so ein bisschen mit eine ein Fundament eine Säule die Basis von freundschaftlichen Beziehungen. Denke ich.  Heute? Ähm beim Hacken. Körperliche Arbeit viel Sonne. Und dabei habe ich dann Freude empfunden. Ja.  Solche Emotionen die kommen ja dann auf einmal oder haben sich halt gerade aufgebaut. Ich denke die Vorarbeit war halt die Arbeit vorher die 3 4 Stunden. Und dann der körperliche der körperliche Akt. Und die Konzentration währenddessen auf das was ich getan habe. Ich glaube es war die Bewegung die mir Freude bereitet hat. Ja.\n",
      "24_6M_manual_c  Mhm also Traurigkeit ist so eine Emotion ein Gefühl ein Zustand. Ähm und ist auch vielleicht so ein bisschen mit Schmerz verbunden. Ähm mit nicht so gern an der Welt teilnehmen. Es ist so ein bisschen auch zurückziehen.  Fällt mir in dem Moment nichts ein. Nee so spontan nicht.  Angst ist ein Zustand bei dem ich mich gehemmt fühle vor etwas zurückschrecke mir etwas nicht zutraue. Oder vor einer Person oder einer Situation ähm überfordert bin.  Vielleicht bei der letzten Prüfung. Aber das ist schon so lange her. Ähm also ich weiß dass meine Abschlussprüfung von der Ausbildung. Dass ich da ziemlich Angst hatte vor.  Ähm weil ich der Meinung war dass die Lehrer die mich prüfen nicht besonders gut auf mich zu sprechen waren. Dass sie es mir nicht leicht machen.  Ähm Wut ist ein Gefühl über Ärger hinaus dass man ähm aufbraust und ähm innerlich tobt vielleicht auch äußerlich weil man sich über was geärgert hat.  Ähm ich war mit einer Freundin verabredet und sie sollte mich nochmal anrufen. Und hat es vergessen. Da war ich sehr wütend.  Weil sie sich nicht an unsere Absprache gehalten hat. Und weil für mich das auch bedeutet hat ich konnte meinen Tag nicht planen weil ich nicht genau wusste wann sie kommt.  Freude ist wirklich ein schönes Gefühl über eine Situation die einen aufmuntert. Zum Lachen bringt. Ähm ja.  Ich habe vor Kurzem ähm eine Urlaubsreise gebucht. Darüber freu ich mich. Freu mich auf die Reise überhaupt.  Weil es mal was nicht Alltägliches ist. Also wo ich was Neues erlebe. Was unternehme.\n",
      "9_6M_manual_c  Ich bin ein sehr ängstlicher Mensch. Denke aber dass ein gewisses Mindestmaß an Angst normal ist. Große Angst körperlich verletzt zu werden. Hinzufallen oder geprügelt zu werden.  Ich habe zweimal einen Horrortrip gehabt ohne Drogen war sehr schlimm.  Kann ich schwer beschreiben.  Ja ich bin wütend aber ich kann das ähm. Wenn ich meine Fantasiewelt einschalte, dann bin ich mit der Vergangenheit nicht mehr so im Argen.  Ja hier im Haus so gut wie gar nicht. Halt auf die halt wütend auf die massiven Fehler die ich und andere gemacht haben.  Weil mich diese eigenen und fremden Fehler massiv geschädigt haben.  Ich bin gern ein bisschen melancholisch. Nicht depressiv melancholisch. Wenn ich melancholisch bin kann ich besser genießen. Es ist so dass wenn ich melancholisch bin meine verschiedene Seiten mehr zusammenwachsen.  Ja dass mein Leben so schlecht gelaufen ist.  Ich kann gut genießen.  Jeden Tag mindestens einmal. Genießen. Ähm. Ich habe einen großen Bekanntenkreis der sich im X trifft. Tut mir sehr gut.\n",
      "19_6M_manual_c  Mhm schlechte niedergeschlagene Stimmung. Weinen. Mhm sich machtlos fühlen hilflos fühlen. Ja.  Na als ich meinen Hund abgeben musste.  Weil es ja ein Verlust war in dem Augenblick.  Herzrasen. Schnelle Atmung hoher Puls. Ähm schlechte Gefühle. Horrorgedanken vielleicht. Ähm ja.  Mhm beim Besteigen von einem Aussichtsturm. Weil ich ja Höhenangst habe. Und mein Hund auch.  Ja weil ich Höhenangst habe und ähm mit der Höhe dann nicht klarkomme.  Das ist ein schönes Gefühl. Ich bin gerne wütend. Ähm auch so Herzrasen schneller Puls. Ähm vielleicht auch schwitzige Hände und im Gesicht leichten Schweiß. Ähm meistens mit einer lauten Stimme verbunden. Ja.  Ähm als ich auf Frau S angesprochen worden bin. Da war ich wütend.  Weil es ungerecht war.  Ja das ist ein sehr schönes Gefühl. Ähm es schüttet Endorphine aus. Ähm Dopamin glaube ich auch. Ähm joa. Kann man schwer beschreiben.  Als ich eine Konzertkarte von Metallica gefunden habe an Platz X. Nicht personalisiert. Hundertzehn Euro gespart.  Weil Metallica zu den Bands gehörte die ich unbedingt mal live sehen wollte und ich noch nicht live gesehen habe. Ja. Jetzt schon.\n",
      "47_6M_manual_c  Etwas ähm. Eine Schwerheit. Ähm ähm ja etwas sich ähm Traurigkeit ähm. Ich finde das gerade schwer zu beschreiben weil es ist meistens ähm. Es ist eine ähm es ist wie ein Wunsch der nicht in Erfüllung geht. Es ist so weiß ich nicht. So eine etwas ähm was um Sorgnis um um etwas was irgendwie einen erschüttert hat so ähm würde ich beschreiben so.  Mh ähm nichts so spontan ähm. Mh also das hatte ich schon sehr traurig als meine Oma letztes Jahr gestorben ist ähm. Das fand ich ähm nee das ist jetzt auch schon zwei Jahre ich bin noch im 2016 hier. Das fand ich irgendwie sehr so fand ich sehr bedrückend so traurig also so ja.  Mh ja dass sie mh ja nicht mehr da ist. Oder ähm dass sie nicht mehr so ihren Wünschen oder ihren Träumen so mh ja so dass sie nicht mehr da ist so ja. Dass sie einfach ähm ja nicht. Dass sie halt auch ähm so leiden musste glaube ich so vor ihrem Tod. Das hat mich auch sehr bedrückt so. Also das fand ich sehr schwer so ja.  Mh. Angst. Mh. Angst ähm also was bedeutet das für mich? Ähm eine Verletzungsgefahr würde ich so umschreiben. Irgendwie so also so eine Verletzung in dem Sinne dass ähm etwas eintrifft was ähm wo ich mich schon lange vor grusle oder was mich bedrückt oder wovor ich ähm was ich nicht möchte.  Mh. Eine Situation jetzt? Ähm ja also so richtig Angst jetzt oder allgemein Angst oder Teilzeit? Komme ich gerade irgendwie nicht so drauf.  Mh auszurasten. Ja.  Mh im Moment nicht. Also so richtig Wut also so wütend werden dass so irgendwie ja aber gerade konkret bestimmt aber müsste ich länger drüber nachdenken.  Mh ja Menschen zu sehen die man schätzt. Sehr gerne mag. Und ich würde jetzt auszutauschen könnte vieles sein. Aber so als ein Beispiel so.  Mh ja ähm. Obwohl die ist gar nicht so ähm anlässlich. Aber ich habe mich gefreut dass mich ein Freund fragt dass er mich ähm ob ich ihn abhole nach einem Krankenhausaufenthalt also nach so einem ambulanten Operation. Weil er ist dann noch irgendwie so benebelt oder so. Und das finde ich hat mich gefreut dass er mich fragt ja. So ist es natürlich nicht so einfach aber ähm ja.  Ja dass er mir das so anvertraut so. Also so ähm ja das fänd ich gut.\n",
      "48_6M_manual_c  Ja wenn es manchmal zu viel ist. Zu viele Leute um einen oder so. Oder manchmal zu wenig also niemand da ist.  Ja manchmal wenn ich zu sehr alleine war hm. Andererseits denke ich es könnte auch ganz gut sein weil ich bin dann auch wieder froh wenn Leute dabei sind.  Naja keine entsprechende Sendung gesehen zum Beispiel im Fernsehen ähm oder kein Buch das mich hätte mehr interessieren können gefunden. Aber ich gehe dann meistens nochmal dann schauen mal in eine Bibliothek mal einfach reinschauen in die Bücher lesen mal kurz lesen. Das ähm also reicht mir dann manchmal auch.  Ja manchmal kenne ich schon Angst etwas mehr.  Da habe ich auch mal eine Erinnerung. Einmal hatte ich so viel Angst dass ich so eine Kanne ähm das weiß ich ganz genau so eine Kanne mit Wasser äh also erhitzen wollte für einen Tee und. Nein da war schon heißes Wasser drin. Und ich wollte diese Kanne dann zum Tee bringen. Und mir zitterten aber die Hände so dass diese Kanne immer so hin und her wackelte. Und das weiß ich. Das habe ich nie vergessen weil meine Angst da so groß war in dieser Zeit.  Ja ich hatte Angst vor Konflikten und so und das mir gerade dann dass gerade dann wer kommt und die Kanne vielleicht auskippt. Vielleicht war es das ja.  Ja habe ich eigentlich nie gehabt ähm. Das ist mehr so ängstlich wenn ich gedemütigt worden bin also zum Beispiel durch Kabelschlag oder so was ähm. Dann war ich hinterher sage ich mal kaputt. Hab mich kaputt gefühlt ja und trotzdem sehr glücklich irgendwie.  Ja wenn mich meine Mutter beschuldigt zum Beispiel hässliche Dinge wie Wörter die eigentlich in der Moderne sehr selbstverständlich sein sollten äh meine Mutter dann so abfällig als Schimpfworte nutzt. Das äh fand ich sehr verletzend und da bin ich immer wütend geworden. Aber ich denke das ist auch ein Fehler. Also ich nehme mich jetzt habe ich gelernt also versuche zu lernen mich auch immer mehr zurückzunehmen.  Ja weil wenn sie zum Beispiel sagt: Eine Hure ist etwas Schlechtes. Das ist für mich sehr traurig wenn sie so eine Meinung hat. Allgemein. Ganz abgesehen dass ich mich auch nicht damit identifizieren kann alleine auch. Nur damit identifizieren kann. Ja das war jetzt so ein Beispiel. Aber ich muss auch akzeptieren dass sie dass das ihre Meinung ist und ähm. Deswegen möchte ich mich auch immer lernen auch immer wieder zurückzunehmen.  Ähm Freude ja Freude ist sehr schön.  Also zum Beispiel gibt es in jeder Jahreszeit mal so Momente der Freude auch. Zum Beispiel im Frühjahr wenn am Anfang die ersten Sonnenstrahlen wieder das Wetter aufzutauen und die Blumen und die Farben die man sehen kann.  Ich weiß nicht ich freue mich auch im Herbst ab und zu ja. Ich mag auch den Herbst sehr gerne weil da sehe ich auch die bunten die Farblichkeit der Blätter und Bäume ja.\n",
      "51_6M_manual_c  Naja das ist ähm schon sowas wie einen Kloß im Hals haben und weinen und ähm Traurigkeit? Schmerzhafte Erfahrungen zu machen. Und ähm Traurigkeit. Ein Verlust.  Ich war traurig. Das fällt mir immer so auf so Vater Tocher Beziehungen so. Wenn ich halt so im Film meistens. Na dann gibt es meistens so das Happy End. Das stimmt mich meisten ein bisschen traurig wenn halt Vater und Tochter sich wieder zum Schluss begegnen. Ja das ist irgendwie so eine traurige Stimmung bei mir wo ich denn so mein so Verlust spüre. Also so eine Trennung oder so eine Unsicherheit. Ich kenne meinen Vater. Das macht ich halt immer traurig dass ich halt nicht weiß wer mein Vater ist und ähm ich auch somit nicht weiß wer ich bin. Wo ich herkomme oder so. Da gibt es immer so Szenen die so rührend sind. Und das macht mich immer so traurig weil ich sie selbst nicht erfahren kann.  Angst. Ja. Da zieht sich bei mir alles zusammen. Da da. Ähm Angst so ohnmächtig oder hilflos zu sein oder nicht machen zu können nichts. In der Schockstarre zu sein. Und so Angst zu haben so wie passiert irgendwas Schlimmes?  Na es gibt eigentlich keine Situation in der ich wirklich Angst hatte. Ist eher im Kopf was ich so. Was im Kopf ist das macht mir mehr Angst. Also es gibt keine Situation die wo ich Angst haben müsste. Fühle mich doch sehr wohl in der Welt. Aber so im Kopf ist mir. Also mir ist noch nie was Schlimmes passiert deswegen ist ja alles gut. Der Gedanke dass meinem Sohn was passieren würde. Dass er vom Auto überfahren wird das macht mir mehr Angst im Kopf als dass ich das so erlebt hätte.  Naja Verlust dass ich irgendwas verliere. Und das wäre dann natürlich ein sehr hoher Verlust.  Na das ist schon eine ziemliche große Kraft so mit Fäuste ballen. Und irgendwie aggressiv zu sein und laut zu sprechen. Und irgendwie so den Ärger rauszulassen.  Nein für mich waren immer andere stellvertretend wütend. Das sind Gefühle die ich leider nicht zulassen kann. Das ist wie gesagt das ist schwer. Also in der Schauspielrunde gibt es eine Übung dazu das Massaker. Und da konnte ich es mal rauslassen. Aber ich war ja nicht wütend in dem Moment. Es gibt schon viele Sachen die mich vielleicht stören und wütend machen könnten. Aber ich bin es nicht.  Freude. Ja Lachen und Sonnenschein und so Zufriedenheit und Lächeln und denn alles ist gut. Alles in Ordnung. Glück haben.  Ja eigentlich jeden Tag wenn ich meinen Sohn verabschiede. Freudestrahlend dann auch wenn ich ihn abhole. Er mir entgegen rennt.  Ja so sein Lachen das strahlende Gesicht. Diese Wiedersehensfreude. Also so dieses Gefühl irgendwie ja gesehen zu werden. Da schwingt auch dieses Vermissen mit drinne. Also so ja. Dass sich jemand auf mich freut.\n",
      "16_6M_manual_c  Das ist nicht so stark. Sondern wo ich ungewisse Gefühle habe. Weil was Ungewisses die mir bevorsteht wo ich nicht weiß was das ist.  Als ich das erste Mal in der Klinik X eingeliefert worden bin.  Weil ich vorher immer in Klinik Y war und nicht wusste was auf mich zukommt. Wie die Zustände hier sind. Und wie die Umstände hier sind. Und was mich hier erwartet.  Ach das ist so ein das kann man in einem geschützten Rahmen rauslassen. Wenn man alles in ein isoliertes Zimmer nimmt. Da kann man rumrollen alles schallisoliert ist. Da kann man das rauslassen und sich gut fühlen danach. Und sich davon befreien.  Eine Situation in der ich Wut empfunden habe? Hm ich war zuerst wütend als man mir angeboten hat anstatt 30 Stunden 15 Stunden zu arbeiten. Da war ich wütend erstmal so. Im ersten Moment. Aber danach habe ich eingesehen dass das eigentlich ok ist.  Weiß ich nicht. viel Einbuß ist. Vierhundert Euro weniger. Ein bisschen weniger Geld.  Ah ja also ich habe schon darüber zehn Jahre nicht mehr geweint. Und es ist so dass das Traurigkeit für mich ein schwieriges Gefühl ist. Weil ich das nie zulasse. Weil also wenn ich traurig bin dann lass ich meistens. Muss da schon ein guter Film sein der mich zum Weinen anregt. Aber sonst weiß ich nicht viel über Traurigkeit zu sagen.  Fällt mir keine ein weil es so lange her ist.  Naja ich war auch ganz traurig als ich meine Psychose hatte. Und dann aus der Psychose rauskam war ich ziemlich traurig darüber dass es so extrem war. Es ist schon ein reelles Gefühl.  Na ich freu mich schon ab und zu mal. Ach angenehme Gefühle. So Überraschungen. Ähm schöne Erlebnisse.  Wir hatten einen ziemlich schönen Geburtstag diese Jahr gehabt. Dann habe ich mich ziemlich drüber gefreut. Und da waren wir am See am See T waren wir. Zu fünf Mann und dann haben wir dort gefeiert.  Weil ich Geburtstag hatte. Und alles so schöne Geschenke gekriegen.\n",
      "6_6M_manual_c  Traurigkeit ähm ja. Down sein irgendwie. Ein Schweregefühl im Körper.  Ja wenn mit meiner Mutter was wäre. Also. Oder mit dem Hund. Mit ihrem Hund. Dann würde ich sehr traurig sein.  Ja weil meine Mutter mir was bedeutet. Der Hund auch.  Angst Existenzangst. Also Angst halt auch ähm sich immer halt so zu in Träumen. Das ist schon Angst. Ermordet zu werden. Oder ja letztendlich immer wieder ja sich in Träumen versuchen zu wehren. Oder das ist letztendlich Angst dass es in Realität dann eben irgendwie passieren könnte was man träumt oder. T: Klappt das im Traum dass sie sich dann auch manchmal ein bisschen zur Wehr setzen? P: Ne das klappt nicht. Ich versuche das halt aber letztendlich sind so Dämonen so stark dass es nicht geht.  Ja habe ich ja gesagt Existenzangst.  Ja weil es letztendlich so in mir drin ist.  Ja wenn ich einfach genervt bin und letztendlich dieses nervende Gefühl das jemand in mir entfacht oder so. Dass ich letztendlich darüber wütend werde. Weil ich eher meine Ruhe haben möchte.  Ja zum Beispiel Menschenmengen.  Dass das zu viele Menschen sind. Ich darauf überhaupt kein Bock habe. Auf Menschen oh Gott.  Ein Bild gemalt zu haben.  Farben.  Ja letztendlich ist es ja in einem drinnen dass man auf bestimmte Sachen reagiert. Und bei mir sind es halt Farben und ja. T: Sind das ganz bunte Bilder? P: Bunte Bilder. Ja ist bunt.\n",
      "_c T: Was bedeutet Traurigkeit für Sie? Können Sie das ein bisschen beschreiben? P: Traurigkeit. Ah das ist schon ein sehr quälendes Gefühl. Also das spüre ich auch körperlich auf jeden Fall. Solarplexus und ja. Ist auch was was länger anhält. Wovon ich mich aber auch immer wieder erholt habe bisher.  Ja als mein Hund gestorben ist auf jeden Fall. Ähm ja nach einer Trennung halt. Das auf jeden Fall. Ja so. Mhm.  Hm naja wenn man was verliert was nie wiederkommt.  Angst habe ich sehr selten Gott sei Dank. Also sagen wir mal wenn ich nicht krank bin dann bin ich ein sehr mutiger Mensch und habe weniger Angst als andere. Und wenn ich krank bin dann ist das natürlich äh ganz schlimm weil man da vor allem möglichen Angst hat ähm. Ja also ich würde mich auf keinen Fall als ängstlichen Menschen bezeichnen. Aber wenn ich krank bin und Angst habe dann ist es irgendwie was was ich dann gar nicht in Griff kriege. Das ist dann äh beängstigend. Das ist das falsche Wort aber äh bedrohlich.  Hm äh ich überlege. Also ich wurde mal gestalkt von einem Mann. Und da hatte ich dann schon Angst auch in mein Haus zu kommen weil ich dachte  Oh Gott der könnte überall stehen  und so. Ich wusste nicht was der vorhat. Da hatte ich schon Angst einfach. Und ich wohne auch im Parterre und dann da dachte ich  Oh Gott jetzt muss ich mal die Gardine zumachen. Wer weiß wer weiß.  Und das hat sich dann auch so habe ich mich so reingesteigert. Das war dann teilweise nicht mehr real aber äh. Das war unangenehm ja. Das habe ich dann auch körperlich gemerkt. Also ich fange dann auch an zu zittern oder so.  Ähm ja das ist schwer zu sagen. Weil es war ja irgendwo also ich hatte versucht da rational ranzugehen.  Was könnte jetzt passieren  und so. Aber es war eben so diese Ungewissheit. Man weiß nicht was er vorhat oder wie es weitergehen kann oder ob das jetzt irgendwann wieder zu Ende ist ähm ja. Hm ja die Warum-Frage ist schwer schwer zu beantworten also. Na dass man das Gefühl hat man kommt nicht mehr raus also äh. Da kriege ich dann Angst. Also wenn ich jetzt vorher wüsste zum Beispiel bei dem jetzt der hatte nach ein paar Monaten aufgehört zu stalken. Wenn ich das dann weiß okay das hört dann auf dann ist das nicht so bedrohlich. Aber ich hatte auch schon mal Angst. Ich war mal in so einer äh Polizeizelle eingesperrt. Ist ganz lange her. Und da hatte ich natürlich auch Angst weil ich einfach nicht wusste wann komme ich da wieder raus. Was machen die jetzt mit mir. Und es wusste auch keiner dass ich da bin. Und da habe ich natürlich Angst gekriegt obwohl man natürlich hinterher denkt naja wieso was sollen die schon machen? Oder natürlich müssen die einen rauslassen und so. Ähm aber so ja ich steigere mich da wahrscheinlich so ein bisschen rein und wenn ich nicht wie gesagt wann es zu Ende ist. Genauso hätte ich auch Angst in einem Fahrstuhl stecken zu bleiben obwohl man rational weiß okay da kommt irgendwann einer und holt einen raus. Aber dieser Moment der Ungewissheit äh der macht mir Angst. Und deshalb vermeide ich es zum Beispiel auch mit Fahrstühlen zu fahren äh. Also lieber mit Leuten zusammen fahre ich Fahrstuhl und wenn ich alleine bin nur zur Not. Ansonsten vermeide ich das.  Also Wut versuche ich zu vermeiden. Weil wenn ich wütend bin dann bin ich richtig wütend. Dann muss ich mich auch echt bremsen. Ähm darum ist es so dass ich. Also ich fange noch mal an. Also wenn ich jetzt. Also ich weiß dass ich sehr wütend werden kann und äh. Wenn ich das dann merke dass ich jetzt sehr wütend werde mache ich halt Sport. Dann gehe ich eine Runde joggen oder gehe laufen oder höre eine CD oder so. Meistens bewege ich mich. Ähm oder versuche mit Leuten dann zu reden später und. Es ist aber ein sehr starkes Gefühl. Und deshalb versuche ich das zu vermeiden. Also ich habe in meiner Ex-Beziehung ja hat man sich auch mal angebrüllt. Aber das war dann aber so schlimm dass man sich dann einen Tag davon erholen musste so von diesem Wutausbruch ja. Und wie gesagt ich versuche es zu vermeiden. Also wenn jetzt zum Beispiel mit Leuten ist in einer Gruppe oder wie auch immer dann halte ich mich aus manchen Diskussionen auch komplett raus. Also gerade aus politischen oder aus anderen Diskussion. Weil ich weiß ich könnte dann so wütend werden dass ich dann auch nicht mehr vernünftig argumentieren kann oder so. Also ich versuche es zu vermeiden weil es ein so starkes Gefühl ist dass dann andere auch Angst vor mir kriegen könnten. Also ich hatte auch mal so einen Job einen Nebenjob wo die unseren Lohn kürzen wollten. Und dann also Dienstberatung und dann wurde ich so wütend und so rot. Also ich habe nicht gebrüllt aber man hat gesehen dass ich wütend bin dass der Lohn dann nicht gekürzt wurde. Das war dann natürlich gut. Aber ähm es ist für mich sehr unangenehm. Und ich hatte auch letztens in der Musikschule eine Situation wo ich auf einen Schüler sehr wütend war. Und dann bin ich eben habe ich den Raum verlassen und habe gesagt  Die Stunde ist jetzt erst mal beendet  und bin eine halbe Stunde spazieren gegangen damit der das halt nicht abkriegt. Und danach war es dann auch okay. Aber ist ein sehr sehr starkes Gefühl.  Ähm genau also das war so. Ich unterrichte den schon seit fünf Jahren. Das ist so ein. Der ist jetzt mittlerweile zwölf ein Junge und ähm. Ich war schon relativ oft so ein bisschen wütend auf den weil der eben äh nicht richtig übt oder dann seine Noten nicht mitbringt oder sein Instrument vergisst und äh ja. Bei dem war es erreicht dass er vorrankommt und so. Und da genau habe ich dann immer die Mutter angeschrieben ob die noch mal drauf achtet dass er alles mithat und blablabla. Und die Mutter ist eben auch echt anstrengend und ja. Und irgendwann kam er dann eben wieder ohne Noten und äh. Und ich war sauer und habe es ihm auch gezeigt aber der ist dann immer so knallcool. Also der zuckt dann mit den Schultern und sagt  Ja wo ist jetzt das Problem? Können wir was anderes machen?  und so. Und das hat mich dann irgendwann wütend gemacht ähm. Und dann ja war ich so wütend dass ich dachte ich könnte ihn jetzt anbrüllen vor Wut. Und um das nicht zu tun habe ich gesagt  Die Stunde ist beendet  und habe halt gewartet bis er eingepackt hat und gegangen ist. Und dann bin ich halt wie gesagt eine halbe Stunde durch den Park spaziert. Habe dann der Mutter noch eine sachliche Email geschrieben dass eben folgende Bedingungen zu erfüllen sind für den Unterricht. Das habe ich dann gut in den Griff gekriegt aber ich. Also ja ich habe es relativ gut im Griff. Versuche es auch alles so zu vermeiden. So stark wütend zu werden. Aber früher hatte ich damit ein sehr starkes Problem. Also ich gehe zum Beispiel auch nicht auf Demos auch wenn mich das Thema irgendwie interessiert weil ich da so mitgerissen werde von der ganzen Stimmung und der Wut. Dass mich das dann auch so aggressiv macht dass ich da gar nicht mehr rauskomme emotional und äh. Meine Freunde wissen das auch. Dass die mich eigentlich nicht mehr fragen brauchen ob ich zu einer Demo mitkomme. Und ich bin auch oft früher mit der Polizei da in äh wie soll ich sagen in Konflikt gekommen ja. Und ja mittlerweile meide ich das eben.  Hm naja. Also ich habe mich eben persönlich äh angegriffen ist zu viel gesagt also ähm. Na ich wie soll ich denn das sagen? So ich konnte mit diesem ignoranten Verhalten nicht umgehen. Also dass ich ihm was beibringen möchte und meine Bedingungen sage und er nur mit den Schultern zuckt. Also äh ich habe ja viele Schüler und da kommt immer mal vor dass jemand was vergisst aber äh. Die anderen entschuldigen sich dafür oder bringen einem eben Respekt entgegen. Und in dem Fall war ich auch sauer dass also dass ich. Also ich ja irgendwie meine Wut und meinen Unmut schon gezeigt und dass ist halt überhaupt nicht angekommen also gar nicht. Und da werde ich dann halt noch wütender. Und ja aber wie gesagt ich bin dann gegangen weil es hätte kein gutes Ende genommen. Und so konnten wir am Ende später auch alles noch mal klären.  Ja Freude habe ich sehr viel. Also Gott sei Dank schon immer gehabt ähm. Leute sagen auch dass ich mich so über kleine Sachen so total freuen kann und dass die das auch gern hätten. Also es ist schon mehr glaube ich als bei anderen Leuten äh ja. Ist natürlich auch ein sehr starkes Gefühl und was eigentlich so mein eigentlich so mein dominierendes Gefühl ist.  So also ich freue mich eigentlich auf jeden Auftritt. Ich freue mich auch auf jeden Kaffee. Aso ich trinke halt sehr wenig Kaffee also was heißt wenig also einen am Nachmittag und auf den freue ich mich. Dann genieße ich den. Und wenn ich weiß äh der und der kommt mich besuchen wir spielen jetzt Mühle oder so dann freue ich mich eben auf diesen Abend und so. Und es dann aber auch so wenn man sich dann so freut und dann wird man enttäuscht ist es natürlich besonders schlimm wo man dann wieder bei der Verbindlichkeit sind mich dann auf Sachen einstellen die dann nach Möglichkeit auch stattfinden ähm ja. Ich freue mich sehr über ein tolles Konzert wenn ich auch mal selber äh im Publikum bin oder so und ja. Nach Sport empfinde ich natürlich eine große Freude oder bei Erfolg und ja. Das ist eigentlich Gott sei Dank mein dominierendes Gefühl.  Okay Freude Freude was habe ich denn jetzt äh genau. Ich treffe jemanden und der Kaffee. Sport. Viel ähm na gut bei Kaffee und Sport ist ja auch klar dass da sowieso was im Gehirn passiert. Also ist ja schon bisschen ähnlich wie bei einer Droge. Nicht ganz so ist mir schon klar. Ja ähm ansonsten wenn ich mich auf einen schönen Abend freue ja. Also ich bin halt sehr empfänglich für so Energien und Schwingungen und äh. Das kommt dann eben bei mir an wenn ja wenn man gut harmoniert oder so. Und wenn ich mich mit jemandem treffe dann geht das ja auch meistens so übe mehrere Stunden so dass man wirklich den ganzen Abend miteinander verbringt. Und ich freue mich dann die Person anzugucken und äh ja besonders in die Augen zu gucken und die guten Gespräche zu führen und einfach die Schwingungen wahrzunehmen. Und dann kann ich mich da wirklich auch noch Tage später drüber freuen weil es dann so nachwirkt. Also manchmal lache ich dann auch noch zwei Tage später über irgendeinen Witz weil es eben so ein schönes Treffen war und so ein schöner Gedankenaustausch.\n",
      "1_6M_manual_c  Freude ist ein Gefühl von ähm. Ich freue mich über etwas wenn ich zum Beispiel ein Tor schieße also in der Situation. Ähm wenn der Pass angekommen ist beim Fußball. Ähm wenn wir gewonnen haben als Mannschaft einfach. Das ist ein Gefühl von Freude zum Beispiel was mich froh macht. Es gibt natürlich auch verschiedene Situationen wenn Deutschland ein Tor schießt hm. Genauso wie wenn ich sag mal die türkische Nationalmannschaft irgendwo bei der EM dabei ist. Das ist auch ein Gefühl kann auch ein Gefühl von Freude sein. Ähm einen beruflichen Werdegang zu machen. Das kann mich froh machen. Also zu haben. Einen Beruf zu haben. Einfach woran ich festhalten. Auf jeden Fall ein positives Gefühl ähm innerlich. Wo ich weiß ähm okay es ist ein positiver Erfolg auch daraus ja und dann.  Ähm in den Urlaub zu fahren. Jetzt von den Situationen unabhängig hat mir sehr viel Freude bereitet weil ich meine Familie wiedergesehen habe. Einfach super Gefühl gewesen. Echt total total schön. Also ich war froh wie ein kleines Kind. Ich bin in die Türkei gezogen hm. Wir haben ein Haus in der Türkei und meine Mutter hat ein nicht wir meine Mutter hat ein Haus in der Türkei. Und ich war tierisch froh dass sie mich mitgenommen hat und ähm. Echt super gewesen. Echt schön gewesen.  Weil ich diese Situation sehr lange nicht erlebt habe. Seit Neunzehnthundertund äh also es ist schon ewig lang her. Ähm und ich habe mich total gefreut meine Familie meinen Cousin wiederzusehen. Meine Tante wiederzusehen. Und halt ähm ja.  Traurigkeit ist ein Gefühl was nicht so schön ist. Also ähm. Traurigkeit ist ein Gefühl ähm. Zurückziehen wo ich mich zurückziehe. Wo ich für mich das verarbeiten muss. Wo ich das für mich ähm. Wo ich mit mir selber zu kämpfen habe auch. Weiß nicht. Also es gibt verschiedene Sachen von traurig. Also traurig sein meine ich wenn jemand auf der Straße fällt. Eine ältere Person zum Beispiel. Vor allen Dingen eine ältere Person. Da wird man echt also da werde ich emotional und ähm da bin ich auch so ein bisschen sensibel auch einfach. Das kann mich auch traurig machen. Oder wenn ich meine Führerscheinprüfung nicht bestehe das würde mich traurig machen. Wenn ich einen Umschulungsplatz nicht bestehe das würde mich so ein bisschen traurig machen. Aber ich weiß dann ähm ich hätte dann ähm mit. Ich müsste an mir arbeiten einfach. Ganz klar.  Ähm zum Beispiel vor fünf Jahren und fünf oder sechs Monaten die Beziehung mit meiner Freundin zum Beispiel vorbei war. Da war ich auch traurig ganz klar. Die hat über ein Jahr lang gehalten. Aber irgendwann war ihr das zu viel. War ich so ein bisschen ich war auch so ein bisschen ähm. Auch ein bisschen selber Schuld auch dran gewesen. Klar als die Beziehung vorbei war. Es war ja auch von beiden Seiten aus. Da war ich sehr traurig auf jeden Fall.  Weil ich sie sehr gemocht habe und ähm. Ich habe sie sehr gemocht als ähm. Ich bin auch mit ihr ähm intim geworden. Von daher. Ich bin auch wirklich ein Mensch geworden der nicht mehr so ähm jede Person an sich heranlässt. Und ich bin da vorsichtig geworden auf jeden Fall.  Angst? Prüfungsangst vor allen Dingen. Es gibt nichts was man nicht besiegen kann. Also auch wenn es Ängste sind. Aber ähm man muss wirklich das wollen. Man muss etwas wollen denke ich. Angst etwas nicht zu schaffen sollte man nicht haben einfach. Es ist halt schwierig ähm dass man einander ähm. Angst ich meine man kann Angst haben wenn man auf die Straße geht und über die Straße läuft. Ähm. Weil so viel passieren kann. Weil man beklaut werden kann. Weil man um Gottes Willen ich will nicht den Teufel an die Wand malen. Weil man mit dem Fahrrad irgendwie umstürzen kann oder angefahren werden kann. Also Ängste sind ganz tief in einem wahrscheinlich. Und ähm die sollte man auf jeden Fall versuchen zu bekämpfen oder eine Lösung zu finden. Einen anderen Weg zu finden und immer hm. Man kann mit denen leben. Aber nicht auf Dauer so. Das kann einen kaputt machen.  Verschiedene Symptome. Ich denke ähm. Ähm man kann jemanden ängstlich machen. Also ähm allein von dem Auftreten her. Wenn da eine große Person mit einer breiten Statur auf mich zukommt. Da zucke ich auch erstmal und sage: Hey was ist denn los? Da kann man ängstlich reagieren. Aber es gibt natürlich auch Situation wo man auch ähm einfach ähm das eigentlich gar nicht möchte so irgendwie. Wo die Person es halt die breite von der Statur her breite Person zum Beispiel jemanden gar nicht ängstlich machen wollen würde. Oder wenn ähm wenn man jemanden mit jemanden zusammen ist. Und man hat einfach jemandem. Es sind ja auch ähm Gene in einem. Und die Gene in einem ich weiß nicht. Bei Manchen sind sie stärker ausgeprägt. Bei Manchen sind sie nicht so stark ausgeprägt zum Beispiel. Ähm weiß nicht äh wie soll ich das erklären? Man muss mit ihr reden können also auch mit der Angst so ein bisschen. Aber ich würde niemanden zum Beispiel ängstlich machen wollen auch ähm. Bestes Beispiel bei kleinen Kindern. Die verstehen ja auch die sehen ob man Angst haben sollte vor jemandem. Oder ob man halt so mit jemandem auch so auskommen kann. Und ähm merken auch ob man gut oder böse ist sage ich immer.  Ich hatte in vielen Situationen Angst. Angst hatte ich in vielen Situationen in meinem Leben. Aber die größte Angst habe ich immer noch ähm irgendwann ähm ganz ehrlich ohne Partnerin und ohne Familie da zu sein irgendwie. Alleine zu sein irgendwie. Nicht allein in dem Sinne von ähm. Ich meine wirklich niemandem mehr zu haben. Mit dem ich sprechen kann. Mit dem ich meine Informationen teilen kann. Mit dem ich mich mitteilen kann. Mit dem ich mich ähm austauschen kann zuhören kann und alles. Vor sowas also ich habe ich finde. Ich versuche immer auf Leute zuzugehen einfach und es nicht so einfach manchmal in meiner Situation. Ähm da habe ich nicht mehr so große Angst Freunde zu verlieren als wenn ich meine als wenn ich irgendwie sage ähm. Auf Freunde konnte ich immer verzichten. Aber auf meine Familie versuche ich ähm einfach für sie da zu sein. Vor sowas hätte ich Angst. Also.  Ähm weil ich auch kurz davor war sie zu verlieren irgendwie. Weil ich halt selber in der Situation auch schon war sie zu verlieren einfach. Und ähm ich weiß wie das Gefühl ist ähm wenn man abnormale Sachen macht. Und ähm abnormale meine ich so die gar nicht irgendwie ähm mit jemandem zu jemandem irgendwie passen. Was man nicht von der Erziehung hat. Die halt abstrakt sind so einfach. Und ähm so Situationen sind bei mir Zuhause auch damals vorgekommen. Und ich hatte echt Angst irgendwann dass dann keiner mehr da ist. Dass ich dann ganz allein dastehe irgendwie auch ähm. Also vor mir selber Angst hätte ich nicht. Habe ich nicht. Also irgendwann wird dann das Leben uns erlösen irgendwie. Aber davor habe ich auch keine Angst so irgendwie. Es wird einfach immer irgendwann so sein.  Wut? Damit kann ich ganz gut umgehen. Aber hm. Wut ist glaube ich ein Gefühl von Aufgebraustheit von Unkontrolliertheit auch irgendwo. Unkontrolliertheit in dem Sinne von ähm: Mist ich habe jetzt das Spiel verloren. Trete ich jetzt gegen den Torpfosten oder nicht? Da hat man sich ja auch entweder unter Kontrolle oder nicht. Und da ist man wütend auch irgendwo. Auf sich selber auch einfach. Auf sich selber einfach wütend. Und ähm man hat immer die Möglichkeit irgendwo ähm immer mehr draus zu machen irgendwo. Und ähm keine Ahnung. Wut? Ist schwierig also ähm. Es gab mal einen Film glaube ich über die Wut. Und ich bin mir nicht ganz sicher wie der ausging. Aber da waren immer so zwei Hitzköpfe und der eine wenn der wütend wurde dann passierten ganz komische Dinge. Die er so beeinflussen konnte und er hat dann nur Humbug gemacht. Und also der Film ist echt. Er hatte sich nicht unter Kontrolle. Seine Wut nicht unter Kontrolle. Seine Gefühle nicht unter Kontrolle. Seine.  In der ich wütend war? Wo ich meine ähm Bürokaufmannprüfung zum zweiten Mal nicht geschafft habe war ich wütend auf mich. Da war ich wütend auf mich einfach. Auf mich also überwiegend auf mich. Weil ich einfach ähm. Weil ich einfach ähm in der Situation so ein bisschen auch enttäuscht war. Und ich ähm hätte gedacht: Ach das schaffe ich doch . Ich habe nicht gelernt und ich wusste dass ich nicht gelernt habe. Aber war sehr wütend auf mich irgendwo. Und klar. Wenn ich was nicht schaffe was man sich in den Kopf setzt dann ist man dann bin ich wütend auf mich. Aber ich bin nicht zu streng zu mir. Gott sei Dank nicht. Gott sei Dank bin ich nicht zu streng einfach. Es geht also. Wenn ich zum Beispiel etwas im Kopf habe aber ähm es ist unmöglich das zu schaffen dann ist es okay. Wenn etwas unmöglich ist dann ist es okay also. Also so gut wie unmöglich dann geht es schon. Aber ähm wenn ich es hätte schaffen können dann unmöglich dann habe ich mit mir selber zu kämpfen. Und muss an mir arbeiten. Und das weiß ich auch. Das muss ich auch auf jeden Fall machen. In vielen Situationen auch machen.\n",
      "11_6M_manual_c  Ja also Traurigkeit ist eine gute also ist ein schlimmes Gefühl. Aber es ist halt auch wichtig. Und es ist ein bisschen reduziert glaube ich dadurch dass ich die Sachen also die Medikamente nehme. Und das ist halt ähm habe ich früher noch stärker empfunden. Aber es ist auch manchmal da ja. In Situationen war ich traurig als meine kleine Tochter im Krankenhaus war. Die dachten es wäre was ganz Schlimmes. War es dann aber gar nicht. Also das war da war ich sehr traurig.  Da war ich sehr traurig ja.  Naja weil das natürlich ich nicht möchte dass es meiner Tochter schlecht geht oder dass es irgendwie lebensbedrohlich ist. Und das ist halt wäre für mich ein schrecklicher Verlust. Also das ist halt für mich das A und O meine Familie. Und dann das geht gar nicht an. Also da war ich traurig dann.  Ja das ist auch eine Emotion die reduziert ist glaube ich. Und Wut da muss man mich eben kitzeln. Aber joa ähm. Manchmal schafft das meine Frau dass ich auch wütend werde ja. Aber es ist nicht einfach.  Ja wenn wir uns streiten halt so ne. Also wenn sie dann etwas richtig Doofes macht ne. Aber das. Sie hat mal ein Foto von uns zerrissen. Das hat mich schon sehr geärgert. Da war ich wütend.  Also wenn ich mich ungerecht behandelt fühle. Das äh dann werde ich wütend ne. Also wenn ich jetzt zum Beispiel was Tolles mir überlegt habe. Und diese eine ja nee ist nicht so geil ne. Also dann dann werde ich wütend. Aber ich kann nichts machen also außer höflich bleiben und nicken also hm ja.  Also es ist so. Wenn ich zum Beispiel jetzt Zeit bei Freunden über Struktur gesprochen. Wenn die früher gebrochen wurde das war eine Unsicherheit bis zur Angst. Und ähm Angst ist eine sehr unangenehme Emotion. Aber habe ich im Moment relativ wenig von. Außer Angst um meine Familie. Das jetzt vor allem meiner Tochter und meiner Frau was passiert ja. Merke ich zum Beispiel wenn die lange weg sind sich nicht melden. Und ich mich frage wo die bleiben nur. Dann bin das ist eine Situation da habe ich dann Angst ne. Das was passiert ist.  Naja das geht ja um. Also ich möchte dass es denen gut geht auf der einen Seite. Und auf der anderen Seite habe ich auch Angst vor den Verlusten. Weil das ist mir das Wertvollste und das möchte ich nicht verlieren.  Ja Freude habe ich ja heute ein bisschen mitgebracht hier. Das ist wenn Anerkennug läuft wenn es in der Familie gut läuft wenn die Dinge gut laufen. Dann habe ich auch Freude. Und das ähm ist eigentlich immer ein punktueller Lichtblitz so wenn bestimmte Dinge passieren. Also sonst bin ich relativ neutral. Also ich bin jetzt halt nicht. Heute war aber alles cool. Und dann gibt es auch Freude ne. Situation ist ich denke mir Sachen aus. Und das kommt gut an. Bei der Arbeit ne und meine Tochter strahlt mich an. Und freut sich dass ich da bin weil wir irgendwie cool auf dem Spielplatz waren oder so. Ist auch Freude.  Naja weil es einfach cool ist. Weil es einfach Spaß macht die Situation. Und dass sie sich freut dass wir uns einfach ein es sind einfach coole Sachen. Es gibt coole Spielplätze bei uns und so. Und dann entdeckt sie Dinge und das finde ich total also das macht mir Freude wenn ich sehe dass sie das entdeckt und damit Spaß hat. Irgendwie wenn das Wasser plätschert oder so. Und ähm ich habe Freude wenn sie strahlt und lacht und einfach vergnügt ist und einfach sie selbst ist. Und das ist einfach toll. Mehr fällt mir dazu nicht ein.\n",
      "72_6M_manual_c  Verzweiflung ähm. Dass vielleicht auch ein Mensch mich verletzt hat von den Gefühlen her. Oder dass einer von uns gegangen ist einer von der Familie gestorben ist. Das ist für mich Traurigkeit.  Dass vielleicht einer versucht mir Schmerz zuzufügen auch seelisch und dass ich damit auch runtergerissen werde. Freundschaftsmäßig also von Kumpel zu Kumpel oder von einer Kumpeline zu mir als Freund als Kumpel auch. Ich kenne auch viele Kumpelinen ja die mich dann missverstanden haben genau. Die mich dann versucht verzweifelt anzumachen weil sie eigentlich auch die Schuld in sich tragen weil sie überreagiert haben zum Beispiel ja. Und dann sehen dass ich traurig bin und das nicht verstehen.  Weil ich überfordert war. Weil ich mich nicht äußern konnte. Weil die Überreaktion von der anderen Person war zu viel für mich. Zu schnell eingegriffen ist sie in der Situation hat zu überreagiert. Und das hat mich schon ein bisschen überfordert und hat mich halt traurig gemacht. Zum Beispiel auch heute so eine Situation gewesen aber ist ja egal. Ja naja ich hatte für eine Person vieles getan. Habe auch ihren richtigen Sohn zufriedengestellt mit Sachen wo ich mit den beiden dann weggefahren bin. Auf einmal hat sie sich nicht mehr gemeldet. Und ich habe sie eines Abends besucht das war um 17 Uhr ungefähr weil ich weiß der Kleine ist noch wach. Und sie macht mich dann an: Was willst du hier? Ich will dich nicht sehen. Und ich habe mich dann erstmal gewundert: Was ist los? Ich habe keinen Fehler gemacht. Und heute früh sehe ich sie wieder im Lottoladen äh und brüllt mich an: Du weißt doch gar nicht dass ich einen neuen Freund habe. Lass mich in Ruhe. Da denke ich mir auch so: Ey du blöde punkt punkt punkt. Ich habe dir eigentlich nichts Böses wollen. Ich wollte nichts Böses von dir. Aber ich wollte nichts. Ich hatte nichts Böses vorgehabt. Ja und sie war nicht einsichtig. Und das hat mich etwas niedergemacht. Da war ich etwas traurig. Da habe ich versucht mein Herz wieder so ein bisschen zu äußern und habe nur wieder in die Scheiße getreten. Auf Deutsch gesagt naja.  Angst? Ich habe keine Angst vor gar keinem. Ich habe nur Angst vor Gott dass irgendwann vielleicht wie man irgendwo sagt in der Kirche oder so: Die Welt geht vielleicht bald unter weil wir die kaputt machen von der Umwelt her. Wegen den Wetterintrigen äh die gerade auf uns zukommen. Kein Sommer mehr richtig die Ozonschicht geht kaputt und so was ja.  Ja wenn ich manchmal abends zuhause bin und merke äh ich bin gerade am Einschlafen. Und bei uns wird viel eingebrochen. Dass ich dann mich so schnell nicht schützen kann vorher wenn ein Einbrecher reinkommt. Zum Beispiel in so einer Situation. Das ist wirklich die Einzigste. Sonst habe ich vielleicht Respekt vor Menschen vielleicht aber keine Angst. Ja.  Ja weil ich da versuche gerade an das Gute zu denken und dabei versuche auch einzuschlafen. Denn kann ja auch sein dass es der letzte Tag ist den ich genossen habe. Kann ja immer was passieren ja.  Wut ist Verzweiflung. Wut ist eine Aussage die man wo man sagt äh: Ich weiß nicht was mir gerade in der Situation passiert ist. Wie einer sich gegenüber mir äußert. Das ist so Wut für mich von meiner Seite her von meiner Person her.  Wenn mich einer missversteht wo ich mein Herz öffnen kann gerade und er versteht mich gar nicht und gibt mir hm beschissenes Feedback. Äh was für mich äh keine äh Bedeutung hat ja.  Weil es gar nicht zu mir passt zu meiner Person. Ja.  Freude? Freude ist eigentlich was ganz Schönes. Wenn man irgendwas erlebt was einen im Herzen berührt. Was warmes ein warmes Gefühl. Also das kann man nicht so beschreiben. Also das ist schon ein großes Thema.  Hm zum Beispiel dass mein Vater wieder besser geht. Dass er nicht mehr äh im Krankenbett liegt. Ja mein Vater hat nämlich Krebs gehabt. Und äh der Arzt hat gesagt: Es gibt noch Hoffnung. Ich habe natürlich erst geweint mir kamen gleich die Tränen. Aber ja es geht ihm wieder besser. Und das hat mich sehr beruhigt ja.  Naja dass er an mich glaubt. Denn Eltern glauben immer an ihre Kinder als Erstes ja dass sie weiter leben und lächeln ja. Das ist für sie das wichtigste.\n",
      "35_6M_manual_c  Traurigkeit ist ein ziemlicher Teil von meinem Leben äh. Aber ich äh tue immer was dagegen dass ich nicht zu lange traurig bin.  Ja als ah zuletzt? Überhaupt. Als sich mein Freund von mir getrennt hat da war ich super traurig. Ich war im zweiten Monat schwanger. Und äh ich habe geweint. Und da hat er mich gefragt: Na soll ich denn bei dir bleiben? Da habe ich gesagt: Nein wenn du wegen mir bleibst dann gerne aber nicht wegen dem Kind.  Ich habe ihn wahnsinnig geliebt. Und diese Trennung. Ich hatte das Gefühl dass ich nie wieder mit einem Mann zusammen sein möchte. Das stimmt ja auch. Ich war dann nicht mehr mit jemandem zusammen.  Angst davor das Leben nicht mehr so fristen zu können. Angst davor dass das Geld absolut nicht mehr reicht obwohl ich da ganz gut bin mit Einteilen. Aber wenn die Preise immer höher steigen dann wird es. Das ist für mich eine große Angst.  Ja gibt es auch. Ich habe vor ungefähr 2 3 Jahren festgestellt woher die Nazis ihre Waffen beziehen. Und äh da haben sie eine Mahnwache bei mir am Haus gemacht. Das heißt immer zu jedem Weg wo ich gehen konnte stand einer von ihnen. Und das war schon sehr sehr bedrohlich die Situation. Und da habe ich mir gesagt: So okay die stehen da aber machen nichts. Da habe ich dem einen mal auf die Schulter getippt und gesagt: Du pass mal auf. Es wissen jetzt genug Leute dass ihr mich hier bedroht. Wenn mir was passiert seid ihr alle dran. Also seid lieber alle freundlich zu mir. Und da hat der mir die Tür aufgemacht. Und 2 Tage später waren sie verschwunden. Aber da hatte ich schon eine mächtige Angst.  Weil ich die Situation schon kannte von Nazis zusammengeschlagen zu werden. 1990 seitdem sind meine ganzen Rückenbeschwerden und das alles. Ähm bin ich zusammengetreten worden. Von Nazis.  Richtig wütend bin ich eigentlich nie traurig eher wenn. Aber äh Wut empfinde ich dann wenn anderen Unrecht getan wird. Dann empfinde ich Wut.  Eigentlich nicht. Doch doch. Äh wir waren mit den Kindern weg. Und da haben einige angefangen rumzusticheln: Na geht ihr wieder mit euren Asylbabys rum? Und da war ich wütend. Da war ich richtig wütend.  Weil diese. Es war so niederdrückend für die Kinder. Habe ich gesagt: Kommt lasst die. Die sind die sind einfach dumm wenn sie sowas sagen. Die Babys sind 12 13 Jahre alt deswegen. Sie verstehen das schon wenn sie da angepöbelt werden.  Freude ist etwas wonach ich immer strebe. Und ich kann es immer weniger empfinden. Ähm Freude ist für mich wenn ich ja wenn ich mal ins Theater gehen könnte. Aber vielleicht kriegen wir das ja jetzt hin wenn wir nicht in Urlaub fahren.  Weihnachten. Weihnachten ja. Kinder haben das super angenommen was sie bekommen haben. Haben das Puppenhaus was ich ihnen mit meiner Tochter zusammen geschenkt habe sofort umgeräumt. Alle Möbel in einen Raum und dann. Ja das das war schön das mitanzusehen.  Weil die Kinder fröhlich waren. Meine man kann auch mal total danebengreifen und dann ist das eben alles nichts. Dann haben sie noch ein großes Pferd gekriegt. Um das haben sie sich gestritten. Aber das haben wir dann eingerenkt gekriegt. Dass wir gesagt haben: So erst du und dann du.\n",
      "40_6M_manual_c  Hm wenn es einem nicht gut geht und man irgendwie deprimiert ist. Sich über was wenn man über irgendwas traurig ist.  Hm vielleicht wenn ich verlassen wurde von Ex-Freunden zum Beispiel. Oder so wie damals mit der Rentenbescheinigung. Oder wenn man sich über irgendwas mit den Eltern mal geärgert hat.  Hm weil es nah an mich ranging. Mhm. Ich überlege gerade welches Beispiel ich nehme. Ich nehme mal das Beispiel Trennung. Da ist es ja eh einfach egal wer sich trennt. man ist am Anfang immer ein bisschen traurig wenn man dem so hinterher hängt.  Angst ist zum Beispiel wie oder wie da wo mir was Blödes passiert ist und ich auch noch Angst habe. Da ist dasselbe noch mal passiert. Oder ein Gewaltverbrechen noch mal oder irgendwie so Sachen.  Ja das war damals als dieser Vorfall war und dann danach als ich immer rausging und dann Angst hatte wenn ich draußen irgendwie rumlief dass mir das noch mal passiert und so.  Der ersten oder der zweiten Situation? Ist egal in welcher. Na das was mir da ja passiert ist war ja so ein Ding zwischen Traum und Diazepam und allem möglichen Kram. Wo man gar nicht mehr durchstieg. Und wenn man einem ein Patient so was an den Kopf latzt da kriegt man ziemlich Schock und denkt Hä? und will das natürlich erstmal nicht wahrhaben und ist immer ein bisschen ziemlich schockiert. Und gerade wenn man dachte es ist ein Alptraum und ein Alptraum bestätigt sich als Realität. Das ist so ein bisschen.  Wut. Es ist zwar selten dass ich wütend bin. Wut ist wenn ich mich mal über was ärgere oder so. Und äh das Temperament ein bisschen durchgeht. T: Können Sie uns eine Situation schildern in der Sie Wut empfunden haben. P: Ja mein Ex-Freund mal. Ich habe so einen Raum zuhause da hängen nur Kostüme und Schnitte rum und eine Nähmaschine und so Regale. Das ist so wie ein Sperrzonenraum und es war Silvester. Der zog sich da drinnen zurück und hat auch irgendwelche Drogen konsumiert. Und wollte allein sein und riss dann irgendwelche Schnitte und irgendwelche Sachen runter und machte da Unfug in dem Raum. Und da war ich wütend.  Na weil er was kaputt machte. Und weil das ein Sperrzonenraum war. Ist wie wenn jemand jetzt seine Plattensammlung irgendwie zertritt oder so.  Freude wenn ich mich über irgendwas freuen kann über Kleinigkeiten oder größere Dinge. Oder über ein Ereignis freue oder so.  Hm mal überlegen. Passendes Beispiel finden. Hm habe kein Beispiel gibt es denn so was das ist. Ja oder habe in meinem Kopf eine Beziehung oder so. Freut man sich darüber. Ist ja auch ein nettes Gefühl.  Na weil man sich wohl fühlt. Und weil man es genießt. Und weil es schön ist.\n",
      "23_6M_manual_c  Hm Traurigkeit. Ist auch eine Empfindung die man einfach haben muss. Man muss es schaffen zu trauern. Ich glaub dass ich Traurigkeit ziemlich verdrängt hab als meine Mutter zum Beispiel starb. Da haben sich alle mokiert dass ich so viel gelacht habe. Ich habe mich über die Feiergäste so gefreut dass ich sie alle nochmal gesehen hab. Ich war so fröhlich. Das war natülich das war ein bisschen übertüncht die Traurigkeit. Ich glaub dass ich ziemlich viel traurig war in meinem Leben.  Ja das man halt äußere Sachen verarbeitet. Man verarbeitet die Situation dass einer nicht mehr da ist oder oder dass man was falsch gemacht hat. Mh.  Mir fällt nur ein wo ich so sehr geheult habe. Aber ob das richtig Traurigkeit war weiß ich nicht. Ich bin ja ausgezogen von zu Hause quasi ausgezogen worden. Mir wurde ein Ikea Bett verordnet. Und ich hab die ganze Zeit rumgeheult weil ich kein Ikea Bett wollte. Ich will kein Ikea Bett habe ich die ganze Zeit geheult. Aber das ist vielleicht glaube ich gar nicht so richtig Traurigkeit. Aber doch ist auch Traurigkeit. Also am ehesten fällt mir noch als meine Mutter starb. Aber das ist sehr lange her.  Als die Mutter starb oder? Ja na weil sie halt nicht mehr da war. Und weil ich nichts mehr regeln konnte mit ihr. Weil es einfach vorbei war. Sie hat ja auch ne Psychose gehabt und hat sich das Leben genommen. Und ich hab einen großen Klumpen Erde auf ihr Grab geworfen auf ihren Sarg. Und meine Tante meinte: Du warst richtig wütend nicht? hat sie gesagt. Du warst richtig wütend. Und ich hab gesagt: nein ich war nicht wütend. Es stimmt schon ich war wütend dass sie weggegangen ist. Mh. Ja was Traurigkeit ist? Ist halt eins von vielen Gefühlen das man auch haben muss. Sonst ist man nicht komplett. Mh.  Angst ist grad was was ich mir gerade gerade glaub ich nicht so genehmige. Weil wenn ich zu viel überlege dann bekomme ich so ne Angst dass ich nie mehr in den normalen Arbeitsalltag reinkomme. Und ich hatte in meinem Leben so viel geturnt und so viel spazieren gegangen. Und das sind alles Dinge - ich hab jetzt ne künstliche Hüfte - die kann ich zum Teil dann gar nicht mehr machen ja? Und da hab ich Angst. Angst dass der Körper nicht mehr mitmacht. Angst dass die andere Hüfte vielleicht noch kaputt geht. Also ich hab schon so meine Ängste. Angst dass ich meinen Sohn nicht gut behandel. Er macht ja nur Computer. Da hab ich Angst vor. Ich hab Angst vor Computern. Auch vor meinem Handy. Dass man sich irgendwas nicht zutraut. Oder das irgendwas außerhalb des eigenen Vermögens ist was man machen kann. Man kann manches halt nicht beeinflussen. Das ist son Selbstläufer. So wie mit der Hüfte auch zum Beispiel. Wir hatten nen Familienessen am Wochenende. Und meine Freundin die ich sehr selten sehe hat irgendwie sowas gesagt wie: Ja sie ist so jung und hat schon eine künstliche Hüfte. Das hab ich aber überhört. Das wollte ich nicht hören. Darauf bin ich gar nicht eingegangen. Ja Angst dass der Körper eben nicht mehr mitmacht. Das wär schlimm.  Ja weil ich ohnmächtig bin. Weil ich nichts machen kann. Weil der Körper hat halt seine Grenzen. Ich hab auch ein bisschen Angst dass ich mein Leben lang Psychopharmaka nehmen muss aber da würde ich mich jetzt schon einverstanden erklären. Da hab ich auch Angst vor. Meine Freundin ist ja Ärztin. Sie hat gesagt: Wir nehmen alle Tabletten . Hat sie gesagt bei dem Familienfest. Das will ich auch lieber überhören. Find ich nicht gut. Ich weiß nicht was sie für Tabletten nimmt. Mein Onkel nimmt irgendwelche Fettstoffänderungstabletten. Und meine kleine Tante hat eh ewig Schmerzen. Die muss immer Schmerzmittel nehmen. Und dann komm ich mit meinen Psychopharmaka. Angst. Ich hab auch ein bisschen Angst dass ich ewig mit diesen Zahnlücken rumlaufen muss. Das hätte ich früher nie gemacht.  Wut ist schwierig für mich. Wut ist sehr schwierig für mich. Die genehmige ich mir eigentlich nie. Einer meiner Mitbewohner will zum Beispiel dass wir dass wir vom Biobauern so Gemüsekisten kaufen ja. Und eigentlich hab ich da nicht die Bohne Lust drauf. Aber ich hab mich jetzt bisschen damit beschäftigt und würde jetzt sagen: Okay wenn ihr das alle machen wollt dann mache ich das auch mit. Aber eigentlich würde ich gerne sagen: Ach weißt du das ist mir so egal mit diesen Biokisten. So viel Gemüse. Weiß gar nicht ob wir das aufbrauchen können. Mh. Aber er ist relativ penetrant sodass ich eigentlich ein bisschen hätte sauer werden können. Aber ich hab mich nicht getraut.  Die Anderen auf Distanz halten. Sie nicht so an einen ranlassen. Und eben. Das ist schon ein ganz eigenes Interesse was man da verkörpert wenn man sauer ist. Sein Interesse wahrnehmen. Und das fällt mir schwer.  Weil er mir einfach zu penetrant ist. Der kommt immer wieder mit irgendwelchen geschriebenen Zetteln wo er irgendwas aufschlüsselt. Mh er hat mir so einen Flyer gegeben. Den hab ich auch brav mitgenommen. Ich wollte ihn eigentlich auch lesen. Aber ich hab ihn dann doch nicht gelesen. Also eigentlich interessiert mich das so wenig. Ich find s ja toll wenn man irgendwas mit Bio macht und so. Aber wie gesagt ich habe da grad überhaupt keine Lust drauf. Und der Mann der mit mir zusammen in der Wohnung wohnt der hat gleich gesagt: Kein Interesse. Dann hat der Person X gesagt der Das ging aber schnell hat er gesagt. Das ging aber schnell. Ich würd mir das auch mal wünschen dass ich das schaffen würde auch einfach zu sagen: Nö kein Interesse. Kein Interesse. Mh.  Ja ist so ein schönes Gefühl. Wann hatte ich denn Freude? Ach wenn die Leute mir jetzt sagen dass ich so viel besser aussehe oder dass ich auch. Ich hab meinen Betreuer heute angerufen. Der meinte auch: Sie klingen ja so gut. Hat er gesagt. Da freu ich mich. Ich glaub dass ich zu sehr extremen Gefühlen fähig sein kann. Also dass ich auch viel Freude empfinden kann. Ich glaub dass bei manchen das vielleicht nicht so doll ausschlägt. Bei mir schlägt es sehr doll aus: die Freude und die Angst und die Trauer.  Ist schon ein positives schönes Gefühl. Das Leben wird leichter. Ja. Ja was bedeutet das? Es beflügelt einfach wenn man Freude hat. Ich hab ja mal. Ich hab auch sehr gern gearbeitet. Das hat mir auch Freude gemacht mit den Menschen.  Weil ich so voll dabei war. Ich hab nicht an andere Sachen gedacht. Ich war absorbiert und ähm voll in der Arbeit drinne und das. Einfach dass man nicht andere Sachen noch denkt nebenher sondern nur die Sache die gerade ansteht. Und das bringt Freude. Mh. Ja. Ja.\n",
      "59_6M_manual_c  Wut. Ja. Wut ist ein Gefühl dass ich seit meiner Jugend peu á peu verloren habe eigentlich. Ähm ich war sehr wütend als Jugendlicher wenn Kleinigkeiten auftraten. Ich mag es aber nach wie vor nicht untergebuttert zu werden. Also wenn ja genau. Oder wenn jemand sich nicht konform verhält sag ich mal. Also ich habe ein sehr großes Raster wie sich die Leute verhalten sollten. Das ist schon sehr großzügig geschneidert. Aber wenn da jemand partout nicht reinpasst dann werde ich wütend.  Streit mit einer Partnerin zum Beispiel die sich im Ton vergreift. Oder handgreiflich wird.  Also in der damaligen Situation war es tatsächlich Schmerz dann körperlicher Schmerz. Und dann war ich von einer Sekunde auf die andere war ich hochtourig. Dann war ich auch richtig wütend nachher. Und ich glaube ich habe dann auch. Ja.  Angst ähm. Angst habe ich eigentlich nicht großartig. Naja doch: Angst zu enttäuschen Angst allein zu sein sowas. Das ist ja ist nicht schön. So sorgenerfüllt zu sein ängstlich zu sein das ist beklemmend unfrei. Das bin nicht ich.  Ja jetzt erst in der Region S ist meine Frau fast ums Leben gekommen als wir wandern waren. War eine schwierige Passage mit so Steigbügeln im Felsen wo man mit beiden Füßen draufgehen musste. Musste sich an so einer Kette am Fels lang hangeln. Und sie ist fast abgerutscht. Es hat geregnet vorher. Und ist fast 15 Meter runter auf den Felsen geschlagen. Da hatte ich Angst um sie. Da hatte ich eben Angst um sie. Da habe ich ganz ganz schnell reagiert. Und hab sie versucht zu stützen.  Traurigkeit. Ohje ja schlimm. Ich war immer traurig wenn ich von einem Mädchen enttäuscht wurde irgendwie. Sonst eigentlich kein Kind von Traurigkeit. Aber in Beziehungen manchmal wenn man dann enttäuscht. Und dann war ich schon sehr depressiv direkt. Und ja das vergisst man lieber.  Ja als ich hierher gezogen bin nach Stadt X. Meine damalige Partnerin hat mich hier alleine sitzen lassen. Die wollte halt nicht mitziehen. Das war ich sehr enttäuscht. Und fand mich alleine in Stadt B isoliert. Und hatte dann schweren Liebeskummer. Und habe nicht verstanden warum sie mich alleingelassen hat.  Freude. Freude hat bei mir immer zu tun irgendwie mit anderen Menschen. Wenn ich Freude teile dann ist sie besonders schön. Und ähm ja. Das ist das was ich mir immer wünsche.  Jetzt auch mit meiner Frau im Urlaub oder so. Und wir waren eine ganz gut Truppe und waren nette Leute auch dabei Freunde von ihr in Land S. Und ähm das war nett. So ein Zusammensein mit Leuten die man gerne mag.\n",
      "64_6M_manual_c  Irgendwas in der Vergangenheit falsch gemacht zu haben was wohl nicht mehr rückgängig zu machen ist.  Vielleicht der Verlust eines Menschen der einem nahe steht.  In dem Fall weil in dem Fall einem bewusst wird ähm dass es für jeden irgendwann einmal zu Ende geht genau.  Angst bedeutet für mich schwierig zu sagen eher etwas was von außen zugeführt wird das nicht von mir kommt von meinem Inneren sondern eher von außen.  Kann ich mich nicht dran erinnern also. Das letzte Mal Angst ja nämlich im Maßregelvollzug. Ich war nämlich im Maßregelvollzug bis 2011. Da hatte ich Angst gehabt genau.  Weil sich da ein körperlicher ein psychischer ein nervlicher Zustand ergab immer wieder der nicht abzustellen war und der geradezu unerträglich war.  Wut bedeutet für mich etwas ähm was die Lebensqualität eher äh mindert. Etwas Überflüssiges.  Zum Beispiel in meinem Fall diese Stimmen die einen belasten ähm die einen so sehr belasten dass man sich ja auf die alltäglichen Verrichtungen gar nicht konzentrieren kann. Und dann passiert irgendwie ein Missgeschick und ja. Da könnte man eventuell sogar wütend werden.  Ja genau sogar in meinem Fall. Das geht glaube ich jeder Person die äh in meiner Situation wäre weil es ist ziemlich nervenaufreibend weil man kann sich dann auf irgendwelche Sachen gar nicht konzentrieren. Dann passiert einem ein Missgeschick. Und das ist echt nervenaufreibend.  Freude bedeutet für mich dass ich äh mich physisch als auch psychisch so fühle wie es in meinem Naturell eigentlich entspricht. Das Gefühl habe dass ich irgendwie keine Fremdenergie in mir fühle eher etwas dass mir von mir selber kommt äh. Also das heißt die inneren Schwingungen sind äh ziemlich anregend sehr sozusagen. Man befindet sich sozusagen im Flow. Dann würde ich Freude empfinden genau.  Äh vor allem bei mir ist es meistens der Fall wenn ich mich sportlich betätige weil ich mich dann körperlich und auch mental besser fühle. Äh je nach Leistungszustand auch sehr viel besser. Dann empfindet man so etwas wie Freude genau. Ich zumindest.  Ja und zwar aufgrund des Kontrastes. Vorher nachher. Ähm Kontrast ist der falsche Ausdruck. Der Unterschied die Differenz zwischen vor und nachher ist der Zustand körperlich und äh vor allem mental verbessert sich eventuell sogar in einem kurzen Zeitraum ziemlich enorm. Und durch diesen verbesserten Zustand empfinde würde ich zum Beispiel Freude empfinden.\n"
     ]
    }
   ],
   "source": [
    "for i, x in df['preprocessed_transcript'].items():\n",
    "    print(i, x)"
   ]
  },
  {
   "cell_type": "code",
   "execution_count": null,
   "metadata": {
    "colab": {
     "background_save": true
    },
    "id": "cYqWF2FtEkSG"
   },
   "outputs": [],
   "source": [
    "for_pd = []\n",
    "for i, d in newrows.items():\n",
    "    d_p = {'index' : i}\n",
    "    for dd in d.values():\n",
    "        d_p.update(dd)\n",
    "    for_pd.append(d_p)\n",
    "new_df = pd.DataFrame(for_pd)"
   ]
  },
  {
   "cell_type": "code",
   "execution_count": null,
   "metadata": {
    "colab": {
     "background_save": true
    },
    "id": "SYojzU_HE7OW",
    "outputId": "c8bb9e45-6efe-4775-fd35-25aa83d1f443"
   },
   "outputs": [],
   "source": [
    "new_df.head()"
   ]
  },
  {
   "cell_type": "code",
   "execution_count": null,
   "metadata": {},
   "outputs": [],
   "source": [
    "with open('NET_NAP_new_.tsv', 'w') as f:\n",
    "    f.write(new_df.to_csv(index=False, sep='\\t'))"
   ]
  }
 ],
 "metadata": {
  "colab": {
   "collapsed_sections": [
    "k1beNnkdfT6r",
    "EvcR2em_2P7o"
   ],
   "provenance": []
  },
  "kernelspec": {
   "display_name": "Python 3 (ipykernel)",
   "language": "python",
   "name": "python3"
  },
  "language_info": {
   "codemirror_mode": {
    "name": "ipython",
    "version": 3
   },
   "file_extension": ".py",
   "mimetype": "text/x-python",
   "name": "python",
   "nbconvert_exporter": "python",
   "pygments_lexer": "ipython3",
   "version": "3.9.7"
  }
 },
 "nbformat": 4,
 "nbformat_minor": 1
}
