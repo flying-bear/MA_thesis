{
 "cells": [
  {
   "cell_type": "code",
   "execution_count": null,
   "id": "61d47f27",
   "metadata": {},
   "outputs": [],
   "source": [
    "!pip install plotly"
   ]
  },
  {
   "cell_type": "code",
   "execution_count": null,
   "id": "d313b8fa",
   "metadata": {},
   "outputs": [],
   "source": [
    "import plotly.express as px"
   ]
  },
  {
   "cell_type": "code",
   "execution_count": null,
   "id": "100e479a",
   "metadata": {},
   "outputs": [],
   "source": [
    "import numpy as np\n",
    "import matplotlib.pyplot as plt\n",
    "import pandas as pd\n",
    "import seaborn as sns\n",
    "import statsmodels.api as sm\n",
    "import random\n",
    "\n",
    "\n",
    "from random import choices\n",
    "from scipy import stats\n",
    "from tqdm.notebook import tqdm"
   ]
  },
  {
   "cell_type": "code",
   "execution_count": null,
   "id": "c349a281",
   "metadata": {},
   "outputs": [],
   "source": [
    "from jupyter_utils import mean_std, display_test, display_group_test, scatter_annotate, show_corrtest_mask_corr\n",
    "from ortogonolize_utils import draw_scatter, draw_corrected_scatter\n",
    "from ortogonolize_utils import compute_coefficient, compute_ortogonolized_coefficient, compute_ortogonolized_logit"
   ]
  },
  {
   "cell_type": "code",
   "execution_count": null,
   "id": "84f21818",
   "metadata": {},
   "outputs": [],
   "source": [
    "import warnings\n",
    "warnings.filterwarnings(action=\"ignore\", category=np.VisibleDeprecationWarning)\n",
    "warnings.filterwarnings(action='ignore', message='All-NaN slice encountered')\n",
    "warnings.filterwarnings(action='ignore', message='Precision loss occurred in moment calculation due to catastrophic cancellation. This occurs when the data are nearly identical. Results may be unreliable.')\n",
    "warnings.filterwarnings(action='ignore', message='Mean of empty slice')"
   ]
  },
  {
   "cell_type": "code",
   "execution_count": null,
   "id": "e3959181",
   "metadata": {},
   "outputs": [],
   "source": [
    "PATH = '/Users/galina.ryazanskaya/Downloads/thesis?/code?/transcripts_NET/'"
   ]
  },
  {
   "cell_type": "markdown",
   "id": "780b6acd",
   "metadata": {},
   "source": [
    "# Patients"
   ]
  },
  {
   "cell_type": "code",
   "execution_count": null,
   "id": "3ac3c3c0",
   "metadata": {},
   "outputs": [],
   "source": [
    "df = pd.read_excel(PATH +'NAP/GR_all6M_MPP.xlsx', index_col=0, na_values=[' ', '', -99.0])\n",
    "df = df[df.index.notnull()].drop(columns=['Unnamed: 98', 'Unnamed: 99'])"
   ]
  },
  {
   "cell_type": "code",
   "execution_count": null,
   "id": "bb54f7a8",
   "metadata": {},
   "outputs": [],
   "source": [
    "# total positve ftd - saps34; total alogia - sans12\n",
    "# sex_nr - female = 1, male = 0\n",
    "# ausja_bl = education years at baseline (i.e. 6 months before the NET interview)\n",
    "# pa - panss\n",
    "\n",
    "# df.columns"
   ]
  },
  {
   "cell_type": "code",
   "execution_count": null,
   "id": "fc9a3525",
   "metadata": {},
   "outputs": [],
   "source": [
    "# print(*enumerate('PANSS P1\tPANSS P2\tPANSS P3\tPANSS P4\tPANSS P5\tPANSS P6\tPANSS P7\tPANSS N1\tPANSS N2\tPANSS N3\tPANSS N4\tPANSS N5\tPANSS N6\tPANSS N7\tPANSS O1\tPANSS O2\tPANSS O3\tPANSS O4\tPANSS O5\tPANSS O6\tPANSS O7\tPANSS O8\tPANSS 09\tPANSS O10\tPANSS O11\tPANSS O12\tPANSS O13\tPANSS O14\tPANSS O15\tPANSS 016'.split('\\t')))"
   ]
  },
  {
   "cell_type": "code",
   "execution_count": null,
   "id": "24a68c49",
   "metadata": {},
   "outputs": [],
   "source": [
    "df['panss_pos'] = df[['pa_01', 'pa_02', 'pa_03', 'pa_04', 'pa_05', 'pa_06', 'pa_07']].sum(axis=1)\n",
    "df['panss_neg'] = df[['pa_08', 'pa_09', 'pa_10', 'pa_11', 'pa_12', 'pa_13', 'pa_14', 'pa_15']].sum(axis=1)\n",
    "df['panss_o'] = df[['pa_16', 'pa_17', 'pa_18', 'pa_19', 'pa_20', 'pa_21', 'pa_22', 'pa_23', 'pa_24', 'pa_25', 'pa_26', 'pa_27', 'pa_28', 'pa_29', 'pa_30']].sum(axis=1)\n",
    "df['panss_total'] = df[['panss_pos', 'panss_neg', 'panss_o']].sum(axis=1)\n",
    "df['saps_total'] = df[['saps1', 'saps2', 'saps3', 'saps4', 'saps5', 'saps6', 'saps7', 'saps8', 'saps9', 'saps10', 'saps11', 'saps12', 'saps13', 'saps14', 'saps15', 'saps16', 'saps17', 'saps18', 'saps19', 'saps20', 'saps21', 'saps22', 'saps23', 'saps24', 'saps25', 'saps26', 'saps27', 'saps28', 'saps29', 'saps30', 'saps31', 'saps32', 'saps33', 'saps34', 'saps35']].sum(axis=1)\n",
    "df['sans_total'] =  df[['sans1', 'sans2', 'sans3', 'sans4', 'sans5', 'sans6', 'sans7', 'sans8', 'sans9', 'sans10', 'sans11', 'sans12', 'sans13', 'sans14', 'sans15', 'sans16', 'sans17', 'sans18', 'sans19', 'sans20', 'sans21', 'sans22', 'sans23', 'sans24']].sum(axis=1)"
   ]
  },
  {
   "cell_type": "markdown",
   "id": "b888b181",
   "metadata": {},
   "source": [
    "#### Filter out only the patients there are transcripts for"
   ]
  },
  {
   "cell_type": "code",
   "execution_count": null,
   "id": "e9cf5a79",
   "metadata": {},
   "outputs": [],
   "source": [
    "# df.index"
   ]
  },
  {
   "cell_type": "code",
   "execution_count": null,
   "id": "7389e426",
   "metadata": {},
   "outputs": [],
   "source": [
    "df.index.rename('ID', inplace=True)"
   ]
  },
  {
   "cell_type": "code",
   "execution_count": null,
   "id": "cbe1f6c9",
   "metadata": {},
   "outputs": [],
   "source": [
    "res = pd.read_csv('/Users/galina.ryazanskaya/Downloads/thesis?/code?/processed_values/new/de_patients.tsv', sep='\\t', index_col=0, header=[0, 1, 2])"
   ]
  },
  {
   "cell_type": "code",
   "execution_count": null,
   "id": "aea037f7",
   "metadata": {},
   "outputs": [],
   "source": [
    "res.dropna(how='all', inplace=True)"
   ]
  },
  {
   "cell_type": "code",
   "execution_count": null,
   "id": "df7a5aaf",
   "metadata": {},
   "outputs": [],
   "source": [
    "idxs = sorted([x.replace('_6M_manual_c', '') for x in res.index])\n",
    "idxs = ['MPP_0' + i if len(i) > 1 else 'MPP_00' + i for i in idxs]"
   ]
  },
  {
   "cell_type": "code",
   "execution_count": null,
   "id": "c46ba12d",
   "metadata": {},
   "outputs": [],
   "source": [
    "res.index = ['MPP_0' + i if len(i) > 1 else 'MPP_00' + i for i in [x.replace('_6M_manual_c', '') for x in res.index]]\n",
    "res.index.rename('ID', inplace=True)"
   ]
  },
  {
   "cell_type": "code",
   "execution_count": null,
   "id": "76b40b0b",
   "metadata": {},
   "outputs": [],
   "source": [
    "set(idxs).difference(set(df.index))"
   ]
  },
  {
   "cell_type": "code",
   "execution_count": null,
   "id": "34e241bf",
   "metadata": {},
   "outputs": [],
   "source": [
    "df = df.loc[idxs]"
   ]
  },
  {
   "cell_type": "markdown",
   "id": "36259076",
   "metadata": {},
   "source": [
    "#### Look at descriptitve stats"
   ]
  },
  {
   "cell_type": "code",
   "execution_count": null,
   "id": "f5e66aab",
   "metadata": {},
   "outputs": [],
   "source": [
    "cols = ['age', 'sex_nr', 'Bildungsjahre', 'IQ_kristallin', 'saps34', 'saps_total', 'sans_total', 'sans12', 'panss_pos', 'panss_neg', 'panss_o', 'panss_total']"
   ]
  },
  {
   "cell_type": "code",
   "execution_count": null,
   "id": "8c6d284e",
   "metadata": {},
   "outputs": [],
   "source": [
    "df[cols].count()"
   ]
  },
  {
   "cell_type": "code",
   "execution_count": null,
   "id": "cbfd4f2c",
   "metadata": {},
   "outputs": [],
   "source": [
    "mean_std(df, cols)"
   ]
  },
  {
   "cell_type": "code",
   "execution_count": null,
   "id": "6a84a8e7",
   "metadata": {},
   "outputs": [],
   "source": [
    "mean_std(df, cols, 'sex_nr')"
   ]
  },
  {
   "cell_type": "code",
   "execution_count": null,
   "id": "af4c85a3",
   "metadata": {},
   "outputs": [],
   "source": [
    "df.groupby('sex_nr').count()"
   ]
  },
  {
   "cell_type": "code",
   "execution_count": null,
   "id": "6e24874e",
   "metadata": {},
   "outputs": [],
   "source": [
    "df.age.hist();"
   ]
  },
  {
   "cell_type": "markdown",
   "id": "3128c1b0",
   "metadata": {},
   "source": [
    "# Healthy controls"
   ]
  },
  {
   "cell_type": "code",
   "execution_count": null,
   "id": "d62d5776",
   "metadata": {},
   "outputs": [],
   "source": [
    "df_hc = pd.read_csv(PATH + 'HC/NET_HC.csv', index_col=0, na_values=[' ', ''])"
   ]
  },
  {
   "cell_type": "code",
   "execution_count": null,
   "id": "f7478343",
   "metadata": {},
   "outputs": [],
   "source": [
    "df_hc.columns"
   ]
  },
  {
   "cell_type": "markdown",
   "id": "88d70c5e",
   "metadata": {},
   "source": [
    "#### Look up descriptive stats"
   ]
  },
  {
   "cell_type": "code",
   "execution_count": null,
   "id": "9455fdbe",
   "metadata": {},
   "outputs": [],
   "source": [
    "df_hc.count()"
   ]
  },
  {
   "cell_type": "code",
   "execution_count": null,
   "id": "096447dc",
   "metadata": {},
   "outputs": [],
   "source": [
    "mean_std(df_hc, ['age', 'Bildungsjahre'])"
   ]
  },
  {
   "cell_type": "code",
   "execution_count": null,
   "id": "37fa2f3b",
   "metadata": {},
   "outputs": [],
   "source": [
    "mean_std(df_hc, ['age', 'Bildungsjahre'], 'sex_nr')"
   ]
  },
  {
   "cell_type": "code",
   "execution_count": null,
   "id": "1fef018e",
   "metadata": {},
   "outputs": [],
   "source": [
    "df_hc.groupby('sex_nr').count()"
   ]
  },
  {
   "cell_type": "code",
   "execution_count": null,
   "id": "21fe7f3a",
   "metadata": {},
   "outputs": [],
   "source": [
    "# df_hc.index"
   ]
  },
  {
   "cell_type": "markdown",
   "id": "f59fea17",
   "metadata": {},
   "source": [
    "#### Check that all the transcripts are availble"
   ]
  },
  {
   "cell_type": "code",
   "execution_count": null,
   "id": "87d3f3d7",
   "metadata": {},
   "outputs": [],
   "source": [
    "res_hc =  pd.read_csv('/Users/galina.ryazanskaya/Downloads/thesis?/code?/processed_values/new/de_HC.tsv', sep='\\t', index_col=0, header=[0, 1, 2])"
   ]
  },
  {
   "cell_type": "code",
   "execution_count": null,
   "id": "741c97e2",
   "metadata": {},
   "outputs": [],
   "source": [
    "idxs_HC = sorted([x.replace('_c', '').replace('NET_', '')  for x in res_hc.index])"
   ]
  },
  {
   "cell_type": "code",
   "execution_count": null,
   "id": "39116c50",
   "metadata": {},
   "outputs": [],
   "source": [
    "set(idxs_HC).difference(set(df_hc.index))"
   ]
  },
  {
   "cell_type": "code",
   "execution_count": null,
   "id": "8dda3ae6",
   "metadata": {},
   "outputs": [],
   "source": [
    "df_hc = df_hc.loc[idxs_HC]"
   ]
  },
  {
   "cell_type": "code",
   "execution_count": null,
   "id": "aa8d345f",
   "metadata": {},
   "outputs": [],
   "source": [
    "df_hc.index.rename('ID', inplace=True)"
   ]
  },
  {
   "cell_type": "code",
   "execution_count": null,
   "id": "84132b46",
   "metadata": {},
   "outputs": [],
   "source": [
    "res_hc.index = [x.replace('_c', '').replace('NET_', '')  for x in res_hc.index]\n",
    "res_hc.index.rename('ID', inplace=True)"
   ]
  },
  {
   "cell_type": "code",
   "execution_count": null,
   "id": "9fee3370",
   "metadata": {},
   "outputs": [],
   "source": [
    "merged_hc = df_hc.merge(res_hc['averaged'], on='ID', how='outer')\n",
    "corr_hc = merged_hc.corr()"
   ]
  },
  {
   "cell_type": "markdown",
   "id": "011bc6cd",
   "metadata": {},
   "source": [
    "#### Fill NA in syntactic (percentage of unused POS should be zero, not NA)"
   ]
  },
  {
   "cell_type": "code",
   "execution_count": null,
   "id": "1b205e77",
   "metadata": {},
   "outputs": [],
   "source": [
    "cols_LM = [col for col in merged_hc if col[0] == 'LM']\n",
    "cols_synt = [col for col in merged_hc if col[0] == 'syntactic']\n",
    "cols_lex = [col for col in merged_hc if col[0] == 'lexical']\n",
    "cols_graph = [col for col in merged_hc if col[0] == 'graph']"
   ]
  },
  {
   "cell_type": "code",
   "execution_count": null,
   "id": "8fc9ed7e",
   "metadata": {},
   "outputs": [],
   "source": [
    "pos = set([x[1] for x in cols_synt if x[1].isupper()])"
   ]
  },
  {
   "cell_type": "code",
   "execution_count": null,
   "id": "de4155bf",
   "metadata": {},
   "outputs": [],
   "source": [
    "pos.difference(set(('ADJ', 'ADV', 'AUX', 'CCONJ', 'DET','NOUN', 'PRON', 'PROPN', 'SCONJ', 'VERB', 'PART')))"
   ]
  },
  {
   "cell_type": "code",
   "execution_count": null,
   "id": "0be17646",
   "metadata": {},
   "outputs": [],
   "source": [
    "POS_to_use = ('ADJ', 'ADV', 'AUX', 'CCONJ', 'DET','NOUN', 'PRON', 'PROPN', 'SCONJ', 'VERB', 'PART')"
   ]
  },
  {
   "cell_type": "code",
   "execution_count": null,
   "id": "b25acb8d",
   "metadata": {},
   "outputs": [],
   "source": [
    "s = merged_hc[cols_synt].isna().any()\n",
    "s[s].index"
   ]
  },
  {
   "cell_type": "code",
   "execution_count": null,
   "id": "33fdc145",
   "metadata": {
    "scrolled": true
   },
   "outputs": [],
   "source": [
    "# merged_hc[s[s].index][merged_hc[cols_synt].isna().any(axis=1)]"
   ]
  },
  {
   "cell_type": "code",
   "execution_count": null,
   "id": "a65609b6",
   "metadata": {},
   "outputs": [],
   "source": [
    "merged_hc[s[s].index] = merged_hc[s[s].index].fillna(0.0)"
   ]
  },
  {
   "cell_type": "code",
   "execution_count": null,
   "id": "9eee562b",
   "metadata": {},
   "outputs": [],
   "source": [
    "merged_hc.drop(columns=[c for c in cols_synt if c[1].isupper() and c[1] not in POS_to_use], inplace=True)"
   ]
  },
  {
   "cell_type": "code",
   "execution_count": null,
   "id": "8a9635c9",
   "metadata": {},
   "outputs": [],
   "source": [
    "cols_synt = [col for col in merged_hc if col[0] == 'syntactic']\n",
    "cols_av = cols_synt + cols_LM + cols_lex + cols_graph"
   ]
  },
  {
   "cell_type": "markdown",
   "id": "0b86e87e",
   "metadata": {},
   "source": [
    "### Analyze the effects of age in healthy controls"
   ]
  },
  {
   "cell_type": "code",
   "execution_count": null,
   "id": "66ed9523",
   "metadata": {
    "scrolled": true
   },
   "outputs": [],
   "source": [
    "df_hc.age.hist();"
   ]
  },
  {
   "cell_type": "code",
   "execution_count": null,
   "id": "b5528936",
   "metadata": {},
   "outputs": [],
   "source": [
    "df_hc[df_hc.age > 60]"
   ]
  },
  {
   "cell_type": "code",
   "execution_count": null,
   "id": "553d864b",
   "metadata": {},
   "outputs": [],
   "source": [
    "corr_hc[abs(corr_hc['age']) > 0.3]['age']"
   ]
  },
  {
   "cell_type": "code",
   "execution_count": null,
   "id": "72ac4b82",
   "metadata": {},
   "outputs": [],
   "source": [
    "corr_hc[abs(corr_hc['age']) > 0.3].index"
   ]
  },
  {
   "cell_type": "code",
   "execution_count": null,
   "id": "00cc7e50",
   "metadata": {},
   "outputs": [],
   "source": [
    "merged_hc.plot.scatter('age', ('syntactic', 'PRON'));"
   ]
  },
  {
   "cell_type": "code",
   "execution_count": null,
   "id": "41ad8e7d",
   "metadata": {},
   "outputs": [],
   "source": [
    "merged_hc.plot.scatter('age', ('syntactic', 'AUX'));"
   ]
  },
  {
   "cell_type": "code",
   "execution_count": null,
   "id": "3a342b48",
   "metadata": {},
   "outputs": [],
   "source": [
    "merged_hc.plot.scatter('age', ('graph', 'degree_std'));"
   ]
  },
  {
   "cell_type": "code",
   "execution_count": null,
   "id": "a0e613f3",
   "metadata": {},
   "outputs": [],
   "source": [
    "merged_hc.plot.scatter('age', ('syntactic', 'VERB'));"
   ]
  },
  {
   "cell_type": "code",
   "execution_count": null,
   "id": "d69aeb4a",
   "metadata": {},
   "outputs": [],
   "source": [
    "corr_hc[abs(corr_hc['age']) > 0.5].index"
   ]
  },
  {
   "cell_type": "markdown",
   "id": "93c67812",
   "metadata": {},
   "source": [
    "### Analyze the effects of education years in healthy controls"
   ]
  },
  {
   "cell_type": "code",
   "execution_count": null,
   "id": "5d2583f3",
   "metadata": {},
   "outputs": [],
   "source": [
    "corr_hc[abs(corr_hc['Bildungsjahre']) > 0.3].index"
   ]
  },
  {
   "cell_type": "code",
   "execution_count": null,
   "id": "63155489",
   "metadata": {},
   "outputs": [],
   "source": [
    "corr_hc[abs(corr_hc['Bildungsjahre']) > 0.5].index"
   ]
  },
  {
   "cell_type": "code",
   "execution_count": null,
   "id": "3a0b63f6",
   "metadata": {},
   "outputs": [],
   "source": [
    "merged_hc.plot.scatter('Bildungsjahre', ('LM', 'm_scoh'));"
   ]
  },
  {
   "cell_type": "code",
   "execution_count": null,
   "id": "a1b193a7",
   "metadata": {},
   "outputs": [],
   "source": [
    "stats.pearsonr(corr_hc['Bildungsjahre'], corr_hc[('syntactic', 'std_sent_len')])"
   ]
  },
  {
   "cell_type": "code",
   "execution_count": null,
   "id": "147bcb1d",
   "metadata": {},
   "outputs": [],
   "source": [
    "merged_hc.plot.scatter('Bildungsjahre', ('syntactic', 'std_sent_len'));"
   ]
  },
  {
   "cell_type": "markdown",
   "id": "a3356b0c",
   "metadata": {},
   "source": [
    "### Analyze the effects of sentence length in healthy controls"
   ]
  },
  {
   "cell_type": "code",
   "execution_count": null,
   "id": "5f68c7c9",
   "metadata": {},
   "outputs": [],
   "source": [
    "merged_hc[('syntactic', 'mean_sent_len')].plot.hist();"
   ]
  },
  {
   "cell_type": "code",
   "execution_count": null,
   "id": "4e029aec",
   "metadata": {},
   "outputs": [],
   "source": [
    "corr_hc[abs(corr_hc[('syntactic', 'mean_sent_len')]) > 0.3].index"
   ]
  },
  {
   "cell_type": "code",
   "execution_count": null,
   "id": "609a734b",
   "metadata": {},
   "outputs": [],
   "source": [
    "corr_hc[abs(corr_hc[('syntactic', 'mean_sent_len')]) > 0.5].index"
   ]
  },
  {
   "cell_type": "code",
   "execution_count": null,
   "id": "124bb028",
   "metadata": {},
   "outputs": [],
   "source": [
    "corr_hc[abs(corr_hc[('syntactic', 'mean_sent_len')]) > 0.6].index"
   ]
  },
  {
   "cell_type": "code",
   "execution_count": null,
   "id": "a9761e51",
   "metadata": {},
   "outputs": [],
   "source": [
    "corr_hc.loc[corr_hc[abs(corr_hc[('syntactic', 'mean_sent_len')]) > 0.6].index][('syntactic', 'mean_sent_len')].sort_values(key=lambda x: abs(x), ascending=False)"
   ]
  },
  {
   "cell_type": "code",
   "execution_count": null,
   "id": "c214ec93",
   "metadata": {},
   "outputs": [],
   "source": [
    "merged_hc[merged_hc[('syntactic', 'mean_sent_len')] < 24].plot.scatter(('syntactic', 'mean_sent_len'), ('syntactic', 'AUX'));"
   ]
  },
  {
   "cell_type": "code",
   "execution_count": null,
   "id": "9eca69b2",
   "metadata": {},
   "outputs": [],
   "source": [
    "merged_hc[merged_hc[('syntactic', 'mean_sent_len')] < 24].plot.scatter(('syntactic', 'mean_sent_len'), ('LM', 'm_scoh'));"
   ]
  },
  {
   "cell_type": "code",
   "execution_count": null,
   "id": "6ab153e4",
   "metadata": {},
   "outputs": [],
   "source": [
    "merged_hc[merged_hc[('syntactic', 'mean_sent_len')] < 24].plot.scatter(('syntactic', 'mean_sent_len'), ('LM', 'm_cgcoh'));"
   ]
  },
  {
   "cell_type": "code",
   "execution_count": null,
   "id": "5cda6d11",
   "metadata": {},
   "outputs": [],
   "source": [
    "merged_hc[merged_hc[('syntactic', 'mean_sent_len')] < 24].plot.scatter(('syntactic', 'mean_sent_len'), ('LM', 'm_gcoh'));"
   ]
  },
  {
   "cell_type": "code",
   "execution_count": null,
   "id": "cd55f1b2",
   "metadata": {},
   "outputs": [],
   "source": [
    "merged_hc[merged_hc[('syntactic', 'mean_sent_len')] < 24].plot.scatter(('syntactic', 'mean_sent_len'), ('LM', 'm_lcoh'));"
   ]
  },
  {
   "cell_type": "markdown",
   "id": "4369d622",
   "metadata": {},
   "source": [
    "# Merge control and patient data"
   ]
  },
  {
   "cell_type": "code",
   "execution_count": null,
   "id": "79c2c97e",
   "metadata": {},
   "outputs": [],
   "source": [
    "df['group'] = 1\n",
    "df_hc['group'] = 0\n",
    "compare_groups = pd.concat([df[cols + ['group']], df_hc], axis=0)"
   ]
  },
  {
   "cell_type": "code",
   "execution_count": null,
   "id": "99cdbf6b",
   "metadata": {},
   "outputs": [],
   "source": [
    "compare_groups.groupby(['group']).count()"
   ]
  },
  {
   "cell_type": "code",
   "execution_count": null,
   "id": "f450794d",
   "metadata": {
    "scrolled": true
   },
   "outputs": [],
   "source": [
    "mean_std(compare_groups, ['age', 'Bildungsjahre'], 'group')\n"
   ]
  },
  {
   "cell_type": "code",
   "execution_count": null,
   "id": "4d8afe4a",
   "metadata": {},
   "outputs": [],
   "source": [
    "sns.histplot(compare_groups['saps_total']);"
   ]
  },
  {
   "cell_type": "code",
   "execution_count": null,
   "id": "cca7d131",
   "metadata": {},
   "outputs": [],
   "source": [
    "sns.histplot(compare_groups['sans_total']);"
   ]
  },
  {
   "cell_type": "code",
   "execution_count": null,
   "id": "f80fb906",
   "metadata": {
    "scrolled": true
   },
   "outputs": [],
   "source": [
    "stats.ttest_ind(df['age'], df_hc['age']).pvalue"
   ]
  },
  {
   "cell_type": "code",
   "execution_count": null,
   "id": "4be274e6",
   "metadata": {
    "scrolled": true
   },
   "outputs": [],
   "source": [
    "stats.ttest_ind(df['Bildungsjahre'], df_hc['Bildungsjahre'], nan_policy='omit').pvalue"
   ]
  },
  {
   "cell_type": "code",
   "execution_count": null,
   "id": "3e6a30d9",
   "metadata": {},
   "outputs": [],
   "source": [
    "combined_data_averaged = compare_groups.merge(pd.concat([res['averaged'], res_hc['averaged']], axis=0), on='ID', how='outer')"
   ]
  },
  {
   "cell_type": "markdown",
   "id": "2a70de19",
   "metadata": {},
   "source": [
    "### Fill NA in syntactic  (percentage of unused POS should be zero, not NA)"
   ]
  },
  {
   "cell_type": "code",
   "execution_count": null,
   "id": "28d3819e",
   "metadata": {},
   "outputs": [],
   "source": [
    "s = combined_data_averaged[cols_synt].isna().any()\n",
    "s[s].index"
   ]
  },
  {
   "cell_type": "code",
   "execution_count": null,
   "id": "fafcc135",
   "metadata": {},
   "outputs": [],
   "source": [
    "# combined_data_averaged[s[s].index][combined_data_averaged[cols_synt].isna().any(axis=1)]"
   ]
  },
  {
   "cell_type": "code",
   "execution_count": null,
   "id": "4544e98b",
   "metadata": {},
   "outputs": [],
   "source": [
    "combined_data_averaged[s[s].index] = combined_data_averaged[s[s].index].fillna(0.0)"
   ]
  },
  {
   "cell_type": "code",
   "execution_count": null,
   "id": "1545520f",
   "metadata": {},
   "outputs": [],
   "source": [
    "# combined_data_averaged.columns"
   ]
  },
  {
   "cell_type": "markdown",
   "id": "7a07d92e",
   "metadata": {},
   "source": [
    "# Analyze the differences in control factors"
   ]
  },
  {
   "cell_type": "code",
   "execution_count": null,
   "id": "f27f1968",
   "metadata": {},
   "outputs": [],
   "source": [
    "clinical_cols = ['age',\n",
    " 'Bildungsjahre',\n",
    " 'IQ_kristallin',\n",
    " 'saps34',\n",
    " 'saps_total',\n",
    " 'sans_total',\n",
    " 'sans12',\n",
    " 'panss_pos',\n",
    " 'panss_neg',\n",
    " 'panss_o',\n",
    " 'panss_total']"
   ]
  },
  {
   "cell_type": "code",
   "execution_count": null,
   "id": "18aab735",
   "metadata": {},
   "outputs": [],
   "source": [
    "# cols_av = [('LM', 'm_lcoh'), ('LM', 'm_gcoh'), ('LM', 'm_cgcoh'), ('LM', 'm_scoh'), ('LM', 'm_sporb'), ('LM', 'm_bert_lcoh'), ('LM', 'm_bert_gcoh'), ('LM', 'm_bert_cgcoh'), ('LM', 'm_bert_scoh'),\n",
    "#            ('syntactic', 'n_sents'), ('syntactic', 'mean_sent_len'), ('syntactic', 'std_sent_len'), ('syntactic', 'min_sent_len'), ('syntactic', 'max_sent_len'), ('syntactic', 'SPACE'), ('syntactic', 'NOUN'), ('syntactic', 'X'), ('syntactic', 'PUNCT'), ('syntactic', 'VERB'), ('syntactic', 'ADV'), ('syntactic', 'ADP'), ('syntactic', 'ADJ'), ('syntactic', 'CCONJ'), ('syntactic', 'PRON'),\n",
    "#            ('syntactic', 'DET'), ('syntactic', 'AUX'), ('syntactic', 'PROPN'), ('syntactic', 'PART'), ('syntactic', 'SCONJ'), ('syntactic', 'INTJ'), ('syntactic', 'NUM'),\n",
    "#            ('lexical', 'n_words'), ('lexical', 'LTR'), ('lexical', 'MALTR'),\n",
    "#            ('graph', 'number_of_nodes'), ('graph', 'number_of_edges'), ('graph', 'PE'), ('graph', 'LCC'), ('graph', 'LSC'), ('graph', 'degree_average'), ('graph', 'degree_std'), ('graph', 'L1'), ('graph', 'L2'), ('graph', 'L3')\n",
    "#           ]"
   ]
  },
  {
   "cell_type": "markdown",
   "id": "228361fd",
   "metadata": {},
   "source": [
    "### Group difference for sex (absent)"
   ]
  },
  {
   "cell_type": "code",
   "execution_count": null,
   "id": "bcfd058c",
   "metadata": {},
   "outputs": [],
   "source": [
    "a = 0.001\n",
    "s_t_sex, res_t_sex = display_group_test(combined_data_averaged, clinical_cols, 'sex_nr', stats.ttest_ind, stat_name='t', alpha=a)\n",
    "s_t_sex"
   ]
  },
  {
   "cell_type": "code",
   "execution_count": null,
   "id": "8f374b83",
   "metadata": {},
   "outputs": [],
   "source": [
    "s_t_sex, res_t_sex = display_group_test(combined_data_averaged, cols_av, 'sex_nr', stats.ttest_ind, stat_name='t', alpha=a)\n",
    "s_t_sex"
   ]
  },
  {
   "cell_type": "markdown",
   "id": "a14117ed",
   "metadata": {},
   "source": [
    "### Correlative difference for age, education years, and IQ (absent)"
   ]
  },
  {
   "cell_type": "code",
   "execution_count": null,
   "id": "1e717aaa",
   "metadata": {},
   "outputs": [],
   "source": [
    "x, y = display_test(combined_data_averaged, cols_av, 'age', stats.pearsonr, stat_name='r', alpha=a)\n",
    "y[y['abs_r']> 0.2].sort_values('abs_r', ascending=False)"
   ]
  },
  {
   "cell_type": "code",
   "execution_count": null,
   "id": "a7cb06cf",
   "metadata": {},
   "outputs": [],
   "source": [
    "x, y = display_test(combined_data_averaged, cols_av, 'Bildungsjahre', stats.pearsonr, stat_name='r', alpha=a)\n",
    "y[y['abs_r']> 0.3].sort_values('abs_r', ascending=False)"
   ]
  },
  {
   "cell_type": "code",
   "execution_count": null,
   "id": "7a10a183",
   "metadata": {},
   "outputs": [],
   "source": [
    "x, y = display_test(combined_data_averaged, cols_av, 'IQ_kristallin', stats.pearsonr, stat_name='r', alpha=a)\n",
    "y[y['abs_r']> 0.3].sort_values('abs_r', ascending=False)"
   ]
  },
  {
   "cell_type": "code",
   "execution_count": null,
   "id": "ff2fc843",
   "metadata": {},
   "outputs": [],
   "source": [
    "# normalized_combined_data_averaged = combined_data_averaged.copy()\n",
    "# normalized_combined_data_averaged[cols_av] = (combined_data_averaged[cols_av]-combined_data_averaged[cols_av].min())/(combined_data_averaged[cols_av].max()-combined_data_averaged[cols_av].min())"
   ]
  },
  {
   "cell_type": "code",
   "execution_count": null,
   "id": "47d6ccee",
   "metadata": {},
   "outputs": [],
   "source": [
    "combined_data_averaged.to_csv('averaged.csv')"
   ]
  },
  {
   "cell_type": "markdown",
   "id": "a6b4b059",
   "metadata": {},
   "source": [
    "# Analyze the metric performance"
   ]
  },
  {
   "cell_type": "markdown",
   "id": "95fdf64b",
   "metadata": {},
   "source": [
    "## Group difference & correlation with PANSS, SANS, and SAPS"
   ]
  },
  {
   "cell_type": "code",
   "execution_count": null,
   "id": "69b659d6",
   "metadata": {},
   "outputs": [],
   "source": [
    "a = 0.001\n",
    "s_t, res_t = display_group_test(combined_data_averaged, cols_av, 'group', stats.ttest_ind, stat_name='t', alpha=a)"
   ]
  },
  {
   "cell_type": "code",
   "execution_count": null,
   "id": "b4bea14a",
   "metadata": {},
   "outputs": [],
   "source": [
    "def corr_test_cols(data, cols_av, traget_cols, corrtest=stats.pearsonr, stat_name='r', alpha=a):\n",
    "    df = pd.DataFrame()\n",
    "    for target_col in traget_cols:\n",
    "        r = display_test(data, cols_av, target_col, stats.pearsonr, stat_name=target_col, alpha=a)[1][target_col]\n",
    "        df = pd.concat([df, r], axis=1)\n",
    "    return df"
   ]
  },
  {
   "cell_type": "code",
   "execution_count": null,
   "id": "56d31505",
   "metadata": {},
   "outputs": [],
   "source": [
    "scales = [\"saps_total\", \"sans_total\", \"panss\", \"panss_pos\", \"panss_neg\", \"panss_o\"]\n",
    "s_saps, r_saps = display_test(combined_data_averaged, cols_av, 'saps_total', stats.pearsonr, stat_name='r', alpha=a)\n",
    "s_sans, r_sans = display_test(combined_data_averaged, cols_av, 'sans_total', stats.pearsonr, stat_name='r', alpha=a)\n",
    "s_panss, r_panss = display_test(combined_data_averaged, cols_av, 'panss_total', stats.pearsonr, stat_name='r', alpha=a)\n",
    "s_panss_pos, r_panss_pos = display_test(combined_data_averaged, cols_av, 'panss_pos', stats.pearsonr, stat_name='r', alpha=a)\n",
    "s_panss_neg, r_panss_neg = display_test(combined_data_averaged, cols_av, 'panss_neg', stats.pearsonr, stat_name='r', alpha=a)\n",
    "s_panss_o, r_panss_o = display_test(combined_data_averaged, cols_av, 'panss_o', stats.pearsonr, stat_name='r', alpha=a)\n",
    "combined_corr = pd.concat([res_t, r_saps, r_sans, r_panss, r_panss_pos, r_panss_neg, r_panss_o], \n",
    "                     keys= ['t_test'] + scales, \n",
    "                     names=[\"scale\"], axis=1)"
   ]
  },
  {
   "cell_type": "code",
   "execution_count": null,
   "id": "d95285e3",
   "metadata": {},
   "outputs": [],
   "source": [
    "combined_corr[('mean', 'abs_r')] = combined_corr[[(scale, 'abs_r') for scale in scales]].mean(axis=1)\n",
    "mean_abs_r = combined_corr.pop(('mean', 'abs_r'))\n",
    "combined_corr.insert(0, ('mean', 'abs_r'), mean_abs_r) "
   ]
  },
  {
   "cell_type": "code",
   "execution_count": null,
   "id": "ddc6fd9a",
   "metadata": {},
   "outputs": [],
   "source": [
    "# combined_corr[[(scale, 'abs_r') for scale in [\"saps34\", \"sans12\", \"panss\", \"panss_pos\", \"panss_neg\", \"panss_o\"]]].mean(axis=1)\n",
    "t_p_n_rank = pd.concat([combined_corr[('t_test', 'abs_t')].rank(ascending=False)] + [combined_corr[(scale, 'abs_r')].rank(ascending=False) for scale in ['sans_total', 'saps_total']], axis=1).mean(axis=1)\n",
    "mean_rank = pd.concat([combined_corr[(scale, 'abs_r')].rank(ascending=False) for scale in scales], axis=1).mean(axis=1)\n",
    "combined_corr.insert(1, ('mean', 'rank'), mean_rank) \n",
    "combined_corr.insert(2, ('mean', 'rank_abs'), mean_rank.rank()) \n",
    "combined_corr.insert(1, ('mean', 'tpn_rank'), t_p_n_rank) \n",
    "combined_corr.insert(2, ('mean', 'tpn_rank_abs'), t_p_n_rank.rank()) "
   ]
  },
  {
   "cell_type": "code",
   "execution_count": null,
   "id": "e9a03934",
   "metadata": {
    "scrolled": true
   },
   "outputs": [],
   "source": [
    "combined_corr.sort_values(('mean', 'rank'))[['mean', 't_test']].apply(pd.to_numeric).style.background_gradient(axis=0, cmap='Reds')"
   ]
  },
  {
   "cell_type": "markdown",
   "id": "92476fb1",
   "metadata": {},
   "source": [
    "## Analyze the relation between t-test and correlation with psychiatric scales"
   ]
  },
  {
   "cell_type": "code",
   "execution_count": null,
   "id": "1b47adb8",
   "metadata": {},
   "outputs": [],
   "source": [
    "stats.pearsonr(combined_corr[('mean', 'abs_r')], combined_corr[('t_test', 'abs_t')])"
   ]
  },
  {
   "cell_type": "code",
   "execution_count": null,
   "id": "b4fbdf8e",
   "metadata": {},
   "outputs": [],
   "source": [
    "stats.pearsonr(combined_corr[('panss', 'abs_r')], combined_corr[('t_test', 'abs_t')])"
   ]
  },
  {
   "cell_type": "code",
   "execution_count": null,
   "id": "0e6edc3c",
   "metadata": {},
   "outputs": [],
   "source": [
    "stats.pearsonr(combined_corr[('saps_total', 'abs_r')], combined_corr[('t_test', 'abs_t')])"
   ]
  },
  {
   "cell_type": "code",
   "execution_count": null,
   "id": "86571549",
   "metadata": {},
   "outputs": [],
   "source": [
    "stats.pearsonr(combined_corr[('panss_pos', 'abs_r')], combined_corr[('t_test', 'abs_t')])"
   ]
  },
  {
   "cell_type": "code",
   "execution_count": null,
   "id": "356d7689",
   "metadata": {},
   "outputs": [],
   "source": [
    "stats.pearsonr(combined_corr[('sans_total', 'abs_r')], combined_corr[('t_test', 'abs_t')])"
   ]
  },
  {
   "cell_type": "code",
   "execution_count": null,
   "id": "3f3e44d4",
   "metadata": {},
   "outputs": [],
   "source": [
    "sns.scatterplot(x=combined_corr[('sans_total', 'abs_r')], y=combined_corr[('t_test', 'abs_t')]);"
   ]
  },
  {
   "cell_type": "code",
   "execution_count": null,
   "id": "57094646",
   "metadata": {},
   "outputs": [],
   "source": [
    "stats.pearsonr(combined_corr[('panss_neg', 'abs_r')], combined_corr[('t_test', 'abs_t')])"
   ]
  },
  {
   "cell_type": "code",
   "execution_count": null,
   "id": "c55484d9",
   "metadata": {},
   "outputs": [],
   "source": [
    "sns.scatterplot(x=combined_corr[('panss_neg', 'abs_r')], y=combined_corr[('t_test', 'abs_t')]);"
   ]
  },
  {
   "cell_type": "code",
   "execution_count": null,
   "id": "cf4b87d4",
   "metadata": {},
   "outputs": [],
   "source": [
    "# combined_corr.sort_values(('mean', 'tpn_rank_abs')).apply(pd.to_numeric).style.background_gradient(axis=0, cmap='Reds')"
   ]
  },
  {
   "cell_type": "code",
   "execution_count": null,
   "id": "dab1a5d2",
   "metadata": {},
   "outputs": [],
   "source": [
    "# combined_corr.sort_values(('t_test', 'abs_t'), ascending=False).apply(pd.to_numeric).style.background_gradient(axis=0, cmap='Reds')"
   ]
  },
  {
   "cell_type": "code",
   "execution_count": null,
   "id": "1595e8d0",
   "metadata": {},
   "outputs": [],
   "source": [
    "# combined_corr.sort_values([('mean', 'abs_r')], ascending=False)"
   ]
  },
  {
   "cell_type": "code",
   "execution_count": null,
   "id": "e75dbf7f",
   "metadata": {
    "scrolled": true
   },
   "outputs": [],
   "source": [
    "# combined_corr['t_test', 'abs_t']\n",
    "# combined_corr['saps_total', 'abs_r']\n",
    "# combined_corr['sans_total', 'abs_r']\n",
    "# combined_corr['mean', 'tpn_rank']"
   ]
  },
  {
   "cell_type": "code",
   "execution_count": null,
   "id": "0fa6218b",
   "metadata": {},
   "outputs": [],
   "source": [
    "# combined_corr['t_test', 'abs_t']"
   ]
  },
  {
   "cell_type": "markdown",
   "id": "57a55f92",
   "metadata": {},
   "source": [
    "### Analyze interaction with length"
   ]
  },
  {
   "cell_type": "code",
   "execution_count": null,
   "id": "fb53cbda",
   "metadata": {},
   "outputs": [],
   "source": [
    "corr_len_s, corr_len = display_test(combined_data_averaged, cols_av, ('syntactic', 'mean_sent_len'), stats.pearsonr, stat_name='r', alpha=a)"
   ]
  },
  {
   "cell_type": "code",
   "execution_count": null,
   "id": "4f590992",
   "metadata": {
    "scrolled": true
   },
   "outputs": [],
   "source": [
    "y = corr_len['abs_r']\n",
    "tt_norm = (combined_corr['t_test', 'abs_t'] - combined_corr['t_test', 'abs_t'].min()) / (combined_corr['t_test', 'abs_t'].max() - combined_corr['t_test', 'abs_t'].min())"
   ]
  },
  {
   "cell_type": "code",
   "execution_count": null,
   "id": "158e30f4",
   "metadata": {},
   "outputs": [],
   "source": [
    "y = corr_len['abs_r']\n",
    "z = tt_norm\n",
    "\n",
    "n = [x[-1] for x in tt_norm.index]\n",
    "c_map = {'LM': 0, 'graph': 1, 'lexical': 2, 'syntactic': 3}\n",
    "c = [c_map[label[0]] for label in tt_norm.index]\n",
    "\n",
    "plt.rcParams[\"figure.figsize\"] = (15,8)\n",
    "scatter_annotate(z, y, n, 'abs_t norm', 'abs_r len', 'TTEST / LEN', c=c)"
   ]
  },
  {
   "cell_type": "code",
   "execution_count": null,
   "id": "d5b398b2",
   "metadata": {},
   "outputs": [],
   "source": [
    "y = corr_len['abs_r']\n",
    "z = combined_corr['sans_total', 'abs_r']\n",
    "\n",
    "scatter_annotate(z, y, n, 'abs_r sans', 'abs_r len', 'SANS / LEN', c)"
   ]
  },
  {
   "cell_type": "code",
   "execution_count": null,
   "id": "d8cfcd71",
   "metadata": {},
   "outputs": [],
   "source": [
    "y = corr_len['abs_r']\n",
    "z = combined_corr['saps_total', 'abs_r']\n",
    "\n",
    "scatter_annotate(z, y, n, 'abs_r saps', 'abs_r len', 'SAPS / LEN', c)"
   ]
  },
  {
   "cell_type": "code",
   "execution_count": null,
   "id": "d79a4847",
   "metadata": {},
   "outputs": [],
   "source": [
    "# df = pd.concat([y, combined_corr['t_test', 'abs_t']], axis=1)\n",
    "# df.columns = ['abs_len_corr', 'abs_ttest']\n",
    "\n",
    "# fig = px.scatter(df, x='abs_ttest', y='abs_len_corr', text=[x[-1] for x in df.index], log_x=True, size_max=100)\n",
    "# fig.update_traces(textposition='top center')\n",
    "# fig.update_layout(title_text='Correlation Length Power vs T-Test Power', title_x=0.5)\n",
    "# fig.show()"
   ]
  },
  {
   "cell_type": "markdown",
   "id": "5c8a6806",
   "metadata": {},
   "source": [
    "## Analyze correlation tables"
   ]
  },
  {
   "cell_type": "code",
   "execution_count": null,
   "id": "77004c43",
   "metadata": {},
   "outputs": [],
   "source": [
    "corr = show_corrtest_mask_corr(combined_data_averaged[cols])\n",
    "# 1. age does not correlate with IQ, education years, or psychiatric scales\n",
    "# 2. IQ does not correlate with education years or psychiatric scales\n",
    "# 3. saps-total correlates with saps34 and panss_pos\n",
    "# 4. sans-total correlates with sans12 and panss_neg, panss_o, panss_total\n",
    "# 5. panss-total correlates with panss_o, panss_neg, sans-total, panss_pos, saps-total"
   ]
  },
  {
   "cell_type": "code",
   "execution_count": null,
   "id": "f61279cd",
   "metadata": {},
   "outputs": [],
   "source": [
    "combined_data_averaged[['saps34',\n",
    "                         'saps_total',\n",
    "                         'sans_total',\n",
    "                         'sans12',\n",
    "                         'panss_pos',\n",
    "                         'panss_neg',\n",
    "                         'panss_o',\n",
    "                         'panss_total']].describe()"
   ]
  },
  {
   "cell_type": "code",
   "execution_count": null,
   "id": "6bbedd0a",
   "metadata": {},
   "outputs": [],
   "source": [
    "corr = show_corrtest_mask_corr(combined_data_averaged[['saps34',\n",
    "                                                         'saps_total',\n",
    "                                                         'sans_total',\n",
    "                                                         'sans12',\n",
    "                                                         'panss_pos',\n",
    "                                                         'panss_neg',\n",
    "                                                         'panss_o',\n",
    "                                                         'panss_total']])"
   ]
  },
  {
   "cell_type": "code",
   "execution_count": null,
   "id": "cd381f19",
   "metadata": {},
   "outputs": [],
   "source": [
    "corr = show_corrtest_mask_corr(combined_data_averaged[cols_LM + [('syntactic', 'mean_sent_len'), ('syntactic', 'min_sent_len'), ('syntactic', 'n_sents'), ('lexical', 'n_words')]])\n",
    "# 1. m_lcoh, m_gcoh, m_cgcoh, m_scoh\n",
    "# 2. m_sprob, m_bert_lcoh, m_bert_gcoh, m_bert_cgcoh, m_bert_scoh\n",
    "# 3. no corr with mean_sent_len or n_words, m_bert_cgcoh + min_sent_len\n",
    "# 4. no corr with n_sents, m_cgcoh - n_sents"
   ]
  },
  {
   "cell_type": "code",
   "execution_count": null,
   "id": "c87f832f",
   "metadata": {},
   "outputs": [],
   "source": [
    "corr = show_corrtest_mask_corr(combined_data_averaged[cols_synt])"
   ]
  },
  {
   "cell_type": "code",
   "execution_count": null,
   "id": "5819f27d",
   "metadata": {},
   "outputs": [],
   "source": [
    "corr = show_corrtest_mask_corr(combined_data_averaged[cols_av])"
   ]
  },
  {
   "cell_type": "markdown",
   "id": "97764dc9",
   "metadata": {},
   "source": [
    "# Control for the effect of length"
   ]
  },
  {
   "cell_type": "code",
   "execution_count": null,
   "id": "e3a568c4",
   "metadata": {},
   "outputs": [],
   "source": [
    "compute_coefficient(combined_data_averaged, 'sans_total', ('syntactic', 'PUNCT'),\n",
    "                                  column_names=['punct'], target_name='sans', add_sq=False)[0]"
   ]
  },
  {
   "cell_type": "code",
   "execution_count": null,
   "id": "ba34e9e4",
   "metadata": {},
   "outputs": [],
   "source": [
    "compute_coefficient(combined_data_averaged, 'sans_total', ('syntactic', 'mean_sent_len'),\n",
    "                                  column_names=['sent len'], target_name='sans', add_sq=False)[0]"
   ]
  },
  {
   "cell_type": "code",
   "execution_count": null,
   "id": "417c5a74",
   "metadata": {},
   "outputs": [],
   "source": [
    "compute_ortogonolized_coefficient(combined_data_averaged, 'sans_total', ('syntactic', 'mean_sent_len'), ('syntactic', 'PUNCT'),\n",
    "                                  column_names=['sent len', 'punct'], target_name='sans', add_sq=False)[0]"
   ]
  },
  {
   "cell_type": "markdown",
   "id": "8dc3fd15",
   "metadata": {},
   "source": [
    "### bootstrap "
   ]
  },
  {
   "cell_type": "code",
   "execution_count": null,
   "id": "896913c4",
   "metadata": {},
   "outputs": [],
   "source": [
    "## 1 sample with replacement\n",
    "\n",
    "## 1.1 compute_ortogonolized_r for each scale\n"
   ]
  },
  {
   "cell_type": "code",
   "execution_count": null,
   "id": "70189ffb",
   "metadata": {},
   "outputs": [],
   "source": [
    "scale_cols = ['saps_total',\n",
    "             'sans_total',\n",
    "             'panss_pos',\n",
    "             'panss_neg',\n",
    "             'panss_o',\n",
    "             'panss_total']"
   ]
  },
  {
   "cell_type": "code",
   "execution_count": null,
   "id": "a60f14ea",
   "metadata": {},
   "outputs": [],
   "source": [
    "def draw_sample_with_replacement(df, seed=None):\n",
    "    if seed:\n",
    "        random.seed(seed)\n",
    "    length = len(df.index)\n",
    "    idxs = choices(range(length), k=length)\n",
    "    return df.iloc[idxs, :]"
   ]
  },
  {
   "cell_type": "code",
   "execution_count": null,
   "id": "1c186144",
   "metadata": {},
   "outputs": [],
   "source": [
    "def t_test(df, column, target_column, test=stats.ttest_ind, nan_policy='omit', stat_name='x', alpha=0.05,\n",
    "           group_names=None):\n",
    "    if group_names is None:\n",
    "        group_names = df[target_column].dropna().unique().tolist()\n",
    "        assert len(group_names) == 2, 'only two group tests are supported'\n",
    "\n",
    "    r, p = test(df[df[target_column] == group_names[1]][column],\n",
    "                df[df[target_column] == group_names[0]][column], nan_policy=nan_policy)\n",
    "    return r"
   ]
  },
  {
   "cell_type": "code",
   "execution_count": null,
   "id": "ff0d90ba",
   "metadata": {},
   "outputs": [],
   "source": [
    "t_test(combined_data_averaged, ('syntactic', 'mean_sent_len'), 'group', test=stats.ttest_ind, nan_policy='omit', stat_name='x', alpha=0.05)"
   ]
  },
  {
   "cell_type": "code",
   "execution_count": null,
   "id": "168f44da",
   "metadata": {},
   "outputs": [],
   "source": [
    "scales = [\"saps_total\", \"sans_total\", \"panss_total\", \"panss_pos\", \"panss_neg\", \"panss_o\"]\n",
    "\n",
    "def bootstrap(df, cols_av, scale_cols, N, col_to_correct_for=('syntactic', 'mean_sent_len'), group=None):\n",
    "    dict_scales_sapmles = {k: {scale: {metric: [] for metric in cols_av} for scale in scale_cols} \\\n",
    "                           for k in ('sample_corr', 'sample_raw', 'r', 't', 'r_control')}\n",
    "    for i in tqdm(range(N)):\n",
    "        sample = draw_sample_with_replacement(df, seed=i)\n",
    "        for scale in scale_cols:\n",
    "            for col in cols_av:\n",
    "                if group:\n",
    "                    t_test_res = t_test(sample, col, group)\n",
    "                    dict_scales_sapmles['t'][scale][col].append(t_test_res)\n",
    "                    \n",
    "                r_raw = compute_coefficient(sample, scale, col)[0]\n",
    "                dict_scales_sapmles['sample_raw'][scale][col].append(r_raw)\n",
    "                \n",
    "                droped = sample.dropna(subset=[col, scale])\n",
    "                r = stats.pearsonr(droped[col], droped[scale])\n",
    "                dict_scales_sapmles['r'][scale][col].append(r)\n",
    "                \n",
    "                if col != col_to_correct_for:\n",
    "                    \n",
    "                    droped_c = sample.dropna(subset=[col, col_to_correct_for])\n",
    "                    r_c = stats.pearsonr(droped_c[col], droped_c[col_to_correct_for])\n",
    "                    dict_scales_sapmles['r_control'][scale][col].append(r_c)\n",
    "                    \n",
    "                    r_corr = compute_ortogonolized_coefficient(sample, scale, col_to_correct_for, col)[0]\n",
    "                    dict_scales_sapmles['sample_corr'][scale][col].append(r_corr)\n",
    "\n",
    "    return dict_scales_sapmles"
   ]
  },
  {
   "cell_type": "code",
   "execution_count": null,
   "id": "82a7ef1a",
   "metadata": {},
   "outputs": [],
   "source": [
    "dict_scales_sapmles = bootstrap(combined_data_averaged, cols_av, scales, 1000, col_to_correct_for=('syntactic', 'mean_sent_len'), group='group')"
   ]
  },
  {
   "cell_type": "code",
   "execution_count": null,
   "id": "a6023001",
   "metadata": {},
   "outputs": [],
   "source": [
    "reform = {}\n",
    "for scale in scale_cols:\n",
    "    for measure in dict_scales_sapmles:\n",
    "        reform[(scale, measure)] = dict_scales_sapmles[measure][scale]"
   ]
  },
  {
   "cell_type": "code",
   "execution_count": null,
   "id": "4e983062",
   "metadata": {},
   "outputs": [],
   "source": [
    "reform = {(scale, measure): dict_scales_sapmles[measure][scale] for scale in scale_cols for measure in dict_scales_sapmles}"
   ]
  },
  {
   "cell_type": "code",
   "execution_count": null,
   "id": "00804c54",
   "metadata": {},
   "outputs": [],
   "source": [
    "median_bootstrap = pd.DataFrame(reform).applymap(np.nanmedian)"
   ]
  },
  {
   "cell_type": "code",
   "execution_count": null,
   "id": "d49f3213",
   "metadata": {},
   "outputs": [],
   "source": [
    "median_bootstrap.loc['LM', 'sans_total']"
   ]
  },
  {
   "cell_type": "code",
   "execution_count": null,
   "id": "d4da0767",
   "metadata": {},
   "outputs": [],
   "source": [
    "sample_df = pd.DataFrame()\n",
    "for scale in scale_cols:\n",
    "    scale_metric_sd = {}\n",
    "    scale_metric_md = {}\n",
    "    scale_metric_mn = {}\n",
    "    scale_metric_cov = {}\n",
    "    scale_metric_diff = {}\n",
    "    scale_metric_q25 = {}\n",
    "    scale_metric_q75 = {}\n",
    "    for col in cols_av:\n",
    "        if col != ('syntactic', 'mean_sent_len'):\n",
    "            sample = dict_scales_sapmles['sample_corr'][scale][col]\n",
    "            scale_metric_sd[col] = np.std(sample)\n",
    "            scale_metric_md[col] = np.median(sample)\n",
    "            scale_metric_mn[col] = np.mean(sample)\n",
    "            scale_metric_q25[col] = np.quantile(sample, 0.25)\n",
    "            scale_metric_q75[col] = np.quantile(sample, 0.75)\n",
    "            scale_metric_cov[col] = np.std(sample) / np.mean(sample)\n",
    "            scale_metric_diff[col] = np.mean(sample) / np.mean(dict_scales_sapmles['sample_raw'][scale][col])\n",
    "            \n",
    "    sample_df[(scale, 'md')] = pd.Series(scale_metric_md)\n",
    "    sample_df[(scale, 'mn')] = pd.Series(scale_metric_mn)\n",
    "    sample_df[(scale, 'sd')] = pd.Series(scale_metric_sd)\n",
    "    sample_df[(scale, 'cov')] = pd.Series(scale_metric_cov)\n",
    "    sample_df[(scale, 'dif')] = pd.Series(scale_metric_diff)\n",
    "    sample_df[(scale, 'q25')] = pd.Series(scale_metric_q25)\n",
    "    sample_df[(scale, 'q75')] = pd.Series(scale_metric_q75)"
   ]
  },
  {
   "cell_type": "code",
   "execution_count": null,
   "id": "82764d3e",
   "metadata": {},
   "outputs": [],
   "source": [
    "# sample_df"
   ]
  },
  {
   "cell_type": "code",
   "execution_count": null,
   "id": "810ca36c",
   "metadata": {},
   "outputs": [],
   "source": [
    "sample_df.columns = pd.MultiIndex.from_tuples(sample_df.columns, names=('scale', 'res'))"
   ]
  },
  {
   "cell_type": "code",
   "execution_count": null,
   "id": "3f7915ab",
   "metadata": {
    "scrolled": true
   },
   "outputs": [],
   "source": [
    "ex_df = sample_df.loc['LM', 'sans_total'].drop(index='m_sporb')\n",
    "ex_df"
   ]
  },
  {
   "cell_type": "code",
   "execution_count": null,
   "id": "73e35305",
   "metadata": {},
   "outputs": [],
   "source": [
    "ex_df['model'] = ['bert' if 'bert' in x else 'w2v' for x in ex_df.index]\n",
    "ex_df['metric'] = [x.split('_')[-1] for x in ex_df.index]"
   ]
  },
  {
   "cell_type": "code",
   "execution_count": null,
   "id": "c8392fbd",
   "metadata": {},
   "outputs": [],
   "source": [
    "sns.set_theme(style=\"whitegrid\")\n",
    "\n",
    "# Draw a pointplot to show pulse as a function of three categorical factors\n",
    "g = sns.catplot(\n",
    "    data=ex_df, x=\"model\", y=\"md\", hue=\"metric\",\n",
    "    capsize=.2,  # errorbar=\"se\",\n",
    "    kind=\"point\", height=6, aspect=.75,\n",
    ")\n",
    "g.despine(left=True)"
   ]
  },
  {
   "cell_type": "code",
   "execution_count": null,
   "id": "676436b7",
   "metadata": {},
   "outputs": [],
   "source": [
    "sample_df.columns = pd.MultiIndex.from_tuples(sample_df.columns, names=('scale', 'res'))\n",
    "styler = pd.io.formats.style.Styler(sample_df, precision = 4)\n",
    "styler.background_gradient(axis=0, cmap='Reds')"
   ]
  },
  {
   "cell_type": "code",
   "execution_count": null,
   "id": "ede447bb",
   "metadata": {},
   "outputs": [],
   "source": [
    "sns.histplot(dict_scales_sapmles['sans_total'][('syntactic', 'AUX')], bins=30);"
   ]
  },
  {
   "cell_type": "code",
   "execution_count": null,
   "id": "09dafcf7",
   "metadata": {},
   "outputs": [],
   "source": [
    "dict_scales_sapmles"
   ]
  },
  {
   "cell_type": "code",
   "execution_count": null,
   "id": "37d6efb8",
   "metadata": {},
   "outputs": [],
   "source": [
    "sns.histplot(dict_scales_sapmles['sans_total'][('LM', 'm_cgcoh')], bins=30);"
   ]
  },
  {
   "cell_type": "code",
   "execution_count": null,
   "id": "f78a3186",
   "metadata": {},
   "outputs": [],
   "source": [
    "sns.histplot(dict_scales_sapmles['sans_total'][('LM', 'm_bert_cgcoh')], bins=30);"
   ]
  },
  {
   "cell_type": "markdown",
   "id": "43a3dd5b",
   "metadata": {},
   "source": [
    "### original"
   ]
  },
  {
   "cell_type": "code",
   "execution_count": null,
   "id": "3c32d3dc",
   "metadata": {},
   "outputs": [],
   "source": [
    "plt.scatter(combined_data_averaged[('syntactic', 'mean_sent_len')], combined_data_averaged[('syntactic', 'AUX')]);"
   ]
  },
  {
   "cell_type": "code",
   "execution_count": null,
   "id": "41c7458b",
   "metadata": {
    "scrolled": true
   },
   "outputs": [],
   "source": [
    "ex_df = combined_data_averaged[combined_data_averaged[('syntactic', 'mean_sent_len')] > 5]\n",
    "draw_corrected_scatter(ex_df, 'sans_total', ('syntactic', 'mean_sent_len'), ('syntactic', 'AUX'),\n",
    "                      column_names=['sent len', 'punct'], target_name='sans')"
   ]
  },
  {
   "cell_type": "code",
   "execution_count": null,
   "id": "b30b1218",
   "metadata": {},
   "outputs": [],
   "source": [
    "compute_ortogonolized_coefficient(combined_data_averaged, 'sans_total', ('syntactic', 'mean_sent_len'), ('syntactic', 'AUX'),\n",
    "                                  column_names=['sent len', 'punct'], target_name='sans', add_sq=False)[0]"
   ]
  },
  {
   "cell_type": "code",
   "execution_count": null,
   "id": "f43d87cb",
   "metadata": {},
   "outputs": [],
   "source": [
    "compute_ortogonolized_coefficient(combined_data_averaged, 'sans_total', ('syntactic', 'mean_sent_len'), ('LM', 'm_cgcoh'),\n",
    "                                  column_names=['sent len', 'punct'], target_name='sans', add_sq=False)[0]"
   ]
  },
  {
   "cell_type": "code",
   "execution_count": null,
   "id": "917f50de",
   "metadata": {},
   "outputs": [],
   "source": [
    "draw_corrected_scatter(combined_data_averaged, 'sans_total', ('syntactic', 'mean_sent_len'), ('LM', 'm_cgcoh'),\n",
    "                      column_names=['sent len', 'm_cgcoh'], target_name='sans')"
   ]
  },
  {
   "cell_type": "code",
   "execution_count": null,
   "id": "6abe3fc4",
   "metadata": {},
   "outputs": [],
   "source": [
    "draw_corrected_scatter(combined_data_averaged, 'sans_total', ('syntactic', 'mean_sent_len'), ('syntactic', 'NOUN'),\n",
    "                      column_names=['sent len', 'num'], target_name='sans')"
   ]
  },
  {
   "cell_type": "code",
   "execution_count": null,
   "id": "5d97ef9d",
   "metadata": {},
   "outputs": [],
   "source": [
    "draw_corrected_scatter(combined_data_averaged, 'sans_total', ('syntactic', 'mean_sent_len'), ('graph', 'number_of_edges'),\n",
    "                      column_names=['sent len', 'NE'], target_name='sans')"
   ]
  },
  {
   "cell_type": "code",
   "execution_count": null,
   "id": "e5a70e68",
   "metadata": {},
   "outputs": [],
   "source": [
    "draw_corrected_scatter(combined_data_averaged, 'sans_total', ('syntactic', 'mean_sent_len'), ('graph', 'number_of_nodes'),\n",
    "                      column_names=['sent len', 'NN'], target_name='sans')"
   ]
  },
  {
   "cell_type": "code",
   "execution_count": null,
   "id": "dcea1723",
   "metadata": {},
   "outputs": [],
   "source": [
    "draw_corrected_scatter(combined_data_averaged, 'sans_total', ('syntactic', 'mean_sent_len'), ('lexical', 'MALTR'),\n",
    "                      column_names=['sent len', 'maltr'], target_name='sans')"
   ]
  },
  {
   "cell_type": "code",
   "execution_count": null,
   "id": "61f364dc",
   "metadata": {},
   "outputs": [],
   "source": [
    "draw_corrected_scatter(combined_data_averaged, 'sans_total', ('syntactic', 'mean_sent_len'), ('LM', 'm_cgcoh'),\n",
    "                      column_names=['sent len', 'm_cgcoh'], target_name='sans')"
   ]
  },
  {
   "cell_type": "code",
   "execution_count": null,
   "id": "de3b67a4",
   "metadata": {},
   "outputs": [],
   "source": [
    "cols_dict = {}\n",
    "for col in cols_av:\n",
    "    cols_dict[col] = compute_ortogonolized_coefficient(combined_data_averaged, 'sans_total', ('syntactic', 'mean_sent_len'), col)[0]\n",
    "combined_corr.insert(1, ('sans_total', 'r_corrected_for_mean_len'), pd.Series(cols_dict)) "
   ]
  },
  {
   "cell_type": "code",
   "execution_count": null,
   "id": "32e1f345",
   "metadata": {},
   "outputs": [],
   "source": [
    "# cols_dict = {}\n",
    "# for col in cols_av:\n",
    "#     cols_dict[col] = compute_ortogonolized_coefficient(combined_data_averaged, 'sans_total', ('syntactic', 'mean_sent_len'), col, add_sq=True)[0]\n",
    "# combined_corr.insert(1, ('sans_total', 'r_corrected_sq_for_mean_len'), pd.Series(cols_dict)) "
   ]
  },
  {
   "cell_type": "code",
   "execution_count": null,
   "id": "95d114b9",
   "metadata": {},
   "outputs": [],
   "source": [
    "cols_dict = {}\n",
    "for col in cols_av:\n",
    "    cols_dict[col] = compute_ortogonolized_coefficient(combined_data_averaged, 'saps_total', ('syntactic', 'mean_sent_len'), col)[0]\n",
    "combined_corr.insert(1, ('saps_total', 'r_corrected_for_mean_len'), pd.Series(cols_dict)) "
   ]
  },
  {
   "cell_type": "code",
   "execution_count": null,
   "id": "c7f56401",
   "metadata": {},
   "outputs": [],
   "source": [
    "# cols_dict = {}\n",
    "# for col in cols_av:\n",
    "#     cols_dict[col] = compute_ortogonolized_coefficient(combined_data_averaged, 'saps_total', ('syntactic', 'mean_sent_len'), col, add_sq=True)[0]\n",
    "# combined_corr.insert(1, ('saps_total', 'r_corrected_sq_for_mean_len'), pd.Series(cols_dict)) "
   ]
  },
  {
   "cell_type": "code",
   "execution_count": null,
   "id": "c392efdc",
   "metadata": {},
   "outputs": [],
   "source": [
    "cols_dict = {}\n",
    "for col in cols_av:\n",
    "    cols_dict[col] = compute_ortogonolized_coefficient(combined_data_averaged, 'panss_total', ('syntactic', 'mean_sent_len'), col)[0]\n",
    "combined_corr.insert(1, ('panss', 'r_corrected_for_mean_len'), pd.Series(cols_dict)) "
   ]
  },
  {
   "cell_type": "code",
   "execution_count": null,
   "id": "99606f57",
   "metadata": {},
   "outputs": [],
   "source": [
    "# cols_dict = {}\n",
    "# for col in cols_av:\n",
    "#     cols_dict[col] = compute_ortogonolized_coefficient(combined_data_averaged, 'panss_total', ('syntactic', 'mean_sent_len'), col, add_sq=True)[0]\n",
    "# combined_corr.insert(1, ('panss', 'r_corrected_sq_for_mean_len'), pd.Series(cols_dict)) "
   ]
  },
  {
   "cell_type": "code",
   "execution_count": null,
   "id": "26a62f5a",
   "metadata": {},
   "outputs": [],
   "source": [
    "cols_dict = {}\n",
    "for col in cols_av:\n",
    "    cols_dict[col] = compute_ortogonolized_logit(combined_data_averaged, 'group', ('syntactic', 'mean_sent_len'), col)\n",
    "combined_corr.insert(1, ('t_test', 'r_corrected_for_mean_len'), pd.Series(cols_dict)) "
   ]
  },
  {
   "cell_type": "code",
   "execution_count": null,
   "id": "2ff09da5",
   "metadata": {},
   "outputs": [],
   "source": [
    "t_p_n_corr_rank = pd.concat([combined_corr[('t_test', 'abs_t')].rank(ascending=False)] + [combined_corr[(scale, 'r_corrected_for_mean_len')].rank(ascending=False) for scale in ['sans_total', 'saps_total']], axis=1).mean(axis=1)\n",
    "combined_corr.insert(1, ('mean', 'tpn_rank_corr'), t_p_n_corr_rank) \n",
    "combined_corr.insert(2, ('mean', 'tpn_rank_corr_abs'), t_p_n_corr_rank.rank()) "
   ]
  },
  {
   "cell_type": "code",
   "execution_count": null,
   "id": "f991449e",
   "metadata": {
    "scrolled": false
   },
   "outputs": [],
   "source": [
    "combined_corr.sort_values(('mean', 'tpn_rank_corr'), ascending=True).apply(pd.to_numeric).style.background_gradient(axis=0, cmap='Reds')"
   ]
  },
  {
   "cell_type": "code",
   "execution_count": null,
   "id": "4ec81004",
   "metadata": {},
   "outputs": [],
   "source": [
    "def get_ranking_difference(df, col_initial, col_final):\n",
    "    return df[col_final].rank() - df[col_initial].rank()"
   ]
  },
  {
   "cell_type": "code",
   "execution_count": null,
   "id": "47ffc21d",
   "metadata": {},
   "outputs": [],
   "source": [
    "rank_diff = pd.DataFrame()\n",
    "rank_diff[('panss', 'rank_change')] = get_ranking_difference(combined_corr, ('panss', 'abs_r'), ('panss', 'r_corrected_for_mean_len'))\n",
    "rank_diff[('panss', 'corrected_rank')] = combined_corr[('panss', 'r_corrected_for_mean_len')].rank()\n",
    "rank_diff[('panss', 'corrected_r')] = combined_corr[('panss', 'r_corrected_for_mean_len')]\n",
    "\n",
    "\n",
    "rank_diff[('sans', 'rank_change')] = get_ranking_difference(combined_corr, ('sans_total', 'abs_r'), ('sans_total', 'r_corrected_for_mean_len'))\n",
    "rank_diff[('sans', 'corrected_rank')] = combined_corr[('sans_total', 'r_corrected_for_mean_len')].rank()\n",
    "rank_diff[('sans', 'corrected_r')] = combined_corr[('sans_total', 'r_corrected_for_mean_len')]\n",
    "\n",
    "rank_diff[('saps', 'rank_change')] = get_ranking_difference(combined_corr, ('saps_total', 'abs_r'), ('saps_total', 'r_corrected_for_mean_len'))\n",
    "rank_diff[('saps', 'corrected_rank')] = combined_corr[('saps_total', 'r_corrected_for_mean_len')].rank()\n",
    "rank_diff[('saps', 'corrected_r')] = combined_corr[('saps_total', 'r_corrected_for_mean_len')]\n",
    "\n",
    "rank_diff[('t_test', 'rank_change')] = get_ranking_difference(combined_corr, ('t_test', 'abs_t'), ('t_test', 'r_corrected_for_mean_len'))\n",
    "rank_diff[('t_test', 'corrected_rank')] = combined_corr[('t_test', 'r_corrected_for_mean_len')].rank()\n",
    "rank_diff[('t_test', 'corrected_r')] = combined_corr[('t_test', 'r_corrected_for_mean_len')]\n",
    "rank_diff[('t_test', 'val')] = combined_corr[('t_test', 'abs_t')]\n",
    "\n",
    "rank_diff.columns = pd.MultiIndex.from_tuples(rank_diff.columns, names=('scale', 'res'))\n",
    "rank_diff = rank_diff.apply(pd.to_numeric)"
   ]
  },
  {
   "cell_type": "code",
   "execution_count": null,
   "id": "1c9d9c4b",
   "metadata": {},
   "outputs": [],
   "source": [
    "rank_diff.style.background_gradient(axis=0, cmap='Reds')"
   ]
  },
  {
   "cell_type": "code",
   "execution_count": null,
   "id": "5692df06",
   "metadata": {},
   "outputs": [],
   "source": [
    "n = [label[1] for label in rank_diff.index]\n",
    "c_map = {'LM': 0, 'graph': 1, 'lexical': 2, 'syntactic': 3}\n",
    "c = [c_map[label[0]] for label in rank_diff.index]"
   ]
  },
  {
   "cell_type": "code",
   "execution_count": null,
   "id": "77572a29",
   "metadata": {},
   "outputs": [],
   "source": [
    "def plot_res_corr(x, y, n, x_name, y_name, title, c=None):\n",
    "    r = stats.pearsonr(x, y).statistic\n",
    "    X = sm.add_constant(x)\n",
    "    model = sm.OLS(y, X).fit()\n",
    "    ypred = model.predict(X)\n",
    "    plt.plot(x, ypred, color='red', label=f'coef: {model.params[1]:.2f} \\ncorr: {r:.2f}')\n",
    "\n",
    "    plt.gca().add_artist(plt.legend(loc=9))\n",
    "\n",
    "    scatter_annotate(x, y, n, x_name, y_name, title, c=c)"
   ]
  },
  {
   "cell_type": "code",
   "execution_count": null,
   "id": "901dacce",
   "metadata": {},
   "outputs": [],
   "source": [
    "x = rank_diff[('panss', 'corrected_r')]\n",
    "y = rank_diff[('t_test', 'corrected_r')]\n",
    "\n",
    "plot_res_corr(x, y, n, 'panss r', 'ttest pseudo r', 'PANSS / TTEST', c)"
   ]
  },
  {
   "cell_type": "code",
   "execution_count": null,
   "id": "678dbe69",
   "metadata": {},
   "outputs": [],
   "source": [
    "x = rank_diff[('sans', 'corrected_r')]\n",
    "y = rank_diff[('t_test', 'corrected_r')]\n",
    "\n",
    "plot_res_corr(x, y, n, 'sans r', 'ttest pseudo r', 'SANS / TTEST', c)"
   ]
  },
  {
   "cell_type": "code",
   "execution_count": null,
   "id": "4822b829",
   "metadata": {},
   "outputs": [],
   "source": [
    "x = rank_diff[('saps', 'corrected_r')]\n",
    "y = rank_diff[('t_test', 'corrected_r')]\n",
    "\n",
    "plot_res_corr(x, y, n, 'saps r', 'ttest pseudo r', 'SAPS / TTEST', c)"
   ]
  },
  {
   "cell_type": "code",
   "execution_count": null,
   "id": "c7dc2b99",
   "metadata": {},
   "outputs": [],
   "source": [
    "x = rank_diff[('saps', 'corrected_r')]\n",
    "y = rank_diff[('panss', 'corrected_r')]\n",
    "\n",
    "plot_res_corr(x, y, n, 'saps r', 'panss r', 'SAPS / PANSS', c)"
   ]
  },
  {
   "cell_type": "code",
   "execution_count": null,
   "id": "729309e5",
   "metadata": {},
   "outputs": [],
   "source": [
    "x = rank_diff[('sans', 'corrected_r')]\n",
    "y = rank_diff[('saps', 'corrected_r')]\n",
    "\n",
    "plot_res_corr(x, y, n, 'sans r', 'saps r', 'SANS / SAPS', c)"
   ]
  },
  {
   "cell_type": "code",
   "execution_count": null,
   "id": "e4cc33c6",
   "metadata": {},
   "outputs": [],
   "source": [
    "x = rank_diff[('sans', 'corrected_r')]\n",
    "y = rank_diff[('panss', 'corrected_r')]\n",
    "\n",
    "plot_res_corr(x, y, n, 'sans r', 'panss r', 'SANS / PANSS', c)"
   ]
  },
  {
   "cell_type": "code",
   "execution_count": null,
   "id": "e3249e37",
   "metadata": {},
   "outputs": [],
   "source": [
    "x = rank_diff[('sans', 'corrected_rank')]\n",
    "y = rank_diff[('panss', 'corrected_rank')]\n",
    "\n",
    "plot_res_corr(x, y, n, 'sans rank', 'panss rank', 'SANS / PANSS', c)"
   ]
  }
 ],
 "metadata": {
  "kernelspec": {
   "display_name": "Python 3 (ipykernel)",
   "language": "python",
   "name": "python3"
  },
  "language_info": {
   "codemirror_mode": {
    "name": "ipython",
    "version": 3
   },
   "file_extension": ".py",
   "mimetype": "text/x-python",
   "name": "python",
   "nbconvert_exporter": "python",
   "pygments_lexer": "ipython3",
   "version": "3.9.7"
  }
 },
 "nbformat": 4,
 "nbformat_minor": 5
}
