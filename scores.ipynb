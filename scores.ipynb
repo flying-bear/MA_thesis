{
 "cells": [
  {
   "cell_type": "code",
   "execution_count": 1,
   "id": "61d47f27",
   "metadata": {},
   "outputs": [],
   "source": [
    "# !pip install plotly"
   ]
  },
  {
   "cell_type": "code",
   "execution_count": 2,
   "id": "36a81a11",
   "metadata": {},
   "outputs": [],
   "source": [
    "%load_ext autoreload"
   ]
  },
  {
   "cell_type": "code",
   "execution_count": 3,
   "id": "b472b85c",
   "metadata": {},
   "outputs": [],
   "source": [
    "%autoreload 2"
   ]
  },
  {
   "cell_type": "code",
   "execution_count": 4,
   "id": "d313b8fa",
   "metadata": {},
   "outputs": [],
   "source": [
    "import plotly.express as px"
   ]
  },
  {
   "cell_type": "code",
   "execution_count": 5,
   "id": "100e479a",
   "metadata": {},
   "outputs": [],
   "source": [
    "import numpy as np\n",
    "import matplotlib.pyplot as plt\n",
    "import pickle\n",
    "import pandas as pd\n",
    "import random\n",
    "import seaborn as sns\n",
    "import statsmodels.api as sm\n",
    "\n",
    "\n",
    "\n",
    "from random import choices\n",
    "from scipy import stats\n",
    "from tqdm.notebook import tqdm\n",
    "from matplotlib.colors import ListedColormap"
   ]
  },
  {
   "cell_type": "code",
   "execution_count": 6,
   "id": "c349a281",
   "metadata": {},
   "outputs": [],
   "source": [
    "from jupyter_utils import style, mean_std, display_test, display_group_test, \\\n",
    "    scatter_annotate, show_corrtest_mask_corr, pointplot, pointplot_horizontal, add_grey, \\\n",
    "    prep_horizontal_pointplot_errobar_data, map_model, prep_LM_pointplot, draw_sample_with_replacement, t_test\n",
    "from ortogonolize_utils import draw_scatter, draw_corrected_scatter\n",
    "from ortogonolize_utils import compute_coefficient, compute_ortogonolized_coefficient, compute_ortogonolized_logit"
   ]
  },
  {
   "cell_type": "code",
   "execution_count": 7,
   "id": "84f21818",
   "metadata": {},
   "outputs": [],
   "source": [
    "import warnings\n",
    "warnings.filterwarnings(action='ignore', category=np.VisibleDeprecationWarning)\n",
    "warnings.filterwarnings(action='ignore', message='All-NaN slice encountered')\n",
    "warnings.filterwarnings(action='ignore', message='Precision loss occurred in moment calculation due to catastrophic cancellation. This occurs when the data are nearly identical. Results may be unreliable.')\n",
    "warnings.filterwarnings(action='ignore', message='Mean of empty slice')\n",
    "warnings.filterwarnings(action='ignore', category=stats.ConstantInputWarning)"
   ]
  },
  {
   "cell_type": "code",
   "execution_count": 8,
   "id": "1b1e4dd7",
   "metadata": {},
   "outputs": [],
   "source": [
    "sns.set_theme(style=\"whitegrid\")"
   ]
  },
  {
   "cell_type": "code",
   "execution_count": 9,
   "id": "e3959181",
   "metadata": {},
   "outputs": [],
   "source": [
    "PATH = '/Users/galina.ryazanskaya/Downloads/thesis?/code?/transcripts_NET/'"
   ]
  },
  {
   "cell_type": "code",
   "execution_count": 10,
   "id": "5d60d6c0",
   "metadata": {},
   "outputs": [],
   "source": [
    "PATH_FIG = '/Users/galina.ryazanskaya/Downloads/thesis?/figures/de/'"
   ]
  },
  {
   "cell_type": "markdown",
   "id": "780b6acd",
   "metadata": {},
   "source": [
    "# Patients"
   ]
  },
  {
   "cell_type": "code",
   "execution_count": 11,
   "id": "3ac3c3c0",
   "metadata": {},
   "outputs": [],
   "source": [
    "df = pd.read_excel(PATH +'NAP/GR_all6M_MPP.xlsx', index_col=0, na_values=[' ', '', -99.0])\n",
    "df = df[df.index.notnull()].drop(columns=['Unnamed: 98', 'Unnamed: 99'])"
   ]
  },
  {
   "cell_type": "markdown",
   "id": "5bbfc8fa",
   "metadata": {},
   "source": [
    "total positve ftd - saps34 <br>\n",
    "total alogia - sans12 <br>\n",
    "sex_nr - female = 1, male = 0 <br>\n",
    "ausja_bl = education years at baseline (i.e. 6 months before the NET interview) <br>\n",
    "pa - panss <br>"
   ]
  },
  {
   "cell_type": "code",
   "execution_count": 12,
   "id": "bb54f7a8",
   "metadata": {},
   "outputs": [],
   "source": [
    "# df.columns"
   ]
  },
  {
   "cell_type": "code",
   "execution_count": 13,
   "id": "fc9a3525",
   "metadata": {},
   "outputs": [],
   "source": [
    "# print(*enumerate('PANSS P1\tPANSS P2\tPANSS P3\tPANSS P4\tPANSS P5\tPANSS P6\tPANSS P7\tPANSS N1\tPANSS N2\tPANSS N3\tPANSS N4\tPANSS N5\tPANSS N6\tPANSS N7\tPANSS O1\tPANSS O2\tPANSS O3\tPANSS O4\tPANSS O5\tPANSS O6\tPANSS O7\tPANSS O8\tPANSS 09\tPANSS O10\tPANSS O11\tPANSS O12\tPANSS O13\tPANSS O14\tPANSS O15\tPANSS 016'.split('\\t')))"
   ]
  },
  {
   "cell_type": "code",
   "execution_count": 14,
   "id": "24a68c49",
   "metadata": {},
   "outputs": [],
   "source": [
    "df['panss_pos'] = df[['pa_01', 'pa_02', 'pa_03', 'pa_04', 'pa_05', 'pa_06', 'pa_07']].sum(axis=1)\n",
    "df['panss_neg'] = df[['pa_08', 'pa_09', 'pa_10', 'pa_11', 'pa_12', 'pa_13', 'pa_14', 'pa_15']].sum(axis=1)\n",
    "df['panss_o'] = df[['pa_16', 'pa_17', 'pa_18', 'pa_19', 'pa_20', 'pa_21', 'pa_22', 'pa_23', 'pa_24', 'pa_25', 'pa_26', 'pa_27', 'pa_28', 'pa_29', 'pa_30']].sum(axis=1)\n",
    "df['panss_total'] = df[['panss_pos', 'panss_neg', 'panss_o']].sum(axis=1)\n",
    "df['saps_total'] = df[['saps1', 'saps2', 'saps3', 'saps4', 'saps5', 'saps6', 'saps7', 'saps8', 'saps9', 'saps10', 'saps11', 'saps12', 'saps13', 'saps14', 'saps15', 'saps16', 'saps17', 'saps18', 'saps19', 'saps20', 'saps21', 'saps22', 'saps23', 'saps24', 'saps25', 'saps26', 'saps27', 'saps28', 'saps29', 'saps30', 'saps31', 'saps32', 'saps33', 'saps34', 'saps35']].sum(axis=1)\n",
    "df['sans_total'] =  df[['sans1', 'sans2', 'sans3', 'sans4', 'sans5', 'sans6', 'sans7', 'sans8', 'sans9', 'sans10', 'sans11', 'sans12', 'sans13', 'sans14', 'sans15', 'sans16', 'sans17', 'sans18', 'sans19', 'sans20', 'sans21', 'sans22', 'sans23', 'sans24']].sum(axis=1)"
   ]
  },
  {
   "cell_type": "markdown",
   "id": "b888b181",
   "metadata": {},
   "source": [
    "#### Filter out only the patients there are transcripts for"
   ]
  },
  {
   "cell_type": "code",
   "execution_count": 15,
   "id": "e9cf5a79",
   "metadata": {},
   "outputs": [],
   "source": [
    "# df.index"
   ]
  },
  {
   "cell_type": "code",
   "execution_count": 16,
   "id": "7389e426",
   "metadata": {},
   "outputs": [],
   "source": [
    "df.index.rename('ID', inplace=True)"
   ]
  },
  {
   "cell_type": "code",
   "execution_count": 17,
   "id": "cbe1f6c9",
   "metadata": {},
   "outputs": [],
   "source": [
    "res = pd.read_csv('/Users/galina.ryazanskaya/Downloads/thesis?/code?/processed_values/de_patients.tsv', sep='\\t', index_col=0, header=[0, 1, 2])"
   ]
  },
  {
   "cell_type": "code",
   "execution_count": 18,
   "id": "aea037f7",
   "metadata": {},
   "outputs": [],
   "source": [
    "res.dropna(how='all', inplace=True)"
   ]
  },
  {
   "cell_type": "code",
   "execution_count": 19,
   "id": "df7a5aaf",
   "metadata": {},
   "outputs": [],
   "source": [
    "idxs = sorted([x.replace('_6M_manual_c', '') for x in res.index])\n",
    "idxs = ['MPP_0' + i if len(i) > 1 else 'MPP_00' + i for i in idxs]"
   ]
  },
  {
   "cell_type": "code",
   "execution_count": 20,
   "id": "c46ba12d",
   "metadata": {},
   "outputs": [],
   "source": [
    "res.index = ['MPP_0' + i if len(i) > 1 else 'MPP_00' + i for i in [x.replace('_6M_manual_c', '') for x in res.index]]\n",
    "res.index.rename('ID', inplace=True)"
   ]
  },
  {
   "cell_type": "code",
   "execution_count": 21,
   "id": "76b40b0b",
   "metadata": {},
   "outputs": [],
   "source": [
    "assert not set(idxs).difference(set(df.index))"
   ]
  },
  {
   "cell_type": "code",
   "execution_count": 22,
   "id": "34e241bf",
   "metadata": {},
   "outputs": [],
   "source": [
    "df = df.loc[idxs]"
   ]
  },
  {
   "cell_type": "code",
   "execution_count": 23,
   "id": "782a9efe",
   "metadata": {},
   "outputs": [],
   "source": [
    "# res.columns.names"
   ]
  },
  {
   "cell_type": "code",
   "execution_count": 24,
   "id": "546ddbc8",
   "metadata": {},
   "outputs": [],
   "source": [
    "res.columns = pd.MultiIndex.from_tuples([(c[0], c[1], c[2].replace('sporb', 'sprob')) for c in res.columns], names=('TASK', None, None))"
   ]
  },
  {
   "cell_type": "markdown",
   "id": "36259076",
   "metadata": {},
   "source": [
    "#### Look at descriptitve stats"
   ]
  },
  {
   "cell_type": "code",
   "execution_count": 25,
   "id": "f5e66aab",
   "metadata": {},
   "outputs": [],
   "source": [
    "cols = ['age', 'sex_nr', 'Bildungsjahre', 'IQ_kristallin', 'saps34', 'saps_total', 'sans_total', 'sans12', 'panss_pos', 'panss_neg', 'panss_o', 'panss_total']"
   ]
  },
  {
   "cell_type": "code",
   "execution_count": 26,
   "id": "8c6d284e",
   "metadata": {},
   "outputs": [
    {
     "data": {
      "text/plain": [
       "age              59\n",
       "sex_nr           59\n",
       "Bildungsjahre    59\n",
       "IQ_kristallin    58\n",
       "saps34           59\n",
       "saps_total       59\n",
       "sans_total       59\n",
       "sans12           59\n",
       "panss_pos        59\n",
       "panss_neg        59\n",
       "panss_o          59\n",
       "panss_total      59\n",
       "dtype: int64"
      ]
     },
     "execution_count": 26,
     "metadata": {},
     "output_type": "execute_result"
    }
   ],
   "source": [
    "df[cols].count()"
   ]
  },
  {
   "cell_type": "code",
   "execution_count": 27,
   "id": "cbfd4f2c",
   "metadata": {},
   "outputs": [
    {
     "data": {
      "text/html": [
       "<div>\n",
       "<style scoped>\n",
       "    .dataframe tbody tr th:only-of-type {\n",
       "        vertical-align: middle;\n",
       "    }\n",
       "\n",
       "    .dataframe tbody tr th {\n",
       "        vertical-align: top;\n",
       "    }\n",
       "\n",
       "    .dataframe thead th {\n",
       "        text-align: right;\n",
       "    }\n",
       "</style>\n",
       "<table border=\"1\" class=\"dataframe\">\n",
       "  <thead>\n",
       "    <tr style=\"text-align: right;\">\n",
       "      <th></th>\n",
       "      <th>age</th>\n",
       "      <th>sex_nr</th>\n",
       "      <th>Bildungsjahre</th>\n",
       "      <th>IQ_kristallin</th>\n",
       "      <th>saps34</th>\n",
       "      <th>saps_total</th>\n",
       "      <th>sans_total</th>\n",
       "      <th>sans12</th>\n",
       "      <th>panss_pos</th>\n",
       "      <th>panss_neg</th>\n",
       "      <th>panss_o</th>\n",
       "      <th>panss_total</th>\n",
       "    </tr>\n",
       "  </thead>\n",
       "  <tbody>\n",
       "    <tr>\n",
       "      <th>value</th>\n",
       "      <td>39.49 (11.11)</td>\n",
       "      <td>0.41 (0.5)</td>\n",
       "      <td>14.62 (2.95)</td>\n",
       "      <td>105.16 (15.65)</td>\n",
       "      <td>1.03 (1.05)</td>\n",
       "      <td>16.81 (16.7)</td>\n",
       "      <td>27.73 (20.35)</td>\n",
       "      <td>0.92 (1.19)</td>\n",
       "      <td>12.66 (5.48)</td>\n",
       "      <td>16.85 (6.03)</td>\n",
       "      <td>27.75 (7.51)</td>\n",
       "      <td>57.26 (16.18)</td>\n",
       "    </tr>\n",
       "  </tbody>\n",
       "</table>\n",
       "</div>"
      ],
      "text/plain": [
       "                 age      sex_nr Bildungsjahre   IQ_kristallin       saps34  \\\n",
       "value  39.49 (11.11)  0.41 (0.5)  14.62 (2.95)  105.16 (15.65)  1.03 (1.05)   \n",
       "\n",
       "         saps_total     sans_total       sans12     panss_pos     panss_neg  \\\n",
       "value  16.81 (16.7)  27.73 (20.35)  0.92 (1.19)  12.66 (5.48)  16.85 (6.03)   \n",
       "\n",
       "            panss_o    panss_total  \n",
       "value  27.75 (7.51)  57.26 (16.18)  "
      ]
     },
     "execution_count": 27,
     "metadata": {},
     "output_type": "execute_result"
    }
   ],
   "source": [
    "mean_std(df, cols)"
   ]
  },
  {
   "cell_type": "code",
   "execution_count": 28,
   "id": "6a84a8e7",
   "metadata": {},
   "outputs": [
    {
     "data": {
      "text/html": [
       "<div>\n",
       "<style scoped>\n",
       "    .dataframe tbody tr th:only-of-type {\n",
       "        vertical-align: middle;\n",
       "    }\n",
       "\n",
       "    .dataframe tbody tr th {\n",
       "        vertical-align: top;\n",
       "    }\n",
       "\n",
       "    .dataframe thead th {\n",
       "        text-align: right;\n",
       "    }\n",
       "</style>\n",
       "<table border=\"1\" class=\"dataframe\">\n",
       "  <thead>\n",
       "    <tr style=\"text-align: right;\">\n",
       "      <th></th>\n",
       "      <th>age</th>\n",
       "      <th>sex_nr</th>\n",
       "      <th>Bildungsjahre</th>\n",
       "      <th>IQ_kristallin</th>\n",
       "      <th>saps34</th>\n",
       "      <th>saps_total</th>\n",
       "      <th>sans_total</th>\n",
       "      <th>sans12</th>\n",
       "      <th>panss_pos</th>\n",
       "      <th>panss_neg</th>\n",
       "      <th>panss_o</th>\n",
       "      <th>panss_total</th>\n",
       "    </tr>\n",
       "    <tr>\n",
       "      <th>sex_nr</th>\n",
       "      <th></th>\n",
       "      <th></th>\n",
       "      <th></th>\n",
       "      <th></th>\n",
       "      <th></th>\n",
       "      <th></th>\n",
       "      <th></th>\n",
       "      <th></th>\n",
       "      <th></th>\n",
       "      <th></th>\n",
       "      <th></th>\n",
       "      <th></th>\n",
       "    </tr>\n",
       "  </thead>\n",
       "  <tbody>\n",
       "    <tr>\n",
       "      <th>0.0</th>\n",
       "      <td>37.29 (10.12)</td>\n",
       "      <td>0.0 (0.0)</td>\n",
       "      <td>14.54 (3.11)</td>\n",
       "      <td>107.0 (12.7)</td>\n",
       "      <td>1.03 (1.04)</td>\n",
       "      <td>18.57 (16.7)</td>\n",
       "      <td>28.63 (21.23)</td>\n",
       "      <td>0.94 (1.24)</td>\n",
       "      <td>13.37 (5.61)</td>\n",
       "      <td>17.14 (6.6)</td>\n",
       "      <td>28.64 (7.63)</td>\n",
       "      <td>59.15 (16.99)</td>\n",
       "    </tr>\n",
       "    <tr>\n",
       "      <th>1.0</th>\n",
       "      <td>42.71 (11.9)</td>\n",
       "      <td>1.0 (0.0)</td>\n",
       "      <td>14.73 (2.78)</td>\n",
       "      <td>102.35 (19.28)</td>\n",
       "      <td>1.04 (1.08)</td>\n",
       "      <td>14.25 (16.71)</td>\n",
       "      <td>26.42 (19.37)</td>\n",
       "      <td>0.88 (1.15)</td>\n",
       "      <td>11.62 (5.22)</td>\n",
       "      <td>16.42 (5.17)</td>\n",
       "      <td>26.45 (7.3)</td>\n",
       "      <td>54.5 (14.84)</td>\n",
       "    </tr>\n",
       "  </tbody>\n",
       "</table>\n",
       "</div>"
      ],
      "text/plain": [
       "                  age     sex_nr Bildungsjahre   IQ_kristallin       saps34  \\\n",
       "sex_nr                                                                        \n",
       "0.0     37.29 (10.12)  0.0 (0.0)  14.54 (3.11)    107.0 (12.7)  1.03 (1.04)   \n",
       "1.0      42.71 (11.9)  1.0 (0.0)  14.73 (2.78)  102.35 (19.28)  1.04 (1.08)   \n",
       "\n",
       "           saps_total     sans_total       sans12     panss_pos     panss_neg  \\\n",
       "sex_nr                                                                          \n",
       "0.0      18.57 (16.7)  28.63 (21.23)  0.94 (1.24)  13.37 (5.61)   17.14 (6.6)   \n",
       "1.0     14.25 (16.71)  26.42 (19.37)  0.88 (1.15)  11.62 (5.22)  16.42 (5.17)   \n",
       "\n",
       "             panss_o    panss_total  \n",
       "sex_nr                               \n",
       "0.0     28.64 (7.63)  59.15 (16.99)  \n",
       "1.0      26.45 (7.3)   54.5 (14.84)  "
      ]
     },
     "execution_count": 28,
     "metadata": {},
     "output_type": "execute_result"
    }
   ],
   "source": [
    "mean_std(df, cols, 'sex_nr')"
   ]
  },
  {
   "cell_type": "code",
   "execution_count": 29,
   "id": "af4c85a3",
   "metadata": {},
   "outputs": [
    {
     "data": {
      "text/plain": [
       "sex_nr\n",
       "0.0    35\n",
       "1.0    24\n",
       "Name: age, dtype: int64"
      ]
     },
     "execution_count": 29,
     "metadata": {},
     "output_type": "execute_result"
    }
   ],
   "source": [
    "df.groupby('sex_nr').count()['age']"
   ]
  },
  {
   "cell_type": "code",
   "execution_count": 30,
   "id": "6e24874e",
   "metadata": {},
   "outputs": [],
   "source": [
    "# df.age.hist();"
   ]
  },
  {
   "cell_type": "code",
   "execution_count": 31,
   "id": "9741d177",
   "metadata": {},
   "outputs": [],
   "source": [
    "diagnosis = pd.read_excel('/Users/galina.ryazanskaya/Downloads/thesis?/code?/transcripts_NET/NAP/GR_Diagn.xlsx')\n",
    "diagnosis['ID'] = diagnosis['Pat.ID']\n",
    "diagnosis.index = diagnosis['ID']\n",
    "diagnosis.drop(columns=['ID', 'Pat.ID'], inplace=True)"
   ]
  },
  {
   "cell_type": "code",
   "execution_count": 32,
   "id": "3772e4c5",
   "metadata": {},
   "outputs": [
    {
     "data": {
      "text/plain": [
       "Diagnose_Kategorie\n",
       "1                     97\n",
       "2                     33\n",
       "dtype: int64"
      ]
     },
     "execution_count": 32,
     "metadata": {},
     "output_type": "execute_result"
    }
   ],
   "source": [
    "dia_only = diagnosis.drop(columns=['Messzeitpunkt']).dropna()\n",
    "dia_only[dia_only['Diagnose_Kategorie'].isin([1, 2])]\n",
    "dia_only[~dia_only.index.duplicated(keep='first')].value_counts()"
   ]
  },
  {
   "cell_type": "code",
   "execution_count": 33,
   "id": "6e97cd6a",
   "metadata": {},
   "outputs": [],
   "source": [
    "# 1 - sz, 2 - sza"
   ]
  },
  {
   "cell_type": "code",
   "execution_count": 34,
   "id": "c110bd11",
   "metadata": {},
   "outputs": [],
   "source": [
    "# pd.read_excel('/Users/galina.ryazanskaya/Downloads/thesis?/code?/transcripts_NET/NAP/GR_all6M_MPP.xlsx')"
   ]
  },
  {
   "cell_type": "markdown",
   "id": "3128c1b0",
   "metadata": {},
   "source": [
    "# Healthy controls"
   ]
  },
  {
   "cell_type": "code",
   "execution_count": 35,
   "id": "d62d5776",
   "metadata": {},
   "outputs": [],
   "source": [
    "df_hc = pd.read_csv(PATH + 'HC/NET_HC.csv', index_col=0, na_values=[' ', ''])"
   ]
  },
  {
   "cell_type": "code",
   "execution_count": 36,
   "id": "f7478343",
   "metadata": {},
   "outputs": [
    {
     "data": {
      "text/plain": [
       "Index(['age', 'sex_nr', 'Bildungsjahre'], dtype='object')"
      ]
     },
     "execution_count": 36,
     "metadata": {},
     "output_type": "execute_result"
    }
   ],
   "source": [
    "df_hc.columns"
   ]
  },
  {
   "cell_type": "markdown",
   "id": "88d70c5e",
   "metadata": {},
   "source": [
    "#### Look up descriptive stats"
   ]
  },
  {
   "cell_type": "code",
   "execution_count": 37,
   "id": "9455fdbe",
   "metadata": {},
   "outputs": [
    {
     "data": {
      "text/plain": [
       "age              20\n",
       "sex_nr           20\n",
       "Bildungsjahre    19\n",
       "dtype: int64"
      ]
     },
     "execution_count": 37,
     "metadata": {},
     "output_type": "execute_result"
    }
   ],
   "source": [
    "df_hc.count()"
   ]
  },
  {
   "cell_type": "code",
   "execution_count": 38,
   "id": "096447dc",
   "metadata": {},
   "outputs": [
    {
     "data": {
      "text/html": [
       "<div>\n",
       "<style scoped>\n",
       "    .dataframe tbody tr th:only-of-type {\n",
       "        vertical-align: middle;\n",
       "    }\n",
       "\n",
       "    .dataframe tbody tr th {\n",
       "        vertical-align: top;\n",
       "    }\n",
       "\n",
       "    .dataframe thead th {\n",
       "        text-align: right;\n",
       "    }\n",
       "</style>\n",
       "<table border=\"1\" class=\"dataframe\">\n",
       "  <thead>\n",
       "    <tr style=\"text-align: right;\">\n",
       "      <th></th>\n",
       "      <th>age</th>\n",
       "      <th>Bildungsjahre</th>\n",
       "    </tr>\n",
       "  </thead>\n",
       "  <tbody>\n",
       "    <tr>\n",
       "      <th>value</th>\n",
       "      <td>43.85 (13.29)</td>\n",
       "      <td>15.5 (2.78)</td>\n",
       "    </tr>\n",
       "  </tbody>\n",
       "</table>\n",
       "</div>"
      ],
      "text/plain": [
       "                 age Bildungsjahre\n",
       "value  43.85 (13.29)   15.5 (2.78)"
      ]
     },
     "execution_count": 38,
     "metadata": {},
     "output_type": "execute_result"
    }
   ],
   "source": [
    "mean_std(df_hc, ['age', 'Bildungsjahre'])"
   ]
  },
  {
   "cell_type": "code",
   "execution_count": 39,
   "id": "37fa2f3b",
   "metadata": {},
   "outputs": [
    {
     "data": {
      "text/html": [
       "<div>\n",
       "<style scoped>\n",
       "    .dataframe tbody tr th:only-of-type {\n",
       "        vertical-align: middle;\n",
       "    }\n",
       "\n",
       "    .dataframe tbody tr th {\n",
       "        vertical-align: top;\n",
       "    }\n",
       "\n",
       "    .dataframe thead th {\n",
       "        text-align: right;\n",
       "    }\n",
       "</style>\n",
       "<table border=\"1\" class=\"dataframe\">\n",
       "  <thead>\n",
       "    <tr style=\"text-align: right;\">\n",
       "      <th></th>\n",
       "      <th>age</th>\n",
       "      <th>Bildungsjahre</th>\n",
       "    </tr>\n",
       "    <tr>\n",
       "      <th>sex_nr</th>\n",
       "      <th></th>\n",
       "      <th></th>\n",
       "    </tr>\n",
       "  </thead>\n",
       "  <tbody>\n",
       "    <tr>\n",
       "      <th>0.0</th>\n",
       "      <td>42.27 (12.24)</td>\n",
       "      <td>15.7 (3.13)</td>\n",
       "    </tr>\n",
       "    <tr>\n",
       "      <th>1.0</th>\n",
       "      <td>45.78 (14.99)</td>\n",
       "      <td>15.28 (2.51)</td>\n",
       "    </tr>\n",
       "  </tbody>\n",
       "</table>\n",
       "</div>"
      ],
      "text/plain": [
       "                  age Bildungsjahre\n",
       "sex_nr                             \n",
       "0.0     42.27 (12.24)   15.7 (3.13)\n",
       "1.0     45.78 (14.99)  15.28 (2.51)"
      ]
     },
     "execution_count": 39,
     "metadata": {},
     "output_type": "execute_result"
    }
   ],
   "source": [
    "mean_std(df_hc, ['age', 'Bildungsjahre'], 'sex_nr')"
   ]
  },
  {
   "cell_type": "code",
   "execution_count": 40,
   "id": "1fef018e",
   "metadata": {},
   "outputs": [
    {
     "data": {
      "text/html": [
       "<div>\n",
       "<style scoped>\n",
       "    .dataframe tbody tr th:only-of-type {\n",
       "        vertical-align: middle;\n",
       "    }\n",
       "\n",
       "    .dataframe tbody tr th {\n",
       "        vertical-align: top;\n",
       "    }\n",
       "\n",
       "    .dataframe thead th {\n",
       "        text-align: right;\n",
       "    }\n",
       "</style>\n",
       "<table border=\"1\" class=\"dataframe\">\n",
       "  <thead>\n",
       "    <tr style=\"text-align: right;\">\n",
       "      <th></th>\n",
       "      <th>age</th>\n",
       "      <th>Bildungsjahre</th>\n",
       "    </tr>\n",
       "    <tr>\n",
       "      <th>sex_nr</th>\n",
       "      <th></th>\n",
       "      <th></th>\n",
       "    </tr>\n",
       "  </thead>\n",
       "  <tbody>\n",
       "    <tr>\n",
       "      <th>0.0</th>\n",
       "      <td>11</td>\n",
       "      <td>10</td>\n",
       "    </tr>\n",
       "    <tr>\n",
       "      <th>1.0</th>\n",
       "      <td>9</td>\n",
       "      <td>9</td>\n",
       "    </tr>\n",
       "  </tbody>\n",
       "</table>\n",
       "</div>"
      ],
      "text/plain": [
       "        age  Bildungsjahre\n",
       "sex_nr                    \n",
       "0.0      11             10\n",
       "1.0       9              9"
      ]
     },
     "execution_count": 40,
     "metadata": {},
     "output_type": "execute_result"
    }
   ],
   "source": [
    "df_hc.groupby('sex_nr').count()"
   ]
  },
  {
   "cell_type": "code",
   "execution_count": 41,
   "id": "21fe7f3a",
   "metadata": {},
   "outputs": [],
   "source": [
    "# df_hc.index"
   ]
  },
  {
   "cell_type": "markdown",
   "id": "f59fea17",
   "metadata": {},
   "source": [
    "#### Check that all the transcripts are availble"
   ]
  },
  {
   "cell_type": "code",
   "execution_count": 42,
   "id": "87d3f3d7",
   "metadata": {},
   "outputs": [],
   "source": [
    "res_hc =  pd.read_csv('/Users/galina.ryazanskaya/Downloads/thesis?/code?/processed_values/de_HC.tsv', sep='\\t', index_col=0, header=[0, 1, 2])"
   ]
  },
  {
   "cell_type": "code",
   "execution_count": 43,
   "id": "741c97e2",
   "metadata": {},
   "outputs": [],
   "source": [
    "idxs_HC = sorted([x.replace('_c', '').replace('NET_', '')  for x in res_hc.index])"
   ]
  },
  {
   "cell_type": "code",
   "execution_count": 44,
   "id": "39116c50",
   "metadata": {},
   "outputs": [],
   "source": [
    "assert not set(idxs_HC).difference(set(df_hc.index))"
   ]
  },
  {
   "cell_type": "code",
   "execution_count": 45,
   "id": "8dda3ae6",
   "metadata": {},
   "outputs": [],
   "source": [
    "df_hc = df_hc.loc[idxs_HC]"
   ]
  },
  {
   "cell_type": "code",
   "execution_count": 46,
   "id": "aa8d345f",
   "metadata": {},
   "outputs": [],
   "source": [
    "df_hc.index.rename('ID', inplace=True)"
   ]
  },
  {
   "cell_type": "code",
   "execution_count": 47,
   "id": "84132b46",
   "metadata": {},
   "outputs": [],
   "source": [
    "res_hc.index = [x.replace('_c', '').replace('NET_', '')  for x in res_hc.index]\n",
    "res_hc.index.rename('ID', inplace=True)"
   ]
  },
  {
   "cell_type": "code",
   "execution_count": 48,
   "id": "abd983f9",
   "metadata": {},
   "outputs": [],
   "source": [
    "res_hc.columns = pd.MultiIndex.from_tuples([(c[0], c[1], c[2].replace('sporb', 'sprob')) for c in res_hc.columns], names=('TASK', None, None))"
   ]
  },
  {
   "cell_type": "code",
   "execution_count": 49,
   "id": "9fee3370",
   "metadata": {},
   "outputs": [
    {
     "name": "stderr",
     "output_type": "stream",
     "text": [
      "/var/folders/1l/2khv4cgj7xs0zrm9hnl_yrzh0000gn/T/ipykernel_31101/1853110338.py:1: FutureWarning: merging between different levels is deprecated and will be removed in a future version. (1 levels on the left, 2 on the right)\n",
      "  merged_hc = df_hc.merge(res_hc['averaged'], on='ID', how='outer')\n"
     ]
    }
   ],
   "source": [
    "merged_hc = df_hc.merge(res_hc['averaged'], on='ID', how='outer')\n",
    "corr_hc = merged_hc.corr()"
   ]
  },
  {
   "cell_type": "markdown",
   "id": "011bc6cd",
   "metadata": {},
   "source": [
    "#### Fill NA in syntactic (percentage of unused POS should be zero, not NA)"
   ]
  },
  {
   "cell_type": "code",
   "execution_count": 50,
   "id": "1b205e77",
   "metadata": {},
   "outputs": [],
   "source": [
    "cols_LM = [col for col in merged_hc if col[0] == 'LM']\n",
    "cols_synt = [col for col in merged_hc if col[0] == 'syntactic']\n",
    "cols_lex = [col for col in merged_hc if col[0] == 'lexical']\n",
    "cols_graph = [col for col in merged_hc if col[0] == 'graph']"
   ]
  },
  {
   "cell_type": "code",
   "execution_count": 51,
   "id": "8fc9ed7e",
   "metadata": {},
   "outputs": [],
   "source": [
    "pos = set([x[1] for x in cols_synt if x[1].isupper()])"
   ]
  },
  {
   "cell_type": "code",
   "execution_count": 52,
   "id": "de4155bf",
   "metadata": {},
   "outputs": [
    {
     "data": {
      "text/plain": [
       "{'ADP', 'INTJ', 'NUM', 'PUNCT', 'SPACE', 'X'}"
      ]
     },
     "execution_count": 52,
     "metadata": {},
     "output_type": "execute_result"
    }
   ],
   "source": [
    "pos.difference(set(('ADJ', 'ADV', 'AUX', 'CCONJ', 'DET','NOUN', 'PRON', 'PROPN', 'SCONJ', 'VERB', 'PART')))"
   ]
  },
  {
   "cell_type": "code",
   "execution_count": 53,
   "id": "0be17646",
   "metadata": {},
   "outputs": [],
   "source": [
    "POS_to_use = ('ADJ', 'ADV', 'AUX', 'CCONJ', 'DET','NOUN', 'PRON', 'PROPN', 'SCONJ', 'VERB', 'PART')"
   ]
  },
  {
   "cell_type": "code",
   "execution_count": 54,
   "id": "2576ee53",
   "metadata": {},
   "outputs": [],
   "source": [
    "# ', '.join(POS_to_use)"
   ]
  },
  {
   "cell_type": "code",
   "execution_count": 55,
   "id": "b25acb8d",
   "metadata": {},
   "outputs": [
    {
     "data": {
      "text/plain": [
       "Index([('syntactic', 'INTJ'), ('syntactic', 'NUM'), ('syntactic', 'X')], dtype='object')"
      ]
     },
     "execution_count": 55,
     "metadata": {},
     "output_type": "execute_result"
    }
   ],
   "source": [
    "s = merged_hc[cols_synt].isna().any()\n",
    "s[s].index"
   ]
  },
  {
   "cell_type": "code",
   "execution_count": 56,
   "id": "a65609b6",
   "metadata": {},
   "outputs": [],
   "source": [
    "merged_hc[s[s].index] = merged_hc[s[s].index].fillna(0.0)"
   ]
  },
  {
   "cell_type": "code",
   "execution_count": 57,
   "id": "9eee562b",
   "metadata": {},
   "outputs": [],
   "source": [
    "merged_hc.drop(columns=[c for c in cols_synt if c[1].isupper() and c[1] not in POS_to_use], inplace=True)"
   ]
  },
  {
   "cell_type": "code",
   "execution_count": 58,
   "id": "ec7ee7b8",
   "metadata": {
    "scrolled": false
   },
   "outputs": [],
   "source": [
    "cols_to_drop = [(task, *c) for c in cols_synt if c[1].isupper() and c[1] not in POS_to_use for task in res.columns.unique(level='TASK')]\n",
    "res.drop(columns=cols_to_drop, inplace=True)"
   ]
  },
  {
   "cell_type": "code",
   "execution_count": 59,
   "id": "8a9635c9",
   "metadata": {},
   "outputs": [],
   "source": [
    "cols_synt = [col for col in merged_hc if col[0] == 'syntactic']\n",
    "cols_av = cols_synt + cols_LM + cols_lex + cols_graph"
   ]
  },
  {
   "cell_type": "code",
   "execution_count": 60,
   "id": "33fdc145",
   "metadata": {
    "scrolled": true
   },
   "outputs": [],
   "source": [
    "# merged_hc[s[s].index][merged_hc[cols_synt].isna().any(axis=1)]"
   ]
  },
  {
   "cell_type": "markdown",
   "id": "0b86e87e",
   "metadata": {},
   "source": [
    "### Analyze the effects of age in healthy controls"
   ]
  },
  {
   "cell_type": "code",
   "execution_count": 61,
   "id": "66ed9523",
   "metadata": {
    "scrolled": true
   },
   "outputs": [],
   "source": [
    "# df_hc.age.hist();"
   ]
  },
  {
   "cell_type": "code",
   "execution_count": 62,
   "id": "b5528936",
   "metadata": {},
   "outputs": [
    {
     "data": {
      "text/html": [
       "<div>\n",
       "<style scoped>\n",
       "    .dataframe tbody tr th:only-of-type {\n",
       "        vertical-align: middle;\n",
       "    }\n",
       "\n",
       "    .dataframe tbody tr th {\n",
       "        vertical-align: top;\n",
       "    }\n",
       "\n",
       "    .dataframe thead th {\n",
       "        text-align: right;\n",
       "    }\n",
       "</style>\n",
       "<table border=\"1\" class=\"dataframe\">\n",
       "  <thead>\n",
       "    <tr style=\"text-align: right;\">\n",
       "      <th></th>\n",
       "      <th>age</th>\n",
       "      <th>sex_nr</th>\n",
       "      <th>Bildungsjahre</th>\n",
       "    </tr>\n",
       "    <tr>\n",
       "      <th>ID</th>\n",
       "      <th></th>\n",
       "      <th></th>\n",
       "      <th></th>\n",
       "    </tr>\n",
       "  </thead>\n",
       "  <tbody>\n",
       "    <tr>\n",
       "      <th>KG_010</th>\n",
       "      <td>65.0</td>\n",
       "      <td>0.0</td>\n",
       "      <td>18.0</td>\n",
       "    </tr>\n",
       "    <tr>\n",
       "      <th>KG_015</th>\n",
       "      <td>68.0</td>\n",
       "      <td>1.0</td>\n",
       "      <td>16.0</td>\n",
       "    </tr>\n",
       "  </tbody>\n",
       "</table>\n",
       "</div>"
      ],
      "text/plain": [
       "         age  sex_nr  Bildungsjahre\n",
       "ID                                 \n",
       "KG_010  65.0     0.0           18.0\n",
       "KG_015  68.0     1.0           16.0"
      ]
     },
     "execution_count": 62,
     "metadata": {},
     "output_type": "execute_result"
    }
   ],
   "source": [
    "df_hc[df_hc.age > 60]"
   ]
  },
  {
   "cell_type": "code",
   "execution_count": 63,
   "id": "553d864b",
   "metadata": {},
   "outputs": [
    {
     "data": {
      "text/plain": [
       "age                          1.000000\n",
       "(graph, PE)                  0.320571\n",
       "(graph, degree_average)      0.306332\n",
       "(graph, degree_std)          0.307724\n",
       "(syntactic, NUM)            -0.303372\n",
       "(syntactic, PRON)            0.312938\n",
       "(syntactic, VERB)            0.323338\n",
       "(syntactic, X)               0.305444\n",
       "(syntactic, min_sent_len)    0.374543\n",
       "Name: age, dtype: float64"
      ]
     },
     "execution_count": 63,
     "metadata": {},
     "output_type": "execute_result"
    }
   ],
   "source": [
    "corr_hc[abs(corr_hc['age']) > 0.3]['age']"
   ]
  },
  {
   "cell_type": "code",
   "execution_count": 64,
   "id": "72ac4b82",
   "metadata": {},
   "outputs": [
    {
     "data": {
      "text/plain": [
       "Index([                        'age',               ('graph', 'PE'),\n",
       "         ('graph', 'degree_average'),       ('graph', 'degree_std'),\n",
       "                ('syntactic', 'NUM'),         ('syntactic', 'PRON'),\n",
       "               ('syntactic', 'VERB'),            ('syntactic', 'X'),\n",
       "       ('syntactic', 'min_sent_len')],\n",
       "      dtype='object')"
      ]
     },
     "execution_count": 64,
     "metadata": {},
     "output_type": "execute_result"
    }
   ],
   "source": [
    "corr_hc[abs(corr_hc['age']) > 0.3].index"
   ]
  },
  {
   "cell_type": "code",
   "execution_count": 65,
   "id": "00cc7e50",
   "metadata": {},
   "outputs": [],
   "source": [
    "# merged_hc.plot.scatter('age', ('syntactic', 'PRON'));"
   ]
  },
  {
   "cell_type": "code",
   "execution_count": 66,
   "id": "41ad8e7d",
   "metadata": {},
   "outputs": [],
   "source": [
    "# merged_hc.plot.scatter('age', ('syntactic', 'AUX'));"
   ]
  },
  {
   "cell_type": "code",
   "execution_count": 67,
   "id": "3a342b48",
   "metadata": {},
   "outputs": [],
   "source": [
    "# merged_hc.plot.scatter('age', ('graph', 'degree_std'));"
   ]
  },
  {
   "cell_type": "code",
   "execution_count": 68,
   "id": "a0e613f3",
   "metadata": {},
   "outputs": [],
   "source": [
    "# merged_hc.plot.scatter('age', ('syntactic', 'VERB'));"
   ]
  },
  {
   "cell_type": "code",
   "execution_count": 69,
   "id": "d69aeb4a",
   "metadata": {},
   "outputs": [
    {
     "data": {
      "text/plain": [
       "Index(['age'], dtype='object')"
      ]
     },
     "execution_count": 69,
     "metadata": {},
     "output_type": "execute_result"
    }
   ],
   "source": [
    "corr_hc[abs(corr_hc['age']) > 0.5].index"
   ]
  },
  {
   "cell_type": "markdown",
   "id": "93c67812",
   "metadata": {},
   "source": [
    "### Analyze the effects of education years in healthy controls"
   ]
  },
  {
   "cell_type": "code",
   "execution_count": 70,
   "id": "5d2583f3",
   "metadata": {},
   "outputs": [
    {
     "data": {
      "text/plain": [
       "Index([               'Bildungsjahre',      ('LM', 'glove_avg_cgcoh'),\n",
       "             ('LM', 'glove_avg_gcoh'),       ('LM', 'glove_avg_lcoh'),\n",
       "             ('LM', 'glove_avg_scoh'),        ('LM', 'glove_tf_gcoh'),\n",
       "              ('LM', 'glove_tf_lcoh'),        ('LM', 'glove_tf_scoh'),\n",
       "              ('LM', 'w2v_avg_cgcoh'),         ('LM', 'w2v_avg_gcoh'),\n",
       "               ('LM', 'w2v_avg_lcoh'),         ('LM', 'w2v_avg_scoh'),\n",
       "               ('LM', 'w2v_tf_cgcoh'),          ('LM', 'w2v_tf_gcoh'),\n",
       "                ('LM', 'w2v_tf_lcoh'),          ('LM', 'w2v_tf_scoh'),\n",
       "                      ('graph', 'L1'),                ('graph', 'L3'),\n",
       "               ('lexical', 'n_words'),         ('syntactic', 'CCONJ'),\n",
       "                 ('syntactic', 'NUM'),         ('syntactic', 'PUNCT'),\n",
       "        ('syntactic', 'max_sent_len'), ('syntactic', 'mean_sent_len'),\n",
       "        ('syntactic', 'std_sent_len')],\n",
       "      dtype='object')"
      ]
     },
     "execution_count": 70,
     "metadata": {},
     "output_type": "execute_result"
    }
   ],
   "source": [
    "corr_hc[abs(corr_hc['Bildungsjahre']) > 0.3].index"
   ]
  },
  {
   "cell_type": "code",
   "execution_count": 71,
   "id": "63155489",
   "metadata": {},
   "outputs": [
    {
     "data": {
      "text/plain": [
       "Index(['Bildungsjahre'], dtype='object')"
      ]
     },
     "execution_count": 71,
     "metadata": {},
     "output_type": "execute_result"
    }
   ],
   "source": [
    "corr_hc[abs(corr_hc['Bildungsjahre']) > 0.5].index"
   ]
  },
  {
   "cell_type": "code",
   "execution_count": 72,
   "id": "3a0b63f6",
   "metadata": {},
   "outputs": [],
   "source": [
    "# merged_hc.plot.scatter('Bildungsjahre', ('LM', 'm_scoh'));"
   ]
  },
  {
   "cell_type": "code",
   "execution_count": 73,
   "id": "a1b193a7",
   "metadata": {},
   "outputs": [
    {
     "data": {
      "text/plain": [
       "PearsonRResult(statistic=0.6979892992324983, pvalue=5.70092797959998e-10)"
      ]
     },
     "execution_count": 73,
     "metadata": {},
     "output_type": "execute_result"
    }
   ],
   "source": [
    "stats.pearsonr(corr_hc['Bildungsjahre'], corr_hc[('syntactic', 'std_sent_len')])"
   ]
  },
  {
   "cell_type": "code",
   "execution_count": 74,
   "id": "147bcb1d",
   "metadata": {},
   "outputs": [],
   "source": [
    "# merged_hc.plot.scatter('Bildungsjahre', ('syntactic', 'std_sent_len'));"
   ]
  },
  {
   "cell_type": "markdown",
   "id": "a3356b0c",
   "metadata": {},
   "source": [
    "### Analyze the effects of sentence length in healthy controls"
   ]
  },
  {
   "cell_type": "code",
   "execution_count": 75,
   "id": "5f68c7c9",
   "metadata": {},
   "outputs": [],
   "source": [
    "# merged_hc[('syntactic', 'mean_sent_len')].plot.hist();"
   ]
  },
  {
   "cell_type": "code",
   "execution_count": 76,
   "id": "4e029aec",
   "metadata": {},
   "outputs": [],
   "source": [
    "# corr_hc[abs(corr_hc[('syntactic', 'mean_sent_len')]) > 0.3].index"
   ]
  },
  {
   "cell_type": "code",
   "execution_count": 77,
   "id": "609a734b",
   "metadata": {},
   "outputs": [],
   "source": [
    "# corr_hc[abs(corr_hc[('syntactic', 'mean_sent_len')]) > 0.5].index"
   ]
  },
  {
   "cell_type": "code",
   "execution_count": 78,
   "id": "124bb028",
   "metadata": {},
   "outputs": [],
   "source": [
    "# corr_hc[abs(corr_hc[('syntactic', 'mean_sent_len')]) > 0.6].index"
   ]
  },
  {
   "cell_type": "code",
   "execution_count": 79,
   "id": "a9761e51",
   "metadata": {},
   "outputs": [],
   "source": [
    "# corr_hc.loc[corr_hc[abs(corr_hc[('syntactic', 'mean_sent_len')]) > 0.6].index][('syntactic', 'mean_sent_len')].sort_values(key=lambda x: abs(x), ascending=False)"
   ]
  },
  {
   "cell_type": "code",
   "execution_count": 80,
   "id": "c214ec93",
   "metadata": {},
   "outputs": [],
   "source": [
    "# merged_hc[merged_hc[('syntactic', 'mean_sent_len')] < 24].plot.scatter(('syntactic', 'mean_sent_len'), ('syntactic', 'AUX'));"
   ]
  },
  {
   "cell_type": "code",
   "execution_count": 81,
   "id": "9eca69b2",
   "metadata": {},
   "outputs": [],
   "source": [
    "# merged_hc[merged_hc[('syntactic', 'mean_sent_len')] < 24].plot.scatter(('syntactic', 'mean_sent_len'), ('LM', 'm_scoh'));"
   ]
  },
  {
   "cell_type": "code",
   "execution_count": 82,
   "id": "6ab153e4",
   "metadata": {},
   "outputs": [],
   "source": [
    "# merged_hc[merged_hc[('syntactic', 'mean_sent_len')] < 24].plot.scatter(('syntactic', 'mean_sent_len'), ('LM', 'm_cgcoh'));"
   ]
  },
  {
   "cell_type": "code",
   "execution_count": 83,
   "id": "5cda6d11",
   "metadata": {},
   "outputs": [],
   "source": [
    "# merged_hc[merged_hc[('syntactic', 'mean_sent_len')] < 24].plot.scatter(('syntactic', 'mean_sent_len'), ('LM', 'm_gcoh'));"
   ]
  },
  {
   "cell_type": "code",
   "execution_count": 84,
   "id": "cd55f1b2",
   "metadata": {},
   "outputs": [],
   "source": [
    "# merged_hc[merged_hc[('syntactic', 'mean_sent_len')] < 24].plot.scatter(('syntactic', 'mean_sent_len'), ('LM', 'm_lcoh'));"
   ]
  },
  {
   "cell_type": "markdown",
   "id": "4369d622",
   "metadata": {},
   "source": [
    "# Merge control and patient data"
   ]
  },
  {
   "cell_type": "code",
   "execution_count": 85,
   "id": "79c2c97e",
   "metadata": {},
   "outputs": [],
   "source": [
    "df['group'] = 1\n",
    "df_hc['group'] = 0\n",
    "compare_groups = pd.concat([df[cols + ['group']], df_hc], axis=0)"
   ]
  },
  {
   "cell_type": "code",
   "execution_count": 86,
   "id": "99cdbf6b",
   "metadata": {},
   "outputs": [
    {
     "data": {
      "text/html": [
       "<div>\n",
       "<style scoped>\n",
       "    .dataframe tbody tr th:only-of-type {\n",
       "        vertical-align: middle;\n",
       "    }\n",
       "\n",
       "    .dataframe tbody tr th {\n",
       "        vertical-align: top;\n",
       "    }\n",
       "\n",
       "    .dataframe thead th {\n",
       "        text-align: right;\n",
       "    }\n",
       "</style>\n",
       "<table border=\"1\" class=\"dataframe\">\n",
       "  <thead>\n",
       "    <tr style=\"text-align: right;\">\n",
       "      <th></th>\n",
       "      <th>age</th>\n",
       "      <th>sex_nr</th>\n",
       "      <th>Bildungsjahre</th>\n",
       "      <th>IQ_kristallin</th>\n",
       "      <th>saps34</th>\n",
       "      <th>saps_total</th>\n",
       "      <th>sans_total</th>\n",
       "      <th>sans12</th>\n",
       "      <th>panss_pos</th>\n",
       "      <th>panss_neg</th>\n",
       "      <th>panss_o</th>\n",
       "      <th>panss_total</th>\n",
       "    </tr>\n",
       "    <tr>\n",
       "      <th>group</th>\n",
       "      <th></th>\n",
       "      <th></th>\n",
       "      <th></th>\n",
       "      <th></th>\n",
       "      <th></th>\n",
       "      <th></th>\n",
       "      <th></th>\n",
       "      <th></th>\n",
       "      <th></th>\n",
       "      <th></th>\n",
       "      <th></th>\n",
       "      <th></th>\n",
       "    </tr>\n",
       "  </thead>\n",
       "  <tbody>\n",
       "    <tr>\n",
       "      <th>0</th>\n",
       "      <td>20</td>\n",
       "      <td>20</td>\n",
       "      <td>19</td>\n",
       "      <td>0</td>\n",
       "      <td>0</td>\n",
       "      <td>0</td>\n",
       "      <td>0</td>\n",
       "      <td>0</td>\n",
       "      <td>0</td>\n",
       "      <td>0</td>\n",
       "      <td>0</td>\n",
       "      <td>0</td>\n",
       "    </tr>\n",
       "    <tr>\n",
       "      <th>1</th>\n",
       "      <td>59</td>\n",
       "      <td>59</td>\n",
       "      <td>59</td>\n",
       "      <td>58</td>\n",
       "      <td>59</td>\n",
       "      <td>59</td>\n",
       "      <td>59</td>\n",
       "      <td>59</td>\n",
       "      <td>59</td>\n",
       "      <td>59</td>\n",
       "      <td>59</td>\n",
       "      <td>59</td>\n",
       "    </tr>\n",
       "  </tbody>\n",
       "</table>\n",
       "</div>"
      ],
      "text/plain": [
       "       age  sex_nr  Bildungsjahre  IQ_kristallin  saps34  saps_total  \\\n",
       "group                                                                  \n",
       "0       20      20             19              0       0           0   \n",
       "1       59      59             59             58      59          59   \n",
       "\n",
       "       sans_total  sans12  panss_pos  panss_neg  panss_o  panss_total  \n",
       "group                                                                  \n",
       "0               0       0          0          0        0            0  \n",
       "1              59      59         59         59       59           59  "
      ]
     },
     "execution_count": 86,
     "metadata": {},
     "output_type": "execute_result"
    }
   ],
   "source": [
    "compare_groups.groupby(['group']).count()"
   ]
  },
  {
   "cell_type": "code",
   "execution_count": 87,
   "id": "f450794d",
   "metadata": {
    "scrolled": true
   },
   "outputs": [
    {
     "data": {
      "text/html": [
       "<div>\n",
       "<style scoped>\n",
       "    .dataframe tbody tr th:only-of-type {\n",
       "        vertical-align: middle;\n",
       "    }\n",
       "\n",
       "    .dataframe tbody tr th {\n",
       "        vertical-align: top;\n",
       "    }\n",
       "\n",
       "    .dataframe thead th {\n",
       "        text-align: right;\n",
       "    }\n",
       "</style>\n",
       "<table border=\"1\" class=\"dataframe\">\n",
       "  <thead>\n",
       "    <tr style=\"text-align: right;\">\n",
       "      <th></th>\n",
       "      <th>age</th>\n",
       "      <th>Bildungsjahre</th>\n",
       "    </tr>\n",
       "    <tr>\n",
       "      <th>group</th>\n",
       "      <th></th>\n",
       "      <th></th>\n",
       "    </tr>\n",
       "  </thead>\n",
       "  <tbody>\n",
       "    <tr>\n",
       "      <th>0</th>\n",
       "      <td>43.85 (13.29)</td>\n",
       "      <td>15.5 (2.78)</td>\n",
       "    </tr>\n",
       "    <tr>\n",
       "      <th>1</th>\n",
       "      <td>39.49 (11.11)</td>\n",
       "      <td>14.62 (2.95)</td>\n",
       "    </tr>\n",
       "  </tbody>\n",
       "</table>\n",
       "</div>"
      ],
      "text/plain": [
       "                 age Bildungsjahre\n",
       "group                             \n",
       "0      43.85 (13.29)   15.5 (2.78)\n",
       "1      39.49 (11.11)  14.62 (2.95)"
      ]
     },
     "execution_count": 87,
     "metadata": {},
     "output_type": "execute_result"
    }
   ],
   "source": [
    "mean_std(compare_groups, ['age', 'Bildungsjahre'], 'group')"
   ]
  },
  {
   "cell_type": "code",
   "execution_count": 88,
   "id": "4d8afe4a",
   "metadata": {},
   "outputs": [],
   "source": [
    "# sns.histplot(compare_groups['saps_total']);"
   ]
  },
  {
   "cell_type": "code",
   "execution_count": 89,
   "id": "cca7d131",
   "metadata": {},
   "outputs": [],
   "source": [
    "# sns.histplot(compare_groups['sans_total']);"
   ]
  },
  {
   "cell_type": "code",
   "execution_count": 90,
   "id": "f80fb906",
   "metadata": {
    "scrolled": true
   },
   "outputs": [
    {
     "data": {
      "text/plain": [
       "0.15339927043476997"
      ]
     },
     "execution_count": 90,
     "metadata": {},
     "output_type": "execute_result"
    }
   ],
   "source": [
    "stats.ttest_ind(df['age'], df_hc['age']).pvalue"
   ]
  },
  {
   "cell_type": "code",
   "execution_count": 91,
   "id": "4be274e6",
   "metadata": {
    "scrolled": true
   },
   "outputs": [
    {
     "data": {
      "text/plain": [
       "0.2552563345667248"
      ]
     },
     "execution_count": 91,
     "metadata": {},
     "output_type": "execute_result"
    }
   ],
   "source": [
    "stats.ttest_ind(df['Bildungsjahre'], df_hc['Bildungsjahre'], nan_policy='omit').pvalue"
   ]
  },
  {
   "cell_type": "code",
   "execution_count": 92,
   "id": "3e6a30d9",
   "metadata": {},
   "outputs": [
    {
     "name": "stderr",
     "output_type": "stream",
     "text": [
      "/var/folders/1l/2khv4cgj7xs0zrm9hnl_yrzh0000gn/T/ipykernel_31101/1114475667.py:1: FutureWarning: merging between different levels is deprecated and will be removed in a future version. (1 levels on the left, 2 on the right)\n",
      "  combined_data_averaged = compare_groups.merge(pd.concat([res['averaged'], res_hc['averaged']], axis=0), on='ID', how='outer')\n"
     ]
    }
   ],
   "source": [
    "combined_data_averaged = compare_groups.merge(pd.concat([res['averaged'], res_hc['averaged']], axis=0), on='ID', how='outer')"
   ]
  },
  {
   "cell_type": "markdown",
   "id": "2a70de19",
   "metadata": {},
   "source": [
    "### Fill NA in syntactic  (percentage of unused POS should be zero, not NA)"
   ]
  },
  {
   "cell_type": "code",
   "execution_count": 93,
   "id": "28d3819e",
   "metadata": {},
   "outputs": [
    {
     "data": {
      "text/plain": [
       "Index([('syntactic', 'ADJ'), ('syntactic', 'PROPN')], dtype='object')"
      ]
     },
     "execution_count": 93,
     "metadata": {},
     "output_type": "execute_result"
    }
   ],
   "source": [
    "s = combined_data_averaged[cols_synt].isna().any()\n",
    "s[s].index"
   ]
  },
  {
   "cell_type": "code",
   "execution_count": 94,
   "id": "fafcc135",
   "metadata": {},
   "outputs": [],
   "source": [
    "# combined_data_averaged[s[s].index][combined_data_averaged[cols_synt].isna().any(axis=1)]"
   ]
  },
  {
   "cell_type": "code",
   "execution_count": 95,
   "id": "4544e98b",
   "metadata": {},
   "outputs": [],
   "source": [
    "combined_data_averaged[s[s].index] = combined_data_averaged[s[s].index].fillna(0.0)"
   ]
  },
  {
   "cell_type": "code",
   "execution_count": 96,
   "id": "1545520f",
   "metadata": {},
   "outputs": [],
   "source": [
    "# combined_data_averaged.columns"
   ]
  },
  {
   "cell_type": "markdown",
   "id": "7a07d92e",
   "metadata": {},
   "source": [
    "# Analyze the differences in control factors"
   ]
  },
  {
   "cell_type": "code",
   "execution_count": 97,
   "id": "f27f1968",
   "metadata": {},
   "outputs": [],
   "source": [
    "clinical_cols = ['age',\n",
    " 'Bildungsjahre',\n",
    " 'IQ_kristallin',\n",
    " 'saps34',\n",
    " 'saps_total',\n",
    " 'sans_total',\n",
    " 'sans12',\n",
    " 'panss_pos',\n",
    " 'panss_neg',\n",
    " 'panss_o',\n",
    " 'panss_total']"
   ]
  },
  {
   "cell_type": "code",
   "execution_count": 98,
   "id": "18aab735",
   "metadata": {},
   "outputs": [],
   "source": [
    "# cols_av = [('LM', 'm_lcoh'), ('LM', 'm_gcoh'), ('LM', 'm_cgcoh'), ('LM', 'm_scoh'), ('LM', 'm_sporb'), ('LM', 'm_bert_lcoh'), ('LM', 'm_bert_gcoh'), ('LM', 'm_bert_cgcoh'), ('LM', 'm_bert_scoh'),\n",
    "#            ('syntactic', 'n_sents'), ('syntactic', 'mean_sent_len'), ('syntactic', 'std_sent_len'), ('syntactic', 'min_sent_len'), ('syntactic', 'max_sent_len'), ('syntactic', 'SPACE'), ('syntactic', 'NOUN'), ('syntactic', 'X'), ('syntactic', 'PUNCT'), ('syntactic', 'VERB'), ('syntactic', 'ADV'), ('syntactic', 'ADP'), ('syntactic', 'ADJ'), ('syntactic', 'CCONJ'), ('syntactic', 'PRON'),\n",
    "#            ('syntactic', 'DET'), ('syntactic', 'AUX'), ('syntactic', 'PROPN'), ('syntactic', 'PART'), ('syntactic', 'SCONJ'), ('syntactic', 'INTJ'), ('syntactic', 'NUM'),\n",
    "#            ('lexical', 'n_words'), ('lexical', 'LTR'), ('lexical', 'MALTR'),\n",
    "#            ('graph', 'number_of_nodes'), ('graph', 'number_of_edges'), ('graph', 'PE'), ('graph', 'LCC'), ('graph', 'LSC'), ('graph', 'degree_average'), ('graph', 'degree_std'), ('graph', 'L1'), ('graph', 'L2'), ('graph', 'L3')\n",
    "#           ]"
   ]
  },
  {
   "cell_type": "markdown",
   "id": "228361fd",
   "metadata": {},
   "source": [
    "### Group difference for sex (absent)"
   ]
  },
  {
   "cell_type": "code",
   "execution_count": 99,
   "id": "bcfd058c",
   "metadata": {},
   "outputs": [
    {
     "data": {
      "text/plain": [
       "False"
      ]
     },
     "execution_count": 99,
     "metadata": {},
     "output_type": "execute_result"
    }
   ],
   "source": [
    "a = 0.001\n",
    "s_t_sex, res_t_sex = display_group_test(combined_data_averaged, clinical_cols, 'sex_nr', stats.ttest_ind, stat_name='t', alpha=a)\n",
    "res_t_sex['sig'].any()"
   ]
  },
  {
   "cell_type": "code",
   "execution_count": 100,
   "id": "8f374b83",
   "metadata": {},
   "outputs": [
    {
     "data": {
      "text/plain": [
       "False"
      ]
     },
     "execution_count": 100,
     "metadata": {},
     "output_type": "execute_result"
    }
   ],
   "source": [
    "s_t_sex, res_t_sex = display_group_test(combined_data_averaged, cols_av, 'sex_nr', stats.ttest_ind, stat_name='t', alpha=a)\n",
    "res_t_sex['sig'].any()"
   ]
  },
  {
   "cell_type": "markdown",
   "id": "a14117ed",
   "metadata": {},
   "source": [
    "### Correlative difference for age, education years, and IQ (absent)"
   ]
  },
  {
   "cell_type": "code",
   "execution_count": 101,
   "id": "1e717aaa",
   "metadata": {},
   "outputs": [
    {
     "data": {
      "text/plain": [
       "False"
      ]
     },
     "execution_count": 101,
     "metadata": {},
     "output_type": "execute_result"
    }
   ],
   "source": [
    "x, y = display_test(combined_data_averaged, cols_av, 'age', stats.pearsonr, stat_name='r', alpha=a)\n",
    "y[y['abs_r']> 0.2].sort_values('abs_r', ascending=False)['sig'].any()"
   ]
  },
  {
   "cell_type": "code",
   "execution_count": 102,
   "id": "a7cb06cf",
   "metadata": {},
   "outputs": [
    {
     "data": {
      "text/plain": [
       "False"
      ]
     },
     "execution_count": 102,
     "metadata": {},
     "output_type": "execute_result"
    }
   ],
   "source": [
    "x, y = display_test(combined_data_averaged, cols_av, 'Bildungsjahre', stats.pearsonr, stat_name='r', alpha=a)\n",
    "y[y['abs_r']> 0.3].sort_values('abs_r', ascending=False)['sig'].any()"
   ]
  },
  {
   "cell_type": "code",
   "execution_count": 103,
   "id": "7a10a183",
   "metadata": {},
   "outputs": [
    {
     "data": {
      "text/html": [
       "<div>\n",
       "<style scoped>\n",
       "    .dataframe tbody tr th:only-of-type {\n",
       "        vertical-align: middle;\n",
       "    }\n",
       "\n",
       "    .dataframe tbody tr th {\n",
       "        vertical-align: top;\n",
       "    }\n",
       "\n",
       "    .dataframe thead th {\n",
       "        text-align: right;\n",
       "    }\n",
       "</style>\n",
       "<table border=\"1\" class=\"dataframe\">\n",
       "  <thead>\n",
       "    <tr style=\"text-align: right;\">\n",
       "      <th></th>\n",
       "      <th>r</th>\n",
       "      <th>p</th>\n",
       "      <th>sig</th>\n",
       "      <th>abs_r</th>\n",
       "    </tr>\n",
       "  </thead>\n",
       "  <tbody>\n",
       "    <tr>\n",
       "      <th>(syntactic, AUX)</th>\n",
       "      <td>0.335383</td>\n",
       "      <td>0.010064</td>\n",
       "      <td>False</td>\n",
       "      <td>0.335383</td>\n",
       "    </tr>\n",
       "  </tbody>\n",
       "</table>\n",
       "</div>"
      ],
      "text/plain": [
       "                         r         p    sig     abs_r\n",
       "(syntactic, AUX)  0.335383  0.010064  False  0.335383"
      ]
     },
     "execution_count": 103,
     "metadata": {},
     "output_type": "execute_result"
    }
   ],
   "source": [
    "x, y = display_test(combined_data_averaged, cols_av, 'IQ_kristallin', stats.pearsonr, stat_name='r', alpha=a)\n",
    "y[y['abs_r']> 0.3].sort_values('abs_r', ascending=False)"
   ]
  },
  {
   "cell_type": "code",
   "execution_count": 104,
   "id": "ff2fc843",
   "metadata": {},
   "outputs": [],
   "source": [
    "# normalized_combined_data_averaged = combined_data_averaged.copy()\n",
    "# normalized_combined_data_averaged[cols_av] = (combined_data_averaged[cols_av]-combined_data_averaged[cols_av].min())/(combined_data_averaged[cols_av].max()-combined_data_averaged[cols_av].min())"
   ]
  },
  {
   "cell_type": "code",
   "execution_count": 105,
   "id": "31717d41",
   "metadata": {},
   "outputs": [
    {
     "data": {
      "text/plain": [
       "False"
      ]
     },
     "execution_count": 105,
     "metadata": {},
     "output_type": "execute_result"
    }
   ],
   "source": [
    "s, t = display_test(combined_data_averaged, cols_av, 'age', stats.pearsonr, stat_name='r')\n",
    "t['p'] = t['p'] * (len(t))\n",
    "t['corr_sig'] = t['p'] < 0.05\n",
    "t['p'] = t['p'] / (len(t))\n",
    "t.drop(columns=['sig'], inplace=True)\n",
    "# t.sort_values([f'abs_r', 'p'], ascending=False)\n",
    "t['corr_sig'].any()"
   ]
  },
  {
   "cell_type": "code",
   "execution_count": 106,
   "id": "22696956",
   "metadata": {},
   "outputs": [
    {
     "data": {
      "text/plain": [
       "False"
      ]
     },
     "execution_count": 106,
     "metadata": {},
     "output_type": "execute_result"
    }
   ],
   "source": [
    "s, t = display_test(combined_data_averaged, cols_av, 'Bildungsjahre', stats.pearsonr, stat_name='r')\n",
    "t['p'] = t['p'] * (len(t))\n",
    "t['corr_sig'] = t['p'] < 0.05\n",
    "t['p'] = t['p'] / (len(t))\n",
    "t.drop(columns=['sig'], inplace=True)\n",
    "# t.sort_values([f'abs_r', 'p'], ascending=False)\n",
    "t['corr_sig'].any()"
   ]
  },
  {
   "cell_type": "code",
   "execution_count": 107,
   "id": "d053e225",
   "metadata": {},
   "outputs": [
    {
     "data": {
      "text/plain": [
       "False"
      ]
     },
     "execution_count": 107,
     "metadata": {},
     "output_type": "execute_result"
    }
   ],
   "source": [
    "s, t = display_test(combined_data_averaged, cols_av, 'IQ_kristallin', stats.pearsonr, stat_name='r')\n",
    "t['p'] = t['p'] * (len(t))\n",
    "t['corr_sig'] = t['p'] < 0.05\n",
    "t['p'] = t['p'] / (len(t))\n",
    "t.drop(columns=['sig'], inplace=True)\n",
    "# t.sort_values([f'abs_r', 'p'], ascending=False)\n",
    "t['corr_sig'].any()"
   ]
  },
  {
   "cell_type": "code",
   "execution_count": 108,
   "id": "47d6ccee",
   "metadata": {},
   "outputs": [],
   "source": [
    "combined_data_averaged.to_csv('averaged.csv')"
   ]
  },
  {
   "cell_type": "markdown",
   "id": "a6b4b059",
   "metadata": {},
   "source": [
    "# Analyze the metric performance"
   ]
  },
  {
   "cell_type": "markdown",
   "id": "95fdf64b",
   "metadata": {},
   "source": [
    "## Group difference & correlation with PANSS, SANS, and SAPS"
   ]
  },
  {
   "cell_type": "code",
   "execution_count": 109,
   "id": "69b659d6",
   "metadata": {},
   "outputs": [],
   "source": [
    "a = 0.001\n",
    "s_t, res_t = display_group_test(combined_data_averaged, cols_av, 'group', stats.ttest_ind, stat_name='t', alpha=a)"
   ]
  },
  {
   "cell_type": "code",
   "execution_count": 110,
   "id": "b4bea14a",
   "metadata": {},
   "outputs": [],
   "source": [
    "def corr_test_cols(data, cols_av, traget_cols, corrtest=stats.pearsonr, stat_name='r', alpha=a):\n",
    "    df = pd.DataFrame()\n",
    "    for target_col in traget_cols:\n",
    "        r = display_test(data, cols_av, target_col, stats.pearsonr, stat_name=target_col, alpha=a)[1][target_col]\n",
    "        df = pd.concat([df, r], axis=1)\n",
    "    return df"
   ]
  },
  {
   "cell_type": "code",
   "execution_count": 111,
   "id": "56d31505",
   "metadata": {},
   "outputs": [],
   "source": [
    "scales = [\"saps_total\", \"sans_total\", \"panss\", \"panss_pos\", \"panss_neg\", \"panss_o\"]\n",
    "s_saps, r_saps = display_test(combined_data_averaged, cols_av, 'saps_total', stats.pearsonr, stat_name='r', alpha=a)\n",
    "s_sans, r_sans = display_test(combined_data_averaged, cols_av, 'sans_total', stats.pearsonr, stat_name='r', alpha=a)\n",
    "s_panss, r_panss = display_test(combined_data_averaged, cols_av, 'panss_total', stats.pearsonr, stat_name='r', alpha=a)\n",
    "s_panss_pos, r_panss_pos = display_test(combined_data_averaged, cols_av, 'panss_pos', stats.pearsonr, stat_name='r', alpha=a)\n",
    "s_panss_neg, r_panss_neg = display_test(combined_data_averaged, cols_av, 'panss_neg', stats.pearsonr, stat_name='r', alpha=a)\n",
    "s_panss_o, r_panss_o = display_test(combined_data_averaged, cols_av, 'panss_o', stats.pearsonr, stat_name='r', alpha=a)\n",
    "combined_corr = pd.concat([res_t, r_saps, r_sans, r_panss, r_panss_pos, r_panss_neg, r_panss_o], \n",
    "                     keys= ['t_test'] + scales, \n",
    "                     names=[\"scale\"], axis=1)"
   ]
  },
  {
   "cell_type": "code",
   "execution_count": 112,
   "id": "d95285e3",
   "metadata": {},
   "outputs": [],
   "source": [
    "combined_corr[('mean', 'abs_r')] = combined_corr[[(scale, 'abs_r') for scale in scales]].mean(axis=1)\n",
    "mean_abs_r = combined_corr.pop(('mean', 'abs_r'))\n",
    "combined_corr.insert(0, ('mean', 'abs_r'), mean_abs_r) "
   ]
  },
  {
   "cell_type": "code",
   "execution_count": 113,
   "id": "ddc6fd9a",
   "metadata": {},
   "outputs": [],
   "source": [
    "# combined_corr[[(scale, 'abs_r') for scale in [\"saps34\", \"sans12\", \"panss\", \"panss_pos\", \"panss_neg\", \"panss_o\"]]].mean(axis=1)\n",
    "t_p_n_rank = pd.concat([combined_corr[('t_test', 'abs_t')].rank(ascending=False)] + [combined_corr[(scale, 'abs_r')].rank(ascending=False) for scale in ['sans_total', 'saps_total']], axis=1).mean(axis=1)\n",
    "mean_rank = pd.concat([combined_corr[(scale, 'abs_r')].rank(ascending=False) for scale in scales], axis=1).mean(axis=1)\n",
    "combined_corr.insert(1, ('mean', 'rank'), mean_rank) \n",
    "combined_corr.insert(2, ('mean', 'rank_abs'), mean_rank.rank()) \n",
    "combined_corr.insert(1, ('mean', 'tpn_rank'), t_p_n_rank) \n",
    "combined_corr.insert(2, ('mean', 'tpn_rank_abs'), t_p_n_rank.rank()) "
   ]
  },
  {
   "cell_type": "code",
   "execution_count": 114,
   "id": "e9a03934",
   "metadata": {
    "scrolled": true
   },
   "outputs": [],
   "source": [
    "# combined_corr.sort_values(('mean', 'rank'))[['mean', 't_test']].apply(pd.to_numeric).style.background_gradient(axis=0, cmap='Reds')"
   ]
  },
  {
   "cell_type": "markdown",
   "id": "92476fb1",
   "metadata": {},
   "source": [
    "## Analyze the relation between t-test and correlation with psychiatric scales"
   ]
  },
  {
   "cell_type": "code",
   "execution_count": 115,
   "id": "1b47adb8",
   "metadata": {},
   "outputs": [
    {
     "data": {
      "text/plain": [
       "PearsonRResult(statistic=0.26401258351695167, pvalue=0.06119945640321684)"
      ]
     },
     "execution_count": 115,
     "metadata": {},
     "output_type": "execute_result"
    }
   ],
   "source": [
    "stats.pearsonr(combined_corr[('mean', 'abs_r')], combined_corr[('t_test', 'abs_t')])"
   ]
  },
  {
   "cell_type": "code",
   "execution_count": 116,
   "id": "b4fbdf8e",
   "metadata": {},
   "outputs": [
    {
     "data": {
      "text/plain": [
       "PearsonRResult(statistic=0.24663913234799653, pvalue=0.081027488479791)"
      ]
     },
     "execution_count": 116,
     "metadata": {},
     "output_type": "execute_result"
    }
   ],
   "source": [
    "stats.pearsonr(combined_corr[('panss', 'abs_r')], combined_corr[('t_test', 'abs_t')])"
   ]
  },
  {
   "cell_type": "code",
   "execution_count": 117,
   "id": "0e6edc3c",
   "metadata": {},
   "outputs": [
    {
     "data": {
      "text/plain": [
       "PearsonRResult(statistic=-0.19061047956361832, pvalue=0.1803084731275619)"
      ]
     },
     "execution_count": 117,
     "metadata": {},
     "output_type": "execute_result"
    }
   ],
   "source": [
    "stats.pearsonr(combined_corr[('saps_total', 'abs_r')], combined_corr[('t_test', 'abs_t')])"
   ]
  },
  {
   "cell_type": "code",
   "execution_count": 118,
   "id": "86571549",
   "metadata": {},
   "outputs": [
    {
     "data": {
      "text/plain": [
       "PearsonRResult(statistic=-0.2843395367832134, pvalue=0.043155573808153914)"
      ]
     },
     "execution_count": 118,
     "metadata": {},
     "output_type": "execute_result"
    }
   ],
   "source": [
    "stats.pearsonr(combined_corr[('panss_pos', 'abs_r')], combined_corr[('t_test', 'abs_t')])"
   ]
  },
  {
   "cell_type": "code",
   "execution_count": 119,
   "id": "356d7689",
   "metadata": {},
   "outputs": [
    {
     "data": {
      "text/plain": [
       "PearsonRResult(statistic=0.4781680981146872, pvalue=0.0003869092485286836)"
      ]
     },
     "execution_count": 119,
     "metadata": {},
     "output_type": "execute_result"
    }
   ],
   "source": [
    "stats.pearsonr(combined_corr[('sans_total', 'abs_r')], combined_corr[('t_test', 'abs_t')])"
   ]
  },
  {
   "cell_type": "code",
   "execution_count": 120,
   "id": "3f3e44d4",
   "metadata": {},
   "outputs": [],
   "source": [
    "# sns.scatterplot(x=combined_corr[('sans_total', 'abs_r')], y=combined_corr[('t_test', 'abs_t')]);"
   ]
  },
  {
   "cell_type": "code",
   "execution_count": 121,
   "id": "57094646",
   "metadata": {},
   "outputs": [
    {
     "data": {
      "text/plain": [
       "PearsonRResult(statistic=0.4400470975161747, pvalue=0.001232497254687857)"
      ]
     },
     "execution_count": 121,
     "metadata": {},
     "output_type": "execute_result"
    }
   ],
   "source": [
    "stats.pearsonr(combined_corr[('panss_neg', 'abs_r')], combined_corr[('t_test', 'abs_t')])"
   ]
  },
  {
   "cell_type": "code",
   "execution_count": 122,
   "id": "c55484d9",
   "metadata": {},
   "outputs": [],
   "source": [
    "# sns.scatterplot(x=combined_corr[('panss_neg', 'abs_r')], y=combined_corr[('t_test', 'abs_t')]);"
   ]
  },
  {
   "cell_type": "markdown",
   "id": "57a55f92",
   "metadata": {},
   "source": [
    "### Analyze interaction with length"
   ]
  },
  {
   "cell_type": "code",
   "execution_count": 123,
   "id": "ac91ce36",
   "metadata": {},
   "outputs": [
    {
     "data": {
      "text/html": [
       "<style type=\"text/css\">\n",
       "#T_1a179_row0_col0, #T_1a179_row0_col1, #T_1a179_row1_col1, #T_1a179_row2_col1, #T_1a179_row10_col3 {\n",
       "  background-color: #fff5f0;\n",
       "  color: #000000;\n",
       "}\n",
       "#T_1a179_row0_col3, #T_1a179_row5_col0, #T_1a179_row10_col1 {\n",
       "  background-color: #67000d;\n",
       "  color: #f1f1f1;\n",
       "}\n",
       "#T_1a179_row1_col0 {\n",
       "  background-color: #fff1ea;\n",
       "  color: #000000;\n",
       "}\n",
       "#T_1a179_row1_col3 {\n",
       "  background-color: #800610;\n",
       "  color: #f1f1f1;\n",
       "}\n",
       "#T_1a179_row2_col0 {\n",
       "  background-color: #fee9df;\n",
       "  color: #000000;\n",
       "}\n",
       "#T_1a179_row2_col3 {\n",
       "  background-color: #a91016;\n",
       "  color: #f1f1f1;\n",
       "}\n",
       "#T_1a179_row3_col0 {\n",
       "  background-color: #fedaca;\n",
       "  color: #000000;\n",
       "}\n",
       "#T_1a179_row3_col1, #T_1a179_row5_col1 {\n",
       "  background-color: #fff2ec;\n",
       "  color: #000000;\n",
       "}\n",
       "#T_1a179_row3_col3 {\n",
       "  background-color: #d52221;\n",
       "  color: #f1f1f1;\n",
       "}\n",
       "#T_1a179_row4_col0 {\n",
       "  background-color: #fdc7b2;\n",
       "  color: #000000;\n",
       "}\n",
       "#T_1a179_row4_col1 {\n",
       "  background-color: #ffede5;\n",
       "  color: #000000;\n",
       "}\n",
       "#T_1a179_row4_col3, #T_1a179_row5_col3 {\n",
       "  background-color: #f34935;\n",
       "  color: #f1f1f1;\n",
       "}\n",
       "#T_1a179_row6_col0 {\n",
       "  background-color: #fc9d7f;\n",
       "  color: #000000;\n",
       "}\n",
       "#T_1a179_row6_col1 {\n",
       "  background-color: #fcb89e;\n",
       "  color: #000000;\n",
       "}\n",
       "#T_1a179_row6_col3 {\n",
       "  background-color: #fca082;\n",
       "  color: #000000;\n",
       "}\n",
       "#T_1a179_row7_col0 {\n",
       "  background-color: #fc9b7c;\n",
       "  color: #000000;\n",
       "}\n",
       "#T_1a179_row7_col1 {\n",
       "  background-color: #fcaf93;\n",
       "  color: #000000;\n",
       "}\n",
       "#T_1a179_row7_col3 {\n",
       "  background-color: #fca689;\n",
       "  color: #000000;\n",
       "}\n",
       "#T_1a179_row8_col0 {\n",
       "  background-color: #bf151b;\n",
       "  color: #f1f1f1;\n",
       "}\n",
       "#T_1a179_row8_col1 {\n",
       "  background-color: #f34a36;\n",
       "  color: #f1f1f1;\n",
       "}\n",
       "#T_1a179_row8_col3 {\n",
       "  background-color: #fdd3c1;\n",
       "  color: #000000;\n",
       "}\n",
       "#T_1a179_row9_col0 {\n",
       "  background-color: #fc8161;\n",
       "  color: #f1f1f1;\n",
       "}\n",
       "#T_1a179_row9_col1 {\n",
       "  background-color: #f14432;\n",
       "  color: #f1f1f1;\n",
       "}\n",
       "#T_1a179_row9_col3 {\n",
       "  background-color: #fdd5c4;\n",
       "  color: #000000;\n",
       "}\n",
       "#T_1a179_row10_col0 {\n",
       "  background-color: #d92523;\n",
       "  color: #f1f1f1;\n",
       "}\n",
       "</style>\n",
       "<table id=\"T_1a179\">\n",
       "  <thead>\n",
       "    <tr>\n",
       "      <th class=\"blank level0\" >&nbsp;</th>\n",
       "      <th id=\"T_1a179_level0_col0\" class=\"col_heading level0 col0\" >r</th>\n",
       "      <th id=\"T_1a179_level0_col1\" class=\"col_heading level0 col1\" >p</th>\n",
       "      <th id=\"T_1a179_level0_col2\" class=\"col_heading level0 col2\" >sig</th>\n",
       "      <th id=\"T_1a179_level0_col3\" class=\"col_heading level0 col3\" >abs_r</th>\n",
       "    </tr>\n",
       "  </thead>\n",
       "  <tbody>\n",
       "    <tr>\n",
       "      <th id=\"T_1a179_level0_row0\" class=\"row_heading level0 row0\" >sans_total</th>\n",
       "      <td id=\"T_1a179_row0_col0\" class=\"data row0 col0\" >-0.443426</td>\n",
       "      <td id=\"T_1a179_row0_col1\" class=\"data row0 col1\" >0.000436</td>\n",
       "      <td id=\"T_1a179_row0_col2\" class=\"data row0 col2\" >True</td>\n",
       "      <td id=\"T_1a179_row0_col3\" class=\"data row0 col3\" >0.443426</td>\n",
       "    </tr>\n",
       "    <tr>\n",
       "      <th id=\"T_1a179_level0_row1\" class=\"row_heading level0 row1\" >panss_neg</th>\n",
       "      <td id=\"T_1a179_row1_col0\" class=\"data row1 col0\" >-0.423542</td>\n",
       "      <td id=\"T_1a179_row1_col1\" class=\"data row1 col1\" >0.000830</td>\n",
       "      <td id=\"T_1a179_row1_col2\" class=\"data row1 col2\" >True</td>\n",
       "      <td id=\"T_1a179_row1_col3\" class=\"data row1 col3\" >0.423542</td>\n",
       "    </tr>\n",
       "    <tr>\n",
       "      <th id=\"T_1a179_level0_row2\" class=\"row_heading level0 row2\" >sans12</th>\n",
       "      <td id=\"T_1a179_row2_col0\" class=\"data row2 col0\" >-0.390915</td>\n",
       "      <td id=\"T_1a179_row2_col1\" class=\"data row2 col1\" >0.002204</td>\n",
       "      <td id=\"T_1a179_row2_col2\" class=\"data row2 col2\" >False</td>\n",
       "      <td id=\"T_1a179_row2_col3\" class=\"data row2 col3\" >0.390915</td>\n",
       "    </tr>\n",
       "    <tr>\n",
       "      <th id=\"T_1a179_level0_row3\" class=\"row_heading level0 row3\" >panss_total</th>\n",
       "      <td id=\"T_1a179_row3_col0\" class=\"data row3 col0\" >-0.336072</td>\n",
       "      <td id=\"T_1a179_row3_col1\" class=\"data row3 col1\" >0.009259</td>\n",
       "      <td id=\"T_1a179_row3_col2\" class=\"data row3 col2\" >False</td>\n",
       "      <td id=\"T_1a179_row3_col3\" class=\"data row3 col3\" >0.336072</td>\n",
       "    </tr>\n",
       "    <tr>\n",
       "      <th id=\"T_1a179_level0_row4\" class=\"row_heading level0 row4\" >panss_o</th>\n",
       "      <td id=\"T_1a179_row4_col0\" class=\"data row4 col0\" >-0.289250</td>\n",
       "      <td id=\"T_1a179_row4_col1\" class=\"data row4 col1\" >0.026286</td>\n",
       "      <td id=\"T_1a179_row4_col2\" class=\"data row4 col2\" >False</td>\n",
       "      <td id=\"T_1a179_row4_col3\" class=\"data row4 col3\" >0.289250</td>\n",
       "    </tr>\n",
       "    <tr>\n",
       "      <th id=\"T_1a179_level0_row5\" class=\"row_heading level0 row5\" >Bildungsjahre</th>\n",
       "      <td id=\"T_1a179_row5_col0\" class=\"data row5 col0\" >0.288602</td>\n",
       "      <td id=\"T_1a179_row5_col1\" class=\"data row5 col1\" >0.010393</td>\n",
       "      <td id=\"T_1a179_row5_col2\" class=\"data row5 col2\" >False</td>\n",
       "      <td id=\"T_1a179_row5_col3\" class=\"data row5 col3\" >0.288602</td>\n",
       "    </tr>\n",
       "    <tr>\n",
       "      <th id=\"T_1a179_level0_row6\" class=\"row_heading level0 row6\" >saps_total</th>\n",
       "      <td id=\"T_1a179_row6_col0\" class=\"data row6 col0\" >-0.193752</td>\n",
       "      <td id=\"T_1a179_row6_col1\" class=\"data row6 col1\" >0.141462</td>\n",
       "      <td id=\"T_1a179_row6_col2\" class=\"data row6 col2\" >False</td>\n",
       "      <td id=\"T_1a179_row6_col3\" class=\"data row6 col3\" >0.193752</td>\n",
       "    </tr>\n",
       "    <tr>\n",
       "      <th id=\"T_1a179_level0_row7\" class=\"row_heading level0 row7\" >saps34</th>\n",
       "      <td id=\"T_1a179_row7_col0\" class=\"data row7 col0\" >-0.186876</td>\n",
       "      <td id=\"T_1a179_row7_col1\" class=\"data row7 col1\" >0.156416</td>\n",
       "      <td id=\"T_1a179_row7_col2\" class=\"data row7 col2\" >False</td>\n",
       "      <td id=\"T_1a179_row7_col3\" class=\"data row7 col3\" >0.186876</td>\n",
       "    </tr>\n",
       "    <tr>\n",
       "      <th id=\"T_1a179_level0_row8\" class=\"row_heading level0 row8\" >IQ_kristallin</th>\n",
       "      <td id=\"T_1a179_row8_col0\" class=\"data row8 col0\" >0.133302</td>\n",
       "      <td id=\"T_1a179_row8_col1\" class=\"data row8 col1\" >0.318493</td>\n",
       "      <td id=\"T_1a179_row8_col2\" class=\"data row8 col2\" >False</td>\n",
       "      <td id=\"T_1a179_row8_col3\" class=\"data row8 col3\" >0.133302</td>\n",
       "    </tr>\n",
       "    <tr>\n",
       "      <th id=\"T_1a179_level0_row9\" class=\"row_heading level0 row9\" >panss_pos</th>\n",
       "      <td id=\"T_1a179_row9_col0\" class=\"data row9 col0\" >-0.130267</td>\n",
       "      <td id=\"T_1a179_row9_col1\" class=\"data row9 col1\" >0.325417</td>\n",
       "      <td id=\"T_1a179_row9_col2\" class=\"data row9 col2\" >False</td>\n",
       "      <td id=\"T_1a179_row9_col3\" class=\"data row9 col3\" >0.130267</td>\n",
       "    </tr>\n",
       "    <tr>\n",
       "      <th id=\"T_1a179_level0_row10\" class=\"row_heading level0 row10\" >age</th>\n",
       "      <td id=\"T_1a179_row10_col0\" class=\"data row10 col0\" >0.069385</td>\n",
       "      <td id=\"T_1a179_row10_col1\" class=\"data row10 col1\" >0.543447</td>\n",
       "      <td id=\"T_1a179_row10_col2\" class=\"data row10 col2\" >False</td>\n",
       "      <td id=\"T_1a179_row10_col3\" class=\"data row10 col3\" >0.069385</td>\n",
       "    </tr>\n",
       "  </tbody>\n",
       "</table>\n"
      ],
      "text/plain": [
       "<pandas.io.formats.style.Styler at 0x7f9c3f205a60>"
      ]
     },
     "execution_count": 123,
     "metadata": {},
     "output_type": "execute_result"
    }
   ],
   "source": [
    "corr_len_s, corr_len = display_test(combined_data_averaged, clinical_cols, ('syntactic', 'mean_sent_len'), stats.pearsonr, stat_name='r', alpha=a)\n",
    "corr_len_s"
   ]
  },
  {
   "cell_type": "code",
   "execution_count": 124,
   "id": "fb53cbda",
   "metadata": {},
   "outputs": [],
   "source": [
    "corr_len_s, corr_len = display_test(combined_data_averaged, cols_av, ('syntactic', 'mean_sent_len'), stats.pearsonr, stat_name='r', alpha=a)"
   ]
  },
  {
   "cell_type": "code",
   "execution_count": 125,
   "id": "4f590992",
   "metadata": {
    "scrolled": true
   },
   "outputs": [],
   "source": [
    "y = corr_len['abs_r']\n",
    "tt_norm = (combined_corr['t_test', 'abs_t'] - combined_corr['t_test', 'abs_t'].min()) / (combined_corr['t_test', 'abs_t'].max() - combined_corr['t_test', 'abs_t'].min())"
   ]
  },
  {
   "cell_type": "code",
   "execution_count": 126,
   "id": "158e30f4",
   "metadata": {},
   "outputs": [],
   "source": [
    "y = corr_len['abs_r']\n",
    "z = tt_norm\n",
    "\n",
    "n = [x[-1] for x in tt_norm.index]\n",
    "c_map = {'LM': 0, 'graph': 1, 'lexical': 2, 'syntactic': 3}\n",
    "c = [c_map[label[0]] for label in tt_norm.index]\n",
    "\n",
    "plt.rcParams[\"figure.figsize\"] = (15,8)\n",
    "scatter_annotate(z, y, n, 'abs_t norm', 'abs_r len', 'TTEST / LEN', c=c)\n",
    "plt.close()"
   ]
  },
  {
   "cell_type": "code",
   "execution_count": 129,
   "id": "d5b398b2",
   "metadata": {},
   "outputs": [],
   "source": [
    "y = corr_len['abs_r']\n",
    "z = combined_corr['sans_total', 'abs_r']\n",
    "\n",
    "scatter_annotate(z, y, n, 'abs_r sans', 'abs_r len', 'SANS / LEN', c)\n",
    "plt.close()"
   ]
  },
  {
   "cell_type": "code",
   "execution_count": 133,
   "id": "d8cfcd71",
   "metadata": {},
   "outputs": [],
   "source": [
    "y = corr_len['abs_r']\n",
    "z = combined_corr['saps_total', 'abs_r']\n",
    "\n",
    "scatter_annotate(z, y, n, 'abs_r saps', 'abs_r len', 'SAPS / LEN', c)\n",
    "plt.close()"
   ]
  },
  {
   "cell_type": "markdown",
   "id": "5c8a6806",
   "metadata": {},
   "source": [
    "## Analyze correlation tables"
   ]
  },
  {
   "cell_type": "code",
   "execution_count": 134,
   "id": "77004c43",
   "metadata": {},
   "outputs": [
    {
     "data": {
      "image/png": "[encoded data removed]",
      "text/plain": [
       "<Figure size 2880x1440 with 2 Axes>"
      ]
     },
     "metadata": {
      "needs_background": "light"
     },
     "output_type": "display_data"
    }
   ],
   "source": [
    "corr = show_corrtest_mask_corr(combined_data_averaged[cols])\n",
    "## 1. age does not correlate with IQ, education years, or psychiatric scales\n",
    "## 2. IQ does not correlate with education years or psychiatric scales\n",
    "## 3. saps-total correlates with saps34 and panss_pos\n",
    "## 4. sans-total correlates with sans12 and panss_neg, panss_o, panss_total\n",
    "## 5. panss-total correlates with panss_o, panss_neg, sans-total, panss_pos, saps-total"
   ]
  },
  {
   "cell_type": "code",
   "execution_count": 135,
   "id": "4cda290c",
   "metadata": {},
   "outputs": [],
   "source": [
    "num_scale_cols = ['saps34','saps_total', 'sans_total', 'sans12',\n",
    "                  'panss_pos', 'panss_neg', 'panss_o', 'panss_total']"
   ]
  },
  {
   "cell_type": "code",
   "execution_count": 136,
   "id": "70189ffb",
   "metadata": {},
   "outputs": [],
   "source": [
    "scale_cols = ['saps_total',\n",
    "             'sans_total',\n",
    "             'panss_pos',\n",
    "             'panss_neg',\n",
    "             'panss_o',\n",
    "             'panss_total']"
   ]
  },
  {
   "cell_type": "code",
   "execution_count": 137,
   "id": "f61279cd",
   "metadata": {},
   "outputs": [],
   "source": [
    "r = mean_std(combined_data_averaged, num_scale_cols)"
   ]
  },
  {
   "cell_type": "code",
   "execution_count": 138,
   "id": "14192921",
   "metadata": {},
   "outputs": [],
   "source": [
    "r.loc['max'] = pd.Series([5, 170, 120, 5, 49, 49, 112, 210], index=r.columns)\n",
    "r.loc['min'] = pd.Series([0, 0, 0, 0, 7, 7, 16, 30], index=r.columns)\n",
    "r.loc['share'] = r.loc['value'].apply(lambda x: float(x.split(' ')[0])) / r.loc['max'] "
   ]
  },
  {
   "cell_type": "code",
   "execution_count": 139,
   "id": "58ae645a",
   "metadata": {
    "scrolled": true
   },
   "outputs": [
    {
     "data": {
      "text/html": [
       "<div>\n",
       "<style scoped>\n",
       "    .dataframe tbody tr th:only-of-type {\n",
       "        vertical-align: middle;\n",
       "    }\n",
       "\n",
       "    .dataframe tbody tr th {\n",
       "        vertical-align: top;\n",
       "    }\n",
       "\n",
       "    .dataframe thead th {\n",
       "        text-align: right;\n",
       "    }\n",
       "</style>\n",
       "<table border=\"1\" class=\"dataframe\">\n",
       "  <thead>\n",
       "    <tr style=\"text-align: right;\">\n",
       "      <th></th>\n",
       "      <th>saps34</th>\n",
       "      <th>saps_total</th>\n",
       "      <th>sans_total</th>\n",
       "      <th>sans12</th>\n",
       "      <th>panss_pos</th>\n",
       "      <th>panss_neg</th>\n",
       "      <th>panss_o</th>\n",
       "      <th>panss_total</th>\n",
       "    </tr>\n",
       "  </thead>\n",
       "  <tbody>\n",
       "    <tr>\n",
       "      <th>value</th>\n",
       "      <td>1.03 (1.05)</td>\n",
       "      <td>16.81 (16.7)</td>\n",
       "      <td>27.73 (20.35)</td>\n",
       "      <td>0.92 (1.19)</td>\n",
       "      <td>12.66 (5.48)</td>\n",
       "      <td>16.85 (6.03)</td>\n",
       "      <td>27.75 (7.51)</td>\n",
       "      <td>57.26 (16.18)</td>\n",
       "    </tr>\n",
       "    <tr>\n",
       "      <th>max</th>\n",
       "      <td>5</td>\n",
       "      <td>170</td>\n",
       "      <td>120</td>\n",
       "      <td>5</td>\n",
       "      <td>49</td>\n",
       "      <td>49</td>\n",
       "      <td>112</td>\n",
       "      <td>210</td>\n",
       "    </tr>\n",
       "    <tr>\n",
       "      <th>min</th>\n",
       "      <td>0</td>\n",
       "      <td>0</td>\n",
       "      <td>0</td>\n",
       "      <td>0</td>\n",
       "      <td>7</td>\n",
       "      <td>7</td>\n",
       "      <td>16</td>\n",
       "      <td>30</td>\n",
       "    </tr>\n",
       "    <tr>\n",
       "      <th>share</th>\n",
       "      <td>0.206</td>\n",
       "      <td>0.098882</td>\n",
       "      <td>0.231083</td>\n",
       "      <td>0.184</td>\n",
       "      <td>0.258367</td>\n",
       "      <td>0.343878</td>\n",
       "      <td>0.247768</td>\n",
       "      <td>0.272667</td>\n",
       "    </tr>\n",
       "  </tbody>\n",
       "</table>\n",
       "</div>"
      ],
      "text/plain": [
       "            saps34    saps_total     sans_total       sans12     panss_pos  \\\n",
       "value  1.03 (1.05)  16.81 (16.7)  27.73 (20.35)  0.92 (1.19)  12.66 (5.48)   \n",
       "max              5           170            120            5            49   \n",
       "min              0             0              0            0             7   \n",
       "share        0.206      0.098882       0.231083        0.184      0.258367   \n",
       "\n",
       "          panss_neg       panss_o    panss_total  \n",
       "value  16.85 (6.03)  27.75 (7.51)  57.26 (16.18)  \n",
       "max              49           112            210  \n",
       "min               7            16             30  \n",
       "share      0.343878      0.247768       0.272667  "
      ]
     },
     "execution_count": 139,
     "metadata": {},
     "output_type": "execute_result"
    }
   ],
   "source": [
    "r"
   ]
  },
  {
   "cell_type": "code",
   "execution_count": 140,
   "id": "9f751bb6",
   "metadata": {},
   "outputs": [],
   "source": [
    "nap = combined_data_averaged[combined_data_averaged['group'] == 1]"
   ]
  },
  {
   "cell_type": "code",
   "execution_count": 141,
   "id": "ef89bcc5",
   "metadata": {},
   "outputs": [
    {
     "data": {
      "image/png": "[encoded data removed]",
      "text/plain": [
       "<Figure size 720x576 with 6 Axes>"
      ]
     },
     "metadata": {
      "needs_background": "light"
     },
     "output_type": "display_data"
    }
   ],
   "source": [
    "fig, axes = plt.subplots(6, 1, figsize=(10, 8))\n",
    "fig.suptitle('comparison between psychiatric scales')\n",
    "sns.boxplot(x=nap['saps_total'], ax=axes[0], color='tab:orange')\n",
    "axes[0].set_xlim(0, 120)\n",
    "axes[0].set_xlabel('')\n",
    "axes[0].set_ylabel('saps_total', rotation='horizontal', ha='right')\n",
    "sns.boxplot(x=nap['sans_total'], ax=axes[1])\n",
    "axes[1].set_xlim(0, 170)\n",
    "axes[1].set_xlabel('')\n",
    "axes[1].set_ylabel('sans_total', rotation='horizontal', ha='right')\n",
    "sns.boxplot(x=nap['panss_pos'], ax=axes[2], color='tab:orange')\n",
    "axes[2].set_xlim(7, 49)\n",
    "axes[2].set_xlabel('')\n",
    "axes[2].set_ylabel('panss_pos', rotation='horizontal', ha='right')\n",
    "sns.boxplot(x=nap['panss_neg'], ax=axes[3])\n",
    "axes[3].set_xlim(7, 49)\n",
    "axes[3].set_xlabel('')\n",
    "axes[3].set_ylabel('panss_neg', rotation='horizontal', ha='right')\n",
    "sns.boxplot(x=nap['panss_o'], ax=axes[4], color='grey')\n",
    "axes[4].set_xlim(16, 112)\n",
    "axes[4].set_xlabel('')\n",
    "axes[4].set_ylabel('panss_o', rotation='horizontal', ha='right')\n",
    "sns.boxplot(x=nap['panss_total'], ax=axes[5], color='grey')\n",
    "axes[5].set_xlim(30, 210)\n",
    "axes[5].set_xlabel('')\n",
    "axes[5].set_ylabel('panss_total', rotation='horizontal', ha='right')\n",
    "axes[5].set_xlabel('score')\n",
    "fig.tight_layout();\n",
    "plt.savefig(f'{PATH_FIG}psychiatric.png', dpi=150, bbox_inches = 'tight')"
   ]
  },
  {
   "cell_type": "code",
   "execution_count": 142,
   "id": "6bbedd0a",
   "metadata": {},
   "outputs": [],
   "source": [
    "# corr = show_corrtest_mask_corr(combined_data_averaged[num_scale_cols])"
   ]
  },
  {
   "cell_type": "code",
   "execution_count": 143,
   "id": "cd381f19",
   "metadata": {},
   "outputs": [
    {
     "data": {
      "image/png": "[encoded data removed]",
      "text/plain": [
       "<Figure size 2880x1440 with 2 Axes>"
      ]
     },
     "metadata": {
      "needs_background": "light"
     },
     "output_type": "display_data"
    }
   ],
   "source": [
    "corr = show_corrtest_mask_corr(combined_data_averaged[cols_LM + [('syntactic', 'mean_sent_len'), ('syntactic', 'min_sent_len'), ('syntactic', 'n_sents'), ('lexical', 'n_words')]]);\n",
    "## m_lcoh, m_gcoh, m_cgcoh, m_scoh;  m_raw_lcog, m_raw_scoh, m_raw_gcoh, m_raw_cgcoh - all but m_cgcoh\n",
    "## m_sprob, m_bert_lcoh, m_bert_gcoh, m_bert_cgcoh, m_bert_scoh\n",
    "## m_raw_cgcoh, m_raw_gcoh + m_bert_cgcoh ; m_raw_lcog, m_raw_scoh + m_bert_gcoh\n",
    "\n",
    "## m_bert_scoh, m_sprob + n_words\n",
    "## m_cgcoh - n_sents; m_bert_scoh + n_sents\n",
    "## m_gcoh, m_lcoh, m_scoh (lcoh strongest);  m_raw - all but cgcoh (ccoh weakest); m_sprob - mean_sent_len"
   ]
  },
  {
   "cell_type": "code",
   "execution_count": 144,
   "id": "9d0f61e7",
   "metadata": {},
   "outputs": [
    {
     "data": {
      "text/plain": [
       "(LM, bert_pppl)              -0.529038\n",
       "(LM, bert_sprob)              0.570677\n",
       "(LM, glove_avg_gcoh)          0.576522\n",
       "(LM, glove_avg_lcoh)          0.654084\n",
       "(LM, glove_avg_scoh)          0.637839\n",
       "(LM, glove_tf_lcoh)           0.543768\n",
       "(LM, glove_tf_scoh)           0.559634\n",
       "(LM, w2v_avg_gcoh)            0.617361\n",
       "(LM, w2v_avg_lcoh)            0.702037\n",
       "(LM, w2v_avg_scoh)            0.676547\n",
       "(LM, w2v_tf_gcoh)             0.602105\n",
       "(LM, w2v_tf_lcoh)             0.662742\n",
       "(LM, w2v_tf_scoh)             0.661627\n",
       "(syntactic, mean_sent_len)    1.000000\n",
       "(lexical, n_words)            0.590887\n",
       "Name: (syntactic, mean_sent_len), dtype: float64"
      ]
     },
     "execution_count": 144,
     "metadata": {},
     "output_type": "execute_result"
    }
   ],
   "source": [
    "corr[abs(corr[('syntactic', 'mean_sent_len')]) > 0.5][('syntactic', 'mean_sent_len')]"
   ]
  },
  {
   "cell_type": "code",
   "execution_count": 145,
   "id": "55448d9f",
   "metadata": {},
   "outputs": [
    {
     "data": {
      "text/plain": [
       "(LM, bert_pppl)        -0.595283\n",
       "(LM, bert_scoh)         0.570424\n",
       "(LM, glove_tf_cgcoh)   -0.580744\n",
       "(syntactic, n_sents)    1.000000\n",
       "(lexical, n_words)      0.879802\n",
       "Name: (syntactic, n_sents), dtype: float64"
      ]
     },
     "execution_count": 145,
     "metadata": {},
     "output_type": "execute_result"
    }
   ],
   "source": [
    "corr[abs(corr[('syntactic', 'n_sents')]) > 0.5][('syntactic', 'n_sents')]"
   ]
  },
  {
   "cell_type": "code",
   "execution_count": 146,
   "id": "dcfc1fd1",
   "metadata": {},
   "outputs": [
    {
     "data": {
      "text/plain": [
       "(LM, bert_pppl)              -0.684196\n",
       "(LM, bert_scoh)               0.535455\n",
       "(LM, bert_sprob)              0.503740\n",
       "(syntactic, mean_sent_len)    0.590887\n",
       "(syntactic, n_sents)          0.879802\n",
       "(lexical, n_words)            1.000000\n",
       "Name: (lexical, n_words), dtype: float64"
      ]
     },
     "execution_count": 146,
     "metadata": {},
     "output_type": "execute_result"
    }
   ],
   "source": [
    "corr[abs(corr[('lexical', 'n_words')]) > 0.5][('lexical', 'n_words')]"
   ]
  },
  {
   "cell_type": "code",
   "execution_count": 147,
   "id": "c87f832f",
   "metadata": {},
   "outputs": [],
   "source": [
    "# corr = show_corrtest_mask_corr(combined_data_averaged[cols_synt])\n",
    "## noun - det 0.62\n",
    "## pron - noun -0.5\n",
    "## sconj - min_sent_len 0.55\n",
    "## mean - max sent_men 0.92\n",
    "## max - std sent_len 0.96\n",
    "## mean - std sent_len 0.94"
   ]
  },
  {
   "cell_type": "code",
   "execution_count": 148,
   "id": "5819f27d",
   "metadata": {},
   "outputs": [],
   "source": [
    "# corr = show_corrtest_mask_corr(combined_data_averaged[cols_av])"
   ]
  },
  {
   "cell_type": "code",
   "execution_count": 149,
   "id": "fa9395c7",
   "metadata": {},
   "outputs": [
    {
     "data": {
      "text/html": [
       "<div>\n",
       "<style scoped>\n",
       "    .dataframe tbody tr th:only-of-type {\n",
       "        vertical-align: middle;\n",
       "    }\n",
       "\n",
       "    .dataframe tbody tr th {\n",
       "        vertical-align: top;\n",
       "    }\n",
       "\n",
       "    .dataframe thead th {\n",
       "        text-align: right;\n",
       "    }\n",
       "</style>\n",
       "<table border=\"1\" class=\"dataframe\">\n",
       "  <thead>\n",
       "    <tr style=\"text-align: right;\">\n",
       "      <th></th>\n",
       "      <th>r</th>\n",
       "      <th>p</th>\n",
       "      <th>abs_r</th>\n",
       "      <th>corr_sig</th>\n",
       "    </tr>\n",
       "  </thead>\n",
       "  <tbody>\n",
       "    <tr>\n",
       "      <th>sans_total</th>\n",
       "      <td>-0.443426</td>\n",
       "      <td>0.000436</td>\n",
       "      <td>0.443426</td>\n",
       "      <td>True</td>\n",
       "    </tr>\n",
       "    <tr>\n",
       "      <th>panss_neg</th>\n",
       "      <td>-0.423542</td>\n",
       "      <td>0.00083</td>\n",
       "      <td>0.423542</td>\n",
       "      <td>True</td>\n",
       "    </tr>\n",
       "    <tr>\n",
       "      <th>panss_total</th>\n",
       "      <td>-0.336072</td>\n",
       "      <td>0.009259</td>\n",
       "      <td>0.336072</td>\n",
       "      <td>False</td>\n",
       "    </tr>\n",
       "    <tr>\n",
       "      <th>panss_o</th>\n",
       "      <td>-0.28925</td>\n",
       "      <td>0.026286</td>\n",
       "      <td>0.28925</td>\n",
       "      <td>False</td>\n",
       "    </tr>\n",
       "    <tr>\n",
       "      <th>Bildungsjahre</th>\n",
       "      <td>0.288602</td>\n",
       "      <td>0.010393</td>\n",
       "      <td>0.288602</td>\n",
       "      <td>False</td>\n",
       "    </tr>\n",
       "    <tr>\n",
       "      <th>saps_total</th>\n",
       "      <td>-0.193752</td>\n",
       "      <td>0.141462</td>\n",
       "      <td>0.193752</td>\n",
       "      <td>False</td>\n",
       "    </tr>\n",
       "    <tr>\n",
       "      <th>IQ_kristallin</th>\n",
       "      <td>0.133302</td>\n",
       "      <td>0.318493</td>\n",
       "      <td>0.133302</td>\n",
       "      <td>False</td>\n",
       "    </tr>\n",
       "    <tr>\n",
       "      <th>panss_pos</th>\n",
       "      <td>-0.130267</td>\n",
       "      <td>0.325417</td>\n",
       "      <td>0.130267</td>\n",
       "      <td>False</td>\n",
       "    </tr>\n",
       "    <tr>\n",
       "      <th>age</th>\n",
       "      <td>0.069385</td>\n",
       "      <td>0.543447</td>\n",
       "      <td>0.069385</td>\n",
       "      <td>False</td>\n",
       "    </tr>\n",
       "  </tbody>\n",
       "</table>\n",
       "</div>"
      ],
      "text/plain": [
       "                      r         p     abs_r  corr_sig\n",
       "sans_total    -0.443426  0.000436  0.443426      True\n",
       "panss_neg     -0.423542   0.00083  0.423542      True\n",
       "panss_total   -0.336072  0.009259  0.336072     False\n",
       "panss_o        -0.28925  0.026286   0.28925     False\n",
       "Bildungsjahre  0.288602  0.010393  0.288602     False\n",
       "saps_total    -0.193752  0.141462  0.193752     False\n",
       "IQ_kristallin  0.133302  0.318493  0.133302     False\n",
       "panss_pos     -0.130267  0.325417  0.130267     False\n",
       "age            0.069385  0.543447  0.069385     False"
      ]
     },
     "execution_count": 149,
     "metadata": {},
     "output_type": "execute_result"
    }
   ],
   "source": [
    "s, t = display_test(combined_data_averaged, scale_cols + ['Bildungsjahre', 'age', 'IQ_kristallin'], ('syntactic', 'mean_sent_len'), stats.pearsonr, stat_name='r')\n",
    "t['p'] = t['p'] * (len(t))\n",
    "t['corr_sig'] = t['p'] < 0.05\n",
    "t['p'] = t['p'] / (len(t))\n",
    "t.drop(columns=['sig'], inplace=True)\n",
    "t.sort_values([f'abs_r', 'p'], ascending=False)"
   ]
  },
  {
   "cell_type": "markdown",
   "id": "97764dc9",
   "metadata": {},
   "source": [
    "# Control for the effect of length"
   ]
  },
  {
   "cell_type": "code",
   "execution_count": 150,
   "id": "fb358317",
   "metadata": {},
   "outputs": [],
   "source": [
    "def plot_scatter_corr(x, y, x_name, y_name, ax, title=None, c=None, classes=('control', 'NAP')):\n",
    "    r = stats.pearsonr(x, y).statistic\n",
    "    X = sm.add_constant(x)\n",
    "    model = sm.OLS(y, X).fit()\n",
    "    ypred = model.predict(X)\n",
    "    ax.plot(x, ypred, color='red', label=f'coef: {model.params[1]:.2f} \\ncorr: {r:.2f}')\n",
    "    print(f'{x_name}, {y_name}, coef: {model.params[1]:.2f} \\ncorr: {r:.2f}')\n",
    "\n",
    "    if c is not None:\n",
    "        cmap = ListedColormap(('steelblue', 'gold'))\n",
    "        scatter = ax.scatter(x, y, c=c, cmap=cmap)\n",
    "        ax.legend(handles=scatter.legend_elements()[0], labels=classes)\n",
    "    else:\n",
    "        scatter = ax.scatter(x, y)\n",
    "    ax.set_xlabel(x_name)\n",
    "    ax.set_ylabel(y_name)"
   ]
  },
  {
   "cell_type": "code",
   "execution_count": 151,
   "id": "c4709e57",
   "metadata": {},
   "outputs": [
    {
     "name": "stdout",
     "output_type": "stream",
     "text": [
      "('lexical', 'n_words') 184.2 (117.4)\n",
      "('syntactic', 'n_sents') 17.9 (9.3)\n",
      "('syntactic', 'mean_sent_len') 10.0 (2.8)\n"
     ]
    }
   ],
   "source": [
    "for col in [('lexical', 'n_words'), ('syntactic', 'n_sents'), ('syntactic', 'mean_sent_len')]:\n",
    "    print(col, f'{combined_data_averaged[col].mean().round(1)} ({combined_data_averaged[col].std().round(1)})')"
   ]
  },
  {
   "cell_type": "code",
   "execution_count": 152,
   "id": "e2a00c48",
   "metadata": {},
   "outputs": [
    {
     "name": "stdout",
     "output_type": "stream",
     "text": [
      "n_sents, n_words, coef: 11.09 \n",
      "corr: 0.88\n",
      "mean_sent_len, n_words, coef: 24.88 \n",
      "corr: 0.59\n"
     ]
    }
   ],
   "source": [
    "fig, axes = plt.subplots(1, 2, sharey=True, figsize=(10, 5))\n",
    "fig.suptitle('number of words against number of sentences and mean sentence length')\n",
    "plot_scatter_corr(combined_data_averaged[('syntactic', 'n_sents')], combined_data_averaged[('lexical', 'n_words')],\n",
    "                 x_name='n_sents', y_name='n_words', ax=axes[0], c=combined_data_averaged['group'])\n",
    "plot_scatter_corr(combined_data_averaged[('syntactic', 'mean_sent_len')], combined_data_averaged[('lexical', 'n_words')],\n",
    "                 x_name='mean_sent_len', y_name='n_words', ax=axes[1], c=combined_data_averaged['group'])\n",
    "plt.savefig(f'{PATH_FIG}n_words_n_sents.png', dpi=150, bbox_inches = 'tight')\n",
    "plt.close(fig)"
   ]
  },
  {
   "cell_type": "code",
   "execution_count": 153,
   "id": "b294275d",
   "metadata": {},
   "outputs": [
    {
     "data": {
      "text/plain": [
       "ID\n",
       "MPP_014    41.00\n",
       "MPP_016    97.00\n",
       "MPP_019    56.50\n",
       "MPP_024    75.25\n",
       "MPP_029    57.50\n",
       "MPP_034    84.25\n",
       "MPP_036    83.50\n",
       "MPP_038    66.00\n",
       "MPP_039    99.00\n",
       "MPP_043    98.25\n",
       "MPP_046    88.00\n",
       "MPP_005    58.00\n",
       "MPP_006    64.00\n",
       "MPP_068    40.00\n",
       "MPP_009    49.00\n",
       "Name: (lexical, n_words), dtype: float64"
      ]
     },
     "execution_count": 153,
     "metadata": {},
     "output_type": "execute_result"
    }
   ],
   "source": [
    "combined_data_averaged[combined_data_averaged[('lexical', 'n_words')] < 100][('lexical', 'n_words')]"
   ]
  },
  {
   "cell_type": "code",
   "execution_count": 154,
   "id": "e3a568c4",
   "metadata": {},
   "outputs": [
    {
     "data": {
      "text/plain": [
       "0.0067038537605466075"
      ]
     },
     "execution_count": 154,
     "metadata": {},
     "output_type": "execute_result"
    }
   ],
   "source": [
    "compute_coefficient(combined_data_averaged, 'sans_total', ('syntactic', 'PRON'),\n",
    "                                  column_names=['pronoun'], target_name='sans', add_sq=False)[0]"
   ]
  },
  {
   "cell_type": "code",
   "execution_count": 155,
   "id": "ba34e9e4",
   "metadata": {},
   "outputs": [
    {
     "data": {
      "text/plain": [
       "0.19662682046537683"
      ]
     },
     "execution_count": 155,
     "metadata": {},
     "output_type": "execute_result"
    }
   ],
   "source": [
    "compute_coefficient(combined_data_averaged, 'sans_total', ('syntactic', 'mean_sent_len'),\n",
    "                                  column_names=['sent len'], target_name='sans', add_sq=False)[0]"
   ]
  },
  {
   "cell_type": "code",
   "execution_count": 156,
   "id": "417c5a74",
   "metadata": {},
   "outputs": [
    {
     "data": {
      "text/plain": [
       "0.0011661184394754498"
      ]
     },
     "execution_count": 156,
     "metadata": {},
     "output_type": "execute_result"
    }
   ],
   "source": [
    "compute_ortogonolized_coefficient(combined_data_averaged, 'sans_total', ('syntactic', 'mean_sent_len'), \n",
    "                                  ('syntactic', 'PRON'),\n",
    "                                  column_names=['sent len', 'punct'], target_name='sans', add_sq=False)[0]"
   ]
  },
  {
   "cell_type": "code",
   "execution_count": 157,
   "id": "3f68c5d4",
   "metadata": {},
   "outputs": [
    {
     "data": {
      "text/plain": [
       "0.0069434380573168974"
      ]
     },
     "execution_count": 157,
     "metadata": {},
     "output_type": "execute_result"
    }
   ],
   "source": [
    "compute_ortogonolized_coefficient(combined_data_averaged, 'sans_total', ('syntactic', 'mean_sent_len'), \n",
    "                                  ('syntactic', 'min_sent_len'),\n",
    "                                  column_names=['sent len', 'min sent len'], target_name='sans', add_sq=False)[0]"
   ]
  },
  {
   "cell_type": "markdown",
   "id": "8dc3fd15",
   "metadata": {},
   "source": [
    "### bootstrap "
   ]
  },
  {
   "cell_type": "code",
   "execution_count": 158,
   "id": "896913c4",
   "metadata": {},
   "outputs": [],
   "source": [
    "## 1 sample with replacement\n",
    "\n",
    "## 1.1 compute_ortogonolized_r for each scale\n"
   ]
  },
  {
   "cell_type": "code",
   "execution_count": 159,
   "id": "ff0d90ba",
   "metadata": {},
   "outputs": [
    {
     "data": {
      "text/plain": [
       "5.988683527180032"
      ]
     },
     "execution_count": 159,
     "metadata": {},
     "output_type": "execute_result"
    }
   ],
   "source": [
    "t_test(combined_data_averaged, ('syntactic', 'mean_sent_len'), 'group', test=stats.ttest_ind, nan_policy='omit', stat_name='x', alpha=0.05)"
   ]
  },
  {
   "cell_type": "code",
   "execution_count": 160,
   "id": "168f44da",
   "metadata": {},
   "outputs": [],
   "source": [
    "scales = [\"saps_total\", \"sans_total\", \"panss_total\", \"panss_pos\", \"panss_neg\", \"panss_o\"]\n",
    "\n",
    "def bootstrap(df, cols_av, scale_cols, N, col_to_correct_for=('syntactic', 'mean_sent_len'), group=None):\n",
    "    dict_scales_sapmles = {k: {scale: {metric: [] for metric in cols_av} for scale in scale_cols} \\\n",
    "                           for k in ('sample_corr', 'sample_raw', 'r', 't', 'r_corr_w_control')}\n",
    "    for i in tqdm(range(N)):\n",
    "        sample = draw_sample_with_replacement(df, seed=i)\n",
    "        for scale in scale_cols:\n",
    "            for col in cols_av:\n",
    "                if group:\n",
    "                    t_test_res = t_test(sample, col, group)\n",
    "                    dict_scales_sapmles['t'][scale][col].append(t_test_res)\n",
    "                    \n",
    "                r_raw = compute_coefficient(sample, scale, col)[0]\n",
    "                dict_scales_sapmles['sample_raw'][scale][col].append(r_raw)\n",
    "                \n",
    "                droped = sample.dropna(subset=[col, scale])\n",
    "                r = stats.pearsonr(droped[col], droped[scale])[0]\n",
    "                dict_scales_sapmles['r'][scale][col].append(r)\n",
    "                \n",
    "                if col != col_to_correct_for:\n",
    "                    \n",
    "                    droped_c = sample.dropna(subset=[col, col_to_correct_for])\n",
    "                    r_c = stats.pearsonr(droped_c[col], droped_c[col_to_correct_for])[0]\n",
    "                    dict_scales_sapmles['r_corr_w_control'][scale][col].append(r_c)\n",
    "                    r_corr = compute_ortogonolized_coefficient(sample, scale, col_to_correct_for, col)[0]\n",
    "                    dict_scales_sapmles['sample_corr'][scale][col].append(r_corr)\n",
    "\n",
    "    return dict_scales_sapmles"
   ]
  },
  {
   "cell_type": "markdown",
   "id": "c10ea48f",
   "metadata": {},
   "source": [
    "#### expensive to compute"
   ]
  },
  {
   "cell_type": "code",
   "execution_count": 161,
   "id": "82a7ef1a",
   "metadata": {},
   "outputs": [],
   "source": [
    "# dict_scales_sapmles = bootstrap(combined_data_averaged, cols_av, scales, 1000, col_to_correct_for=('syntactic', 'mean_sent_len'), group='group')"
   ]
  },
  {
   "cell_type": "code",
   "execution_count": 162,
   "id": "4e983062",
   "metadata": {},
   "outputs": [],
   "source": [
    "# reform = {(scale, measure): dict_scales_sapmles[measure][scale] for scale in scale_cols for measure in dict_scales_sapmles}"
   ]
  },
  {
   "cell_type": "code",
   "execution_count": 163,
   "id": "60cffeda",
   "metadata": {},
   "outputs": [],
   "source": [
    "# with open('de_scales_samples.pickle', 'wb') as f:\n",
    "#     pickle.dump(reform, f)"
   ]
  },
  {
   "cell_type": "code",
   "execution_count": 164,
   "id": "061ddee3",
   "metadata": {},
   "outputs": [],
   "source": [
    "with open('de_scales_samples.pickle', 'rb') as f:\n",
    "    reform = pickle.load(f)"
   ]
  },
  {
   "cell_type": "code",
   "execution_count": 165,
   "id": "125b5adc",
   "metadata": {},
   "outputs": [],
   "source": [
    "reformed_d = pd.DataFrame(reform)"
   ]
  },
  {
   "cell_type": "code",
   "execution_count": 166,
   "id": "1c01273d",
   "metadata": {},
   "outputs": [],
   "source": [
    "reformed_d.index = pd.MultiIndex.from_tuples([(c[0], c[1].replace('sporb', 'sprob')) for c in reformed_d.index])"
   ]
  },
  {
   "cell_type": "code",
   "execution_count": 167,
   "id": "2e4c59c6",
   "metadata": {},
   "outputs": [],
   "source": [
    "# reformed_d"
   ]
  },
  {
   "cell_type": "code",
   "execution_count": 168,
   "id": "c45883cb",
   "metadata": {},
   "outputs": [],
   "source": [
    "# reformed_d[reformed_d['sans_total'].apply(lambda x: x['r_corr_w_control']==[], axis=1)]['saps_total','r_corr_w_control']"
   ]
  },
  {
   "cell_type": "code",
   "execution_count": 169,
   "id": "3e68c4a1",
   "metadata": {},
   "outputs": [],
   "source": [
    "figprms = {'syntactic': \n",
    "               {'subplot_size': (9, 4.5),\n",
    "                'wspace': 0.25,\n",
    "                'hspace': 0.125,\n",
    "                'yt': 0.925\n",
    "                }, \n",
    "           'LM': \n",
    "               {'subplot_size': (9, 5.5),\n",
    "                'wspace': 0.275,\n",
    "                'hspace': 0.125,\n",
    "                'yt': 0.92\n",
    "               }, \n",
    "           'lexical': \n",
    "               {'subplot_size': (9, 2),\n",
    "                'wspace': 0.2,\n",
    "                'hspace': 0.25,\n",
    "                'yt': 0.925\n",
    "               }, \n",
    "           'graph': \n",
    "               {'subplot_size': (9, 3.5), \n",
    "                'wspace': 0.3,\n",
    "                'hspace': 0.125,\n",
    "                'yt': 0.925\n",
    "               }}"
   ]
  },
  {
   "cell_type": "code",
   "execution_count": 170,
   "id": "5fc4da2c",
   "metadata": {},
   "outputs": [],
   "source": [
    "def get_fparams(m_type, n_sublots_height, n_sublots_width, figparams):\n",
    "    subplot_size = figprms[m_type]['subplot_size']\n",
    "    width = subplot_size[0] * n_sublots_width\n",
    "    height = subplot_size[1] * n_sublots_height\n",
    "    figsize = (width, height)\n",
    "    wspace = figprms[m_type]['wspace']\n",
    "    hspace = figprms[m_type]['hspace']\n",
    "    yt = figprms[m_type]['yt']\n",
    "    return figsize, wspace, hspace, yt"
   ]
  },
  {
   "cell_type": "code",
   "execution_count": 171,
   "id": "f6628228",
   "metadata": {},
   "outputs": [],
   "source": [
    "ORDERED_SCALES = ['panss_pos', 'panss_neg', 'panss_o', 'panss_total', 'saps_total', 'sans_total']"
   ]
  },
  {
   "cell_type": "code",
   "execution_count": 172,
   "id": "89092898",
   "metadata": {},
   "outputs": [],
   "source": [
    "def plot_horizontal_tasks(df, title, measure, m_type='syntactic', plot_abs=False, figparams=figprms):\n",
    "    figsize, wspace, hspace, yt = get_fparams(m_type, 3, 2, figparams)\n",
    "    fig, axes = plt.subplots(3, 2, figsize=figsize, sharex=True)\n",
    "    fig.suptitle(title, y=yt+0.25)\n",
    "    plt.subplots_adjust(wspace=wspace) #left=None, bottom=None, right=None, top=None, wspace=None, hspace=None)\n",
    "    \n",
    "    ab = 'abs ' if plot_abs else ''\n",
    "    \n",
    "    axs = axes.flatten()\n",
    "\n",
    "    for i, scale in enumerate(ORDERED_SCALES):\n",
    "        ax = axs[i]\n",
    "        d = prep_horizontal_pointplot_errobar_data(df[scale].loc[m_type], measure, plot_abs=plot_abs)\n",
    "        pointplot_horizontal(d, x=measure, ax=ax)\n",
    "        ax.set_title(f'{ab}{measure} {scale}')\n",
    "    \n",
    "    add_grey(axes)\n",
    "\n",
    "    if plot_abs:\n",
    "        for ax in axes.reshape(-1): \n",
    "            ax.set_xlabel('abs ' + measure);\n",
    "    return fig"
   ]
  },
  {
   "cell_type": "code",
   "execution_count": 173,
   "id": "803cdf55",
   "metadata": {},
   "outputs": [],
   "source": [
    "# m_type = 'syntactic'\n",
    "# fig = plot_horizontal_tasks(reformed_d, title=f'cross-scale comparison for {m_type} metrics', \n",
    "#                             measure='r', m_type=m_type, plot_abs=False)"
   ]
  },
  {
   "cell_type": "code",
   "execution_count": 174,
   "id": "250700c7",
   "metadata": {},
   "outputs": [],
   "source": [
    "def plot_all(df, m_type='syntactic', measure='r', path=PATH_FIG, dpi=150, plot_abs=False, figparams=figprms):\n",
    "    ab = 'abs_' if plot_abs else ''\n",
    "    absolute_value = f' (absolute {measure} value)' if plot_abs else ''\n",
    "    fig = plot_horizontal_tasks(df, title=f'cross-scale comparison for {m_type} metrics{absolute_value}', \n",
    "                                measure=measure, m_type=m_type, plot_abs=plot_abs, figparams=figprms)\n",
    "    plt.savefig(f'{path}{m_type}/{ab}scale_r.png', dpi=dpi)\n",
    "    plt.close(fig)\n",
    "    \n",
    "    figsize, wspace, hspace, yt = get_fparams(m_type, 1, 1, figparams)\n",
    "    d_t = prep_horizontal_pointplot_errobar_data(df['panss_o'].loc[m_type], 't')\n",
    "    fig, ax = plt.subplots(1, 1, figsize=figsize)\n",
    "    fig.suptitle(f'group difference (t-test) for {m_type} metrics')\n",
    "    pointplot_horizontal(d_t, 't', ax=ax)\n",
    "    add_grey(ax, r=2)\n",
    "    plt.savefig(f'{path}{m_type}/t.png', dpi=dpi, bbox_inches = 'tight')\n",
    "    plt.close(fig)\n",
    "    \n",
    "    d_c = prep_horizontal_pointplot_errobar_data(df['panss_o'].loc[m_type], 'r_corr_w_control')\n",
    "    fig, ax = plt.subplots(1, 1, figsize=figsize)\n",
    "    fig.suptitle(f'correlation with mean sentence length for {m_type} metrics')\n",
    "    pointplot_horizontal(d_c, 'r_corr_w_control', ax=ax)\n",
    "    ax.set_xlabel('r');\n",
    "    add_grey(ax)\n",
    "    plt.savefig(f'{path}{m_type}/corr_len.png', dpi=dpi, bbox_inches = 'tight')\n",
    "    plt.close(fig)\n",
    "\n",
    "    figsize, wspace, hspace, yt = get_fparams(m_type, 1, 2, figparams)\n",
    "    fig, axes = plt.subplots(1, 2, figsize=figsize)\n",
    "    fig.suptitle(f'group difference and correlation with mean sentence length for {m_type} metrics', y=yt+0.12)\n",
    "    plt.subplots_adjust(wspace=wspace)\n",
    "    pointplot_horizontal(d_t, x='t', ax=axes[0])\n",
    "    axes[0].set_title('group difference (t-test)')\n",
    "    pointplot_horizontal(d_c, x='r_corr_w_control', ax=axes[1])\n",
    "    axes[1].set_title('correlation with mean sentence length')\n",
    "    axes[1].set_xlabel('r');\n",
    "    add_grey(axes[0], r=2)\n",
    "    add_grey(axes[1])\n",
    "    plt.savefig(f'{path}{m_type}/t_test_corr_len.png', dpi=dpi, bbox_inches = 'tight')\n",
    "    plt.close(fig)"
   ]
  },
  {
   "cell_type": "code",
   "execution_count": 175,
   "id": "7b787db2",
   "metadata": {},
   "outputs": [],
   "source": [
    "# m_type='lexical'\n",
    "# plot_all(reformed_d, m_type, plot_abs=True)"
   ]
  },
  {
   "cell_type": "code",
   "execution_count": 176,
   "id": "0a16c331",
   "metadata": {},
   "outputs": [],
   "source": [
    "for m_type in reformed_d.index.unique(level=0):\n",
    "    plot_all(reformed_d, m_type, plot_abs=True)\n",
    "    plot_all(reformed_d, m_type, plot_abs=False)"
   ]
  },
  {
   "cell_type": "code",
   "execution_count": 177,
   "id": "a064b650",
   "metadata": {},
   "outputs": [],
   "source": [
    "order=['bert', 'glove_tf', 'glove_avg', 'w2v_tf', 'w2v_avg']\n",
    "# fig, ax = plt.subplots(1, 1, figsize=(10, 8))\n",
    "# fig.suptitle('corr sans')\n",
    "# d = prep_LM_pointplot(reformed_d.loc['LM', 'sans_total'], 'r', plot_abs=True)\n",
    "# pointplot(d, x='model', y='r', hue='metric', ax=ax, use_errorbar=True, order=order)\n",
    "# add_grey(ax, line_dir='h')"
   ]
  },
  {
   "cell_type": "code",
   "execution_count": 178,
   "id": "950ebbf4",
   "metadata": {},
   "outputs": [],
   "source": [
    "def plot_LM_scales(df, title, measure='r', plot_abs=False, figsize=(18, 18), order=order):\n",
    "    ab = 'abs ' if plot_abs else ''\n",
    "    absolute_value = f' (absolute {measure} value)' if plot_abs else ''\n",
    "    \n",
    "    fig, axes = plt.subplots(3, 2, figsize=figsize, sharey=True)\n",
    "    fig.suptitle(title + absolute_value, y=0.91)\n",
    "    plt.subplots_adjust(wspace=0.075)\n",
    "    \n",
    "    axs = axes.flatten()\n",
    "    for i, scale in enumerate(ORDERED_SCALES):\n",
    "        ax = axs[i]\n",
    "        d = prep_LM_pointplot(df.loc['LM', scale], measure, plot_abs=plot_abs)\n",
    "        pointplot(d, x='model', y=measure, hue='metric', ax=ax, order=order, use_errorbar=True)\n",
    "        ax.set_title(f'{ab}{measure} {scale}')\n",
    "    \n",
    "    add_grey(axes, line_dir='h')\n",
    "    if plot_abs:\n",
    "        for ax in axes.reshape(-1): \n",
    "            ax.set_ylabel('abs ' + measure);\n",
    "    return fig"
   ]
  },
  {
   "cell_type": "code",
   "execution_count": 179,
   "id": "c135be04",
   "metadata": {},
   "outputs": [],
   "source": [
    "# fig = plot_LM_scales(reformed_d, 'corr', plot_abs=False)"
   ]
  },
  {
   "cell_type": "code",
   "execution_count": 180,
   "id": "2bdd7344",
   "metadata": {},
   "outputs": [],
   "source": [
    "def plot_all_LM(df, path=PATH_FIG, dpi=150, plot_abs=False, figsize=(9, 9), measure='r'):\n",
    "    \n",
    "    ab = 'abs_' if plot_abs else ''\n",
    "    \n",
    "    fig = plot_LM_scales(df, 'cross-scale comparison of LM metrcis across models', plot_abs=plot_abs)\n",
    "    plt.savefig(f'{path}LM/model/{ab}scale_r.png', dpi=dpi, bbox_inches = 'tight')\n",
    "    plt.close(fig)\n",
    "    \n",
    "    d_lm_t = prep_LM_pointplot(df.loc['LM', 'panss_o'], 't')\n",
    "    fig, ax = plt.subplots(1, 1, figsize=figsize)\n",
    "    fig.suptitle('group difference (t-test) for LM metrcis across models')\n",
    "    pointplot(d_lm_t, x='model', y='t', hue='metric', ax=ax, order=order, use_errorbar=True)\n",
    "    add_grey(ax, r=2, line_dir='h')\n",
    "    plt.savefig(f'{path}LM/model/t.png', dpi=dpi, bbox_inches = 'tight')\n",
    "    plt.close(fig)\n",
    "    \n",
    "    absolute_value = f' (absolute {measure} value)' if plot_abs else ''\n",
    "    d_lm_c = prep_LM_pointplot(df.loc['LM', 'panss_o'], 'r_corr_w_control', plot_abs=plot_abs)\n",
    "    fig, ax = plt.subplots(1, 1, figsize=figsize)\n",
    "    fig.suptitle('correlation with mean sentence length for LM metrcis across models' + absolute_value)\n",
    "    pointplot(d_lm_c, x='model', y='r_corr_w_control', hue='metric', ax=ax, order=order, use_errorbar=True)\n",
    "    ax.set_xlabel(f'{ab}r')\n",
    "    add_grey(ax, line_dir='h')\n",
    "    plt.savefig(f'{path}LM/model/{ab}corr_len.png', dpi=dpi, bbox_inches = 'tight')\n",
    "    plt.close(fig)\n",
    "    \n",
    "\n",
    "    fig, axes = plt.subplots(1, 2, figsize=(18, 6))\n",
    "    fig.suptitle('group difference and correlation with mean sentence length of LM metrcis across models')\n",
    "\n",
    "    pointplot(d_lm_t, x='model', y='t', hue='metric', ax=axes[0], order=order, use_errorbar=True)\n",
    "    axes[0].set_title('group difference (t-test)')\n",
    "\n",
    "    pointplot(d_lm_c, x='model', y='r_corr_w_control', hue='metric', ax=axes[1], order=order, use_errorbar=True)\n",
    "    axes[1].set_title('correlation with mean sentence length')\n",
    "    axes[1].set_xlabel('r')\n",
    "    add_grey(axes[0], r=2, line_dir='h')\n",
    "    add_grey(axes[1], line_dir='h')\n",
    "    plt.savefig(f'{path}LM/model/t_test_corr_len.png', dpi=dpi, bbox_inches = 'tight')\n",
    "    plt.close(fig)"
   ]
  },
  {
   "cell_type": "code",
   "execution_count": 181,
   "id": "efaadb0a",
   "metadata": {},
   "outputs": [],
   "source": [
    "plot_all_LM(reformed_d, plot_abs=True)\n",
    "plot_all_LM(reformed_d, plot_abs=False)"
   ]
  },
  {
   "cell_type": "markdown",
   "id": "f208a64c",
   "metadata": {},
   "source": [
    "### cross-metric comparison"
   ]
  },
  {
   "cell_type": "code",
   "execution_count": 182,
   "id": "f070bdee",
   "metadata": {},
   "outputs": [],
   "source": [
    "scales_ = ('saps_total', 'sans_total', 'panss_pos', 'panss_neg', 'panss_o', 'panss_total')"
   ]
  },
  {
   "cell_type": "code",
   "execution_count": 183,
   "id": "b1a77df3",
   "metadata": {},
   "outputs": [],
   "source": [
    "def select_ok_metrics(row, t=1, r=0.3, rc=0.3):\n",
    "    ok_corr = False\n",
    "    ok_t = abs(row['saps_total', 't']) >= t\n",
    "    ok_len = pd.isna(row['saps_total', 'r_corr_w_control']) or abs(row['saps_total', 'r_corr_w_control']) <= rc\n",
    "    for scale in scales_:\n",
    "        if abs(row[scale, 'r']) >= r:\n",
    "            ok_corr = True \n",
    "            break\n",
    "    return (ok_corr or ok_t) and ok_len"
   ]
  },
  {
   "cell_type": "code",
   "execution_count": 184,
   "id": "b3200c0a",
   "metadata": {},
   "outputs": [],
   "source": [
    "def select_ok_metrics_for_one_scale(row, scale, r=0.3, rc=0.3):\n",
    "    ok_corr = False\n",
    "    ok_len = pd.isna(row['panss_total', 'r_corr_w_control']) or abs(row['panss_total', 'r_corr_w_control']) <= rc\n",
    "    ok_corr = abs(row[scale, 'r']) >= r\n",
    "    return ok_corr and ok_len"
   ]
  },
  {
   "cell_type": "code",
   "execution_count": 185,
   "id": "4e89cf67",
   "metadata": {},
   "outputs": [],
   "source": [
    "def select_control_corr_ms_better_than_len(row, row_len, r=0.3, rc=0.3):\n",
    "    if select_ok_metrics(row, r=r, rc=rc):\n",
    "        return False\n",
    "    ok_len = pd.isna(row['saps_total', 'r_corr_w_control']) or abs(row['saps_total', 'r_corr_w_control']) <= rc\n",
    "    if ok_len:\n",
    "        return False\n",
    "    else:\n",
    "        for scale in scales_:\n",
    "            if abs(row[scale, 'r']) >= abs(row_len[scale, 'r']):\n",
    "                return True\n",
    "        return False"
   ]
  },
  {
   "cell_type": "code",
   "execution_count": 186,
   "id": "7a9f87d2",
   "metadata": {},
   "outputs": [],
   "source": [
    "def select_control_corr_ms_better_than_len_for_one_scale(row, row_len, scale, r=0.3, rc=0.3):\n",
    "    if select_ok_metrics(row, r=r, rc=rc):\n",
    "        return False\n",
    "    ok_len = pd.isna(row['saps_total', 'r_corr_w_control']) or abs(row['saps_total', 'r_corr_w_control']) <= rc\n",
    "    if ok_len:\n",
    "        return False\n",
    "    else:\n",
    "        if abs(row[scale, 'r']) >= abs(row_len[scale, 'r']) and abs(row[scale, 'r']) > r:\n",
    "            return True\n",
    "        return False"
   ]
  },
  {
   "cell_type": "code",
   "execution_count": 187,
   "id": "e6b9d962",
   "metadata": {},
   "outputs": [],
   "source": [
    "def select_bad_len_metrics(row, rc=0.3):\n",
    "    ok_len = pd.isna(row['panss_total', 'r_corr_w_control']) or abs(row['panss_total', 'r_corr_w_control']) <= rc\n",
    "    return not ok_len"
   ]
  },
  {
   "cell_type": "code",
   "execution_count": 188,
   "id": "6624feaf",
   "metadata": {},
   "outputs": [],
   "source": [
    "median_d = reformed_d.applymap(np.nanmedian)"
   ]
  },
  {
   "cell_type": "code",
   "execution_count": 189,
   "id": "7cbadc18",
   "metadata": {},
   "outputs": [],
   "source": [
    "idxs_scale = {}\n",
    "idxs_bad_bet_len = {}\n",
    "for scale in scales_:\n",
    "    ids = median_d[median_d.apply(lambda x: select_ok_metrics_for_one_scale(x, scale=scale), axis=1)].index\n",
    "    idxs_scale[scale] = ids\n",
    "    idsl = median_d[median_d.apply(lambda x: select_control_corr_ms_better_than_len_for_one_scale(x, \n",
    "                                                                                                  row_len=median_d.loc[('syntactic', 'mean_sent_len')], \n",
    "                                                                                                  scale=scale), axis=1)].index\n",
    "    idxs_bad_bet_len[scale] = idsl"
   ]
  },
  {
   "cell_type": "code",
   "execution_count": 190,
   "id": "f3ca4104",
   "metadata": {},
   "outputs": [],
   "source": [
    "good_ms = sorted(list(set([y for x in idxs_scale.values() for y in x])))"
   ]
  },
  {
   "cell_type": "code",
   "execution_count": 191,
   "id": "8c379a6b",
   "metadata": {},
   "outputs": [],
   "source": [
    "bad_ms_better_than_len = sorted(list(set([y for x in idxs_bad_bet_len.values() for y in x])))"
   ]
  },
  {
   "cell_type": "code",
   "execution_count": 192,
   "id": "d853b3bd",
   "metadata": {},
   "outputs": [],
   "source": [
    "bad_ms = median_d[median_d.apply(select_bad_len_metrics, axis=1)].index"
   ]
  },
  {
   "cell_type": "code",
   "execution_count": 193,
   "id": "cf577f80",
   "metadata": {},
   "outputs": [],
   "source": [
    "# bad_ms_better_than_len = median_d[median_d.apply(lambda row: select_control_corr_ms_better_than_len(row, median_d.loc[('syntactic', 'mean_sent_len')]), axis=1)].index"
   ]
  },
  {
   "cell_type": "code",
   "execution_count": 194,
   "id": "8c50a411",
   "metadata": {},
   "outputs": [
    {
     "data": {
      "text/plain": [
       "True"
      ]
     },
     "execution_count": 194,
     "metadata": {},
     "output_type": "execute_result"
    }
   ],
   "source": [
    "set(bad_ms_better_than_len).issubset(set(bad_ms))"
   ]
  },
  {
   "cell_type": "code",
   "execution_count": 195,
   "id": "5d245e7a",
   "metadata": {},
   "outputs": [],
   "source": [
    "fig, ax = plt.subplots(1, 1, figsize=(8, 6), sharex=True)\n",
    "fig.suptitle('cross-type metric comparison for correlation with mean sent len')\n",
    "measure = 'r_corr_w_control'\n",
    "plot_abs = False\n",
    "\n",
    "\n",
    "d = prep_horizontal_pointplot_errobar_data(reformed_d['panss_pos'].loc[bad_ms], measure, plot_abs=plot_abs)\n",
    "pointplot_horizontal(d, x=measure, ax=ax)\n",
    "ax.set_xlabel('r')\n",
    "add_grey(ax)\n",
    "plt.savefig(f'{PATH_FIG}/compare_corr_len.png', dpi=150, bbox_inches = 'tight')\n",
    "plt.close(fig)"
   ]
  },
  {
   "cell_type": "code",
   "execution_count": 196,
   "id": "3c54b743",
   "metadata": {},
   "outputs": [],
   "source": [
    "# idx_comp_r = median_d[median_d.apply(lambda x: select_ok_metrics(x, t=3), axis=1)].index"
   ]
  },
  {
   "cell_type": "code",
   "execution_count": 197,
   "id": "86af63db",
   "metadata": {},
   "outputs": [],
   "source": [
    "ms_to_plot = sorted(bad_ms_better_than_len+ good_ms)"
   ]
  },
  {
   "cell_type": "code",
   "execution_count": 198,
   "id": "aa71f6ab",
   "metadata": {},
   "outputs": [
    {
     "data": {
      "text/plain": [
       "21"
      ]
     },
     "execution_count": 198,
     "metadata": {},
     "output_type": "execute_result"
    }
   ],
   "source": [
    "len(ms_to_plot)"
   ]
  },
  {
   "cell_type": "code",
   "execution_count": 199,
   "id": "7bcc4b21",
   "metadata": {},
   "outputs": [
    {
     "data": {
      "text/plain": [
       "4"
      ]
     },
     "execution_count": 199,
     "metadata": {},
     "output_type": "execute_result"
    }
   ],
   "source": [
    "len(good_ms)"
   ]
  },
  {
   "cell_type": "code",
   "execution_count": 200,
   "id": "393fbd88",
   "metadata": {},
   "outputs": [
    {
     "data": {
      "text/plain": [
       "{'saps_total': 5,\n",
       " 'sans_total': 10,\n",
       " 'panss_pos': 1,\n",
       " 'panss_neg': 12,\n",
       " 'panss_o': 14,\n",
       " 'panss_total': 16}"
      ]
     },
     "execution_count": 200,
     "metadata": {},
     "output_type": "execute_result"
    }
   ],
   "source": [
    "{s: len(idxs_scale[s]) + len(idxs_bad_bet_len[s]) for s in idxs_scale}"
   ]
  },
  {
   "cell_type": "code",
   "execution_count": 201,
   "id": "6902ef44",
   "metadata": {},
   "outputs": [
    {
     "data": {
      "text/plain": [
       "{'saps_total': 1,\n",
       " 'sans_total': 3,\n",
       " 'panss_pos': 0,\n",
       " 'panss_neg': 3,\n",
       " 'panss_o': 2,\n",
       " 'panss_total': 3}"
      ]
     },
     "execution_count": 201,
     "metadata": {},
     "output_type": "execute_result"
    }
   ],
   "source": [
    "{s: len(idxs_scale[s]) for s in idxs_scale}"
   ]
  },
  {
   "cell_type": "code",
   "execution_count": 202,
   "id": "a9293516",
   "metadata": {},
   "outputs": [],
   "source": [
    "def sort_index(idxs):\n",
    "    ms = sorted(idxs)\n",
    "    for s in ('syntactic: mean_sent_len', 'mean_sent_len', ('syntactic', 'mean_sent_len')):\n",
    "        if s in ms:\n",
    "            ms.remove(s)\n",
    "            ms.append(s)\n",
    "    return ms "
   ]
  },
  {
   "cell_type": "code",
   "execution_count": 203,
   "id": "ccfa5b4c",
   "metadata": {},
   "outputs": [],
   "source": [
    "def map_marker(m, scale, idxs_scale): #, idxs_bad_bet_len\n",
    "    if m in idxs_scale[scale]:\n",
    "        return 'o'\n",
    "#     elif m in idxs_bad_bet_len[scale]:\n",
    "#         return 'v'\n",
    "    else: \n",
    "        return 'x'"
   ]
  },
  {
   "cell_type": "code",
   "execution_count": 204,
   "id": "09957aac",
   "metadata": {},
   "outputs": [],
   "source": [
    "def add_len_lines(ax, median_d, scale):\n",
    "    ax.axvline(median_d.loc[('syntactic', 'mean_sent_len')][scale, 'r'], linestyle='--')\n",
    "    ax.axvline(-median_d.loc[('syntactic', 'mean_sent_len')][scale, 'r'], linestyle='--')"
   ]
  },
  {
   "cell_type": "code",
   "execution_count": 205,
   "id": "6c320264",
   "metadata": {},
   "outputs": [],
   "source": [
    "def plot_one_scale(ax, scale, idxs_scale, reformed_d, ms_to_plot, measure, plot_abs):\n",
    "    markers = [map_marker(m, scale, idxs_scale) for m in ms_to_plot]\n",
    "    if ('syntactic', 'mean_sent_len') in idxs_scale[scale]:\n",
    "        add_len_lines(ax, median_d, scale)\n",
    "    d = prep_horizontal_pointplot_errobar_data(reformed_d[scale].loc[ms_to_plot], measure, plot_abs=plot_abs)\n",
    "    pointplot_horizontal(d, x=measure, ax=ax, markers=markers)\n",
    "    ax.set_title(f'{measure} {scale}')"
   ]
  },
  {
   "cell_type": "code",
   "execution_count": 206,
   "id": "9b3c485c",
   "metadata": {},
   "outputs": [],
   "source": [
    "fig, axes = plt.subplots(3, 2, figsize=(18, 14), sharex=True)\n",
    "fig.suptitle('cross-scale cross-type metric comparison', y=0.915)\n",
    "plt.subplots_adjust(wspace=0.4, hspace=0.1) #left=None, bottom=None, right=None, top=None, wspace=None, hspace=None)\n",
    "measure = 'r'\n",
    "plot_abs = False\n",
    "idxs = sort_index(ms_to_plot)\n",
    "axs = axes.flatten()\n",
    "\n",
    "for i, scale in enumerate(ORDERED_SCALES):\n",
    "    ax = axs[i]\n",
    "    plot_one_scale(ax, scale, idxs_scale, reformed_d, ms_to_plot, measure, plot_abs)\n",
    "    \n",
    "add_grey(axes)\n",
    "plt.savefig(f'{PATH_FIG}/compare_r.png', dpi=150, bbox_inches = 'tight')\n",
    "plt.close(fig)"
   ]
  },
  {
   "cell_type": "code",
   "execution_count": 207,
   "id": "8e766829",
   "metadata": {},
   "outputs": [],
   "source": [
    "def select_ok_metrics_t(row):\n",
    "    q25 = np.quantile(row['saps_total', 't'], 0.25)\n",
    "    q75 = np.quantile(row['saps_total', 't'], 0.75)\n",
    "    return q25 > 0 or q75 < 0"
   ]
  },
  {
   "cell_type": "code",
   "execution_count": 208,
   "id": "083d36a5",
   "metadata": {},
   "outputs": [],
   "source": [
    "idx_comp_t = reformed_d[reformed_d.apply(select_ok_metrics_t, axis=1)].index"
   ]
  },
  {
   "cell_type": "code",
   "execution_count": 209,
   "id": "bde121b3",
   "metadata": {},
   "outputs": [
    {
     "data": {
      "text/plain": [
       "MultiIndex([('syntactic',             'ADV'),\n",
       "            ('syntactic',           'SCONJ'),\n",
       "            ('syntactic',    'max_sent_len'),\n",
       "            ('syntactic',   'mean_sent_len'),\n",
       "            ('syntactic',    'std_sent_len'),\n",
       "            (       'LM',       'bert_pppl'),\n",
       "            (  'lexical',             'LTR'),\n",
       "            (  'lexical',         'n_words'),\n",
       "            (    'graph',             'LCC'),\n",
       "            (    'graph',             'LSC'),\n",
       "            (    'graph', 'number_of_edges'),\n",
       "            (    'graph', 'number_of_nodes')],\n",
       "           )"
      ]
     },
     "execution_count": 209,
     "metadata": {},
     "output_type": "execute_result"
    }
   ],
   "source": [
    "idx_comp_t"
   ]
  },
  {
   "cell_type": "code",
   "execution_count": 210,
   "id": "4ff0724c",
   "metadata": {},
   "outputs": [],
   "source": [
    "fig, axes = plt.subplots(1, 2, figsize=(18, 4))\n",
    "plt.subplots_adjust(wspace=0.4)\n",
    "fig.suptitle('cross-type metric comparison for group difference and correlation with mean sentence length', y=1)\n",
    "\n",
    "dcr = reformed_d['sans_total'].loc[idx_comp_t].drop([('syntactic', 'mean_sent_len')])\n",
    "d_c = prep_horizontal_pointplot_errobar_data(dcr, 'r_corr_w_control', plot_abs=False)\n",
    "d_t = prep_horizontal_pointplot_errobar_data(reformed_d['sans_total'].loc[idx_comp_t], 't', plot_abs=False)\n",
    "\n",
    "\n",
    "pointplot_horizontal(d_t, x='t', ax=axes[0])\n",
    "axes[0].set_title('t')\n",
    "axes[0].set_title('group difference (t-test)')\n",
    "\n",
    "pointplot_horizontal(d_c, x='r_corr_w_control', ax=axes[1])\n",
    "axes[1].set_title('correlation with mean sentence length')\n",
    "axes[1].set_xlabel('r');\n",
    "add_grey(axes[0], r=2)\n",
    "add_grey(axes[1])\n",
    "plt.savefig(f'{PATH_FIG}/compare_t.png', dpi=150, bbox_inches = 'tight')\n",
    "plt.close(fig)"
   ]
  },
  {
   "cell_type": "code",
   "execution_count": 211,
   "id": "0b279eb7",
   "metadata": {},
   "outputs": [],
   "source": [
    "scales_ = ('sans_total', 'saps_total', 'panss_pos', 'panss_neg', 'panss_o', 'panss_total')\n",
    "sc_ind_ = ('t', 'r_corr_w_control')\n",
    "models_ = ('bert', 'glove_tf', 'glove_avg', 'w2v_tf', 'w2v_avg')\n",
    "metrics_ = ('cgcoh', 'gcoh', 'lcoh', 'scoh', 'sprob', 'pppl')"
   ]
  },
  {
   "cell_type": "code",
   "execution_count": 212,
   "id": "0c51a7a2",
   "metadata": {},
   "outputs": [],
   "source": [
    "def mean_model_metric_medians(median_df):\n",
    "    resp_d_model = pd.DataFrame(columns=[f'{sc} abs r' for sc in scales_] + list(sc_ind_), index=models_)\n",
    "    resp_d_metric = pd.DataFrame(columns=[f'{sc} abs r' for sc in scales_] + list(sc_ind_), index=metrics_)\n",
    "    for scale in scales_:\n",
    "        ex_d = prep_LM_pointplot(median_df.loc['LM', scale], col='r', use_errorbar=False, plot_abs=True)\n",
    "        for model in models_:\n",
    "            resp_d_model.loc[model, f'{scale} abs r'] = np.nanmean(ex_d[ex_d['model'] == model]['r'])\n",
    "        for metric in metrics_:\n",
    "            resp_d_metric.loc[metric, f'{scale} abs r'] = np.nanmean(ex_d[ex_d['metric'] == metric]['r'])\n",
    "    for sc_ind in sc_ind_:\n",
    "        for model in models_:\n",
    "            resp_d_model.loc[model, sc_ind] = np.nanmean(ex_d[ex_d['model'] == model][sc_ind])\n",
    "        for metric in metrics_:\n",
    "            resp_d_metric.loc[metric, sc_ind] = np.nanmean(ex_d[ex_d['metric'] == metric][sc_ind])\n",
    "    return resp_d_model, resp_d_metric\n"
   ]
  },
  {
   "cell_type": "code",
   "execution_count": 213,
   "id": "ad61d707",
   "metadata": {},
   "outputs": [],
   "source": [
    "resp_d_model, resp_d_metric = mean_model_metric_medians(median_d)"
   ]
  },
  {
   "cell_type": "code",
   "execution_count": 214,
   "id": "8b4a7ef0",
   "metadata": {},
   "outputs": [
    {
     "data": {
      "text/html": [
       "<style type=\"text/css\">\n",
       "#T_a9e30_row0_col0 {\n",
       "  background-color: #1865ac;\n",
       "  color: #f1f1f1;\n",
       "}\n",
       "#T_a9e30_row0_col1, #T_a9e30_row0_col2, #T_a9e30_row0_col7, #T_a9e30_row1_col0, #T_a9e30_row1_col3, #T_a9e30_row1_col4, #T_a9e30_row1_col5, #T_a9e30_row1_col6 {\n",
       "  background-color: #f7fbff;\n",
       "  color: #000000;\n",
       "}\n",
       "#T_a9e30_row0_col3 {\n",
       "  background-color: #2b7bba;\n",
       "  color: #f1f1f1;\n",
       "}\n",
       "#T_a9e30_row0_col4, #T_a9e30_row0_col6, #T_a9e30_row3_col1, #T_a9e30_row3_col2, #T_a9e30_row3_col5, #T_a9e30_row4_col0, #T_a9e30_row4_col3, #T_a9e30_row4_col7 {\n",
       "  background-color: #08306b;\n",
       "  color: #f1f1f1;\n",
       "}\n",
       "#T_a9e30_row0_col5 {\n",
       "  background-color: #4f9bcb;\n",
       "  color: #f1f1f1;\n",
       "}\n",
       "#T_a9e30_row1_col1 {\n",
       "  background-color: #519ccc;\n",
       "  color: #f1f1f1;\n",
       "}\n",
       "#T_a9e30_row1_col2 {\n",
       "  background-color: #0e58a2;\n",
       "  color: #f1f1f1;\n",
       "}\n",
       "#T_a9e30_row1_col7 {\n",
       "  background-color: #92c4de;\n",
       "  color: #000000;\n",
       "}\n",
       "#T_a9e30_row2_col0 {\n",
       "  background-color: #8dc1dd;\n",
       "  color: #000000;\n",
       "}\n",
       "#T_a9e30_row2_col1 {\n",
       "  background-color: #63a8d3;\n",
       "  color: #f1f1f1;\n",
       "}\n",
       "#T_a9e30_row2_col2 {\n",
       "  background-color: #3f8fc5;\n",
       "  color: #f1f1f1;\n",
       "}\n",
       "#T_a9e30_row2_col3 {\n",
       "  background-color: #a9cfe5;\n",
       "  color: #000000;\n",
       "}\n",
       "#T_a9e30_row2_col4 {\n",
       "  background-color: #d6e5f4;\n",
       "  color: #000000;\n",
       "}\n",
       "#T_a9e30_row2_col5 {\n",
       "  background-color: #c1d9ed;\n",
       "  color: #000000;\n",
       "}\n",
       "#T_a9e30_row2_col6 {\n",
       "  background-color: #f6faff;\n",
       "  color: #000000;\n",
       "}\n",
       "#T_a9e30_row2_col7 {\n",
       "  background-color: #105ba4;\n",
       "  color: #f1f1f1;\n",
       "}\n",
       "#T_a9e30_row3_col0 {\n",
       "  background-color: #1460a8;\n",
       "  color: #f1f1f1;\n",
       "}\n",
       "#T_a9e30_row3_col3 {\n",
       "  background-color: #083573;\n",
       "  color: #f1f1f1;\n",
       "}\n",
       "#T_a9e30_row3_col4 {\n",
       "  background-color: #2373b6;\n",
       "  color: #f1f1f1;\n",
       "}\n",
       "#T_a9e30_row3_col6 {\n",
       "  background-color: #3787c0;\n",
       "  color: #f1f1f1;\n",
       "}\n",
       "#T_a9e30_row3_col7 {\n",
       "  background-color: #084387;\n",
       "  color: #f1f1f1;\n",
       "}\n",
       "#T_a9e30_row4_col1 {\n",
       "  background-color: #2272b6;\n",
       "  color: #f1f1f1;\n",
       "}\n",
       "#T_a9e30_row4_col2 {\n",
       "  background-color: #56a0ce;\n",
       "  color: #f1f1f1;\n",
       "}\n",
       "#T_a9e30_row4_col4 {\n",
       "  background-color: #549fcd;\n",
       "  color: #f1f1f1;\n",
       "}\n",
       "#T_a9e30_row4_col5 {\n",
       "  background-color: #2474b7;\n",
       "  color: #f1f1f1;\n",
       "}\n",
       "#T_a9e30_row4_col6 {\n",
       "  background-color: #82bbdb;\n",
       "  color: #000000;\n",
       "}\n",
       "</style>\n",
       "<table id=\"T_a9e30\">\n",
       "  <thead>\n",
       "    <tr>\n",
       "      <th class=\"blank level0\" >&nbsp;</th>\n",
       "      <th id=\"T_a9e30_level0_col0\" class=\"col_heading level0 col0\" >sans_total abs r</th>\n",
       "      <th id=\"T_a9e30_level0_col1\" class=\"col_heading level0 col1\" >saps_total abs r</th>\n",
       "      <th id=\"T_a9e30_level0_col2\" class=\"col_heading level0 col2\" >panss_pos abs r</th>\n",
       "      <th id=\"T_a9e30_level0_col3\" class=\"col_heading level0 col3\" >panss_neg abs r</th>\n",
       "      <th id=\"T_a9e30_level0_col4\" class=\"col_heading level0 col4\" >panss_o abs r</th>\n",
       "      <th id=\"T_a9e30_level0_col5\" class=\"col_heading level0 col5\" >panss_total abs r</th>\n",
       "      <th id=\"T_a9e30_level0_col6\" class=\"col_heading level0 col6\" >t</th>\n",
       "      <th id=\"T_a9e30_level0_col7\" class=\"col_heading level0 col7\" >r_corr_w_control</th>\n",
       "    </tr>\n",
       "  </thead>\n",
       "  <tbody>\n",
       "    <tr>\n",
       "      <th id=\"T_a9e30_level0_row0\" class=\"row_heading level0 row0\" >bert</th>\n",
       "      <td id=\"T_a9e30_row0_col0\" class=\"data row0 col0\" >0.277267</td>\n",
       "      <td id=\"T_a9e30_row0_col1\" class=\"data row0 col1\" >0.077418</td>\n",
       "      <td id=\"T_a9e30_row0_col2\" class=\"data row0 col2\" >0.100903</td>\n",
       "      <td id=\"T_a9e30_row0_col3\" class=\"data row0 col3\" >0.279478</td>\n",
       "      <td id=\"T_a9e30_row0_col4\" class=\"data row0 col4\" >0.286947</td>\n",
       "      <td id=\"T_a9e30_row0_col5\" class=\"data row0 col5\" >0.272148</td>\n",
       "      <td id=\"T_a9e30_row0_col6\" class=\"data row0 col6\" >0.897096</td>\n",
       "      <td id=\"T_a9e30_row0_col7\" class=\"data row0 col7\" >0.295447</td>\n",
       "    </tr>\n",
       "    <tr>\n",
       "      <th id=\"T_a9e30_level0_row1\" class=\"row_heading level0 row1\" >glove_tf</th>\n",
       "      <td id=\"T_a9e30_row1_col0\" class=\"data row1 col0\" >0.165831</td>\n",
       "      <td id=\"T_a9e30_row1_col1\" class=\"data row1 col1\" >0.208415</td>\n",
       "      <td id=\"T_a9e30_row1_col2\" class=\"data row1 col2\" >0.234428</td>\n",
       "      <td id=\"T_a9e30_row1_col3\" class=\"data row1 col3\" >0.192332</td>\n",
       "      <td id=\"T_a9e30_row1_col4\" class=\"data row1 col4\" >0.163716</td>\n",
       "      <td id=\"T_a9e30_row1_col5\" class=\"data row1 col5\" >0.198474</td>\n",
       "      <td id=\"T_a9e30_row1_col6\" class=\"data row1 col6\" >0.393175</td>\n",
       "      <td id=\"T_a9e30_row1_col7\" class=\"data row1 col7\" >0.423349</td>\n",
       "    </tr>\n",
       "    <tr>\n",
       "      <th id=\"T_a9e30_level0_row2\" class=\"row_heading level0 row2\" >glove_avg</th>\n",
       "      <td id=\"T_a9e30_row2_col0\" class=\"data row2 col0\" >0.223965</td>\n",
       "      <td id=\"T_a9e30_row2_col1\" class=\"data row2 col1\" >0.196178</td>\n",
       "      <td id=\"T_a9e30_row2_col2\" class=\"data row2 col2\" >0.201043</td>\n",
       "      <td id=\"T_a9e30_row2_col3\" class=\"data row2 col3\" >0.234299</td>\n",
       "      <td id=\"T_a9e30_row2_col4\" class=\"data row2 col4\" >0.184733</td>\n",
       "      <td id=\"T_a9e30_row2_col5\" class=\"data row2 col5\" >0.232106</td>\n",
       "      <td id=\"T_a9e30_row2_col6\" class=\"data row2 col6\" >0.395287</td>\n",
       "      <td id=\"T_a9e30_row2_col7\" class=\"data row2 col7\" >0.559389</td>\n",
       "    </tr>\n",
       "    <tr>\n",
       "      <th id=\"T_a9e30_level0_row3\" class=\"row_heading level0 row3\" >w2v_tf</th>\n",
       "      <td id=\"T_a9e30_row3_col0\" class=\"data row3 col0\" >0.280326</td>\n",
       "      <td id=\"T_a9e30_row3_col1\" class=\"data row3 col1\" >0.303823</td>\n",
       "      <td id=\"T_a9e30_row3_col2\" class=\"data row3 col2\" >0.259068</td>\n",
       "      <td id=\"T_a9e30_row3_col3\" class=\"data row3 col3\" >0.312226</td>\n",
       "      <td id=\"T_a9e30_row3_col4\" class=\"data row3 col4\" >0.254846</td>\n",
       "      <td id=\"T_a9e30_row3_col5\" class=\"data row3 col5\" >0.324987</td>\n",
       "      <td id=\"T_a9e30_row3_col6\" class=\"data row3 col6\" >0.729716</td>\n",
       "      <td id=\"T_a9e30_row3_col7\" class=\"data row3 col7\" >0.588787</td>\n",
       "    </tr>\n",
       "    <tr>\n",
       "      <th id=\"T_a9e30_level0_row4\" class=\"row_heading level0 row4\" >w2v_avg</th>\n",
       "      <td id=\"T_a9e30_row4_col0\" class=\"data row4 col0\" >0.306191</td>\n",
       "      <td id=\"T_a9e30_row4_col1\" class=\"data row4 col1\" >0.246191</td>\n",
       "      <td id=\"T_a9e30_row4_col2\" class=\"data row4 col2\" >0.189937</td>\n",
       "      <td id=\"T_a9e30_row4_col3\" class=\"data row4 col3\" >0.314721</td>\n",
       "      <td id=\"T_a9e30_row4_col4\" class=\"data row4 col4\" >0.233608</td>\n",
       "      <td id=\"T_a9e30_row4_col5\" class=\"data row4 col5\" >0.291606</td>\n",
       "      <td id=\"T_a9e30_row4_col6\" class=\"data row4 col6\" >0.615956</td>\n",
       "      <td id=\"T_a9e30_row4_col7\" class=\"data row4 col7\" >0.612061</td>\n",
       "    </tr>\n",
       "  </tbody>\n",
       "</table>\n"
      ],
      "text/plain": [
       "<pandas.io.formats.style.Styler at 0x7f9c382a87f0>"
      ]
     },
     "execution_count": 214,
     "metadata": {},
     "output_type": "execute_result"
    }
   ],
   "source": [
    "style(resp_d_model)"
   ]
  },
  {
   "cell_type": "code",
   "execution_count": 215,
   "id": "a52350cc",
   "metadata": {},
   "outputs": [
    {
     "data": {
      "text/html": [
       "<style type=\"text/css\">\n",
       "#T_3f23f_row0_col0, #T_3f23f_row0_col3, #T_3f23f_row0_col4, #T_3f23f_row0_col5, #T_3f23f_row0_col7, #T_3f23f_row1_col6, #T_3f23f_row4_col1, #T_3f23f_row5_col2 {\n",
       "  background-color: #f7fbff;\n",
       "  color: #000000;\n",
       "}\n",
       "#T_3f23f_row0_col1 {\n",
       "  background-color: #4f9bcb;\n",
       "  color: #f1f1f1;\n",
       "}\n",
       "#T_3f23f_row0_col2 {\n",
       "  background-color: #d6e5f4;\n",
       "  color: #000000;\n",
       "}\n",
       "#T_3f23f_row0_col6 {\n",
       "  background-color: #97c6df;\n",
       "  color: #000000;\n",
       "}\n",
       "#T_3f23f_row1_col0 {\n",
       "  background-color: #d0e2f2;\n",
       "  color: #000000;\n",
       "}\n",
       "#T_3f23f_row1_col1 {\n",
       "  background-color: #68acd5;\n",
       "  color: #f1f1f1;\n",
       "}\n",
       "#T_3f23f_row1_col2 {\n",
       "  background-color: #b0d2e7;\n",
       "  color: #000000;\n",
       "}\n",
       "#T_3f23f_row1_col3 {\n",
       "  background-color: #bdd7ec;\n",
       "  color: #000000;\n",
       "}\n",
       "#T_3f23f_row1_col4 {\n",
       "  background-color: #cde0f1;\n",
       "  color: #000000;\n",
       "}\n",
       "#T_3f23f_row1_col5 {\n",
       "  background-color: #a9cfe5;\n",
       "  color: #000000;\n",
       "}\n",
       "#T_3f23f_row1_col7 {\n",
       "  background-color: #2f7fbc;\n",
       "  color: #f1f1f1;\n",
       "}\n",
       "#T_3f23f_row2_col0 {\n",
       "  background-color: #539ecd;\n",
       "  color: #f1f1f1;\n",
       "}\n",
       "#T_3f23f_row2_col1, #T_3f23f_row2_col2, #T_3f23f_row4_col7, #T_3f23f_row5_col0, #T_3f23f_row5_col3, #T_3f23f_row5_col4, #T_3f23f_row5_col5, #T_3f23f_row5_col6 {\n",
       "  background-color: #08306b;\n",
       "  color: #f1f1f1;\n",
       "}\n",
       "#T_3f23f_row2_col3 {\n",
       "  background-color: #3d8dc4;\n",
       "  color: #f1f1f1;\n",
       "}\n",
       "#T_3f23f_row2_col4, #T_3f23f_row3_col2 {\n",
       "  background-color: #4b98ca;\n",
       "  color: #f1f1f1;\n",
       "}\n",
       "#T_3f23f_row2_col5 {\n",
       "  background-color: #1967ad;\n",
       "  color: #f1f1f1;\n",
       "}\n",
       "#T_3f23f_row2_col6 {\n",
       "  background-color: #b2d2e8;\n",
       "  color: #000000;\n",
       "}\n",
       "#T_3f23f_row2_col7 {\n",
       "  background-color: #084a91;\n",
       "  color: #f1f1f1;\n",
       "}\n",
       "#T_3f23f_row3_col0 {\n",
       "  background-color: #2575b7;\n",
       "  color: #f1f1f1;\n",
       "}\n",
       "#T_3f23f_row3_col1, #T_3f23f_row4_col2, #T_3f23f_row4_col6 {\n",
       "  background-color: #4896c8;\n",
       "  color: #f1f1f1;\n",
       "}\n",
       "#T_3f23f_row3_col3 {\n",
       "  background-color: #125ea6;\n",
       "  color: #f1f1f1;\n",
       "}\n",
       "#T_3f23f_row3_col4 {\n",
       "  background-color: #2a7ab9;\n",
       "  color: #f1f1f1;\n",
       "}\n",
       "#T_3f23f_row3_col5 {\n",
       "  background-color: #09529d;\n",
       "  color: #f1f1f1;\n",
       "}\n",
       "#T_3f23f_row3_col6 {\n",
       "  background-color: #deebf7;\n",
       "  color: #000000;\n",
       "}\n",
       "#T_3f23f_row3_col7 {\n",
       "  background-color: #08458a;\n",
       "  color: #f1f1f1;\n",
       "}\n",
       "#T_3f23f_row4_col0 {\n",
       "  background-color: #9ac8e0;\n",
       "  color: #000000;\n",
       "}\n",
       "#T_3f23f_row4_col3 {\n",
       "  background-color: #4594c7;\n",
       "  color: #f1f1f1;\n",
       "}\n",
       "#T_3f23f_row4_col4 {\n",
       "  background-color: #58a1cf;\n",
       "  color: #f1f1f1;\n",
       "}\n",
       "#T_3f23f_row4_col5 {\n",
       "  background-color: #3181bd;\n",
       "  color: #f1f1f1;\n",
       "}\n",
       "#T_3f23f_row5_col1 {\n",
       "  background-color: #c9ddf0;\n",
       "  color: #000000;\n",
       "}\n",
       "#T_3f23f_row5_col7 {\n",
       "  background-color: #0b559f;\n",
       "  color: #f1f1f1;\n",
       "}\n",
       "</style>\n",
       "<table id=\"T_3f23f\">\n",
       "  <thead>\n",
       "    <tr>\n",
       "      <th class=\"blank level0\" >&nbsp;</th>\n",
       "      <th id=\"T_3f23f_level0_col0\" class=\"col_heading level0 col0\" >sans_total abs r</th>\n",
       "      <th id=\"T_3f23f_level0_col1\" class=\"col_heading level0 col1\" >saps_total abs r</th>\n",
       "      <th id=\"T_3f23f_level0_col2\" class=\"col_heading level0 col2\" >panss_pos abs r</th>\n",
       "      <th id=\"T_3f23f_level0_col3\" class=\"col_heading level0 col3\" >panss_neg abs r</th>\n",
       "      <th id=\"T_3f23f_level0_col4\" class=\"col_heading level0 col4\" >panss_o abs r</th>\n",
       "      <th id=\"T_3f23f_level0_col5\" class=\"col_heading level0 col5\" >panss_total abs r</th>\n",
       "      <th id=\"T_3f23f_level0_col6\" class=\"col_heading level0 col6\" >t</th>\n",
       "      <th id=\"T_3f23f_level0_col7\" class=\"col_heading level0 col7\" >r_corr_w_control</th>\n",
       "    </tr>\n",
       "  </thead>\n",
       "  <tbody>\n",
       "    <tr>\n",
       "      <th id=\"T_3f23f_level0_row0\" class=\"row_heading level0 row0\" >cgcoh</th>\n",
       "      <td id=\"T_3f23f_row0_col0\" class=\"data row0 col0\" >0.105299</td>\n",
       "      <td id=\"T_3f23f_row0_col1\" class=\"data row0 col1\" >0.190543</td>\n",
       "      <td id=\"T_3f23f_row0_col2\" class=\"data row0 col2\" >0.142615</td>\n",
       "      <td id=\"T_3f23f_row0_col3\" class=\"data row0 col3\" >0.101842</td>\n",
       "      <td id=\"T_3f23f_row0_col4\" class=\"data row0 col4\" >0.085081</td>\n",
       "      <td id=\"T_3f23f_row0_col5\" class=\"data row0 col5\" >0.098206</td>\n",
       "      <td id=\"T_3f23f_row0_col6\" class=\"data row0 col6\" >0.878644</td>\n",
       "      <td id=\"T_3f23f_row0_col7\" class=\"data row0 col7\" >0.284133</td>\n",
       "    </tr>\n",
       "    <tr>\n",
       "      <th id=\"T_3f23f_level0_row1\" class=\"row_heading level0 row1\" >gcoh</th>\n",
       "      <td id=\"T_3f23f_row1_col0\" class=\"data row1 col0\" >0.176844</td>\n",
       "      <td id=\"T_3f23f_row1_col1\" class=\"data row1 col1\" >0.182994</td>\n",
       "      <td id=\"T_3f23f_row1_col2\" class=\"data row1 col2\" >0.163320</td>\n",
       "      <td id=\"T_3f23f_row1_col3\" class=\"data row1 col3\" >0.200654</td>\n",
       "      <td id=\"T_3f23f_row1_col4\" class=\"data row1 col4\" >0.159135</td>\n",
       "      <td id=\"T_3f23f_row1_col5\" class=\"data row1 col5\" >0.204929</td>\n",
       "      <td id=\"T_3f23f_row1_col6\" class=\"data row1 col6\" >0.134453</td>\n",
       "      <td id=\"T_3f23f_row1_col7\" class=\"data row1 col7\" >0.489777</td>\n",
       "    </tr>\n",
       "    <tr>\n",
       "      <th id=\"T_3f23f_level0_row2\" class=\"row_heading level0 row2\" >lcoh</th>\n",
       "      <td id=\"T_3f23f_row2_col0\" class=\"data row2 col0\" >0.314215</td>\n",
       "      <td id=\"T_3f23f_row2_col1\" class=\"data row2 col1\" >0.232792</td>\n",
       "      <td id=\"T_3f23f_row2_col2\" class=\"data row2 col2\" >0.256959</td>\n",
       "      <td id=\"T_3f23f_row2_col3\" class=\"data row2 col3\" >0.328474</td>\n",
       "      <td id=\"T_3f23f_row2_col4\" class=\"data row2 col4\" >0.292727</td>\n",
       "      <td id=\"T_3f23f_row2_col5\" class=\"data row2 col5\" >0.344978</td>\n",
       "      <td id=\"T_3f23f_row2_col6\" class=\"data row2 col6\" >0.730074</td>\n",
       "      <td id=\"T_3f23f_row2_col7\" class=\"data row2 col7\" >0.549403</td>\n",
       "    </tr>\n",
       "    <tr>\n",
       "      <th id=\"T_3f23f_level0_row3\" class=\"row_heading level0 row3\" >scoh</th>\n",
       "      <td id=\"T_3f23f_row3_col0\" class=\"data row3 col0\" >0.373954</td>\n",
       "      <td id=\"T_3f23f_row3_col1\" class=\"data row3 col1\" >0.192923</td>\n",
       "      <td id=\"T_3f23f_row3_col2\" class=\"data row3 col2\" >0.201327</td>\n",
       "      <td id=\"T_3f23f_row3_col3\" class=\"data row3 col3\" >0.392648</td>\n",
       "      <td id=\"T_3f23f_row3_col4\" class=\"data row3 col4\" >0.334646</td>\n",
       "      <td id=\"T_3f23f_row3_col5\" class=\"data row3 col5\" >0.370794</td>\n",
       "      <td id=\"T_3f23f_row3_col6\" class=\"data row3 col6\" >0.375524</td>\n",
       "      <td id=\"T_3f23f_row3_col7\" class=\"data row3 col7\" >0.554980</td>\n",
       "    </tr>\n",
       "    <tr>\n",
       "      <th id=\"T_3f23f_level0_row4\" class=\"row_heading level0 row4\" >sprob</th>\n",
       "      <td id=\"T_3f23f_row4_col0\" class=\"data row4 col0\" >0.246057</td>\n",
       "      <td id=\"T_3f23f_row4_col1\" class=\"data row4 col1\" >0.131360</td>\n",
       "      <td id=\"T_3f23f_row4_col2\" class=\"data row4 col2\" >0.202997</td>\n",
       "      <td id=\"T_3f23f_row4_col3\" class=\"data row4 col3\" >0.318323</td>\n",
       "      <td id=\"T_3f23f_row4_col4\" class=\"data row4 col4\" >0.278572</td>\n",
       "      <td id=\"T_3f23f_row4_col5\" class=\"data row4 col5\" >0.314921</td>\n",
       "      <td id=\"T_3f23f_row4_col6\" class=\"data row4 col6\" >1.287450</td>\n",
       "      <td id=\"T_3f23f_row4_col7\" class=\"data row4 col7\" >0.578790</td>\n",
       "    </tr>\n",
       "    <tr>\n",
       "      <th id=\"T_3f23f_level0_row5\" class=\"row_heading level0 row5\" >pppl</th>\n",
       "      <td id=\"T_3f23f_row5_col0\" class=\"data row5 col0\" >0.471239</td>\n",
       "      <td id=\"T_3f23f_row5_col1\" class=\"data row5 col1\" >0.155317</td>\n",
       "      <td id=\"T_3f23f_row5_col2\" class=\"data row5 col2\" >0.119219</td>\n",
       "      <td id=\"T_3f23f_row5_col3\" class=\"data row5 col3\" >0.454768</td>\n",
       "      <td id=\"T_3f23f_row5_col4\" class=\"data row5 col4\" >0.432778</td>\n",
       "      <td id=\"T_3f23f_row5_col5\" class=\"data row5 col5\" >0.412121</td>\n",
       "      <td id=\"T_3f23f_row5_col6\" class=\"data row5 col6\" >2.038195</td>\n",
       "      <td id=\"T_3f23f_row5_col7\" class=\"data row5 col7\" >0.536772</td>\n",
       "    </tr>\n",
       "  </tbody>\n",
       "</table>\n"
      ],
      "text/plain": [
       "<pandas.io.formats.style.Styler at 0x7f9c3f65a700>"
      ]
     },
     "execution_count": 215,
     "metadata": {},
     "output_type": "execute_result"
    }
   ],
   "source": [
    "style(resp_d_metric)"
   ]
  },
  {
   "cell_type": "code",
   "execution_count": 216,
   "id": "f6cf8d96",
   "metadata": {},
   "outputs": [],
   "source": [
    "# idx_comp_t = median_d[median_d.apply(lambda x: select_ok_metrics(x, t=1, r=0.5), axis=1)].index\n",
    "# fig, ax = plt.subplots(1, 1, figsize=(12, 5))\n",
    "# fig.suptitle('t compare')\n",
    "# d_t = prep_synt_pointplot_errobar_data(reformed_d['sans_total'].loc[idx_comp_t], 't', plot_abs=False)\n",
    "# pointplot_synt(d_t, x='t', ax=ax)\n",
    "# plt.xticks(np.arange(-2, 7, step=1));\n",
    "# plt.savefig(f'{PATH_FIG}/compare_t.png', dpi=150, bbox_inches = 'tight')"
   ]
  },
  {
   "cell_type": "code",
   "execution_count": 217,
   "id": "c48d4495",
   "metadata": {},
   "outputs": [],
   "source": [
    "# median_d[median_d.apply(select_ok_metrics, axis=1)]"
   ]
  },
  {
   "cell_type": "code",
   "execution_count": 220,
   "id": "d4da0767",
   "metadata": {},
   "outputs": [],
   "source": [
    "sample_df = pd.DataFrame()\n",
    "for scale in scale_cols:\n",
    "    scale_metric_sd = {}\n",
    "    scale_metric_md = {}\n",
    "    scale_metric_mn = {}\n",
    "    scale_metric_cov = {}\n",
    "    scale_metric_diff = {}\n",
    "    scale_metric_q25 = {}\n",
    "    scale_metric_q75 = {}\n",
    "    for col in cols_av:\n",
    "        if col != ('syntactic', 'mean_sent_len'):\n",
    "#             col_old = (col[0], col[1].replace('sprob', 'sprob'))\n",
    "            sample = reform[(scale, 'sample_corr')][col]\n",
    "            scale_metric_sd[col] = np.std(sample)\n",
    "            scale_metric_md[col] = np.median(sample)\n",
    "            scale_metric_mn[col] = np.mean(sample)\n",
    "            scale_metric_q25[col] = np.quantile(sample, 0.25)\n",
    "            scale_metric_q75[col] = np.quantile(sample, 0.75)\n",
    "            scale_metric_cov[col] = np.std(sample) / np.mean(sample)\n",
    "            scale_metric_diff[col] = np.mean(sample) / np.mean(reform[(scale, 'sample_raw')][col])\n",
    "            \n",
    "    sample_df[(scale, 'md')] = pd.Series(scale_metric_md)\n",
    "    sample_df[(scale, 'mn')] = pd.Series(scale_metric_mn)\n",
    "    sample_df[(scale, 'sd')] = pd.Series(scale_metric_sd)\n",
    "    sample_df[(scale, 'cov')] = pd.Series(scale_metric_cov)\n",
    "    sample_df[(scale, 'dif')] = pd.Series(scale_metric_diff)\n",
    "    sample_df[(scale, 'q25')] = pd.Series(scale_metric_q25)\n",
    "    sample_df[(scale, 'q75')] = pd.Series(scale_metric_q75)"
   ]
  },
  {
   "cell_type": "code",
   "execution_count": 221,
   "id": "82764d3e",
   "metadata": {},
   "outputs": [],
   "source": [
    "# sample_df"
   ]
  },
  {
   "cell_type": "code",
   "execution_count": 222,
   "id": "810ca36c",
   "metadata": {},
   "outputs": [],
   "source": [
    "sample_df.columns = pd.MultiIndex.from_tuples(sample_df.columns, names=('scale', 'res'))"
   ]
  },
  {
   "cell_type": "code",
   "execution_count": 223,
   "id": "3f7915ab",
   "metadata": {
    "scrolled": true
   },
   "outputs": [],
   "source": [
    "ex_df = sample_df.loc['LM', 'sans_total'].drop(index='bert_sprob')\n",
    "ex_df['model'] = [map_model(m) for m in ex_df.index]\n",
    "ex_df['metric'] = [x.split('_')[-1] for x in ex_df.index]\n",
    "# ex_df"
   ]
  },
  {
   "cell_type": "code",
   "execution_count": 224,
   "id": "c8392fbd",
   "metadata": {},
   "outputs": [],
   "source": [
    "# sns.set_theme(style=\"whitegrid\")\n",
    "\n",
    "# # Draw a pointplot to show pulse as a function of three categorical factors\n",
    "# g = sns.catplot(\n",
    "#     data=ex_df, x=\"model\", y=\"md\", hue=\"metric\", order=['bert', 'w2v_raw', 'w2v'],\n",
    "#     capsize=.2,  # errorbar=\"se\",\n",
    "#     kind=\"point\", height=6, aspect=.75,\n",
    "# )\n",
    "# g.despine(left=True)"
   ]
  },
  {
   "cell_type": "code",
   "execution_count": 225,
   "id": "676436b7",
   "metadata": {},
   "outputs": [],
   "source": [
    "sample_df.columns = pd.MultiIndex.from_tuples(sample_df.columns, names=('scale', 'res'))\n",
    "styler = pd.io.formats.style.Styler(sample_df, precision = 4)\n",
    "# styler.background_gradient(axis=0, cmap='Reds')"
   ]
  },
  {
   "cell_type": "code",
   "execution_count": 227,
   "id": "ede447bb",
   "metadata": {},
   "outputs": [],
   "source": [
    "# sns.histplot(dict_scales_sapmles['sample_corr']['sans_total'][('syntactic', 'AUX')], bins=30);"
   ]
  },
  {
   "cell_type": "code",
   "execution_count": 228,
   "id": "d676718e",
   "metadata": {},
   "outputs": [],
   "source": [
    "# sns.histplot(dict_scales_sapmles['sample_corr']['sans_total'][('LM', 'm_cgcoh')], bins=30);"
   ]
  },
  {
   "cell_type": "code",
   "execution_count": 229,
   "id": "37d6efb8",
   "metadata": {},
   "outputs": [],
   "source": [
    "# sns.histplot(dict_scales_sapmles['sample_corr']['sans_total'][('LM', 'm_bert_cgcoh')], bins=30);"
   ]
  },
  {
   "cell_type": "markdown",
   "id": "43a3dd5b",
   "metadata": {},
   "source": [
    "### original"
   ]
  },
  {
   "cell_type": "code",
   "execution_count": 230,
   "id": "3c32d3dc",
   "metadata": {},
   "outputs": [],
   "source": [
    "# plt.scatter(combined_data_averaged[('syntactic', 'mean_sent_len')], combined_data_averaged[('syntactic', 'AUX')]);"
   ]
  },
  {
   "cell_type": "code",
   "execution_count": 231,
   "id": "41c7458b",
   "metadata": {
    "scrolled": true
   },
   "outputs": [],
   "source": [
    "# ex_df = combined_data_averaged[combined_data_averaged[('syntactic', 'mean_sent_len')] > 5]\n",
    "# draw_corrected_scatter(ex_df, 'sans_total', ('syntactic', 'mean_sent_len'), ('syntactic', 'AUX'),\n",
    "#                       column_names=['sent len', 'punct'], target_name='sans')"
   ]
  },
  {
   "cell_type": "code",
   "execution_count": 232,
   "id": "b30b1218",
   "metadata": {},
   "outputs": [
    {
     "data": {
      "text/plain": [
       "0.004861777549361124"
      ]
     },
     "execution_count": 232,
     "metadata": {},
     "output_type": "execute_result"
    }
   ],
   "source": [
    "compute_ortogonolized_coefficient(combined_data_averaged, 'sans_total', ('syntactic', 'mean_sent_len'), ('syntactic', 'AUX'),\n",
    "                                  column_names=['sent len', 'punct'], target_name='sans', add_sq=False)[0]"
   ]
  },
  {
   "cell_type": "code",
   "execution_count": 233,
   "id": "f43d87cb",
   "metadata": {},
   "outputs": [
    {
     "data": {
      "text/plain": [
       "0.02558778907996051"
      ]
     },
     "execution_count": 233,
     "metadata": {},
     "output_type": "execute_result"
    }
   ],
   "source": [
    "compute_ortogonolized_coefficient(combined_data_averaged, 'sans_total', ('syntactic', 'mean_sent_len'), ('LM', 'w2v_tf_cgcoh'),\n",
    "                                  column_names=['sent len', 'punct'], target_name='sans', add_sq=False)[0]"
   ]
  },
  {
   "cell_type": "code",
   "execution_count": 234,
   "id": "917f50de",
   "metadata": {},
   "outputs": [],
   "source": [
    "# draw_corrected_scatter(combined_data_averaged, 'sans_total', ('syntactic', 'mean_sent_len'), ('LM', 'w2v_tf_cgcoh'),\n",
    "#                       column_names=['sent len', 'm_cgcoh'], target_name='sans')"
   ]
  },
  {
   "cell_type": "code",
   "execution_count": 235,
   "id": "6abe3fc4",
   "metadata": {},
   "outputs": [],
   "source": [
    "# draw_corrected_scatter(combined_data_averaged, 'sans_total', ('syntactic', 'mean_sent_len'), ('syntactic', 'NOUN'),\n",
    "#                       column_names=['sent len', 'num'], target_name='sans')"
   ]
  },
  {
   "cell_type": "code",
   "execution_count": 236,
   "id": "5d97ef9d",
   "metadata": {},
   "outputs": [],
   "source": [
    "# draw_corrected_scatter(combined_data_averaged, 'sans_total', ('syntactic', 'mean_sent_len'), ('graph', 'number_of_edges'),\n",
    "#                       column_names=['sent len', 'NE'], target_name='sans')"
   ]
  },
  {
   "cell_type": "code",
   "execution_count": 237,
   "id": "e5a70e68",
   "metadata": {},
   "outputs": [],
   "source": [
    "# draw_corrected_scatter(combined_data_averaged, 'sans_total', ('syntactic', 'mean_sent_len'), ('graph', 'number_of_nodes'),\n",
    "#                       column_names=['sent len', 'NN'], target_name='sans')"
   ]
  },
  {
   "cell_type": "code",
   "execution_count": 238,
   "id": "dcea1723",
   "metadata": {},
   "outputs": [],
   "source": [
    "# draw_corrected_scatter(combined_data_averaged, 'sans_total', ('syntactic', 'mean_sent_len'), ('lexical', 'MALTR'),\n",
    "#                       column_names=['sent len', 'maltr'], target_name='sans')"
   ]
  },
  {
   "cell_type": "code",
   "execution_count": 239,
   "id": "61f364dc",
   "metadata": {},
   "outputs": [],
   "source": [
    "# draw_corrected_scatter(combined_data_averaged, 'sans_total', ('syntactic', 'mean_sent_len'), ('LM', 'w2v_tf_cgcoh'),\n",
    "#                       column_names=['sent len', 'm_cgcoh'], target_name='sans')"
   ]
  },
  {
   "cell_type": "code",
   "execution_count": 240,
   "id": "de3b67a4",
   "metadata": {},
   "outputs": [],
   "source": [
    "cols_dict = {}\n",
    "for col in cols_av:\n",
    "    cols_dict[col] = compute_ortogonolized_coefficient(combined_data_averaged, 'sans_total', ('syntactic', 'mean_sent_len'), col)[0]\n",
    "combined_corr.insert(1, ('sans_total', 'r_corrected_for_mean_len'), pd.Series(cols_dict)) "
   ]
  },
  {
   "cell_type": "code",
   "execution_count": 241,
   "id": "95d114b9",
   "metadata": {},
   "outputs": [],
   "source": [
    "cols_dict = {}\n",
    "for col in cols_av:\n",
    "    cols_dict[col] = compute_ortogonolized_coefficient(combined_data_averaged, 'saps_total', ('syntactic', 'mean_sent_len'), col)[0]\n",
    "combined_corr.insert(1, ('saps_total', 'r_corrected_for_mean_len'), pd.Series(cols_dict)) "
   ]
  },
  {
   "cell_type": "code",
   "execution_count": 242,
   "id": "c392efdc",
   "metadata": {},
   "outputs": [],
   "source": [
    "cols_dict = {}\n",
    "for col in cols_av:\n",
    "    cols_dict[col] = compute_ortogonolized_coefficient(combined_data_averaged, 'panss_total', ('syntactic', 'mean_sent_len'), col)[0]\n",
    "combined_corr.insert(1, ('panss', 'r_corrected_for_mean_len'), pd.Series(cols_dict)) "
   ]
  },
  {
   "cell_type": "code",
   "execution_count": 243,
   "id": "26a62f5a",
   "metadata": {},
   "outputs": [
    {
     "name": "stderr",
     "output_type": "stream",
     "text": [
      "/Users/galina.ryazanskaya/miniconda3/lib/python3.9/site-packages/statsmodels/base/model.py:604: ConvergenceWarning: Maximum Likelihood optimization failed to converge. Check mle_retvals\n",
      "  warnings.warn(\"Maximum Likelihood optimization failed to \"\n"
     ]
    }
   ],
   "source": [
    "cols_dict = {}\n",
    "for col in cols_av:\n",
    "    cols_dict[col] = compute_ortogonolized_logit(combined_data_averaged, 'group', ('syntactic', 'mean_sent_len'), col)\n",
    "combined_corr.insert(1, ('t_test', 'r_corrected_for_mean_len'), pd.Series(cols_dict)) "
   ]
  },
  {
   "cell_type": "code",
   "execution_count": 244,
   "id": "2ff09da5",
   "metadata": {},
   "outputs": [],
   "source": [
    "t_p_n_corr_rank = pd.concat([combined_corr[('t_test', 'abs_t')].rank(ascending=False)] + [combined_corr[(scale, 'r_corrected_for_mean_len')].rank(ascending=False) for scale in ['sans_total', 'saps_total']], axis=1).mean(axis=1)\n",
    "combined_corr.insert(1, ('mean', 'tpn_rank_corr'), t_p_n_corr_rank) \n",
    "combined_corr.insert(2, ('mean', 'tpn_rank_corr_abs'), t_p_n_corr_rank.rank()) "
   ]
  },
  {
   "cell_type": "code",
   "execution_count": 245,
   "id": "f991449e",
   "metadata": {
    "scrolled": false
   },
   "outputs": [],
   "source": [
    "# combined_corr.sort_values(('mean', 'tpn_rank_corr'), ascending=True).apply(pd.to_numeric).style.background_gradient(axis=0, cmap='Reds')"
   ]
  },
  {
   "cell_type": "code",
   "execution_count": 246,
   "id": "4ec81004",
   "metadata": {},
   "outputs": [],
   "source": [
    "def get_ranking_difference(df, col_initial, col_final):\n",
    "    return df[col_final].rank() - df[col_initial].rank()"
   ]
  },
  {
   "cell_type": "code",
   "execution_count": 247,
   "id": "47ffc21d",
   "metadata": {},
   "outputs": [],
   "source": [
    "rank_diff = pd.DataFrame()\n",
    "rank_diff[('panss', 'rank_change')] = get_ranking_difference(combined_corr, ('panss', 'abs_r'), ('panss', 'r_corrected_for_mean_len'))\n",
    "rank_diff[('panss', 'corrected_rank')] = combined_corr[('panss', 'r_corrected_for_mean_len')].rank()\n",
    "rank_diff[('panss', 'corrected_r')] = combined_corr[('panss', 'r_corrected_for_mean_len')]\n",
    "\n",
    "\n",
    "rank_diff[('sans', 'rank_change')] = get_ranking_difference(combined_corr, ('sans_total', 'abs_r'), ('sans_total', 'r_corrected_for_mean_len'))\n",
    "rank_diff[('sans', 'corrected_rank')] = combined_corr[('sans_total', 'r_corrected_for_mean_len')].rank()\n",
    "rank_diff[('sans', 'corrected_r')] = combined_corr[('sans_total', 'r_corrected_for_mean_len')]\n",
    "\n",
    "rank_diff[('saps', 'rank_change')] = get_ranking_difference(combined_corr, ('saps_total', 'abs_r'), ('saps_total', 'r_corrected_for_mean_len'))\n",
    "rank_diff[('saps', 'corrected_rank')] = combined_corr[('saps_total', 'r_corrected_for_mean_len')].rank()\n",
    "rank_diff[('saps', 'corrected_r')] = combined_corr[('saps_total', 'r_corrected_for_mean_len')]\n",
    "\n",
    "rank_diff[('t_test', 'rank_change')] = get_ranking_difference(combined_corr, ('t_test', 'abs_t'), ('t_test', 'r_corrected_for_mean_len'))\n",
    "rank_diff[('t_test', 'corrected_rank')] = combined_corr[('t_test', 'r_corrected_for_mean_len')].rank()\n",
    "rank_diff[('t_test', 'corrected_r')] = combined_corr[('t_test', 'r_corrected_for_mean_len')]\n",
    "rank_diff[('t_test', 'val')] = combined_corr[('t_test', 'abs_t')]\n",
    "\n",
    "rank_diff.columns = pd.MultiIndex.from_tuples(rank_diff.columns, names=('scale', 'res'))\n",
    "rank_diff = rank_diff.apply(pd.to_numeric)"
   ]
  },
  {
   "cell_type": "code",
   "execution_count": 248,
   "id": "1c9d9c4b",
   "metadata": {},
   "outputs": [],
   "source": [
    "# rank_diff.style.background_gradient(axis=0, cmap='Reds')"
   ]
  },
  {
   "cell_type": "code",
   "execution_count": 249,
   "id": "5692df06",
   "metadata": {},
   "outputs": [],
   "source": [
    "n = [label[1] for label in rank_diff.index]\n",
    "c_map = {'LM': 0, 'graph': 1, 'lexical': 2, 'syntactic': 3}\n",
    "c = [c_map[label[0]] for label in rank_diff.index]"
   ]
  },
  {
   "cell_type": "code",
   "execution_count": 250,
   "id": "77572a29",
   "metadata": {},
   "outputs": [],
   "source": [
    "def plot_res_corr(x, y, n, x_name, y_name, title, c=None):\n",
    "    r = stats.pearsonr(x, y).statistic\n",
    "    X = sm.add_constant(x)\n",
    "    model = sm.OLS(y, X).fit()\n",
    "    ypred = model.predict(X)\n",
    "    plt.plot(x, ypred, color='red', label=f'coef: {model.params[1]:.2f} \\ncorr: {r:.2f}')\n",
    "\n",
    "    plt.gca().add_artist(plt.legend(loc=9))\n",
    "\n",
    "    scatter_annotate(x, y, n, x_name, y_name, title, c=c)"
   ]
  },
  {
   "cell_type": "code",
   "execution_count": 251,
   "id": "9e88e228",
   "metadata": {},
   "outputs": [],
   "source": [
    "plt.rcParams[\"figure.figsize\"] = (15,8)"
   ]
  },
  {
   "cell_type": "code",
   "execution_count": 252,
   "id": "901dacce",
   "metadata": {},
   "outputs": [],
   "source": [
    "x = rank_diff[('panss', 'corrected_r')]\n",
    "y = rank_diff[('t_test', 'corrected_r')]\n",
    "\n",
    "plot_res_corr(x, y, n, 'panss r', 'ttest pseudo r', 'PANSS / TTEST', c)\n",
    "plt.close()"
   ]
  },
  {
   "cell_type": "code",
   "execution_count": 253,
   "id": "678dbe69",
   "metadata": {},
   "outputs": [],
   "source": [
    "x = rank_diff[('sans', 'corrected_r')]\n",
    "y = rank_diff[('t_test', 'corrected_r')]\n",
    "\n",
    "plot_res_corr(x, y, n, 'sans r', 'ttest pseudo r', 'SANS / TTEST', c)\n",
    "plt.close()"
   ]
  },
  {
   "cell_type": "code",
   "execution_count": 254,
   "id": "4822b829",
   "metadata": {},
   "outputs": [],
   "source": [
    "x = rank_diff[('saps', 'corrected_r')]\n",
    "y = rank_diff[('t_test', 'corrected_r')]\n",
    "\n",
    "plot_res_corr(x, y, n, 'saps r', 'ttest pseudo r', 'SAPS / TTEST', c)\n",
    "plt.close()"
   ]
  },
  {
   "cell_type": "code",
   "execution_count": 255,
   "id": "c7dc2b99",
   "metadata": {},
   "outputs": [],
   "source": [
    "x = rank_diff[('saps', 'corrected_r')]\n",
    "y = rank_diff[('panss', 'corrected_r')]\n",
    "\n",
    "plot_res_corr(x, y, n, 'saps r', 'panss r', 'SAPS / PANSS', c)\n",
    "plt.close()"
   ]
  },
  {
   "cell_type": "code",
   "execution_count": 256,
   "id": "729309e5",
   "metadata": {},
   "outputs": [],
   "source": [
    "x = rank_diff[('sans', 'corrected_r')]\n",
    "y = rank_diff[('saps', 'corrected_r')]\n",
    "\n",
    "plot_res_corr(x, y, n, 'sans r', 'saps r', 'SANS / SAPS', c)\n",
    "plt.close()"
   ]
  },
  {
   "cell_type": "code",
   "execution_count": 257,
   "id": "e4cc33c6",
   "metadata": {},
   "outputs": [],
   "source": [
    "x = rank_diff[('sans', 'corrected_r')]\n",
    "y = rank_diff[('panss', 'corrected_r')]\n",
    "\n",
    "plot_res_corr(x, y, n, 'sans r', 'panss r', 'SANS / PANSS', c)\n",
    "plt.close()"
   ]
  },
  {
   "cell_type": "code",
   "execution_count": 258,
   "id": "e3249e37",
   "metadata": {},
   "outputs": [],
   "source": [
    "x = rank_diff[('sans', 'corrected_rank')]\n",
    "y = rank_diff[('panss', 'corrected_rank')]\n",
    "\n",
    "plot_res_corr(x, y, n, 'sans rank', 'panss rank', 'SANS / PANSS', c)\n",
    "plt.close()"
   ]
  }
 ],
 "metadata": {
  "kernelspec": {
   "display_name": "Python 3 (ipykernel)",
   "language": "python",
   "name": "python3"
  },
  "language_info": {
   "codemirror_mode": {
    "name": "ipython",
    "version": 3
   },
   "file_extension": ".py",
   "mimetype": "text/x-python",
   "name": "python",
   "nbconvert_exporter": "python",
   "pygments_lexer": "ipython3",
   "version": "3.9.7"
  }
 },
 "nbformat": 4,
 "nbformat_minor": 5
}
