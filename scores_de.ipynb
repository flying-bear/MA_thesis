{
 "cells": [
  {
   "cell_type": "markdown",
   "id": "cafc37de",
   "metadata": {},
   "source": [
    "# Imports & Constants"
   ]
  },
  {
   "cell_type": "code",
   "execution_count": 1,
   "id": "1c1337cd",
   "metadata": {},
   "outputs": [],
   "source": [
    "%load_ext autoreload"
   ]
  },
  {
   "cell_type": "code",
   "execution_count": 2,
   "id": "b9808f48",
   "metadata": {},
   "outputs": [],
   "source": [
    "%autoreload 2"
   ]
  },
  {
   "cell_type": "code",
   "execution_count": 3,
   "id": "d6b88058",
   "metadata": {},
   "outputs": [],
   "source": [
    "import matplotlib.pyplot as plt\n",
    "import numpy as np\n",
    "import pandas as pd\n",
    "import random\n",
    "import seaborn as sns\n",
    "import statsmodels.api as sm\n",
    "\n",
    "from scipy import stats\n",
    "from matplotlib.colors import ListedColormap"
   ]
  },
  {
   "cell_type": "code",
   "execution_count": 4,
   "id": "a27c18cd",
   "metadata": {},
   "outputs": [],
   "source": [
    "from jupyter_utils import mean_std, display_test, display_group_test, show_corrtest_mask_corr"
   ]
  },
  {
   "cell_type": "code",
   "execution_count": 5,
   "id": "e7a10fd5",
   "metadata": {},
   "outputs": [],
   "source": [
    "import warnings\n",
    "warnings.filterwarnings(action='ignore', category=np.VisibleDeprecationWarning)\n",
    "warnings.filterwarnings(action='ignore', message='All-NaN slice encountered')\n",
    "warnings.filterwarnings(action='ignore', message='Precision loss occurred in moment calculation due to catastrophic cancellation. This occurs when the data are nearly identical. Results may be unreliable.')"
   ]
  },
  {
   "cell_type": "code",
   "execution_count": 6,
   "id": "7b35c160",
   "metadata": {},
   "outputs": [],
   "source": [
    "sns.set_theme(style=\"whitegrid\")"
   ]
  },
  {
   "cell_type": "code",
   "execution_count": 7,
   "id": "88f21ad3",
   "metadata": {},
   "outputs": [],
   "source": [
    "PATH = '/Users/galina.ryazanskaya/Downloads/thesis?/code?/transcripts_NET/'"
   ]
  },
  {
   "cell_type": "code",
   "execution_count": 8,
   "id": "ad4db021",
   "metadata": {},
   "outputs": [],
   "source": [
    "PATH_FIG = '/Users/galina.ryazanskaya/Downloads/thesis?/figures/de/'"
   ]
  },
  {
   "cell_type": "markdown",
   "id": "2788e812",
   "metadata": {},
   "source": [
    "# Load & clean patient data"
   ]
  },
  {
   "cell_type": "markdown",
   "id": "debba0f1",
   "metadata": {},
   "source": [
    "total positve ftd - saps34 <br>\n",
    "total alogia - sans12 <br>\n",
    "sex_nr - female = 1, male = 0 <br>\n",
    "ausja_bl = education years at baseline (i.e. 6 months before the NET interview) <br>\n",
    "pa - panss <br>\n",
    "\n",
    "### calculate total psychiatric scores and fill NA"
   ]
  },
  {
   "cell_type": "code",
   "execution_count": 9,
   "id": "789fcd22",
   "metadata": {},
   "outputs": [],
   "source": [
    "# load psychiatric data for the participants\n",
    "df = pd.read_excel(PATH +'NAP/GR_all6M_MPP.xlsx', index_col=0, na_values=[' ', '', -99.0])\n",
    "df = df[df.index.notnull()].drop(columns=['Unnamed: 98', 'Unnamed: 99'])"
   ]
  },
  {
   "cell_type": "code",
   "execution_count": 10,
   "id": "fc17af6d",
   "metadata": {},
   "outputs": [],
   "source": [
    "df['panss_pos'] = df[['pa_0' + str(i) for i in range(1, 8)]].sum(axis=1)\n",
    "df['panss_neg'] = df[['pa_' + ('0' + str(i) if i< 10 else str(i)) for i in range(8, 16)]].sum(axis=1)\n",
    "df['panss_o'] = df[['pa_' + str(i) for i in range(16, 31)]].sum(axis=1)\n",
    "df['panss_total'] = df[['panss_pos', 'panss_neg', 'panss_o']].sum(axis=1)\n",
    "df['saps_total'] = df[[c for c in df.columns if c.startswith('saps')]].sum(axis=1)\n",
    "df['sans_total'] =  df[[c for c in df.columns if c.startswith('sans')]].sum(axis=1)"
   ]
  },
  {
   "cell_type": "markdown",
   "id": "aca2be66",
   "metadata": {},
   "source": [
    "### Filter out only the patients there are transcripts for"
   ]
  },
  {
   "cell_type": "code",
   "execution_count": 11,
   "id": "89f3f5ce",
   "metadata": {},
   "outputs": [],
   "source": [
    "df.index.rename('ID', inplace=True)"
   ]
  },
  {
   "cell_type": "code",
   "execution_count": 12,
   "id": "f006234d",
   "metadata": {},
   "outputs": [],
   "source": [
    "# load scores for the transcripts (patients)\n",
    "res = pd.read_csv('/Users/galina.ryazanskaya/Downloads/thesis?/code?/processed_values/de_patients.tsv', sep='\\t', index_col=0, header=[0, 1, 2])"
   ]
  },
  {
   "cell_type": "code",
   "execution_count": 13,
   "id": "5b2e25af",
   "metadata": {},
   "outputs": [],
   "source": [
    "res.dropna(how='all', inplace=True)"
   ]
  },
  {
   "cell_type": "code",
   "execution_count": 14,
   "id": "0565bf68",
   "metadata": {},
   "outputs": [],
   "source": [
    "# bring IDs from results and psychiatric scores to a uniform standard\n",
    "idxs = sorted([x.replace('_6M_manual_c', '') for x in res.index])\n",
    "idxs = ['MPP_0' + i if len(i) > 1 else 'MPP_00' + i for i in idxs]"
   ]
  },
  {
   "cell_type": "code",
   "execution_count": 15,
   "id": "7a047e27",
   "metadata": {},
   "outputs": [],
   "source": [
    "res.index = ['MPP_0' + i if len(i) > 1 else 'MPP_00' + i for i in [x.replace('_6M_manual_c', '') for x in res.index]]\n",
    "res.index.rename('ID', inplace=True)"
   ]
  },
  {
   "cell_type": "code",
   "execution_count": 16,
   "id": "9f4a02af",
   "metadata": {},
   "outputs": [],
   "source": [
    "assert not set(idxs).difference(set(df.index))"
   ]
  },
  {
   "cell_type": "code",
   "execution_count": 17,
   "id": "96103f81",
   "metadata": {},
   "outputs": [],
   "source": [
    "df = df.loc[idxs]"
   ]
  },
  {
   "cell_type": "markdown",
   "id": "5069be78",
   "metadata": {},
   "source": [
    "### Explore descriptive statistics"
   ]
  },
  {
   "cell_type": "code",
   "execution_count": 18,
   "id": "28705b0d",
   "metadata": {},
   "outputs": [],
   "source": [
    "clinical_cols = ['age', 'sex_nr', 'Bildungsjahre', 'IQ_kristallin', \n",
    "                'saps34', 'saps_total', 'sans_total', 'sans12', \n",
    "                'panss_pos', 'panss_neg', 'panss_o', 'panss_total']"
   ]
  },
  {
   "cell_type": "code",
   "execution_count": 19,
   "id": "6980be21",
   "metadata": {},
   "outputs": [],
   "source": [
    "scale_cols = ['saps_total',\n",
    "             'sans_total',\n",
    "             'panss_pos',\n",
    "             'panss_neg',\n",
    "             'panss_o',\n",
    "             'panss_total']"
   ]
  },
  {
   "cell_type": "code",
   "execution_count": 20,
   "id": "17f08131",
   "metadata": {},
   "outputs": [
    {
     "data": {
      "text/html": [
       "<div>\n",
       "<style scoped>\n",
       "    .dataframe tbody tr th:only-of-type {\n",
       "        vertical-align: middle;\n",
       "    }\n",
       "\n",
       "    .dataframe tbody tr th {\n",
       "        vertical-align: top;\n",
       "    }\n",
       "\n",
       "    .dataframe thead th {\n",
       "        text-align: right;\n",
       "    }\n",
       "</style>\n",
       "<table border=\"1\" class=\"dataframe\">\n",
       "  <thead>\n",
       "    <tr style=\"text-align: right;\">\n",
       "      <th></th>\n",
       "      <th>age</th>\n",
       "      <th>sex_nr</th>\n",
       "      <th>Bildungsjahre</th>\n",
       "      <th>IQ_kristallin</th>\n",
       "      <th>saps34</th>\n",
       "      <th>saps_total</th>\n",
       "      <th>sans_total</th>\n",
       "      <th>sans12</th>\n",
       "      <th>panss_pos</th>\n",
       "      <th>panss_neg</th>\n",
       "      <th>panss_o</th>\n",
       "      <th>panss_total</th>\n",
       "    </tr>\n",
       "  </thead>\n",
       "  <tbody>\n",
       "    <tr>\n",
       "      <th>value</th>\n",
       "      <td>39.49 (11.11)</td>\n",
       "      <td>0.41 (0.5)</td>\n",
       "      <td>14.62 (2.95)</td>\n",
       "      <td>105.16 (15.65)</td>\n",
       "      <td>1.03 (1.05)</td>\n",
       "      <td>16.81 (16.7)</td>\n",
       "      <td>27.73 (20.35)</td>\n",
       "      <td>0.92 (1.19)</td>\n",
       "      <td>12.66 (5.48)</td>\n",
       "      <td>16.85 (6.03)</td>\n",
       "      <td>27.75 (7.51)</td>\n",
       "      <td>57.26 (16.18)</td>\n",
       "    </tr>\n",
       "  </tbody>\n",
       "</table>\n",
       "</div>"
      ],
      "text/plain": [
       "                 age      sex_nr Bildungsjahre   IQ_kristallin       saps34  \\\n",
       "value  39.49 (11.11)  0.41 (0.5)  14.62 (2.95)  105.16 (15.65)  1.03 (1.05)   \n",
       "\n",
       "         saps_total     sans_total       sans12     panss_pos     panss_neg  \\\n",
       "value  16.81 (16.7)  27.73 (20.35)  0.92 (1.19)  12.66 (5.48)  16.85 (6.03)   \n",
       "\n",
       "            panss_o    panss_total  \n",
       "value  27.75 (7.51)  57.26 (16.18)  "
      ]
     },
     "execution_count": 20,
     "metadata": {},
     "output_type": "execute_result"
    }
   ],
   "source": [
    "mean_std(df, clinical_cols)"
   ]
  },
  {
   "cell_type": "code",
   "execution_count": 21,
   "id": "2e095b32",
   "metadata": {},
   "outputs": [
    {
     "data": {
      "text/html": [
       "<div>\n",
       "<style scoped>\n",
       "    .dataframe tbody tr th:only-of-type {\n",
       "        vertical-align: middle;\n",
       "    }\n",
       "\n",
       "    .dataframe tbody tr th {\n",
       "        vertical-align: top;\n",
       "    }\n",
       "\n",
       "    .dataframe thead th {\n",
       "        text-align: right;\n",
       "    }\n",
       "</style>\n",
       "<table border=\"1\" class=\"dataframe\">\n",
       "  <thead>\n",
       "    <tr style=\"text-align: right;\">\n",
       "      <th></th>\n",
       "      <th>age</th>\n",
       "      <th>sex_nr</th>\n",
       "      <th>Bildungsjahre</th>\n",
       "      <th>IQ_kristallin</th>\n",
       "      <th>saps34</th>\n",
       "      <th>saps_total</th>\n",
       "      <th>sans_total</th>\n",
       "      <th>sans12</th>\n",
       "      <th>panss_pos</th>\n",
       "      <th>panss_neg</th>\n",
       "      <th>panss_o</th>\n",
       "      <th>panss_total</th>\n",
       "    </tr>\n",
       "    <tr>\n",
       "      <th>sex_nr</th>\n",
       "      <th></th>\n",
       "      <th></th>\n",
       "      <th></th>\n",
       "      <th></th>\n",
       "      <th></th>\n",
       "      <th></th>\n",
       "      <th></th>\n",
       "      <th></th>\n",
       "      <th></th>\n",
       "      <th></th>\n",
       "      <th></th>\n",
       "      <th></th>\n",
       "    </tr>\n",
       "  </thead>\n",
       "  <tbody>\n",
       "    <tr>\n",
       "      <th>0.0</th>\n",
       "      <td>37.29 (10.12)</td>\n",
       "      <td>0.0 (0.0)</td>\n",
       "      <td>14.54 (3.11)</td>\n",
       "      <td>107.0 (12.7)</td>\n",
       "      <td>1.03 (1.04)</td>\n",
       "      <td>18.57 (16.7)</td>\n",
       "      <td>28.63 (21.23)</td>\n",
       "      <td>0.94 (1.24)</td>\n",
       "      <td>13.37 (5.61)</td>\n",
       "      <td>17.14 (6.6)</td>\n",
       "      <td>28.64 (7.63)</td>\n",
       "      <td>59.15 (16.99)</td>\n",
       "    </tr>\n",
       "    <tr>\n",
       "      <th>1.0</th>\n",
       "      <td>42.71 (11.9)</td>\n",
       "      <td>1.0 (0.0)</td>\n",
       "      <td>14.73 (2.78)</td>\n",
       "      <td>102.35 (19.28)</td>\n",
       "      <td>1.04 (1.08)</td>\n",
       "      <td>14.25 (16.71)</td>\n",
       "      <td>26.42 (19.37)</td>\n",
       "      <td>0.88 (1.15)</td>\n",
       "      <td>11.62 (5.22)</td>\n",
       "      <td>16.42 (5.17)</td>\n",
       "      <td>26.45 (7.3)</td>\n",
       "      <td>54.5 (14.84)</td>\n",
       "    </tr>\n",
       "  </tbody>\n",
       "</table>\n",
       "</div>"
      ],
      "text/plain": [
       "                  age     sex_nr Bildungsjahre   IQ_kristallin       saps34  \\\n",
       "sex_nr                                                                        \n",
       "0.0     37.29 (10.12)  0.0 (0.0)  14.54 (3.11)    107.0 (12.7)  1.03 (1.04)   \n",
       "1.0      42.71 (11.9)  1.0 (0.0)  14.73 (2.78)  102.35 (19.28)  1.04 (1.08)   \n",
       "\n",
       "           saps_total     sans_total       sans12     panss_pos     panss_neg  \\\n",
       "sex_nr                                                                          \n",
       "0.0      18.57 (16.7)  28.63 (21.23)  0.94 (1.24)  13.37 (5.61)   17.14 (6.6)   \n",
       "1.0     14.25 (16.71)  26.42 (19.37)  0.88 (1.15)  11.62 (5.22)  16.42 (5.17)   \n",
       "\n",
       "             panss_o    panss_total  \n",
       "sex_nr                               \n",
       "0.0     28.64 (7.63)  59.15 (16.99)  \n",
       "1.0      26.45 (7.3)   54.5 (14.84)  "
      ]
     },
     "execution_count": 21,
     "metadata": {},
     "output_type": "execute_result"
    }
   ],
   "source": [
    "# grouped by sex\n",
    "mean_std(df, clinical_cols, 'sex_nr')"
   ]
  },
  {
   "cell_type": "code",
   "execution_count": 22,
   "id": "ddfba938",
   "metadata": {},
   "outputs": [
    {
     "data": {
      "text/plain": [
       "sex_nr\n",
       "0.0    35\n",
       "1.0    24\n",
       "Name: age, dtype: int64"
      ]
     },
     "execution_count": 22,
     "metadata": {},
     "output_type": "execute_result"
    }
   ],
   "source": [
    "df.groupby('sex_nr').count()['age']"
   ]
  },
  {
   "cell_type": "code",
   "execution_count": 23,
   "id": "5b4e2c40",
   "metadata": {},
   "outputs": [
    {
     "data": {
      "image/png": "[encoded data removed]",
      "text/plain": [
       "<Figure size 2880x1440 with 2 Axes>"
      ]
     },
     "metadata": {
      "needs_background": "light"
     },
     "output_type": "display_data"
    }
   ],
   "source": [
    "corr = show_corrtest_mask_corr(df[clinical_cols])\n",
    "## 1. age does not correlate with IQ, education years, or psychiatric scales\n",
    "## 2. IQ does not correlate with education years or psychiatric scales\n",
    "## 3. saps-total correlates with saps34 and panss_pos\n",
    "## 4. sans-total correlates with sans12 and panss_neg, panss_o, panss_total\n",
    "## 5. panss-total correlates with panss_o, panss_neg, sans-total, panss_pos, saps-total"
   ]
  },
  {
   "cell_type": "code",
   "execution_count": 24,
   "id": "0f4aa464",
   "metadata": {},
   "outputs": [],
   "source": [
    "r = mean_std(df, scale_cols)"
   ]
  },
  {
   "cell_type": "code",
   "execution_count": 25,
   "id": "38cf9220",
   "metadata": {},
   "outputs": [],
   "source": [
    "r.loc['max'] = pd.Series([170, 120, 49, 49, 112, 210], index=r.columns)\n",
    "r.loc['min'] = pd.Series([0, 0, 7, 7, 16, 30], index=r.columns)\n",
    "r.loc['share'] = r.loc['value'].apply(lambda x: float(x.split(' ')[0])) / r.loc['max'] "
   ]
  },
  {
   "cell_type": "code",
   "execution_count": 26,
   "id": "0a39517e",
   "metadata": {
    "scrolled": true
   },
   "outputs": [
    {
     "data": {
      "text/html": [
       "<div>\n",
       "<style scoped>\n",
       "    .dataframe tbody tr th:only-of-type {\n",
       "        vertical-align: middle;\n",
       "    }\n",
       "\n",
       "    .dataframe tbody tr th {\n",
       "        vertical-align: top;\n",
       "    }\n",
       "\n",
       "    .dataframe thead th {\n",
       "        text-align: right;\n",
       "    }\n",
       "</style>\n",
       "<table border=\"1\" class=\"dataframe\">\n",
       "  <thead>\n",
       "    <tr style=\"text-align: right;\">\n",
       "      <th></th>\n",
       "      <th>saps_total</th>\n",
       "      <th>sans_total</th>\n",
       "      <th>panss_pos</th>\n",
       "      <th>panss_neg</th>\n",
       "      <th>panss_o</th>\n",
       "      <th>panss_total</th>\n",
       "    </tr>\n",
       "  </thead>\n",
       "  <tbody>\n",
       "    <tr>\n",
       "      <th>value</th>\n",
       "      <td>16.81 (16.7)</td>\n",
       "      <td>27.73 (20.35)</td>\n",
       "      <td>12.66 (5.48)</td>\n",
       "      <td>16.85 (6.03)</td>\n",
       "      <td>27.75 (7.51)</td>\n",
       "      <td>57.26 (16.18)</td>\n",
       "    </tr>\n",
       "    <tr>\n",
       "      <th>max</th>\n",
       "      <td>170</td>\n",
       "      <td>120</td>\n",
       "      <td>49</td>\n",
       "      <td>49</td>\n",
       "      <td>112</td>\n",
       "      <td>210</td>\n",
       "    </tr>\n",
       "    <tr>\n",
       "      <th>min</th>\n",
       "      <td>0</td>\n",
       "      <td>0</td>\n",
       "      <td>7</td>\n",
       "      <td>7</td>\n",
       "      <td>16</td>\n",
       "      <td>30</td>\n",
       "    </tr>\n",
       "    <tr>\n",
       "      <th>share</th>\n",
       "      <td>0.098882</td>\n",
       "      <td>0.231083</td>\n",
       "      <td>0.258367</td>\n",
       "      <td>0.343878</td>\n",
       "      <td>0.247768</td>\n",
       "      <td>0.272667</td>\n",
       "    </tr>\n",
       "  </tbody>\n",
       "</table>\n",
       "</div>"
      ],
      "text/plain": [
       "         saps_total     sans_total     panss_pos     panss_neg       panss_o  \\\n",
       "value  16.81 (16.7)  27.73 (20.35)  12.66 (5.48)  16.85 (6.03)  27.75 (7.51)   \n",
       "max             170            120            49            49           112   \n",
       "min               0              0             7             7            16   \n",
       "share      0.098882       0.231083      0.258367      0.343878      0.247768   \n",
       "\n",
       "         panss_total  \n",
       "value  57.26 (16.18)  \n",
       "max              210  \n",
       "min               30  \n",
       "share       0.272667  "
      ]
     },
     "execution_count": 26,
     "metadata": {},
     "output_type": "execute_result"
    }
   ],
   "source": [
    "r"
   ]
  },
  {
   "cell_type": "markdown",
   "id": "caf3ee19",
   "metadata": {},
   "source": [
    "### Relative symptom severity (positive vs negative symptoms)"
   ]
  },
  {
   "cell_type": "code",
   "execution_count": 27,
   "id": "e346fe00",
   "metadata": {},
   "outputs": [],
   "source": [
    "fig, axes = plt.subplots(6, 1, figsize=(10, 8))\n",
    "fig.suptitle('comparison between psychiatric scales')\n",
    "sns.boxplot(x=df['saps_total'], ax=axes[0], color='tab:orange')\n",
    "axes[0].set_xlim(0, 120)\n",
    "axes[0].set_ylabel('saps_total', rotation='horizontal', ha='right')\n",
    "sns.boxplot(x=df['sans_total'], ax=axes[1])\n",
    "axes[1].set_xlim(0, 170)\n",
    "axes[1].set_ylabel('sans_total', rotation='horizontal', ha='right')\n",
    "sns.boxplot(x=df['panss_pos'], ax=axes[2], color='tab:orange')\n",
    "axes[2].set_xlim(7, 49)\n",
    "axes[2].set_ylabel('panss_pos', rotation='horizontal', ha='right')\n",
    "sns.boxplot(x=df['panss_neg'], ax=axes[3])\n",
    "axes[3].set_xlim(7, 49)\n",
    "axes[3].set_ylabel('panss_neg', rotation='horizontal', ha='right')\n",
    "sns.boxplot(x=df['panss_o'], ax=axes[4], color='grey')\n",
    "axes[4].set_xlim(16, 112)\n",
    "axes[4].set_ylabel('panss_o', rotation='horizontal', ha='right')\n",
    "sns.boxplot(x=df['panss_total'], ax=axes[5], color='grey')\n",
    "axes[5].set_xlim(30, 210)\n",
    "axes[5].set_ylabel('panss_total', rotation='horizontal', ha='right')\n",
    "for ax in axes[:5]:\n",
    "    ax.set_xlabel('')\n",
    "axes[5].set_xlabel('score')\n",
    "fig.tight_layout();\n",
    "plt.savefig(f'{PATH_FIG}psychiatric.png', dpi=150, bbox_inches = 'tight')\n",
    "plt.close(fig)"
   ]
  },
  {
   "cell_type": "markdown",
   "id": "1cdd6688",
   "metadata": {},
   "source": [
    "### Load & count diagnostic groups\n",
    "1 - sz<br>\n",
    "2 - sza"
   ]
  },
  {
   "cell_type": "code",
   "execution_count": 28,
   "id": "ebd9dfae",
   "metadata": {},
   "outputs": [],
   "source": [
    "diagnosis = pd.read_excel('/Users/galina.ryazanskaya/Downloads/thesis?/code?/transcripts_NET/NAP/GR_Diagn.xlsx')\n",
    "diagnosis['ID'] = diagnosis['Pat.ID']\n",
    "diagnosis.index = diagnosis['ID']\n",
    "diagnosis.drop(columns=['ID', 'Pat.ID'], inplace=True)"
   ]
  },
  {
   "cell_type": "code",
   "execution_count": 29,
   "id": "6e3f141d",
   "metadata": {},
   "outputs": [
    {
     "data": {
      "text/plain": [
       "Diagnose_Kategorie\n",
       "1                     97\n",
       "2                     33\n",
       "dtype: int64"
      ]
     },
     "execution_count": 29,
     "metadata": {},
     "output_type": "execute_result"
    }
   ],
   "source": [
    "dia_only = diagnosis.drop(columns=['Messzeitpunkt']).dropna()\n",
    "dia_only[dia_only['Diagnose_Kategorie'].isin([1, 2])]\n",
    "dia_only[~dia_only.index.duplicated(keep='first')].value_counts()"
   ]
  },
  {
   "cell_type": "markdown",
   "id": "635cafd0",
   "metadata": {},
   "source": [
    "# Load & clean healthy control data"
   ]
  },
  {
   "cell_type": "code",
   "execution_count": 30,
   "id": "b860d5b8",
   "metadata": {},
   "outputs": [],
   "source": [
    "df_hc = pd.read_csv(PATH + 'HC/NET_HC.csv', index_col=0, na_values=[' ', ''])"
   ]
  },
  {
   "cell_type": "markdown",
   "id": "3238522b",
   "metadata": {},
   "source": [
    "### Check that all the transcripts are availble"
   ]
  },
  {
   "cell_type": "code",
   "execution_count": 31,
   "id": "abec6004",
   "metadata": {},
   "outputs": [],
   "source": [
    "# load scores for the transcripts (controls)\n",
    "res_hc =  pd.read_csv('/Users/galina.ryazanskaya/Downloads/thesis?/code?/processed_values/de_HC.tsv', sep='\\t', index_col=0, header=[0, 1, 2])"
   ]
  },
  {
   "cell_type": "code",
   "execution_count": 32,
   "id": "3fb1992a",
   "metadata": {},
   "outputs": [],
   "source": [
    "idxs_HC = sorted([x.replace('_c', '').replace('NET_', '')  for x in res_hc.index])"
   ]
  },
  {
   "cell_type": "code",
   "execution_count": 33,
   "id": "647dfe84",
   "metadata": {},
   "outputs": [],
   "source": [
    "assert not set(idxs_HC).difference(set(df_hc.index))"
   ]
  },
  {
   "cell_type": "code",
   "execution_count": 34,
   "id": "8624ef43",
   "metadata": {},
   "outputs": [],
   "source": [
    "df_hc = df_hc.loc[idxs_HC]"
   ]
  },
  {
   "cell_type": "code",
   "execution_count": 35,
   "id": "f601bb29",
   "metadata": {},
   "outputs": [],
   "source": [
    "df_hc.index.rename('ID', inplace=True)"
   ]
  },
  {
   "cell_type": "code",
   "execution_count": 36,
   "id": "f3c9bbcd",
   "metadata": {},
   "outputs": [],
   "source": [
    "# bring IDs from results and psychiatric scores to a uniform standard\n",
    "res_hc.index = [x.replace('_c', '').replace('NET_', '')  for x in res_hc.index]\n",
    "res_hc.index.rename('ID', inplace=True)"
   ]
  },
  {
   "cell_type": "markdown",
   "id": "1bbc3053",
   "metadata": {},
   "source": [
    "### Explore descriptive statistics"
   ]
  },
  {
   "cell_type": "code",
   "execution_count": 37,
   "id": "d05ff970",
   "metadata": {},
   "outputs": [
    {
     "data": {
      "text/html": [
       "<div>\n",
       "<style scoped>\n",
       "    .dataframe tbody tr th:only-of-type {\n",
       "        vertical-align: middle;\n",
       "    }\n",
       "\n",
       "    .dataframe tbody tr th {\n",
       "        vertical-align: top;\n",
       "    }\n",
       "\n",
       "    .dataframe thead th {\n",
       "        text-align: right;\n",
       "    }\n",
       "</style>\n",
       "<table border=\"1\" class=\"dataframe\">\n",
       "  <thead>\n",
       "    <tr style=\"text-align: right;\">\n",
       "      <th></th>\n",
       "      <th>age</th>\n",
       "      <th>Bildungsjahre</th>\n",
       "    </tr>\n",
       "  </thead>\n",
       "  <tbody>\n",
       "    <tr>\n",
       "      <th>value</th>\n",
       "      <td>43.85 (13.29)</td>\n",
       "      <td>15.5 (2.78)</td>\n",
       "    </tr>\n",
       "  </tbody>\n",
       "</table>\n",
       "</div>"
      ],
      "text/plain": [
       "                 age Bildungsjahre\n",
       "value  43.85 (13.29)   15.5 (2.78)"
      ]
     },
     "execution_count": 37,
     "metadata": {},
     "output_type": "execute_result"
    }
   ],
   "source": [
    "mean_std(df_hc, ['age', 'Bildungsjahre'])"
   ]
  },
  {
   "cell_type": "code",
   "execution_count": 38,
   "id": "6cd0229f",
   "metadata": {},
   "outputs": [
    {
     "data": {
      "text/html": [
       "<div>\n",
       "<style scoped>\n",
       "    .dataframe tbody tr th:only-of-type {\n",
       "        vertical-align: middle;\n",
       "    }\n",
       "\n",
       "    .dataframe tbody tr th {\n",
       "        vertical-align: top;\n",
       "    }\n",
       "\n",
       "    .dataframe thead th {\n",
       "        text-align: right;\n",
       "    }\n",
       "</style>\n",
       "<table border=\"1\" class=\"dataframe\">\n",
       "  <thead>\n",
       "    <tr style=\"text-align: right;\">\n",
       "      <th></th>\n",
       "      <th>age</th>\n",
       "      <th>Bildungsjahre</th>\n",
       "    </tr>\n",
       "    <tr>\n",
       "      <th>sex_nr</th>\n",
       "      <th></th>\n",
       "      <th></th>\n",
       "    </tr>\n",
       "  </thead>\n",
       "  <tbody>\n",
       "    <tr>\n",
       "      <th>0.0</th>\n",
       "      <td>42.27 (12.24)</td>\n",
       "      <td>15.7 (3.13)</td>\n",
       "    </tr>\n",
       "    <tr>\n",
       "      <th>1.0</th>\n",
       "      <td>45.78 (14.99)</td>\n",
       "      <td>15.28 (2.51)</td>\n",
       "    </tr>\n",
       "  </tbody>\n",
       "</table>\n",
       "</div>"
      ],
      "text/plain": [
       "                  age Bildungsjahre\n",
       "sex_nr                             \n",
       "0.0     42.27 (12.24)   15.7 (3.13)\n",
       "1.0     45.78 (14.99)  15.28 (2.51)"
      ]
     },
     "execution_count": 38,
     "metadata": {},
     "output_type": "execute_result"
    }
   ],
   "source": [
    "# grouped by sex\n",
    "mean_std(df_hc, ['age', 'Bildungsjahre'], 'sex_nr')"
   ]
  },
  {
   "cell_type": "code",
   "execution_count": 39,
   "id": "50b31974",
   "metadata": {},
   "outputs": [
    {
     "data": {
      "text/html": [
       "<div>\n",
       "<style scoped>\n",
       "    .dataframe tbody tr th:only-of-type {\n",
       "        vertical-align: middle;\n",
       "    }\n",
       "\n",
       "    .dataframe tbody tr th {\n",
       "        vertical-align: top;\n",
       "    }\n",
       "\n",
       "    .dataframe thead th {\n",
       "        text-align: right;\n",
       "    }\n",
       "</style>\n",
       "<table border=\"1\" class=\"dataframe\">\n",
       "  <thead>\n",
       "    <tr style=\"text-align: right;\">\n",
       "      <th></th>\n",
       "      <th>age</th>\n",
       "      <th>Bildungsjahre</th>\n",
       "    </tr>\n",
       "    <tr>\n",
       "      <th>sex_nr</th>\n",
       "      <th></th>\n",
       "      <th></th>\n",
       "    </tr>\n",
       "  </thead>\n",
       "  <tbody>\n",
       "    <tr>\n",
       "      <th>0.0</th>\n",
       "      <td>11</td>\n",
       "      <td>10</td>\n",
       "    </tr>\n",
       "    <tr>\n",
       "      <th>1.0</th>\n",
       "      <td>9</td>\n",
       "      <td>9</td>\n",
       "    </tr>\n",
       "  </tbody>\n",
       "</table>\n",
       "</div>"
      ],
      "text/plain": [
       "        age  Bildungsjahre\n",
       "sex_nr                    \n",
       "0.0      11             10\n",
       "1.0       9              9"
      ]
     },
     "execution_count": 39,
     "metadata": {},
     "output_type": "execute_result"
    }
   ],
   "source": [
    "df_hc.groupby('sex_nr').count()"
   ]
  },
  {
   "cell_type": "markdown",
   "id": "a91cc8b3",
   "metadata": {},
   "source": [
    "# Fill NA in POS"
   ]
  },
  {
   "cell_type": "code",
   "execution_count": 40,
   "id": "4520a48b",
   "metadata": {},
   "outputs": [],
   "source": [
    "cols_LM = [col for col in res_hc if col[1] == 'LM']\n",
    "cols_synt = [col for col in res_hc if col[1] == 'syntactic']\n",
    "cols_lex = [col for col in res_hc if col[1] == 'lexical']\n",
    "cols_graph = [col for col in res_hc if col[1] == 'graph']"
   ]
  },
  {
   "cell_type": "code",
   "execution_count": 41,
   "id": "36a25b0e",
   "metadata": {},
   "outputs": [],
   "source": [
    "pos = set([x[1] for x in cols_synt if x[1].isupper()])"
   ]
  },
  {
   "cell_type": "code",
   "execution_count": 42,
   "id": "dcef80a3",
   "metadata": {},
   "outputs": [],
   "source": [
    "POS_to_use = ('ADJ', 'ADV', 'AUX', 'CCONJ', 'DET','NOUN', 'PRON', 'PROPN', 'SCONJ', 'VERB', 'PART')"
   ]
  },
  {
   "cell_type": "code",
   "execution_count": 43,
   "id": "34ddc4ce",
   "metadata": {},
   "outputs": [],
   "source": [
    "s = res_hc[cols_synt].isna().any()\n",
    "res_hc[s[s].index] = res_hc[s[s].index].fillna(0.0)"
   ]
  },
  {
   "cell_type": "code",
   "execution_count": 44,
   "id": "32845c44",
   "metadata": {},
   "outputs": [],
   "source": [
    "cols_to_drop = [c for c in cols_synt if c[2].isupper() and c[2] not in POS_to_use]\n",
    "res_hc.drop(columns=cols_to_drop, inplace=True)"
   ]
  },
  {
   "cell_type": "code",
   "execution_count": 45,
   "id": "04ea2287",
   "metadata": {},
   "outputs": [],
   "source": [
    "s = res[cols_synt].isna().any()\n",
    "res[s[s].index] = res[s[s].index].fillna(0.0)"
   ]
  },
  {
   "cell_type": "code",
   "execution_count": 46,
   "id": "c71ff74b",
   "metadata": {},
   "outputs": [],
   "source": [
    "cols_to_drop = [c for c in [col for col in res if col[1] == 'syntactic'] if c[2].isupper() and c[2] not in POS_to_use]\n",
    "res.drop(columns=cols_to_drop, inplace=True)"
   ]
  },
  {
   "cell_type": "code",
   "execution_count": 47,
   "id": "93ed3242",
   "metadata": {},
   "outputs": [],
   "source": [
    "cols_synt = [col for col in res_hc if col[1] == 'syntactic']\n",
    "cols_av = [c for c in res_hc['averaged'].columns if c[0] in ['LM', 'syntactic', 'graph', 'lexical']]"
   ]
  },
  {
   "cell_type": "code",
   "execution_count": 48,
   "id": "fa2cb1fe",
   "metadata": {},
   "outputs": [
    {
     "data": {
      "text/plain": [
       "51"
      ]
     },
     "execution_count": 48,
     "metadata": {},
     "output_type": "execute_result"
    }
   ],
   "source": [
    "len(cols_av)"
   ]
  },
  {
   "cell_type": "markdown",
   "id": "34ad75cc",
   "metadata": {},
   "source": [
    "# Merge control and patient data & test for group differences"
   ]
  },
  {
   "cell_type": "code",
   "execution_count": 49,
   "id": "4e9cfe57",
   "metadata": {},
   "outputs": [],
   "source": [
    "df['group'] = 1\n",
    "df_hc['group'] = 0\n",
    "compare_groups = pd.concat([df[clinical_cols + ['group']], df_hc], axis=0)"
   ]
  },
  {
   "cell_type": "code",
   "execution_count": 50,
   "id": "58b25e7d",
   "metadata": {},
   "outputs": [
    {
     "data": {
      "text/html": [
       "<div>\n",
       "<style scoped>\n",
       "    .dataframe tbody tr th:only-of-type {\n",
       "        vertical-align: middle;\n",
       "    }\n",
       "\n",
       "    .dataframe tbody tr th {\n",
       "        vertical-align: top;\n",
       "    }\n",
       "\n",
       "    .dataframe thead th {\n",
       "        text-align: right;\n",
       "    }\n",
       "</style>\n",
       "<table border=\"1\" class=\"dataframe\">\n",
       "  <thead>\n",
       "    <tr style=\"text-align: right;\">\n",
       "      <th></th>\n",
       "      <th>age</th>\n",
       "      <th>sex_nr</th>\n",
       "      <th>Bildungsjahre</th>\n",
       "      <th>IQ_kristallin</th>\n",
       "      <th>saps34</th>\n",
       "      <th>saps_total</th>\n",
       "      <th>sans_total</th>\n",
       "      <th>sans12</th>\n",
       "      <th>panss_pos</th>\n",
       "      <th>panss_neg</th>\n",
       "      <th>panss_o</th>\n",
       "      <th>panss_total</th>\n",
       "    </tr>\n",
       "    <tr>\n",
       "      <th>group</th>\n",
       "      <th></th>\n",
       "      <th></th>\n",
       "      <th></th>\n",
       "      <th></th>\n",
       "      <th></th>\n",
       "      <th></th>\n",
       "      <th></th>\n",
       "      <th></th>\n",
       "      <th></th>\n",
       "      <th></th>\n",
       "      <th></th>\n",
       "      <th></th>\n",
       "    </tr>\n",
       "  </thead>\n",
       "  <tbody>\n",
       "    <tr>\n",
       "      <th>0</th>\n",
       "      <td>20</td>\n",
       "      <td>20</td>\n",
       "      <td>19</td>\n",
       "      <td>0</td>\n",
       "      <td>0</td>\n",
       "      <td>0</td>\n",
       "      <td>0</td>\n",
       "      <td>0</td>\n",
       "      <td>0</td>\n",
       "      <td>0</td>\n",
       "      <td>0</td>\n",
       "      <td>0</td>\n",
       "    </tr>\n",
       "    <tr>\n",
       "      <th>1</th>\n",
       "      <td>59</td>\n",
       "      <td>59</td>\n",
       "      <td>59</td>\n",
       "      <td>58</td>\n",
       "      <td>59</td>\n",
       "      <td>59</td>\n",
       "      <td>59</td>\n",
       "      <td>59</td>\n",
       "      <td>59</td>\n",
       "      <td>59</td>\n",
       "      <td>59</td>\n",
       "      <td>59</td>\n",
       "    </tr>\n",
       "  </tbody>\n",
       "</table>\n",
       "</div>"
      ],
      "text/plain": [
       "       age  sex_nr  Bildungsjahre  IQ_kristallin  saps34  saps_total  \\\n",
       "group                                                                  \n",
       "0       20      20             19              0       0           0   \n",
       "1       59      59             59             58      59          59   \n",
       "\n",
       "       sans_total  sans12  panss_pos  panss_neg  panss_o  panss_total  \n",
       "group                                                                  \n",
       "0               0       0          0          0        0            0  \n",
       "1              59      59         59         59       59           59  "
      ]
     },
     "execution_count": 50,
     "metadata": {},
     "output_type": "execute_result"
    }
   ],
   "source": [
    "compare_groups.groupby(['group']).count()"
   ]
  },
  {
   "cell_type": "code",
   "execution_count": 51,
   "id": "12b7b571",
   "metadata": {},
   "outputs": [
    {
     "data": {
      "text/html": [
       "<div>\n",
       "<style scoped>\n",
       "    .dataframe tbody tr th:only-of-type {\n",
       "        vertical-align: middle;\n",
       "    }\n",
       "\n",
       "    .dataframe tbody tr th {\n",
       "        vertical-align: top;\n",
       "    }\n",
       "\n",
       "    .dataframe thead th {\n",
       "        text-align: right;\n",
       "    }\n",
       "</style>\n",
       "<table border=\"1\" class=\"dataframe\">\n",
       "  <thead>\n",
       "    <tr style=\"text-align: right;\">\n",
       "      <th></th>\n",
       "      <th>age</th>\n",
       "      <th>Bildungsjahre</th>\n",
       "    </tr>\n",
       "    <tr>\n",
       "      <th>group</th>\n",
       "      <th></th>\n",
       "      <th></th>\n",
       "    </tr>\n",
       "  </thead>\n",
       "  <tbody>\n",
       "    <tr>\n",
       "      <th>0</th>\n",
       "      <td>43.85 (13.29)</td>\n",
       "      <td>15.5 (2.78)</td>\n",
       "    </tr>\n",
       "    <tr>\n",
       "      <th>1</th>\n",
       "      <td>39.49 (11.11)</td>\n",
       "      <td>14.62 (2.95)</td>\n",
       "    </tr>\n",
       "  </tbody>\n",
       "</table>\n",
       "</div>"
      ],
      "text/plain": [
       "                 age Bildungsjahre\n",
       "group                             \n",
       "0      43.85 (13.29)   15.5 (2.78)\n",
       "1      39.49 (11.11)  14.62 (2.95)"
      ]
     },
     "execution_count": 51,
     "metadata": {},
     "output_type": "execute_result"
    }
   ],
   "source": [
    "mean_std(compare_groups, ['age', 'Bildungsjahre'], 'group')"
   ]
  },
  {
   "cell_type": "code",
   "execution_count": 52,
   "id": "961eba7f",
   "metadata": {},
   "outputs": [
    {
     "data": {
      "text/plain": [
       "0.15339927043476997"
      ]
     },
     "execution_count": 52,
     "metadata": {},
     "output_type": "execute_result"
    }
   ],
   "source": [
    "# test for difference in age\n",
    "stats.ttest_ind(df['age'], df_hc['age']).pvalue"
   ]
  },
  {
   "cell_type": "code",
   "execution_count": 53,
   "id": "cb138a00",
   "metadata": {},
   "outputs": [
    {
     "data": {
      "text/plain": [
       "0.2552563345667248"
      ]
     },
     "execution_count": 53,
     "metadata": {},
     "output_type": "execute_result"
    }
   ],
   "source": [
    "# test for difference in education years\n",
    "stats.ttest_ind(df['Bildungsjahre'], df_hc['Bildungsjahre'], nan_policy='omit').pvalue"
   ]
  },
  {
   "cell_type": "code",
   "execution_count": 54,
   "id": "24a6fe5f",
   "metadata": {},
   "outputs": [
    {
     "name": "stderr",
     "output_type": "stream",
     "text": [
      "/var/folders/1l/2khv4cgj7xs0zrm9hnl_yrzh0000gn/T/ipykernel_38517/1114475667.py:1: FutureWarning: merging between different levels is deprecated and will be removed in a future version. (1 levels on the left, 2 on the right)\n",
      "  combined_data_averaged = compare_groups.merge(pd.concat([res['averaged'], res_hc['averaged']], axis=0), on='ID', how='outer')\n"
     ]
    }
   ],
   "source": [
    "combined_data_averaged = compare_groups.merge(pd.concat([res['averaged'], res_hc['averaged']], axis=0), on='ID', how='outer')"
   ]
  },
  {
   "cell_type": "code",
   "execution_count": 55,
   "id": "1dc58594",
   "metadata": {},
   "outputs": [],
   "source": [
    "compare_groups_ = pd.DataFrame()\n",
    "for col in clinical_cols + ['group']:\n",
    "    compare_groups_[('target', 'target', col)] = compare_groups[col]"
   ]
  },
  {
   "cell_type": "code",
   "execution_count": 56,
   "id": "856d133b",
   "metadata": {},
   "outputs": [
    {
     "name": "stderr",
     "output_type": "stream",
     "text": [
      "/var/folders/1l/2khv4cgj7xs0zrm9hnl_yrzh0000gn/T/ipykernel_38517/2330308397.py:1: FutureWarning: merging between different levels is deprecated and will be removed in a future version. (1 levels on the left, 3 on the right)\n",
      "  combined_data_all = compare_groups_.merge(pd.concat([res, res_hc], axis=0), on='ID', how='outer')\n"
     ]
    }
   ],
   "source": [
    "combined_data_all = compare_groups_.merge(pd.concat([res, res_hc], axis=0), on='ID', how='outer')"
   ]
  },
  {
   "cell_type": "code",
   "execution_count": 57,
   "id": "5f99ca76",
   "metadata": {},
   "outputs": [],
   "source": [
    "combined_data_all.columns = pd.MultiIndex.from_tuples(combined_data_all.columns)"
   ]
  },
  {
   "cell_type": "code",
   "execution_count": 58,
   "id": "2b4a652c",
   "metadata": {},
   "outputs": [],
   "source": [
    "TASKS = ['averaged', 'anger', 'fear', 'happiness', 'sadness']"
   ]
  },
  {
   "cell_type": "code",
   "execution_count": 59,
   "id": "46e00c55",
   "metadata": {},
   "outputs": [],
   "source": [
    "def task_data(df, task, keep_target=True, fill_synt=True):\n",
    "    subset = df[task].dropna(axis=0, how='any')\n",
    "    if task == 'fear' and 'KG_018' in subset.index:\n",
    "        subset = subset.drop(['KG_018']) # incorrect task\n",
    "    if fill_synt:\n",
    "        subset['syntactic'] = subset['syntactic'].fillna(0.0)\n",
    "    if keep_target:\n",
    "        subset = pd.concat([subset, df['target'].loc[subset.index]], axis=1)\n",
    "    return subset"
   ]
  },
  {
   "cell_type": "markdown",
   "id": "ef7dcee4",
   "metadata": {},
   "source": [
    "# Analyze the asscoiations with the control factors"
   ]
  },
  {
   "cell_type": "code",
   "execution_count": 60,
   "id": "52f2ebf0",
   "metadata": {},
   "outputs": [],
   "source": [
    "def test_corr_sig(df, cols, target_col, mult=len(TASKS)):\n",
    "    s, t = display_test(df, cols, target_col, stats.pearsonr, stat_name='r')\n",
    "    t['p'] = t['p'] * (len(t) * mult)\n",
    "    t['corr_sig'] = t['p'] < 0.05\n",
    "    t['p'] = t['p'] / (len(t) * mult)\n",
    "    t.drop(columns=['sig'], inplace=True)\n",
    "    return t.sort_values([f'abs_r', 'p'], ascending=False)"
   ]
  },
  {
   "cell_type": "code",
   "execution_count": 61,
   "id": "98f255b0",
   "metadata": {},
   "outputs": [],
   "source": [
    "tgt_tsk = [('target', c) for c in ('panss_total', 'panss_neg', 'panss_pos', 'panss_o', 'sans_total', 'saps_total', 'age', 'Bildungsjahre')]"
   ]
  },
  {
   "cell_type": "code",
   "execution_count": 62,
   "id": "72852e6a",
   "metadata": {},
   "outputs": [
    {
     "name": "stdout",
     "output_type": "stream",
     "text": [
      "averaged\n",
      "                             r         p     abs_r  corr_sig\n",
      "(target, sans_total) -0.436078  0.000555  0.436078      True\n",
      "(target, panss_neg)  -0.417116  0.001014  0.417116      True\n",
      "anger\n",
      "                             r         p     abs_r  corr_sig\n",
      "(target, sans_total) -0.486132  0.000095  0.486132      True\n",
      "(target, panss_neg)  -0.477141  0.000133  0.477141      True\n",
      "fear\n",
      "happiness\n",
      "sadness\n"
     ]
    }
   ],
   "source": [
    "# prints only significant relations\n",
    "for task in TASKS:\n",
    "    print(task)\n",
    "    tres = test_corr_sig(task_data(combined_data_all, task), tgt_tsk, ('syntactic', 'mean_sent_len'))\n",
    "    tr = tres[tres['corr_sig'] == True]\n",
    "    if len(tr) > 0:\n",
    "        print(tr)"
   ]
  },
  {
   "cell_type": "code",
   "execution_count": 63,
   "id": "e5bb4ffe",
   "metadata": {},
   "outputs": [
    {
     "name": "stdout",
     "output_type": "stream",
     "text": [
      "averaged\n",
      "anger\n",
      "fear\n",
      "happiness\n",
      "sadness\n"
     ]
    }
   ],
   "source": [
    "for task in TASKS:\n",
    "    print(task)\n",
    "    tres = test_corr_sig(task_data(combined_data_all, task), tgt_tsk, ('target', 'age'))\n",
    "    tr = tres[tres['corr_sig'] == True]\n",
    "    if len(tr) > 0:\n",
    "        print(tr)"
   ]
  },
  {
   "cell_type": "code",
   "execution_count": 64,
   "id": "72ba14eb",
   "metadata": {},
   "outputs": [
    {
     "name": "stdout",
     "output_type": "stream",
     "text": [
      "averaged\n",
      "anger\n",
      "fear\n",
      "happiness\n",
      "sadness\n"
     ]
    }
   ],
   "source": [
    "for task in TASKS:\n",
    "    print(task)\n",
    "    tres = test_corr_sig(task_data(combined_data_all, task), tgt_tsk, ('target', 'Bildungsjahre'))\n",
    "    tr = tres[tres['corr_sig'] == True]\n",
    "    if len(tr) > 0:\n",
    "        print(tr)"
   ]
  },
  {
   "cell_type": "code",
   "execution_count": 65,
   "id": "b9cdf667",
   "metadata": {},
   "outputs": [
    {
     "name": "stdout",
     "output_type": "stream",
     "text": [
      "averaged\n",
      "anger\n",
      "fear\n",
      "happiness\n",
      "sadness\n"
     ]
    }
   ],
   "source": [
    "for task in TASKS:\n",
    "    print(task)\n",
    "    tres = test_corr_sig(task_data(combined_data_all, task), tgt_tsk, ('target', 'IQ_kristallin'))\n",
    "    tr = tres[tres['corr_sig'] == True]\n",
    "    if len(tr) > 0:\n",
    "        print(tr)"
   ]
  },
  {
   "cell_type": "code",
   "execution_count": 66,
   "id": "374c6136",
   "metadata": {},
   "outputs": [],
   "source": [
    "a=0.05\n",
    "def t_test_corr_sig(df, cols, target_col, mult=len(TASKS)):\n",
    "    s, t = display_group_test(df, cols, target_col, stats.ttest_ind, stat_name='t', alpha=a)\n",
    "    t['p'] = t['p'] * (len(t) * mult)\n",
    "    t['corr_sig'] = t['p'] < 0.05\n",
    "    t['p'] = t['p'] / (len(t) * mult)\n",
    "    t.drop(columns=['sig'], inplace=True)\n",
    "    return t.sort_values([f'abs_t', 'p'], ascending=False)"
   ]
  },
  {
   "cell_type": "code",
   "execution_count": 67,
   "id": "1418ee53",
   "metadata": {},
   "outputs": [
    {
     "name": "stdout",
     "output_type": "stream",
     "text": [
      "averaged\n",
      "anger\n",
      "fear\n",
      "happiness\n",
      "sadness\n"
     ]
    }
   ],
   "source": [
    "for task in TASKS:\n",
    "    print(task)\n",
    "    tsk_data = task_data(combined_data_all, task, keep_target=True)\n",
    "    tsk_cols = [c for c in tsk_data.columns if c[0] != 'target']\n",
    "    tres = t_test_corr_sig(tsk_data, tsk_cols, ('target', 'sex_nr'))\n",
    "    tr = tres[tres['corr_sig'] == True]\n",
    "    if len(tr) > 0:\n",
    "        print(tr)"
   ]
  },
  {
   "cell_type": "markdown",
   "id": "10b49f7f",
   "metadata": {},
   "source": [
    "### Group difference for sex (absent)"
   ]
  },
  {
   "cell_type": "code",
   "execution_count": 68,
   "id": "622659ab",
   "metadata": {},
   "outputs": [
    {
     "data": {
      "text/plain": [
       "False"
      ]
     },
     "execution_count": 68,
     "metadata": {},
     "output_type": "execute_result"
    }
   ],
   "source": [
    "a = 0.001\n",
    "s_t_sex, res_t_sex = display_group_test(combined_data_averaged, clinical_cols, 'sex_nr', stats.ttest_ind, stat_name='t', alpha=a)\n",
    "res_t_sex.drop(index=['sex_nr'])['sig'].any()"
   ]
  },
  {
   "cell_type": "code",
   "execution_count": 69,
   "id": "2139951b",
   "metadata": {},
   "outputs": [
    {
     "data": {
      "text/plain": [
       "False"
      ]
     },
     "execution_count": 69,
     "metadata": {},
     "output_type": "execute_result"
    }
   ],
   "source": [
    "s_t_sex, res_t_sex = display_group_test(combined_data_averaged, cols_av, 'sex_nr', stats.ttest_ind, stat_name='t', alpha=a)\n",
    "res_t_sex['sig'].any()"
   ]
  },
  {
   "cell_type": "markdown",
   "id": "2abf939b",
   "metadata": {},
   "source": [
    "### Correlative effects for age, education years, and IQ (absent)"
   ]
  },
  {
   "cell_type": "code",
   "execution_count": 70,
   "id": "63434e97",
   "metadata": {},
   "outputs": [
    {
     "data": {
      "text/plain": [
       "False"
      ]
     },
     "execution_count": 70,
     "metadata": {},
     "output_type": "execute_result"
    }
   ],
   "source": [
    "x, y = display_test(combined_data_averaged, cols_av, 'age', stats.pearsonr, stat_name='r', alpha=a)\n",
    "y[y['abs_r']> 0.2].sort_values('abs_r', ascending=False)['sig'].any()"
   ]
  },
  {
   "cell_type": "code",
   "execution_count": 71,
   "id": "1d882d19",
   "metadata": {},
   "outputs": [
    {
     "data": {
      "text/plain": [
       "False"
      ]
     },
     "execution_count": 71,
     "metadata": {},
     "output_type": "execute_result"
    }
   ],
   "source": [
    "x, y = display_test(combined_data_averaged, cols_av, 'Bildungsjahre', stats.pearsonr, stat_name='r', alpha=a)\n",
    "y[y['abs_r']> 0.3].sort_values('abs_r', ascending=False)['sig'].any()"
   ]
  },
  {
   "cell_type": "code",
   "execution_count": 72,
   "id": "24f224e1",
   "metadata": {},
   "outputs": [
    {
     "data": {
      "text/html": [
       "<div>\n",
       "<style scoped>\n",
       "    .dataframe tbody tr th:only-of-type {\n",
       "        vertical-align: middle;\n",
       "    }\n",
       "\n",
       "    .dataframe tbody tr th {\n",
       "        vertical-align: top;\n",
       "    }\n",
       "\n",
       "    .dataframe thead th {\n",
       "        text-align: right;\n",
       "    }\n",
       "</style>\n",
       "<table border=\"1\" class=\"dataframe\">\n",
       "  <thead>\n",
       "    <tr style=\"text-align: right;\">\n",
       "      <th></th>\n",
       "      <th>r</th>\n",
       "      <th>p</th>\n",
       "      <th>sig</th>\n",
       "      <th>abs_r</th>\n",
       "    </tr>\n",
       "  </thead>\n",
       "  <tbody>\n",
       "    <tr>\n",
       "      <th>(syntactic, AUX)</th>\n",
       "      <td>0.317445</td>\n",
       "      <td>0.015177</td>\n",
       "      <td>False</td>\n",
       "      <td>0.317445</td>\n",
       "    </tr>\n",
       "  </tbody>\n",
       "</table>\n",
       "</div>"
      ],
      "text/plain": [
       "                         r         p    sig     abs_r\n",
       "(syntactic, AUX)  0.317445  0.015177  False  0.317445"
      ]
     },
     "execution_count": 72,
     "metadata": {},
     "output_type": "execute_result"
    }
   ],
   "source": [
    "x, y = display_test(combined_data_averaged, cols_av, 'IQ_kristallin', stats.pearsonr, stat_name='r', alpha=a)\n",
    "y[y['abs_r']> 0.3].sort_values('abs_r', ascending=False)"
   ]
  },
  {
   "cell_type": "code",
   "execution_count": 73,
   "id": "7073d7ae",
   "metadata": {},
   "outputs": [
    {
     "data": {
      "text/plain": [
       "False"
      ]
     },
     "execution_count": 73,
     "metadata": {},
     "output_type": "execute_result"
    }
   ],
   "source": [
    "s, t = display_test(combined_data_averaged, cols_av, 'age', stats.pearsonr, stat_name='r')\n",
    "t['p'] = t['p'] * (len(t))\n",
    "t['corr_sig'] = t['p'] < 0.05\n",
    "t['p'] = t['p'] / (len(t))\n",
    "t.drop(columns=['sig'], inplace=True)\n",
    "t['corr_sig'].any()"
   ]
  },
  {
   "cell_type": "code",
   "execution_count": 74,
   "id": "efa45969",
   "metadata": {},
   "outputs": [
    {
     "data": {
      "text/plain": [
       "False"
      ]
     },
     "execution_count": 74,
     "metadata": {},
     "output_type": "execute_result"
    }
   ],
   "source": [
    "s, t = display_test(combined_data_averaged, cols_av, 'Bildungsjahre', stats.pearsonr, stat_name='r')\n",
    "t['p'] = t['p'] * (len(t))\n",
    "t['corr_sig'] = t['p'] < 0.05\n",
    "t['p'] = t['p'] / (len(t))\n",
    "t.drop(columns=['sig'], inplace=True)\n",
    "t['corr_sig'].any()"
   ]
  },
  {
   "cell_type": "code",
   "execution_count": 75,
   "id": "101c9c30",
   "metadata": {},
   "outputs": [
    {
     "data": {
      "text/plain": [
       "False"
      ]
     },
     "execution_count": 75,
     "metadata": {},
     "output_type": "execute_result"
    }
   ],
   "source": [
    "s, t = display_test(combined_data_averaged, cols_av, 'IQ_kristallin', stats.pearsonr, stat_name='r')\n",
    "t['p'] = t['p'] * (len(t))\n",
    "t['corr_sig'] = t['p'] < 0.05\n",
    "t['p'] = t['p'] / (len(t))\n",
    "t.drop(columns=['sig'], inplace=True)\n",
    "t['corr_sig'].any()"
   ]
  },
  {
   "cell_type": "code",
   "execution_count": 76,
   "id": "25b88482",
   "metadata": {},
   "outputs": [],
   "source": [
    "combined_data_averaged.to_csv('/Users/galina.ryazanskaya/Downloads/thesis?/code?/processed_values/de_averaged.csv')"
   ]
  },
  {
   "cell_type": "code",
   "execution_count": 77,
   "id": "f65122a1",
   "metadata": {},
   "outputs": [],
   "source": [
    "combined_data_all.to_csv('/Users/galina.ryazanskaya/Downloads/thesis?/code?/processed_values/de_all.csv')"
   ]
  },
  {
   "cell_type": "markdown",
   "id": "a6101e28",
   "metadata": {},
   "source": [
    "# Analyze lengths"
   ]
  },
  {
   "cell_type": "code",
   "execution_count": 78,
   "id": "0714e9b1",
   "metadata": {},
   "outputs": [],
   "source": [
    "def plot_scatter_corr(x, y, x_name, y_name, ax, title=None, c=None, \n",
    "                      cmap_colors=('steelblue', 'gold'), \n",
    "                      classes=('control', 'NAP'),\n",
    "                      xlim=None, ylim=None): #'control',\n",
    "    r = stats.pearsonr(x, y).statistic\n",
    "    X = sm.add_constant(x)\n",
    "    model = sm.OLS(y, X).fit()\n",
    "    ypred = model.predict(X)\n",
    "    if xlim:\n",
    "        ax.set_xlim(*xlim)\n",
    "    if ylim:\n",
    "        ax.set_ylim(*ylim)\n",
    "\n",
    "#     ax.plot(x, ypred, color='red', label=f'coef: {model.params[1]:.2f} \\ncorr: {r:.2f}')\n",
    "    ax.axline((x[0], ypred[0]), (x[1], ypred[1]),  color='red') #slope=r,\n",
    "\n",
    "    \n",
    "    if c is not None:\n",
    "        cmap = ListedColormap(cmap_colors)\n",
    "        scatter = ax.scatter(x, y, c=c, cmap=cmap)\n",
    "        ax.legend(handles=scatter.legend_elements()[0], labels=classes)\n",
    "    else:\n",
    "        scatter = ax.scatter(x, y)\n",
    "    ax.set_xlabel(x_name)\n",
    "    ax.set_ylabel(y_name)"
   ]
  },
  {
   "cell_type": "code",
   "execution_count": 79,
   "id": "74000b28",
   "metadata": {},
   "outputs": [
    {
     "name": "stdout",
     "output_type": "stream",
     "text": [
      "('lexical', 'n_words') 167.1 (109.2)\n",
      "('syntactic', 'n_sents') 17.9 (9.3)\n",
      "('syntactic', 'mean_sent_len') 9.1 (2.8)\n"
     ]
    }
   ],
   "source": [
    "for col in [('lexical', 'n_words'), ('syntactic', 'n_sents'), ('syntactic', 'mean_sent_len')]:\n",
    "    print(col, f'{combined_data_averaged[col].mean().round(1)} ({combined_data_averaged[col].std().round(1)})')"
   ]
  },
  {
   "cell_type": "code",
   "execution_count": 80,
   "id": "63f549d9",
   "metadata": {},
   "outputs": [],
   "source": [
    "fig, axes = plt.subplots(1, 2, sharey=True, figsize=(10, 5))\n",
    "fig.suptitle('number of words against number of sentences and mean sentence length')\n",
    "plot_scatter_corr(combined_data_averaged[('syntactic', 'n_sents')], combined_data_averaged[('lexical', 'n_words')],\n",
    "                 x_name='n_sents', y_name='n_words', ax=axes[0], c=combined_data_averaged['group'])\n",
    "plot_scatter_corr(combined_data_averaged[('syntactic', 'mean_sent_len')], combined_data_averaged[('lexical', 'n_words')],\n",
    "                 x_name='mean_sent_len', y_name='n_words', ax=axes[1], c=combined_data_averaged['group'])\n",
    "plt.savefig(f'{PATH_FIG}n_words_n_sents.png', dpi=150, bbox_inches = 'tight')\n",
    "plt.close(fig)"
   ]
  },
  {
   "cell_type": "code",
   "execution_count": 81,
   "id": "68be6ef6",
   "metadata": {},
   "outputs": [],
   "source": [
    "def plot_task(df, task, axes, xlims=(None, None), ylims=(None, None), xmin=(0, 4), ymins=(0, 0), force_no_xnames=False):\n",
    "    tdf = task_data(df, task, keep_target=True)\n",
    "    c = tdf['target']['group']\n",
    "    x_name= '' if force_no_xnames else 'n_sents'\n",
    "    plot_scatter_corr(tdf[('syntactic', 'n_sents')], tdf[('lexical', 'n_words')],\n",
    "                     x_name=x_name, y_name='n_words', ax=axes[0], c=c, \n",
    "                      xlim=(xmin[0], xlims[0]), ylim=(ymins[0], ylims[0]))\n",
    "    x_name= '' if force_no_xnames else 'mean_sent_len'\n",
    "    plot_scatter_corr(tdf[('syntactic', 'mean_sent_len')], tdf[('lexical', 'n_words')],\n",
    "                     x_name=x_name, y_name='', ax=axes[1], c=c, \n",
    "                      xlim=(xmin[1], xlims[1]), ylim=(ymins[1], ylims[1]))"
   ]
  },
  {
   "cell_type": "code",
   "execution_count": 82,
   "id": "97398556",
   "metadata": {},
   "outputs": [],
   "source": [
    "fig = plt.figure(constrained_layout=True, figsize=(10, 20))\n",
    "fig.suptitle('number of words against number of sentences and mean sentence length')\n",
    "\n",
    "# create 4x1 subfigs\n",
    "subfigs = fig.subfigures(nrows=4, ncols=1)\n",
    "for i, subfig in enumerate(subfigs):\n",
    "    task = TASKS[i+1]\n",
    "    subfig.supylabel(task)\n",
    "    # create 1x2 subplots per subfig\n",
    "    axs = subfig.subplots(nrows=1, ncols=2, sharey=True)\n",
    "    plot_task(combined_data_all, task, axs, xlims=(100, 40), ylims=(800, 800), force_no_xnames=i < 3)\n",
    "plt.savefig(f'{PATH_FIG}_n_words_n_sents_tasks.png', dpi=150, bbox_inches = 'tight')\n",
    "plt.close(fig)"
   ]
  },
  {
   "cell_type": "code",
   "execution_count": 83,
   "id": "c5fa0e62",
   "metadata": {},
   "outputs": [
    {
     "data": {
      "text/plain": [
       "ID\n",
       "MPP_014    35.75\n",
       "MPP_016    86.50\n",
       "MPP_019    48.00\n",
       "MPP_022    91.75\n",
       "MPP_024    68.00\n",
       "MPP_026    92.75\n",
       "MPP_029    51.25\n",
       "MPP_034    76.00\n",
       "MPP_036    73.50\n",
       "MPP_038    59.25\n",
       "MPP_039    91.50\n",
       "MPP_043    87.00\n",
       "MPP_046    80.25\n",
       "MPP_005    50.00\n",
       "MPP_006    55.75\n",
       "MPP_061    93.25\n",
       "MPP_064    99.00\n",
       "MPP_068    34.75\n",
       "MPP_009    43.25\n",
       "KG_019     97.75\n",
       "Name: (lexical, n_words), dtype: float64"
      ]
     },
     "execution_count": 83,
     "metadata": {},
     "output_type": "execute_result"
    }
   ],
   "source": [
    "combined_data_averaged[combined_data_averaged[('lexical', 'n_words')] < 100][('lexical', 'n_words')]"
   ]
  },
  {
   "cell_type": "code",
   "execution_count": 84,
   "id": "89d242e0",
   "metadata": {},
   "outputs": [
    {
     "name": "stdout",
     "output_type": "stream",
     "text": [
      "averaged 20 70.7625\n",
      "anger 20 69.55\n",
      "fear 27 65.96296296296296\n",
      "happiness 29 66.93103448275862\n",
      "sadness 31 67.09677419354838\n"
     ]
    }
   ],
   "source": [
    "for task in TASKS:\n",
    "    tsk = task_data(combined_data_all, task)\n",
    "    short = tsk[tsk[('lexical', 'n_words')] < 100][('lexical', 'n_words')]\n",
    "    print(task, len(short), np.mean(short))"
   ]
  }
 ],
 "metadata": {
  "kernelspec": {
   "display_name": "Python 3 (ipykernel)",
   "language": "python",
   "name": "python3"
  },
  "language_info": {
   "codemirror_mode": {
    "name": "ipython",
    "version": 3
   },
   "file_extension": ".py",
   "mimetype": "text/x-python",
   "name": "python",
   "nbconvert_exporter": "python",
   "pygments_lexer": "ipython3",
   "version": "3.9.7"
  }
 },
 "nbformat": 4,
 "nbformat_minor": 5
}
