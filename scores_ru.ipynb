{
 "cells": [
  {
   "cell_type": "code",
   "execution_count": null,
   "id": "50875dd8",
   "metadata": {},
   "outputs": [],
   "source": [
    "import numpy as np\n",
    "import matplotlib.pyplot as plt\n",
    "import pandas as pd\n",
    "import seaborn as sns\n",
    "import statsmodels.api as sm\n",
    "import random\n",
    "\n",
    "from matplotlib.colors import ListedColormap\n",
    "from random import choices\n",
    "from scipy import stats\n",
    "from statsmodels.miscmodels.ordinal_model import OrderedModel\n",
    "from tqdm.notebook import tqdm"
   ]
  },
  {
   "cell_type": "code",
   "execution_count": null,
   "id": "56b94513",
   "metadata": {},
   "outputs": [],
   "source": [
    "import warnings\n",
    "import copy\n",
    "warnings.filterwarnings(action=\"ignore\", category=np.VisibleDeprecationWarning)\n",
    "warnings.filterwarnings(action='ignore', message='All-NaN slice encountered')\n",
    "warnings.filterwarnings(action='ignore', message='Precision loss occurred in moment calculation due to catastrophic cancellation. This occurs when the data are nearly identical. Results may be unreliable.')\n",
    "warnings.filterwarnings(action='ignore', message='Mean of empty slice')"
   ]
  },
  {
   "cell_type": "code",
   "execution_count": null,
   "id": "d9831475",
   "metadata": {},
   "outputs": [],
   "source": [
    "from jupyter_utils import style, mean_std, display_test, display_group_test, scatter_annotate, show_corrtest_mask_corr\n",
    "from ortogonolize_utils import draw_scatter, draw_corrected_scatter\n",
    "from ortogonolize_utils import compute_coefficient, compute_ortogonolized_coefficient, compute_ortogonolized_logit"
   ]
  },
  {
   "cell_type": "code",
   "execution_count": null,
   "id": "bb2b0dec",
   "metadata": {},
   "outputs": [],
   "source": [
    "PATH = '/Users/galina.ryazanskaya/Downloads/thesis?/code?/'"
   ]
  },
  {
   "cell_type": "markdown",
   "id": "47eaa18b",
   "metadata": {},
   "source": [
    "## merge data with psychosocial data"
   ]
  },
  {
   "cell_type": "code",
   "execution_count": null,
   "id": "6a46d432",
   "metadata": {},
   "outputs": [],
   "source": [
    "df = pd.read_csv(PATH +'rus_merged_psychosocial_data.csv', index_col=0)\n",
    "df = df[df.index.notnull()]\n",
    "df.rename(columns={'dep.severity-1': 'dep.severity',\n",
    "                  'HDRS-17.score-1': 'HDRS-17',\n",
    "                   'panss-1-td': 'panss_td',\n",
    "                   'panss-1-total': 'panss_total', \n",
    "                   'panss-n-1-total': 'panss_neg', \n",
    "                   'panss-o-1-total': 'panss_o',\n",
    "                   'panss-p-1-total': 'panss_pos', \n",
    "                   'sans-1-total': 'sans',\n",
    "                   'saps-ftd-1-total': 'saps_ftd', \n",
    "                   'sops-1-total': 'sops_total', \n",
    "                   'sops-c-total': 'sops_c',\n",
    "                   'sops-d-total': 'sops_d', \n",
    "                   'sops-n-total': 'sops_n', \n",
    "                   'sops-p-total': 'sops_p'\n",
    "                  }, inplace=True)\n",
    "df['index'] = df.index\n",
    "df.drop_duplicates(inplace=True, subset='index')\n",
    "df.drop(columns=['index'], inplace=True)"
   ]
  },
  {
   "cell_type": "code",
   "execution_count": null,
   "id": "5dc26ce4",
   "metadata": {},
   "outputs": [],
   "source": [
    "len(df)"
   ]
  },
  {
   "cell_type": "code",
   "execution_count": null,
   "id": "77d7048a",
   "metadata": {},
   "outputs": [],
   "source": [
    "res_df = pd.read_csv(PATH + 'processed_values/new/ru_both.tsv', sep='\\t', index_col=0, header=[0, 1, 2])"
   ]
  },
  {
   "cell_type": "code",
   "execution_count": null,
   "id": "71cceb97",
   "metadata": {},
   "outputs": [],
   "source": [
    "len(res_df)"
   ]
  },
  {
   "cell_type": "code",
   "execution_count": null,
   "id": "6f54b737",
   "metadata": {},
   "outputs": [],
   "source": [
    "dfi = [i.replace('-', '').replace('S', 'PD1') for i in df.index]\n",
    "df.index = dfi\n",
    "# res_df.index = [i.replace('S', 'PD1') for i in res_df.index]\n",
    "rdfi = [i.split('_')[0].replace('S', 'PD1') for i in res_df.index]\n",
    "\n",
    "missing_psy = set(rdfi).difference(set(dfi))\n",
    "missing_psy"
   ]
  },
  {
   "cell_type": "code",
   "execution_count": null,
   "id": "18dac09c",
   "metadata": {},
   "outputs": [],
   "source": [
    "missing_psy = [i for i in res_df.index if i.split('_')[0] in missing_psy]\n",
    "res_df.drop(missing_psy, inplace=True)"
   ]
  },
  {
   "cell_type": "code",
   "execution_count": null,
   "id": "78c044c9",
   "metadata": {},
   "outputs": [],
   "source": [
    "len(res_df)"
   ]
  },
  {
   "cell_type": "code",
   "execution_count": null,
   "id": "7f26a3c8",
   "metadata": {},
   "outputs": [],
   "source": [
    "missing_text = set(dfi).difference(set(rdfi))\n",
    "len(missing_text)"
   ]
  },
  {
   "cell_type": "code",
   "execution_count": null,
   "id": "eda1ef98",
   "metadata": {},
   "outputs": [],
   "source": [
    "df.drop(missing_text, inplace=True)"
   ]
  },
  {
   "cell_type": "code",
   "execution_count": null,
   "id": "32f414c5",
   "metadata": {},
   "outputs": [],
   "source": [
    "non_start_timepoint = [i for i in res_df.index if i.split('_')[-1] != '1']\n",
    "res_df.drop(non_start_timepoint, inplace=True)"
   ]
  },
  {
   "cell_type": "code",
   "execution_count": null,
   "id": "1017d650",
   "metadata": {},
   "outputs": [],
   "source": [
    "res_df.loc['PD101_1'].dropna()"
   ]
  },
  {
   "cell_type": "code",
   "execution_count": null,
   "id": "40666718",
   "metadata": {},
   "outputs": [],
   "source": [
    "rdfi_filtered = [i.split('_')[0].replace('S', 'PD1') for i in res_df.index]\n",
    "res_df.index = rdfi_filtered"
   ]
  },
  {
   "cell_type": "markdown",
   "id": "54cb9d0e",
   "metadata": {},
   "source": [
    "## psychosocial statistics"
   ]
  },
  {
   "cell_type": "code",
   "execution_count": null,
   "id": "ecfe782b",
   "metadata": {},
   "outputs": [],
   "source": [
    "def fill_diagnosis_type(row):\n",
    "    dt = row['diagnosis.type']\n",
    "    if not pd.isna(dt):\n",
    "        return dt\n",
    "    else:\n",
    "        if not pd.isna(row['td.severity']):\n",
    "            return 'control_psy'\n",
    "        else:\n",
    "            return 'control'"
   ]
  },
  {
   "cell_type": "code",
   "execution_count": null,
   "id": "98d4ab69",
   "metadata": {},
   "outputs": [],
   "source": [
    "df['diagnosis.type'] = df.apply(fill_diagnosis_type, axis=1)"
   ]
  },
  {
   "cell_type": "code",
   "execution_count": null,
   "id": "5ff782c1",
   "metadata": {},
   "outputs": [],
   "source": [
    "sz = df[df['diagnosis.type'] == 'sz']\n",
    "dep = df[df['diagnosis.type'] == 'dep']\n",
    "control = df[df['diagnosis.group'] == 'control']\n",
    "control_psy = df[df['diagnosis.type'] == 'control_psy']"
   ]
  },
  {
   "cell_type": "code",
   "execution_count": null,
   "id": "532c0237",
   "metadata": {
    "scrolled": true
   },
   "outputs": [],
   "source": [
    "df.columns"
   ]
  },
  {
   "cell_type": "code",
   "execution_count": null,
   "id": "e4873be5",
   "metadata": {
    "scrolled": true
   },
   "outputs": [],
   "source": [
    "len(df)"
   ]
  },
  {
   "cell_type": "code",
   "execution_count": null,
   "id": "c1031a6c",
   "metadata": {},
   "outputs": [],
   "source": [
    "df['diagnosis.group'].value_counts()"
   ]
  },
  {
   "cell_type": "code",
   "execution_count": null,
   "id": "0aab5a6a",
   "metadata": {},
   "outputs": [],
   "source": [
    "df['diagnosis.type'].value_counts()"
   ]
  },
  {
   "cell_type": "code",
   "execution_count": null,
   "id": "c02ff63d",
   "metadata": {},
   "outputs": [],
   "source": [
    "df['dep.scale'].value_counts()"
   ]
  },
  {
   "cell_type": "code",
   "execution_count": null,
   "id": "9cf5258e",
   "metadata": {},
   "outputs": [],
   "source": [
    "df['td.scales'].value_counts()"
   ]
  },
  {
   "cell_type": "code",
   "execution_count": null,
   "id": "33d93eaf",
   "metadata": {},
   "outputs": [],
   "source": [
    "print(df.groupby('diagnosis.type')[['diagnosis_code', 'diagnosis_eng']].value_counts().to_csv(sep='\\t'))"
   ]
  },
  {
   "cell_type": "markdown",
   "id": "a88e36a1",
   "metadata": {},
   "source": [
    "### select target cols"
   ]
  },
  {
   "cell_type": "code",
   "execution_count": null,
   "id": "4a467038",
   "metadata": {},
   "outputs": [],
   "source": [
    "target_cols = ['sex', 'age', 'education.years', \n",
    "               'diagnosis.group', 'diagnosis.type',\n",
    "               'dep.severity', 'td.severity']"
   ]
  },
  {
   "cell_type": "code",
   "execution_count": null,
   "id": "d850c8a7",
   "metadata": {},
   "outputs": [],
   "source": [
    "# panss_cols = [col for col in df.columns if col.startswith('panss')]\n",
    "panss_cols = ['panss_td', 'panss_total', 'panss_neg', 'panss_pos', 'panss_o']\n",
    "sans_cols = [col for col in df.columns if col.startswith('sans')]\n",
    "saps_cols = [col for col in df.columns if col.startswith('saps')]\n",
    "sops_cols = [col for col in df.columns if col.startswith('sops')]"
   ]
  },
  {
   "cell_type": "code",
   "execution_count": null,
   "id": "0dc7f1b6",
   "metadata": {},
   "outputs": [],
   "source": [
    "numeric_target = ['education.years','dep.severity','td.severity'] + panss_cols"
   ]
  },
  {
   "cell_type": "code",
   "execution_count": null,
   "id": "70e0aeb4",
   "metadata": {},
   "outputs": [],
   "source": [
    "sz.count()[sz.count() > 0]"
   ]
  },
  {
   "cell_type": "code",
   "execution_count": null,
   "id": "65f2d5bf",
   "metadata": {},
   "outputs": [],
   "source": [
    "dep.count()[dep.count() > 0]"
   ]
  },
  {
   "cell_type": "code",
   "execution_count": null,
   "id": "4c201df4",
   "metadata": {},
   "outputs": [],
   "source": [
    "sz['sex'].value_counts()"
   ]
  },
  {
   "cell_type": "code",
   "execution_count": null,
   "id": "368b92da",
   "metadata": {},
   "outputs": [],
   "source": [
    "mean_std(sz, target_cols + panss_cols)"
   ]
  },
  {
   "cell_type": "code",
   "execution_count": null,
   "id": "667f07e7",
   "metadata": {},
   "outputs": [],
   "source": [
    "mean_std(sz, target_cols + panss_cols, 'sex')"
   ]
  },
  {
   "cell_type": "code",
   "execution_count": null,
   "id": "841b28c4",
   "metadata": {},
   "outputs": [],
   "source": [
    "dep['sex'].value_counts()"
   ]
  },
  {
   "cell_type": "code",
   "execution_count": null,
   "id": "17782ed7",
   "metadata": {},
   "outputs": [],
   "source": [
    "mean_std(dep, target_cols + panss_cols)"
   ]
  },
  {
   "cell_type": "code",
   "execution_count": null,
   "id": "9d6367ca",
   "metadata": {},
   "outputs": [],
   "source": [
    "dep['panss_o'].count()"
   ]
  },
  {
   "cell_type": "code",
   "execution_count": null,
   "id": "ee7f3145",
   "metadata": {},
   "outputs": [],
   "source": [
    "control['sex'].value_counts()"
   ]
  },
  {
   "cell_type": "code",
   "execution_count": null,
   "id": "06c46d99",
   "metadata": {},
   "outputs": [],
   "source": [
    "mean_std(control, target_cols)"
   ]
  },
  {
   "cell_type": "code",
   "execution_count": null,
   "id": "434a7479",
   "metadata": {},
   "outputs": [],
   "source": [
    "mean_std(control, target_cols, 'sex')"
   ]
  },
  {
   "cell_type": "code",
   "execution_count": null,
   "id": "25f5e2a0",
   "metadata": {},
   "outputs": [],
   "source": [
    "control_psy['sex'].value_counts()"
   ]
  },
  {
   "cell_type": "code",
   "execution_count": null,
   "id": "9b3a6b4e",
   "metadata": {},
   "outputs": [],
   "source": [
    "mean_std(control_psy, target_cols + panss_cols)"
   ]
  },
  {
   "cell_type": "code",
   "execution_count": null,
   "id": "9224b336",
   "metadata": {},
   "outputs": [],
   "source": [
    "mean_std(control_psy, target_cols + panss_cols, 'sex')"
   ]
  },
  {
   "cell_type": "code",
   "execution_count": null,
   "id": "55dceae7",
   "metadata": {},
   "outputs": [],
   "source": [
    "control.groupby('sex')['panss_total'].count()"
   ]
  },
  {
   "cell_type": "code",
   "execution_count": null,
   "id": "785d3a9c",
   "metadata": {},
   "outputs": [],
   "source": [
    "control_psy.count()[control_psy.count() > 0]"
   ]
  },
  {
   "cell_type": "code",
   "execution_count": null,
   "id": "be09b10f",
   "metadata": {},
   "outputs": [],
   "source": [
    "df.dropna(axis=0, thresh=30).iloc[0]"
   ]
  },
  {
   "cell_type": "markdown",
   "id": "65dd3253",
   "metadata": {},
   "source": [
    "### test for differences"
   ]
  },
  {
   "cell_type": "markdown",
   "id": "a0cd64af",
   "metadata": {},
   "source": [
    "age"
   ]
  },
  {
   "cell_type": "code",
   "execution_count": null,
   "id": "6f4597e6",
   "metadata": {},
   "outputs": [],
   "source": [
    "stats.ttest_ind(control['age'], sz['age'], nan_policy='omit')"
   ]
  },
  {
   "cell_type": "code",
   "execution_count": null,
   "id": "727c9307",
   "metadata": {},
   "outputs": [],
   "source": [
    "stats.ttest_ind(control_psy['age'], sz['age'], nan_policy='omit')"
   ]
  },
  {
   "cell_type": "code",
   "execution_count": null,
   "id": "04a0183b",
   "metadata": {},
   "outputs": [],
   "source": [
    "stats.ttest_ind(control_psy['age'], dep['age'], nan_policy='omit')"
   ]
  },
  {
   "cell_type": "markdown",
   "id": "0acea8a2",
   "metadata": {},
   "source": [
    "eduaction years"
   ]
  },
  {
   "cell_type": "code",
   "execution_count": null,
   "id": "e41904c4",
   "metadata": {},
   "outputs": [],
   "source": [
    "stats.ttest_ind(control['education.years'], sz['education.years'], nan_policy='omit')"
   ]
  },
  {
   "cell_type": "code",
   "execution_count": null,
   "id": "85f62ed8",
   "metadata": {},
   "outputs": [],
   "source": [
    "stats.ttest_ind(control_psy['education.years'], sz['education.years'], nan_policy='omit')"
   ]
  },
  {
   "cell_type": "code",
   "execution_count": null,
   "id": "2a017b6c",
   "metadata": {},
   "outputs": [],
   "source": [
    "stats.ttest_ind(control_psy['education.years'], dep['education.years'], nan_policy='omit')"
   ]
  },
  {
   "cell_type": "markdown",
   "id": "ed14e784",
   "metadata": {},
   "source": [
    "sex"
   ]
  },
  {
   "cell_type": "code",
   "execution_count": null,
   "id": "c4e91a4b",
   "metadata": {},
   "outputs": [],
   "source": [
    "a = 0.05"
   ]
  },
  {
   "cell_type": "code",
   "execution_count": null,
   "id": "bb480326",
   "metadata": {},
   "outputs": [],
   "source": [
    "s_t_sex, res_t_sex = display_group_test(control, numeric_target, 'sex', stats.ttest_ind, stat_name='t', alpha=a)\n",
    "style(res_t_sex)"
   ]
  },
  {
   "cell_type": "code",
   "execution_count": null,
   "id": "927c9b7a",
   "metadata": {},
   "outputs": [],
   "source": [
    "s_t_sex, res_t_sex = display_group_test(control_psy, numeric_target, 'sex', stats.ttest_ind, stat_name='t', alpha=a)\n",
    "style(res_t_sex)"
   ]
  },
  {
   "cell_type": "code",
   "execution_count": null,
   "id": "6cdc3d71",
   "metadata": {},
   "outputs": [],
   "source": [
    "s_t_sex, res_t_sex = display_group_test(sz, numeric_target, 'sex', stats.ttest_ind, stat_name='t', alpha=a)\n",
    "style(res_t_sex)"
   ]
  },
  {
   "cell_type": "markdown",
   "id": "2ae688c6",
   "metadata": {},
   "source": [
    "### correlation between target variables"
   ]
  },
  {
   "cell_type": "code",
   "execution_count": null,
   "id": "f817ebd4",
   "metadata": {},
   "outputs": [],
   "source": [
    "# display corr test"
   ]
  },
  {
   "cell_type": "code",
   "execution_count": null,
   "id": "e1f827d4",
   "metadata": {},
   "outputs": [],
   "source": [
    "x, y = display_test(df, numeric_target, 'age', stats.pearsonr, stat_name='r', alpha=a)\n",
    "y[y['abs_r']> 0.3].sort_values('abs_r', ascending=False)"
   ]
  },
  {
   "cell_type": "code",
   "execution_count": null,
   "id": "bd120369",
   "metadata": {},
   "outputs": [],
   "source": [
    "x, y = display_test(df, numeric_target, 'education.years', stats.pearsonr, stat_name='r', alpha=a)\n",
    "y[y['abs_r']> 0.3].sort_values('abs_r', ascending=False)"
   ]
  },
  {
   "cell_type": "code",
   "execution_count": null,
   "id": "7d820b1a",
   "metadata": {},
   "outputs": [],
   "source": [
    "target_corr_res = show_corrtest_mask_corr(df[numeric_target])"
   ]
  },
  {
   "cell_type": "markdown",
   "id": "f0b13488",
   "metadata": {},
   "source": [
    "## scores"
   ]
  },
  {
   "cell_type": "code",
   "execution_count": null,
   "id": "679f02d1",
   "metadata": {},
   "outputs": [],
   "source": [
    "res_df"
   ]
  },
  {
   "cell_type": "markdown",
   "id": "abfe36da",
   "metadata": {},
   "source": [
    "## features of raw texts"
   ]
  },
  {
   "cell_type": "code",
   "execution_count": null,
   "id": "1df0a615",
   "metadata": {},
   "outputs": [],
   "source": [
    "raw = pd.read_csv(PATH+'rus_transcript_lex_by_task_with_dots.tsv', sep='\\t', index_col=0)"
   ]
  },
  {
   "cell_type": "code",
   "execution_count": null,
   "id": "823d9218",
   "metadata": {},
   "outputs": [],
   "source": [
    "ids_to_drop = [i for i in raw.index if i.split('_')[0] not in res_df.index]"
   ]
  },
  {
   "cell_type": "code",
   "execution_count": null,
   "id": "d032a9c0",
   "metadata": {},
   "outputs": [],
   "source": [
    "raw.drop(index=ids_to_drop, inplace=True)"
   ]
  },
  {
   "cell_type": "code",
   "execution_count": null,
   "id": "d753f43b",
   "metadata": {},
   "outputs": [],
   "source": [
    "raw.index = [i.split('_')[0] for i in raw.index]"
   ]
  },
  {
   "cell_type": "code",
   "execution_count": null,
   "id": "226cdf41",
   "metadata": {},
   "outputs": [],
   "source": [
    "raw.isna().sum(axis=0).sum()"
   ]
  },
  {
   "cell_type": "code",
   "execution_count": null,
   "id": "ded7410c",
   "metadata": {},
   "outputs": [],
   "source": [
    "raw.applymap(lambda x: len(x.split('.')) if not pd.isna(x) else np.nan).mean(axis=1).hist()"
   ]
  },
  {
   "cell_type": "markdown",
   "id": "36867f18",
   "metadata": {},
   "source": [
    "## look at tasks"
   ]
  },
  {
   "cell_type": "code",
   "execution_count": null,
   "id": "aba59bf8",
   "metadata": {},
   "outputs": [],
   "source": [
    "task_available = raw.applymap(lambda x: 1 if not pd.isna(x) else x)"
   ]
  },
  {
   "cell_type": "code",
   "execution_count": null,
   "id": "a3d5472e",
   "metadata": {},
   "outputs": [],
   "source": [
    "len(task_available)"
   ]
  },
  {
   "cell_type": "code",
   "execution_count": null,
   "id": "fcd39110",
   "metadata": {},
   "outputs": [],
   "source": [
    "task_available['diagnosis.type'] = df['diagnosis.type']"
   ]
  },
  {
   "cell_type": "code",
   "execution_count": null,
   "id": "37c8dc8f",
   "metadata": {},
   "outputs": [],
   "source": [
    "task_available.count()"
   ]
  },
  {
   "cell_type": "code",
   "execution_count": null,
   "id": "0b94f7c9",
   "metadata": {},
   "outputs": [],
   "source": [
    "task_available.groupby('diagnosis.type').count()"
   ]
  },
  {
   "cell_type": "code",
   "execution_count": null,
   "id": "6cc062ac",
   "metadata": {},
   "outputs": [],
   "source": [
    "task_available.groupby('diagnosis.type').count()[task_available.groupby('diagnosis.type').count() > 0].dropna(axis=1)"
   ]
  },
  {
   "cell_type": "code",
   "execution_count": null,
   "id": "93e808f3",
   "metadata": {},
   "outputs": [],
   "source": [
    "def drop_person(row):\n",
    "    for task in ('adventure', 'chair','present','sportsman'):\n",
    "        if not pd.isna(row[task]):\n",
    "            return False\n",
    "    return True"
   ]
  },
  {
   "cell_type": "code",
   "execution_count": null,
   "id": "31cb1cf0",
   "metadata": {},
   "outputs": [],
   "source": [
    "ids_with_at_least_one_task = task_available[~task_available.apply(drop_person, axis=1)].index"
   ]
  },
  {
   "cell_type": "code",
   "execution_count": null,
   "id": "4e086e5e",
   "metadata": {},
   "outputs": [],
   "source": [
    "df = df.loc[ids_with_at_least_one_task]"
   ]
  },
  {
   "cell_type": "code",
   "execution_count": null,
   "id": "bd3f0cbd",
   "metadata": {},
   "outputs": [],
   "source": [
    "TASKS = ['adventure', 'chair','present','sportsman']"
   ]
  },
  {
   "cell_type": "code",
   "execution_count": null,
   "id": "d753de3e",
   "metadata": {},
   "outputs": [],
   "source": [
    "res_df = res_df.loc[ids_with_at_least_one_task, TASKS]"
   ]
  },
  {
   "cell_type": "code",
   "execution_count": null,
   "id": "52bd12d6",
   "metadata": {},
   "outputs": [],
   "source": [
    "res_df[[(task, 'syntactic', 'mean_sent_len') for task in TASKS]].mean()"
   ]
  },
  {
   "cell_type": "code",
   "execution_count": null,
   "id": "e8582de3",
   "metadata": {},
   "outputs": [],
   "source": [
    "res_df[[(task, 'syntactic', 'n_sents') for task in TASKS]].mean()"
   ]
  },
  {
   "cell_type": "code",
   "execution_count": null,
   "id": "f9f745f5",
   "metadata": {},
   "outputs": [],
   "source": [
    "res_df[[(task, 'lexical', 'n_words') for task in TASKS]].mean()"
   ]
  },
  {
   "cell_type": "code",
   "execution_count": null,
   "id": "bf0514d4",
   "metadata": {},
   "outputs": [],
   "source": [
    "def task_data(df, task, keep_target=True, fill_synt=True):\n",
    "    subset = df[task].dropna(axis=0, how='all')\n",
    "    if fill_synt:\n",
    "        subset['syntactic'] = subset['syntactic'].fillna(0.0)\n",
    "    if keep_target:\n",
    "        subset = pd.concat([subset, df['target'].loc[subset.index]], axis=1)\n",
    "    return subset"
   ]
  },
  {
   "cell_type": "code",
   "execution_count": null,
   "id": "833b6f56",
   "metadata": {},
   "outputs": [],
   "source": [
    "def aplly_to_all_tasks(df, f, tasks=TASKS, to_df=True, *args, **kwargs):\n",
    "    res = {}\n",
    "    for task in tasks:\n",
    "        data = task_data(df, task)\n",
    "        res[task] = f(data, *args, **kwargs)\n",
    "    if to_df:\n",
    "        if all(isinstance(v, pd.Series) for v in res.values()):\n",
    "            return pd.DataFrame(res)\n",
    "        elif all(isinstance(v, pd.DataFrame) for v in res.values()):\n",
    "            return pd.concat(list(res.values()), keys=list(res.keys()), names=['task'], axis=1)\n",
    "        else:\n",
    "            return res\n",
    "    return res"
   ]
  },
  {
   "cell_type": "code",
   "execution_count": null,
   "id": "dd448843",
   "metadata": {},
   "outputs": [],
   "source": [
    "fig, axes = plt.subplots(3, 3, figsize=(15, 10))\n",
    "fig.suptitle('PANSS')\n",
    "\n",
    "\n",
    "sns.histplot(sz['panss_total'], ax=axes[0, 0], binwidth=5)\n",
    "axes[0, 0].set_xlim(30, 95)\n",
    "sns.histplot(dep['panss_total'], ax=axes[1, 0], binwidth=5)\n",
    "axes[1, 0].set_xlim(30, 95)\n",
    "sns.histplot(control_psy['panss_total'], ax=axes[2, 0], binwidth=5)\n",
    "axes[2, 0].set_xlim(30, 95)\n",
    "sns.histplot(sz['panss_neg'], ax=axes[0, 1], binwidth=2)\n",
    "axes[0, 1].set_xlim(7, 45)\n",
    "sns.histplot(dep['panss_neg'], ax=axes[1, 1], binwidth=2)\n",
    "axes[1, 1].set_xlim(7, 45)\n",
    "sns.histplot(control_psy['panss_neg'], ax=axes[2, 1], binwidth=2)\n",
    "axes[2, 1].set_xlim(7, 45)\n",
    "sns.histplot(sz['panss_pos'], ax=axes[0, 2], binwidth=2)\n",
    "axes[0, 2].set_xlim(7, 30)\n",
    "sns.histplot(dep['panss_pos'], ax=axes[1, 2], binwidth=2)\n",
    "axes[1, 2].set_xlim(7, 30)\n",
    "sns.histplot(control_psy['panss_pos'], ax=axes[2, 2], binwidth=2)\n",
    "axes[2, 2].set_xlim(7, 30)\n",
    "\n",
    "for ax, col in zip(axes[0], ('total', 'positive', 'negative')):\n",
    "    ax.set_title(col)\n",
    "\n",
    "for ax, row in zip(axes[:,0], ('NAP', 'Dep', 'HC')):\n",
    "    ax.set_ylabel(row, rotation=0, size='large')"
   ]
  },
  {
   "cell_type": "code",
   "execution_count": null,
   "id": "1b743c16",
   "metadata": {},
   "outputs": [],
   "source": [
    "fig, axes = plt.subplots(2, 2, figsize=(12, 8))\n",
    "fig.suptitle('severity')\n",
    "\n",
    "\n",
    "sns.histplot(sz['dep.severity'], ax=axes[0, 0])\n",
    "sns.histplot(dep['dep.severity'], ax=axes[1, 0])\n",
    "sns.histplot(sz['td.severity'], ax=axes[0, 1])\n",
    "sns.histplot(dep['td.severity'], ax=axes[1, 1])\n",
    "axes[1, 1].set_xlim(0, 3)\n",
    "\n",
    "for ax, col in zip(axes[0], ('Dep', 'TD')):\n",
    "    ax.set_title(col)\n",
    "\n",
    "for ax, row in zip(axes[:,0], ('NAP', 'Dep')):\n",
    "    ax.set_ylabel(row, rotation=0, size='large')"
   ]
  },
  {
   "cell_type": "markdown",
   "id": "ec7ccfe5",
   "metadata": {},
   "source": [
    "### merge psychoscial data to scores"
   ]
  },
  {
   "cell_type": "code",
   "execution_count": null,
   "id": "669d4fd8",
   "metadata": {},
   "outputs": [],
   "source": [
    "merge_df = res_df.copy()\n",
    "for col in target_cols + panss_cols:\n",
    "    merge_df[('target', 'target', col)] = df[col]"
   ]
  },
  {
   "cell_type": "code",
   "execution_count": null,
   "id": "c7c95ac1",
   "metadata": {},
   "outputs": [],
   "source": [
    "cols_tasks = res_df['chair'].columns\n",
    "cols_LM = [col for col in res_df['chair'] if col[0] == 'LM']\n",
    "cols_synt = [col for col in res_df['chair'] if col[0] == 'syntactic']\n",
    "cols_lex = [col for col in res_df['chair'] if col[0] == 'lexical']\n",
    "cols_graph = [col for col in res_df['chair'] if col[0] == 'graph']"
   ]
  },
  {
   "cell_type": "code",
   "execution_count": null,
   "id": "00cf5ed5",
   "metadata": {},
   "outputs": [],
   "source": [
    "POS_to_use = ('ADJ', 'ADV', 'AUX', 'CCONJ', 'DET','NOUN', 'PRON', 'PROPN', 'SCONJ', 'VERB', 'PART')\n",
    "pos = set([x[1] for x in cols_synt if x[1].isupper()])\n",
    "\n",
    "pos.difference(set(('ADJ', 'ADV', 'AUX', 'CCONJ', 'DET','NOUN', 'PRON', 'PROPN', 'SCONJ', 'VERB', 'PART')))"
   ]
  },
  {
   "cell_type": "code",
   "execution_count": null,
   "id": "4e0bbe72",
   "metadata": {},
   "outputs": [],
   "source": [
    "pos_cols_to_drop = [(task, c[0], c[1]) for task in TASKS for c in cols_synt if c[1].isupper() and c[1] not in POS_to_use]"
   ]
  },
  {
   "cell_type": "code",
   "execution_count": null,
   "id": "c55f40f4",
   "metadata": {},
   "outputs": [],
   "source": [
    "merge_df.drop(columns=pos_cols_to_drop, inplace=True)"
   ]
  },
  {
   "cell_type": "code",
   "execution_count": null,
   "id": "bc48853d",
   "metadata": {},
   "outputs": [],
   "source": [
    "cols_synt = [col for col in merge_df['chair'] if col[0] == 'syntactic']\n",
    "cols_tasks = cols_synt + cols_LM + cols_lex + cols_graph"
   ]
  },
  {
   "cell_type": "code",
   "execution_count": null,
   "id": "1969b89c",
   "metadata": {},
   "outputs": [],
   "source": [
    "def corr(df, target):\n",
    "    return df[~pd.isnull(df[target])].corr()[target]"
   ]
  },
  {
   "cell_type": "code",
   "execution_count": null,
   "id": "e1ef1c80",
   "metadata": {},
   "outputs": [],
   "source": [
    "def corr_thresh(df, target, thresh=0.3, drop_target=True):\n",
    "    corr_tgt = corr(df, target)\n",
    "    if drop_target:\n",
    "        corr_tgt.drop('target', inplace=True)\n",
    "    return corr_tgt[abs(corr_tgt) >= thresh]"
   ]
  },
  {
   "cell_type": "code",
   "execution_count": null,
   "id": "e6acd08e",
   "metadata": {},
   "outputs": [],
   "source": [
    "def ttest(df, test_columns, group):\n",
    "    s_t, res_t = display_group_test(df, test_columns, group, stats.ttest_ind, stat_name='t', alpha=a)\n",
    "    return res_t[['t', 'p']]"
   ]
  },
  {
   "cell_type": "markdown",
   "id": "6adb8735",
   "metadata": {},
   "source": [
    "### psychosocial variables vs metrics"
   ]
  },
  {
   "cell_type": "code",
   "execution_count": null,
   "id": "a0bc012e",
   "metadata": {},
   "outputs": [],
   "source": [
    "style(aplly_to_all_tasks(merge_df, corr_thresh, target=('target', 'age')))"
   ]
  },
  {
   "cell_type": "code",
   "execution_count": null,
   "id": "f2330663",
   "metadata": {},
   "outputs": [],
   "source": [
    "style(aplly_to_all_tasks(merge_df, corr_thresh, target=('target', 'education.years')))"
   ]
  },
  {
   "cell_type": "code",
   "execution_count": null,
   "id": "08dfc0a6",
   "metadata": {},
   "outputs": [],
   "source": [
    "control = merge_df[merge_df[('target', 'target', 'diagnosis.group')] == 'control']"
   ]
  },
  {
   "cell_type": "code",
   "execution_count": null,
   "id": "1115f746",
   "metadata": {},
   "outputs": [],
   "source": [
    "style(aplly_to_all_tasks(control, corr_thresh, target=('target', 'age'), thresh=0.4))"
   ]
  },
  {
   "cell_type": "code",
   "execution_count": null,
   "id": "69cdea59",
   "metadata": {},
   "outputs": [],
   "source": [
    "style(aplly_to_all_tasks(control, corr_thresh, target=('target', 'education.years'), thresh=0.4))"
   ]
  },
  {
   "cell_type": "markdown",
   "id": "28654e03",
   "metadata": {},
   "source": [
    "### psychiatric variables vs metrics"
   ]
  },
  {
   "cell_type": "code",
   "execution_count": null,
   "id": "01ed0a27",
   "metadata": {},
   "outputs": [],
   "source": [
    "def thresh_any_task(df, col='p', tasks=TASKS, thresh=0.05):\n",
    "    return df[df.apply(lambda row: any([row[task][col] < thresh for task in tasks]), axis=1)]"
   ]
  },
  {
   "cell_type": "code",
   "execution_count": null,
   "id": "339e70e6",
   "metadata": {},
   "outputs": [],
   "source": [
    "res = aplly_to_all_tasks(merge_df, ttest, test_columns=cols_tasks, group=('target', 'diagnosis.group'))\n",
    "style(thresh_any_task(res, thresh=0.01))"
   ]
  },
  {
   "cell_type": "code",
   "execution_count": null,
   "id": "036e5815",
   "metadata": {},
   "outputs": [],
   "source": [
    "def ttest_select(df, test_two_groups, colname, cols_tasks=cols_tasks):\n",
    "    groups = df[df[('target', colname)].isin(test_two_groups)]\n",
    "    s_t, res_t = display_group_test(groups, cols_tasks, ('target', colname), test=stats.ttest_ind, stat_name='t', alpha=a)\n",
    "    return res_t['t']"
   ]
  },
  {
   "cell_type": "code",
   "execution_count": null,
   "id": "b6c38206",
   "metadata": {},
   "outputs": [],
   "source": [
    "chair = task_data(merge_df, 'chair')"
   ]
  },
  {
   "cell_type": "code",
   "execution_count": null,
   "id": "f0592c45",
   "metadata": {},
   "outputs": [],
   "source": [
    "ttest_select(chair, ('sz', 'control_psy'), 'diagnosis.type')"
   ]
  },
  {
   "cell_type": "code",
   "execution_count": null,
   "id": "05d8fbb2",
   "metadata": {},
   "outputs": [],
   "source": [
    "test_two_groups = ('sz', 'control_psy')\n",
    "groups = merge_df[merge_df[('target', 'target','diagnosis.type')].isin(test_two_groups)]\n",
    "res = aplly_to_all_tasks(groups, ttest, test_columns=cols_tasks, group=('target', 'diagnosis.type'))\n",
    "style(thresh_any_task(res, thresh=0.01))"
   ]
  },
  {
   "cell_type": "code",
   "execution_count": null,
   "id": "54590b16",
   "metadata": {},
   "outputs": [],
   "source": [
    "test_two_groups = ('sz', 'control')\n",
    "groups = merge_df[merge_df[('target', 'target','diagnosis.type')].isin(test_two_groups)]\n",
    "res = aplly_to_all_tasks(groups, ttest, test_columns=cols_tasks, group=('target', 'diagnosis.type'))\n",
    "style(thresh_any_task(res, thresh=0.01))"
   ]
  },
  {
   "cell_type": "code",
   "execution_count": null,
   "id": "ae42691f",
   "metadata": {},
   "outputs": [],
   "source": [
    "test_two_groups = ('dep', 'control_psy')\n",
    "groups = merge_df[merge_df[('target', 'target','diagnosis.type')].isin(test_two_groups)]\n",
    "res = aplly_to_all_tasks(groups, ttest, test_columns=cols_tasks, group=('target', 'diagnosis.type'))\n",
    "style(thresh_any_task(res, thresh=0.01))"
   ]
  },
  {
   "cell_type": "code",
   "execution_count": null,
   "id": "00692c66",
   "metadata": {},
   "outputs": [],
   "source": [
    "test_two_groups = ('dep', 'sz')\n",
    "groups = merge_df[merge_df[('target', 'target','diagnosis.type')].isin(test_two_groups)]\n",
    "res = aplly_to_all_tasks(groups, ttest, test_columns=cols_tasks, group=('target', 'diagnosis.type'))\n",
    "style(thresh_any_task(res, thresh=0.01))"
   ]
  },
  {
   "cell_type": "markdown",
   "id": "7db0bbc6",
   "metadata": {},
   "source": [
    "### Corr"
   ]
  },
  {
   "cell_type": "code",
   "execution_count": null,
   "id": "b08679b5",
   "metadata": {},
   "outputs": [],
   "source": [
    "style(aplly_to_all_tasks(merge_df, corr_thresh, target=('target', 'panss_total')))"
   ]
  },
  {
   "cell_type": "code",
   "execution_count": null,
   "id": "987e2f1d",
   "metadata": {},
   "outputs": [],
   "source": [
    "style(aplly_to_all_tasks(merge_df, corr_thresh, target=('target', 'panss_pos')))"
   ]
  },
  {
   "cell_type": "code",
   "execution_count": null,
   "id": "65c3a642",
   "metadata": {},
   "outputs": [],
   "source": [
    "style(aplly_to_all_tasks(merge_df, corr_thresh, target=('target', 'panss_neg')))"
   ]
  },
  {
   "cell_type": "code",
   "execution_count": null,
   "id": "23ef0bda",
   "metadata": {},
   "outputs": [],
   "source": [
    "style(aplly_to_all_tasks(merge_df, corr_thresh, target=('target', 'panss_o')))"
   ]
  },
  {
   "cell_type": "markdown",
   "id": "bba33a3a",
   "metadata": {},
   "source": [
    "## Ordered Model"
   ]
  },
  {
   "cell_type": "code",
   "execution_count": null,
   "id": "a36d5bb9",
   "metadata": {},
   "outputs": [],
   "source": [
    "psy_td = df[~pd.isna(df['td.severity'])]"
   ]
  },
  {
   "cell_type": "code",
   "execution_count": null,
   "id": "27cf3825",
   "metadata": {},
   "outputs": [],
   "source": [
    "psy_td['td.severity'] = psy_td.loc[:,'td.severity'].astype(pd.CategoricalDtype(ordered=True))\n",
    "psy_td = psy_td.loc[psy_td[['td.severity', 'panss_total', 'panss_pos', 'panss_neg']].dropna().index]"
   ]
  },
  {
   "cell_type": "code",
   "execution_count": null,
   "id": "688e45e2",
   "metadata": {},
   "outputs": [],
   "source": [
    "mod_prob = OrderedModel(psy_td['td.severity'],\n",
    "                        psy_td[['panss_total', 'panss_pos', 'panss_neg']],\n",
    "                        distr='probit')\n",
    "\n",
    "res_prob = mod_prob.fit(method='bfgs')\n",
    "res_prob.summary()"
   ]
  },
  {
   "cell_type": "code",
   "execution_count": null,
   "id": "db3d4444",
   "metadata": {},
   "outputs": [],
   "source": [
    "mod_prob = OrderedModel(psy_td['td.severity'],\n",
    "                        psy_td[['panss_pos', 'panss_neg', 'panss_total']],\n",
    "                        distr='probit')\n",
    "\n",
    "res_prob = mod_prob.fit(method='bfgs')\n",
    "res_prob.aic, res_prob.bic"
   ]
  },
  {
   "cell_type": "code",
   "execution_count": null,
   "id": "0fe82ada",
   "metadata": {},
   "outputs": [],
   "source": [
    "mod_prob = OrderedModel(psy_td['td.severity'],\n",
    "                        psy_td[['panss_total', 'panss_pos']],\n",
    "                        distr='probit')\n",
    "\n",
    "res_prob = mod_prob.fit(method='bfgs')\n",
    "res_prob.aic, res_prob.bic"
   ]
  },
  {
   "cell_type": "code",
   "execution_count": null,
   "id": "09f7f8fc",
   "metadata": {},
   "outputs": [],
   "source": [
    "mod_prob = OrderedModel(psy_td['td.severity'],\n",
    "                        psy_td[['panss_total']],\n",
    "                        distr='probit')\n",
    "\n",
    "res_prob = mod_prob.fit(method='bfgs')\n",
    "res_prob.aic, res_prob.bic"
   ]
  },
  {
   "cell_type": "markdown",
   "id": "82daf7e1",
   "metadata": {},
   "source": [
    "## Length"
   ]
  },
  {
   "cell_type": "code",
   "execution_count": null,
   "id": "c28db1e2",
   "metadata": {},
   "outputs": [],
   "source": [
    "tasks_len = aplly_to_all_tasks(merge_df, corr_thresh, target=('syntactic', 'mean_sent_len'), thresh=0.5)\n",
    "tasks_len.drop(index=[('syntactic', 'mean_sent_len')], inplace=True)\n",
    "style(tasks_len)"
   ]
  },
  {
   "cell_type": "code",
   "execution_count": null,
   "id": "4f2016ab",
   "metadata": {},
   "outputs": [],
   "source": [
    "tasks_len = aplly_to_all_tasks(merge_df, corr_thresh, target=('syntactic', 'mean_sent_len'), thresh=0.)\n",
    "tasks_len.drop(index=[('syntactic', 'mean_sent_len')], inplace=True)"
   ]
  },
  {
   "cell_type": "code",
   "execution_count": null,
   "id": "c3c0ae26",
   "metadata": {},
   "outputs": [],
   "source": [
    "ex_df = pd.DataFrame()\n",
    "for task in TASKS:\n",
    "    df_ = pd.DataFrame()\n",
    "    df_['metric'] = tasks_len[task]\n",
    "    df_['task'] = task\n",
    "    df_['index'] = [x[1] for x in df_.index]\n",
    "    df_['type'] = [x[0] for x in df_.index]\n",
    "    ex_df = pd.concat([ex_df, df_])"
   ]
  },
  {
   "cell_type": "code",
   "execution_count": null,
   "id": "c116d7e6",
   "metadata": {},
   "outputs": [],
   "source": [
    "def catplot(data, x, y, hue, col=None, ax=None):\n",
    "    sns.set_theme(style=\"whitegrid\")\n",
    "\n",
    "    # Draw a pointplot to show pulse as a function of three categorical factors\n",
    "    g = sns.catplot(\n",
    "        data=data, x=x, y=y, hue=hue, col=col,\n",
    "        capsize=.2,  # errorbar=\"se\",\n",
    "        kind=\"point\", height=6, aspect=.75, ax=ax)\n",
    "    g.despine(left=True);"
   ]
  },
  {
   "cell_type": "code",
   "execution_count": null,
   "id": "7d4f026e",
   "metadata": {},
   "outputs": [],
   "source": [
    "def pointplot(data, x, y, hue,  ax=None):\n",
    "    sns.set_theme(style=\"whitegrid\")\n",
    "\n",
    "    g = sns.pointplot(\n",
    "        data=data, x=x, y=y, hue=hue,\n",
    "        capsize=.2,  # errorbar=\"se\",\n",
    "        ax=ax);"
   ]
  },
  {
   "cell_type": "code",
   "execution_count": null,
   "id": "b1fa4ce8",
   "metadata": {},
   "outputs": [],
   "source": [
    "fig, axes = plt.subplots(2, 2, figsize=(15, 10))\n",
    "fig.suptitle('corr len')\n",
    "\n",
    "pointplot(ex_df.loc['LM'], x=\"task\", y=\"metric\", hue=\"index\", ax=axes[0, 0])\n",
    "pointplot(ex_df.loc['syntactic'], x=\"task\", y=\"metric\", hue=\"index\", ax=axes[0, 1])\n",
    "pointplot(ex_df.loc['lexical'], x=\"task\", y=\"metric\", hue=\"index\", ax=axes[1, 0])\n",
    "pointplot(ex_df.loc['graph'], x=\"task\", y=\"metric\", hue=\"index\", ax=axes[1, 1])\n",
    "\n",
    "# for ax, col in zip(axes[0], ('total', 'positive', 'negative')):\n",
    "#     ax.set_title(col)\n",
    "\n",
    "# for ax, row in zip(axes[:,0], ('NAP', 'Dep', 'HC')):\n",
    "#     ax.set_ylabel(row, rotation=0, size='large')"
   ]
  },
  {
   "cell_type": "code",
   "execution_count": null,
   "id": "692326b8",
   "metadata": {},
   "outputs": [],
   "source": [
    "catplot(ex_df, x=\"task\", y=\"metric\", hue=\"index\", col=\"type\")"
   ]
  },
  {
   "cell_type": "markdown",
   "id": "2817f76d",
   "metadata": {},
   "source": [
    "## Corr corrected for length"
   ]
  },
  {
   "cell_type": "code",
   "execution_count": null,
   "id": "0203fc10",
   "metadata": {},
   "outputs": [],
   "source": [
    "compute_coefficient(chair, ('target', 'panss_total'), ('syntactic', 'mean_sent_len'),\n",
    "                    column_names=['sent len'], target_name='panss', add_sq=False)[0]"
   ]
  },
  {
   "cell_type": "code",
   "execution_count": null,
   "id": "9a2db66e",
   "metadata": {},
   "outputs": [],
   "source": [
    "compute_coefficient(chair, ('target', 'panss_total'), ('syntactic', 'AUX'),\n",
    "                    column_names=['sent len'], target_name='panss', add_sq=False)[0]"
   ]
  },
  {
   "cell_type": "code",
   "execution_count": null,
   "id": "fab16740",
   "metadata": {},
   "outputs": [],
   "source": [
    "compute_ortogonolized_coefficient(chair, ('target', 'panss_total'), ('syntactic', 'mean_sent_len'), ('syntactic', 'AUX'),\n",
    "                                  column_names=['sent len'], target_name='panss', add_sq=False)[0]"
   ]
  },
  {
   "cell_type": "code",
   "execution_count": null,
   "id": "71c09737",
   "metadata": {},
   "outputs": [],
   "source": [
    "scale_cols = [('target', x) for x in ['panss_pos', 'panss_neg', 'panss_o', 'panss_total']]"
   ]
  },
  {
   "cell_type": "markdown",
   "id": "49711fc2",
   "metadata": {},
   "source": [
    "#### compare"
   ]
  },
  {
   "cell_type": "code",
   "execution_count": null,
   "id": "37eb30ba",
   "metadata": {},
   "outputs": [],
   "source": [
    "test_two_groups = ('sz', 'control_psy')\n",
    "groups = merge_df[merge_df[('target', 'target', 'diagnosis.type')].isin(test_two_groups)]\n",
    "chair_group = task_data(groups, 'chair')\n",
    "chair_group[('target', 'group')] = chair_group[('target', 'diagnosis.type')].apply(lambda x: 0 if x =='control_psy' else 1)\n"
   ]
  },
  {
   "cell_type": "code",
   "execution_count": null,
   "id": "4145a7ec",
   "metadata": {},
   "outputs": [],
   "source": [
    "a = 0.001\n",
    "s_t, res_t = display_group_test(chair_group, cols_tasks, ('target', 'diagnosis.type'), stats.ttest_ind, stat_name='t', alpha=a)"
   ]
  },
  {
   "cell_type": "code",
   "execution_count": null,
   "id": "1fb607c1",
   "metadata": {},
   "outputs": [],
   "source": [
    "s_panss, r_panss = display_test(chair, cols_tasks, ('target','panss_total'), stats.pearsonr, stat_name='r', alpha=a)\n",
    "s_panss_pos, r_panss_pos = display_test(chair, cols_tasks, ('target', 'panss_pos'), stats.pearsonr, stat_name='r', alpha=a)\n",
    "s_panss_neg, r_panss_neg = display_test(chair, cols_tasks, ('target','panss_neg'), stats.pearsonr, stat_name='r', alpha=a)\n",
    "s_panss_o, r_panss_o = display_test(chair, cols_tasks, ('target', 'panss_o'), stats.pearsonr, stat_name='r', alpha=a)\n",
    "combined_corr = pd.concat([res_t, r_panss, r_panss_pos, r_panss_neg, r_panss_o], \n",
    "                     keys= ['t_test'] + [s[1] for s in scale_cols], \n",
    "                     names=[\"scale\"], axis=1)"
   ]
  },
  {
   "cell_type": "code",
   "execution_count": null,
   "id": "29430ce6",
   "metadata": {},
   "outputs": [],
   "source": [
    "combined_corr[('mean', 'abs_r')] = combined_corr[[(scale[1], 'abs_r') for scale in scale_cols]].mean(axis=1)\n",
    "mean_abs_r = combined_corr.pop(('mean', 'abs_r'))\n",
    "combined_corr.insert(0, ('mean', 'abs_r'), mean_abs_r) "
   ]
  },
  {
   "cell_type": "code",
   "execution_count": null,
   "id": "0e89a2c2",
   "metadata": {},
   "outputs": [],
   "source": [
    "# combined_corr[[(scale, 'abs_r') for scale in [\"saps34\", \"sans12\", \"panss\", \"panss_pos\", \"panss_neg\", \"panss_o\"]]].mean(axis=1)\n",
    "t_p_n_rank = pd.concat([combined_corr[('t_test', 'abs_t')].rank(ascending=False)] + [combined_corr[(scale, 'abs_r')].rank(ascending=False) for scale in ['panss_pos', 'panss_neg']], axis=1).mean(axis=1)\n",
    "mean_rank = pd.concat([combined_corr[(scale[1], 'abs_r')].rank(ascending=False) for scale in scale_cols], axis=1).mean(axis=1)\n",
    "combined_corr.insert(1, ('mean', 'rank'), mean_rank) \n",
    "combined_corr.insert(2, ('mean', 'rank_abs'), mean_rank.rank()) \n",
    "combined_corr.insert(1, ('mean', 'tpn_rank'), t_p_n_rank) \n",
    "combined_corr.insert(2, ('mean', 'tpn_rank_abs'), t_p_n_rank.rank()) \n",
    "\n",
    "style(combined_corr.sort_values(('mean', 'rank'))[['mean', 't_test']])"
   ]
  },
  {
   "cell_type": "code",
   "execution_count": null,
   "id": "dfba843e",
   "metadata": {},
   "outputs": [],
   "source": [
    "cols_dict = {}\n",
    "for col in cols_tasks:\n",
    "    cols_dict[col[1]] = compute_ortogonolized_coefficient(chair, ('target', 'panss_total'), ('syntactic', 'mean_sent_len'), col)[0]\n",
    "combined_corr.insert(1, ('panss', 'r_corrected_for_mean_len'), pd.Series(cols_dict)) "
   ]
  },
  {
   "cell_type": "code",
   "execution_count": null,
   "id": "6c84259c",
   "metadata": {},
   "outputs": [],
   "source": [
    "cols_dict = {}\n",
    "for col in cols_tasks:\n",
    "    cols_dict[col[1]] = compute_ortogonolized_coefficient(chair, ('target', 'panss_pos'), ('syntactic', 'mean_sent_len'), col)[0]\n",
    "combined_corr.insert(1, ('panss_pos', 'r_corrected_for_mean_len'), pd.Series(cols_dict)) "
   ]
  },
  {
   "cell_type": "code",
   "execution_count": null,
   "id": "4f4ba5eb",
   "metadata": {},
   "outputs": [],
   "source": [
    "cols_dict = {}\n",
    "for col in cols_tasks:\n",
    "    cols_dict[col[1]] = compute_ortogonolized_coefficient(chair, ('target', 'panss_neg'), ('syntactic', 'mean_sent_len'), col)[0]\n",
    "combined_corr.insert(1, ('panss_neg', 'r_corrected_for_mean_len'), pd.Series(cols_dict)) "
   ]
  },
  {
   "cell_type": "code",
   "execution_count": null,
   "id": "a93ead0d",
   "metadata": {},
   "outputs": [],
   "source": [
    "cols_dict = {}\n",
    "for col in cols_tasks:\n",
    "    cols_dict[col[1]] = compute_ortogonolized_logit(chair_group, ('target', 'group'), ('syntactic', 'mean_sent_len'), col)\n",
    "combined_corr.insert(1, ('t_test', 'r_corrected_for_mean_len'), pd.Series(cols_dict)) "
   ]
  },
  {
   "cell_type": "code",
   "execution_count": null,
   "id": "f022df20",
   "metadata": {},
   "outputs": [],
   "source": [
    "t_p_n_corr_rank = pd.concat([combined_corr[('t_test', 'abs_t')].rank(ascending=False)] + [combined_corr[(scale, 'r_corrected_for_mean_len')].rank(ascending=False) for scale in ['panss_pos', 'panss_neg']], axis=1).mean(axis=1)\n",
    "combined_corr.insert(1, ('mean', 'tpn_rank_corr'), t_p_n_corr_rank) \n",
    "combined_corr.insert(2, ('mean', 'tpn_rank_corr_abs'), t_p_n_corr_rank.rank()) "
   ]
  },
  {
   "cell_type": "code",
   "execution_count": null,
   "id": "537b2580",
   "metadata": {},
   "outputs": [],
   "source": [
    "# combined_corr.sort_values(('mean', 'tpn_rank_corr'), ascending=True).apply(pd.to_numeric).style.background_gradient(axis=0, cmap='Reds')"
   ]
  },
  {
   "cell_type": "markdown",
   "id": "8e869a26",
   "metadata": {},
   "source": [
    "## bootstrap"
   ]
  },
  {
   "cell_type": "code",
   "execution_count": null,
   "id": "be091a2f",
   "metadata": {},
   "outputs": [],
   "source": [
    "def draw_sample_with_replacement(df, seed=None):\n",
    "    if seed:\n",
    "        random.seed(seed)\n",
    "    length = len(df.index)\n",
    "    idxs = choices(range(length), k=length)\n",
    "    return df.iloc[idxs, :]"
   ]
  },
  {
   "cell_type": "markdown",
   "id": "4a1f98f0",
   "metadata": {},
   "source": [
    "dict_scales_sapmles = {scale[1]: {metric: [] for metric in cols_tasks} for scale in scale_cols}\n",
    "dict_scales_raws = {scale[1]: {metric: [] for metric in cols_tasks} for scale in scale_cols}\n",
    "for i in tqdm(range(1000)):\n",
    "    sample = draw_sample_with_replacement(chair, seed=i)\n",
    "    for scale in scale_cols:\n",
    "        for col in cols_tasks:\n",
    "            if col != ('syntactic', 'mean_sent_len'):\n",
    "                r_corr = compute_ortogonolized_coefficient(sample, scale, ('syntactic', 'mean_sent_len'), col)[0]\n",
    "                r_raw = compute_coefficient(sample, scale, col)[0]\n",
    "                dict_scales_raws[scale[1]][col].append(r_raw)\n",
    "                dict_scales_sapmles[scale[1]][col].append(r_corr)\n",
    "            else:\n",
    "                dict_scales_sapmles[scale[1]][col].append(np.nan)"
   ]
  },
  {
   "cell_type": "markdown",
   "id": "e79d15d3",
   "metadata": {},
   "source": [
    "sample_df = pd.DataFrame()\n",
    "for scale in scale_cols:\n",
    "    scale = scale[1]\n",
    "    scale_metric_sd = {}\n",
    "    scale_metric_md = {}\n",
    "    scale_metric_mn = {}\n",
    "    scale_metric_cov = {}\n",
    "    scale_metric_diff = {}\n",
    "    scale_metric_q25 = {}\n",
    "    scale_metric_q75 = {}\n",
    "    for col in cols_tasks:\n",
    "        if col != ('syntactic', 'mean_sent_len'):\n",
    "            scale_metric_sd[col] = np.std(dict_scales_sapmles[scale][col])\n",
    "            scale_metric_md[col] = np.median(dict_scales_sapmles[scale][col])\n",
    "            scale_metric_mn[col] = np.mean(dict_scales_sapmles[scale][col])\n",
    "            scale_metric_q25[col] = np.quantile(dict_scales_sapmles[scale][col], 0.25)\n",
    "            scale_metric_q75[col] = np.quantile(dict_scales_sapmles[scale][col], 0.75)\n",
    "            scale_metric_cov[col] = np.std(dict_scales_sapmles[scale][col]) / np.mean(dict_scales_sapmles[scale][col])\n",
    "            scale_metric_diff[col] = np.mean(dict_scales_sapmles[scale][col]) / np.mean(dict_scales_raws[scale][col])\n",
    "            \n",
    "    sample_df[(scale, 'md')] = pd.Series(scale_metric_md)\n",
    "    sample_df[(scale, 'mn')] = pd.Series(scale_metric_mn)\n",
    "    sample_df[(scale, 'sd')] = pd.Series(scale_metric_sd)\n",
    "    sample_df[(scale, 'cov')] = pd.Series(scale_metric_cov)\n",
    "    sample_df[(scale, 'dif')] = pd.Series(scale_metric_diff)\n",
    "    sample_df[(scale, 'q25')] = pd.Series(scale_metric_q25)\n",
    "    sample_df[(scale, 'q75')] = pd.Series(scale_metric_q75)"
   ]
  },
  {
   "cell_type": "markdown",
   "id": "77ea8c1f",
   "metadata": {},
   "source": [
    "sample_df.columns = pd.MultiIndex.from_tuples(sample_df.columns, names=('scale', 'res'))\n",
    "style(sample_df)"
   ]
  },
  {
   "cell_type": "code",
   "execution_count": null,
   "id": "c82e1be7",
   "metadata": {},
   "outputs": [],
   "source": [
    "def t_test(df, column, target_column, test=stats.ttest_ind, nan_policy='omit', stat_name='x', alpha=0.05,\n",
    "           group_names=None):\n",
    "    if group_names is None:\n",
    "        group_names = df[target_column].dropna().unique().tolist()\n",
    "        assert len(group_names) == 2, 'only two group tests are supported'\n",
    "\n",
    "    r, p = test(df[df[target_column] == group_names[1]][column],\n",
    "                df[df[target_column] == group_names[0]][column], nan_policy=nan_policy)\n",
    "    return r"
   ]
  },
  {
   "cell_type": "code",
   "execution_count": null,
   "id": "880d92bd",
   "metadata": {},
   "outputs": [],
   "source": [
    "def bootstrap(df, cols_av, scale_cols, N, col_to_correct_for=('syntactic', 'mean_sent_len'), group=None):\n",
    "    dict_scales_sapmles = {k: {scale: {metric: [] for metric in cols_av} for scale in scale_cols} \\\n",
    "                           for k in ('sample_corr', 'sample_raw', 'r', 't', 'r_control')}\n",
    "    for i in tqdm(range(N)):\n",
    "        sample = draw_sample_with_replacement(df, seed=i)\n",
    "        for scale in scale_cols:\n",
    "            for col in cols_av:\n",
    "                if group:\n",
    "                    t_test_res = ttest_select(sample, ('sz', 'control_psy'), group)\n",
    "#                     t_test(sample, col, group)\n",
    "                    dict_scales_sapmles['t'][scale][col].append(t_test_res)\n",
    "                    \n",
    "                r_raw = compute_coefficient(sample, scale, col)[0]\n",
    "                dict_scales_sapmles['sample_raw'][scale][col].append(r_raw)\n",
    "                \n",
    "                droped = sample.dropna(subset=[col, scale])\n",
    "                r = stats.pearsonr(droped[col], droped[scale])\n",
    "                dict_scales_sapmles['r'][scale][col].append(r)\n",
    "                \n",
    "                if col != col_to_correct_for:\n",
    "                    \n",
    "                    droped_c = sample.dropna(subset=[col, col_to_correct_for])\n",
    "                    r_c = stats.pearsonr(droped_c[col], droped_c[col_to_correct_for])\n",
    "                    dict_scales_sapmles['r_control'][scale][col].append(r_c)\n",
    "                    \n",
    "                    r_corr = compute_ortogonolized_coefficient(sample, scale, col_to_correct_for, col)[0]\n",
    "                    dict_scales_sapmles['sample_corr'][scale][col].append(r_corr)\n",
    "\n",
    "    return dict_scales_sapmles"
   ]
  },
  {
   "cell_type": "code",
   "execution_count": null,
   "id": "4fb59cff",
   "metadata": {},
   "outputs": [],
   "source": [
    "dict_scales_sapmles = bootstrap(chair, cols_tasks, scale_cols, 10, col_to_correct_for=('syntactic', 'mean_sent_len'), group='diagnosis.type')"
   ]
  },
  {
   "cell_type": "code",
   "execution_count": null,
   "id": "bc659b51",
   "metadata": {},
   "outputs": [],
   "source": [
    "reform = {(scale[1], measure): dict_scales_sapmles[measure][scale] for scale in scale_cols for measure in dict_scales_sapmles}"
   ]
  },
  {
   "cell_type": "code",
   "execution_count": null,
   "id": "6eb31216",
   "metadata": {},
   "outputs": [],
   "source": [
    "median_bootstrap = pd.DataFrame(reform).applymap(np.nanmedian)"
   ]
  },
  {
   "cell_type": "code",
   "execution_count": null,
   "id": "f9f4e6d3",
   "metadata": {},
   "outputs": [],
   "source": [
    "median_bootstrap.loc['LM', 'panss_pos']"
   ]
  },
  {
   "cell_type": "code",
   "execution_count": null,
   "id": "01686422",
   "metadata": {},
   "outputs": [],
   "source": [
    "d = aplly_to_all_tasks(merge_df, bootstrap, cols_av=cols_tasks, scale_cols=scale_cols, N=10, col_to_correct_for=('syntactic', 'mean_sent_len'), group='diagnosis.type')\n"
   ]
  },
  {
   "cell_type": "code",
   "execution_count": null,
   "id": "83b701b8",
   "metadata": {},
   "outputs": [],
   "source": [
    "d"
   ]
  }
 ],
 "metadata": {
  "kernelspec": {
   "display_name": "Python 3 (ipykernel)",
   "language": "python",
   "name": "python3"
  },
  "language_info": {
   "codemirror_mode": {
    "name": "ipython",
    "version": 3
   },
   "file_extension": ".py",
   "mimetype": "text/x-python",
   "name": "python",
   "nbconvert_exporter": "python",
   "pygments_lexer": "ipython3",
   "version": "3.9.7"
  }
 },
 "nbformat": 4,
 "nbformat_minor": 5
}
