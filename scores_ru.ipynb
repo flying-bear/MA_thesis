{
 "cells": [
  {
   "cell_type": "markdown",
   "id": "fedf44c3",
   "metadata": {},
   "source": [
    "# Imports & Constants"
   ]
  },
  {
   "cell_type": "code",
   "execution_count": 1,
   "id": "667c7e5a",
   "metadata": {},
   "outputs": [],
   "source": [
    "%load_ext autoreload"
   ]
  },
  {
   "cell_type": "code",
   "execution_count": 2,
   "id": "881e10a3",
   "metadata": {},
   "outputs": [],
   "source": [
    "%autoreload 2"
   ]
  },
  {
   "cell_type": "code",
   "execution_count": 3,
   "id": "b7e78c14",
   "metadata": {},
   "outputs": [],
   "source": [
    "import matplotlib.pyplot as plt\n",
    "import numpy as np\n",
    "import pandas as pd\n",
    "import random\n",
    "import seaborn as sns\n",
    "import statsmodels.api as sm\n",
    "\n",
    "from scipy import stats\n",
    "from matplotlib.colors import ListedColormap"
   ]
  },
  {
   "cell_type": "code",
   "execution_count": 4,
   "id": "da2e19ff",
   "metadata": {},
   "outputs": [],
   "source": [
    "from jupyter_utils import style, mean_std, display_test, display_group_test, show_corrtest_mask_corr"
   ]
  },
  {
   "cell_type": "code",
   "execution_count": 5,
   "id": "f5d53fa3",
   "metadata": {},
   "outputs": [],
   "source": [
    "import warnings\n",
    "warnings.filterwarnings(action='ignore', category=np.VisibleDeprecationWarning)\n",
    "warnings.filterwarnings(action='ignore', message='All-NaN slice encountered')\n",
    "warnings.filterwarnings(action='ignore', message='Precision loss occurred in moment calculation due to catastrophic cancellation. This occurs when the data are nearly identical. Results may be unreliable.')"
   ]
  },
  {
   "cell_type": "code",
   "execution_count": 6,
   "id": "ba81bf6e",
   "metadata": {},
   "outputs": [],
   "source": [
    "sns.set_theme(style=\"whitegrid\")"
   ]
  },
  {
   "cell_type": "code",
   "execution_count": 7,
   "id": "1d855a12",
   "metadata": {},
   "outputs": [],
   "source": [
    "PATH = '/Users/galina.ryazanskaya/Downloads/thesis?/code?/'"
   ]
  },
  {
   "cell_type": "code",
   "execution_count": 8,
   "id": "0ea65df2",
   "metadata": {},
   "outputs": [],
   "source": [
    "PATH_FIG = '/Users/galina.ryazanskaya/Downloads/thesis?/figures/ru/'"
   ]
  },
  {
   "cell_type": "markdown",
   "id": "ffe9d8b7",
   "metadata": {},
   "source": [
    "# Load and merge resulting metrics with psychosocial data"
   ]
  },
  {
   "cell_type": "code",
   "execution_count": 9,
   "id": "0eb7dc65",
   "metadata": {},
   "outputs": [],
   "source": [
    "df = pd.read_csv(PATH +'rus_merged_psychosocial_data.csv', index_col=0)\n",
    "df = df[df.index.notnull()]\n",
    "df.rename(columns={'dep.severity-1': 'dep.severity',\n",
    "                  'HDRS-17.score-1': 'HDRS-17',\n",
    "                   'panss-1-td': 'panss_td',\n",
    "                   'panss-1-total': 'panss_total', \n",
    "                   'panss-n-1-total': 'panss_neg', \n",
    "                   'panss-o-1-total': 'panss_o',\n",
    "                   'panss-p-1-total': 'panss_pos', \n",
    "                   'sans-1-total': 'sans',\n",
    "                   'saps-ftd-1-total': 'saps_ftd', \n",
    "                   'sops-1-total': 'sops_total', \n",
    "                   'sops-c-total': 'sops_c',\n",
    "                   'sops-d-total': 'sops_d', \n",
    "                   'sops-n-total': 'sops_n', \n",
    "                   'sops-p-total': 'sops_p'\n",
    "                  }, inplace=True)\n",
    "df['index'] = df.index\n",
    "df.drop_duplicates(inplace=True, subset='index')\n",
    "df.drop(columns=['index'], inplace=True)"
   ]
  },
  {
   "cell_type": "code",
   "execution_count": 10,
   "id": "9e9d3cec",
   "metadata": {},
   "outputs": [],
   "source": [
    "res_df = pd.read_csv(PATH + 'processed_values/ru_both.tsv', sep='\\t', index_col=0, header=[0, 1, 2])"
   ]
  },
  {
   "cell_type": "markdown",
   "id": "3e8d59a3",
   "metadata": {},
   "source": [
    "### Filter out only the patients there are assesment scores for"
   ]
  },
  {
   "cell_type": "code",
   "execution_count": 11,
   "id": "dd9ed3b8",
   "metadata": {},
   "outputs": [
    {
     "data": {
      "text/plain": [
       "{'PN005', 'PN006', 'PN012', 'PN014', 'PN019', 'PN238', 'PN327'}"
      ]
     },
     "execution_count": 11,
     "metadata": {},
     "output_type": "execute_result"
    }
   ],
   "source": [
    "# find datapoints missing psychiatric assessment to drop them\n",
    "dfi = [i.replace('-', '').replace('S', 'PD1') for i in df.index]\n",
    "df.index = dfi\n",
    "\n",
    "rdfi = [i.split('_')[0].replace('S', 'PD1') for i in res_df.index]\n",
    "\n",
    "missing_psy = set(rdfi).difference(set(dfi))\n",
    "missing_psy"
   ]
  },
  {
   "cell_type": "code",
   "execution_count": 12,
   "id": "78aa3063",
   "metadata": {},
   "outputs": [],
   "source": [
    "missing_psy = [i for i in res_df.index if i.split('_')[0] in missing_psy]\n",
    "res_df.drop(missing_psy, inplace=True)"
   ]
  },
  {
   "cell_type": "code",
   "execution_count": 13,
   "id": "d9925a91",
   "metadata": {},
   "outputs": [],
   "source": [
    "missing_text = set(dfi).difference(set(rdfi))\n",
    "assert not missing_text"
   ]
  },
  {
   "cell_type": "code",
   "execution_count": 14,
   "id": "596ee9be",
   "metadata": {},
   "outputs": [],
   "source": [
    "non_start_timepoint = [i for i in res_df.index if i.split('_')[-1] != '1']\n",
    "res_df.drop(non_start_timepoint, inplace=True)"
   ]
  },
  {
   "cell_type": "code",
   "execution_count": 15,
   "id": "48e09fe4",
   "metadata": {},
   "outputs": [],
   "source": [
    "rdfi_filtered = [i.split('_')[0].replace('S', 'PD1') for i in res_df.index]\n",
    "res_df.index = rdfi_filtered"
   ]
  },
  {
   "cell_type": "markdown",
   "id": "4d5b04a4",
   "metadata": {},
   "source": [
    "## Explore task availability"
   ]
  },
  {
   "cell_type": "code",
   "execution_count": 16,
   "id": "088a3bed",
   "metadata": {},
   "outputs": [],
   "source": [
    "raw = pd.read_csv(PATH+'rus_transcript_lex_by_task_with_dots.tsv', sep='\\t', index_col=0)"
   ]
  },
  {
   "cell_type": "code",
   "execution_count": 17,
   "id": "823d9218",
   "metadata": {},
   "outputs": [],
   "source": [
    "ids_to_drop = [i for i in raw.index if i.split('_')[0] not in res_df.index]"
   ]
  },
  {
   "cell_type": "code",
   "execution_count": 18,
   "id": "d032a9c0",
   "metadata": {},
   "outputs": [],
   "source": [
    "raw.drop(index=ids_to_drop, inplace=True)"
   ]
  },
  {
   "cell_type": "code",
   "execution_count": 19,
   "id": "d753f43b",
   "metadata": {},
   "outputs": [],
   "source": [
    "raw.index = [i.split('_')[0] for i in raw.index]"
   ]
  },
  {
   "cell_type": "code",
   "execution_count": 20,
   "id": "1fff62cd",
   "metadata": {},
   "outputs": [],
   "source": [
    "task_available = raw.applymap(lambda x: 1 if not pd.isna(x) else x)"
   ]
  },
  {
   "cell_type": "code",
   "execution_count": 21,
   "id": "3275ef10",
   "metadata": {},
   "outputs": [],
   "source": [
    "task_available['diagnosis.type'] = df['diagnosis.type']"
   ]
  },
  {
   "cell_type": "code",
   "execution_count": 22,
   "id": "81e5a6b1",
   "metadata": {},
   "outputs": [
    {
     "data": {
      "text/plain": [
       "adventure         99\n",
       "bench             28\n",
       "chair             75\n",
       "party             35\n",
       "present           81\n",
       "sportsman         96\n",
       "table             30\n",
       "trip              40\n",
       "winterday         40\n",
       "diagnosis.type    49\n",
       "dtype: int64"
      ]
     },
     "execution_count": 22,
     "metadata": {},
     "output_type": "execute_result"
    }
   ],
   "source": [
    "task_available.count()"
   ]
  },
  {
   "cell_type": "code",
   "execution_count": 23,
   "id": "d7aa7079",
   "metadata": {},
   "outputs": [
    {
     "data": {
      "text/html": [
       "<div>\n",
       "<style scoped>\n",
       "    .dataframe tbody tr th:only-of-type {\n",
       "        vertical-align: middle;\n",
       "    }\n",
       "\n",
       "    .dataframe tbody tr th {\n",
       "        vertical-align: top;\n",
       "    }\n",
       "\n",
       "    .dataframe thead th {\n",
       "        text-align: right;\n",
       "    }\n",
       "</style>\n",
       "<table border=\"1\" class=\"dataframe\">\n",
       "  <thead>\n",
       "    <tr style=\"text-align: right;\">\n",
       "      <th></th>\n",
       "      <th>adventure</th>\n",
       "      <th>bench</th>\n",
       "      <th>chair</th>\n",
       "      <th>party</th>\n",
       "      <th>present</th>\n",
       "      <th>sportsman</th>\n",
       "      <th>table</th>\n",
       "      <th>trip</th>\n",
       "      <th>winterday</th>\n",
       "    </tr>\n",
       "    <tr>\n",
       "      <th>diagnosis.type</th>\n",
       "      <th></th>\n",
       "      <th></th>\n",
       "      <th></th>\n",
       "      <th></th>\n",
       "      <th></th>\n",
       "      <th></th>\n",
       "      <th></th>\n",
       "      <th></th>\n",
       "      <th></th>\n",
       "    </tr>\n",
       "  </thead>\n",
       "  <tbody>\n",
       "    <tr>\n",
       "      <th>dep</th>\n",
       "      <td>14</td>\n",
       "      <td>0</td>\n",
       "      <td>14</td>\n",
       "      <td>0</td>\n",
       "      <td>13</td>\n",
       "      <td>14</td>\n",
       "      <td>0</td>\n",
       "      <td>0</td>\n",
       "      <td>0</td>\n",
       "    </tr>\n",
       "    <tr>\n",
       "      <th>sz</th>\n",
       "      <td>30</td>\n",
       "      <td>0</td>\n",
       "      <td>17</td>\n",
       "      <td>0</td>\n",
       "      <td>21</td>\n",
       "      <td>28</td>\n",
       "      <td>0</td>\n",
       "      <td>1</td>\n",
       "      <td>0</td>\n",
       "    </tr>\n",
       "  </tbody>\n",
       "</table>\n",
       "</div>"
      ],
      "text/plain": [
       "                adventure  bench  chair  party  present  sportsman  table  \\\n",
       "diagnosis.type                                                              \n",
       "dep                    14      0     14      0       13         14      0   \n",
       "sz                     30      0     17      0       21         28      0   \n",
       "\n",
       "                trip  winterday  \n",
       "diagnosis.type                   \n",
       "dep                0          0  \n",
       "sz                 1          0  "
      ]
     },
     "execution_count": 23,
     "metadata": {},
     "output_type": "execute_result"
    }
   ],
   "source": [
    "task_available.groupby('diagnosis.type').count()"
   ]
  },
  {
   "cell_type": "code",
   "execution_count": 24,
   "id": "a19db318",
   "metadata": {},
   "outputs": [
    {
     "data": {
      "text/html": [
       "<div>\n",
       "<style scoped>\n",
       "    .dataframe tbody tr th:only-of-type {\n",
       "        vertical-align: middle;\n",
       "    }\n",
       "\n",
       "    .dataframe tbody tr th {\n",
       "        vertical-align: top;\n",
       "    }\n",
       "\n",
       "    .dataframe thead th {\n",
       "        text-align: right;\n",
       "    }\n",
       "</style>\n",
       "<table border=\"1\" class=\"dataframe\">\n",
       "  <thead>\n",
       "    <tr style=\"text-align: right;\">\n",
       "      <th></th>\n",
       "      <th>adventure</th>\n",
       "      <th>chair</th>\n",
       "      <th>present</th>\n",
       "      <th>sportsman</th>\n",
       "    </tr>\n",
       "    <tr>\n",
       "      <th>diagnosis.type</th>\n",
       "      <th></th>\n",
       "      <th></th>\n",
       "      <th></th>\n",
       "      <th></th>\n",
       "    </tr>\n",
       "  </thead>\n",
       "  <tbody>\n",
       "    <tr>\n",
       "      <th>dep</th>\n",
       "      <td>14</td>\n",
       "      <td>14</td>\n",
       "      <td>13</td>\n",
       "      <td>14</td>\n",
       "    </tr>\n",
       "    <tr>\n",
       "      <th>sz</th>\n",
       "      <td>30</td>\n",
       "      <td>17</td>\n",
       "      <td>21</td>\n",
       "      <td>28</td>\n",
       "    </tr>\n",
       "  </tbody>\n",
       "</table>\n",
       "</div>"
      ],
      "text/plain": [
       "                adventure  chair  present  sportsman\n",
       "diagnosis.type                                      \n",
       "dep                    14     14       13         14\n",
       "sz                     30     17       21         28"
      ]
     },
     "execution_count": 24,
     "metadata": {},
     "output_type": "execute_result"
    }
   ],
   "source": [
    "task_available.groupby('diagnosis.type').count()[task_available.groupby('diagnosis.type').count() > 0].dropna(axis=1)"
   ]
  },
  {
   "cell_type": "code",
   "execution_count": 25,
   "id": "d8ec97ad",
   "metadata": {},
   "outputs": [],
   "source": [
    "TASKS = ['adventure', 'chair', 'present', 'sportsman']"
   ]
  },
  {
   "cell_type": "code",
   "execution_count": 26,
   "id": "26f0741f",
   "metadata": {},
   "outputs": [],
   "source": [
    "def drop_person(row):\n",
    "    for task in TASKS:\n",
    "        if not pd.isna(row[task]):\n",
    "            return False\n",
    "    return True"
   ]
  },
  {
   "cell_type": "code",
   "execution_count": 27,
   "id": "110d15df",
   "metadata": {},
   "outputs": [],
   "source": [
    "ids_with_at_least_one_task = task_available[~task_available.apply(drop_person, axis=1)].index"
   ]
  },
  {
   "cell_type": "code",
   "execution_count": 28,
   "id": "f7ee90b9",
   "metadata": {},
   "outputs": [],
   "source": [
    "df = df.loc[ids_with_at_least_one_task]"
   ]
  },
  {
   "cell_type": "code",
   "execution_count": 29,
   "id": "3b98a597",
   "metadata": {},
   "outputs": [],
   "source": [
    "res_df = res_df.loc[ids_with_at_least_one_task, TASKS]"
   ]
  },
  {
   "cell_type": "code",
   "execution_count": 30,
   "id": "87c19d9e",
   "metadata": {},
   "outputs": [],
   "source": [
    "def task_data(df, task, keep_target=True, fill_synt=True):\n",
    "    subset = df[task].dropna(axis=0, how='all')\n",
    "    if fill_synt:\n",
    "        subset['syntactic'] = subset['syntactic'].fillna(0.0)   # fills NAs in missing POS\n",
    "    if keep_target:\n",
    "        subset = pd.concat([subset, df['target'].loc[subset.index]], axis=1)\n",
    "    return subset"
   ]
  },
  {
   "cell_type": "code",
   "execution_count": 31,
   "id": "36ec4111",
   "metadata": {},
   "outputs": [],
   "source": [
    "def aplly_to_all_tasks(df, f, tasks=TASKS, to_df=True, *args, **kwargs):\n",
    "    res = {}\n",
    "    for task in tasks:\n",
    "        data = task_data(df, task)\n",
    "        res[task] = f(data, *args, **kwargs)\n",
    "    if to_df:\n",
    "        if all(isinstance(v, pd.Series) for v in res.values()):\n",
    "            return pd.DataFrame(res)\n",
    "        elif all(isinstance(v, pd.DataFrame) for v in res.values()):\n",
    "            return pd.concat(list(res.values()), keys=list(res.keys()), names=['task'], axis=1)\n",
    "        else:\n",
    "            return res\n",
    "    return res"
   ]
  },
  {
   "cell_type": "markdown",
   "id": "738e6d72",
   "metadata": {},
   "source": [
    "### Analyze task lengths"
   ]
  },
  {
   "cell_type": "code",
   "execution_count": 32,
   "id": "4a173366",
   "metadata": {},
   "outputs": [],
   "source": [
    "compare_task_lens_df = pd.DataFrame(columns=TASKS)"
   ]
  },
  {
   "cell_type": "code",
   "execution_count": 33,
   "id": "a38d3339",
   "metadata": {},
   "outputs": [],
   "source": [
    "compare_task_lens_df.loc['mean_sent_len'] = res_df[[(task, 'syntactic', 'mean_sent_len') for task in TASKS]].mean().droplevel([1, 2])\n",
    "compare_task_lens_df.loc['n_sents'] = res_df[[(task, 'syntactic', 'n_sents') for task in TASKS]].mean().droplevel([1, 2])\n",
    "compare_task_lens_df.loc['n_words'] =  res_df[[(task, 'lexical', 'n_words') for task in TASKS]].mean().droplevel([1, 2])"
   ]
  },
  {
   "cell_type": "code",
   "execution_count": 34,
   "id": "5931a473",
   "metadata": {},
   "outputs": [
    {
     "data": {
      "text/html": [
       "<div>\n",
       "<style scoped>\n",
       "    .dataframe tbody tr th:only-of-type {\n",
       "        vertical-align: middle;\n",
       "    }\n",
       "\n",
       "    .dataframe tbody tr th {\n",
       "        vertical-align: top;\n",
       "    }\n",
       "\n",
       "    .dataframe thead th {\n",
       "        text-align: right;\n",
       "    }\n",
       "</style>\n",
       "<table border=\"1\" class=\"dataframe\">\n",
       "  <thead>\n",
       "    <tr style=\"text-align: right;\">\n",
       "      <th></th>\n",
       "      <th>adventure</th>\n",
       "      <th>chair</th>\n",
       "      <th>present</th>\n",
       "      <th>sportsman</th>\n",
       "    </tr>\n",
       "  </thead>\n",
       "  <tbody>\n",
       "    <tr>\n",
       "      <th>mean_sent_len</th>\n",
       "      <td>6.191208</td>\n",
       "      <td>7.701607</td>\n",
       "      <td>8.790209</td>\n",
       "      <td>6.853153</td>\n",
       "    </tr>\n",
       "    <tr>\n",
       "      <th>n_sents</th>\n",
       "      <td>19.393939</td>\n",
       "      <td>18.506667</td>\n",
       "      <td>14.000000</td>\n",
       "      <td>17.635417</td>\n",
       "    </tr>\n",
       "    <tr>\n",
       "      <th>n_words</th>\n",
       "      <td>118.616162</td>\n",
       "      <td>142.000000</td>\n",
       "      <td>114.333333</td>\n",
       "      <td>114.666667</td>\n",
       "    </tr>\n",
       "  </tbody>\n",
       "</table>\n",
       "</div>"
      ],
      "text/plain": [
       "                adventure       chair     present   sportsman\n",
       "mean_sent_len    6.191208    7.701607    8.790209    6.853153\n",
       "n_sents         19.393939   18.506667   14.000000   17.635417\n",
       "n_words        118.616162  142.000000  114.333333  114.666667"
      ]
     },
     "execution_count": 34,
     "metadata": {},
     "output_type": "execute_result"
    }
   ],
   "source": [
    "compare_task_lens_df"
   ]
  },
  {
   "cell_type": "markdown",
   "id": "a5417ecc",
   "metadata": {},
   "source": [
    "# Explore descriptive statistics"
   ]
  },
  {
   "cell_type": "code",
   "execution_count": 35,
   "id": "22d105ba",
   "metadata": {},
   "outputs": [],
   "source": [
    "def fill_diagnosis_type(row):\n",
    "    dt = row['diagnosis.type']\n",
    "    if not pd.isna(dt):\n",
    "        return dt\n",
    "    else:\n",
    "        if not pd.isna(row['td.severity']):\n",
    "            return 'control_psy'\n",
    "        else:\n",
    "            return 'control'"
   ]
  },
  {
   "cell_type": "code",
   "execution_count": 36,
   "id": "796360a3",
   "metadata": {},
   "outputs": [],
   "source": [
    "df['diagnosis.type'] = df.apply(fill_diagnosis_type, axis=1)"
   ]
  },
  {
   "cell_type": "code",
   "execution_count": 37,
   "id": "c48b4871",
   "metadata": {},
   "outputs": [],
   "source": [
    "sz = df[df['diagnosis.type'] == 'sz']\n",
    "dep = df[df['diagnosis.type'] == 'dep']\n",
    "control = df[df['diagnosis.group'] == 'control']\n",
    "control_psy = df[df['diagnosis.type'] == 'control_psy']"
   ]
  },
  {
   "cell_type": "code",
   "execution_count": 38,
   "id": "6e138d42",
   "metadata": {},
   "outputs": [
    {
     "data": {
      "text/plain": [
       "control    102\n",
       "patient     49\n",
       "Name: diagnosis.group, dtype: int64"
      ]
     },
     "execution_count": 38,
     "metadata": {},
     "output_type": "execute_result"
    }
   ],
   "source": [
    "df['diagnosis.group'].value_counts()"
   ]
  },
  {
   "cell_type": "code",
   "execution_count": 39,
   "id": "dc69870c",
   "metadata": {},
   "outputs": [
    {
     "data": {
      "text/plain": [
       "control        72\n",
       "sz             31\n",
       "control_psy    30\n",
       "dep            18\n",
       "Name: diagnosis.type, dtype: int64"
      ]
     },
     "execution_count": 39,
     "metadata": {},
     "output_type": "execute_result"
    }
   ],
   "source": [
    "df['diagnosis.type'].value_counts()"
   ]
  },
  {
   "cell_type": "code",
   "execution_count": 40,
   "id": "e845abf7",
   "metadata": {},
   "outputs": [
    {
     "data": {
      "text/plain": [
       "HDRS    51\n",
       "QIDS    28\n",
       "Name: dep.scale, dtype: int64"
      ]
     },
     "execution_count": 40,
     "metadata": {},
     "output_type": "execute_result"
    }
   ],
   "source": [
    "df['dep.scale'].value_counts()"
   ]
  },
  {
   "cell_type": "code",
   "execution_count": 41,
   "id": "cb5ddc79",
   "metadata": {},
   "outputs": [
    {
     "data": {
      "text/plain": [
       "PANSS       28\n",
       "SCL-90-R    28\n",
       "SAPS        21\n",
       "Name: td.scales, dtype: int64"
      ]
     },
     "execution_count": 41,
     "metadata": {},
     "output_type": "execute_result"
    }
   ],
   "source": [
    "df['td.scales'].value_counts()"
   ]
  },
  {
   "cell_type": "code",
   "execution_count": 42,
   "id": "d0f077a6",
   "metadata": {},
   "outputs": [
    {
     "data": {
      "text/plain": [
       "diagnosis.type  diagnosis_code  diagnosis_eng                                    \n",
       "dep             F31             bipolar.affective.disorder                            6\n",
       "                F60.31          borderline.personality.disorder                       3\n",
       "                F31.4           bipolar.affective.disorder.severe                     2\n",
       "                F31.5           bipolar.affective.disorder.severe.psychotic           2\n",
       "                F33             recurrent.depressive.disorder                         2\n",
       "                F32.1           depressive.episode.moderate                           1\n",
       "                F33.3           recurrent.depressive.disorder.severe.psychotic        1\n",
       "                F60             personality.disorder                                  1\n",
       "sz              F20             schizophrenia                                        20\n",
       "                F25             schizoaffective.disorder                              8\n",
       "                F21             schizotypal.disorder                                  2\n",
       "                F21.3           schizotypal.disorder.pseudoneurotic.schizophrenia     1\n",
       "dtype: int64"
      ]
     },
     "execution_count": 42,
     "metadata": {},
     "output_type": "execute_result"
    }
   ],
   "source": [
    "df.groupby('diagnosis.type')[['diagnosis_code', 'diagnosis_eng']].value_counts()"
   ]
  },
  {
   "cell_type": "markdown",
   "id": "25675cbe",
   "metadata": {},
   "source": [
    "### Target scale interactions"
   ]
  },
  {
   "cell_type": "code",
   "execution_count": 43,
   "id": "153413ea",
   "metadata": {},
   "outputs": [],
   "source": [
    "target_cols = ['sex', 'age', 'education.years', \n",
    "               'diagnosis.group', 'diagnosis.type',\n",
    "               'dep.severity', 'td.severity']"
   ]
  },
  {
   "cell_type": "code",
   "execution_count": 44,
   "id": "fd2ee5b4",
   "metadata": {},
   "outputs": [],
   "source": [
    "panss_cols = ['panss_td', 'panss_total', 'panss_neg', 'panss_pos', 'panss_o']\n",
    "sans_cols = [col for col in df.columns if col.startswith('sans')]\n",
    "saps_cols = [col for col in df.columns if col.startswith('saps')]\n",
    "sops_cols = [col for col in df.columns if col.startswith('sops')]"
   ]
  },
  {
   "cell_type": "code",
   "execution_count": 45,
   "id": "75075fe3",
   "metadata": {},
   "outputs": [],
   "source": [
    "numeric_target = ['education.years', 'dep.severity', 'td.severity'] + panss_cols"
   ]
  },
  {
   "cell_type": "code",
   "execution_count": 46,
   "id": "79fd6244",
   "metadata": {},
   "outputs": [
    {
     "data": {
      "text/html": [
       "<style type=\"text/css\">\n",
       "#T_db465_row0_col0, #T_db465_row1_col1, #T_db465_row2_col2, #T_db465_row3_col3, #T_db465_row4_col4, #T_db465_row5_col5, #T_db465_row6_col6, #T_db465_row7_col7 {\n",
       "  background-color: #08306b;\n",
       "  color: #f1f1f1;\n",
       "}\n",
       "#T_db465_row0_col1, #T_db465_row0_col2, #T_db465_row0_col3, #T_db465_row0_col4, #T_db465_row0_col5, #T_db465_row0_col6, #T_db465_row0_col7, #T_db465_row7_col0 {\n",
       "  background-color: #f7fbff;\n",
       "  color: #000000;\n",
       "}\n",
       "#T_db465_row1_col0 {\n",
       "  background-color: #edf4fc;\n",
       "  color: #000000;\n",
       "}\n",
       "#T_db465_row1_col2 {\n",
       "  background-color: #91c3de;\n",
       "  color: #000000;\n",
       "}\n",
       "#T_db465_row1_col3 {\n",
       "  background-color: #a9cfe5;\n",
       "  color: #000000;\n",
       "}\n",
       "#T_db465_row1_col4, #T_db465_row2_col1 {\n",
       "  background-color: #6dafd7;\n",
       "  color: #f1f1f1;\n",
       "}\n",
       "#T_db465_row1_col5 {\n",
       "  background-color: #b9d6ea;\n",
       "  color: #000000;\n",
       "}\n",
       "#T_db465_row1_col6 {\n",
       "  background-color: #c7dbef;\n",
       "  color: #000000;\n",
       "}\n",
       "#T_db465_row1_col7 {\n",
       "  background-color: #2b7bba;\n",
       "  color: #f1f1f1;\n",
       "}\n",
       "#T_db465_row2_col0 {\n",
       "  background-color: #d1e2f3;\n",
       "  color: #000000;\n",
       "}\n",
       "#T_db465_row2_col3 {\n",
       "  background-color: #084387;\n",
       "  color: #f1f1f1;\n",
       "}\n",
       "#T_db465_row2_col4 {\n",
       "  background-color: #0c56a0;\n",
       "  color: #f1f1f1;\n",
       "}\n",
       "#T_db465_row2_col5 {\n",
       "  background-color: #2474b7;\n",
       "  color: #f1f1f1;\n",
       "}\n",
       "#T_db465_row2_col6 {\n",
       "  background-color: #0a539e;\n",
       "  color: #f1f1f1;\n",
       "}\n",
       "#T_db465_row2_col7 {\n",
       "  background-color: #1865ac;\n",
       "  color: #f1f1f1;\n",
       "}\n",
       "#T_db465_row3_col0 {\n",
       "  background-color: #e3eef8;\n",
       "  color: #000000;\n",
       "}\n",
       "#T_db465_row3_col1, #T_db465_row5_col1 {\n",
       "  background-color: #9cc9e1;\n",
       "  color: #000000;\n",
       "}\n",
       "#T_db465_row3_col2 {\n",
       "  background-color: #084488;\n",
       "  color: #f1f1f1;\n",
       "}\n",
       "#T_db465_row3_col4 {\n",
       "  background-color: #084c95;\n",
       "  color: #f1f1f1;\n",
       "}\n",
       "#T_db465_row3_col5 {\n",
       "  background-color: #1966ad;\n",
       "  color: #f1f1f1;\n",
       "}\n",
       "#T_db465_row3_col6 {\n",
       "  background-color: #083e81;\n",
       "  color: #f1f1f1;\n",
       "}\n",
       "#T_db465_row3_col7 {\n",
       "  background-color: #1a68ae;\n",
       "  color: #f1f1f1;\n",
       "}\n",
       "#T_db465_row4_col0 {\n",
       "  background-color: #e7f1fa;\n",
       "  color: #000000;\n",
       "}\n",
       "#T_db465_row4_col1 {\n",
       "  background-color: #68acd5;\n",
       "  color: #f1f1f1;\n",
       "}\n",
       "#T_db465_row4_col2 {\n",
       "  background-color: #105ba4;\n",
       "  color: #f1f1f1;\n",
       "}\n",
       "#T_db465_row4_col3 {\n",
       "  background-color: #084d96;\n",
       "  color: #f1f1f1;\n",
       "}\n",
       "#T_db465_row4_col5 {\n",
       "  background-color: #084285;\n",
       "  color: #f1f1f1;\n",
       "}\n",
       "#T_db465_row4_col6 {\n",
       "  background-color: #08488e;\n",
       "  color: #f1f1f1;\n",
       "}\n",
       "#T_db465_row4_col7 {\n",
       "  background-color: #08458a;\n",
       "  color: #f1f1f1;\n",
       "}\n",
       "#T_db465_row5_col0 {\n",
       "  background-color: #d5e5f4;\n",
       "  color: #000000;\n",
       "}\n",
       "#T_db465_row5_col2 {\n",
       "  background-color: #2676b8;\n",
       "  color: #f1f1f1;\n",
       "}\n",
       "#T_db465_row5_col3 {\n",
       "  background-color: #1562a9;\n",
       "  color: #f1f1f1;\n",
       "}\n",
       "#T_db465_row5_col4 {\n",
       "  background-color: #084082;\n",
       "  color: #f1f1f1;\n",
       "}\n",
       "#T_db465_row5_col6 {\n",
       "  background-color: #125da6;\n",
       "  color: #f1f1f1;\n",
       "}\n",
       "#T_db465_row5_col7 {\n",
       "  background-color: #1d6cb1;\n",
       "  color: #f1f1f1;\n",
       "}\n",
       "#T_db465_row6_col0 {\n",
       "  background-color: #dceaf6;\n",
       "  color: #000000;\n",
       "}\n",
       "#T_db465_row6_col1 {\n",
       "  background-color: #b3d3e8;\n",
       "  color: #000000;\n",
       "}\n",
       "#T_db465_row6_col2 {\n",
       "  background-color: #0b559f;\n",
       "  color: #f1f1f1;\n",
       "}\n",
       "#T_db465_row6_col3 {\n",
       "  background-color: #083d7f;\n",
       "  color: #f1f1f1;\n",
       "}\n",
       "#T_db465_row6_col4, #T_db465_row7_col4 {\n",
       "  background-color: #08478d;\n",
       "  color: #f1f1f1;\n",
       "}\n",
       "#T_db465_row6_col5 {\n",
       "  background-color: #135fa7;\n",
       "  color: #f1f1f1;\n",
       "}\n",
       "#T_db465_row6_col7 {\n",
       "  background-color: #1b69af;\n",
       "  color: #f1f1f1;\n",
       "}\n",
       "#T_db465_row7_col1 {\n",
       "  background-color: #2f7fbc;\n",
       "  color: #f1f1f1;\n",
       "}\n",
       "#T_db465_row7_col2, #T_db465_row7_col6 {\n",
       "  background-color: #2272b6;\n",
       "  color: #f1f1f1;\n",
       "}\n",
       "#T_db465_row7_col3 {\n",
       "  background-color: #1f6eb3;\n",
       "  color: #f1f1f1;\n",
       "}\n",
       "#T_db465_row7_col5 {\n",
       "  background-color: #2979b9;\n",
       "  color: #f1f1f1;\n",
       "}\n",
       "</style>\n",
       "<table id=\"T_db465\">\n",
       "  <thead>\n",
       "    <tr>\n",
       "      <th class=\"blank level0\" >&nbsp;</th>\n",
       "      <th id=\"T_db465_level0_col0\" class=\"col_heading level0 col0\" >education.years</th>\n",
       "      <th id=\"T_db465_level0_col1\" class=\"col_heading level0 col1\" >dep.severity</th>\n",
       "      <th id=\"T_db465_level0_col2\" class=\"col_heading level0 col2\" >td.severity</th>\n",
       "      <th id=\"T_db465_level0_col3\" class=\"col_heading level0 col3\" >panss_td</th>\n",
       "      <th id=\"T_db465_level0_col4\" class=\"col_heading level0 col4\" >panss_total</th>\n",
       "      <th id=\"T_db465_level0_col5\" class=\"col_heading level0 col5\" >panss_neg</th>\n",
       "      <th id=\"T_db465_level0_col6\" class=\"col_heading level0 col6\" >panss_pos</th>\n",
       "      <th id=\"T_db465_level0_col7\" class=\"col_heading level0 col7\" >panss_o</th>\n",
       "    </tr>\n",
       "  </thead>\n",
       "  <tbody>\n",
       "    <tr>\n",
       "      <th id=\"T_db465_level0_row0\" class=\"row_heading level0 row0\" >education.years</th>\n",
       "      <td id=\"T_db465_row0_col0\" class=\"data row0 col0\" >1.000000</td>\n",
       "      <td id=\"T_db465_row0_col1\" class=\"data row0 col1\" >-0.331386</td>\n",
       "      <td id=\"T_db465_row0_col2\" class=\"data row0 col2\" >-0.136782</td>\n",
       "      <td id=\"T_db465_row0_col3\" class=\"data row0 col3\" >-0.259404</td>\n",
       "      <td id=\"T_db465_row0_col4\" class=\"data row0 col4\" >-0.296650</td>\n",
       "      <td id=\"T_db465_row0_col5\" class=\"data row0 col5\" >-0.164954</td>\n",
       "      <td id=\"T_db465_row0_col6\" class=\"data row0 col6\" >-0.218234</td>\n",
       "      <td id=\"T_db465_row0_col7\" class=\"data row0 col7\" >-0.407709</td>\n",
       "    </tr>\n",
       "    <tr>\n",
       "      <th id=\"T_db465_level0_row1\" class=\"row_heading level0 row1\" >dep.severity</th>\n",
       "      <td id=\"T_db465_row1_col0\" class=\"data row1 col0\" >-0.331386</td>\n",
       "      <td id=\"T_db465_row1_col1\" class=\"data row1 col1\" >1.000000</td>\n",
       "      <td id=\"T_db465_row1_col2\" class=\"data row1 col2\" >0.327470</td>\n",
       "      <td id=\"T_db465_row1_col3\" class=\"data row1 col3\" >0.173319</td>\n",
       "      <td id=\"T_db465_row1_col4\" class=\"data row1 col4\" >0.345454</td>\n",
       "      <td id=\"T_db465_row1_col5\" class=\"data row1 col5\" >0.174098</td>\n",
       "      <td id=\"T_db465_row1_col6\" class=\"data row1 col6\" >0.083666</td>\n",
       "      <td id=\"T_db465_row1_col7\" class=\"data row1 col7\" >0.597293</td>\n",
       "    </tr>\n",
       "    <tr>\n",
       "      <th id=\"T_db465_level0_row2\" class=\"row_heading level0 row2\" >td.severity</th>\n",
       "      <td id=\"T_db465_row2_col0\" class=\"data row2 col0\" >-0.136782</td>\n",
       "      <td id=\"T_db465_row2_col1\" class=\"data row2 col1\" >0.327470</td>\n",
       "      <td id=\"T_db465_row2_col2\" class=\"data row2 col2\" >1.000000</td>\n",
       "      <td id=\"T_db465_row2_col3\" class=\"data row2 col3\" >0.911251</td>\n",
       "      <td id=\"T_db465_row2_col4\" class=\"data row2 col4\" >0.811338</td>\n",
       "      <td id=\"T_db465_row2_col5\" class=\"data row2 col5\" >0.692825</td>\n",
       "      <td id=\"T_db465_row2_col6\" class=\"data row2 col6\" >0.835814</td>\n",
       "      <td id=\"T_db465_row2_col7\" class=\"data row2 col7\" >0.708642</td>\n",
       "    </tr>\n",
       "    <tr>\n",
       "      <th id=\"T_db465_level0_row3\" class=\"row_heading level0 row3\" >panss_td</th>\n",
       "      <td id=\"T_db465_row3_col0\" class=\"data row3 col0\" >-0.259404</td>\n",
       "      <td id=\"T_db465_row3_col1\" class=\"data row3 col1\" >0.173319</td>\n",
       "      <td id=\"T_db465_row3_col2\" class=\"data row3 col2\" >0.911251</td>\n",
       "      <td id=\"T_db465_row3_col3\" class=\"data row3 col3\" >1.000000</td>\n",
       "      <td id=\"T_db465_row3_col4\" class=\"data row3 col4\" >0.858317</td>\n",
       "      <td id=\"T_db465_row3_col5\" class=\"data row3 col5\" >0.756787</td>\n",
       "      <td id=\"T_db465_row3_col6\" class=\"data row3 col6\" >0.932452</td>\n",
       "      <td id=\"T_db465_row3_col7\" class=\"data row3 col7\" >0.695700</td>\n",
       "    </tr>\n",
       "    <tr>\n",
       "      <th id=\"T_db465_level0_row4\" class=\"row_heading level0 row4\" >panss_total</th>\n",
       "      <td id=\"T_db465_row4_col0\" class=\"data row4 col0\" >-0.296650</td>\n",
       "      <td id=\"T_db465_row4_col1\" class=\"data row4 col1\" >0.345454</td>\n",
       "      <td id=\"T_db465_row4_col2\" class=\"data row4 col2\" >0.811338</td>\n",
       "      <td id=\"T_db465_row4_col3\" class=\"data row4 col3\" >0.858317</td>\n",
       "      <td id=\"T_db465_row4_col4\" class=\"data row4 col4\" >1.000000</td>\n",
       "      <td id=\"T_db465_row4_col5\" class=\"data row4 col5\" >0.922568</td>\n",
       "      <td id=\"T_db465_row4_col6\" class=\"data row4 col6\" >0.886422</td>\n",
       "      <td id=\"T_db465_row4_col7\" class=\"data row4 col7\" >0.885839</td>\n",
       "    </tr>\n",
       "    <tr>\n",
       "      <th id=\"T_db465_level0_row5\" class=\"row_heading level0 row5\" >panss_neg</th>\n",
       "      <td id=\"T_db465_row5_col0\" class=\"data row5 col0\" >-0.164954</td>\n",
       "      <td id=\"T_db465_row5_col1\" class=\"data row5 col1\" >0.174098</td>\n",
       "      <td id=\"T_db465_row5_col2\" class=\"data row5 col2\" >0.692825</td>\n",
       "      <td id=\"T_db465_row5_col3\" class=\"data row5 col3\" >0.756787</td>\n",
       "      <td id=\"T_db465_row5_col4\" class=\"data row5 col4\" >0.922568</td>\n",
       "      <td id=\"T_db465_row5_col5\" class=\"data row5 col5\" >1.000000</td>\n",
       "      <td id=\"T_db465_row5_col6\" class=\"data row5 col6\" >0.788799</td>\n",
       "      <td id=\"T_db465_row5_col7\" class=\"data row5 col7\" >0.673327</td>\n",
       "    </tr>\n",
       "    <tr>\n",
       "      <th id=\"T_db465_level0_row6\" class=\"row_heading level0 row6\" >panss_pos</th>\n",
       "      <td id=\"T_db465_row6_col0\" class=\"data row6 col0\" >-0.218234</td>\n",
       "      <td id=\"T_db465_row6_col1\" class=\"data row6 col1\" >0.083666</td>\n",
       "      <td id=\"T_db465_row6_col2\" class=\"data row6 col2\" >0.835814</td>\n",
       "      <td id=\"T_db465_row6_col3\" class=\"data row6 col3\" >0.932452</td>\n",
       "      <td id=\"T_db465_row6_col4\" class=\"data row6 col4\" >0.886422</td>\n",
       "      <td id=\"T_db465_row6_col5\" class=\"data row6 col5\" >0.788799</td>\n",
       "      <td id=\"T_db465_row6_col6\" class=\"data row6 col6\" >1.000000</td>\n",
       "      <td id=\"T_db465_row6_col7\" class=\"data row6 col7\" >0.687209</td>\n",
       "    </tr>\n",
       "    <tr>\n",
       "      <th id=\"T_db465_level0_row7\" class=\"row_heading level0 row7\" >panss_o</th>\n",
       "      <td id=\"T_db465_row7_col0\" class=\"data row7 col0\" >-0.407709</td>\n",
       "      <td id=\"T_db465_row7_col1\" class=\"data row7 col1\" >0.597293</td>\n",
       "      <td id=\"T_db465_row7_col2\" class=\"data row7 col2\" >0.708642</td>\n",
       "      <td id=\"T_db465_row7_col3\" class=\"data row7 col3\" >0.695700</td>\n",
       "      <td id=\"T_db465_row7_col4\" class=\"data row7 col4\" >0.885839</td>\n",
       "      <td id=\"T_db465_row7_col5\" class=\"data row7 col5\" >0.673327</td>\n",
       "      <td id=\"T_db465_row7_col6\" class=\"data row7 col6\" >0.687209</td>\n",
       "      <td id=\"T_db465_row7_col7\" class=\"data row7 col7\" >1.000000</td>\n",
       "    </tr>\n",
       "  </tbody>\n",
       "</table>\n"
      ],
      "text/plain": [
       "<pandas.io.formats.style.Styler at 0x7ff7174dfeb0>"
      ]
     },
     "execution_count": 46,
     "metadata": {},
     "output_type": "execute_result"
    }
   ],
   "source": [
    "# edu years - dep severity panss o\n",
    "# dep severity - panss o total td severity\n",
    "style(df[df['diagnosis.type'] != 'control'][numeric_target].corr())"
   ]
  },
  {
   "cell_type": "code",
   "execution_count": 47,
   "id": "e68d0fc1",
   "metadata": {},
   "outputs": [
    {
     "data": {
      "text/plain": [
       "panss_td           0.911251\n",
       "panss_pos          0.835814\n",
       "panss_total        0.811338\n",
       "panss_o            0.708642\n",
       "panss_neg          0.692825\n",
       "dep.severity        0.32747\n",
       "education.years   -0.136782\n",
       "td.severity             NaN\n",
       "Name: r, dtype: object"
      ]
     },
     "execution_count": 47,
     "metadata": {},
     "output_type": "execute_result"
    }
   ],
   "source": [
    "s, t  = display_test(df, numeric_target, 'td.severity', stats.pearsonr, stat_name='r')\n",
    "# t['p'] = t['p'] * (len(numeric_target) - 1)\n",
    "t.sort_values([f'abs_r', 'p'], ascending=False)['r']"
   ]
  },
  {
   "cell_type": "markdown",
   "id": "7fc7434b",
   "metadata": {},
   "source": [
    "### SZ"
   ]
  },
  {
   "cell_type": "code",
   "execution_count": 48,
   "id": "a1a086af",
   "metadata": {},
   "outputs": [
    {
     "data": {
      "text/plain": [
       "female    25\n",
       "male       6\n",
       "Name: sex, dtype: int64"
      ]
     },
     "execution_count": 48,
     "metadata": {},
     "output_type": "execute_result"
    }
   ],
   "source": [
    "sz['sex'].value_counts()"
   ]
  },
  {
   "cell_type": "code",
   "execution_count": 49,
   "id": "8c9a3fa8",
   "metadata": {},
   "outputs": [
    {
     "name": "stderr",
     "output_type": "stream",
     "text": [
      "/Users/galina.ryazanskaya/Downloads/thesis?/code?/jupyter_utils.py:118: FutureWarning: Dropping of nuisance columns in DataFrame reductions (with 'numeric_only=None') is deprecated; in a future version this will raise TypeError.  Select only valid columns before calling the reduction.\n",
      "  s_mean, s_std = data.mean().round(2), data.std().round(2)\n"
     ]
    },
    {
     "data": {
      "text/html": [
       "<div>\n",
       "<style scoped>\n",
       "    .dataframe tbody tr th:only-of-type {\n",
       "        vertical-align: middle;\n",
       "    }\n",
       "\n",
       "    .dataframe tbody tr th {\n",
       "        vertical-align: top;\n",
       "    }\n",
       "\n",
       "    .dataframe thead th {\n",
       "        text-align: right;\n",
       "    }\n",
       "</style>\n",
       "<table border=\"1\" class=\"dataframe\">\n",
       "  <thead>\n",
       "    <tr style=\"text-align: right;\">\n",
       "      <th></th>\n",
       "      <th>age</th>\n",
       "      <th>education.years</th>\n",
       "      <th>dep.severity</th>\n",
       "      <th>td.severity</th>\n",
       "      <th>panss_td</th>\n",
       "      <th>panss_total</th>\n",
       "      <th>panss_neg</th>\n",
       "      <th>panss_pos</th>\n",
       "      <th>panss_o</th>\n",
       "    </tr>\n",
       "  </thead>\n",
       "  <tbody>\n",
       "    <tr>\n",
       "      <th>value</th>\n",
       "      <td>27.13 (7.14)</td>\n",
       "      <td>13.32 (2.41)</td>\n",
       "      <td>0.58 (0.85)</td>\n",
       "      <td>0.84 (0.73)</td>\n",
       "      <td>10.03 (3.74)</td>\n",
       "      <td>69.79 (16.13)</td>\n",
       "      <td>22.93 (8.59)</td>\n",
       "      <td>15.9 (4.92)</td>\n",
       "      <td>30.97 (8.42)</td>\n",
       "    </tr>\n",
       "  </tbody>\n",
       "</table>\n",
       "</div>"
      ],
      "text/plain": [
       "                age education.years dep.severity  td.severity      panss_td  \\\n",
       "value  27.13 (7.14)    13.32 (2.41)  0.58 (0.85)  0.84 (0.73)  10.03 (3.74)   \n",
       "\n",
       "         panss_total     panss_neg    panss_pos       panss_o  \n",
       "value  69.79 (16.13)  22.93 (8.59)  15.9 (4.92)  30.97 (8.42)  "
      ]
     },
     "execution_count": 49,
     "metadata": {},
     "output_type": "execute_result"
    }
   ],
   "source": [
    "mean_std(sz, target_cols + panss_cols)"
   ]
  },
  {
   "cell_type": "code",
   "execution_count": 50,
   "id": "29a7305d",
   "metadata": {},
   "outputs": [
    {
     "data": {
      "text/html": [
       "<div>\n",
       "<style scoped>\n",
       "    .dataframe tbody tr th:only-of-type {\n",
       "        vertical-align: middle;\n",
       "    }\n",
       "\n",
       "    .dataframe tbody tr th {\n",
       "        vertical-align: top;\n",
       "    }\n",
       "\n",
       "    .dataframe thead th {\n",
       "        text-align: right;\n",
       "    }\n",
       "</style>\n",
       "<table border=\"1\" class=\"dataframe\">\n",
       "  <thead>\n",
       "    <tr style=\"text-align: right;\">\n",
       "      <th></th>\n",
       "      <th>age</th>\n",
       "      <th>education.years</th>\n",
       "      <th>dep.severity</th>\n",
       "      <th>td.severity</th>\n",
       "      <th>panss_td</th>\n",
       "      <th>panss_total</th>\n",
       "      <th>panss_neg</th>\n",
       "      <th>panss_pos</th>\n",
       "      <th>panss_o</th>\n",
       "    </tr>\n",
       "    <tr>\n",
       "      <th>sex</th>\n",
       "      <th></th>\n",
       "      <th></th>\n",
       "      <th></th>\n",
       "      <th></th>\n",
       "      <th></th>\n",
       "      <th></th>\n",
       "      <th></th>\n",
       "      <th></th>\n",
       "      <th></th>\n",
       "    </tr>\n",
       "  </thead>\n",
       "  <tbody>\n",
       "    <tr>\n",
       "      <th>female</th>\n",
       "      <td>27.8 (7.53)</td>\n",
       "      <td>13.56 (2.48)</td>\n",
       "      <td>0.72 (0.89)</td>\n",
       "      <td>0.8 (0.76)</td>\n",
       "      <td>9.43 (3.62)</td>\n",
       "      <td>69.13 (15.38)</td>\n",
       "      <td>22.52 (7.79)</td>\n",
       "      <td>15.3 (4.91)</td>\n",
       "      <td>31.3 (9.08)</td>\n",
       "    </tr>\n",
       "    <tr>\n",
       "      <th>male</th>\n",
       "      <td>24.33 (4.72)</td>\n",
       "      <td>12.33 (1.97)</td>\n",
       "      <td>0.0 (0.0)</td>\n",
       "      <td>1.0 (0.63)</td>\n",
       "      <td>12.33 (3.56)</td>\n",
       "      <td>72.33 (20.16)</td>\n",
       "      <td>24.5 (11.93)</td>\n",
       "      <td>18.17 (4.67)</td>\n",
       "      <td>29.67 (5.65)</td>\n",
       "    </tr>\n",
       "  </tbody>\n",
       "</table>\n",
       "</div>"
      ],
      "text/plain": [
       "                 age education.years dep.severity td.severity      panss_td  \\\n",
       "sex                                                                           \n",
       "female   27.8 (7.53)    13.56 (2.48)  0.72 (0.89)  0.8 (0.76)   9.43 (3.62)   \n",
       "male    24.33 (4.72)    12.33 (1.97)    0.0 (0.0)  1.0 (0.63)  12.33 (3.56)   \n",
       "\n",
       "          panss_total     panss_neg     panss_pos       panss_o  \n",
       "sex                                                              \n",
       "female  69.13 (15.38)  22.52 (7.79)   15.3 (4.91)   31.3 (9.08)  \n",
       "male    72.33 (20.16)  24.5 (11.93)  18.17 (4.67)  29.67 (5.65)  "
      ]
     },
     "execution_count": 50,
     "metadata": {},
     "output_type": "execute_result"
    }
   ],
   "source": [
    "mean_std(sz, target_cols + panss_cols, 'sex')"
   ]
  },
  {
   "cell_type": "code",
   "execution_count": 51,
   "id": "bb321a8e",
   "metadata": {},
   "outputs": [
    {
     "data": {
      "text/html": [
       "<div>\n",
       "<style scoped>\n",
       "    .dataframe tbody tr th:only-of-type {\n",
       "        vertical-align: middle;\n",
       "    }\n",
       "\n",
       "    .dataframe tbody tr th {\n",
       "        vertical-align: top;\n",
       "    }\n",
       "\n",
       "    .dataframe thead th {\n",
       "        text-align: right;\n",
       "    }\n",
       "</style>\n",
       "<table border=\"1\" class=\"dataframe\">\n",
       "  <thead>\n",
       "    <tr style=\"text-align: right;\">\n",
       "      <th></th>\n",
       "      <th>dep.severity</th>\n",
       "      <th>td.severity</th>\n",
       "      <th>panss_td</th>\n",
       "      <th>panss_total</th>\n",
       "      <th>panss_neg</th>\n",
       "      <th>panss_pos</th>\n",
       "      <th>panss_o</th>\n",
       "    </tr>\n",
       "  </thead>\n",
       "  <tbody>\n",
       "    <tr>\n",
       "      <th>value</th>\n",
       "      <td>0.58 (0.85)</td>\n",
       "      <td>0.84 (0.73)</td>\n",
       "      <td>10.03 (3.74)</td>\n",
       "      <td>69.79 (16.13)</td>\n",
       "      <td>22.93 (8.59)</td>\n",
       "      <td>15.9 (4.92)</td>\n",
       "      <td>30.97 (8.42)</td>\n",
       "    </tr>\n",
       "    <tr>\n",
       "      <th>max</th>\n",
       "      <td>4</td>\n",
       "      <td>4</td>\n",
       "      <td>28</td>\n",
       "      <td>210</td>\n",
       "      <td>49</td>\n",
       "      <td>49</td>\n",
       "      <td>112</td>\n",
       "    </tr>\n",
       "    <tr>\n",
       "      <th>min</th>\n",
       "      <td>0</td>\n",
       "      <td>0</td>\n",
       "      <td>2</td>\n",
       "      <td>30</td>\n",
       "      <td>7</td>\n",
       "      <td>7</td>\n",
       "      <td>16</td>\n",
       "    </tr>\n",
       "    <tr>\n",
       "      <th>share</th>\n",
       "      <td>0.145</td>\n",
       "      <td>0.21</td>\n",
       "      <td>0.358214</td>\n",
       "      <td>0.332333</td>\n",
       "      <td>0.467959</td>\n",
       "      <td>0.32449</td>\n",
       "      <td>0.276518</td>\n",
       "    </tr>\n",
       "  </tbody>\n",
       "</table>\n",
       "</div>"
      ],
      "text/plain": [
       "      dep.severity  td.severity      panss_td    panss_total     panss_neg  \\\n",
       "value  0.58 (0.85)  0.84 (0.73)  10.03 (3.74)  69.79 (16.13)  22.93 (8.59)   \n",
       "max              4            4            28            210            49   \n",
       "min              0            0             2             30             7   \n",
       "share        0.145         0.21      0.358214       0.332333      0.467959   \n",
       "\n",
       "         panss_pos       panss_o  \n",
       "value  15.9 (4.92)  30.97 (8.42)  \n",
       "max             49           112  \n",
       "min              7            16  \n",
       "share      0.32449      0.276518  "
      ]
     },
     "execution_count": 51,
     "metadata": {},
     "output_type": "execute_result"
    }
   ],
   "source": [
    "r = mean_std(sz, ['dep.severity', 'td.severity'] + panss_cols)\n",
    "r.loc['max'] = pd.Series([4, 4, 28, 210, 49, 49, 112], index=r.columns)\n",
    "r.loc['min'] = pd.Series([0, 0, 2, 30, 7, 7, 16], index=r.columns)\n",
    "r.loc['share'] = r.loc['value'].apply(lambda x: float(x.split(' ')[0])) / r.loc['max'] \n",
    "r"
   ]
  },
  {
   "cell_type": "markdown",
   "id": "e59a7a49",
   "metadata": {},
   "source": [
    "### Relative symptom severity (positive vs negative symptoms)  sz"
   ]
  },
  {
   "cell_type": "code",
   "execution_count": 52,
   "id": "d4f758ba",
   "metadata": {},
   "outputs": [],
   "source": [
    "fig, axes = plt.subplots(6, 1, figsize=(10, 8))\n",
    "fig.suptitle('comparison between psychiatric scales')\n",
    "sns.boxplot(x=sz['td.severity'], ax=axes[0], color='tab:orange')\n",
    "axes[0].set_xlim(0, 4)\n",
    "axes[0].set_ylabel('td.severity', rotation='horizontal', ha='right')\n",
    "sns.boxplot(x=sz['dep.severity'], ax=axes[1])\n",
    "axes[1].set_xlim(0, 4)\n",
    "axes[1].set_ylabel('dep.severity', rotation='horizontal', ha='right')\n",
    "sns.boxplot(x=sz['panss_pos'], ax=axes[2], color='tab:orange')\n",
    "axes[2].set_xlim(7, 49)\n",
    "axes[2].set_ylabel('panss_pos', rotation='horizontal', ha='right')\n",
    "sns.boxplot(x=sz['panss_neg'], ax=axes[3])\n",
    "axes[3].set_xlim(7, 49)\n",
    "axes[3].set_ylabel('panss_neg', rotation='horizontal', ha='right')\n",
    "sns.boxplot(x=sz['panss_o'], ax=axes[4], color='grey')\n",
    "axes[4].set_xlim(16, 112)\n",
    "axes[4].set_ylabel('panss_o', rotation='horizontal', ha='right')\n",
    "sns.boxplot(x=sz['panss_total'], ax=axes[5], color='grey')\n",
    "axes[5].set_xlim(30, 210)\n",
    "axes[5].set_ylabel('panss_total', rotation='horizontal', ha='right')\n",
    "axes[5].set_xlabel('score')\n",
    "for ax in axes[:5]:\n",
    "    ax.set_xlabel('')\n",
    "fig.tight_layout();\n",
    "plt.savefig(f'{PATH_FIG}psychiatric.png', dpi=150, bbox_inches = 'tight')\n",
    "plt.close(fig)"
   ]
  },
  {
   "cell_type": "markdown",
   "id": "ef620dbf",
   "metadata": {},
   "source": [
    "### dep"
   ]
  },
  {
   "cell_type": "code",
   "execution_count": 53,
   "id": "081fe5d7",
   "metadata": {},
   "outputs": [
    {
     "data": {
      "text/plain": [
       "female    18\n",
       "Name: sex, dtype: int64"
      ]
     },
     "execution_count": 53,
     "metadata": {},
     "output_type": "execute_result"
    }
   ],
   "source": [
    "dep['sex'].value_counts()"
   ]
  },
  {
   "cell_type": "code",
   "execution_count": 54,
   "id": "d669815e",
   "metadata": {},
   "outputs": [
    {
     "name": "stderr",
     "output_type": "stream",
     "text": [
      "/Users/galina.ryazanskaya/Downloads/thesis?/code?/jupyter_utils.py:118: FutureWarning: Dropping of nuisance columns in DataFrame reductions (with 'numeric_only=None') is deprecated; in a future version this will raise TypeError.  Select only valid columns before calling the reduction.\n",
      "  s_mean, s_std = data.mean().round(2), data.std().round(2)\n"
     ]
    },
    {
     "data": {
      "text/html": [
       "<div>\n",
       "<style scoped>\n",
       "    .dataframe tbody tr th:only-of-type {\n",
       "        vertical-align: middle;\n",
       "    }\n",
       "\n",
       "    .dataframe tbody tr th {\n",
       "        vertical-align: top;\n",
       "    }\n",
       "\n",
       "    .dataframe thead th {\n",
       "        text-align: right;\n",
       "    }\n",
       "</style>\n",
       "<table border=\"1\" class=\"dataframe\">\n",
       "  <thead>\n",
       "    <tr style=\"text-align: right;\">\n",
       "      <th></th>\n",
       "      <th>age</th>\n",
       "      <th>education.years</th>\n",
       "      <th>dep.severity</th>\n",
       "      <th>td.severity</th>\n",
       "      <th>panss_td</th>\n",
       "      <th>panss_total</th>\n",
       "      <th>panss_neg</th>\n",
       "      <th>panss_pos</th>\n",
       "      <th>panss_o</th>\n",
       "    </tr>\n",
       "  </thead>\n",
       "  <tbody>\n",
       "    <tr>\n",
       "      <th>value</th>\n",
       "      <td>20.89 (3.71)</td>\n",
       "      <td>12.67 (1.94)</td>\n",
       "      <td>0.56 (0.62)</td>\n",
       "      <td>0.06 (0.24)</td>\n",
       "      <td>4.42 (0.9)</td>\n",
       "      <td>37.92 (5.89)</td>\n",
       "      <td>8.31 (1.97)</td>\n",
       "      <td>8.46 (1.94)</td>\n",
       "      <td>21.15 (3.58)</td>\n",
       "    </tr>\n",
       "  </tbody>\n",
       "</table>\n",
       "</div>"
      ],
      "text/plain": [
       "                age education.years dep.severity  td.severity    panss_td  \\\n",
       "value  20.89 (3.71)    12.67 (1.94)  0.56 (0.62)  0.06 (0.24)  4.42 (0.9)   \n",
       "\n",
       "        panss_total    panss_neg    panss_pos       panss_o  \n",
       "value  37.92 (5.89)  8.31 (1.97)  8.46 (1.94)  21.15 (3.58)  "
      ]
     },
     "execution_count": 54,
     "metadata": {},
     "output_type": "execute_result"
    }
   ],
   "source": [
    "mean_std(dep, target_cols + panss_cols)"
   ]
  },
  {
   "cell_type": "code",
   "execution_count": 55,
   "id": "7ac2d4c4",
   "metadata": {},
   "outputs": [
    {
     "data": {
      "text/plain": [
       "13"
      ]
     },
     "execution_count": 55,
     "metadata": {},
     "output_type": "execute_result"
    }
   ],
   "source": [
    "dep['panss_o'].count()"
   ]
  },
  {
   "cell_type": "markdown",
   "id": "3d538a5f",
   "metadata": {},
   "source": [
    "### Relative symptom severity (positive vs negative symptoms)  dep"
   ]
  },
  {
   "cell_type": "code",
   "execution_count": 56,
   "id": "c0882902",
   "metadata": {},
   "outputs": [],
   "source": [
    "fig, axes = plt.subplots(11, 1, figsize=(15, 10))\n",
    "fig.suptitle('comparison between psychiatric scales for depression group')\n",
    "sns.boxplot(x=dep['td.severity'], ax=axes[0], color='tab:orange')\n",
    "axes[0].set_xlim(0, 4)\n",
    "\n",
    "axes[0].set_ylabel('td.severity', rotation='horizontal', ha='right')\n",
    "sns.boxplot(x=dep['dep.severity'], ax=axes[1])\n",
    "axes[1].set_xlim(0, 4)\n",
    "\n",
    "axes[1].set_ylabel('dep.severity', rotation='horizontal', ha='right')\n",
    "sns.boxplot(x=dep['panss_pos'], ax=axes[2], color='tab:orange')\n",
    "axes[2].set_xlim(7, 49)\n",
    "\n",
    "axes[2].set_ylabel('panss_pos', rotation='horizontal', ha='right')\n",
    "sns.boxplot(x=dep['panss_neg'], ax=axes[3])\n",
    "axes[3].set_xlim(7, 49)\n",
    "\n",
    "axes[3].set_ylabel('panss_neg', rotation='horizontal', ha='right')\n",
    "sns.boxplot(x=dep['panss_o'], ax=axes[4], color='grey')\n",
    "axes[4].set_xlim(16, 112)\n",
    "\n",
    "axes[4].set_ylabel('panss_o', rotation='horizontal', ha='right')\n",
    "sns.boxplot(x=dep['panss_total'], ax=axes[5], color='grey')\n",
    "axes[5].set_xlim(30, 210)\n",
    "\n",
    "axes[5].set_ylabel('panss_total', rotation='horizontal', ha='right')\n",
    "sns.boxplot(x=dep['sops_p'], ax=axes[6], color='tab:orange')\n",
    "axes[6].set_xlim(0, 25)\n",
    "axes[6].set_xlabel('')\n",
    "axes[6].set_ylabel('sops_p', rotation='horizontal', ha='right')\n",
    "\n",
    "sns.boxplot(x=dep['sops_n'], ax=axes[7])\n",
    "axes[7].set_xlim(0, 30)\n",
    "axes[7].set_xlabel('')\n",
    "axes[7].set_ylabel('sops_n', rotation='horizontal', ha='right')\n",
    "\n",
    "sns.boxplot(x=dep['sops_d'], ax=axes[8], color='tab:orange')\n",
    "axes[8].set_xlim(0, 20)\n",
    "axes[8].set_xlabel('')\n",
    "axes[8].set_ylabel('sops_d', rotation='horizontal', ha='right')\n",
    "\n",
    "sns.boxplot(x=dep['sans'], ax=axes[9])\n",
    "axes[9].set_xlim(0, 160)\n",
    "axes[9].set_xlabel('')\n",
    "axes[9].set_ylabel('sans', rotation='horizontal', ha='right')\n",
    "\n",
    "sns.boxplot(x=dep['saps_ftd'], ax=axes[10], color='tab:orange')\n",
    "axes[10].set_xlim(0, 120)\n",
    "axes[10].set_ylabel('saps', rotation='horizontal', ha='right')\n",
    "axes[10].set_xlabel('score')\n",
    "\n",
    "for ax in axes[:10]:\n",
    "    ax.set_xlabel('')\n",
    "\n",
    "\n",
    "fig.tight_layout();\n",
    "plt.savefig(f'{PATH_FIG}psychiatric_dep.png', dpi=150, bbox_inches = 'tight')\n",
    "plt.close(fig)"
   ]
  },
  {
   "cell_type": "markdown",
   "id": "a289bab2",
   "metadata": {},
   "source": [
    "### Controls & Controls_Psy"
   ]
  },
  {
   "cell_type": "code",
   "execution_count": 57,
   "id": "ba16414e",
   "metadata": {},
   "outputs": [
    {
     "data": {
      "text/plain": [
       "female    75\n",
       "male      27\n",
       "Name: sex, dtype: int64"
      ]
     },
     "execution_count": 57,
     "metadata": {},
     "output_type": "execute_result"
    }
   ],
   "source": [
    "control['sex'].value_counts()"
   ]
  },
  {
   "cell_type": "code",
   "execution_count": 58,
   "id": "682b7156",
   "metadata": {},
   "outputs": [
    {
     "name": "stderr",
     "output_type": "stream",
     "text": [
      "/Users/galina.ryazanskaya/Downloads/thesis?/code?/jupyter_utils.py:118: FutureWarning: Dropping of nuisance columns in DataFrame reductions (with 'numeric_only=None') is deprecated; in a future version this will raise TypeError.  Select only valid columns before calling the reduction.\n",
      "  s_mean, s_std = data.mean().round(2), data.std().round(2)\n"
     ]
    },
    {
     "data": {
      "text/html": [
       "<div>\n",
       "<style scoped>\n",
       "    .dataframe tbody tr th:only-of-type {\n",
       "        vertical-align: middle;\n",
       "    }\n",
       "\n",
       "    .dataframe tbody tr th {\n",
       "        vertical-align: top;\n",
       "    }\n",
       "\n",
       "    .dataframe thead th {\n",
       "        text-align: right;\n",
       "    }\n",
       "</style>\n",
       "<table border=\"1\" class=\"dataframe\">\n",
       "  <thead>\n",
       "    <tr style=\"text-align: right;\">\n",
       "      <th></th>\n",
       "      <th>age</th>\n",
       "      <th>education.years</th>\n",
       "      <th>dep.severity</th>\n",
       "      <th>td.severity</th>\n",
       "    </tr>\n",
       "  </thead>\n",
       "  <tbody>\n",
       "    <tr>\n",
       "      <th>value</th>\n",
       "      <td>39.75 (19.15)</td>\n",
       "      <td>15.74 (2.57)</td>\n",
       "      <td>0.0 (0.0)</td>\n",
       "      <td>0.0 (0.0)</td>\n",
       "    </tr>\n",
       "  </tbody>\n",
       "</table>\n",
       "</div>"
      ],
      "text/plain": [
       "                 age education.years dep.severity td.severity\n",
       "value  39.75 (19.15)    15.74 (2.57)    0.0 (0.0)   0.0 (0.0)"
      ]
     },
     "execution_count": 58,
     "metadata": {},
     "output_type": "execute_result"
    }
   ],
   "source": [
    "mean_std(control, target_cols)"
   ]
  },
  {
   "cell_type": "code",
   "execution_count": 59,
   "id": "be5e141b",
   "metadata": {},
   "outputs": [
    {
     "data": {
      "text/html": [
       "<div>\n",
       "<style scoped>\n",
       "    .dataframe tbody tr th:only-of-type {\n",
       "        vertical-align: middle;\n",
       "    }\n",
       "\n",
       "    .dataframe tbody tr th {\n",
       "        vertical-align: top;\n",
       "    }\n",
       "\n",
       "    .dataframe thead th {\n",
       "        text-align: right;\n",
       "    }\n",
       "</style>\n",
       "<table border=\"1\" class=\"dataframe\">\n",
       "  <thead>\n",
       "    <tr style=\"text-align: right;\">\n",
       "      <th></th>\n",
       "      <th>age</th>\n",
       "      <th>education.years</th>\n",
       "      <th>dep.severity</th>\n",
       "      <th>td.severity</th>\n",
       "    </tr>\n",
       "    <tr>\n",
       "      <th>sex</th>\n",
       "      <th></th>\n",
       "      <th></th>\n",
       "      <th></th>\n",
       "      <th></th>\n",
       "    </tr>\n",
       "  </thead>\n",
       "  <tbody>\n",
       "    <tr>\n",
       "      <th>female</th>\n",
       "      <td>38.25 (18.85)</td>\n",
       "      <td>15.39 (2.39)</td>\n",
       "      <td>0.0 (0.0)</td>\n",
       "      <td>0.0 (0.0)</td>\n",
       "    </tr>\n",
       "    <tr>\n",
       "      <th>male</th>\n",
       "      <td>43.93 (19.73)</td>\n",
       "      <td>16.7 (2.83)</td>\n",
       "      <td>0.0 (0.0)</td>\n",
       "      <td>0.0 (0.0)</td>\n",
       "    </tr>\n",
       "  </tbody>\n",
       "</table>\n",
       "</div>"
      ],
      "text/plain": [
       "                  age education.years dep.severity td.severity\n",
       "sex                                                           \n",
       "female  38.25 (18.85)    15.39 (2.39)    0.0 (0.0)   0.0 (0.0)\n",
       "male    43.93 (19.73)     16.7 (2.83)    0.0 (0.0)   0.0 (0.0)"
      ]
     },
     "execution_count": 59,
     "metadata": {},
     "output_type": "execute_result"
    }
   ],
   "source": [
    "mean_std(control, target_cols, 'sex')"
   ]
  },
  {
   "cell_type": "code",
   "execution_count": 60,
   "id": "5cab3c6f",
   "metadata": {},
   "outputs": [
    {
     "data": {
      "text/plain": [
       "female    26\n",
       "male       4\n",
       "Name: sex, dtype: int64"
      ]
     },
     "execution_count": 60,
     "metadata": {},
     "output_type": "execute_result"
    }
   ],
   "source": [
    "control_psy['sex'].value_counts()"
   ]
  },
  {
   "cell_type": "code",
   "execution_count": 61,
   "id": "1c1d90a8",
   "metadata": {},
   "outputs": [
    {
     "name": "stderr",
     "output_type": "stream",
     "text": [
      "/Users/galina.ryazanskaya/Downloads/thesis?/code?/jupyter_utils.py:118: FutureWarning: Dropping of nuisance columns in DataFrame reductions (with 'numeric_only=None') is deprecated; in a future version this will raise TypeError.  Select only valid columns before calling the reduction.\n",
      "  s_mean, s_std = data.mean().round(2), data.std().round(2)\n"
     ]
    },
    {
     "data": {
      "text/html": [
       "<div>\n",
       "<style scoped>\n",
       "    .dataframe tbody tr th:only-of-type {\n",
       "        vertical-align: middle;\n",
       "    }\n",
       "\n",
       "    .dataframe tbody tr th {\n",
       "        vertical-align: top;\n",
       "    }\n",
       "\n",
       "    .dataframe thead th {\n",
       "        text-align: right;\n",
       "    }\n",
       "</style>\n",
       "<table border=\"1\" class=\"dataframe\">\n",
       "  <thead>\n",
       "    <tr style=\"text-align: right;\">\n",
       "      <th></th>\n",
       "      <th>age</th>\n",
       "      <th>education.years</th>\n",
       "      <th>dep.severity</th>\n",
       "      <th>td.severity</th>\n",
       "      <th>panss_td</th>\n",
       "      <th>panss_total</th>\n",
       "      <th>panss_neg</th>\n",
       "      <th>panss_pos</th>\n",
       "      <th>panss_o</th>\n",
       "    </tr>\n",
       "  </thead>\n",
       "  <tbody>\n",
       "    <tr>\n",
       "      <th>value</th>\n",
       "      <td>25.0 (7.4)</td>\n",
       "      <td>15.43 (2.13)</td>\n",
       "      <td>0.0 (0.0)</td>\n",
       "      <td>0.0 (0.0)</td>\n",
       "      <td>4.36 (1.0)</td>\n",
       "      <td>30.77 (1.54)</td>\n",
       "      <td>7.23 (0.53)</td>\n",
       "      <td>7.23 (0.61)</td>\n",
       "      <td>16.32 (0.95)</td>\n",
       "    </tr>\n",
       "  </tbody>\n",
       "</table>\n",
       "</div>"
      ],
      "text/plain": [
       "              age education.years dep.severity td.severity    panss_td  \\\n",
       "value  25.0 (7.4)    15.43 (2.13)    0.0 (0.0)   0.0 (0.0)  4.36 (1.0)   \n",
       "\n",
       "        panss_total    panss_neg    panss_pos       panss_o  \n",
       "value  30.77 (1.54)  7.23 (0.53)  7.23 (0.61)  16.32 (0.95)  "
      ]
     },
     "execution_count": 61,
     "metadata": {},
     "output_type": "execute_result"
    }
   ],
   "source": [
    "mean_std(control_psy, target_cols + panss_cols)"
   ]
  },
  {
   "cell_type": "code",
   "execution_count": 62,
   "id": "eb23b183",
   "metadata": {},
   "outputs": [
    {
     "data": {
      "text/html": [
       "<div>\n",
       "<style scoped>\n",
       "    .dataframe tbody tr th:only-of-type {\n",
       "        vertical-align: middle;\n",
       "    }\n",
       "\n",
       "    .dataframe tbody tr th {\n",
       "        vertical-align: top;\n",
       "    }\n",
       "\n",
       "    .dataframe thead th {\n",
       "        text-align: right;\n",
       "    }\n",
       "</style>\n",
       "<table border=\"1\" class=\"dataframe\">\n",
       "  <thead>\n",
       "    <tr style=\"text-align: right;\">\n",
       "      <th></th>\n",
       "      <th>age</th>\n",
       "      <th>education.years</th>\n",
       "      <th>dep.severity</th>\n",
       "      <th>td.severity</th>\n",
       "      <th>panss_td</th>\n",
       "      <th>panss_total</th>\n",
       "      <th>panss_neg</th>\n",
       "      <th>panss_pos</th>\n",
       "      <th>panss_o</th>\n",
       "    </tr>\n",
       "    <tr>\n",
       "      <th>sex</th>\n",
       "      <th></th>\n",
       "      <th></th>\n",
       "      <th></th>\n",
       "      <th></th>\n",
       "      <th></th>\n",
       "      <th></th>\n",
       "      <th></th>\n",
       "      <th></th>\n",
       "      <th></th>\n",
       "    </tr>\n",
       "  </thead>\n",
       "  <tbody>\n",
       "    <tr>\n",
       "      <th>female</th>\n",
       "      <td>25.42 (7.8)</td>\n",
       "      <td>15.42 (1.7)</td>\n",
       "      <td>0.0 (0.0)</td>\n",
       "      <td>0.0 (0.0)</td>\n",
       "      <td>4.4 (1.05)</td>\n",
       "      <td>30.85 (1.6)</td>\n",
       "      <td>7.25 (0.55)</td>\n",
       "      <td>7.25 (0.64)</td>\n",
       "      <td>16.35 (0.99)</td>\n",
       "    </tr>\n",
       "    <tr>\n",
       "      <th>male</th>\n",
       "      <td>22.25 (3.3)</td>\n",
       "      <td>15.5 (4.43)</td>\n",
       "      <td>0.0 (0.0)</td>\n",
       "      <td>0.0 (0.0)</td>\n",
       "      <td>4.0 (0.0)</td>\n",
       "      <td>30.0 (0.0)</td>\n",
       "      <td>7.0 (0.0)</td>\n",
       "      <td>7.0 (0.0)</td>\n",
       "      <td>16.0 (0.0)</td>\n",
       "    </tr>\n",
       "  </tbody>\n",
       "</table>\n",
       "</div>"
      ],
      "text/plain": [
       "                age education.years dep.severity td.severity    panss_td  \\\n",
       "sex                                                                        \n",
       "female  25.42 (7.8)     15.42 (1.7)    0.0 (0.0)   0.0 (0.0)  4.4 (1.05)   \n",
       "male    22.25 (3.3)     15.5 (4.43)    0.0 (0.0)   0.0 (0.0)   4.0 (0.0)   \n",
       "\n",
       "        panss_total    panss_neg    panss_pos       panss_o  \n",
       "sex                                                          \n",
       "female  30.85 (1.6)  7.25 (0.55)  7.25 (0.64)  16.35 (0.99)  \n",
       "male     30.0 (0.0)    7.0 (0.0)    7.0 (0.0)    16.0 (0.0)  "
      ]
     },
     "execution_count": 62,
     "metadata": {},
     "output_type": "execute_result"
    }
   ],
   "source": [
    "mean_std(control_psy, target_cols + panss_cols, 'sex')"
   ]
  },
  {
   "cell_type": "code",
   "execution_count": 63,
   "id": "f10c185e",
   "metadata": {},
   "outputs": [
    {
     "data": {
      "text/plain": [
       "sex\n",
       "female    20\n",
       "male       2\n",
       "Name: panss_total, dtype: int64"
      ]
     },
     "execution_count": 63,
     "metadata": {},
     "output_type": "execute_result"
    }
   ],
   "source": [
    "control.groupby('sex')['panss_total'].count()"
   ]
  },
  {
   "cell_type": "markdown",
   "id": "9b05af1b",
   "metadata": {},
   "source": [
    "# Test for group differences"
   ]
  },
  {
   "cell_type": "markdown",
   "id": "eaaf24a1",
   "metadata": {},
   "source": [
    "### age"
   ]
  },
  {
   "cell_type": "code",
   "execution_count": 64,
   "id": "de95d300",
   "metadata": {},
   "outputs": [
    {
     "data": {
      "text/plain": [
       "Ttest_indResult(statistic=3.5871243575285408, pvalue=0.00047085918746073396)"
      ]
     },
     "execution_count": 64,
     "metadata": {},
     "output_type": "execute_result"
    }
   ],
   "source": [
    "stats.ttest_ind(control['age'], sz['age'], nan_policy='omit')"
   ]
  },
  {
   "cell_type": "code",
   "execution_count": 65,
   "id": "b2dc5b6e",
   "metadata": {},
   "outputs": [
    {
     "data": {
      "text/plain": [
       "Ttest_indResult(statistic=-1.143255849283786, pvalue=0.2575501479174914)"
      ]
     },
     "execution_count": 65,
     "metadata": {},
     "output_type": "execute_result"
    }
   ],
   "source": [
    "stats.ttest_ind(control_psy['age'], sz['age'], nan_policy='omit')"
   ]
  },
  {
   "cell_type": "code",
   "execution_count": 66,
   "id": "04d926f7",
   "metadata": {},
   "outputs": [
    {
     "data": {
      "text/plain": [
       "Ttest_indResult(statistic=2.1899209175114764, pvalue=0.033638603323606325)"
      ]
     },
     "execution_count": 66,
     "metadata": {},
     "output_type": "execute_result"
    }
   ],
   "source": [
    "stats.ttest_ind(control_psy['age'], dep['age'], nan_policy='omit')"
   ]
  },
  {
   "cell_type": "markdown",
   "id": "36dbb1d4",
   "metadata": {},
   "source": [
    "### education years"
   ]
  },
  {
   "cell_type": "code",
   "execution_count": 67,
   "id": "e41904c4",
   "metadata": {},
   "outputs": [
    {
     "data": {
      "text/plain": [
       "Ttest_indResult(statistic=4.653034980872723, pvalue=7.949204742694471e-06)"
      ]
     },
     "execution_count": 67,
     "metadata": {},
     "output_type": "execute_result"
    }
   ],
   "source": [
    "stats.ttest_ind(control['education.years'], sz['education.years'], nan_policy='omit')"
   ]
  },
  {
   "cell_type": "code",
   "execution_count": 68,
   "id": "85f62ed8",
   "metadata": {},
   "outputs": [
    {
     "data": {
      "text/plain": [
       "Ttest_indResult(statistic=3.618089157043871, pvalue=0.0006167702505040491)"
      ]
     },
     "execution_count": 68,
     "metadata": {},
     "output_type": "execute_result"
    }
   ],
   "source": [
    "stats.ttest_ind(control_psy['education.years'], sz['education.years'], nan_policy='omit')"
   ]
  },
  {
   "cell_type": "code",
   "execution_count": 69,
   "id": "2a017b6c",
   "metadata": {
    "scrolled": true
   },
   "outputs": [
    {
     "data": {
      "text/plain": [
       "Ttest_indResult(statistic=4.502842757884748, pvalue=4.561269295083997e-05)"
      ]
     },
     "execution_count": 69,
     "metadata": {},
     "output_type": "execute_result"
    }
   ],
   "source": [
    "stats.ttest_ind(control_psy['education.years'], dep['education.years'], nan_policy='omit')"
   ]
  },
  {
   "cell_type": "markdown",
   "id": "d8ce15e4",
   "metadata": {},
   "source": [
    "### sex"
   ]
  },
  {
   "cell_type": "code",
   "execution_count": 70,
   "id": "a9354a76",
   "metadata": {},
   "outputs": [],
   "source": [
    "a = 0.05"
   ]
  },
  {
   "cell_type": "code",
   "execution_count": 71,
   "id": "bb480326",
   "metadata": {},
   "outputs": [
    {
     "data": {
      "text/html": [
       "<style type=\"text/css\">\n",
       "#T_8380e_row0_col0, #T_8380e_row0_col3, #T_8380e_row7_col1 {\n",
       "  background-color: #08306b;\n",
       "  color: #f1f1f1;\n",
       "}\n",
       "#T_8380e_row0_col1, #T_8380e_row4_col0, #T_8380e_row7_col3 {\n",
       "  background-color: #f7fbff;\n",
       "  color: #000000;\n",
       "}\n",
       "#T_8380e_row1_col0, #T_8380e_row1_col1, #T_8380e_row1_col3, #T_8380e_row2_col0, #T_8380e_row2_col1, #T_8380e_row2_col3 {\n",
       "  background-color: #000000;\n",
       "  color: #f1f1f1;\n",
       "  color: white;\n",
       "  background-color: white;\n",
       "}\n",
       "#T_8380e_row3_col0 {\n",
       "  background-color: #eaf2fb;\n",
       "  color: #000000;\n",
       "}\n",
       "#T_8380e_row3_col1 {\n",
       "  background-color: #083b7c;\n",
       "  color: #f1f1f1;\n",
       "}\n",
       "#T_8380e_row3_col3 {\n",
       "  background-color: #f3f8fe;\n",
       "  color: #000000;\n",
       "}\n",
       "#T_8380e_row4_col1 {\n",
       "  background-color: #2474b7;\n",
       "  color: #f1f1f1;\n",
       "}\n",
       "#T_8380e_row4_col3 {\n",
       "  background-color: #dceaf6;\n",
       "  color: #000000;\n",
       "}\n",
       "#T_8380e_row5_col0 {\n",
       "  background-color: #f1f7fd;\n",
       "  color: #000000;\n",
       "}\n",
       "#T_8380e_row5_col1 {\n",
       "  background-color: #0e58a2;\n",
       "  color: #f1f1f1;\n",
       "}\n",
       "#T_8380e_row5_col3 {\n",
       "  background-color: #e8f1fa;\n",
       "  color: #000000;\n",
       "}\n",
       "#T_8380e_row6_col0 {\n",
       "  background-color: #eaf3fb;\n",
       "  color: #000000;\n",
       "}\n",
       "#T_8380e_row6_col1 {\n",
       "  background-color: #083e81;\n",
       "  color: #f1f1f1;\n",
       "}\n",
       "#T_8380e_row6_col3 {\n",
       "  background-color: #f2f7fd;\n",
       "  color: #000000;\n",
       "}\n",
       "#T_8380e_row7_col0 {\n",
       "  background-color: #e7f1fa;\n",
       "  color: #000000;\n",
       "}\n",
       "</style>\n",
       "<table id=\"T_8380e\">\n",
       "  <thead>\n",
       "    <tr>\n",
       "      <th class=\"blank level0\" >&nbsp;</th>\n",
       "      <th id=\"T_8380e_level0_col0\" class=\"col_heading level0 col0\" >t</th>\n",
       "      <th id=\"T_8380e_level0_col1\" class=\"col_heading level0 col1\" >p</th>\n",
       "      <th id=\"T_8380e_level0_col2\" class=\"col_heading level0 col2\" >sig</th>\n",
       "      <th id=\"T_8380e_level0_col3\" class=\"col_heading level0 col3\" >abs_t</th>\n",
       "    </tr>\n",
       "  </thead>\n",
       "  <tbody>\n",
       "    <tr>\n",
       "      <th id=\"T_8380e_level0_row0\" class=\"row_heading level0 row0\" >education.years</th>\n",
       "      <td id=\"T_8380e_row0_col0\" class=\"data row0 col0\" >2.321636</td>\n",
       "      <td id=\"T_8380e_row0_col1\" class=\"data row0 col1\" >0.022302</td>\n",
       "      <td id=\"T_8380e_row0_col2\" class=\"data row0 col2\" >True</td>\n",
       "      <td id=\"T_8380e_row0_col3\" class=\"data row0 col3\" >2.321636</td>\n",
       "    </tr>\n",
       "    <tr>\n",
       "      <th id=\"T_8380e_level0_row1\" class=\"row_heading level0 row1\" >dep.severity</th>\n",
       "      <td id=\"T_8380e_row1_col0\" class=\"data row1 col0\" >nan</td>\n",
       "      <td id=\"T_8380e_row1_col1\" class=\"data row1 col1\" >nan</td>\n",
       "      <td id=\"T_8380e_row1_col2\" class=\"data row1 col2\" >False</td>\n",
       "      <td id=\"T_8380e_row1_col3\" class=\"data row1 col3\" >nan</td>\n",
       "    </tr>\n",
       "    <tr>\n",
       "      <th id=\"T_8380e_level0_row2\" class=\"row_heading level0 row2\" >td.severity</th>\n",
       "      <td id=\"T_8380e_row2_col0\" class=\"data row2 col0\" >nan</td>\n",
       "      <td id=\"T_8380e_row2_col1\" class=\"data row2 col1\" >nan</td>\n",
       "      <td id=\"T_8380e_row2_col2\" class=\"data row2 col2\" >False</td>\n",
       "      <td id=\"T_8380e_row2_col3\" class=\"data row2 col3\" >nan</td>\n",
       "    </tr>\n",
       "    <tr>\n",
       "      <th id=\"T_8380e_level0_row3\" class=\"row_heading level0 row3\" >panss_td</th>\n",
       "      <td id=\"T_8380e_row3_col0\" class=\"data row3 col0\" >-0.528886</td>\n",
       "      <td id=\"T_8380e_row3_col1\" class=\"data row3 col1\" >0.602706</td>\n",
       "      <td id=\"T_8380e_row3_col2\" class=\"data row3 col2\" >False</td>\n",
       "      <td id=\"T_8380e_row3_col3\" class=\"data row3 col3\" >0.528886</td>\n",
       "    </tr>\n",
       "    <tr>\n",
       "      <th id=\"T_8380e_level0_row4\" class=\"row_heading level0 row4\" >panss_total</th>\n",
       "      <td id=\"T_8380e_row4_col0\" class=\"data row4 col0\" >-0.735628</td>\n",
       "      <td id=\"T_8380e_row4_col1\" class=\"data row4 col1\" >0.470497</td>\n",
       "      <td id=\"T_8380e_row4_col2\" class=\"data row4 col2\" >False</td>\n",
       "      <td id=\"T_8380e_row4_col3\" class=\"data row4 col3\" >0.735628</td>\n",
       "    </tr>\n",
       "    <tr>\n",
       "      <th id=\"T_8380e_level0_row5\" class=\"row_heading level0 row5\" >panss_neg</th>\n",
       "      <td id=\"T_8380e_row5_col0\" class=\"data row5 col0\" >-0.628695</td>\n",
       "      <td id=\"T_8380e_row5_col1\" class=\"data row5 col1\" >0.536664</td>\n",
       "      <td id=\"T_8380e_row5_col2\" class=\"data row5 col2\" >False</td>\n",
       "      <td id=\"T_8380e_row5_col3\" class=\"data row5 col3\" >0.628695</td>\n",
       "    </tr>\n",
       "    <tr>\n",
       "      <th id=\"T_8380e_level0_row6\" class=\"row_heading level0 row6\" >panss_pos</th>\n",
       "      <td id=\"T_8380e_row6_col0\" class=\"data row6 col0\" >-0.541530</td>\n",
       "      <td id=\"T_8380e_row6_col1\" class=\"data row6 col1\" >0.594124</td>\n",
       "      <td id=\"T_8380e_row6_col2\" class=\"data row6 col2\" >False</td>\n",
       "      <td id=\"T_8380e_row6_col3\" class=\"data row6 col3\" >0.541530</td>\n",
       "    </tr>\n",
       "    <tr>\n",
       "      <th id=\"T_8380e_level0_row7\" class=\"row_heading level0 row7\" >panss_o</th>\n",
       "      <td id=\"T_8380e_row7_col0\" class=\"data row7 col0\" >-0.490038</td>\n",
       "      <td id=\"T_8380e_row7_col1\" class=\"data row7 col1\" >0.629439</td>\n",
       "      <td id=\"T_8380e_row7_col2\" class=\"data row7 col2\" >False</td>\n",
       "      <td id=\"T_8380e_row7_col3\" class=\"data row7 col3\" >0.490038</td>\n",
       "    </tr>\n",
       "  </tbody>\n",
       "</table>\n"
      ],
      "text/plain": [
       "<pandas.io.formats.style.Styler at 0x7ff6fe5091c0>"
      ]
     },
     "execution_count": 71,
     "metadata": {},
     "output_type": "execute_result"
    }
   ],
   "source": [
    "s_t_sex, res_t_sex = display_group_test(control, numeric_target, 'sex', stats.ttest_ind, stat_name='t', alpha=a)\n",
    "style(res_t_sex)"
   ]
  },
  {
   "cell_type": "code",
   "execution_count": 72,
   "id": "927c9b7a",
   "metadata": {},
   "outputs": [
    {
     "data": {
      "text/html": [
       "<style type=\"text/css\">\n",
       "#T_5b2c9_row0_col0, #T_5b2c9_row0_col1, #T_5b2c9_row4_col3 {\n",
       "  background-color: #08306b;\n",
       "  color: #f1f1f1;\n",
       "}\n",
       "#T_5b2c9_row0_col3, #T_5b2c9_row4_col0, #T_5b2c9_row4_col1 {\n",
       "  background-color: #f7fbff;\n",
       "  color: #000000;\n",
       "}\n",
       "#T_5b2c9_row1_col0, #T_5b2c9_row1_col1, #T_5b2c9_row1_col3, #T_5b2c9_row2_col0, #T_5b2c9_row2_col1, #T_5b2c9_row2_col3 {\n",
       "  background-color: #000000;\n",
       "  color: #f1f1f1;\n",
       "  color: white;\n",
       "  background-color: white;\n",
       "}\n",
       "#T_5b2c9_row3_col0, #T_5b2c9_row6_col1 {\n",
       "  background-color: #c3daee;\n",
       "  color: #000000;\n",
       "}\n",
       "#T_5b2c9_row3_col1 {\n",
       "  background-color: #bed8ec;\n",
       "  color: #000000;\n",
       "}\n",
       "#T_5b2c9_row3_col3 {\n",
       "  background-color: #3181bd;\n",
       "  color: #f1f1f1;\n",
       "}\n",
       "#T_5b2c9_row5_col0 {\n",
       "  background-color: #dceaf6;\n",
       "  color: #000000;\n",
       "}\n",
       "#T_5b2c9_row5_col1 {\n",
       "  background-color: #dce9f6;\n",
       "  color: #000000;\n",
       "}\n",
       "#T_5b2c9_row5_col3 {\n",
       "  background-color: #0e59a2;\n",
       "  color: #f1f1f1;\n",
       "}\n",
       "#T_5b2c9_row6_col0 {\n",
       "  background-color: #c8dcf0;\n",
       "  color: #000000;\n",
       "}\n",
       "#T_5b2c9_row6_col3 {\n",
       "  background-color: #2c7cba;\n",
       "  color: #f1f1f1;\n",
       "}\n",
       "#T_5b2c9_row7_col0 {\n",
       "  background-color: #b4d3e9;\n",
       "  color: #000000;\n",
       "}\n",
       "#T_5b2c9_row7_col1 {\n",
       "  background-color: #abd0e6;\n",
       "  color: #000000;\n",
       "}\n",
       "#T_5b2c9_row7_col3 {\n",
       "  background-color: #3f8fc5;\n",
       "  color: #f1f1f1;\n",
       "}\n",
       "</style>\n",
       "<table id=\"T_5b2c9\">\n",
       "  <thead>\n",
       "    <tr>\n",
       "      <th class=\"blank level0\" >&nbsp;</th>\n",
       "      <th id=\"T_5b2c9_level0_col0\" class=\"col_heading level0 col0\" >t</th>\n",
       "      <th id=\"T_5b2c9_level0_col1\" class=\"col_heading level0 col1\" >p</th>\n",
       "      <th id=\"T_5b2c9_level0_col2\" class=\"col_heading level0 col2\" >sig</th>\n",
       "      <th id=\"T_5b2c9_level0_col3\" class=\"col_heading level0 col3\" >abs_t</th>\n",
       "    </tr>\n",
       "  </thead>\n",
       "  <tbody>\n",
       "    <tr>\n",
       "      <th id=\"T_5b2c9_level0_row0\" class=\"row_heading level0 row0\" >education.years</th>\n",
       "      <td id=\"T_5b2c9_row0_col0\" class=\"data row0 col0\" >0.066128</td>\n",
       "      <td id=\"T_5b2c9_row0_col1\" class=\"data row0 col1\" >0.947746</td>\n",
       "      <td id=\"T_5b2c9_row0_col2\" class=\"data row0 col2\" >False</td>\n",
       "      <td id=\"T_5b2c9_row0_col3\" class=\"data row0 col3\" >0.066128</td>\n",
       "    </tr>\n",
       "    <tr>\n",
       "      <th id=\"T_5b2c9_level0_row1\" class=\"row_heading level0 row1\" >dep.severity</th>\n",
       "      <td id=\"T_5b2c9_row1_col0\" class=\"data row1 col0\" >nan</td>\n",
       "      <td id=\"T_5b2c9_row1_col1\" class=\"data row1 col1\" >nan</td>\n",
       "      <td id=\"T_5b2c9_row1_col2\" class=\"data row1 col2\" >False</td>\n",
       "      <td id=\"T_5b2c9_row1_col3\" class=\"data row1 col3\" >nan</td>\n",
       "    </tr>\n",
       "    <tr>\n",
       "      <th id=\"T_5b2c9_level0_row2\" class=\"row_heading level0 row2\" >td.severity</th>\n",
       "      <td id=\"T_5b2c9_row2_col0\" class=\"data row2 col0\" >nan</td>\n",
       "      <td id=\"T_5b2c9_row2_col1\" class=\"data row2 col1\" >nan</td>\n",
       "      <td id=\"T_5b2c9_row2_col2\" class=\"data row2 col2\" >False</td>\n",
       "      <td id=\"T_5b2c9_row2_col3\" class=\"data row2 col3\" >nan</td>\n",
       "    </tr>\n",
       "    <tr>\n",
       "      <th id=\"T_5b2c9_level0_row3\" class=\"row_heading level0 row3\" >panss_td</th>\n",
       "      <td id=\"T_5b2c9_row3_col0\" class=\"data row3 col0\" >-0.528886</td>\n",
       "      <td id=\"T_5b2c9_row3_col1\" class=\"data row3 col1\" >0.602706</td>\n",
       "      <td id=\"T_5b2c9_row3_col2\" class=\"data row3 col2\" >False</td>\n",
       "      <td id=\"T_5b2c9_row3_col3\" class=\"data row3 col3\" >0.528886</td>\n",
       "    </tr>\n",
       "    <tr>\n",
       "      <th id=\"T_5b2c9_level0_row4\" class=\"row_heading level0 row4\" >panss_total</th>\n",
       "      <td id=\"T_5b2c9_row4_col0\" class=\"data row4 col0\" >-0.735628</td>\n",
       "      <td id=\"T_5b2c9_row4_col1\" class=\"data row4 col1\" >0.470497</td>\n",
       "      <td id=\"T_5b2c9_row4_col2\" class=\"data row4 col2\" >False</td>\n",
       "      <td id=\"T_5b2c9_row4_col3\" class=\"data row4 col3\" >0.735628</td>\n",
       "    </tr>\n",
       "    <tr>\n",
       "      <th id=\"T_5b2c9_level0_row5\" class=\"row_heading level0 row5\" >panss_neg</th>\n",
       "      <td id=\"T_5b2c9_row5_col0\" class=\"data row5 col0\" >-0.628695</td>\n",
       "      <td id=\"T_5b2c9_row5_col1\" class=\"data row5 col1\" >0.536664</td>\n",
       "      <td id=\"T_5b2c9_row5_col2\" class=\"data row5 col2\" >False</td>\n",
       "      <td id=\"T_5b2c9_row5_col3\" class=\"data row5 col3\" >0.628695</td>\n",
       "    </tr>\n",
       "    <tr>\n",
       "      <th id=\"T_5b2c9_level0_row6\" class=\"row_heading level0 row6\" >panss_pos</th>\n",
       "      <td id=\"T_5b2c9_row6_col0\" class=\"data row6 col0\" >-0.541530</td>\n",
       "      <td id=\"T_5b2c9_row6_col1\" class=\"data row6 col1\" >0.594124</td>\n",
       "      <td id=\"T_5b2c9_row6_col2\" class=\"data row6 col2\" >False</td>\n",
       "      <td id=\"T_5b2c9_row6_col3\" class=\"data row6 col3\" >0.541530</td>\n",
       "    </tr>\n",
       "    <tr>\n",
       "      <th id=\"T_5b2c9_level0_row7\" class=\"row_heading level0 row7\" >panss_o</th>\n",
       "      <td id=\"T_5b2c9_row7_col0\" class=\"data row7 col0\" >-0.490038</td>\n",
       "      <td id=\"T_5b2c9_row7_col1\" class=\"data row7 col1\" >0.629439</td>\n",
       "      <td id=\"T_5b2c9_row7_col2\" class=\"data row7 col2\" >False</td>\n",
       "      <td id=\"T_5b2c9_row7_col3\" class=\"data row7 col3\" >0.490038</td>\n",
       "    </tr>\n",
       "  </tbody>\n",
       "</table>\n"
      ],
      "text/plain": [
       "<pandas.io.formats.style.Styler at 0x7ff6fe85da60>"
      ]
     },
     "execution_count": 72,
     "metadata": {},
     "output_type": "execute_result"
    }
   ],
   "source": [
    "s_t_sex, res_t_sex = display_group_test(control_psy, numeric_target, 'sex', stats.ttest_ind, stat_name='t', alpha=a)\n",
    "style(res_t_sex)"
   ]
  },
  {
   "cell_type": "code",
   "execution_count": 73,
   "id": "6cdc3d71",
   "metadata": {
    "scrolled": false
   },
   "outputs": [
    {
     "data": {
      "text/html": [
       "<style type=\"text/css\">\n",
       "#T_aefe8_row0_col0 {\n",
       "  background-color: #cbdef1;\n",
       "  color: #000000;\n",
       "}\n",
       "#T_aefe8_row0_col1 {\n",
       "  background-color: #a9cfe5;\n",
       "  color: #000000;\n",
       "}\n",
       "#T_aefe8_row0_col3 {\n",
       "  background-color: #7cb7da;\n",
       "  color: #000000;\n",
       "}\n",
       "#T_aefe8_row1_col0, #T_aefe8_row1_col1, #T_aefe8_row7_col3 {\n",
       "  background-color: #f7fbff;\n",
       "  color: #000000;\n",
       "}\n",
       "#T_aefe8_row1_col3, #T_aefe8_row3_col0, #T_aefe8_row7_col1 {\n",
       "  background-color: #08306b;\n",
       "  color: #f1f1f1;\n",
       "}\n",
       "#T_aefe8_row2_col0 {\n",
       "  background-color: #3282be;\n",
       "  color: #f1f1f1;\n",
       "}\n",
       "#T_aefe8_row2_col1 {\n",
       "  background-color: #1663aa;\n",
       "  color: #f1f1f1;\n",
       "}\n",
       "#T_aefe8_row2_col3 {\n",
       "  background-color: #e0ecf8;\n",
       "  color: #000000;\n",
       "}\n",
       "#T_aefe8_row3_col1, #T_aefe8_row5_col3 {\n",
       "  background-color: #eef5fc;\n",
       "  color: #000000;\n",
       "}\n",
       "#T_aefe8_row3_col3 {\n",
       "  background-color: #09529d;\n",
       "  color: #f1f1f1;\n",
       "}\n",
       "#T_aefe8_row4_col0 {\n",
       "  background-color: #3d8dc4;\n",
       "  color: #f1f1f1;\n",
       "}\n",
       "#T_aefe8_row4_col1 {\n",
       "  background-color: #08326e;\n",
       "  color: #f1f1f1;\n",
       "}\n",
       "#T_aefe8_row4_col3 {\n",
       "  background-color: #f6faff;\n",
       "  color: #000000;\n",
       "}\n",
       "#T_aefe8_row5_col0 {\n",
       "  background-color: #3888c1;\n",
       "  color: #f1f1f1;\n",
       "}\n",
       "#T_aefe8_row5_col1 {\n",
       "  background-color: #08478d;\n",
       "  color: #f1f1f1;\n",
       "}\n",
       "#T_aefe8_row6_col0 {\n",
       "  background-color: #08519c;\n",
       "  color: #f1f1f1;\n",
       "}\n",
       "#T_aefe8_row6_col1 {\n",
       "  background-color: #c7dcef;\n",
       "  color: #000000;\n",
       "}\n",
       "#T_aefe8_row6_col3 {\n",
       "  background-color: #56a0ce;\n",
       "  color: #f1f1f1;\n",
       "}\n",
       "#T_aefe8_row7_col0 {\n",
       "  background-color: #8dc1dd;\n",
       "  color: #000000;\n",
       "}\n",
       "</style>\n",
       "<table id=\"T_aefe8\">\n",
       "  <thead>\n",
       "    <tr>\n",
       "      <th class=\"blank level0\" >&nbsp;</th>\n",
       "      <th id=\"T_aefe8_level0_col0\" class=\"col_heading level0 col0\" >t</th>\n",
       "      <th id=\"T_aefe8_level0_col1\" class=\"col_heading level0 col1\" >p</th>\n",
       "      <th id=\"T_aefe8_level0_col2\" class=\"col_heading level0 col2\" >sig</th>\n",
       "      <th id=\"T_aefe8_level0_col3\" class=\"col_heading level0 col3\" >abs_t</th>\n",
       "    </tr>\n",
       "  </thead>\n",
       "  <tbody>\n",
       "    <tr>\n",
       "      <th id=\"T_aefe8_level0_row0\" class=\"row_heading level0 row0\" >education.years</th>\n",
       "      <td id=\"T_aefe8_row0_col0\" class=\"data row0 col0\" >-1.122772</td>\n",
       "      <td id=\"T_aefe8_row0_col1\" class=\"data row0 col1\" >0.270744</td>\n",
       "      <td id=\"T_aefe8_row0_col2\" class=\"data row0 col2\" >False</td>\n",
       "      <td id=\"T_aefe8_row0_col3\" class=\"data row0 col3\" >1.122772</td>\n",
       "    </tr>\n",
       "    <tr>\n",
       "      <th id=\"T_aefe8_level0_row1\" class=\"row_heading level0 row1\" >dep.severity</th>\n",
       "      <td id=\"T_aefe8_row1_col0\" class=\"data row1 col0\" >-1.954622</td>\n",
       "      <td id=\"T_aefe8_row1_col1\" class=\"data row1 col1\" >0.060329</td>\n",
       "      <td id=\"T_aefe8_row1_col2\" class=\"data row1 col2\" >False</td>\n",
       "      <td id=\"T_aefe8_row1_col3\" class=\"data row1 col3\" >1.954622</td>\n",
       "    </tr>\n",
       "    <tr>\n",
       "      <th id=\"T_aefe8_level0_row2\" class=\"row_heading level0 row2\" >td.severity</th>\n",
       "      <td id=\"T_aefe8_row2_col0\" class=\"data row2 col0\" >0.592289</td>\n",
       "      <td id=\"T_aefe8_row2_col1\" class=\"data row2 col1\" >0.558247</td>\n",
       "      <td id=\"T_aefe8_row2_col2\" class=\"data row2 col2\" >False</td>\n",
       "      <td id=\"T_aefe8_row2_col3\" class=\"data row2 col3\" >0.592289</td>\n",
       "    </tr>\n",
       "    <tr>\n",
       "      <th id=\"T_aefe8_level0_row3\" class=\"row_heading level0 row3\" >panss_td</th>\n",
       "      <td id=\"T_aefe8_row3_col0\" class=\"data row3 col0\" >1.753714</td>\n",
       "      <td id=\"T_aefe8_row3_col1\" class=\"data row3 col1\" >0.090826</td>\n",
       "      <td id=\"T_aefe8_row3_col2\" class=\"data row3 col2\" >False</td>\n",
       "      <td id=\"T_aefe8_row3_col3\" class=\"data row3 col3\" >1.753714</td>\n",
       "    </tr>\n",
       "    <tr>\n",
       "      <th id=\"T_aefe8_level0_row4\" class=\"row_heading level0 row4\" >panss_total</th>\n",
       "      <td id=\"T_aefe8_row4_col0\" class=\"data row4 col0\" >0.426912</td>\n",
       "      <td id=\"T_aefe8_row4_col1\" class=\"data row4 col1\" >0.672829</td>\n",
       "      <td id=\"T_aefe8_row4_col2\" class=\"data row4 col2\" >False</td>\n",
       "      <td id=\"T_aefe8_row4_col3\" class=\"data row4 col3\" >0.426912</td>\n",
       "    </tr>\n",
       "    <tr>\n",
       "      <th id=\"T_aefe8_level0_row5\" class=\"row_heading level0 row5\" >panss_neg</th>\n",
       "      <td id=\"T_aefe8_row5_col0\" class=\"data row5 col0\" >0.495589</td>\n",
       "      <td id=\"T_aefe8_row5_col1\" class=\"data row5 col1\" >0.624194</td>\n",
       "      <td id=\"T_aefe8_row5_col2\" class=\"data row5 col2\" >False</td>\n",
       "      <td id=\"T_aefe8_row5_col3\" class=\"data row5 col3\" >0.495589</td>\n",
       "    </tr>\n",
       "    <tr>\n",
       "      <th id=\"T_aefe8_level0_row6\" class=\"row_heading level0 row6\" >panss_pos</th>\n",
       "      <td id=\"T_aefe8_row6_col0\" class=\"data row6 col0\" >1.282777</td>\n",
       "      <td id=\"T_aefe8_row6_col1\" class=\"data row6 col1\" >0.210473</td>\n",
       "      <td id=\"T_aefe8_row6_col2\" class=\"data row6 col2\" >False</td>\n",
       "      <td id=\"T_aefe8_row6_col3\" class=\"data row6 col3\" >1.282777</td>\n",
       "    </tr>\n",
       "    <tr>\n",
       "      <th id=\"T_aefe8_level0_row7\" class=\"row_heading level0 row7\" >panss_o</th>\n",
       "      <td id=\"T_aefe8_row7_col0\" class=\"data row7 col0\" >-0.418000</td>\n",
       "      <td id=\"T_aefe8_row7_col1\" class=\"data row7 col1\" >0.679253</td>\n",
       "      <td id=\"T_aefe8_row7_col2\" class=\"data row7 col2\" >False</td>\n",
       "      <td id=\"T_aefe8_row7_col3\" class=\"data row7 col3\" >0.418000</td>\n",
       "    </tr>\n",
       "  </tbody>\n",
       "</table>\n"
      ],
      "text/plain": [
       "<pandas.io.formats.style.Styler at 0x7ff6feb3af10>"
      ]
     },
     "execution_count": 73,
     "metadata": {},
     "output_type": "execute_result"
    }
   ],
   "source": [
    "s_t_sex, res_t_sex = display_group_test(sz, numeric_target, 'sex', stats.ttest_ind, stat_name='t', alpha=a)\n",
    "style(res_t_sex)"
   ]
  },
  {
   "cell_type": "markdown",
   "id": "ae3f1705",
   "metadata": {},
   "source": [
    "### correlation between target variables"
   ]
  },
  {
   "cell_type": "code",
   "execution_count": 74,
   "id": "ba80a25f",
   "metadata": {},
   "outputs": [
    {
     "data": {
      "text/html": [
       "<div>\n",
       "<style scoped>\n",
       "    .dataframe tbody tr th:only-of-type {\n",
       "        vertical-align: middle;\n",
       "    }\n",
       "\n",
       "    .dataframe tbody tr th {\n",
       "        vertical-align: top;\n",
       "    }\n",
       "\n",
       "    .dataframe thead th {\n",
       "        text-align: right;\n",
       "    }\n",
       "</style>\n",
       "<table border=\"1\" class=\"dataframe\">\n",
       "  <thead>\n",
       "    <tr style=\"text-align: right;\">\n",
       "      <th></th>\n",
       "      <th>r</th>\n",
       "      <th>p</th>\n",
       "      <th>sig</th>\n",
       "      <th>abs_r</th>\n",
       "    </tr>\n",
       "  </thead>\n",
       "  <tbody>\n",
       "    <tr>\n",
       "      <th>education.years</th>\n",
       "      <td>0.468966</td>\n",
       "      <td>0.0</td>\n",
       "      <td>True</td>\n",
       "      <td>0.468966</td>\n",
       "    </tr>\n",
       "    <tr>\n",
       "      <th>panss_neg</th>\n",
       "      <td>0.383708</td>\n",
       "      <td>0.001749</td>\n",
       "      <td>True</td>\n",
       "      <td>0.383708</td>\n",
       "    </tr>\n",
       "  </tbody>\n",
       "</table>\n",
       "</div>"
      ],
      "text/plain": [
       "                        r         p   sig     abs_r\n",
       "education.years  0.468966       0.0  True  0.468966\n",
       "panss_neg        0.383708  0.001749  True  0.383708"
      ]
     },
     "execution_count": 74,
     "metadata": {},
     "output_type": "execute_result"
    }
   ],
   "source": [
    "x, y = display_test(df, numeric_target, 'age', stats.pearsonr, stat_name='r', alpha=a)\n",
    "y[y['abs_r']> 0.3].sort_values('abs_r', ascending=False)"
   ]
  },
  {
   "cell_type": "code",
   "execution_count": 75,
   "id": "b542f52c",
   "metadata": {},
   "outputs": [
    {
     "data": {
      "text/html": [
       "<div>\n",
       "<style scoped>\n",
       "    .dataframe tbody tr th:only-of-type {\n",
       "        vertical-align: middle;\n",
       "    }\n",
       "\n",
       "    .dataframe tbody tr th {\n",
       "        vertical-align: top;\n",
       "    }\n",
       "\n",
       "    .dataframe thead th {\n",
       "        text-align: right;\n",
       "    }\n",
       "</style>\n",
       "<table border=\"1\" class=\"dataframe\">\n",
       "  <thead>\n",
       "    <tr style=\"text-align: right;\">\n",
       "      <th></th>\n",
       "      <th>r</th>\n",
       "      <th>p</th>\n",
       "      <th>sig</th>\n",
       "      <th>abs_r</th>\n",
       "    </tr>\n",
       "  </thead>\n",
       "  <tbody>\n",
       "    <tr>\n",
       "      <th>panss_o</th>\n",
       "      <td>-0.407709</td>\n",
       "      <td>0.000826</td>\n",
       "      <td>True</td>\n",
       "      <td>0.407709</td>\n",
       "    </tr>\n",
       "    <tr>\n",
       "      <th>dep.severity</th>\n",
       "      <td>-0.331386</td>\n",
       "      <td>0.002852</td>\n",
       "      <td>True</td>\n",
       "      <td>0.331386</td>\n",
       "    </tr>\n",
       "  </tbody>\n",
       "</table>\n",
       "</div>"
      ],
      "text/plain": [
       "                     r         p   sig     abs_r\n",
       "panss_o      -0.407709  0.000826  True  0.407709\n",
       "dep.severity -0.331386  0.002852  True  0.331386"
      ]
     },
     "execution_count": 75,
     "metadata": {},
     "output_type": "execute_result"
    }
   ],
   "source": [
    "x, y = display_test(df, numeric_target, 'education.years', stats.pearsonr, stat_name='r', alpha=a)\n",
    "y[y['abs_r']> 0.3].sort_values('abs_r', ascending=False)"
   ]
  },
  {
   "cell_type": "markdown",
   "id": "55451ada",
   "metadata": {},
   "source": [
    "### Relative symptom severity (positive vs negative symptoms) by group"
   ]
  },
  {
   "cell_type": "code",
   "execution_count": 76,
   "id": "5208f046",
   "metadata": {},
   "outputs": [],
   "source": [
    "fig, axes = plt.subplots(3, 3, figsize=(15, 10))\n",
    "fig.suptitle('PANSS score distribution')\n",
    "\n",
    "sns.histplot(sz['panss_total'], ax=axes[0, 0], binwidth=5)\n",
    "axes[0, 0].set_xlim(30, 95)\n",
    "sns.histplot(dep['panss_total'], ax=axes[1, 0], binwidth=5)\n",
    "axes[1, 0].set_xlim(30, 95)\n",
    "sns.histplot(control_psy['panss_total'], ax=axes[2, 0], binwidth=5)\n",
    "axes[2, 0].set_xlim(30, 95)\n",
    "sns.histplot(sz['panss_neg'], ax=axes[0, 1], binwidth=2)\n",
    "axes[0, 1].set_xlim(7, 45)\n",
    "sns.histplot(dep['panss_neg'], ax=axes[1, 1], binwidth=2)\n",
    "axes[1, 1].set_xlim(7, 45)\n",
    "sns.histplot(control_psy['panss_neg'], ax=axes[2, 1], binwidth=2)\n",
    "axes[2, 1].set_xlim(7, 45)\n",
    "sns.histplot(sz['panss_pos'], ax=axes[0, 2], binwidth=2)\n",
    "axes[0, 2].set_xlim(7, 30)\n",
    "sns.histplot(dep['panss_pos'], ax=axes[1, 2], binwidth=2)\n",
    "axes[1, 2].set_xlim(7, 30)\n",
    "sns.histplot(control_psy['panss_pos'], ax=axes[2, 2], binwidth=2)\n",
    "axes[2, 2].set_xlim(7, 30)\n",
    "\n",
    "for ax, col in zip(axes[0], ('total', 'positive', 'negative')):\n",
    "    ax.set_title(col)\n",
    "\n",
    "for ax, row in zip(axes[:,0], ('NAP', 'Dep', 'HC')):\n",
    "    ax.set_ylabel(row, rotation=0, size='large')\n",
    "plt.close(fig)"
   ]
  },
  {
   "cell_type": "code",
   "execution_count": 77,
   "id": "791fc073",
   "metadata": {},
   "outputs": [],
   "source": [
    "fig, axes = plt.subplots(2, 2, figsize=(12, 8))\n",
    "fig.suptitle('severity')\n",
    "\n",
    "\n",
    "sns.histplot(sz['dep.severity'], ax=axes[0, 0])\n",
    "sns.histplot(dep['dep.severity'], ax=axes[1, 0])\n",
    "sns.histplot(sz['td.severity'], ax=axes[0, 1])\n",
    "sns.histplot(dep['td.severity'], ax=axes[1, 1])\n",
    "axes[1, 1].set_xlim(0, 3)\n",
    "\n",
    "for ax, col in zip(axes[0], ('Dep', 'TD')):\n",
    "    ax.set_title(col)\n",
    "\n",
    "for ax, row in zip(axes[:,0], ('NAP', 'Dep')):\n",
    "    ax.set_ylabel(row, rotation=0, size='large')\n",
    "plt.close(fig)"
   ]
  },
  {
   "cell_type": "markdown",
   "id": "f906571b",
   "metadata": {},
   "source": [
    "# Merge psychoscial data to scores"
   ]
  },
  {
   "cell_type": "code",
   "execution_count": 78,
   "id": "00ae3606",
   "metadata": {},
   "outputs": [],
   "source": [
    "merge_df = res_df.copy()\n",
    "for col in target_cols + panss_cols:\n",
    "    merge_df[('target', 'target', col)] = df[col]"
   ]
  },
  {
   "cell_type": "code",
   "execution_count": 79,
   "id": "1ae7d8d7",
   "metadata": {},
   "outputs": [],
   "source": [
    "cols_tasks = res_df['sportsman'].columns\n",
    "cols_LM = [col for col in res_df['sportsman'] if col[0] == 'LM']\n",
    "cols_synt = [col for col in res_df['sportsman'] if col[0] == 'syntactic']\n",
    "cols_lex = [col for col in res_df['sportsman'] if col[0] == 'lexical']\n",
    "cols_graph = [col for col in res_df['sportsman'] if col[0] == 'graph']"
   ]
  },
  {
   "cell_type": "code",
   "execution_count": 80,
   "id": "e7b99099",
   "metadata": {},
   "outputs": [],
   "source": [
    "POS_to_use = ('ADJ', 'ADV', 'AUX', 'CCONJ', 'DET','NOUN', 'PRON', 'PROPN', 'SCONJ', 'VERB', 'PART')\n",
    "pos = set([x[1] for x in cols_synt if x[1].isupper()])"
   ]
  },
  {
   "cell_type": "code",
   "execution_count": 81,
   "id": "4e0bbe72",
   "metadata": {},
   "outputs": [],
   "source": [
    "pos_cols_to_drop = [(task, c[0], c[1]) for task in TASKS for c in cols_synt if c[1].isupper() and c[1] not in POS_to_use and (task, c[0], c[1]) in merge_df.columns]"
   ]
  },
  {
   "cell_type": "code",
   "execution_count": 82,
   "id": "c55f40f4",
   "metadata": {},
   "outputs": [],
   "source": [
    "merge_df.drop(columns=pos_cols_to_drop, inplace=True)"
   ]
  },
  {
   "cell_type": "code",
   "execution_count": 83,
   "id": "bc48853d",
   "metadata": {},
   "outputs": [],
   "source": [
    "cols_synt = [col for col in merge_df['chair'] if col[0] == 'syntactic']\n",
    "cols_tasks = cols_synt + cols_LM + cols_lex + cols_graph"
   ]
  },
  {
   "cell_type": "code",
   "execution_count": 84,
   "id": "9ef868d4",
   "metadata": {},
   "outputs": [],
   "source": [
    "merge_df.to_csv('/Users/galina.ryazanskaya/Downloads/thesis?/code?/processed_values/ru_all.csv')"
   ]
  },
  {
   "cell_type": "markdown",
   "id": "8e968ec8",
   "metadata": {},
   "source": [
    "### for-task functions"
   ]
  },
  {
   "cell_type": "code",
   "execution_count": 85,
   "id": "1969b89c",
   "metadata": {},
   "outputs": [],
   "source": [
    "def corr(df, target):\n",
    "    return df[~pd.isnull(df[target])].corr()[target]"
   ]
  },
  {
   "cell_type": "code",
   "execution_count": 86,
   "id": "e1ef1c80",
   "metadata": {},
   "outputs": [],
   "source": [
    "def corr_thresh(df, target, thresh=0.3, drop_target=True):\n",
    "    corr_tgt = corr(df, target)\n",
    "    if drop_target:\n",
    "        corr_tgt.drop('target', inplace=True)\n",
    "    return corr_tgt[abs(corr_tgt) >= thresh]"
   ]
  },
  {
   "cell_type": "code",
   "execution_count": 87,
   "id": "e6acd08e",
   "metadata": {},
   "outputs": [],
   "source": [
    "def ttest(df, test_columns, group):\n",
    "    s_t, res_t = display_group_test(df, test_columns, group, stats.ttest_ind, stat_name='t', alpha=a)\n",
    "    return res_t[['t', 'p']]"
   ]
  },
  {
   "cell_type": "markdown",
   "id": "b7459d44",
   "metadata": {},
   "source": [
    "# Analyze the asscoiations with the control factors"
   ]
  },
  {
   "cell_type": "code",
   "execution_count": 88,
   "id": "6b0d1027",
   "metadata": {},
   "outputs": [],
   "source": [
    "def test_corr_sig(df, cols, target_col, mult=len(TASKS)):\n",
    "    s, t = display_test(df, cols, target_col, stats.pearsonr, stat_name='r')\n",
    "    t['p'] = t['p'] * (len(t) * mult)\n",
    "    t['corr_sig'] = t['p'] < 0.05\n",
    "    t['p'] = t['p'] / (len(t) * mult)\n",
    "    t.drop(columns=['sig'], inplace=True)\n",
    "    return t.sort_values([f'abs_r', 'p'], ascending=False)"
   ]
  },
  {
   "cell_type": "code",
   "execution_count": 89,
   "id": "cbbce1e3",
   "metadata": {},
   "outputs": [],
   "source": [
    "tgt_tsk = [('target', c) for c in ('panss_total', 'panss_neg', 'panss_pos', 'panss_o', 'dep.severity', 'td.severity', 'age', 'education.years')]"
   ]
  },
  {
   "cell_type": "markdown",
   "id": "3a1651cc",
   "metadata": {},
   "source": [
    "### t-tests"
   ]
  },
  {
   "cell_type": "code",
   "execution_count": 90,
   "id": "85657e55",
   "metadata": {},
   "outputs": [],
   "source": [
    "def t_test_corr_sig(df, cols, target_col, mult=len(TASKS)):\n",
    "    s, t = display_group_test(df, cols, target_col, stats.ttest_ind, stat_name='t', alpha=a)\n",
    "    t['p'] = t['p'] * (len(t) * mult)\n",
    "    t['corr_sig'] = t['p'] < 0.05\n",
    "    t['p'] = t['p'] / (len(t) * mult)\n",
    "    t.drop(columns=['sig'], inplace=True)\n",
    "    return t.sort_values([f'abs_t', 'p'], ascending=False)"
   ]
  },
  {
   "cell_type": "code",
   "execution_count": 91,
   "id": "d9c07869",
   "metadata": {},
   "outputs": [
    {
     "name": "stdout",
     "output_type": "stream",
     "text": [
      "adventure\n",
      "chair\n",
      "present\n",
      "sportsman\n"
     ]
    }
   ],
   "source": [
    "for task in TASKS:\n",
    "    print(task)\n",
    "    tres = t_test_corr_sig(task_data(merge_df, task, keep_target=True), cols_tasks, ('target', 'sex'))\n",
    "    tr = tres[tres['corr_sig'] == True]\n",
    "    if len(tr) > 0:\n",
    "        print(tr)"
   ]
  },
  {
   "cell_type": "markdown",
   "id": "e8632346",
   "metadata": {},
   "source": [
    "### r correlations"
   ]
  },
  {
   "cell_type": "code",
   "execution_count": 92,
   "id": "2f5b5c87",
   "metadata": {
    "scrolled": false
   },
   "outputs": [
    {
     "name": "stdout",
     "output_type": "stream",
     "text": [
      "adventure\n",
      "chair\n",
      "present\n",
      "sportsman\n"
     ]
    }
   ],
   "source": [
    "for task in TASKS:\n",
    "    print(task)\n",
    "    tres = test_corr_sig(task_data(merge_df, task), tgt_tsk, ('syntactic', 'mean_sent_len'))\n",
    "    tr = tres[tres['corr_sig'] == True]\n",
    "    if len(tr) > 0:\n",
    "        print(tr)"
   ]
  },
  {
   "cell_type": "code",
   "execution_count": 93,
   "id": "159d7297",
   "metadata": {
    "scrolled": true
   },
   "outputs": [
    {
     "name": "stdout",
     "output_type": "stream",
     "text": [
      "adventure\n",
      "chair\n",
      "present\n",
      "sportsman\n"
     ]
    }
   ],
   "source": [
    "for task in TASKS:\n",
    "    print(task)\n",
    "    tres = test_corr_sig(task_data(merge_df, task), cols_tasks, ('target', 'age'))\n",
    "    tr = tres[tres['corr_sig'] == True]\n",
    "    if len(tr) > 0:\n",
    "        print(tr)"
   ]
  },
  {
   "cell_type": "code",
   "execution_count": 94,
   "id": "134cf88a",
   "metadata": {
    "scrolled": true
   },
   "outputs": [
    {
     "name": "stdout",
     "output_type": "stream",
     "text": [
      "adventure\n",
      "chair\n",
      "present\n",
      "sportsman\n"
     ]
    }
   ],
   "source": [
    "for task in TASKS:\n",
    "    print(task)\n",
    "    tres = test_corr_sig(task_data(merge_df, task), cols_tasks, ('target', 'education.years'))\n",
    "    tr = tres[tres['corr_sig'] == True]\n",
    "    if len(tr) > 0:\n",
    "        print(tr)"
   ]
  },
  {
   "cell_type": "code",
   "execution_count": 95,
   "id": "51fceedd",
   "metadata": {},
   "outputs": [],
   "source": [
    "control_psy = merge_df[merge_df[('target', 'target', 'diagnosis.group')] == 'control_psy']"
   ]
  },
  {
   "cell_type": "code",
   "execution_count": 96,
   "id": "92adc11b",
   "metadata": {},
   "outputs": [
    {
     "data": {
      "text/html": [
       "<style type=\"text/css\">\n",
       "</style>\n",
       "<table id=\"T_6d5d5\">\n",
       "  <thead>\n",
       "    <tr>\n",
       "      <th class=\"blank\" >&nbsp;</th>\n",
       "      <th class=\"blank level0\" >&nbsp;</th>\n",
       "      <th id=\"T_6d5d5_level0_col0\" class=\"col_heading level0 col0\" >adventure</th>\n",
       "      <th id=\"T_6d5d5_level0_col1\" class=\"col_heading level0 col1\" >chair</th>\n",
       "      <th id=\"T_6d5d5_level0_col2\" class=\"col_heading level0 col2\" >present</th>\n",
       "      <th id=\"T_6d5d5_level0_col3\" class=\"col_heading level0 col3\" >sportsman</th>\n",
       "    </tr>\n",
       "  </thead>\n",
       "  <tbody>\n",
       "  </tbody>\n",
       "</table>\n"
      ],
      "text/plain": [
       "<pandas.io.formats.style.Styler at 0x7ff70005eca0>"
      ]
     },
     "execution_count": 96,
     "metadata": {},
     "output_type": "execute_result"
    }
   ],
   "source": [
    "style(aplly_to_all_tasks(control_psy, corr_thresh, target=('target', 'age'), thresh=0.4))"
   ]
  },
  {
   "cell_type": "code",
   "execution_count": 97,
   "id": "9691834e",
   "metadata": {
    "scrolled": true
   },
   "outputs": [
    {
     "data": {
      "text/html": [
       "<style type=\"text/css\">\n",
       "</style>\n",
       "<table id=\"T_49d56\">\n",
       "  <thead>\n",
       "    <tr>\n",
       "      <th class=\"blank\" >&nbsp;</th>\n",
       "      <th class=\"blank level0\" >&nbsp;</th>\n",
       "      <th id=\"T_49d56_level0_col0\" class=\"col_heading level0 col0\" >adventure</th>\n",
       "      <th id=\"T_49d56_level0_col1\" class=\"col_heading level0 col1\" >chair</th>\n",
       "      <th id=\"T_49d56_level0_col2\" class=\"col_heading level0 col2\" >present</th>\n",
       "      <th id=\"T_49d56_level0_col3\" class=\"col_heading level0 col3\" >sportsman</th>\n",
       "    </tr>\n",
       "  </thead>\n",
       "  <tbody>\n",
       "  </tbody>\n",
       "</table>\n"
      ],
      "text/plain": [
       "<pandas.io.formats.style.Styler at 0x7ff71bb539a0>"
      ]
     },
     "execution_count": 97,
     "metadata": {},
     "output_type": "execute_result"
    }
   ],
   "source": [
    "style(aplly_to_all_tasks(control_psy, corr_thresh, target=('target', 'education.years'), thresh=0.4))"
   ]
  },
  {
   "cell_type": "markdown",
   "id": "faacd688",
   "metadata": {},
   "source": [
    "# Analyze lengths"
   ]
  },
  {
   "cell_type": "code",
   "execution_count": 98,
   "id": "41526a4e",
   "metadata": {},
   "outputs": [],
   "source": [
    "c_map = {'control': 0, 'control_psy': 1, 'dep': 2, 'sz': 3}"
   ]
  },
  {
   "cell_type": "code",
   "execution_count": 99,
   "id": "3702ba3f",
   "metadata": {},
   "outputs": [
    {
     "name": "stdout",
     "output_type": "stream",
     "text": [
      "adventure\n",
      "\t ('lexical', 'n_words') 110.9 (70.7)\n",
      "\t ('syntactic', 'n_sents') 18.7 (11.0)\n",
      "\t\t ('syntactic', 'n_sents') 0.9\n",
      "\t ('syntactic', 'mean_sent_len') 5.9 (1.5)\n",
      "\t\t ('syntactic', 'mean_sent_len') 0.38\n",
      "chair\n",
      "\t ('lexical', 'n_words') 148.8 (107.0)\n",
      "\t ('syntactic', 'n_sents') 20.4 (15.0)\n",
      "\t\t ('syntactic', 'n_sents') 0.93\n",
      "\t ('syntactic', 'mean_sent_len') 7.2 (1.6)\n",
      "\t\t ('syntactic', 'mean_sent_len') 0.41\n",
      "present\n",
      "\t ('lexical', 'n_words') 126.1 (95.6)\n",
      "\t ('syntactic', 'n_sents') 15.1 (12.7)\n",
      "\t\t ('syntactic', 'n_sents') 0.94\n",
      "\t ('syntactic', 'mean_sent_len') 9.0 (4.7)\n",
      "\t\t ('syntactic', 'mean_sent_len') 0.1\n",
      "sportsman\n",
      "\t ('lexical', 'n_words') 117.7 (76.7)\n",
      "\t ('syntactic', 'n_sents') 17.7 (10.1)\n",
      "\t\t ('syntactic', 'n_sents') 0.91\n",
      "\t ('syntactic', 'mean_sent_len') 6.9 (2.3)\n",
      "\t\t ('syntactic', 'mean_sent_len') 0.12\n"
     ]
    }
   ],
   "source": [
    "for task in TASKS:\n",
    "    print(task)\n",
    "    for col in [('lexical', 'n_words'), ('syntactic', 'n_sents'), ('syntactic', 'mean_sent_len')]:\n",
    "        tdf = task_data(merge_df, task, keep_target=True)\n",
    "        tdf = tdf[tdf['target']['diagnosis.type'] != 'control']\n",
    "        print('\\t', col, f'{tdf[col].mean().round(1)} ({tdf[col].std().round(1)})')\n",
    "        if col != ('lexical', 'n_words'):\n",
    "            r = stats.pearsonr(tdf[col], tdf[('lexical', 'n_words')]).statistic\n",
    "            print('\\t\\t', col, r.round(2))"
   ]
  },
  {
   "cell_type": "code",
   "execution_count": 100,
   "id": "e9d5a8ba",
   "metadata": {},
   "outputs": [],
   "source": [
    "def plot_scatter_corr(x, y, x_name, y_name, ax, title=None, c=None, \n",
    "                      cmap_colors=('steelblue', 'mediumseagreen', 'gold'), #'indigo', \n",
    "                      classes=('control_psy', 'dep', 'NAP'),\n",
    "                         xlim=None, ylim=None): #'control',\n",
    "    r = stats.pearsonr(x, y).statistic\n",
    "    X = sm.add_constant(x)\n",
    "    model = sm.OLS(y, X).fit()\n",
    "    ypred = model.predict(X)\n",
    "    if xlim:\n",
    "        ax.set_xlim(*xlim)\n",
    "    if ylim:\n",
    "        ax.set_ylim(*ylim)\n",
    "\n",
    "#     ax.plot(x, ypred, color='red', label=f'coef: {model.params[1]:.2f} \\ncorr: {r:.2f}')\n",
    "    ax.axline((x[0], ypred[0]), (x[1], ypred[1]),  color='red') #slope=r,\n",
    "\n",
    "    \n",
    "    if c is not None:\n",
    "        cmap = ListedColormap(cmap_colors)\n",
    "        scatter = ax.scatter(x, y, c=c, cmap=cmap)\n",
    "        ax.legend(handles=scatter.legend_elements()[0], labels=classes)\n",
    "    else:\n",
    "        scatter = ax.scatter(x, y)\n",
    "    ax.set_xlabel(x_name)\n",
    "    ax.set_ylabel(y_name)"
   ]
  },
  {
   "cell_type": "code",
   "execution_count": 101,
   "id": "1e7f709b",
   "metadata": {},
   "outputs": [],
   "source": [
    "def plot_task(df, task, axes, xlims=(None, None), ylims=(None, None), xmin=(0, 4), ymins=(0, 0), force_no_xnames=False):\n",
    "    tdf = task_data(df, task, keep_target=True)\n",
    "    tdf = tdf[tdf['target']['diagnosis.type'] != 'control']\n",
    "    c = [c_map[label] for label in tdf['target']['diagnosis.type']]\n",
    "    x_name= '' if force_no_xnames else 'n_sents'\n",
    "    plot_scatter_corr(tdf[('syntactic', 'n_sents')], tdf[('lexical', 'n_words')],\n",
    "                     x_name=x_name, y_name='n_words', ax=axes[0], c=c, \n",
    "                      xlim=(xmin[0], xlims[0]), ylim=(ymins[0], ylims[0]))\n",
    "    x_name= '' if force_no_xnames else 'mean_sent_len'\n",
    "    plot_scatter_corr(tdf[('syntactic', 'mean_sent_len')], tdf[('lexical', 'n_words')],\n",
    "                     x_name=x_name, y_name='', ax=axes[1], c=c, \n",
    "                      xlim=(xmin[1], xlims[1]), ylim=(ymins[1], ylims[1]))"
   ]
  },
  {
   "cell_type": "code",
   "execution_count": 102,
   "id": "6a58c179",
   "metadata": {},
   "outputs": [],
   "source": [
    "fig = plt.figure(constrained_layout=True, figsize=(10, 20))\n",
    "fig.suptitle('number of words against number of sentences and mean sentence length')\n",
    "\n",
    "# create 4x1 subfigs\n",
    "subfigs = fig.subfigures(nrows=4, ncols=1)\n",
    "for i, subfig in enumerate(subfigs):\n",
    "    task = TASKS[i]\n",
    "    subfig.supylabel(f'{task} task')\n",
    "    # create 1x2 subplots per subfig\n",
    "    axs = subfig.subplots(nrows=1, ncols=2, sharey=True)\n",
    "    plot_task(merge_df, task, axs, xlims=(100, 40), ylims=(800, 800), force_no_xnames=i < 3)\n",
    "plt.savefig(f'{PATH_FIG}_n_words_n_sents.png', dpi=150, bbox_inches = 'tight')\n",
    "plt.close(fig)"
   ]
  }
 ],
 "metadata": {
  "kernelspec": {
   "display_name": "Python 3 (ipykernel)",
   "language": "python",
   "name": "python3"
  },
  "language_info": {
   "codemirror_mode": {
    "name": "ipython",
    "version": 3
   },
   "file_extension": ".py",
   "mimetype": "text/x-python",
   "name": "python",
   "nbconvert_exporter": "python",
   "pygments_lexer": "ipython3",
   "version": "3.9.7"
  }
 },
 "nbformat": 4,
 "nbformat_minor": 5
}
