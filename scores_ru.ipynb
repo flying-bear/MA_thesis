{
 "cells": [
  {
   "cell_type": "code",
   "execution_count": 1,
   "id": "23620e5c",
   "metadata": {},
   "outputs": [],
   "source": [
    "import numpy as np\n",
    "import matplotlib.pyplot as plt\n",
    "import pandas as pd\n",
    "import seaborn as sns\n",
    "import statsmodels.api as sm\n",
    "import random\n",
    "\n",
    "from matplotlib.colors import ListedColormap\n",
    "from random import choices\n",
    "from scipy import stats\n",
    "from tqdm.notebook import tqdm"
   ]
  },
  {
   "cell_type": "code",
   "execution_count": 2,
   "id": "56b94513",
   "metadata": {},
   "outputs": [],
   "source": [
    "import warnings\n",
    "import copy\n",
    "warnings.filterwarnings(\"ignore\", category=np.VisibleDeprecationWarning)\n",
    "warnings.filterwarnings(action='ignore', message='All-NaN slice encountered')"
   ]
  },
  {
   "cell_type": "code",
   "execution_count": 3,
   "id": "d014affa",
   "metadata": {},
   "outputs": [],
   "source": [
    "from jupyter_utils import style, mean_std, display_test, display_group_test, scatter_annotate, show_corrtest_mask_corr\n",
    "from ortogonolize_utils import draw_scatter, draw_corrected_scatter\n",
    "from ortogonolize_utils import compute_coefficient, compute_ortogonolized_coefficient, compute_ortogonolized_logit"
   ]
  },
  {
   "cell_type": "code",
   "execution_count": 4,
   "id": "bb2b0dec",
   "metadata": {},
   "outputs": [],
   "source": [
    "PATH = '/Users/galina.ryazanskaya/Downloads/thesis?/code?/'"
   ]
  },
  {
   "cell_type": "markdown",
   "id": "47eaa18b",
   "metadata": {},
   "source": [
    "## merge data with psychosocial data"
   ]
  },
  {
   "cell_type": "code",
   "execution_count": 5,
   "id": "6a46d432",
   "metadata": {},
   "outputs": [],
   "source": [
    "df = pd.read_csv(PATH +'rus_merged_psychosocial_data.csv', index_col=0)\n",
    "df = df[df.index.notnull()]\n",
    "df.rename(columns={'dep.severity-1': 'dep.severity',\n",
    "                  'HDRS-17.score-1': 'HDRS-17',\n",
    "                   'panss-1-td': 'panss_td',\n",
    "                   'panss-1-total': 'panss_total', \n",
    "                   'panss-n-1-total': 'panss_neg', \n",
    "                   'panss-o-1-total': 'panss_o',\n",
    "                   'panss-p-1-total': 'panss_pos', \n",
    "                   'sans-1-total': 'sans',\n",
    "                   'saps-ftd-1-total': 'saps_ftd', \n",
    "                   'sops-1-total': 'sops_total', \n",
    "                   'sops-c-total': 'sops_c',\n",
    "                   'sops-d-total': 'sops_d', \n",
    "                   'sops-n-total': 'sops_n', \n",
    "                   'sops-p-total': 'sops_p'\n",
    "                  }, inplace=True)\n",
    "df['index'] = df.index\n",
    "df.drop_duplicates(inplace=True, subset='index')\n",
    "df.drop(columns=['index'], inplace=True)"
   ]
  },
  {
   "cell_type": "code",
   "execution_count": 6,
   "id": "5dc26ce4",
   "metadata": {},
   "outputs": [
    {
     "data": {
      "text/plain": [
       "176"
      ]
     },
     "execution_count": 6,
     "metadata": {},
     "output_type": "execute_result"
    }
   ],
   "source": [
    "len(df)"
   ]
  },
  {
   "cell_type": "code",
   "execution_count": 7,
   "id": "77d7048a",
   "metadata": {},
   "outputs": [],
   "source": [
    "res_df = pd.read_csv(PATH + 'processed_values/ru_both.tsv', sep='\\t', index_col=0, header=[0, 1, 2])"
   ]
  },
  {
   "cell_type": "code",
   "execution_count": 8,
   "id": "71cceb97",
   "metadata": {},
   "outputs": [
    {
     "data": {
      "text/plain": [
       "183"
      ]
     },
     "execution_count": 8,
     "metadata": {},
     "output_type": "execute_result"
    }
   ],
   "source": [
    "len(res_df)"
   ]
  },
  {
   "cell_type": "code",
   "execution_count": 9,
   "id": "6f54b737",
   "metadata": {},
   "outputs": [
    {
     "data": {
      "text/plain": [
       "{'PN005', 'PN006', 'PN012', 'PN014', 'PN019', 'PN238', 'PN327'}"
      ]
     },
     "execution_count": 9,
     "metadata": {},
     "output_type": "execute_result"
    }
   ],
   "source": [
    "dfi = [i.replace('-', '').replace('S', 'PD1') for i in df.index]\n",
    "df.index = dfi\n",
    "# res_df.index = [i.replace('S', 'PD1') for i in res_df.index]\n",
    "rdfi = [i.split('_')[0].replace('S', 'PD1') for i in res_df.index]\n",
    "\n",
    "missing_psy = set(rdfi).difference(set(dfi))\n",
    "missing_psy"
   ]
  },
  {
   "cell_type": "code",
   "execution_count": 10,
   "id": "18dac09c",
   "metadata": {},
   "outputs": [],
   "source": [
    "missing_psy = [i for i in res_df.index if i.split('_')[0] in missing_psy]\n",
    "res_df.drop(missing_psy, inplace=True)"
   ]
  },
  {
   "cell_type": "code",
   "execution_count": 11,
   "id": "78c044c9",
   "metadata": {},
   "outputs": [
    {
     "data": {
      "text/plain": [
       "176"
      ]
     },
     "execution_count": 11,
     "metadata": {},
     "output_type": "execute_result"
    }
   ],
   "source": [
    "len(res_df)"
   ]
  },
  {
   "cell_type": "code",
   "execution_count": 12,
   "id": "7f26a3c8",
   "metadata": {},
   "outputs": [
    {
     "data": {
      "text/plain": [
       "0"
      ]
     },
     "execution_count": 12,
     "metadata": {},
     "output_type": "execute_result"
    }
   ],
   "source": [
    "missing_text = set(dfi).difference(set(rdfi))\n",
    "len(missing_text)"
   ]
  },
  {
   "cell_type": "code",
   "execution_count": 13,
   "id": "eda1ef98",
   "metadata": {},
   "outputs": [],
   "source": [
    "df.drop(missing_text, inplace=True)"
   ]
  },
  {
   "cell_type": "code",
   "execution_count": 14,
   "id": "32f414c5",
   "metadata": {},
   "outputs": [],
   "source": [
    "non_start_timepoint = [i for i in res_df.index if i.split('_')[-1] != '1']\n",
    "res_df.drop(non_start_timepoint, inplace=True)"
   ]
  },
  {
   "cell_type": "code",
   "execution_count": 15,
   "id": "1017d650",
   "metadata": {},
   "outputs": [
    {
     "data": {
      "text/plain": [
       "TASK                               \n",
       "adventure  LM         m_bert_cgcoh      0.954746\n",
       "                      m_bert_gcoh       0.942201\n",
       "                      m_bert_lcoh       0.873049\n",
       "                      m_bert_scoh       0.865214\n",
       "                      m_cgcoh           0.930773\n",
       "                                         ...    \n",
       "sportsman  syntactic  max_sent_len     20.000000\n",
       "                      mean_sent_len     8.500000\n",
       "                      min_sent_len      2.000000\n",
       "                      n_sents          12.000000\n",
       "                      std_sent_len      4.425306\n",
       "Name: PD101_1, Length: 156, dtype: float64"
      ]
     },
     "execution_count": 15,
     "metadata": {},
     "output_type": "execute_result"
    }
   ],
   "source": [
    "res_df.loc['PD101_1'].dropna()"
   ]
  },
  {
   "cell_type": "code",
   "execution_count": 16,
   "id": "40666718",
   "metadata": {},
   "outputs": [],
   "source": [
    "rdfi_filtered = [i.split('_')[0].replace('S', 'PD1') for i in res_df.index]\n",
    "res_df.index = rdfi_filtered"
   ]
  },
  {
   "cell_type": "markdown",
   "id": "54cb9d0e",
   "metadata": {},
   "source": [
    "## psychosocial statistics"
   ]
  },
  {
   "cell_type": "code",
   "execution_count": 17,
   "id": "ecfe782b",
   "metadata": {},
   "outputs": [],
   "source": [
    "def fill_diagnosis_type(row):\n",
    "    dt = row['diagnosis.type']\n",
    "    if not pd.isna(dt):\n",
    "        return dt\n",
    "    else:\n",
    "        if not pd.isna(row['td.severity']):\n",
    "            return 'control_psy'\n",
    "        else:\n",
    "            return 'control'"
   ]
  },
  {
   "cell_type": "code",
   "execution_count": 18,
   "id": "98d4ab69",
   "metadata": {},
   "outputs": [],
   "source": [
    "df['diagnosis.type'] = df.apply(fill_diagnosis_type, axis=1)"
   ]
  },
  {
   "cell_type": "code",
   "execution_count": 19,
   "id": "5ff782c1",
   "metadata": {},
   "outputs": [],
   "source": [
    "sz = df[df['diagnosis.type'] == 'sz']\n",
    "dep = df[df['diagnosis.type'] == 'dep']\n",
    "control = df[df['diagnosis.group'] == 'control']\n",
    "control_psy = df[df['diagnosis.type'] == 'control_psy']"
   ]
  },
  {
   "cell_type": "code",
   "execution_count": 20,
   "id": "532c0237",
   "metadata": {
    "scrolled": true
   },
   "outputs": [
    {
     "data": {
      "text/plain": [
       "Index(['age', 'dep.scale', 'dep.severity', 'group.code', 'diagnosis.group',\n",
       "       'diagnosis.type', 'diagnosis_code', 'diagnosis_eng', 'diagnosis_rus',\n",
       "       'education.level.code', 'education.level.eng', 'education.years',\n",
       "       'exacerbation', 'HDRS-17', 'longitudinal', 'panss_td', 'panss_total',\n",
       "       'panss_neg', 'panss_o', 'panss_pos', 'rehospitalization', 'sans',\n",
       "       'saps_ftd', 'sex', 'sops_total', 'sops_c', 'sops_d', 'sops_n', 'sops_p',\n",
       "       'td.scales', 'td.severity'],\n",
       "      dtype='object')"
      ]
     },
     "execution_count": 20,
     "metadata": {},
     "output_type": "execute_result"
    }
   ],
   "source": [
    "df.columns"
   ]
  },
  {
   "cell_type": "code",
   "execution_count": 21,
   "id": "e4873be5",
   "metadata": {
    "scrolled": true
   },
   "outputs": [
    {
     "data": {
      "text/plain": [
       "176"
      ]
     },
     "execution_count": 21,
     "metadata": {},
     "output_type": "execute_result"
    }
   ],
   "source": [
    "len(df)"
   ]
  },
  {
   "cell_type": "code",
   "execution_count": 22,
   "id": "c1031a6c",
   "metadata": {},
   "outputs": [
    {
     "data": {
      "text/plain": [
       "control    127\n",
       "patient     49\n",
       "Name: diagnosis.group, dtype: int64"
      ]
     },
     "execution_count": 22,
     "metadata": {},
     "output_type": "execute_result"
    }
   ],
   "source": [
    "df['diagnosis.group'].value_counts()"
   ]
  },
  {
   "cell_type": "code",
   "execution_count": 23,
   "id": "0aab5a6a",
   "metadata": {},
   "outputs": [
    {
     "data": {
      "text/plain": [
       "control        86\n",
       "control_psy    41\n",
       "sz             31\n",
       "dep            18\n",
       "Name: diagnosis.type, dtype: int64"
      ]
     },
     "execution_count": 23,
     "metadata": {},
     "output_type": "execute_result"
    }
   ],
   "source": [
    "df['diagnosis.type'].value_counts()"
   ]
  },
  {
   "cell_type": "code",
   "execution_count": 24,
   "id": "c02ff63d",
   "metadata": {},
   "outputs": [
    {
     "data": {
      "text/plain": [
       "HDRS    51\n",
       "QIDS    39\n",
       "Name: dep.scale, dtype: int64"
      ]
     },
     "execution_count": 24,
     "metadata": {},
     "output_type": "execute_result"
    }
   ],
   "source": [
    "df['dep.scale'].value_counts()"
   ]
  },
  {
   "cell_type": "code",
   "execution_count": 25,
   "id": "9cf5258e",
   "metadata": {},
   "outputs": [
    {
     "data": {
      "text/plain": [
       "SCL-90-R    39\n",
       "PANSS       28\n",
       "SAPS        21\n",
       "Name: td.scales, dtype: int64"
      ]
     },
     "execution_count": 25,
     "metadata": {},
     "output_type": "execute_result"
    }
   ],
   "source": [
    "df['td.scales'].value_counts()"
   ]
  },
  {
   "cell_type": "code",
   "execution_count": 26,
   "id": "33d93eaf",
   "metadata": {},
   "outputs": [
    {
     "name": "stdout",
     "output_type": "stream",
     "text": [
      "diagnosis.type\tdiagnosis_code\tdiagnosis_eng\t0\n",
      "dep\tF31\tbipolar.affective.disorder\t6\n",
      "dep\tF60.31\tborderline.personality.disorder\t3\n",
      "dep\tF31.4\tbipolar.affective.disorder.severe\t2\n",
      "dep\tF31.5\tbipolar.affective.disorder.severe.psychotic\t2\n",
      "dep\tF33\trecurrent.depressive.disorder\t2\n",
      "dep\tF32.1\tdepressive.episode.moderate\t1\n",
      "dep\tF33.3\trecurrent.depressive.disorder.severe.psychotic\t1\n",
      "dep\tF60\tpersonality.disorder\t1\n",
      "sz\tF20\tschizophrenia\t20\n",
      "sz\tF25\tschizoaffective.disorder\t8\n",
      "sz\tF21\tschizotypal.disorder\t2\n",
      "sz\tF21.3\tschizotypal.disorder.pseudoneurotic.schizophrenia\t1\n",
      "\n"
     ]
    }
   ],
   "source": [
    "print(df.groupby('diagnosis.type')[['diagnosis_code', 'diagnosis_eng']].value_counts().to_csv(sep='\\t'))"
   ]
  },
  {
   "cell_type": "markdown",
   "id": "a88e36a1",
   "metadata": {},
   "source": [
    "### select target cols"
   ]
  },
  {
   "cell_type": "code",
   "execution_count": 27,
   "id": "4a467038",
   "metadata": {},
   "outputs": [],
   "source": [
    "target_cols = ['sex', 'age', 'education.years', \n",
    "               'diagnosis.group', 'diagnosis.type',\n",
    "               'dep.severity', 'td.severity']"
   ]
  },
  {
   "cell_type": "code",
   "execution_count": 28,
   "id": "d850c8a7",
   "metadata": {},
   "outputs": [],
   "source": [
    "# panss_cols = [col for col in df.columns if col.startswith('panss')]\n",
    "panss_cols = ['panss_td', 'panss_total', 'panss_neg', 'panss_pos', 'panss_o']\n",
    "sans_cols = [col for col in df.columns if col.startswith('sans')]\n",
    "saps_cols = [col for col in df.columns if col.startswith('saps')]\n",
    "sops_cols = [col for col in df.columns if col.startswith('sops')]"
   ]
  },
  {
   "cell_type": "code",
   "execution_count": 59,
   "id": "4b86016a",
   "metadata": {},
   "outputs": [],
   "source": [
    "numeric_target = ['education.years','dep.severity','td.severity'] + panss_cols"
   ]
  },
  {
   "cell_type": "code",
   "execution_count": 29,
   "id": "70e0aeb4",
   "metadata": {},
   "outputs": [
    {
     "data": {
      "text/plain": [
       "age                     31\n",
       "dep.scale               31\n",
       "dep.severity            31\n",
       "group.code               3\n",
       "diagnosis.group         31\n",
       "diagnosis.type          31\n",
       "diagnosis_code          31\n",
       "diagnosis_eng           31\n",
       "diagnosis_rus            3\n",
       "education.level.code     3\n",
       "education.level.eng     31\n",
       "education.years         31\n",
       "exacerbation             3\n",
       "HDRS-17                 21\n",
       "longitudinal             3\n",
       "panss_td                29\n",
       "panss_total             29\n",
       "panss_neg               29\n",
       "panss_o                 29\n",
       "panss_pos               29\n",
       "rehospitalization        3\n",
       "sans                     3\n",
       "saps_ftd                 3\n",
       "sex                     31\n",
       "sops_c                   1\n",
       "sops_d                   1\n",
       "sops_n                   1\n",
       "sops_p                   1\n",
       "td.scales               31\n",
       "td.severity             31\n",
       "dtype: int64"
      ]
     },
     "execution_count": 29,
     "metadata": {},
     "output_type": "execute_result"
    }
   ],
   "source": [
    "sz.count()[sz.count() > 0]"
   ]
  },
  {
   "cell_type": "code",
   "execution_count": 30,
   "id": "65f2d5bf",
   "metadata": {},
   "outputs": [
    {
     "data": {
      "text/plain": [
       "age                     18\n",
       "dep.scale               18\n",
       "dep.severity            18\n",
       "group.code              18\n",
       "diagnosis.group         18\n",
       "diagnosis.type          18\n",
       "diagnosis_code          18\n",
       "diagnosis_eng           18\n",
       "diagnosis_rus           18\n",
       "education.level.code    18\n",
       "education.level.eng     18\n",
       "education.years         18\n",
       "exacerbation            16\n",
       "HDRS-17                 18\n",
       "longitudinal            11\n",
       "panss_td                12\n",
       "panss_total             13\n",
       "panss_neg               13\n",
       "panss_o                 13\n",
       "panss_pos               13\n",
       "rehospitalization       16\n",
       "sans                    17\n",
       "saps_ftd                18\n",
       "sex                     18\n",
       "sops_c                   8\n",
       "sops_d                   8\n",
       "sops_n                   8\n",
       "sops_p                   8\n",
       "td.scales               18\n",
       "td.severity             18\n",
       "dtype: int64"
      ]
     },
     "execution_count": 30,
     "metadata": {},
     "output_type": "execute_result"
    }
   ],
   "source": [
    "dep.count()[dep.count() > 0]"
   ]
  },
  {
   "cell_type": "code",
   "execution_count": 31,
   "id": "4c201df4",
   "metadata": {},
   "outputs": [
    {
     "data": {
      "text/plain": [
       "female    25\n",
       "male       6\n",
       "Name: sex, dtype: int64"
      ]
     },
     "execution_count": 31,
     "metadata": {},
     "output_type": "execute_result"
    }
   ],
   "source": [
    "sz['sex'].value_counts()"
   ]
  },
  {
   "cell_type": "code",
   "execution_count": 32,
   "id": "368b92da",
   "metadata": {},
   "outputs": [
    {
     "name": "stderr",
     "output_type": "stream",
     "text": [
      "/Users/galina.ryazanskaya/Downloads/thesis?/code?/jupyter_utils.py:115: FutureWarning: Dropping of nuisance columns in DataFrame reductions (with 'numeric_only=None') is deprecated; in a future version this will raise TypeError.  Select only valid columns before calling the reduction.\n",
      "  s_mean, s_std = data.mean().round(2), data.std().round(2)\n"
     ]
    },
    {
     "data": {
      "text/html": [
       "<div>\n",
       "<style scoped>\n",
       "    .dataframe tbody tr th:only-of-type {\n",
       "        vertical-align: middle;\n",
       "    }\n",
       "\n",
       "    .dataframe tbody tr th {\n",
       "        vertical-align: top;\n",
       "    }\n",
       "\n",
       "    .dataframe thead th {\n",
       "        text-align: right;\n",
       "    }\n",
       "</style>\n",
       "<table border=\"1\" class=\"dataframe\">\n",
       "  <thead>\n",
       "    <tr style=\"text-align: right;\">\n",
       "      <th></th>\n",
       "      <th>age</th>\n",
       "      <th>education.years</th>\n",
       "      <th>dep.severity</th>\n",
       "      <th>td.severity</th>\n",
       "      <th>panss_td</th>\n",
       "      <th>panss_total</th>\n",
       "      <th>panss_neg</th>\n",
       "      <th>panss_pos</th>\n",
       "      <th>panss_o</th>\n",
       "    </tr>\n",
       "  </thead>\n",
       "  <tbody>\n",
       "    <tr>\n",
       "      <th>value</th>\n",
       "      <td>27.13 (7.14)</td>\n",
       "      <td>13.32 (2.41)</td>\n",
       "      <td>0.58 (0.85)</td>\n",
       "      <td>0.84 (0.73)</td>\n",
       "      <td>10.03 (3.74)</td>\n",
       "      <td>69.79 (16.13)</td>\n",
       "      <td>22.93 (8.59)</td>\n",
       "      <td>15.9 (4.92)</td>\n",
       "      <td>30.97 (8.42)</td>\n",
       "    </tr>\n",
       "  </tbody>\n",
       "</table>\n",
       "</div>"
      ],
      "text/plain": [
       "                age education.years dep.severity  td.severity      panss_td  \\\n",
       "value  27.13 (7.14)    13.32 (2.41)  0.58 (0.85)  0.84 (0.73)  10.03 (3.74)   \n",
       "\n",
       "         panss_total     panss_neg    panss_pos       panss_o  \n",
       "value  69.79 (16.13)  22.93 (8.59)  15.9 (4.92)  30.97 (8.42)  "
      ]
     },
     "execution_count": 32,
     "metadata": {},
     "output_type": "execute_result"
    }
   ],
   "source": [
    "mean_std(sz, target_cols + panss_cols)"
   ]
  },
  {
   "cell_type": "code",
   "execution_count": 33,
   "id": "667f07e7",
   "metadata": {},
   "outputs": [
    {
     "data": {
      "text/html": [
       "<div>\n",
       "<style scoped>\n",
       "    .dataframe tbody tr th:only-of-type {\n",
       "        vertical-align: middle;\n",
       "    }\n",
       "\n",
       "    .dataframe tbody tr th {\n",
       "        vertical-align: top;\n",
       "    }\n",
       "\n",
       "    .dataframe thead th {\n",
       "        text-align: right;\n",
       "    }\n",
       "</style>\n",
       "<table border=\"1\" class=\"dataframe\">\n",
       "  <thead>\n",
       "    <tr style=\"text-align: right;\">\n",
       "      <th></th>\n",
       "      <th>age</th>\n",
       "      <th>education.years</th>\n",
       "      <th>dep.severity</th>\n",
       "      <th>td.severity</th>\n",
       "      <th>panss_td</th>\n",
       "      <th>panss_total</th>\n",
       "      <th>panss_neg</th>\n",
       "      <th>panss_pos</th>\n",
       "      <th>panss_o</th>\n",
       "    </tr>\n",
       "    <tr>\n",
       "      <th>sex</th>\n",
       "      <th></th>\n",
       "      <th></th>\n",
       "      <th></th>\n",
       "      <th></th>\n",
       "      <th></th>\n",
       "      <th></th>\n",
       "      <th></th>\n",
       "      <th></th>\n",
       "      <th></th>\n",
       "    </tr>\n",
       "  </thead>\n",
       "  <tbody>\n",
       "    <tr>\n",
       "      <th>female</th>\n",
       "      <td>27.8 (7.53)</td>\n",
       "      <td>13.56 (2.48)</td>\n",
       "      <td>0.72 (0.89)</td>\n",
       "      <td>0.8 (0.76)</td>\n",
       "      <td>9.43 (3.62)</td>\n",
       "      <td>69.13 (15.38)</td>\n",
       "      <td>22.52 (7.79)</td>\n",
       "      <td>15.3 (4.91)</td>\n",
       "      <td>31.3 (9.08)</td>\n",
       "    </tr>\n",
       "    <tr>\n",
       "      <th>male</th>\n",
       "      <td>24.33 (4.72)</td>\n",
       "      <td>12.33 (1.97)</td>\n",
       "      <td>0.0 (0.0)</td>\n",
       "      <td>1.0 (0.63)</td>\n",
       "      <td>12.33 (3.56)</td>\n",
       "      <td>72.33 (20.16)</td>\n",
       "      <td>24.5 (11.93)</td>\n",
       "      <td>18.17 (4.67)</td>\n",
       "      <td>29.67 (5.65)</td>\n",
       "    </tr>\n",
       "  </tbody>\n",
       "</table>\n",
       "</div>"
      ],
      "text/plain": [
       "                 age education.years dep.severity td.severity      panss_td  \\\n",
       "sex                                                                           \n",
       "female   27.8 (7.53)    13.56 (2.48)  0.72 (0.89)  0.8 (0.76)   9.43 (3.62)   \n",
       "male    24.33 (4.72)    12.33 (1.97)    0.0 (0.0)  1.0 (0.63)  12.33 (3.56)   \n",
       "\n",
       "          panss_total     panss_neg     panss_pos       panss_o  \n",
       "sex                                                              \n",
       "female  69.13 (15.38)  22.52 (7.79)   15.3 (4.91)   31.3 (9.08)  \n",
       "male    72.33 (20.16)  24.5 (11.93)  18.17 (4.67)  29.67 (5.65)  "
      ]
     },
     "execution_count": 33,
     "metadata": {},
     "output_type": "execute_result"
    }
   ],
   "source": [
    "mean_std(sz, target_cols + panss_cols, 'sex')"
   ]
  },
  {
   "cell_type": "code",
   "execution_count": 34,
   "id": "841b28c4",
   "metadata": {},
   "outputs": [
    {
     "data": {
      "text/plain": [
       "female    18\n",
       "Name: sex, dtype: int64"
      ]
     },
     "execution_count": 34,
     "metadata": {},
     "output_type": "execute_result"
    }
   ],
   "source": [
    "dep['sex'].value_counts()"
   ]
  },
  {
   "cell_type": "code",
   "execution_count": 35,
   "id": "17782ed7",
   "metadata": {},
   "outputs": [
    {
     "name": "stderr",
     "output_type": "stream",
     "text": [
      "/Users/galina.ryazanskaya/Downloads/thesis?/code?/jupyter_utils.py:115: FutureWarning: Dropping of nuisance columns in DataFrame reductions (with 'numeric_only=None') is deprecated; in a future version this will raise TypeError.  Select only valid columns before calling the reduction.\n",
      "  s_mean, s_std = data.mean().round(2), data.std().round(2)\n"
     ]
    },
    {
     "data": {
      "text/html": [
       "<div>\n",
       "<style scoped>\n",
       "    .dataframe tbody tr th:only-of-type {\n",
       "        vertical-align: middle;\n",
       "    }\n",
       "\n",
       "    .dataframe tbody tr th {\n",
       "        vertical-align: top;\n",
       "    }\n",
       "\n",
       "    .dataframe thead th {\n",
       "        text-align: right;\n",
       "    }\n",
       "</style>\n",
       "<table border=\"1\" class=\"dataframe\">\n",
       "  <thead>\n",
       "    <tr style=\"text-align: right;\">\n",
       "      <th></th>\n",
       "      <th>age</th>\n",
       "      <th>education.years</th>\n",
       "      <th>dep.severity</th>\n",
       "      <th>td.severity</th>\n",
       "      <th>panss_td</th>\n",
       "      <th>panss_total</th>\n",
       "      <th>panss_neg</th>\n",
       "      <th>panss_pos</th>\n",
       "      <th>panss_o</th>\n",
       "    </tr>\n",
       "  </thead>\n",
       "  <tbody>\n",
       "    <tr>\n",
       "      <th>value</th>\n",
       "      <td>20.89 (3.71)</td>\n",
       "      <td>12.67 (1.94)</td>\n",
       "      <td>0.56 (0.62)</td>\n",
       "      <td>0.06 (0.24)</td>\n",
       "      <td>4.42 (0.9)</td>\n",
       "      <td>37.92 (5.89)</td>\n",
       "      <td>8.31 (1.97)</td>\n",
       "      <td>8.46 (1.94)</td>\n",
       "      <td>21.15 (3.58)</td>\n",
       "    </tr>\n",
       "  </tbody>\n",
       "</table>\n",
       "</div>"
      ],
      "text/plain": [
       "                age education.years dep.severity  td.severity    panss_td  \\\n",
       "value  20.89 (3.71)    12.67 (1.94)  0.56 (0.62)  0.06 (0.24)  4.42 (0.9)   \n",
       "\n",
       "        panss_total    panss_neg    panss_pos       panss_o  \n",
       "value  37.92 (5.89)  8.31 (1.97)  8.46 (1.94)  21.15 (3.58)  "
      ]
     },
     "execution_count": 35,
     "metadata": {},
     "output_type": "execute_result"
    }
   ],
   "source": [
    "mean_std(dep, target_cols + panss_cols)"
   ]
  },
  {
   "cell_type": "code",
   "execution_count": 36,
   "id": "9d6367ca",
   "metadata": {},
   "outputs": [
    {
     "data": {
      "text/plain": [
       "13"
      ]
     },
     "execution_count": 36,
     "metadata": {},
     "output_type": "execute_result"
    }
   ],
   "source": [
    "dep['panss_o'].count()"
   ]
  },
  {
   "cell_type": "code",
   "execution_count": 37,
   "id": "ee7f3145",
   "metadata": {},
   "outputs": [
    {
     "data": {
      "text/plain": [
       "female    89\n",
       "male      38\n",
       "Name: sex, dtype: int64"
      ]
     },
     "execution_count": 37,
     "metadata": {},
     "output_type": "execute_result"
    }
   ],
   "source": [
    "control['sex'].value_counts()"
   ]
  },
  {
   "cell_type": "code",
   "execution_count": 38,
   "id": "06c46d99",
   "metadata": {},
   "outputs": [
    {
     "name": "stderr",
     "output_type": "stream",
     "text": [
      "/Users/galina.ryazanskaya/Downloads/thesis?/code?/jupyter_utils.py:115: FutureWarning: Dropping of nuisance columns in DataFrame reductions (with 'numeric_only=None') is deprecated; in a future version this will raise TypeError.  Select only valid columns before calling the reduction.\n",
      "  s_mean, s_std = data.mean().round(2), data.std().round(2)\n"
     ]
    },
    {
     "data": {
      "text/html": [
       "<div>\n",
       "<style scoped>\n",
       "    .dataframe tbody tr th:only-of-type {\n",
       "        vertical-align: middle;\n",
       "    }\n",
       "\n",
       "    .dataframe tbody tr th {\n",
       "        vertical-align: top;\n",
       "    }\n",
       "\n",
       "    .dataframe thead th {\n",
       "        text-align: right;\n",
       "    }\n",
       "</style>\n",
       "<table border=\"1\" class=\"dataframe\">\n",
       "  <thead>\n",
       "    <tr style=\"text-align: right;\">\n",
       "      <th></th>\n",
       "      <th>age</th>\n",
       "      <th>education.years</th>\n",
       "      <th>dep.severity</th>\n",
       "      <th>td.severity</th>\n",
       "    </tr>\n",
       "  </thead>\n",
       "  <tbody>\n",
       "    <tr>\n",
       "      <th>value</th>\n",
       "      <td>40.42 (19.15)</td>\n",
       "      <td>15.55 (2.54)</td>\n",
       "      <td>0.0 (0.0)</td>\n",
       "      <td>0.0 (0.0)</td>\n",
       "    </tr>\n",
       "  </tbody>\n",
       "</table>\n",
       "</div>"
      ],
      "text/plain": [
       "                 age education.years dep.severity td.severity\n",
       "value  40.42 (19.15)    15.55 (2.54)    0.0 (0.0)   0.0 (0.0)"
      ]
     },
     "execution_count": 38,
     "metadata": {},
     "output_type": "execute_result"
    }
   ],
   "source": [
    "mean_std(control, target_cols)"
   ]
  },
  {
   "cell_type": "code",
   "execution_count": 39,
   "id": "434a7479",
   "metadata": {},
   "outputs": [
    {
     "data": {
      "text/html": [
       "<div>\n",
       "<style scoped>\n",
       "    .dataframe tbody tr th:only-of-type {\n",
       "        vertical-align: middle;\n",
       "    }\n",
       "\n",
       "    .dataframe tbody tr th {\n",
       "        vertical-align: top;\n",
       "    }\n",
       "\n",
       "    .dataframe thead th {\n",
       "        text-align: right;\n",
       "    }\n",
       "</style>\n",
       "<table border=\"1\" class=\"dataframe\">\n",
       "  <thead>\n",
       "    <tr style=\"text-align: right;\">\n",
       "      <th></th>\n",
       "      <th>age</th>\n",
       "      <th>education.years</th>\n",
       "      <th>dep.severity</th>\n",
       "      <th>td.severity</th>\n",
       "    </tr>\n",
       "    <tr>\n",
       "      <th>sex</th>\n",
       "      <th></th>\n",
       "      <th></th>\n",
       "      <th></th>\n",
       "      <th></th>\n",
       "    </tr>\n",
       "  </thead>\n",
       "  <tbody>\n",
       "    <tr>\n",
       "      <th>female</th>\n",
       "      <td>38.97 (18.87)</td>\n",
       "      <td>15.25 (2.33)</td>\n",
       "      <td>0.0 (0.0)</td>\n",
       "      <td>0.0 (0.0)</td>\n",
       "    </tr>\n",
       "    <tr>\n",
       "      <th>male</th>\n",
       "      <td>43.92 (19.63)</td>\n",
       "      <td>16.24 (2.88)</td>\n",
       "      <td>0.0 (0.0)</td>\n",
       "      <td>0.0 (0.0)</td>\n",
       "    </tr>\n",
       "  </tbody>\n",
       "</table>\n",
       "</div>"
      ],
      "text/plain": [
       "                  age education.years dep.severity td.severity\n",
       "sex                                                           \n",
       "female  38.97 (18.87)    15.25 (2.33)    0.0 (0.0)   0.0 (0.0)\n",
       "male    43.92 (19.63)    16.24 (2.88)    0.0 (0.0)   0.0 (0.0)"
      ]
     },
     "execution_count": 39,
     "metadata": {},
     "output_type": "execute_result"
    }
   ],
   "source": [
    "mean_std(control, target_cols, 'sex')"
   ]
  },
  {
   "cell_type": "code",
   "execution_count": 40,
   "id": "25f5e2a0",
   "metadata": {},
   "outputs": [
    {
     "data": {
      "text/plain": [
       "female    31\n",
       "male      10\n",
       "Name: sex, dtype: int64"
      ]
     },
     "execution_count": 40,
     "metadata": {},
     "output_type": "execute_result"
    }
   ],
   "source": [
    "control_psy['sex'].value_counts()"
   ]
  },
  {
   "cell_type": "code",
   "execution_count": 41,
   "id": "9b3a6b4e",
   "metadata": {},
   "outputs": [
    {
     "name": "stderr",
     "output_type": "stream",
     "text": [
      "/Users/galina.ryazanskaya/Downloads/thesis?/code?/jupyter_utils.py:115: FutureWarning: Dropping of nuisance columns in DataFrame reductions (with 'numeric_only=None') is deprecated; in a future version this will raise TypeError.  Select only valid columns before calling the reduction.\n",
      "  s_mean, s_std = data.mean().round(2), data.std().round(2)\n"
     ]
    },
    {
     "data": {
      "text/html": [
       "<div>\n",
       "<style scoped>\n",
       "    .dataframe tbody tr th:only-of-type {\n",
       "        vertical-align: middle;\n",
       "    }\n",
       "\n",
       "    .dataframe tbody tr th {\n",
       "        vertical-align: top;\n",
       "    }\n",
       "\n",
       "    .dataframe thead th {\n",
       "        text-align: right;\n",
       "    }\n",
       "</style>\n",
       "<table border=\"1\" class=\"dataframe\">\n",
       "  <thead>\n",
       "    <tr style=\"text-align: right;\">\n",
       "      <th></th>\n",
       "      <th>age</th>\n",
       "      <th>education.years</th>\n",
       "      <th>dep.severity</th>\n",
       "      <th>td.severity</th>\n",
       "      <th>panss_td</th>\n",
       "      <th>panss_total</th>\n",
       "      <th>panss_neg</th>\n",
       "      <th>panss_pos</th>\n",
       "      <th>panss_o</th>\n",
       "    </tr>\n",
       "  </thead>\n",
       "  <tbody>\n",
       "    <tr>\n",
       "      <th>value</th>\n",
       "      <td>27.62 (11.16)</td>\n",
       "      <td>15.05 (2.07)</td>\n",
       "      <td>0.0 (0.0)</td>\n",
       "      <td>0.0 (0.0)</td>\n",
       "      <td>4.36 (1.0)</td>\n",
       "      <td>30.77 (1.54)</td>\n",
       "      <td>7.23 (0.53)</td>\n",
       "      <td>7.23 (0.61)</td>\n",
       "      <td>16.32 (0.95)</td>\n",
       "    </tr>\n",
       "  </tbody>\n",
       "</table>\n",
       "</div>"
      ],
      "text/plain": [
       "                 age education.years dep.severity td.severity    panss_td  \\\n",
       "value  27.62 (11.16)    15.05 (2.07)    0.0 (0.0)   0.0 (0.0)  4.36 (1.0)   \n",
       "\n",
       "        panss_total    panss_neg    panss_pos       panss_o  \n",
       "value  30.77 (1.54)  7.23 (0.53)  7.23 (0.61)  16.32 (0.95)  "
      ]
     },
     "execution_count": 41,
     "metadata": {},
     "output_type": "execute_result"
    }
   ],
   "source": [
    "mean_std(control_psy, target_cols + panss_cols)"
   ]
  },
  {
   "cell_type": "code",
   "execution_count": 42,
   "id": "9224b336",
   "metadata": {},
   "outputs": [
    {
     "data": {
      "text/html": [
       "<div>\n",
       "<style scoped>\n",
       "    .dataframe tbody tr th:only-of-type {\n",
       "        vertical-align: middle;\n",
       "    }\n",
       "\n",
       "    .dataframe tbody tr th {\n",
       "        vertical-align: top;\n",
       "    }\n",
       "\n",
       "    .dataframe thead th {\n",
       "        text-align: right;\n",
       "    }\n",
       "</style>\n",
       "<table border=\"1\" class=\"dataframe\">\n",
       "  <thead>\n",
       "    <tr style=\"text-align: right;\">\n",
       "      <th></th>\n",
       "      <th>age</th>\n",
       "      <th>education.years</th>\n",
       "      <th>dep.severity</th>\n",
       "      <th>td.severity</th>\n",
       "      <th>panss_td</th>\n",
       "      <th>panss_total</th>\n",
       "      <th>panss_neg</th>\n",
       "      <th>panss_pos</th>\n",
       "      <th>panss_o</th>\n",
       "    </tr>\n",
       "    <tr>\n",
       "      <th>sex</th>\n",
       "      <th></th>\n",
       "      <th></th>\n",
       "      <th></th>\n",
       "      <th></th>\n",
       "      <th></th>\n",
       "      <th></th>\n",
       "      <th></th>\n",
       "      <th></th>\n",
       "      <th></th>\n",
       "    </tr>\n",
       "  </thead>\n",
       "  <tbody>\n",
       "    <tr>\n",
       "      <th>female</th>\n",
       "      <td>27.19 (10.59)</td>\n",
       "      <td>15.23 (1.67)</td>\n",
       "      <td>0.0 (0.0)</td>\n",
       "      <td>0.0 (0.0)</td>\n",
       "      <td>4.4 (1.05)</td>\n",
       "      <td>30.85 (1.6)</td>\n",
       "      <td>7.25 (0.55)</td>\n",
       "      <td>7.25 (0.64)</td>\n",
       "      <td>16.35 (0.99)</td>\n",
       "    </tr>\n",
       "    <tr>\n",
       "      <th>male</th>\n",
       "      <td>29.11 (13.57)</td>\n",
       "      <td>14.5 (3.06)</td>\n",
       "      <td>0.0 (0.0)</td>\n",
       "      <td>0.0 (0.0)</td>\n",
       "      <td>4.0 (0.0)</td>\n",
       "      <td>30.0 (0.0)</td>\n",
       "      <td>7.0 (0.0)</td>\n",
       "      <td>7.0 (0.0)</td>\n",
       "      <td>16.0 (0.0)</td>\n",
       "    </tr>\n",
       "  </tbody>\n",
       "</table>\n",
       "</div>"
      ],
      "text/plain": [
       "                  age education.years dep.severity td.severity    panss_td  \\\n",
       "sex                                                                          \n",
       "female  27.19 (10.59)    15.23 (1.67)    0.0 (0.0)   0.0 (0.0)  4.4 (1.05)   \n",
       "male    29.11 (13.57)     14.5 (3.06)    0.0 (0.0)   0.0 (0.0)   4.0 (0.0)   \n",
       "\n",
       "        panss_total    panss_neg    panss_pos       panss_o  \n",
       "sex                                                          \n",
       "female  30.85 (1.6)  7.25 (0.55)  7.25 (0.64)  16.35 (0.99)  \n",
       "male     30.0 (0.0)    7.0 (0.0)    7.0 (0.0)    16.0 (0.0)  "
      ]
     },
     "execution_count": 42,
     "metadata": {},
     "output_type": "execute_result"
    }
   ],
   "source": [
    "mean_std(control_psy, target_cols + panss_cols, 'sex')"
   ]
  },
  {
   "cell_type": "code",
   "execution_count": 43,
   "id": "55dceae7",
   "metadata": {},
   "outputs": [
    {
     "data": {
      "text/plain": [
       "sex\n",
       "female    20\n",
       "male       2\n",
       "Name: panss_total, dtype: int64"
      ]
     },
     "execution_count": 43,
     "metadata": {},
     "output_type": "execute_result"
    }
   ],
   "source": [
    "control.groupby('sex')['panss_total'].count()"
   ]
  },
  {
   "cell_type": "code",
   "execution_count": 44,
   "id": "785d3a9c",
   "metadata": {},
   "outputs": [
    {
     "data": {
      "text/plain": [
       "age                    40\n",
       "dep.scale              41\n",
       "dep.severity           41\n",
       "diagnosis.group        41\n",
       "diagnosis.type         41\n",
       "education.level.eng    39\n",
       "education.years        41\n",
       "HDRS-17                22\n",
       "panss_td               22\n",
       "panss_total            22\n",
       "panss_neg              22\n",
       "panss_o                22\n",
       "panss_pos              22\n",
       "sex                    41\n",
       "td.scales              39\n",
       "td.severity            41\n",
       "dtype: int64"
      ]
     },
     "execution_count": 44,
     "metadata": {},
     "output_type": "execute_result"
    }
   ],
   "source": [
    "control_psy.count()[control_psy.count() > 0]"
   ]
  },
  {
   "cell_type": "code",
   "execution_count": 45,
   "id": "be09b10f",
   "metadata": {},
   "outputs": [
    {
     "data": {
      "text/plain": [
       "age                                      18.0\n",
       "dep.scale                                HDRS\n",
       "dep.severity                              1.0\n",
       "group.code                                2.0\n",
       "diagnosis.group                       patient\n",
       "diagnosis.type                             sz\n",
       "diagnosis_code                            F21\n",
       "diagnosis_eng            schizotypal.disorder\n",
       "diagnosis_rus                  Шизотипическое\n",
       "education.level.code                      1.0\n",
       "education.level.eng     vocational.unfinished\n",
       "education.years                          11.0\n",
       "exacerbation                              1.0\n",
       "HDRS-17                                   9.0\n",
       "longitudinal                              1.0\n",
       "panss_td                                  4.0\n",
       "panss_total                              39.0\n",
       "panss_neg                                 9.0\n",
       "panss_o                                  23.0\n",
       "panss_pos                                 7.0\n",
       "rehospitalization                         0.0\n",
       "sans                                     48.0\n",
       "saps_ftd                                  8.0\n",
       "sex                                    female\n",
       "sops_total                                NaN\n",
       "sops_c                                   11.0\n",
       "sops_d                                    3.0\n",
       "sops_n                                   17.0\n",
       "sops_p                                    8.0\n",
       "td.scales                                SAPS\n",
       "td.severity                               0.0\n",
       "Name: PD015, dtype: object"
      ]
     },
     "execution_count": 45,
     "metadata": {},
     "output_type": "execute_result"
    }
   ],
   "source": [
    "df.dropna(axis=0, thresh=30).iloc[0]"
   ]
  },
  {
   "cell_type": "markdown",
   "id": "5531fc34",
   "metadata": {},
   "source": [
    "### test for differences"
   ]
  },
  {
   "cell_type": "markdown",
   "id": "cb0e22cc",
   "metadata": {},
   "source": [
    "age"
   ]
  },
  {
   "cell_type": "code",
   "execution_count": 46,
   "id": "204e10b7",
   "metadata": {},
   "outputs": [
    {
     "data": {
      "text/plain": [
       "Ttest_indResult(statistic=3.792016852642703, pvalue=0.00021365411299027322)"
      ]
     },
     "execution_count": 46,
     "metadata": {},
     "output_type": "execute_result"
    }
   ],
   "source": [
    "stats.ttest_ind(control['age'], sz['age'], nan_policy='omit')"
   ]
  },
  {
   "cell_type": "code",
   "execution_count": 47,
   "id": "edd6665b",
   "metadata": {},
   "outputs": [
    {
     "data": {
      "text/plain": [
       "Ttest_indResult(statistic=0.2153674324904064, pvalue=0.8301161925857043)"
      ]
     },
     "execution_count": 47,
     "metadata": {},
     "output_type": "execute_result"
    }
   ],
   "source": [
    "stats.ttest_ind(control_psy['age'], sz['age'], nan_policy='omit')"
   ]
  },
  {
   "cell_type": "code",
   "execution_count": 48,
   "id": "262a0e14",
   "metadata": {},
   "outputs": [
    {
     "data": {
      "text/plain": [
       "Ttest_indResult(statistic=2.4881519657788718, pvalue=0.01584262497225197)"
      ]
     },
     "execution_count": 48,
     "metadata": {},
     "output_type": "execute_result"
    }
   ],
   "source": [
    "stats.ttest_ind(control_psy['age'], dep['age'], nan_policy='omit')"
   ]
  },
  {
   "cell_type": "markdown",
   "id": "671e2e10",
   "metadata": {},
   "source": [
    "eduaction years"
   ]
  },
  {
   "cell_type": "code",
   "execution_count": 49,
   "id": "d8b8ccf3",
   "metadata": {},
   "outputs": [
    {
     "data": {
      "text/plain": [
       "Ttest_indResult(statistic=4.413764611185695, pvalue=1.8946847417844383e-05)"
      ]
     },
     "execution_count": 49,
     "metadata": {},
     "output_type": "execute_result"
    }
   ],
   "source": [
    "stats.ttest_ind(control['education.years'], sz['education.years'], nan_policy='omit')"
   ]
  },
  {
   "cell_type": "code",
   "execution_count": 50,
   "id": "5e737236",
   "metadata": {},
   "outputs": [
    {
     "data": {
      "text/plain": [
       "Ttest_indResult(statistic=3.258999809255893, pvalue=0.0017271856550259523)"
      ]
     },
     "execution_count": 50,
     "metadata": {},
     "output_type": "execute_result"
    }
   ],
   "source": [
    "stats.ttest_ind(control_psy['education.years'], sz['education.years'], nan_policy='omit')"
   ]
  },
  {
   "cell_type": "code",
   "execution_count": 51,
   "id": "1e200752",
   "metadata": {},
   "outputs": [
    {
     "data": {
      "text/plain": [
       "Ttest_indResult(statistic=4.14129240861394, pvalue=0.00011546243076058939)"
      ]
     },
     "execution_count": 51,
     "metadata": {},
     "output_type": "execute_result"
    }
   ],
   "source": [
    "stats.ttest_ind(control_psy['education.years'], dep['education.years'], nan_policy='omit')"
   ]
  },
  {
   "cell_type": "markdown",
   "id": "22b390be",
   "metadata": {},
   "source": [
    "sex"
   ]
  },
  {
   "cell_type": "code",
   "execution_count": 52,
   "id": "5c5ece89",
   "metadata": {},
   "outputs": [],
   "source": [
    "# display ttest"
   ]
  },
  {
   "cell_type": "code",
   "execution_count": 53,
   "id": "5e7f3f0c",
   "metadata": {},
   "outputs": [],
   "source": [
    "a = 0.05"
   ]
  },
  {
   "cell_type": "code",
   "execution_count": 56,
   "id": "48e9908f",
   "metadata": {},
   "outputs": [
    {
     "data": {
      "text/html": [
       "<style type=\"text/css\">\n",
       "#T_f4529_row0_col0, #T_f4529_row0_col3, #T_f4529_row7_col1 {\n",
       "  background-color: #67000d;\n",
       "  color: #f1f1f1;\n",
       "}\n",
       "#T_f4529_row0_col1, #T_f4529_row3_col0, #T_f4529_row7_col3 {\n",
       "  background-color: #fff5f0;\n",
       "  color: #000000;\n",
       "}\n",
       "#T_f4529_row1_col0 {\n",
       "  background-color: #7e0610;\n",
       "  color: #f1f1f1;\n",
       "}\n",
       "#T_f4529_row1_col1 {\n",
       "  background-color: #fff4ee;\n",
       "  color: #000000;\n",
       "}\n",
       "#T_f4529_row1_col3 {\n",
       "  background-color: #9f0e14;\n",
       "  color: #f1f1f1;\n",
       "}\n",
       "#T_f4529_row2_col0 {\n",
       "  background-color: #8c0912;\n",
       "  color: #f1f1f1;\n",
       "}\n",
       "#T_f4529_row2_col1 {\n",
       "  background-color: #fff1ea;\n",
       "  color: #000000;\n",
       "}\n",
       "#T_f4529_row2_col3 {\n",
       "  background-color: #b51318;\n",
       "  color: #f1f1f1;\n",
       "}\n",
       "#T_f4529_row3_col1 {\n",
       "  background-color: #fff0e8;\n",
       "  color: #000000;\n",
       "}\n",
       "#T_f4529_row3_col3 {\n",
       "  background-color: #c1161b;\n",
       "  color: #f1f1f1;\n",
       "}\n",
       "#T_f4529_row4_col0 {\n",
       "  background-color: #b71319;\n",
       "  color: #f1f1f1;\n",
       "}\n",
       "#T_f4529_row4_col1 {\n",
       "  background-color: #fee0d2;\n",
       "  color: #000000;\n",
       "}\n",
       "#T_f4529_row4_col3 {\n",
       "  background-color: #f44f39;\n",
       "  color: #f1f1f1;\n",
       "}\n",
       "#T_f4529_row5_col0 {\n",
       "  background-color: #bd151a;\n",
       "  color: #f1f1f1;\n",
       "}\n",
       "#T_f4529_row5_col1 {\n",
       "  background-color: #fed8c7;\n",
       "  color: #000000;\n",
       "}\n",
       "#T_f4529_row5_col3 {\n",
       "  background-color: #f85f43;\n",
       "  color: #f1f1f1;\n",
       "}\n",
       "#T_f4529_row6_col0 {\n",
       "  background-color: #f0402f;\n",
       "  color: #f1f1f1;\n",
       "}\n",
       "#T_f4529_row6_col1 {\n",
       "  background-color: #ca181d;\n",
       "  color: #f1f1f1;\n",
       "}\n",
       "#T_f4529_row6_col3 {\n",
       "  background-color: #fee3d7;\n",
       "  color: #000000;\n",
       "}\n",
       "#T_f4529_row7_col0 {\n",
       "  background-color: #f4503a;\n",
       "  color: #f1f1f1;\n",
       "}\n",
       "</style>\n",
       "<table id=\"T_f4529\">\n",
       "  <thead>\n",
       "    <tr>\n",
       "      <th class=\"blank level0\" >&nbsp;</th>\n",
       "      <th id=\"T_f4529_level0_col0\" class=\"col_heading level0 col0\" >t</th>\n",
       "      <th id=\"T_f4529_level0_col1\" class=\"col_heading level0 col1\" >p</th>\n",
       "      <th id=\"T_f4529_level0_col2\" class=\"col_heading level0 col2\" >sig</th>\n",
       "      <th id=\"T_f4529_level0_col3\" class=\"col_heading level0 col3\" >abs_t</th>\n",
       "    </tr>\n",
       "  </thead>\n",
       "  <tbody>\n",
       "    <tr>\n",
       "      <th id=\"T_f4529_level0_row0\" class=\"row_heading level0 row0\" >panss_td</th>\n",
       "      <td id=\"T_f4529_row0_col0\" class=\"data row0 col0\" >2.691122</td>\n",
       "      <td id=\"T_f4529_row0_col1\" class=\"data row0 col1\" >0.009176</td>\n",
       "      <td id=\"T_f4529_row0_col2\" class=\"data row0 col2\" >True</td>\n",
       "      <td id=\"T_f4529_row0_col3\" class=\"data row0 col3\" >2.691122</td>\n",
       "    </tr>\n",
       "    <tr>\n",
       "      <th id=\"T_f4529_level0_row1\" class=\"row_heading level0 row1\" >education.years</th>\n",
       "      <td id=\"T_f4529_row1_col0\" class=\"data row1 col0\" >2.445263</td>\n",
       "      <td id=\"T_f4529_row1_col1\" class=\"data row1 col1\" >0.015477</td>\n",
       "      <td id=\"T_f4529_row1_col2\" class=\"data row1 col2\" >True</td>\n",
       "      <td id=\"T_f4529_row1_col3\" class=\"data row1 col3\" >2.445263</td>\n",
       "    </tr>\n",
       "    <tr>\n",
       "      <th id=\"T_f4529_level0_row2\" class=\"row_heading level0 row2\" >panss_pos</th>\n",
       "      <td id=\"T_f4529_row2_col0\" class=\"data row2 col0\" >2.312633</td>\n",
       "      <td id=\"T_f4529_row2_col1\" class=\"data row2 col1\" >0.024076</td>\n",
       "      <td id=\"T_f4529_row2_col2\" class=\"data row2 col2\" >True</td>\n",
       "      <td id=\"T_f4529_row2_col3\" class=\"data row2 col3\" >2.312633</td>\n",
       "    </tr>\n",
       "    <tr>\n",
       "      <th id=\"T_f4529_level0_row3\" class=\"row_heading level0 row3\" >dep.severity</th>\n",
       "      <td id=\"T_f4529_row3_col0\" class=\"data row3 col0\" >-2.227480</td>\n",
       "      <td id=\"T_f4529_row3_col1\" class=\"data row3 col1\" >0.028466</td>\n",
       "      <td id=\"T_f4529_row3_col2\" class=\"data row3 col2\" >True</td>\n",
       "      <td id=\"T_f4529_row3_col3\" class=\"data row3 col3\" >2.227480</td>\n",
       "    </tr>\n",
       "    <tr>\n",
       "      <th id=\"T_f4529_level0_row4\" class=\"row_heading level0 row4\" >panss_neg</th>\n",
       "      <td id=\"T_f4529_row4_col0\" class=\"data row4 col0\" >1.776291</td>\n",
       "      <td id=\"T_f4529_row4_col1\" class=\"data row4 col1\" >0.080591</td>\n",
       "      <td id=\"T_f4529_row4_col2\" class=\"data row4 col2\" >False</td>\n",
       "      <td id=\"T_f4529_row4_col3\" class=\"data row4 col3\" >1.776291</td>\n",
       "    </tr>\n",
       "    <tr>\n",
       "      <th id=\"T_f4529_level0_row5\" class=\"row_heading level0 row5\" >panss_total</th>\n",
       "      <td id=\"T_f4529_row5_col0\" class=\"data row5 col0\" >1.689565</td>\n",
       "      <td id=\"T_f4529_row5_col1\" class=\"data row5 col1\" >0.096134</td>\n",
       "      <td id=\"T_f4529_row5_col2\" class=\"data row5 col2\" >False</td>\n",
       "      <td id=\"T_f4529_row5_col3\" class=\"data row5 col3\" >1.689565</td>\n",
       "    </tr>\n",
       "    <tr>\n",
       "      <th id=\"T_f4529_level0_row6\" class=\"row_heading level0 row6\" >panss_o</th>\n",
       "      <td id=\"T_f4529_row6_col0\" class=\"data row6 col0\" >0.785030</td>\n",
       "      <td id=\"T_f4529_row6_col1\" class=\"data row6 col1\" >0.435425</td>\n",
       "      <td id=\"T_f4529_row6_col2\" class=\"data row6 col2\" >False</td>\n",
       "      <td id=\"T_f4529_row6_col3\" class=\"data row6 col3\" >0.785030</td>\n",
       "    </tr>\n",
       "    <tr>\n",
       "      <th id=\"T_f4529_level0_row7\" class=\"row_heading level0 row7\" >td.severity</th>\n",
       "      <td id=\"T_f4529_row7_col0\" class=\"data row7 col0\" >0.559319</td>\n",
       "      <td id=\"T_f4529_row7_col1\" class=\"data row7 col1\" >0.577365</td>\n",
       "      <td id=\"T_f4529_row7_col2\" class=\"data row7 col2\" >False</td>\n",
       "      <td id=\"T_f4529_row7_col3\" class=\"data row7 col3\" >0.559319</td>\n",
       "    </tr>\n",
       "  </tbody>\n",
       "</table>\n"
      ],
      "text/plain": [
       "<pandas.io.formats.style.Styler at 0x7fdcb0d32640>"
      ]
     },
     "execution_count": 56,
     "metadata": {},
     "output_type": "execute_result"
    }
   ],
   "source": [
    "s_t_sex, res_t_sex = display_group_test(df, numeric_target, 'sex', stats.ttest_ind, stat_name='t', alpha=a)\n",
    "s_t_sex"
   ]
  },
  {
   "cell_type": "markdown",
   "id": "eefc678c",
   "metadata": {},
   "source": [
    "### correlation between target variables"
   ]
  },
  {
   "cell_type": "code",
   "execution_count": null,
   "id": "309f6343",
   "metadata": {},
   "outputs": [],
   "source": [
    "# display corr test"
   ]
  },
  {
   "cell_type": "code",
   "execution_count": 61,
   "id": "e3b8cfc4",
   "metadata": {},
   "outputs": [
    {
     "data": {
      "text/html": [
       "<div>\n",
       "<style scoped>\n",
       "    .dataframe tbody tr th:only-of-type {\n",
       "        vertical-align: middle;\n",
       "    }\n",
       "\n",
       "    .dataframe tbody tr th {\n",
       "        vertical-align: top;\n",
       "    }\n",
       "\n",
       "    .dataframe thead th {\n",
       "        text-align: right;\n",
       "    }\n",
       "</style>\n",
       "<table border=\"1\" class=\"dataframe\">\n",
       "  <thead>\n",
       "    <tr style=\"text-align: right;\">\n",
       "      <th></th>\n",
       "      <th>r</th>\n",
       "      <th>p</th>\n",
       "      <th>sig</th>\n",
       "      <th>abs_r</th>\n",
       "    </tr>\n",
       "  </thead>\n",
       "  <tbody>\n",
       "    <tr>\n",
       "      <th>education.years</th>\n",
       "      <td>0.411685</td>\n",
       "      <td>0.0</td>\n",
       "      <td>True</td>\n",
       "      <td>0.411685</td>\n",
       "    </tr>\n",
       "    <tr>\n",
       "      <th>panss_neg</th>\n",
       "      <td>0.383708</td>\n",
       "      <td>0.001749</td>\n",
       "      <td>True</td>\n",
       "      <td>0.383708</td>\n",
       "    </tr>\n",
       "  </tbody>\n",
       "</table>\n",
       "</div>"
      ],
      "text/plain": [
       "                        r         p   sig     abs_r\n",
       "education.years  0.411685       0.0  True  0.411685\n",
       "panss_neg        0.383708  0.001749  True  0.383708"
      ]
     },
     "execution_count": 61,
     "metadata": {},
     "output_type": "execute_result"
    }
   ],
   "source": [
    "x, y = display_test(df, numeric_target, 'age', stats.pearsonr, stat_name='r', alpha=a)\n",
    "y[y['abs_r']> 0.3].sort_values('abs_r', ascending=False)"
   ]
  },
  {
   "cell_type": "code",
   "execution_count": 63,
   "id": "fae82f08",
   "metadata": {},
   "outputs": [
    {
     "data": {
      "text/html": [
       "<div>\n",
       "<style scoped>\n",
       "    .dataframe tbody tr th:only-of-type {\n",
       "        vertical-align: middle;\n",
       "    }\n",
       "\n",
       "    .dataframe tbody tr th {\n",
       "        vertical-align: top;\n",
       "    }\n",
       "\n",
       "    .dataframe thead th {\n",
       "        text-align: right;\n",
       "    }\n",
       "</style>\n",
       "<table border=\"1\" class=\"dataframe\">\n",
       "  <thead>\n",
       "    <tr style=\"text-align: right;\">\n",
       "      <th></th>\n",
       "      <th>r</th>\n",
       "      <th>p</th>\n",
       "      <th>sig</th>\n",
       "      <th>abs_r</th>\n",
       "    </tr>\n",
       "  </thead>\n",
       "  <tbody>\n",
       "    <tr>\n",
       "      <th>panss_o</th>\n",
       "      <td>-0.407709</td>\n",
       "      <td>0.000826</td>\n",
       "      <td>True</td>\n",
       "      <td>0.407709</td>\n",
       "    </tr>\n",
       "    <tr>\n",
       "      <th>dep.severity</th>\n",
       "      <td>-0.31841</td>\n",
       "      <td>0.002224</td>\n",
       "      <td>True</td>\n",
       "      <td>0.31841</td>\n",
       "    </tr>\n",
       "  </tbody>\n",
       "</table>\n",
       "</div>"
      ],
      "text/plain": [
       "                     r         p   sig     abs_r\n",
       "panss_o      -0.407709  0.000826  True  0.407709\n",
       "dep.severity  -0.31841  0.002224  True   0.31841"
      ]
     },
     "execution_count": 63,
     "metadata": {},
     "output_type": "execute_result"
    }
   ],
   "source": [
    "x, y = display_test(df, numeric_target, 'education.years', stats.pearsonr, stat_name='r', alpha=a)\n",
    "y[y['abs_r']> 0.3].sort_values('abs_r', ascending=False)"
   ]
  },
  {
   "cell_type": "code",
   "execution_count": 65,
   "id": "6e032acb",
   "metadata": {},
   "outputs": [
    {
     "data": {
      "image/png": "[encoded data removed]",
      "text/plain": [
       "<Figure size 2880x1440 with 2 Axes>"
      ]
     },
     "metadata": {
      "needs_background": "light"
     },
     "output_type": "display_data"
    }
   ],
   "source": [
    "target_corr_res = show_corrtest_mask_corr(df[numeric_target])"
   ]
  },
  {
   "cell_type": "markdown",
   "id": "f0b13488",
   "metadata": {},
   "source": [
    "## scores"
   ]
  },
  {
   "cell_type": "code",
   "execution_count": null,
   "id": "679f02d1",
   "metadata": {},
   "outputs": [],
   "source": [
    "res_df"
   ]
  },
  {
   "cell_type": "markdown",
   "id": "abfe36da",
   "metadata": {},
   "source": [
    "## features of raw texts"
   ]
  },
  {
   "cell_type": "code",
   "execution_count": null,
   "id": "1df0a615",
   "metadata": {},
   "outputs": [],
   "source": [
    "raw = pd.read_csv(PATH+'rus_transcript_lex_by_task_with_dots.tsv', sep='\\t', index_col=0)"
   ]
  },
  {
   "cell_type": "code",
   "execution_count": null,
   "id": "823d9218",
   "metadata": {},
   "outputs": [],
   "source": [
    "ids_to_drop = [i for i in raw.index if i.split('_')[0] not in res_df.index]"
   ]
  },
  {
   "cell_type": "code",
   "execution_count": null,
   "id": "d032a9c0",
   "metadata": {},
   "outputs": [],
   "source": [
    "raw.drop(index=ids_to_drop, inplace=True)"
   ]
  },
  {
   "cell_type": "code",
   "execution_count": null,
   "id": "d753f43b",
   "metadata": {},
   "outputs": [],
   "source": [
    "raw.index = [i.split('_')[0] for i in raw.index]"
   ]
  },
  {
   "cell_type": "code",
   "execution_count": null,
   "id": "226cdf41",
   "metadata": {},
   "outputs": [],
   "source": [
    "raw.isna().sum(axis=0).sum()"
   ]
  },
  {
   "cell_type": "code",
   "execution_count": null,
   "id": "ded7410c",
   "metadata": {},
   "outputs": [],
   "source": [
    "raw.applymap(lambda x: len(x.split('.')) if not pd.isna(x) else np.nan).mean(axis=1).hist()"
   ]
  },
  {
   "cell_type": "markdown",
   "id": "36867f18",
   "metadata": {},
   "source": [
    "## look at tasks"
   ]
  },
  {
   "cell_type": "code",
   "execution_count": null,
   "id": "aba59bf8",
   "metadata": {},
   "outputs": [],
   "source": [
    "task_available = raw.applymap(lambda x: 1 if not pd.isna(x) else x)"
   ]
  },
  {
   "cell_type": "code",
   "execution_count": null,
   "id": "a3d5472e",
   "metadata": {},
   "outputs": [],
   "source": [
    "len(task_available)"
   ]
  },
  {
   "cell_type": "code",
   "execution_count": null,
   "id": "fcd39110",
   "metadata": {},
   "outputs": [],
   "source": [
    "task_available['diagnosis.type'] = df['diagnosis.type']"
   ]
  },
  {
   "cell_type": "code",
   "execution_count": null,
   "id": "37c8dc8f",
   "metadata": {},
   "outputs": [],
   "source": [
    "task_available.count()"
   ]
  },
  {
   "cell_type": "code",
   "execution_count": null,
   "id": "0b94f7c9",
   "metadata": {},
   "outputs": [],
   "source": [
    "task_available.groupby('diagnosis.type').count()"
   ]
  },
  {
   "cell_type": "code",
   "execution_count": null,
   "id": "6cc062ac",
   "metadata": {},
   "outputs": [],
   "source": [
    "task_available.groupby('diagnosis.type').count()[task_available.groupby('diagnosis.type').count() > 0].dropna(axis=1)"
   ]
  },
  {
   "cell_type": "code",
   "execution_count": null,
   "id": "93e808f3",
   "metadata": {},
   "outputs": [],
   "source": [
    "def drop_person(row):\n",
    "    for task in ('adventure', 'chair','present','sportsman'):\n",
    "        if not pd.isna(row[task]):\n",
    "            return False\n",
    "    return True"
   ]
  },
  {
   "cell_type": "code",
   "execution_count": null,
   "id": "31cb1cf0",
   "metadata": {},
   "outputs": [],
   "source": [
    "ids_with_at_least_one_task = task_available[~task_available.apply(drop_person, axis=1)].index"
   ]
  },
  {
   "cell_type": "code",
   "execution_count": null,
   "id": "4e086e5e",
   "metadata": {},
   "outputs": [],
   "source": [
    "df = df.loc[ids_with_at_least_one_task]"
   ]
  },
  {
   "cell_type": "code",
   "execution_count": null,
   "id": "d753de3e",
   "metadata": {},
   "outputs": [],
   "source": [
    "res_df = res_df.loc[ids_with_at_least_one_task, ['adventure', 'chair', 'present', 'sportsman']]"
   ]
  },
  {
   "cell_type": "code",
   "execution_count": null,
   "id": "40ee827b",
   "metadata": {},
   "outputs": [],
   "source": [
    "def task_data(df, task, keep_target=True, fill_synt=True):\n",
    "    subset = df[task].dropna(axis=0, how='all')\n",
    "    if fill_synt:\n",
    "        subset['syntactic'] = subset['syntactic'].fillna(0.0)\n",
    "    if keep_target:\n",
    "        subset = pd.concat([subset, df['target'].loc[subset.index]], axis=1)\n",
    "    return subset"
   ]
  },
  {
   "cell_type": "code",
   "execution_count": null,
   "id": "833b6f56",
   "metadata": {},
   "outputs": [],
   "source": [
    "def aplly_to_all_tasks(df, f, tasks=('adventure', 'chair','present','sportsman'), to_df=True, *args, **kwargs):\n",
    "    res = {}\n",
    "    for task in tasks:\n",
    "        data = task_data(df, task)\n",
    "        res[task] = f(data, *args, **kwargs)\n",
    "    return pd.DataFrame(res)"
   ]
  },
  {
   "cell_type": "markdown",
   "id": "0dd72d50",
   "metadata": {},
   "source": [
    "### merge psychoscial data to scores"
   ]
  },
  {
   "cell_type": "code",
   "execution_count": null,
   "id": "e108124d",
   "metadata": {},
   "outputs": [],
   "source": [
    "merge_df = res_df.copy()\n",
    "for col in target_cols + panss_cols:\n",
    "    merge_df[('target', 'target', col)] = df[col]"
   ]
  },
  {
   "cell_type": "code",
   "execution_count": null,
   "id": "9f87ee8e",
   "metadata": {},
   "outputs": [],
   "source": [
    "cols_LM = [col for col in res_df['chair'] if col[0] == 'LM']\n",
    "cols_synt = [col for col in res_df['chair'] if col[0] == 'syntactic']\n",
    "cols_lex = [col for col in res_df['chair'] if col[0] == 'lexical']\n",
    "cols_graph = [col for col in res_df['chair'] if col[0] == 'graph']"
   ]
  },
  {
   "cell_type": "code",
   "execution_count": null,
   "id": "9d72d2fc",
   "metadata": {},
   "outputs": [],
   "source": [
    " = res_df['chair'].columns"
   ]
  },
  {
   "cell_type": "code",
   "execution_count": null,
   "id": "74172197",
   "metadata": {},
   "outputs": [],
   "source": [
    "merge_df['chair'].dropna(axis=0, how='all')"
   ]
  },
  {
   "cell_type": "code",
   "execution_count": null,
   "id": "b1de4a6c",
   "metadata": {},
   "outputs": [],
   "source": [
    "def corr(df, target):\n",
    "    return df[~pd.isnull(df[target])].corr()[target]"
   ]
  },
  {
   "cell_type": "code",
   "execution_count": null,
   "id": "babdd66f",
   "metadata": {},
   "outputs": [],
   "source": [
    "def corr_thresh(df, target, thresh=0.3, drop_target=True):\n",
    "    corr_tgt = corr(df, target)\n",
    "    if drop_target:\n",
    "        corr_tgt.drop('target', inplace=True)\n",
    "    return corr_tgt[abs(corr_tgt) >= thresh]"
   ]
  },
  {
   "cell_type": "code",
   "execution_count": null,
   "id": "addbb1d1",
   "metadata": {},
   "outputs": [],
   "source": [
    "style(aplly_to_all_tasks(merge_df, corr_thresh, target=('target', 'age')))"
   ]
  },
  {
   "cell_type": "code",
   "execution_count": null,
   "id": "78e53700",
   "metadata": {},
   "outputs": [],
   "source": [
    "style(aplly_to_all_tasks(merge_df, corr_thresh, target=('target', 'education.years')))"
   ]
  },
  {
   "cell_type": "code",
   "execution_count": null,
   "id": "a5a8be9e",
   "metadata": {},
   "outputs": [],
   "source": [
    "style(aplly_to_all_tasks(merge_df, corr_thresh, target=('target', 'panss_pos')))"
   ]
  },
  {
   "cell_type": "code",
   "execution_count": null,
   "id": "1675fb36",
   "metadata": {},
   "outputs": [],
   "source": [
    "style(aplly_to_all_tasks(merge_df, corr_thresh, target=('target', 'panss_neg')))"
   ]
  }
 ],
 "metadata": {
  "kernelspec": {
   "display_name": "Python 3 (ipykernel)",
   "language": "python",
   "name": "python3"
  },
  "language_info": {
   "codemirror_mode": {
    "name": "ipython",
    "version": 3
   },
   "file_extension": ".py",
   "mimetype": "text/x-python",
   "name": "python",
   "nbconvert_exporter": "python",
   "pygments_lexer": "ipython3",
   "version": "3.9.7"
  }
 },
 "nbformat": 4,
 "nbformat_minor": 5
}
