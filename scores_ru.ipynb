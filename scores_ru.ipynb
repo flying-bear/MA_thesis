{
 "cells": [
  {
   "cell_type": "code",
   "execution_count": 158,
   "id": "ec07fa5d",
   "metadata": {},
   "outputs": [],
   "source": [
    "import numpy as np\n",
    "import matplotlib.pyplot as plt\n",
    "import pandas as pd\n",
    "import seaborn as sns\n",
    "import statsmodels.api as sm\n",
    "\n",
    "from scipy import stats"
   ]
  },
  {
   "cell_type": "code",
   "execution_count": 159,
   "id": "56b94513",
   "metadata": {},
   "outputs": [],
   "source": [
    "import warnings\n",
    "warnings.filterwarnings(\"ignore\", category=np.VisibleDeprecationWarning) "
   ]
  },
  {
   "cell_type": "code",
   "execution_count": 160,
   "id": "bb2b0dec",
   "metadata": {},
   "outputs": [],
   "source": [
    "PATH = '/Users/galina.ryazanskaya/Downloads/thesis?/code?/'"
   ]
  },
  {
   "cell_type": "code",
   "execution_count": 161,
   "id": "6a46d432",
   "metadata": {},
   "outputs": [],
   "source": [
    "df = pd.read_csv(PATH +'rus_merged_psychosocial_data.csv', index_col=0)\n",
    "df = df[df.index.notnull()]"
   ]
  },
  {
   "cell_type": "code",
   "execution_count": 162,
   "id": "532c0237",
   "metadata": {},
   "outputs": [
    {
     "data": {
      "text/plain": [
       "Index(['age', 'dep.scale', 'dep.severity-1', 'group.code', 'diagnosis.group',\n",
       "       'diagnosis.type', 'diagnosis_code', 'diagnosis_eng', 'diagnosis_rus',\n",
       "       'education.level.code', 'education.level.eng', 'education.years',\n",
       "       'exacerbation', 'HDRS-17.score-1', 'longitudinal', 'panss-1-td',\n",
       "       'panss-1-total', 'panss-n-1-total', 'panss-o-1-total',\n",
       "       'panss-p-1-total', 'rehospitalization', 'sans-1-total',\n",
       "       'saps-ftd-1-total', 'sex', 'sops-1-total', 'sops-c-total',\n",
       "       'sops-d-total', 'sops-n-total', 'sops-p-total', 'td.scales',\n",
       "       'td.severity'],\n",
       "      dtype='object')"
      ]
     },
     "execution_count": 162,
     "metadata": {},
     "output_type": "execute_result"
    }
   ],
   "source": [
    "df.columns"
   ]
  },
  {
   "cell_type": "code",
   "execution_count": 163,
   "id": "77d7048a",
   "metadata": {},
   "outputs": [],
   "source": [
    "res_df = pd.read_csv(PATH + 'processed_values/ru_both.tsv', sep='\\t', index_col=0, header=[0, 1, 2])"
   ]
  },
  {
   "cell_type": "code",
   "execution_count": 164,
   "id": "6f54b737",
   "metadata": {},
   "outputs": [
    {
     "data": {
      "text/plain": [
       "{'PD104',\n",
       " 'PD128',\n",
       " 'PD151',\n",
       " 'PD152',\n",
       " 'PD153',\n",
       " 'PD155',\n",
       " 'PD156',\n",
       " 'PD157',\n",
       " 'PN005',\n",
       " 'PN006',\n",
       " 'PN012',\n",
       " 'PN014',\n",
       " 'PN019',\n",
       " 'PN238',\n",
       " 'PN327'}"
      ]
     },
     "execution_count": 164,
     "metadata": {},
     "output_type": "execute_result"
    }
   ],
   "source": [
    "dfi = [i.replace('-', '').replace('S', 'PD1') for i in df.index]\n",
    "df.index = dfi\n",
    "# res_df.index = [i.replace('S', 'PD1') for i in res_df.index]\n",
    "rdfi = [i.split('_')[0].replace('S', 'PD1') for i in res_df.index]\n",
    "\n",
    "missing_psy = set(rdfi).difference(set(dfi))\n",
    "missing_psy"
   ]
  },
  {
   "cell_type": "code",
   "execution_count": 165,
   "id": "6f761fbc",
   "metadata": {},
   "outputs": [
    {
     "data": {
      "text/plain": [
       "True"
      ]
     },
     "execution_count": 165,
     "metadata": {},
     "output_type": "execute_result"
    }
   ],
   "source": [
    "set(dfi).issubset(set(rdfi))"
   ]
  },
  {
   "cell_type": "code",
   "execution_count": 166,
   "id": "18dac09c",
   "metadata": {},
   "outputs": [],
   "source": [
    "missing_psy = [i for i in res_df.index if i.split('_')[0] in missing_psy]\n",
    "res_df.drop(missing_psy, inplace=True)"
   ]
  },
  {
   "cell_type": "code",
   "execution_count": 169,
   "id": "36ea2b4a",
   "metadata": {},
   "outputs": [],
   "source": [
    "dataframes = pd.read_excel('/Users/galina.ryazanskaya/Downloads/thesis?/2023_annotation/combined_scales_2023_annotation.xlsx', sheet_name=None)"
   ]
  },
  {
   "cell_type": "code",
   "execution_count": 172,
   "id": "1c08f5e5",
   "metadata": {},
   "outputs": [
    {
     "data": {
      "text/plain": [
       "RangeIndex(start=0, stop=132, step=1)"
      ]
     },
     "execution_count": 172,
     "metadata": {},
     "output_type": "execute_result"
    }
   ],
   "source": [
    "dataframes['demography'].index"
   ]
  },
  {
   "cell_type": "code",
   "execution_count": 110,
   "id": "ebe3656a",
   "metadata": {},
   "outputs": [
    {
     "name": "stdout",
     "output_type": "stream",
     "text": [
      "S01 ['S01_1', 'S01_2', 'S01_3']\n",
      "S02 ['S02_1', 'S02_2', 'S02_3']\n",
      "S03 ['S03_1', 'S03_2']\n",
      "S04 ['S04_1', 'S04_2']\n",
      "S05 ['S05_1', 'S05_2', 'S05_3']\n",
      "S06 ['S06_1', 'S06_2']\n",
      "S08 ['S08_1', 'S08_2', 'S08_3']\n",
      "S09 ['S09_1', 'S09_2', 'S09_3']\n",
      "S10 ['S10_1', 'S10_2', 'S10_3']\n",
      "S11 ['S11_1', 'S11_2', 'S11_3']\n",
      "S12 ['S12_1', 'S12_2', 'S12_3']\n",
      "S13 ['S13_1', 'S13_2']\n",
      "S14 ['S14_1', 'S14_2', 'S14_3']\n",
      "S15 ['S15_1', 'S15_2']\n",
      "S16 ['S16_1', 'S16_2', 'S16_3']\n",
      "S17 ['S17_1', 'S17_3']\n",
      "S18 ['S18_1', 'S18_3']\n",
      "S19 ['S19_1', 'S19_2', 'S19_3']\n",
      "S20 ['S20_1', 'S20_2', 'S20_3']\n",
      "S21 ['S21_1', 'S21_2']\n",
      "S22 ['S22_1', 'S22_3']\n",
      "S23 ['S23_1', 'S23_2']\n",
      "S24 ['S24_1', 'S24_2', 'S24_3']\n",
      "S25 ['S25_1', 'S25_2']\n",
      "S27 ['S27_1', 'S27_2', 'S27_3']\n",
      "S29 ['S29_1', 'S29_2']\n",
      "S31 ['S31_1', 'S31_2']\n",
      "S33 ['S33_1', 'S33_2']\n",
      "S34 ['S34_1', 'S34_2']\n",
      "S35 ['S35_1', 'S35_2']\n",
      "S36 ['S36_1', 'S36_2']\n",
      "S37 ['S37_1', 'S37_2']\n",
      "S38 ['S38_1', 'S38_2']\n",
      "S39 ['S39_1', 'S39_2']\n",
      "S40 ['S40_1', 'S40_2']\n",
      "S41 ['S41_1', 'S41_2']\n",
      "S42 ['S42_1', 'S42_2']\n",
      "S43 ['S43_1', 'S43_2']\n",
      "S44 ['S44_1', 'S44_2']\n",
      "S45 ['S45_1', 'S45_2']\n",
      "S47 ['S47_1', 'S47_2']\n",
      "S48 ['S48_1', 'S48_2']\n",
      "S49 ['S49_1', 'S49_2']\n",
      "S50 ['S50_1', 'S50_2']\n",
      "S51 ['S51_1', 'S51_2']\n",
      "S53 ['S53_1', 'S53_2']\n",
      "S55 ['S55_1', 'S55_2']\n",
      "S56 ['S56_1', 'S56_2']\n",
      "S57 ['S57_1', 'S57_2']\n"
     ]
    }
   ],
   "source": [
    "idx = {}\n",
    "for i in res_df.index:\n",
    "    idx.setdefault(i.split('_')[0], []).append(i) \n",
    "    \n",
    "for i, v in idx.items():\n",
    "    if len(v) == 1 and v[0].split('_')[-1] != '1':\n",
    "        print(i, v, 'non-start-timepoint')\n",
    "    if len(v) > 1:\n",
    "        print(i, v)"
   ]
  },
  {
   "cell_type": "code",
   "execution_count": 111,
   "id": "32f414c5",
   "metadata": {},
   "outputs": [],
   "source": [
    "non_start_timepoint = [i for i in res_df.index if i.split('_')[-1] != '1']\n",
    "res_df.drop(non_start_timepoint, inplace=True)"
   ]
  },
  {
   "cell_type": "code",
   "execution_count": 142,
   "id": "38537b70",
   "metadata": {},
   "outputs": [],
   "source": [
    "idx = {}\n",
    "for i in res_df.index:\n",
    "    idx.setdefault(i.split('_')[0], []).append(i) \n",
    "    \n",
    "for i, v in idx.items():\n",
    "    if len(v) == 1 and v[0].split('_')[-1] != '1':\n",
    "        print(i, v, 'non-start-timepoint')\n",
    "    if len(v) > 1:\n",
    "        print(i, v)"
   ]
  },
  {
   "cell_type": "code",
   "execution_count": 121,
   "id": "1017d650",
   "metadata": {},
   "outputs": [
    {
     "data": {
      "text/plain": [
       "TASK                               \n",
       "adventure  LM         m_bert_cgcoh      0.954746\n",
       "                      m_bert_gcoh       0.942201\n",
       "                      m_bert_lcoh       0.873049\n",
       "                      m_bert_scoh       0.865214\n",
       "                      m_cgcoh           0.930773\n",
       "                                         ...    \n",
       "sportsman  syntactic  max_sent_len     20.000000\n",
       "                      mean_sent_len     8.500000\n",
       "                      min_sent_len      2.000000\n",
       "                      n_sents          12.000000\n",
       "                      std_sent_len      4.425306\n",
       "Name: PD101_1, Length: 156, dtype: float64"
      ]
     },
     "execution_count": 121,
     "metadata": {},
     "output_type": "execute_result"
    }
   ],
   "source": [
    "res_df.loc['PD101_1'].dropna()"
   ]
  },
  {
   "cell_type": "code",
   "execution_count": 120,
   "id": "f9183712",
   "metadata": {},
   "outputs": [
    {
     "data": {
      "text/plain": [
       "TASK                               \n",
       "chair      LM         m_bert_cgcoh      0.961930\n",
       "                      m_bert_gcoh       0.955538\n",
       "                      m_bert_lcoh       0.902659\n",
       "                      m_bert_scoh       0.904813\n",
       "                      m_cgcoh           0.903503\n",
       "                                         ...    \n",
       "winterday  syntactic  max_sent_len     11.000000\n",
       "                      mean_sent_len     5.228571\n",
       "                      min_sent_len      2.000000\n",
       "                      n_sents          35.000000\n",
       "                      std_sent_len      2.178934\n",
       "Name: S01_1, Length: 113, dtype: float64"
      ]
     },
     "execution_count": 120,
     "metadata": {},
     "output_type": "execute_result"
    }
   ],
   "source": [
    "res_df.loc['S01_1'].dropna()"
   ]
  },
  {
   "cell_type": "code",
   "execution_count": 122,
   "id": "8d1e4569",
   "metadata": {},
   "outputs": [
    {
     "data": {
      "text/plain": [
       "TASK                                 \n",
       "adventure  LM         m_bert_cgcoh         0.965943\n",
       "                      m_bert_gcoh          0.962893\n",
       "                      m_bert_lcoh          0.916924\n",
       "                      m_bert_scoh          0.928329\n",
       "                      m_cgcoh              0.985643\n",
       "                      m_gcoh               0.984355\n",
       "                      m_lcoh               0.965453\n",
       "                      m_scoh               0.963595\n",
       "                      m_sporb              0.981868\n",
       "           graph      L1                   0.000000\n",
       "                      L2                   1.507692\n",
       "                      L3                  28.384615\n",
       "                      LCC                 59.707692\n",
       "                      LSC                 58.015385\n",
       "                      PE                   7.753846\n",
       "                      degree_average       3.318450\n",
       "                      degree_std           3.133626\n",
       "                      number_of_edges     99.000000\n",
       "                      number_of_nodes     59.707692\n",
       "           lexical    LTR                  0.521212\n",
       "                      MALTR                0.914194\n",
       "                      n_words            165.000000\n",
       "           syntactic  ADJ                  0.054545\n",
       "                      ADP                  0.115152\n",
       "                      ADV                  0.066667\n",
       "                      AUX                  0.030303\n",
       "                      CCONJ                0.042424\n",
       "                      DET                  0.048485\n",
       "                      NOUN                 0.181818\n",
       "                      NUM                  0.012121\n",
       "                      PART                 0.042424\n",
       "                      PRON                 0.151515\n",
       "                      PUNCT                0.121212\n",
       "                      SCONJ                0.006061\n",
       "                      VERB                 0.127273\n",
       "                      max_sent_len        19.000000\n",
       "                      mean_sent_len        7.857143\n",
       "                      min_sent_len         3.000000\n",
       "                      n_sents             21.000000\n",
       "                      std_sent_len         3.655208\n",
       "Name: PD103_1, dtype: float64"
      ]
     },
     "execution_count": 122,
     "metadata": {},
     "output_type": "execute_result"
    }
   ],
   "source": [
    "res_df.loc['PD103_1'].dropna()"
   ]
  },
  {
   "cell_type": "code",
   "execution_count": 123,
   "id": "39ebfc73",
   "metadata": {},
   "outputs": [
    {
     "data": {
      "text/plain": [
       "TASK                               \n",
       "present    LM         m_bert_cgcoh      0.976053\n",
       "                      m_bert_gcoh       0.961533\n",
       "                      m_bert_lcoh       0.908713\n",
       "                      m_bert_scoh       0.933705\n",
       "                      m_cgcoh           0.999952\n",
       "                                         ...    \n",
       "winterday  syntactic  max_sent_len      9.000000\n",
       "                      mean_sent_len     4.653846\n",
       "                      min_sent_len      2.000000\n",
       "                      n_sents          26.000000\n",
       "                      std_sent_len      2.129325\n",
       "Name: S03_1, Length: 115, dtype: float64"
      ]
     },
     "execution_count": 123,
     "metadata": {},
     "output_type": "execute_result"
    }
   ],
   "source": [
    "res_df.loc['S03_1'].dropna()"
   ]
  },
  {
   "cell_type": "code",
   "execution_count": 124,
   "id": "929b930d",
   "metadata": {},
   "outputs": [
    {
     "data": {
      "text/plain": [
       "TASK                               \n",
       "adventure  LM         m_bert_cgcoh      0.983063\n",
       "                      m_bert_gcoh       0.977067\n",
       "                      m_bert_lcoh       0.956447\n",
       "                      m_bert_scoh       0.948733\n",
       "                      m_cgcoh           0.847485\n",
       "                                         ...    \n",
       "sportsman  syntactic  max_sent_len     16.000000\n",
       "                      mean_sent_len     9.100000\n",
       "                      min_sent_len      3.000000\n",
       "                      n_sents          10.000000\n",
       "                      std_sent_len      4.369210\n",
       "Name: PD102_1, Length: 150, dtype: float64"
      ]
     },
     "execution_count": 124,
     "metadata": {},
     "output_type": "execute_result"
    }
   ],
   "source": [
    "res_df.loc['PD102_1'].dropna()"
   ]
  },
  {
   "cell_type": "code",
   "execution_count": 125,
   "id": "4ccfb62f",
   "metadata": {},
   "outputs": [
    {
     "data": {
      "text/plain": [
       "TASK                               \n",
       "adventure  LM         m_bert_cgcoh     0.969722\n",
       "                      m_bert_gcoh      0.967034\n",
       "                      m_bert_lcoh      0.925048\n",
       "                      m_bert_scoh      0.935385\n",
       "                      m_cgcoh          0.994149\n",
       "                                         ...   \n",
       "present    syntactic  max_sent_len     9.000000\n",
       "                      mean_sent_len    6.000000\n",
       "                      min_sent_len     3.000000\n",
       "                      n_sents          2.000000\n",
       "                      std_sent_len     3.000000\n",
       "Name: S02_1, Length: 108, dtype: float64"
      ]
     },
     "execution_count": 125,
     "metadata": {},
     "output_type": "execute_result"
    }
   ],
   "source": [
    "res_df.loc['S02_1'].dropna()"
   ]
  },
  {
   "cell_type": "code",
   "execution_count": 136,
   "id": "1df0a615",
   "metadata": {},
   "outputs": [],
   "source": [
    "raw = pd.read_csv('/Users/galina.ryazanskaya/Downloads/thesis?/code?/rus_transcript_lex_by_task_with_dots.tsv', sep='\\t', index_col=0)"
   ]
  },
  {
   "cell_type": "code",
   "execution_count": 137,
   "id": "2cc877da",
   "metadata": {},
   "outputs": [
    {
     "data": {
      "text/plain": [
       "adventure    Мама оставила ребенка в коляске. И пошла в маг...\n",
       "chair        Первое действие. Положите столешницу стула на ...\n",
       "present      Надо нуу. Двее замечательные дочери самый лучш...\n",
       "Name: S02_1, dtype: object"
      ]
     },
     "execution_count": 137,
     "metadata": {},
     "output_type": "execute_result"
    }
   ],
   "source": [
    "raw.loc['S02_1'].dropna()"
   ]
  },
  {
   "cell_type": "code",
   "execution_count": 138,
   "id": "026cc907",
   "metadata": {},
   "outputs": [
    {
     "data": {
      "text/plain": [
       "adventure    Первое это. В коляске малыш. Его везет бабушка...\n",
       "chair        Ну прикрутить ну. Ножку к стулу. Прикрутить но...\n",
       "present      Ну последнее мне подарили поездку в деревню. В...\n",
       "sportsman    Ну тузет значит полный человек и худой. Худой ...\n",
       "Name: PD102_1, dtype: object"
      ]
     },
     "execution_count": 138,
     "metadata": {},
     "output_type": "execute_result"
    }
   ],
   "source": [
    "raw.loc['PD102_1'].dropna()"
   ]
  },
  {
   "cell_type": "code",
   "execution_count": 140,
   "id": "f8fd125e",
   "metadata": {},
   "outputs": [
    {
     "data": {
      "text/plain": [
       "present      Ну какие. Зять внучка на день рождения и на но...\n",
       "table        На его пару ножек ставим. Крепим этими. Как ег...\n",
       "winterday    Мальчик посмотрел в окно. Зим. Пошел гулять. И...\n",
       "Name: S03_1, dtype: object"
      ]
     },
     "execution_count": 140,
     "metadata": {},
     "output_type": "execute_result"
    }
   ],
   "source": [
    "raw.loc['S03_1'].dropna()"
   ]
  },
  {
   "cell_type": "code",
   "execution_count": 141,
   "id": "3324a4d0",
   "metadata": {},
   "outputs": [
    {
     "data": {
      "text/plain": [
       "adventure    Ребенок сидит в коляке. К нему подходит какой-...\n",
       "Name: PD103_1, dtype: object"
      ]
     },
     "execution_count": 141,
     "metadata": {},
     "output_type": "execute_result"
    }
   ],
   "source": [
    "raw.loc['PD103_1'].dropna()"
   ]
  },
  {
   "cell_type": "code",
   "execution_count": 188,
   "id": "226cdf41",
   "metadata": {},
   "outputs": [
    {
     "data": {
      "text/plain": [
       "1806"
      ]
     },
     "execution_count": 188,
     "metadata": {},
     "output_type": "execute_result"
    }
   ],
   "source": [
    "raw.isna().sum(axis=0).sum()"
   ]
  },
  {
   "cell_type": "code",
   "execution_count": 218,
   "id": "ded7410c",
   "metadata": {},
   "outputs": [
    {
     "data": {
      "text/plain": [
       "<AxesSubplot: >"
      ]
     },
     "execution_count": 218,
     "metadata": {},
     "output_type": "execute_result"
    },
    {
     "data": {
      "image/png": "[encoded data removed]",
      "text/plain": [
       "<Figure size 432x288 with 1 Axes>"
      ]
     },
     "metadata": {
      "needs_background": "light"
     },
     "output_type": "display_data"
    }
   ],
   "source": [
    "raw.applymap(lambda x: len(x.split('.')) if not pd.isna(x) else np.nan).mean(axis=1).hist()"
   ]
  },
  {
   "cell_type": "code",
   "execution_count": 200,
   "id": "6b2a4e07",
   "metadata": {},
   "outputs": [
    {
     "data": {
      "text/plain": [
       "570.0"
      ]
     },
     "execution_count": 200,
     "metadata": {},
     "output_type": "execute_result"
    }
   ],
   "source": [
    "( 855 * 20 ) / 30"
   ]
  },
  {
   "cell_type": "code",
   "execution_count": 239,
   "id": "2e41356c",
   "metadata": {},
   "outputs": [],
   "source": [
    "n = 200\n",
    "total = 0\n",
    "total_len = min(n//5, 40)\n",
    "for x in range(2, total_len):\n",
    "    total += (n // x) * x"
   ]
  },
  {
   "cell_type": "code",
   "execution_count": 240,
   "id": "b916cd73",
   "metadata": {},
   "outputs": [
    {
     "data": {
      "text/plain": [
       "7288"
      ]
     },
     "execution_count": 240,
     "metadata": {},
     "output_type": "execute_result"
    }
   ],
   "source": [
    "total"
   ]
  },
  {
   "cell_type": "code",
   "execution_count": 228,
   "id": "f3544ea7",
   "metadata": {},
   "outputs": [
    {
     "data": {
      "text/plain": [
       "14.576"
      ]
     },
     "execution_count": 228,
     "metadata": {},
     "output_type": "execute_result"
    }
   ],
   "source": [
    "total / 500"
   ]
  },
  {
   "cell_type": "code",
   "execution_count": 229,
   "id": "2b2dceb5",
   "metadata": {},
   "outputs": [
    {
     "data": {
      "text/plain": [
       "192.0"
      ]
     },
     "execution_count": 229,
     "metadata": {},
     "output_type": "execute_result"
    }
   ],
   "source": [
    "48 * 60 / 15"
   ]
  },
  {
   "cell_type": "code",
   "execution_count": 226,
   "id": "b06fab48",
   "metadata": {},
   "outputs": [
    {
     "data": {
      "text/plain": [
       "0.0"
      ]
     },
     "execution_count": 226,
     "metadata": {},
     "output_type": "execute_result"
    }
   ],
   "source": [
    "robust_total / 500"
   ]
  },
  {
   "cell_type": "code",
   "execution_count": 153,
   "id": "2dc74854",
   "metadata": {},
   "outputs": [
    {
     "name": "stdout",
     "output_type": "stream",
     "text": [
      "S01_1 chair, present, winterday\n",
      "PD101_1 adventure, chair, present, sportsman\n",
      "S02_1 adventure, chair, present\n",
      "PD102_1 adventure, chair, present, sportsman\n",
      "S03_1 present, table, winterday\n",
      "PD103_1 adventure\n",
      "S05_1 chair, present, sportsman\n",
      "PD105_1 adventure\n",
      "S06_1 bench, present, winterday\n",
      "PD106_1 adventure, chair, present, sportsman\n",
      "S07_1 chair, sportsman, trip\n",
      "PD107_1 adventure, chair, present, sportsman\n",
      "S08_1 present, table, winterday\n",
      "PD108_1 adventure\n",
      "S09_1 adventure, chair, present\n",
      "PD109_1 adventure, sportsman\n",
      "S10_1 bench, present, sportsman\n",
      "PD110_1 adventure, chair, present, sportsman\n",
      "S11_1 bench, party, winterday\n",
      "PD111_1 adventure, chair, present, sportsman\n",
      "S12_1 adventure, chair, party\n",
      "PD112_1 adventure, chair, present, sportsman\n",
      "S13_1 adventure, chair, trip\n",
      "PD113_1 adventure, chair, present, sportsman\n",
      "S14_1 chair, trip, winterday\n",
      "PD114_1 adventure, sportsman\n",
      "S15_1 sportsman, table, trip\n",
      "PD115_1 adventure, chair, present, sportsman\n",
      "S16_1 chair, trip, winterday\n",
      "PD116_1 adventure, chair, present, sportsman\n",
      "S17_1 bench, present, sportsman\n",
      "PD117_1 adventure, chair, present, sportsman\n",
      "S18_1 bench, party, winterday\n",
      "PD118_1 adventure, chair, present, sportsman\n",
      "S19_1 adventure, bench, party\n",
      "PD119_1 adventure, chair, present, sportsman\n",
      "S20_1 chair, sportsman, trip\n",
      "PD120_1 adventure, chair, present, sportsman\n",
      "S21_1 sportsman, table\n",
      "PD121_1 adventure, sportsman\n",
      "S22_1 bench, present, winterday\n",
      "PD122_1 adventure, sportsman\n",
      "S23_1 chair, present, winterday\n",
      "PD123_1 adventure, sportsman\n",
      "S24_1 present, table, winterday\n",
      "PD124_1 adventure, sportsman\n",
      "S25_1 sportsman, table, trip\n",
      "PD125_1 adventure, sportsman\n",
      "S26_1 present, sportsman, table\n",
      "PD126_1 adventure, sportsman\n",
      "S27_1 table, trip, winterday\n",
      "PD127_1 adventure, sportsman\n",
      "S29_1 adventure, bench, trip\n",
      "PD129_1 adventure, chair, present, sportsman\n",
      "S30_1 sportsman, trip\n",
      "PD130_1 adventure, chair, present, sportsman\n"
     ]
    }
   ],
   "source": [
    "for i in res_df.index:\n",
    "    if i.startswith('S') and i.replace('S', 'PD1') in res_df.index:\n",
    "        res_i = raw.loc[i]\n",
    "        res_pdi = raw.loc[i.replace('S', 'PD1')]\n",
    "#         print(i, i.replace('S', 'PD1'))\n",
    "        print(i, ', '.join(res_i.dropna().index))\n",
    "        print(i.replace('S', 'PD1'), ', '.join(res_pdi.dropna().index))\n",
    "#         print()"
   ]
  },
  {
   "cell_type": "code",
   "execution_count": 18,
   "id": "a529623d",
   "metadata": {},
   "outputs": [],
   "source": []
  }
 ],
 "metadata": {
  "kernelspec": {
   "display_name": "Python 3 (ipykernel)",
   "language": "python",
   "name": "python3"
  },
  "language_info": {
   "codemirror_mode": {
    "name": "ipython",
    "version": 3
   },
   "file_extension": ".py",
   "mimetype": "text/x-python",
   "name": "python",
   "nbconvert_exporter": "python",
   "pygments_lexer": "ipython3",
   "version": "3.9.7"
  }
 },
 "nbformat": 4,
 "nbformat_minor": 5
}
