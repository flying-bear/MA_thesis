{
 "cells": [
  {
   "cell_type": "code",
   "execution_count": 22,
   "id": "ec07fa5d",
   "metadata": {},
   "outputs": [],
   "source": [
    "import numpy as np\n",
    "import matplotlib.pyplot as plt\n",
    "import pandas as pd\n",
    "import seaborn as sns\n",
    "import statsmodels.api as sm\n",
    "\n",
    "from scipy import stats"
   ]
  },
  {
   "cell_type": "code",
   "execution_count": 23,
   "id": "56b94513",
   "metadata": {},
   "outputs": [],
   "source": [
    "import warnings\n",
    "warnings.filterwarnings(\"ignore\", category=np.VisibleDeprecationWarning) "
   ]
  },
  {
   "cell_type": "code",
   "execution_count": 24,
   "id": "bb2b0dec",
   "metadata": {},
   "outputs": [],
   "source": [
    "PATH = '/Users/galina.ryazanskaya/Downloads/thesis?/code?/'"
   ]
  },
  {
   "cell_type": "markdown",
   "id": "88f9d648",
   "metadata": {},
   "source": [
    "## merge data with psychosocial data"
   ]
  },
  {
   "cell_type": "code",
   "execution_count": 25,
   "id": "6a46d432",
   "metadata": {},
   "outputs": [],
   "source": [
    "df = pd.read_csv(PATH +'rus_merged_psychosocial_data.csv', index_col=0)\n",
    "df = df[df.index.notnull()]"
   ]
  },
  {
   "cell_type": "code",
   "execution_count": 26,
   "id": "77d7048a",
   "metadata": {},
   "outputs": [],
   "source": [
    "res_df = pd.read_csv(PATH + 'processed_values/ru_both.tsv', sep='\\t', index_col=0, header=[0, 1, 2])"
   ]
  },
  {
   "cell_type": "code",
   "execution_count": 27,
   "id": "6f54b737",
   "metadata": {},
   "outputs": [
    {
     "data": {
      "text/plain": [
       "7"
      ]
     },
     "execution_count": 27,
     "metadata": {},
     "output_type": "execute_result"
    }
   ],
   "source": [
    "dfi = [i.replace('-', '').replace('S', 'PD1') for i in df.index]\n",
    "df.index = dfi\n",
    "# res_df.index = [i.replace('S', 'PD1') for i in res_df.index]\n",
    "rdfi = [i.split('_')[0].replace('S', 'PD1') for i in res_df.index]\n",
    "\n",
    "missing_psy = set(rdfi).difference(set(dfi))\n",
    "len(missing_psy)"
   ]
  },
  {
   "cell_type": "code",
   "execution_count": 28,
   "id": "18dac09c",
   "metadata": {},
   "outputs": [],
   "source": [
    "missing_psy = [i for i in res_df.index if i.split('_')[0] in missing_psy]\n",
    "res_df.drop(missing_psy, inplace=True)"
   ]
  },
  {
   "cell_type": "code",
   "execution_count": 29,
   "id": "7b185e6d",
   "metadata": {},
   "outputs": [
    {
     "data": {
      "text/plain": [
       "0"
      ]
     },
     "execution_count": 29,
     "metadata": {},
     "output_type": "execute_result"
    }
   ],
   "source": [
    "missing_text = set(dfi).difference(set(rdfi))\n",
    "len(missing_text)"
   ]
  },
  {
   "cell_type": "code",
   "execution_count": 30,
   "id": "0629cb9a",
   "metadata": {},
   "outputs": [],
   "source": [
    "df.drop(missing_text, inplace=True)"
   ]
  },
  {
   "cell_type": "code",
   "execution_count": 31,
   "id": "32f414c5",
   "metadata": {},
   "outputs": [],
   "source": [
    "non_start_timepoint = [i for i in res_df.index if i.split('_')[-1] != '1']\n",
    "res_df.drop(non_start_timepoint, inplace=True)"
   ]
  },
  {
   "cell_type": "code",
   "execution_count": 32,
   "id": "1017d650",
   "metadata": {},
   "outputs": [
    {
     "data": {
      "text/plain": [
       "TASK                               \n",
       "adventure  LM         m_bert_cgcoh      0.954746\n",
       "                      m_bert_gcoh       0.942201\n",
       "                      m_bert_lcoh       0.873049\n",
       "                      m_bert_scoh       0.865214\n",
       "                      m_cgcoh           0.930773\n",
       "                                         ...    \n",
       "sportsman  syntactic  max_sent_len     20.000000\n",
       "                      mean_sent_len     8.500000\n",
       "                      min_sent_len      2.000000\n",
       "                      n_sents          12.000000\n",
       "                      std_sent_len      4.425306\n",
       "Name: PD101_1, Length: 156, dtype: float64"
      ]
     },
     "execution_count": 32,
     "metadata": {},
     "output_type": "execute_result"
    }
   ],
   "source": [
    "res_df.loc['PD101_1'].dropna()"
   ]
  },
  {
   "cell_type": "code",
   "execution_count": 33,
   "id": "a1f68e58",
   "metadata": {},
   "outputs": [],
   "source": [
    "rdfi_filtered = [i.split('_')[0].replace('S', 'PD1') for i in res_df.index]\n",
    "res_df.index = rdfi_filtered"
   ]
  },
  {
   "cell_type": "markdown",
   "id": "3e50236f",
   "metadata": {},
   "source": [
    "## select target cols"
   ]
  },
  {
   "cell_type": "code",
   "execution_count": 36,
   "id": "532c0237",
   "metadata": {
    "scrolled": true
   },
   "outputs": [
    {
     "data": {
      "text/plain": [
       "Index(['age', 'dep.scale', 'dep.severity-1', 'group.code', 'diagnosis.group',\n",
       "       'diagnosis.type', 'diagnosis_code', 'diagnosis_eng', 'diagnosis_rus',\n",
       "       'education.level.code', 'education.level.eng', 'education.years',\n",
       "       'exacerbation', 'HDRS-17.score-1', 'longitudinal', 'panss-1-td',\n",
       "       'panss-1-total', 'panss-n-1-total', 'panss-o-1-total',\n",
       "       'panss-p-1-total', 'rehospitalization', 'sans-1-total',\n",
       "       'saps-ftd-1-total', 'sex', 'sops-1-total', 'sops-c-total',\n",
       "       'sops-d-total', 'sops-n-total', 'sops-p-total', 'td.scales',\n",
       "       'td.severity'],\n",
       "      dtype='object')"
      ]
     },
     "execution_count": 36,
     "metadata": {},
     "output_type": "execute_result"
    }
   ],
   "source": [
    "df.columns"
   ]
  },
  {
   "cell_type": "code",
   "execution_count": 34,
   "id": "54657dfe",
   "metadata": {
    "scrolled": true
   },
   "outputs": [
    {
     "data": {
      "text/plain": [
       "183"
      ]
     },
     "execution_count": 34,
     "metadata": {},
     "output_type": "execute_result"
    }
   ],
   "source": [
    "len(df)"
   ]
  },
  {
   "cell_type": "code",
   "execution_count": 50,
   "id": "9e7dbcd9",
   "metadata": {},
   "outputs": [
    {
     "data": {
      "text/plain": [
       "control    127\n",
       "patient     56\n",
       "Name: diagnosis.group, dtype: int64"
      ]
     },
     "execution_count": 50,
     "metadata": {},
     "output_type": "execute_result"
    }
   ],
   "source": [
    "df['diagnosis.group'].value_counts()"
   ]
  },
  {
   "cell_type": "code",
   "execution_count": 51,
   "id": "7f5f22b3",
   "metadata": {},
   "outputs": [
    {
     "data": {
      "text/plain": [
       "sz     31\n",
       "dep    25\n",
       "Name: diagnosis.type, dtype: int64"
      ]
     },
     "execution_count": 51,
     "metadata": {},
     "output_type": "execute_result"
    }
   ],
   "source": [
    "df['diagnosis.type'].value_counts()"
   ]
  },
  {
   "cell_type": "code",
   "execution_count": 52,
   "id": "751830dc",
   "metadata": {},
   "outputs": [
    {
     "data": {
      "text/plain": [
       "HDRS    58\n",
       "QIDS    39\n",
       "Name: dep.scale, dtype: int64"
      ]
     },
     "execution_count": 52,
     "metadata": {},
     "output_type": "execute_result"
    }
   ],
   "source": [
    "df['dep.scale'].value_counts()"
   ]
  },
  {
   "cell_type": "code",
   "execution_count": 54,
   "id": "5f6384d6",
   "metadata": {},
   "outputs": [
    {
     "data": {
      "text/plain": [
       "SCL-90-R    39\n",
       "SAPS        28\n",
       "PANSS       28\n",
       "Name: td.scales, dtype: int64"
      ]
     },
     "execution_count": 54,
     "metadata": {},
     "output_type": "execute_result"
    }
   ],
   "source": [
    "df['td.scales'].value_counts()"
   ]
  },
  {
   "cell_type": "code",
   "execution_count": 55,
   "id": "12685503",
   "metadata": {},
   "outputs": [
    {
     "data": {
      "text/plain": [
       "schizophrenia                                        20\n",
       "borderline.personality.disorder                      10\n",
       "schizoaffective.disorder                              8\n",
       "bipolar.affective.disorder                            6\n",
       "bipolar.affective.disorder.severe                     2\n",
       "schizotypal.disorder                                  2\n",
       "bipolar.affective.disorder.severe.psychotic           2\n",
       "recurrent.depressive.disorder                         2\n",
       "depressive.episode.moderate                           1\n",
       "recurrent.depressive.disorder.severe.psychotic        1\n",
       "schizotypal.disorder.pseudoneurotic.schizophrenia     1\n",
       "personality.disorder                                  1\n",
       "Name: diagnosis_eng, dtype: int64"
      ]
     },
     "execution_count": 55,
     "metadata": {},
     "output_type": "execute_result"
    }
   ],
   "source": [
    "df['diagnosis_eng'].value_counts()"
   ]
  },
  {
   "cell_type": "code",
   "execution_count": 59,
   "id": "cc488dbc",
   "metadata": {},
   "outputs": [
    {
     "data": {
      "text/plain": [
       "F20       20\n",
       "F60.31    10\n",
       "F25        8\n",
       "F31        6\n",
       "F31.4      2\n",
       "F21        2\n",
       "F31.5      2\n",
       "F33        2\n",
       "F32.1      1\n",
       "F33.3      1\n",
       "F21.3      1\n",
       "F60        1\n",
       "Name: diagnosis_code, dtype: int64"
      ]
     },
     "execution_count": 59,
     "metadata": {},
     "output_type": "execute_result"
    }
   ],
   "source": [
    "df['diagnosis_code'].value_counts()"
   ]
  },
  {
   "cell_type": "code",
   "execution_count": 35,
   "id": "3a7303d1",
   "metadata": {},
   "outputs": [],
   "source": [
    "target_cols = ['sex', 'age', 'education.years', \n",
    "               'diagnosis.group', 'diagnosis.type',\n",
    "               'td.severity', 'dep.severity']"
   ]
  },
  {
   "cell_type": "code",
   "execution_count": 61,
   "id": "c088ed5c",
   "metadata": {},
   "outputs": [],
   "source": [
    "panss_cols = [col for col in df.columns if col.startswith('panss')]\n",
    "sans_cols = [col for col in df.columns if col.startswith('sans')]\n",
    "saps_cols = [col for col in df.columns if col.startswith('saps')]\n",
    "sops_cols = [col for col in df.columns if col.startswith('sops')]"
   ]
  },
  {
   "cell_type": "code",
   "execution_count": 62,
   "id": "337a11df",
   "metadata": {},
   "outputs": [
    {
     "data": {
      "text/plain": [
       "age                     31\n",
       "dep.scale               31\n",
       "dep.severity-1          31\n",
       "group.code               3\n",
       "diagnosis.group         31\n",
       "diagnosis.type          31\n",
       "diagnosis_code          31\n",
       "diagnosis_eng           31\n",
       "diagnosis_rus            3\n",
       "education.level.code     3\n",
       "education.level.eng     31\n",
       "education.years         31\n",
       "exacerbation             3\n",
       "HDRS-17.score-1         21\n",
       "longitudinal             3\n",
       "panss-1-td              29\n",
       "panss-1-total           29\n",
       "panss-n-1-total         29\n",
       "panss-o-1-total         29\n",
       "panss-p-1-total         29\n",
       "rehospitalization        3\n",
       "sans-1-total             3\n",
       "saps-ftd-1-total         3\n",
       "sex                     31\n",
       "sops-1-total             0\n",
       "sops-c-total             1\n",
       "sops-d-total             1\n",
       "sops-n-total             1\n",
       "sops-p-total             1\n",
       "td.scales               31\n",
       "td.severity             31\n",
       "dtype: int64"
      ]
     },
     "execution_count": 62,
     "metadata": {},
     "output_type": "execute_result"
    }
   ],
   "source": [
    "df[df['diagnosis.type'] == 'sz'].count()"
   ]
  },
  {
   "cell_type": "code",
   "execution_count": 40,
   "id": "ba7bf7c1",
   "metadata": {
    "scrolled": true
   },
   "outputs": [
    {
     "data": {
      "text/plain": [
       "age                     56\n",
       "dep.scale               56\n",
       "dep.severity-1          56\n",
       "group.code              28\n",
       "diagnosis.group         56\n",
       "diagnosis.type          56\n",
       "diagnosis_code          56\n",
       "diagnosis_eng           56\n",
       "diagnosis_rus           28\n",
       "education.level.code    28\n",
       "education.level.eng     56\n",
       "education.years         56\n",
       "exacerbation            26\n",
       "HDRS-17.score-1         46\n",
       "longitudinal            21\n",
       "panss-1-td              48\n",
       "panss-1-total           49\n",
       "panss-n-1-total         49\n",
       "panss-o-1-total         49\n",
       "panss-p-1-total         49\n",
       "rehospitalization       26\n",
       "sans-1-total            27\n",
       "saps-ftd-1-total        28\n",
       "sex                     56\n",
       "sops-1-total             0\n",
       "sops-c-total            16\n",
       "sops-d-total            16\n",
       "sops-n-total            16\n",
       "sops-p-total            16\n",
       "td.scales               56\n",
       "td.severity             56\n",
       "dtype: int64"
      ]
     },
     "execution_count": 40,
     "metadata": {},
     "output_type": "execute_result"
    }
   ],
   "source": [
    "df[df['diagnosis.group'] == 'patient'].count()"
   ]
  },
  {
   "cell_type": "code",
   "execution_count": 41,
   "id": "870fda70",
   "metadata": {},
   "outputs": [
    {
     "data": {
      "text/plain": [
       "age                     126\n",
       "dep.scale                41\n",
       "dep.severity-1           41\n",
       "group.code                0\n",
       "diagnosis.group         127\n",
       "diagnosis.type            0\n",
       "diagnosis_code            0\n",
       "diagnosis_eng             0\n",
       "diagnosis_rus             0\n",
       "education.level.code      0\n",
       "education.level.eng     125\n",
       "education.years         126\n",
       "exacerbation              0\n",
       "HDRS-17.score-1          22\n",
       "longitudinal              0\n",
       "panss-1-td               22\n",
       "panss-1-total            22\n",
       "panss-n-1-total          22\n",
       "panss-o-1-total          22\n",
       "panss-p-1-total          22\n",
       "rehospitalization         0\n",
       "sans-1-total              0\n",
       "saps-ftd-1-total          0\n",
       "sex                     127\n",
       "sops-1-total              0\n",
       "sops-c-total              0\n",
       "sops-d-total              0\n",
       "sops-n-total              0\n",
       "sops-p-total              0\n",
       "td.scales                39\n",
       "td.severity              41\n",
       "dtype: int64"
      ]
     },
     "execution_count": 41,
     "metadata": {},
     "output_type": "execute_result"
    }
   ],
   "source": [
    "df[df['diagnosis.group'] == 'control'].count()"
   ]
  },
  {
   "cell_type": "code",
   "execution_count": 39,
   "id": "0483142f",
   "metadata": {},
   "outputs": [
    {
     "data": {
      "text/plain": [
       "age                                      18.0\n",
       "dep.scale                                HDRS\n",
       "dep.severity-1                            1.0\n",
       "group.code                                2.0\n",
       "diagnosis.group                       patient\n",
       "diagnosis.type                             sz\n",
       "diagnosis_code                            F21\n",
       "diagnosis_eng            schizotypal.disorder\n",
       "diagnosis_rus                  Шизотипическое\n",
       "education.level.code                      1.0\n",
       "education.level.eng     vocational.unfinished\n",
       "education.years                          11.0\n",
       "exacerbation                              1.0\n",
       "HDRS-17.score-1                           9.0\n",
       "longitudinal                              1.0\n",
       "panss-1-td                                4.0\n",
       "panss-1-total                            39.0\n",
       "panss-n-1-total                           9.0\n",
       "panss-o-1-total                          23.0\n",
       "panss-p-1-total                           7.0\n",
       "rehospitalization                         0.0\n",
       "sans-1-total                             48.0\n",
       "saps-ftd-1-total                          8.0\n",
       "sex                                    female\n",
       "sops-1-total                              NaN\n",
       "sops-c-total                             11.0\n",
       "sops-d-total                              3.0\n",
       "sops-n-total                             17.0\n",
       "sops-p-total                              8.0\n",
       "td.scales                                SAPS\n",
       "td.severity                               0.0\n",
       "Name: PD015, dtype: object"
      ]
     },
     "execution_count": 39,
     "metadata": {},
     "output_type": "execute_result"
    }
   ],
   "source": [
    "df.dropna(axis=0, thresh=30).iloc[0]"
   ]
  },
  {
   "cell_type": "markdown",
   "id": "00624643",
   "metadata": {},
   "source": [
    "## features of raw texts"
   ]
  },
  {
   "cell_type": "code",
   "execution_count": 18,
   "id": "1df0a615",
   "metadata": {},
   "outputs": [],
   "source": [
    "raw = pd.read_csv('/Users/galina.ryazanskaya/Downloads/thesis?/code?/rus_transcript_lex_by_task_with_dots.tsv', sep='\\t', index_col=0)"
   ]
  },
  {
   "cell_type": "code",
   "execution_count": 19,
   "id": "226cdf41",
   "metadata": {},
   "outputs": [
    {
     "data": {
      "text/plain": [
       "1098"
      ]
     },
     "execution_count": 19,
     "metadata": {},
     "output_type": "execute_result"
    }
   ],
   "source": [
    "raw.isna().sum(axis=0).sum()"
   ]
  },
  {
   "cell_type": "code",
   "execution_count": 20,
   "id": "ded7410c",
   "metadata": {},
   "outputs": [
    {
     "data": {
      "text/plain": [
       "<AxesSubplot: >"
      ]
     },
     "execution_count": 20,
     "metadata": {},
     "output_type": "execute_result"
    },
    {
     "data": {
      "image/png": "[encoded data removed]",
      "text/plain": [
       "<Figure size 432x288 with 1 Axes>"
      ]
     },
     "metadata": {
      "needs_background": "light"
     },
     "output_type": "display_data"
    }
   ],
   "source": [
    "raw.applymap(lambda x: len(x.split('.')) if not pd.isna(x) else np.nan).mean(axis=1).hist()"
   ]
  }
 ],
 "metadata": {
  "kernelspec": {
   "display_name": "Python 3 (ipykernel)",
   "language": "python",
   "name": "python3"
  },
  "language_info": {
   "codemirror_mode": {
    "name": "ipython",
    "version": 3
   },
   "file_extension": ".py",
   "mimetype": "text/x-python",
   "name": "python",
   "nbconvert_exporter": "python",
   "pygments_lexer": "ipython3",
   "version": "3.9.7"
  }
 },
 "nbformat": 4,
 "nbformat_minor": 5
}
