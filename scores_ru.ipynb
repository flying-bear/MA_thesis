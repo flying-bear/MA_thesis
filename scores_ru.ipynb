{
 "cells": [
  {
   "cell_type": "code",
   "execution_count": 1,
   "id": "50875dd8",
   "metadata": {},
   "outputs": [],
   "source": [
    "import numpy as np\n",
    "import matplotlib.pyplot as plt\n",
    "import pandas as pd\n",
    "import seaborn as sns\n",
    "import statsmodels.api as sm\n",
    "import random\n",
    "\n",
    "from matplotlib.colors import ListedColormap\n",
    "from random import choices\n",
    "from scipy import stats\n",
    "from statsmodels.miscmodels.ordinal_model import OrderedModel\n",
    "from tqdm.notebook import tqdm"
   ]
  },
  {
   "cell_type": "code",
   "execution_count": 195,
   "id": "56b94513",
   "metadata": {},
   "outputs": [],
   "source": [
    "import warnings\n",
    "import copy\n",
    "warnings.filterwarnings(action=\"ignore\", category=np.VisibleDeprecationWarning)\n",
    "warnings.filterwarnings(action='ignore', message='All-NaN slice encountered')\n",
    "warnings.filterwarnings(action='ignore', message='Precision loss occurred in moment calculation due to catastrophic cancellation. This occurs when the data are nearly identical. Results may be unreliable.')\n",
    "warnings.filterwarnings(action='ignore', message='Mean of empty slice')\n",
    "warnings.filterwarnings(action=\"ignore\", category=pd.errors.PerformanceWarning)"
   ]
  },
  {
   "cell_type": "code",
   "execution_count": 3,
   "id": "d9831475",
   "metadata": {},
   "outputs": [],
   "source": [
    "from jupyter_utils import style, mean_std, display_test, display_group_test, scatter_annotate, show_corrtest_mask_corr\n",
    "from ortogonolize_utils import draw_scatter, draw_corrected_scatter\n",
    "from ortogonolize_utils import compute_coefficient, compute_ortogonolized_coefficient, compute_ortogonolized_logit"
   ]
  },
  {
   "cell_type": "code",
   "execution_count": 4,
   "id": "bb2b0dec",
   "metadata": {},
   "outputs": [],
   "source": [
    "PATH = '/Users/galina.ryazanskaya/Downloads/thesis?/code?/'"
   ]
  },
  {
   "cell_type": "markdown",
   "id": "47eaa18b",
   "metadata": {},
   "source": [
    "## merge data with psychosocial data"
   ]
  },
  {
   "cell_type": "code",
   "execution_count": 5,
   "id": "6a46d432",
   "metadata": {},
   "outputs": [],
   "source": [
    "df = pd.read_csv(PATH +'rus_merged_psychosocial_data.csv', index_col=0)\n",
    "df = df[df.index.notnull()]\n",
    "df.rename(columns={'dep.severity-1': 'dep.severity',\n",
    "                  'HDRS-17.score-1': 'HDRS-17',\n",
    "                   'panss-1-td': 'panss_td',\n",
    "                   'panss-1-total': 'panss_total', \n",
    "                   'panss-n-1-total': 'panss_neg', \n",
    "                   'panss-o-1-total': 'panss_o',\n",
    "                   'panss-p-1-total': 'panss_pos', \n",
    "                   'sans-1-total': 'sans',\n",
    "                   'saps-ftd-1-total': 'saps_ftd', \n",
    "                   'sops-1-total': 'sops_total', \n",
    "                   'sops-c-total': 'sops_c',\n",
    "                   'sops-d-total': 'sops_d', \n",
    "                   'sops-n-total': 'sops_n', \n",
    "                   'sops-p-total': 'sops_p'\n",
    "                  }, inplace=True)\n",
    "df['index'] = df.index\n",
    "df.drop_duplicates(inplace=True, subset='index')\n",
    "df.drop(columns=['index'], inplace=True)"
   ]
  },
  {
   "cell_type": "code",
   "execution_count": 6,
   "id": "5dc26ce4",
   "metadata": {},
   "outputs": [
    {
     "data": {
      "text/plain": [
       "176"
      ]
     },
     "execution_count": 6,
     "metadata": {},
     "output_type": "execute_result"
    }
   ],
   "source": [
    "len(df)"
   ]
  },
  {
   "cell_type": "code",
   "execution_count": 7,
   "id": "77d7048a",
   "metadata": {},
   "outputs": [],
   "source": [
    "res_df = pd.read_csv(PATH + 'processed_values/ru_both.tsv', sep='\\t', index_col=0, header=[0, 1, 2])"
   ]
  },
  {
   "cell_type": "code",
   "execution_count": 8,
   "id": "71cceb97",
   "metadata": {},
   "outputs": [
    {
     "data": {
      "text/plain": [
       "183"
      ]
     },
     "execution_count": 8,
     "metadata": {},
     "output_type": "execute_result"
    }
   ],
   "source": [
    "len(res_df)"
   ]
  },
  {
   "cell_type": "code",
   "execution_count": 9,
   "id": "6f54b737",
   "metadata": {},
   "outputs": [
    {
     "data": {
      "text/plain": [
       "{'PN005', 'PN006', 'PN012', 'PN014', 'PN019', 'PN238', 'PN327'}"
      ]
     },
     "execution_count": 9,
     "metadata": {},
     "output_type": "execute_result"
    }
   ],
   "source": [
    "dfi = [i.replace('-', '').replace('S', 'PD1') for i in df.index]\n",
    "df.index = dfi\n",
    "# res_df.index = [i.replace('S', 'PD1') for i in res_df.index]\n",
    "rdfi = [i.split('_')[0].replace('S', 'PD1') for i in res_df.index]\n",
    "\n",
    "missing_psy = set(rdfi).difference(set(dfi))\n",
    "missing_psy"
   ]
  },
  {
   "cell_type": "code",
   "execution_count": 10,
   "id": "18dac09c",
   "metadata": {},
   "outputs": [],
   "source": [
    "missing_psy = [i for i in res_df.index if i.split('_')[0] in missing_psy]\n",
    "res_df.drop(missing_psy, inplace=True)"
   ]
  },
  {
   "cell_type": "code",
   "execution_count": 11,
   "id": "78c044c9",
   "metadata": {},
   "outputs": [
    {
     "data": {
      "text/plain": [
       "176"
      ]
     },
     "execution_count": 11,
     "metadata": {},
     "output_type": "execute_result"
    }
   ],
   "source": [
    "len(res_df)"
   ]
  },
  {
   "cell_type": "code",
   "execution_count": 12,
   "id": "7f26a3c8",
   "metadata": {},
   "outputs": [],
   "source": [
    "missing_text = set(dfi).difference(set(rdfi))\n",
    "assert not missing_text"
   ]
  },
  {
   "cell_type": "code",
   "execution_count": 13,
   "id": "32f414c5",
   "metadata": {},
   "outputs": [],
   "source": [
    "non_start_timepoint = [i for i in res_df.index if i.split('_')[-1] != '1']\n",
    "res_df.drop(non_start_timepoint, inplace=True)"
   ]
  },
  {
   "cell_type": "code",
   "execution_count": 14,
   "id": "1017d650",
   "metadata": {},
   "outputs": [],
   "source": [
    "# res_df.loc['PD101_1'].dropna()"
   ]
  },
  {
   "cell_type": "code",
   "execution_count": 15,
   "id": "40666718",
   "metadata": {},
   "outputs": [],
   "source": [
    "rdfi_filtered = [i.split('_')[0].replace('S', 'PD1') for i in res_df.index]\n",
    "res_df.index = rdfi_filtered"
   ]
  },
  {
   "cell_type": "markdown",
   "id": "abfe36da",
   "metadata": {},
   "source": [
    "## features of raw texts"
   ]
  },
  {
   "cell_type": "code",
   "execution_count": 16,
   "id": "1df0a615",
   "metadata": {},
   "outputs": [],
   "source": [
    "raw = pd.read_csv(PATH+'rus_transcript_lex_by_task_with_dots.tsv', sep='\\t', index_col=0)"
   ]
  },
  {
   "cell_type": "code",
   "execution_count": 17,
   "id": "823d9218",
   "metadata": {},
   "outputs": [],
   "source": [
    "ids_to_drop = [i for i in raw.index if i.split('_')[0] not in res_df.index]"
   ]
  },
  {
   "cell_type": "code",
   "execution_count": 18,
   "id": "d032a9c0",
   "metadata": {},
   "outputs": [],
   "source": [
    "raw.drop(index=ids_to_drop, inplace=True)"
   ]
  },
  {
   "cell_type": "code",
   "execution_count": 19,
   "id": "d753f43b",
   "metadata": {},
   "outputs": [],
   "source": [
    "raw.index = [i.split('_')[0] for i in raw.index]"
   ]
  },
  {
   "cell_type": "code",
   "execution_count": 20,
   "id": "226cdf41",
   "metadata": {},
   "outputs": [
    {
     "data": {
      "text/plain": [
       "1060"
      ]
     },
     "execution_count": 20,
     "metadata": {},
     "output_type": "execute_result"
    }
   ],
   "source": [
    "raw.isna().sum(axis=0).sum()"
   ]
  },
  {
   "cell_type": "code",
   "execution_count": 21,
   "id": "ded7410c",
   "metadata": {},
   "outputs": [
    {
     "data": {
      "text/plain": [
       "<AxesSubplot: >"
      ]
     },
     "execution_count": 21,
     "metadata": {},
     "output_type": "execute_result"
    },
    {
     "data": {
      "image/png": "[encoded data removed]",
      "text/plain": [
       "<Figure size 432x288 with 1 Axes>"
      ]
     },
     "metadata": {
      "needs_background": "light"
     },
     "output_type": "display_data"
    }
   ],
   "source": [
    "raw.applymap(lambda x: len(x.split('.')) if not pd.isna(x) else np.nan).mean(axis=1).hist()"
   ]
  },
  {
   "cell_type": "markdown",
   "id": "36867f18",
   "metadata": {},
   "source": [
    "## look at tasks"
   ]
  },
  {
   "cell_type": "code",
   "execution_count": 22,
   "id": "aba59bf8",
   "metadata": {},
   "outputs": [],
   "source": [
    "task_available = raw.applymap(lambda x: 1 if not pd.isna(x) else x)"
   ]
  },
  {
   "cell_type": "code",
   "execution_count": 23,
   "id": "a3d5472e",
   "metadata": {},
   "outputs": [
    {
     "data": {
      "text/plain": [
       "176"
      ]
     },
     "execution_count": 23,
     "metadata": {},
     "output_type": "execute_result"
    }
   ],
   "source": [
    "len(task_available)"
   ]
  },
  {
   "cell_type": "code",
   "execution_count": 24,
   "id": "fcd39110",
   "metadata": {},
   "outputs": [],
   "source": [
    "task_available['diagnosis.type'] = df['diagnosis.type']"
   ]
  },
  {
   "cell_type": "code",
   "execution_count": 25,
   "id": "37c8dc8f",
   "metadata": {
    "scrolled": true
   },
   "outputs": [
    {
     "data": {
      "text/plain": [
       "adventure         99\n",
       "bench             28\n",
       "chair             75\n",
       "party             35\n",
       "present           81\n",
       "sportsman         96\n",
       "table             30\n",
       "trip              40\n",
       "winterday         40\n",
       "diagnosis.type    49\n",
       "dtype: int64"
      ]
     },
     "execution_count": 25,
     "metadata": {},
     "output_type": "execute_result"
    }
   ],
   "source": [
    "task_available.count()"
   ]
  },
  {
   "cell_type": "code",
   "execution_count": 26,
   "id": "0b94f7c9",
   "metadata": {
    "scrolled": true
   },
   "outputs": [
    {
     "data": {
      "text/html": [
       "<div>\n",
       "<style scoped>\n",
       "    .dataframe tbody tr th:only-of-type {\n",
       "        vertical-align: middle;\n",
       "    }\n",
       "\n",
       "    .dataframe tbody tr th {\n",
       "        vertical-align: top;\n",
       "    }\n",
       "\n",
       "    .dataframe thead th {\n",
       "        text-align: right;\n",
       "    }\n",
       "</style>\n",
       "<table border=\"1\" class=\"dataframe\">\n",
       "  <thead>\n",
       "    <tr style=\"text-align: right;\">\n",
       "      <th></th>\n",
       "      <th>adventure</th>\n",
       "      <th>bench</th>\n",
       "      <th>chair</th>\n",
       "      <th>party</th>\n",
       "      <th>present</th>\n",
       "      <th>sportsman</th>\n",
       "      <th>table</th>\n",
       "      <th>trip</th>\n",
       "      <th>winterday</th>\n",
       "    </tr>\n",
       "    <tr>\n",
       "      <th>diagnosis.type</th>\n",
       "      <th></th>\n",
       "      <th></th>\n",
       "      <th></th>\n",
       "      <th></th>\n",
       "      <th></th>\n",
       "      <th></th>\n",
       "      <th></th>\n",
       "      <th></th>\n",
       "      <th></th>\n",
       "    </tr>\n",
       "  </thead>\n",
       "  <tbody>\n",
       "    <tr>\n",
       "      <th>dep</th>\n",
       "      <td>14</td>\n",
       "      <td>0</td>\n",
       "      <td>14</td>\n",
       "      <td>0</td>\n",
       "      <td>13</td>\n",
       "      <td>14</td>\n",
       "      <td>0</td>\n",
       "      <td>0</td>\n",
       "      <td>0</td>\n",
       "    </tr>\n",
       "    <tr>\n",
       "      <th>sz</th>\n",
       "      <td>30</td>\n",
       "      <td>0</td>\n",
       "      <td>17</td>\n",
       "      <td>0</td>\n",
       "      <td>21</td>\n",
       "      <td>28</td>\n",
       "      <td>0</td>\n",
       "      <td>1</td>\n",
       "      <td>0</td>\n",
       "    </tr>\n",
       "  </tbody>\n",
       "</table>\n",
       "</div>"
      ],
      "text/plain": [
       "                adventure  bench  chair  party  present  sportsman  table  \\\n",
       "diagnosis.type                                                              \n",
       "dep                    14      0     14      0       13         14      0   \n",
       "sz                     30      0     17      0       21         28      0   \n",
       "\n",
       "                trip  winterday  \n",
       "diagnosis.type                   \n",
       "dep                0          0  \n",
       "sz                 1          0  "
      ]
     },
     "execution_count": 26,
     "metadata": {},
     "output_type": "execute_result"
    }
   ],
   "source": [
    "task_available.groupby('diagnosis.type').count()"
   ]
  },
  {
   "cell_type": "code",
   "execution_count": 27,
   "id": "6cc062ac",
   "metadata": {
    "scrolled": true
   },
   "outputs": [
    {
     "data": {
      "text/html": [
       "<div>\n",
       "<style scoped>\n",
       "    .dataframe tbody tr th:only-of-type {\n",
       "        vertical-align: middle;\n",
       "    }\n",
       "\n",
       "    .dataframe tbody tr th {\n",
       "        vertical-align: top;\n",
       "    }\n",
       "\n",
       "    .dataframe thead th {\n",
       "        text-align: right;\n",
       "    }\n",
       "</style>\n",
       "<table border=\"1\" class=\"dataframe\">\n",
       "  <thead>\n",
       "    <tr style=\"text-align: right;\">\n",
       "      <th></th>\n",
       "      <th>adventure</th>\n",
       "      <th>chair</th>\n",
       "      <th>present</th>\n",
       "      <th>sportsman</th>\n",
       "    </tr>\n",
       "    <tr>\n",
       "      <th>diagnosis.type</th>\n",
       "      <th></th>\n",
       "      <th></th>\n",
       "      <th></th>\n",
       "      <th></th>\n",
       "    </tr>\n",
       "  </thead>\n",
       "  <tbody>\n",
       "    <tr>\n",
       "      <th>dep</th>\n",
       "      <td>14</td>\n",
       "      <td>14</td>\n",
       "      <td>13</td>\n",
       "      <td>14</td>\n",
       "    </tr>\n",
       "    <tr>\n",
       "      <th>sz</th>\n",
       "      <td>30</td>\n",
       "      <td>17</td>\n",
       "      <td>21</td>\n",
       "      <td>28</td>\n",
       "    </tr>\n",
       "  </tbody>\n",
       "</table>\n",
       "</div>"
      ],
      "text/plain": [
       "                adventure  chair  present  sportsman\n",
       "diagnosis.type                                      \n",
       "dep                    14     14       13         14\n",
       "sz                     30     17       21         28"
      ]
     },
     "execution_count": 27,
     "metadata": {},
     "output_type": "execute_result"
    }
   ],
   "source": [
    "task_available.groupby('diagnosis.type').count()[task_available.groupby('diagnosis.type').count() > 0].dropna(axis=1)"
   ]
  },
  {
   "cell_type": "code",
   "execution_count": 28,
   "id": "93e808f3",
   "metadata": {},
   "outputs": [],
   "source": [
    "def drop_person(row):\n",
    "    for task in ('adventure', 'chair','present','sportsman'):\n",
    "        if not pd.isna(row[task]):\n",
    "            return False\n",
    "    return True"
   ]
  },
  {
   "cell_type": "code",
   "execution_count": 29,
   "id": "31cb1cf0",
   "metadata": {},
   "outputs": [],
   "source": [
    "ids_with_at_least_one_task = task_available[~task_available.apply(drop_person, axis=1)].index"
   ]
  },
  {
   "cell_type": "code",
   "execution_count": 30,
   "id": "4e086e5e",
   "metadata": {},
   "outputs": [],
   "source": [
    "df = df.loc[ids_with_at_least_one_task]"
   ]
  },
  {
   "cell_type": "code",
   "execution_count": 31,
   "id": "bd3f0cbd",
   "metadata": {},
   "outputs": [],
   "source": [
    "TASKS = ['adventure', 'chair','present','sportsman']"
   ]
  },
  {
   "cell_type": "code",
   "execution_count": 32,
   "id": "d753de3e",
   "metadata": {},
   "outputs": [],
   "source": [
    "res_df = res_df.loc[ids_with_at_least_one_task, TASKS]"
   ]
  },
  {
   "cell_type": "code",
   "execution_count": 33,
   "id": "52bd12d6",
   "metadata": {
    "scrolled": false
   },
   "outputs": [
    {
     "data": {
      "text/plain": [
       "TASK                               \n",
       "adventure  syntactic  mean_sent_len    7.165963\n",
       "chair      syntactic  mean_sent_len    8.668295\n",
       "present    syntactic  mean_sent_len    9.724067\n",
       "sportsman  syntactic  mean_sent_len    7.770671\n",
       "dtype: float64"
      ]
     },
     "execution_count": 33,
     "metadata": {},
     "output_type": "execute_result"
    }
   ],
   "source": [
    "res_df[[(task, 'syntactic', 'mean_sent_len') for task in TASKS]].mean()"
   ]
  },
  {
   "cell_type": "code",
   "execution_count": 34,
   "id": "e8582de3",
   "metadata": {
    "scrolled": false
   },
   "outputs": [
    {
     "data": {
      "text/plain": [
       "TASK                         \n",
       "adventure  syntactic  n_sents    19.393939\n",
       "chair      syntactic  n_sents    18.506667\n",
       "present    syntactic  n_sents    14.000000\n",
       "sportsman  syntactic  n_sents    17.635417\n",
       "dtype: float64"
      ]
     },
     "execution_count": 34,
     "metadata": {},
     "output_type": "execute_result"
    }
   ],
   "source": [
    "res_df[[(task, 'syntactic', 'n_sents') for task in TASKS]].mean()"
   ]
  },
  {
   "cell_type": "code",
   "execution_count": 35,
   "id": "f9f745f5",
   "metadata": {
    "scrolled": true
   },
   "outputs": [
    {
     "data": {
      "text/plain": [
       "TASK                       \n",
       "adventure  lexical  n_words    137.979798\n",
       "chair      lexical  n_words    159.866667\n",
       "present    lexical  n_words    127.802469\n",
       "sportsman  lexical  n_words    131.322917\n",
       "dtype: float64"
      ]
     },
     "execution_count": 35,
     "metadata": {},
     "output_type": "execute_result"
    }
   ],
   "source": [
    "res_df[[(task, 'lexical', 'n_words') for task in TASKS]].mean()"
   ]
  },
  {
   "cell_type": "code",
   "execution_count": 36,
   "id": "bf0514d4",
   "metadata": {},
   "outputs": [],
   "source": [
    "def task_data(df, task, keep_target=True, fill_synt=True):\n",
    "    subset = df[task].dropna(axis=0, how='all')\n",
    "    if fill_synt:\n",
    "        subset['syntactic'] = subset['syntactic'].fillna(0.0)\n",
    "    if keep_target:\n",
    "        subset = pd.concat([subset, df['target'].loc[subset.index]], axis=1)\n",
    "    return subset"
   ]
  },
  {
   "cell_type": "code",
   "execution_count": 37,
   "id": "833b6f56",
   "metadata": {},
   "outputs": [],
   "source": [
    "def aplly_to_all_tasks(df, f, tasks=TASKS, to_df=True, *args, **kwargs):\n",
    "    res = {}\n",
    "    for task in tasks:\n",
    "        data = task_data(df, task)\n",
    "        res[task] = f(data, *args, **kwargs)\n",
    "    if to_df:\n",
    "        if all(isinstance(v, pd.Series) for v in res.values()):\n",
    "            return pd.DataFrame(res)\n",
    "        elif all(isinstance(v, pd.DataFrame) for v in res.values()):\n",
    "            return pd.concat(list(res.values()), keys=list(res.keys()), names=['task'], axis=1)\n",
    "        else:\n",
    "            return res\n",
    "    return res"
   ]
  },
  {
   "cell_type": "markdown",
   "id": "54cb9d0e",
   "metadata": {},
   "source": [
    "## psychosocial statistics"
   ]
  },
  {
   "cell_type": "code",
   "execution_count": 38,
   "id": "ecfe782b",
   "metadata": {},
   "outputs": [],
   "source": [
    "def fill_diagnosis_type(row):\n",
    "    dt = row['diagnosis.type']\n",
    "    if not pd.isna(dt):\n",
    "        return dt\n",
    "    else:\n",
    "        if not pd.isna(row['td.severity']):\n",
    "            return 'control_psy'\n",
    "        else:\n",
    "            return 'control'"
   ]
  },
  {
   "cell_type": "code",
   "execution_count": 39,
   "id": "98d4ab69",
   "metadata": {},
   "outputs": [],
   "source": [
    "df['diagnosis.type'] = df.apply(fill_diagnosis_type, axis=1)"
   ]
  },
  {
   "cell_type": "code",
   "execution_count": 40,
   "id": "5ff782c1",
   "metadata": {},
   "outputs": [],
   "source": [
    "sz = df[df['diagnosis.type'] == 'sz']\n",
    "dep = df[df['diagnosis.type'] == 'dep']\n",
    "control = df[df['diagnosis.group'] == 'control']\n",
    "control_psy = df[df['diagnosis.type'] == 'control_psy']"
   ]
  },
  {
   "cell_type": "code",
   "execution_count": 41,
   "id": "532c0237",
   "metadata": {
    "scrolled": true
   },
   "outputs": [
    {
     "data": {
      "text/plain": [
       "Index(['age', 'dep.scale', 'dep.severity', 'group.code', 'diagnosis.group',\n",
       "       'diagnosis.type', 'diagnosis_code', 'diagnosis_eng', 'diagnosis_rus',\n",
       "       'education.level.code', 'education.level.eng', 'education.years',\n",
       "       'exacerbation', 'HDRS-17', 'longitudinal', 'panss_td', 'panss_total',\n",
       "       'panss_neg', 'panss_o', 'panss_pos', 'rehospitalization', 'sans',\n",
       "       'saps_ftd', 'sex', 'sops_total', 'sops_c', 'sops_d', 'sops_n', 'sops_p',\n",
       "       'td.scales', 'td.severity'],\n",
       "      dtype='object')"
      ]
     },
     "execution_count": 41,
     "metadata": {},
     "output_type": "execute_result"
    }
   ],
   "source": [
    "df.columns"
   ]
  },
  {
   "cell_type": "code",
   "execution_count": 42,
   "id": "c1031a6c",
   "metadata": {},
   "outputs": [
    {
     "data": {
      "text/plain": [
       "control    102\n",
       "patient     49\n",
       "Name: diagnosis.group, dtype: int64"
      ]
     },
     "execution_count": 42,
     "metadata": {},
     "output_type": "execute_result"
    }
   ],
   "source": [
    "df['diagnosis.group'].value_counts()"
   ]
  },
  {
   "cell_type": "code",
   "execution_count": 43,
   "id": "0aab5a6a",
   "metadata": {},
   "outputs": [
    {
     "data": {
      "text/plain": [
       "control        72\n",
       "sz             31\n",
       "control_psy    30\n",
       "dep            18\n",
       "Name: diagnosis.type, dtype: int64"
      ]
     },
     "execution_count": 43,
     "metadata": {},
     "output_type": "execute_result"
    }
   ],
   "source": [
    "df['diagnosis.type'].value_counts()"
   ]
  },
  {
   "cell_type": "code",
   "execution_count": 44,
   "id": "c02ff63d",
   "metadata": {},
   "outputs": [
    {
     "data": {
      "text/plain": [
       "HDRS    51\n",
       "QIDS    28\n",
       "Name: dep.scale, dtype: int64"
      ]
     },
     "execution_count": 44,
     "metadata": {},
     "output_type": "execute_result"
    }
   ],
   "source": [
    "df['dep.scale'].value_counts()"
   ]
  },
  {
   "cell_type": "code",
   "execution_count": 45,
   "id": "9cf5258e",
   "metadata": {},
   "outputs": [
    {
     "data": {
      "text/plain": [
       "PANSS       28\n",
       "SCL-90-R    28\n",
       "SAPS        21\n",
       "Name: td.scales, dtype: int64"
      ]
     },
     "execution_count": 45,
     "metadata": {},
     "output_type": "execute_result"
    }
   ],
   "source": [
    "df['td.scales'].value_counts()"
   ]
  },
  {
   "cell_type": "code",
   "execution_count": 46,
   "id": "33d93eaf",
   "metadata": {},
   "outputs": [
    {
     "data": {
      "text/plain": [
       "diagnosis.type  diagnosis_code  diagnosis_eng                                    \n",
       "dep             F31             bipolar.affective.disorder                            6\n",
       "                F60.31          borderline.personality.disorder                       3\n",
       "                F31.4           bipolar.affective.disorder.severe                     2\n",
       "                F31.5           bipolar.affective.disorder.severe.psychotic           2\n",
       "                F33             recurrent.depressive.disorder                         2\n",
       "                F32.1           depressive.episode.moderate                           1\n",
       "                F33.3           recurrent.depressive.disorder.severe.psychotic        1\n",
       "                F60             personality.disorder                                  1\n",
       "sz              F20             schizophrenia                                        20\n",
       "                F25             schizoaffective.disorder                              8\n",
       "                F21             schizotypal.disorder                                  2\n",
       "                F21.3           schizotypal.disorder.pseudoneurotic.schizophrenia     1\n",
       "dtype: int64"
      ]
     },
     "execution_count": 46,
     "metadata": {},
     "output_type": "execute_result"
    }
   ],
   "source": [
    "df.groupby('diagnosis.type')[['diagnosis_code', 'diagnosis_eng']].value_counts()"
   ]
  },
  {
   "cell_type": "markdown",
   "id": "a88e36a1",
   "metadata": {},
   "source": [
    "### select target cols"
   ]
  },
  {
   "cell_type": "code",
   "execution_count": 47,
   "id": "4a467038",
   "metadata": {},
   "outputs": [],
   "source": [
    "target_cols = ['sex', 'age', 'education.years', \n",
    "               'diagnosis.group', 'diagnosis.type',\n",
    "               'dep.severity', 'td.severity']"
   ]
  },
  {
   "cell_type": "code",
   "execution_count": 48,
   "id": "d850c8a7",
   "metadata": {},
   "outputs": [],
   "source": [
    "# panss_cols = [col for col in df.columns if col.startswith('panss')]\n",
    "panss_cols = ['panss_td', 'panss_total', 'panss_neg', 'panss_pos', 'panss_o']\n",
    "sans_cols = [col for col in df.columns if col.startswith('sans')]\n",
    "saps_cols = [col for col in df.columns if col.startswith('saps')]\n",
    "sops_cols = [col for col in df.columns if col.startswith('sops')]"
   ]
  },
  {
   "cell_type": "code",
   "execution_count": 49,
   "id": "0dc7f1b6",
   "metadata": {},
   "outputs": [],
   "source": [
    "numeric_target = ['education.years','dep.severity','td.severity'] + panss_cols"
   ]
  },
  {
   "cell_type": "code",
   "execution_count": 50,
   "id": "70e0aeb4",
   "metadata": {},
   "outputs": [],
   "source": [
    "# sz.count()[sz.count() > 0]"
   ]
  },
  {
   "cell_type": "code",
   "execution_count": 51,
   "id": "65f2d5bf",
   "metadata": {},
   "outputs": [],
   "source": [
    "# dep.count()[dep.count() > 0]"
   ]
  },
  {
   "cell_type": "code",
   "execution_count": 52,
   "id": "4c201df4",
   "metadata": {},
   "outputs": [
    {
     "data": {
      "text/plain": [
       "female    25\n",
       "male       6\n",
       "Name: sex, dtype: int64"
      ]
     },
     "execution_count": 52,
     "metadata": {},
     "output_type": "execute_result"
    }
   ],
   "source": [
    "sz['sex'].value_counts()"
   ]
  },
  {
   "cell_type": "code",
   "execution_count": 53,
   "id": "368b92da",
   "metadata": {},
   "outputs": [
    {
     "name": "stderr",
     "output_type": "stream",
     "text": [
      "/Users/galina.ryazanskaya/Downloads/thesis?/code?/jupyter_utils.py:115: FutureWarning: Dropping of nuisance columns in DataFrame reductions (with 'numeric_only=None') is deprecated; in a future version this will raise TypeError.  Select only valid columns before calling the reduction.\n",
      "  s_mean, s_std = data.mean().round(2), data.std().round(2)\n"
     ]
    },
    {
     "data": {
      "text/html": [
       "<div>\n",
       "<style scoped>\n",
       "    .dataframe tbody tr th:only-of-type {\n",
       "        vertical-align: middle;\n",
       "    }\n",
       "\n",
       "    .dataframe tbody tr th {\n",
       "        vertical-align: top;\n",
       "    }\n",
       "\n",
       "    .dataframe thead th {\n",
       "        text-align: right;\n",
       "    }\n",
       "</style>\n",
       "<table border=\"1\" class=\"dataframe\">\n",
       "  <thead>\n",
       "    <tr style=\"text-align: right;\">\n",
       "      <th></th>\n",
       "      <th>age</th>\n",
       "      <th>education.years</th>\n",
       "      <th>dep.severity</th>\n",
       "      <th>td.severity</th>\n",
       "      <th>panss_td</th>\n",
       "      <th>panss_total</th>\n",
       "      <th>panss_neg</th>\n",
       "      <th>panss_pos</th>\n",
       "      <th>panss_o</th>\n",
       "    </tr>\n",
       "  </thead>\n",
       "  <tbody>\n",
       "    <tr>\n",
       "      <th>value</th>\n",
       "      <td>27.13 (7.14)</td>\n",
       "      <td>13.32 (2.41)</td>\n",
       "      <td>0.58 (0.85)</td>\n",
       "      <td>0.84 (0.73)</td>\n",
       "      <td>10.03 (3.74)</td>\n",
       "      <td>69.79 (16.13)</td>\n",
       "      <td>22.93 (8.59)</td>\n",
       "      <td>15.9 (4.92)</td>\n",
       "      <td>30.97 (8.42)</td>\n",
       "    </tr>\n",
       "  </tbody>\n",
       "</table>\n",
       "</div>"
      ],
      "text/plain": [
       "                age education.years dep.severity  td.severity      panss_td  \\\n",
       "value  27.13 (7.14)    13.32 (2.41)  0.58 (0.85)  0.84 (0.73)  10.03 (3.74)   \n",
       "\n",
       "         panss_total     panss_neg    panss_pos       panss_o  \n",
       "value  69.79 (16.13)  22.93 (8.59)  15.9 (4.92)  30.97 (8.42)  "
      ]
     },
     "execution_count": 53,
     "metadata": {},
     "output_type": "execute_result"
    }
   ],
   "source": [
    "mean_std(sz, target_cols + panss_cols)"
   ]
  },
  {
   "cell_type": "code",
   "execution_count": 54,
   "id": "667f07e7",
   "metadata": {},
   "outputs": [
    {
     "data": {
      "text/html": [
       "<div>\n",
       "<style scoped>\n",
       "    .dataframe tbody tr th:only-of-type {\n",
       "        vertical-align: middle;\n",
       "    }\n",
       "\n",
       "    .dataframe tbody tr th {\n",
       "        vertical-align: top;\n",
       "    }\n",
       "\n",
       "    .dataframe thead th {\n",
       "        text-align: right;\n",
       "    }\n",
       "</style>\n",
       "<table border=\"1\" class=\"dataframe\">\n",
       "  <thead>\n",
       "    <tr style=\"text-align: right;\">\n",
       "      <th></th>\n",
       "      <th>age</th>\n",
       "      <th>education.years</th>\n",
       "      <th>dep.severity</th>\n",
       "      <th>td.severity</th>\n",
       "      <th>panss_td</th>\n",
       "      <th>panss_total</th>\n",
       "      <th>panss_neg</th>\n",
       "      <th>panss_pos</th>\n",
       "      <th>panss_o</th>\n",
       "    </tr>\n",
       "    <tr>\n",
       "      <th>sex</th>\n",
       "      <th></th>\n",
       "      <th></th>\n",
       "      <th></th>\n",
       "      <th></th>\n",
       "      <th></th>\n",
       "      <th></th>\n",
       "      <th></th>\n",
       "      <th></th>\n",
       "      <th></th>\n",
       "    </tr>\n",
       "  </thead>\n",
       "  <tbody>\n",
       "    <tr>\n",
       "      <th>female</th>\n",
       "      <td>27.8 (7.53)</td>\n",
       "      <td>13.56 (2.48)</td>\n",
       "      <td>0.72 (0.89)</td>\n",
       "      <td>0.8 (0.76)</td>\n",
       "      <td>9.43 (3.62)</td>\n",
       "      <td>69.13 (15.38)</td>\n",
       "      <td>22.52 (7.79)</td>\n",
       "      <td>15.3 (4.91)</td>\n",
       "      <td>31.3 (9.08)</td>\n",
       "    </tr>\n",
       "    <tr>\n",
       "      <th>male</th>\n",
       "      <td>24.33 (4.72)</td>\n",
       "      <td>12.33 (1.97)</td>\n",
       "      <td>0.0 (0.0)</td>\n",
       "      <td>1.0 (0.63)</td>\n",
       "      <td>12.33 (3.56)</td>\n",
       "      <td>72.33 (20.16)</td>\n",
       "      <td>24.5 (11.93)</td>\n",
       "      <td>18.17 (4.67)</td>\n",
       "      <td>29.67 (5.65)</td>\n",
       "    </tr>\n",
       "  </tbody>\n",
       "</table>\n",
       "</div>"
      ],
      "text/plain": [
       "                 age education.years dep.severity td.severity      panss_td  \\\n",
       "sex                                                                           \n",
       "female   27.8 (7.53)    13.56 (2.48)  0.72 (0.89)  0.8 (0.76)   9.43 (3.62)   \n",
       "male    24.33 (4.72)    12.33 (1.97)    0.0 (0.0)  1.0 (0.63)  12.33 (3.56)   \n",
       "\n",
       "          panss_total     panss_neg     panss_pos       panss_o  \n",
       "sex                                                              \n",
       "female  69.13 (15.38)  22.52 (7.79)   15.3 (4.91)   31.3 (9.08)  \n",
       "male    72.33 (20.16)  24.5 (11.93)  18.17 (4.67)  29.67 (5.65)  "
      ]
     },
     "execution_count": 54,
     "metadata": {},
     "output_type": "execute_result"
    }
   ],
   "source": [
    "mean_std(sz, target_cols + panss_cols, 'sex')"
   ]
  },
  {
   "cell_type": "code",
   "execution_count": 55,
   "id": "841b28c4",
   "metadata": {},
   "outputs": [
    {
     "data": {
      "text/plain": [
       "female    18\n",
       "Name: sex, dtype: int64"
      ]
     },
     "execution_count": 55,
     "metadata": {},
     "output_type": "execute_result"
    }
   ],
   "source": [
    "dep['sex'].value_counts()"
   ]
  },
  {
   "cell_type": "code",
   "execution_count": 56,
   "id": "17782ed7",
   "metadata": {},
   "outputs": [
    {
     "name": "stderr",
     "output_type": "stream",
     "text": [
      "/Users/galina.ryazanskaya/Downloads/thesis?/code?/jupyter_utils.py:115: FutureWarning: Dropping of nuisance columns in DataFrame reductions (with 'numeric_only=None') is deprecated; in a future version this will raise TypeError.  Select only valid columns before calling the reduction.\n",
      "  s_mean, s_std = data.mean().round(2), data.std().round(2)\n"
     ]
    },
    {
     "data": {
      "text/html": [
       "<div>\n",
       "<style scoped>\n",
       "    .dataframe tbody tr th:only-of-type {\n",
       "        vertical-align: middle;\n",
       "    }\n",
       "\n",
       "    .dataframe tbody tr th {\n",
       "        vertical-align: top;\n",
       "    }\n",
       "\n",
       "    .dataframe thead th {\n",
       "        text-align: right;\n",
       "    }\n",
       "</style>\n",
       "<table border=\"1\" class=\"dataframe\">\n",
       "  <thead>\n",
       "    <tr style=\"text-align: right;\">\n",
       "      <th></th>\n",
       "      <th>age</th>\n",
       "      <th>education.years</th>\n",
       "      <th>dep.severity</th>\n",
       "      <th>td.severity</th>\n",
       "      <th>panss_td</th>\n",
       "      <th>panss_total</th>\n",
       "      <th>panss_neg</th>\n",
       "      <th>panss_pos</th>\n",
       "      <th>panss_o</th>\n",
       "    </tr>\n",
       "  </thead>\n",
       "  <tbody>\n",
       "    <tr>\n",
       "      <th>value</th>\n",
       "      <td>20.89 (3.71)</td>\n",
       "      <td>12.67 (1.94)</td>\n",
       "      <td>0.56 (0.62)</td>\n",
       "      <td>0.06 (0.24)</td>\n",
       "      <td>4.42 (0.9)</td>\n",
       "      <td>37.92 (5.89)</td>\n",
       "      <td>8.31 (1.97)</td>\n",
       "      <td>8.46 (1.94)</td>\n",
       "      <td>21.15 (3.58)</td>\n",
       "    </tr>\n",
       "  </tbody>\n",
       "</table>\n",
       "</div>"
      ],
      "text/plain": [
       "                age education.years dep.severity  td.severity    panss_td  \\\n",
       "value  20.89 (3.71)    12.67 (1.94)  0.56 (0.62)  0.06 (0.24)  4.42 (0.9)   \n",
       "\n",
       "        panss_total    panss_neg    panss_pos       panss_o  \n",
       "value  37.92 (5.89)  8.31 (1.97)  8.46 (1.94)  21.15 (3.58)  "
      ]
     },
     "execution_count": 56,
     "metadata": {},
     "output_type": "execute_result"
    }
   ],
   "source": [
    "mean_std(dep, target_cols + panss_cols)"
   ]
  },
  {
   "cell_type": "code",
   "execution_count": 57,
   "id": "9d6367ca",
   "metadata": {},
   "outputs": [
    {
     "data": {
      "text/plain": [
       "13"
      ]
     },
     "execution_count": 57,
     "metadata": {},
     "output_type": "execute_result"
    }
   ],
   "source": [
    "dep['panss_o'].count()"
   ]
  },
  {
   "cell_type": "code",
   "execution_count": 58,
   "id": "ee7f3145",
   "metadata": {},
   "outputs": [
    {
     "data": {
      "text/plain": [
       "female    75\n",
       "male      27\n",
       "Name: sex, dtype: int64"
      ]
     },
     "execution_count": 58,
     "metadata": {},
     "output_type": "execute_result"
    }
   ],
   "source": [
    "control['sex'].value_counts()"
   ]
  },
  {
   "cell_type": "code",
   "execution_count": 59,
   "id": "06c46d99",
   "metadata": {},
   "outputs": [
    {
     "name": "stderr",
     "output_type": "stream",
     "text": [
      "/Users/galina.ryazanskaya/Downloads/thesis?/code?/jupyter_utils.py:115: FutureWarning: Dropping of nuisance columns in DataFrame reductions (with 'numeric_only=None') is deprecated; in a future version this will raise TypeError.  Select only valid columns before calling the reduction.\n",
      "  s_mean, s_std = data.mean().round(2), data.std().round(2)\n"
     ]
    },
    {
     "data": {
      "text/html": [
       "<div>\n",
       "<style scoped>\n",
       "    .dataframe tbody tr th:only-of-type {\n",
       "        vertical-align: middle;\n",
       "    }\n",
       "\n",
       "    .dataframe tbody tr th {\n",
       "        vertical-align: top;\n",
       "    }\n",
       "\n",
       "    .dataframe thead th {\n",
       "        text-align: right;\n",
       "    }\n",
       "</style>\n",
       "<table border=\"1\" class=\"dataframe\">\n",
       "  <thead>\n",
       "    <tr style=\"text-align: right;\">\n",
       "      <th></th>\n",
       "      <th>age</th>\n",
       "      <th>education.years</th>\n",
       "      <th>dep.severity</th>\n",
       "      <th>td.severity</th>\n",
       "    </tr>\n",
       "  </thead>\n",
       "  <tbody>\n",
       "    <tr>\n",
       "      <th>value</th>\n",
       "      <td>39.75 (19.15)</td>\n",
       "      <td>15.74 (2.57)</td>\n",
       "      <td>0.0 (0.0)</td>\n",
       "      <td>0.0 (0.0)</td>\n",
       "    </tr>\n",
       "  </tbody>\n",
       "</table>\n",
       "</div>"
      ],
      "text/plain": [
       "                 age education.years dep.severity td.severity\n",
       "value  39.75 (19.15)    15.74 (2.57)    0.0 (0.0)   0.0 (0.0)"
      ]
     },
     "execution_count": 59,
     "metadata": {},
     "output_type": "execute_result"
    }
   ],
   "source": [
    "mean_std(control, target_cols)"
   ]
  },
  {
   "cell_type": "code",
   "execution_count": 60,
   "id": "434a7479",
   "metadata": {},
   "outputs": [
    {
     "data": {
      "text/html": [
       "<div>\n",
       "<style scoped>\n",
       "    .dataframe tbody tr th:only-of-type {\n",
       "        vertical-align: middle;\n",
       "    }\n",
       "\n",
       "    .dataframe tbody tr th {\n",
       "        vertical-align: top;\n",
       "    }\n",
       "\n",
       "    .dataframe thead th {\n",
       "        text-align: right;\n",
       "    }\n",
       "</style>\n",
       "<table border=\"1\" class=\"dataframe\">\n",
       "  <thead>\n",
       "    <tr style=\"text-align: right;\">\n",
       "      <th></th>\n",
       "      <th>age</th>\n",
       "      <th>education.years</th>\n",
       "      <th>dep.severity</th>\n",
       "      <th>td.severity</th>\n",
       "    </tr>\n",
       "    <tr>\n",
       "      <th>sex</th>\n",
       "      <th></th>\n",
       "      <th></th>\n",
       "      <th></th>\n",
       "      <th></th>\n",
       "    </tr>\n",
       "  </thead>\n",
       "  <tbody>\n",
       "    <tr>\n",
       "      <th>female</th>\n",
       "      <td>38.25 (18.85)</td>\n",
       "      <td>15.39 (2.39)</td>\n",
       "      <td>0.0 (0.0)</td>\n",
       "      <td>0.0 (0.0)</td>\n",
       "    </tr>\n",
       "    <tr>\n",
       "      <th>male</th>\n",
       "      <td>43.93 (19.73)</td>\n",
       "      <td>16.7 (2.83)</td>\n",
       "      <td>0.0 (0.0)</td>\n",
       "      <td>0.0 (0.0)</td>\n",
       "    </tr>\n",
       "  </tbody>\n",
       "</table>\n",
       "</div>"
      ],
      "text/plain": [
       "                  age education.years dep.severity td.severity\n",
       "sex                                                           \n",
       "female  38.25 (18.85)    15.39 (2.39)    0.0 (0.0)   0.0 (0.0)\n",
       "male    43.93 (19.73)     16.7 (2.83)    0.0 (0.0)   0.0 (0.0)"
      ]
     },
     "execution_count": 60,
     "metadata": {},
     "output_type": "execute_result"
    }
   ],
   "source": [
    "mean_std(control, target_cols, 'sex')"
   ]
  },
  {
   "cell_type": "code",
   "execution_count": 61,
   "id": "25f5e2a0",
   "metadata": {},
   "outputs": [
    {
     "data": {
      "text/plain": [
       "female    26\n",
       "male       4\n",
       "Name: sex, dtype: int64"
      ]
     },
     "execution_count": 61,
     "metadata": {},
     "output_type": "execute_result"
    }
   ],
   "source": [
    "control_psy['sex'].value_counts()"
   ]
  },
  {
   "cell_type": "code",
   "execution_count": 62,
   "id": "9b3a6b4e",
   "metadata": {},
   "outputs": [
    {
     "name": "stderr",
     "output_type": "stream",
     "text": [
      "/Users/galina.ryazanskaya/Downloads/thesis?/code?/jupyter_utils.py:115: FutureWarning: Dropping of nuisance columns in DataFrame reductions (with 'numeric_only=None') is deprecated; in a future version this will raise TypeError.  Select only valid columns before calling the reduction.\n",
      "  s_mean, s_std = data.mean().round(2), data.std().round(2)\n"
     ]
    },
    {
     "data": {
      "text/html": [
       "<div>\n",
       "<style scoped>\n",
       "    .dataframe tbody tr th:only-of-type {\n",
       "        vertical-align: middle;\n",
       "    }\n",
       "\n",
       "    .dataframe tbody tr th {\n",
       "        vertical-align: top;\n",
       "    }\n",
       "\n",
       "    .dataframe thead th {\n",
       "        text-align: right;\n",
       "    }\n",
       "</style>\n",
       "<table border=\"1\" class=\"dataframe\">\n",
       "  <thead>\n",
       "    <tr style=\"text-align: right;\">\n",
       "      <th></th>\n",
       "      <th>age</th>\n",
       "      <th>education.years</th>\n",
       "      <th>dep.severity</th>\n",
       "      <th>td.severity</th>\n",
       "      <th>panss_td</th>\n",
       "      <th>panss_total</th>\n",
       "      <th>panss_neg</th>\n",
       "      <th>panss_pos</th>\n",
       "      <th>panss_o</th>\n",
       "    </tr>\n",
       "  </thead>\n",
       "  <tbody>\n",
       "    <tr>\n",
       "      <th>value</th>\n",
       "      <td>25.0 (7.4)</td>\n",
       "      <td>15.43 (2.13)</td>\n",
       "      <td>0.0 (0.0)</td>\n",
       "      <td>0.0 (0.0)</td>\n",
       "      <td>4.36 (1.0)</td>\n",
       "      <td>30.77 (1.54)</td>\n",
       "      <td>7.23 (0.53)</td>\n",
       "      <td>7.23 (0.61)</td>\n",
       "      <td>16.32 (0.95)</td>\n",
       "    </tr>\n",
       "  </tbody>\n",
       "</table>\n",
       "</div>"
      ],
      "text/plain": [
       "              age education.years dep.severity td.severity    panss_td  \\\n",
       "value  25.0 (7.4)    15.43 (2.13)    0.0 (0.0)   0.0 (0.0)  4.36 (1.0)   \n",
       "\n",
       "        panss_total    panss_neg    panss_pos       panss_o  \n",
       "value  30.77 (1.54)  7.23 (0.53)  7.23 (0.61)  16.32 (0.95)  "
      ]
     },
     "execution_count": 62,
     "metadata": {},
     "output_type": "execute_result"
    }
   ],
   "source": [
    "mean_std(control_psy, target_cols + panss_cols)"
   ]
  },
  {
   "cell_type": "code",
   "execution_count": 63,
   "id": "9224b336",
   "metadata": {},
   "outputs": [
    {
     "data": {
      "text/html": [
       "<div>\n",
       "<style scoped>\n",
       "    .dataframe tbody tr th:only-of-type {\n",
       "        vertical-align: middle;\n",
       "    }\n",
       "\n",
       "    .dataframe tbody tr th {\n",
       "        vertical-align: top;\n",
       "    }\n",
       "\n",
       "    .dataframe thead th {\n",
       "        text-align: right;\n",
       "    }\n",
       "</style>\n",
       "<table border=\"1\" class=\"dataframe\">\n",
       "  <thead>\n",
       "    <tr style=\"text-align: right;\">\n",
       "      <th></th>\n",
       "      <th>age</th>\n",
       "      <th>education.years</th>\n",
       "      <th>dep.severity</th>\n",
       "      <th>td.severity</th>\n",
       "      <th>panss_td</th>\n",
       "      <th>panss_total</th>\n",
       "      <th>panss_neg</th>\n",
       "      <th>panss_pos</th>\n",
       "      <th>panss_o</th>\n",
       "    </tr>\n",
       "    <tr>\n",
       "      <th>sex</th>\n",
       "      <th></th>\n",
       "      <th></th>\n",
       "      <th></th>\n",
       "      <th></th>\n",
       "      <th></th>\n",
       "      <th></th>\n",
       "      <th></th>\n",
       "      <th></th>\n",
       "      <th></th>\n",
       "    </tr>\n",
       "  </thead>\n",
       "  <tbody>\n",
       "    <tr>\n",
       "      <th>female</th>\n",
       "      <td>25.42 (7.8)</td>\n",
       "      <td>15.42 (1.7)</td>\n",
       "      <td>0.0 (0.0)</td>\n",
       "      <td>0.0 (0.0)</td>\n",
       "      <td>4.4 (1.05)</td>\n",
       "      <td>30.85 (1.6)</td>\n",
       "      <td>7.25 (0.55)</td>\n",
       "      <td>7.25 (0.64)</td>\n",
       "      <td>16.35 (0.99)</td>\n",
       "    </tr>\n",
       "    <tr>\n",
       "      <th>male</th>\n",
       "      <td>22.25 (3.3)</td>\n",
       "      <td>15.5 (4.43)</td>\n",
       "      <td>0.0 (0.0)</td>\n",
       "      <td>0.0 (0.0)</td>\n",
       "      <td>4.0 (0.0)</td>\n",
       "      <td>30.0 (0.0)</td>\n",
       "      <td>7.0 (0.0)</td>\n",
       "      <td>7.0 (0.0)</td>\n",
       "      <td>16.0 (0.0)</td>\n",
       "    </tr>\n",
       "  </tbody>\n",
       "</table>\n",
       "</div>"
      ],
      "text/plain": [
       "                age education.years dep.severity td.severity    panss_td  \\\n",
       "sex                                                                        \n",
       "female  25.42 (7.8)     15.42 (1.7)    0.0 (0.0)   0.0 (0.0)  4.4 (1.05)   \n",
       "male    22.25 (3.3)     15.5 (4.43)    0.0 (0.0)   0.0 (0.0)   4.0 (0.0)   \n",
       "\n",
       "        panss_total    panss_neg    panss_pos       panss_o  \n",
       "sex                                                          \n",
       "female  30.85 (1.6)  7.25 (0.55)  7.25 (0.64)  16.35 (0.99)  \n",
       "male     30.0 (0.0)    7.0 (0.0)    7.0 (0.0)    16.0 (0.0)  "
      ]
     },
     "execution_count": 63,
     "metadata": {},
     "output_type": "execute_result"
    }
   ],
   "source": [
    "mean_std(control_psy, target_cols + panss_cols, 'sex')"
   ]
  },
  {
   "cell_type": "code",
   "execution_count": 64,
   "id": "55dceae7",
   "metadata": {},
   "outputs": [
    {
     "data": {
      "text/plain": [
       "sex\n",
       "female    20\n",
       "male       2\n",
       "Name: panss_total, dtype: int64"
      ]
     },
     "execution_count": 64,
     "metadata": {},
     "output_type": "execute_result"
    }
   ],
   "source": [
    "control.groupby('sex')['panss_total'].count()"
   ]
  },
  {
   "cell_type": "code",
   "execution_count": 65,
   "id": "785d3a9c",
   "metadata": {},
   "outputs": [],
   "source": [
    "# control_psy.count()[control_psy.count() > 0]"
   ]
  },
  {
   "cell_type": "code",
   "execution_count": 66,
   "id": "be09b10f",
   "metadata": {},
   "outputs": [],
   "source": [
    "# df.dropna(axis=0, thresh=30).iloc[0]"
   ]
  },
  {
   "cell_type": "markdown",
   "id": "65dd3253",
   "metadata": {},
   "source": [
    "### test for differences"
   ]
  },
  {
   "cell_type": "markdown",
   "id": "a0cd64af",
   "metadata": {},
   "source": [
    "age"
   ]
  },
  {
   "cell_type": "code",
   "execution_count": 67,
   "id": "6f4597e6",
   "metadata": {},
   "outputs": [
    {
     "data": {
      "text/plain": [
       "Ttest_indResult(statistic=3.5871243575285408, pvalue=0.00047085918746073396)"
      ]
     },
     "execution_count": 67,
     "metadata": {},
     "output_type": "execute_result"
    }
   ],
   "source": [
    "stats.ttest_ind(control['age'], sz['age'], nan_policy='omit')"
   ]
  },
  {
   "cell_type": "code",
   "execution_count": 68,
   "id": "727c9307",
   "metadata": {},
   "outputs": [
    {
     "data": {
      "text/plain": [
       "Ttest_indResult(statistic=-1.143255849283786, pvalue=0.2575501479174914)"
      ]
     },
     "execution_count": 68,
     "metadata": {},
     "output_type": "execute_result"
    }
   ],
   "source": [
    "stats.ttest_ind(control_psy['age'], sz['age'], nan_policy='omit')"
   ]
  },
  {
   "cell_type": "code",
   "execution_count": 69,
   "id": "04a0183b",
   "metadata": {},
   "outputs": [
    {
     "data": {
      "text/plain": [
       "Ttest_indResult(statistic=2.1899209175114764, pvalue=0.033638603323606325)"
      ]
     },
     "execution_count": 69,
     "metadata": {},
     "output_type": "execute_result"
    }
   ],
   "source": [
    "stats.ttest_ind(control_psy['age'], dep['age'], nan_policy='omit')"
   ]
  },
  {
   "cell_type": "markdown",
   "id": "0acea8a2",
   "metadata": {},
   "source": [
    "eduaction years"
   ]
  },
  {
   "cell_type": "code",
   "execution_count": 70,
   "id": "e41904c4",
   "metadata": {},
   "outputs": [
    {
     "data": {
      "text/plain": [
       "Ttest_indResult(statistic=4.653034980872723, pvalue=7.949204742694471e-06)"
      ]
     },
     "execution_count": 70,
     "metadata": {},
     "output_type": "execute_result"
    }
   ],
   "source": [
    "stats.ttest_ind(control['education.years'], sz['education.years'], nan_policy='omit')"
   ]
  },
  {
   "cell_type": "code",
   "execution_count": 71,
   "id": "85f62ed8",
   "metadata": {},
   "outputs": [
    {
     "data": {
      "text/plain": [
       "Ttest_indResult(statistic=3.618089157043871, pvalue=0.0006167702505040491)"
      ]
     },
     "execution_count": 71,
     "metadata": {},
     "output_type": "execute_result"
    }
   ],
   "source": [
    "stats.ttest_ind(control_psy['education.years'], sz['education.years'], nan_policy='omit')"
   ]
  },
  {
   "cell_type": "code",
   "execution_count": 72,
   "id": "2a017b6c",
   "metadata": {},
   "outputs": [
    {
     "data": {
      "text/plain": [
       "Ttest_indResult(statistic=4.502842757884748, pvalue=4.561269295083997e-05)"
      ]
     },
     "execution_count": 72,
     "metadata": {},
     "output_type": "execute_result"
    }
   ],
   "source": [
    "stats.ttest_ind(control_psy['education.years'], dep['education.years'], nan_policy='omit')"
   ]
  },
  {
   "cell_type": "markdown",
   "id": "ed14e784",
   "metadata": {},
   "source": [
    "sex"
   ]
  },
  {
   "cell_type": "code",
   "execution_count": 73,
   "id": "c4e91a4b",
   "metadata": {},
   "outputs": [],
   "source": [
    "a = 0.05"
   ]
  },
  {
   "cell_type": "code",
   "execution_count": 74,
   "id": "bb480326",
   "metadata": {},
   "outputs": [
    {
     "data": {
      "text/html": [
       "<style type=\"text/css\">\n",
       "#T_1652d_row0_col0, #T_1652d_row0_col3, #T_1652d_row7_col1 {\n",
       "  background-color: #08306b;\n",
       "  color: #f1f1f1;\n",
       "}\n",
       "#T_1652d_row0_col1, #T_1652d_row4_col0, #T_1652d_row7_col3 {\n",
       "  background-color: #f7fbff;\n",
       "  color: #000000;\n",
       "}\n",
       "#T_1652d_row1_col0, #T_1652d_row1_col1, #T_1652d_row1_col3, #T_1652d_row2_col0, #T_1652d_row2_col1, #T_1652d_row2_col3 {\n",
       "  background-color: #000000;\n",
       "  color: #f1f1f1;\n",
       "  color: white;\n",
       "  background-color: white;\n",
       "}\n",
       "#T_1652d_row3_col0 {\n",
       "  background-color: #eaf2fb;\n",
       "  color: #000000;\n",
       "}\n",
       "#T_1652d_row3_col1 {\n",
       "  background-color: #083b7c;\n",
       "  color: #f1f1f1;\n",
       "}\n",
       "#T_1652d_row3_col3 {\n",
       "  background-color: #f3f8fe;\n",
       "  color: #000000;\n",
       "}\n",
       "#T_1652d_row4_col1 {\n",
       "  background-color: #2474b7;\n",
       "  color: #f1f1f1;\n",
       "}\n",
       "#T_1652d_row4_col3 {\n",
       "  background-color: #dceaf6;\n",
       "  color: #000000;\n",
       "}\n",
       "#T_1652d_row5_col0 {\n",
       "  background-color: #f1f7fd;\n",
       "  color: #000000;\n",
       "}\n",
       "#T_1652d_row5_col1 {\n",
       "  background-color: #0e58a2;\n",
       "  color: #f1f1f1;\n",
       "}\n",
       "#T_1652d_row5_col3 {\n",
       "  background-color: #e8f1fa;\n",
       "  color: #000000;\n",
       "}\n",
       "#T_1652d_row6_col0 {\n",
       "  background-color: #eaf3fb;\n",
       "  color: #000000;\n",
       "}\n",
       "#T_1652d_row6_col1 {\n",
       "  background-color: #083e81;\n",
       "  color: #f1f1f1;\n",
       "}\n",
       "#T_1652d_row6_col3 {\n",
       "  background-color: #f2f7fd;\n",
       "  color: #000000;\n",
       "}\n",
       "#T_1652d_row7_col0 {\n",
       "  background-color: #e7f1fa;\n",
       "  color: #000000;\n",
       "}\n",
       "</style>\n",
       "<table id=\"T_1652d\">\n",
       "  <thead>\n",
       "    <tr>\n",
       "      <th class=\"blank level0\" >&nbsp;</th>\n",
       "      <th id=\"T_1652d_level0_col0\" class=\"col_heading level0 col0\" >t</th>\n",
       "      <th id=\"T_1652d_level0_col1\" class=\"col_heading level0 col1\" >p</th>\n",
       "      <th id=\"T_1652d_level0_col2\" class=\"col_heading level0 col2\" >sig</th>\n",
       "      <th id=\"T_1652d_level0_col3\" class=\"col_heading level0 col3\" >abs_t</th>\n",
       "    </tr>\n",
       "  </thead>\n",
       "  <tbody>\n",
       "    <tr>\n",
       "      <th id=\"T_1652d_level0_row0\" class=\"row_heading level0 row0\" >education.years</th>\n",
       "      <td id=\"T_1652d_row0_col0\" class=\"data row0 col0\" >2.321636</td>\n",
       "      <td id=\"T_1652d_row0_col1\" class=\"data row0 col1\" >0.022302</td>\n",
       "      <td id=\"T_1652d_row0_col2\" class=\"data row0 col2\" >True</td>\n",
       "      <td id=\"T_1652d_row0_col3\" class=\"data row0 col3\" >2.321636</td>\n",
       "    </tr>\n",
       "    <tr>\n",
       "      <th id=\"T_1652d_level0_row1\" class=\"row_heading level0 row1\" >dep.severity</th>\n",
       "      <td id=\"T_1652d_row1_col0\" class=\"data row1 col0\" >nan</td>\n",
       "      <td id=\"T_1652d_row1_col1\" class=\"data row1 col1\" >nan</td>\n",
       "      <td id=\"T_1652d_row1_col2\" class=\"data row1 col2\" >False</td>\n",
       "      <td id=\"T_1652d_row1_col3\" class=\"data row1 col3\" >nan</td>\n",
       "    </tr>\n",
       "    <tr>\n",
       "      <th id=\"T_1652d_level0_row2\" class=\"row_heading level0 row2\" >td.severity</th>\n",
       "      <td id=\"T_1652d_row2_col0\" class=\"data row2 col0\" >nan</td>\n",
       "      <td id=\"T_1652d_row2_col1\" class=\"data row2 col1\" >nan</td>\n",
       "      <td id=\"T_1652d_row2_col2\" class=\"data row2 col2\" >False</td>\n",
       "      <td id=\"T_1652d_row2_col3\" class=\"data row2 col3\" >nan</td>\n",
       "    </tr>\n",
       "    <tr>\n",
       "      <th id=\"T_1652d_level0_row3\" class=\"row_heading level0 row3\" >panss_td</th>\n",
       "      <td id=\"T_1652d_row3_col0\" class=\"data row3 col0\" >-0.528886</td>\n",
       "      <td id=\"T_1652d_row3_col1\" class=\"data row3 col1\" >0.602706</td>\n",
       "      <td id=\"T_1652d_row3_col2\" class=\"data row3 col2\" >False</td>\n",
       "      <td id=\"T_1652d_row3_col3\" class=\"data row3 col3\" >0.528886</td>\n",
       "    </tr>\n",
       "    <tr>\n",
       "      <th id=\"T_1652d_level0_row4\" class=\"row_heading level0 row4\" >panss_total</th>\n",
       "      <td id=\"T_1652d_row4_col0\" class=\"data row4 col0\" >-0.735628</td>\n",
       "      <td id=\"T_1652d_row4_col1\" class=\"data row4 col1\" >0.470497</td>\n",
       "      <td id=\"T_1652d_row4_col2\" class=\"data row4 col2\" >False</td>\n",
       "      <td id=\"T_1652d_row4_col3\" class=\"data row4 col3\" >0.735628</td>\n",
       "    </tr>\n",
       "    <tr>\n",
       "      <th id=\"T_1652d_level0_row5\" class=\"row_heading level0 row5\" >panss_neg</th>\n",
       "      <td id=\"T_1652d_row5_col0\" class=\"data row5 col0\" >-0.628695</td>\n",
       "      <td id=\"T_1652d_row5_col1\" class=\"data row5 col1\" >0.536664</td>\n",
       "      <td id=\"T_1652d_row5_col2\" class=\"data row5 col2\" >False</td>\n",
       "      <td id=\"T_1652d_row5_col3\" class=\"data row5 col3\" >0.628695</td>\n",
       "    </tr>\n",
       "    <tr>\n",
       "      <th id=\"T_1652d_level0_row6\" class=\"row_heading level0 row6\" >panss_pos</th>\n",
       "      <td id=\"T_1652d_row6_col0\" class=\"data row6 col0\" >-0.541530</td>\n",
       "      <td id=\"T_1652d_row6_col1\" class=\"data row6 col1\" >0.594124</td>\n",
       "      <td id=\"T_1652d_row6_col2\" class=\"data row6 col2\" >False</td>\n",
       "      <td id=\"T_1652d_row6_col3\" class=\"data row6 col3\" >0.541530</td>\n",
       "    </tr>\n",
       "    <tr>\n",
       "      <th id=\"T_1652d_level0_row7\" class=\"row_heading level0 row7\" >panss_o</th>\n",
       "      <td id=\"T_1652d_row7_col0\" class=\"data row7 col0\" >-0.490038</td>\n",
       "      <td id=\"T_1652d_row7_col1\" class=\"data row7 col1\" >0.629439</td>\n",
       "      <td id=\"T_1652d_row7_col2\" class=\"data row7 col2\" >False</td>\n",
       "      <td id=\"T_1652d_row7_col3\" class=\"data row7 col3\" >0.490038</td>\n",
       "    </tr>\n",
       "  </tbody>\n",
       "</table>\n"
      ],
      "text/plain": [
       "<pandas.io.formats.style.Styler at 0x7f9aad825f70>"
      ]
     },
     "execution_count": 74,
     "metadata": {},
     "output_type": "execute_result"
    }
   ],
   "source": [
    "s_t_sex, res_t_sex = display_group_test(control, numeric_target, 'sex', stats.ttest_ind, stat_name='t', alpha=a)\n",
    "style(res_t_sex)"
   ]
  },
  {
   "cell_type": "code",
   "execution_count": 75,
   "id": "927c9b7a",
   "metadata": {},
   "outputs": [
    {
     "data": {
      "text/html": [
       "<style type=\"text/css\">\n",
       "#T_29b25_row0_col0, #T_29b25_row0_col1, #T_29b25_row4_col3 {\n",
       "  background-color: #08306b;\n",
       "  color: #f1f1f1;\n",
       "}\n",
       "#T_29b25_row0_col3, #T_29b25_row4_col0, #T_29b25_row4_col1 {\n",
       "  background-color: #f7fbff;\n",
       "  color: #000000;\n",
       "}\n",
       "#T_29b25_row1_col0, #T_29b25_row1_col1, #T_29b25_row1_col3, #T_29b25_row2_col0, #T_29b25_row2_col1, #T_29b25_row2_col3 {\n",
       "  background-color: #000000;\n",
       "  color: #f1f1f1;\n",
       "  color: white;\n",
       "  background-color: white;\n",
       "}\n",
       "#T_29b25_row3_col0, #T_29b25_row6_col1 {\n",
       "  background-color: #c3daee;\n",
       "  color: #000000;\n",
       "}\n",
       "#T_29b25_row3_col1 {\n",
       "  background-color: #bed8ec;\n",
       "  color: #000000;\n",
       "}\n",
       "#T_29b25_row3_col3 {\n",
       "  background-color: #3181bd;\n",
       "  color: #f1f1f1;\n",
       "}\n",
       "#T_29b25_row5_col0 {\n",
       "  background-color: #dceaf6;\n",
       "  color: #000000;\n",
       "}\n",
       "#T_29b25_row5_col1 {\n",
       "  background-color: #dce9f6;\n",
       "  color: #000000;\n",
       "}\n",
       "#T_29b25_row5_col3 {\n",
       "  background-color: #0e59a2;\n",
       "  color: #f1f1f1;\n",
       "}\n",
       "#T_29b25_row6_col0 {\n",
       "  background-color: #c8dcf0;\n",
       "  color: #000000;\n",
       "}\n",
       "#T_29b25_row6_col3 {\n",
       "  background-color: #2c7cba;\n",
       "  color: #f1f1f1;\n",
       "}\n",
       "#T_29b25_row7_col0 {\n",
       "  background-color: #b4d3e9;\n",
       "  color: #000000;\n",
       "}\n",
       "#T_29b25_row7_col1 {\n",
       "  background-color: #abd0e6;\n",
       "  color: #000000;\n",
       "}\n",
       "#T_29b25_row7_col3 {\n",
       "  background-color: #3f8fc5;\n",
       "  color: #f1f1f1;\n",
       "}\n",
       "</style>\n",
       "<table id=\"T_29b25\">\n",
       "  <thead>\n",
       "    <tr>\n",
       "      <th class=\"blank level0\" >&nbsp;</th>\n",
       "      <th id=\"T_29b25_level0_col0\" class=\"col_heading level0 col0\" >t</th>\n",
       "      <th id=\"T_29b25_level0_col1\" class=\"col_heading level0 col1\" >p</th>\n",
       "      <th id=\"T_29b25_level0_col2\" class=\"col_heading level0 col2\" >sig</th>\n",
       "      <th id=\"T_29b25_level0_col3\" class=\"col_heading level0 col3\" >abs_t</th>\n",
       "    </tr>\n",
       "  </thead>\n",
       "  <tbody>\n",
       "    <tr>\n",
       "      <th id=\"T_29b25_level0_row0\" class=\"row_heading level0 row0\" >education.years</th>\n",
       "      <td id=\"T_29b25_row0_col0\" class=\"data row0 col0\" >0.066128</td>\n",
       "      <td id=\"T_29b25_row0_col1\" class=\"data row0 col1\" >0.947746</td>\n",
       "      <td id=\"T_29b25_row0_col2\" class=\"data row0 col2\" >False</td>\n",
       "      <td id=\"T_29b25_row0_col3\" class=\"data row0 col3\" >0.066128</td>\n",
       "    </tr>\n",
       "    <tr>\n",
       "      <th id=\"T_29b25_level0_row1\" class=\"row_heading level0 row1\" >dep.severity</th>\n",
       "      <td id=\"T_29b25_row1_col0\" class=\"data row1 col0\" >nan</td>\n",
       "      <td id=\"T_29b25_row1_col1\" class=\"data row1 col1\" >nan</td>\n",
       "      <td id=\"T_29b25_row1_col2\" class=\"data row1 col2\" >False</td>\n",
       "      <td id=\"T_29b25_row1_col3\" class=\"data row1 col3\" >nan</td>\n",
       "    </tr>\n",
       "    <tr>\n",
       "      <th id=\"T_29b25_level0_row2\" class=\"row_heading level0 row2\" >td.severity</th>\n",
       "      <td id=\"T_29b25_row2_col0\" class=\"data row2 col0\" >nan</td>\n",
       "      <td id=\"T_29b25_row2_col1\" class=\"data row2 col1\" >nan</td>\n",
       "      <td id=\"T_29b25_row2_col2\" class=\"data row2 col2\" >False</td>\n",
       "      <td id=\"T_29b25_row2_col3\" class=\"data row2 col3\" >nan</td>\n",
       "    </tr>\n",
       "    <tr>\n",
       "      <th id=\"T_29b25_level0_row3\" class=\"row_heading level0 row3\" >panss_td</th>\n",
       "      <td id=\"T_29b25_row3_col0\" class=\"data row3 col0\" >-0.528886</td>\n",
       "      <td id=\"T_29b25_row3_col1\" class=\"data row3 col1\" >0.602706</td>\n",
       "      <td id=\"T_29b25_row3_col2\" class=\"data row3 col2\" >False</td>\n",
       "      <td id=\"T_29b25_row3_col3\" class=\"data row3 col3\" >0.528886</td>\n",
       "    </tr>\n",
       "    <tr>\n",
       "      <th id=\"T_29b25_level0_row4\" class=\"row_heading level0 row4\" >panss_total</th>\n",
       "      <td id=\"T_29b25_row4_col0\" class=\"data row4 col0\" >-0.735628</td>\n",
       "      <td id=\"T_29b25_row4_col1\" class=\"data row4 col1\" >0.470497</td>\n",
       "      <td id=\"T_29b25_row4_col2\" class=\"data row4 col2\" >False</td>\n",
       "      <td id=\"T_29b25_row4_col3\" class=\"data row4 col3\" >0.735628</td>\n",
       "    </tr>\n",
       "    <tr>\n",
       "      <th id=\"T_29b25_level0_row5\" class=\"row_heading level0 row5\" >panss_neg</th>\n",
       "      <td id=\"T_29b25_row5_col0\" class=\"data row5 col0\" >-0.628695</td>\n",
       "      <td id=\"T_29b25_row5_col1\" class=\"data row5 col1\" >0.536664</td>\n",
       "      <td id=\"T_29b25_row5_col2\" class=\"data row5 col2\" >False</td>\n",
       "      <td id=\"T_29b25_row5_col3\" class=\"data row5 col3\" >0.628695</td>\n",
       "    </tr>\n",
       "    <tr>\n",
       "      <th id=\"T_29b25_level0_row6\" class=\"row_heading level0 row6\" >panss_pos</th>\n",
       "      <td id=\"T_29b25_row6_col0\" class=\"data row6 col0\" >-0.541530</td>\n",
       "      <td id=\"T_29b25_row6_col1\" class=\"data row6 col1\" >0.594124</td>\n",
       "      <td id=\"T_29b25_row6_col2\" class=\"data row6 col2\" >False</td>\n",
       "      <td id=\"T_29b25_row6_col3\" class=\"data row6 col3\" >0.541530</td>\n",
       "    </tr>\n",
       "    <tr>\n",
       "      <th id=\"T_29b25_level0_row7\" class=\"row_heading level0 row7\" >panss_o</th>\n",
       "      <td id=\"T_29b25_row7_col0\" class=\"data row7 col0\" >-0.490038</td>\n",
       "      <td id=\"T_29b25_row7_col1\" class=\"data row7 col1\" >0.629439</td>\n",
       "      <td id=\"T_29b25_row7_col2\" class=\"data row7 col2\" >False</td>\n",
       "      <td id=\"T_29b25_row7_col3\" class=\"data row7 col3\" >0.490038</td>\n",
       "    </tr>\n",
       "  </tbody>\n",
       "</table>\n"
      ],
      "text/plain": [
       "<pandas.io.formats.style.Styler at 0x7f9aad995970>"
      ]
     },
     "execution_count": 75,
     "metadata": {},
     "output_type": "execute_result"
    }
   ],
   "source": [
    "s_t_sex, res_t_sex = display_group_test(control_psy, numeric_target, 'sex', stats.ttest_ind, stat_name='t', alpha=a)\n",
    "style(res_t_sex)"
   ]
  },
  {
   "cell_type": "code",
   "execution_count": 76,
   "id": "6cdc3d71",
   "metadata": {},
   "outputs": [
    {
     "data": {
      "text/html": [
       "<style type=\"text/css\">\n",
       "#T_b31fa_row0_col0 {\n",
       "  background-color: #cbdef1;\n",
       "  color: #000000;\n",
       "}\n",
       "#T_b31fa_row0_col1 {\n",
       "  background-color: #a9cfe5;\n",
       "  color: #000000;\n",
       "}\n",
       "#T_b31fa_row0_col3 {\n",
       "  background-color: #7cb7da;\n",
       "  color: #000000;\n",
       "}\n",
       "#T_b31fa_row1_col0, #T_b31fa_row1_col1, #T_b31fa_row7_col3 {\n",
       "  background-color: #f7fbff;\n",
       "  color: #000000;\n",
       "}\n",
       "#T_b31fa_row1_col3, #T_b31fa_row3_col0, #T_b31fa_row7_col1 {\n",
       "  background-color: #08306b;\n",
       "  color: #f1f1f1;\n",
       "}\n",
       "#T_b31fa_row2_col0 {\n",
       "  background-color: #3282be;\n",
       "  color: #f1f1f1;\n",
       "}\n",
       "#T_b31fa_row2_col1 {\n",
       "  background-color: #1663aa;\n",
       "  color: #f1f1f1;\n",
       "}\n",
       "#T_b31fa_row2_col3 {\n",
       "  background-color: #e0ecf8;\n",
       "  color: #000000;\n",
       "}\n",
       "#T_b31fa_row3_col1, #T_b31fa_row5_col3 {\n",
       "  background-color: #eef5fc;\n",
       "  color: #000000;\n",
       "}\n",
       "#T_b31fa_row3_col3 {\n",
       "  background-color: #09529d;\n",
       "  color: #f1f1f1;\n",
       "}\n",
       "#T_b31fa_row4_col0 {\n",
       "  background-color: #3d8dc4;\n",
       "  color: #f1f1f1;\n",
       "}\n",
       "#T_b31fa_row4_col1 {\n",
       "  background-color: #08326e;\n",
       "  color: #f1f1f1;\n",
       "}\n",
       "#T_b31fa_row4_col3 {\n",
       "  background-color: #f6faff;\n",
       "  color: #000000;\n",
       "}\n",
       "#T_b31fa_row5_col0 {\n",
       "  background-color: #3888c1;\n",
       "  color: #f1f1f1;\n",
       "}\n",
       "#T_b31fa_row5_col1 {\n",
       "  background-color: #08478d;\n",
       "  color: #f1f1f1;\n",
       "}\n",
       "#T_b31fa_row6_col0 {\n",
       "  background-color: #08519c;\n",
       "  color: #f1f1f1;\n",
       "}\n",
       "#T_b31fa_row6_col1 {\n",
       "  background-color: #c7dcef;\n",
       "  color: #000000;\n",
       "}\n",
       "#T_b31fa_row6_col3 {\n",
       "  background-color: #56a0ce;\n",
       "  color: #f1f1f1;\n",
       "}\n",
       "#T_b31fa_row7_col0 {\n",
       "  background-color: #8dc1dd;\n",
       "  color: #000000;\n",
       "}\n",
       "</style>\n",
       "<table id=\"T_b31fa\">\n",
       "  <thead>\n",
       "    <tr>\n",
       "      <th class=\"blank level0\" >&nbsp;</th>\n",
       "      <th id=\"T_b31fa_level0_col0\" class=\"col_heading level0 col0\" >t</th>\n",
       "      <th id=\"T_b31fa_level0_col1\" class=\"col_heading level0 col1\" >p</th>\n",
       "      <th id=\"T_b31fa_level0_col2\" class=\"col_heading level0 col2\" >sig</th>\n",
       "      <th id=\"T_b31fa_level0_col3\" class=\"col_heading level0 col3\" >abs_t</th>\n",
       "    </tr>\n",
       "  </thead>\n",
       "  <tbody>\n",
       "    <tr>\n",
       "      <th id=\"T_b31fa_level0_row0\" class=\"row_heading level0 row0\" >education.years</th>\n",
       "      <td id=\"T_b31fa_row0_col0\" class=\"data row0 col0\" >-1.122772</td>\n",
       "      <td id=\"T_b31fa_row0_col1\" class=\"data row0 col1\" >0.270744</td>\n",
       "      <td id=\"T_b31fa_row0_col2\" class=\"data row0 col2\" >False</td>\n",
       "      <td id=\"T_b31fa_row0_col3\" class=\"data row0 col3\" >1.122772</td>\n",
       "    </tr>\n",
       "    <tr>\n",
       "      <th id=\"T_b31fa_level0_row1\" class=\"row_heading level0 row1\" >dep.severity</th>\n",
       "      <td id=\"T_b31fa_row1_col0\" class=\"data row1 col0\" >-1.954622</td>\n",
       "      <td id=\"T_b31fa_row1_col1\" class=\"data row1 col1\" >0.060329</td>\n",
       "      <td id=\"T_b31fa_row1_col2\" class=\"data row1 col2\" >False</td>\n",
       "      <td id=\"T_b31fa_row1_col3\" class=\"data row1 col3\" >1.954622</td>\n",
       "    </tr>\n",
       "    <tr>\n",
       "      <th id=\"T_b31fa_level0_row2\" class=\"row_heading level0 row2\" >td.severity</th>\n",
       "      <td id=\"T_b31fa_row2_col0\" class=\"data row2 col0\" >0.592289</td>\n",
       "      <td id=\"T_b31fa_row2_col1\" class=\"data row2 col1\" >0.558247</td>\n",
       "      <td id=\"T_b31fa_row2_col2\" class=\"data row2 col2\" >False</td>\n",
       "      <td id=\"T_b31fa_row2_col3\" class=\"data row2 col3\" >0.592289</td>\n",
       "    </tr>\n",
       "    <tr>\n",
       "      <th id=\"T_b31fa_level0_row3\" class=\"row_heading level0 row3\" >panss_td</th>\n",
       "      <td id=\"T_b31fa_row3_col0\" class=\"data row3 col0\" >1.753714</td>\n",
       "      <td id=\"T_b31fa_row3_col1\" class=\"data row3 col1\" >0.090826</td>\n",
       "      <td id=\"T_b31fa_row3_col2\" class=\"data row3 col2\" >False</td>\n",
       "      <td id=\"T_b31fa_row3_col3\" class=\"data row3 col3\" >1.753714</td>\n",
       "    </tr>\n",
       "    <tr>\n",
       "      <th id=\"T_b31fa_level0_row4\" class=\"row_heading level0 row4\" >panss_total</th>\n",
       "      <td id=\"T_b31fa_row4_col0\" class=\"data row4 col0\" >0.426912</td>\n",
       "      <td id=\"T_b31fa_row4_col1\" class=\"data row4 col1\" >0.672829</td>\n",
       "      <td id=\"T_b31fa_row4_col2\" class=\"data row4 col2\" >False</td>\n",
       "      <td id=\"T_b31fa_row4_col3\" class=\"data row4 col3\" >0.426912</td>\n",
       "    </tr>\n",
       "    <tr>\n",
       "      <th id=\"T_b31fa_level0_row5\" class=\"row_heading level0 row5\" >panss_neg</th>\n",
       "      <td id=\"T_b31fa_row5_col0\" class=\"data row5 col0\" >0.495589</td>\n",
       "      <td id=\"T_b31fa_row5_col1\" class=\"data row5 col1\" >0.624194</td>\n",
       "      <td id=\"T_b31fa_row5_col2\" class=\"data row5 col2\" >False</td>\n",
       "      <td id=\"T_b31fa_row5_col3\" class=\"data row5 col3\" >0.495589</td>\n",
       "    </tr>\n",
       "    <tr>\n",
       "      <th id=\"T_b31fa_level0_row6\" class=\"row_heading level0 row6\" >panss_pos</th>\n",
       "      <td id=\"T_b31fa_row6_col0\" class=\"data row6 col0\" >1.282777</td>\n",
       "      <td id=\"T_b31fa_row6_col1\" class=\"data row6 col1\" >0.210473</td>\n",
       "      <td id=\"T_b31fa_row6_col2\" class=\"data row6 col2\" >False</td>\n",
       "      <td id=\"T_b31fa_row6_col3\" class=\"data row6 col3\" >1.282777</td>\n",
       "    </tr>\n",
       "    <tr>\n",
       "      <th id=\"T_b31fa_level0_row7\" class=\"row_heading level0 row7\" >panss_o</th>\n",
       "      <td id=\"T_b31fa_row7_col0\" class=\"data row7 col0\" >-0.418000</td>\n",
       "      <td id=\"T_b31fa_row7_col1\" class=\"data row7 col1\" >0.679253</td>\n",
       "      <td id=\"T_b31fa_row7_col2\" class=\"data row7 col2\" >False</td>\n",
       "      <td id=\"T_b31fa_row7_col3\" class=\"data row7 col3\" >0.418000</td>\n",
       "    </tr>\n",
       "  </tbody>\n",
       "</table>\n"
      ],
      "text/plain": [
       "<pandas.io.formats.style.Styler at 0x7f9aad8301c0>"
      ]
     },
     "execution_count": 76,
     "metadata": {},
     "output_type": "execute_result"
    }
   ],
   "source": [
    "s_t_sex, res_t_sex = display_group_test(sz, numeric_target, 'sex', stats.ttest_ind, stat_name='t', alpha=a)\n",
    "style(res_t_sex)"
   ]
  },
  {
   "cell_type": "markdown",
   "id": "2ae688c6",
   "metadata": {},
   "source": [
    "### correlation between target variables"
   ]
  },
  {
   "cell_type": "code",
   "execution_count": 77,
   "id": "f817ebd4",
   "metadata": {},
   "outputs": [],
   "source": [
    "# display corr test"
   ]
  },
  {
   "cell_type": "code",
   "execution_count": 78,
   "id": "e1f827d4",
   "metadata": {},
   "outputs": [
    {
     "data": {
      "text/html": [
       "<div>\n",
       "<style scoped>\n",
       "    .dataframe tbody tr th:only-of-type {\n",
       "        vertical-align: middle;\n",
       "    }\n",
       "\n",
       "    .dataframe tbody tr th {\n",
       "        vertical-align: top;\n",
       "    }\n",
       "\n",
       "    .dataframe thead th {\n",
       "        text-align: right;\n",
       "    }\n",
       "</style>\n",
       "<table border=\"1\" class=\"dataframe\">\n",
       "  <thead>\n",
       "    <tr style=\"text-align: right;\">\n",
       "      <th></th>\n",
       "      <th>r</th>\n",
       "      <th>p</th>\n",
       "      <th>sig</th>\n",
       "      <th>abs_r</th>\n",
       "    </tr>\n",
       "  </thead>\n",
       "  <tbody>\n",
       "    <tr>\n",
       "      <th>education.years</th>\n",
       "      <td>0.468966</td>\n",
       "      <td>0.0</td>\n",
       "      <td>True</td>\n",
       "      <td>0.468966</td>\n",
       "    </tr>\n",
       "    <tr>\n",
       "      <th>panss_neg</th>\n",
       "      <td>0.383708</td>\n",
       "      <td>0.001749</td>\n",
       "      <td>True</td>\n",
       "      <td>0.383708</td>\n",
       "    </tr>\n",
       "  </tbody>\n",
       "</table>\n",
       "</div>"
      ],
      "text/plain": [
       "                        r         p   sig     abs_r\n",
       "education.years  0.468966       0.0  True  0.468966\n",
       "panss_neg        0.383708  0.001749  True  0.383708"
      ]
     },
     "execution_count": 78,
     "metadata": {},
     "output_type": "execute_result"
    }
   ],
   "source": [
    "x, y = display_test(df, numeric_target, 'age', stats.pearsonr, stat_name='r', alpha=a)\n",
    "y[y['abs_r']> 0.3].sort_values('abs_r', ascending=False)"
   ]
  },
  {
   "cell_type": "code",
   "execution_count": 79,
   "id": "bd120369",
   "metadata": {},
   "outputs": [
    {
     "data": {
      "text/html": [
       "<div>\n",
       "<style scoped>\n",
       "    .dataframe tbody tr th:only-of-type {\n",
       "        vertical-align: middle;\n",
       "    }\n",
       "\n",
       "    .dataframe tbody tr th {\n",
       "        vertical-align: top;\n",
       "    }\n",
       "\n",
       "    .dataframe thead th {\n",
       "        text-align: right;\n",
       "    }\n",
       "</style>\n",
       "<table border=\"1\" class=\"dataframe\">\n",
       "  <thead>\n",
       "    <tr style=\"text-align: right;\">\n",
       "      <th></th>\n",
       "      <th>r</th>\n",
       "      <th>p</th>\n",
       "      <th>sig</th>\n",
       "      <th>abs_r</th>\n",
       "    </tr>\n",
       "  </thead>\n",
       "  <tbody>\n",
       "    <tr>\n",
       "      <th>panss_o</th>\n",
       "      <td>-0.407709</td>\n",
       "      <td>0.000826</td>\n",
       "      <td>True</td>\n",
       "      <td>0.407709</td>\n",
       "    </tr>\n",
       "    <tr>\n",
       "      <th>dep.severity</th>\n",
       "      <td>-0.331386</td>\n",
       "      <td>0.002852</td>\n",
       "      <td>True</td>\n",
       "      <td>0.331386</td>\n",
       "    </tr>\n",
       "  </tbody>\n",
       "</table>\n",
       "</div>"
      ],
      "text/plain": [
       "                     r         p   sig     abs_r\n",
       "panss_o      -0.407709  0.000826  True  0.407709\n",
       "dep.severity -0.331386  0.002852  True  0.331386"
      ]
     },
     "execution_count": 79,
     "metadata": {},
     "output_type": "execute_result"
    }
   ],
   "source": [
    "x, y = display_test(df, numeric_target, 'education.years', stats.pearsonr, stat_name='r', alpha=a)\n",
    "y[y['abs_r']> 0.3].sort_values('abs_r', ascending=False)"
   ]
  },
  {
   "cell_type": "code",
   "execution_count": 80,
   "id": "7d820b1a",
   "metadata": {},
   "outputs": [
    {
     "data": {
      "image/png": "[encoded data removed]",
      "text/plain": [
       "<Figure size 2880x1440 with 2 Axes>"
      ]
     },
     "metadata": {
      "needs_background": "light"
     },
     "output_type": "display_data"
    }
   ],
   "source": [
    "target_corr_res = show_corrtest_mask_corr(df[numeric_target])"
   ]
  },
  {
   "cell_type": "markdown",
   "id": "f0b13488",
   "metadata": {},
   "source": [
    "## scores"
   ]
  },
  {
   "cell_type": "code",
   "execution_count": 81,
   "id": "679f02d1",
   "metadata": {},
   "outputs": [],
   "source": [
    "# res_df"
   ]
  },
  {
   "cell_type": "code",
   "execution_count": 82,
   "id": "dd448843",
   "metadata": {},
   "outputs": [
    {
     "data": {
      "image/png": "[encoded data removed]",
      "text/plain": [
       "<Figure size 1080x720 with 9 Axes>"
      ]
     },
     "metadata": {
      "needs_background": "light"
     },
     "output_type": "display_data"
    }
   ],
   "source": [
    "fig, axes = plt.subplots(3, 3, figsize=(15, 10))\n",
    "fig.suptitle('PANSS')\n",
    "\n",
    "\n",
    "sns.histplot(sz['panss_total'], ax=axes[0, 0], binwidth=5)\n",
    "axes[0, 0].set_xlim(30, 95)\n",
    "sns.histplot(dep['panss_total'], ax=axes[1, 0], binwidth=5)\n",
    "axes[1, 0].set_xlim(30, 95)\n",
    "sns.histplot(control_psy['panss_total'], ax=axes[2, 0], binwidth=5)\n",
    "axes[2, 0].set_xlim(30, 95)\n",
    "sns.histplot(sz['panss_neg'], ax=axes[0, 1], binwidth=2)\n",
    "axes[0, 1].set_xlim(7, 45)\n",
    "sns.histplot(dep['panss_neg'], ax=axes[1, 1], binwidth=2)\n",
    "axes[1, 1].set_xlim(7, 45)\n",
    "sns.histplot(control_psy['panss_neg'], ax=axes[2, 1], binwidth=2)\n",
    "axes[2, 1].set_xlim(7, 45)\n",
    "sns.histplot(sz['panss_pos'], ax=axes[0, 2], binwidth=2)\n",
    "axes[0, 2].set_xlim(7, 30)\n",
    "sns.histplot(dep['panss_pos'], ax=axes[1, 2], binwidth=2)\n",
    "axes[1, 2].set_xlim(7, 30)\n",
    "sns.histplot(control_psy['panss_pos'], ax=axes[2, 2], binwidth=2)\n",
    "axes[2, 2].set_xlim(7, 30)\n",
    "\n",
    "for ax, col in zip(axes[0], ('total', 'positive', 'negative')):\n",
    "    ax.set_title(col)\n",
    "\n",
    "for ax, row in zip(axes[:,0], ('NAP', 'Dep', 'HC')):\n",
    "    ax.set_ylabel(row, rotation=0, size='large')"
   ]
  },
  {
   "cell_type": "code",
   "execution_count": 83,
   "id": "1b743c16",
   "metadata": {},
   "outputs": [
    {
     "data": {
      "image/png": "[encoded data removed]",
      "text/plain": [
       "<Figure size 864x576 with 4 Axes>"
      ]
     },
     "metadata": {
      "needs_background": "light"
     },
     "output_type": "display_data"
    }
   ],
   "source": [
    "fig, axes = plt.subplots(2, 2, figsize=(12, 8))\n",
    "fig.suptitle('severity')\n",
    "\n",
    "\n",
    "sns.histplot(sz['dep.severity'], ax=axes[0, 0])\n",
    "sns.histplot(dep['dep.severity'], ax=axes[1, 0])\n",
    "sns.histplot(sz['td.severity'], ax=axes[0, 1])\n",
    "sns.histplot(dep['td.severity'], ax=axes[1, 1])\n",
    "axes[1, 1].set_xlim(0, 3)\n",
    "\n",
    "for ax, col in zip(axes[0], ('Dep', 'TD')):\n",
    "    ax.set_title(col)\n",
    "\n",
    "for ax, row in zip(axes[:,0], ('NAP', 'Dep')):\n",
    "    ax.set_ylabel(row, rotation=0, size='large')"
   ]
  },
  {
   "cell_type": "markdown",
   "id": "ec7ccfe5",
   "metadata": {},
   "source": [
    "### merge psychoscial data to scores"
   ]
  },
  {
   "cell_type": "code",
   "execution_count": 84,
   "id": "669d4fd8",
   "metadata": {},
   "outputs": [],
   "source": [
    "merge_df = res_df.copy()\n",
    "for col in target_cols + panss_cols:\n",
    "    merge_df[('target', 'target', col)] = df[col]"
   ]
  },
  {
   "cell_type": "code",
   "execution_count": 85,
   "id": "c7c95ac1",
   "metadata": {},
   "outputs": [],
   "source": [
    "cols_tasks = res_df['chair'].columns\n",
    "cols_LM = [col for col in res_df['chair'] if col[0] == 'LM']\n",
    "cols_synt = [col for col in res_df['chair'] if col[0] == 'syntactic']\n",
    "cols_lex = [col for col in res_df['chair'] if col[0] == 'lexical']\n",
    "cols_graph = [col for col in res_df['chair'] if col[0] == 'graph']"
   ]
  },
  {
   "cell_type": "code",
   "execution_count": 86,
   "id": "00cf5ed5",
   "metadata": {},
   "outputs": [
    {
     "data": {
      "text/plain": [
       "{'ADP', 'INTJ', 'NUM', 'PUNCT', 'SPACE'}"
      ]
     },
     "execution_count": 86,
     "metadata": {},
     "output_type": "execute_result"
    }
   ],
   "source": [
    "POS_to_use = ('ADJ', 'ADV', 'AUX', 'CCONJ', 'DET','NOUN', 'PRON', 'PROPN', 'SCONJ', 'VERB', 'PART')\n",
    "pos = set([x[1] for x in cols_synt if x[1].isupper()])\n",
    "\n",
    "pos.difference(set(('ADJ', 'ADV', 'AUX', 'CCONJ', 'DET','NOUN', 'PRON', 'PROPN', 'SCONJ', 'VERB', 'PART')))"
   ]
  },
  {
   "cell_type": "code",
   "execution_count": 87,
   "id": "4e0bbe72",
   "metadata": {},
   "outputs": [],
   "source": [
    "pos_cols_to_drop = [(task, c[0], c[1]) for task in TASKS for c in cols_synt if c[1].isupper() and c[1] not in POS_to_use and (task, c[0], c[1]) in merge_df.columns]"
   ]
  },
  {
   "cell_type": "code",
   "execution_count": 88,
   "id": "c55f40f4",
   "metadata": {},
   "outputs": [],
   "source": [
    "merge_df.drop(columns=pos_cols_to_drop, inplace=True)"
   ]
  },
  {
   "cell_type": "code",
   "execution_count": 89,
   "id": "9b732669",
   "metadata": {},
   "outputs": [
    {
     "data": {
      "text/plain": [
       "Index(['adventure', 'chair', 'present', 'sportsman', 'target'], dtype='object', name='TASK')"
      ]
     },
     "execution_count": 89,
     "metadata": {},
     "output_type": "execute_result"
    }
   ],
   "source": [
    "merge_df.columns.unique(level='TASK')"
   ]
  },
  {
   "cell_type": "code",
   "execution_count": 90,
   "id": "bc48853d",
   "metadata": {},
   "outputs": [],
   "source": [
    "cols_synt = [col for col in merge_df['chair'] if col[0] == 'syntactic']\n",
    "cols_tasks = cols_synt + cols_LM + cols_lex + cols_graph"
   ]
  },
  {
   "cell_type": "code",
   "execution_count": 91,
   "id": "1969b89c",
   "metadata": {},
   "outputs": [],
   "source": [
    "def corr(df, target):\n",
    "    return df[~pd.isnull(df[target])].corr()[target]"
   ]
  },
  {
   "cell_type": "code",
   "execution_count": 92,
   "id": "e1ef1c80",
   "metadata": {},
   "outputs": [],
   "source": [
    "def corr_thresh(df, target, thresh=0.3, drop_target=True):\n",
    "    corr_tgt = corr(df, target)\n",
    "    if drop_target:\n",
    "        corr_tgt.drop('target', inplace=True)\n",
    "    return corr_tgt[abs(corr_tgt) >= thresh]"
   ]
  },
  {
   "cell_type": "code",
   "execution_count": 93,
   "id": "e6acd08e",
   "metadata": {},
   "outputs": [],
   "source": [
    "def ttest(df, test_columns, group):\n",
    "    s_t, res_t = display_group_test(df, test_columns, group, stats.ttest_ind, stat_name='t', alpha=a)\n",
    "    return res_t[['t', 'p']]"
   ]
  },
  {
   "cell_type": "markdown",
   "id": "6adb8735",
   "metadata": {},
   "source": [
    "### psychosocial variables vs metrics"
   ]
  },
  {
   "cell_type": "code",
   "execution_count": 94,
   "id": "a0bc012e",
   "metadata": {},
   "outputs": [
    {
     "data": {
      "text/html": [
       "<style type=\"text/css\">\n",
       "#T_2b081_row0_col0, #T_2b081_row0_col3, #T_2b081_row1_col0, #T_2b081_row1_col3, #T_2b081_row2_col0, #T_2b081_row2_col3, #T_2b081_row3_col0, #T_2b081_row3_col1, #T_2b081_row3_col3, #T_2b081_row4_col0, #T_2b081_row4_col3, #T_2b081_row5_col0, #T_2b081_row5_col3 {\n",
       "  background-color: #000000;\n",
       "  color: #f1f1f1;\n",
       "  color: white;\n",
       "  background-color: white;\n",
       "}\n",
       "#T_2b081_row0_col1, #T_2b081_row3_col2 {\n",
       "  background-color: #f7fbff;\n",
       "  color: #000000;\n",
       "}\n",
       "#T_2b081_row0_col2, #T_2b081_row1_col2, #T_2b081_row2_col2, #T_2b081_row4_col2, #T_2b081_row5_col2 {\n",
       "  background-color: #f7fbff;\n",
       "  color: #000000;\n",
       "  color: white;\n",
       "  background-color: white;\n",
       "}\n",
       "#T_2b081_row1_col1 {\n",
       "  background-color: #f2f7fd;\n",
       "  color: #000000;\n",
       "}\n",
       "#T_2b081_row2_col1 {\n",
       "  background-color: #e0ecf8;\n",
       "  color: #000000;\n",
       "}\n",
       "#T_2b081_row4_col1 {\n",
       "  background-color: #08306b;\n",
       "  color: #f1f1f1;\n",
       "}\n",
       "#T_2b081_row5_col1 {\n",
       "  background-color: #083a7a;\n",
       "  color: #f1f1f1;\n",
       "}\n",
       "</style>\n",
       "<table id=\"T_2b081\">\n",
       "  <thead>\n",
       "    <tr>\n",
       "      <th class=\"blank\" >&nbsp;</th>\n",
       "      <th class=\"blank level0\" >&nbsp;</th>\n",
       "      <th id=\"T_2b081_level0_col0\" class=\"col_heading level0 col0\" >adventure</th>\n",
       "      <th id=\"T_2b081_level0_col1\" class=\"col_heading level0 col1\" >chair</th>\n",
       "      <th id=\"T_2b081_level0_col2\" class=\"col_heading level0 col2\" >present</th>\n",
       "      <th id=\"T_2b081_level0_col3\" class=\"col_heading level0 col3\" >sportsman</th>\n",
       "    </tr>\n",
       "  </thead>\n",
       "  <tbody>\n",
       "    <tr>\n",
       "      <th id=\"T_2b081_level0_row0\" class=\"row_heading level0 row0\" rowspan=\"4\">LM</th>\n",
       "      <th id=\"T_2b081_level1_row0\" class=\"row_heading level1 row0\" >m_bert_cgcoh</th>\n",
       "      <td id=\"T_2b081_row0_col0\" class=\"data row0 col0\" >nan</td>\n",
       "      <td id=\"T_2b081_row0_col1\" class=\"data row0 col1\" >-0.407323</td>\n",
       "      <td id=\"T_2b081_row0_col2\" class=\"data row0 col2\" >nan</td>\n",
       "      <td id=\"T_2b081_row0_col3\" class=\"data row0 col3\" >nan</td>\n",
       "    </tr>\n",
       "    <tr>\n",
       "      <th id=\"T_2b081_level1_row1\" class=\"row_heading level1 row1\" >m_bert_gcoh</th>\n",
       "      <td id=\"T_2b081_row1_col0\" class=\"data row1 col0\" >nan</td>\n",
       "      <td id=\"T_2b081_row1_col1\" class=\"data row1 col1\" >-0.385317</td>\n",
       "      <td id=\"T_2b081_row1_col2\" class=\"data row1 col2\" >nan</td>\n",
       "      <td id=\"T_2b081_row1_col3\" class=\"data row1 col3\" >nan</td>\n",
       "    </tr>\n",
       "    <tr>\n",
       "      <th id=\"T_2b081_level1_row2\" class=\"row_heading level1 row2\" >m_bert_scoh</th>\n",
       "      <td id=\"T_2b081_row2_col0\" class=\"data row2 col0\" >nan</td>\n",
       "      <td id=\"T_2b081_row2_col1\" class=\"data row2 col1\" >-0.320421</td>\n",
       "      <td id=\"T_2b081_row2_col2\" class=\"data row2 col2\" >nan</td>\n",
       "      <td id=\"T_2b081_row2_col3\" class=\"data row2 col3\" >nan</td>\n",
       "    </tr>\n",
       "    <tr>\n",
       "      <th id=\"T_2b081_level1_row3\" class=\"row_heading level1 row3\" >m_raw_cgcoh</th>\n",
       "      <td id=\"T_2b081_row3_col0\" class=\"data row3 col0\" >nan</td>\n",
       "      <td id=\"T_2b081_row3_col1\" class=\"data row3 col1\" >nan</td>\n",
       "      <td id=\"T_2b081_row3_col2\" class=\"data row3 col2\" >-0.328286</td>\n",
       "      <td id=\"T_2b081_row3_col3\" class=\"data row3 col3\" >nan</td>\n",
       "    </tr>\n",
       "    <tr>\n",
       "      <th id=\"T_2b081_level0_row4\" class=\"row_heading level0 row4\" rowspan=\"2\">syntactic</th>\n",
       "      <th id=\"T_2b081_level1_row4\" class=\"row_heading level1 row4\" >mean_sent_len</th>\n",
       "      <td id=\"T_2b081_row4_col0\" class=\"data row4 col0\" >nan</td>\n",
       "      <td id=\"T_2b081_row4_col1\" class=\"data row4 col1\" >0.342145</td>\n",
       "      <td id=\"T_2b081_row4_col2\" class=\"data row4 col2\" >nan</td>\n",
       "      <td id=\"T_2b081_row4_col3\" class=\"data row4 col3\" >nan</td>\n",
       "    </tr>\n",
       "    <tr>\n",
       "      <th id=\"T_2b081_level1_row5\" class=\"row_heading level1 row5\" >std_sent_len</th>\n",
       "      <td id=\"T_2b081_row5_col0\" class=\"data row5 col0\" >nan</td>\n",
       "      <td id=\"T_2b081_row5_col1\" class=\"data row5 col1\" >0.311643</td>\n",
       "      <td id=\"T_2b081_row5_col2\" class=\"data row5 col2\" >nan</td>\n",
       "      <td id=\"T_2b081_row5_col3\" class=\"data row5 col3\" >nan</td>\n",
       "    </tr>\n",
       "  </tbody>\n",
       "</table>\n"
      ],
      "text/plain": [
       "<pandas.io.formats.style.Styler at 0x7f9aad7c3b50>"
      ]
     },
     "execution_count": 94,
     "metadata": {},
     "output_type": "execute_result"
    }
   ],
   "source": [
    "style(aplly_to_all_tasks(merge_df, corr_thresh, target=('target', 'age')))"
   ]
  },
  {
   "cell_type": "code",
   "execution_count": 95,
   "id": "f2330663",
   "metadata": {},
   "outputs": [
    {
     "data": {
      "text/html": [
       "<style type=\"text/css\">\n",
       "#T_a494d_row0_col0, #T_a494d_row2_col0, #T_a494d_row3_col0, #T_a494d_row4_col0, #T_a494d_row5_col0, #T_a494d_row6_col0 {\n",
       "  background-color: #f7fbff;\n",
       "  color: #000000;\n",
       "  color: white;\n",
       "  background-color: white;\n",
       "}\n",
       "#T_a494d_row0_col1 {\n",
       "  background-color: #eff6fc;\n",
       "  color: #000000;\n",
       "}\n",
       "#T_a494d_row0_col2, #T_a494d_row0_col3, #T_a494d_row1_col1, #T_a494d_row1_col2, #T_a494d_row1_col3, #T_a494d_row2_col2, #T_a494d_row2_col3, #T_a494d_row3_col2, #T_a494d_row3_col3, #T_a494d_row4_col2, #T_a494d_row4_col3, #T_a494d_row5_col2, #T_a494d_row5_col3, #T_a494d_row6_col2, #T_a494d_row6_col3 {\n",
       "  background-color: #000000;\n",
       "  color: #f1f1f1;\n",
       "  color: white;\n",
       "  background-color: white;\n",
       "}\n",
       "#T_a494d_row1_col0, #T_a494d_row4_col1 {\n",
       "  background-color: #f7fbff;\n",
       "  color: #000000;\n",
       "}\n",
       "#T_a494d_row2_col1 {\n",
       "  background-color: #08306b;\n",
       "  color: #f1f1f1;\n",
       "}\n",
       "#T_a494d_row3_col1 {\n",
       "  background-color: #083c7d;\n",
       "  color: #f1f1f1;\n",
       "}\n",
       "#T_a494d_row5_col1 {\n",
       "  background-color: #083d7f;\n",
       "  color: #f1f1f1;\n",
       "}\n",
       "#T_a494d_row6_col1 {\n",
       "  background-color: #083471;\n",
       "  color: #f1f1f1;\n",
       "}\n",
       "</style>\n",
       "<table id=\"T_a494d\">\n",
       "  <thead>\n",
       "    <tr>\n",
       "      <th class=\"blank\" >&nbsp;</th>\n",
       "      <th class=\"blank level0\" >&nbsp;</th>\n",
       "      <th id=\"T_a494d_level0_col0\" class=\"col_heading level0 col0\" >adventure</th>\n",
       "      <th id=\"T_a494d_level0_col1\" class=\"col_heading level0 col1\" >chair</th>\n",
       "      <th id=\"T_a494d_level0_col2\" class=\"col_heading level0 col2\" >present</th>\n",
       "      <th id=\"T_a494d_level0_col3\" class=\"col_heading level0 col3\" >sportsman</th>\n",
       "    </tr>\n",
       "  </thead>\n",
       "  <tbody>\n",
       "    <tr>\n",
       "      <th id=\"T_a494d_level0_row0\" class=\"row_heading level0 row0\" rowspan=\"2\">LM</th>\n",
       "      <th id=\"T_a494d_level1_row0\" class=\"row_heading level1 row0\" >m_bert_cgcoh</th>\n",
       "      <td id=\"T_a494d_row0_col0\" class=\"data row0 col0\" >nan</td>\n",
       "      <td id=\"T_a494d_row0_col1\" class=\"data row0 col1\" >-0.344149</td>\n",
       "      <td id=\"T_a494d_row0_col2\" class=\"data row0 col2\" >nan</td>\n",
       "      <td id=\"T_a494d_row0_col3\" class=\"data row0 col3\" >nan</td>\n",
       "    </tr>\n",
       "    <tr>\n",
       "      <th id=\"T_a494d_level1_row1\" class=\"row_heading level1 row1\" >m_bert_scoh</th>\n",
       "      <td id=\"T_a494d_row1_col0\" class=\"data row1 col0\" >-0.325491</td>\n",
       "      <td id=\"T_a494d_row1_col1\" class=\"data row1 col1\" >nan</td>\n",
       "      <td id=\"T_a494d_row1_col2\" class=\"data row1 col2\" >nan</td>\n",
       "      <td id=\"T_a494d_row1_col3\" class=\"data row1 col3\" >nan</td>\n",
       "    </tr>\n",
       "    <tr>\n",
       "      <th id=\"T_a494d_level0_row2\" class=\"row_heading level0 row2\" rowspan=\"2\">graph</th>\n",
       "      <th id=\"T_a494d_level1_row2\" class=\"row_heading level1 row2\" >L1</th>\n",
       "      <td id=\"T_a494d_row2_col0\" class=\"data row2 col0\" >nan</td>\n",
       "      <td id=\"T_a494d_row2_col1\" class=\"data row2 col1\" >0.352080</td>\n",
       "      <td id=\"T_a494d_row2_col2\" class=\"data row2 col2\" >nan</td>\n",
       "      <td id=\"T_a494d_row2_col3\" class=\"data row2 col3\" >nan</td>\n",
       "    </tr>\n",
       "    <tr>\n",
       "      <th id=\"T_a494d_level1_row3\" class=\"row_heading level1 row3\" >number_of_edges</th>\n",
       "      <td id=\"T_a494d_row3_col0\" class=\"data row3 col0\" >nan</td>\n",
       "      <td id=\"T_a494d_row3_col1\" class=\"data row3 col1\" >0.317247</td>\n",
       "      <td id=\"T_a494d_row3_col2\" class=\"data row3 col2\" >nan</td>\n",
       "      <td id=\"T_a494d_row3_col3\" class=\"data row3 col3\" >nan</td>\n",
       "    </tr>\n",
       "    <tr>\n",
       "      <th id=\"T_a494d_level0_row4\" class=\"row_heading level0 row4\" rowspan=\"2\">lexical</th>\n",
       "      <th id=\"T_a494d_level1_row4\" class=\"row_heading level1 row4\" >LTR</th>\n",
       "      <td id=\"T_a494d_row4_col0\" class=\"data row4 col0\" >nan</td>\n",
       "      <td id=\"T_a494d_row4_col1\" class=\"data row4 col1\" >-0.374247</td>\n",
       "      <td id=\"T_a494d_row4_col2\" class=\"data row4 col2\" >nan</td>\n",
       "      <td id=\"T_a494d_row4_col3\" class=\"data row4 col3\" >nan</td>\n",
       "    </tr>\n",
       "    <tr>\n",
       "      <th id=\"T_a494d_level1_row5\" class=\"row_heading level1 row5\" >n_words</th>\n",
       "      <td id=\"T_a494d_row5_col0\" class=\"data row5 col0\" >nan</td>\n",
       "      <td id=\"T_a494d_row5_col1\" class=\"data row5 col1\" >0.313731</td>\n",
       "      <td id=\"T_a494d_row5_col2\" class=\"data row5 col2\" >nan</td>\n",
       "      <td id=\"T_a494d_row5_col3\" class=\"data row5 col3\" >nan</td>\n",
       "    </tr>\n",
       "    <tr>\n",
       "      <th id=\"T_a494d_level0_row6\" class=\"row_heading level0 row6\" >syntactic</th>\n",
       "      <th id=\"T_a494d_level1_row6\" class=\"row_heading level1 row6\" >mean_sent_len</th>\n",
       "      <td id=\"T_a494d_row6_col0\" class=\"data row6 col0\" >nan</td>\n",
       "      <td id=\"T_a494d_row6_col1\" class=\"data row6 col1\" >0.339751</td>\n",
       "      <td id=\"T_a494d_row6_col2\" class=\"data row6 col2\" >nan</td>\n",
       "      <td id=\"T_a494d_row6_col3\" class=\"data row6 col3\" >nan</td>\n",
       "    </tr>\n",
       "  </tbody>\n",
       "</table>\n"
      ],
      "text/plain": [
       "<pandas.io.formats.style.Styler at 0x7f9aad048340>"
      ]
     },
     "execution_count": 95,
     "metadata": {},
     "output_type": "execute_result"
    }
   ],
   "source": [
    "style(aplly_to_all_tasks(merge_df, corr_thresh, target=('target', 'education.years')))"
   ]
  },
  {
   "cell_type": "code",
   "execution_count": 96,
   "id": "08dfc0a6",
   "metadata": {},
   "outputs": [],
   "source": [
    "control = merge_df[merge_df[('target', 'target', 'diagnosis.group')] == 'control']"
   ]
  },
  {
   "cell_type": "code",
   "execution_count": 97,
   "id": "1115f746",
   "metadata": {},
   "outputs": [
    {
     "data": {
      "text/html": [
       "<style type=\"text/css\">\n",
       "#T_7a452_row0_col0, #T_7a452_row0_col2, #T_7a452_row0_col3, #T_7a452_row1_col0, #T_7a452_row1_col2, #T_7a452_row1_col3, #T_7a452_row2_col0, #T_7a452_row2_col2, #T_7a452_row2_col3, #T_7a452_row3_col0, #T_7a452_row3_col2, #T_7a452_row3_col3 {\n",
       "  background-color: #000000;\n",
       "  color: #f1f1f1;\n",
       "  color: white;\n",
       "  background-color: white;\n",
       "}\n",
       "#T_7a452_row0_col1 {\n",
       "  background-color: #d6e5f4;\n",
       "  color: #000000;\n",
       "}\n",
       "#T_7a452_row1_col1 {\n",
       "  background-color: #f7fbff;\n",
       "  color: #000000;\n",
       "}\n",
       "#T_7a452_row2_col1 {\n",
       "  background-color: #08306b;\n",
       "  color: #f1f1f1;\n",
       "}\n",
       "#T_7a452_row3_col1 {\n",
       "  background-color: #1d6cb1;\n",
       "  color: #f1f1f1;\n",
       "}\n",
       "</style>\n",
       "<table id=\"T_7a452\">\n",
       "  <thead>\n",
       "    <tr>\n",
       "      <th class=\"blank\" >&nbsp;</th>\n",
       "      <th class=\"blank level0\" >&nbsp;</th>\n",
       "      <th id=\"T_7a452_level0_col0\" class=\"col_heading level0 col0\" >adventure</th>\n",
       "      <th id=\"T_7a452_level0_col1\" class=\"col_heading level0 col1\" >chair</th>\n",
       "      <th id=\"T_7a452_level0_col2\" class=\"col_heading level0 col2\" >present</th>\n",
       "      <th id=\"T_7a452_level0_col3\" class=\"col_heading level0 col3\" >sportsman</th>\n",
       "    </tr>\n",
       "  </thead>\n",
       "  <tbody>\n",
       "    <tr>\n",
       "      <th id=\"T_7a452_level0_row0\" class=\"row_heading level0 row0\" rowspan=\"4\">LM</th>\n",
       "      <th id=\"T_7a452_level1_row0\" class=\"row_heading level1 row0\" >m_bert_cgcoh</th>\n",
       "      <td id=\"T_7a452_row0_col0\" class=\"data row0 col0\" >nan</td>\n",
       "      <td id=\"T_7a452_row0_col1\" class=\"data row0 col1\" >-0.491920</td>\n",
       "      <td id=\"T_7a452_row0_col2\" class=\"data row0 col2\" >nan</td>\n",
       "      <td id=\"T_7a452_row0_col3\" class=\"data row0 col3\" >nan</td>\n",
       "    </tr>\n",
       "    <tr>\n",
       "      <th id=\"T_7a452_level1_row1\" class=\"row_heading level1 row1\" >m_bert_gcoh</th>\n",
       "      <td id=\"T_7a452_row1_col0\" class=\"data row1 col0\" >nan</td>\n",
       "      <td id=\"T_7a452_row1_col1\" class=\"data row1 col1\" >-0.502981</td>\n",
       "      <td id=\"T_7a452_row1_col2\" class=\"data row1 col2\" >nan</td>\n",
       "      <td id=\"T_7a452_row1_col3\" class=\"data row1 col3\" >nan</td>\n",
       "    </tr>\n",
       "    <tr>\n",
       "      <th id=\"T_7a452_level1_row2\" class=\"row_heading level1 row2\" >m_bert_lcoh</th>\n",
       "      <td id=\"T_7a452_row2_col0\" class=\"data row2 col0\" >nan</td>\n",
       "      <td id=\"T_7a452_row2_col1\" class=\"data row2 col1\" >-0.437806</td>\n",
       "      <td id=\"T_7a452_row2_col2\" class=\"data row2 col2\" >nan</td>\n",
       "      <td id=\"T_7a452_row2_col3\" class=\"data row2 col3\" >nan</td>\n",
       "    </tr>\n",
       "    <tr>\n",
       "      <th id=\"T_7a452_level1_row3\" class=\"row_heading level1 row3\" >m_bert_scoh</th>\n",
       "      <td id=\"T_7a452_row3_col0\" class=\"data row3 col0\" >nan</td>\n",
       "      <td id=\"T_7a452_row3_col1\" class=\"data row3 col1\" >-0.452870</td>\n",
       "      <td id=\"T_7a452_row3_col2\" class=\"data row3 col2\" >nan</td>\n",
       "      <td id=\"T_7a452_row3_col3\" class=\"data row3 col3\" >nan</td>\n",
       "    </tr>\n",
       "  </tbody>\n",
       "</table>\n"
      ],
      "text/plain": [
       "<pandas.io.formats.style.Styler at 0x7f9aad7a6d30>"
      ]
     },
     "execution_count": 97,
     "metadata": {},
     "output_type": "execute_result"
    }
   ],
   "source": [
    "style(aplly_to_all_tasks(control, corr_thresh, target=('target', 'age'), thresh=0.4))"
   ]
  },
  {
   "cell_type": "code",
   "execution_count": 98,
   "id": "69cdea59",
   "metadata": {},
   "outputs": [
    {
     "data": {
      "text/html": [
       "<style type=\"text/css\">\n",
       "#T_a47e1_row0_col0, #T_a47e1_row0_col2, #T_a47e1_row0_col3, #T_a47e1_row1_col0, #T_a47e1_row1_col2, #T_a47e1_row1_col3, #T_a47e1_row2_col0, #T_a47e1_row2_col2, #T_a47e1_row2_col3 {\n",
       "  background-color: #000000;\n",
       "  color: #f1f1f1;\n",
       "  color: white;\n",
       "  background-color: white;\n",
       "}\n",
       "#T_a47e1_row0_col1 {\n",
       "  background-color: #f7fbff;\n",
       "  color: #000000;\n",
       "}\n",
       "#T_a47e1_row1_col1 {\n",
       "  background-color: #eef5fc;\n",
       "  color: #000000;\n",
       "}\n",
       "#T_a47e1_row2_col1 {\n",
       "  background-color: #08306b;\n",
       "  color: #f1f1f1;\n",
       "}\n",
       "</style>\n",
       "<table id=\"T_a47e1\">\n",
       "  <thead>\n",
       "    <tr>\n",
       "      <th class=\"blank\" >&nbsp;</th>\n",
       "      <th class=\"blank level0\" >&nbsp;</th>\n",
       "      <th id=\"T_a47e1_level0_col0\" class=\"col_heading level0 col0\" >adventure</th>\n",
       "      <th id=\"T_a47e1_level0_col1\" class=\"col_heading level0 col1\" >chair</th>\n",
       "      <th id=\"T_a47e1_level0_col2\" class=\"col_heading level0 col2\" >present</th>\n",
       "      <th id=\"T_a47e1_level0_col3\" class=\"col_heading level0 col3\" >sportsman</th>\n",
       "    </tr>\n",
       "  </thead>\n",
       "  <tbody>\n",
       "    <tr>\n",
       "      <th id=\"T_a47e1_level0_row0\" class=\"row_heading level0 row0\" rowspan=\"2\">LM</th>\n",
       "      <th id=\"T_a47e1_level1_row0\" class=\"row_heading level1 row0\" >m_bert_cgcoh</th>\n",
       "      <td id=\"T_a47e1_row0_col0\" class=\"data row0 col0\" >nan</td>\n",
       "      <td id=\"T_a47e1_row0_col1\" class=\"data row0 col1\" >-0.464509</td>\n",
       "      <td id=\"T_a47e1_row0_col2\" class=\"data row0 col2\" >nan</td>\n",
       "      <td id=\"T_a47e1_row0_col3\" class=\"data row0 col3\" >nan</td>\n",
       "    </tr>\n",
       "    <tr>\n",
       "      <th id=\"T_a47e1_level1_row1\" class=\"row_heading level1 row1\" >m_bert_gcoh</th>\n",
       "      <td id=\"T_a47e1_row1_col0\" class=\"data row1 col0\" >nan</td>\n",
       "      <td id=\"T_a47e1_row1_col1\" class=\"data row1 col1\" >-0.420549</td>\n",
       "      <td id=\"T_a47e1_row1_col2\" class=\"data row1 col2\" >nan</td>\n",
       "      <td id=\"T_a47e1_row1_col3\" class=\"data row1 col3\" >nan</td>\n",
       "    </tr>\n",
       "    <tr>\n",
       "      <th id=\"T_a47e1_level0_row2\" class=\"row_heading level0 row2\" >graph</th>\n",
       "      <th id=\"T_a47e1_level1_row2\" class=\"row_heading level1 row2\" >L1</th>\n",
       "      <td id=\"T_a47e1_row2_col0\" class=\"data row2 col0\" >nan</td>\n",
       "      <td id=\"T_a47e1_row2_col1\" class=\"data row2 col1\" >0.551089</td>\n",
       "      <td id=\"T_a47e1_row2_col2\" class=\"data row2 col2\" >nan</td>\n",
       "      <td id=\"T_a47e1_row2_col3\" class=\"data row2 col3\" >nan</td>\n",
       "    </tr>\n",
       "  </tbody>\n",
       "</table>\n"
      ],
      "text/plain": [
       "<pandas.io.formats.style.Styler at 0x7f9aad7a6400>"
      ]
     },
     "execution_count": 98,
     "metadata": {},
     "output_type": "execute_result"
    }
   ],
   "source": [
    "style(aplly_to_all_tasks(control, corr_thresh, target=('target', 'education.years'), thresh=0.4))"
   ]
  },
  {
   "cell_type": "markdown",
   "id": "28654e03",
   "metadata": {},
   "source": [
    "### psychiatric variables vs metrics"
   ]
  },
  {
   "cell_type": "code",
   "execution_count": 99,
   "id": "01ed0a27",
   "metadata": {},
   "outputs": [],
   "source": [
    "def thresh_any_task(df, col='p', tasks=TASKS, thresh=0.05):\n",
    "    return df[df.apply(lambda row: any([row[task][col] < thresh for task in tasks]), axis=1)]"
   ]
  },
  {
   "cell_type": "code",
   "execution_count": 100,
   "id": "339e70e6",
   "metadata": {},
   "outputs": [
    {
     "data": {
      "text/html": [
       "<style type=\"text/css\">\n",
       "#T_83b68_row0_col0, #T_83b68_row7_col2 {\n",
       "  background-color: #3d8dc4;\n",
       "  color: #f1f1f1;\n",
       "}\n",
       "#T_83b68_row0_col1, #T_83b68_row2_col4, #T_83b68_row3_col3, #T_83b68_row5_col5, #T_83b68_row5_col7, #T_83b68_row7_col0, #T_83b68_row9_col2, #T_83b68_row9_col6 {\n",
       "  background-color: #08306b;\n",
       "  color: #f1f1f1;\n",
       "}\n",
       "#T_83b68_row0_col2 {\n",
       "  background-color: #1966ad;\n",
       "  color: #f1f1f1;\n",
       "}\n",
       "#T_83b68_row0_col3, #T_83b68_row7_col7, #T_83b68_row8_col1, #T_83b68_row11_col6, #T_83b68_row14_col7 {\n",
       "  background-color: #f5f9fe;\n",
       "  color: #000000;\n",
       "}\n",
       "#T_83b68_row0_col4 {\n",
       "  background-color: #c6dbef;\n",
       "  color: #000000;\n",
       "}\n",
       "#T_83b68_row0_col5, #T_83b68_row10_col7 {\n",
       "  background-color: #9cc9e1;\n",
       "  color: #000000;\n",
       "}\n",
       "#T_83b68_row0_col6 {\n",
       "  background-color: #75b4d8;\n",
       "  color: #000000;\n",
       "}\n",
       "#T_83b68_row0_col7 {\n",
       "  background-color: #0f5aa3;\n",
       "  color: #f1f1f1;\n",
       "}\n",
       "#T_83b68_row1_col0, #T_83b68_row3_col4 {\n",
       "  background-color: #2373b6;\n",
       "  color: #f1f1f1;\n",
       "}\n",
       "#T_83b68_row1_col1 {\n",
       "  background-color: #8abfdd;\n",
       "  color: #000000;\n",
       "}\n",
       "#T_83b68_row1_col2 {\n",
       "  background-color: #f0f6fd;\n",
       "  color: #000000;\n",
       "}\n",
       "#T_83b68_row1_col3, #T_83b68_row2_col3, #T_83b68_row2_col5, #T_83b68_row4_col1, #T_83b68_row5_col3, #T_83b68_row6_col1, #T_83b68_row6_col6, #T_83b68_row6_col7, #T_83b68_row9_col3, #T_83b68_row9_col7, #T_83b68_row10_col1, #T_83b68_row11_col0, #T_83b68_row11_col1, #T_83b68_row11_col2, #T_83b68_row11_col3, #T_83b68_row11_col7, #T_83b68_row12_col1, #T_83b68_row12_col4, #T_83b68_row13_col1, #T_83b68_row14_col1, #T_83b68_row15_col1, #T_83b68_row15_col4 {\n",
       "  background-color: #f7fbff;\n",
       "  color: #000000;\n",
       "}\n",
       "#T_83b68_row1_col4 {\n",
       "  background-color: #c9ddf0;\n",
       "  color: #000000;\n",
       "}\n",
       "#T_83b68_row1_col5, #T_83b68_row6_col4 {\n",
       "  background-color: #afd1e7;\n",
       "  color: #000000;\n",
       "}\n",
       "#T_83b68_row1_col6, #T_83b68_row2_col6 {\n",
       "  background-color: #3282be;\n",
       "  color: #f1f1f1;\n",
       "}\n",
       "#T_83b68_row1_col7 {\n",
       "  background-color: #b8d5ea;\n",
       "  color: #000000;\n",
       "}\n",
       "#T_83b68_row2_col0 {\n",
       "  background-color: #4a98c9;\n",
       "  color: #f1f1f1;\n",
       "}\n",
       "#T_83b68_row2_col1 {\n",
       "  background-color: #105ba4;\n",
       "  color: #f1f1f1;\n",
       "}\n",
       "#T_83b68_row2_col2 {\n",
       "  background-color: #084a91;\n",
       "  color: #f1f1f1;\n",
       "}\n",
       "#T_83b68_row2_col7, #T_83b68_row3_col0, #T_83b68_row11_col4 {\n",
       "  background-color: #b9d6ea;\n",
       "  color: #000000;\n",
       "}\n",
       "#T_83b68_row3_col1, #T_83b68_row4_col3 {\n",
       "  background-color: #f5fafe;\n",
       "  color: #000000;\n",
       "}\n",
       "#T_83b68_row3_col2 {\n",
       "  background-color: #5da5d1;\n",
       "  color: #f1f1f1;\n",
       "}\n",
       "#T_83b68_row3_col5 {\n",
       "  background-color: #e8f1fa;\n",
       "  color: #000000;\n",
       "}\n",
       "#T_83b68_row3_col6, #T_83b68_row8_col2 {\n",
       "  background-color: #4b98ca;\n",
       "  color: #f1f1f1;\n",
       "}\n",
       "#T_83b68_row3_col7 {\n",
       "  background-color: #3a8ac2;\n",
       "  color: #f1f1f1;\n",
       "}\n",
       "#T_83b68_row4_col0 {\n",
       "  background-color: #cee0f2;\n",
       "  color: #000000;\n",
       "}\n",
       "#T_83b68_row4_col2 {\n",
       "  background-color: #e0ecf8;\n",
       "  color: #000000;\n",
       "}\n",
       "#T_83b68_row4_col4, #T_83b68_row7_col3 {\n",
       "  background-color: #c2d9ee;\n",
       "  color: #000000;\n",
       "}\n",
       "#T_83b68_row4_col5 {\n",
       "  background-color: #8fc2de;\n",
       "  color: #000000;\n",
       "}\n",
       "#T_83b68_row4_col6 {\n",
       "  background-color: #c7dcef;\n",
       "  color: #000000;\n",
       "}\n",
       "#T_83b68_row4_col7 {\n",
       "  background-color: #e7f1fa;\n",
       "  color: #000000;\n",
       "}\n",
       "#T_83b68_row5_col0 {\n",
       "  background-color: #bdd7ec;\n",
       "  color: #000000;\n",
       "}\n",
       "#T_83b68_row5_col1, #T_83b68_row7_col1, #T_83b68_row7_col5, #T_83b68_row8_col5 {\n",
       "  background-color: #f6faff;\n",
       "  color: #000000;\n",
       "}\n",
       "#T_83b68_row5_col2, #T_83b68_row12_col7, #T_83b68_row14_col5, #T_83b68_row15_col7 {\n",
       "  background-color: #eef5fc;\n",
       "  color: #000000;\n",
       "}\n",
       "#T_83b68_row5_col4 {\n",
       "  background-color: #99c7e0;\n",
       "  color: #000000;\n",
       "}\n",
       "#T_83b68_row5_col6 {\n",
       "  background-color: #69add5;\n",
       "  color: #f1f1f1;\n",
       "}\n",
       "#T_83b68_row6_col0, #T_83b68_row14_col6 {\n",
       "  background-color: #dceaf6;\n",
       "  color: #000000;\n",
       "}\n",
       "#T_83b68_row6_col2 {\n",
       "  background-color: #d9e8f5;\n",
       "  color: #000000;\n",
       "}\n",
       "#T_83b68_row6_col3, #T_83b68_row12_col0, #T_83b68_row13_col7, #T_83b68_row15_col0 {\n",
       "  background-color: #f3f8fe;\n",
       "  color: #000000;\n",
       "}\n",
       "#T_83b68_row6_col5 {\n",
       "  background-color: #3787c0;\n",
       "  color: #f1f1f1;\n",
       "}\n",
       "#T_83b68_row7_col4 {\n",
       "  background-color: #08488e;\n",
       "  color: #f1f1f1;\n",
       "}\n",
       "#T_83b68_row7_col6 {\n",
       "  background-color: #084b93;\n",
       "  color: #f1f1f1;\n",
       "}\n",
       "#T_83b68_row8_col0 {\n",
       "  background-color: #083c7d;\n",
       "  color: #f1f1f1;\n",
       "}\n",
       "#T_83b68_row8_col3 {\n",
       "  background-color: #66abd4;\n",
       "  color: #f1f1f1;\n",
       "}\n",
       "#T_83b68_row8_col4 {\n",
       "  background-color: #084c95;\n",
       "  color: #f1f1f1;\n",
       "}\n",
       "#T_83b68_row8_col6 {\n",
       "  background-color: #0b559f;\n",
       "  color: #f1f1f1;\n",
       "}\n",
       "#T_83b68_row8_col7, #T_83b68_row13_col0, #T_83b68_row14_col3 {\n",
       "  background-color: #f2f7fd;\n",
       "  color: #000000;\n",
       "}\n",
       "#T_83b68_row9_col0 {\n",
       "  background-color: #0e59a2;\n",
       "  color: #f1f1f1;\n",
       "}\n",
       "#T_83b68_row9_col1 {\n",
       "  background-color: #e1edf8;\n",
       "  color: #000000;\n",
       "}\n",
       "#T_83b68_row9_col4 {\n",
       "  background-color: #4594c7;\n",
       "  color: #f1f1f1;\n",
       "}\n",
       "#T_83b68_row9_col5 {\n",
       "  background-color: #b2d2e8;\n",
       "  color: #000000;\n",
       "}\n",
       "#T_83b68_row10_col0 {\n",
       "  background-color: #ddeaf7;\n",
       "  color: #000000;\n",
       "}\n",
       "#T_83b68_row10_col2 {\n",
       "  background-color: #d3e4f3;\n",
       "  color: #000000;\n",
       "}\n",
       "#T_83b68_row10_col3 {\n",
       "  background-color: #eff6fc;\n",
       "  color: #000000;\n",
       "}\n",
       "#T_83b68_row10_col4 {\n",
       "  background-color: #b0d2e7;\n",
       "  color: #000000;\n",
       "}\n",
       "#T_83b68_row10_col5 {\n",
       "  background-color: #3e8ec4;\n",
       "  color: #f1f1f1;\n",
       "}\n",
       "#T_83b68_row10_col6 {\n",
       "  background-color: #9dcae1;\n",
       "  color: #000000;\n",
       "}\n",
       "#T_83b68_row11_col5 {\n",
       "  background-color: #63a8d3;\n",
       "  color: #f1f1f1;\n",
       "}\n",
       "#T_83b68_row12_col2, #T_83b68_row15_col2 {\n",
       "  background-color: #c1d9ed;\n",
       "  color: #000000;\n",
       "}\n",
       "#T_83b68_row12_col3, #T_83b68_row15_col3 {\n",
       "  background-color: #d0e2f2;\n",
       "  color: #000000;\n",
       "}\n",
       "#T_83b68_row12_col5, #T_83b68_row15_col5 {\n",
       "  background-color: #f4f9fe;\n",
       "  color: #000000;\n",
       "}\n",
       "#T_83b68_row12_col6, #T_83b68_row15_col6 {\n",
       "  background-color: #cde0f1;\n",
       "  color: #000000;\n",
       "}\n",
       "#T_83b68_row13_col2 {\n",
       "  background-color: #c4daee;\n",
       "  color: #000000;\n",
       "}\n",
       "#T_83b68_row13_col3 {\n",
       "  background-color: #d6e6f4;\n",
       "  color: #000000;\n",
       "}\n",
       "#T_83b68_row13_col4 {\n",
       "  background-color: #f1f7fd;\n",
       "  color: #000000;\n",
       "}\n",
       "#T_83b68_row13_col5 {\n",
       "  background-color: #f2f8fd;\n",
       "  color: #000000;\n",
       "}\n",
       "#T_83b68_row13_col6 {\n",
       "  background-color: #d7e6f5;\n",
       "  color: #000000;\n",
       "}\n",
       "#T_83b68_row14_col0 {\n",
       "  background-color: #d1e2f3;\n",
       "  color: #000000;\n",
       "}\n",
       "#T_83b68_row14_col2 {\n",
       "  background-color: #d6e5f4;\n",
       "  color: #000000;\n",
       "}\n",
       "#T_83b68_row14_col4 {\n",
       "  background-color: #eaf2fb;\n",
       "  color: #000000;\n",
       "}\n",
       "</style>\n",
       "<table id=\"T_83b68\">\n",
       "  <thead>\n",
       "    <tr>\n",
       "      <th class=\"index_name level0\" >task</th>\n",
       "      <th id=\"T_83b68_level0_col0\" class=\"col_heading level0 col0\" colspan=\"2\">adventure</th>\n",
       "      <th id=\"T_83b68_level0_col2\" class=\"col_heading level0 col2\" colspan=\"2\">chair</th>\n",
       "      <th id=\"T_83b68_level0_col4\" class=\"col_heading level0 col4\" colspan=\"2\">present</th>\n",
       "      <th id=\"T_83b68_level0_col6\" class=\"col_heading level0 col6\" colspan=\"2\">sportsman</th>\n",
       "    </tr>\n",
       "    <tr>\n",
       "      <th class=\"blank level1\" >&nbsp;</th>\n",
       "      <th id=\"T_83b68_level1_col0\" class=\"col_heading level1 col0\" >t</th>\n",
       "      <th id=\"T_83b68_level1_col1\" class=\"col_heading level1 col1\" >p</th>\n",
       "      <th id=\"T_83b68_level1_col2\" class=\"col_heading level1 col2\" >t</th>\n",
       "      <th id=\"T_83b68_level1_col3\" class=\"col_heading level1 col3\" >p</th>\n",
       "      <th id=\"T_83b68_level1_col4\" class=\"col_heading level1 col4\" >t</th>\n",
       "      <th id=\"T_83b68_level1_col5\" class=\"col_heading level1 col5\" >p</th>\n",
       "      <th id=\"T_83b68_level1_col6\" class=\"col_heading level1 col6\" >t</th>\n",
       "      <th id=\"T_83b68_level1_col7\" class=\"col_heading level1 col7\" >p</th>\n",
       "    </tr>\n",
       "  </thead>\n",
       "  <tbody>\n",
       "    <tr>\n",
       "      <th id=\"T_83b68_level0_row0\" class=\"row_heading level0 row0\" >('syntactic', 'DET')</th>\n",
       "      <td id=\"T_83b68_row0_col0\" class=\"data row0 col0\" >0.075424</td>\n",
       "      <td id=\"T_83b68_row0_col1\" class=\"data row0 col1\" >0.940033</td>\n",
       "      <td id=\"T_83b68_row0_col2\" class=\"data row0 col2\" >2.725536</td>\n",
       "      <td id=\"T_83b68_row0_col3\" class=\"data row0 col3\" >0.008031</td>\n",
       "      <td id=\"T_83b68_row0_col4\" class=\"data row0 col4\" >-1.000563</td>\n",
       "      <td id=\"T_83b68_row0_col5\" class=\"data row0 col5\" >0.320093</td>\n",
       "      <td id=\"T_83b68_row0_col6\" class=\"data row0 col6\" >-0.281669</td>\n",
       "      <td id=\"T_83b68_row0_col7\" class=\"data row0 col7\" >0.778816</td>\n",
       "    </tr>\n",
       "    <tr>\n",
       "      <th id=\"T_83b68_level0_row1\" class=\"row_heading level0 row1\" >('syntactic', 'NOUN')</th>\n",
       "      <td id=\"T_83b68_row1_col0\" class=\"data row1 col0\" >0.848751</td>\n",
       "      <td id=\"T_83b68_row1_col1\" class=\"data row1 col1\" >0.398110</td>\n",
       "      <td id=\"T_83b68_row1_col2\" class=\"data row1 col2\" >-3.572826</td>\n",
       "      <td id=\"T_83b68_row1_col3\" class=\"data row1 col3\" >0.000630</td>\n",
       "      <td id=\"T_83b68_row1_col4\" class=\"data row1 col4\" >-1.110263</td>\n",
       "      <td id=\"T_83b68_row1_col5\" class=\"data row1 col5\" >0.270254</td>\n",
       "      <td id=\"T_83b68_row1_col6\" class=\"data row1 col6\" >1.098043</td>\n",
       "      <td id=\"T_83b68_row1_col7\" class=\"data row1 col7\" >0.274990</td>\n",
       "    </tr>\n",
       "    <tr>\n",
       "      <th id=\"T_83b68_level0_row2\" class=\"row_heading level0 row2\" >('syntactic', 'PART')</th>\n",
       "      <td id=\"T_83b68_row2_col0\" class=\"data row2 col0\" >-0.272681</td>\n",
       "      <td id=\"T_83b68_row2_col1\" class=\"data row2 col1\" >0.785678</td>\n",
       "      <td id=\"T_83b68_row2_col2\" class=\"data row2 col2\" >3.629448</td>\n",
       "      <td id=\"T_83b68_row2_col3\" class=\"data row2 col3\" >0.000524</td>\n",
       "      <td id=\"T_83b68_row2_col4\" class=\"data row2 col4\" >3.406313</td>\n",
       "      <td id=\"T_83b68_row2_col5\" class=\"data row2 col5\" >0.001038</td>\n",
       "      <td id=\"T_83b68_row2_col6\" class=\"data row2 col6\" >1.104376</td>\n",
       "      <td id=\"T_83b68_row2_col7\" class=\"data row2 col7\" >0.272249</td>\n",
       "    </tr>\n",
       "    <tr>\n",
       "      <th id=\"T_83b68_level0_row3\" class=\"row_heading level0 row3\" >('syntactic', 'PRON')</th>\n",
       "      <td id=\"T_83b68_row3_col0\" class=\"data row3 col0\" >-2.719859</td>\n",
       "      <td id=\"T_83b68_row3_col1\" class=\"data row3 col1\" >0.007740</td>\n",
       "      <td id=\"T_83b68_row3_col2\" class=\"data row3 col2\" >0.626337</td>\n",
       "      <td id=\"T_83b68_row3_col3\" class=\"data row3 col3\" >0.533047</td>\n",
       "      <td id=\"T_83b68_row3_col4\" class=\"data row3 col4\" >1.879794</td>\n",
       "      <td id=\"T_83b68_row3_col5\" class=\"data row3 col5\" >0.063823</td>\n",
       "      <td id=\"T_83b68_row3_col6\" class=\"data row3 col6\" >0.512701</td>\n",
       "      <td id=\"T_83b68_row3_col7\" class=\"data row3 col7\" >0.609363</td>\n",
       "    </tr>\n",
       "    <tr>\n",
       "      <th id=\"T_83b68_level0_row4\" class=\"row_heading level0 row4\" >('syntactic', 'max_sent_len')</th>\n",
       "      <td id=\"T_83b68_row4_col0\" class=\"data row4 col0\" >-3.365541</td>\n",
       "      <td id=\"T_83b68_row4_col1\" class=\"data row4 col1\" >0.001096</td>\n",
       "      <td id=\"T_83b68_row4_col2\" class=\"data row4 col2\" >-2.934617</td>\n",
       "      <td id=\"T_83b68_row4_col3\" class=\"data row4 col3\" >0.004462</td>\n",
       "      <td id=\"T_83b68_row4_col4\" class=\"data row4 col4\" >-0.946908</td>\n",
       "      <td id=\"T_83b68_row4_col5\" class=\"data row4 col5\" >0.346573</td>\n",
       "      <td id=\"T_83b68_row4_col6\" class=\"data row4 col6\" >-1.798326</td>\n",
       "      <td id=\"T_83b68_row4_col7\" class=\"data row4 col7\" >0.075335</td>\n",
       "    </tr>\n",
       "    <tr>\n",
       "      <th id=\"T_83b68_level0_row5\" class=\"row_heading level0 row5\" >('syntactic', 'mean_sent_len')</th>\n",
       "      <td id=\"T_83b68_row5_col0\" class=\"data row5 col0\" >-2.794059</td>\n",
       "      <td id=\"T_83b68_row5_col1\" class=\"data row5 col1\" >0.006273</td>\n",
       "      <td id=\"T_83b68_row5_col2\" class=\"data row5 col2\" >-3.511570</td>\n",
       "      <td id=\"T_83b68_row5_col3\" class=\"data row5 col3\" >0.000768</td>\n",
       "      <td id=\"T_83b68_row5_col4\" class=\"data row5 col4\" >-0.205272</td>\n",
       "      <td id=\"T_83b68_row5_col5\" class=\"data row5 col5\" >0.837887</td>\n",
       "      <td id=\"T_83b68_row5_col6\" class=\"data row5 col6\" >-0.087092</td>\n",
       "      <td id=\"T_83b68_row5_col7\" class=\"data row5 col7\" >0.930783</td>\n",
       "    </tr>\n",
       "    <tr>\n",
       "      <th id=\"T_83b68_level0_row6\" class=\"row_heading level0 row6\" >('syntactic', 'n_sents')</th>\n",
       "      <td id=\"T_83b68_row6_col0\" class=\"data row6 col0\" >-3.936237</td>\n",
       "      <td id=\"T_83b68_row6_col1\" class=\"data row6 col1\" >0.000156</td>\n",
       "      <td id=\"T_83b68_row6_col2\" class=\"data row6 col2\" >-2.618683</td>\n",
       "      <td id=\"T_83b68_row6_col3\" class=\"data row6 col3\" >0.010728</td>\n",
       "      <td id=\"T_83b68_row6_col4\" class=\"data row6 col4\" >-0.585333</td>\n",
       "      <td id=\"T_83b68_row6_col5\" class=\"data row6 col5\" >0.559992</td>\n",
       "      <td id=\"T_83b68_row6_col6\" class=\"data row6 col6\" >-3.406976</td>\n",
       "      <td id=\"T_83b68_row6_col7\" class=\"data row6 col7\" >0.000968</td>\n",
       "    </tr>\n",
       "    <tr>\n",
       "      <th id=\"T_83b68_level0_row7\" class=\"row_heading level0 row7\" >('LM', 'm_bert_cgcoh')</th>\n",
       "      <td id=\"T_83b68_row7_col0\" class=\"data row7 col0\" >2.887688</td>\n",
       "      <td id=\"T_83b68_row7_col1\" class=\"data row7 col1\" >0.004785</td>\n",
       "      <td id=\"T_83b68_row7_col2\" class=\"data row7 col2\" >1.487326</td>\n",
       "      <td id=\"T_83b68_row7_col3\" class=\"data row7 col3\" >0.141235</td>\n",
       "      <td id=\"T_83b68_row7_col4\" class=\"data row7 col4\" >2.872751</td>\n",
       "      <td id=\"T_83b68_row7_col5\" class=\"data row7 col5\" >0.005224</td>\n",
       "      <td id=\"T_83b68_row7_col6\" class=\"data row7 col6\" >2.500458</td>\n",
       "      <td id=\"T_83b68_row7_col7\" class=\"data row7 col7\" >0.014154</td>\n",
       "    </tr>\n",
       "    <tr>\n",
       "      <th id=\"T_83b68_level0_row8\" class=\"row_heading level0 row8\" >('LM', 'm_bert_gcoh')</th>\n",
       "      <td id=\"T_83b68_row8_col0\" class=\"data row8 col0\" >2.509349</td>\n",
       "      <td id=\"T_83b68_row8_col1\" class=\"data row8 col1\" >0.013752</td>\n",
       "      <td id=\"T_83b68_row8_col2\" class=\"data row8 col2\" >1.103105</td>\n",
       "      <td id=\"T_83b68_row8_col3\" class=\"data row8 col3\" >0.273605</td>\n",
       "      <td id=\"T_83b68_row8_col4\" class=\"data row8 col4\" >2.783318</td>\n",
       "      <td id=\"T_83b68_row8_col5\" class=\"data row8 col5\" >0.006729</td>\n",
       "      <td id=\"T_83b68_row8_col6\" class=\"data row8 col6\" >2.228622</td>\n",
       "      <td id=\"T_83b68_row8_col7\" class=\"data row8 col7\" >0.028249</td>\n",
       "    </tr>\n",
       "    <tr>\n",
       "      <th id=\"T_83b68_level0_row9\" class=\"row_heading level0 row9\" >('lexical', 'LTR')</th>\n",
       "      <td id=\"T_83b68_row9_col0\" class=\"data row9 col0\" >1.640402</td>\n",
       "      <td id=\"T_83b68_row9_col1\" class=\"data row9 col1\" >0.104161</td>\n",
       "      <td id=\"T_83b68_row9_col2\" class=\"data row9 col2\" >4.474563</td>\n",
       "      <td id=\"T_83b68_row9_col3\" class=\"data row9 col3\" >0.000028</td>\n",
       "      <td id=\"T_83b68_row9_col4\" class=\"data row9 col4\" >1.125208</td>\n",
       "      <td id=\"T_83b68_row9_col5\" class=\"data row9 col5\" >0.263908</td>\n",
       "      <td id=\"T_83b68_row9_col6\" class=\"data row9 col6\" >3.175215</td>\n",
       "      <td id=\"T_83b68_row9_col7\" class=\"data row9 col7\" >0.002025</td>\n",
       "    </tr>\n",
       "    <tr>\n",
       "      <th id=\"T_83b68_level0_row10\" class=\"row_heading level0 row10\" >('lexical', 'MALTR')</th>\n",
       "      <td id=\"T_83b68_row10_col0\" class=\"data row10 col0\" >-3.989994</td>\n",
       "      <td id=\"T_83b68_row10_col1\" class=\"data row10 col1\" >0.000128</td>\n",
       "      <td id=\"T_83b68_row10_col2\" class=\"data row10 col2\" >-2.359746</td>\n",
       "      <td id=\"T_83b68_row10_col3\" class=\"data row10 col3\" >0.020963</td>\n",
       "      <td id=\"T_83b68_row10_col4\" class=\"data row10 col4\" >-0.620588</td>\n",
       "      <td id=\"T_83b68_row10_col5\" class=\"data row10 col5\" >0.536657</td>\n",
       "      <td id=\"T_83b68_row10_col6\" class=\"data row10 col6\" >-0.929417</td>\n",
       "      <td id=\"T_83b68_row10_col7\" class=\"data row10 col7\" >0.355054</td>\n",
       "    </tr>\n",
       "    <tr>\n",
       "      <th id=\"T_83b68_level0_row11\" class=\"row_heading level0 row11\" >('lexical', 'n_words')</th>\n",
       "      <td id=\"T_83b68_row11_col0\" class=\"data row11 col0\" >-5.014119</td>\n",
       "      <td id=\"T_83b68_row11_col1\" class=\"data row11 col1\" >0.000002</td>\n",
       "      <td id=\"T_83b68_row11_col2\" class=\"data row11 col2\" >-3.882358</td>\n",
       "      <td id=\"T_83b68_row11_col3\" class=\"data row11 col3\" >0.000225</td>\n",
       "      <td id=\"T_83b68_row11_col4\" class=\"data row11 col4\" >-0.773480</td>\n",
       "      <td id=\"T_83b68_row11_col5\" class=\"data row11 col5\" >0.441547</td>\n",
       "      <td id=\"T_83b68_row11_col6\" class=\"data row11 col6\" >-3.317864</td>\n",
       "      <td id=\"T_83b68_row11_col7\" class=\"data row11 col7\" >0.001291</td>\n",
       "    </tr>\n",
       "    <tr>\n",
       "      <th id=\"T_83b68_level0_row12\" class=\"row_heading level0 row12\" >('graph', 'LCC')</th>\n",
       "      <td id=\"T_83b68_row12_col0\" class=\"data row12 col0\" >-4.852761</td>\n",
       "      <td id=\"T_83b68_row12_col1\" class=\"data row12 col1\" >0.000005</td>\n",
       "      <td id=\"T_83b68_row12_col2\" class=\"data row12 col2\" >-1.638728</td>\n",
       "      <td id=\"T_83b68_row12_col3\" class=\"data row12 col3\" >0.105573</td>\n",
       "      <td id=\"T_83b68_row12_col4\" class=\"data row12 col4\" >-2.494897</td>\n",
       "      <td id=\"T_83b68_row12_col5\" class=\"data row12 col5\" >0.014685</td>\n",
       "      <td id=\"T_83b68_row12_col6\" class=\"data row12 col6\" >-2.010750</td>\n",
       "      <td id=\"T_83b68_row12_col7\" class=\"data row12 col7\" >0.047217</td>\n",
       "    </tr>\n",
       "    <tr>\n",
       "      <th id=\"T_83b68_level0_row13\" class=\"row_heading level0 row13\" >('graph', 'LSC')</th>\n",
       "      <td id=\"T_83b68_row13_col0\" class=\"data row13 col0\" >-4.778027</td>\n",
       "      <td id=\"T_83b68_row13_col1\" class=\"data row13 col1\" >0.000006</td>\n",
       "      <td id=\"T_83b68_row13_col2\" class=\"data row13 col2\" >-1.731697</td>\n",
       "      <td id=\"T_83b68_row13_col3\" class=\"data row13 col3\" >0.087552</td>\n",
       "      <td id=\"T_83b68_row13_col4\" class=\"data row13 col4\" >-2.308911</td>\n",
       "      <td id=\"T_83b68_row13_col5\" class=\"data row13 col5\" >0.023563</td>\n",
       "      <td id=\"T_83b68_row13_col6\" class=\"data row13 col6\" >-2.347037</td>\n",
       "      <td id=\"T_83b68_row13_col7\" class=\"data row13 col7\" >0.021022</td>\n",
       "    </tr>\n",
       "    <tr>\n",
       "      <th id=\"T_83b68_level0_row14\" class=\"row_heading level0 row14\" >('graph', 'number_of_edges')</th>\n",
       "      <td id=\"T_83b68_row14_col0\" class=\"data row14 col0\" >-3.494622</td>\n",
       "      <td id=\"T_83b68_row14_col1\" class=\"data row14 col1\" >0.000717</td>\n",
       "      <td id=\"T_83b68_row14_col2\" class=\"data row14 col2\" >-2.468936</td>\n",
       "      <td id=\"T_83b68_row14_col3\" class=\"data row14 col3\" >0.015892</td>\n",
       "      <td id=\"T_83b68_row14_col4\" class=\"data row14 col4\" >-2.086907</td>\n",
       "      <td id=\"T_83b68_row14_col5\" class=\"data row14 col5\" >0.040121</td>\n",
       "      <td id=\"T_83b68_row14_col6\" class=\"data row14 col6\" >-2.513700</td>\n",
       "      <td id=\"T_83b68_row14_col7\" class=\"data row14 col7\" >0.013648</td>\n",
       "    </tr>\n",
       "    <tr>\n",
       "      <th id=\"T_83b68_level0_row15\" class=\"row_heading level0 row15\" >('graph', 'number_of_nodes')</th>\n",
       "      <td id=\"T_83b68_row15_col0\" class=\"data row15 col0\" >-4.852761</td>\n",
       "      <td id=\"T_83b68_row15_col1\" class=\"data row15 col1\" >0.000005</td>\n",
       "      <td id=\"T_83b68_row15_col2\" class=\"data row15 col2\" >-1.638728</td>\n",
       "      <td id=\"T_83b68_row15_col3\" class=\"data row15 col3\" >0.105573</td>\n",
       "      <td id=\"T_83b68_row15_col4\" class=\"data row15 col4\" >-2.494897</td>\n",
       "      <td id=\"T_83b68_row15_col5\" class=\"data row15 col5\" >0.014685</td>\n",
       "      <td id=\"T_83b68_row15_col6\" class=\"data row15 col6\" >-2.010750</td>\n",
       "      <td id=\"T_83b68_row15_col7\" class=\"data row15 col7\" >0.047217</td>\n",
       "    </tr>\n",
       "  </tbody>\n",
       "</table>\n"
      ],
      "text/plain": [
       "<pandas.io.formats.style.Styler at 0x7f9aad0e7700>"
      ]
     },
     "execution_count": 100,
     "metadata": {},
     "output_type": "execute_result"
    }
   ],
   "source": [
    "res = aplly_to_all_tasks(merge_df, ttest, test_columns=cols_tasks, group=('target', 'diagnosis.group'))\n",
    "style(thresh_any_task(res, thresh=0.01))"
   ]
  },
  {
   "cell_type": "code",
   "execution_count": 101,
   "id": "036e5815",
   "metadata": {},
   "outputs": [],
   "source": [
    "def ttest_select(df, test_two_groups, colname, cols_tasks=cols_tasks):\n",
    "    groups = df[df[('target', colname)].isin(test_two_groups)]\n",
    "    s_t, res_t = display_group_test(groups, cols_tasks, ('target', colname), test=stats.ttest_ind, stat_name='t', alpha=a)\n",
    "    return res_t['t']"
   ]
  },
  {
   "cell_type": "code",
   "execution_count": 102,
   "id": "b6c38206",
   "metadata": {},
   "outputs": [],
   "source": [
    "chair = task_data(merge_df, 'chair')"
   ]
  },
  {
   "cell_type": "code",
   "execution_count": 103,
   "id": "f0592c45",
   "metadata": {},
   "outputs": [
    {
     "data": {
      "text/plain": [
       "(syntactic, ADJ)              0.490088\n",
       "(syntactic, ADV)             -0.294076\n",
       "(syntactic, AUX)             -0.475141\n",
       "(syntactic, CCONJ)             0.96283\n",
       "(syntactic, DET)             -0.003997\n",
       "(syntactic, NOUN)             1.159196\n",
       "(syntactic, PART)            -2.935745\n",
       "(syntactic, PRON)             0.398696\n",
       "(syntactic, PROPN)           -1.389632\n",
       "(syntactic, SCONJ)           -0.307485\n",
       "(syntactic, VERB)             0.272148\n",
       "(syntactic, max_sent_len)     2.101802\n",
       "(syntactic, mean_sent_len)    3.331125\n",
       "(syntactic, min_sent_len)     0.793557\n",
       "(syntactic, n_sents)           3.35693\n",
       "(syntactic, std_sent_len)     0.644918\n",
       "(LM, m_bert_cgcoh)           -0.431062\n",
       "(LM, m_bert_gcoh)             0.102419\n",
       "(LM, m_bert_lcoh)             0.765065\n",
       "(LM, m_bert_scoh)             0.653857\n",
       "(LM, m_cgcoh)                 1.051026\n",
       "(LM, m_gcoh)                  1.321195\n",
       "(LM, m_lcoh)                  1.510666\n",
       "(LM, m_raw_cgcoh)             0.077593\n",
       "(LM, m_raw_gcoh)              1.058816\n",
       "(LM, m_raw_lcoh)              1.457815\n",
       "(LM, m_raw_scoh)              1.745014\n",
       "(LM, m_scoh)                  1.739023\n",
       "(LM, m_sporb)                 2.385668\n",
       "(lexical, LTR)               -5.328481\n",
       "(lexical, MALTR)              2.189519\n",
       "(lexical, n_words)            4.669265\n",
       "(graph, L1)                    1.50373\n",
       "(graph, L2)                    -0.3892\n",
       "(graph, L3)                  -1.674002\n",
       "(graph, LCC)                  3.047995\n",
       "(graph, LSC)                  3.232463\n",
       "(graph, PE)                   1.935428\n",
       "(graph, degree_average)       0.398409\n",
       "(graph, degree_std)          -1.160631\n",
       "(graph, number_of_edges)      3.526261\n",
       "(graph, number_of_nodes)      3.047995\n",
       "Name: t, dtype: object"
      ]
     },
     "execution_count": 103,
     "metadata": {},
     "output_type": "execute_result"
    }
   ],
   "source": [
    "ttest_select(chair, ('sz', 'control_psy'), 'diagnosis.type')"
   ]
  },
  {
   "cell_type": "code",
   "execution_count": null,
   "id": "05d8fbb2",
   "metadata": {},
   "outputs": [],
   "source": [
    "test_two_groups = ('sz', 'control_psy')\n",
    "groups = merge_df[merge_df[('target', 'target','diagnosis.type')].isin(test_two_groups)]\n",
    "res = aplly_to_all_tasks(groups, ttest, test_columns=cols_tasks, group=('target', 'diagnosis.type'))\n",
    "style(thresh_any_task(res, thresh=0.005))"
   ]
  },
  {
   "cell_type": "code",
   "execution_count": null,
   "id": "54590b16",
   "metadata": {},
   "outputs": [],
   "source": [
    "test_two_groups = ('sz', 'control')\n",
    "groups = merge_df[merge_df[('target', 'target','diagnosis.type')].isin(test_two_groups)]\n",
    "res = aplly_to_all_tasks(groups, ttest, test_columns=cols_tasks, group=('target', 'diagnosis.type'))\n",
    "style(thresh_any_task(res, thresh=0.005))"
   ]
  },
  {
   "cell_type": "code",
   "execution_count": null,
   "id": "ae42691f",
   "metadata": {},
   "outputs": [],
   "source": [
    "test_two_groups = ('dep', 'control_psy')\n",
    "groups = merge_df[merge_df[('target', 'target','diagnosis.type')].isin(test_two_groups)]\n",
    "res = aplly_to_all_tasks(groups, ttest, test_columns=cols_tasks, group=('target', 'diagnosis.type'))\n",
    "style(thresh_any_task(res, thresh=0.005))"
   ]
  },
  {
   "cell_type": "code",
   "execution_count": null,
   "id": "00692c66",
   "metadata": {},
   "outputs": [],
   "source": [
    "test_two_groups = ('dep', 'sz')\n",
    "groups = merge_df[merge_df[('target', 'target','diagnosis.type')].isin(test_two_groups)]\n",
    "res = aplly_to_all_tasks(groups, ttest, test_columns=cols_tasks, group=('target', 'diagnosis.type'))\n",
    "style(thresh_any_task(res, thresh=0.005))"
   ]
  },
  {
   "cell_type": "markdown",
   "id": "7db0bbc6",
   "metadata": {},
   "source": [
    "### Corr"
   ]
  },
  {
   "cell_type": "code",
   "execution_count": 108,
   "id": "b08679b5",
   "metadata": {},
   "outputs": [
    {
     "data": {
      "text/html": [
       "<style type=\"text/css\">\n",
       "#T_44537_row0_col0, #T_44537_row0_col1, #T_44537_row0_col3, #T_44537_row1_col0, #T_44537_row1_col1, #T_44537_row1_col3, #T_44537_row2_col0, #T_44537_row2_col1, #T_44537_row2_col3, #T_44537_row3_col0, #T_44537_row3_col2, #T_44537_row3_col3, #T_44537_row6_col0, #T_44537_row6_col1, #T_44537_row6_col2, #T_44537_row7_col0, #T_44537_row7_col1, #T_44537_row7_col3, #T_44537_row10_col0, #T_44537_row11_col2, #T_44537_row11_col3, #T_44537_row13_col0, #T_44537_row13_col1, #T_44537_row13_col3, #T_44537_row14_col0, #T_44537_row14_col2, #T_44537_row14_col3, #T_44537_row15_col0, #T_44537_row15_col3, #T_44537_row16_col0, #T_44537_row16_col1, #T_44537_row16_col3, #T_44537_row17_col0, #T_44537_row17_col3, #T_44537_row18_col2, #T_44537_row19_col0, #T_44537_row19_col1, #T_44537_row19_col3 {\n",
       "  background-color: #000000;\n",
       "  color: #f1f1f1;\n",
       "  color: white;\n",
       "  background-color: white;\n",
       "}\n",
       "#T_44537_row0_col2, #T_44537_row10_col3, #T_44537_row15_col1, #T_44537_row18_col0 {\n",
       "  background-color: #08306b;\n",
       "  color: #f1f1f1;\n",
       "}\n",
       "#T_44537_row1_col2 {\n",
       "  background-color: #083a7a;\n",
       "  color: #f1f1f1;\n",
       "}\n",
       "#T_44537_row2_col2 {\n",
       "  background-color: #c1d9ed;\n",
       "  color: #000000;\n",
       "}\n",
       "#T_44537_row3_col1 {\n",
       "  background-color: #08468b;\n",
       "  color: #f1f1f1;\n",
       "}\n",
       "#T_44537_row4_col0, #T_44537_row9_col0 {\n",
       "  background-color: #4a98c9;\n",
       "  color: #f1f1f1;\n",
       "}\n",
       "#T_44537_row4_col1, #T_44537_row9_col1 {\n",
       "  background-color: #e7f0fa;\n",
       "  color: #000000;\n",
       "}\n",
       "#T_44537_row4_col2, #T_44537_row9_col2, #T_44537_row11_col0, #T_44537_row11_col1, #T_44537_row12_col3 {\n",
       "  background-color: #f7fbff;\n",
       "  color: #000000;\n",
       "}\n",
       "#T_44537_row4_col3, #T_44537_row8_col1, #T_44537_row9_col3 {\n",
       "  background-color: #e9f2fa;\n",
       "  color: #000000;\n",
       "}\n",
       "#T_44537_row5_col0, #T_44537_row12_col0 {\n",
       "  background-color: #b4d3e9;\n",
       "  color: #000000;\n",
       "}\n",
       "#T_44537_row5_col1 {\n",
       "  background-color: #deebf7;\n",
       "  color: #000000;\n",
       "}\n",
       "#T_44537_row5_col2 {\n",
       "  background-color: #f5fafe;\n",
       "  color: #000000;\n",
       "}\n",
       "#T_44537_row5_col3 {\n",
       "  background-color: #edf4fc;\n",
       "  color: #000000;\n",
       "}\n",
       "#T_44537_row6_col3 {\n",
       "  background-color: #e0ecf8;\n",
       "  color: #000000;\n",
       "}\n",
       "#T_44537_row7_col2 {\n",
       "  background-color: #b0d2e7;\n",
       "  color: #000000;\n",
       "}\n",
       "#T_44537_row8_col0 {\n",
       "  background-color: #083573;\n",
       "  color: #f1f1f1;\n",
       "}\n",
       "#T_44537_row8_col2 {\n",
       "  background-color: #f2f8fd;\n",
       "  color: #000000;\n",
       "}\n",
       "#T_44537_row8_col3 {\n",
       "  background-color: #f1f7fd;\n",
       "  color: #000000;\n",
       "}\n",
       "#T_44537_row10_col1 {\n",
       "  background-color: #09529d;\n",
       "  color: #f1f1f1;\n",
       "}\n",
       "#T_44537_row10_col2 {\n",
       "  background-color: #083c7d;\n",
       "  color: #f1f1f1;\n",
       "}\n",
       "#T_44537_row12_col1 {\n",
       "  background-color: #eef5fc;\n",
       "  color: #000000;\n",
       "}\n",
       "#T_44537_row12_col2 {\n",
       "  background-color: #cadef0;\n",
       "  color: #000000;\n",
       "}\n",
       "#T_44537_row13_col2 {\n",
       "  background-color: #b3d3e8;\n",
       "  color: #000000;\n",
       "}\n",
       "#T_44537_row14_col1 {\n",
       "  background-color: #f2f7fd;\n",
       "  color: #000000;\n",
       "}\n",
       "#T_44537_row15_col2 {\n",
       "  background-color: #0e58a2;\n",
       "  color: #f1f1f1;\n",
       "}\n",
       "#T_44537_row16_col2 {\n",
       "  background-color: #dae8f6;\n",
       "  color: #000000;\n",
       "}\n",
       "#T_44537_row17_col1 {\n",
       "  background-color: #e4eff9;\n",
       "  color: #000000;\n",
       "}\n",
       "#T_44537_row17_col2 {\n",
       "  background-color: #b7d4ea;\n",
       "  color: #000000;\n",
       "}\n",
       "#T_44537_row18_col1 {\n",
       "  background-color: #dfebf7;\n",
       "  color: #000000;\n",
       "}\n",
       "#T_44537_row18_col3 {\n",
       "  background-color: #eff6fc;\n",
       "  color: #000000;\n",
       "}\n",
       "#T_44537_row19_col2 {\n",
       "  background-color: #cee0f2;\n",
       "  color: #000000;\n",
       "}\n",
       "</style>\n",
       "<table id=\"T_44537\">\n",
       "  <thead>\n",
       "    <tr>\n",
       "      <th class=\"blank\" >&nbsp;</th>\n",
       "      <th class=\"blank level0\" >&nbsp;</th>\n",
       "      <th id=\"T_44537_level0_col0\" class=\"col_heading level0 col0\" >adventure</th>\n",
       "      <th id=\"T_44537_level0_col1\" class=\"col_heading level0 col1\" >chair</th>\n",
       "      <th id=\"T_44537_level0_col2\" class=\"col_heading level0 col2\" >present</th>\n",
       "      <th id=\"T_44537_level0_col3\" class=\"col_heading level0 col3\" >sportsman</th>\n",
       "    </tr>\n",
       "  </thead>\n",
       "  <tbody>\n",
       "    <tr>\n",
       "      <th id=\"T_44537_level0_row0\" class=\"row_heading level0 row0\" rowspan=\"3\">LM</th>\n",
       "      <th id=\"T_44537_level1_row0\" class=\"row_heading level1 row0\" >m_bert_cgcoh</th>\n",
       "      <td id=\"T_44537_row0_col0\" class=\"data row0 col0\" >nan</td>\n",
       "      <td id=\"T_44537_row0_col1\" class=\"data row0 col1\" >nan</td>\n",
       "      <td id=\"T_44537_row0_col2\" class=\"data row0 col2\" >0.489187</td>\n",
       "      <td id=\"T_44537_row0_col3\" class=\"data row0 col3\" >nan</td>\n",
       "    </tr>\n",
       "    <tr>\n",
       "      <th id=\"T_44537_level1_row1\" class=\"row_heading level1 row1\" >m_bert_gcoh</th>\n",
       "      <td id=\"T_44537_row1_col0\" class=\"data row1 col0\" >nan</td>\n",
       "      <td id=\"T_44537_row1_col1\" class=\"data row1 col1\" >nan</td>\n",
       "      <td id=\"T_44537_row1_col2\" class=\"data row1 col2\" >0.441756</td>\n",
       "      <td id=\"T_44537_row1_col3\" class=\"data row1 col3\" >nan</td>\n",
       "    </tr>\n",
       "    <tr>\n",
       "      <th id=\"T_44537_level1_row2\" class=\"row_heading level1 row2\" >m_raw_scoh</th>\n",
       "      <td id=\"T_44537_row2_col0\" class=\"data row2 col0\" >nan</td>\n",
       "      <td id=\"T_44537_row2_col1\" class=\"data row2 col1\" >nan</td>\n",
       "      <td id=\"T_44537_row2_col2\" class=\"data row2 col2\" >-0.365200</td>\n",
       "      <td id=\"T_44537_row2_col3\" class=\"data row2 col3\" >nan</td>\n",
       "    </tr>\n",
       "    <tr>\n",
       "      <th id=\"T_44537_level0_row3\" class=\"row_heading level0 row3\" rowspan=\"7\">graph</th>\n",
       "      <th id=\"T_44537_level1_row3\" class=\"row_heading level1 row3\" >L3</th>\n",
       "      <td id=\"T_44537_row3_col0\" class=\"data row3 col0\" >nan</td>\n",
       "      <td id=\"T_44537_row3_col1\" class=\"data row3 col1\" >0.454614</td>\n",
       "      <td id=\"T_44537_row3_col2\" class=\"data row3 col2\" >nan</td>\n",
       "      <td id=\"T_44537_row3_col3\" class=\"data row3 col3\" >nan</td>\n",
       "    </tr>\n",
       "    <tr>\n",
       "      <th id=\"T_44537_level1_row4\" class=\"row_heading level1 row4\" >LCC</th>\n",
       "      <td id=\"T_44537_row4_col0\" class=\"data row4 col0\" >-0.355855</td>\n",
       "      <td id=\"T_44537_row4_col1\" class=\"data row4 col1\" >-0.387946</td>\n",
       "      <td id=\"T_44537_row4_col2\" class=\"data row4 col2\" >-0.677042</td>\n",
       "      <td id=\"T_44537_row4_col3\" class=\"data row4 col3\" >-0.366950</td>\n",
       "    </tr>\n",
       "    <tr>\n",
       "      <th id=\"T_44537_level1_row5\" class=\"row_heading level1 row5\" >LSC</th>\n",
       "      <td id=\"T_44537_row5_col0\" class=\"data row5 col0\" >-0.383476</td>\n",
       "      <td id=\"T_44537_row5_col1\" class=\"data row5 col1\" >-0.341694</td>\n",
       "      <td id=\"T_44537_row5_col2\" class=\"data row5 col2\" >-0.666060</td>\n",
       "      <td id=\"T_44537_row5_col3\" class=\"data row5 col3\" >-0.385525</td>\n",
       "    </tr>\n",
       "    <tr>\n",
       "      <th id=\"T_44537_level1_row6\" class=\"row_heading level1 row6\" >PE</th>\n",
       "      <td id=\"T_44537_row6_col0\" class=\"data row6 col0\" >nan</td>\n",
       "      <td id=\"T_44537_row6_col1\" class=\"data row6 col1\" >nan</td>\n",
       "      <td id=\"T_44537_row6_col2\" class=\"data row6 col2\" >nan</td>\n",
       "      <td id=\"T_44537_row6_col3\" class=\"data row6 col3\" >-0.331801</td>\n",
       "    </tr>\n",
       "    <tr>\n",
       "      <th id=\"T_44537_level1_row7\" class=\"row_heading level1 row7\" >degree_std</th>\n",
       "      <td id=\"T_44537_row7_col0\" class=\"data row7 col0\" >nan</td>\n",
       "      <td id=\"T_44537_row7_col1\" class=\"data row7 col1\" >nan</td>\n",
       "      <td id=\"T_44537_row7_col2\" class=\"data row7 col2\" >-0.305513</td>\n",
       "      <td id=\"T_44537_row7_col3\" class=\"data row7 col3\" >nan</td>\n",
       "    </tr>\n",
       "    <tr>\n",
       "      <th id=\"T_44537_level1_row8\" class=\"row_heading level1 row8\" >number_of_edges</th>\n",
       "      <td id=\"T_44537_row8_col0\" class=\"data row8 col0\" >-0.319894</td>\n",
       "      <td id=\"T_44537_row8_col1\" class=\"data row8 col1\" >-0.398340</td>\n",
       "      <td id=\"T_44537_row8_col2\" class=\"data row8 col2\" >-0.645690</td>\n",
       "      <td id=\"T_44537_row8_col3\" class=\"data row8 col3\" >-0.399329</td>\n",
       "    </tr>\n",
       "    <tr>\n",
       "      <th id=\"T_44537_level1_row9\" class=\"row_heading level1 row9\" >number_of_nodes</th>\n",
       "      <td id=\"T_44537_row9_col0\" class=\"data row9 col0\" >-0.355855</td>\n",
       "      <td id=\"T_44537_row9_col1\" class=\"data row9 col1\" >-0.387946</td>\n",
       "      <td id=\"T_44537_row9_col2\" class=\"data row9 col2\" >-0.677042</td>\n",
       "      <td id=\"T_44537_row9_col3\" class=\"data row9 col3\" >-0.366950</td>\n",
       "    </tr>\n",
       "    <tr>\n",
       "      <th id=\"T_44537_level0_row10\" class=\"row_heading level0 row10\" rowspan=\"3\">lexical</th>\n",
       "      <th id=\"T_44537_level1_row10\" class=\"row_heading level1 row10\" >LTR</th>\n",
       "      <td id=\"T_44537_row10_col0\" class=\"data row10 col0\" >nan</td>\n",
       "      <td id=\"T_44537_row10_col1\" class=\"data row10 col1\" >0.407899</td>\n",
       "      <td id=\"T_44537_row10_col2\" class=\"data row10 col2\" >0.430202</td>\n",
       "      <td id=\"T_44537_row10_col3\" class=\"data row10 col3\" >0.421649</td>\n",
       "    </tr>\n",
       "    <tr>\n",
       "      <th id=\"T_44537_level1_row11\" class=\"row_heading level1 row11\" >MALTR</th>\n",
       "      <td id=\"T_44537_row11_col0\" class=\"data row11 col0\" >-0.412384</td>\n",
       "      <td id=\"T_44537_row11_col1\" class=\"data row11 col1\" >-0.470926</td>\n",
       "      <td id=\"T_44537_row11_col2\" class=\"data row11 col2\" >nan</td>\n",
       "      <td id=\"T_44537_row11_col3\" class=\"data row11 col3\" >nan</td>\n",
       "    </tr>\n",
       "    <tr>\n",
       "      <th id=\"T_44537_level1_row12\" class=\"row_heading level1 row12\" >n_words</th>\n",
       "      <td id=\"T_44537_row12_col0\" class=\"data row12 col0\" >-0.383568</td>\n",
       "      <td id=\"T_44537_row12_col1\" class=\"data row12 col1\" >-0.424044</td>\n",
       "      <td id=\"T_44537_row12_col2\" class=\"data row12 col2\" >-0.410212</td>\n",
       "      <td id=\"T_44537_row12_col3\" class=\"data row12 col3\" >-0.428977</td>\n",
       "    </tr>\n",
       "    <tr>\n",
       "      <th id=\"T_44537_level0_row13\" class=\"row_heading level0 row13\" rowspan=\"7\">syntactic</th>\n",
       "      <th id=\"T_44537_level1_row13\" class=\"row_heading level1 row13\" >DET</th>\n",
       "      <td id=\"T_44537_row13_col0\" class=\"data row13 col0\" >nan</td>\n",
       "      <td id=\"T_44537_row13_col1\" class=\"data row13 col1\" >nan</td>\n",
       "      <td id=\"T_44537_row13_col2\" class=\"data row13 col2\" >-0.314895</td>\n",
       "      <td id=\"T_44537_row13_col3\" class=\"data row13 col3\" >nan</td>\n",
       "    </tr>\n",
       "    <tr>\n",
       "      <th id=\"T_44537_level1_row14\" class=\"row_heading level1 row14\" >NOUN</th>\n",
       "      <td id=\"T_44537_row14_col0\" class=\"data row14 col0\" >nan</td>\n",
       "      <td id=\"T_44537_row14_col1\" class=\"data row14 col1\" >-0.439948</td>\n",
       "      <td id=\"T_44537_row14_col2\" class=\"data row14 col2\" >nan</td>\n",
       "      <td id=\"T_44537_row14_col3\" class=\"data row14 col3\" >nan</td>\n",
       "    </tr>\n",
       "    <tr>\n",
       "      <th id=\"T_44537_level1_row15\" class=\"row_heading level1 row15\" >PART</th>\n",
       "      <td id=\"T_44537_row15_col0\" class=\"data row15 col0\" >nan</td>\n",
       "      <td id=\"T_44537_row15_col1\" class=\"data row15 col1\" >0.539613</td>\n",
       "      <td id=\"T_44537_row15_col2\" class=\"data row15 col2\" >0.310151</td>\n",
       "      <td id=\"T_44537_row15_col3\" class=\"data row15 col3\" >nan</td>\n",
       "    </tr>\n",
       "    <tr>\n",
       "      <th id=\"T_44537_level1_row16\" class=\"row_heading level1 row16\" >max_sent_len</th>\n",
       "      <td id=\"T_44537_row16_col0\" class=\"data row16 col0\" >nan</td>\n",
       "      <td id=\"T_44537_row16_col1\" class=\"data row16 col1\" >nan</td>\n",
       "      <td id=\"T_44537_row16_col2\" class=\"data row16 col2\" >-0.507378</td>\n",
       "      <td id=\"T_44537_row16_col3\" class=\"data row16 col3\" >nan</td>\n",
       "    </tr>\n",
       "    <tr>\n",
       "      <th id=\"T_44537_level1_row17\" class=\"row_heading level1 row17\" >mean_sent_len</th>\n",
       "      <td id=\"T_44537_row17_col0\" class=\"data row17 col0\" >nan</td>\n",
       "      <td id=\"T_44537_row17_col1\" class=\"data row17 col1\" >-0.373700</td>\n",
       "      <td id=\"T_44537_row17_col2\" class=\"data row17 col2\" >-0.327721</td>\n",
       "      <td id=\"T_44537_row17_col3\" class=\"data row17 col3\" >nan</td>\n",
       "    </tr>\n",
       "    <tr>\n",
       "      <th id=\"T_44537_level1_row18\" class=\"row_heading level1 row18\" >n_sents</th>\n",
       "      <td id=\"T_44537_row18_col0\" class=\"data row18 col0\" >-0.317967</td>\n",
       "      <td id=\"T_44537_row18_col1\" class=\"data row18 col1\" >-0.346074</td>\n",
       "      <td id=\"T_44537_row18_col2\" class=\"data row18 col2\" >nan</td>\n",
       "      <td id=\"T_44537_row18_col3\" class=\"data row18 col3\" >-0.395656</td>\n",
       "    </tr>\n",
       "    <tr>\n",
       "      <th id=\"T_44537_level1_row19\" class=\"row_heading level1 row19\" >std_sent_len</th>\n",
       "      <td id=\"T_44537_row19_col0\" class=\"data row19 col0\" >nan</td>\n",
       "      <td id=\"T_44537_row19_col1\" class=\"data row19 col1\" >nan</td>\n",
       "      <td id=\"T_44537_row19_col2\" class=\"data row19 col2\" >-0.432053</td>\n",
       "      <td id=\"T_44537_row19_col3\" class=\"data row19 col3\" >nan</td>\n",
       "    </tr>\n",
       "  </tbody>\n",
       "</table>\n"
      ],
      "text/plain": [
       "<pandas.io.formats.style.Styler at 0x7f9aad0f8040>"
      ]
     },
     "execution_count": 108,
     "metadata": {},
     "output_type": "execute_result"
    }
   ],
   "source": [
    "style(aplly_to_all_tasks(merge_df, corr_thresh, target=('target', 'panss_total')))"
   ]
  },
  {
   "cell_type": "code",
   "execution_count": 109,
   "id": "987e2f1d",
   "metadata": {},
   "outputs": [
    {
     "data": {
      "text/html": [
       "<style type=\"text/css\">\n",
       "#T_b3283_row0_col0, #T_b3283_row1_col0, #T_b3283_row2_col0, #T_b3283_row3_col0, #T_b3283_row4_col0, #T_b3283_row5_col0, #T_b3283_row6_col0, #T_b3283_row7_col0, #T_b3283_row8_col0, #T_b3283_row9_col0, #T_b3283_row10_col0, #T_b3283_row11_col0, #T_b3283_row13_col0, #T_b3283_row14_col0, #T_b3283_row15_col0, #T_b3283_row16_col0, #T_b3283_row17_col0, #T_b3283_row18_col0 {\n",
       "  background-color: #f7fbff;\n",
       "  color: #000000;\n",
       "  color: white;\n",
       "  background-color: white;\n",
       "}\n",
       "#T_b3283_row0_col1, #T_b3283_row0_col3, #T_b3283_row1_col1, #T_b3283_row1_col3, #T_b3283_row2_col2, #T_b3283_row2_col3, #T_b3283_row4_col1, #T_b3283_row5_col2, #T_b3283_row6_col1, #T_b3283_row6_col3, #T_b3283_row7_col1, #T_b3283_row7_col3, #T_b3283_row11_col2, #T_b3283_row11_col3, #T_b3283_row13_col2, #T_b3283_row13_col3, #T_b3283_row15_col1, #T_b3283_row16_col2, #T_b3283_row16_col3, #T_b3283_row17_col1, #T_b3283_row17_col2, #T_b3283_row18_col1, #T_b3283_row18_col3 {\n",
       "  background-color: #000000;\n",
       "  color: #f1f1f1;\n",
       "  color: white;\n",
       "  background-color: white;\n",
       "}\n",
       "#T_b3283_row0_col2 {\n",
       "  background-color: #084184;\n",
       "  color: #f1f1f1;\n",
       "}\n",
       "#T_b3283_row1_col2, #T_b3283_row14_col2 {\n",
       "  background-color: #084b93;\n",
       "  color: #f1f1f1;\n",
       "}\n",
       "#T_b3283_row2_col1 {\n",
       "  background-color: #0d57a1;\n",
       "  color: #f1f1f1;\n",
       "}\n",
       "#T_b3283_row3_col1, #T_b3283_row9_col1 {\n",
       "  background-color: #e3eef9;\n",
       "  color: #000000;\n",
       "}\n",
       "#T_b3283_row3_col2, #T_b3283_row8_col3, #T_b3283_row9_col2 {\n",
       "  background-color: #f4f9fe;\n",
       "  color: #000000;\n",
       "}\n",
       "#T_b3283_row3_col3, #T_b3283_row9_col3 {\n",
       "  background-color: #ecf4fb;\n",
       "  color: #000000;\n",
       "}\n",
       "#T_b3283_row4_col2 {\n",
       "  background-color: #f5fafe;\n",
       "  color: #000000;\n",
       "}\n",
       "#T_b3283_row4_col3 {\n",
       "  background-color: #f2f8fd;\n",
       "  color: #000000;\n",
       "}\n",
       "#T_b3283_row5_col1 {\n",
       "  background-color: #dfebf7;\n",
       "  color: #000000;\n",
       "}\n",
       "#T_b3283_row5_col3, #T_b3283_row8_col2, #T_b3283_row11_col1, #T_b3283_row12_col0 {\n",
       "  background-color: #f7fbff;\n",
       "  color: #000000;\n",
       "}\n",
       "#T_b3283_row6_col2 {\n",
       "  background-color: #d6e5f4;\n",
       "  color: #000000;\n",
       "}\n",
       "#T_b3283_row7_col2 {\n",
       "  background-color: #cadef0;\n",
       "  color: #000000;\n",
       "}\n",
       "#T_b3283_row8_col1 {\n",
       "  background-color: #e6f0f9;\n",
       "  color: #000000;\n",
       "}\n",
       "#T_b3283_row10_col1 {\n",
       "  background-color: #135fa7;\n",
       "  color: #f1f1f1;\n",
       "}\n",
       "#T_b3283_row10_col2, #T_b3283_row10_col3, #T_b3283_row14_col1 {\n",
       "  background-color: #08306b;\n",
       "  color: #f1f1f1;\n",
       "}\n",
       "#T_b3283_row12_col1 {\n",
       "  background-color: #e7f0fa;\n",
       "  color: #000000;\n",
       "}\n",
       "#T_b3283_row12_col2 {\n",
       "  background-color: #bcd7eb;\n",
       "  color: #000000;\n",
       "}\n",
       "#T_b3283_row12_col3 {\n",
       "  background-color: #f5f9fe;\n",
       "  color: #000000;\n",
       "}\n",
       "#T_b3283_row13_col1 {\n",
       "  background-color: #f6faff;\n",
       "  color: #000000;\n",
       "}\n",
       "#T_b3283_row14_col3 {\n",
       "  background-color: #084f99;\n",
       "  color: #f1f1f1;\n",
       "}\n",
       "#T_b3283_row15_col2 {\n",
       "  background-color: #d7e6f5;\n",
       "  color: #000000;\n",
       "}\n",
       "#T_b3283_row15_col3 {\n",
       "  background-color: #deebf7;\n",
       "  color: #000000;\n",
       "}\n",
       "#T_b3283_row16_col1 {\n",
       "  background-color: #dfecf7;\n",
       "  color: #000000;\n",
       "}\n",
       "#T_b3283_row17_col3 {\n",
       "  background-color: #eff6fc;\n",
       "  color: #000000;\n",
       "}\n",
       "#T_b3283_row18_col2 {\n",
       "  background-color: #cde0f1;\n",
       "  color: #000000;\n",
       "}\n",
       "</style>\n",
       "<table id=\"T_b3283\">\n",
       "  <thead>\n",
       "    <tr>\n",
       "      <th class=\"blank\" >&nbsp;</th>\n",
       "      <th class=\"blank level0\" >&nbsp;</th>\n",
       "      <th id=\"T_b3283_level0_col0\" class=\"col_heading level0 col0\" >adventure</th>\n",
       "      <th id=\"T_b3283_level0_col1\" class=\"col_heading level0 col1\" >chair</th>\n",
       "      <th id=\"T_b3283_level0_col2\" class=\"col_heading level0 col2\" >present</th>\n",
       "      <th id=\"T_b3283_level0_col3\" class=\"col_heading level0 col3\" >sportsman</th>\n",
       "    </tr>\n",
       "  </thead>\n",
       "  <tbody>\n",
       "    <tr>\n",
       "      <th id=\"T_b3283_level0_row0\" class=\"row_heading level0 row0\" rowspan=\"2\">LM</th>\n",
       "      <th id=\"T_b3283_level1_row0\" class=\"row_heading level1 row0\" >m_bert_cgcoh</th>\n",
       "      <td id=\"T_b3283_row0_col0\" class=\"data row0 col0\" >nan</td>\n",
       "      <td id=\"T_b3283_row0_col1\" class=\"data row0 col1\" >nan</td>\n",
       "      <td id=\"T_b3283_row0_col2\" class=\"data row0 col2\" >0.411582</td>\n",
       "      <td id=\"T_b3283_row0_col3\" class=\"data row0 col3\" >nan</td>\n",
       "    </tr>\n",
       "    <tr>\n",
       "      <th id=\"T_b3283_level1_row1\" class=\"row_heading level1 row1\" >m_bert_gcoh</th>\n",
       "      <td id=\"T_b3283_row1_col0\" class=\"data row1 col0\" >nan</td>\n",
       "      <td id=\"T_b3283_row1_col1\" class=\"data row1 col1\" >nan</td>\n",
       "      <td id=\"T_b3283_row1_col2\" class=\"data row1 col2\" >0.367880</td>\n",
       "      <td id=\"T_b3283_row1_col3\" class=\"data row1 col3\" >nan</td>\n",
       "    </tr>\n",
       "    <tr>\n",
       "      <th id=\"T_b3283_level0_row2\" class=\"row_heading level0 row2\" rowspan=\"8\">graph</th>\n",
       "      <th id=\"T_b3283_level1_row2\" class=\"row_heading level1 row2\" >L3</th>\n",
       "      <td id=\"T_b3283_row2_col0\" class=\"data row2 col0\" >nan</td>\n",
       "      <td id=\"T_b3283_row2_col1\" class=\"data row2 col1\" >0.364394</td>\n",
       "      <td id=\"T_b3283_row2_col2\" class=\"data row2 col2\" >nan</td>\n",
       "      <td id=\"T_b3283_row2_col3\" class=\"data row2 col3\" >nan</td>\n",
       "    </tr>\n",
       "    <tr>\n",
       "      <th id=\"T_b3283_level1_row3\" class=\"row_heading level1 row3\" >LCC</th>\n",
       "      <td id=\"T_b3283_row3_col0\" class=\"data row3 col0\" >nan</td>\n",
       "      <td id=\"T_b3283_row3_col1\" class=\"data row3 col1\" >-0.330837</td>\n",
       "      <td id=\"T_b3283_row3_col2\" class=\"data row3 col2\" >-0.612551</td>\n",
       "      <td id=\"T_b3283_row3_col3\" class=\"data row3 col3\" >-0.365927</td>\n",
       "    </tr>\n",
       "    <tr>\n",
       "      <th id=\"T_b3283_level1_row4\" class=\"row_heading level1 row4\" >LSC</th>\n",
       "      <td id=\"T_b3283_row4_col0\" class=\"data row4 col0\" >nan</td>\n",
       "      <td id=\"T_b3283_row4_col1\" class=\"data row4 col1\" >nan</td>\n",
       "      <td id=\"T_b3283_row4_col2\" class=\"data row4 col2\" >-0.622077</td>\n",
       "      <td id=\"T_b3283_row4_col3\" class=\"data row4 col3\" >-0.391201</td>\n",
       "    </tr>\n",
       "    <tr>\n",
       "      <th id=\"T_b3283_level1_row5\" class=\"row_heading level1 row5\" >PE</th>\n",
       "      <td id=\"T_b3283_row5_col0\" class=\"data row5 col0\" >nan</td>\n",
       "      <td id=\"T_b3283_row5_col1\" class=\"data row5 col1\" >-0.309696</td>\n",
       "      <td id=\"T_b3283_row5_col2\" class=\"data row5 col2\" >nan</td>\n",
       "      <td id=\"T_b3283_row5_col3\" class=\"data row5 col3\" >-0.410765</td>\n",
       "    </tr>\n",
       "    <tr>\n",
       "      <th id=\"T_b3283_level1_row6\" class=\"row_heading level1 row6\" >degree_average</th>\n",
       "      <td id=\"T_b3283_row6_col0\" class=\"data row6 col0\" >nan</td>\n",
       "      <td id=\"T_b3283_row6_col1\" class=\"data row6 col1\" >nan</td>\n",
       "      <td id=\"T_b3283_row6_col2\" class=\"data row6 col2\" >-0.443015</td>\n",
       "      <td id=\"T_b3283_row6_col3\" class=\"data row6 col3\" >nan</td>\n",
       "    </tr>\n",
       "    <tr>\n",
       "      <th id=\"T_b3283_level1_row7\" class=\"row_heading level1 row7\" >degree_std</th>\n",
       "      <td id=\"T_b3283_row7_col0\" class=\"data row7 col0\" >nan</td>\n",
       "      <td id=\"T_b3283_row7_col1\" class=\"data row7 col1\" >nan</td>\n",
       "      <td id=\"T_b3283_row7_col2\" class=\"data row7 col2\" >-0.378540</td>\n",
       "      <td id=\"T_b3283_row7_col3\" class=\"data row7 col3\" >nan</td>\n",
       "    </tr>\n",
       "    <tr>\n",
       "      <th id=\"T_b3283_level1_row8\" class=\"row_heading level1 row8\" >number_of_edges</th>\n",
       "      <td id=\"T_b3283_row8_col0\" class=\"data row8 col0\" >nan</td>\n",
       "      <td id=\"T_b3283_row8_col1\" class=\"data row8 col1\" >-0.340418</td>\n",
       "      <td id=\"T_b3283_row8_col2\" class=\"data row8 col2\" >-0.633029</td>\n",
       "      <td id=\"T_b3283_row8_col3\" class=\"data row8 col3\" >-0.394954</td>\n",
       "    </tr>\n",
       "    <tr>\n",
       "      <th id=\"T_b3283_level1_row9\" class=\"row_heading level1 row9\" >number_of_nodes</th>\n",
       "      <td id=\"T_b3283_row9_col0\" class=\"data row9 col0\" >nan</td>\n",
       "      <td id=\"T_b3283_row9_col1\" class=\"data row9 col1\" >-0.330837</td>\n",
       "      <td id=\"T_b3283_row9_col2\" class=\"data row9 col2\" >-0.612551</td>\n",
       "      <td id=\"T_b3283_row9_col3\" class=\"data row9 col3\" >-0.365927</td>\n",
       "    </tr>\n",
       "    <tr>\n",
       "      <th id=\"T_b3283_level0_row10\" class=\"row_heading level0 row10\" rowspan=\"3\">lexical</th>\n",
       "      <th id=\"T_b3283_level1_row10\" class=\"row_heading level1 row10\" >LTR</th>\n",
       "      <td id=\"T_b3283_row10_col0\" class=\"data row10 col0\" >nan</td>\n",
       "      <td id=\"T_b3283_row10_col1\" class=\"data row10 col1\" >0.334459</td>\n",
       "      <td id=\"T_b3283_row10_col2\" class=\"data row10 col2\" >0.481693</td>\n",
       "      <td id=\"T_b3283_row10_col3\" class=\"data row10 col3\" >0.400758</td>\n",
       "    </tr>\n",
       "    <tr>\n",
       "      <th id=\"T_b3283_level1_row11\" class=\"row_heading level1 row11\" >MALTR</th>\n",
       "      <td id=\"T_b3283_row11_col0\" class=\"data row11 col0\" >nan</td>\n",
       "      <td id=\"T_b3283_row11_col1\" class=\"data row11 col1\" >-0.422768</td>\n",
       "      <td id=\"T_b3283_row11_col2\" class=\"data row11 col2\" >nan</td>\n",
       "      <td id=\"T_b3283_row11_col3\" class=\"data row11 col3\" >nan</td>\n",
       "    </tr>\n",
       "    <tr>\n",
       "      <th id=\"T_b3283_level1_row12\" class=\"row_heading level1 row12\" >n_words</th>\n",
       "      <td id=\"T_b3283_row12_col0\" class=\"data row12 col0\" >-0.321459</td>\n",
       "      <td id=\"T_b3283_row12_col1\" class=\"data row12 col1\" >-0.343640</td>\n",
       "      <td id=\"T_b3283_row12_col2\" class=\"data row12 col2\" >-0.315710</td>\n",
       "      <td id=\"T_b3283_row12_col3\" class=\"data row12 col3\" >-0.400083</td>\n",
       "    </tr>\n",
       "    <tr>\n",
       "      <th id=\"T_b3283_level0_row13\" class=\"row_heading level0 row13\" rowspan=\"6\">syntactic</th>\n",
       "      <th id=\"T_b3283_level1_row13\" class=\"row_heading level1 row13\" >NOUN</th>\n",
       "      <td id=\"T_b3283_row13_col0\" class=\"data row13 col0\" >nan</td>\n",
       "      <td id=\"T_b3283_row13_col1\" class=\"data row13 col1\" >-0.418159</td>\n",
       "      <td id=\"T_b3283_row13_col2\" class=\"data row13 col2\" >nan</td>\n",
       "      <td id=\"T_b3283_row13_col3\" class=\"data row13 col3\" >nan</td>\n",
       "    </tr>\n",
       "    <tr>\n",
       "      <th id=\"T_b3283_level1_row14\" class=\"row_heading level1 row14\" >PART</th>\n",
       "      <td id=\"T_b3283_row14_col0\" class=\"data row14 col0\" >nan</td>\n",
       "      <td id=\"T_b3283_row14_col1\" class=\"data row14 col1\" >0.504111</td>\n",
       "      <td id=\"T_b3283_row14_col2\" class=\"data row14 col2\" >0.366220</td>\n",
       "      <td id=\"T_b3283_row14_col3\" class=\"data row14 col3\" >0.305388</td>\n",
       "    </tr>\n",
       "    <tr>\n",
       "      <th id=\"T_b3283_level1_row15\" class=\"row_heading level1 row15\" >max_sent_len</th>\n",
       "      <td id=\"T_b3283_row15_col0\" class=\"data row15 col0\" >nan</td>\n",
       "      <td id=\"T_b3283_row15_col1\" class=\"data row15 col1\" >nan</td>\n",
       "      <td id=\"T_b3283_row15_col2\" class=\"data row15 col2\" >-0.454322</td>\n",
       "      <td id=\"T_b3283_row15_col3\" class=\"data row15 col3\" >-0.308803</td>\n",
       "    </tr>\n",
       "    <tr>\n",
       "      <th id=\"T_b3283_level1_row16\" class=\"row_heading level1 row16\" >mean_sent_len</th>\n",
       "      <td id=\"T_b3283_row16_col0\" class=\"data row16 col0\" >nan</td>\n",
       "      <td id=\"T_b3283_row16_col1\" class=\"data row16 col1\" >-0.311077</td>\n",
       "      <td id=\"T_b3283_row16_col2\" class=\"data row16 col2\" >nan</td>\n",
       "      <td id=\"T_b3283_row16_col3\" class=\"data row16 col3\" >nan</td>\n",
       "    </tr>\n",
       "    <tr>\n",
       "      <th id=\"T_b3283_level1_row17\" class=\"row_heading level1 row17\" >n_sents</th>\n",
       "      <td id=\"T_b3283_row17_col0\" class=\"data row17 col0\" >nan</td>\n",
       "      <td id=\"T_b3283_row17_col1\" class=\"data row17 col1\" >nan</td>\n",
       "      <td id=\"T_b3283_row17_col2\" class=\"data row17 col2\" >nan</td>\n",
       "      <td id=\"T_b3283_row17_col3\" class=\"data row17 col3\" >-0.376769</td>\n",
       "    </tr>\n",
       "    <tr>\n",
       "      <th id=\"T_b3283_level1_row18\" class=\"row_heading level1 row18\" >std_sent_len</th>\n",
       "      <td id=\"T_b3283_row18_col0\" class=\"data row18 col0\" >nan</td>\n",
       "      <td id=\"T_b3283_row18_col1\" class=\"data row18 col1\" >nan</td>\n",
       "      <td id=\"T_b3283_row18_col2\" class=\"data row18 col2\" >-0.397829</td>\n",
       "      <td id=\"T_b3283_row18_col3\" class=\"data row18 col3\" >nan</td>\n",
       "    </tr>\n",
       "  </tbody>\n",
       "</table>\n"
      ],
      "text/plain": [
       "<pandas.io.formats.style.Styler at 0x7f9aad35ce20>"
      ]
     },
     "execution_count": 109,
     "metadata": {},
     "output_type": "execute_result"
    }
   ],
   "source": [
    "style(aplly_to_all_tasks(merge_df, corr_thresh, target=('target', 'panss_pos')))"
   ]
  },
  {
   "cell_type": "code",
   "execution_count": 110,
   "id": "65c3a642",
   "metadata": {},
   "outputs": [
    {
     "data": {
      "text/html": [
       "<style type=\"text/css\">\n",
       "#T_76b29_row0_col0, #T_76b29_row0_col1, #T_76b29_row0_col3, #T_76b29_row1_col0, #T_76b29_row1_col1, #T_76b29_row1_col3, #T_76b29_row2_col0, #T_76b29_row2_col1, #T_76b29_row2_col3, #T_76b29_row3_col0, #T_76b29_row3_col1, #T_76b29_row3_col3, #T_76b29_row4_col0, #T_76b29_row4_col1, #T_76b29_row4_col3, #T_76b29_row5_col2, #T_76b29_row5_col3, #T_76b29_row7_col1, #T_76b29_row8_col0, #T_76b29_row8_col1, #T_76b29_row8_col2, #T_76b29_row9_col0, #T_76b29_row11_col0, #T_76b29_row12_col3, #T_76b29_row13_col0, #T_76b29_row14_col0, #T_76b29_row14_col1, #T_76b29_row14_col3, #T_76b29_row15_col0, #T_76b29_row15_col2, #T_76b29_row15_col3, #T_76b29_row16_col0, #T_76b29_row16_col2, #T_76b29_row16_col3, #T_76b29_row17_col0, #T_76b29_row17_col1, #T_76b29_row17_col3, #T_76b29_row18_col0, #T_76b29_row18_col3, #T_76b29_row19_col0, #T_76b29_row19_col1, #T_76b29_row20_col0, #T_76b29_row20_col1, #T_76b29_row20_col3 {\n",
       "  background-color: #000000;\n",
       "  color: #f1f1f1;\n",
       "  color: white;\n",
       "  background-color: white;\n",
       "}\n",
       "#T_76b29_row0_col2, #T_76b29_row5_col0, #T_76b29_row11_col3, #T_76b29_row16_col1 {\n",
       "  background-color: #08306b;\n",
       "  color: #f1f1f1;\n",
       "}\n",
       "#T_76b29_row1_col2, #T_76b29_row11_col2 {\n",
       "  background-color: #083b7c;\n",
       "  color: #f1f1f1;\n",
       "}\n",
       "#T_76b29_row2_col2 {\n",
       "  background-color: #abd0e6;\n",
       "  color: #000000;\n",
       "}\n",
       "#T_76b29_row3_col2 {\n",
       "  background-color: #b9d6ea;\n",
       "  color: #000000;\n",
       "}\n",
       "#T_76b29_row4_col2 {\n",
       "  background-color: #c6dbef;\n",
       "  color: #000000;\n",
       "}\n",
       "#T_76b29_row5_col1 {\n",
       "  background-color: #083979;\n",
       "  color: #f1f1f1;\n",
       "}\n",
       "#T_76b29_row6_col0, #T_76b29_row10_col0 {\n",
       "  background-color: #d1e2f3;\n",
       "  color: #000000;\n",
       "}\n",
       "#T_76b29_row6_col1, #T_76b29_row10_col1 {\n",
       "  background-color: #d6e5f4;\n",
       "  color: #000000;\n",
       "}\n",
       "#T_76b29_row6_col2, #T_76b29_row10_col2, #T_76b29_row12_col0, #T_76b29_row13_col3, #T_76b29_row15_col1 {\n",
       "  background-color: #f7fbff;\n",
       "  color: #000000;\n",
       "}\n",
       "#T_76b29_row6_col3, #T_76b29_row10_col3 {\n",
       "  background-color: #e6f0f9;\n",
       "  color: #000000;\n",
       "}\n",
       "#T_76b29_row7_col0 {\n",
       "  background-color: #d9e7f5;\n",
       "  color: #000000;\n",
       "}\n",
       "#T_76b29_row7_col2 {\n",
       "  background-color: #f3f8fe;\n",
       "  color: #000000;\n",
       "}\n",
       "#T_76b29_row7_col3 {\n",
       "  background-color: #eaf3fb;\n",
       "  color: #000000;\n",
       "}\n",
       "#T_76b29_row8_col3 {\n",
       "  background-color: #e4eff9;\n",
       "  color: #000000;\n",
       "}\n",
       "#T_76b29_row9_col1 {\n",
       "  background-color: #d4e4f4;\n",
       "  color: #000000;\n",
       "}\n",
       "#T_76b29_row9_col2 {\n",
       "  background-color: #eff6fc;\n",
       "  color: #000000;\n",
       "}\n",
       "#T_76b29_row9_col3, #T_76b29_row19_col3 {\n",
       "  background-color: #eef5fc;\n",
       "  color: #000000;\n",
       "}\n",
       "#T_76b29_row11_col1 {\n",
       "  background-color: #1c6bb0;\n",
       "  color: #f1f1f1;\n",
       "}\n",
       "#T_76b29_row12_col1 {\n",
       "  background-color: #f0f6fd;\n",
       "  color: #000000;\n",
       "}\n",
       "#T_76b29_row12_col2 {\n",
       "  background-color: #bdd7ec;\n",
       "  color: #000000;\n",
       "}\n",
       "#T_76b29_row13_col1 {\n",
       "  background-color: #d8e7f5;\n",
       "  color: #000000;\n",
       "}\n",
       "#T_76b29_row13_col2 {\n",
       "  background-color: #cfe1f2;\n",
       "  color: #000000;\n",
       "}\n",
       "#T_76b29_row14_col2 {\n",
       "  background-color: #b7d4ea;\n",
       "  color: #000000;\n",
       "}\n",
       "#T_76b29_row17_col2 {\n",
       "  background-color: #dbe9f6;\n",
       "  color: #000000;\n",
       "}\n",
       "#T_76b29_row18_col1 {\n",
       "  background-color: #dae8f6;\n",
       "  color: #000000;\n",
       "}\n",
       "#T_76b29_row18_col2 {\n",
       "  background-color: #b5d4e9;\n",
       "  color: #000000;\n",
       "}\n",
       "#T_76b29_row19_col2 {\n",
       "  background-color: #b0d2e7;\n",
       "  color: #000000;\n",
       "}\n",
       "#T_76b29_row20_col2 {\n",
       "  background-color: #cbdef1;\n",
       "  color: #000000;\n",
       "}\n",
       "</style>\n",
       "<table id=\"T_76b29\">\n",
       "  <thead>\n",
       "    <tr>\n",
       "      <th class=\"blank\" >&nbsp;</th>\n",
       "      <th class=\"blank level0\" >&nbsp;</th>\n",
       "      <th id=\"T_76b29_level0_col0\" class=\"col_heading level0 col0\" >adventure</th>\n",
       "      <th id=\"T_76b29_level0_col1\" class=\"col_heading level0 col1\" >chair</th>\n",
       "      <th id=\"T_76b29_level0_col2\" class=\"col_heading level0 col2\" >present</th>\n",
       "      <th id=\"T_76b29_level0_col3\" class=\"col_heading level0 col3\" >sportsman</th>\n",
       "    </tr>\n",
       "  </thead>\n",
       "  <tbody>\n",
       "    <tr>\n",
       "      <th id=\"T_76b29_level0_row0\" class=\"row_heading level0 row0\" rowspan=\"5\">LM</th>\n",
       "      <th id=\"T_76b29_level1_row0\" class=\"row_heading level1 row0\" >m_bert_cgcoh</th>\n",
       "      <td id=\"T_76b29_row0_col0\" class=\"data row0 col0\" >nan</td>\n",
       "      <td id=\"T_76b29_row0_col1\" class=\"data row0 col1\" >nan</td>\n",
       "      <td id=\"T_76b29_row0_col2\" class=\"data row0 col2\" >0.422059</td>\n",
       "      <td id=\"T_76b29_row0_col3\" class=\"data row0 col3\" >nan</td>\n",
       "    </tr>\n",
       "    <tr>\n",
       "      <th id=\"T_76b29_level1_row1\" class=\"row_heading level1 row1\" >m_bert_gcoh</th>\n",
       "      <td id=\"T_76b29_row1_col0\" class=\"data row1 col0\" >nan</td>\n",
       "      <td id=\"T_76b29_row1_col1\" class=\"data row1 col1\" >nan</td>\n",
       "      <td id=\"T_76b29_row1_col2\" class=\"data row1 col2\" >0.373243</td>\n",
       "      <td id=\"T_76b29_row1_col3\" class=\"data row1 col3\" >nan</td>\n",
       "    </tr>\n",
       "    <tr>\n",
       "      <th id=\"T_76b29_level1_row2\" class=\"row_heading level1 row2\" >m_raw_gcoh</th>\n",
       "      <td id=\"T_76b29_row2_col0\" class=\"data row2 col0\" >nan</td>\n",
       "      <td id=\"T_76b29_row2_col1\" class=\"data row2 col1\" >nan</td>\n",
       "      <td id=\"T_76b29_row2_col2\" class=\"data row2 col2\" >-0.302347</td>\n",
       "      <td id=\"T_76b29_row2_col3\" class=\"data row2 col3\" >nan</td>\n",
       "    </tr>\n",
       "    <tr>\n",
       "      <th id=\"T_76b29_level1_row3\" class=\"row_heading level1 row3\" >m_raw_lcoh</th>\n",
       "      <td id=\"T_76b29_row3_col0\" class=\"data row3 col0\" >nan</td>\n",
       "      <td id=\"T_76b29_row3_col1\" class=\"data row3 col1\" >nan</td>\n",
       "      <td id=\"T_76b29_row3_col2\" class=\"data row3 col2\" >-0.346684</td>\n",
       "      <td id=\"T_76b29_row3_col3\" class=\"data row3 col3\" >nan</td>\n",
       "    </tr>\n",
       "    <tr>\n",
       "      <th id=\"T_76b29_level1_row4\" class=\"row_heading level1 row4\" >m_raw_scoh</th>\n",
       "      <td id=\"T_76b29_row4_col0\" class=\"data row4 col0\" >nan</td>\n",
       "      <td id=\"T_76b29_row4_col1\" class=\"data row4 col1\" >nan</td>\n",
       "      <td id=\"T_76b29_row4_col2\" class=\"data row4 col2\" >-0.392710</td>\n",
       "      <td id=\"T_76b29_row4_col3\" class=\"data row4 col3\" >nan</td>\n",
       "    </tr>\n",
       "    <tr>\n",
       "      <th id=\"T_76b29_level0_row5\" class=\"row_heading level0 row5\" rowspan=\"6\">graph</th>\n",
       "      <th id=\"T_76b29_level1_row5\" class=\"row_heading level1 row5\" >L3</th>\n",
       "      <td id=\"T_76b29_row5_col0\" class=\"data row5 col0\" >0.300615</td>\n",
       "      <td id=\"T_76b29_row5_col1\" class=\"data row5 col1\" >0.518028</td>\n",
       "      <td id=\"T_76b29_row5_col2\" class=\"data row5 col2\" >nan</td>\n",
       "      <td id=\"T_76b29_row5_col3\" class=\"data row5 col3\" >nan</td>\n",
       "    </tr>\n",
       "    <tr>\n",
       "      <th id=\"T_76b29_level1_row6\" class=\"row_heading level1 row6\" >LCC</th>\n",
       "      <td id=\"T_76b29_row6_col0\" class=\"data row6 col0\" >-0.302798</td>\n",
       "      <td id=\"T_76b29_row6_col1\" class=\"data row6 col1\" >-0.334402</td>\n",
       "      <td id=\"T_76b29_row6_col2\" class=\"data row6 col2\" >-0.664485</td>\n",
       "      <td id=\"T_76b29_row6_col3\" class=\"data row6 col3\" >-0.310535</td>\n",
       "    </tr>\n",
       "    <tr>\n",
       "      <th id=\"T_76b29_level1_row7\" class=\"row_heading level1 row7\" >LSC</th>\n",
       "      <td id=\"T_76b29_row7_col0\" class=\"data row7 col0\" >-0.332829</td>\n",
       "      <td id=\"T_76b29_row7_col1\" class=\"data row7 col1\" >nan</td>\n",
       "      <td id=\"T_76b29_row7_col2\" class=\"data row7 col2\" >-0.641857</td>\n",
       "      <td id=\"T_76b29_row7_col3\" class=\"data row7 col3\" >-0.328014</td>\n",
       "    </tr>\n",
       "    <tr>\n",
       "      <th id=\"T_76b29_level1_row8\" class=\"row_heading level1 row8\" >PE</th>\n",
       "      <td id=\"T_76b29_row8_col0\" class=\"data row8 col0\" >nan</td>\n",
       "      <td id=\"T_76b29_row8_col1\" class=\"data row8 col1\" >nan</td>\n",
       "      <td id=\"T_76b29_row8_col2\" class=\"data row8 col2\" >nan</td>\n",
       "      <td id=\"T_76b29_row8_col3\" class=\"data row8 col3\" >-0.304395</td>\n",
       "    </tr>\n",
       "    <tr>\n",
       "      <th id=\"T_76b29_level1_row9\" class=\"row_heading level1 row9\" >number_of_edges</th>\n",
       "      <td id=\"T_76b29_row9_col0\" class=\"data row9 col0\" >nan</td>\n",
       "      <td id=\"T_76b29_row9_col1\" class=\"data row9 col1\" >-0.326434</td>\n",
       "      <td id=\"T_76b29_row9_col2\" class=\"data row9 col2\" >-0.621224</td>\n",
       "      <td id=\"T_76b29_row9_col3\" class=\"data row9 col3\" >-0.342515</td>\n",
       "    </tr>\n",
       "    <tr>\n",
       "      <th id=\"T_76b29_level1_row10\" class=\"row_heading level1 row10\" >number_of_nodes</th>\n",
       "      <td id=\"T_76b29_row10_col0\" class=\"data row10 col0\" >-0.302798</td>\n",
       "      <td id=\"T_76b29_row10_col1\" class=\"data row10 col1\" >-0.334402</td>\n",
       "      <td id=\"T_76b29_row10_col2\" class=\"data row10 col2\" >-0.664485</td>\n",
       "      <td id=\"T_76b29_row10_col3\" class=\"data row10 col3\" >-0.310535</td>\n",
       "    </tr>\n",
       "    <tr>\n",
       "      <th id=\"T_76b29_level0_row11\" class=\"row_heading level0 row11\" rowspan=\"3\">lexical</th>\n",
       "      <th id=\"T_76b29_level1_row11\" class=\"row_heading level1 row11\" >LTR</th>\n",
       "      <td id=\"T_76b29_row11_col0\" class=\"data row11 col0\" >nan</td>\n",
       "      <td id=\"T_76b29_row11_col1\" class=\"data row11 col1\" >0.311196</td>\n",
       "      <td id=\"T_76b29_row11_col2\" class=\"data row11 col2\" >0.373262</td>\n",
       "      <td id=\"T_76b29_row11_col3\" class=\"data row11 col3\" >0.367933</td>\n",
       "    </tr>\n",
       "    <tr>\n",
       "      <th id=\"T_76b29_level1_row12\" class=\"row_heading level1 row12\" >MALTR</th>\n",
       "      <td id=\"T_76b29_row12_col0\" class=\"data row12 col0\" >-0.447881</td>\n",
       "      <td id=\"T_76b29_row12_col1\" class=\"data row12 col1\" >-0.476708</td>\n",
       "      <td id=\"T_76b29_row12_col2\" class=\"data row12 col2\" >-0.360386</td>\n",
       "      <td id=\"T_76b29_row12_col3\" class=\"data row12 col3\" >nan</td>\n",
       "    </tr>\n",
       "    <tr>\n",
       "      <th id=\"T_76b29_level1_row13\" class=\"row_heading level1 row13\" >n_words</th>\n",
       "      <td id=\"T_76b29_row13_col0\" class=\"data row13 col0\" >nan</td>\n",
       "      <td id=\"T_76b29_row13_col1\" class=\"data row13 col1\" >-0.346180</td>\n",
       "      <td id=\"T_76b29_row13_col2\" class=\"data row13 col2\" >-0.441855</td>\n",
       "      <td id=\"T_76b29_row13_col3\" class=\"data row13 col3\" >-0.375946</td>\n",
       "    </tr>\n",
       "    <tr>\n",
       "      <th id=\"T_76b29_level0_row14\" class=\"row_heading level0 row14\" rowspan=\"7\">syntactic</th>\n",
       "      <th id=\"T_76b29_level1_row14\" class=\"row_heading level1 row14\" >DET</th>\n",
       "      <td id=\"T_76b29_row14_col0\" class=\"data row14 col0\" >nan</td>\n",
       "      <td id=\"T_76b29_row14_col1\" class=\"data row14 col1\" >nan</td>\n",
       "      <td id=\"T_76b29_row14_col2\" class=\"data row14 col2\" >-0.338863</td>\n",
       "      <td id=\"T_76b29_row14_col3\" class=\"data row14 col3\" >nan</td>\n",
       "    </tr>\n",
       "    <tr>\n",
       "      <th id=\"T_76b29_level1_row15\" class=\"row_heading level1 row15\" >NOUN</th>\n",
       "      <td id=\"T_76b29_row15_col0\" class=\"data row15 col0\" >nan</td>\n",
       "      <td id=\"T_76b29_row15_col1\" class=\"data row15 col1\" >-0.515120</td>\n",
       "      <td id=\"T_76b29_row15_col2\" class=\"data row15 col2\" >nan</td>\n",
       "      <td id=\"T_76b29_row15_col3\" class=\"data row15 col3\" >nan</td>\n",
       "    </tr>\n",
       "    <tr>\n",
       "      <th id=\"T_76b29_level1_row16\" class=\"row_heading level1 row16\" >PART</th>\n",
       "      <td id=\"T_76b29_row16_col0\" class=\"data row16 col0\" >nan</td>\n",
       "      <td id=\"T_76b29_row16_col1\" class=\"data row16 col1\" >0.558121</td>\n",
       "      <td id=\"T_76b29_row16_col2\" class=\"data row16 col2\" >nan</td>\n",
       "      <td id=\"T_76b29_row16_col3\" class=\"data row16 col3\" >nan</td>\n",
       "    </tr>\n",
       "    <tr>\n",
       "      <th id=\"T_76b29_level1_row17\" class=\"row_heading level1 row17\" >max_sent_len</th>\n",
       "      <td id=\"T_76b29_row17_col0\" class=\"data row17 col0\" >nan</td>\n",
       "      <td id=\"T_76b29_row17_col1\" class=\"data row17 col1\" >nan</td>\n",
       "      <td id=\"T_76b29_row17_col2\" class=\"data row17 col2\" >-0.509965</td>\n",
       "      <td id=\"T_76b29_row17_col3\" class=\"data row17 col3\" >nan</td>\n",
       "    </tr>\n",
       "    <tr>\n",
       "      <th id=\"T_76b29_level1_row18\" class=\"row_heading level1 row18\" >mean_sent_len</th>\n",
       "      <td id=\"T_76b29_row18_col0\" class=\"data row18 col0\" >nan</td>\n",
       "      <td id=\"T_76b29_row18_col1\" class=\"data row18 col1\" >-0.358061</td>\n",
       "      <td id=\"T_76b29_row18_col2\" class=\"data row18 col2\" >-0.336585</td>\n",
       "      <td id=\"T_76b29_row18_col3\" class=\"data row18 col3\" >nan</td>\n",
       "    </tr>\n",
       "    <tr>\n",
       "      <th id=\"T_76b29_level1_row19\" class=\"row_heading level1 row19\" >n_sents</th>\n",
       "      <td id=\"T_76b29_row19_col0\" class=\"data row19 col0\" >nan</td>\n",
       "      <td id=\"T_76b29_row19_col1\" class=\"data row19 col1\" >nan</td>\n",
       "      <td id=\"T_76b29_row19_col2\" class=\"data row19 col2\" >-0.317401</td>\n",
       "      <td id=\"T_76b29_row19_col3\" class=\"data row19 col3\" >-0.341004</td>\n",
       "    </tr>\n",
       "    <tr>\n",
       "      <th id=\"T_76b29_level1_row20\" class=\"row_heading level1 row20\" >std_sent_len</th>\n",
       "      <td id=\"T_76b29_row20_col0\" class=\"data row20 col0\" >nan</td>\n",
       "      <td id=\"T_76b29_row20_col1\" class=\"data row20 col1\" >nan</td>\n",
       "      <td id=\"T_76b29_row20_col2\" class=\"data row20 col2\" >-0.421643</td>\n",
       "      <td id=\"T_76b29_row20_col3\" class=\"data row20 col3\" >nan</td>\n",
       "    </tr>\n",
       "  </tbody>\n",
       "</table>\n"
      ],
      "text/plain": [
       "<pandas.io.formats.style.Styler at 0x7f9aad351160>"
      ]
     },
     "execution_count": 110,
     "metadata": {},
     "output_type": "execute_result"
    }
   ],
   "source": [
    "style(aplly_to_all_tasks(merge_df, corr_thresh, target=('target', 'panss_neg')))"
   ]
  },
  {
   "cell_type": "code",
   "execution_count": 111,
   "id": "23ef0bda",
   "metadata": {},
   "outputs": [
    {
     "data": {
      "text/html": [
       "<style type=\"text/css\">\n",
       "#T_a56b9_row0_col0, #T_a56b9_row0_col1, #T_a56b9_row0_col3, #T_a56b9_row1_col0, #T_a56b9_row1_col1, #T_a56b9_row1_col3, #T_a56b9_row2_col0, #T_a56b9_row2_col1, #T_a56b9_row2_col3, #T_a56b9_row3_col0, #T_a56b9_row3_col1, #T_a56b9_row3_col3, #T_a56b9_row4_col0, #T_a56b9_row4_col2, #T_a56b9_row4_col3, #T_a56b9_row9_col0, #T_a56b9_row10_col2, #T_a56b9_row10_col3, #T_a56b9_row12_col0, #T_a56b9_row12_col1, #T_a56b9_row12_col3, #T_a56b9_row13_col0, #T_a56b9_row13_col2, #T_a56b9_row13_col3, #T_a56b9_row14_col0, #T_a56b9_row14_col1, #T_a56b9_row14_col3, #T_a56b9_row15_col0, #T_a56b9_row15_col2, #T_a56b9_row15_col3, #T_a56b9_row16_col2, #T_a56b9_row17_col0, #T_a56b9_row17_col1, #T_a56b9_row17_col3 {\n",
       "  background-color: #000000;\n",
       "  color: #f1f1f1;\n",
       "  color: white;\n",
       "  background-color: white;\n",
       "}\n",
       "#T_a56b9_row0_col2, #T_a56b9_row7_col0, #T_a56b9_row9_col1, #T_a56b9_row9_col3 {\n",
       "  background-color: #08306b;\n",
       "  color: #f1f1f1;\n",
       "}\n",
       "#T_a56b9_row1_col2 {\n",
       "  background-color: #083877;\n",
       "  color: #f1f1f1;\n",
       "}\n",
       "#T_a56b9_row2_col2 {\n",
       "  background-color: #0e59a2;\n",
       "  color: #f1f1f1;\n",
       "}\n",
       "#T_a56b9_row3_col2 {\n",
       "  background-color: #d6e5f4;\n",
       "  color: #000000;\n",
       "}\n",
       "#T_a56b9_row4_col1 {\n",
       "  background-color: #0e58a2;\n",
       "  color: #f1f1f1;\n",
       "}\n",
       "#T_a56b9_row5_col0, #T_a56b9_row8_col0 {\n",
       "  background-color: #99c7e0;\n",
       "  color: #000000;\n",
       "}\n",
       "#T_a56b9_row5_col1, #T_a56b9_row5_col3, #T_a56b9_row8_col1, #T_a56b9_row8_col3 {\n",
       "  background-color: #e8f1fa;\n",
       "  color: #000000;\n",
       "}\n",
       "#T_a56b9_row5_col2, #T_a56b9_row8_col2, #T_a56b9_row11_col0, #T_a56b9_row11_col1, #T_a56b9_row11_col3 {\n",
       "  background-color: #f7fbff;\n",
       "  color: #000000;\n",
       "}\n",
       "#T_a56b9_row6_col0 {\n",
       "  background-color: #b9d6ea;\n",
       "  color: #000000;\n",
       "}\n",
       "#T_a56b9_row6_col1 {\n",
       "  background-color: #dfecf7;\n",
       "  color: #000000;\n",
       "}\n",
       "#T_a56b9_row6_col2 {\n",
       "  background-color: #f5fafe;\n",
       "  color: #000000;\n",
       "}\n",
       "#T_a56b9_row6_col3 {\n",
       "  background-color: #ebf3fb;\n",
       "  color: #000000;\n",
       "}\n",
       "#T_a56b9_row7_col1 {\n",
       "  background-color: #eef5fc;\n",
       "  color: #000000;\n",
       "}\n",
       "#T_a56b9_row7_col2, #T_a56b9_row7_col3 {\n",
       "  background-color: #eff6fc;\n",
       "  color: #000000;\n",
       "}\n",
       "#T_a56b9_row9_col2 {\n",
       "  background-color: #0a539e;\n",
       "  color: #f1f1f1;\n",
       "}\n",
       "#T_a56b9_row10_col0 {\n",
       "  background-color: #1a68ae;\n",
       "  color: #f1f1f1;\n",
       "}\n",
       "#T_a56b9_row10_col1 {\n",
       "  background-color: #e5eff9;\n",
       "  color: #000000;\n",
       "}\n",
       "#T_a56b9_row11_col2 {\n",
       "  background-color: #cddff1;\n",
       "  color: #000000;\n",
       "}\n",
       "#T_a56b9_row12_col2, #T_a56b9_row17_col2 {\n",
       "  background-color: #d1e2f3;\n",
       "  color: #000000;\n",
       "}\n",
       "#T_a56b9_row13_col1 {\n",
       "  background-color: #084285;\n",
       "  color: #f1f1f1;\n",
       "}\n",
       "#T_a56b9_row14_col2 {\n",
       "  background-color: #dbe9f6;\n",
       "  color: #000000;\n",
       "}\n",
       "#T_a56b9_row15_col1 {\n",
       "  background-color: #ddeaf7;\n",
       "  color: #000000;\n",
       "}\n",
       "#T_a56b9_row16_col0 {\n",
       "  background-color: #0f5aa3;\n",
       "  color: #f1f1f1;\n",
       "}\n",
       "#T_a56b9_row16_col1 {\n",
       "  background-color: #e7f1fa;\n",
       "  color: #000000;\n",
       "}\n",
       "#T_a56b9_row16_col3 {\n",
       "  background-color: #f0f6fd;\n",
       "  color: #000000;\n",
       "}\n",
       "</style>\n",
       "<table id=\"T_a56b9\">\n",
       "  <thead>\n",
       "    <tr>\n",
       "      <th class=\"blank\" >&nbsp;</th>\n",
       "      <th class=\"blank level0\" >&nbsp;</th>\n",
       "      <th id=\"T_a56b9_level0_col0\" class=\"col_heading level0 col0\" >adventure</th>\n",
       "      <th id=\"T_a56b9_level0_col1\" class=\"col_heading level0 col1\" >chair</th>\n",
       "      <th id=\"T_a56b9_level0_col2\" class=\"col_heading level0 col2\" >present</th>\n",
       "      <th id=\"T_a56b9_level0_col3\" class=\"col_heading level0 col3\" >sportsman</th>\n",
       "    </tr>\n",
       "  </thead>\n",
       "  <tbody>\n",
       "    <tr>\n",
       "      <th id=\"T_a56b9_level0_row0\" class=\"row_heading level0 row0\" rowspan=\"4\">LM</th>\n",
       "      <th id=\"T_a56b9_level1_row0\" class=\"row_heading level1 row0\" >m_bert_cgcoh</th>\n",
       "      <td id=\"T_a56b9_row0_col0\" class=\"data row0 col0\" >nan</td>\n",
       "      <td id=\"T_a56b9_row0_col1\" class=\"data row0 col1\" >nan</td>\n",
       "      <td id=\"T_a56b9_row0_col2\" class=\"data row0 col2\" >0.527598</td>\n",
       "      <td id=\"T_a56b9_row0_col3\" class=\"data row0 col3\" >nan</td>\n",
       "    </tr>\n",
       "    <tr>\n",
       "      <th id=\"T_a56b9_level1_row1\" class=\"row_heading level1 row1\" >m_bert_gcoh</th>\n",
       "      <td id=\"T_a56b9_row1_col0\" class=\"data row1 col0\" >nan</td>\n",
       "      <td id=\"T_a56b9_row1_col1\" class=\"data row1 col1\" >nan</td>\n",
       "      <td id=\"T_a56b9_row1_col2\" class=\"data row1 col2\" >0.488948</td>\n",
       "      <td id=\"T_a56b9_row1_col3\" class=\"data row1 col3\" >nan</td>\n",
       "    </tr>\n",
       "    <tr>\n",
       "      <th id=\"T_a56b9_level1_row2\" class=\"row_heading level1 row2\" >m_bert_scoh</th>\n",
       "      <td id=\"T_a56b9_row2_col0\" class=\"data row2 col0\" >nan</td>\n",
       "      <td id=\"T_a56b9_row2_col1\" class=\"data row2 col1\" >nan</td>\n",
       "      <td id=\"T_a56b9_row2_col2\" class=\"data row2 col2\" >0.348218</td>\n",
       "      <td id=\"T_a56b9_row2_col3\" class=\"data row2 col3\" >nan</td>\n",
       "    </tr>\n",
       "    <tr>\n",
       "      <th id=\"T_a56b9_level1_row3\" class=\"row_heading level1 row3\" >m_raw_scoh</th>\n",
       "      <td id=\"T_a56b9_row3_col0\" class=\"data row3 col0\" >nan</td>\n",
       "      <td id=\"T_a56b9_row3_col1\" class=\"data row3 col1\" >nan</td>\n",
       "      <td id=\"T_a56b9_row3_col2\" class=\"data row3 col2\" >-0.406787</td>\n",
       "      <td id=\"T_a56b9_row3_col3\" class=\"data row3 col3\" >nan</td>\n",
       "    </tr>\n",
       "    <tr>\n",
       "      <th id=\"T_a56b9_level0_row4\" class=\"row_heading level0 row4\" rowspan=\"5\">graph</th>\n",
       "      <th id=\"T_a56b9_level1_row4\" class=\"row_heading level1 row4\" >L3</th>\n",
       "      <td id=\"T_a56b9_row4_col0\" class=\"data row4 col0\" >nan</td>\n",
       "      <td id=\"T_a56b9_row4_col1\" class=\"data row4 col1\" >0.343754</td>\n",
       "      <td id=\"T_a56b9_row4_col2\" class=\"data row4 col2\" >nan</td>\n",
       "      <td id=\"T_a56b9_row4_col3\" class=\"data row4 col3\" >nan</td>\n",
       "    </tr>\n",
       "    <tr>\n",
       "      <th id=\"T_a56b9_level1_row5\" class=\"row_heading level1 row5\" >LCC</th>\n",
       "      <td id=\"T_a56b9_row5_col0\" class=\"data row5 col0\" >-0.388013</td>\n",
       "      <td id=\"T_a56b9_row5_col1\" class=\"data row5 col1\" >-0.414896</td>\n",
       "      <td id=\"T_a56b9_row5_col2\" class=\"data row5 col2\" >-0.599808</td>\n",
       "      <td id=\"T_a56b9_row5_col3\" class=\"data row5 col3\" >-0.364088</td>\n",
       "    </tr>\n",
       "    <tr>\n",
       "      <th id=\"T_a56b9_level1_row6\" class=\"row_heading level1 row6\" >LSC</th>\n",
       "      <td id=\"T_a56b9_row6_col0\" class=\"data row6 col0\" >-0.393365</td>\n",
       "      <td id=\"T_a56b9_row6_col1\" class=\"data row6 col1\" >-0.371941</td>\n",
       "      <td id=\"T_a56b9_row6_col2\" class=\"data row6 col2\" >-0.590571</td>\n",
       "      <td id=\"T_a56b9_row6_col3\" class=\"data row6 col3\" >-0.375664</td>\n",
       "    </tr>\n",
       "    <tr>\n",
       "      <th id=\"T_a56b9_level1_row7\" class=\"row_heading level1 row7\" >number_of_edges</th>\n",
       "      <td id=\"T_a56b9_row7_col0\" class=\"data row7 col0\" >-0.353759</td>\n",
       "      <td id=\"T_a56b9_row7_col1\" class=\"data row7 col1\" >-0.446855</td>\n",
       "      <td id=\"T_a56b9_row7_col2\" class=\"data row7 col2\" >-0.551968</td>\n",
       "      <td id=\"T_a56b9_row7_col3\" class=\"data row7 col3\" >-0.392550</td>\n",
       "    </tr>\n",
       "    <tr>\n",
       "      <th id=\"T_a56b9_level1_row8\" class=\"row_heading level1 row8\" >number_of_nodes</th>\n",
       "      <td id=\"T_a56b9_row8_col0\" class=\"data row8 col0\" >-0.388013</td>\n",
       "      <td id=\"T_a56b9_row8_col1\" class=\"data row8 col1\" >-0.414896</td>\n",
       "      <td id=\"T_a56b9_row8_col2\" class=\"data row8 col2\" >-0.599808</td>\n",
       "      <td id=\"T_a56b9_row8_col3\" class=\"data row8 col3\" >-0.364088</td>\n",
       "    </tr>\n",
       "    <tr>\n",
       "      <th id=\"T_a56b9_level0_row9\" class=\"row_heading level0 row9\" rowspan=\"3\">lexical</th>\n",
       "      <th id=\"T_a56b9_level1_row9\" class=\"row_heading level1 row9\" >LTR</th>\n",
       "      <td id=\"T_a56b9_row9_col0\" class=\"data row9 col0\" >nan</td>\n",
       "      <td id=\"T_a56b9_row9_col1\" class=\"data row9 col1\" >0.496840</td>\n",
       "      <td id=\"T_a56b9_row9_col2\" class=\"data row9 col2\" >0.374398</td>\n",
       "      <td id=\"T_a56b9_row9_col3\" class=\"data row9 col3\" >0.417500</td>\n",
       "    </tr>\n",
       "    <tr>\n",
       "      <th id=\"T_a56b9_level1_row10\" class=\"row_heading level1 row10\" >MALTR</th>\n",
       "      <td id=\"T_a56b9_row10_col0\" class=\"data row10 col0\" >-0.365909</td>\n",
       "      <td id=\"T_a56b9_row10_col1\" class=\"data row10 col1\" >-0.399129</td>\n",
       "      <td id=\"T_a56b9_row10_col2\" class=\"data row10 col2\" >nan</td>\n",
       "      <td id=\"T_a56b9_row10_col3\" class=\"data row10 col3\" >nan</td>\n",
       "    </tr>\n",
       "    <tr>\n",
       "      <th id=\"T_a56b9_level1_row11\" class=\"row_heading level1 row11\" >n_words</th>\n",
       "      <td id=\"T_a56b9_row11_col0\" class=\"data row11 col0\" >-0.409715</td>\n",
       "      <td id=\"T_a56b9_row11_col1\" class=\"data row11 col1\" >-0.490820</td>\n",
       "      <td id=\"T_a56b9_row11_col2\" class=\"data row11 col2\" >-0.355221</td>\n",
       "      <td id=\"T_a56b9_row11_col3\" class=\"data row11 col3\" >-0.427873</td>\n",
       "    </tr>\n",
       "    <tr>\n",
       "      <th id=\"T_a56b9_level0_row12\" class=\"row_heading level0 row12\" rowspan=\"6\">syntactic</th>\n",
       "      <th id=\"T_a56b9_level1_row12\" class=\"row_heading level1 row12\" >CCONJ</th>\n",
       "      <td id=\"T_a56b9_row12_col0\" class=\"data row12 col0\" >nan</td>\n",
       "      <td id=\"T_a56b9_row12_col1\" class=\"data row12 col1\" >nan</td>\n",
       "      <td id=\"T_a56b9_row12_col2\" class=\"data row12 col2\" >-0.382288</td>\n",
       "      <td id=\"T_a56b9_row12_col3\" class=\"data row12 col3\" >nan</td>\n",
       "    </tr>\n",
       "    <tr>\n",
       "      <th id=\"T_a56b9_level1_row13\" class=\"row_heading level1 row13\" >PART</th>\n",
       "      <td id=\"T_a56b9_row13_col0\" class=\"data row13 col0\" >nan</td>\n",
       "      <td id=\"T_a56b9_row13_col1\" class=\"data row13 col1\" >0.428212</td>\n",
       "      <td id=\"T_a56b9_row13_col2\" class=\"data row13 col2\" >nan</td>\n",
       "      <td id=\"T_a56b9_row13_col3\" class=\"data row13 col3\" >nan</td>\n",
       "    </tr>\n",
       "    <tr>\n",
       "      <th id=\"T_a56b9_level1_row14\" class=\"row_heading level1 row14\" >max_sent_len</th>\n",
       "      <td id=\"T_a56b9_row14_col0\" class=\"data row14 col0\" >nan</td>\n",
       "      <td id=\"T_a56b9_row14_col1\" class=\"data row14 col1\" >nan</td>\n",
       "      <td id=\"T_a56b9_row14_col2\" class=\"data row14 col2\" >-0.438118</td>\n",
       "      <td id=\"T_a56b9_row14_col3\" class=\"data row14 col3\" >nan</td>\n",
       "    </tr>\n",
       "    <tr>\n",
       "      <th id=\"T_a56b9_level1_row15\" class=\"row_heading level1 row15\" >mean_sent_len</th>\n",
       "      <td id=\"T_a56b9_row15_col0\" class=\"data row15 col0\" >nan</td>\n",
       "      <td id=\"T_a56b9_row15_col1\" class=\"data row15 col1\" >-0.359784</td>\n",
       "      <td id=\"T_a56b9_row15_col2\" class=\"data row15 col2\" >nan</td>\n",
       "      <td id=\"T_a56b9_row15_col3\" class=\"data row15 col3\" >nan</td>\n",
       "    </tr>\n",
       "    <tr>\n",
       "      <th id=\"T_a56b9_level1_row16\" class=\"row_heading level1 row16\" >n_sents</th>\n",
       "      <td id=\"T_a56b9_row16_col0\" class=\"data row16 col0\" >-0.362799</td>\n",
       "      <td id=\"T_a56b9_row16_col1\" class=\"data row16 col1\" >-0.410868</td>\n",
       "      <td id=\"T_a56b9_row16_col2\" class=\"data row16 col2\" >nan</td>\n",
       "      <td id=\"T_a56b9_row16_col3\" class=\"data row16 col3\" >-0.396735</td>\n",
       "    </tr>\n",
       "    <tr>\n",
       "      <th id=\"T_a56b9_level1_row17\" class=\"row_heading level1 row17\" >std_sent_len</th>\n",
       "      <td id=\"T_a56b9_row17_col0\" class=\"data row17 col0\" >nan</td>\n",
       "      <td id=\"T_a56b9_row17_col1\" class=\"data row17 col1\" >nan</td>\n",
       "      <td id=\"T_a56b9_row17_col2\" class=\"data row17 col2\" >-0.380691</td>\n",
       "      <td id=\"T_a56b9_row17_col3\" class=\"data row17 col3\" >nan</td>\n",
       "    </tr>\n",
       "  </tbody>\n",
       "</table>\n"
      ],
      "text/plain": [
       "<pandas.io.formats.style.Styler at 0x7f9aad375dc0>"
      ]
     },
     "execution_count": 111,
     "metadata": {},
     "output_type": "execute_result"
    }
   ],
   "source": [
    "style(aplly_to_all_tasks(merge_df, corr_thresh, target=('target', 'panss_o')))"
   ]
  },
  {
   "cell_type": "markdown",
   "id": "bba33a3a",
   "metadata": {},
   "source": [
    "## Ordered Model"
   ]
  },
  {
   "cell_type": "code",
   "execution_count": 112,
   "id": "a36d5bb9",
   "metadata": {},
   "outputs": [],
   "source": [
    "psy_td = df[~pd.isna(df['td.severity'])]"
   ]
  },
  {
   "cell_type": "code",
   "execution_count": 215,
   "id": "27cf3825",
   "metadata": {},
   "outputs": [],
   "source": [
    "psy_td['td.severity'] = psy_td.loc[:,'td.severity'].astype(pd.CategoricalDtype(ordered=True))\n",
    "psy_td = psy_td.loc[psy_td[['td.severity', 'panss_total', 'panss_pos', 'panss_neg']].dropna().index]"
   ]
  },
  {
   "cell_type": "code",
   "execution_count": 208,
   "id": "620cf09e",
   "metadata": {},
   "outputs": [],
   "source": [
    "def compute_pseudo_rsquared_ordered(df, target_col, predictor_cols):\n",
    "    df = df.loc[df[[target_col] + predictor_cols].dropna().index]\n",
    "    mod_prob = OrderedModel(df[target_col],\n",
    "                        df[predictor_cols],\n",
    "                        distr='probit')\n",
    "\n",
    "    res_prob = mod_prob.fit(method='bfgs', disp=0)\n",
    "    return res_prob.prsquared"
   ]
  },
  {
   "cell_type": "code",
   "execution_count": 209,
   "id": "aac12c74",
   "metadata": {},
   "outputs": [
    {
     "data": {
      "text/plain": [
       "0.6742463723003046"
      ]
     },
     "execution_count": 209,
     "metadata": {},
     "output_type": "execute_result"
    }
   ],
   "source": [
    "compute_pseudo_rsquared_ordered(psy_td, 'td.severity', ['panss_total', 'panss_pos', 'panss_neg'])"
   ]
  },
  {
   "cell_type": "code",
   "execution_count": 210,
   "id": "0fe82ada",
   "metadata": {},
   "outputs": [
    {
     "data": {
      "text/plain": [
       "0.6665934072022907"
      ]
     },
     "execution_count": 210,
     "metadata": {},
     "output_type": "execute_result"
    }
   ],
   "source": [
    "compute_pseudo_rsquared_ordered(psy_td, 'td.severity', ['panss_total', 'panss_pos'])"
   ]
  },
  {
   "cell_type": "code",
   "execution_count": 211,
   "id": "09f7f8fc",
   "metadata": {},
   "outputs": [
    {
     "data": {
      "text/plain": [
       "0.5952968595542267"
      ]
     },
     "execution_count": 211,
     "metadata": {},
     "output_type": "execute_result"
    }
   ],
   "source": [
    "compute_pseudo_rsquared_ordered(psy_td, 'td.severity', ['panss_total'])"
   ]
  },
  {
   "cell_type": "code",
   "execution_count": 212,
   "id": "126502af",
   "metadata": {},
   "outputs": [
    {
     "data": {
      "text/plain": [
       "0.020654112989205275"
      ]
     },
     "execution_count": 212,
     "metadata": {},
     "output_type": "execute_result"
    }
   ],
   "source": [
    "compute_pseudo_rsquared_ordered(psy_td, 'dep.severity', ['panss_neg'])"
   ]
  },
  {
   "cell_type": "code",
   "execution_count": 213,
   "id": "41bc0d69",
   "metadata": {},
   "outputs": [
    {
     "data": {
      "text/plain": [
       "0.18924309868"
      ]
     },
     "execution_count": 213,
     "metadata": {},
     "output_type": "execute_result"
    }
   ],
   "source": [
    "compute_pseudo_rsquared_ordered(psy_td, 'dep.severity', ['panss_o'])"
   ]
  },
  {
   "cell_type": "code",
   "execution_count": 221,
   "id": "ec7398db",
   "metadata": {},
   "outputs": [
    {
     "data": {
      "text/plain": [
       "0.06443780408932076"
      ]
     },
     "execution_count": 221,
     "metadata": {},
     "output_type": "execute_result"
    }
   ],
   "source": [
    "compute_pseudo_rsquared_ordered(chair, ('target', 'dep.severity'), [('LM', 'm_cgcoh')])"
   ]
  },
  {
   "cell_type": "markdown",
   "id": "82daf7e1",
   "metadata": {},
   "source": [
    "## Length"
   ]
  },
  {
   "cell_type": "code",
   "execution_count": 118,
   "id": "c28db1e2",
   "metadata": {},
   "outputs": [
    {
     "data": {
      "text/html": [
       "<style type=\"text/css\">\n",
       "#T_3222e_row0_col0, #T_3222e_row0_col2, #T_3222e_row0_col3, #T_3222e_row1_col0, #T_3222e_row1_col2, #T_3222e_row1_col3, #T_3222e_row2_col0, #T_3222e_row2_col2, #T_3222e_row2_col3, #T_3222e_row3_col0, #T_3222e_row3_col1, #T_3222e_row3_col2, #T_3222e_row4_col0, #T_3222e_row4_col1, #T_3222e_row4_col2, #T_3222e_row5_col0, #T_3222e_row5_col1, #T_3222e_row5_col2, #T_3222e_row6_col0, #T_3222e_row6_col1, #T_3222e_row6_col2, #T_3222e_row7_col0, #T_3222e_row7_col1, #T_3222e_row7_col2, #T_3222e_row8_col0, #T_3222e_row8_col1, #T_3222e_row8_col2, #T_3222e_row9_col1, #T_3222e_row9_col2, #T_3222e_row9_col3, #T_3222e_row10_col1, #T_3222e_row10_col2, #T_3222e_row10_col3, #T_3222e_row11_col0, #T_3222e_row11_col1, #T_3222e_row11_col2, #T_3222e_row12_col1, #T_3222e_row12_col2, #T_3222e_row13_col1, #T_3222e_row13_col2, #T_3222e_row13_col3, #T_3222e_row14_col1, #T_3222e_row14_col2, #T_3222e_row15_col0, #T_3222e_row15_col1, #T_3222e_row15_col2, #T_3222e_row17_col0, #T_3222e_row17_col1, #T_3222e_row17_col2, #T_3222e_row18_col3 {\n",
       "  background-color: #000000;\n",
       "  color: #f1f1f1;\n",
       "  color: white;\n",
       "  background-color: white;\n",
       "}\n",
       "#T_3222e_row0_col1, #T_3222e_row12_col0, #T_3222e_row12_col3, #T_3222e_row16_col2 {\n",
       "  background-color: #f7fbff;\n",
       "  color: #000000;\n",
       "}\n",
       "#T_3222e_row1_col1 {\n",
       "  background-color: #f5f9fe;\n",
       "  color: #000000;\n",
       "}\n",
       "#T_3222e_row2_col1 {\n",
       "  background-color: #ecf4fb;\n",
       "  color: #000000;\n",
       "}\n",
       "#T_3222e_row3_col3, #T_3222e_row4_col3 {\n",
       "  background-color: #0b559f;\n",
       "  color: #f1f1f1;\n",
       "}\n",
       "#T_3222e_row5_col3 {\n",
       "  background-color: #083979;\n",
       "  color: #f1f1f1;\n",
       "}\n",
       "#T_3222e_row6_col3, #T_3222e_row16_col0 {\n",
       "  background-color: #083b7c;\n",
       "  color: #f1f1f1;\n",
       "}\n",
       "#T_3222e_row7_col3 {\n",
       "  background-color: #084b93;\n",
       "  color: #f1f1f1;\n",
       "}\n",
       "#T_3222e_row8_col3 {\n",
       "  background-color: #08458a;\n",
       "  color: #f1f1f1;\n",
       "}\n",
       "#T_3222e_row9_col0, #T_3222e_row13_col0 {\n",
       "  background-color: #084e98;\n",
       "  color: #f1f1f1;\n",
       "}\n",
       "#T_3222e_row10_col0 {\n",
       "  background-color: #105ba4;\n",
       "  color: #f1f1f1;\n",
       "}\n",
       "#T_3222e_row11_col3 {\n",
       "  background-color: #e0ecf8;\n",
       "  color: #000000;\n",
       "}\n",
       "#T_3222e_row14_col0, #T_3222e_row17_col3, #T_3222e_row18_col0, #T_3222e_row18_col1, #T_3222e_row18_col2 {\n",
       "  background-color: #08306b;\n",
       "  color: #f1f1f1;\n",
       "}\n",
       "#T_3222e_row14_col3 {\n",
       "  background-color: #083674;\n",
       "  color: #f1f1f1;\n",
       "}\n",
       "#T_3222e_row15_col3 {\n",
       "  background-color: #08519c;\n",
       "  color: #f1f1f1;\n",
       "}\n",
       "#T_3222e_row16_col1 {\n",
       "  background-color: #083573;\n",
       "  color: #f1f1f1;\n",
       "}\n",
       "#T_3222e_row16_col3 {\n",
       "  background-color: #084d96;\n",
       "  color: #f1f1f1;\n",
       "}\n",
       "</style>\n",
       "<table id=\"T_3222e\">\n",
       "  <thead>\n",
       "    <tr>\n",
       "      <th class=\"blank\" >&nbsp;</th>\n",
       "      <th class=\"blank level0\" >&nbsp;</th>\n",
       "      <th id=\"T_3222e_level0_col0\" class=\"col_heading level0 col0\" >adventure</th>\n",
       "      <th id=\"T_3222e_level0_col1\" class=\"col_heading level0 col1\" >chair</th>\n",
       "      <th id=\"T_3222e_level0_col2\" class=\"col_heading level0 col2\" >present</th>\n",
       "      <th id=\"T_3222e_level0_col3\" class=\"col_heading level0 col3\" >sportsman</th>\n",
       "    </tr>\n",
       "  </thead>\n",
       "  <tbody>\n",
       "    <tr>\n",
       "      <th id=\"T_3222e_level0_row0\" class=\"row_heading level0 row0\" rowspan=\"9\">LM</th>\n",
       "      <th id=\"T_3222e_level1_row0\" class=\"row_heading level1 row0\" >m_bert_cgcoh</th>\n",
       "      <td id=\"T_3222e_row0_col0\" class=\"data row0 col0\" >nan</td>\n",
       "      <td id=\"T_3222e_row0_col1\" class=\"data row0 col1\" >-0.574943</td>\n",
       "      <td id=\"T_3222e_row0_col2\" class=\"data row0 col2\" >nan</td>\n",
       "      <td id=\"T_3222e_row0_col3\" class=\"data row0 col3\" >nan</td>\n",
       "    </tr>\n",
       "    <tr>\n",
       "      <th id=\"T_3222e_level1_row1\" class=\"row_heading level1 row1\" >m_bert_gcoh</th>\n",
       "      <td id=\"T_3222e_row1_col0\" class=\"data row1 col0\" >nan</td>\n",
       "      <td id=\"T_3222e_row1_col1\" class=\"data row1 col1\" >-0.559900</td>\n",
       "      <td id=\"T_3222e_row1_col2\" class=\"data row1 col2\" >nan</td>\n",
       "      <td id=\"T_3222e_row1_col3\" class=\"data row1 col3\" >nan</td>\n",
       "    </tr>\n",
       "    <tr>\n",
       "      <th id=\"T_3222e_level1_row2\" class=\"row_heading level1 row2\" >m_bert_scoh</th>\n",
       "      <td id=\"T_3222e_row2_col0\" class=\"data row2 col0\" >nan</td>\n",
       "      <td id=\"T_3222e_row2_col1\" class=\"data row2 col1\" >-0.506494</td>\n",
       "      <td id=\"T_3222e_row2_col2\" class=\"data row2 col2\" >nan</td>\n",
       "      <td id=\"T_3222e_row2_col3\" class=\"data row2 col3\" >nan</td>\n",
       "    </tr>\n",
       "    <tr>\n",
       "      <th id=\"T_3222e_level1_row3\" class=\"row_heading level1 row3\" >m_cgcoh</th>\n",
       "      <td id=\"T_3222e_row3_col0\" class=\"data row3 col0\" >nan</td>\n",
       "      <td id=\"T_3222e_row3_col1\" class=\"data row3 col1\" >nan</td>\n",
       "      <td id=\"T_3222e_row3_col2\" class=\"data row3 col2\" >nan</td>\n",
       "      <td id=\"T_3222e_row3_col3\" class=\"data row3 col3\" >0.512129</td>\n",
       "    </tr>\n",
       "    <tr>\n",
       "      <th id=\"T_3222e_level1_row4\" class=\"row_heading level1 row4\" >m_gcoh</th>\n",
       "      <td id=\"T_3222e_row4_col0\" class=\"data row4 col0\" >nan</td>\n",
       "      <td id=\"T_3222e_row4_col1\" class=\"data row4 col1\" >nan</td>\n",
       "      <td id=\"T_3222e_row4_col2\" class=\"data row4 col2\" >nan</td>\n",
       "      <td id=\"T_3222e_row4_col3\" class=\"data row4 col3\" >0.512739</td>\n",
       "    </tr>\n",
       "    <tr>\n",
       "      <th id=\"T_3222e_level1_row5\" class=\"row_heading level1 row5\" >m_raw_cgcoh</th>\n",
       "      <td id=\"T_3222e_row5_col0\" class=\"data row5 col0\" >nan</td>\n",
       "      <td id=\"T_3222e_row5_col1\" class=\"data row5 col1\" >nan</td>\n",
       "      <td id=\"T_3222e_row5_col2\" class=\"data row5 col2\" >nan</td>\n",
       "      <td id=\"T_3222e_row5_col3\" class=\"data row5 col3\" >0.659808</td>\n",
       "    </tr>\n",
       "    <tr>\n",
       "      <th id=\"T_3222e_level1_row6\" class=\"row_heading level1 row6\" >m_raw_gcoh</th>\n",
       "      <td id=\"T_3222e_row6_col0\" class=\"data row6 col0\" >nan</td>\n",
       "      <td id=\"T_3222e_row6_col1\" class=\"data row6 col1\" >nan</td>\n",
       "      <td id=\"T_3222e_row6_col2\" class=\"data row6 col2\" >nan</td>\n",
       "      <td id=\"T_3222e_row6_col3\" class=\"data row6 col3\" >0.653075</td>\n",
       "    </tr>\n",
       "    <tr>\n",
       "      <th id=\"T_3222e_level1_row7\" class=\"row_heading level1 row7\" >m_raw_lcoh</th>\n",
       "      <td id=\"T_3222e_row7_col0\" class=\"data row7 col0\" >nan</td>\n",
       "      <td id=\"T_3222e_row7_col1\" class=\"data row7 col1\" >nan</td>\n",
       "      <td id=\"T_3222e_row7_col2\" class=\"data row7 col2\" >nan</td>\n",
       "      <td id=\"T_3222e_row7_col3\" class=\"data row7 col3\" >0.569963</td>\n",
       "    </tr>\n",
       "    <tr>\n",
       "      <th id=\"T_3222e_level1_row8\" class=\"row_heading level1 row8\" >m_raw_scoh</th>\n",
       "      <td id=\"T_3222e_row8_col0\" class=\"data row8 col0\" >nan</td>\n",
       "      <td id=\"T_3222e_row8_col1\" class=\"data row8 col1\" >nan</td>\n",
       "      <td id=\"T_3222e_row8_col2\" class=\"data row8 col2\" >nan</td>\n",
       "      <td id=\"T_3222e_row8_col3\" class=\"data row8 col3\" >0.603958</td>\n",
       "    </tr>\n",
       "    <tr>\n",
       "      <th id=\"T_3222e_level0_row9\" class=\"row_heading level0 row9\" rowspan=\"5\">graph</th>\n",
       "      <th id=\"T_3222e_level1_row9\" class=\"row_heading level1 row9\" >LCC</th>\n",
       "      <td id=\"T_3222e_row9_col0\" class=\"data row9 col0\" >0.599672</td>\n",
       "      <td id=\"T_3222e_row9_col1\" class=\"data row9 col1\" >nan</td>\n",
       "      <td id=\"T_3222e_row9_col2\" class=\"data row9 col2\" >nan</td>\n",
       "      <td id=\"T_3222e_row9_col3\" class=\"data row9 col3\" >nan</td>\n",
       "    </tr>\n",
       "    <tr>\n",
       "      <th id=\"T_3222e_level1_row10\" class=\"row_heading level1 row10\" >LSC</th>\n",
       "      <td id=\"T_3222e_row10_col0\" class=\"data row10 col0\" >0.532768</td>\n",
       "      <td id=\"T_3222e_row10_col1\" class=\"data row10 col1\" >nan</td>\n",
       "      <td id=\"T_3222e_row10_col2\" class=\"data row10 col2\" >nan</td>\n",
       "      <td id=\"T_3222e_row10_col3\" class=\"data row10 col3\" >nan</td>\n",
       "    </tr>\n",
       "    <tr>\n",
       "      <th id=\"T_3222e_level1_row11\" class=\"row_heading level1 row11\" >degree_average</th>\n",
       "      <td id=\"T_3222e_row11_col0\" class=\"data row11 col0\" >nan</td>\n",
       "      <td id=\"T_3222e_row11_col1\" class=\"data row11 col1\" >nan</td>\n",
       "      <td id=\"T_3222e_row11_col2\" class=\"data row11 col2\" >nan</td>\n",
       "      <td id=\"T_3222e_row11_col3\" class=\"data row11 col3\" >-0.524307</td>\n",
       "    </tr>\n",
       "    <tr>\n",
       "      <th id=\"T_3222e_level1_row12\" class=\"row_heading level1 row12\" >degree_std</th>\n",
       "      <td id=\"T_3222e_row12_col0\" class=\"data row12 col0\" >-0.555774</td>\n",
       "      <td id=\"T_3222e_row12_col1\" class=\"data row12 col1\" >nan</td>\n",
       "      <td id=\"T_3222e_row12_col2\" class=\"data row12 col2\" >nan</td>\n",
       "      <td id=\"T_3222e_row12_col3\" class=\"data row12 col3\" >-0.684942</td>\n",
       "    </tr>\n",
       "    <tr>\n",
       "      <th id=\"T_3222e_level1_row13\" class=\"row_heading level1 row13\" >number_of_nodes</th>\n",
       "      <td id=\"T_3222e_row13_col0\" class=\"data row13 col0\" >0.599672</td>\n",
       "      <td id=\"T_3222e_row13_col1\" class=\"data row13 col1\" >nan</td>\n",
       "      <td id=\"T_3222e_row13_col2\" class=\"data row13 col2\" >nan</td>\n",
       "      <td id=\"T_3222e_row13_col3\" class=\"data row13 col3\" >nan</td>\n",
       "    </tr>\n",
       "    <tr>\n",
       "      <th id=\"T_3222e_level0_row14\" class=\"row_heading level0 row14\" >lexical</th>\n",
       "      <th id=\"T_3222e_level1_row14\" class=\"row_heading level1 row14\" >MALTR</th>\n",
       "      <td id=\"T_3222e_row14_col0\" class=\"data row14 col0\" >0.748821</td>\n",
       "      <td id=\"T_3222e_row14_col1\" class=\"data row14 col1\" >nan</td>\n",
       "      <td id=\"T_3222e_row14_col2\" class=\"data row14 col2\" >nan</td>\n",
       "      <td id=\"T_3222e_row14_col3\" class=\"data row14 col3\" >0.676491</td>\n",
       "    </tr>\n",
       "    <tr>\n",
       "      <th id=\"T_3222e_level0_row15\" class=\"row_heading level0 row15\" rowspan=\"4\">syntactic</th>\n",
       "      <th id=\"T_3222e_level1_row15\" class=\"row_heading level1 row15\" >SCONJ</th>\n",
       "      <td id=\"T_3222e_row15_col0\" class=\"data row15 col0\" >nan</td>\n",
       "      <td id=\"T_3222e_row15_col1\" class=\"data row15 col1\" >nan</td>\n",
       "      <td id=\"T_3222e_row15_col2\" class=\"data row15 col2\" >nan</td>\n",
       "      <td id=\"T_3222e_row15_col3\" class=\"data row15 col3\" >0.534734</td>\n",
       "    </tr>\n",
       "    <tr>\n",
       "      <th id=\"T_3222e_level1_row16\" class=\"row_heading level1 row16\" >max_sent_len</th>\n",
       "      <td id=\"T_3222e_row16_col0\" class=\"data row16 col0\" >0.690623</td>\n",
       "      <td id=\"T_3222e_row16_col1\" class=\"data row16 col1\" >0.627771</td>\n",
       "      <td id=\"T_3222e_row16_col2\" class=\"data row16 col2\" >0.816636</td>\n",
       "      <td id=\"T_3222e_row16_col3\" class=\"data row16 col3\" >0.561090</td>\n",
       "    </tr>\n",
       "    <tr>\n",
       "      <th id=\"T_3222e_level1_row17\" class=\"row_heading level1 row17\" >min_sent_len</th>\n",
       "      <td id=\"T_3222e_row17_col0\" class=\"data row17 col0\" >nan</td>\n",
       "      <td id=\"T_3222e_row17_col1\" class=\"data row17 col1\" >nan</td>\n",
       "      <td id=\"T_3222e_row17_col2\" class=\"data row17 col2\" >nan</td>\n",
       "      <td id=\"T_3222e_row17_col3\" class=\"data row17 col3\" >0.714359</td>\n",
       "    </tr>\n",
       "    <tr>\n",
       "      <th id=\"T_3222e_level1_row18\" class=\"row_heading level1 row18\" >std_sent_len</th>\n",
       "      <td id=\"T_3222e_row18_col0\" class=\"data row18 col0\" >0.747538</td>\n",
       "      <td id=\"T_3222e_row18_col1\" class=\"data row18 col1\" >0.655367</td>\n",
       "      <td id=\"T_3222e_row18_col2\" class=\"data row18 col2\" >0.876247</td>\n",
       "      <td id=\"T_3222e_row18_col3\" class=\"data row18 col3\" >nan</td>\n",
       "    </tr>\n",
       "  </tbody>\n",
       "</table>\n"
      ],
      "text/plain": [
       "<pandas.io.formats.style.Styler at 0x7f9aad3e8f70>"
      ]
     },
     "execution_count": 118,
     "metadata": {},
     "output_type": "execute_result"
    }
   ],
   "source": [
    "tasks_len = aplly_to_all_tasks(merge_df, corr_thresh, target=('syntactic', 'mean_sent_len'), thresh=0.5)\n",
    "tasks_len.drop(index=[('syntactic', 'mean_sent_len')], inplace=True)\n",
    "style(tasks_len)"
   ]
  },
  {
   "cell_type": "code",
   "execution_count": 119,
   "id": "4f2016ab",
   "metadata": {},
   "outputs": [],
   "source": [
    "tasks_len = aplly_to_all_tasks(merge_df, corr_thresh, target=('syntactic', 'mean_sent_len'), thresh=0.)\n",
    "tasks_len.drop(index=[('syntactic', 'mean_sent_len')], inplace=True)"
   ]
  },
  {
   "cell_type": "code",
   "execution_count": 120,
   "id": "c3c0ae26",
   "metadata": {},
   "outputs": [],
   "source": [
    "ex_df = pd.DataFrame()\n",
    "for task in TASKS:\n",
    "    df_ = pd.DataFrame()\n",
    "    df_['metric'] = tasks_len[task]\n",
    "    df_['task'] = task\n",
    "    df_['index'] = [x[1] for x in df_.index]\n",
    "    df_['type'] = [x[0] for x in df_.index]\n",
    "    ex_df = pd.concat([ex_df, df_])"
   ]
  },
  {
   "cell_type": "code",
   "execution_count": 121,
   "id": "c116d7e6",
   "metadata": {},
   "outputs": [],
   "source": [
    "def catplot(data, x, y, hue, col=None, ax=None):\n",
    "    sns.set_theme(style=\"whitegrid\")\n",
    "\n",
    "    # Draw a pointplot to show pulse as a function of three categorical factors\n",
    "    g = sns.catplot(\n",
    "        data=data, x=x, y=y, hue=hue, col=col,\n",
    "        capsize=.2,  # errorbar=\"se\",\n",
    "        kind=\"point\", height=6, aspect=.75, ax=ax)\n",
    "    g.despine(left=True);"
   ]
  },
  {
   "cell_type": "code",
   "execution_count": 122,
   "id": "7d4f026e",
   "metadata": {},
   "outputs": [],
   "source": [
    "def pointplot(data, x, y, hue,  ax=None):\n",
    "    sns.set_theme(style=\"whitegrid\")\n",
    "\n",
    "    g = sns.pointplot(\n",
    "        data=data, x=x, y=y, hue=hue,\n",
    "        capsize=.2,  # errorbar=\"se\",\n",
    "        ax=ax);"
   ]
  },
  {
   "cell_type": "code",
   "execution_count": 123,
   "id": "b1fa4ce8",
   "metadata": {},
   "outputs": [
    {
     "data": {
      "image/png": "[encoded data removed]",
      "text/plain": [
       "<Figure size 1080x720 with 4 Axes>"
      ]
     },
     "metadata": {
      "needs_background": "light"
     },
     "output_type": "display_data"
    }
   ],
   "source": [
    "fig, axes = plt.subplots(2, 2, figsize=(15, 10))\n",
    "fig.suptitle('corr len')\n",
    "\n",
    "pointplot(ex_df.loc['LM'], x=\"task\", y=\"metric\", hue=\"index\", ax=axes[0, 0])\n",
    "pointplot(ex_df.loc['syntactic'], x=\"task\", y=\"metric\", hue=\"index\", ax=axes[0, 1])\n",
    "pointplot(ex_df.loc['lexical'], x=\"task\", y=\"metric\", hue=\"index\", ax=axes[1, 0])\n",
    "pointplot(ex_df.loc['graph'], x=\"task\", y=\"metric\", hue=\"index\", ax=axes[1, 1])\n",
    "\n",
    "# for ax, col in zip(axes[0], ('total', 'positive', 'negative')):\n",
    "#     ax.set_title(col)\n",
    "\n",
    "# for ax, row in zip(axes[:,0], ('NAP', 'Dep', 'HC')):\n",
    "#     ax.set_ylabel(row, rotation=0, size='large')"
   ]
  },
  {
   "cell_type": "code",
   "execution_count": 124,
   "id": "692326b8",
   "metadata": {},
   "outputs": [
    {
     "name": "stderr",
     "output_type": "stream",
     "text": [
      "/Users/galina.ryazanskaya/miniconda3/lib/python3.9/site-packages/seaborn/categorical.py:3025: UserWarning: catplot is a figure-level function and does not accept target axes. You may wish to try pointplot\n",
      "  warnings.warn(msg, UserWarning)\n"
     ]
    },
    {
     "data": {
      "image/png": "[encoded data removed]",
      "text/plain": [
       "<Figure size 1424.6x432 with 4 Axes>"
      ]
     },
     "metadata": {},
     "output_type": "display_data"
    }
   ],
   "source": [
    "catplot(ex_df, x=\"task\", y=\"metric\", hue=\"index\", col=\"type\")"
   ]
  },
  {
   "cell_type": "markdown",
   "id": "2817f76d",
   "metadata": {},
   "source": [
    "## Corr corrected for length"
   ]
  },
  {
   "cell_type": "code",
   "execution_count": 125,
   "id": "0203fc10",
   "metadata": {},
   "outputs": [
    {
     "data": {
      "text/plain": [
       "0.13965153537595465"
      ]
     },
     "execution_count": 125,
     "metadata": {},
     "output_type": "execute_result"
    }
   ],
   "source": [
    "compute_coefficient(chair, ('target', 'panss_total'), ('syntactic', 'mean_sent_len'),\n",
    "                    column_names=['sent len'], target_name='panss', add_sq=False)[0]"
   ]
  },
  {
   "cell_type": "code",
   "execution_count": 126,
   "id": "9a2db66e",
   "metadata": {},
   "outputs": [
    {
     "data": {
      "text/plain": [
       "0.05067787087225517"
      ]
     },
     "execution_count": 126,
     "metadata": {},
     "output_type": "execute_result"
    }
   ],
   "source": [
    "compute_coefficient(chair, ('target', 'panss_total'), ('syntactic', 'AUX'),\n",
    "                    column_names=['sent len'], target_name='panss', add_sq=False)[0]"
   ]
  },
  {
   "cell_type": "code",
   "execution_count": 127,
   "id": "fab16740",
   "metadata": {},
   "outputs": [
    {
     "data": {
      "text/plain": [
       "0.05601521546776389"
      ]
     },
     "execution_count": 127,
     "metadata": {},
     "output_type": "execute_result"
    }
   ],
   "source": [
    "compute_ortogonolized_coefficient(chair, ('target', 'panss_total'), ('syntactic', 'mean_sent_len'), ('syntactic', 'AUX'),\n",
    "                                  column_names=['sent len'], target_name='panss', add_sq=False)[0]"
   ]
  },
  {
   "cell_type": "code",
   "execution_count": 128,
   "id": "71c09737",
   "metadata": {},
   "outputs": [],
   "source": [
    "scale_cols = [('target', x) for x in ['panss_pos', 'panss_neg', 'panss_o', 'panss_total']]"
   ]
  },
  {
   "cell_type": "markdown",
   "id": "49711fc2",
   "metadata": {},
   "source": [
    "#### compare"
   ]
  },
  {
   "cell_type": "code",
   "execution_count": 129,
   "id": "37eb30ba",
   "metadata": {},
   "outputs": [],
   "source": [
    "# test_two_groups = ('sz', 'control_psy')\n",
    "# groups = merge_df[merge_df[('target', 'target', 'diagnosis.type')].isin(test_two_groups)]\n",
    "# chair_group = task_data(groups, 'chair')\n",
    "# chair_group[('target', 'group')] = chair_group[('target', 'diagnosis.type')].apply(lambda x: 0 if x =='control_psy' else 1)\n"
   ]
  },
  {
   "cell_type": "code",
   "execution_count": 130,
   "id": "4145a7ec",
   "metadata": {},
   "outputs": [],
   "source": [
    "# a = 0.001\n",
    "# s_t, res_t = display_group_test(chair_group, cols_tasks, ('target', 'diagnosis.type'), stats.ttest_ind, stat_name='t', alpha=a)"
   ]
  },
  {
   "cell_type": "code",
   "execution_count": 131,
   "id": "1fb607c1",
   "metadata": {},
   "outputs": [],
   "source": [
    "# s_panss, r_panss = display_test(chair, cols_tasks, ('target','panss_total'), stats.pearsonr, stat_name='r', alpha=a)\n",
    "# s_panss_pos, r_panss_pos = display_test(chair, cols_tasks, ('target', 'panss_pos'), stats.pearsonr, stat_name='r', alpha=a)\n",
    "# s_panss_neg, r_panss_neg = display_test(chair, cols_tasks, ('target','panss_neg'), stats.pearsonr, stat_name='r', alpha=a)\n",
    "# s_panss_o, r_panss_o = display_test(chair, cols_tasks, ('target', 'panss_o'), stats.pearsonr, stat_name='r', alpha=a)\n",
    "# combined_corr = pd.concat([res_t, r_panss, r_panss_pos, r_panss_neg, r_panss_o], \n",
    "#                      keys= ['t_test'] + [s[1] for s in scale_cols], \n",
    "#                      names=[\"scale\"], axis=1)"
   ]
  },
  {
   "cell_type": "code",
   "execution_count": 132,
   "id": "29430ce6",
   "metadata": {},
   "outputs": [],
   "source": [
    "# combined_corr[('mean', 'abs_r')] = combined_corr[[(scale[1], 'abs_r') for scale in scale_cols]].mean(axis=1)\n",
    "# mean_abs_r = combined_corr.pop(('mean', 'abs_r'))\n",
    "# combined_corr.insert(0, ('mean', 'abs_r'), mean_abs_r) "
   ]
  },
  {
   "cell_type": "code",
   "execution_count": 164,
   "id": "0e89a2c2",
   "metadata": {},
   "outputs": [],
   "source": [
    "# # combined_corr[[(scale, 'abs_r') for scale in [\"saps34\", \"sans12\", \"panss\", \"panss_pos\", \"panss_neg\", \"panss_o\"]]].mean(axis=1)\n",
    "# t_p_n_rank = pd.concat([combined_corr[('t_test', 'abs_t')].rank(ascending=False)] + [combined_corr[(scale, 'abs_r')].rank(ascending=False) for scale in ['panss_pos', 'panss_neg']], axis=1).mean(axis=1)\n",
    "# mean_rank = pd.concat([combined_corr[(scale[1], 'abs_r')].rank(ascending=False) for scale in scale_cols], axis=1).mean(axis=1)\n",
    "# combined_corr.insert(1, ('mean', 'rank'), mean_rank) \n",
    "# combined_corr.insert(2, ('mean', 'rank_abs'), mean_rank.rank()) \n",
    "# combined_corr.insert(1, ('mean', 'tpn_rank'), t_p_n_rank) \n",
    "# combined_corr.insert(2, ('mean', 'tpn_rank_abs'), t_p_n_rank.rank()) \n",
    "\n",
    "# style(combined_corr.sort_values(('mean', 'rank'))[['mean', 't_test']])"
   ]
  },
  {
   "cell_type": "code",
   "execution_count": 134,
   "id": "dfba843e",
   "metadata": {},
   "outputs": [],
   "source": [
    "# cols_dict = {}\n",
    "# for col in cols_tasks:\n",
    "#     cols_dict[col[1]] = compute_ortogonolized_coefficient(chair, ('target', 'panss_total'), ('syntactic', 'mean_sent_len'), col)[0]\n",
    "# combined_corr.insert(1, ('panss', 'r_corrected_for_mean_len'), pd.Series(cols_dict)) "
   ]
  },
  {
   "cell_type": "code",
   "execution_count": 135,
   "id": "6c84259c",
   "metadata": {},
   "outputs": [],
   "source": [
    "# cols_dict = {}\n",
    "# for col in cols_tasks:\n",
    "#     cols_dict[col[1]] = compute_ortogonolized_coefficient(chair, ('target', 'panss_pos'), ('syntactic', 'mean_sent_len'), col)[0]\n",
    "# combined_corr.insert(1, ('panss_pos', 'r_corrected_for_mean_len'), pd.Series(cols_dict)) "
   ]
  },
  {
   "cell_type": "code",
   "execution_count": 136,
   "id": "4f4ba5eb",
   "metadata": {},
   "outputs": [],
   "source": [
    "# cols_dict = {}\n",
    "# for col in cols_tasks:\n",
    "#     cols_dict[col[1]] = compute_ortogonolized_coefficient(chair, ('target', 'panss_neg'), ('syntactic', 'mean_sent_len'), col)[0]\n",
    "# combined_corr.insert(1, ('panss_neg', 'r_corrected_for_mean_len'), pd.Series(cols_dict)) "
   ]
  },
  {
   "cell_type": "code",
   "execution_count": null,
   "id": "a93ead0d",
   "metadata": {},
   "outputs": [],
   "source": [
    "# cols_dict = {}\n",
    "# for col in cols_tasks:\n",
    "#     cols_dict[col[1]] = compute_ortogonolized_logit(chair_group, ('target', 'group'), ('syntactic', 'mean_sent_len'), col)\n",
    "# combined_corr.insert(1, ('t_test', 'r_corrected_for_mean_len'), pd.Series(cols_dict)) "
   ]
  },
  {
   "cell_type": "code",
   "execution_count": 138,
   "id": "f022df20",
   "metadata": {},
   "outputs": [],
   "source": [
    "# t_p_n_corr_rank = pd.concat([combined_corr[('t_test', 'abs_t')].rank(ascending=False)] + [combined_corr[(scale, 'r_corrected_for_mean_len')].rank(ascending=False) for scale in ['panss_pos', 'panss_neg']], axis=1).mean(axis=1)\n",
    "# combined_corr.insert(1, ('mean', 'tpn_rank_corr'), t_p_n_corr_rank) \n",
    "# combined_corr.insert(2, ('mean', 'tpn_rank_corr_abs'), t_p_n_corr_rank.rank()) "
   ]
  },
  {
   "cell_type": "code",
   "execution_count": 139,
   "id": "537b2580",
   "metadata": {},
   "outputs": [],
   "source": [
    "## combined_corr.sort_values(('mean', 'tpn_rank_corr'), ascending=True).apply(pd.to_numeric).style.background_gradient(axis=0, cmap='Reds')"
   ]
  },
  {
   "cell_type": "markdown",
   "id": "8e869a26",
   "metadata": {},
   "source": [
    "## bootstrap"
   ]
  },
  {
   "cell_type": "code",
   "execution_count": 140,
   "id": "be091a2f",
   "metadata": {},
   "outputs": [],
   "source": [
    "def draw_sample_with_replacement(df, seed=None):\n",
    "    if seed:\n",
    "        random.seed(seed)\n",
    "    length = len(df.index)\n",
    "    idxs = choices(range(length), k=length)\n",
    "    return df.iloc[idxs, :]"
   ]
  },
  {
   "cell_type": "code",
   "execution_count": null,
   "id": "9aa73d5e",
   "metadata": {},
   "outputs": [],
   "source": [
    "# dict_scales_sapmles = {scale[1]: {metric: [] for metric in cols_tasks} for scale in scale_cols}\n",
    "# dict_scales_raws = {scale[1]: {metric: [] for metric in cols_tasks} for scale in scale_cols}\n",
    "# for i in tqdm(range(1000)):\n",
    "#     sample = draw_sample_with_replacement(chair, seed=i)\n",
    "#     for scale in scale_cols:\n",
    "#         for col in cols_tasks:\n",
    "#             if col != ('syntactic', 'mean_sent_len'):\n",
    "#                 r_corr = compute_ortogonolized_coefficient(sample, scale, ('syntactic', 'mean_sent_len'), col)[0]\n",
    "#                 r_raw = compute_coefficient(sample, scale, col)[0]\n",
    "#                 dict_scales_raws[scale[1]][col].append(r_raw)\n",
    "#                 dict_scales_sapmles[scale[1]][col].append(r_corr)\n",
    "#             else:\n",
    "#                 dict_scales_sapmles[scale[1]][col].append(np.nan)"
   ]
  },
  {
   "cell_type": "code",
   "execution_count": null,
   "id": "2a064987",
   "metadata": {},
   "outputs": [],
   "source": [
    "# sample_df = pd.DataFrame()\n",
    "# for scale in scale_cols:\n",
    "#     scale = scale[1]\n",
    "#     scale_metric_sd = {}\n",
    "#     scale_metric_md = {}\n",
    "#     scale_metric_mn = {}\n",
    "#     scale_metric_cov = {}\n",
    "#     scale_metric_diff = {}\n",
    "#     scale_metric_q25 = {}\n",
    "#     scale_metric_q75 = {}\n",
    "#     for col in cols_tasks:\n",
    "#         if col != ('syntactic', 'mean_sent_len'):\n",
    "#             scale_metric_sd[col] = np.std(dict_scales_sapmles[scale][col])\n",
    "#             scale_metric_md[col] = np.median(dict_scales_sapmles[scale][col])\n",
    "#             scale_metric_mn[col] = np.mean(dict_scales_sapmles[scale][col])\n",
    "#             scale_metric_q25[col] = np.quantile(dict_scales_sapmles[scale][col], 0.25)\n",
    "#             scale_metric_q75[col] = np.quantile(dict_scales_sapmles[scale][col], 0.75)\n",
    "#             scale_metric_cov[col] = np.std(dict_scales_sapmles[scale][col]) / np.mean(dict_scales_sapmles[scale][col])\n",
    "#             scale_metric_diff[col] = np.mean(dict_scales_sapmles[scale][col]) / np.mean(dict_scales_raws[scale][col])\n",
    "            \n",
    "#     sample_df[(scale, 'md')] = pd.Series(scale_metric_md)\n",
    "#     sample_df[(scale, 'mn')] = pd.Series(scale_metric_mn)\n",
    "#     sample_df[(scale, 'sd')] = pd.Series(scale_metric_sd)\n",
    "#     sample_df[(scale, 'cov')] = pd.Series(scale_metric_cov)\n",
    "#     sample_df[(scale, 'dif')] = pd.Series(scale_metric_diff)\n",
    "#     sample_df[(scale, 'q25')] = pd.Series(scale_metric_q25)\n",
    "#     sample_df[(scale, 'q75')] = pd.Series(scale_metric_q75)"
   ]
  },
  {
   "cell_type": "code",
   "execution_count": null,
   "id": "1010158d",
   "metadata": {},
   "outputs": [],
   "source": [
    "# sample_df.columns = pd.MultiIndex.from_tuples(sample_df.columns, names=('scale', 'res'))\n",
    "# style(sample_df)"
   ]
  },
  {
   "cell_type": "code",
   "execution_count": 141,
   "id": "c82e1be7",
   "metadata": {},
   "outputs": [],
   "source": [
    "def t_test(df, column, target_column, test=stats.ttest_ind, nan_policy='omit', stat_name='x', alpha=0.05,\n",
    "           group_names=None):\n",
    "    if group_names is None:\n",
    "        group_names = df[target_column].dropna().unique().tolist()\n",
    "        assert len(group_names) == 2, 'only two group tests are supported'\n",
    "\n",
    "    r, p = test(df[df[target_column] == group_names[1]][column],\n",
    "                df[df[target_column] == group_names[0]][column], nan_policy=nan_policy)\n",
    "    return r"
   ]
  },
  {
   "cell_type": "code",
   "execution_count": 233,
   "id": "880d92bd",
   "metadata": {},
   "outputs": [],
   "source": [
    "def bootstrap(df, cols_av, scale_cols, N, col_to_correct_for=('syntactic', 'mean_sent_len'), group=None, \n",
    "             ordered_tgt=[('target', 'dep.severity'), ('target', 'td.severity')]):\n",
    "    res_c = ('sample_corr', 'sample_raw', 'r', 't', 'r_corr_w_control') \\\n",
    "                                                + tuple((f'ps_r_{o[1]}' for o in ordered_tgt))\n",
    "    dict_scales_sapmles = {k: {scale: {metric: [] for metric in cols_av} for scale in scale_cols} for k in res_c}\n",
    "    for i in tqdm(range(N)):\n",
    "        sample = draw_sample_with_replacement(df, seed=i)\n",
    "        for scale in scale_cols:\n",
    "            for col in cols_av:\n",
    "                if group:\n",
    "                    t_test_res = ttest_select(sample, ('sz', 'control_psy'), group)[col]\n",
    "#                     t_test(sample, col, group)\n",
    "                    dict_scales_sapmles['t'][scale][col].append(t_test_res)\n",
    "                    \n",
    "                r_raw = compute_coefficient(sample, scale, col)[0]\n",
    "                dict_scales_sapmles['sample_raw'][scale][col].append(r_raw)\n",
    "                \n",
    "                dropped = sample.dropna(subset=[col, scale])\n",
    "                r = stats.pearsonr(dropped[col], dropped[scale])\n",
    "                dict_scales_sapmles['r'][scale][col].append(r)\n",
    "                                \n",
    "                if col != col_to_correct_for:\n",
    "                    \n",
    "                    dropped_c = sample.dropna(subset=[col, col_to_correct_for])\n",
    "                    r_c = stats.pearsonr(dropped_c[col], dropped_c[col_to_correct_for])\n",
    "                    dict_scales_sapmles['r_corr_w_control'][scale][col].append(r_c)\n",
    "                    \n",
    "                    r_corr = compute_ortogonolized_coefficient(sample, scale, col_to_correct_for, col)[0]\n",
    "                    dict_scales_sapmles['sample_corr'][scale][col].append(r_corr)\n",
    "                for o_tgt in ordered_tgt:\n",
    "                        ps_r = compute_pseudo_rsquared_ordered(sample, o_tgt, [col])\n",
    "                        dict_scales_sapmles[f'ps_r_{o_tgt[1]}'][scale][col].append(ps_r)\n",
    "\n",
    "    return dict_scales_sapmles"
   ]
  },
  {
   "cell_type": "code",
   "execution_count": null,
   "id": "4fb59cff",
   "metadata": {},
   "outputs": [],
   "source": [
    "# dict_scales_sapmles = bootstrap(chair, cols_tasks, scale_cols, 10, col_to_correct_for=('syntactic', 'mean_sent_len'), group='diagnosis.type')"
   ]
  },
  {
   "cell_type": "code",
   "execution_count": null,
   "id": "01686422",
   "metadata": {},
   "outputs": [
    {
     "data": {
      "application/vnd.jupyter.widget-view+json": {
       "model_id": "b5317bb9698c471ba076d3a9ff60977e",
       "version_major": 2,
       "version_minor": 0
      },
      "text/plain": [
       "  0%|          | 0/10 [00:00<?, ?it/s]"
      ]
     },
     "metadata": {},
     "output_type": "display_data"
    }
   ],
   "source": [
    "dict_scales_sapmles = aplly_to_all_tasks(merge_df, bootstrap, cols_av=cols_tasks, scale_cols=scale_cols, N=10, col_to_correct_for=('syntactic', 'mean_sent_len'), group='diagnosis.type')"
   ]
  },
  {
   "cell_type": "code",
   "execution_count": null,
   "id": "83b701b8",
   "metadata": {},
   "outputs": [],
   "source": [
    "reform = {(task, scale[1], measure): dict_scales_sapmles[task][measure][scale] for scale in scale_cols for task in dict_scales_sapmles\n",
    "          for measure in dict_scales_sapmles[task]}"
   ]
  },
  {
   "cell_type": "code",
   "execution_count": null,
   "id": "6eb31216",
   "metadata": {},
   "outputs": [],
   "source": [
    "median_bootstrap = pd.DataFrame(reform).applymap(np.nanmedian)"
   ]
  },
  {
   "cell_type": "code",
   "execution_count": null,
   "id": "40d18672",
   "metadata": {},
   "outputs": [],
   "source": [
    "ex_df = median_bootstrap.loc['LM', ('chair', 'panss_pos')].drop(index='m_sporb')\n",
    "ex_df"
   ]
  },
  {
   "cell_type": "code",
   "execution_count": null,
   "id": "464b4b36",
   "metadata": {},
   "outputs": [],
   "source": [
    "def map_model(m):\n",
    "    if 'bert' in m or 'sprob' in m:\n",
    "        return 'bert'\n",
    "    elif 'raw' in m:\n",
    "        return 'w2v_raw'\n",
    "    else:\n",
    "        return 'w2v'\n",
    "    \n",
    "def prep_LM_pointplot_data(df):\n",
    "    df.drop(index='m_sporb', inplace=True)\n",
    "    df['model'] = [map_model(m) for m in df.index]\n",
    "    df['metric'] = [x.split('_')[-1] for x in df.index]\n",
    "    return df"
   ]
  },
  {
   "cell_type": "code",
   "execution_count": null,
   "id": "4b9d78c8",
   "metadata": {},
   "outputs": [],
   "source": [
    "fig, axes = plt.subplots(2, 2, figsize=(15, 10))\n",
    "fig.suptitle('corr len')\n",
    "\n",
    "pointplot(prep_LM_pointplot_data(median_bootstrap.loc['LM', ('chair', 'panss_pos')]), \n",
    "          x=\"model\", y=\"r_control\", hue=\"metric\", ax=axes[0, 0])\n",
    "axes[0, 0].set_title('chair')\n",
    "pointplot(prep_LM_pointplot_data(median_bootstrap.loc['LM', ('adventure', 'panss_pos')]),\n",
    "          x=\"model\", y=\"r_control\", hue=\"metric\", ax=axes[0, 1])\n",
    "axes[0, 1].set_title('adventure')\n",
    "pointplot(prep_LM_pointplot_data(median_bootstrap.loc['LM', ('present', 'panss_pos')]),\n",
    "          x=\"model\", y=\"r_control\", hue=\"metric\", ax=axes[1, 0])\n",
    "axes[1, 0].set_title('present')\n",
    "pointplot(prep_LM_pointplot_data(median_bootstrap.loc['LM', ('sportsman', 'panss_pos')]),\n",
    "          x=\"model\", y=\"r_control\", hue=\"metric\", ax=axes[1, 1]);\n",
    "axes[1, 1].set_title('sportsman');"
   ]
  }
 ],
 "metadata": {
  "kernelspec": {
   "display_name": "Python 3 (ipykernel)",
   "language": "python",
   "name": "python3"
  },
  "language_info": {
   "codemirror_mode": {
    "name": "ipython",
    "version": 3
   },
   "file_extension": ".py",
   "mimetype": "text/x-python",
   "name": "python",
   "nbconvert_exporter": "python",
   "pygments_lexer": "ipython3",
   "version": "3.9.7"
  }
 },
 "nbformat": 4,
 "nbformat_minor": 5
}
