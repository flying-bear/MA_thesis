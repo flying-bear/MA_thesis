{
 "cells": [
  {
   "cell_type": "code",
   "execution_count": 210,
   "id": "ec07fa5d",
   "metadata": {},
   "outputs": [],
   "source": [
    "import numpy as np\n",
    "import matplotlib.pyplot as plt\n",
    "import pandas as pd\n",
    "import seaborn as sns\n",
    "import statsmodels.api as sm\n",
    "\n",
    "from scipy import stats"
   ]
  },
  {
   "cell_type": "code",
   "execution_count": 297,
   "id": "56b94513",
   "metadata": {},
   "outputs": [],
   "source": [
    "import warnings\n",
    "warnings.filterwarnings(\"ignore\", category=np.VisibleDeprecationWarning)\n",
    "warnings.filterwarnings(action='ignore', message='All-NaN slice encountered')"
   ]
  },
  {
   "cell_type": "code",
   "execution_count": 212,
   "id": "bb2b0dec",
   "metadata": {},
   "outputs": [],
   "source": [
    "PATH = '/Users/galina.ryazanskaya/Downloads/thesis?/code?/'"
   ]
  },
  {
   "cell_type": "markdown",
   "id": "47eaa18b",
   "metadata": {},
   "source": [
    "## merge data with psychosocial data"
   ]
  },
  {
   "cell_type": "code",
   "execution_count": 213,
   "id": "6a46d432",
   "metadata": {},
   "outputs": [],
   "source": [
    "df = pd.read_csv(PATH +'rus_merged_psychosocial_data.csv', index_col=0)\n",
    "df = df[df.index.notnull()]\n",
    "df.rename(columns={'dep.severity-1': 'dep.severity',\n",
    "                  'HDRS-17.score-1': 'HDRS-17',\n",
    "                   'panss-1-td': 'panss_td',\n",
    "                   'panss-1-total': 'panss_total', \n",
    "                   'panss-n-1-total': 'panss_n', \n",
    "                   'panss-o-1-total': 'panss_o',\n",
    "                   'panss-p-1-total': 'panss_p', \n",
    "                   'sans-1-total': 'sans',\n",
    "                   'saps-ftd-1-total': 'saps_ftd', \n",
    "                   'sops-1-total': 'sops_total', \n",
    "                   'sops-c-total': 'sops_c',\n",
    "                   'sops-d-total': 'sops_d', \n",
    "                   'sops-n-total': 'sops_n', \n",
    "                   'sops-p-total': 'sops_p'\n",
    "                  }, inplace=True)\n",
    "df['index'] = df.index\n",
    "df.drop_duplicates(inplace=True, subset='index')\n",
    "df.drop(columns=['index'], inplace=True)"
   ]
  },
  {
   "cell_type": "code",
   "execution_count": 215,
   "id": "5dc26ce4",
   "metadata": {},
   "outputs": [
    {
     "data": {
      "text/plain": [
       "176"
      ]
     },
     "execution_count": 215,
     "metadata": {},
     "output_type": "execute_result"
    }
   ],
   "source": [
    "len(df)"
   ]
  },
  {
   "cell_type": "code",
   "execution_count": 216,
   "id": "77d7048a",
   "metadata": {},
   "outputs": [],
   "source": [
    "res_df = pd.read_csv(PATH + 'processed_values/ru_both.tsv', sep='\\t', index_col=0, header=[0, 1, 2])"
   ]
  },
  {
   "cell_type": "code",
   "execution_count": 217,
   "id": "71cceb97",
   "metadata": {},
   "outputs": [
    {
     "data": {
      "text/plain": [
       "183"
      ]
     },
     "execution_count": 217,
     "metadata": {},
     "output_type": "execute_result"
    }
   ],
   "source": [
    "len(res_df)"
   ]
  },
  {
   "cell_type": "code",
   "execution_count": 218,
   "id": "6f54b737",
   "metadata": {},
   "outputs": [
    {
     "data": {
      "text/plain": [
       "{'PN005', 'PN006', 'PN012', 'PN014', 'PN019', 'PN238', 'PN327'}"
      ]
     },
     "execution_count": 218,
     "metadata": {},
     "output_type": "execute_result"
    }
   ],
   "source": [
    "dfi = [i.replace('-', '').replace('S', 'PD1') for i in df.index]\n",
    "df.index = dfi\n",
    "# res_df.index = [i.replace('S', 'PD1') for i in res_df.index]\n",
    "rdfi = [i.split('_')[0].replace('S', 'PD1') for i in res_df.index]\n",
    "\n",
    "missing_psy = set(rdfi).difference(set(dfi))\n",
    "missing_psy"
   ]
  },
  {
   "cell_type": "code",
   "execution_count": 219,
   "id": "18dac09c",
   "metadata": {},
   "outputs": [],
   "source": [
    "missing_psy = [i for i in res_df.index if i.split('_')[0] in missing_psy]\n",
    "res_df.drop(missing_psy, inplace=True)"
   ]
  },
  {
   "cell_type": "code",
   "execution_count": 220,
   "id": "78c044c9",
   "metadata": {},
   "outputs": [
    {
     "data": {
      "text/plain": [
       "176"
      ]
     },
     "execution_count": 220,
     "metadata": {},
     "output_type": "execute_result"
    }
   ],
   "source": [
    "len(res_df)"
   ]
  },
  {
   "cell_type": "code",
   "execution_count": 221,
   "id": "7f26a3c8",
   "metadata": {},
   "outputs": [
    {
     "data": {
      "text/plain": [
       "0"
      ]
     },
     "execution_count": 221,
     "metadata": {},
     "output_type": "execute_result"
    }
   ],
   "source": [
    "missing_text = set(dfi).difference(set(rdfi))\n",
    "len(missing_text)"
   ]
  },
  {
   "cell_type": "code",
   "execution_count": 222,
   "id": "eda1ef98",
   "metadata": {},
   "outputs": [],
   "source": [
    "df.drop(missing_text, inplace=True)"
   ]
  },
  {
   "cell_type": "code",
   "execution_count": 223,
   "id": "32f414c5",
   "metadata": {},
   "outputs": [],
   "source": [
    "non_start_timepoint = [i for i in res_df.index if i.split('_')[-1] != '1']\n",
    "res_df.drop(non_start_timepoint, inplace=True)"
   ]
  },
  {
   "cell_type": "code",
   "execution_count": 224,
   "id": "1017d650",
   "metadata": {},
   "outputs": [
    {
     "data": {
      "text/plain": [
       "TASK                               \n",
       "adventure  LM         m_bert_cgcoh      0.954746\n",
       "                      m_bert_gcoh       0.942201\n",
       "                      m_bert_lcoh       0.873049\n",
       "                      m_bert_scoh       0.865214\n",
       "                      m_cgcoh           0.930773\n",
       "                                         ...    \n",
       "sportsman  syntactic  max_sent_len     20.000000\n",
       "                      mean_sent_len     8.500000\n",
       "                      min_sent_len      2.000000\n",
       "                      n_sents          12.000000\n",
       "                      std_sent_len      4.425306\n",
       "Name: PD101_1, Length: 156, dtype: float64"
      ]
     },
     "execution_count": 224,
     "metadata": {},
     "output_type": "execute_result"
    }
   ],
   "source": [
    "res_df.loc['PD101_1'].dropna()"
   ]
  },
  {
   "cell_type": "code",
   "execution_count": 225,
   "id": "40666718",
   "metadata": {},
   "outputs": [],
   "source": [
    "rdfi_filtered = [i.split('_')[0].replace('S', 'PD1') for i in res_df.index]\n",
    "res_df.index = rdfi_filtered"
   ]
  },
  {
   "cell_type": "markdown",
   "id": "54cb9d0e",
   "metadata": {},
   "source": [
    "## psychosocial statistics"
   ]
  },
  {
   "cell_type": "code",
   "execution_count": 226,
   "id": "ecfe782b",
   "metadata": {},
   "outputs": [],
   "source": [
    "def fill_diagnosis_type(row):\n",
    "    dt = row['diagnosis.type']\n",
    "    if not pd.isna(dt):\n",
    "        return dt\n",
    "    else:\n",
    "        if not pd.isna(row['td.severity']):\n",
    "            return 'control_psy'\n",
    "        else:\n",
    "            return 'control'"
   ]
  },
  {
   "cell_type": "code",
   "execution_count": 227,
   "id": "98d4ab69",
   "metadata": {},
   "outputs": [],
   "source": [
    "df['diagnosis.type'] = df.apply(fill_diagnosis_type, axis=1)"
   ]
  },
  {
   "cell_type": "code",
   "execution_count": 228,
   "id": "5ff782c1",
   "metadata": {},
   "outputs": [],
   "source": [
    "sz = df[df['diagnosis.type'] == 'sz']\n",
    "dep = df[df['diagnosis.type'] == 'dep']\n",
    "control = df[df['diagnosis.group'] == 'control']\n",
    "control_psy = df[df['diagnosis.type'] == 'control_psy']"
   ]
  },
  {
   "cell_type": "code",
   "execution_count": 229,
   "id": "532c0237",
   "metadata": {
    "scrolled": true
   },
   "outputs": [
    {
     "data": {
      "text/plain": [
       "Index(['age', 'dep.scale', 'dep.severity', 'group.code', 'diagnosis.group',\n",
       "       'diagnosis.type', 'diagnosis_code', 'diagnosis_eng', 'diagnosis_rus',\n",
       "       'education.level.code', 'education.level.eng', 'education.years',\n",
       "       'exacerbation', 'HDRS-17', 'longitudinal', 'panss_td', 'panss_total',\n",
       "       'panss_n', 'panss_o', 'panss_p', 'rehospitalization', 'sans',\n",
       "       'saps_ftd', 'sex', 'sops_total', 'sops_c', 'sops_d', 'sops_n', 'sops_p',\n",
       "       'td.scales', 'td.severity'],\n",
       "      dtype='object')"
      ]
     },
     "execution_count": 229,
     "metadata": {},
     "output_type": "execute_result"
    }
   ],
   "source": [
    "df.columns"
   ]
  },
  {
   "cell_type": "code",
   "execution_count": 230,
   "id": "e4873be5",
   "metadata": {
    "scrolled": true
   },
   "outputs": [
    {
     "data": {
      "text/plain": [
       "176"
      ]
     },
     "execution_count": 230,
     "metadata": {},
     "output_type": "execute_result"
    }
   ],
   "source": [
    "len(df)"
   ]
  },
  {
   "cell_type": "code",
   "execution_count": 231,
   "id": "c1031a6c",
   "metadata": {},
   "outputs": [
    {
     "data": {
      "text/plain": [
       "control    127\n",
       "patient     49\n",
       "Name: diagnosis.group, dtype: int64"
      ]
     },
     "execution_count": 231,
     "metadata": {},
     "output_type": "execute_result"
    }
   ],
   "source": [
    "df['diagnosis.group'].value_counts()"
   ]
  },
  {
   "cell_type": "code",
   "execution_count": 232,
   "id": "0aab5a6a",
   "metadata": {},
   "outputs": [
    {
     "data": {
      "text/plain": [
       "control        86\n",
       "control_psy    41\n",
       "sz             31\n",
       "dep            18\n",
       "Name: diagnosis.type, dtype: int64"
      ]
     },
     "execution_count": 232,
     "metadata": {},
     "output_type": "execute_result"
    }
   ],
   "source": [
    "df['diagnosis.type'].value_counts()"
   ]
  },
  {
   "cell_type": "code",
   "execution_count": 233,
   "id": "c02ff63d",
   "metadata": {},
   "outputs": [
    {
     "data": {
      "text/plain": [
       "HDRS    51\n",
       "QIDS    39\n",
       "Name: dep.scale, dtype: int64"
      ]
     },
     "execution_count": 233,
     "metadata": {},
     "output_type": "execute_result"
    }
   ],
   "source": [
    "df['dep.scale'].value_counts()"
   ]
  },
  {
   "cell_type": "code",
   "execution_count": 234,
   "id": "9cf5258e",
   "metadata": {},
   "outputs": [
    {
     "data": {
      "text/plain": [
       "SCL-90-R    39\n",
       "PANSS       28\n",
       "SAPS        21\n",
       "Name: td.scales, dtype: int64"
      ]
     },
     "execution_count": 234,
     "metadata": {},
     "output_type": "execute_result"
    }
   ],
   "source": [
    "df['td.scales'].value_counts()"
   ]
  },
  {
   "cell_type": "code",
   "execution_count": 235,
   "id": "33d93eaf",
   "metadata": {},
   "outputs": [
    {
     "name": "stdout",
     "output_type": "stream",
     "text": [
      "diagnosis.type\tdiagnosis_code\tdiagnosis_eng\t0\n",
      "dep\tF31\tbipolar.affective.disorder\t6\n",
      "dep\tF60.31\tborderline.personality.disorder\t3\n",
      "dep\tF31.4\tbipolar.affective.disorder.severe\t2\n",
      "dep\tF31.5\tbipolar.affective.disorder.severe.psychotic\t2\n",
      "dep\tF33\trecurrent.depressive.disorder\t2\n",
      "dep\tF32.1\tdepressive.episode.moderate\t1\n",
      "dep\tF33.3\trecurrent.depressive.disorder.severe.psychotic\t1\n",
      "dep\tF60\tpersonality.disorder\t1\n",
      "sz\tF20\tschizophrenia\t20\n",
      "sz\tF25\tschizoaffective.disorder\t8\n",
      "sz\tF21\tschizotypal.disorder\t2\n",
      "sz\tF21.3\tschizotypal.disorder.pseudoneurotic.schizophrenia\t1\n",
      "\n"
     ]
    }
   ],
   "source": [
    "print(df.groupby('diagnosis.type')[['diagnosis_code', 'diagnosis_eng']].value_counts().to_csv(sep='\\t'))"
   ]
  },
  {
   "cell_type": "markdown",
   "id": "a88e36a1",
   "metadata": {},
   "source": [
    "### select target cols"
   ]
  },
  {
   "cell_type": "code",
   "execution_count": 236,
   "id": "4a467038",
   "metadata": {},
   "outputs": [],
   "source": [
    "target_cols = ['sex', 'age', 'education.years', \n",
    "               'diagnosis.group', 'diagnosis.type',\n",
    "               'dep.severity', 'td.severity']"
   ]
  },
  {
   "cell_type": "code",
   "execution_count": 237,
   "id": "d850c8a7",
   "metadata": {},
   "outputs": [],
   "source": [
    "# panss_cols = [col for col in df.columns if col.startswith('panss')]\n",
    "panss_cols = ['panss_td', 'panss_total', 'panss_n', 'panss_p', 'panss_o']\n",
    "sans_cols = [col for col in df.columns if col.startswith('sans')]\n",
    "saps_cols = [col for col in df.columns if col.startswith('saps')]\n",
    "sops_cols = [col for col in df.columns if col.startswith('sops')]"
   ]
  },
  {
   "cell_type": "code",
   "execution_count": 238,
   "id": "70e0aeb4",
   "metadata": {},
   "outputs": [
    {
     "data": {
      "text/plain": [
       "age                     31\n",
       "dep.scale               31\n",
       "dep.severity            31\n",
       "group.code               3\n",
       "diagnosis.group         31\n",
       "diagnosis.type          31\n",
       "diagnosis_code          31\n",
       "diagnosis_eng           31\n",
       "diagnosis_rus            3\n",
       "education.level.code     3\n",
       "education.level.eng     31\n",
       "education.years         31\n",
       "exacerbation             3\n",
       "HDRS-17                 21\n",
       "longitudinal             3\n",
       "panss_td                29\n",
       "panss_total             29\n",
       "panss_n                 29\n",
       "panss_o                 29\n",
       "panss_p                 29\n",
       "rehospitalization        3\n",
       "sans                     3\n",
       "saps_ftd                 3\n",
       "sex                     31\n",
       "sops_c                   1\n",
       "sops_d                   1\n",
       "sops_n                   1\n",
       "sops_p                   1\n",
       "td.scales               31\n",
       "td.severity             31\n",
       "dtype: int64"
      ]
     },
     "execution_count": 238,
     "metadata": {},
     "output_type": "execute_result"
    }
   ],
   "source": [
    "sz.count()[sz.count() > 0]"
   ]
  },
  {
   "cell_type": "code",
   "execution_count": 239,
   "id": "65f2d5bf",
   "metadata": {},
   "outputs": [
    {
     "data": {
      "text/plain": [
       "age                     18\n",
       "dep.scale               18\n",
       "dep.severity            18\n",
       "group.code              18\n",
       "diagnosis.group         18\n",
       "diagnosis.type          18\n",
       "diagnosis_code          18\n",
       "diagnosis_eng           18\n",
       "diagnosis_rus           18\n",
       "education.level.code    18\n",
       "education.level.eng     18\n",
       "education.years         18\n",
       "exacerbation            16\n",
       "HDRS-17                 18\n",
       "longitudinal            11\n",
       "panss_td                12\n",
       "panss_total             13\n",
       "panss_n                 13\n",
       "panss_o                 13\n",
       "panss_p                 13\n",
       "rehospitalization       16\n",
       "sans                    17\n",
       "saps_ftd                18\n",
       "sex                     18\n",
       "sops_c                   8\n",
       "sops_d                   8\n",
       "sops_n                   8\n",
       "sops_p                   8\n",
       "td.scales               18\n",
       "td.severity             18\n",
       "dtype: int64"
      ]
     },
     "execution_count": 239,
     "metadata": {},
     "output_type": "execute_result"
    }
   ],
   "source": [
    "dep.count()[dep.count() > 0]"
   ]
  },
  {
   "cell_type": "code",
   "execution_count": 240,
   "id": "1ae32811",
   "metadata": {},
   "outputs": [],
   "source": [
    "def mean_std(df_data, columns, group=None):\n",
    "    data = df_data.groupby(group)[columns] if group else df_data[columns]\n",
    "    if group:\n",
    "        df_mean, df_std = data.mean().round(2), data.std().round(2)\n",
    "\n",
    "        df = pd.DataFrame(columns=df_mean.columns, index = df_mean.index)\n",
    "        columns = df_mean.columns.tolist()\n",
    "        for i, row in df_mean.iterrows():\n",
    "            for c in columns:\n",
    "                df.loc[i, c] = f'{df_mean.loc[i, c]} ({df_std.loc[i, c]})'\n",
    "    else:\n",
    "        s_mean, s_std = data.mean().round(2), data.std().round(2)\n",
    "        df = pd.DataFrame(index = s_mean.index, columns=['value'])\n",
    "        for i, v in s_mean.items():\n",
    "            df.loc[i, 'value'] = f'{v} ({s_std.loc[i]})'\n",
    "        df = df.transpose()\n",
    "    return df"
   ]
  },
  {
   "cell_type": "code",
   "execution_count": 241,
   "id": "4c201df4",
   "metadata": {},
   "outputs": [
    {
     "data": {
      "text/plain": [
       "female    25\n",
       "male       6\n",
       "Name: sex, dtype: int64"
      ]
     },
     "execution_count": 241,
     "metadata": {},
     "output_type": "execute_result"
    }
   ],
   "source": [
    "sz['sex'].value_counts()"
   ]
  },
  {
   "cell_type": "code",
   "execution_count": 242,
   "id": "368b92da",
   "metadata": {},
   "outputs": [
    {
     "name": "stderr",
     "output_type": "stream",
     "text": [
      "/var/folders/1l/2khv4cgj7xs0zrm9hnl_yrzh0000gn/T/ipykernel_14713/1477061337.py:12: FutureWarning: Dropping of nuisance columns in DataFrame reductions (with 'numeric_only=None') is deprecated; in a future version this will raise TypeError.  Select only valid columns before calling the reduction.\n",
      "  s_mean, s_std = data.mean().round(2), data.std().round(2)\n"
     ]
    },
    {
     "data": {
      "text/html": [
       "<div>\n",
       "<style scoped>\n",
       "    .dataframe tbody tr th:only-of-type {\n",
       "        vertical-align: middle;\n",
       "    }\n",
       "\n",
       "    .dataframe tbody tr th {\n",
       "        vertical-align: top;\n",
       "    }\n",
       "\n",
       "    .dataframe thead th {\n",
       "        text-align: right;\n",
       "    }\n",
       "</style>\n",
       "<table border=\"1\" class=\"dataframe\">\n",
       "  <thead>\n",
       "    <tr style=\"text-align: right;\">\n",
       "      <th></th>\n",
       "      <th>age</th>\n",
       "      <th>education.years</th>\n",
       "      <th>dep.severity</th>\n",
       "      <th>td.severity</th>\n",
       "      <th>panss_td</th>\n",
       "      <th>panss_total</th>\n",
       "      <th>panss_n</th>\n",
       "      <th>panss_p</th>\n",
       "      <th>panss_o</th>\n",
       "    </tr>\n",
       "  </thead>\n",
       "  <tbody>\n",
       "    <tr>\n",
       "      <th>value</th>\n",
       "      <td>27.13 (7.14)</td>\n",
       "      <td>13.32 (2.41)</td>\n",
       "      <td>0.58 (0.85)</td>\n",
       "      <td>0.84 (0.73)</td>\n",
       "      <td>10.03 (3.74)</td>\n",
       "      <td>69.79 (16.13)</td>\n",
       "      <td>22.93 (8.59)</td>\n",
       "      <td>15.9 (4.92)</td>\n",
       "      <td>30.97 (8.42)</td>\n",
       "    </tr>\n",
       "  </tbody>\n",
       "</table>\n",
       "</div>"
      ],
      "text/plain": [
       "                age education.years dep.severity  td.severity      panss_td  \\\n",
       "value  27.13 (7.14)    13.32 (2.41)  0.58 (0.85)  0.84 (0.73)  10.03 (3.74)   \n",
       "\n",
       "         panss_total       panss_n      panss_p       panss_o  \n",
       "value  69.79 (16.13)  22.93 (8.59)  15.9 (4.92)  30.97 (8.42)  "
      ]
     },
     "execution_count": 242,
     "metadata": {},
     "output_type": "execute_result"
    }
   ],
   "source": [
    "mean_std(sz, target_cols + panss_cols)"
   ]
  },
  {
   "cell_type": "code",
   "execution_count": 243,
   "id": "667f07e7",
   "metadata": {},
   "outputs": [
    {
     "data": {
      "text/html": [
       "<div>\n",
       "<style scoped>\n",
       "    .dataframe tbody tr th:only-of-type {\n",
       "        vertical-align: middle;\n",
       "    }\n",
       "\n",
       "    .dataframe tbody tr th {\n",
       "        vertical-align: top;\n",
       "    }\n",
       "\n",
       "    .dataframe thead th {\n",
       "        text-align: right;\n",
       "    }\n",
       "</style>\n",
       "<table border=\"1\" class=\"dataframe\">\n",
       "  <thead>\n",
       "    <tr style=\"text-align: right;\">\n",
       "      <th></th>\n",
       "      <th>age</th>\n",
       "      <th>education.years</th>\n",
       "      <th>dep.severity</th>\n",
       "      <th>td.severity</th>\n",
       "      <th>panss_td</th>\n",
       "      <th>panss_total</th>\n",
       "      <th>panss_n</th>\n",
       "      <th>panss_p</th>\n",
       "      <th>panss_o</th>\n",
       "    </tr>\n",
       "    <tr>\n",
       "      <th>sex</th>\n",
       "      <th></th>\n",
       "      <th></th>\n",
       "      <th></th>\n",
       "      <th></th>\n",
       "      <th></th>\n",
       "      <th></th>\n",
       "      <th></th>\n",
       "      <th></th>\n",
       "      <th></th>\n",
       "    </tr>\n",
       "  </thead>\n",
       "  <tbody>\n",
       "    <tr>\n",
       "      <th>female</th>\n",
       "      <td>27.8 (7.53)</td>\n",
       "      <td>13.56 (2.48)</td>\n",
       "      <td>0.72 (0.89)</td>\n",
       "      <td>0.8 (0.76)</td>\n",
       "      <td>9.43 (3.62)</td>\n",
       "      <td>69.13 (15.38)</td>\n",
       "      <td>22.52 (7.79)</td>\n",
       "      <td>15.3 (4.91)</td>\n",
       "      <td>31.3 (9.08)</td>\n",
       "    </tr>\n",
       "    <tr>\n",
       "      <th>male</th>\n",
       "      <td>24.33 (4.72)</td>\n",
       "      <td>12.33 (1.97)</td>\n",
       "      <td>0.0 (0.0)</td>\n",
       "      <td>1.0 (0.63)</td>\n",
       "      <td>12.33 (3.56)</td>\n",
       "      <td>72.33 (20.16)</td>\n",
       "      <td>24.5 (11.93)</td>\n",
       "      <td>18.17 (4.67)</td>\n",
       "      <td>29.67 (5.65)</td>\n",
       "    </tr>\n",
       "  </tbody>\n",
       "</table>\n",
       "</div>"
      ],
      "text/plain": [
       "                 age education.years dep.severity td.severity      panss_td  \\\n",
       "sex                                                                           \n",
       "female   27.8 (7.53)    13.56 (2.48)  0.72 (0.89)  0.8 (0.76)   9.43 (3.62)   \n",
       "male    24.33 (4.72)    12.33 (1.97)    0.0 (0.0)  1.0 (0.63)  12.33 (3.56)   \n",
       "\n",
       "          panss_total       panss_n       panss_p       panss_o  \n",
       "sex                                                              \n",
       "female  69.13 (15.38)  22.52 (7.79)   15.3 (4.91)   31.3 (9.08)  \n",
       "male    72.33 (20.16)  24.5 (11.93)  18.17 (4.67)  29.67 (5.65)  "
      ]
     },
     "execution_count": 243,
     "metadata": {},
     "output_type": "execute_result"
    }
   ],
   "source": [
    "mean_std(sz, target_cols + panss_cols, 'sex')"
   ]
  },
  {
   "cell_type": "code",
   "execution_count": 244,
   "id": "841b28c4",
   "metadata": {},
   "outputs": [
    {
     "data": {
      "text/plain": [
       "female    18\n",
       "Name: sex, dtype: int64"
      ]
     },
     "execution_count": 244,
     "metadata": {},
     "output_type": "execute_result"
    }
   ],
   "source": [
    "dep['sex'].value_counts()"
   ]
  },
  {
   "cell_type": "code",
   "execution_count": 245,
   "id": "17782ed7",
   "metadata": {},
   "outputs": [
    {
     "name": "stderr",
     "output_type": "stream",
     "text": [
      "/var/folders/1l/2khv4cgj7xs0zrm9hnl_yrzh0000gn/T/ipykernel_14713/1477061337.py:12: FutureWarning: Dropping of nuisance columns in DataFrame reductions (with 'numeric_only=None') is deprecated; in a future version this will raise TypeError.  Select only valid columns before calling the reduction.\n",
      "  s_mean, s_std = data.mean().round(2), data.std().round(2)\n"
     ]
    },
    {
     "data": {
      "text/html": [
       "<div>\n",
       "<style scoped>\n",
       "    .dataframe tbody tr th:only-of-type {\n",
       "        vertical-align: middle;\n",
       "    }\n",
       "\n",
       "    .dataframe tbody tr th {\n",
       "        vertical-align: top;\n",
       "    }\n",
       "\n",
       "    .dataframe thead th {\n",
       "        text-align: right;\n",
       "    }\n",
       "</style>\n",
       "<table border=\"1\" class=\"dataframe\">\n",
       "  <thead>\n",
       "    <tr style=\"text-align: right;\">\n",
       "      <th></th>\n",
       "      <th>age</th>\n",
       "      <th>education.years</th>\n",
       "      <th>dep.severity</th>\n",
       "      <th>td.severity</th>\n",
       "      <th>panss_td</th>\n",
       "      <th>panss_total</th>\n",
       "      <th>panss_n</th>\n",
       "      <th>panss_p</th>\n",
       "      <th>panss_o</th>\n",
       "    </tr>\n",
       "  </thead>\n",
       "  <tbody>\n",
       "    <tr>\n",
       "      <th>value</th>\n",
       "      <td>20.89 (3.71)</td>\n",
       "      <td>12.67 (1.94)</td>\n",
       "      <td>0.56 (0.62)</td>\n",
       "      <td>0.06 (0.24)</td>\n",
       "      <td>4.42 (0.9)</td>\n",
       "      <td>37.92 (5.89)</td>\n",
       "      <td>8.31 (1.97)</td>\n",
       "      <td>8.46 (1.94)</td>\n",
       "      <td>21.15 (3.58)</td>\n",
       "    </tr>\n",
       "  </tbody>\n",
       "</table>\n",
       "</div>"
      ],
      "text/plain": [
       "                age education.years dep.severity  td.severity    panss_td  \\\n",
       "value  20.89 (3.71)    12.67 (1.94)  0.56 (0.62)  0.06 (0.24)  4.42 (0.9)   \n",
       "\n",
       "        panss_total      panss_n      panss_p       panss_o  \n",
       "value  37.92 (5.89)  8.31 (1.97)  8.46 (1.94)  21.15 (3.58)  "
      ]
     },
     "execution_count": 245,
     "metadata": {},
     "output_type": "execute_result"
    }
   ],
   "source": [
    "mean_std(dep, target_cols + panss_cols)"
   ]
  },
  {
   "cell_type": "code",
   "execution_count": 248,
   "id": "9d6367ca",
   "metadata": {},
   "outputs": [
    {
     "data": {
      "text/plain": [
       "13"
      ]
     },
     "execution_count": 248,
     "metadata": {},
     "output_type": "execute_result"
    }
   ],
   "source": [
    "dep['panss_o'].count()"
   ]
  },
  {
   "cell_type": "code",
   "execution_count": 249,
   "id": "ee7f3145",
   "metadata": {},
   "outputs": [
    {
     "data": {
      "text/plain": [
       "female    89\n",
       "male      38\n",
       "Name: sex, dtype: int64"
      ]
     },
     "execution_count": 249,
     "metadata": {},
     "output_type": "execute_result"
    }
   ],
   "source": [
    "control['sex'].value_counts()"
   ]
  },
  {
   "cell_type": "code",
   "execution_count": 250,
   "id": "06c46d99",
   "metadata": {},
   "outputs": [
    {
     "name": "stderr",
     "output_type": "stream",
     "text": [
      "/var/folders/1l/2khv4cgj7xs0zrm9hnl_yrzh0000gn/T/ipykernel_14713/1477061337.py:12: FutureWarning: Dropping of nuisance columns in DataFrame reductions (with 'numeric_only=None') is deprecated; in a future version this will raise TypeError.  Select only valid columns before calling the reduction.\n",
      "  s_mean, s_std = data.mean().round(2), data.std().round(2)\n"
     ]
    },
    {
     "data": {
      "text/html": [
       "<div>\n",
       "<style scoped>\n",
       "    .dataframe tbody tr th:only-of-type {\n",
       "        vertical-align: middle;\n",
       "    }\n",
       "\n",
       "    .dataframe tbody tr th {\n",
       "        vertical-align: top;\n",
       "    }\n",
       "\n",
       "    .dataframe thead th {\n",
       "        text-align: right;\n",
       "    }\n",
       "</style>\n",
       "<table border=\"1\" class=\"dataframe\">\n",
       "  <thead>\n",
       "    <tr style=\"text-align: right;\">\n",
       "      <th></th>\n",
       "      <th>age</th>\n",
       "      <th>education.years</th>\n",
       "      <th>dep.severity</th>\n",
       "      <th>td.severity</th>\n",
       "    </tr>\n",
       "  </thead>\n",
       "  <tbody>\n",
       "    <tr>\n",
       "      <th>value</th>\n",
       "      <td>40.42 (19.15)</td>\n",
       "      <td>15.55 (2.54)</td>\n",
       "      <td>0.0 (0.0)</td>\n",
       "      <td>0.0 (0.0)</td>\n",
       "    </tr>\n",
       "  </tbody>\n",
       "</table>\n",
       "</div>"
      ],
      "text/plain": [
       "                 age education.years dep.severity td.severity\n",
       "value  40.42 (19.15)    15.55 (2.54)    0.0 (0.0)   0.0 (0.0)"
      ]
     },
     "execution_count": 250,
     "metadata": {},
     "output_type": "execute_result"
    }
   ],
   "source": [
    "mean_std(control, target_cols)"
   ]
  },
  {
   "cell_type": "code",
   "execution_count": 251,
   "id": "434a7479",
   "metadata": {},
   "outputs": [
    {
     "data": {
      "text/html": [
       "<div>\n",
       "<style scoped>\n",
       "    .dataframe tbody tr th:only-of-type {\n",
       "        vertical-align: middle;\n",
       "    }\n",
       "\n",
       "    .dataframe tbody tr th {\n",
       "        vertical-align: top;\n",
       "    }\n",
       "\n",
       "    .dataframe thead th {\n",
       "        text-align: right;\n",
       "    }\n",
       "</style>\n",
       "<table border=\"1\" class=\"dataframe\">\n",
       "  <thead>\n",
       "    <tr style=\"text-align: right;\">\n",
       "      <th></th>\n",
       "      <th>age</th>\n",
       "      <th>education.years</th>\n",
       "      <th>dep.severity</th>\n",
       "      <th>td.severity</th>\n",
       "    </tr>\n",
       "    <tr>\n",
       "      <th>sex</th>\n",
       "      <th></th>\n",
       "      <th></th>\n",
       "      <th></th>\n",
       "      <th></th>\n",
       "    </tr>\n",
       "  </thead>\n",
       "  <tbody>\n",
       "    <tr>\n",
       "      <th>female</th>\n",
       "      <td>38.97 (18.87)</td>\n",
       "      <td>15.25 (2.33)</td>\n",
       "      <td>0.0 (0.0)</td>\n",
       "      <td>0.0 (0.0)</td>\n",
       "    </tr>\n",
       "    <tr>\n",
       "      <th>male</th>\n",
       "      <td>43.92 (19.63)</td>\n",
       "      <td>16.24 (2.88)</td>\n",
       "      <td>0.0 (0.0)</td>\n",
       "      <td>0.0 (0.0)</td>\n",
       "    </tr>\n",
       "  </tbody>\n",
       "</table>\n",
       "</div>"
      ],
      "text/plain": [
       "                  age education.years dep.severity td.severity\n",
       "sex                                                           \n",
       "female  38.97 (18.87)    15.25 (2.33)    0.0 (0.0)   0.0 (0.0)\n",
       "male    43.92 (19.63)    16.24 (2.88)    0.0 (0.0)   0.0 (0.0)"
      ]
     },
     "execution_count": 251,
     "metadata": {},
     "output_type": "execute_result"
    }
   ],
   "source": [
    "mean_std(control, target_cols, 'sex')"
   ]
  },
  {
   "cell_type": "code",
   "execution_count": 252,
   "id": "25f5e2a0",
   "metadata": {},
   "outputs": [
    {
     "data": {
      "text/plain": [
       "female    31\n",
       "male      10\n",
       "Name: sex, dtype: int64"
      ]
     },
     "execution_count": 252,
     "metadata": {},
     "output_type": "execute_result"
    }
   ],
   "source": [
    "control_psy['sex'].value_counts()"
   ]
  },
  {
   "cell_type": "code",
   "execution_count": 253,
   "id": "9b3a6b4e",
   "metadata": {},
   "outputs": [
    {
     "name": "stderr",
     "output_type": "stream",
     "text": [
      "/var/folders/1l/2khv4cgj7xs0zrm9hnl_yrzh0000gn/T/ipykernel_14713/1477061337.py:12: FutureWarning: Dropping of nuisance columns in DataFrame reductions (with 'numeric_only=None') is deprecated; in a future version this will raise TypeError.  Select only valid columns before calling the reduction.\n",
      "  s_mean, s_std = data.mean().round(2), data.std().round(2)\n"
     ]
    },
    {
     "data": {
      "text/html": [
       "<div>\n",
       "<style scoped>\n",
       "    .dataframe tbody tr th:only-of-type {\n",
       "        vertical-align: middle;\n",
       "    }\n",
       "\n",
       "    .dataframe tbody tr th {\n",
       "        vertical-align: top;\n",
       "    }\n",
       "\n",
       "    .dataframe thead th {\n",
       "        text-align: right;\n",
       "    }\n",
       "</style>\n",
       "<table border=\"1\" class=\"dataframe\">\n",
       "  <thead>\n",
       "    <tr style=\"text-align: right;\">\n",
       "      <th></th>\n",
       "      <th>age</th>\n",
       "      <th>education.years</th>\n",
       "      <th>dep.severity</th>\n",
       "      <th>td.severity</th>\n",
       "      <th>panss_td</th>\n",
       "      <th>panss_total</th>\n",
       "      <th>panss_n</th>\n",
       "      <th>panss_p</th>\n",
       "      <th>panss_o</th>\n",
       "    </tr>\n",
       "  </thead>\n",
       "  <tbody>\n",
       "    <tr>\n",
       "      <th>value</th>\n",
       "      <td>27.62 (11.16)</td>\n",
       "      <td>15.05 (2.07)</td>\n",
       "      <td>0.0 (0.0)</td>\n",
       "      <td>0.0 (0.0)</td>\n",
       "      <td>4.36 (1.0)</td>\n",
       "      <td>30.77 (1.54)</td>\n",
       "      <td>7.23 (0.53)</td>\n",
       "      <td>7.23 (0.61)</td>\n",
       "      <td>16.32 (0.95)</td>\n",
       "    </tr>\n",
       "  </tbody>\n",
       "</table>\n",
       "</div>"
      ],
      "text/plain": [
       "                 age education.years dep.severity td.severity    panss_td  \\\n",
       "value  27.62 (11.16)    15.05 (2.07)    0.0 (0.0)   0.0 (0.0)  4.36 (1.0)   \n",
       "\n",
       "        panss_total      panss_n      panss_p       panss_o  \n",
       "value  30.77 (1.54)  7.23 (0.53)  7.23 (0.61)  16.32 (0.95)  "
      ]
     },
     "execution_count": 253,
     "metadata": {},
     "output_type": "execute_result"
    }
   ],
   "source": [
    "mean_std(control_psy, target_cols + panss_cols)"
   ]
  },
  {
   "cell_type": "code",
   "execution_count": 254,
   "id": "9224b336",
   "metadata": {},
   "outputs": [
    {
     "data": {
      "text/html": [
       "<div>\n",
       "<style scoped>\n",
       "    .dataframe tbody tr th:only-of-type {\n",
       "        vertical-align: middle;\n",
       "    }\n",
       "\n",
       "    .dataframe tbody tr th {\n",
       "        vertical-align: top;\n",
       "    }\n",
       "\n",
       "    .dataframe thead th {\n",
       "        text-align: right;\n",
       "    }\n",
       "</style>\n",
       "<table border=\"1\" class=\"dataframe\">\n",
       "  <thead>\n",
       "    <tr style=\"text-align: right;\">\n",
       "      <th></th>\n",
       "      <th>age</th>\n",
       "      <th>education.years</th>\n",
       "      <th>dep.severity</th>\n",
       "      <th>td.severity</th>\n",
       "      <th>panss_td</th>\n",
       "      <th>panss_total</th>\n",
       "      <th>panss_n</th>\n",
       "      <th>panss_p</th>\n",
       "      <th>panss_o</th>\n",
       "    </tr>\n",
       "    <tr>\n",
       "      <th>sex</th>\n",
       "      <th></th>\n",
       "      <th></th>\n",
       "      <th></th>\n",
       "      <th></th>\n",
       "      <th></th>\n",
       "      <th></th>\n",
       "      <th></th>\n",
       "      <th></th>\n",
       "      <th></th>\n",
       "    </tr>\n",
       "  </thead>\n",
       "  <tbody>\n",
       "    <tr>\n",
       "      <th>female</th>\n",
       "      <td>27.19 (10.59)</td>\n",
       "      <td>15.23 (1.67)</td>\n",
       "      <td>0.0 (0.0)</td>\n",
       "      <td>0.0 (0.0)</td>\n",
       "      <td>4.4 (1.05)</td>\n",
       "      <td>30.85 (1.6)</td>\n",
       "      <td>7.25 (0.55)</td>\n",
       "      <td>7.25 (0.64)</td>\n",
       "      <td>16.35 (0.99)</td>\n",
       "    </tr>\n",
       "    <tr>\n",
       "      <th>male</th>\n",
       "      <td>29.11 (13.57)</td>\n",
       "      <td>14.5 (3.06)</td>\n",
       "      <td>0.0 (0.0)</td>\n",
       "      <td>0.0 (0.0)</td>\n",
       "      <td>4.0 (0.0)</td>\n",
       "      <td>30.0 (0.0)</td>\n",
       "      <td>7.0 (0.0)</td>\n",
       "      <td>7.0 (0.0)</td>\n",
       "      <td>16.0 (0.0)</td>\n",
       "    </tr>\n",
       "  </tbody>\n",
       "</table>\n",
       "</div>"
      ],
      "text/plain": [
       "                  age education.years dep.severity td.severity    panss_td  \\\n",
       "sex                                                                          \n",
       "female  27.19 (10.59)    15.23 (1.67)    0.0 (0.0)   0.0 (0.0)  4.4 (1.05)   \n",
       "male    29.11 (13.57)     14.5 (3.06)    0.0 (0.0)   0.0 (0.0)   4.0 (0.0)   \n",
       "\n",
       "        panss_total      panss_n      panss_p       panss_o  \n",
       "sex                                                          \n",
       "female  30.85 (1.6)  7.25 (0.55)  7.25 (0.64)  16.35 (0.99)  \n",
       "male     30.0 (0.0)    7.0 (0.0)    7.0 (0.0)    16.0 (0.0)  "
      ]
     },
     "execution_count": 254,
     "metadata": {},
     "output_type": "execute_result"
    }
   ],
   "source": [
    "mean_std(control_psy, target_cols + panss_cols, 'sex')"
   ]
  },
  {
   "cell_type": "code",
   "execution_count": 257,
   "id": "55dceae7",
   "metadata": {},
   "outputs": [
    {
     "data": {
      "text/plain": [
       "sex\n",
       "female    20\n",
       "male       2\n",
       "Name: panss_total, dtype: int64"
      ]
     },
     "execution_count": 257,
     "metadata": {},
     "output_type": "execute_result"
    }
   ],
   "source": [
    "control.groupby('sex')['panss_total'].count()"
   ]
  },
  {
   "cell_type": "code",
   "execution_count": 258,
   "id": "785d3a9c",
   "metadata": {},
   "outputs": [
    {
     "data": {
      "text/plain": [
       "age                    40\n",
       "dep.scale              41\n",
       "dep.severity           41\n",
       "diagnosis.group        41\n",
       "diagnosis.type         41\n",
       "education.level.eng    39\n",
       "education.years        41\n",
       "HDRS-17                22\n",
       "panss_td               22\n",
       "panss_total            22\n",
       "panss_n                22\n",
       "panss_o                22\n",
       "panss_p                22\n",
       "sex                    41\n",
       "td.scales              39\n",
       "td.severity            41\n",
       "dtype: int64"
      ]
     },
     "execution_count": 258,
     "metadata": {},
     "output_type": "execute_result"
    }
   ],
   "source": [
    "control_psy.count()[control_psy.count() > 0]"
   ]
  },
  {
   "cell_type": "code",
   "execution_count": 259,
   "id": "be09b10f",
   "metadata": {},
   "outputs": [
    {
     "data": {
      "text/plain": [
       "age                                      18.0\n",
       "dep.scale                                HDRS\n",
       "dep.severity                              1.0\n",
       "group.code                                2.0\n",
       "diagnosis.group                       patient\n",
       "diagnosis.type                             sz\n",
       "diagnosis_code                            F21\n",
       "diagnosis_eng            schizotypal.disorder\n",
       "diagnosis_rus                  Шизотипическое\n",
       "education.level.code                      1.0\n",
       "education.level.eng     vocational.unfinished\n",
       "education.years                          11.0\n",
       "exacerbation                              1.0\n",
       "HDRS-17                                   9.0\n",
       "longitudinal                              1.0\n",
       "panss_td                                  4.0\n",
       "panss_total                              39.0\n",
       "panss_n                                   9.0\n",
       "panss_o                                  23.0\n",
       "panss_p                                   7.0\n",
       "rehospitalization                         0.0\n",
       "sans                                     48.0\n",
       "saps_ftd                                  8.0\n",
       "sex                                    female\n",
       "sops_total                                NaN\n",
       "sops_c                                   11.0\n",
       "sops_d                                    3.0\n",
       "sops_n                                   17.0\n",
       "sops_p                                    8.0\n",
       "td.scales                                SAPS\n",
       "td.severity                               0.0\n",
       "Name: PD015, dtype: object"
      ]
     },
     "execution_count": 259,
     "metadata": {},
     "output_type": "execute_result"
    }
   ],
   "source": [
    "df.dropna(axis=0, thresh=30).iloc[0]"
   ]
  },
  {
   "cell_type": "markdown",
   "id": "f0b13488",
   "metadata": {},
   "source": [
    "## scores"
   ]
  },
  {
   "cell_type": "code",
   "execution_count": 260,
   "id": "679f02d1",
   "metadata": {},
   "outputs": [
    {
     "data": {
      "text/html": [
       "<div>\n",
       "<style scoped>\n",
       "    .dataframe tbody tr th:only-of-type {\n",
       "        vertical-align: middle;\n",
       "    }\n",
       "\n",
       "    .dataframe tbody tr th {\n",
       "        vertical-align: top;\n",
       "    }\n",
       "\n",
       "    .dataframe thead tr th {\n",
       "        text-align: left;\n",
       "    }\n",
       "</style>\n",
       "<table border=\"1\" class=\"dataframe\">\n",
       "  <thead>\n",
       "    <tr>\n",
       "      <th>TASK</th>\n",
       "      <th colspan=\"10\" halign=\"left\">adventure</th>\n",
       "      <th>...</th>\n",
       "      <th colspan=\"10\" halign=\"left\">winterday</th>\n",
       "    </tr>\n",
       "    <tr>\n",
       "      <th></th>\n",
       "      <th colspan=\"9\" halign=\"left\">LM</th>\n",
       "      <th>graph</th>\n",
       "      <th>...</th>\n",
       "      <th colspan=\"10\" halign=\"left\">syntactic</th>\n",
       "    </tr>\n",
       "    <tr>\n",
       "      <th></th>\n",
       "      <th>m_bert_cgcoh</th>\n",
       "      <th>m_bert_gcoh</th>\n",
       "      <th>m_bert_lcoh</th>\n",
       "      <th>m_bert_scoh</th>\n",
       "      <th>m_cgcoh</th>\n",
       "      <th>m_gcoh</th>\n",
       "      <th>m_lcoh</th>\n",
       "      <th>m_scoh</th>\n",
       "      <th>m_sporb</th>\n",
       "      <th>L1</th>\n",
       "      <th>...</th>\n",
       "      <th>PRON</th>\n",
       "      <th>PROPN</th>\n",
       "      <th>PUNCT</th>\n",
       "      <th>SCONJ</th>\n",
       "      <th>VERB</th>\n",
       "      <th>max_sent_len</th>\n",
       "      <th>mean_sent_len</th>\n",
       "      <th>min_sent_len</th>\n",
       "      <th>n_sents</th>\n",
       "      <th>std_sent_len</th>\n",
       "    </tr>\n",
       "  </thead>\n",
       "  <tbody>\n",
       "    <tr>\n",
       "      <th>N01</th>\n",
       "      <td>NaN</td>\n",
       "      <td>NaN</td>\n",
       "      <td>NaN</td>\n",
       "      <td>NaN</td>\n",
       "      <td>NaN</td>\n",
       "      <td>NaN</td>\n",
       "      <td>NaN</td>\n",
       "      <td>NaN</td>\n",
       "      <td>NaN</td>\n",
       "      <td>NaN</td>\n",
       "      <td>...</td>\n",
       "      <td>NaN</td>\n",
       "      <td>NaN</td>\n",
       "      <td>NaN</td>\n",
       "      <td>NaN</td>\n",
       "      <td>NaN</td>\n",
       "      <td>NaN</td>\n",
       "      <td>NaN</td>\n",
       "      <td>NaN</td>\n",
       "      <td>NaN</td>\n",
       "      <td>NaN</td>\n",
       "    </tr>\n",
       "    <tr>\n",
       "      <th>N02</th>\n",
       "      <td>NaN</td>\n",
       "      <td>NaN</td>\n",
       "      <td>NaN</td>\n",
       "      <td>NaN</td>\n",
       "      <td>NaN</td>\n",
       "      <td>NaN</td>\n",
       "      <td>NaN</td>\n",
       "      <td>NaN</td>\n",
       "      <td>NaN</td>\n",
       "      <td>NaN</td>\n",
       "      <td>...</td>\n",
       "      <td>NaN</td>\n",
       "      <td>NaN</td>\n",
       "      <td>NaN</td>\n",
       "      <td>NaN</td>\n",
       "      <td>NaN</td>\n",
       "      <td>NaN</td>\n",
       "      <td>NaN</td>\n",
       "      <td>NaN</td>\n",
       "      <td>NaN</td>\n",
       "      <td>NaN</td>\n",
       "    </tr>\n",
       "    <tr>\n",
       "      <th>N03</th>\n",
       "      <td>NaN</td>\n",
       "      <td>NaN</td>\n",
       "      <td>NaN</td>\n",
       "      <td>NaN</td>\n",
       "      <td>NaN</td>\n",
       "      <td>NaN</td>\n",
       "      <td>NaN</td>\n",
       "      <td>NaN</td>\n",
       "      <td>NaN</td>\n",
       "      <td>NaN</td>\n",
       "      <td>...</td>\n",
       "      <td>NaN</td>\n",
       "      <td>NaN</td>\n",
       "      <td>NaN</td>\n",
       "      <td>NaN</td>\n",
       "      <td>NaN</td>\n",
       "      <td>NaN</td>\n",
       "      <td>NaN</td>\n",
       "      <td>NaN</td>\n",
       "      <td>NaN</td>\n",
       "      <td>NaN</td>\n",
       "    </tr>\n",
       "    <tr>\n",
       "      <th>N04</th>\n",
       "      <td>NaN</td>\n",
       "      <td>NaN</td>\n",
       "      <td>NaN</td>\n",
       "      <td>NaN</td>\n",
       "      <td>NaN</td>\n",
       "      <td>NaN</td>\n",
       "      <td>NaN</td>\n",
       "      <td>NaN</td>\n",
       "      <td>NaN</td>\n",
       "      <td>NaN</td>\n",
       "      <td>...</td>\n",
       "      <td>NaN</td>\n",
       "      <td>NaN</td>\n",
       "      <td>NaN</td>\n",
       "      <td>NaN</td>\n",
       "      <td>NaN</td>\n",
       "      <td>NaN</td>\n",
       "      <td>NaN</td>\n",
       "      <td>NaN</td>\n",
       "      <td>NaN</td>\n",
       "      <td>NaN</td>\n",
       "    </tr>\n",
       "    <tr>\n",
       "      <th>N05</th>\n",
       "      <td>NaN</td>\n",
       "      <td>NaN</td>\n",
       "      <td>NaN</td>\n",
       "      <td>NaN</td>\n",
       "      <td>NaN</td>\n",
       "      <td>NaN</td>\n",
       "      <td>NaN</td>\n",
       "      <td>NaN</td>\n",
       "      <td>NaN</td>\n",
       "      <td>NaN</td>\n",
       "      <td>...</td>\n",
       "      <td>NaN</td>\n",
       "      <td>NaN</td>\n",
       "      <td>NaN</td>\n",
       "      <td>NaN</td>\n",
       "      <td>NaN</td>\n",
       "      <td>NaN</td>\n",
       "      <td>NaN</td>\n",
       "      <td>NaN</td>\n",
       "      <td>NaN</td>\n",
       "      <td>NaN</td>\n",
       "    </tr>\n",
       "    <tr>\n",
       "      <th>...</th>\n",
       "      <td>...</td>\n",
       "      <td>...</td>\n",
       "      <td>...</td>\n",
       "      <td>...</td>\n",
       "      <td>...</td>\n",
       "      <td>...</td>\n",
       "      <td>...</td>\n",
       "      <td>...</td>\n",
       "      <td>...</td>\n",
       "      <td>...</td>\n",
       "      <td>...</td>\n",
       "      <td>...</td>\n",
       "      <td>...</td>\n",
       "      <td>...</td>\n",
       "      <td>...</td>\n",
       "      <td>...</td>\n",
       "      <td>...</td>\n",
       "      <td>...</td>\n",
       "      <td>...</td>\n",
       "      <td>...</td>\n",
       "      <td>...</td>\n",
       "    </tr>\n",
       "    <tr>\n",
       "      <th>PD116</th>\n",
       "      <td>0.959279</td>\n",
       "      <td>0.949360</td>\n",
       "      <td>0.880519</td>\n",
       "      <td>0.885148</td>\n",
       "      <td>0.997227</td>\n",
       "      <td>0.996738</td>\n",
       "      <td>0.991679</td>\n",
       "      <td>0.990629</td>\n",
       "      <td>0.978462</td>\n",
       "      <td>1.000000</td>\n",
       "      <td>...</td>\n",
       "      <td>NaN</td>\n",
       "      <td>NaN</td>\n",
       "      <td>NaN</td>\n",
       "      <td>NaN</td>\n",
       "      <td>NaN</td>\n",
       "      <td>NaN</td>\n",
       "      <td>NaN</td>\n",
       "      <td>NaN</td>\n",
       "      <td>NaN</td>\n",
       "      <td>NaN</td>\n",
       "    </tr>\n",
       "    <tr>\n",
       "      <th>PD121</th>\n",
       "      <td>0.963479</td>\n",
       "      <td>0.956259</td>\n",
       "      <td>0.920084</td>\n",
       "      <td>0.915321</td>\n",
       "      <td>0.903865</td>\n",
       "      <td>0.898311</td>\n",
       "      <td>0.816441</td>\n",
       "      <td>0.778602</td>\n",
       "      <td>0.965854</td>\n",
       "      <td>0.299213</td>\n",
       "      <td>...</td>\n",
       "      <td>NaN</td>\n",
       "      <td>NaN</td>\n",
       "      <td>NaN</td>\n",
       "      <td>NaN</td>\n",
       "      <td>NaN</td>\n",
       "      <td>NaN</td>\n",
       "      <td>NaN</td>\n",
       "      <td>NaN</td>\n",
       "      <td>NaN</td>\n",
       "      <td>NaN</td>\n",
       "    </tr>\n",
       "    <tr>\n",
       "      <th>PD123</th>\n",
       "      <td>0.955438</td>\n",
       "      <td>0.942931</td>\n",
       "      <td>0.859705</td>\n",
       "      <td>0.865627</td>\n",
       "      <td>0.770681</td>\n",
       "      <td>0.737492</td>\n",
       "      <td>0.559322</td>\n",
       "      <td>0.604235</td>\n",
       "      <td>0.939905</td>\n",
       "      <td>2.000000</td>\n",
       "      <td>...</td>\n",
       "      <td>NaN</td>\n",
       "      <td>NaN</td>\n",
       "      <td>NaN</td>\n",
       "      <td>NaN</td>\n",
       "      <td>NaN</td>\n",
       "      <td>NaN</td>\n",
       "      <td>NaN</td>\n",
       "      <td>NaN</td>\n",
       "      <td>NaN</td>\n",
       "      <td>NaN</td>\n",
       "    </tr>\n",
       "    <tr>\n",
       "      <th>PD124</th>\n",
       "      <td>0.942281</td>\n",
       "      <td>0.934072</td>\n",
       "      <td>0.832030</td>\n",
       "      <td>0.890336</td>\n",
       "      <td>0.967431</td>\n",
       "      <td>0.959681</td>\n",
       "      <td>0.912076</td>\n",
       "      <td>0.906460</td>\n",
       "      <td>0.898145</td>\n",
       "      <td>1.000000</td>\n",
       "      <td>...</td>\n",
       "      <td>NaN</td>\n",
       "      <td>NaN</td>\n",
       "      <td>NaN</td>\n",
       "      <td>NaN</td>\n",
       "      <td>NaN</td>\n",
       "      <td>NaN</td>\n",
       "      <td>NaN</td>\n",
       "      <td>NaN</td>\n",
       "      <td>NaN</td>\n",
       "      <td>NaN</td>\n",
       "    </tr>\n",
       "    <tr>\n",
       "      <th>PD125</th>\n",
       "      <td>0.946462</td>\n",
       "      <td>0.938903</td>\n",
       "      <td>0.874884</td>\n",
       "      <td>0.847150</td>\n",
       "      <td>0.886114</td>\n",
       "      <td>0.878837</td>\n",
       "      <td>0.736865</td>\n",
       "      <td>0.758299</td>\n",
       "      <td>0.985037</td>\n",
       "      <td>0.000000</td>\n",
       "      <td>...</td>\n",
       "      <td>NaN</td>\n",
       "      <td>NaN</td>\n",
       "      <td>NaN</td>\n",
       "      <td>NaN</td>\n",
       "      <td>NaN</td>\n",
       "      <td>NaN</td>\n",
       "      <td>NaN</td>\n",
       "      <td>NaN</td>\n",
       "      <td>NaN</td>\n",
       "      <td>NaN</td>\n",
       "    </tr>\n",
       "  </tbody>\n",
       "</table>\n",
       "<p>176 rows × 383 columns</p>\n",
       "</div>"
      ],
      "text/plain": [
       "TASK     adventure                                                          \\\n",
       "                LM                                                           \n",
       "      m_bert_cgcoh m_bert_gcoh m_bert_lcoh m_bert_scoh   m_cgcoh    m_gcoh   \n",
       "N01            NaN         NaN         NaN         NaN       NaN       NaN   \n",
       "N02            NaN         NaN         NaN         NaN       NaN       NaN   \n",
       "N03            NaN         NaN         NaN         NaN       NaN       NaN   \n",
       "N04            NaN         NaN         NaN         NaN       NaN       NaN   \n",
       "N05            NaN         NaN         NaN         NaN       NaN       NaN   \n",
       "...            ...         ...         ...         ...       ...       ...   \n",
       "PD116     0.959279    0.949360    0.880519    0.885148  0.997227  0.996738   \n",
       "PD121     0.963479    0.956259    0.920084    0.915321  0.903865  0.898311   \n",
       "PD123     0.955438    0.942931    0.859705    0.865627  0.770681  0.737492   \n",
       "PD124     0.942281    0.934072    0.832030    0.890336  0.967431  0.959681   \n",
       "PD125     0.946462    0.938903    0.874884    0.847150  0.886114  0.878837   \n",
       "\n",
       "TASK                                           ... winterday              \\\n",
       "                                        graph  ... syntactic               \n",
       "         m_lcoh    m_scoh   m_sporb        L1  ...      PRON PROPN PUNCT   \n",
       "N01         NaN       NaN       NaN       NaN  ...       NaN   NaN   NaN   \n",
       "N02         NaN       NaN       NaN       NaN  ...       NaN   NaN   NaN   \n",
       "N03         NaN       NaN       NaN       NaN  ...       NaN   NaN   NaN   \n",
       "N04         NaN       NaN       NaN       NaN  ...       NaN   NaN   NaN   \n",
       "N05         NaN       NaN       NaN       NaN  ...       NaN   NaN   NaN   \n",
       "...         ...       ...       ...       ...  ...       ...   ...   ...   \n",
       "PD116  0.991679  0.990629  0.978462  1.000000  ...       NaN   NaN   NaN   \n",
       "PD121  0.816441  0.778602  0.965854  0.299213  ...       NaN   NaN   NaN   \n",
       "PD123  0.559322  0.604235  0.939905  2.000000  ...       NaN   NaN   NaN   \n",
       "PD124  0.912076  0.906460  0.898145  1.000000  ...       NaN   NaN   NaN   \n",
       "PD125  0.736865  0.758299  0.985037  0.000000  ...       NaN   NaN   NaN   \n",
       "\n",
       "TASK                                                                           \n",
       "                                                                               \n",
       "      SCONJ VERB max_sent_len mean_sent_len min_sent_len n_sents std_sent_len  \n",
       "N01     NaN  NaN          NaN           NaN          NaN     NaN          NaN  \n",
       "N02     NaN  NaN          NaN           NaN          NaN     NaN          NaN  \n",
       "N03     NaN  NaN          NaN           NaN          NaN     NaN          NaN  \n",
       "N04     NaN  NaN          NaN           NaN          NaN     NaN          NaN  \n",
       "N05     NaN  NaN          NaN           NaN          NaN     NaN          NaN  \n",
       "...     ...  ...          ...           ...          ...     ...          ...  \n",
       "PD116   NaN  NaN          NaN           NaN          NaN     NaN          NaN  \n",
       "PD121   NaN  NaN          NaN           NaN          NaN     NaN          NaN  \n",
       "PD123   NaN  NaN          NaN           NaN          NaN     NaN          NaN  \n",
       "PD124   NaN  NaN          NaN           NaN          NaN     NaN          NaN  \n",
       "PD125   NaN  NaN          NaN           NaN          NaN     NaN          NaN  \n",
       "\n",
       "[176 rows x 383 columns]"
      ]
     },
     "execution_count": 260,
     "metadata": {},
     "output_type": "execute_result"
    }
   ],
   "source": [
    "res_df"
   ]
  },
  {
   "cell_type": "markdown",
   "id": "abfe36da",
   "metadata": {},
   "source": [
    "## features of raw texts"
   ]
  },
  {
   "cell_type": "code",
   "execution_count": 261,
   "id": "1df0a615",
   "metadata": {},
   "outputs": [],
   "source": [
    "raw = pd.read_csv(PATH+'rus_transcript_lex_by_task_with_dots.tsv', sep='\\t', index_col=0)"
   ]
  },
  {
   "cell_type": "code",
   "execution_count": 262,
   "id": "823d9218",
   "metadata": {},
   "outputs": [],
   "source": [
    "ids_to_drop = [i for i in raw.index if i.split('_')[0] not in res_df.index]"
   ]
  },
  {
   "cell_type": "code",
   "execution_count": 263,
   "id": "d032a9c0",
   "metadata": {},
   "outputs": [],
   "source": [
    "raw.drop(index=ids_to_drop, inplace=True)"
   ]
  },
  {
   "cell_type": "code",
   "execution_count": 264,
   "id": "d753f43b",
   "metadata": {},
   "outputs": [],
   "source": [
    "raw.index = [i.split('_')[0] for i in raw.index]"
   ]
  },
  {
   "cell_type": "code",
   "execution_count": 265,
   "id": "226cdf41",
   "metadata": {},
   "outputs": [
    {
     "data": {
      "text/plain": [
       "1060"
      ]
     },
     "execution_count": 265,
     "metadata": {},
     "output_type": "execute_result"
    }
   ],
   "source": [
    "raw.isna().sum(axis=0).sum()"
   ]
  },
  {
   "cell_type": "code",
   "execution_count": 266,
   "id": "ded7410c",
   "metadata": {},
   "outputs": [
    {
     "data": {
      "text/plain": [
       "<AxesSubplot: >"
      ]
     },
     "execution_count": 266,
     "metadata": {},
     "output_type": "execute_result"
    },
    {
     "data": {
      "image/png": "[encoded data removed]",
      "text/plain": [
       "<Figure size 432x288 with 1 Axes>"
      ]
     },
     "metadata": {
      "needs_background": "light"
     },
     "output_type": "display_data"
    }
   ],
   "source": [
    "raw.applymap(lambda x: len(x.split('.')) if not pd.isna(x) else np.nan).mean(axis=1).hist()"
   ]
  },
  {
   "cell_type": "markdown",
   "id": "36867f18",
   "metadata": {},
   "source": [
    "## look at tasks"
   ]
  },
  {
   "cell_type": "code",
   "execution_count": 267,
   "id": "aba59bf8",
   "metadata": {},
   "outputs": [],
   "source": [
    "task_available = raw.applymap(lambda x: 1 if not pd.isna(x) else x)"
   ]
  },
  {
   "cell_type": "code",
   "execution_count": 268,
   "id": "a3d5472e",
   "metadata": {},
   "outputs": [
    {
     "data": {
      "text/plain": [
       "176"
      ]
     },
     "execution_count": 268,
     "metadata": {},
     "output_type": "execute_result"
    }
   ],
   "source": [
    "len(task_available)"
   ]
  },
  {
   "cell_type": "code",
   "execution_count": 269,
   "id": "fcd39110",
   "metadata": {},
   "outputs": [],
   "source": [
    "task_available['diagnosis.type'] = df['diagnosis.type']"
   ]
  },
  {
   "cell_type": "code",
   "execution_count": 270,
   "id": "37c8dc8f",
   "metadata": {},
   "outputs": [
    {
     "data": {
      "text/plain": [
       "adventure          99\n",
       "bench              28\n",
       "chair              75\n",
       "party              35\n",
       "present            81\n",
       "sportsman          96\n",
       "table              30\n",
       "trip               40\n",
       "winterday          40\n",
       "diagnosis.type    176\n",
       "dtype: int64"
      ]
     },
     "execution_count": 270,
     "metadata": {},
     "output_type": "execute_result"
    }
   ],
   "source": [
    "task_available.count()"
   ]
  },
  {
   "cell_type": "code",
   "execution_count": 271,
   "id": "0b94f7c9",
   "metadata": {},
   "outputs": [
    {
     "data": {
      "text/html": [
       "<div>\n",
       "<style scoped>\n",
       "    .dataframe tbody tr th:only-of-type {\n",
       "        vertical-align: middle;\n",
       "    }\n",
       "\n",
       "    .dataframe tbody tr th {\n",
       "        vertical-align: top;\n",
       "    }\n",
       "\n",
       "    .dataframe thead th {\n",
       "        text-align: right;\n",
       "    }\n",
       "</style>\n",
       "<table border=\"1\" class=\"dataframe\">\n",
       "  <thead>\n",
       "    <tr style=\"text-align: right;\">\n",
       "      <th></th>\n",
       "      <th>adventure</th>\n",
       "      <th>bench</th>\n",
       "      <th>chair</th>\n",
       "      <th>party</th>\n",
       "      <th>present</th>\n",
       "      <th>sportsman</th>\n",
       "      <th>table</th>\n",
       "      <th>trip</th>\n",
       "      <th>winterday</th>\n",
       "    </tr>\n",
       "    <tr>\n",
       "      <th>diagnosis.type</th>\n",
       "      <th></th>\n",
       "      <th></th>\n",
       "      <th></th>\n",
       "      <th></th>\n",
       "      <th></th>\n",
       "      <th></th>\n",
       "      <th></th>\n",
       "      <th></th>\n",
       "      <th></th>\n",
       "    </tr>\n",
       "  </thead>\n",
       "  <tbody>\n",
       "    <tr>\n",
       "      <th>control</th>\n",
       "      <td>30</td>\n",
       "      <td>28</td>\n",
       "      <td>28</td>\n",
       "      <td>28</td>\n",
       "      <td>28</td>\n",
       "      <td>28</td>\n",
       "      <td>30</td>\n",
       "      <td>30</td>\n",
       "      <td>28</td>\n",
       "    </tr>\n",
       "    <tr>\n",
       "      <th>control_psy</th>\n",
       "      <td>25</td>\n",
       "      <td>0</td>\n",
       "      <td>16</td>\n",
       "      <td>7</td>\n",
       "      <td>19</td>\n",
       "      <td>26</td>\n",
       "      <td>0</td>\n",
       "      <td>9</td>\n",
       "      <td>12</td>\n",
       "    </tr>\n",
       "    <tr>\n",
       "      <th>dep</th>\n",
       "      <td>14</td>\n",
       "      <td>0</td>\n",
       "      <td>14</td>\n",
       "      <td>0</td>\n",
       "      <td>13</td>\n",
       "      <td>14</td>\n",
       "      <td>0</td>\n",
       "      <td>0</td>\n",
       "      <td>0</td>\n",
       "    </tr>\n",
       "    <tr>\n",
       "      <th>sz</th>\n",
       "      <td>30</td>\n",
       "      <td>0</td>\n",
       "      <td>17</td>\n",
       "      <td>0</td>\n",
       "      <td>21</td>\n",
       "      <td>28</td>\n",
       "      <td>0</td>\n",
       "      <td>1</td>\n",
       "      <td>0</td>\n",
       "    </tr>\n",
       "  </tbody>\n",
       "</table>\n",
       "</div>"
      ],
      "text/plain": [
       "                adventure  bench  chair  party  present  sportsman  table  \\\n",
       "diagnosis.type                                                              \n",
       "control                30     28     28     28       28         28     30   \n",
       "control_psy            25      0     16      7       19         26      0   \n",
       "dep                    14      0     14      0       13         14      0   \n",
       "sz                     30      0     17      0       21         28      0   \n",
       "\n",
       "                trip  winterday  \n",
       "diagnosis.type                   \n",
       "control           30         28  \n",
       "control_psy        9         12  \n",
       "dep                0          0  \n",
       "sz                 1          0  "
      ]
     },
     "execution_count": 271,
     "metadata": {},
     "output_type": "execute_result"
    }
   ],
   "source": [
    "task_available.groupby('diagnosis.type').count()"
   ]
  },
  {
   "cell_type": "code",
   "execution_count": 272,
   "id": "6cc062ac",
   "metadata": {},
   "outputs": [
    {
     "data": {
      "text/html": [
       "<div>\n",
       "<style scoped>\n",
       "    .dataframe tbody tr th:only-of-type {\n",
       "        vertical-align: middle;\n",
       "    }\n",
       "\n",
       "    .dataframe tbody tr th {\n",
       "        vertical-align: top;\n",
       "    }\n",
       "\n",
       "    .dataframe thead th {\n",
       "        text-align: right;\n",
       "    }\n",
       "</style>\n",
       "<table border=\"1\" class=\"dataframe\">\n",
       "  <thead>\n",
       "    <tr style=\"text-align: right;\">\n",
       "      <th></th>\n",
       "      <th>adventure</th>\n",
       "      <th>chair</th>\n",
       "      <th>present</th>\n",
       "      <th>sportsman</th>\n",
       "    </tr>\n",
       "    <tr>\n",
       "      <th>diagnosis.type</th>\n",
       "      <th></th>\n",
       "      <th></th>\n",
       "      <th></th>\n",
       "      <th></th>\n",
       "    </tr>\n",
       "  </thead>\n",
       "  <tbody>\n",
       "    <tr>\n",
       "      <th>control</th>\n",
       "      <td>30</td>\n",
       "      <td>28</td>\n",
       "      <td>28</td>\n",
       "      <td>28</td>\n",
       "    </tr>\n",
       "    <tr>\n",
       "      <th>control_psy</th>\n",
       "      <td>25</td>\n",
       "      <td>16</td>\n",
       "      <td>19</td>\n",
       "      <td>26</td>\n",
       "    </tr>\n",
       "    <tr>\n",
       "      <th>dep</th>\n",
       "      <td>14</td>\n",
       "      <td>14</td>\n",
       "      <td>13</td>\n",
       "      <td>14</td>\n",
       "    </tr>\n",
       "    <tr>\n",
       "      <th>sz</th>\n",
       "      <td>30</td>\n",
       "      <td>17</td>\n",
       "      <td>21</td>\n",
       "      <td>28</td>\n",
       "    </tr>\n",
       "  </tbody>\n",
       "</table>\n",
       "</div>"
      ],
      "text/plain": [
       "                adventure  chair  present  sportsman\n",
       "diagnosis.type                                      \n",
       "control                30     28       28         28\n",
       "control_psy            25     16       19         26\n",
       "dep                    14     14       13         14\n",
       "sz                     30     17       21         28"
      ]
     },
     "execution_count": 272,
     "metadata": {},
     "output_type": "execute_result"
    }
   ],
   "source": [
    "task_available.groupby('diagnosis.type').count()[task_available.groupby('diagnosis.type').count() > 0].dropna(axis=1)"
   ]
  },
  {
   "cell_type": "code",
   "execution_count": 273,
   "id": "93e808f3",
   "metadata": {},
   "outputs": [],
   "source": [
    "def drop_person(row):\n",
    "    for task in ('adventure', 'chair','present','sportsman'):\n",
    "        if not pd.isna(row[task]):\n",
    "            return False\n",
    "    return True"
   ]
  },
  {
   "cell_type": "code",
   "execution_count": 274,
   "id": "31cb1cf0",
   "metadata": {},
   "outputs": [],
   "source": [
    "ids_with_at_least_one_task = task_available[~task_available.apply(drop_person, axis=1)].index"
   ]
  },
  {
   "cell_type": "code",
   "execution_count": 275,
   "id": "4e086e5e",
   "metadata": {},
   "outputs": [],
   "source": [
    "df = df.loc[ids_with_at_least_one_task]"
   ]
  },
  {
   "cell_type": "code",
   "execution_count": 276,
   "id": "d753de3e",
   "metadata": {},
   "outputs": [],
   "source": [
    "res_df = res_df.loc[ids_with_at_least_one_task, ['adventure', 'chair', 'present', 'sportsman']]"
   ]
  },
  {
   "cell_type": "code",
   "execution_count": 277,
   "id": "d0fd3854",
   "metadata": {},
   "outputs": [],
   "source": [
    "def task_data(df, task, keep_target=True, fill_synt=True):\n",
    "    subset = df[task].dropna(axis=0, how='all')\n",
    "    if fill_synt:\n",
    "        subset['syntactic'] = subset['syntactic'].fillna(0.0)\n",
    "    if keep_target:\n",
    "        subset = pd.concat([subset, df['target'].loc[subset.index]], axis=1)\n",
    "    return subset"
   ]
  },
  {
   "cell_type": "code",
   "execution_count": 278,
   "id": "833b6f56",
   "metadata": {},
   "outputs": [],
   "source": [
    "def aplly_to_all_tasks(df, f, tasks=('adventure', 'chair','present','sportsman'), to_df=True, *args, **kwargs):\n",
    "    res = {}\n",
    "    for task in tasks:\n",
    "        data = task_data(df, task)\n",
    "        res[task] = f(data, *args, **kwargs)\n",
    "    return pd.DataFrame(res)"
   ]
  },
  {
   "cell_type": "markdown",
   "id": "ebcb80b0",
   "metadata": {},
   "source": [
    "### merge psychoscial data to scores"
   ]
  },
  {
   "cell_type": "code",
   "execution_count": 279,
   "id": "c190f63d",
   "metadata": {},
   "outputs": [],
   "source": [
    "merge_df = res_df.copy()\n",
    "for col in target_cols + panss_cols:\n",
    "    merge_df[('target', 'target', col)] = df[col]"
   ]
  },
  {
   "cell_type": "code",
   "execution_count": 280,
   "id": "74172197",
   "metadata": {},
   "outputs": [
    {
     "data": {
      "text/html": [
       "<div>\n",
       "<style scoped>\n",
       "    .dataframe tbody tr th:only-of-type {\n",
       "        vertical-align: middle;\n",
       "    }\n",
       "\n",
       "    .dataframe tbody tr th {\n",
       "        vertical-align: top;\n",
       "    }\n",
       "\n",
       "    .dataframe thead tr th {\n",
       "        text-align: left;\n",
       "    }\n",
       "</style>\n",
       "<table border=\"1\" class=\"dataframe\">\n",
       "  <thead>\n",
       "    <tr>\n",
       "      <th></th>\n",
       "      <th colspan=\"9\" halign=\"left\">LM</th>\n",
       "      <th>graph</th>\n",
       "      <th>...</th>\n",
       "      <th colspan=\"10\" halign=\"left\">syntactic</th>\n",
       "    </tr>\n",
       "    <tr>\n",
       "      <th></th>\n",
       "      <th>m_bert_cgcoh</th>\n",
       "      <th>m_bert_gcoh</th>\n",
       "      <th>m_bert_lcoh</th>\n",
       "      <th>m_bert_scoh</th>\n",
       "      <th>m_cgcoh</th>\n",
       "      <th>m_gcoh</th>\n",
       "      <th>m_lcoh</th>\n",
       "      <th>m_scoh</th>\n",
       "      <th>m_sporb</th>\n",
       "      <th>L1</th>\n",
       "      <th>...</th>\n",
       "      <th>PROPN</th>\n",
       "      <th>PUNCT</th>\n",
       "      <th>SCONJ</th>\n",
       "      <th>SPACE</th>\n",
       "      <th>VERB</th>\n",
       "      <th>max_sent_len</th>\n",
       "      <th>mean_sent_len</th>\n",
       "      <th>min_sent_len</th>\n",
       "      <th>n_sents</th>\n",
       "      <th>std_sent_len</th>\n",
       "    </tr>\n",
       "  </thead>\n",
       "  <tbody>\n",
       "    <tr>\n",
       "      <th>N02</th>\n",
       "      <td>0.907379</td>\n",
       "      <td>0.894173</td>\n",
       "      <td>0.892853</td>\n",
       "      <td>0.778331</td>\n",
       "      <td>0.859000</td>\n",
       "      <td>0.838311</td>\n",
       "      <td>0.739677</td>\n",
       "      <td>0.719709</td>\n",
       "      <td>0.998406</td>\n",
       "      <td>1.544118</td>\n",
       "      <td>...</td>\n",
       "      <td>NaN</td>\n",
       "      <td>0.083333</td>\n",
       "      <td>0.005952</td>\n",
       "      <td>NaN</td>\n",
       "      <td>0.119048</td>\n",
       "      <td>20.0</td>\n",
       "      <td>11.200000</td>\n",
       "      <td>3.0</td>\n",
       "      <td>15.0</td>\n",
       "      <td>5.256108</td>\n",
       "    </tr>\n",
       "    <tr>\n",
       "      <th>N07</th>\n",
       "      <td>0.956381</td>\n",
       "      <td>0.955130</td>\n",
       "      <td>0.935352</td>\n",
       "      <td>0.933666</td>\n",
       "      <td>0.777727</td>\n",
       "      <td>0.734761</td>\n",
       "      <td>0.602678</td>\n",
       "      <td>0.636684</td>\n",
       "      <td>0.985360</td>\n",
       "      <td>1.000000</td>\n",
       "      <td>...</td>\n",
       "      <td>0.015152</td>\n",
       "      <td>0.143939</td>\n",
       "      <td>0.022727</td>\n",
       "      <td>NaN</td>\n",
       "      <td>0.113636</td>\n",
       "      <td>15.0</td>\n",
       "      <td>6.600000</td>\n",
       "      <td>3.0</td>\n",
       "      <td>20.0</td>\n",
       "      <td>3.455431</td>\n",
       "    </tr>\n",
       "    <tr>\n",
       "      <th>N09</th>\n",
       "      <td>0.970384</td>\n",
       "      <td>0.964711</td>\n",
       "      <td>0.942394</td>\n",
       "      <td>0.925433</td>\n",
       "      <td>0.999755</td>\n",
       "      <td>0.999696</td>\n",
       "      <td>0.999152</td>\n",
       "      <td>0.999085</td>\n",
       "      <td>0.999479</td>\n",
       "      <td>0.000000</td>\n",
       "      <td>...</td>\n",
       "      <td>0.018868</td>\n",
       "      <td>0.113208</td>\n",
       "      <td>0.018868</td>\n",
       "      <td>NaN</td>\n",
       "      <td>0.150943</td>\n",
       "      <td>18.0</td>\n",
       "      <td>7.571429</td>\n",
       "      <td>4.0</td>\n",
       "      <td>7.0</td>\n",
       "      <td>4.531072</td>\n",
       "    </tr>\n",
       "    <tr>\n",
       "      <th>N13</th>\n",
       "      <td>0.977305</td>\n",
       "      <td>0.966893</td>\n",
       "      <td>0.950994</td>\n",
       "      <td>0.923762</td>\n",
       "      <td>0.830714</td>\n",
       "      <td>0.816151</td>\n",
       "      <td>0.731150</td>\n",
       "      <td>0.612277</td>\n",
       "      <td>0.996654</td>\n",
       "      <td>0.000000</td>\n",
       "      <td>...</td>\n",
       "      <td>NaN</td>\n",
       "      <td>0.109375</td>\n",
       "      <td>0.015625</td>\n",
       "      <td>NaN</td>\n",
       "      <td>0.132812</td>\n",
       "      <td>16.0</td>\n",
       "      <td>8.533333</td>\n",
       "      <td>3.0</td>\n",
       "      <td>15.0</td>\n",
       "      <td>3.947432</td>\n",
       "    </tr>\n",
       "    <tr>\n",
       "      <th>N17</th>\n",
       "      <td>0.956932</td>\n",
       "      <td>0.940715</td>\n",
       "      <td>0.909069</td>\n",
       "      <td>0.925338</td>\n",
       "      <td>0.776746</td>\n",
       "      <td>0.699820</td>\n",
       "      <td>0.439527</td>\n",
       "      <td>0.588899</td>\n",
       "      <td>0.884954</td>\n",
       "      <td>0.000000</td>\n",
       "      <td>...</td>\n",
       "      <td>0.013889</td>\n",
       "      <td>0.194444</td>\n",
       "      <td>NaN</td>\n",
       "      <td>NaN</td>\n",
       "      <td>0.111111</td>\n",
       "      <td>17.0</td>\n",
       "      <td>10.285714</td>\n",
       "      <td>2.0</td>\n",
       "      <td>7.0</td>\n",
       "      <td>4.772369</td>\n",
       "    </tr>\n",
       "    <tr>\n",
       "      <th>...</th>\n",
       "      <td>...</td>\n",
       "      <td>...</td>\n",
       "      <td>...</td>\n",
       "      <td>...</td>\n",
       "      <td>...</td>\n",
       "      <td>...</td>\n",
       "      <td>...</td>\n",
       "      <td>...</td>\n",
       "      <td>...</td>\n",
       "      <td>...</td>\n",
       "      <td>...</td>\n",
       "      <td>...</td>\n",
       "      <td>...</td>\n",
       "      <td>...</td>\n",
       "      <td>...</td>\n",
       "      <td>...</td>\n",
       "      <td>...</td>\n",
       "      <td>...</td>\n",
       "      <td>...</td>\n",
       "      <td>...</td>\n",
       "      <td>...</td>\n",
       "    </tr>\n",
       "    <tr>\n",
       "      <th>PN020</th>\n",
       "      <td>0.973917</td>\n",
       "      <td>0.970394</td>\n",
       "      <td>0.937589</td>\n",
       "      <td>0.950313</td>\n",
       "      <td>0.999079</td>\n",
       "      <td>0.998913</td>\n",
       "      <td>0.997459</td>\n",
       "      <td>0.997426</td>\n",
       "      <td>0.982177</td>\n",
       "      <td>1.444444</td>\n",
       "      <td>...</td>\n",
       "      <td>NaN</td>\n",
       "      <td>0.088398</td>\n",
       "      <td>0.016575</td>\n",
       "      <td>NaN</td>\n",
       "      <td>0.099448</td>\n",
       "      <td>23.0</td>\n",
       "      <td>10.647059</td>\n",
       "      <td>5.0</td>\n",
       "      <td>17.0</td>\n",
       "      <td>4.418426</td>\n",
       "    </tr>\n",
       "    <tr>\n",
       "      <th>PN021</th>\n",
       "      <td>0.960883</td>\n",
       "      <td>0.952544</td>\n",
       "      <td>0.929937</td>\n",
       "      <td>0.929935</td>\n",
       "      <td>0.917792</td>\n",
       "      <td>0.907508</td>\n",
       "      <td>0.819539</td>\n",
       "      <td>0.818349</td>\n",
       "      <td>0.942224</td>\n",
       "      <td>0.421277</td>\n",
       "      <td>...</td>\n",
       "      <td>NaN</td>\n",
       "      <td>0.113433</td>\n",
       "      <td>0.020896</td>\n",
       "      <td>NaN</td>\n",
       "      <td>0.143284</td>\n",
       "      <td>21.0</td>\n",
       "      <td>8.589744</td>\n",
       "      <td>1.0</td>\n",
       "      <td>39.0</td>\n",
       "      <td>4.136876</td>\n",
       "    </tr>\n",
       "    <tr>\n",
       "      <th>PD107</th>\n",
       "      <td>0.957607</td>\n",
       "      <td>0.943778</td>\n",
       "      <td>0.900488</td>\n",
       "      <td>0.894012</td>\n",
       "      <td>0.876956</td>\n",
       "      <td>0.864955</td>\n",
       "      <td>0.735897</td>\n",
       "      <td>0.702785</td>\n",
       "      <td>0.815587</td>\n",
       "      <td>0.000000</td>\n",
       "      <td>...</td>\n",
       "      <td>0.005102</td>\n",
       "      <td>0.147959</td>\n",
       "      <td>0.025510</td>\n",
       "      <td>NaN</td>\n",
       "      <td>0.158163</td>\n",
       "      <td>16.0</td>\n",
       "      <td>6.533333</td>\n",
       "      <td>1.0</td>\n",
       "      <td>30.0</td>\n",
       "      <td>3.913509</td>\n",
       "    </tr>\n",
       "    <tr>\n",
       "      <th>PD115</th>\n",
       "      <td>0.954370</td>\n",
       "      <td>0.949186</td>\n",
       "      <td>0.909227</td>\n",
       "      <td>0.859706</td>\n",
       "      <td>0.975395</td>\n",
       "      <td>0.969217</td>\n",
       "      <td>0.961751</td>\n",
       "      <td>0.959043</td>\n",
       "      <td>0.900109</td>\n",
       "      <td>0.000000</td>\n",
       "      <td>...</td>\n",
       "      <td>NaN</td>\n",
       "      <td>0.130841</td>\n",
       "      <td>0.018692</td>\n",
       "      <td>NaN</td>\n",
       "      <td>0.084112</td>\n",
       "      <td>13.0</td>\n",
       "      <td>7.133333</td>\n",
       "      <td>2.0</td>\n",
       "      <td>15.0</td>\n",
       "      <td>3.422799</td>\n",
       "    </tr>\n",
       "    <tr>\n",
       "      <th>PD116</th>\n",
       "      <td>0.956023</td>\n",
       "      <td>0.932437</td>\n",
       "      <td>0.888154</td>\n",
       "      <td>0.903945</td>\n",
       "      <td>0.999995</td>\n",
       "      <td>0.999994</td>\n",
       "      <td>0.999987</td>\n",
       "      <td>0.999986</td>\n",
       "      <td>0.963407</td>\n",
       "      <td>2.000000</td>\n",
       "      <td>...</td>\n",
       "      <td>NaN</td>\n",
       "      <td>0.115942</td>\n",
       "      <td>NaN</td>\n",
       "      <td>NaN</td>\n",
       "      <td>0.130435</td>\n",
       "      <td>21.0</td>\n",
       "      <td>7.666667</td>\n",
       "      <td>1.0</td>\n",
       "      <td>9.0</td>\n",
       "      <td>5.617433</td>\n",
       "    </tr>\n",
       "  </tbody>\n",
       "</table>\n",
       "<p>75 rows × 42 columns</p>\n",
       "</div>"
      ],
      "text/plain": [
       "                LM                                                          \\\n",
       "      m_bert_cgcoh m_bert_gcoh m_bert_lcoh m_bert_scoh   m_cgcoh    m_gcoh   \n",
       "N02       0.907379    0.894173    0.892853    0.778331  0.859000  0.838311   \n",
       "N07       0.956381    0.955130    0.935352    0.933666  0.777727  0.734761   \n",
       "N09       0.970384    0.964711    0.942394    0.925433  0.999755  0.999696   \n",
       "N13       0.977305    0.966893    0.950994    0.923762  0.830714  0.816151   \n",
       "N17       0.956932    0.940715    0.909069    0.925338  0.776746  0.699820   \n",
       "...            ...         ...         ...         ...       ...       ...   \n",
       "PN020     0.973917    0.970394    0.937589    0.950313  0.999079  0.998913   \n",
       "PN021     0.960883    0.952544    0.929937    0.929935  0.917792  0.907508   \n",
       "PD107     0.957607    0.943778    0.900488    0.894012  0.876956  0.864955   \n",
       "PD115     0.954370    0.949186    0.909227    0.859706  0.975395  0.969217   \n",
       "PD116     0.956023    0.932437    0.888154    0.903945  0.999995  0.999994   \n",
       "\n",
       "                                        graph  ... syntactic            \\\n",
       "         m_lcoh    m_scoh   m_sporb        L1  ...     PROPN     PUNCT   \n",
       "N02    0.739677  0.719709  0.998406  1.544118  ...       NaN  0.083333   \n",
       "N07    0.602678  0.636684  0.985360  1.000000  ...  0.015152  0.143939   \n",
       "N09    0.999152  0.999085  0.999479  0.000000  ...  0.018868  0.113208   \n",
       "N13    0.731150  0.612277  0.996654  0.000000  ...       NaN  0.109375   \n",
       "N17    0.439527  0.588899  0.884954  0.000000  ...  0.013889  0.194444   \n",
       "...         ...       ...       ...       ...  ...       ...       ...   \n",
       "PN020  0.997459  0.997426  0.982177  1.444444  ...       NaN  0.088398   \n",
       "PN021  0.819539  0.818349  0.942224  0.421277  ...       NaN  0.113433   \n",
       "PD107  0.735897  0.702785  0.815587  0.000000  ...  0.005102  0.147959   \n",
       "PD115  0.961751  0.959043  0.900109  0.000000  ...       NaN  0.130841   \n",
       "PD116  0.999987  0.999986  0.963407  2.000000  ...       NaN  0.115942   \n",
       "\n",
       "                                                                         \\\n",
       "          SCONJ SPACE      VERB max_sent_len mean_sent_len min_sent_len   \n",
       "N02    0.005952   NaN  0.119048         20.0     11.200000          3.0   \n",
       "N07    0.022727   NaN  0.113636         15.0      6.600000          3.0   \n",
       "N09    0.018868   NaN  0.150943         18.0      7.571429          4.0   \n",
       "N13    0.015625   NaN  0.132812         16.0      8.533333          3.0   \n",
       "N17         NaN   NaN  0.111111         17.0     10.285714          2.0   \n",
       "...         ...   ...       ...          ...           ...          ...   \n",
       "PN020  0.016575   NaN  0.099448         23.0     10.647059          5.0   \n",
       "PN021  0.020896   NaN  0.143284         21.0      8.589744          1.0   \n",
       "PD107  0.025510   NaN  0.158163         16.0      6.533333          1.0   \n",
       "PD115  0.018692   NaN  0.084112         13.0      7.133333          2.0   \n",
       "PD116       NaN   NaN  0.130435         21.0      7.666667          1.0   \n",
       "\n",
       "                            \n",
       "      n_sents std_sent_len  \n",
       "N02      15.0     5.256108  \n",
       "N07      20.0     3.455431  \n",
       "N09       7.0     4.531072  \n",
       "N13      15.0     3.947432  \n",
       "N17       7.0     4.772369  \n",
       "...       ...          ...  \n",
       "PN020    17.0     4.418426  \n",
       "PN021    39.0     4.136876  \n",
       "PD107    30.0     3.913509  \n",
       "PD115    15.0     3.422799  \n",
       "PD116     9.0     5.617433  \n",
       "\n",
       "[75 rows x 42 columns]"
      ]
     },
     "execution_count": 280,
     "metadata": {},
     "output_type": "execute_result"
    }
   ],
   "source": [
    "merge_df['chair'].dropna(axis=0, how='all')"
   ]
  },
  {
   "cell_type": "code",
   "execution_count": 281,
   "id": "a3f1efca",
   "metadata": {},
   "outputs": [],
   "source": [
    "def corr(df, target):\n",
    "    return df[~pd.isnull(df[target])].corr()[target]"
   ]
  },
  {
   "cell_type": "code",
   "execution_count": 282,
   "id": "ee24aefa",
   "metadata": {},
   "outputs": [],
   "source": [
    "def corr_thresh(df, target, thresh=0.3, drop_target=True):\n",
    "    corr_tgt = corr(df, target)\n",
    "    corr_tgt.drop('target', inplace=True)\n",
    "    return corr_tgt[abs(corr_tgt) >= thresh]"
   ]
  },
  {
   "cell_type": "code",
   "execution_count": 292,
   "id": "ae93eb89",
   "metadata": {},
   "outputs": [],
   "source": [
    "import copy\n",
    "cmap = copy.copy(plt.cm.get_cmap(\"Blues\"))\n",
    "cmap.set_under(\"white\")\n",
    "\n",
    "def color_nan_white(val):\n",
    "    \"\"\"Color the nan text white\"\"\"\n",
    "    if np.isnan(val):\n",
    "        return 'color: white'\n",
    "\n",
    "def color_nan_white_background(val):\n",
    "    \"\"\"Color the nan cell background white\"\"\"\n",
    "    if np.isnan(val):\n",
    "        return 'background-color: white'"
   ]
  },
  {
   "cell_type": "code",
   "execution_count": 311,
   "id": "b7ca10b5",
   "metadata": {},
   "outputs": [],
   "source": [
    "def style(df, vmin=None, vmax=None, cmap='Blues'):\n",
    "    return(df.style\n",
    "            .background_gradient(vmin=vmin, vmax=vmax, cmap=cmap)\n",
    "            .applymap(lambda x: color_nan_white(x))\n",
    "            .applymap(lambda x: color_nan_white_background(x))\n",
    "        )"
   ]
  },
  {
   "cell_type": "code",
   "execution_count": 312,
   "id": "b3430604",
   "metadata": {},
   "outputs": [
    {
     "data": {
      "text/html": [
       "<style type=\"text/css\">\n",
       "#T_95ae2_row0_col0, #T_95ae2_row0_col2, #T_95ae2_row0_col3, #T_95ae2_row1_col0, #T_95ae2_row1_col2, #T_95ae2_row1_col3, #T_95ae2_row2_col0, #T_95ae2_row2_col2, #T_95ae2_row2_col3, #T_95ae2_row3_col0, #T_95ae2_row3_col2, #T_95ae2_row3_col3, #T_95ae2_row4_col0, #T_95ae2_row4_col2, #T_95ae2_row4_col3 {\n",
       "  background-color: #000000;\n",
       "  color: #f1f1f1;\n",
       "  color: white;\n",
       "  background-color: white;\n",
       "}\n",
       "#T_95ae2_row0_col1 {\n",
       "  background-color: #f7fbff;\n",
       "  color: #000000;\n",
       "}\n",
       "#T_95ae2_row1_col1 {\n",
       "  background-color: #f2f7fd;\n",
       "  color: #000000;\n",
       "}\n",
       "#T_95ae2_row2_col1 {\n",
       "  background-color: #dfebf7;\n",
       "  color: #000000;\n",
       "}\n",
       "#T_95ae2_row3_col1 {\n",
       "  background-color: #08306b;\n",
       "  color: #f1f1f1;\n",
       "}\n",
       "#T_95ae2_row4_col1 {\n",
       "  background-color: #083979;\n",
       "  color: #f1f1f1;\n",
       "}\n",
       "</style>\n",
       "<table id=\"T_95ae2\">\n",
       "  <thead>\n",
       "    <tr>\n",
       "      <th class=\"blank\" >&nbsp;</th>\n",
       "      <th class=\"blank level0\" >&nbsp;</th>\n",
       "      <th id=\"T_95ae2_level0_col0\" class=\"col_heading level0 col0\" >adventure</th>\n",
       "      <th id=\"T_95ae2_level0_col1\" class=\"col_heading level0 col1\" >chair</th>\n",
       "      <th id=\"T_95ae2_level0_col2\" class=\"col_heading level0 col2\" >present</th>\n",
       "      <th id=\"T_95ae2_level0_col3\" class=\"col_heading level0 col3\" >sportsman</th>\n",
       "    </tr>\n",
       "  </thead>\n",
       "  <tbody>\n",
       "    <tr>\n",
       "      <th id=\"T_95ae2_level0_row0\" class=\"row_heading level0 row0\" rowspan=\"3\">LM</th>\n",
       "      <th id=\"T_95ae2_level1_row0\" class=\"row_heading level1 row0\" >m_bert_cgcoh</th>\n",
       "      <td id=\"T_95ae2_row0_col0\" class=\"data row0 col0\" >nan</td>\n",
       "      <td id=\"T_95ae2_row0_col1\" class=\"data row0 col1\" >-0.416507</td>\n",
       "      <td id=\"T_95ae2_row0_col2\" class=\"data row0 col2\" >nan</td>\n",
       "      <td id=\"T_95ae2_row0_col3\" class=\"data row0 col3\" >nan</td>\n",
       "    </tr>\n",
       "    <tr>\n",
       "      <th id=\"T_95ae2_level1_row1\" class=\"row_heading level1 row1\" >m_bert_gcoh</th>\n",
       "      <td id=\"T_95ae2_row1_col0\" class=\"data row1 col0\" >nan</td>\n",
       "      <td id=\"T_95ae2_row1_col1\" class=\"data row1 col1\" >-0.395056</td>\n",
       "      <td id=\"T_95ae2_row1_col2\" class=\"data row1 col2\" >nan</td>\n",
       "      <td id=\"T_95ae2_row1_col3\" class=\"data row1 col3\" >nan</td>\n",
       "    </tr>\n",
       "    <tr>\n",
       "      <th id=\"T_95ae2_level1_row2\" class=\"row_heading level1 row2\" >m_bert_scoh</th>\n",
       "      <td id=\"T_95ae2_row2_col0\" class=\"data row2 col0\" >nan</td>\n",
       "      <td id=\"T_95ae2_row2_col1\" class=\"data row2 col1\" >-0.320506</td>\n",
       "      <td id=\"T_95ae2_row2_col2\" class=\"data row2 col2\" >nan</td>\n",
       "      <td id=\"T_95ae2_row2_col3\" class=\"data row2 col3\" >nan</td>\n",
       "    </tr>\n",
       "    <tr>\n",
       "      <th id=\"T_95ae2_level0_row3\" class=\"row_heading level0 row3\" rowspan=\"2\">syntactic</th>\n",
       "      <th id=\"T_95ae2_level1_row3\" class=\"row_heading level1 row3\" >mean_sent_len</th>\n",
       "      <td id=\"T_95ae2_row3_col0\" class=\"data row3 col0\" >nan</td>\n",
       "      <td id=\"T_95ae2_row3_col1\" class=\"data row3 col1\" >0.351830</td>\n",
       "      <td id=\"T_95ae2_row3_col2\" class=\"data row3 col2\" >nan</td>\n",
       "      <td id=\"T_95ae2_row3_col3\" class=\"data row3 col3\" >nan</td>\n",
       "    </tr>\n",
       "    <tr>\n",
       "      <th id=\"T_95ae2_level1_row4\" class=\"row_heading level1 row4\" >std_sent_len</th>\n",
       "      <td id=\"T_95ae2_row4_col0\" class=\"data row4 col0\" >nan</td>\n",
       "      <td id=\"T_95ae2_row4_col1\" class=\"data row4 col1\" >0.322114</td>\n",
       "      <td id=\"T_95ae2_row4_col2\" class=\"data row4 col2\" >nan</td>\n",
       "      <td id=\"T_95ae2_row4_col3\" class=\"data row4 col3\" >nan</td>\n",
       "    </tr>\n",
       "  </tbody>\n",
       "</table>\n"
      ],
      "text/plain": [
       "<pandas.io.formats.style.Styler at 0x7fe92a7a9670>"
      ]
     },
     "execution_count": 312,
     "metadata": {},
     "output_type": "execute_result"
    }
   ],
   "source": [
    "style(aplly_to_all_tasks(merge_df, corr_thresh, target=('target', 'age')))"
   ]
  },
  {
   "cell_type": "code",
   "execution_count": 313,
   "id": "8407f9f2",
   "metadata": {},
   "outputs": [
    {
     "data": {
      "text/html": [
       "<style type=\"text/css\">\n",
       "#T_28972_row0_col0, #T_28972_row2_col0, #T_28972_row3_col0, #T_28972_row4_col0, #T_28972_row5_col0, #T_28972_row6_col0 {\n",
       "  background-color: #f7fbff;\n",
       "  color: #000000;\n",
       "  color: white;\n",
       "  background-color: white;\n",
       "}\n",
       "#T_28972_row0_col1 {\n",
       "  background-color: #f2f8fd;\n",
       "  color: #000000;\n",
       "}\n",
       "#T_28972_row0_col2, #T_28972_row0_col3, #T_28972_row1_col1, #T_28972_row1_col2, #T_28972_row1_col3, #T_28972_row2_col2, #T_28972_row2_col3, #T_28972_row3_col2, #T_28972_row3_col3, #T_28972_row4_col2, #T_28972_row4_col3, #T_28972_row5_col2, #T_28972_row5_col3, #T_28972_row6_col2, #T_28972_row6_col3 {\n",
       "  background-color: #000000;\n",
       "  color: #f1f1f1;\n",
       "  color: white;\n",
       "  background-color: white;\n",
       "}\n",
       "#T_28972_row1_col0, #T_28972_row4_col1 {\n",
       "  background-color: #f7fbff;\n",
       "  color: #000000;\n",
       "}\n",
       "#T_28972_row2_col1 {\n",
       "  background-color: #08306b;\n",
       "  color: #f1f1f1;\n",
       "}\n",
       "#T_28972_row3_col1 {\n",
       "  background-color: #084b93;\n",
       "  color: #f1f1f1;\n",
       "}\n",
       "#T_28972_row5_col1 {\n",
       "  background-color: #084d96;\n",
       "  color: #f1f1f1;\n",
       "}\n",
       "#T_28972_row6_col1 {\n",
       "  background-color: #084488;\n",
       "  color: #f1f1f1;\n",
       "}\n",
       "</style>\n",
       "<table id=\"T_28972\">\n",
       "  <thead>\n",
       "    <tr>\n",
       "      <th class=\"blank\" >&nbsp;</th>\n",
       "      <th class=\"blank level0\" >&nbsp;</th>\n",
       "      <th id=\"T_28972_level0_col0\" class=\"col_heading level0 col0\" >adventure</th>\n",
       "      <th id=\"T_28972_level0_col1\" class=\"col_heading level0 col1\" >chair</th>\n",
       "      <th id=\"T_28972_level0_col2\" class=\"col_heading level0 col2\" >present</th>\n",
       "      <th id=\"T_28972_level0_col3\" class=\"col_heading level0 col3\" >sportsman</th>\n",
       "    </tr>\n",
       "  </thead>\n",
       "  <tbody>\n",
       "    <tr>\n",
       "      <th id=\"T_28972_level0_row0\" class=\"row_heading level0 row0\" rowspan=\"2\">LM</th>\n",
       "      <th id=\"T_28972_level1_row0\" class=\"row_heading level1 row0\" >m_bert_cgcoh</th>\n",
       "      <td id=\"T_28972_row0_col0\" class=\"data row0 col0\" >nan</td>\n",
       "      <td id=\"T_28972_row0_col1\" class=\"data row0 col1\" >-0.352204</td>\n",
       "      <td id=\"T_28972_row0_col2\" class=\"data row0 col2\" >nan</td>\n",
       "      <td id=\"T_28972_row0_col3\" class=\"data row0 col3\" >nan</td>\n",
       "    </tr>\n",
       "    <tr>\n",
       "      <th id=\"T_28972_level1_row1\" class=\"row_heading level1 row1\" >m_bert_scoh</th>\n",
       "      <td id=\"T_28972_row1_col0\" class=\"data row1 col0\" >-0.324717</td>\n",
       "      <td id=\"T_28972_row1_col1\" class=\"data row1 col1\" >nan</td>\n",
       "      <td id=\"T_28972_row1_col2\" class=\"data row1 col2\" >nan</td>\n",
       "      <td id=\"T_28972_row1_col3\" class=\"data row1 col3\" >nan</td>\n",
       "    </tr>\n",
       "    <tr>\n",
       "      <th id=\"T_28972_level0_row2\" class=\"row_heading level0 row2\" rowspan=\"2\">graph</th>\n",
       "      <th id=\"T_28972_level1_row2\" class=\"row_heading level1 row2\" >L1</th>\n",
       "      <td id=\"T_28972_row2_col0\" class=\"data row2 col0\" >nan</td>\n",
       "      <td id=\"T_28972_row2_col1\" class=\"data row2 col1\" >0.398218</td>\n",
       "      <td id=\"T_28972_row2_col2\" class=\"data row2 col2\" >nan</td>\n",
       "      <td id=\"T_28972_row2_col3\" class=\"data row2 col3\" >nan</td>\n",
       "    </tr>\n",
       "    <tr>\n",
       "      <th id=\"T_28972_level1_row3\" class=\"row_heading level1 row3\" >number_of_edges</th>\n",
       "      <td id=\"T_28972_row3_col0\" class=\"data row3 col0\" >nan</td>\n",
       "      <td id=\"T_28972_row3_col1\" class=\"data row3 col1\" >0.317247</td>\n",
       "      <td id=\"T_28972_row3_col2\" class=\"data row3 col2\" >nan</td>\n",
       "      <td id=\"T_28972_row3_col3\" class=\"data row3 col3\" >nan</td>\n",
       "    </tr>\n",
       "    <tr>\n",
       "      <th id=\"T_28972_level0_row4\" class=\"row_heading level0 row4\" rowspan=\"2\">lexical</th>\n",
       "      <th id=\"T_28972_level1_row4\" class=\"row_heading level1 row4\" >LTR</th>\n",
       "      <td id=\"T_28972_row4_col0\" class=\"data row4 col0\" >nan</td>\n",
       "      <td id=\"T_28972_row4_col1\" class=\"data row4 col1\" >-0.370300</td>\n",
       "      <td id=\"T_28972_row4_col2\" class=\"data row4 col2\" >nan</td>\n",
       "      <td id=\"T_28972_row4_col3\" class=\"data row4 col3\" >nan</td>\n",
       "    </tr>\n",
       "    <tr>\n",
       "      <th id=\"T_28972_level1_row5\" class=\"row_heading level1 row5\" >n_words</th>\n",
       "      <td id=\"T_28972_row5_col0\" class=\"data row5 col0\" >nan</td>\n",
       "      <td id=\"T_28972_row5_col1\" class=\"data row5 col1\" >0.313731</td>\n",
       "      <td id=\"T_28972_row5_col2\" class=\"data row5 col2\" >nan</td>\n",
       "      <td id=\"T_28972_row5_col3\" class=\"data row5 col3\" >nan</td>\n",
       "    </tr>\n",
       "    <tr>\n",
       "      <th id=\"T_28972_level0_row6\" class=\"row_heading level0 row6\" >syntactic</th>\n",
       "      <th id=\"T_28972_level1_row6\" class=\"row_heading level1 row6\" >mean_sent_len</th>\n",
       "      <td id=\"T_28972_row6_col0\" class=\"data row6 col0\" >nan</td>\n",
       "      <td id=\"T_28972_row6_col1\" class=\"data row6 col1\" >0.338435</td>\n",
       "      <td id=\"T_28972_row6_col2\" class=\"data row6 col2\" >nan</td>\n",
       "      <td id=\"T_28972_row6_col3\" class=\"data row6 col3\" >nan</td>\n",
       "    </tr>\n",
       "  </tbody>\n",
       "</table>\n"
      ],
      "text/plain": [
       "<pandas.io.formats.style.Styler at 0x7fe92a845bb0>"
      ]
     },
     "execution_count": 313,
     "metadata": {},
     "output_type": "execute_result"
    }
   ],
   "source": [
    "style(aplly_to_all_tasks(merge_df, corr_thresh, target=('target', 'education.years')))"
   ]
  },
  {
   "cell_type": "code",
   "execution_count": 314,
   "id": "ae413b3a",
   "metadata": {},
   "outputs": [
    {
     "data": {
      "text/html": [
       "<style type=\"text/css\">\n",
       "#T_93710_row0_col0, #T_93710_row1_col0, #T_93710_row2_col0, #T_93710_row3_col0, #T_93710_row4_col0, #T_93710_row5_col0, #T_93710_row6_col0, #T_93710_row7_col0, #T_93710_row8_col0, #T_93710_row9_col0, #T_93710_row11_col0, #T_93710_row12_col0, #T_93710_row13_col0, #T_93710_row14_col0, #T_93710_row15_col0, #T_93710_row16_col0, #T_93710_row17_col0 {\n",
       "  background-color: #f7fbff;\n",
       "  color: #000000;\n",
       "  color: white;\n",
       "  background-color: white;\n",
       "}\n",
       "#T_93710_row0_col1 {\n",
       "  background-color: #0f5aa3;\n",
       "  color: #f1f1f1;\n",
       "}\n",
       "#T_93710_row0_col2, #T_93710_row0_col3, #T_93710_row2_col1, #T_93710_row3_col2, #T_93710_row4_col1, #T_93710_row4_col3, #T_93710_row5_col1, #T_93710_row5_col3, #T_93710_row9_col2, #T_93710_row9_col3, #T_93710_row11_col2, #T_93710_row11_col3, #T_93710_row12_col2, #T_93710_row12_col3, #T_93710_row14_col1, #T_93710_row15_col3, #T_93710_row16_col1, #T_93710_row16_col2, #T_93710_row17_col1, #T_93710_row17_col3 {\n",
       "  background-color: #000000;\n",
       "  color: #f1f1f1;\n",
       "  color: white;\n",
       "  background-color: white;\n",
       "}\n",
       "#T_93710_row1_col1, #T_93710_row7_col1, #T_93710_row15_col1 {\n",
       "  background-color: #e0ecf8;\n",
       "  color: #000000;\n",
       "}\n",
       "#T_93710_row1_col2, #T_93710_row7_col2 {\n",
       "  background-color: #f4f9fe;\n",
       "  color: #000000;\n",
       "}\n",
       "#T_93710_row1_col3, #T_93710_row7_col3 {\n",
       "  background-color: #f5f9fe;\n",
       "  color: #000000;\n",
       "}\n",
       "#T_93710_row2_col2, #T_93710_row6_col3 {\n",
       "  background-color: #f5fafe;\n",
       "  color: #000000;\n",
       "}\n",
       "#T_93710_row2_col3 {\n",
       "  background-color: #f6faff;\n",
       "  color: #000000;\n",
       "}\n",
       "#T_93710_row3_col1, #T_93710_row10_col1 {\n",
       "  background-color: #e7f0fa;\n",
       "  color: #000000;\n",
       "}\n",
       "#T_93710_row3_col3, #T_93710_row6_col2, #T_93710_row9_col1, #T_93710_row10_col0, #T_93710_row10_col3 {\n",
       "  background-color: #f7fbff;\n",
       "  color: #000000;\n",
       "}\n",
       "#T_93710_row4_col2 {\n",
       "  background-color: #d5e5f4;\n",
       "  color: #000000;\n",
       "}\n",
       "#T_93710_row5_col2, #T_93710_row17_col2 {\n",
       "  background-color: #cadef0;\n",
       "  color: #000000;\n",
       "}\n",
       "#T_93710_row6_col1 {\n",
       "  background-color: #e6f0f9;\n",
       "  color: #000000;\n",
       "}\n",
       "#T_93710_row8_col1 {\n",
       "  background-color: #125da6;\n",
       "  color: #f1f1f1;\n",
       "}\n",
       "#T_93710_row8_col2, #T_93710_row8_col3, #T_93710_row13_col1 {\n",
       "  background-color: #08306b;\n",
       "  color: #f1f1f1;\n",
       "}\n",
       "#T_93710_row10_col2 {\n",
       "  background-color: #bad6eb;\n",
       "  color: #000000;\n",
       "}\n",
       "#T_93710_row11_col1 {\n",
       "  background-color: #f1f7fd;\n",
       "  color: #000000;\n",
       "}\n",
       "#T_93710_row12_col1 {\n",
       "  background-color: #e5eff9;\n",
       "  color: #000000;\n",
       "}\n",
       "#T_93710_row13_col2 {\n",
       "  background-color: #084a91;\n",
       "  color: #f1f1f1;\n",
       "}\n",
       "#T_93710_row13_col3 {\n",
       "  background-color: #083e81;\n",
       "  color: #f1f1f1;\n",
       "}\n",
       "#T_93710_row14_col2 {\n",
       "  background-color: #d9e8f5;\n",
       "  color: #000000;\n",
       "}\n",
       "#T_93710_row14_col3 {\n",
       "  background-color: #dfebf7;\n",
       "  color: #000000;\n",
       "}\n",
       "#T_93710_row15_col2 {\n",
       "  background-color: #c2d9ee;\n",
       "  color: #000000;\n",
       "}\n",
       "#T_93710_row16_col3 {\n",
       "  background-color: #f2f8fd;\n",
       "  color: #000000;\n",
       "}\n",
       "</style>\n",
       "<table id=\"T_93710\">\n",
       "  <thead>\n",
       "    <tr>\n",
       "      <th class=\"blank\" >&nbsp;</th>\n",
       "      <th class=\"blank level0\" >&nbsp;</th>\n",
       "      <th id=\"T_93710_level0_col0\" class=\"col_heading level0 col0\" >adventure</th>\n",
       "      <th id=\"T_93710_level0_col1\" class=\"col_heading level0 col1\" >chair</th>\n",
       "      <th id=\"T_93710_level0_col2\" class=\"col_heading level0 col2\" >present</th>\n",
       "      <th id=\"T_93710_level0_col3\" class=\"col_heading level0 col3\" >sportsman</th>\n",
       "    </tr>\n",
       "  </thead>\n",
       "  <tbody>\n",
       "    <tr>\n",
       "      <th id=\"T_93710_level0_row0\" class=\"row_heading level0 row0\" rowspan=\"8\">graph</th>\n",
       "      <th id=\"T_93710_level1_row0\" class=\"row_heading level1 row0\" >L3</th>\n",
       "      <td id=\"T_93710_row0_col0\" class=\"data row0 col0\" >nan</td>\n",
       "      <td id=\"T_93710_row0_col1\" class=\"data row0 col1\" >0.354773</td>\n",
       "      <td id=\"T_93710_row0_col2\" class=\"data row0 col2\" >nan</td>\n",
       "      <td id=\"T_93710_row0_col3\" class=\"data row0 col3\" >nan</td>\n",
       "    </tr>\n",
       "    <tr>\n",
       "      <th id=\"T_93710_level1_row1\" class=\"row_heading level1 row1\" >LCC</th>\n",
       "      <td id=\"T_93710_row1_col0\" class=\"data row1 col0\" >nan</td>\n",
       "      <td id=\"T_93710_row1_col1\" class=\"data row1 col1\" >-0.317834</td>\n",
       "      <td id=\"T_93710_row1_col2\" class=\"data row1 col2\" >-0.614971</td>\n",
       "      <td id=\"T_93710_row1_col3\" class=\"data row1 col3\" >-0.391413</td>\n",
       "    </tr>\n",
       "    <tr>\n",
       "      <th id=\"T_93710_level1_row2\" class=\"row_heading level1 row2\" >LSC</th>\n",
       "      <td id=\"T_93710_row2_col0\" class=\"data row2 col0\" >nan</td>\n",
       "      <td id=\"T_93710_row2_col1\" class=\"data row2 col1\" >nan</td>\n",
       "      <td id=\"T_93710_row2_col2\" class=\"data row2 col2\" >-0.623328</td>\n",
       "      <td id=\"T_93710_row2_col3\" class=\"data row2 col3\" >-0.397698</td>\n",
       "    </tr>\n",
       "    <tr>\n",
       "      <th id=\"T_93710_level1_row3\" class=\"row_heading level1 row3\" >PE</th>\n",
       "      <td id=\"T_93710_row3_col0\" class=\"data row3 col0\" >nan</td>\n",
       "      <td id=\"T_93710_row3_col1\" class=\"data row3 col1\" >-0.345843</td>\n",
       "      <td id=\"T_93710_row3_col2\" class=\"data row3 col2\" >nan</td>\n",
       "      <td id=\"T_93710_row3_col3\" class=\"data row3 col3\" >-0.402326</td>\n",
       "    </tr>\n",
       "    <tr>\n",
       "      <th id=\"T_93710_level1_row4\" class=\"row_heading level1 row4\" >degree_average</th>\n",
       "      <td id=\"T_93710_row4_col0\" class=\"data row4 col0\" >nan</td>\n",
       "      <td id=\"T_93710_row4_col1\" class=\"data row4 col1\" >nan</td>\n",
       "      <td id=\"T_93710_row4_col2\" class=\"data row4 col2\" >-0.438249</td>\n",
       "      <td id=\"T_93710_row4_col3\" class=\"data row4 col3\" >nan</td>\n",
       "    </tr>\n",
       "    <tr>\n",
       "      <th id=\"T_93710_level1_row5\" class=\"row_heading level1 row5\" >degree_std</th>\n",
       "      <td id=\"T_93710_row5_col0\" class=\"data row5 col0\" >nan</td>\n",
       "      <td id=\"T_93710_row5_col1\" class=\"data row5 col1\" >nan</td>\n",
       "      <td id=\"T_93710_row5_col2\" class=\"data row5 col2\" >-0.377352</td>\n",
       "      <td id=\"T_93710_row5_col3\" class=\"data row5 col3\" >nan</td>\n",
       "    </tr>\n",
       "    <tr>\n",
       "      <th id=\"T_93710_level1_row6\" class=\"row_heading level1 row6\" >number_of_edges</th>\n",
       "      <td id=\"T_93710_row6_col0\" class=\"data row6 col0\" >nan</td>\n",
       "      <td id=\"T_93710_row6_col1\" class=\"data row6 col1\" >-0.340418</td>\n",
       "      <td id=\"T_93710_row6_col2\" class=\"data row6 col2\" >-0.633029</td>\n",
       "      <td id=\"T_93710_row6_col3\" class=\"data row6 col3\" >-0.394954</td>\n",
       "    </tr>\n",
       "    <tr>\n",
       "      <th id=\"T_93710_level1_row7\" class=\"row_heading level1 row7\" >number_of_nodes</th>\n",
       "      <td id=\"T_93710_row7_col0\" class=\"data row7 col0\" >nan</td>\n",
       "      <td id=\"T_93710_row7_col1\" class=\"data row7 col1\" >-0.317834</td>\n",
       "      <td id=\"T_93710_row7_col2\" class=\"data row7 col2\" >-0.614971</td>\n",
       "      <td id=\"T_93710_row7_col3\" class=\"data row7 col3\" >-0.391413</td>\n",
       "    </tr>\n",
       "    <tr>\n",
       "      <th id=\"T_93710_level0_row8\" class=\"row_heading level0 row8\" rowspan=\"3\">lexical</th>\n",
       "      <th id=\"T_93710_level1_row8\" class=\"row_heading level1 row8\" >LTR</th>\n",
       "      <td id=\"T_93710_row8_col0\" class=\"data row8 col0\" >nan</td>\n",
       "      <td id=\"T_93710_row8_col1\" class=\"data row8 col1\" >0.343282</td>\n",
       "      <td id=\"T_93710_row8_col2\" class=\"data row8 col2\" >0.478687</td>\n",
       "      <td id=\"T_93710_row8_col3\" class=\"data row8 col3\" >0.367816</td>\n",
       "    </tr>\n",
       "    <tr>\n",
       "      <th id=\"T_93710_level1_row9\" class=\"row_heading level1 row9\" >MALTR</th>\n",
       "      <td id=\"T_93710_row9_col0\" class=\"data row9 col0\" >nan</td>\n",
       "      <td id=\"T_93710_row9_col1\" class=\"data row9 col1\" >-0.422989</td>\n",
       "      <td id=\"T_93710_row9_col2\" class=\"data row9 col2\" >nan</td>\n",
       "      <td id=\"T_93710_row9_col3\" class=\"data row9 col3\" >nan</td>\n",
       "    </tr>\n",
       "    <tr>\n",
       "      <th id=\"T_93710_level1_row10\" class=\"row_heading level1 row10\" >n_words</th>\n",
       "      <td id=\"T_93710_row10_col0\" class=\"data row10 col0\" >-0.321459</td>\n",
       "      <td id=\"T_93710_row10_col1\" class=\"data row10 col1\" >-0.343640</td>\n",
       "      <td id=\"T_93710_row10_col2\" class=\"data row10 col2\" >-0.315710</td>\n",
       "      <td id=\"T_93710_row10_col3\" class=\"data row10 col3\" >-0.400083</td>\n",
       "    </tr>\n",
       "    <tr>\n",
       "      <th id=\"T_93710_level0_row11\" class=\"row_heading level0 row11\" rowspan=\"7\">syntactic</th>\n",
       "      <th id=\"T_93710_level1_row11\" class=\"row_heading level1 row11\" >NOUN</th>\n",
       "      <td id=\"T_93710_row11_col0\" class=\"data row11 col0\" >nan</td>\n",
       "      <td id=\"T_93710_row11_col1\" class=\"data row11 col1\" >-0.392463</td>\n",
       "      <td id=\"T_93710_row11_col2\" class=\"data row11 col2\" >nan</td>\n",
       "      <td id=\"T_93710_row11_col3\" class=\"data row11 col3\" >nan</td>\n",
       "    </tr>\n",
       "    <tr>\n",
       "      <th id=\"T_93710_level1_row12\" class=\"row_heading level1 row12\" >NUM</th>\n",
       "      <td id=\"T_93710_row12_col0\" class=\"data row12 col0\" >nan</td>\n",
       "      <td id=\"T_93710_row12_col1\" class=\"data row12 col1\" >-0.338250</td>\n",
       "      <td id=\"T_93710_row12_col2\" class=\"data row12 col2\" >nan</td>\n",
       "      <td id=\"T_93710_row12_col3\" class=\"data row12 col3\" >nan</td>\n",
       "    </tr>\n",
       "    <tr>\n",
       "      <th id=\"T_93710_level1_row13\" class=\"row_heading level1 row13\" >PART</th>\n",
       "      <td id=\"T_93710_row13_col0\" class=\"data row13 col0\" >nan</td>\n",
       "      <td id=\"T_93710_row13_col1\" class=\"data row13 col1\" >0.505209</td>\n",
       "      <td id=\"T_93710_row13_col2\" class=\"data row13 col2\" >0.368716</td>\n",
       "      <td id=\"T_93710_row13_col3\" class=\"data row13 col3\" >0.324692</td>\n",
       "    </tr>\n",
       "    <tr>\n",
       "      <th id=\"T_93710_level1_row14\" class=\"row_heading level1 row14\" >max_sent_len</th>\n",
       "      <td id=\"T_93710_row14_col0\" class=\"data row14 col0\" >nan</td>\n",
       "      <td id=\"T_93710_row14_col1\" class=\"data row14 col1\" >nan</td>\n",
       "      <td id=\"T_93710_row14_col2\" class=\"data row14 col2\" >-0.464235</td>\n",
       "      <td id=\"T_93710_row14_col3\" class=\"data row14 col3\" >-0.308803</td>\n",
       "    </tr>\n",
       "    <tr>\n",
       "      <th id=\"T_93710_level1_row15\" class=\"row_heading level1 row15\" >mean_sent_len</th>\n",
       "      <td id=\"T_93710_row15_col0\" class=\"data row15 col0\" >nan</td>\n",
       "      <td id=\"T_93710_row15_col1\" class=\"data row15 col1\" >-0.316047</td>\n",
       "      <td id=\"T_93710_row15_col2\" class=\"data row15 col2\" >-0.340415</td>\n",
       "      <td id=\"T_93710_row15_col3\" class=\"data row15 col3\" >nan</td>\n",
       "    </tr>\n",
       "    <tr>\n",
       "      <th id=\"T_93710_level1_row16\" class=\"row_heading level1 row16\" >n_sents</th>\n",
       "      <td id=\"T_93710_row16_col0\" class=\"data row16 col0\" >nan</td>\n",
       "      <td id=\"T_93710_row16_col1\" class=\"data row16 col1\" >nan</td>\n",
       "      <td id=\"T_93710_row16_col2\" class=\"data row16 col2\" >nan</td>\n",
       "      <td id=\"T_93710_row16_col3\" class=\"data row16 col3\" >-0.382354</td>\n",
       "    </tr>\n",
       "    <tr>\n",
       "      <th id=\"T_93710_level1_row17\" class=\"row_heading level1 row17\" >std_sent_len</th>\n",
       "      <td id=\"T_93710_row17_col0\" class=\"data row17 col0\" >nan</td>\n",
       "      <td id=\"T_93710_row17_col1\" class=\"data row17 col1\" >nan</td>\n",
       "      <td id=\"T_93710_row17_col2\" class=\"data row17 col2\" >-0.377866</td>\n",
       "      <td id=\"T_93710_row17_col3\" class=\"data row17 col3\" >nan</td>\n",
       "    </tr>\n",
       "  </tbody>\n",
       "</table>\n"
      ],
      "text/plain": [
       "<pandas.io.formats.style.Styler at 0x7fe92a7a78b0>"
      ]
     },
     "execution_count": 314,
     "metadata": {},
     "output_type": "execute_result"
    }
   ],
   "source": [
    "style(aplly_to_all_tasks(merge_df, corr_thresh, target=('target', 'panss_p')))"
   ]
  },
  {
   "cell_type": "code",
   "execution_count": 315,
   "id": "ab2d4ba0",
   "metadata": {},
   "outputs": [
    {
     "data": {
      "text/html": [
       "<style type=\"text/css\">\n",
       "#T_e6417_row0_col0, #T_e6417_row6_col2, #T_e6417_row6_col3, #T_e6417_row13_col1 {\n",
       "  background-color: #08306b;\n",
       "  color: #f1f1f1;\n",
       "}\n",
       "#T_e6417_row0_col1 {\n",
       "  background-color: #084488;\n",
       "  color: #f1f1f1;\n",
       "}\n",
       "#T_e6417_row0_col2, #T_e6417_row0_col3, #T_e6417_row2_col1, #T_e6417_row3_col0, #T_e6417_row3_col2, #T_e6417_row3_col3, #T_e6417_row4_col0, #T_e6417_row6_col0, #T_e6417_row7_col3, #T_e6417_row8_col0, #T_e6417_row9_col0, #T_e6417_row9_col2, #T_e6417_row9_col3, #T_e6417_row10_col0, #T_e6417_row10_col1, #T_e6417_row10_col3, #T_e6417_row11_col0, #T_e6417_row11_col2, #T_e6417_row11_col3, #T_e6417_row12_col0, #T_e6417_row12_col2, #T_e6417_row12_col3, #T_e6417_row13_col0, #T_e6417_row13_col2, #T_e6417_row13_col3, #T_e6417_row14_col0, #T_e6417_row14_col2, #T_e6417_row14_col3, #T_e6417_row15_col0, #T_e6417_row15_col1, #T_e6417_row15_col3, #T_e6417_row16_col0, #T_e6417_row16_col3, #T_e6417_row17_col0, #T_e6417_row17_col1, #T_e6417_row18_col0, #T_e6417_row18_col1, #T_e6417_row18_col3 {\n",
       "  background-color: #000000;\n",
       "  color: #f1f1f1;\n",
       "  color: white;\n",
       "  background-color: white;\n",
       "}\n",
       "#T_e6417_row1_col0, #T_e6417_row5_col0 {\n",
       "  background-color: #d3e3f3;\n",
       "  color: #000000;\n",
       "}\n",
       "#T_e6417_row1_col1, #T_e6417_row4_col1, #T_e6417_row5_col1 {\n",
       "  background-color: #d7e6f5;\n",
       "  color: #000000;\n",
       "}\n",
       "#T_e6417_row1_col2, #T_e6417_row5_col2, #T_e6417_row7_col0, #T_e6417_row7_col1, #T_e6417_row8_col3, #T_e6417_row11_col1 {\n",
       "  background-color: #f7fbff;\n",
       "  color: #000000;\n",
       "}\n",
       "#T_e6417_row1_col3, #T_e6417_row2_col3, #T_e6417_row5_col3 {\n",
       "  background-color: #edf4fc;\n",
       "  color: #000000;\n",
       "}\n",
       "#T_e6417_row2_col0, #T_e6417_row8_col1 {\n",
       "  background-color: #dae8f6;\n",
       "  color: #000000;\n",
       "}\n",
       "#T_e6417_row2_col2 {\n",
       "  background-color: #f3f8fe;\n",
       "  color: #000000;\n",
       "}\n",
       "#T_e6417_row3_col1 {\n",
       "  background-color: #d6e6f4;\n",
       "  color: #000000;\n",
       "}\n",
       "#T_e6417_row4_col2, #T_e6417_row17_col3 {\n",
       "  background-color: #f0f6fd;\n",
       "  color: #000000;\n",
       "}\n",
       "#T_e6417_row4_col3 {\n",
       "  background-color: #eef5fc;\n",
       "  color: #000000;\n",
       "}\n",
       "#T_e6417_row6_col1 {\n",
       "  background-color: #1e6db2;\n",
       "  color: #f1f1f1;\n",
       "}\n",
       "#T_e6417_row7_col2 {\n",
       "  background-color: #bad6eb;\n",
       "  color: #000000;\n",
       "}\n",
       "#T_e6417_row8_col2 {\n",
       "  background-color: #cde0f1;\n",
       "  color: #000000;\n",
       "}\n",
       "#T_e6417_row9_col1 {\n",
       "  background-color: #f1f7fd;\n",
       "  color: #000000;\n",
       "}\n",
       "#T_e6417_row10_col2 {\n",
       "  background-color: #bdd7ec;\n",
       "  color: #000000;\n",
       "}\n",
       "#T_e6417_row12_col1 {\n",
       "  background-color: #d6e5f4;\n",
       "  color: #000000;\n",
       "}\n",
       "#T_e6417_row14_col1 {\n",
       "  background-color: #1865ac;\n",
       "  color: #f1f1f1;\n",
       "}\n",
       "#T_e6417_row15_col2 {\n",
       "  background-color: #dceaf6;\n",
       "  color: #000000;\n",
       "}\n",
       "#T_e6417_row16_col1 {\n",
       "  background-color: #ddeaf7;\n",
       "  color: #000000;\n",
       "}\n",
       "#T_e6417_row16_col2 {\n",
       "  background-color: #c3daee;\n",
       "  color: #000000;\n",
       "}\n",
       "#T_e6417_row17_col2 {\n",
       "  background-color: #abd0e6;\n",
       "  color: #000000;\n",
       "}\n",
       "#T_e6417_row18_col2 {\n",
       "  background-color: #c9ddf0;\n",
       "  color: #000000;\n",
       "}\n",
       "</style>\n",
       "<table id=\"T_e6417\">\n",
       "  <thead>\n",
       "    <tr>\n",
       "      <th class=\"blank\" >&nbsp;</th>\n",
       "      <th class=\"blank level0\" >&nbsp;</th>\n",
       "      <th id=\"T_e6417_level0_col0\" class=\"col_heading level0 col0\" >adventure</th>\n",
       "      <th id=\"T_e6417_level0_col1\" class=\"col_heading level0 col1\" >chair</th>\n",
       "      <th id=\"T_e6417_level0_col2\" class=\"col_heading level0 col2\" >present</th>\n",
       "      <th id=\"T_e6417_level0_col3\" class=\"col_heading level0 col3\" >sportsman</th>\n",
       "    </tr>\n",
       "  </thead>\n",
       "  <tbody>\n",
       "    <tr>\n",
       "      <th id=\"T_e6417_level0_row0\" class=\"row_heading level0 row0\" rowspan=\"6\">graph</th>\n",
       "      <th id=\"T_e6417_level1_row0\" class=\"row_heading level1 row0\" >L3</th>\n",
       "      <td id=\"T_e6417_row0_col0\" class=\"data row0 col0\" >0.306766</td>\n",
       "      <td id=\"T_e6417_row0_col1\" class=\"data row0 col1\" >0.484505</td>\n",
       "      <td id=\"T_e6417_row0_col2\" class=\"data row0 col2\" >nan</td>\n",
       "      <td id=\"T_e6417_row0_col3\" class=\"data row0 col3\" >nan</td>\n",
       "    </tr>\n",
       "    <tr>\n",
       "      <th id=\"T_e6417_level1_row1\" class=\"row_heading level1 row1\" >LCC</th>\n",
       "      <td id=\"T_e6417_row1_col0\" class=\"data row1 col0\" >-0.302298</td>\n",
       "      <td id=\"T_e6417_row1_col1\" class=\"data row1 col1\" >-0.325903</td>\n",
       "      <td id=\"T_e6417_row1_col2\" class=\"data row1 col2\" >-0.661692</td>\n",
       "      <td id=\"T_e6417_row1_col3\" class=\"data row1 col3\" >-0.338566</td>\n",
       "    </tr>\n",
       "    <tr>\n",
       "      <th id=\"T_e6417_level1_row2\" class=\"row_heading level1 row2\" >LSC</th>\n",
       "      <td id=\"T_e6417_row2_col0\" class=\"data row2 col0\" >-0.331454</td>\n",
       "      <td id=\"T_e6417_row2_col1\" class=\"data row2 col1\" >nan</td>\n",
       "      <td id=\"T_e6417_row2_col2\" class=\"data row2 col2\" >-0.638843</td>\n",
       "      <td id=\"T_e6417_row2_col3\" class=\"data row2 col3\" >-0.338988</td>\n",
       "    </tr>\n",
       "    <tr>\n",
       "      <th id=\"T_e6417_level1_row3\" class=\"row_heading level1 row3\" >PE</th>\n",
       "      <td id=\"T_e6417_row3_col0\" class=\"data row3 col0\" >nan</td>\n",
       "      <td id=\"T_e6417_row3_col1\" class=\"data row3 col1\" >-0.322540</td>\n",
       "      <td id=\"T_e6417_row3_col2\" class=\"data row3 col2\" >nan</td>\n",
       "      <td id=\"T_e6417_row3_col3\" class=\"data row3 col3\" >nan</td>\n",
       "    </tr>\n",
       "    <tr>\n",
       "      <th id=\"T_e6417_level1_row4\" class=\"row_heading level1 row4\" >number_of_edges</th>\n",
       "      <td id=\"T_e6417_row4_col0\" class=\"data row4 col0\" >nan</td>\n",
       "      <td id=\"T_e6417_row4_col1\" class=\"data row4 col1\" >-0.326434</td>\n",
       "      <td id=\"T_e6417_row4_col2\" class=\"data row4 col2\" >-0.621224</td>\n",
       "      <td id=\"T_e6417_row4_col3\" class=\"data row4 col3\" >-0.342515</td>\n",
       "    </tr>\n",
       "    <tr>\n",
       "      <th id=\"T_e6417_level1_row5\" class=\"row_heading level1 row5\" >number_of_nodes</th>\n",
       "      <td id=\"T_e6417_row5_col0\" class=\"data row5 col0\" >-0.302298</td>\n",
       "      <td id=\"T_e6417_row5_col1\" class=\"data row5 col1\" >-0.325903</td>\n",
       "      <td id=\"T_e6417_row5_col2\" class=\"data row5 col2\" >-0.661692</td>\n",
       "      <td id=\"T_e6417_row5_col3\" class=\"data row5 col3\" >-0.338566</td>\n",
       "    </tr>\n",
       "    <tr>\n",
       "      <th id=\"T_e6417_level0_row6\" class=\"row_heading level0 row6\" rowspan=\"3\">lexical</th>\n",
       "      <th id=\"T_e6417_level1_row6\" class=\"row_heading level1 row6\" >LTR</th>\n",
       "      <td id=\"T_e6417_row6_col0\" class=\"data row6 col0\" >nan</td>\n",
       "      <td id=\"T_e6417_row6_col1\" class=\"data row6 col1\" >0.314056</td>\n",
       "      <td id=\"T_e6417_row6_col2\" class=\"data row6 col2\" >0.375708</td>\n",
       "      <td id=\"T_e6417_row6_col3\" class=\"data row6 col3\" >0.328204</td>\n",
       "    </tr>\n",
       "    <tr>\n",
       "      <th id=\"T_e6417_level1_row7\" class=\"row_heading level1 row7\" >MALTR</th>\n",
       "      <td id=\"T_e6417_row7_col0\" class=\"data row7 col0\" >-0.441274</td>\n",
       "      <td id=\"T_e6417_row7_col1\" class=\"data row7 col1\" >-0.499517</td>\n",
       "      <td id=\"T_e6417_row7_col2\" class=\"data row7 col2\" >-0.363887</td>\n",
       "      <td id=\"T_e6417_row7_col3\" class=\"data row7 col3\" >nan</td>\n",
       "    </tr>\n",
       "    <tr>\n",
       "      <th id=\"T_e6417_level1_row8\" class=\"row_heading level1 row8\" >n_words</th>\n",
       "      <td id=\"T_e6417_row8_col0\" class=\"data row8 col0\" >nan</td>\n",
       "      <td id=\"T_e6417_row8_col1\" class=\"data row8 col1\" >-0.346180</td>\n",
       "      <td id=\"T_e6417_row8_col2\" class=\"data row8 col2\" >-0.441855</td>\n",
       "      <td id=\"T_e6417_row8_col3\" class=\"data row8 col3\" >-0.375946</td>\n",
       "    </tr>\n",
       "    <tr>\n",
       "      <th id=\"T_e6417_level0_row9\" class=\"row_heading level0 row9\" rowspan=\"10\">syntactic</th>\n",
       "      <th id=\"T_e6417_level1_row9\" class=\"row_heading level1 row9\" >ADP</th>\n",
       "      <td id=\"T_e6417_row9_col0\" class=\"data row9 col0\" >nan</td>\n",
       "      <td id=\"T_e6417_row9_col1\" class=\"data row9 col1\" >-0.465761</td>\n",
       "      <td id=\"T_e6417_row9_col2\" class=\"data row9 col2\" >nan</td>\n",
       "      <td id=\"T_e6417_row9_col3\" class=\"data row9 col3\" >nan</td>\n",
       "    </tr>\n",
       "    <tr>\n",
       "      <th id=\"T_e6417_level1_row10\" class=\"row_heading level1 row10\" >DET</th>\n",
       "      <td id=\"T_e6417_row10_col0\" class=\"data row10 col0\" >nan</td>\n",
       "      <td id=\"T_e6417_row10_col1\" class=\"data row10 col1\" >nan</td>\n",
       "      <td id=\"T_e6417_row10_col2\" class=\"data row10 col2\" >-0.371757</td>\n",
       "      <td id=\"T_e6417_row10_col3\" class=\"data row10 col3\" >nan</td>\n",
       "    </tr>\n",
       "    <tr>\n",
       "      <th id=\"T_e6417_level1_row11\" class=\"row_heading level1 row11\" >NOUN</th>\n",
       "      <td id=\"T_e6417_row11_col0\" class=\"data row11 col0\" >nan</td>\n",
       "      <td id=\"T_e6417_row11_col1\" class=\"data row11 col1\" >-0.500387</td>\n",
       "      <td id=\"T_e6417_row11_col2\" class=\"data row11 col2\" >nan</td>\n",
       "      <td id=\"T_e6417_row11_col3\" class=\"data row11 col3\" >nan</td>\n",
       "    </tr>\n",
       "    <tr>\n",
       "      <th id=\"T_e6417_level1_row12\" class=\"row_heading level1 row12\" >NUM</th>\n",
       "      <td id=\"T_e6417_row12_col0\" class=\"data row12 col0\" >nan</td>\n",
       "      <td id=\"T_e6417_row12_col1\" class=\"data row12 col1\" >-0.318518</td>\n",
       "      <td id=\"T_e6417_row12_col2\" class=\"data row12 col2\" >nan</td>\n",
       "      <td id=\"T_e6417_row12_col3\" class=\"data row12 col3\" >nan</td>\n",
       "    </tr>\n",
       "    <tr>\n",
       "      <th id=\"T_e6417_level1_row13\" class=\"row_heading level1 row13\" >PART</th>\n",
       "      <td id=\"T_e6417_row13_col0\" class=\"data row13 col0\" >nan</td>\n",
       "      <td id=\"T_e6417_row13_col1\" class=\"data row13 col1\" >0.563594</td>\n",
       "      <td id=\"T_e6417_row13_col2\" class=\"data row13 col2\" >nan</td>\n",
       "      <td id=\"T_e6417_row13_col3\" class=\"data row13 col3\" >nan</td>\n",
       "    </tr>\n",
       "    <tr>\n",
       "      <th id=\"T_e6417_level1_row14\" class=\"row_heading level1 row14\" >PUNCT</th>\n",
       "      <td id=\"T_e6417_row14_col0\" class=\"data row14 col0\" >nan</td>\n",
       "      <td id=\"T_e6417_row14_col1\" class=\"data row14 col1\" >0.345231</td>\n",
       "      <td id=\"T_e6417_row14_col2\" class=\"data row14 col2\" >nan</td>\n",
       "      <td id=\"T_e6417_row14_col3\" class=\"data row14 col3\" >nan</td>\n",
       "    </tr>\n",
       "    <tr>\n",
       "      <th id=\"T_e6417_level1_row15\" class=\"row_heading level1 row15\" >max_sent_len</th>\n",
       "      <td id=\"T_e6417_row15_col0\" class=\"data row15 col0\" >nan</td>\n",
       "      <td id=\"T_e6417_row15_col1\" class=\"data row15 col1\" >nan</td>\n",
       "      <td id=\"T_e6417_row15_col2\" class=\"data row15 col2\" >-0.520486</td>\n",
       "      <td id=\"T_e6417_row15_col3\" class=\"data row15 col3\" >nan</td>\n",
       "    </tr>\n",
       "    <tr>\n",
       "      <th id=\"T_e6417_level1_row16\" class=\"row_heading level1 row16\" >mean_sent_len</th>\n",
       "      <td id=\"T_e6417_row16_col0\" class=\"data row16 col0\" >nan</td>\n",
       "      <td id=\"T_e6417_row16_col1\" class=\"data row16 col1\" >-0.361664</td>\n",
       "      <td id=\"T_e6417_row16_col2\" class=\"data row16 col2\" >-0.391711</td>\n",
       "      <td id=\"T_e6417_row16_col3\" class=\"data row16 col3\" >nan</td>\n",
       "    </tr>\n",
       "    <tr>\n",
       "      <th id=\"T_e6417_level1_row17\" class=\"row_heading level1 row17\" >n_sents</th>\n",
       "      <td id=\"T_e6417_row17_col0\" class=\"data row17 col0\" >nan</td>\n",
       "      <td id=\"T_e6417_row17_col1\" class=\"data row17 col1\" >nan</td>\n",
       "      <td id=\"T_e6417_row17_col2\" class=\"data row17 col2\" >-0.315864</td>\n",
       "      <td id=\"T_e6417_row17_col3\" class=\"data row17 col3\" >-0.349930</td>\n",
       "    </tr>\n",
       "    <tr>\n",
       "      <th id=\"T_e6417_level1_row18\" class=\"row_heading level1 row18\" >std_sent_len</th>\n",
       "      <td id=\"T_e6417_row18_col0\" class=\"data row18 col0\" >nan</td>\n",
       "      <td id=\"T_e6417_row18_col1\" class=\"data row18 col1\" >nan</td>\n",
       "      <td id=\"T_e6417_row18_col2\" class=\"data row18 col2\" >-0.416748</td>\n",
       "      <td id=\"T_e6417_row18_col3\" class=\"data row18 col3\" >nan</td>\n",
       "    </tr>\n",
       "  </tbody>\n",
       "</table>\n"
      ],
      "text/plain": [
       "<pandas.io.formats.style.Styler at 0x7fe92a7cd340>"
      ]
     },
     "execution_count": 315,
     "metadata": {},
     "output_type": "execute_result"
    }
   ],
   "source": [
    "style(aplly_to_all_tasks(merge_df, corr_thresh, target=('target', 'panss_n')))"
   ]
  }
 ],
 "metadata": {
  "kernelspec": {
   "display_name": "Python 3 (ipykernel)",
   "language": "python",
   "name": "python3"
  },
  "language_info": {
   "codemirror_mode": {
    "name": "ipython",
    "version": 3
   },
   "file_extension": ".py",
   "mimetype": "text/x-python",
   "name": "python",
   "nbconvert_exporter": "python",
   "pygments_lexer": "ipython3",
   "version": "3.9.7"
  }
 },
 "nbformat": 4,
 "nbformat_minor": 5
}
