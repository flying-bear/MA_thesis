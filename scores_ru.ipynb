{
 "cells": [
  {
   "cell_type": "code",
   "execution_count": 1,
   "id": "3a2891af",
   "metadata": {},
   "outputs": [],
   "source": [
    "# !pip install seaborn --upgrade"
   ]
  },
  {
   "cell_type": "code",
   "execution_count": 2,
   "id": "5d8c2245",
   "metadata": {},
   "outputs": [],
   "source": [
    "%load_ext autoreload"
   ]
  },
  {
   "cell_type": "code",
   "execution_count": 3,
   "id": "2d4bfec7",
   "metadata": {},
   "outputs": [],
   "source": [
    "%autoreload 2"
   ]
  },
  {
   "cell_type": "code",
   "execution_count": 4,
   "id": "50875dd8",
   "metadata": {},
   "outputs": [],
   "source": [
    "import numpy as np\n",
    "import matplotlib.pyplot as plt\n",
    "import pandas as pd\n",
    "import scipy\n",
    "import seaborn as sns\n",
    "import statsmodels.api as sm\n",
    "import random\n",
    "import pickle\n",
    "\n",
    "from matplotlib.colors import ListedColormap\n",
    "from scipy import stats\n",
    "from statsmodels.miscmodels.ordinal_model import OrderedModel\n",
    "from tqdm.notebook import tqdm"
   ]
  },
  {
   "cell_type": "code",
   "execution_count": 5,
   "id": "56b94513",
   "metadata": {},
   "outputs": [],
   "source": [
    "import warnings\n",
    "import copy\n",
    "warnings.filterwarnings(action=\"ignore\", category=np.VisibleDeprecationWarning)\n",
    "warnings.filterwarnings(action='ignore', message='All-NaN slice encountered')\n",
    "warnings.filterwarnings(action='ignore', message='Precision loss occurred in moment calculation due to catastrophic cancellation. This occurs when the data are nearly identical. Results may be unreliable.')\n",
    "warnings.filterwarnings(action='ignore', message='Mean of empty slice')\n",
    "warnings.filterwarnings(action=\"ignore\", category=pd.errors.PerformanceWarning)\n",
    "warnings.filterwarnings(action='ignore', category=stats.ConstantInputWarning)"
   ]
  },
  {
   "cell_type": "code",
   "execution_count": 6,
   "id": "d9831475",
   "metadata": {},
   "outputs": [],
   "source": [
    "from jupyter_utils import style, mean_std, display_test, display_group_test, \\\n",
    "    scatter_annotate, show_corrtest_mask_corr, pointplot, pointplot_horizontal, add_grey, \\\n",
    "    prep_horizontal_pointplot_errobar_data, map_model, prep_LM_pointplot, draw_sample_with_replacement, t_test, \\\n",
    "    pointplot_horizontal_wo_errorbar\n",
    "from ortogonolize_utils import draw_scatter, draw_corrected_scatter\n",
    "from ortogonolize_utils import compute_coefficient, compute_ortogonolized_coefficient, compute_ortogonolized_logit"
   ]
  },
  {
   "cell_type": "code",
   "execution_count": 7,
   "id": "c71636c5",
   "metadata": {},
   "outputs": [],
   "source": [
    "sns.set_theme(style=\"whitegrid\")"
   ]
  },
  {
   "cell_type": "code",
   "execution_count": 8,
   "id": "bb2b0dec",
   "metadata": {},
   "outputs": [],
   "source": [
    "PATH = '/Users/galina.ryazanskaya/Downloads/thesis?/code?/'"
   ]
  },
  {
   "cell_type": "code",
   "execution_count": 9,
   "id": "031f287b",
   "metadata": {},
   "outputs": [],
   "source": [
    "PATH_FIG = '/Users/galina.ryazanskaya/Downloads/thesis?/figures/ru/'"
   ]
  },
  {
   "cell_type": "markdown",
   "id": "47eaa18b",
   "metadata": {},
   "source": [
    "## merge data with psychosocial data"
   ]
  },
  {
   "cell_type": "code",
   "execution_count": 10,
   "id": "6a46d432",
   "metadata": {},
   "outputs": [],
   "source": [
    "df = pd.read_csv(PATH +'rus_merged_psychosocial_data.csv', index_col=0)\n",
    "df = df[df.index.notnull()]\n",
    "df.rename(columns={'dep.severity-1': 'dep.severity',\n",
    "                  'HDRS-17.score-1': 'HDRS-17',\n",
    "                   'panss-1-td': 'panss_td',\n",
    "                   'panss-1-total': 'panss_total', \n",
    "                   'panss-n-1-total': 'panss_neg', \n",
    "                   'panss-o-1-total': 'panss_o',\n",
    "                   'panss-p-1-total': 'panss_pos', \n",
    "                   'sans-1-total': 'sans',\n",
    "                   'saps-ftd-1-total': 'saps_ftd', \n",
    "                   'sops-1-total': 'sops_total', \n",
    "                   'sops-c-total': 'sops_c',\n",
    "                   'sops-d-total': 'sops_d', \n",
    "                   'sops-n-total': 'sops_n', \n",
    "                   'sops-p-total': 'sops_p'\n",
    "                  }, inplace=True)\n",
    "df['index'] = df.index\n",
    "df.drop_duplicates(inplace=True, subset='index')\n",
    "df.drop(columns=['index'], inplace=True)"
   ]
  },
  {
   "cell_type": "code",
   "execution_count": 11,
   "id": "5dc26ce4",
   "metadata": {},
   "outputs": [
    {
     "data": {
      "text/plain": [
       "176"
      ]
     },
     "execution_count": 11,
     "metadata": {},
     "output_type": "execute_result"
    }
   ],
   "source": [
    "len(df)"
   ]
  },
  {
   "cell_type": "code",
   "execution_count": 12,
   "id": "77d7048a",
   "metadata": {},
   "outputs": [],
   "source": [
    "res_df = pd.read_csv(PATH + 'processed_values/ru_both.tsv', sep='\\t', index_col=0, header=[0, 1, 2])"
   ]
  },
  {
   "cell_type": "code",
   "execution_count": 13,
   "id": "9dde0e0d",
   "metadata": {},
   "outputs": [],
   "source": [
    "res_df.columns = pd.MultiIndex.from_tuples([(c[0], c[1], c[2].replace('sporb', 'sprob')) for c in res_df.columns], names=('TASK', None, None))"
   ]
  },
  {
   "cell_type": "code",
   "execution_count": 14,
   "id": "71cceb97",
   "metadata": {},
   "outputs": [
    {
     "data": {
      "text/plain": [
       "183"
      ]
     },
     "execution_count": 14,
     "metadata": {},
     "output_type": "execute_result"
    }
   ],
   "source": [
    "len(res_df)"
   ]
  },
  {
   "cell_type": "code",
   "execution_count": 15,
   "id": "6f54b737",
   "metadata": {},
   "outputs": [
    {
     "data": {
      "text/plain": [
       "{'PN005', 'PN006', 'PN012', 'PN014', 'PN019', 'PN238', 'PN327'}"
      ]
     },
     "execution_count": 15,
     "metadata": {},
     "output_type": "execute_result"
    }
   ],
   "source": [
    "dfi = [i.replace('-', '').replace('S', 'PD1') for i in df.index]\n",
    "df.index = dfi\n",
    "# res_df.index = [i.replace('S', 'PD1') for i in res_df.index]\n",
    "rdfi = [i.split('_')[0].replace('S', 'PD1') for i in res_df.index]\n",
    "\n",
    "missing_psy = set(rdfi).difference(set(dfi))\n",
    "missing_psy"
   ]
  },
  {
   "cell_type": "code",
   "execution_count": 16,
   "id": "18dac09c",
   "metadata": {},
   "outputs": [],
   "source": [
    "missing_psy = [i for i in res_df.index if i.split('_')[0] in missing_psy]\n",
    "res_df.drop(missing_psy, inplace=True)"
   ]
  },
  {
   "cell_type": "code",
   "execution_count": 17,
   "id": "78c044c9",
   "metadata": {},
   "outputs": [
    {
     "data": {
      "text/plain": [
       "176"
      ]
     },
     "execution_count": 17,
     "metadata": {},
     "output_type": "execute_result"
    }
   ],
   "source": [
    "len(res_df)"
   ]
  },
  {
   "cell_type": "code",
   "execution_count": 18,
   "id": "7f26a3c8",
   "metadata": {},
   "outputs": [],
   "source": [
    "missing_text = set(dfi).difference(set(rdfi))\n",
    "assert not missing_text"
   ]
  },
  {
   "cell_type": "code",
   "execution_count": 19,
   "id": "32f414c5",
   "metadata": {},
   "outputs": [],
   "source": [
    "non_start_timepoint = [i for i in res_df.index if i.split('_')[-1] != '1']\n",
    "res_df.drop(non_start_timepoint, inplace=True)"
   ]
  },
  {
   "cell_type": "code",
   "execution_count": 20,
   "id": "1017d650",
   "metadata": {},
   "outputs": [],
   "source": [
    "# res_df.loc['PD101_1'].dropna()"
   ]
  },
  {
   "cell_type": "code",
   "execution_count": 21,
   "id": "40666718",
   "metadata": {},
   "outputs": [],
   "source": [
    "rdfi_filtered = [i.split('_')[0].replace('S', 'PD1') for i in res_df.index]\n",
    "res_df.index = rdfi_filtered"
   ]
  },
  {
   "cell_type": "markdown",
   "id": "abfe36da",
   "metadata": {},
   "source": [
    "## features of raw texts"
   ]
  },
  {
   "cell_type": "code",
   "execution_count": 22,
   "id": "1df0a615",
   "metadata": {},
   "outputs": [],
   "source": [
    "raw = pd.read_csv(PATH+'rus_transcript_lex_by_task_with_dots.tsv', sep='\\t', index_col=0)"
   ]
  },
  {
   "cell_type": "code",
   "execution_count": 23,
   "id": "823d9218",
   "metadata": {},
   "outputs": [],
   "source": [
    "ids_to_drop = [i for i in raw.index if i.split('_')[0] not in res_df.index]"
   ]
  },
  {
   "cell_type": "code",
   "execution_count": 24,
   "id": "d032a9c0",
   "metadata": {},
   "outputs": [],
   "source": [
    "raw.drop(index=ids_to_drop, inplace=True)"
   ]
  },
  {
   "cell_type": "code",
   "execution_count": 25,
   "id": "d753f43b",
   "metadata": {},
   "outputs": [],
   "source": [
    "raw.index = [i.split('_')[0] for i in raw.index]"
   ]
  },
  {
   "cell_type": "code",
   "execution_count": 26,
   "id": "226cdf41",
   "metadata": {},
   "outputs": [
    {
     "data": {
      "text/plain": [
       "1060"
      ]
     },
     "execution_count": 26,
     "metadata": {},
     "output_type": "execute_result"
    }
   ],
   "source": [
    "raw.isna().sum(axis=0).sum()"
   ]
  },
  {
   "cell_type": "code",
   "execution_count": 27,
   "id": "ded7410c",
   "metadata": {},
   "outputs": [],
   "source": [
    "# raw.applymap(lambda x: len(x.split('.')) if not pd.isna(x) else np.nan).mean(axis=1).hist()"
   ]
  },
  {
   "cell_type": "markdown",
   "id": "36867f18",
   "metadata": {},
   "source": [
    "## look at tasks"
   ]
  },
  {
   "cell_type": "code",
   "execution_count": 28,
   "id": "aba59bf8",
   "metadata": {},
   "outputs": [],
   "source": [
    "task_available = raw.applymap(lambda x: 1 if not pd.isna(x) else x)"
   ]
  },
  {
   "cell_type": "code",
   "execution_count": 29,
   "id": "a3d5472e",
   "metadata": {},
   "outputs": [
    {
     "data": {
      "text/plain": [
       "176"
      ]
     },
     "execution_count": 29,
     "metadata": {},
     "output_type": "execute_result"
    }
   ],
   "source": [
    "len(task_available)"
   ]
  },
  {
   "cell_type": "code",
   "execution_count": 30,
   "id": "fcd39110",
   "metadata": {},
   "outputs": [],
   "source": [
    "task_available['diagnosis.type'] = df['diagnosis.type']"
   ]
  },
  {
   "cell_type": "code",
   "execution_count": 31,
   "id": "37c8dc8f",
   "metadata": {
    "scrolled": true
   },
   "outputs": [
    {
     "data": {
      "text/plain": [
       "adventure         99\n",
       "bench             28\n",
       "chair             75\n",
       "party             35\n",
       "present           81\n",
       "sportsman         96\n",
       "table             30\n",
       "trip              40\n",
       "winterday         40\n",
       "diagnosis.type    49\n",
       "dtype: int64"
      ]
     },
     "execution_count": 31,
     "metadata": {},
     "output_type": "execute_result"
    }
   ],
   "source": [
    "task_available.count()"
   ]
  },
  {
   "cell_type": "code",
   "execution_count": 32,
   "id": "0b94f7c9",
   "metadata": {
    "scrolled": true
   },
   "outputs": [
    {
     "data": {
      "text/html": [
       "<div>\n",
       "<style scoped>\n",
       "    .dataframe tbody tr th:only-of-type {\n",
       "        vertical-align: middle;\n",
       "    }\n",
       "\n",
       "    .dataframe tbody tr th {\n",
       "        vertical-align: top;\n",
       "    }\n",
       "\n",
       "    .dataframe thead th {\n",
       "        text-align: right;\n",
       "    }\n",
       "</style>\n",
       "<table border=\"1\" class=\"dataframe\">\n",
       "  <thead>\n",
       "    <tr style=\"text-align: right;\">\n",
       "      <th></th>\n",
       "      <th>adventure</th>\n",
       "      <th>bench</th>\n",
       "      <th>chair</th>\n",
       "      <th>party</th>\n",
       "      <th>present</th>\n",
       "      <th>sportsman</th>\n",
       "      <th>table</th>\n",
       "      <th>trip</th>\n",
       "      <th>winterday</th>\n",
       "    </tr>\n",
       "    <tr>\n",
       "      <th>diagnosis.type</th>\n",
       "      <th></th>\n",
       "      <th></th>\n",
       "      <th></th>\n",
       "      <th></th>\n",
       "      <th></th>\n",
       "      <th></th>\n",
       "      <th></th>\n",
       "      <th></th>\n",
       "      <th></th>\n",
       "    </tr>\n",
       "  </thead>\n",
       "  <tbody>\n",
       "    <tr>\n",
       "      <th>dep</th>\n",
       "      <td>14</td>\n",
       "      <td>0</td>\n",
       "      <td>14</td>\n",
       "      <td>0</td>\n",
       "      <td>13</td>\n",
       "      <td>14</td>\n",
       "      <td>0</td>\n",
       "      <td>0</td>\n",
       "      <td>0</td>\n",
       "    </tr>\n",
       "    <tr>\n",
       "      <th>sz</th>\n",
       "      <td>30</td>\n",
       "      <td>0</td>\n",
       "      <td>17</td>\n",
       "      <td>0</td>\n",
       "      <td>21</td>\n",
       "      <td>28</td>\n",
       "      <td>0</td>\n",
       "      <td>1</td>\n",
       "      <td>0</td>\n",
       "    </tr>\n",
       "  </tbody>\n",
       "</table>\n",
       "</div>"
      ],
      "text/plain": [
       "                adventure  bench  chair  party  present  sportsman  table  \\\n",
       "diagnosis.type                                                              \n",
       "dep                    14      0     14      0       13         14      0   \n",
       "sz                     30      0     17      0       21         28      0   \n",
       "\n",
       "                trip  winterday  \n",
       "diagnosis.type                   \n",
       "dep                0          0  \n",
       "sz                 1          0  "
      ]
     },
     "execution_count": 32,
     "metadata": {},
     "output_type": "execute_result"
    }
   ],
   "source": [
    "task_available.groupby('diagnosis.type').count()"
   ]
  },
  {
   "cell_type": "code",
   "execution_count": 33,
   "id": "6cc062ac",
   "metadata": {
    "scrolled": true
   },
   "outputs": [
    {
     "data": {
      "text/html": [
       "<div>\n",
       "<style scoped>\n",
       "    .dataframe tbody tr th:only-of-type {\n",
       "        vertical-align: middle;\n",
       "    }\n",
       "\n",
       "    .dataframe tbody tr th {\n",
       "        vertical-align: top;\n",
       "    }\n",
       "\n",
       "    .dataframe thead th {\n",
       "        text-align: right;\n",
       "    }\n",
       "</style>\n",
       "<table border=\"1\" class=\"dataframe\">\n",
       "  <thead>\n",
       "    <tr style=\"text-align: right;\">\n",
       "      <th></th>\n",
       "      <th>adventure</th>\n",
       "      <th>chair</th>\n",
       "      <th>present</th>\n",
       "      <th>sportsman</th>\n",
       "    </tr>\n",
       "    <tr>\n",
       "      <th>diagnosis.type</th>\n",
       "      <th></th>\n",
       "      <th></th>\n",
       "      <th></th>\n",
       "      <th></th>\n",
       "    </tr>\n",
       "  </thead>\n",
       "  <tbody>\n",
       "    <tr>\n",
       "      <th>dep</th>\n",
       "      <td>14</td>\n",
       "      <td>14</td>\n",
       "      <td>13</td>\n",
       "      <td>14</td>\n",
       "    </tr>\n",
       "    <tr>\n",
       "      <th>sz</th>\n",
       "      <td>30</td>\n",
       "      <td>17</td>\n",
       "      <td>21</td>\n",
       "      <td>28</td>\n",
       "    </tr>\n",
       "  </tbody>\n",
       "</table>\n",
       "</div>"
      ],
      "text/plain": [
       "                adventure  chair  present  sportsman\n",
       "diagnosis.type                                      \n",
       "dep                    14     14       13         14\n",
       "sz                     30     17       21         28"
      ]
     },
     "execution_count": 33,
     "metadata": {},
     "output_type": "execute_result"
    }
   ],
   "source": [
    "task_available.groupby('diagnosis.type').count()[task_available.groupby('diagnosis.type').count() > 0].dropna(axis=1)"
   ]
  },
  {
   "cell_type": "code",
   "execution_count": 34,
   "id": "bd3f0cbd",
   "metadata": {},
   "outputs": [],
   "source": [
    "TASKS = ['adventure', 'chair','present','sportsman']"
   ]
  },
  {
   "cell_type": "code",
   "execution_count": 35,
   "id": "93e808f3",
   "metadata": {},
   "outputs": [],
   "source": [
    "def drop_person(row):\n",
    "    for task in TASKS:\n",
    "        if not pd.isna(row[task]):\n",
    "            return False\n",
    "    return True"
   ]
  },
  {
   "cell_type": "code",
   "execution_count": 36,
   "id": "31cb1cf0",
   "metadata": {},
   "outputs": [],
   "source": [
    "ids_with_at_least_one_task = task_available[~task_available.apply(drop_person, axis=1)].index"
   ]
  },
  {
   "cell_type": "code",
   "execution_count": 37,
   "id": "4e086e5e",
   "metadata": {},
   "outputs": [],
   "source": [
    "df = df.loc[ids_with_at_least_one_task]"
   ]
  },
  {
   "cell_type": "code",
   "execution_count": 38,
   "id": "d753de3e",
   "metadata": {},
   "outputs": [],
   "source": [
    "res_df = res_df.loc[ids_with_at_least_one_task, TASKS]"
   ]
  },
  {
   "cell_type": "code",
   "execution_count": 39,
   "id": "0922e137",
   "metadata": {},
   "outputs": [],
   "source": [
    "compare_task_lens_df = pd.DataFrame(columns=TASKS)"
   ]
  },
  {
   "cell_type": "code",
   "execution_count": 40,
   "id": "52bd12d6",
   "metadata": {
    "scrolled": false
   },
   "outputs": [],
   "source": [
    "compare_task_lens_df.loc['mean_sent_len'] = res_df[[(task, 'syntactic', 'mean_sent_len') for task in TASKS]].mean().droplevel([1, 2])"
   ]
  },
  {
   "cell_type": "code",
   "execution_count": 41,
   "id": "e8582de3",
   "metadata": {
    "scrolled": false
   },
   "outputs": [],
   "source": [
    "compare_task_lens_df.loc['n_sents'] = res_df[[(task, 'syntactic', 'n_sents') for task in TASKS]].mean().droplevel([1, 2])"
   ]
  },
  {
   "cell_type": "code",
   "execution_count": 42,
   "id": "f9f745f5",
   "metadata": {
    "scrolled": true
   },
   "outputs": [],
   "source": [
    "compare_task_lens_df.loc['n_words'] =  res_df[[(task, 'lexical', 'n_words') for task in TASKS]].mean().droplevel([1, 2])"
   ]
  },
  {
   "cell_type": "code",
   "execution_count": 43,
   "id": "7a734e5e",
   "metadata": {},
   "outputs": [
    {
     "data": {
      "text/html": [
       "<div>\n",
       "<style scoped>\n",
       "    .dataframe tbody tr th:only-of-type {\n",
       "        vertical-align: middle;\n",
       "    }\n",
       "\n",
       "    .dataframe tbody tr th {\n",
       "        vertical-align: top;\n",
       "    }\n",
       "\n",
       "    .dataframe thead th {\n",
       "        text-align: right;\n",
       "    }\n",
       "</style>\n",
       "<table border=\"1\" class=\"dataframe\">\n",
       "  <thead>\n",
       "    <tr style=\"text-align: right;\">\n",
       "      <th></th>\n",
       "      <th>adventure</th>\n",
       "      <th>chair</th>\n",
       "      <th>present</th>\n",
       "      <th>sportsman</th>\n",
       "    </tr>\n",
       "  </thead>\n",
       "  <tbody>\n",
       "    <tr>\n",
       "      <th>mean_sent_len</th>\n",
       "      <td>7.165963</td>\n",
       "      <td>8.668295</td>\n",
       "      <td>9.724067</td>\n",
       "      <td>7.770671</td>\n",
       "    </tr>\n",
       "    <tr>\n",
       "      <th>n_sents</th>\n",
       "      <td>19.393939</td>\n",
       "      <td>18.506667</td>\n",
       "      <td>14.000000</td>\n",
       "      <td>17.635417</td>\n",
       "    </tr>\n",
       "    <tr>\n",
       "      <th>n_words</th>\n",
       "      <td>137.979798</td>\n",
       "      <td>159.866667</td>\n",
       "      <td>127.802469</td>\n",
       "      <td>131.322917</td>\n",
       "    </tr>\n",
       "  </tbody>\n",
       "</table>\n",
       "</div>"
      ],
      "text/plain": [
       "                adventure       chair     present   sportsman\n",
       "mean_sent_len    7.165963    8.668295    9.724067    7.770671\n",
       "n_sents         19.393939   18.506667   14.000000   17.635417\n",
       "n_words        137.979798  159.866667  127.802469  131.322917"
      ]
     },
     "execution_count": 43,
     "metadata": {},
     "output_type": "execute_result"
    }
   ],
   "source": [
    "compare_task_lens_df"
   ]
  },
  {
   "cell_type": "code",
   "execution_count": 44,
   "id": "bf0514d4",
   "metadata": {},
   "outputs": [],
   "source": [
    "def task_data(df, task, keep_target=True, fill_synt=True):\n",
    "    subset = df[task].dropna(axis=0, how='all')\n",
    "    if fill_synt:\n",
    "        subset['syntactic'] = subset['syntactic'].fillna(0.0)\n",
    "    if keep_target:\n",
    "        subset = pd.concat([subset, df['target'].loc[subset.index]], axis=1)\n",
    "    return subset"
   ]
  },
  {
   "cell_type": "code",
   "execution_count": 45,
   "id": "85797ad5",
   "metadata": {},
   "outputs": [
    {
     "data": {
      "text/html": [
       "<style type=\"text/css\">\n",
       "#T_b04ae_row0_col0, #T_b04ae_row1_col1, #T_b04ae_row2_col2 {\n",
       "  background-color: #08306b;\n",
       "  color: #f1f1f1;\n",
       "}\n",
       "#T_b04ae_row0_col1, #T_b04ae_row0_col2, #T_b04ae_row1_col0 {\n",
       "  background-color: #f7fbff;\n",
       "  color: #000000;\n",
       "}\n",
       "#T_b04ae_row1_col2 {\n",
       "  background-color: #084e98;\n",
       "  color: #f1f1f1;\n",
       "}\n",
       "#T_b04ae_row2_col0 {\n",
       "  background-color: #abd0e6;\n",
       "  color: #000000;\n",
       "}\n",
       "#T_b04ae_row2_col1 {\n",
       "  background-color: #084488;\n",
       "  color: #f1f1f1;\n",
       "}\n",
       "</style>\n",
       "<table id=\"T_b04ae\">\n",
       "  <thead>\n",
       "    <tr>\n",
       "      <th class=\"blank\" >&nbsp;</th>\n",
       "      <th class=\"blank level0\" >&nbsp;</th>\n",
       "      <th id=\"T_b04ae_level0_col0\" class=\"col_heading level0 col0\" colspan=\"2\">syntactic</th>\n",
       "      <th id=\"T_b04ae_level0_col2\" class=\"col_heading level0 col2\" >lexical</th>\n",
       "    </tr>\n",
       "    <tr>\n",
       "      <th class=\"blank\" >&nbsp;</th>\n",
       "      <th class=\"blank level1\" >&nbsp;</th>\n",
       "      <th id=\"T_b04ae_level1_col0\" class=\"col_heading level1 col0\" >mean_sent_len</th>\n",
       "      <th id=\"T_b04ae_level1_col1\" class=\"col_heading level1 col1\" >n_sents</th>\n",
       "      <th id=\"T_b04ae_level1_col2\" class=\"col_heading level1 col2\" >n_words</th>\n",
       "    </tr>\n",
       "  </thead>\n",
       "  <tbody>\n",
       "    <tr>\n",
       "      <th id=\"T_b04ae_level0_row0\" class=\"row_heading level0 row0\" rowspan=\"2\">syntactic</th>\n",
       "      <th id=\"T_b04ae_level1_row0\" class=\"row_heading level1 row0\" >mean_sent_len</th>\n",
       "      <td id=\"T_b04ae_row0_col0\" class=\"data row0 col0\" >1.000000</td>\n",
       "      <td id=\"T_b04ae_row0_col1\" class=\"data row0 col1\" >-0.019837</td>\n",
       "      <td id=\"T_b04ae_row0_col2\" class=\"data row0 col2\" >0.321733</td>\n",
       "    </tr>\n",
       "    <tr>\n",
       "      <th id=\"T_b04ae_level1_row1\" class=\"row_heading level1 row1\" >n_sents</th>\n",
       "      <td id=\"T_b04ae_row1_col0\" class=\"data row1 col0\" >-0.019837</td>\n",
       "      <td id=\"T_b04ae_row1_col1\" class=\"data row1 col1\" >1.000000</td>\n",
       "      <td id=\"T_b04ae_row1_col2\" class=\"data row1 col2\" >0.922480</td>\n",
       "    </tr>\n",
       "    <tr>\n",
       "      <th id=\"T_b04ae_level0_row2\" class=\"row_heading level0 row2\" >lexical</th>\n",
       "      <th id=\"T_b04ae_level1_row2\" class=\"row_heading level1 row2\" >n_words</th>\n",
       "      <td id=\"T_b04ae_row2_col0\" class=\"data row2 col0\" >0.321733</td>\n",
       "      <td id=\"T_b04ae_row2_col1\" class=\"data row2 col1\" >0.922480</td>\n",
       "      <td id=\"T_b04ae_row2_col2\" class=\"data row2 col2\" >1.000000</td>\n",
       "    </tr>\n",
       "  </tbody>\n",
       "</table>\n"
      ],
      "text/plain": [
       "<pandas.io.formats.style.Styler at 0x7fb0a538f370>"
      ]
     },
     "execution_count": 45,
     "metadata": {},
     "output_type": "execute_result"
    }
   ],
   "source": [
    "style(task_data(res_df, 'chair', keep_target=False)[[('syntactic', 'mean_sent_len'), ('syntactic', 'n_sents'), ('lexical', 'n_words')]].corr())"
   ]
  },
  {
   "cell_type": "code",
   "execution_count": 46,
   "id": "8c4ddef1",
   "metadata": {},
   "outputs": [
    {
     "data": {
      "text/html": [
       "<style type=\"text/css\">\n",
       "#T_55229_row0_col0, #T_55229_row1_col1, #T_55229_row2_col2 {\n",
       "  background-color: #08306b;\n",
       "  color: #f1f1f1;\n",
       "}\n",
       "#T_55229_row0_col1, #T_55229_row0_col2, #T_55229_row1_col0 {\n",
       "  background-color: #f7fbff;\n",
       "  color: #000000;\n",
       "}\n",
       "#T_55229_row1_col2 {\n",
       "  background-color: #084a91;\n",
       "  color: #f1f1f1;\n",
       "}\n",
       "#T_55229_row2_col0 {\n",
       "  background-color: #b3d3e8;\n",
       "  color: #000000;\n",
       "}\n",
       "#T_55229_row2_col1 {\n",
       "  background-color: #084285;\n",
       "  color: #f1f1f1;\n",
       "}\n",
       "</style>\n",
       "<table id=\"T_55229\">\n",
       "  <thead>\n",
       "    <tr>\n",
       "      <th class=\"blank\" >&nbsp;</th>\n",
       "      <th class=\"blank level0\" >&nbsp;</th>\n",
       "      <th id=\"T_55229_level0_col0\" class=\"col_heading level0 col0\" colspan=\"2\">syntactic</th>\n",
       "      <th id=\"T_55229_level0_col2\" class=\"col_heading level0 col2\" >lexical</th>\n",
       "    </tr>\n",
       "    <tr>\n",
       "      <th class=\"blank\" >&nbsp;</th>\n",
       "      <th class=\"blank level1\" >&nbsp;</th>\n",
       "      <th id=\"T_55229_level1_col0\" class=\"col_heading level1 col0\" >mean_sent_len</th>\n",
       "      <th id=\"T_55229_level1_col1\" class=\"col_heading level1 col1\" >n_sents</th>\n",
       "      <th id=\"T_55229_level1_col2\" class=\"col_heading level1 col2\" >n_words</th>\n",
       "    </tr>\n",
       "  </thead>\n",
       "  <tbody>\n",
       "    <tr>\n",
       "      <th id=\"T_55229_level0_row0\" class=\"row_heading level0 row0\" rowspan=\"2\">syntactic</th>\n",
       "      <th id=\"T_55229_level1_row0\" class=\"row_heading level1 row0\" >mean_sent_len</th>\n",
       "      <td id=\"T_55229_row0_col0\" class=\"data row0 col0\" >1.000000</td>\n",
       "      <td id=\"T_55229_row0_col1\" class=\"data row0 col1\" >-0.057419</td>\n",
       "      <td id=\"T_55229_row0_col2\" class=\"data row0 col2\" >0.271910</td>\n",
       "    </tr>\n",
       "    <tr>\n",
       "      <th id=\"T_55229_level1_row1\" class=\"row_heading level1 row1\" >n_sents</th>\n",
       "      <td id=\"T_55229_row1_col0\" class=\"data row1 col0\" >-0.057419</td>\n",
       "      <td id=\"T_55229_row1_col1\" class=\"data row1 col1\" >1.000000</td>\n",
       "      <td id=\"T_55229_row1_col2\" class=\"data row1 col2\" >0.927447</td>\n",
       "    </tr>\n",
       "    <tr>\n",
       "      <th id=\"T_55229_level0_row2\" class=\"row_heading level0 row2\" >lexical</th>\n",
       "      <th id=\"T_55229_level1_row2\" class=\"row_heading level1 row2\" >n_words</th>\n",
       "      <td id=\"T_55229_row2_col0\" class=\"data row2 col0\" >0.271910</td>\n",
       "      <td id=\"T_55229_row2_col1\" class=\"data row2 col1\" >0.927447</td>\n",
       "      <td id=\"T_55229_row2_col2\" class=\"data row2 col2\" >1.000000</td>\n",
       "    </tr>\n",
       "  </tbody>\n",
       "</table>\n"
      ],
      "text/plain": [
       "<pandas.io.formats.style.Styler at 0x7fb0a50f9790>"
      ]
     },
     "execution_count": 46,
     "metadata": {},
     "output_type": "execute_result"
    }
   ],
   "source": [
    "style(task_data(res_df, 'adventure', keep_target=False)[[('syntactic', 'mean_sent_len'), ('syntactic', 'n_sents'), ('lexical', 'n_words')]].corr())"
   ]
  },
  {
   "cell_type": "code",
   "execution_count": 47,
   "id": "f40aca6f",
   "metadata": {},
   "outputs": [
    {
     "data": {
      "text/html": [
       "<style type=\"text/css\">\n",
       "#T_337a1_row0_col0, #T_337a1_row1_col1, #T_337a1_row2_col2 {\n",
       "  background-color: #08306b;\n",
       "  color: #f1f1f1;\n",
       "}\n",
       "#T_337a1_row0_col1, #T_337a1_row0_col2, #T_337a1_row1_col0 {\n",
       "  background-color: #f7fbff;\n",
       "  color: #000000;\n",
       "}\n",
       "#T_337a1_row1_col2 {\n",
       "  background-color: #08478d;\n",
       "  color: #f1f1f1;\n",
       "}\n",
       "#T_337a1_row2_col0 {\n",
       "  background-color: #cadef0;\n",
       "  color: #000000;\n",
       "}\n",
       "#T_337a1_row2_col1 {\n",
       "  background-color: #084285;\n",
       "  color: #f1f1f1;\n",
       "}\n",
       "</style>\n",
       "<table id=\"T_337a1\">\n",
       "  <thead>\n",
       "    <tr>\n",
       "      <th class=\"blank\" >&nbsp;</th>\n",
       "      <th class=\"blank level0\" >&nbsp;</th>\n",
       "      <th id=\"T_337a1_level0_col0\" class=\"col_heading level0 col0\" colspan=\"2\">syntactic</th>\n",
       "      <th id=\"T_337a1_level0_col2\" class=\"col_heading level0 col2\" >lexical</th>\n",
       "    </tr>\n",
       "    <tr>\n",
       "      <th class=\"blank\" >&nbsp;</th>\n",
       "      <th class=\"blank level1\" >&nbsp;</th>\n",
       "      <th id=\"T_337a1_level1_col0\" class=\"col_heading level1 col0\" >mean_sent_len</th>\n",
       "      <th id=\"T_337a1_level1_col1\" class=\"col_heading level1 col1\" >n_sents</th>\n",
       "      <th id=\"T_337a1_level1_col2\" class=\"col_heading level1 col2\" >n_words</th>\n",
       "    </tr>\n",
       "  </thead>\n",
       "  <tbody>\n",
       "    <tr>\n",
       "      <th id=\"T_337a1_level0_row0\" class=\"row_heading level0 row0\" rowspan=\"2\">syntactic</th>\n",
       "      <th id=\"T_337a1_level1_row0\" class=\"row_heading level1 row0\" >mean_sent_len</th>\n",
       "      <td id=\"T_337a1_row0_col0\" class=\"data row0 col0\" >1.000000</td>\n",
       "      <td id=\"T_337a1_row0_col1\" class=\"data row0 col1\" >-0.259247</td>\n",
       "      <td id=\"T_337a1_row0_col2\" class=\"data row0 col2\" >0.029927</td>\n",
       "    </tr>\n",
       "    <tr>\n",
       "      <th id=\"T_337a1_level1_row1\" class=\"row_heading level1 row1\" >n_sents</th>\n",
       "      <td id=\"T_337a1_row1_col0\" class=\"data row1 col0\" >-0.259247</td>\n",
       "      <td id=\"T_337a1_row1_col1\" class=\"data row1 col1\" >1.000000</td>\n",
       "      <td id=\"T_337a1_row1_col2\" class=\"data row1 col2\" >0.916118</td>\n",
       "    </tr>\n",
       "    <tr>\n",
       "      <th id=\"T_337a1_level0_row2\" class=\"row_heading level0 row2\" >lexical</th>\n",
       "      <th id=\"T_337a1_level1_row2\" class=\"row_heading level1 row2\" >n_words</th>\n",
       "      <td id=\"T_337a1_row2_col0\" class=\"data row2 col0\" >0.029927</td>\n",
       "      <td id=\"T_337a1_row2_col1\" class=\"data row2 col1\" >0.916118</td>\n",
       "      <td id=\"T_337a1_row2_col2\" class=\"data row2 col2\" >1.000000</td>\n",
       "    </tr>\n",
       "  </tbody>\n",
       "</table>\n"
      ],
      "text/plain": [
       "<pandas.io.formats.style.Styler at 0x7fb0a53ab3a0>"
      ]
     },
     "execution_count": 47,
     "metadata": {},
     "output_type": "execute_result"
    }
   ],
   "source": [
    "style(task_data(res_df, 'sportsman', keep_target=False)[[('syntactic', 'mean_sent_len'), ('syntactic', 'n_sents'), ('lexical', 'n_words')]].corr())"
   ]
  },
  {
   "cell_type": "code",
   "execution_count": 48,
   "id": "99668681",
   "metadata": {},
   "outputs": [
    {
     "data": {
      "text/html": [
       "<style type=\"text/css\">\n",
       "#T_48837_row0_col0, #T_48837_row1_col1, #T_48837_row2_col2 {\n",
       "  background-color: #08306b;\n",
       "  color: #f1f1f1;\n",
       "}\n",
       "#T_48837_row0_col1, #T_48837_row0_col2, #T_48837_row1_col0 {\n",
       "  background-color: #f7fbff;\n",
       "  color: #000000;\n",
       "}\n",
       "#T_48837_row1_col2 {\n",
       "  background-color: #084082;\n",
       "  color: #f1f1f1;\n",
       "}\n",
       "#T_48837_row2_col0 {\n",
       "  background-color: #cde0f1;\n",
       "  color: #000000;\n",
       "}\n",
       "#T_48837_row2_col1 {\n",
       "  background-color: #083b7c;\n",
       "  color: #f1f1f1;\n",
       "}\n",
       "</style>\n",
       "<table id=\"T_48837\">\n",
       "  <thead>\n",
       "    <tr>\n",
       "      <th class=\"blank\" >&nbsp;</th>\n",
       "      <th class=\"blank level0\" >&nbsp;</th>\n",
       "      <th id=\"T_48837_level0_col0\" class=\"col_heading level0 col0\" colspan=\"2\">syntactic</th>\n",
       "      <th id=\"T_48837_level0_col2\" class=\"col_heading level0 col2\" >lexical</th>\n",
       "    </tr>\n",
       "    <tr>\n",
       "      <th class=\"blank\" >&nbsp;</th>\n",
       "      <th class=\"blank level1\" >&nbsp;</th>\n",
       "      <th id=\"T_48837_level1_col0\" class=\"col_heading level1 col0\" >mean_sent_len</th>\n",
       "      <th id=\"T_48837_level1_col1\" class=\"col_heading level1 col1\" >n_sents</th>\n",
       "      <th id=\"T_48837_level1_col2\" class=\"col_heading level1 col2\" >n_words</th>\n",
       "    </tr>\n",
       "  </thead>\n",
       "  <tbody>\n",
       "    <tr>\n",
       "      <th id=\"T_48837_level0_row0\" class=\"row_heading level0 row0\" rowspan=\"2\">syntactic</th>\n",
       "      <th id=\"T_48837_level1_row0\" class=\"row_heading level1 row0\" >mean_sent_len</th>\n",
       "      <td id=\"T_48837_row0_col0\" class=\"data row0 col0\" >1.000000</td>\n",
       "      <td id=\"T_48837_row0_col1\" class=\"data row0 col1\" >-0.187789</td>\n",
       "      <td id=\"T_48837_row0_col2\" class=\"data row0 col2\" >0.065302</td>\n",
       "    </tr>\n",
       "    <tr>\n",
       "      <th id=\"T_48837_level1_row1\" class=\"row_heading level1 row1\" >n_sents</th>\n",
       "      <td id=\"T_48837_row1_col0\" class=\"data row1 col0\" >-0.187789</td>\n",
       "      <td id=\"T_48837_row1_col1\" class=\"data row1 col1\" >1.000000</td>\n",
       "      <td id=\"T_48837_row1_col2\" class=\"data row1 col2\" >0.944444</td>\n",
       "    </tr>\n",
       "    <tr>\n",
       "      <th id=\"T_48837_level0_row2\" class=\"row_heading level0 row2\" >lexical</th>\n",
       "      <th id=\"T_48837_level1_row2\" class=\"row_heading level1 row2\" >n_words</th>\n",
       "      <td id=\"T_48837_row2_col0\" class=\"data row2 col0\" >0.065302</td>\n",
       "      <td id=\"T_48837_row2_col1\" class=\"data row2 col1\" >0.944444</td>\n",
       "      <td id=\"T_48837_row2_col2\" class=\"data row2 col2\" >1.000000</td>\n",
       "    </tr>\n",
       "  </tbody>\n",
       "</table>\n"
      ],
      "text/plain": [
       "<pandas.io.formats.style.Styler at 0x7fb09ebcce80>"
      ]
     },
     "execution_count": 48,
     "metadata": {},
     "output_type": "execute_result"
    }
   ],
   "source": [
    "style(task_data(res_df, 'present', keep_target=False)[[('syntactic', 'mean_sent_len'), ('syntactic', 'n_sents'), ('lexical', 'n_words')]].corr())"
   ]
  },
  {
   "cell_type": "code",
   "execution_count": 49,
   "id": "833b6f56",
   "metadata": {},
   "outputs": [],
   "source": [
    "def aplly_to_all_tasks(df, f, tasks=TASKS, to_df=True, *args, **kwargs):\n",
    "    res = {}\n",
    "    for task in tasks:\n",
    "        data = task_data(df, task)\n",
    "        res[task] = f(data, *args, **kwargs)\n",
    "    if to_df:\n",
    "        if all(isinstance(v, pd.Series) for v in res.values()):\n",
    "            return pd.DataFrame(res)\n",
    "        elif all(isinstance(v, pd.DataFrame) for v in res.values()):\n",
    "            return pd.concat(list(res.values()), keys=list(res.keys()), names=['task'], axis=1)\n",
    "        else:\n",
    "            return res\n",
    "    return res"
   ]
  },
  {
   "cell_type": "markdown",
   "id": "54cb9d0e",
   "metadata": {},
   "source": [
    "## psychosocial statistics"
   ]
  },
  {
   "cell_type": "code",
   "execution_count": 50,
   "id": "ecfe782b",
   "metadata": {},
   "outputs": [],
   "source": [
    "def fill_diagnosis_type(row):\n",
    "    dt = row['diagnosis.type']\n",
    "    if not pd.isna(dt):\n",
    "        return dt\n",
    "    else:\n",
    "        if not pd.isna(row['td.severity']):\n",
    "            return 'control_psy'\n",
    "        else:\n",
    "            return 'control'"
   ]
  },
  {
   "cell_type": "code",
   "execution_count": 51,
   "id": "98d4ab69",
   "metadata": {},
   "outputs": [],
   "source": [
    "df['diagnosis.type'] = df.apply(fill_diagnosis_type, axis=1)"
   ]
  },
  {
   "cell_type": "code",
   "execution_count": 52,
   "id": "5ff782c1",
   "metadata": {},
   "outputs": [],
   "source": [
    "sz = df[df['diagnosis.type'] == 'sz']\n",
    "dep = df[df['diagnosis.type'] == 'dep']\n",
    "control = df[df['diagnosis.group'] == 'control']\n",
    "control_psy = df[df['diagnosis.type'] == 'control_psy']"
   ]
  },
  {
   "cell_type": "code",
   "execution_count": 53,
   "id": "532c0237",
   "metadata": {
    "scrolled": true
   },
   "outputs": [
    {
     "data": {
      "text/plain": [
       "Index(['age', 'dep.scale', 'dep.severity', 'group.code', 'diagnosis.group',\n",
       "       'diagnosis.type', 'diagnosis_code', 'diagnosis_eng', 'diagnosis_rus',\n",
       "       'education.level.code', 'education.level.eng', 'education.years',\n",
       "       'exacerbation', 'HDRS-17', 'longitudinal', 'panss_td', 'panss_total',\n",
       "       'panss_neg', 'panss_o', 'panss_pos', 'rehospitalization', 'sans',\n",
       "       'saps_ftd', 'sex', 'sops_total', 'sops_c', 'sops_d', 'sops_n', 'sops_p',\n",
       "       'td.scales', 'td.severity'],\n",
       "      dtype='object')"
      ]
     },
     "execution_count": 53,
     "metadata": {},
     "output_type": "execute_result"
    }
   ],
   "source": [
    "df.columns"
   ]
  },
  {
   "cell_type": "code",
   "execution_count": 54,
   "id": "c1031a6c",
   "metadata": {},
   "outputs": [
    {
     "data": {
      "text/plain": [
       "control    102\n",
       "patient     49\n",
       "Name: diagnosis.group, dtype: int64"
      ]
     },
     "execution_count": 54,
     "metadata": {},
     "output_type": "execute_result"
    }
   ],
   "source": [
    "df['diagnosis.group'].value_counts()"
   ]
  },
  {
   "cell_type": "code",
   "execution_count": 55,
   "id": "0aab5a6a",
   "metadata": {},
   "outputs": [
    {
     "data": {
      "text/plain": [
       "control        72\n",
       "sz             31\n",
       "control_psy    30\n",
       "dep            18\n",
       "Name: diagnosis.type, dtype: int64"
      ]
     },
     "execution_count": 55,
     "metadata": {},
     "output_type": "execute_result"
    }
   ],
   "source": [
    "df['diagnosis.type'].value_counts()"
   ]
  },
  {
   "cell_type": "code",
   "execution_count": 56,
   "id": "c02ff63d",
   "metadata": {},
   "outputs": [
    {
     "data": {
      "text/plain": [
       "HDRS    51\n",
       "QIDS    28\n",
       "Name: dep.scale, dtype: int64"
      ]
     },
     "execution_count": 56,
     "metadata": {},
     "output_type": "execute_result"
    }
   ],
   "source": [
    "df['dep.scale'].value_counts()"
   ]
  },
  {
   "cell_type": "code",
   "execution_count": 57,
   "id": "9cf5258e",
   "metadata": {},
   "outputs": [
    {
     "data": {
      "text/plain": [
       "PANSS       28\n",
       "SCL-90-R    28\n",
       "SAPS        21\n",
       "Name: td.scales, dtype: int64"
      ]
     },
     "execution_count": 57,
     "metadata": {},
     "output_type": "execute_result"
    }
   ],
   "source": [
    "df['td.scales'].value_counts()"
   ]
  },
  {
   "cell_type": "code",
   "execution_count": 58,
   "id": "33d93eaf",
   "metadata": {},
   "outputs": [
    {
     "data": {
      "text/plain": [
       "diagnosis.type  diagnosis_code  diagnosis_eng                                    \n",
       "dep             F31             bipolar.affective.disorder                            6\n",
       "                F60.31          borderline.personality.disorder                       3\n",
       "                F31.4           bipolar.affective.disorder.severe                     2\n",
       "                F31.5           bipolar.affective.disorder.severe.psychotic           2\n",
       "                F33             recurrent.depressive.disorder                         2\n",
       "                F32.1           depressive.episode.moderate                           1\n",
       "                F33.3           recurrent.depressive.disorder.severe.psychotic        1\n",
       "                F60             personality.disorder                                  1\n",
       "sz              F20             schizophrenia                                        20\n",
       "                F25             schizoaffective.disorder                              8\n",
       "                F21             schizotypal.disorder                                  2\n",
       "                F21.3           schizotypal.disorder.pseudoneurotic.schizophrenia     1\n",
       "dtype: int64"
      ]
     },
     "execution_count": 58,
     "metadata": {},
     "output_type": "execute_result"
    }
   ],
   "source": [
    "df.groupby('diagnosis.type')[['diagnosis_code', 'diagnosis_eng']].value_counts()"
   ]
  },
  {
   "cell_type": "markdown",
   "id": "a88e36a1",
   "metadata": {},
   "source": [
    "### select target cols"
   ]
  },
  {
   "cell_type": "code",
   "execution_count": 59,
   "id": "4a467038",
   "metadata": {},
   "outputs": [],
   "source": [
    "target_cols = ['sex', 'age', 'education.years', \n",
    "               'diagnosis.group', 'diagnosis.type',\n",
    "               'dep.severity', 'td.severity']"
   ]
  },
  {
   "cell_type": "code",
   "execution_count": 60,
   "id": "d850c8a7",
   "metadata": {},
   "outputs": [],
   "source": [
    "# panss_cols = [col for col in df.columns if col.startswith('panss')]\n",
    "panss_cols = ['panss_td', 'panss_total', 'panss_neg', 'panss_pos', 'panss_o']\n",
    "sans_cols = [col for col in df.columns if col.startswith('sans')]\n",
    "saps_cols = [col for col in df.columns if col.startswith('saps')]\n",
    "sops_cols = [col for col in df.columns if col.startswith('sops')]"
   ]
  },
  {
   "cell_type": "code",
   "execution_count": 61,
   "id": "0dc7f1b6",
   "metadata": {},
   "outputs": [],
   "source": [
    "numeric_target = ['education.years','dep.severity','td.severity'] + panss_cols"
   ]
  },
  {
   "cell_type": "code",
   "execution_count": 62,
   "id": "bef7f7d3",
   "metadata": {},
   "outputs": [
    {
     "data": {
      "text/html": [
       "<style type=\"text/css\">\n",
       "#T_4def4_row0_col0, #T_4def4_row1_col1, #T_4def4_row2_col2, #T_4def4_row3_col3, #T_4def4_row4_col4, #T_4def4_row5_col5, #T_4def4_row6_col6, #T_4def4_row7_col7 {\n",
       "  background-color: #08306b;\n",
       "  color: #f1f1f1;\n",
       "}\n",
       "#T_4def4_row0_col1, #T_4def4_row0_col2, #T_4def4_row0_col3, #T_4def4_row0_col4, #T_4def4_row0_col5, #T_4def4_row0_col6, #T_4def4_row0_col7, #T_4def4_row7_col0 {\n",
       "  background-color: #f7fbff;\n",
       "  color: #000000;\n",
       "}\n",
       "#T_4def4_row1_col0 {\n",
       "  background-color: #edf4fc;\n",
       "  color: #000000;\n",
       "}\n",
       "#T_4def4_row1_col2 {\n",
       "  background-color: #91c3de;\n",
       "  color: #000000;\n",
       "}\n",
       "#T_4def4_row1_col3 {\n",
       "  background-color: #a9cfe5;\n",
       "  color: #000000;\n",
       "}\n",
       "#T_4def4_row1_col4, #T_4def4_row2_col1 {\n",
       "  background-color: #6dafd7;\n",
       "  color: #f1f1f1;\n",
       "}\n",
       "#T_4def4_row1_col5 {\n",
       "  background-color: #b9d6ea;\n",
       "  color: #000000;\n",
       "}\n",
       "#T_4def4_row1_col6 {\n",
       "  background-color: #c7dbef;\n",
       "  color: #000000;\n",
       "}\n",
       "#T_4def4_row1_col7 {\n",
       "  background-color: #2b7bba;\n",
       "  color: #f1f1f1;\n",
       "}\n",
       "#T_4def4_row2_col0 {\n",
       "  background-color: #d1e2f3;\n",
       "  color: #000000;\n",
       "}\n",
       "#T_4def4_row2_col3 {\n",
       "  background-color: #084387;\n",
       "  color: #f1f1f1;\n",
       "}\n",
       "#T_4def4_row2_col4 {\n",
       "  background-color: #0c56a0;\n",
       "  color: #f1f1f1;\n",
       "}\n",
       "#T_4def4_row2_col5 {\n",
       "  background-color: #2474b7;\n",
       "  color: #f1f1f1;\n",
       "}\n",
       "#T_4def4_row2_col6 {\n",
       "  background-color: #0a539e;\n",
       "  color: #f1f1f1;\n",
       "}\n",
       "#T_4def4_row2_col7 {\n",
       "  background-color: #1865ac;\n",
       "  color: #f1f1f1;\n",
       "}\n",
       "#T_4def4_row3_col0 {\n",
       "  background-color: #e3eef8;\n",
       "  color: #000000;\n",
       "}\n",
       "#T_4def4_row3_col1, #T_4def4_row5_col1 {\n",
       "  background-color: #9cc9e1;\n",
       "  color: #000000;\n",
       "}\n",
       "#T_4def4_row3_col2 {\n",
       "  background-color: #084488;\n",
       "  color: #f1f1f1;\n",
       "}\n",
       "#T_4def4_row3_col4 {\n",
       "  background-color: #084c95;\n",
       "  color: #f1f1f1;\n",
       "}\n",
       "#T_4def4_row3_col5 {\n",
       "  background-color: #1966ad;\n",
       "  color: #f1f1f1;\n",
       "}\n",
       "#T_4def4_row3_col6 {\n",
       "  background-color: #083e81;\n",
       "  color: #f1f1f1;\n",
       "}\n",
       "#T_4def4_row3_col7 {\n",
       "  background-color: #1a68ae;\n",
       "  color: #f1f1f1;\n",
       "}\n",
       "#T_4def4_row4_col0 {\n",
       "  background-color: #e7f1fa;\n",
       "  color: #000000;\n",
       "}\n",
       "#T_4def4_row4_col1 {\n",
       "  background-color: #68acd5;\n",
       "  color: #f1f1f1;\n",
       "}\n",
       "#T_4def4_row4_col2 {\n",
       "  background-color: #105ba4;\n",
       "  color: #f1f1f1;\n",
       "}\n",
       "#T_4def4_row4_col3 {\n",
       "  background-color: #084d96;\n",
       "  color: #f1f1f1;\n",
       "}\n",
       "#T_4def4_row4_col5 {\n",
       "  background-color: #084285;\n",
       "  color: #f1f1f1;\n",
       "}\n",
       "#T_4def4_row4_col6 {\n",
       "  background-color: #08488e;\n",
       "  color: #f1f1f1;\n",
       "}\n",
       "#T_4def4_row4_col7 {\n",
       "  background-color: #08458a;\n",
       "  color: #f1f1f1;\n",
       "}\n",
       "#T_4def4_row5_col0 {\n",
       "  background-color: #d5e5f4;\n",
       "  color: #000000;\n",
       "}\n",
       "#T_4def4_row5_col2 {\n",
       "  background-color: #2676b8;\n",
       "  color: #f1f1f1;\n",
       "}\n",
       "#T_4def4_row5_col3 {\n",
       "  background-color: #1562a9;\n",
       "  color: #f1f1f1;\n",
       "}\n",
       "#T_4def4_row5_col4 {\n",
       "  background-color: #084082;\n",
       "  color: #f1f1f1;\n",
       "}\n",
       "#T_4def4_row5_col6 {\n",
       "  background-color: #125da6;\n",
       "  color: #f1f1f1;\n",
       "}\n",
       "#T_4def4_row5_col7 {\n",
       "  background-color: #1d6cb1;\n",
       "  color: #f1f1f1;\n",
       "}\n",
       "#T_4def4_row6_col0 {\n",
       "  background-color: #dceaf6;\n",
       "  color: #000000;\n",
       "}\n",
       "#T_4def4_row6_col1 {\n",
       "  background-color: #b3d3e8;\n",
       "  color: #000000;\n",
       "}\n",
       "#T_4def4_row6_col2 {\n",
       "  background-color: #0b559f;\n",
       "  color: #f1f1f1;\n",
       "}\n",
       "#T_4def4_row6_col3 {\n",
       "  background-color: #083d7f;\n",
       "  color: #f1f1f1;\n",
       "}\n",
       "#T_4def4_row6_col4, #T_4def4_row7_col4 {\n",
       "  background-color: #08478d;\n",
       "  color: #f1f1f1;\n",
       "}\n",
       "#T_4def4_row6_col5 {\n",
       "  background-color: #135fa7;\n",
       "  color: #f1f1f1;\n",
       "}\n",
       "#T_4def4_row6_col7 {\n",
       "  background-color: #1b69af;\n",
       "  color: #f1f1f1;\n",
       "}\n",
       "#T_4def4_row7_col1 {\n",
       "  background-color: #2f7fbc;\n",
       "  color: #f1f1f1;\n",
       "}\n",
       "#T_4def4_row7_col2, #T_4def4_row7_col6 {\n",
       "  background-color: #2272b6;\n",
       "  color: #f1f1f1;\n",
       "}\n",
       "#T_4def4_row7_col3 {\n",
       "  background-color: #1f6eb3;\n",
       "  color: #f1f1f1;\n",
       "}\n",
       "#T_4def4_row7_col5 {\n",
       "  background-color: #2979b9;\n",
       "  color: #f1f1f1;\n",
       "}\n",
       "</style>\n",
       "<table id=\"T_4def4\">\n",
       "  <thead>\n",
       "    <tr>\n",
       "      <th class=\"blank level0\" >&nbsp;</th>\n",
       "      <th id=\"T_4def4_level0_col0\" class=\"col_heading level0 col0\" >education.years</th>\n",
       "      <th id=\"T_4def4_level0_col1\" class=\"col_heading level0 col1\" >dep.severity</th>\n",
       "      <th id=\"T_4def4_level0_col2\" class=\"col_heading level0 col2\" >td.severity</th>\n",
       "      <th id=\"T_4def4_level0_col3\" class=\"col_heading level0 col3\" >panss_td</th>\n",
       "      <th id=\"T_4def4_level0_col4\" class=\"col_heading level0 col4\" >panss_total</th>\n",
       "      <th id=\"T_4def4_level0_col5\" class=\"col_heading level0 col5\" >panss_neg</th>\n",
       "      <th id=\"T_4def4_level0_col6\" class=\"col_heading level0 col6\" >panss_pos</th>\n",
       "      <th id=\"T_4def4_level0_col7\" class=\"col_heading level0 col7\" >panss_o</th>\n",
       "    </tr>\n",
       "  </thead>\n",
       "  <tbody>\n",
       "    <tr>\n",
       "      <th id=\"T_4def4_level0_row0\" class=\"row_heading level0 row0\" >education.years</th>\n",
       "      <td id=\"T_4def4_row0_col0\" class=\"data row0 col0\" >1.000000</td>\n",
       "      <td id=\"T_4def4_row0_col1\" class=\"data row0 col1\" >-0.331386</td>\n",
       "      <td id=\"T_4def4_row0_col2\" class=\"data row0 col2\" >-0.136782</td>\n",
       "      <td id=\"T_4def4_row0_col3\" class=\"data row0 col3\" >-0.259404</td>\n",
       "      <td id=\"T_4def4_row0_col4\" class=\"data row0 col4\" >-0.296650</td>\n",
       "      <td id=\"T_4def4_row0_col5\" class=\"data row0 col5\" >-0.164954</td>\n",
       "      <td id=\"T_4def4_row0_col6\" class=\"data row0 col6\" >-0.218234</td>\n",
       "      <td id=\"T_4def4_row0_col7\" class=\"data row0 col7\" >-0.407709</td>\n",
       "    </tr>\n",
       "    <tr>\n",
       "      <th id=\"T_4def4_level0_row1\" class=\"row_heading level0 row1\" >dep.severity</th>\n",
       "      <td id=\"T_4def4_row1_col0\" class=\"data row1 col0\" >-0.331386</td>\n",
       "      <td id=\"T_4def4_row1_col1\" class=\"data row1 col1\" >1.000000</td>\n",
       "      <td id=\"T_4def4_row1_col2\" class=\"data row1 col2\" >0.327470</td>\n",
       "      <td id=\"T_4def4_row1_col3\" class=\"data row1 col3\" >0.173319</td>\n",
       "      <td id=\"T_4def4_row1_col4\" class=\"data row1 col4\" >0.345454</td>\n",
       "      <td id=\"T_4def4_row1_col5\" class=\"data row1 col5\" >0.174098</td>\n",
       "      <td id=\"T_4def4_row1_col6\" class=\"data row1 col6\" >0.083666</td>\n",
       "      <td id=\"T_4def4_row1_col7\" class=\"data row1 col7\" >0.597293</td>\n",
       "    </tr>\n",
       "    <tr>\n",
       "      <th id=\"T_4def4_level0_row2\" class=\"row_heading level0 row2\" >td.severity</th>\n",
       "      <td id=\"T_4def4_row2_col0\" class=\"data row2 col0\" >-0.136782</td>\n",
       "      <td id=\"T_4def4_row2_col1\" class=\"data row2 col1\" >0.327470</td>\n",
       "      <td id=\"T_4def4_row2_col2\" class=\"data row2 col2\" >1.000000</td>\n",
       "      <td id=\"T_4def4_row2_col3\" class=\"data row2 col3\" >0.911251</td>\n",
       "      <td id=\"T_4def4_row2_col4\" class=\"data row2 col4\" >0.811338</td>\n",
       "      <td id=\"T_4def4_row2_col5\" class=\"data row2 col5\" >0.692825</td>\n",
       "      <td id=\"T_4def4_row2_col6\" class=\"data row2 col6\" >0.835814</td>\n",
       "      <td id=\"T_4def4_row2_col7\" class=\"data row2 col7\" >0.708642</td>\n",
       "    </tr>\n",
       "    <tr>\n",
       "      <th id=\"T_4def4_level0_row3\" class=\"row_heading level0 row3\" >panss_td</th>\n",
       "      <td id=\"T_4def4_row3_col0\" class=\"data row3 col0\" >-0.259404</td>\n",
       "      <td id=\"T_4def4_row3_col1\" class=\"data row3 col1\" >0.173319</td>\n",
       "      <td id=\"T_4def4_row3_col2\" class=\"data row3 col2\" >0.911251</td>\n",
       "      <td id=\"T_4def4_row3_col3\" class=\"data row3 col3\" >1.000000</td>\n",
       "      <td id=\"T_4def4_row3_col4\" class=\"data row3 col4\" >0.858317</td>\n",
       "      <td id=\"T_4def4_row3_col5\" class=\"data row3 col5\" >0.756787</td>\n",
       "      <td id=\"T_4def4_row3_col6\" class=\"data row3 col6\" >0.932452</td>\n",
       "      <td id=\"T_4def4_row3_col7\" class=\"data row3 col7\" >0.695700</td>\n",
       "    </tr>\n",
       "    <tr>\n",
       "      <th id=\"T_4def4_level0_row4\" class=\"row_heading level0 row4\" >panss_total</th>\n",
       "      <td id=\"T_4def4_row4_col0\" class=\"data row4 col0\" >-0.296650</td>\n",
       "      <td id=\"T_4def4_row4_col1\" class=\"data row4 col1\" >0.345454</td>\n",
       "      <td id=\"T_4def4_row4_col2\" class=\"data row4 col2\" >0.811338</td>\n",
       "      <td id=\"T_4def4_row4_col3\" class=\"data row4 col3\" >0.858317</td>\n",
       "      <td id=\"T_4def4_row4_col4\" class=\"data row4 col4\" >1.000000</td>\n",
       "      <td id=\"T_4def4_row4_col5\" class=\"data row4 col5\" >0.922568</td>\n",
       "      <td id=\"T_4def4_row4_col6\" class=\"data row4 col6\" >0.886422</td>\n",
       "      <td id=\"T_4def4_row4_col7\" class=\"data row4 col7\" >0.885839</td>\n",
       "    </tr>\n",
       "    <tr>\n",
       "      <th id=\"T_4def4_level0_row5\" class=\"row_heading level0 row5\" >panss_neg</th>\n",
       "      <td id=\"T_4def4_row5_col0\" class=\"data row5 col0\" >-0.164954</td>\n",
       "      <td id=\"T_4def4_row5_col1\" class=\"data row5 col1\" >0.174098</td>\n",
       "      <td id=\"T_4def4_row5_col2\" class=\"data row5 col2\" >0.692825</td>\n",
       "      <td id=\"T_4def4_row5_col3\" class=\"data row5 col3\" >0.756787</td>\n",
       "      <td id=\"T_4def4_row5_col4\" class=\"data row5 col4\" >0.922568</td>\n",
       "      <td id=\"T_4def4_row5_col5\" class=\"data row5 col5\" >1.000000</td>\n",
       "      <td id=\"T_4def4_row5_col6\" class=\"data row5 col6\" >0.788799</td>\n",
       "      <td id=\"T_4def4_row5_col7\" class=\"data row5 col7\" >0.673327</td>\n",
       "    </tr>\n",
       "    <tr>\n",
       "      <th id=\"T_4def4_level0_row6\" class=\"row_heading level0 row6\" >panss_pos</th>\n",
       "      <td id=\"T_4def4_row6_col0\" class=\"data row6 col0\" >-0.218234</td>\n",
       "      <td id=\"T_4def4_row6_col1\" class=\"data row6 col1\" >0.083666</td>\n",
       "      <td id=\"T_4def4_row6_col2\" class=\"data row6 col2\" >0.835814</td>\n",
       "      <td id=\"T_4def4_row6_col3\" class=\"data row6 col3\" >0.932452</td>\n",
       "      <td id=\"T_4def4_row6_col4\" class=\"data row6 col4\" >0.886422</td>\n",
       "      <td id=\"T_4def4_row6_col5\" class=\"data row6 col5\" >0.788799</td>\n",
       "      <td id=\"T_4def4_row6_col6\" class=\"data row6 col6\" >1.000000</td>\n",
       "      <td id=\"T_4def4_row6_col7\" class=\"data row6 col7\" >0.687209</td>\n",
       "    </tr>\n",
       "    <tr>\n",
       "      <th id=\"T_4def4_level0_row7\" class=\"row_heading level0 row7\" >panss_o</th>\n",
       "      <td id=\"T_4def4_row7_col0\" class=\"data row7 col0\" >-0.407709</td>\n",
       "      <td id=\"T_4def4_row7_col1\" class=\"data row7 col1\" >0.597293</td>\n",
       "      <td id=\"T_4def4_row7_col2\" class=\"data row7 col2\" >0.708642</td>\n",
       "      <td id=\"T_4def4_row7_col3\" class=\"data row7 col3\" >0.695700</td>\n",
       "      <td id=\"T_4def4_row7_col4\" class=\"data row7 col4\" >0.885839</td>\n",
       "      <td id=\"T_4def4_row7_col5\" class=\"data row7 col5\" >0.673327</td>\n",
       "      <td id=\"T_4def4_row7_col6\" class=\"data row7 col6\" >0.687209</td>\n",
       "      <td id=\"T_4def4_row7_col7\" class=\"data row7 col7\" >1.000000</td>\n",
       "    </tr>\n",
       "  </tbody>\n",
       "</table>\n"
      ],
      "text/plain": [
       "<pandas.io.formats.style.Styler at 0x7fb0a55e7250>"
      ]
     },
     "execution_count": 62,
     "metadata": {},
     "output_type": "execute_result"
    }
   ],
   "source": [
    "style(df[df['diagnosis.type'] != 'control'][numeric_target].corr())"
   ]
  },
  {
   "cell_type": "code",
   "execution_count": 63,
   "id": "812fe27b",
   "metadata": {},
   "outputs": [],
   "source": [
    "# edu years - dep severity panss o\n",
    "# dep severity - panss o total td severity"
   ]
  },
  {
   "cell_type": "code",
   "execution_count": 64,
   "id": "4e14f340",
   "metadata": {},
   "outputs": [
    {
     "data": {
      "text/plain": [
       "PearsonRResult(statistic=-0.33138622882214386, pvalue=0.0028519437168011506)"
      ]
     },
     "execution_count": 64,
     "metadata": {},
     "output_type": "execute_result"
    }
   ],
   "source": [
    "stats.pearsonr(df[df['diagnosis.type'] != 'control']['dep.severity'], df[df['diagnosis.type'] != 'control']['education.years'])"
   ]
  },
  {
   "cell_type": "code",
   "execution_count": 65,
   "id": "5597e611",
   "metadata": {},
   "outputs": [
    {
     "data": {
      "text/plain": [
       "panss_td           0.911251\n",
       "panss_pos          0.835814\n",
       "panss_total        0.811338\n",
       "panss_o            0.708642\n",
       "panss_neg          0.692825\n",
       "dep.severity        0.32747\n",
       "education.years   -0.136782\n",
       "td.severity             NaN\n",
       "Name: r, dtype: object"
      ]
     },
     "execution_count": 65,
     "metadata": {},
     "output_type": "execute_result"
    }
   ],
   "source": [
    "s, t  = display_test(df, numeric_target, 'td.severity', stats.pearsonr, stat_name='r')\n",
    "# t['p'] = t['p'] * 7\n",
    "# style()\n",
    "t.sort_values([f'abs_r', 'p'], ascending=False)['r']"
   ]
  },
  {
   "cell_type": "code",
   "execution_count": 66,
   "id": "70e0aeb4",
   "metadata": {},
   "outputs": [],
   "source": [
    "# sz.count()[sz.count() > 0]"
   ]
  },
  {
   "cell_type": "code",
   "execution_count": 67,
   "id": "65f2d5bf",
   "metadata": {},
   "outputs": [],
   "source": [
    "# dep.count()[dep.count() > 0]"
   ]
  },
  {
   "cell_type": "code",
   "execution_count": 68,
   "id": "4c201df4",
   "metadata": {},
   "outputs": [
    {
     "data": {
      "text/plain": [
       "female    25\n",
       "male       6\n",
       "Name: sex, dtype: int64"
      ]
     },
     "execution_count": 68,
     "metadata": {},
     "output_type": "execute_result"
    }
   ],
   "source": [
    "sz['sex'].value_counts()"
   ]
  },
  {
   "cell_type": "code",
   "execution_count": 69,
   "id": "368b92da",
   "metadata": {},
   "outputs": [
    {
     "name": "stderr",
     "output_type": "stream",
     "text": [
      "/Users/galina.ryazanskaya/Downloads/thesis?/code?/jupyter_utils.py:118: FutureWarning: Dropping of nuisance columns in DataFrame reductions (with 'numeric_only=None') is deprecated; in a future version this will raise TypeError.  Select only valid columns before calling the reduction.\n",
      "  s_mean, s_std = data.mean().round(2), data.std().round(2)\n"
     ]
    },
    {
     "data": {
      "text/html": [
       "<div>\n",
       "<style scoped>\n",
       "    .dataframe tbody tr th:only-of-type {\n",
       "        vertical-align: middle;\n",
       "    }\n",
       "\n",
       "    .dataframe tbody tr th {\n",
       "        vertical-align: top;\n",
       "    }\n",
       "\n",
       "    .dataframe thead th {\n",
       "        text-align: right;\n",
       "    }\n",
       "</style>\n",
       "<table border=\"1\" class=\"dataframe\">\n",
       "  <thead>\n",
       "    <tr style=\"text-align: right;\">\n",
       "      <th></th>\n",
       "      <th>age</th>\n",
       "      <th>education.years</th>\n",
       "      <th>dep.severity</th>\n",
       "      <th>td.severity</th>\n",
       "      <th>panss_td</th>\n",
       "      <th>panss_total</th>\n",
       "      <th>panss_neg</th>\n",
       "      <th>panss_pos</th>\n",
       "      <th>panss_o</th>\n",
       "    </tr>\n",
       "  </thead>\n",
       "  <tbody>\n",
       "    <tr>\n",
       "      <th>value</th>\n",
       "      <td>27.13 (7.14)</td>\n",
       "      <td>13.32 (2.41)</td>\n",
       "      <td>0.58 (0.85)</td>\n",
       "      <td>0.84 (0.73)</td>\n",
       "      <td>10.03 (3.74)</td>\n",
       "      <td>69.79 (16.13)</td>\n",
       "      <td>22.93 (8.59)</td>\n",
       "      <td>15.9 (4.92)</td>\n",
       "      <td>30.97 (8.42)</td>\n",
       "    </tr>\n",
       "  </tbody>\n",
       "</table>\n",
       "</div>"
      ],
      "text/plain": [
       "                age education.years dep.severity  td.severity      panss_td  \\\n",
       "value  27.13 (7.14)    13.32 (2.41)  0.58 (0.85)  0.84 (0.73)  10.03 (3.74)   \n",
       "\n",
       "         panss_total     panss_neg    panss_pos       panss_o  \n",
       "value  69.79 (16.13)  22.93 (8.59)  15.9 (4.92)  30.97 (8.42)  "
      ]
     },
     "execution_count": 69,
     "metadata": {},
     "output_type": "execute_result"
    }
   ],
   "source": [
    "mean_std(sz, target_cols + panss_cols)"
   ]
  },
  {
   "cell_type": "code",
   "execution_count": 70,
   "id": "667f07e7",
   "metadata": {},
   "outputs": [
    {
     "data": {
      "text/html": [
       "<div>\n",
       "<style scoped>\n",
       "    .dataframe tbody tr th:only-of-type {\n",
       "        vertical-align: middle;\n",
       "    }\n",
       "\n",
       "    .dataframe tbody tr th {\n",
       "        vertical-align: top;\n",
       "    }\n",
       "\n",
       "    .dataframe thead th {\n",
       "        text-align: right;\n",
       "    }\n",
       "</style>\n",
       "<table border=\"1\" class=\"dataframe\">\n",
       "  <thead>\n",
       "    <tr style=\"text-align: right;\">\n",
       "      <th></th>\n",
       "      <th>age</th>\n",
       "      <th>education.years</th>\n",
       "      <th>dep.severity</th>\n",
       "      <th>td.severity</th>\n",
       "      <th>panss_td</th>\n",
       "      <th>panss_total</th>\n",
       "      <th>panss_neg</th>\n",
       "      <th>panss_pos</th>\n",
       "      <th>panss_o</th>\n",
       "    </tr>\n",
       "    <tr>\n",
       "      <th>sex</th>\n",
       "      <th></th>\n",
       "      <th></th>\n",
       "      <th></th>\n",
       "      <th></th>\n",
       "      <th></th>\n",
       "      <th></th>\n",
       "      <th></th>\n",
       "      <th></th>\n",
       "      <th></th>\n",
       "    </tr>\n",
       "  </thead>\n",
       "  <tbody>\n",
       "    <tr>\n",
       "      <th>female</th>\n",
       "      <td>27.8 (7.53)</td>\n",
       "      <td>13.56 (2.48)</td>\n",
       "      <td>0.72 (0.89)</td>\n",
       "      <td>0.8 (0.76)</td>\n",
       "      <td>9.43 (3.62)</td>\n",
       "      <td>69.13 (15.38)</td>\n",
       "      <td>22.52 (7.79)</td>\n",
       "      <td>15.3 (4.91)</td>\n",
       "      <td>31.3 (9.08)</td>\n",
       "    </tr>\n",
       "    <tr>\n",
       "      <th>male</th>\n",
       "      <td>24.33 (4.72)</td>\n",
       "      <td>12.33 (1.97)</td>\n",
       "      <td>0.0 (0.0)</td>\n",
       "      <td>1.0 (0.63)</td>\n",
       "      <td>12.33 (3.56)</td>\n",
       "      <td>72.33 (20.16)</td>\n",
       "      <td>24.5 (11.93)</td>\n",
       "      <td>18.17 (4.67)</td>\n",
       "      <td>29.67 (5.65)</td>\n",
       "    </tr>\n",
       "  </tbody>\n",
       "</table>\n",
       "</div>"
      ],
      "text/plain": [
       "                 age education.years dep.severity td.severity      panss_td  \\\n",
       "sex                                                                           \n",
       "female   27.8 (7.53)    13.56 (2.48)  0.72 (0.89)  0.8 (0.76)   9.43 (3.62)   \n",
       "male    24.33 (4.72)    12.33 (1.97)    0.0 (0.0)  1.0 (0.63)  12.33 (3.56)   \n",
       "\n",
       "          panss_total     panss_neg     panss_pos       panss_o  \n",
       "sex                                                              \n",
       "female  69.13 (15.38)  22.52 (7.79)   15.3 (4.91)   31.3 (9.08)  \n",
       "male    72.33 (20.16)  24.5 (11.93)  18.17 (4.67)  29.67 (5.65)  "
      ]
     },
     "execution_count": 70,
     "metadata": {},
     "output_type": "execute_result"
    }
   ],
   "source": [
    "mean_std(sz, target_cols + panss_cols, 'sex')"
   ]
  },
  {
   "cell_type": "code",
   "execution_count": 71,
   "id": "8d834305",
   "metadata": {},
   "outputs": [],
   "source": [
    "r = mean_std(sz, ['dep.severity', 'td.severity'] + panss_cols)\n",
    "r.loc['max'] = pd.Series([4, 4, 28, 210, 49, 49, 112], index=r.columns)\n",
    "r.loc['min'] = pd.Series([0, 0, 2, 30, 7, 7, 16], index=r.columns)\n",
    "r.loc['share'] = r.loc['value'].apply(lambda x: float(x.split(' ')[0])) / r.loc['max'] "
   ]
  },
  {
   "cell_type": "code",
   "execution_count": 72,
   "id": "5d98880d",
   "metadata": {},
   "outputs": [
    {
     "data": {
      "text/html": [
       "<div>\n",
       "<style scoped>\n",
       "    .dataframe tbody tr th:only-of-type {\n",
       "        vertical-align: middle;\n",
       "    }\n",
       "\n",
       "    .dataframe tbody tr th {\n",
       "        vertical-align: top;\n",
       "    }\n",
       "\n",
       "    .dataframe thead th {\n",
       "        text-align: right;\n",
       "    }\n",
       "</style>\n",
       "<table border=\"1\" class=\"dataframe\">\n",
       "  <thead>\n",
       "    <tr style=\"text-align: right;\">\n",
       "      <th></th>\n",
       "      <th>dep.severity</th>\n",
       "      <th>td.severity</th>\n",
       "      <th>panss_td</th>\n",
       "      <th>panss_total</th>\n",
       "      <th>panss_neg</th>\n",
       "      <th>panss_pos</th>\n",
       "      <th>panss_o</th>\n",
       "    </tr>\n",
       "  </thead>\n",
       "  <tbody>\n",
       "    <tr>\n",
       "      <th>value</th>\n",
       "      <td>0.58 (0.85)</td>\n",
       "      <td>0.84 (0.73)</td>\n",
       "      <td>10.03 (3.74)</td>\n",
       "      <td>69.79 (16.13)</td>\n",
       "      <td>22.93 (8.59)</td>\n",
       "      <td>15.9 (4.92)</td>\n",
       "      <td>30.97 (8.42)</td>\n",
       "    </tr>\n",
       "    <tr>\n",
       "      <th>max</th>\n",
       "      <td>4</td>\n",
       "      <td>4</td>\n",
       "      <td>28</td>\n",
       "      <td>210</td>\n",
       "      <td>49</td>\n",
       "      <td>49</td>\n",
       "      <td>112</td>\n",
       "    </tr>\n",
       "    <tr>\n",
       "      <th>min</th>\n",
       "      <td>0</td>\n",
       "      <td>0</td>\n",
       "      <td>2</td>\n",
       "      <td>30</td>\n",
       "      <td>7</td>\n",
       "      <td>7</td>\n",
       "      <td>16</td>\n",
       "    </tr>\n",
       "    <tr>\n",
       "      <th>share</th>\n",
       "      <td>0.145</td>\n",
       "      <td>0.21</td>\n",
       "      <td>0.358214</td>\n",
       "      <td>0.332333</td>\n",
       "      <td>0.467959</td>\n",
       "      <td>0.32449</td>\n",
       "      <td>0.276518</td>\n",
       "    </tr>\n",
       "  </tbody>\n",
       "</table>\n",
       "</div>"
      ],
      "text/plain": [
       "      dep.severity  td.severity      panss_td    panss_total     panss_neg  \\\n",
       "value  0.58 (0.85)  0.84 (0.73)  10.03 (3.74)  69.79 (16.13)  22.93 (8.59)   \n",
       "max              4            4            28            210            49   \n",
       "min              0            0             2             30             7   \n",
       "share        0.145         0.21      0.358214       0.332333      0.467959   \n",
       "\n",
       "         panss_pos       panss_o  \n",
       "value  15.9 (4.92)  30.97 (8.42)  \n",
       "max             49           112  \n",
       "min              7            16  \n",
       "share      0.32449      0.276518  "
      ]
     },
     "execution_count": 72,
     "metadata": {},
     "output_type": "execute_result"
    }
   ],
   "source": [
    "r"
   ]
  },
  {
   "cell_type": "code",
   "execution_count": 73,
   "id": "6bba27c5",
   "metadata": {},
   "outputs": [],
   "source": [
    "fig, axes = plt.subplots(6, 1, figsize=(10, 8))\n",
    "fig.suptitle('comparison between psychiatric scales')\n",
    "sns.boxplot(x=sz['td.severity'], ax=axes[0], color='tab:orange')\n",
    "axes[0].set_xlim(0, 4)\n",
    "axes[0].set_xlabel('')\n",
    "axes[0].set_ylabel('td.severity', rotation='horizontal', ha='right')\n",
    "sns.boxplot(x=sz['dep.severity'], ax=axes[1])\n",
    "axes[1].set_xlim(0, 4)\n",
    "axes[1].set_xlabel('')\n",
    "axes[1].set_ylabel('dep.severity', rotation='horizontal', ha='right')\n",
    "sns.boxplot(x=sz['panss_pos'], ax=axes[2], color='tab:orange')\n",
    "axes[2].set_xlim(7, 49)\n",
    "axes[2].set_xlabel('')\n",
    "axes[2].set_ylabel('panss_pos', rotation='horizontal', ha='right')\n",
    "sns.boxplot(x=sz['panss_neg'], ax=axes[3])\n",
    "axes[3].set_xlim(7, 49)\n",
    "axes[3].set_xlabel('')\n",
    "axes[3].set_ylabel('panss_neg', rotation='horizontal', ha='right')\n",
    "sns.boxplot(x=sz['panss_o'], ax=axes[4], color='grey')\n",
    "axes[4].set_xlim(16, 112)\n",
    "axes[4].set_xlabel('')\n",
    "axes[4].set_ylabel('panss_o', rotation='horizontal', ha='right')\n",
    "sns.boxplot(x=sz['panss_total'], ax=axes[5], color='grey')\n",
    "axes[5].set_xlim(30, 210)\n",
    "axes[5].set_xlabel('')\n",
    "axes[5].set_ylabel('panss_total', rotation='horizontal', ha='right')\n",
    "axes[5].set_xlabel('score')\n",
    "fig.tight_layout();\n",
    "plt.savefig(f'{PATH_FIG}psychiatric.png', dpi=150, bbox_inches = 'tight')\n",
    "plt.close(fig)"
   ]
  },
  {
   "cell_type": "code",
   "execution_count": 74,
   "id": "57853163",
   "metadata": {},
   "outputs": [],
   "source": [
    "fig, axes = plt.subplots(11, 1, figsize=(15, 10))\n",
    "fig.suptitle('comparison between psychiatric scales for depression group')\n",
    "sns.boxplot(x=dep['td.severity'], ax=axes[0], color='tab:orange')\n",
    "axes[0].set_xlim(0, 4)\n",
    "axes[0].set_xlabel('')\n",
    "axes[0].set_ylabel('td.severity', rotation='horizontal', ha='right')\n",
    "sns.boxplot(x=dep['dep.severity'], ax=axes[1])\n",
    "axes[1].set_xlim(0, 4)\n",
    "axes[1].set_xlabel('')\n",
    "axes[1].set_ylabel('dep.severity', rotation='horizontal', ha='right')\n",
    "sns.boxplot(x=dep['panss_pos'], ax=axes[2], color='tab:orange')\n",
    "axes[2].set_xlim(7, 49)\n",
    "axes[2].set_xlabel('')\n",
    "axes[2].set_ylabel('panss_pos', rotation='horizontal', ha='right')\n",
    "sns.boxplot(x=dep['panss_neg'], ax=axes[3])\n",
    "axes[3].set_xlim(7, 49)\n",
    "axes[3].set_xlabel('')\n",
    "axes[3].set_ylabel('panss_neg', rotation='horizontal', ha='right')\n",
    "sns.boxplot(x=dep['panss_o'], ax=axes[4], color='grey')\n",
    "axes[4].set_xlim(16, 112)\n",
    "axes[4].set_xlabel('')\n",
    "axes[4].set_ylabel('panss_o', rotation='horizontal', ha='right')\n",
    "sns.boxplot(x=dep['panss_total'], ax=axes[5], color='grey')\n",
    "axes[5].set_xlim(30, 210)\n",
    "axes[5].set_xlabel('')\n",
    "axes[5].set_ylabel('panss_total', rotation='horizontal', ha='right')\n",
    "sns.boxplot(x=dep['sops_p'], ax=axes[6], color='tab:orange')\n",
    "axes[6].set_xlim(0, 25)\n",
    "axes[6].set_xlabel('')\n",
    "axes[6].set_ylabel('sops_p', rotation='horizontal', ha='right')\n",
    "axes[6].set_xlabel('')\n",
    "sns.boxplot(x=dep['sops_n'], ax=axes[7])\n",
    "axes[7].set_xlim(0, 30)\n",
    "axes[7].set_xlabel('')\n",
    "axes[7].set_ylabel('sops_n', rotation='horizontal', ha='right')\n",
    "axes[7].set_xlabel('')\n",
    "sns.boxplot(x=dep['sops_d'], ax=axes[8], color='tab:orange')\n",
    "axes[8].set_xlim(0, 20)\n",
    "axes[8].set_xlabel('')\n",
    "axes[8].set_ylabel('sops_d', rotation='horizontal', ha='right')\n",
    "axes[8].set_xlabel('')\n",
    "sns.boxplot(x=dep['sans'], ax=axes[9])\n",
    "axes[9].set_xlim(0, 160)\n",
    "axes[9].set_xlabel('')\n",
    "axes[9].set_ylabel('sans', rotation='horizontal', ha='right')\n",
    "axes[9].set_xlabel('')\n",
    "sns.boxplot(x=dep['saps_ftd'], ax=axes[10], color='tab:orange')\n",
    "axes[10].set_xlim(0, 120)\n",
    "axes[10].set_xlabel('')\n",
    "axes[10].set_ylabel('saps', rotation='horizontal', ha='right')\n",
    "axes[10].set_xlabel('')\n",
    "\n",
    "axes[10].set_xlabel('score')\n",
    "fig.tight_layout();\n",
    "plt.savefig(f'{PATH_FIG}psychiatric_dep.png', dpi=150, bbox_inches = 'tight')\n",
    "plt.close(fig)"
   ]
  },
  {
   "cell_type": "code",
   "execution_count": 75,
   "id": "841b28c4",
   "metadata": {},
   "outputs": [
    {
     "data": {
      "text/plain": [
       "female    18\n",
       "Name: sex, dtype: int64"
      ]
     },
     "execution_count": 75,
     "metadata": {},
     "output_type": "execute_result"
    }
   ],
   "source": [
    "dep['sex'].value_counts()"
   ]
  },
  {
   "cell_type": "code",
   "execution_count": 76,
   "id": "17782ed7",
   "metadata": {},
   "outputs": [
    {
     "name": "stderr",
     "output_type": "stream",
     "text": [
      "/Users/galina.ryazanskaya/Downloads/thesis?/code?/jupyter_utils.py:118: FutureWarning: Dropping of nuisance columns in DataFrame reductions (with 'numeric_only=None') is deprecated; in a future version this will raise TypeError.  Select only valid columns before calling the reduction.\n",
      "  s_mean, s_std = data.mean().round(2), data.std().round(2)\n"
     ]
    },
    {
     "data": {
      "text/html": [
       "<div>\n",
       "<style scoped>\n",
       "    .dataframe tbody tr th:only-of-type {\n",
       "        vertical-align: middle;\n",
       "    }\n",
       "\n",
       "    .dataframe tbody tr th {\n",
       "        vertical-align: top;\n",
       "    }\n",
       "\n",
       "    .dataframe thead th {\n",
       "        text-align: right;\n",
       "    }\n",
       "</style>\n",
       "<table border=\"1\" class=\"dataframe\">\n",
       "  <thead>\n",
       "    <tr style=\"text-align: right;\">\n",
       "      <th></th>\n",
       "      <th>age</th>\n",
       "      <th>education.years</th>\n",
       "      <th>dep.severity</th>\n",
       "      <th>td.severity</th>\n",
       "      <th>panss_td</th>\n",
       "      <th>panss_total</th>\n",
       "      <th>panss_neg</th>\n",
       "      <th>panss_pos</th>\n",
       "      <th>panss_o</th>\n",
       "    </tr>\n",
       "  </thead>\n",
       "  <tbody>\n",
       "    <tr>\n",
       "      <th>value</th>\n",
       "      <td>20.89 (3.71)</td>\n",
       "      <td>12.67 (1.94)</td>\n",
       "      <td>0.56 (0.62)</td>\n",
       "      <td>0.06 (0.24)</td>\n",
       "      <td>4.42 (0.9)</td>\n",
       "      <td>37.92 (5.89)</td>\n",
       "      <td>8.31 (1.97)</td>\n",
       "      <td>8.46 (1.94)</td>\n",
       "      <td>21.15 (3.58)</td>\n",
       "    </tr>\n",
       "  </tbody>\n",
       "</table>\n",
       "</div>"
      ],
      "text/plain": [
       "                age education.years dep.severity  td.severity    panss_td  \\\n",
       "value  20.89 (3.71)    12.67 (1.94)  0.56 (0.62)  0.06 (0.24)  4.42 (0.9)   \n",
       "\n",
       "        panss_total    panss_neg    panss_pos       panss_o  \n",
       "value  37.92 (5.89)  8.31 (1.97)  8.46 (1.94)  21.15 (3.58)  "
      ]
     },
     "execution_count": 76,
     "metadata": {},
     "output_type": "execute_result"
    }
   ],
   "source": [
    "mean_std(dep, target_cols + panss_cols)"
   ]
  },
  {
   "cell_type": "code",
   "execution_count": 77,
   "id": "9d6367ca",
   "metadata": {},
   "outputs": [
    {
     "data": {
      "text/plain": [
       "13"
      ]
     },
     "execution_count": 77,
     "metadata": {},
     "output_type": "execute_result"
    }
   ],
   "source": [
    "dep['panss_o'].count()"
   ]
  },
  {
   "cell_type": "code",
   "execution_count": 78,
   "id": "ee7f3145",
   "metadata": {},
   "outputs": [
    {
     "data": {
      "text/plain": [
       "female    75\n",
       "male      27\n",
       "Name: sex, dtype: int64"
      ]
     },
     "execution_count": 78,
     "metadata": {},
     "output_type": "execute_result"
    }
   ],
   "source": [
    "control['sex'].value_counts()"
   ]
  },
  {
   "cell_type": "code",
   "execution_count": 79,
   "id": "06c46d99",
   "metadata": {},
   "outputs": [
    {
     "name": "stderr",
     "output_type": "stream",
     "text": [
      "/Users/galina.ryazanskaya/Downloads/thesis?/code?/jupyter_utils.py:118: FutureWarning: Dropping of nuisance columns in DataFrame reductions (with 'numeric_only=None') is deprecated; in a future version this will raise TypeError.  Select only valid columns before calling the reduction.\n",
      "  s_mean, s_std = data.mean().round(2), data.std().round(2)\n"
     ]
    },
    {
     "data": {
      "text/html": [
       "<div>\n",
       "<style scoped>\n",
       "    .dataframe tbody tr th:only-of-type {\n",
       "        vertical-align: middle;\n",
       "    }\n",
       "\n",
       "    .dataframe tbody tr th {\n",
       "        vertical-align: top;\n",
       "    }\n",
       "\n",
       "    .dataframe thead th {\n",
       "        text-align: right;\n",
       "    }\n",
       "</style>\n",
       "<table border=\"1\" class=\"dataframe\">\n",
       "  <thead>\n",
       "    <tr style=\"text-align: right;\">\n",
       "      <th></th>\n",
       "      <th>age</th>\n",
       "      <th>education.years</th>\n",
       "      <th>dep.severity</th>\n",
       "      <th>td.severity</th>\n",
       "    </tr>\n",
       "  </thead>\n",
       "  <tbody>\n",
       "    <tr>\n",
       "      <th>value</th>\n",
       "      <td>39.75 (19.15)</td>\n",
       "      <td>15.74 (2.57)</td>\n",
       "      <td>0.0 (0.0)</td>\n",
       "      <td>0.0 (0.0)</td>\n",
       "    </tr>\n",
       "  </tbody>\n",
       "</table>\n",
       "</div>"
      ],
      "text/plain": [
       "                 age education.years dep.severity td.severity\n",
       "value  39.75 (19.15)    15.74 (2.57)    0.0 (0.0)   0.0 (0.0)"
      ]
     },
     "execution_count": 79,
     "metadata": {},
     "output_type": "execute_result"
    }
   ],
   "source": [
    "mean_std(control, target_cols)"
   ]
  },
  {
   "cell_type": "code",
   "execution_count": 80,
   "id": "434a7479",
   "metadata": {},
   "outputs": [
    {
     "data": {
      "text/html": [
       "<div>\n",
       "<style scoped>\n",
       "    .dataframe tbody tr th:only-of-type {\n",
       "        vertical-align: middle;\n",
       "    }\n",
       "\n",
       "    .dataframe tbody tr th {\n",
       "        vertical-align: top;\n",
       "    }\n",
       "\n",
       "    .dataframe thead th {\n",
       "        text-align: right;\n",
       "    }\n",
       "</style>\n",
       "<table border=\"1\" class=\"dataframe\">\n",
       "  <thead>\n",
       "    <tr style=\"text-align: right;\">\n",
       "      <th></th>\n",
       "      <th>age</th>\n",
       "      <th>education.years</th>\n",
       "      <th>dep.severity</th>\n",
       "      <th>td.severity</th>\n",
       "    </tr>\n",
       "    <tr>\n",
       "      <th>sex</th>\n",
       "      <th></th>\n",
       "      <th></th>\n",
       "      <th></th>\n",
       "      <th></th>\n",
       "    </tr>\n",
       "  </thead>\n",
       "  <tbody>\n",
       "    <tr>\n",
       "      <th>female</th>\n",
       "      <td>38.25 (18.85)</td>\n",
       "      <td>15.39 (2.39)</td>\n",
       "      <td>0.0 (0.0)</td>\n",
       "      <td>0.0 (0.0)</td>\n",
       "    </tr>\n",
       "    <tr>\n",
       "      <th>male</th>\n",
       "      <td>43.93 (19.73)</td>\n",
       "      <td>16.7 (2.83)</td>\n",
       "      <td>0.0 (0.0)</td>\n",
       "      <td>0.0 (0.0)</td>\n",
       "    </tr>\n",
       "  </tbody>\n",
       "</table>\n",
       "</div>"
      ],
      "text/plain": [
       "                  age education.years dep.severity td.severity\n",
       "sex                                                           \n",
       "female  38.25 (18.85)    15.39 (2.39)    0.0 (0.0)   0.0 (0.0)\n",
       "male    43.93 (19.73)     16.7 (2.83)    0.0 (0.0)   0.0 (0.0)"
      ]
     },
     "execution_count": 80,
     "metadata": {},
     "output_type": "execute_result"
    }
   ],
   "source": [
    "mean_std(control, target_cols, 'sex')"
   ]
  },
  {
   "cell_type": "code",
   "execution_count": 81,
   "id": "25f5e2a0",
   "metadata": {},
   "outputs": [
    {
     "data": {
      "text/plain": [
       "female    26\n",
       "male       4\n",
       "Name: sex, dtype: int64"
      ]
     },
     "execution_count": 81,
     "metadata": {},
     "output_type": "execute_result"
    }
   ],
   "source": [
    "control_psy['sex'].value_counts()"
   ]
  },
  {
   "cell_type": "code",
   "execution_count": 82,
   "id": "9b3a6b4e",
   "metadata": {},
   "outputs": [
    {
     "name": "stderr",
     "output_type": "stream",
     "text": [
      "/Users/galina.ryazanskaya/Downloads/thesis?/code?/jupyter_utils.py:118: FutureWarning: Dropping of nuisance columns in DataFrame reductions (with 'numeric_only=None') is deprecated; in a future version this will raise TypeError.  Select only valid columns before calling the reduction.\n",
      "  s_mean, s_std = data.mean().round(2), data.std().round(2)\n"
     ]
    },
    {
     "data": {
      "text/html": [
       "<div>\n",
       "<style scoped>\n",
       "    .dataframe tbody tr th:only-of-type {\n",
       "        vertical-align: middle;\n",
       "    }\n",
       "\n",
       "    .dataframe tbody tr th {\n",
       "        vertical-align: top;\n",
       "    }\n",
       "\n",
       "    .dataframe thead th {\n",
       "        text-align: right;\n",
       "    }\n",
       "</style>\n",
       "<table border=\"1\" class=\"dataframe\">\n",
       "  <thead>\n",
       "    <tr style=\"text-align: right;\">\n",
       "      <th></th>\n",
       "      <th>age</th>\n",
       "      <th>education.years</th>\n",
       "      <th>dep.severity</th>\n",
       "      <th>td.severity</th>\n",
       "      <th>panss_td</th>\n",
       "      <th>panss_total</th>\n",
       "      <th>panss_neg</th>\n",
       "      <th>panss_pos</th>\n",
       "      <th>panss_o</th>\n",
       "    </tr>\n",
       "  </thead>\n",
       "  <tbody>\n",
       "    <tr>\n",
       "      <th>value</th>\n",
       "      <td>25.0 (7.4)</td>\n",
       "      <td>15.43 (2.13)</td>\n",
       "      <td>0.0 (0.0)</td>\n",
       "      <td>0.0 (0.0)</td>\n",
       "      <td>4.36 (1.0)</td>\n",
       "      <td>30.77 (1.54)</td>\n",
       "      <td>7.23 (0.53)</td>\n",
       "      <td>7.23 (0.61)</td>\n",
       "      <td>16.32 (0.95)</td>\n",
       "    </tr>\n",
       "  </tbody>\n",
       "</table>\n",
       "</div>"
      ],
      "text/plain": [
       "              age education.years dep.severity td.severity    panss_td  \\\n",
       "value  25.0 (7.4)    15.43 (2.13)    0.0 (0.0)   0.0 (0.0)  4.36 (1.0)   \n",
       "\n",
       "        panss_total    panss_neg    panss_pos       panss_o  \n",
       "value  30.77 (1.54)  7.23 (0.53)  7.23 (0.61)  16.32 (0.95)  "
      ]
     },
     "execution_count": 82,
     "metadata": {},
     "output_type": "execute_result"
    }
   ],
   "source": [
    "mean_std(control_psy, target_cols + panss_cols)"
   ]
  },
  {
   "cell_type": "code",
   "execution_count": 83,
   "id": "9224b336",
   "metadata": {},
   "outputs": [
    {
     "data": {
      "text/html": [
       "<div>\n",
       "<style scoped>\n",
       "    .dataframe tbody tr th:only-of-type {\n",
       "        vertical-align: middle;\n",
       "    }\n",
       "\n",
       "    .dataframe tbody tr th {\n",
       "        vertical-align: top;\n",
       "    }\n",
       "\n",
       "    .dataframe thead th {\n",
       "        text-align: right;\n",
       "    }\n",
       "</style>\n",
       "<table border=\"1\" class=\"dataframe\">\n",
       "  <thead>\n",
       "    <tr style=\"text-align: right;\">\n",
       "      <th></th>\n",
       "      <th>age</th>\n",
       "      <th>education.years</th>\n",
       "      <th>dep.severity</th>\n",
       "      <th>td.severity</th>\n",
       "      <th>panss_td</th>\n",
       "      <th>panss_total</th>\n",
       "      <th>panss_neg</th>\n",
       "      <th>panss_pos</th>\n",
       "      <th>panss_o</th>\n",
       "    </tr>\n",
       "    <tr>\n",
       "      <th>sex</th>\n",
       "      <th></th>\n",
       "      <th></th>\n",
       "      <th></th>\n",
       "      <th></th>\n",
       "      <th></th>\n",
       "      <th></th>\n",
       "      <th></th>\n",
       "      <th></th>\n",
       "      <th></th>\n",
       "    </tr>\n",
       "  </thead>\n",
       "  <tbody>\n",
       "    <tr>\n",
       "      <th>female</th>\n",
       "      <td>25.42 (7.8)</td>\n",
       "      <td>15.42 (1.7)</td>\n",
       "      <td>0.0 (0.0)</td>\n",
       "      <td>0.0 (0.0)</td>\n",
       "      <td>4.4 (1.05)</td>\n",
       "      <td>30.85 (1.6)</td>\n",
       "      <td>7.25 (0.55)</td>\n",
       "      <td>7.25 (0.64)</td>\n",
       "      <td>16.35 (0.99)</td>\n",
       "    </tr>\n",
       "    <tr>\n",
       "      <th>male</th>\n",
       "      <td>22.25 (3.3)</td>\n",
       "      <td>15.5 (4.43)</td>\n",
       "      <td>0.0 (0.0)</td>\n",
       "      <td>0.0 (0.0)</td>\n",
       "      <td>4.0 (0.0)</td>\n",
       "      <td>30.0 (0.0)</td>\n",
       "      <td>7.0 (0.0)</td>\n",
       "      <td>7.0 (0.0)</td>\n",
       "      <td>16.0 (0.0)</td>\n",
       "    </tr>\n",
       "  </tbody>\n",
       "</table>\n",
       "</div>"
      ],
      "text/plain": [
       "                age education.years dep.severity td.severity    panss_td  \\\n",
       "sex                                                                        \n",
       "female  25.42 (7.8)     15.42 (1.7)    0.0 (0.0)   0.0 (0.0)  4.4 (1.05)   \n",
       "male    22.25 (3.3)     15.5 (4.43)    0.0 (0.0)   0.0 (0.0)   4.0 (0.0)   \n",
       "\n",
       "        panss_total    panss_neg    panss_pos       panss_o  \n",
       "sex                                                          \n",
       "female  30.85 (1.6)  7.25 (0.55)  7.25 (0.64)  16.35 (0.99)  \n",
       "male     30.0 (0.0)    7.0 (0.0)    7.0 (0.0)    16.0 (0.0)  "
      ]
     },
     "execution_count": 83,
     "metadata": {},
     "output_type": "execute_result"
    }
   ],
   "source": [
    "mean_std(control_psy, target_cols + panss_cols, 'sex')"
   ]
  },
  {
   "cell_type": "code",
   "execution_count": 84,
   "id": "55dceae7",
   "metadata": {},
   "outputs": [
    {
     "data": {
      "text/plain": [
       "sex\n",
       "female    20\n",
       "male       2\n",
       "Name: panss_total, dtype: int64"
      ]
     },
     "execution_count": 84,
     "metadata": {},
     "output_type": "execute_result"
    }
   ],
   "source": [
    "control.groupby('sex')['panss_total'].count()"
   ]
  },
  {
   "cell_type": "code",
   "execution_count": 85,
   "id": "785d3a9c",
   "metadata": {},
   "outputs": [],
   "source": [
    "# control_psy.count()[control_psy.count() > 0]"
   ]
  },
  {
   "cell_type": "code",
   "execution_count": 86,
   "id": "be09b10f",
   "metadata": {},
   "outputs": [],
   "source": [
    "# df.dropna(axis=0, thresh=30).iloc[0]"
   ]
  },
  {
   "cell_type": "markdown",
   "id": "65dd3253",
   "metadata": {},
   "source": [
    "### test for differences"
   ]
  },
  {
   "cell_type": "markdown",
   "id": "a0cd64af",
   "metadata": {},
   "source": [
    "age"
   ]
  },
  {
   "cell_type": "code",
   "execution_count": 87,
   "id": "6f4597e6",
   "metadata": {},
   "outputs": [],
   "source": [
    "# stats.ttest_ind(control['age'], sz['age'], nan_policy='omit')"
   ]
  },
  {
   "cell_type": "code",
   "execution_count": 88,
   "id": "727c9307",
   "metadata": {},
   "outputs": [
    {
     "data": {
      "text/plain": [
       "Ttest_indResult(statistic=-1.143255849283786, pvalue=0.2575501479174914)"
      ]
     },
     "execution_count": 88,
     "metadata": {},
     "output_type": "execute_result"
    }
   ],
   "source": [
    "stats.ttest_ind(control_psy['age'], sz['age'], nan_policy='omit')"
   ]
  },
  {
   "cell_type": "code",
   "execution_count": 89,
   "id": "04a0183b",
   "metadata": {},
   "outputs": [
    {
     "data": {
      "text/plain": [
       "Ttest_indResult(statistic=2.1899209175114764, pvalue=0.033638603323606325)"
      ]
     },
     "execution_count": 89,
     "metadata": {},
     "output_type": "execute_result"
    }
   ],
   "source": [
    "stats.ttest_ind(control_psy['age'], dep['age'], nan_policy='omit')"
   ]
  },
  {
   "cell_type": "markdown",
   "id": "0acea8a2",
   "metadata": {},
   "source": [
    "education years"
   ]
  },
  {
   "cell_type": "code",
   "execution_count": 90,
   "id": "e41904c4",
   "metadata": {},
   "outputs": [],
   "source": [
    "# stats.ttest_ind(control['education.years'], sz['education.years'], nan_policy='omit')"
   ]
  },
  {
   "cell_type": "code",
   "execution_count": 91,
   "id": "85f62ed8",
   "metadata": {},
   "outputs": [
    {
     "data": {
      "text/plain": [
       "Ttest_indResult(statistic=3.618089157043871, pvalue=0.0006167702505040491)"
      ]
     },
     "execution_count": 91,
     "metadata": {},
     "output_type": "execute_result"
    }
   ],
   "source": [
    "stats.ttest_ind(control_psy['education.years'], sz['education.years'], nan_policy='omit')"
   ]
  },
  {
   "cell_type": "code",
   "execution_count": 92,
   "id": "2a017b6c",
   "metadata": {},
   "outputs": [
    {
     "data": {
      "text/plain": [
       "Ttest_indResult(statistic=4.502842757884748, pvalue=4.561269295083997e-05)"
      ]
     },
     "execution_count": 92,
     "metadata": {},
     "output_type": "execute_result"
    }
   ],
   "source": [
    "stats.ttest_ind(control_psy['education.years'], dep['education.years'], nan_policy='omit')"
   ]
  },
  {
   "cell_type": "markdown",
   "id": "ed14e784",
   "metadata": {},
   "source": [
    "sex"
   ]
  },
  {
   "cell_type": "code",
   "execution_count": 93,
   "id": "c4e91a4b",
   "metadata": {},
   "outputs": [],
   "source": [
    "a = 0.05"
   ]
  },
  {
   "cell_type": "code",
   "execution_count": 94,
   "id": "bb480326",
   "metadata": {},
   "outputs": [],
   "source": [
    "# s_t_sex, res_t_sex = display_group_test(control, numeric_target, 'sex', stats.ttest_ind, stat_name='t', alpha=a)\n",
    "# style(res_t_sex)"
   ]
  },
  {
   "cell_type": "code",
   "execution_count": 95,
   "id": "927c9b7a",
   "metadata": {},
   "outputs": [
    {
     "data": {
      "text/html": [
       "<style type=\"text/css\">\n",
       "#T_de553_row0_col0, #T_de553_row0_col1, #T_de553_row4_col3 {\n",
       "  background-color: #08306b;\n",
       "  color: #f1f1f1;\n",
       "}\n",
       "#T_de553_row0_col3, #T_de553_row4_col0, #T_de553_row4_col1 {\n",
       "  background-color: #f7fbff;\n",
       "  color: #000000;\n",
       "}\n",
       "#T_de553_row1_col0, #T_de553_row1_col1, #T_de553_row1_col3, #T_de553_row2_col0, #T_de553_row2_col1, #T_de553_row2_col3 {\n",
       "  background-color: #000000;\n",
       "  color: #f1f1f1;\n",
       "  color: white;\n",
       "  background-color: white;\n",
       "}\n",
       "#T_de553_row3_col0, #T_de553_row6_col1 {\n",
       "  background-color: #c3daee;\n",
       "  color: #000000;\n",
       "}\n",
       "#T_de553_row3_col1 {\n",
       "  background-color: #bed8ec;\n",
       "  color: #000000;\n",
       "}\n",
       "#T_de553_row3_col3 {\n",
       "  background-color: #3181bd;\n",
       "  color: #f1f1f1;\n",
       "}\n",
       "#T_de553_row5_col0 {\n",
       "  background-color: #dceaf6;\n",
       "  color: #000000;\n",
       "}\n",
       "#T_de553_row5_col1 {\n",
       "  background-color: #dce9f6;\n",
       "  color: #000000;\n",
       "}\n",
       "#T_de553_row5_col3 {\n",
       "  background-color: #0e59a2;\n",
       "  color: #f1f1f1;\n",
       "}\n",
       "#T_de553_row6_col0 {\n",
       "  background-color: #c8dcf0;\n",
       "  color: #000000;\n",
       "}\n",
       "#T_de553_row6_col3 {\n",
       "  background-color: #2c7cba;\n",
       "  color: #f1f1f1;\n",
       "}\n",
       "#T_de553_row7_col0 {\n",
       "  background-color: #b4d3e9;\n",
       "  color: #000000;\n",
       "}\n",
       "#T_de553_row7_col1 {\n",
       "  background-color: #abd0e6;\n",
       "  color: #000000;\n",
       "}\n",
       "#T_de553_row7_col3 {\n",
       "  background-color: #3f8fc5;\n",
       "  color: #f1f1f1;\n",
       "}\n",
       "</style>\n",
       "<table id=\"T_de553\">\n",
       "  <thead>\n",
       "    <tr>\n",
       "      <th class=\"blank level0\" >&nbsp;</th>\n",
       "      <th id=\"T_de553_level0_col0\" class=\"col_heading level0 col0\" >t</th>\n",
       "      <th id=\"T_de553_level0_col1\" class=\"col_heading level0 col1\" >p</th>\n",
       "      <th id=\"T_de553_level0_col2\" class=\"col_heading level0 col2\" >sig</th>\n",
       "      <th id=\"T_de553_level0_col3\" class=\"col_heading level0 col3\" >abs_t</th>\n",
       "    </tr>\n",
       "  </thead>\n",
       "  <tbody>\n",
       "    <tr>\n",
       "      <th id=\"T_de553_level0_row0\" class=\"row_heading level0 row0\" >education.years</th>\n",
       "      <td id=\"T_de553_row0_col0\" class=\"data row0 col0\" >0.066128</td>\n",
       "      <td id=\"T_de553_row0_col1\" class=\"data row0 col1\" >0.947746</td>\n",
       "      <td id=\"T_de553_row0_col2\" class=\"data row0 col2\" >False</td>\n",
       "      <td id=\"T_de553_row0_col3\" class=\"data row0 col3\" >0.066128</td>\n",
       "    </tr>\n",
       "    <tr>\n",
       "      <th id=\"T_de553_level0_row1\" class=\"row_heading level0 row1\" >dep.severity</th>\n",
       "      <td id=\"T_de553_row1_col0\" class=\"data row1 col0\" >nan</td>\n",
       "      <td id=\"T_de553_row1_col1\" class=\"data row1 col1\" >nan</td>\n",
       "      <td id=\"T_de553_row1_col2\" class=\"data row1 col2\" >False</td>\n",
       "      <td id=\"T_de553_row1_col3\" class=\"data row1 col3\" >nan</td>\n",
       "    </tr>\n",
       "    <tr>\n",
       "      <th id=\"T_de553_level0_row2\" class=\"row_heading level0 row2\" >td.severity</th>\n",
       "      <td id=\"T_de553_row2_col0\" class=\"data row2 col0\" >nan</td>\n",
       "      <td id=\"T_de553_row2_col1\" class=\"data row2 col1\" >nan</td>\n",
       "      <td id=\"T_de553_row2_col2\" class=\"data row2 col2\" >False</td>\n",
       "      <td id=\"T_de553_row2_col3\" class=\"data row2 col3\" >nan</td>\n",
       "    </tr>\n",
       "    <tr>\n",
       "      <th id=\"T_de553_level0_row3\" class=\"row_heading level0 row3\" >panss_td</th>\n",
       "      <td id=\"T_de553_row3_col0\" class=\"data row3 col0\" >-0.528886</td>\n",
       "      <td id=\"T_de553_row3_col1\" class=\"data row3 col1\" >0.602706</td>\n",
       "      <td id=\"T_de553_row3_col2\" class=\"data row3 col2\" >False</td>\n",
       "      <td id=\"T_de553_row3_col3\" class=\"data row3 col3\" >0.528886</td>\n",
       "    </tr>\n",
       "    <tr>\n",
       "      <th id=\"T_de553_level0_row4\" class=\"row_heading level0 row4\" >panss_total</th>\n",
       "      <td id=\"T_de553_row4_col0\" class=\"data row4 col0\" >-0.735628</td>\n",
       "      <td id=\"T_de553_row4_col1\" class=\"data row4 col1\" >0.470497</td>\n",
       "      <td id=\"T_de553_row4_col2\" class=\"data row4 col2\" >False</td>\n",
       "      <td id=\"T_de553_row4_col3\" class=\"data row4 col3\" >0.735628</td>\n",
       "    </tr>\n",
       "    <tr>\n",
       "      <th id=\"T_de553_level0_row5\" class=\"row_heading level0 row5\" >panss_neg</th>\n",
       "      <td id=\"T_de553_row5_col0\" class=\"data row5 col0\" >-0.628695</td>\n",
       "      <td id=\"T_de553_row5_col1\" class=\"data row5 col1\" >0.536664</td>\n",
       "      <td id=\"T_de553_row5_col2\" class=\"data row5 col2\" >False</td>\n",
       "      <td id=\"T_de553_row5_col3\" class=\"data row5 col3\" >0.628695</td>\n",
       "    </tr>\n",
       "    <tr>\n",
       "      <th id=\"T_de553_level0_row6\" class=\"row_heading level0 row6\" >panss_pos</th>\n",
       "      <td id=\"T_de553_row6_col0\" class=\"data row6 col0\" >-0.541530</td>\n",
       "      <td id=\"T_de553_row6_col1\" class=\"data row6 col1\" >0.594124</td>\n",
       "      <td id=\"T_de553_row6_col2\" class=\"data row6 col2\" >False</td>\n",
       "      <td id=\"T_de553_row6_col3\" class=\"data row6 col3\" >0.541530</td>\n",
       "    </tr>\n",
       "    <tr>\n",
       "      <th id=\"T_de553_level0_row7\" class=\"row_heading level0 row7\" >panss_o</th>\n",
       "      <td id=\"T_de553_row7_col0\" class=\"data row7 col0\" >-0.490038</td>\n",
       "      <td id=\"T_de553_row7_col1\" class=\"data row7 col1\" >0.629439</td>\n",
       "      <td id=\"T_de553_row7_col2\" class=\"data row7 col2\" >False</td>\n",
       "      <td id=\"T_de553_row7_col3\" class=\"data row7 col3\" >0.490038</td>\n",
       "    </tr>\n",
       "  </tbody>\n",
       "</table>\n"
      ],
      "text/plain": [
       "<pandas.io.formats.style.Styler at 0x7fb0893d1970>"
      ]
     },
     "execution_count": 95,
     "metadata": {},
     "output_type": "execute_result"
    }
   ],
   "source": [
    "s_t_sex, res_t_sex = display_group_test(control_psy, numeric_target, 'sex', stats.ttest_ind, stat_name='t', alpha=a)\n",
    "style(res_t_sex)"
   ]
  },
  {
   "cell_type": "code",
   "execution_count": 96,
   "id": "6cdc3d71",
   "metadata": {},
   "outputs": [
    {
     "data": {
      "text/html": [
       "<style type=\"text/css\">\n",
       "#T_32c8e_row0_col0 {\n",
       "  background-color: #cbdef1;\n",
       "  color: #000000;\n",
       "}\n",
       "#T_32c8e_row0_col1 {\n",
       "  background-color: #a9cfe5;\n",
       "  color: #000000;\n",
       "}\n",
       "#T_32c8e_row0_col3 {\n",
       "  background-color: #7cb7da;\n",
       "  color: #000000;\n",
       "}\n",
       "#T_32c8e_row1_col0, #T_32c8e_row1_col1, #T_32c8e_row7_col3 {\n",
       "  background-color: #f7fbff;\n",
       "  color: #000000;\n",
       "}\n",
       "#T_32c8e_row1_col3, #T_32c8e_row3_col0, #T_32c8e_row7_col1 {\n",
       "  background-color: #08306b;\n",
       "  color: #f1f1f1;\n",
       "}\n",
       "#T_32c8e_row2_col0 {\n",
       "  background-color: #3282be;\n",
       "  color: #f1f1f1;\n",
       "}\n",
       "#T_32c8e_row2_col1 {\n",
       "  background-color: #1663aa;\n",
       "  color: #f1f1f1;\n",
       "}\n",
       "#T_32c8e_row2_col3 {\n",
       "  background-color: #e0ecf8;\n",
       "  color: #000000;\n",
       "}\n",
       "#T_32c8e_row3_col1, #T_32c8e_row5_col3 {\n",
       "  background-color: #eef5fc;\n",
       "  color: #000000;\n",
       "}\n",
       "#T_32c8e_row3_col3 {\n",
       "  background-color: #09529d;\n",
       "  color: #f1f1f1;\n",
       "}\n",
       "#T_32c8e_row4_col0 {\n",
       "  background-color: #3d8dc4;\n",
       "  color: #f1f1f1;\n",
       "}\n",
       "#T_32c8e_row4_col1 {\n",
       "  background-color: #08326e;\n",
       "  color: #f1f1f1;\n",
       "}\n",
       "#T_32c8e_row4_col3 {\n",
       "  background-color: #f6faff;\n",
       "  color: #000000;\n",
       "}\n",
       "#T_32c8e_row5_col0 {\n",
       "  background-color: #3888c1;\n",
       "  color: #f1f1f1;\n",
       "}\n",
       "#T_32c8e_row5_col1 {\n",
       "  background-color: #08478d;\n",
       "  color: #f1f1f1;\n",
       "}\n",
       "#T_32c8e_row6_col0 {\n",
       "  background-color: #08519c;\n",
       "  color: #f1f1f1;\n",
       "}\n",
       "#T_32c8e_row6_col1 {\n",
       "  background-color: #c7dcef;\n",
       "  color: #000000;\n",
       "}\n",
       "#T_32c8e_row6_col3 {\n",
       "  background-color: #56a0ce;\n",
       "  color: #f1f1f1;\n",
       "}\n",
       "#T_32c8e_row7_col0 {\n",
       "  background-color: #8dc1dd;\n",
       "  color: #000000;\n",
       "}\n",
       "</style>\n",
       "<table id=\"T_32c8e\">\n",
       "  <thead>\n",
       "    <tr>\n",
       "      <th class=\"blank level0\" >&nbsp;</th>\n",
       "      <th id=\"T_32c8e_level0_col0\" class=\"col_heading level0 col0\" >t</th>\n",
       "      <th id=\"T_32c8e_level0_col1\" class=\"col_heading level0 col1\" >p</th>\n",
       "      <th id=\"T_32c8e_level0_col2\" class=\"col_heading level0 col2\" >sig</th>\n",
       "      <th id=\"T_32c8e_level0_col3\" class=\"col_heading level0 col3\" >abs_t</th>\n",
       "    </tr>\n",
       "  </thead>\n",
       "  <tbody>\n",
       "    <tr>\n",
       "      <th id=\"T_32c8e_level0_row0\" class=\"row_heading level0 row0\" >education.years</th>\n",
       "      <td id=\"T_32c8e_row0_col0\" class=\"data row0 col0\" >-1.122772</td>\n",
       "      <td id=\"T_32c8e_row0_col1\" class=\"data row0 col1\" >0.270744</td>\n",
       "      <td id=\"T_32c8e_row0_col2\" class=\"data row0 col2\" >False</td>\n",
       "      <td id=\"T_32c8e_row0_col3\" class=\"data row0 col3\" >1.122772</td>\n",
       "    </tr>\n",
       "    <tr>\n",
       "      <th id=\"T_32c8e_level0_row1\" class=\"row_heading level0 row1\" >dep.severity</th>\n",
       "      <td id=\"T_32c8e_row1_col0\" class=\"data row1 col0\" >-1.954622</td>\n",
       "      <td id=\"T_32c8e_row1_col1\" class=\"data row1 col1\" >0.060329</td>\n",
       "      <td id=\"T_32c8e_row1_col2\" class=\"data row1 col2\" >False</td>\n",
       "      <td id=\"T_32c8e_row1_col3\" class=\"data row1 col3\" >1.954622</td>\n",
       "    </tr>\n",
       "    <tr>\n",
       "      <th id=\"T_32c8e_level0_row2\" class=\"row_heading level0 row2\" >td.severity</th>\n",
       "      <td id=\"T_32c8e_row2_col0\" class=\"data row2 col0\" >0.592289</td>\n",
       "      <td id=\"T_32c8e_row2_col1\" class=\"data row2 col1\" >0.558247</td>\n",
       "      <td id=\"T_32c8e_row2_col2\" class=\"data row2 col2\" >False</td>\n",
       "      <td id=\"T_32c8e_row2_col3\" class=\"data row2 col3\" >0.592289</td>\n",
       "    </tr>\n",
       "    <tr>\n",
       "      <th id=\"T_32c8e_level0_row3\" class=\"row_heading level0 row3\" >panss_td</th>\n",
       "      <td id=\"T_32c8e_row3_col0\" class=\"data row3 col0\" >1.753714</td>\n",
       "      <td id=\"T_32c8e_row3_col1\" class=\"data row3 col1\" >0.090826</td>\n",
       "      <td id=\"T_32c8e_row3_col2\" class=\"data row3 col2\" >False</td>\n",
       "      <td id=\"T_32c8e_row3_col3\" class=\"data row3 col3\" >1.753714</td>\n",
       "    </tr>\n",
       "    <tr>\n",
       "      <th id=\"T_32c8e_level0_row4\" class=\"row_heading level0 row4\" >panss_total</th>\n",
       "      <td id=\"T_32c8e_row4_col0\" class=\"data row4 col0\" >0.426912</td>\n",
       "      <td id=\"T_32c8e_row4_col1\" class=\"data row4 col1\" >0.672829</td>\n",
       "      <td id=\"T_32c8e_row4_col2\" class=\"data row4 col2\" >False</td>\n",
       "      <td id=\"T_32c8e_row4_col3\" class=\"data row4 col3\" >0.426912</td>\n",
       "    </tr>\n",
       "    <tr>\n",
       "      <th id=\"T_32c8e_level0_row5\" class=\"row_heading level0 row5\" >panss_neg</th>\n",
       "      <td id=\"T_32c8e_row5_col0\" class=\"data row5 col0\" >0.495589</td>\n",
       "      <td id=\"T_32c8e_row5_col1\" class=\"data row5 col1\" >0.624194</td>\n",
       "      <td id=\"T_32c8e_row5_col2\" class=\"data row5 col2\" >False</td>\n",
       "      <td id=\"T_32c8e_row5_col3\" class=\"data row5 col3\" >0.495589</td>\n",
       "    </tr>\n",
       "    <tr>\n",
       "      <th id=\"T_32c8e_level0_row6\" class=\"row_heading level0 row6\" >panss_pos</th>\n",
       "      <td id=\"T_32c8e_row6_col0\" class=\"data row6 col0\" >1.282777</td>\n",
       "      <td id=\"T_32c8e_row6_col1\" class=\"data row6 col1\" >0.210473</td>\n",
       "      <td id=\"T_32c8e_row6_col2\" class=\"data row6 col2\" >False</td>\n",
       "      <td id=\"T_32c8e_row6_col3\" class=\"data row6 col3\" >1.282777</td>\n",
       "    </tr>\n",
       "    <tr>\n",
       "      <th id=\"T_32c8e_level0_row7\" class=\"row_heading level0 row7\" >panss_o</th>\n",
       "      <td id=\"T_32c8e_row7_col0\" class=\"data row7 col0\" >-0.418000</td>\n",
       "      <td id=\"T_32c8e_row7_col1\" class=\"data row7 col1\" >0.679253</td>\n",
       "      <td id=\"T_32c8e_row7_col2\" class=\"data row7 col2\" >False</td>\n",
       "      <td id=\"T_32c8e_row7_col3\" class=\"data row7 col3\" >0.418000</td>\n",
       "    </tr>\n",
       "  </tbody>\n",
       "</table>\n"
      ],
      "text/plain": [
       "<pandas.io.formats.style.Styler at 0x7fb0a5970f10>"
      ]
     },
     "execution_count": 96,
     "metadata": {},
     "output_type": "execute_result"
    }
   ],
   "source": [
    "s_t_sex, res_t_sex = display_group_test(sz, numeric_target, 'sex', stats.ttest_ind, stat_name='t', alpha=a)\n",
    "style(res_t_sex)"
   ]
  },
  {
   "cell_type": "markdown",
   "id": "2ae688c6",
   "metadata": {},
   "source": [
    "### correlation between target variables"
   ]
  },
  {
   "cell_type": "code",
   "execution_count": 97,
   "id": "e1f827d4",
   "metadata": {},
   "outputs": [
    {
     "data": {
      "text/html": [
       "<div>\n",
       "<style scoped>\n",
       "    .dataframe tbody tr th:only-of-type {\n",
       "        vertical-align: middle;\n",
       "    }\n",
       "\n",
       "    .dataframe tbody tr th {\n",
       "        vertical-align: top;\n",
       "    }\n",
       "\n",
       "    .dataframe thead th {\n",
       "        text-align: right;\n",
       "    }\n",
       "</style>\n",
       "<table border=\"1\" class=\"dataframe\">\n",
       "  <thead>\n",
       "    <tr style=\"text-align: right;\">\n",
       "      <th></th>\n",
       "      <th>r</th>\n",
       "      <th>p</th>\n",
       "      <th>sig</th>\n",
       "      <th>abs_r</th>\n",
       "    </tr>\n",
       "  </thead>\n",
       "  <tbody>\n",
       "    <tr>\n",
       "      <th>education.years</th>\n",
       "      <td>0.468966</td>\n",
       "      <td>0.0</td>\n",
       "      <td>True</td>\n",
       "      <td>0.468966</td>\n",
       "    </tr>\n",
       "    <tr>\n",
       "      <th>panss_neg</th>\n",
       "      <td>0.383708</td>\n",
       "      <td>0.001749</td>\n",
       "      <td>True</td>\n",
       "      <td>0.383708</td>\n",
       "    </tr>\n",
       "  </tbody>\n",
       "</table>\n",
       "</div>"
      ],
      "text/plain": [
       "                        r         p   sig     abs_r\n",
       "education.years  0.468966       0.0  True  0.468966\n",
       "panss_neg        0.383708  0.001749  True  0.383708"
      ]
     },
     "execution_count": 97,
     "metadata": {},
     "output_type": "execute_result"
    }
   ],
   "source": [
    "x, y = display_test(df, numeric_target, 'age', stats.pearsonr, stat_name='r', alpha=a)\n",
    "y[y['abs_r']> 0.3].sort_values('abs_r', ascending=False)"
   ]
  },
  {
   "cell_type": "code",
   "execution_count": 98,
   "id": "bd120369",
   "metadata": {},
   "outputs": [
    {
     "data": {
      "text/html": [
       "<div>\n",
       "<style scoped>\n",
       "    .dataframe tbody tr th:only-of-type {\n",
       "        vertical-align: middle;\n",
       "    }\n",
       "\n",
       "    .dataframe tbody tr th {\n",
       "        vertical-align: top;\n",
       "    }\n",
       "\n",
       "    .dataframe thead th {\n",
       "        text-align: right;\n",
       "    }\n",
       "</style>\n",
       "<table border=\"1\" class=\"dataframe\">\n",
       "  <thead>\n",
       "    <tr style=\"text-align: right;\">\n",
       "      <th></th>\n",
       "      <th>r</th>\n",
       "      <th>p</th>\n",
       "      <th>sig</th>\n",
       "      <th>abs_r</th>\n",
       "    </tr>\n",
       "  </thead>\n",
       "  <tbody>\n",
       "    <tr>\n",
       "      <th>panss_o</th>\n",
       "      <td>-0.407709</td>\n",
       "      <td>0.000826</td>\n",
       "      <td>True</td>\n",
       "      <td>0.407709</td>\n",
       "    </tr>\n",
       "    <tr>\n",
       "      <th>dep.severity</th>\n",
       "      <td>-0.331386</td>\n",
       "      <td>0.002852</td>\n",
       "      <td>True</td>\n",
       "      <td>0.331386</td>\n",
       "    </tr>\n",
       "  </tbody>\n",
       "</table>\n",
       "</div>"
      ],
      "text/plain": [
       "                     r         p   sig     abs_r\n",
       "panss_o      -0.407709  0.000826  True  0.407709\n",
       "dep.severity -0.331386  0.002852  True  0.331386"
      ]
     },
     "execution_count": 98,
     "metadata": {},
     "output_type": "execute_result"
    }
   ],
   "source": [
    "x, y = display_test(df, numeric_target, 'education.years', stats.pearsonr, stat_name='r', alpha=a)\n",
    "y[y['abs_r']> 0.3].sort_values('abs_r', ascending=False)"
   ]
  },
  {
   "cell_type": "code",
   "execution_count": 99,
   "id": "7d820b1a",
   "metadata": {},
   "outputs": [],
   "source": [
    "# target_corr_res = show_corrtest_mask_corr(df[numeric_target])"
   ]
  },
  {
   "cell_type": "markdown",
   "id": "f0b13488",
   "metadata": {},
   "source": [
    "## scores"
   ]
  },
  {
   "cell_type": "code",
   "execution_count": 100,
   "id": "dd448843",
   "metadata": {},
   "outputs": [],
   "source": [
    "fig, axes = plt.subplots(3, 3, figsize=(15, 10))\n",
    "fig.suptitle('PANSS score distribution')\n",
    "\n",
    "sns.histplot(sz['panss_total'], ax=axes[0, 0], binwidth=5)\n",
    "axes[0, 0].set_xlim(30, 95)\n",
    "sns.histplot(dep['panss_total'], ax=axes[1, 0], binwidth=5)\n",
    "axes[1, 0].set_xlim(30, 95)\n",
    "sns.histplot(control_psy['panss_total'], ax=axes[2, 0], binwidth=5)\n",
    "axes[2, 0].set_xlim(30, 95)\n",
    "sns.histplot(sz['panss_neg'], ax=axes[0, 1], binwidth=2)\n",
    "axes[0, 1].set_xlim(7, 45)\n",
    "sns.histplot(dep['panss_neg'], ax=axes[1, 1], binwidth=2)\n",
    "axes[1, 1].set_xlim(7, 45)\n",
    "sns.histplot(control_psy['panss_neg'], ax=axes[2, 1], binwidth=2)\n",
    "axes[2, 1].set_xlim(7, 45)\n",
    "sns.histplot(sz['panss_pos'], ax=axes[0, 2], binwidth=2)\n",
    "axes[0, 2].set_xlim(7, 30)\n",
    "sns.histplot(dep['panss_pos'], ax=axes[1, 2], binwidth=2)\n",
    "axes[1, 2].set_xlim(7, 30)\n",
    "sns.histplot(control_psy['panss_pos'], ax=axes[2, 2], binwidth=2)\n",
    "axes[2, 2].set_xlim(7, 30)\n",
    "\n",
    "for ax, col in zip(axes[0], ('total', 'positive', 'negative')):\n",
    "    ax.set_title(col)\n",
    "\n",
    "for ax, row in zip(axes[:,0], ('NAP', 'Dep', 'HC')):\n",
    "    ax.set_ylabel(row, rotation=0, size='large')\n",
    "plt.close(fig)"
   ]
  },
  {
   "cell_type": "code",
   "execution_count": 101,
   "id": "1b743c16",
   "metadata": {},
   "outputs": [],
   "source": [
    "fig, axes = plt.subplots(2, 2, figsize=(12, 8))\n",
    "fig.suptitle('severity')\n",
    "\n",
    "\n",
    "sns.histplot(sz['dep.severity'], ax=axes[0, 0])\n",
    "sns.histplot(dep['dep.severity'], ax=axes[1, 0])\n",
    "sns.histplot(sz['td.severity'], ax=axes[0, 1])\n",
    "sns.histplot(dep['td.severity'], ax=axes[1, 1])\n",
    "axes[1, 1].set_xlim(0, 3)\n",
    "\n",
    "for ax, col in zip(axes[0], ('Dep', 'TD')):\n",
    "    ax.set_title(col)\n",
    "\n",
    "for ax, row in zip(axes[:,0], ('NAP', 'Dep')):\n",
    "    ax.set_ylabel(row, rotation=0, size='large')\n",
    "plt.close(fig)"
   ]
  },
  {
   "cell_type": "markdown",
   "id": "ec7ccfe5",
   "metadata": {},
   "source": [
    "### merge psychoscial data to scores"
   ]
  },
  {
   "cell_type": "code",
   "execution_count": 102,
   "id": "669d4fd8",
   "metadata": {},
   "outputs": [],
   "source": [
    "merge_df = res_df.copy()\n",
    "for col in target_cols + panss_cols:\n",
    "    merge_df[('target', 'target', col)] = df[col]"
   ]
  },
  {
   "cell_type": "code",
   "execution_count": 103,
   "id": "c7c95ac1",
   "metadata": {},
   "outputs": [],
   "source": [
    "cols_tasks = res_df['sportsman'].columns\n",
    "cols_LM = [col for col in res_df['sportsman'] if col[0] == 'LM']\n",
    "cols_synt = [col for col in res_df['sportsman'] if col[0] == 'syntactic']\n",
    "cols_lex = [col for col in res_df['sportsman'] if col[0] == 'lexical']\n",
    "cols_graph = [col for col in res_df['sportsman'] if col[0] == 'graph']"
   ]
  },
  {
   "cell_type": "code",
   "execution_count": 104,
   "id": "00cf5ed5",
   "metadata": {},
   "outputs": [
    {
     "data": {
      "text/plain": [
       "{'ADP', 'INTJ', 'NUM', 'PUNCT', 'SPACE', 'X'}"
      ]
     },
     "execution_count": 104,
     "metadata": {},
     "output_type": "execute_result"
    }
   ],
   "source": [
    "POS_to_use = ('ADJ', 'ADV', 'AUX', 'CCONJ', 'DET','NOUN', 'PRON', 'PROPN', 'SCONJ', 'VERB', 'PART')\n",
    "pos = set([x[1] for x in cols_synt if x[1].isupper()])\n",
    "\n",
    "pos.difference(set(('ADJ', 'ADV', 'AUX', 'CCONJ', 'DET','NOUN', 'PRON', 'PROPN', 'SCONJ', 'VERB', 'PART')))"
   ]
  },
  {
   "cell_type": "code",
   "execution_count": 105,
   "id": "4e0bbe72",
   "metadata": {},
   "outputs": [],
   "source": [
    "pos_cols_to_drop = [(task, c[0], c[1]) for task in TASKS for c in cols_synt if c[1].isupper() and c[1] not in POS_to_use and (task, c[0], c[1]) in merge_df.columns]"
   ]
  },
  {
   "cell_type": "code",
   "execution_count": 106,
   "id": "c55f40f4",
   "metadata": {},
   "outputs": [],
   "source": [
    "merge_df.drop(columns=pos_cols_to_drop, inplace=True)"
   ]
  },
  {
   "cell_type": "code",
   "execution_count": 107,
   "id": "bc48853d",
   "metadata": {},
   "outputs": [],
   "source": [
    "cols_synt = [col for col in merge_df['chair'] if col[0] == 'syntactic']\n",
    "cols_tasks = cols_synt + cols_LM + cols_lex + cols_graph"
   ]
  },
  {
   "cell_type": "code",
   "execution_count": 108,
   "id": "1969b89c",
   "metadata": {},
   "outputs": [],
   "source": [
    "def corr(df, target):\n",
    "    return df[~pd.isnull(df[target])].corr()[target]"
   ]
  },
  {
   "cell_type": "code",
   "execution_count": 109,
   "id": "e1ef1c80",
   "metadata": {},
   "outputs": [],
   "source": [
    "def corr_thresh(df, target, thresh=0.3, drop_target=True):\n",
    "    corr_tgt = corr(df, target)\n",
    "    if drop_target:\n",
    "        corr_tgt.drop('target', inplace=True)\n",
    "    return corr_tgt[abs(corr_tgt) >= thresh]"
   ]
  },
  {
   "cell_type": "code",
   "execution_count": 110,
   "id": "e6acd08e",
   "metadata": {},
   "outputs": [],
   "source": [
    "def ttest(df, test_columns, group):\n",
    "    s_t, res_t = display_group_test(df, test_columns, group, stats.ttest_ind, stat_name='t', alpha=a)\n",
    "    return res_t[['t', 'p']]"
   ]
  },
  {
   "cell_type": "markdown",
   "id": "d5f65ead",
   "metadata": {},
   "source": [
    "### analyze sent len n sents n words"
   ]
  },
  {
   "cell_type": "code",
   "execution_count": 111,
   "id": "0650d63d",
   "metadata": {},
   "outputs": [],
   "source": [
    "c_map = {'control': 0, 'control_psy': 1, 'dep': 2, 'sz': 3}"
   ]
  },
  {
   "cell_type": "code",
   "execution_count": 112,
   "id": "854bad22",
   "metadata": {},
   "outputs": [
    {
     "name": "stdout",
     "output_type": "stream",
     "text": [
      "adventure\n",
      "\t ('lexical', 'n_words') 129.8 (82.1)\n",
      "\t ('syntactic', 'n_sents') 18.7 (11.0)\n",
      "\t\t ('syntactic', 'n_sents') 0.93\n",
      "\t ('syntactic', 'mean_sent_len') 6.9 (1.5)\n",
      "\t\t ('syntactic', 'mean_sent_len') 0.36\n",
      "chair\n",
      "\t ('lexical', 'n_words') 168.4 (120.9)\n",
      "\t ('syntactic', 'n_sents') 20.4 (15.0)\n",
      "\t\t ('syntactic', 'n_sents') 0.95\n",
      "\t ('syntactic', 'mean_sent_len') 8.1 (1.6)\n",
      "\t\t ('syntactic', 'mean_sent_len') 0.38\n",
      "present\n",
      "\t ('lexical', 'n_words') 140.8 (107.7)\n",
      "\t ('syntactic', 'n_sents') 15.1 (12.7)\n",
      "\t\t ('syntactic', 'n_sents') 0.95\n",
      "\t ('syntactic', 'mean_sent_len') 9.9 (4.7)\n",
      "\t\t ('syntactic', 'mean_sent_len') 0.08\n",
      "sportsman\n",
      "\t ('lexical', 'n_words') 134.4 (86.0)\n",
      "\t ('syntactic', 'n_sents') 17.7 (10.1)\n",
      "\t\t ('syntactic', 'n_sents') 0.93\n",
      "\t ('syntactic', 'mean_sent_len') 7.8 (2.2)\n",
      "\t\t ('syntactic', 'mean_sent_len') 0.11\n"
     ]
    }
   ],
   "source": [
    "for task in TASKS:\n",
    "    print(task)\n",
    "    for col in [('lexical', 'n_words'), ('syntactic', 'n_sents'), ('syntactic', 'mean_sent_len')]:\n",
    "        tdf = task_data(merge_df, task, keep_target=True)\n",
    "        tdf = tdf[tdf['target']['diagnosis.type'] != 'control']\n",
    "        print('\\t', col, f'{tdf[col].mean().round(1)} ({tdf[col].std().round(1)})')\n",
    "        if col != ('lexical', 'n_words'):\n",
    "            r = stats.pearsonr(tdf[col], tdf[('lexical', 'n_words')]).statistic\n",
    "            print('\\t\\t', col, r.round(2))"
   ]
  },
  {
   "cell_type": "code",
   "execution_count": 113,
   "id": "3d39f816",
   "metadata": {},
   "outputs": [],
   "source": [
    "def plot_scatter_corr(x, y, x_name, y_name, ax, title=None, c=None, \n",
    "                      cmap_colors=('steelblue', 'mediumseagreen', 'gold'), #'indigo', \n",
    "                      classes=('control_psy', 'dep', 'NAP'),\n",
    "                         xlim=None, ylim=None): #'control',\n",
    "    r = stats.pearsonr(x, y).statistic\n",
    "    X = sm.add_constant(x)\n",
    "    model = sm.OLS(y, X).fit()\n",
    "    ypred = model.predict(X)\n",
    "    if xlim:\n",
    "        ax.set_xlim(*xlim)\n",
    "    if ylim:\n",
    "        ax.set_ylim(*ylim)\n",
    "\n",
    "#     ax.plot(x, ypred, color='red', label=f'coef: {model.params[1]:.2f} \\ncorr: {r:.2f}')\n",
    "    ax.axline((x[0], ypred[0]), (x[1], ypred[1]),  color='red') #slope=r,\n",
    "\n",
    "    \n",
    "    if c is not None:\n",
    "        cmap = ListedColormap(cmap_colors)\n",
    "        scatter = ax.scatter(x, y, c=c, cmap=cmap)\n",
    "        ax.legend(handles=scatter.legend_elements()[0], labels=classes)\n",
    "    else:\n",
    "        scatter = ax.scatter(x, y)\n",
    "    ax.set_xlabel(x_name)\n",
    "    ax.set_ylabel(y_name)"
   ]
  },
  {
   "cell_type": "code",
   "execution_count": 114,
   "id": "baa1e2a2",
   "metadata": {},
   "outputs": [],
   "source": [
    "def plot_task(df, task, axes, xlims=(None, None), ylims=(None, None), xmin=(0, 4), ymins=(0, 0), force_no_xnames=False):\n",
    "    tdf = task_data(df, task, keep_target=True)\n",
    "    tdf = tdf[tdf['target']['diagnosis.type'] != 'control']\n",
    "    c = [c_map[label] for label in tdf['target']['diagnosis.type']]\n",
    "    x_name= '' if force_no_xnames else 'n_sents'\n",
    "    plot_scatter_corr(tdf[('syntactic', 'n_sents')], tdf[('lexical', 'n_words')],\n",
    "                     x_name=x_name, y_name='n_words', ax=axes[0], c=c, \n",
    "                      xlim=(xmin[0], xlims[0]), ylim=(ymins[0], ylims[0]))\n",
    "    x_name= '' if force_no_xnames else 'mean_sent_len'\n",
    "    plot_scatter_corr(tdf[('syntactic', 'mean_sent_len')], tdf[('lexical', 'n_words')],\n",
    "                     x_name=x_name, y_name='', ax=axes[1], c=c, \n",
    "                      xlim=(xmin[1], xlims[1]), ylim=(ymins[1], ylims[1]))"
   ]
  },
  {
   "cell_type": "code",
   "execution_count": 115,
   "id": "0f2cd001",
   "metadata": {},
   "outputs": [],
   "source": [
    "fig = plt.figure(constrained_layout=True, figsize=(10, 20))\n",
    "fig.suptitle('number of words against number of sentences and mean sentence length')\n",
    "\n",
    "# create 4x1 subfigs\n",
    "subfigs = fig.subfigures(nrows=4, ncols=1)\n",
    "for i, subfig in enumerate(subfigs):\n",
    "    task = TASKS[i]\n",
    "    subfig.supylabel(f'{task} task')\n",
    "    # create 1x2 subplots per subfig\n",
    "    axs = subfig.subplots(nrows=1, ncols=2, sharey=True)\n",
    "    plot_task(merge_df, task, axs, xlims=(100, 40), ylims=(800, 800), force_no_xnames=i < 3)\n",
    "plt.savefig(f'{PATH_FIG}_n_words_n_sents.png', dpi=150, bbox_inches = 'tight')\n",
    "plt.close(fig)"
   ]
  },
  {
   "cell_type": "markdown",
   "id": "6adb8735",
   "metadata": {},
   "source": [
    "### psychosocial variables vs metrics"
   ]
  },
  {
   "cell_type": "code",
   "execution_count": 116,
   "id": "161ff333",
   "metadata": {},
   "outputs": [],
   "source": [
    "def test_corr_sig(df, cols, target_col, mult=len(TASKS)):\n",
    "    s, t = display_test(df, cols, target_col, stats.pearsonr, stat_name='r')\n",
    "    t['p'] = t['p'] * (len(t) * mult)\n",
    "    t['corr_sig'] = t['p'] < 0.05\n",
    "    t['p'] = t['p'] / (len(t) * mult)\n",
    "    t.drop(columns=['sig'], inplace=True)\n",
    "    return t.sort_values([f'abs_r', 'p'], ascending=False)"
   ]
  },
  {
   "cell_type": "code",
   "execution_count": 117,
   "id": "0b9bc87b",
   "metadata": {},
   "outputs": [],
   "source": [
    "tgt_tsk = [('target', c) for c in ('panss_total', 'panss_neg', 'panss_pos', 'panss_o', 'dep.severity', 'td.severity', 'age', 'education.years')]"
   ]
  },
  {
   "cell_type": "code",
   "execution_count": 118,
   "id": "2f5b5c87",
   "metadata": {},
   "outputs": [
    {
     "name": "stdout",
     "output_type": "stream",
     "text": [
      "adventure\n",
      "chair\n",
      "present\n",
      "sportsman\n"
     ]
    }
   ],
   "source": [
    "for task in TASKS:\n",
    "    print(task)\n",
    "    tres = test_corr_sig(task_data(merge_df, task), tgt_tsk, ('syntactic', 'mean_sent_len'))\n",
    "    tr = tres[tres['corr_sig'] == True]\n",
    "    if len(tr) > 0:\n",
    "        print(tr)"
   ]
  },
  {
   "cell_type": "code",
   "execution_count": 119,
   "id": "159d7297",
   "metadata": {},
   "outputs": [
    {
     "name": "stdout",
     "output_type": "stream",
     "text": [
      "adventure\n",
      "chair\n",
      "present\n",
      "sportsman\n"
     ]
    }
   ],
   "source": [
    "for task in TASKS:\n",
    "    print(task)\n",
    "    tres = test_corr_sig(task_data(merge_df, task), cols_tasks, ('target', 'age'))\n",
    "    tr = tres[tres['corr_sig'] == True]\n",
    "    if len(tr) > 0:\n",
    "        print(tr)"
   ]
  },
  {
   "cell_type": "code",
   "execution_count": 120,
   "id": "134cf88a",
   "metadata": {},
   "outputs": [
    {
     "name": "stdout",
     "output_type": "stream",
     "text": [
      "adventure\n",
      "chair\n",
      "present\n",
      "sportsman\n"
     ]
    }
   ],
   "source": [
    "for task in TASKS:\n",
    "    print(task)\n",
    "    tres = test_corr_sig(task_data(merge_df, task), cols_tasks, ('target', 'education.years'))\n",
    "    tr = tres[tres['corr_sig'] == True]\n",
    "    if len(tr) > 0:\n",
    "        print(tr)"
   ]
  },
  {
   "cell_type": "code",
   "execution_count": 121,
   "id": "a0bc012e",
   "metadata": {},
   "outputs": [
    {
     "data": {
      "text/html": [
       "<style type=\"text/css\">\n",
       "#T_5c551_row0_col0, #T_5c551_row0_col2, #T_5c551_row0_col3, #T_5c551_row1_col0, #T_5c551_row1_col2, #T_5c551_row1_col3, #T_5c551_row2_col0, #T_5c551_row2_col2, #T_5c551_row2_col3, #T_5c551_row3_col0, #T_5c551_row3_col1, #T_5c551_row3_col3, #T_5c551_row4_col0, #T_5c551_row4_col1, #T_5c551_row4_col3, #T_5c551_row5_col0, #T_5c551_row5_col1, #T_5c551_row5_col3, #T_5c551_row6_col0, #T_5c551_row6_col2, #T_5c551_row6_col3, #T_5c551_row7_col0, #T_5c551_row7_col2, #T_5c551_row7_col3 {\n",
       "  background-color: #000000;\n",
       "  color: #f1f1f1;\n",
       "  color: white;\n",
       "  background-color: white;\n",
       "}\n",
       "#T_5c551_row0_col1, #T_5c551_row3_col2 {\n",
       "  background-color: #f7fbff;\n",
       "  color: #000000;\n",
       "}\n",
       "#T_5c551_row1_col1 {\n",
       "  background-color: #f2f7fd;\n",
       "  color: #000000;\n",
       "}\n",
       "#T_5c551_row2_col1 {\n",
       "  background-color: #e0ecf8;\n",
       "  color: #000000;\n",
       "}\n",
       "#T_5c551_row4_col2, #T_5c551_row6_col1 {\n",
       "  background-color: #08306b;\n",
       "  color: #f1f1f1;\n",
       "}\n",
       "#T_5c551_row5_col2 {\n",
       "  background-color: #3989c1;\n",
       "  color: #f1f1f1;\n",
       "}\n",
       "#T_5c551_row7_col1 {\n",
       "  background-color: #083a7a;\n",
       "  color: #f1f1f1;\n",
       "}\n",
       "</style>\n",
       "<table id=\"T_5c551\">\n",
       "  <thead>\n",
       "    <tr>\n",
       "      <th class=\"blank\" >&nbsp;</th>\n",
       "      <th class=\"blank level0\" >&nbsp;</th>\n",
       "      <th id=\"T_5c551_level0_col0\" class=\"col_heading level0 col0\" >adventure</th>\n",
       "      <th id=\"T_5c551_level0_col1\" class=\"col_heading level0 col1\" >chair</th>\n",
       "      <th id=\"T_5c551_level0_col2\" class=\"col_heading level0 col2\" >present</th>\n",
       "      <th id=\"T_5c551_level0_col3\" class=\"col_heading level0 col3\" >sportsman</th>\n",
       "    </tr>\n",
       "  </thead>\n",
       "  <tbody>\n",
       "    <tr>\n",
       "      <th id=\"T_5c551_level0_row0\" class=\"row_heading level0 row0\" rowspan=\"6\">LM</th>\n",
       "      <th id=\"T_5c551_level1_row0\" class=\"row_heading level1 row0\" >bert_cgcoh</th>\n",
       "      <td id=\"T_5c551_row0_col0\" class=\"data row0 col0\" >nan</td>\n",
       "      <td id=\"T_5c551_row0_col1\" class=\"data row0 col1\" >-0.407323</td>\n",
       "      <td id=\"T_5c551_row0_col2\" class=\"data row0 col2\" >nan</td>\n",
       "      <td id=\"T_5c551_row0_col3\" class=\"data row0 col3\" >nan</td>\n",
       "    </tr>\n",
       "    <tr>\n",
       "      <th id=\"T_5c551_level1_row1\" class=\"row_heading level1 row1\" >bert_gcoh</th>\n",
       "      <td id=\"T_5c551_row1_col0\" class=\"data row1 col0\" >nan</td>\n",
       "      <td id=\"T_5c551_row1_col1\" class=\"data row1 col1\" >-0.385317</td>\n",
       "      <td id=\"T_5c551_row1_col2\" class=\"data row1 col2\" >nan</td>\n",
       "      <td id=\"T_5c551_row1_col3\" class=\"data row1 col3\" >nan</td>\n",
       "    </tr>\n",
       "    <tr>\n",
       "      <th id=\"T_5c551_level1_row2\" class=\"row_heading level1 row2\" >bert_scoh</th>\n",
       "      <td id=\"T_5c551_row2_col0\" class=\"data row2 col0\" >nan</td>\n",
       "      <td id=\"T_5c551_row2_col1\" class=\"data row2 col1\" >-0.320421</td>\n",
       "      <td id=\"T_5c551_row2_col2\" class=\"data row2 col2\" >nan</td>\n",
       "      <td id=\"T_5c551_row2_col3\" class=\"data row2 col3\" >nan</td>\n",
       "    </tr>\n",
       "    <tr>\n",
       "      <th id=\"T_5c551_level1_row3\" class=\"row_heading level1 row3\" >glove_avg_cgcoh</th>\n",
       "      <td id=\"T_5c551_row3_col0\" class=\"data row3 col0\" >nan</td>\n",
       "      <td id=\"T_5c551_row3_col1\" class=\"data row3 col1\" >nan</td>\n",
       "      <td id=\"T_5c551_row3_col2\" class=\"data row3 col2\" >-0.328286</td>\n",
       "      <td id=\"T_5c551_row3_col3\" class=\"data row3 col3\" >nan</td>\n",
       "    </tr>\n",
       "    <tr>\n",
       "      <th id=\"T_5c551_level1_row4\" class=\"row_heading level1 row4\" >w2v_avg_cgcoh</th>\n",
       "      <td id=\"T_5c551_row4_col0\" class=\"data row4 col0\" >nan</td>\n",
       "      <td id=\"T_5c551_row4_col1\" class=\"data row4 col1\" >nan</td>\n",
       "      <td id=\"T_5c551_row4_col2\" class=\"data row4 col2\" >-0.300604</td>\n",
       "      <td id=\"T_5c551_row4_col3\" class=\"data row4 col3\" >nan</td>\n",
       "    </tr>\n",
       "    <tr>\n",
       "      <th id=\"T_5c551_level1_row5\" class=\"row_heading level1 row5\" >w2v_avg_gcoh</th>\n",
       "      <td id=\"T_5c551_row5_col0\" class=\"data row5 col0\" >nan</td>\n",
       "      <td id=\"T_5c551_row5_col1\" class=\"data row5 col1\" >nan</td>\n",
       "      <td id=\"T_5c551_row5_col2\" class=\"data row5 col2\" >-0.310105</td>\n",
       "      <td id=\"T_5c551_row5_col3\" class=\"data row5 col3\" >nan</td>\n",
       "    </tr>\n",
       "    <tr>\n",
       "      <th id=\"T_5c551_level0_row6\" class=\"row_heading level0 row6\" rowspan=\"2\">syntactic</th>\n",
       "      <th id=\"T_5c551_level1_row6\" class=\"row_heading level1 row6\" >mean_sent_len</th>\n",
       "      <td id=\"T_5c551_row6_col0\" class=\"data row6 col0\" >nan</td>\n",
       "      <td id=\"T_5c551_row6_col1\" class=\"data row6 col1\" >0.342145</td>\n",
       "      <td id=\"T_5c551_row6_col2\" class=\"data row6 col2\" >nan</td>\n",
       "      <td id=\"T_5c551_row6_col3\" class=\"data row6 col3\" >nan</td>\n",
       "    </tr>\n",
       "    <tr>\n",
       "      <th id=\"T_5c551_level1_row7\" class=\"row_heading level1 row7\" >std_sent_len</th>\n",
       "      <td id=\"T_5c551_row7_col0\" class=\"data row7 col0\" >nan</td>\n",
       "      <td id=\"T_5c551_row7_col1\" class=\"data row7 col1\" >0.311643</td>\n",
       "      <td id=\"T_5c551_row7_col2\" class=\"data row7 col2\" >nan</td>\n",
       "      <td id=\"T_5c551_row7_col3\" class=\"data row7 col3\" >nan</td>\n",
       "    </tr>\n",
       "  </tbody>\n",
       "</table>\n"
      ],
      "text/plain": [
       "<pandas.io.formats.style.Styler at 0x7fb08973b130>"
      ]
     },
     "execution_count": 121,
     "metadata": {},
     "output_type": "execute_result"
    }
   ],
   "source": [
    "style(aplly_to_all_tasks(merge_df, corr_thresh, target=('target', 'age')))"
   ]
  },
  {
   "cell_type": "code",
   "execution_count": 122,
   "id": "f2330663",
   "metadata": {},
   "outputs": [
    {
     "data": {
      "text/html": [
       "<style type=\"text/css\">\n",
       "#T_b70ab_row0_col0, #T_b70ab_row2_col0, #T_b70ab_row3_col0, #T_b70ab_row4_col0, #T_b70ab_row5_col0, #T_b70ab_row6_col0 {\n",
       "  background-color: #f7fbff;\n",
       "  color: #000000;\n",
       "  color: white;\n",
       "  background-color: white;\n",
       "}\n",
       "#T_b70ab_row0_col1 {\n",
       "  background-color: #eff6fc;\n",
       "  color: #000000;\n",
       "}\n",
       "#T_b70ab_row0_col2, #T_b70ab_row0_col3, #T_b70ab_row1_col1, #T_b70ab_row1_col2, #T_b70ab_row1_col3, #T_b70ab_row2_col2, #T_b70ab_row2_col3, #T_b70ab_row3_col2, #T_b70ab_row3_col3, #T_b70ab_row4_col2, #T_b70ab_row4_col3, #T_b70ab_row5_col2, #T_b70ab_row5_col3, #T_b70ab_row6_col2, #T_b70ab_row6_col3 {\n",
       "  background-color: #000000;\n",
       "  color: #f1f1f1;\n",
       "  color: white;\n",
       "  background-color: white;\n",
       "}\n",
       "#T_b70ab_row1_col0, #T_b70ab_row4_col1 {\n",
       "  background-color: #f7fbff;\n",
       "  color: #000000;\n",
       "}\n",
       "#T_b70ab_row2_col1 {\n",
       "  background-color: #08306b;\n",
       "  color: #f1f1f1;\n",
       "}\n",
       "#T_b70ab_row3_col1 {\n",
       "  background-color: #083c7d;\n",
       "  color: #f1f1f1;\n",
       "}\n",
       "#T_b70ab_row5_col1 {\n",
       "  background-color: #083d7f;\n",
       "  color: #f1f1f1;\n",
       "}\n",
       "#T_b70ab_row6_col1 {\n",
       "  background-color: #083471;\n",
       "  color: #f1f1f1;\n",
       "}\n",
       "</style>\n",
       "<table id=\"T_b70ab\">\n",
       "  <thead>\n",
       "    <tr>\n",
       "      <th class=\"blank\" >&nbsp;</th>\n",
       "      <th class=\"blank level0\" >&nbsp;</th>\n",
       "      <th id=\"T_b70ab_level0_col0\" class=\"col_heading level0 col0\" >adventure</th>\n",
       "      <th id=\"T_b70ab_level0_col1\" class=\"col_heading level0 col1\" >chair</th>\n",
       "      <th id=\"T_b70ab_level0_col2\" class=\"col_heading level0 col2\" >present</th>\n",
       "      <th id=\"T_b70ab_level0_col3\" class=\"col_heading level0 col3\" >sportsman</th>\n",
       "    </tr>\n",
       "  </thead>\n",
       "  <tbody>\n",
       "    <tr>\n",
       "      <th id=\"T_b70ab_level0_row0\" class=\"row_heading level0 row0\" rowspan=\"2\">LM</th>\n",
       "      <th id=\"T_b70ab_level1_row0\" class=\"row_heading level1 row0\" >bert_cgcoh</th>\n",
       "      <td id=\"T_b70ab_row0_col0\" class=\"data row0 col0\" >nan</td>\n",
       "      <td id=\"T_b70ab_row0_col1\" class=\"data row0 col1\" >-0.344149</td>\n",
       "      <td id=\"T_b70ab_row0_col2\" class=\"data row0 col2\" >nan</td>\n",
       "      <td id=\"T_b70ab_row0_col3\" class=\"data row0 col3\" >nan</td>\n",
       "    </tr>\n",
       "    <tr>\n",
       "      <th id=\"T_b70ab_level1_row1\" class=\"row_heading level1 row1\" >bert_scoh</th>\n",
       "      <td id=\"T_b70ab_row1_col0\" class=\"data row1 col0\" >-0.325491</td>\n",
       "      <td id=\"T_b70ab_row1_col1\" class=\"data row1 col1\" >nan</td>\n",
       "      <td id=\"T_b70ab_row1_col2\" class=\"data row1 col2\" >nan</td>\n",
       "      <td id=\"T_b70ab_row1_col3\" class=\"data row1 col3\" >nan</td>\n",
       "    </tr>\n",
       "    <tr>\n",
       "      <th id=\"T_b70ab_level0_row2\" class=\"row_heading level0 row2\" rowspan=\"2\">graph</th>\n",
       "      <th id=\"T_b70ab_level1_row2\" class=\"row_heading level1 row2\" >L1</th>\n",
       "      <td id=\"T_b70ab_row2_col0\" class=\"data row2 col0\" >nan</td>\n",
       "      <td id=\"T_b70ab_row2_col1\" class=\"data row2 col1\" >0.352080</td>\n",
       "      <td id=\"T_b70ab_row2_col2\" class=\"data row2 col2\" >nan</td>\n",
       "      <td id=\"T_b70ab_row2_col3\" class=\"data row2 col3\" >nan</td>\n",
       "    </tr>\n",
       "    <tr>\n",
       "      <th id=\"T_b70ab_level1_row3\" class=\"row_heading level1 row3\" >number_of_edges</th>\n",
       "      <td id=\"T_b70ab_row3_col0\" class=\"data row3 col0\" >nan</td>\n",
       "      <td id=\"T_b70ab_row3_col1\" class=\"data row3 col1\" >0.317247</td>\n",
       "      <td id=\"T_b70ab_row3_col2\" class=\"data row3 col2\" >nan</td>\n",
       "      <td id=\"T_b70ab_row3_col3\" class=\"data row3 col3\" >nan</td>\n",
       "    </tr>\n",
       "    <tr>\n",
       "      <th id=\"T_b70ab_level0_row4\" class=\"row_heading level0 row4\" rowspan=\"2\">lexical</th>\n",
       "      <th id=\"T_b70ab_level1_row4\" class=\"row_heading level1 row4\" >LTR</th>\n",
       "      <td id=\"T_b70ab_row4_col0\" class=\"data row4 col0\" >nan</td>\n",
       "      <td id=\"T_b70ab_row4_col1\" class=\"data row4 col1\" >-0.374247</td>\n",
       "      <td id=\"T_b70ab_row4_col2\" class=\"data row4 col2\" >nan</td>\n",
       "      <td id=\"T_b70ab_row4_col3\" class=\"data row4 col3\" >nan</td>\n",
       "    </tr>\n",
       "    <tr>\n",
       "      <th id=\"T_b70ab_level1_row5\" class=\"row_heading level1 row5\" >n_words</th>\n",
       "      <td id=\"T_b70ab_row5_col0\" class=\"data row5 col0\" >nan</td>\n",
       "      <td id=\"T_b70ab_row5_col1\" class=\"data row5 col1\" >0.313731</td>\n",
       "      <td id=\"T_b70ab_row5_col2\" class=\"data row5 col2\" >nan</td>\n",
       "      <td id=\"T_b70ab_row5_col3\" class=\"data row5 col3\" >nan</td>\n",
       "    </tr>\n",
       "    <tr>\n",
       "      <th id=\"T_b70ab_level0_row6\" class=\"row_heading level0 row6\" >syntactic</th>\n",
       "      <th id=\"T_b70ab_level1_row6\" class=\"row_heading level1 row6\" >mean_sent_len</th>\n",
       "      <td id=\"T_b70ab_row6_col0\" class=\"data row6 col0\" >nan</td>\n",
       "      <td id=\"T_b70ab_row6_col1\" class=\"data row6 col1\" >0.339751</td>\n",
       "      <td id=\"T_b70ab_row6_col2\" class=\"data row6 col2\" >nan</td>\n",
       "      <td id=\"T_b70ab_row6_col3\" class=\"data row6 col3\" >nan</td>\n",
       "    </tr>\n",
       "  </tbody>\n",
       "</table>\n"
      ],
      "text/plain": [
       "<pandas.io.formats.style.Styler at 0x7fb0896aec10>"
      ]
     },
     "execution_count": 122,
     "metadata": {},
     "output_type": "execute_result"
    }
   ],
   "source": [
    "style(aplly_to_all_tasks(merge_df, corr_thresh, target=('target', 'education.years')))"
   ]
  },
  {
   "cell_type": "code",
   "execution_count": 123,
   "id": "08dfc0a6",
   "metadata": {},
   "outputs": [],
   "source": [
    "control_psy = merge_df[merge_df[('target', 'target', 'diagnosis.group')] == 'control_psy']"
   ]
  },
  {
   "cell_type": "code",
   "execution_count": 124,
   "id": "1115f746",
   "metadata": {},
   "outputs": [
    {
     "data": {
      "text/html": [
       "<style type=\"text/css\">\n",
       "</style>\n",
       "<table id=\"T_9d8a7\">\n",
       "  <thead>\n",
       "    <tr>\n",
       "      <th class=\"blank\" >&nbsp;</th>\n",
       "      <th class=\"blank level0\" >&nbsp;</th>\n",
       "      <th id=\"T_9d8a7_level0_col0\" class=\"col_heading level0 col0\" >adventure</th>\n",
       "      <th id=\"T_9d8a7_level0_col1\" class=\"col_heading level0 col1\" >chair</th>\n",
       "      <th id=\"T_9d8a7_level0_col2\" class=\"col_heading level0 col2\" >present</th>\n",
       "      <th id=\"T_9d8a7_level0_col3\" class=\"col_heading level0 col3\" >sportsman</th>\n",
       "    </tr>\n",
       "  </thead>\n",
       "  <tbody>\n",
       "  </tbody>\n",
       "</table>\n"
      ],
      "text/plain": [
       "<pandas.io.formats.style.Styler at 0x7fb08971b0a0>"
      ]
     },
     "execution_count": 124,
     "metadata": {},
     "output_type": "execute_result"
    }
   ],
   "source": [
    "style(aplly_to_all_tasks(control_psy, corr_thresh, target=('target', 'age'), thresh=0.4))"
   ]
  },
  {
   "cell_type": "code",
   "execution_count": 125,
   "id": "69cdea59",
   "metadata": {},
   "outputs": [
    {
     "data": {
      "text/html": [
       "<style type=\"text/css\">\n",
       "</style>\n",
       "<table id=\"T_a743d\">\n",
       "  <thead>\n",
       "    <tr>\n",
       "      <th class=\"blank\" >&nbsp;</th>\n",
       "      <th class=\"blank level0\" >&nbsp;</th>\n",
       "      <th id=\"T_a743d_level0_col0\" class=\"col_heading level0 col0\" >adventure</th>\n",
       "      <th id=\"T_a743d_level0_col1\" class=\"col_heading level0 col1\" >chair</th>\n",
       "      <th id=\"T_a743d_level0_col2\" class=\"col_heading level0 col2\" >present</th>\n",
       "      <th id=\"T_a743d_level0_col3\" class=\"col_heading level0 col3\" >sportsman</th>\n",
       "    </tr>\n",
       "  </thead>\n",
       "  <tbody>\n",
       "  </tbody>\n",
       "</table>\n"
      ],
      "text/plain": [
       "<pandas.io.formats.style.Styler at 0x7fb08982e0d0>"
      ]
     },
     "execution_count": 125,
     "metadata": {},
     "output_type": "execute_result"
    }
   ],
   "source": [
    "style(aplly_to_all_tasks(control_psy, corr_thresh, target=('target', 'education.years'), thresh=0.4))"
   ]
  },
  {
   "cell_type": "markdown",
   "id": "28654e03",
   "metadata": {},
   "source": [
    "### psychiatric variables vs metrics"
   ]
  },
  {
   "cell_type": "code",
   "execution_count": 126,
   "id": "01ed0a27",
   "metadata": {},
   "outputs": [],
   "source": [
    "def thresh_any_task(df, col='p', tasks=TASKS, thresh=0.05):\n",
    "    return df[df.apply(lambda row: any([row[task][col] < thresh for task in tasks]), axis=1)]"
   ]
  },
  {
   "cell_type": "code",
   "execution_count": 127,
   "id": "339e70e6",
   "metadata": {},
   "outputs": [
    {
     "data": {
      "text/html": [
       "<style type=\"text/css\">\n",
       "#T_d3fa6_row0_col0, #T_d3fa6_row7_col2 {\n",
       "  background-color: #3d8dc4;\n",
       "  color: #f1f1f1;\n",
       "}\n",
       "#T_d3fa6_row0_col1, #T_d3fa6_row2_col4, #T_d3fa6_row3_col3, #T_d3fa6_row5_col5, #T_d3fa6_row5_col7, #T_d3fa6_row7_col0, #T_d3fa6_row9_col2, #T_d3fa6_row9_col6 {\n",
       "  background-color: #08306b;\n",
       "  color: #f1f1f1;\n",
       "}\n",
       "#T_d3fa6_row0_col2 {\n",
       "  background-color: #1966ad;\n",
       "  color: #f1f1f1;\n",
       "}\n",
       "#T_d3fa6_row0_col3, #T_d3fa6_row7_col7, #T_d3fa6_row8_col1, #T_d3fa6_row11_col6, #T_d3fa6_row14_col7 {\n",
       "  background-color: #f5f9fe;\n",
       "  color: #000000;\n",
       "}\n",
       "#T_d3fa6_row0_col4 {\n",
       "  background-color: #c6dbef;\n",
       "  color: #000000;\n",
       "}\n",
       "#T_d3fa6_row0_col5, #T_d3fa6_row10_col7 {\n",
       "  background-color: #9cc9e1;\n",
       "  color: #000000;\n",
       "}\n",
       "#T_d3fa6_row0_col6 {\n",
       "  background-color: #75b4d8;\n",
       "  color: #000000;\n",
       "}\n",
       "#T_d3fa6_row0_col7 {\n",
       "  background-color: #0f5aa3;\n",
       "  color: #f1f1f1;\n",
       "}\n",
       "#T_d3fa6_row1_col0, #T_d3fa6_row3_col4 {\n",
       "  background-color: #2373b6;\n",
       "  color: #f1f1f1;\n",
       "}\n",
       "#T_d3fa6_row1_col1 {\n",
       "  background-color: #8abfdd;\n",
       "  color: #000000;\n",
       "}\n",
       "#T_d3fa6_row1_col2 {\n",
       "  background-color: #f0f6fd;\n",
       "  color: #000000;\n",
       "}\n",
       "#T_d3fa6_row1_col3, #T_d3fa6_row2_col3, #T_d3fa6_row2_col5, #T_d3fa6_row4_col1, #T_d3fa6_row5_col3, #T_d3fa6_row6_col1, #T_d3fa6_row6_col6, #T_d3fa6_row6_col7, #T_d3fa6_row9_col3, #T_d3fa6_row9_col7, #T_d3fa6_row10_col1, #T_d3fa6_row11_col0, #T_d3fa6_row11_col1, #T_d3fa6_row11_col2, #T_d3fa6_row11_col3, #T_d3fa6_row11_col7, #T_d3fa6_row12_col1, #T_d3fa6_row12_col4, #T_d3fa6_row13_col1, #T_d3fa6_row14_col1, #T_d3fa6_row15_col1, #T_d3fa6_row15_col4 {\n",
       "  background-color: #f7fbff;\n",
       "  color: #000000;\n",
       "}\n",
       "#T_d3fa6_row1_col4 {\n",
       "  background-color: #c9ddf0;\n",
       "  color: #000000;\n",
       "}\n",
       "#T_d3fa6_row1_col5, #T_d3fa6_row6_col4 {\n",
       "  background-color: #afd1e7;\n",
       "  color: #000000;\n",
       "}\n",
       "#T_d3fa6_row1_col6, #T_d3fa6_row2_col6 {\n",
       "  background-color: #3282be;\n",
       "  color: #f1f1f1;\n",
       "}\n",
       "#T_d3fa6_row1_col7 {\n",
       "  background-color: #b8d5ea;\n",
       "  color: #000000;\n",
       "}\n",
       "#T_d3fa6_row2_col0 {\n",
       "  background-color: #4a98c9;\n",
       "  color: #f1f1f1;\n",
       "}\n",
       "#T_d3fa6_row2_col1 {\n",
       "  background-color: #105ba4;\n",
       "  color: #f1f1f1;\n",
       "}\n",
       "#T_d3fa6_row2_col2 {\n",
       "  background-color: #084a91;\n",
       "  color: #f1f1f1;\n",
       "}\n",
       "#T_d3fa6_row2_col7, #T_d3fa6_row3_col0, #T_d3fa6_row11_col4 {\n",
       "  background-color: #b9d6ea;\n",
       "  color: #000000;\n",
       "}\n",
       "#T_d3fa6_row3_col1, #T_d3fa6_row4_col3 {\n",
       "  background-color: #f5fafe;\n",
       "  color: #000000;\n",
       "}\n",
       "#T_d3fa6_row3_col2 {\n",
       "  background-color: #5da5d1;\n",
       "  color: #f1f1f1;\n",
       "}\n",
       "#T_d3fa6_row3_col5 {\n",
       "  background-color: #e8f1fa;\n",
       "  color: #000000;\n",
       "}\n",
       "#T_d3fa6_row3_col6, #T_d3fa6_row8_col2 {\n",
       "  background-color: #4b98ca;\n",
       "  color: #f1f1f1;\n",
       "}\n",
       "#T_d3fa6_row3_col7 {\n",
       "  background-color: #3a8ac2;\n",
       "  color: #f1f1f1;\n",
       "}\n",
       "#T_d3fa6_row4_col0 {\n",
       "  background-color: #cee0f2;\n",
       "  color: #000000;\n",
       "}\n",
       "#T_d3fa6_row4_col2 {\n",
       "  background-color: #e0ecf8;\n",
       "  color: #000000;\n",
       "}\n",
       "#T_d3fa6_row4_col4, #T_d3fa6_row7_col3 {\n",
       "  background-color: #c2d9ee;\n",
       "  color: #000000;\n",
       "}\n",
       "#T_d3fa6_row4_col5 {\n",
       "  background-color: #8fc2de;\n",
       "  color: #000000;\n",
       "}\n",
       "#T_d3fa6_row4_col6 {\n",
       "  background-color: #c7dcef;\n",
       "  color: #000000;\n",
       "}\n",
       "#T_d3fa6_row4_col7 {\n",
       "  background-color: #e7f1fa;\n",
       "  color: #000000;\n",
       "}\n",
       "#T_d3fa6_row5_col0 {\n",
       "  background-color: #bdd7ec;\n",
       "  color: #000000;\n",
       "}\n",
       "#T_d3fa6_row5_col1, #T_d3fa6_row7_col1, #T_d3fa6_row7_col5, #T_d3fa6_row8_col5 {\n",
       "  background-color: #f6faff;\n",
       "  color: #000000;\n",
       "}\n",
       "#T_d3fa6_row5_col2, #T_d3fa6_row12_col7, #T_d3fa6_row14_col5, #T_d3fa6_row15_col7 {\n",
       "  background-color: #eef5fc;\n",
       "  color: #000000;\n",
       "}\n",
       "#T_d3fa6_row5_col4 {\n",
       "  background-color: #99c7e0;\n",
       "  color: #000000;\n",
       "}\n",
       "#T_d3fa6_row5_col6 {\n",
       "  background-color: #69add5;\n",
       "  color: #f1f1f1;\n",
       "}\n",
       "#T_d3fa6_row6_col0, #T_d3fa6_row14_col6 {\n",
       "  background-color: #dceaf6;\n",
       "  color: #000000;\n",
       "}\n",
       "#T_d3fa6_row6_col2 {\n",
       "  background-color: #d9e8f5;\n",
       "  color: #000000;\n",
       "}\n",
       "#T_d3fa6_row6_col3, #T_d3fa6_row12_col0, #T_d3fa6_row13_col7, #T_d3fa6_row15_col0 {\n",
       "  background-color: #f3f8fe;\n",
       "  color: #000000;\n",
       "}\n",
       "#T_d3fa6_row6_col5 {\n",
       "  background-color: #3787c0;\n",
       "  color: #f1f1f1;\n",
       "}\n",
       "#T_d3fa6_row7_col4 {\n",
       "  background-color: #08488e;\n",
       "  color: #f1f1f1;\n",
       "}\n",
       "#T_d3fa6_row7_col6 {\n",
       "  background-color: #084b93;\n",
       "  color: #f1f1f1;\n",
       "}\n",
       "#T_d3fa6_row8_col0 {\n",
       "  background-color: #083c7d;\n",
       "  color: #f1f1f1;\n",
       "}\n",
       "#T_d3fa6_row8_col3 {\n",
       "  background-color: #66abd4;\n",
       "  color: #f1f1f1;\n",
       "}\n",
       "#T_d3fa6_row8_col4 {\n",
       "  background-color: #084c95;\n",
       "  color: #f1f1f1;\n",
       "}\n",
       "#T_d3fa6_row8_col6 {\n",
       "  background-color: #0b559f;\n",
       "  color: #f1f1f1;\n",
       "}\n",
       "#T_d3fa6_row8_col7, #T_d3fa6_row13_col0, #T_d3fa6_row14_col3 {\n",
       "  background-color: #f2f7fd;\n",
       "  color: #000000;\n",
       "}\n",
       "#T_d3fa6_row9_col0 {\n",
       "  background-color: #0e59a2;\n",
       "  color: #f1f1f1;\n",
       "}\n",
       "#T_d3fa6_row9_col1 {\n",
       "  background-color: #e1edf8;\n",
       "  color: #000000;\n",
       "}\n",
       "#T_d3fa6_row9_col4 {\n",
       "  background-color: #4594c7;\n",
       "  color: #f1f1f1;\n",
       "}\n",
       "#T_d3fa6_row9_col5 {\n",
       "  background-color: #b2d2e8;\n",
       "  color: #000000;\n",
       "}\n",
       "#T_d3fa6_row10_col0 {\n",
       "  background-color: #ddeaf7;\n",
       "  color: #000000;\n",
       "}\n",
       "#T_d3fa6_row10_col2 {\n",
       "  background-color: #d3e4f3;\n",
       "  color: #000000;\n",
       "}\n",
       "#T_d3fa6_row10_col3 {\n",
       "  background-color: #eff6fc;\n",
       "  color: #000000;\n",
       "}\n",
       "#T_d3fa6_row10_col4 {\n",
       "  background-color: #b0d2e7;\n",
       "  color: #000000;\n",
       "}\n",
       "#T_d3fa6_row10_col5 {\n",
       "  background-color: #3e8ec4;\n",
       "  color: #f1f1f1;\n",
       "}\n",
       "#T_d3fa6_row10_col6 {\n",
       "  background-color: #9dcae1;\n",
       "  color: #000000;\n",
       "}\n",
       "#T_d3fa6_row11_col5 {\n",
       "  background-color: #63a8d3;\n",
       "  color: #f1f1f1;\n",
       "}\n",
       "#T_d3fa6_row12_col2, #T_d3fa6_row15_col2 {\n",
       "  background-color: #c1d9ed;\n",
       "  color: #000000;\n",
       "}\n",
       "#T_d3fa6_row12_col3, #T_d3fa6_row15_col3 {\n",
       "  background-color: #d0e2f2;\n",
       "  color: #000000;\n",
       "}\n",
       "#T_d3fa6_row12_col5, #T_d3fa6_row15_col5 {\n",
       "  background-color: #f4f9fe;\n",
       "  color: #000000;\n",
       "}\n",
       "#T_d3fa6_row12_col6, #T_d3fa6_row15_col6 {\n",
       "  background-color: #cde0f1;\n",
       "  color: #000000;\n",
       "}\n",
       "#T_d3fa6_row13_col2 {\n",
       "  background-color: #c4daee;\n",
       "  color: #000000;\n",
       "}\n",
       "#T_d3fa6_row13_col3 {\n",
       "  background-color: #d6e6f4;\n",
       "  color: #000000;\n",
       "}\n",
       "#T_d3fa6_row13_col4 {\n",
       "  background-color: #f1f7fd;\n",
       "  color: #000000;\n",
       "}\n",
       "#T_d3fa6_row13_col5 {\n",
       "  background-color: #f2f8fd;\n",
       "  color: #000000;\n",
       "}\n",
       "#T_d3fa6_row13_col6 {\n",
       "  background-color: #d7e6f5;\n",
       "  color: #000000;\n",
       "}\n",
       "#T_d3fa6_row14_col0 {\n",
       "  background-color: #d1e2f3;\n",
       "  color: #000000;\n",
       "}\n",
       "#T_d3fa6_row14_col2 {\n",
       "  background-color: #d6e5f4;\n",
       "  color: #000000;\n",
       "}\n",
       "#T_d3fa6_row14_col4 {\n",
       "  background-color: #eaf2fb;\n",
       "  color: #000000;\n",
       "}\n",
       "</style>\n",
       "<table id=\"T_d3fa6\">\n",
       "  <thead>\n",
       "    <tr>\n",
       "      <th class=\"index_name level0\" >task</th>\n",
       "      <th id=\"T_d3fa6_level0_col0\" class=\"col_heading level0 col0\" colspan=\"2\">adventure</th>\n",
       "      <th id=\"T_d3fa6_level0_col2\" class=\"col_heading level0 col2\" colspan=\"2\">chair</th>\n",
       "      <th id=\"T_d3fa6_level0_col4\" class=\"col_heading level0 col4\" colspan=\"2\">present</th>\n",
       "      <th id=\"T_d3fa6_level0_col6\" class=\"col_heading level0 col6\" colspan=\"2\">sportsman</th>\n",
       "    </tr>\n",
       "    <tr>\n",
       "      <th class=\"blank level1\" >&nbsp;</th>\n",
       "      <th id=\"T_d3fa6_level1_col0\" class=\"col_heading level1 col0\" >t</th>\n",
       "      <th id=\"T_d3fa6_level1_col1\" class=\"col_heading level1 col1\" >p</th>\n",
       "      <th id=\"T_d3fa6_level1_col2\" class=\"col_heading level1 col2\" >t</th>\n",
       "      <th id=\"T_d3fa6_level1_col3\" class=\"col_heading level1 col3\" >p</th>\n",
       "      <th id=\"T_d3fa6_level1_col4\" class=\"col_heading level1 col4\" >t</th>\n",
       "      <th id=\"T_d3fa6_level1_col5\" class=\"col_heading level1 col5\" >p</th>\n",
       "      <th id=\"T_d3fa6_level1_col6\" class=\"col_heading level1 col6\" >t</th>\n",
       "      <th id=\"T_d3fa6_level1_col7\" class=\"col_heading level1 col7\" >p</th>\n",
       "    </tr>\n",
       "  </thead>\n",
       "  <tbody>\n",
       "    <tr>\n",
       "      <th id=\"T_d3fa6_level0_row0\" class=\"row_heading level0 row0\" >('syntactic', 'DET')</th>\n",
       "      <td id=\"T_d3fa6_row0_col0\" class=\"data row0 col0\" >0.075424</td>\n",
       "      <td id=\"T_d3fa6_row0_col1\" class=\"data row0 col1\" >0.940033</td>\n",
       "      <td id=\"T_d3fa6_row0_col2\" class=\"data row0 col2\" >2.725536</td>\n",
       "      <td id=\"T_d3fa6_row0_col3\" class=\"data row0 col3\" >0.008031</td>\n",
       "      <td id=\"T_d3fa6_row0_col4\" class=\"data row0 col4\" >-1.000563</td>\n",
       "      <td id=\"T_d3fa6_row0_col5\" class=\"data row0 col5\" >0.320093</td>\n",
       "      <td id=\"T_d3fa6_row0_col6\" class=\"data row0 col6\" >-0.281669</td>\n",
       "      <td id=\"T_d3fa6_row0_col7\" class=\"data row0 col7\" >0.778816</td>\n",
       "    </tr>\n",
       "    <tr>\n",
       "      <th id=\"T_d3fa6_level0_row1\" class=\"row_heading level0 row1\" >('syntactic', 'NOUN')</th>\n",
       "      <td id=\"T_d3fa6_row1_col0\" class=\"data row1 col0\" >0.848751</td>\n",
       "      <td id=\"T_d3fa6_row1_col1\" class=\"data row1 col1\" >0.398110</td>\n",
       "      <td id=\"T_d3fa6_row1_col2\" class=\"data row1 col2\" >-3.572826</td>\n",
       "      <td id=\"T_d3fa6_row1_col3\" class=\"data row1 col3\" >0.000630</td>\n",
       "      <td id=\"T_d3fa6_row1_col4\" class=\"data row1 col4\" >-1.110263</td>\n",
       "      <td id=\"T_d3fa6_row1_col5\" class=\"data row1 col5\" >0.270254</td>\n",
       "      <td id=\"T_d3fa6_row1_col6\" class=\"data row1 col6\" >1.098043</td>\n",
       "      <td id=\"T_d3fa6_row1_col7\" class=\"data row1 col7\" >0.274990</td>\n",
       "    </tr>\n",
       "    <tr>\n",
       "      <th id=\"T_d3fa6_level0_row2\" class=\"row_heading level0 row2\" >('syntactic', 'PART')</th>\n",
       "      <td id=\"T_d3fa6_row2_col0\" class=\"data row2 col0\" >-0.272681</td>\n",
       "      <td id=\"T_d3fa6_row2_col1\" class=\"data row2 col1\" >0.785678</td>\n",
       "      <td id=\"T_d3fa6_row2_col2\" class=\"data row2 col2\" >3.629448</td>\n",
       "      <td id=\"T_d3fa6_row2_col3\" class=\"data row2 col3\" >0.000524</td>\n",
       "      <td id=\"T_d3fa6_row2_col4\" class=\"data row2 col4\" >3.406313</td>\n",
       "      <td id=\"T_d3fa6_row2_col5\" class=\"data row2 col5\" >0.001038</td>\n",
       "      <td id=\"T_d3fa6_row2_col6\" class=\"data row2 col6\" >1.104376</td>\n",
       "      <td id=\"T_d3fa6_row2_col7\" class=\"data row2 col7\" >0.272249</td>\n",
       "    </tr>\n",
       "    <tr>\n",
       "      <th id=\"T_d3fa6_level0_row3\" class=\"row_heading level0 row3\" >('syntactic', 'PRON')</th>\n",
       "      <td id=\"T_d3fa6_row3_col0\" class=\"data row3 col0\" >-2.719859</td>\n",
       "      <td id=\"T_d3fa6_row3_col1\" class=\"data row3 col1\" >0.007740</td>\n",
       "      <td id=\"T_d3fa6_row3_col2\" class=\"data row3 col2\" >0.626337</td>\n",
       "      <td id=\"T_d3fa6_row3_col3\" class=\"data row3 col3\" >0.533047</td>\n",
       "      <td id=\"T_d3fa6_row3_col4\" class=\"data row3 col4\" >1.879794</td>\n",
       "      <td id=\"T_d3fa6_row3_col5\" class=\"data row3 col5\" >0.063823</td>\n",
       "      <td id=\"T_d3fa6_row3_col6\" class=\"data row3 col6\" >0.512701</td>\n",
       "      <td id=\"T_d3fa6_row3_col7\" class=\"data row3 col7\" >0.609363</td>\n",
       "    </tr>\n",
       "    <tr>\n",
       "      <th id=\"T_d3fa6_level0_row4\" class=\"row_heading level0 row4\" >('syntactic', 'max_sent_len')</th>\n",
       "      <td id=\"T_d3fa6_row4_col0\" class=\"data row4 col0\" >-3.365541</td>\n",
       "      <td id=\"T_d3fa6_row4_col1\" class=\"data row4 col1\" >0.001096</td>\n",
       "      <td id=\"T_d3fa6_row4_col2\" class=\"data row4 col2\" >-2.934617</td>\n",
       "      <td id=\"T_d3fa6_row4_col3\" class=\"data row4 col3\" >0.004462</td>\n",
       "      <td id=\"T_d3fa6_row4_col4\" class=\"data row4 col4\" >-0.946908</td>\n",
       "      <td id=\"T_d3fa6_row4_col5\" class=\"data row4 col5\" >0.346573</td>\n",
       "      <td id=\"T_d3fa6_row4_col6\" class=\"data row4 col6\" >-1.798326</td>\n",
       "      <td id=\"T_d3fa6_row4_col7\" class=\"data row4 col7\" >0.075335</td>\n",
       "    </tr>\n",
       "    <tr>\n",
       "      <th id=\"T_d3fa6_level0_row5\" class=\"row_heading level0 row5\" >('syntactic', 'mean_sent_len')</th>\n",
       "      <td id=\"T_d3fa6_row5_col0\" class=\"data row5 col0\" >-2.794059</td>\n",
       "      <td id=\"T_d3fa6_row5_col1\" class=\"data row5 col1\" >0.006273</td>\n",
       "      <td id=\"T_d3fa6_row5_col2\" class=\"data row5 col2\" >-3.511570</td>\n",
       "      <td id=\"T_d3fa6_row5_col3\" class=\"data row5 col3\" >0.000768</td>\n",
       "      <td id=\"T_d3fa6_row5_col4\" class=\"data row5 col4\" >-0.205272</td>\n",
       "      <td id=\"T_d3fa6_row5_col5\" class=\"data row5 col5\" >0.837887</td>\n",
       "      <td id=\"T_d3fa6_row5_col6\" class=\"data row5 col6\" >-0.087092</td>\n",
       "      <td id=\"T_d3fa6_row5_col7\" class=\"data row5 col7\" >0.930783</td>\n",
       "    </tr>\n",
       "    <tr>\n",
       "      <th id=\"T_d3fa6_level0_row6\" class=\"row_heading level0 row6\" >('syntactic', 'n_sents')</th>\n",
       "      <td id=\"T_d3fa6_row6_col0\" class=\"data row6 col0\" >-3.936237</td>\n",
       "      <td id=\"T_d3fa6_row6_col1\" class=\"data row6 col1\" >0.000156</td>\n",
       "      <td id=\"T_d3fa6_row6_col2\" class=\"data row6 col2\" >-2.618683</td>\n",
       "      <td id=\"T_d3fa6_row6_col3\" class=\"data row6 col3\" >0.010728</td>\n",
       "      <td id=\"T_d3fa6_row6_col4\" class=\"data row6 col4\" >-0.585333</td>\n",
       "      <td id=\"T_d3fa6_row6_col5\" class=\"data row6 col5\" >0.559992</td>\n",
       "      <td id=\"T_d3fa6_row6_col6\" class=\"data row6 col6\" >-3.406976</td>\n",
       "      <td id=\"T_d3fa6_row6_col7\" class=\"data row6 col7\" >0.000968</td>\n",
       "    </tr>\n",
       "    <tr>\n",
       "      <th id=\"T_d3fa6_level0_row7\" class=\"row_heading level0 row7\" >('LM', 'bert_cgcoh')</th>\n",
       "      <td id=\"T_d3fa6_row7_col0\" class=\"data row7 col0\" >2.887688</td>\n",
       "      <td id=\"T_d3fa6_row7_col1\" class=\"data row7 col1\" >0.004785</td>\n",
       "      <td id=\"T_d3fa6_row7_col2\" class=\"data row7 col2\" >1.487326</td>\n",
       "      <td id=\"T_d3fa6_row7_col3\" class=\"data row7 col3\" >0.141235</td>\n",
       "      <td id=\"T_d3fa6_row7_col4\" class=\"data row7 col4\" >2.872751</td>\n",
       "      <td id=\"T_d3fa6_row7_col5\" class=\"data row7 col5\" >0.005224</td>\n",
       "      <td id=\"T_d3fa6_row7_col6\" class=\"data row7 col6\" >2.500458</td>\n",
       "      <td id=\"T_d3fa6_row7_col7\" class=\"data row7 col7\" >0.014154</td>\n",
       "    </tr>\n",
       "    <tr>\n",
       "      <th id=\"T_d3fa6_level0_row8\" class=\"row_heading level0 row8\" >('LM', 'bert_gcoh')</th>\n",
       "      <td id=\"T_d3fa6_row8_col0\" class=\"data row8 col0\" >2.509349</td>\n",
       "      <td id=\"T_d3fa6_row8_col1\" class=\"data row8 col1\" >0.013752</td>\n",
       "      <td id=\"T_d3fa6_row8_col2\" class=\"data row8 col2\" >1.103105</td>\n",
       "      <td id=\"T_d3fa6_row8_col3\" class=\"data row8 col3\" >0.273605</td>\n",
       "      <td id=\"T_d3fa6_row8_col4\" class=\"data row8 col4\" >2.783318</td>\n",
       "      <td id=\"T_d3fa6_row8_col5\" class=\"data row8 col5\" >0.006729</td>\n",
       "      <td id=\"T_d3fa6_row8_col6\" class=\"data row8 col6\" >2.228622</td>\n",
       "      <td id=\"T_d3fa6_row8_col7\" class=\"data row8 col7\" >0.028249</td>\n",
       "    </tr>\n",
       "    <tr>\n",
       "      <th id=\"T_d3fa6_level0_row9\" class=\"row_heading level0 row9\" >('lexical', 'LTR')</th>\n",
       "      <td id=\"T_d3fa6_row9_col0\" class=\"data row9 col0\" >1.640402</td>\n",
       "      <td id=\"T_d3fa6_row9_col1\" class=\"data row9 col1\" >0.104161</td>\n",
       "      <td id=\"T_d3fa6_row9_col2\" class=\"data row9 col2\" >4.474563</td>\n",
       "      <td id=\"T_d3fa6_row9_col3\" class=\"data row9 col3\" >0.000028</td>\n",
       "      <td id=\"T_d3fa6_row9_col4\" class=\"data row9 col4\" >1.125208</td>\n",
       "      <td id=\"T_d3fa6_row9_col5\" class=\"data row9 col5\" >0.263908</td>\n",
       "      <td id=\"T_d3fa6_row9_col6\" class=\"data row9 col6\" >3.175215</td>\n",
       "      <td id=\"T_d3fa6_row9_col7\" class=\"data row9 col7\" >0.002025</td>\n",
       "    </tr>\n",
       "    <tr>\n",
       "      <th id=\"T_d3fa6_level0_row10\" class=\"row_heading level0 row10\" >('lexical', 'MALTR')</th>\n",
       "      <td id=\"T_d3fa6_row10_col0\" class=\"data row10 col0\" >-3.989994</td>\n",
       "      <td id=\"T_d3fa6_row10_col1\" class=\"data row10 col1\" >0.000128</td>\n",
       "      <td id=\"T_d3fa6_row10_col2\" class=\"data row10 col2\" >-2.359746</td>\n",
       "      <td id=\"T_d3fa6_row10_col3\" class=\"data row10 col3\" >0.020963</td>\n",
       "      <td id=\"T_d3fa6_row10_col4\" class=\"data row10 col4\" >-0.620588</td>\n",
       "      <td id=\"T_d3fa6_row10_col5\" class=\"data row10 col5\" >0.536657</td>\n",
       "      <td id=\"T_d3fa6_row10_col6\" class=\"data row10 col6\" >-0.929417</td>\n",
       "      <td id=\"T_d3fa6_row10_col7\" class=\"data row10 col7\" >0.355054</td>\n",
       "    </tr>\n",
       "    <tr>\n",
       "      <th id=\"T_d3fa6_level0_row11\" class=\"row_heading level0 row11\" >('lexical', 'n_words')</th>\n",
       "      <td id=\"T_d3fa6_row11_col0\" class=\"data row11 col0\" >-5.014119</td>\n",
       "      <td id=\"T_d3fa6_row11_col1\" class=\"data row11 col1\" >0.000002</td>\n",
       "      <td id=\"T_d3fa6_row11_col2\" class=\"data row11 col2\" >-3.882358</td>\n",
       "      <td id=\"T_d3fa6_row11_col3\" class=\"data row11 col3\" >0.000225</td>\n",
       "      <td id=\"T_d3fa6_row11_col4\" class=\"data row11 col4\" >-0.773480</td>\n",
       "      <td id=\"T_d3fa6_row11_col5\" class=\"data row11 col5\" >0.441547</td>\n",
       "      <td id=\"T_d3fa6_row11_col6\" class=\"data row11 col6\" >-3.317864</td>\n",
       "      <td id=\"T_d3fa6_row11_col7\" class=\"data row11 col7\" >0.001291</td>\n",
       "    </tr>\n",
       "    <tr>\n",
       "      <th id=\"T_d3fa6_level0_row12\" class=\"row_heading level0 row12\" >('graph', 'LCC')</th>\n",
       "      <td id=\"T_d3fa6_row12_col0\" class=\"data row12 col0\" >-4.852761</td>\n",
       "      <td id=\"T_d3fa6_row12_col1\" class=\"data row12 col1\" >0.000005</td>\n",
       "      <td id=\"T_d3fa6_row12_col2\" class=\"data row12 col2\" >-1.638728</td>\n",
       "      <td id=\"T_d3fa6_row12_col3\" class=\"data row12 col3\" >0.105573</td>\n",
       "      <td id=\"T_d3fa6_row12_col4\" class=\"data row12 col4\" >-2.494897</td>\n",
       "      <td id=\"T_d3fa6_row12_col5\" class=\"data row12 col5\" >0.014685</td>\n",
       "      <td id=\"T_d3fa6_row12_col6\" class=\"data row12 col6\" >-2.010750</td>\n",
       "      <td id=\"T_d3fa6_row12_col7\" class=\"data row12 col7\" >0.047217</td>\n",
       "    </tr>\n",
       "    <tr>\n",
       "      <th id=\"T_d3fa6_level0_row13\" class=\"row_heading level0 row13\" >('graph', 'LSC')</th>\n",
       "      <td id=\"T_d3fa6_row13_col0\" class=\"data row13 col0\" >-4.778027</td>\n",
       "      <td id=\"T_d3fa6_row13_col1\" class=\"data row13 col1\" >0.000006</td>\n",
       "      <td id=\"T_d3fa6_row13_col2\" class=\"data row13 col2\" >-1.731697</td>\n",
       "      <td id=\"T_d3fa6_row13_col3\" class=\"data row13 col3\" >0.087552</td>\n",
       "      <td id=\"T_d3fa6_row13_col4\" class=\"data row13 col4\" >-2.308911</td>\n",
       "      <td id=\"T_d3fa6_row13_col5\" class=\"data row13 col5\" >0.023563</td>\n",
       "      <td id=\"T_d3fa6_row13_col6\" class=\"data row13 col6\" >-2.347037</td>\n",
       "      <td id=\"T_d3fa6_row13_col7\" class=\"data row13 col7\" >0.021022</td>\n",
       "    </tr>\n",
       "    <tr>\n",
       "      <th id=\"T_d3fa6_level0_row14\" class=\"row_heading level0 row14\" >('graph', 'number_of_edges')</th>\n",
       "      <td id=\"T_d3fa6_row14_col0\" class=\"data row14 col0\" >-3.494622</td>\n",
       "      <td id=\"T_d3fa6_row14_col1\" class=\"data row14 col1\" >0.000717</td>\n",
       "      <td id=\"T_d3fa6_row14_col2\" class=\"data row14 col2\" >-2.468936</td>\n",
       "      <td id=\"T_d3fa6_row14_col3\" class=\"data row14 col3\" >0.015892</td>\n",
       "      <td id=\"T_d3fa6_row14_col4\" class=\"data row14 col4\" >-2.086907</td>\n",
       "      <td id=\"T_d3fa6_row14_col5\" class=\"data row14 col5\" >0.040121</td>\n",
       "      <td id=\"T_d3fa6_row14_col6\" class=\"data row14 col6\" >-2.513700</td>\n",
       "      <td id=\"T_d3fa6_row14_col7\" class=\"data row14 col7\" >0.013648</td>\n",
       "    </tr>\n",
       "    <tr>\n",
       "      <th id=\"T_d3fa6_level0_row15\" class=\"row_heading level0 row15\" >('graph', 'number_of_nodes')</th>\n",
       "      <td id=\"T_d3fa6_row15_col0\" class=\"data row15 col0\" >-4.852761</td>\n",
       "      <td id=\"T_d3fa6_row15_col1\" class=\"data row15 col1\" >0.000005</td>\n",
       "      <td id=\"T_d3fa6_row15_col2\" class=\"data row15 col2\" >-1.638728</td>\n",
       "      <td id=\"T_d3fa6_row15_col3\" class=\"data row15 col3\" >0.105573</td>\n",
       "      <td id=\"T_d3fa6_row15_col4\" class=\"data row15 col4\" >-2.494897</td>\n",
       "      <td id=\"T_d3fa6_row15_col5\" class=\"data row15 col5\" >0.014685</td>\n",
       "      <td id=\"T_d3fa6_row15_col6\" class=\"data row15 col6\" >-2.010750</td>\n",
       "      <td id=\"T_d3fa6_row15_col7\" class=\"data row15 col7\" >0.047217</td>\n",
       "    </tr>\n",
       "  </tbody>\n",
       "</table>\n"
      ],
      "text/plain": [
       "<pandas.io.formats.style.Styler at 0x7fb08801bfd0>"
      ]
     },
     "execution_count": 127,
     "metadata": {},
     "output_type": "execute_result"
    }
   ],
   "source": [
    "res = aplly_to_all_tasks(merge_df, ttest, test_columns=cols_tasks, group=('target', 'diagnosis.group'))\n",
    "style(thresh_any_task(res, thresh=0.01))"
   ]
  },
  {
   "cell_type": "code",
   "execution_count": 128,
   "id": "036e5815",
   "metadata": {},
   "outputs": [],
   "source": [
    "def ttest_select(df, test_two_groups, colname, cols_tasks=cols_tasks):\n",
    "    groups = df[df[('target', colname)].isin(test_two_groups)]\n",
    "    s_t, res_t = display_group_test(groups, cols_tasks, ('target', colname), test=stats.ttest_ind, stat_name='t', alpha=a)\n",
    "    return res_t['t']"
   ]
  },
  {
   "cell_type": "code",
   "execution_count": 129,
   "id": "b6c38206",
   "metadata": {},
   "outputs": [],
   "source": [
    "chair = task_data(merge_df, 'chair')"
   ]
  },
  {
   "cell_type": "code",
   "execution_count": 130,
   "id": "f0592c45",
   "metadata": {},
   "outputs": [],
   "source": [
    "# ttest_select(chair, ('sz', 'control_psy'), 'diagnosis.type')"
   ]
  },
  {
   "cell_type": "code",
   "execution_count": 131,
   "id": "05d8fbb2",
   "metadata": {},
   "outputs": [],
   "source": [
    "# test_two_groups = ('sz', 'control_psy')\n",
    "# groups = merge_df[merge_df[('target', 'target','diagnosis.type')].isin(test_two_groups)]\n",
    "# res = aplly_to_all_tasks(groups, ttest, test_columns=cols_tasks, group=('target', 'diagnosis.type'))\n",
    "# style(thresh_any_task(res, thresh=0.005))"
   ]
  },
  {
   "cell_type": "code",
   "execution_count": 132,
   "id": "54590b16",
   "metadata": {},
   "outputs": [],
   "source": [
    "# test_two_groups = ('sz', 'control')\n",
    "# groups = merge_df[merge_df[('target', 'target','diagnosis.type')].isin(test_two_groups)]\n",
    "# res = aplly_to_all_tasks(groups, ttest, test_columns=cols_tasks, group=('target', 'diagnosis.type'))\n",
    "# style(thresh_any_task(res, thresh=0.005))"
   ]
  },
  {
   "cell_type": "code",
   "execution_count": 133,
   "id": "ae42691f",
   "metadata": {},
   "outputs": [],
   "source": [
    "# test_two_groups = ('dep', 'control_psy')\n",
    "# groups = merge_df[merge_df[('target', 'target','diagnosis.type')].isin(test_two_groups)]\n",
    "# res = aplly_to_all_tasks(groups, ttest, test_columns=cols_tasks, group=('target', 'diagnosis.type'))\n",
    "# style(thresh_any_task(res, thresh=0.005))"
   ]
  },
  {
   "cell_type": "code",
   "execution_count": 134,
   "id": "00692c66",
   "metadata": {},
   "outputs": [],
   "source": [
    "# test_two_groups = ('dep', 'sz')\n",
    "# groups = merge_df[merge_df[('target', 'target','diagnosis.type')].isin(test_two_groups)]\n",
    "# res = aplly_to_all_tasks(groups, ttest, test_columns=cols_tasks, group=('target', 'diagnosis.type'))\n",
    "# style(thresh_any_task(res, thresh=0.005))"
   ]
  },
  {
   "cell_type": "markdown",
   "id": "7db0bbc6",
   "metadata": {},
   "source": [
    "### Corr"
   ]
  },
  {
   "cell_type": "code",
   "execution_count": 135,
   "id": "b08679b5",
   "metadata": {},
   "outputs": [],
   "source": [
    "# style(aplly_to_all_tasks(merge_df, corr_thresh, target=('target', 'panss_total')))"
   ]
  },
  {
   "cell_type": "code",
   "execution_count": 136,
   "id": "987e2f1d",
   "metadata": {},
   "outputs": [],
   "source": [
    "# style(aplly_to_all_tasks(merge_df, corr_thresh, target=('target', 'panss_pos')))"
   ]
  },
  {
   "cell_type": "code",
   "execution_count": 137,
   "id": "65c3a642",
   "metadata": {},
   "outputs": [],
   "source": [
    "# style(aplly_to_all_tasks(merge_df, corr_thresh, target=('target', 'panss_neg')))"
   ]
  },
  {
   "cell_type": "code",
   "execution_count": 138,
   "id": "23ef0bda",
   "metadata": {},
   "outputs": [],
   "source": [
    "# style(aplly_to_all_tasks(merge_df, corr_thresh, target=('target', 'panss_o')))"
   ]
  },
  {
   "cell_type": "markdown",
   "id": "bba33a3a",
   "metadata": {},
   "source": [
    "## Ordered Model"
   ]
  },
  {
   "cell_type": "code",
   "execution_count": 139,
   "id": "a36d5bb9",
   "metadata": {},
   "outputs": [],
   "source": [
    "psy_td = df[~pd.isna(df['td.severity'])]"
   ]
  },
  {
   "cell_type": "code",
   "execution_count": 140,
   "id": "27cf3825",
   "metadata": {},
   "outputs": [
    {
     "name": "stderr",
     "output_type": "stream",
     "text": [
      "/var/folders/1l/2khv4cgj7xs0zrm9hnl_yrzh0000gn/T/ipykernel_31107/3739057385.py:1: SettingWithCopyWarning: \n",
      "A value is trying to be set on a copy of a slice from a DataFrame.\n",
      "Try using .loc[row_indexer,col_indexer] = value instead\n",
      "\n",
      "See the caveats in the documentation: https://pandas.pydata.org/pandas-docs/stable/user_guide/indexing.html#returning-a-view-versus-a-copy\n",
      "  psy_td['td.severity'] = psy_td.loc[:,'td.severity'].astype(pd.CategoricalDtype(ordered=True))\n"
     ]
    }
   ],
   "source": [
    "psy_td['td.severity'] = psy_td.loc[:,'td.severity'].astype(pd.CategoricalDtype(ordered=True))\n",
    "psy_td = psy_td.loc[psy_td[['td.severity', 'panss_total', 'panss_pos', 'panss_neg']].dropna().index]"
   ]
  },
  {
   "cell_type": "code",
   "execution_count": 141,
   "id": "d26a3251",
   "metadata": {},
   "outputs": [],
   "source": [
    "def compute_pseudo_rsquared_ordered(df, target_col, predictor_cols):\n",
    "    df = df.loc[df[[target_col] + predictor_cols].dropna().index]\n",
    "    mod_prob = OrderedModel(df[target_col],\n",
    "                        df[predictor_cols],\n",
    "                        distr='probit')\n",
    "\n",
    "    res_prob = mod_prob.fit(method='bfgs', disp=0)\n",
    "    return res_prob.prsquared"
   ]
  },
  {
   "cell_type": "markdown",
   "id": "60aeaca9",
   "metadata": {},
   "source": [
    "TD"
   ]
  },
  {
   "cell_type": "code",
   "execution_count": 142,
   "id": "128c7c96",
   "metadata": {},
   "outputs": [
    {
     "data": {
      "text/plain": [
       "0.6742463723003046"
      ]
     },
     "execution_count": 142,
     "metadata": {},
     "output_type": "execute_result"
    }
   ],
   "source": [
    "compute_pseudo_rsquared_ordered(psy_td, 'td.severity', ['panss_total', 'panss_pos', 'panss_neg'])"
   ]
  },
  {
   "cell_type": "code",
   "execution_count": 143,
   "id": "0fe82ada",
   "metadata": {},
   "outputs": [],
   "source": [
    "# compute_pseudo_rsquared_ordered(psy_td, 'td.severity', ['panss_total', 'panss_pos'])"
   ]
  },
  {
   "cell_type": "code",
   "execution_count": 144,
   "id": "09f7f8fc",
   "metadata": {},
   "outputs": [],
   "source": [
    "# compute_pseudo_rsquared_ordered(psy_td, 'td.severity', ['panss_total'])"
   ]
  },
  {
   "cell_type": "code",
   "execution_count": 145,
   "id": "74261bd1",
   "metadata": {},
   "outputs": [],
   "source": [
    "# compute_pseudo_rsquared_ordered(psy_td, 'td.severity', ['panss_pos'])"
   ]
  },
  {
   "cell_type": "markdown",
   "id": "cd7bb064",
   "metadata": {},
   "source": [
    "dep"
   ]
  },
  {
   "cell_type": "code",
   "execution_count": 146,
   "id": "250d4fa1",
   "metadata": {},
   "outputs": [],
   "source": [
    "# compute_pseudo_rsquared_ordered(psy_td, 'dep.severity', ['panss_o'])"
   ]
  },
  {
   "cell_type": "code",
   "execution_count": 147,
   "id": "7d114d36",
   "metadata": {},
   "outputs": [],
   "source": [
    "# compute_pseudo_rsquared_ordered(psy_td, 'dep.severity', ['panss_total'])"
   ]
  },
  {
   "cell_type": "code",
   "execution_count": 148,
   "id": "ea6eb215",
   "metadata": {},
   "outputs": [],
   "source": [
    "# compute_pseudo_rsquared_ordered(psy_td, 'dep.severity', ['panss_neg'])"
   ]
  },
  {
   "cell_type": "code",
   "execution_count": 149,
   "id": "49c2fe93",
   "metadata": {},
   "outputs": [],
   "source": [
    "# compute_pseudo_rsquared_ordered(chair, ('target', 'dep.severity'), [('LM', 'm_cgcoh')])"
   ]
  },
  {
   "cell_type": "markdown",
   "id": "82daf7e1",
   "metadata": {},
   "source": [
    "## Length"
   ]
  },
  {
   "cell_type": "code",
   "execution_count": 150,
   "id": "1ee69309",
   "metadata": {},
   "outputs": [],
   "source": [
    "# chair"
   ]
  },
  {
   "cell_type": "code",
   "execution_count": 151,
   "id": "552c514d",
   "metadata": {},
   "outputs": [
    {
     "data": {
      "text/html": [
       "<style type=\"text/css\">\n",
       "#T_e1cc8_row0_col0, #T_e1cc8_row1_col0, #T_e1cc8_row1_col2, #T_e1cc8_row2_col0, #T_e1cc8_row2_col2, #T_e1cc8_row5_col0, #T_e1cc8_row6_col0, #T_e1cc8_row8_col0 {\n",
       "  background-color: #000000;\n",
       "  color: #f1f1f1;\n",
       "  color: white;\n",
       "  background-color: white;\n",
       "}\n",
       "#T_e1cc8_row0_col1, #T_e1cc8_row0_col2, #T_e1cc8_row2_col1, #T_e1cc8_row4_col0 {\n",
       "  background-color: #08306b;\n",
       "  color: #f1f1f1;\n",
       "}\n",
       "#T_e1cc8_row0_col3, #T_e1cc8_row2_col3, #T_e1cc8_row3_col3, #T_e1cc8_row4_col3, #T_e1cc8_row5_col3, #T_e1cc8_row6_col3, #T_e1cc8_row7_col3, #T_e1cc8_row8_col3 {\n",
       "  background-color: #f7fbff;\n",
       "  color: #000000;\n",
       "  color: white;\n",
       "  background-color: white;\n",
       "}\n",
       "#T_e1cc8_row1_col1 {\n",
       "  background-color: #d5e5f4;\n",
       "  color: #000000;\n",
       "}\n",
       "#T_e1cc8_row1_col3, #T_e1cc8_row3_col0, #T_e1cc8_row3_col2, #T_e1cc8_row7_col1 {\n",
       "  background-color: #f7fbff;\n",
       "  color: #000000;\n",
       "}\n",
       "#T_e1cc8_row3_col1 {\n",
       "  background-color: #f3f8fe;\n",
       "  color: #000000;\n",
       "}\n",
       "#T_e1cc8_row4_col1 {\n",
       "  background-color: #f4f9fe;\n",
       "  color: #000000;\n",
       "}\n",
       "#T_e1cc8_row4_col2 {\n",
       "  background-color: #b8d5ea;\n",
       "  color: #000000;\n",
       "}\n",
       "#T_e1cc8_row5_col1 {\n",
       "  background-color: #e6f0f9;\n",
       "  color: #000000;\n",
       "}\n",
       "#T_e1cc8_row5_col2 {\n",
       "  background-color: #9cc9e1;\n",
       "  color: #000000;\n",
       "}\n",
       "#T_e1cc8_row6_col1 {\n",
       "  background-color: #d2e3f3;\n",
       "  color: #000000;\n",
       "}\n",
       "#T_e1cc8_row6_col2 {\n",
       "  background-color: #8cc0dd;\n",
       "  color: #000000;\n",
       "}\n",
       "#T_e1cc8_row7_col0 {\n",
       "  background-color: #7ab6d9;\n",
       "  color: #000000;\n",
       "}\n",
       "#T_e1cc8_row7_col2 {\n",
       "  background-color: #edf4fc;\n",
       "  color: #000000;\n",
       "}\n",
       "#T_e1cc8_row8_col1 {\n",
       "  background-color: #d4e4f4;\n",
       "  color: #000000;\n",
       "}\n",
       "#T_e1cc8_row8_col2 {\n",
       "  background-color: #2171b5;\n",
       "  color: #f1f1f1;\n",
       "}\n",
       "</style>\n",
       "<table id=\"T_e1cc8\">\n",
       "  <thead>\n",
       "    <tr>\n",
       "      <th class=\"blank level0\" >&nbsp;</th>\n",
       "      <th id=\"T_e1cc8_level0_col0\" class=\"col_heading level0 col0\" >adventure</th>\n",
       "      <th id=\"T_e1cc8_level0_col1\" class=\"col_heading level0 col1\" >chair</th>\n",
       "      <th id=\"T_e1cc8_level0_col2\" class=\"col_heading level0 col2\" >present</th>\n",
       "      <th id=\"T_e1cc8_level0_col3\" class=\"col_heading level0 col3\" >sportsman</th>\n",
       "    </tr>\n",
       "  </thead>\n",
       "  <tbody>\n",
       "    <tr>\n",
       "      <th id=\"T_e1cc8_level0_row0\" class=\"row_heading level0 row0\" >age</th>\n",
       "      <td id=\"T_e1cc8_row0_col0\" class=\"data row0 col0\" >nan</td>\n",
       "      <td id=\"T_e1cc8_row0_col1\" class=\"data row0 col1\" >0.342145</td>\n",
       "      <td id=\"T_e1cc8_row0_col2\" class=\"data row0 col2\" >-0.173087</td>\n",
       "      <td id=\"T_e1cc8_row0_col3\" class=\"data row0 col3\" >nan</td>\n",
       "    </tr>\n",
       "    <tr>\n",
       "      <th id=\"T_e1cc8_level0_row1\" class=\"row_heading level0 row1\" >dep.severity</th>\n",
       "      <td id=\"T_e1cc8_row1_col0\" class=\"data row1 col0\" >nan</td>\n",
       "      <td id=\"T_e1cc8_row1_col1\" class=\"data row1 col1\" >-0.250554</td>\n",
       "      <td id=\"T_e1cc8_row1_col2\" class=\"data row1 col2\" >nan</td>\n",
       "      <td id=\"T_e1cc8_row1_col3\" class=\"data row1 col3\" >-0.169931</td>\n",
       "    </tr>\n",
       "    <tr>\n",
       "      <th id=\"T_e1cc8_level0_row2\" class=\"row_heading level0 row2\" >education.years</th>\n",
       "      <td id=\"T_e1cc8_row2_col0\" class=\"data row2 col0\" >nan</td>\n",
       "      <td id=\"T_e1cc8_row2_col1\" class=\"data row2 col1\" >0.339751</td>\n",
       "      <td id=\"T_e1cc8_row2_col2\" class=\"data row2 col2\" >nan</td>\n",
       "      <td id=\"T_e1cc8_row2_col3\" class=\"data row2 col3\" >nan</td>\n",
       "    </tr>\n",
       "    <tr>\n",
       "      <th id=\"T_e1cc8_level0_row3\" class=\"row_heading level0 row3\" >panss_neg</th>\n",
       "      <td id=\"T_e1cc8_row3_col0\" class=\"data row3 col0\" >-0.237326</td>\n",
       "      <td id=\"T_e1cc8_row3_col1\" class=\"data row3 col1\" >-0.358061</td>\n",
       "      <td id=\"T_e1cc8_row3_col2\" class=\"data row3 col2\" >-0.336585</td>\n",
       "      <td id=\"T_e1cc8_row3_col3\" class=\"data row3 col3\" >nan</td>\n",
       "    </tr>\n",
       "    <tr>\n",
       "      <th id=\"T_e1cc8_level0_row4\" class=\"row_heading level0 row4\" >panss_o</th>\n",
       "      <td id=\"T_e1cc8_row4_col0\" class=\"data row4 col0\" >-0.156362</td>\n",
       "      <td id=\"T_e1cc8_row4_col1\" class=\"data row4 col1\" >-0.359784</td>\n",
       "      <td id=\"T_e1cc8_row4_col2\" class=\"data row4 col2\" >-0.288190</td>\n",
       "      <td id=\"T_e1cc8_row4_col3\" class=\"data row4 col3\" >nan</td>\n",
       "    </tr>\n",
       "    <tr>\n",
       "      <th id=\"T_e1cc8_level0_row5\" class=\"row_heading level0 row5\" >panss_pos</th>\n",
       "      <td id=\"T_e1cc8_row5_col0\" class=\"data row5 col0\" >nan</td>\n",
       "      <td id=\"T_e1cc8_row5_col1\" class=\"data row5 col1\" >-0.311077</td>\n",
       "      <td id=\"T_e1cc8_row5_col2\" class=\"data row5 col2\" >-0.274064</td>\n",
       "      <td id=\"T_e1cc8_row5_col3\" class=\"data row5 col3\" >nan</td>\n",
       "    </tr>\n",
       "    <tr>\n",
       "      <th id=\"T_e1cc8_level0_row6\" class=\"row_heading level0 row6\" >panss_td</th>\n",
       "      <td id=\"T_e1cc8_row6_col0\" class=\"data row6 col0\" >nan</td>\n",
       "      <td id=\"T_e1cc8_row6_col1\" class=\"data row6 col1\" >-0.238211</td>\n",
       "      <td id=\"T_e1cc8_row6_col2\" class=\"data row6 col2\" >-0.267711</td>\n",
       "      <td id=\"T_e1cc8_row6_col3\" class=\"data row6 col3\" >nan</td>\n",
       "    </tr>\n",
       "    <tr>\n",
       "      <th id=\"T_e1cc8_level0_row7\" class=\"row_heading level0 row7\" >panss_total</th>\n",
       "      <td id=\"T_e1cc8_row7_col0\" class=\"data row7 col0\" >-0.199764</td>\n",
       "      <td id=\"T_e1cc8_row7_col1\" class=\"data row7 col1\" >-0.373700</td>\n",
       "      <td id=\"T_e1cc8_row7_col2\" class=\"data row7 col2\" >-0.327721</td>\n",
       "      <td id=\"T_e1cc8_row7_col3\" class=\"data row7 col3\" >nan</td>\n",
       "    </tr>\n",
       "    <tr>\n",
       "      <th id=\"T_e1cc8_level0_row8\" class=\"row_heading level0 row8\" >td.severity</th>\n",
       "      <td id=\"T_e1cc8_row8_col0\" class=\"data row8 col0\" >nan</td>\n",
       "      <td id=\"T_e1cc8_row8_col1\" class=\"data row8 col1\" >-0.246204</td>\n",
       "      <td id=\"T_e1cc8_row8_col2\" class=\"data row8 col2\" >-0.214338</td>\n",
       "      <td id=\"T_e1cc8_row8_col3\" class=\"data row8 col3\" >nan</td>\n",
       "    </tr>\n",
       "  </tbody>\n",
       "</table>\n"
      ],
      "text/plain": [
       "<pandas.io.formats.style.Styler at 0x7fb0881f8fa0>"
      ]
     },
     "execution_count": 151,
     "metadata": {},
     "output_type": "execute_result"
    }
   ],
   "source": [
    "style(aplly_to_all_tasks(merge_df, corr_thresh, target=('syntactic', 'mean_sent_len'), thresh=0.15, drop_target=False).loc['target'])"
   ]
  },
  {
   "cell_type": "code",
   "execution_count": 152,
   "id": "c28db1e2",
   "metadata": {},
   "outputs": [
    {
     "data": {
      "text/html": [
       "<style type=\"text/css\">\n",
       "#T_5500a_row0_col0, #T_5500a_row0_col2, #T_5500a_row0_col3, #T_5500a_row1_col0, #T_5500a_row1_col2, #T_5500a_row1_col3, #T_5500a_row2_col0, #T_5500a_row2_col2, #T_5500a_row2_col3, #T_5500a_row3_col0, #T_5500a_row3_col1, #T_5500a_row3_col2, #T_5500a_row4_col0, #T_5500a_row4_col1, #T_5500a_row4_col2, #T_5500a_row5_col0, #T_5500a_row5_col1, #T_5500a_row5_col2, #T_5500a_row6_col0, #T_5500a_row6_col1, #T_5500a_row6_col2, #T_5500a_row7_col0, #T_5500a_row7_col1, #T_5500a_row7_col2, #T_5500a_row8_col0, #T_5500a_row8_col1, #T_5500a_row8_col2, #T_5500a_row9_col0, #T_5500a_row9_col1, #T_5500a_row9_col2, #T_5500a_row11_col2, #T_5500a_row13_col0, #T_5500a_row13_col1, #T_5500a_row13_col2, #T_5500a_row14_col2, #T_5500a_row15_col0, #T_5500a_row15_col1, #T_5500a_row15_col2, #T_5500a_row16_col0, #T_5500a_row16_col1, #T_5500a_row16_col2, #T_5500a_row17_col1, #T_5500a_row17_col2, #T_5500a_row17_col3, #T_5500a_row18_col1, #T_5500a_row18_col2, #T_5500a_row18_col3, #T_5500a_row19_col0, #T_5500a_row19_col1, #T_5500a_row19_col2, #T_5500a_row20_col1, #T_5500a_row20_col2, #T_5500a_row21_col1, #T_5500a_row21_col2, #T_5500a_row21_col3, #T_5500a_row22_col1, #T_5500a_row22_col2, #T_5500a_row23_col0, #T_5500a_row23_col1, #T_5500a_row23_col2, #T_5500a_row25_col0, #T_5500a_row25_col1, #T_5500a_row25_col2, #T_5500a_row26_col3 {\n",
       "  background-color: #000000;\n",
       "  color: #f1f1f1;\n",
       "  color: white;\n",
       "  background-color: white;\n",
       "}\n",
       "#T_5500a_row0_col1, #T_5500a_row12_col2, #T_5500a_row20_col0, #T_5500a_row20_col3 {\n",
       "  background-color: #f7fbff;\n",
       "  color: #000000;\n",
       "}\n",
       "#T_5500a_row1_col1 {\n",
       "  background-color: #f5f9fe;\n",
       "  color: #000000;\n",
       "}\n",
       "#T_5500a_row2_col1 {\n",
       "  background-color: #ecf4fb;\n",
       "  color: #000000;\n",
       "}\n",
       "#T_5500a_row3_col3, #T_5500a_row15_col3 {\n",
       "  background-color: #084a91;\n",
       "  color: #f1f1f1;\n",
       "}\n",
       "#T_5500a_row4_col3, #T_5500a_row12_col0 {\n",
       "  background-color: #084b93;\n",
       "  color: #f1f1f1;\n",
       "}\n",
       "#T_5500a_row5_col3, #T_5500a_row24_col2 {\n",
       "  background-color: #0f5aa3;\n",
       "  color: #f1f1f1;\n",
       "}\n",
       "#T_5500a_row6_col3 {\n",
       "  background-color: #0a549e;\n",
       "  color: #f1f1f1;\n",
       "}\n",
       "#T_5500a_row7_col3, #T_5500a_row8_col3 {\n",
       "  background-color: #1663aa;\n",
       "  color: #f1f1f1;\n",
       "}\n",
       "#T_5500a_row9_col3 {\n",
       "  background-color: #08468b;\n",
       "  color: #f1f1f1;\n",
       "}\n",
       "#T_5500a_row10_col0 {\n",
       "  background-color: #083e81;\n",
       "  color: #f1f1f1;\n",
       "}\n",
       "#T_5500a_row10_col1, #T_5500a_row14_col3 {\n",
       "  background-color: #08326e;\n",
       "  color: #f1f1f1;\n",
       "}\n",
       "#T_5500a_row10_col2 {\n",
       "  background-color: #dae8f6;\n",
       "  color: #000000;\n",
       "}\n",
       "#T_5500a_row10_col3, #T_5500a_row22_col0, #T_5500a_row26_col0, #T_5500a_row26_col1, #T_5500a_row26_col2 {\n",
       "  background-color: #08306b;\n",
       "  color: #f1f1f1;\n",
       "}\n",
       "#T_5500a_row11_col0 {\n",
       "  background-color: #08509b;\n",
       "  color: #f1f1f1;\n",
       "}\n",
       "#T_5500a_row11_col1 {\n",
       "  background-color: #084387;\n",
       "  color: #f1f1f1;\n",
       "}\n",
       "#T_5500a_row11_col3, #T_5500a_row16_col3 {\n",
       "  background-color: #084082;\n",
       "  color: #f1f1f1;\n",
       "}\n",
       "#T_5500a_row12_col1 {\n",
       "  background-color: #084285;\n",
       "  color: #f1f1f1;\n",
       "}\n",
       "#T_5500a_row12_col3, #T_5500a_row24_col0 {\n",
       "  background-color: #083b7c;\n",
       "  color: #f1f1f1;\n",
       "}\n",
       "#T_5500a_row13_col3 {\n",
       "  background-color: #084c95;\n",
       "  color: #f1f1f1;\n",
       "}\n",
       "#T_5500a_row14_col0 {\n",
       "  background-color: #0d57a1;\n",
       "  color: #f1f1f1;\n",
       "}\n",
       "#T_5500a_row14_col1 {\n",
       "  background-color: #084990;\n",
       "  color: #f1f1f1;\n",
       "}\n",
       "#T_5500a_row17_col0, #T_5500a_row21_col0 {\n",
       "  background-color: #084e98;\n",
       "  color: #f1f1f1;\n",
       "}\n",
       "#T_5500a_row18_col0, #T_5500a_row24_col3 {\n",
       "  background-color: #105ba4;\n",
       "  color: #f1f1f1;\n",
       "}\n",
       "#T_5500a_row19_col3 {\n",
       "  background-color: #e2edf8;\n",
       "  color: #000000;\n",
       "}\n",
       "#T_5500a_row22_col3 {\n",
       "  background-color: #08478d;\n",
       "  color: #f1f1f1;\n",
       "}\n",
       "#T_5500a_row23_col3 {\n",
       "  background-color: #1460a8;\n",
       "  color: #f1f1f1;\n",
       "}\n",
       "#T_5500a_row24_col1 {\n",
       "  background-color: #083573;\n",
       "  color: #f1f1f1;\n",
       "}\n",
       "#T_5500a_row25_col3 {\n",
       "  background-color: #084184;\n",
       "  color: #f1f1f1;\n",
       "}\n",
       "</style>\n",
       "<table id=\"T_5500a\">\n",
       "  <thead>\n",
       "    <tr>\n",
       "      <th class=\"blank\" >&nbsp;</th>\n",
       "      <th class=\"blank level0\" >&nbsp;</th>\n",
       "      <th id=\"T_5500a_level0_col0\" class=\"col_heading level0 col0\" >adventure</th>\n",
       "      <th id=\"T_5500a_level0_col1\" class=\"col_heading level0 col1\" >chair</th>\n",
       "      <th id=\"T_5500a_level0_col2\" class=\"col_heading level0 col2\" >present</th>\n",
       "      <th id=\"T_5500a_level0_col3\" class=\"col_heading level0 col3\" >sportsman</th>\n",
       "    </tr>\n",
       "  </thead>\n",
       "  <tbody>\n",
       "    <tr>\n",
       "      <th id=\"T_5500a_level0_row0\" class=\"row_heading level0 row0\" rowspan=\"17\">LM</th>\n",
       "      <th id=\"T_5500a_level1_row0\" class=\"row_heading level1 row0\" >bert_cgcoh</th>\n",
       "      <td id=\"T_5500a_row0_col0\" class=\"data row0 col0\" >nan</td>\n",
       "      <td id=\"T_5500a_row0_col1\" class=\"data row0 col1\" >-0.574943</td>\n",
       "      <td id=\"T_5500a_row0_col2\" class=\"data row0 col2\" >nan</td>\n",
       "      <td id=\"T_5500a_row0_col3\" class=\"data row0 col3\" >nan</td>\n",
       "    </tr>\n",
       "    <tr>\n",
       "      <th id=\"T_5500a_level1_row1\" class=\"row_heading level1 row1\" >bert_gcoh</th>\n",
       "      <td id=\"T_5500a_row1_col0\" class=\"data row1 col0\" >nan</td>\n",
       "      <td id=\"T_5500a_row1_col1\" class=\"data row1 col1\" >-0.559900</td>\n",
       "      <td id=\"T_5500a_row1_col2\" class=\"data row1 col2\" >nan</td>\n",
       "      <td id=\"T_5500a_row1_col3\" class=\"data row1 col3\" >nan</td>\n",
       "    </tr>\n",
       "    <tr>\n",
       "      <th id=\"T_5500a_level1_row2\" class=\"row_heading level1 row2\" >bert_scoh</th>\n",
       "      <td id=\"T_5500a_row2_col0\" class=\"data row2 col0\" >nan</td>\n",
       "      <td id=\"T_5500a_row2_col1\" class=\"data row2 col1\" >-0.506494</td>\n",
       "      <td id=\"T_5500a_row2_col2\" class=\"data row2 col2\" >nan</td>\n",
       "      <td id=\"T_5500a_row2_col3\" class=\"data row2 col3\" >nan</td>\n",
       "    </tr>\n",
       "    <tr>\n",
       "      <th id=\"T_5500a_level1_row3\" class=\"row_heading level1 row3\" >glove_avg_cgcoh</th>\n",
       "      <td id=\"T_5500a_row3_col0\" class=\"data row3 col0\" >nan</td>\n",
       "      <td id=\"T_5500a_row3_col1\" class=\"data row3 col1\" >nan</td>\n",
       "      <td id=\"T_5500a_row3_col2\" class=\"data row3 col2\" >nan</td>\n",
       "      <td id=\"T_5500a_row3_col3\" class=\"data row3 col3\" >0.659808</td>\n",
       "    </tr>\n",
       "    <tr>\n",
       "      <th id=\"T_5500a_level1_row4\" class=\"row_heading level1 row4\" >glove_avg_gcoh</th>\n",
       "      <td id=\"T_5500a_row4_col0\" class=\"data row4 col0\" >nan</td>\n",
       "      <td id=\"T_5500a_row4_col1\" class=\"data row4 col1\" >nan</td>\n",
       "      <td id=\"T_5500a_row4_col2\" class=\"data row4 col2\" >nan</td>\n",
       "      <td id=\"T_5500a_row4_col3\" class=\"data row4 col3\" >0.653075</td>\n",
       "    </tr>\n",
       "    <tr>\n",
       "      <th id=\"T_5500a_level1_row5\" class=\"row_heading level1 row5\" >glove_avg_lcoh</th>\n",
       "      <td id=\"T_5500a_row5_col0\" class=\"data row5 col0\" >nan</td>\n",
       "      <td id=\"T_5500a_row5_col1\" class=\"data row5 col1\" >nan</td>\n",
       "      <td id=\"T_5500a_row5_col2\" class=\"data row5 col2\" >nan</td>\n",
       "      <td id=\"T_5500a_row5_col3\" class=\"data row5 col3\" >0.569963</td>\n",
       "    </tr>\n",
       "    <tr>\n",
       "      <th id=\"T_5500a_level1_row6\" class=\"row_heading level1 row6\" >glove_avg_scoh</th>\n",
       "      <td id=\"T_5500a_row6_col0\" class=\"data row6 col0\" >nan</td>\n",
       "      <td id=\"T_5500a_row6_col1\" class=\"data row6 col1\" >nan</td>\n",
       "      <td id=\"T_5500a_row6_col2\" class=\"data row6 col2\" >nan</td>\n",
       "      <td id=\"T_5500a_row6_col3\" class=\"data row6 col3\" >0.603958</td>\n",
       "    </tr>\n",
       "    <tr>\n",
       "      <th id=\"T_5500a_level1_row7\" class=\"row_heading level1 row7\" >glove_tf_cgcoh</th>\n",
       "      <td id=\"T_5500a_row7_col0\" class=\"data row7 col0\" >nan</td>\n",
       "      <td id=\"T_5500a_row7_col1\" class=\"data row7 col1\" >nan</td>\n",
       "      <td id=\"T_5500a_row7_col2\" class=\"data row7 col2\" >nan</td>\n",
       "      <td id=\"T_5500a_row7_col3\" class=\"data row7 col3\" >0.512129</td>\n",
       "    </tr>\n",
       "    <tr>\n",
       "      <th id=\"T_5500a_level1_row8\" class=\"row_heading level1 row8\" >glove_tf_gcoh</th>\n",
       "      <td id=\"T_5500a_row8_col0\" class=\"data row8 col0\" >nan</td>\n",
       "      <td id=\"T_5500a_row8_col1\" class=\"data row8 col1\" >nan</td>\n",
       "      <td id=\"T_5500a_row8_col2\" class=\"data row8 col2\" >nan</td>\n",
       "      <td id=\"T_5500a_row8_col3\" class=\"data row8 col3\" >0.512739</td>\n",
       "    </tr>\n",
       "    <tr>\n",
       "      <th id=\"T_5500a_level1_row9\" class=\"row_heading level1 row9\" >w2v_avg_cgcoh</th>\n",
       "      <td id=\"T_5500a_row9_col0\" class=\"data row9 col0\" >nan</td>\n",
       "      <td id=\"T_5500a_row9_col1\" class=\"data row9 col1\" >nan</td>\n",
       "      <td id=\"T_5500a_row9_col2\" class=\"data row9 col2\" >nan</td>\n",
       "      <td id=\"T_5500a_row9_col3\" class=\"data row9 col3\" >0.683078</td>\n",
       "    </tr>\n",
       "    <tr>\n",
       "      <th id=\"T_5500a_level1_row10\" class=\"row_heading level1 row10\" >w2v_avg_gcoh</th>\n",
       "      <td id=\"T_5500a_row10_col0\" class=\"data row10 col0\" >0.674060</td>\n",
       "      <td id=\"T_5500a_row10_col1\" class=\"data row10 col1\" >0.645047</td>\n",
       "      <td id=\"T_5500a_row10_col2\" class=\"data row10 col2\" >0.565467</td>\n",
       "      <td id=\"T_5500a_row10_col3\" class=\"data row10 col3\" >0.809424</td>\n",
       "    </tr>\n",
       "    <tr>\n",
       "      <th id=\"T_5500a_level1_row11\" class=\"row_heading level1 row11\" >w2v_avg_lcoh</th>\n",
       "      <td id=\"T_5500a_row11_col0\" class=\"data row11 col0\" >0.589587</td>\n",
       "      <td id=\"T_5500a_row11_col1\" class=\"data row11 col1\" >0.567815</td>\n",
       "      <td id=\"T_5500a_row11_col2\" class=\"data row11 col2\" >nan</td>\n",
       "      <td id=\"T_5500a_row11_col3\" class=\"data row11 col3\" >0.716558</td>\n",
       "    </tr>\n",
       "    <tr>\n",
       "      <th id=\"T_5500a_level1_row12\" class=\"row_heading level1 row12\" >w2v_avg_scoh</th>\n",
       "      <td id=\"T_5500a_row12_col0\" class=\"data row12 col0\" >0.612629</td>\n",
       "      <td id=\"T_5500a_row12_col1\" class=\"data row12 col1\" >0.570776</td>\n",
       "      <td id=\"T_5500a_row12_col2\" class=\"data row12 col2\" >0.511350</td>\n",
       "      <td id=\"T_5500a_row12_col3\" class=\"data row12 col3\" >0.742231</td>\n",
       "    </tr>\n",
       "    <tr>\n",
       "      <th id=\"T_5500a_level1_row13\" class=\"row_heading level1 row13\" >w2v_tf_cgcoh</th>\n",
       "      <td id=\"T_5500a_row13_col0\" class=\"data row13 col0\" >nan</td>\n",
       "      <td id=\"T_5500a_row13_col1\" class=\"data row13 col1\" >nan</td>\n",
       "      <td id=\"T_5500a_row13_col2\" class=\"data row13 col2\" >nan</td>\n",
       "      <td id=\"T_5500a_row13_col3\" class=\"data row13 col3\" >0.647416</td>\n",
       "    </tr>\n",
       "    <tr>\n",
       "      <th id=\"T_5500a_level1_row14\" class=\"row_heading level1 row14\" >w2v_tf_gcoh</th>\n",
       "      <td id=\"T_5500a_row14_col0\" class=\"data row14 col0\" >0.553944</td>\n",
       "      <td id=\"T_5500a_row14_col1\" class=\"data row14 col1\" >0.535403</td>\n",
       "      <td id=\"T_5500a_row14_col2\" class=\"data row14 col2\" >nan</td>\n",
       "      <td id=\"T_5500a_row14_col3\" class=\"data row14 col3\" >0.794022</td>\n",
       "    </tr>\n",
       "    <tr>\n",
       "      <th id=\"T_5500a_level1_row15\" class=\"row_heading level1 row15\" >w2v_tf_lcoh</th>\n",
       "      <td id=\"T_5500a_row15_col0\" class=\"data row15 col0\" >nan</td>\n",
       "      <td id=\"T_5500a_row15_col1\" class=\"data row15 col1\" >nan</td>\n",
       "      <td id=\"T_5500a_row15_col2\" class=\"data row15 col2\" >nan</td>\n",
       "      <td id=\"T_5500a_row15_col3\" class=\"data row15 col3\" >0.659327</td>\n",
       "    </tr>\n",
       "    <tr>\n",
       "      <th id=\"T_5500a_level1_row16\" class=\"row_heading level1 row16\" >w2v_tf_scoh</th>\n",
       "      <td id=\"T_5500a_row16_col0\" class=\"data row16 col0\" >nan</td>\n",
       "      <td id=\"T_5500a_row16_col1\" class=\"data row16 col1\" >nan</td>\n",
       "      <td id=\"T_5500a_row16_col2\" class=\"data row16 col2\" >nan</td>\n",
       "      <td id=\"T_5500a_row16_col3\" class=\"data row16 col3\" >0.718042</td>\n",
       "    </tr>\n",
       "    <tr>\n",
       "      <th id=\"T_5500a_level0_row17\" class=\"row_heading level0 row17\" rowspan=\"5\">graph</th>\n",
       "      <th id=\"T_5500a_level1_row17\" class=\"row_heading level1 row17\" >LCC</th>\n",
       "      <td id=\"T_5500a_row17_col0\" class=\"data row17 col0\" >0.599672</td>\n",
       "      <td id=\"T_5500a_row17_col1\" class=\"data row17 col1\" >nan</td>\n",
       "      <td id=\"T_5500a_row17_col2\" class=\"data row17 col2\" >nan</td>\n",
       "      <td id=\"T_5500a_row17_col3\" class=\"data row17 col3\" >nan</td>\n",
       "    </tr>\n",
       "    <tr>\n",
       "      <th id=\"T_5500a_level1_row18\" class=\"row_heading level1 row18\" >LSC</th>\n",
       "      <td id=\"T_5500a_row18_col0\" class=\"data row18 col0\" >0.532768</td>\n",
       "      <td id=\"T_5500a_row18_col1\" class=\"data row18 col1\" >nan</td>\n",
       "      <td id=\"T_5500a_row18_col2\" class=\"data row18 col2\" >nan</td>\n",
       "      <td id=\"T_5500a_row18_col3\" class=\"data row18 col3\" >nan</td>\n",
       "    </tr>\n",
       "    <tr>\n",
       "      <th id=\"T_5500a_level1_row19\" class=\"row_heading level1 row19\" >degree_average</th>\n",
       "      <td id=\"T_5500a_row19_col0\" class=\"data row19 col0\" >nan</td>\n",
       "      <td id=\"T_5500a_row19_col1\" class=\"data row19 col1\" >nan</td>\n",
       "      <td id=\"T_5500a_row19_col2\" class=\"data row19 col2\" >nan</td>\n",
       "      <td id=\"T_5500a_row19_col3\" class=\"data row19 col3\" >-0.524307</td>\n",
       "    </tr>\n",
       "    <tr>\n",
       "      <th id=\"T_5500a_level1_row20\" class=\"row_heading level1 row20\" >degree_std</th>\n",
       "      <td id=\"T_5500a_row20_col0\" class=\"data row20 col0\" >-0.555774</td>\n",
       "      <td id=\"T_5500a_row20_col1\" class=\"data row20 col1\" >nan</td>\n",
       "      <td id=\"T_5500a_row20_col2\" class=\"data row20 col2\" >nan</td>\n",
       "      <td id=\"T_5500a_row20_col3\" class=\"data row20 col3\" >-0.684942</td>\n",
       "    </tr>\n",
       "    <tr>\n",
       "      <th id=\"T_5500a_level1_row21\" class=\"row_heading level1 row21\" >number_of_nodes</th>\n",
       "      <td id=\"T_5500a_row21_col0\" class=\"data row21 col0\" >0.599672</td>\n",
       "      <td id=\"T_5500a_row21_col1\" class=\"data row21 col1\" >nan</td>\n",
       "      <td id=\"T_5500a_row21_col2\" class=\"data row21 col2\" >nan</td>\n",
       "      <td id=\"T_5500a_row21_col3\" class=\"data row21 col3\" >nan</td>\n",
       "    </tr>\n",
       "    <tr>\n",
       "      <th id=\"T_5500a_level0_row22\" class=\"row_heading level0 row22\" >lexical</th>\n",
       "      <th id=\"T_5500a_level1_row22\" class=\"row_heading level1 row22\" >MALTR</th>\n",
       "      <td id=\"T_5500a_row22_col0\" class=\"data row22 col0\" >0.748821</td>\n",
       "      <td id=\"T_5500a_row22_col1\" class=\"data row22 col1\" >nan</td>\n",
       "      <td id=\"T_5500a_row22_col2\" class=\"data row22 col2\" >nan</td>\n",
       "      <td id=\"T_5500a_row22_col3\" class=\"data row22 col3\" >0.676491</td>\n",
       "    </tr>\n",
       "    <tr>\n",
       "      <th id=\"T_5500a_level0_row23\" class=\"row_heading level0 row23\" rowspan=\"4\">syntactic</th>\n",
       "      <th id=\"T_5500a_level1_row23\" class=\"row_heading level1 row23\" >SCONJ</th>\n",
       "      <td id=\"T_5500a_row23_col0\" class=\"data row23 col0\" >nan</td>\n",
       "      <td id=\"T_5500a_row23_col1\" class=\"data row23 col1\" >nan</td>\n",
       "      <td id=\"T_5500a_row23_col2\" class=\"data row23 col2\" >nan</td>\n",
       "      <td id=\"T_5500a_row23_col3\" class=\"data row23 col3\" >0.534734</td>\n",
       "    </tr>\n",
       "    <tr>\n",
       "      <th id=\"T_5500a_level1_row24\" class=\"row_heading level1 row24\" >max_sent_len</th>\n",
       "      <td id=\"T_5500a_row24_col0\" class=\"data row24 col0\" >0.690623</td>\n",
       "      <td id=\"T_5500a_row24_col1\" class=\"data row24 col1\" >0.627771</td>\n",
       "      <td id=\"T_5500a_row24_col2\" class=\"data row24 col2\" >0.816636</td>\n",
       "      <td id=\"T_5500a_row24_col3\" class=\"data row24 col3\" >0.561090</td>\n",
       "    </tr>\n",
       "    <tr>\n",
       "      <th id=\"T_5500a_level1_row25\" class=\"row_heading level1 row25\" >min_sent_len</th>\n",
       "      <td id=\"T_5500a_row25_col0\" class=\"data row25 col0\" >nan</td>\n",
       "      <td id=\"T_5500a_row25_col1\" class=\"data row25 col1\" >nan</td>\n",
       "      <td id=\"T_5500a_row25_col2\" class=\"data row25 col2\" >nan</td>\n",
       "      <td id=\"T_5500a_row25_col3\" class=\"data row25 col3\" >0.714359</td>\n",
       "    </tr>\n",
       "    <tr>\n",
       "      <th id=\"T_5500a_level1_row26\" class=\"row_heading level1 row26\" >std_sent_len</th>\n",
       "      <td id=\"T_5500a_row26_col0\" class=\"data row26 col0\" >0.747538</td>\n",
       "      <td id=\"T_5500a_row26_col1\" class=\"data row26 col1\" >0.655367</td>\n",
       "      <td id=\"T_5500a_row26_col2\" class=\"data row26 col2\" >0.876247</td>\n",
       "      <td id=\"T_5500a_row26_col3\" class=\"data row26 col3\" >nan</td>\n",
       "    </tr>\n",
       "  </tbody>\n",
       "</table>\n"
      ],
      "text/plain": [
       "<pandas.io.formats.style.Styler at 0x7fb0881de8e0>"
      ]
     },
     "execution_count": 152,
     "metadata": {},
     "output_type": "execute_result"
    }
   ],
   "source": [
    "tasks_len = aplly_to_all_tasks(merge_df, corr_thresh, target=('syntactic', 'mean_sent_len'), thresh=0.5)\n",
    "tasks_len.drop(index=[('syntactic', 'mean_sent_len')], inplace=True)\n",
    "style(tasks_len)"
   ]
  },
  {
   "cell_type": "code",
   "execution_count": 153,
   "id": "4f2016ab",
   "metadata": {},
   "outputs": [],
   "source": [
    "tasks_len = aplly_to_all_tasks(merge_df, corr_thresh, target=('syntactic', 'mean_sent_len'), thresh=0.)\n",
    "tasks_len.drop(index=[('syntactic', 'mean_sent_len')], inplace=True)"
   ]
  },
  {
   "cell_type": "code",
   "execution_count": 154,
   "id": "c3c0ae26",
   "metadata": {},
   "outputs": [],
   "source": [
    "ex_df = pd.DataFrame()\n",
    "for task in TASKS:\n",
    "    df_ = pd.DataFrame()\n",
    "    df_['metric'] = tasks_len[task]\n",
    "    df_['task'] = task\n",
    "    df_['index'] = [x[1] for x in df_.index]\n",
    "    df_['type'] = [x[0] for x in df_.index]\n",
    "    ex_df = pd.concat([ex_df, df_])"
   ]
  },
  {
   "cell_type": "code",
   "execution_count": 155,
   "id": "c116d7e6",
   "metadata": {},
   "outputs": [],
   "source": [
    "def catplot(data, x, y, hue, col=None, ax=None):\n",
    "    sns.set_theme(style=\"whitegrid\")\n",
    "\n",
    "    # Draw a pointplot to show pulse as a function of three categorical factors\n",
    "    g = sns.catplot(\n",
    "        data=data, x=x, y=y, hue=hue, col=col,\n",
    "        capsize=.2,  # errorbar=\"se\",\n",
    "        kind=\"point\", height=6, aspect=.75, ax=ax)\n",
    "    g.despine(left=True);"
   ]
  },
  {
   "cell_type": "code",
   "execution_count": 156,
   "id": "eb565dc9",
   "metadata": {},
   "outputs": [],
   "source": [
    "# ex_df.loc['syntactic']"
   ]
  },
  {
   "cell_type": "code",
   "execution_count": 157,
   "id": "b1fa4ce8",
   "metadata": {},
   "outputs": [],
   "source": [
    "# fig, axes = plt.subplots(2, 2, figsize=(15, 10), sharey=True)\n",
    "# fig.suptitle('correlation with mean sentence length')\n",
    "\n",
    "# pointplot(ex_df.loc['LM'], x=\"task\", y=\"metric\", hue=\"index\", ax=axes[0, 0], palette='tab20')\n",
    "# axes[0, 0].set_title('LM')\n",
    "# pointplot(ex_df.loc['syntactic'], x=\"task\", y=\"metric\", hue=\"index\", ax=axes[0, 1], palette='tab20')\n",
    "# axes[0, 1].set_title('syntactic')\n",
    "# pointplot(ex_df.loc['lexical'], x=\"task\", y=\"metric\", hue=\"index\", ax=axes[1, 0])\n",
    "# axes[1, 0].set_title('lexical')\n",
    "# pointplot(ex_df.loc['graph'], x=\"task\", y=\"metric\", hue=\"index\", ax=axes[1, 1])\n",
    "# axes[1, 1].set_title('graph');\n",
    "# add_grey(axes, line_dir='h')"
   ]
  },
  {
   "cell_type": "markdown",
   "id": "2817f76d",
   "metadata": {},
   "source": [
    "## Corr corrected for length"
   ]
  },
  {
   "cell_type": "code",
   "execution_count": 158,
   "id": "0203fc10",
   "metadata": {},
   "outputs": [
    {
     "data": {
      "text/plain": [
       "0.13965153537595465"
      ]
     },
     "execution_count": 158,
     "metadata": {},
     "output_type": "execute_result"
    }
   ],
   "source": [
    "compute_coefficient(chair, ('target', 'panss_total'), ('syntactic', 'mean_sent_len'),\n",
    "                    column_names=['sent len'], target_name='panss', add_sq=False)[0]"
   ]
  },
  {
   "cell_type": "code",
   "execution_count": 159,
   "id": "9a2db66e",
   "metadata": {},
   "outputs": [
    {
     "data": {
      "text/plain": [
       "0.05067787087225517"
      ]
     },
     "execution_count": 159,
     "metadata": {},
     "output_type": "execute_result"
    }
   ],
   "source": [
    "compute_coefficient(chair, ('target', 'panss_total'), ('syntactic', 'AUX'),\n",
    "                    column_names=['sent len'], target_name='panss', add_sq=False)[0]"
   ]
  },
  {
   "cell_type": "code",
   "execution_count": 160,
   "id": "fab16740",
   "metadata": {},
   "outputs": [
    {
     "data": {
      "text/plain": [
       "0.05601521546776389"
      ]
     },
     "execution_count": 160,
     "metadata": {},
     "output_type": "execute_result"
    }
   ],
   "source": [
    "compute_ortogonolized_coefficient(chair, ('target', 'panss_total'), ('syntactic', 'mean_sent_len'), ('syntactic', 'AUX'),\n",
    "                                  column_names=['sent len'], target_name='panss', add_sq=False)[0]"
   ]
  },
  {
   "cell_type": "code",
   "execution_count": 161,
   "id": "71c09737",
   "metadata": {},
   "outputs": [],
   "source": [
    "scale_cols = [('target', x) for x in ['panss_pos', 'panss_neg', 'panss_o', 'panss_total']]"
   ]
  },
  {
   "cell_type": "markdown",
   "id": "49711fc2",
   "metadata": {},
   "source": [
    "#### compare"
   ]
  },
  {
   "cell_type": "code",
   "execution_count": 162,
   "id": "37eb30ba",
   "metadata": {},
   "outputs": [],
   "source": [
    "# test_two_groups = ('sz', 'control_psy')\n",
    "# groups = merge_df[merge_df[('target', 'target', 'diagnosis.type')].isin(test_two_groups)]\n",
    "# chair_group = task_data(groups, 'chair')\n",
    "# chair_group[('target', 'group')] = chair_group[('target', 'diagnosis.type')].apply(lambda x: 0 if x =='control_psy' else 1)\n"
   ]
  },
  {
   "cell_type": "code",
   "execution_count": 163,
   "id": "4145a7ec",
   "metadata": {},
   "outputs": [],
   "source": [
    "# a = 0.001\n",
    "# s_t, res_t = display_group_test(chair_group, cols_tasks, ('target', 'diagnosis.type'), stats.ttest_ind, stat_name='t', alpha=a)"
   ]
  },
  {
   "cell_type": "code",
   "execution_count": 164,
   "id": "1fb607c1",
   "metadata": {},
   "outputs": [],
   "source": [
    "# s_panss, r_panss = display_test(chair, cols_tasks, ('target','panss_total'), stats.pearsonr, stat_name='r', alpha=a)\n",
    "# s_panss_pos, r_panss_pos = display_test(chair, cols_tasks, ('target', 'panss_pos'), stats.pearsonr, stat_name='r', alpha=a)\n",
    "# s_panss_neg, r_panss_neg = display_test(chair, cols_tasks, ('target','panss_neg'), stats.pearsonr, stat_name='r', alpha=a)\n",
    "# s_panss_o, r_panss_o = display_test(chair, cols_tasks, ('target', 'panss_o'), stats.pearsonr, stat_name='r', alpha=a)\n",
    "# combined_corr = pd.concat([res_t, r_panss, r_panss_pos, r_panss_neg, r_panss_o], \n",
    "#                      keys= ['t_test'] + [s[1] for s in scale_cols], \n",
    "#                      names=[\"scale\"], axis=1)"
   ]
  },
  {
   "cell_type": "code",
   "execution_count": 165,
   "id": "29430ce6",
   "metadata": {},
   "outputs": [],
   "source": [
    "# combined_corr[('mean', 'abs_r')] = combined_corr[[(scale[1], 'abs_r') for scale in scale_cols]].mean(axis=1)\n",
    "# mean_abs_r = combined_corr.pop(('mean', 'abs_r'))\n",
    "# combined_corr.insert(0, ('mean', 'abs_r'), mean_abs_r) "
   ]
  },
  {
   "cell_type": "code",
   "execution_count": 166,
   "id": "0e89a2c2",
   "metadata": {},
   "outputs": [],
   "source": [
    "# # combined_corr[[(scale, 'abs_r') for scale in [\"saps34\", \"sans12\", \"panss\", \"panss_pos\", \"panss_neg\", \"panss_o\"]]].mean(axis=1)\n",
    "# t_p_n_rank = pd.concat([combined_corr[('t_test', 'abs_t')].rank(ascending=False)] + [combined_corr[(scale, 'abs_r')].rank(ascending=False) for scale in ['panss_pos', 'panss_neg']], axis=1).mean(axis=1)\n",
    "# mean_rank = pd.concat([combined_corr[(scale[1], 'abs_r')].rank(ascending=False) for scale in scale_cols], axis=1).mean(axis=1)\n",
    "# combined_corr.insert(1, ('mean', 'rank'), mean_rank) \n",
    "# combined_corr.insert(2, ('mean', 'rank_abs'), mean_rank.rank()) \n",
    "# combined_corr.insert(1, ('mean', 'tpn_rank'), t_p_n_rank) \n",
    "# combined_corr.insert(2, ('mean', 'tpn_rank_abs'), t_p_n_rank.rank()) \n",
    "\n",
    "# style(combined_corr.sort_values(('mean', 'rank'))[['mean', 't_test']])"
   ]
  },
  {
   "cell_type": "code",
   "execution_count": 167,
   "id": "dfba843e",
   "metadata": {},
   "outputs": [],
   "source": [
    "# cols_dict = {}\n",
    "# for col in cols_tasks:\n",
    "#     cols_dict[col[1]] = compute_ortogonolized_coefficient(chair, ('target', 'panss_total'), ('syntactic', 'mean_sent_len'), col)[0]\n",
    "# combined_corr.insert(1, ('panss', 'r_corrected_for_mean_len'), pd.Series(cols_dict)) "
   ]
  },
  {
   "cell_type": "code",
   "execution_count": 168,
   "id": "6c84259c",
   "metadata": {},
   "outputs": [],
   "source": [
    "# cols_dict = {}\n",
    "# for col in cols_tasks:\n",
    "#     cols_dict[col[1]] = compute_ortogonolized_coefficient(chair, ('target', 'panss_pos'), ('syntactic', 'mean_sent_len'), col)[0]\n",
    "# combined_corr.insert(1, ('panss_pos', 'r_corrected_for_mean_len'), pd.Series(cols_dict)) "
   ]
  },
  {
   "cell_type": "code",
   "execution_count": 169,
   "id": "4f4ba5eb",
   "metadata": {},
   "outputs": [],
   "source": [
    "# cols_dict = {}\n",
    "# for col in cols_tasks:\n",
    "#     cols_dict[col[1]] = compute_ortogonolized_coefficient(chair, ('target', 'panss_neg'), ('syntactic', 'mean_sent_len'), col)[0]\n",
    "# combined_corr.insert(1, ('panss_neg', 'r_corrected_for_mean_len'), pd.Series(cols_dict)) "
   ]
  },
  {
   "cell_type": "code",
   "execution_count": 170,
   "id": "a93ead0d",
   "metadata": {},
   "outputs": [],
   "source": [
    "# cols_dict = {}\n",
    "# for col in cols_tasks:\n",
    "#     cols_dict[col[1]] = compute_ortogonolized_logit(chair_group, ('target', 'group'), ('syntactic', 'mean_sent_len'), col)\n",
    "# combined_corr.insert(1, ('t_test', 'r_corrected_for_mean_len'), pd.Series(cols_dict)) "
   ]
  },
  {
   "cell_type": "code",
   "execution_count": 171,
   "id": "f022df20",
   "metadata": {},
   "outputs": [],
   "source": [
    "# t_p_n_corr_rank = pd.concat([combined_corr[('t_test', 'abs_t')].rank(ascending=False)] + [combined_corr[(scale, 'r_corrected_for_mean_len')].rank(ascending=False) for scale in ['panss_pos', 'panss_neg']], axis=1).mean(axis=1)\n",
    "# combined_corr.insert(1, ('mean', 'tpn_rank_corr'), t_p_n_corr_rank) \n",
    "# combined_corr.insert(2, ('mean', 'tpn_rank_corr_abs'), t_p_n_corr_rank.rank()) "
   ]
  },
  {
   "cell_type": "code",
   "execution_count": 172,
   "id": "537b2580",
   "metadata": {},
   "outputs": [],
   "source": [
    "## combined_corr.sort_values(('mean', 'tpn_rank_corr'), ascending=True).apply(pd.to_numeric).style.background_gradient(axis=0, cmap='Reds')"
   ]
  },
  {
   "cell_type": "markdown",
   "id": "8e869a26",
   "metadata": {},
   "source": [
    "## bootstrap"
   ]
  },
  {
   "cell_type": "code",
   "execution_count": 173,
   "id": "880d92bd",
   "metadata": {},
   "outputs": [],
   "source": [
    "def bootstrap(df, cols_av, scale_cols, N, col_to_correct_for=('syntactic', 'mean_sent_len'), group=None, \n",
    "             ordered_tgt=[('target', 'dep.severity'), ('target', 'td.severity')]):\n",
    "    o_tgt = tuple((f'ps_r_{o[1]}' for o in ordered_tgt))\n",
    "    res_c = ('sample_corr', 'sample_raw', 'r', 't', 'r_corr_w_control') + o_tgt\n",
    "    dict_scales_sapmles = {k: {scale: {metric: [] for metric in cols_av} for scale in scale_cols} for k in res_c}\n",
    "    for i in tqdm(range(N)):\n",
    "        sample = draw_sample_with_replacement(df, seed=i)\n",
    "        scale_independent = {k: {metric: np.nan for metric in cols_av} for k in ('t', 'r_corr_w_control') + o_tgt}\n",
    "        for col in cols_av:\n",
    "            if group:\n",
    "                t_test_res = ttest_select(sample, ('sz', 'control_psy'), group)[col]\n",
    "                scale_independent['t'][col] = t_test_res\n",
    "            if col != col_to_correct_for:\n",
    "                dropped_c = sample.dropna(subset=[col, col_to_correct_for])\n",
    "                r_c = stats.pearsonr(dropped_c[col], dropped_c[col_to_correct_for])[0]\n",
    "                scale_independent['r_corr_w_control'][col] = r_c\n",
    "            for tgt in ordered_tgt:\n",
    "                ps_r = compute_pseudo_rsquared_ordered(sample, tgt, [col])\n",
    "                scale_independent[f'ps_r_{tgt[1]}'][col] = ps_r\n",
    "            for scale in scale_cols:\n",
    "                r_raw = compute_coefficient(sample, scale, col)[0]\n",
    "                dict_scales_sapmles['sample_raw'][scale][col].append(r_raw)\n",
    "                \n",
    "                dropped = sample.dropna(subset=[col, scale])\n",
    "                r = stats.pearsonr(dropped[col], dropped[scale])[0]\n",
    "                dict_scales_sapmles['r'][scale][col].append(r)\n",
    "                \n",
    "                if col != col_to_correct_for:\n",
    "                    r_corr = compute_ortogonolized_coefficient(sample, scale, col_to_correct_for, col)[0]\n",
    "                    dict_scales_sapmles['sample_corr'][scale][col].append(r_corr)\n",
    "                \n",
    "                for k in scale_independent:\n",
    "                    dict_scales_sapmles[k][scale][col].append(scale_independent[k][col])\n",
    "                \n",
    "    return dict_scales_sapmles"
   ]
  },
  {
   "cell_type": "markdown",
   "id": "c67b3299",
   "metadata": {},
   "source": [
    "#### expensive to compute"
   ]
  },
  {
   "cell_type": "code",
   "execution_count": 174,
   "id": "01686422",
   "metadata": {},
   "outputs": [],
   "source": [
    "# dict_scales_sapmles = aplly_to_all_tasks(merge_df, bootstrap, cols_av=cols_tasks, scale_cols=scale_cols, N=1000, col_to_correct_for=('syntactic', 'mean_sent_len'), group='diagnosis.type')"
   ]
  },
  {
   "cell_type": "code",
   "execution_count": 175,
   "id": "83b701b8",
   "metadata": {},
   "outputs": [],
   "source": [
    "# reform = {(task, scale[1], measure): dict_scales_sapmles[task][measure][scale] for scale in scale_cols for task in dict_scales_sapmles\n",
    "#           for measure in dict_scales_sapmles[task]}"
   ]
  },
  {
   "cell_type": "code",
   "execution_count": 176,
   "id": "9134cdfc",
   "metadata": {},
   "outputs": [],
   "source": [
    "# with open('ru_task_scales_samples_1000.pickle', 'wb') as f:\n",
    "#     pickle.dump(reform, f)"
   ]
  },
  {
   "cell_type": "code",
   "execution_count": 177,
   "id": "7a8c9f9c",
   "metadata": {},
   "outputs": [],
   "source": [
    "with open('ru_task_scales_samples_1000.pickle', 'rb') as f:\n",
    "    reform = pickle.load(f)"
   ]
  },
  {
   "cell_type": "code",
   "execution_count": 178,
   "id": "6eb31216",
   "metadata": {},
   "outputs": [],
   "source": [
    "median_bootstrap = pd.DataFrame(reform).applymap(np.nanmedian)"
   ]
  },
  {
   "cell_type": "code",
   "execution_count": 179,
   "id": "3ca350d4",
   "metadata": {},
   "outputs": [],
   "source": [
    "comp_corr_len = pd.DataFrame()\n",
    "for task in TASKS:\n",
    "    comp_corr_len[task] = median_bootstrap[(task, 'panss_pos', 'r_corr_w_control')]\n",
    "\n",
    "thresh = 0.3\n",
    "t_c = comp_corr_len[comp_corr_len.apply(lambda row: \n",
    "                                        any([abs(row[task]) > thresh for task in TASKS]), axis=1)].copy()\n",
    "t_c['abs_mean'] = t_c.apply(lambda x: np.mean([abs(i) for i in x]), axis=1)\n",
    "t_c.loc[('mean', 'abs_mean'), :] = t_c.apply(lambda x: np.mean([abs(i) for i in x]), axis=0)\n",
    "\n",
    "# t_c[t_c['abs_mean'] > 0.3].style.background_gradient(axis=0, cmap='Blues')"
   ]
  },
  {
   "cell_type": "code",
   "execution_count": 180,
   "id": "1d86954a",
   "metadata": {},
   "outputs": [],
   "source": [
    "# abs(t_c).style.background_gradient(axis=1, cmap='Blues')"
   ]
  },
  {
   "cell_type": "code",
   "execution_count": 181,
   "id": "f2c8cbfc",
   "metadata": {},
   "outputs": [],
   "source": [
    "thresh = 0.0\n",
    "t_c = comp_corr_len[comp_corr_len.apply(lambda row: \n",
    "                                        any([abs(row[task]) > thresh for task in TASKS]), axis=1)].copy()\n",
    "t_c['abs_mean'] = t_c.apply(lambda x: np.mean([abs(i) for i in x]), axis=1)\n",
    "t_c.loc[('mean', 'abs_mean'), :] = t_c.apply(lambda x: np.mean([abs(i) for i in x]), axis=0)\n",
    "compare_task_lens_df.loc['abs_mean_corr_len'] = t_c.loc[('mean', 'abs_mean'), TASKS]\n",
    "# compare_task_lens_df.style.background_gradient(axis=1, cmap='Blues')"
   ]
  },
  {
   "cell_type": "code",
   "execution_count": 182,
   "id": "eb82db42",
   "metadata": {},
   "outputs": [],
   "source": [
    "ex_df = median_bootstrap.loc['LM', ('chair', 'panss_pos')]\n",
    "# style(ex_df)"
   ]
  },
  {
   "cell_type": "code",
   "execution_count": 183,
   "id": "4b37ce0e",
   "metadata": {},
   "outputs": [],
   "source": [
    "# median_bootstrap.loc['LM']"
   ]
  },
  {
   "cell_type": "code",
   "execution_count": 184,
   "id": "b1a0eda9",
   "metadata": {},
   "outputs": [],
   "source": [
    "order=['bert', 'glove_tf', 'glove_avg', 'w2v_tf', 'w2v_avg']\n",
    "\n",
    "def plot_lm_tasks(df, title, scale, measure, order=order, plot_abs=False, use_errorbar=True,\n",
    "                 figsize=(15, 10), yname=None, r=0.3):\n",
    "    absolute_value = f' (absolute {measure} value)' if plot_abs else ''\n",
    "    fig, axes = plt.subplots(2, 2, figsize=figsize, sharey=True)\n",
    "    fig.suptitle(title+absolute_value, y=0.925)\n",
    "    plt.subplots_adjust(wspace=0.1)\n",
    "    \n",
    "    axs = axes.flatten()\n",
    "    for i, task in enumerate(TASKS):\n",
    "        ax = axs[i]\n",
    "        d = prep_LM_pointplot(df.loc['LM', (task, scale)], col=measure, plot_abs=plot_abs)\n",
    "        pointplot(d, x='model', y=measure, hue='metric', ax=ax, order=order, use_errorbar=use_errorbar)\n",
    "        ax.set_title(task)\n",
    "\n",
    "    add_grey(axes, line_dir='h', r=r)\n",
    "    \n",
    "    if yname is None:\n",
    "        yname = measure\n",
    "    for ax in axes.reshape(-1): \n",
    "        label = 'abs ' + yname if plot_abs else yname\n",
    "        ax.set_ylabel(label)\n",
    "    return fig"
   ]
  },
  {
   "cell_type": "code",
   "execution_count": 185,
   "id": "92ee953a",
   "metadata": {},
   "outputs": [],
   "source": [
    "# reformed_d_ = pd.DataFrame(reform).loc['LM', ('chair', 'panss_pos')]"
   ]
  },
  {
   "cell_type": "code",
   "execution_count": 186,
   "id": "54a43831",
   "metadata": {},
   "outputs": [],
   "source": [
    "# d = prep_LM_pointplot(reformed_d_, 'r', plot_abs=True, use_errorbar=True)"
   ]
  },
  {
   "cell_type": "code",
   "execution_count": 187,
   "id": "b6413ca9",
   "metadata": {
    "scrolled": true
   },
   "outputs": [],
   "source": [
    "# fig, ax = plt.subplots(1, 1, figsize=(15, 10))\n",
    "# pointplot(d, x=\"model\", y=\"r\", hue=\"metric\", order=order, ax=ax, use_errorbar=True)\n",
    "# add_grey(ax, line_dir='h')"
   ]
  },
  {
   "cell_type": "code",
   "execution_count": 188,
   "id": "809f1841",
   "metadata": {},
   "outputs": [],
   "source": [
    "reformed_d = pd.DataFrame(reform)"
   ]
  },
  {
   "cell_type": "code",
   "execution_count": 189,
   "id": "877ef190",
   "metadata": {},
   "outputs": [],
   "source": [
    "# reformed_d.index = pd.MultiIndex.from_tuples([(c[0], c[1].replace('sporb', 'sprob')) for c in reformed_d.index])"
   ]
  },
  {
   "cell_type": "code",
   "execution_count": 190,
   "id": "6f90a428",
   "metadata": {},
   "outputs": [],
   "source": [
    "panss_ = ('panss_pos', 'panss_neg', 'panss_o', 'panss_total')\n",
    "sc_ind_ = ('t', 'r_corr_w_control', 'ps_r_dep.severity', 'ps_r_td.severity')\n",
    "models_ = ('bert', 'glove_tf', 'glove_avg', 'w2v_tf', 'w2v_avg')\n",
    "metrics_ = ('cgcoh', 'gcoh', 'lcoh', 'scoh', 'sprob', 'pppl')"
   ]
  },
  {
   "cell_type": "code",
   "execution_count": 191,
   "id": "a8360fb1",
   "metadata": {},
   "outputs": [],
   "source": [
    "panss_order = ['panss_pos', 'panss_neg', 'panss_o', 'panss_total']"
   ]
  },
  {
   "cell_type": "code",
   "execution_count": 192,
   "id": "24ba3a00",
   "metadata": {},
   "outputs": [],
   "source": [
    "# plot_lm_tasks(reformed_d, 'corr len', 'panss_pos', 'r_corr_w_control', use_errorbar=True, order=order)"
   ]
  },
  {
   "cell_type": "code",
   "execution_count": 193,
   "id": "ab5d70c0",
   "metadata": {},
   "outputs": [],
   "source": [
    "# plot_lm_tasks(reformed_d, 'abs r corr panss_pos', 'panss_pos', 'r', \n",
    "#               plot_abs=True, use_errorbar=True, order=order)"
   ]
  },
  {
   "cell_type": "code",
   "execution_count": 194,
   "id": "73410a2b",
   "metadata": {},
   "outputs": [],
   "source": [
    "# plot_lm_tasks(reformed_d, 't statistic', 'panss_o', 't', \n",
    "#               use_errorbar=True, order=order)"
   ]
  },
  {
   "cell_type": "code",
   "execution_count": 195,
   "id": "e1e420be",
   "metadata": {},
   "outputs": [],
   "source": [
    "def plot_all_LM(reformed_d, m_type='LM', path=PATH_FIG, plot_abs=False, figsize=(18, 12), dpi = 150):\n",
    "    ab = 'abs_' if plot_abs else ''\n",
    "    absolute_value = f' (absolute r value)' if plot_abs else ''\n",
    "    \n",
    "    fig = plot_lm_tasks(reformed_d, \n",
    "                        'cross-task comparison for LM metrics across models on group difference (t-test)',\n",
    "                        scale='panss_o', measure='t', use_errorbar=True, figsize=figsize, r=2)\n",
    "    plt.savefig(f'{path}{m_type}/model/t.png', dpi=dpi, bbox_inches = 'tight')\n",
    "    plt.close(fig)\n",
    "    \n",
    "    fig = plot_lm_tasks(reformed_d, \n",
    "                        'cross-task comparison for LM metrics across models on correlation with mean sentence length',\n",
    "                        scale='panss_o', measure='r_corr_w_control', yname='r',\n",
    "                        plot_abs=plot_abs, use_errorbar=True, figsize=figsize)\n",
    "    plt.savefig(f'{path}{m_type}/model/{ab}corr_len.png', dpi=dpi, bbox_inches = 'tight')\n",
    "    plt.close(fig)\n",
    "    \n",
    "    for panss_scale in panss_:\n",
    "        fig = plot_lm_tasks(reformed_d, \n",
    "                            f'cross-task comparison for LM metrics across models on {panss_scale}{absolute_value}', \n",
    "                            scale=panss_scale, measure='r', \n",
    "                            plot_abs=plot_abs, use_errorbar=True, figsize=figsize)\n",
    "        plt.savefig(f'{path}{m_type}/model/{ab}r_{panss_scale}.png', dpi=dpi, bbox_inches = 'tight')\n",
    "        plt.close(fig)\n",
    "    \n",
    "    fig = plot_lm_tasks(reformed_d, \n",
    "                        'cross-task comparison for LM metrics across models of pseudo r squared for dep severity', \n",
    "                        scale='panss_o', measure='ps_r_dep.severity', \n",
    "                        use_errorbar=True, figsize=figsize, yname='pseudo r squared', r=0.09)\n",
    "    plt.savefig(f'{path}{m_type}/model/ps_r_dep_severity.png', dpi=dpi, bbox_inches = 'tight')\n",
    "    plt.close(fig)\n",
    "    \n",
    "    fig = plot_lm_tasks(reformed_d, \n",
    "                        'cross-task comparison for LM metrics across models of pseudo r squared for td severity', \n",
    "                        scale='panss_o', measure='ps_r_td.severity', \n",
    "                        use_errorbar=True, figsize=figsize, yname='pseudo r squared', r=0.09)\n",
    "    plt.savefig(f'{path}{m_type}/model/ps_r_td_severity.png', dpi=dpi, bbox_inches = 'tight')\n",
    "    plt.close(fig)"
   ]
  },
  {
   "cell_type": "code",
   "execution_count": 196,
   "id": "136b11b8",
   "metadata": {},
   "outputs": [],
   "source": [
    "plot_all_LM(reformed_d, plot_abs=True)\n",
    "plot_all_LM(reformed_d, plot_abs=False)"
   ]
  },
  {
   "cell_type": "code",
   "execution_count": 197,
   "id": "57e63c09",
   "metadata": {},
   "outputs": [],
   "source": [
    "# d = prep_horizontal_pointplot_errobar_data(reformed_d['chair', 'panss_pos'].loc['syntactic'], 'r')\n",
    "# fig, ax = plt.subplots(1, 1, figsize=(10, 8))\n",
    "# pointplot_horizontal(d, 'r', ax=ax)\n",
    "# add_grey(ax)"
   ]
  },
  {
   "cell_type": "code",
   "execution_count": 198,
   "id": "3bac1e5b",
   "metadata": {},
   "outputs": [],
   "source": [
    "figprms = {'syntactic': \n",
    "               {'subplot_size': (9, 4.5),\n",
    "                'wspace': 0.25,\n",
    "                'hspace': 0.125,\n",
    "                'yt': 0.925\n",
    "                }, \n",
    "           'LM': \n",
    "               {'subplot_size': (9, 5.5),\n",
    "                'wspace': 0.275,\n",
    "                'hspace': 0.125,\n",
    "                'yt': 0.925\n",
    "               }, \n",
    "           'lexical': \n",
    "               {'subplot_size': (9, 2),\n",
    "                'wspace': 0.2,\n",
    "                'hspace': 0.3,\n",
    "                'yt': 0.95\n",
    "               }, \n",
    "           'graph': \n",
    "               {'subplot_size': (9, 3.5), \n",
    "                'wspace': 0.3,\n",
    "                'hspace': 0.15,\n",
    "                'yt': 0.95\n",
    "               }}"
   ]
  },
  {
   "cell_type": "code",
   "execution_count": 199,
   "id": "55cc0197",
   "metadata": {},
   "outputs": [],
   "source": [
    "def get_fparams(m_type, n_sublots_height, n_sublots_width, figparams):\n",
    "    subplot_size = figprms[m_type]['subplot_size']\n",
    "    width = subplot_size[0] * n_sublots_width\n",
    "    height = subplot_size[1] * n_sublots_height\n",
    "    figsize = (width, height)\n",
    "    wspace = figprms[m_type]['wspace']\n",
    "    hspace = figprms[m_type]['hspace']\n",
    "    yt = figprms[m_type]['yt']\n",
    "    return figsize, wspace, hspace, yt"
   ]
  },
  {
   "cell_type": "code",
   "execution_count": 200,
   "id": "451bc744",
   "metadata": {},
   "outputs": [],
   "source": [
    "def plot_horizontal_tasks(df, title, scale, measure, xname=None, m_type='syntactic', \n",
    "                          plot_abs=False, r=0.3, figparams=figprms):\n",
    "    absolute_value = f' (absolute r value)' if plot_abs else ''\n",
    "    figsize, wspace, hspace, yt = get_fparams(m_type, 2, 2, figparams)\n",
    "    fig, axes = plt.subplots(2, 2, figsize=figsize, sharex=True)\n",
    "    fig.suptitle(title + absolute_value, y=yt)\n",
    "    plt.subplots_adjust(wspace=wspace, hspace=hspace)\n",
    "    \n",
    "    axs = axes.flatten()\n",
    "    \n",
    "    for i, task in enumerate(TASKS):\n",
    "        ax = axs[i]\n",
    "        pointplot_horizontal(prep_horizontal_pointplot_errobar_data(df.loc[m_type, (task, scale)], \n",
    "                                                        col=measure, plot_abs=plot_abs), \n",
    "                       x=measure, ax=ax)\n",
    "        ax.set_title(task)\n",
    "\n",
    "    add_grey(axes, r=r)\n",
    "    if xname is None:\n",
    "        xname = measure\n",
    "    \n",
    "    for ax in axes.reshape(-1): \n",
    "        label = 'abs ' + xname if plot_abs else xname\n",
    "        ax.set_xlabel(label)\n",
    "    return fig"
   ]
  },
  {
   "cell_type": "code",
   "execution_count": 201,
   "id": "0d29a18e",
   "metadata": {},
   "outputs": [],
   "source": [
    "# m_type='LM'\n",
    "# fig = plot_horizontal_tasks(reformed_d, f'cross-task comparison for {m_type} metrics on group difference (t-test)', \n",
    "#                       scale='panss_o', measure='t', m_type=m_type, r=2)"
   ]
  },
  {
   "cell_type": "code",
   "execution_count": 202,
   "id": "3700aae9",
   "metadata": {},
   "outputs": [],
   "source": [
    "def plot_all_scales(reformed_d, m_type='syntactic', path=PATH_FIG, plot_abs=True, dpi=150, figparams=figprms):\n",
    "    \n",
    "    fig = plot_horizontal_tasks(reformed_d, \n",
    "                                f'cross-task comparison for {m_type} metrics on group difference (t-test)', \n",
    "                                scale='panss_o', measure='t', m_type=m_type, r=2, figparams=figparams)\n",
    "    plt.savefig(f'{path}{m_type}/t.png', dpi=dpi, bbox_inches = 'tight')\n",
    "    plt.close(fig)\n",
    "    \n",
    "    ab = 'abs_' if plot_abs else ''\n",
    "    \n",
    "    upfig = figparams.copy()\n",
    "    if m_type == 'lexical':\n",
    "        upfig[m_type]['yt'] += 0.05\n",
    "    fig = plot_horizontal_tasks(reformed_d, \n",
    "                            f'cross-task comparison for {m_type} metrics on correlation with mean sentence length', \n",
    "                            scale='panss_o', measure='r_corr_w_control', \n",
    "                            xname='r', m_type=m_type, figparams=upfig)\n",
    "    plt.savefig(f'{path}{m_type}/{ab}corr_len.png', dpi=dpi, bbox_inches = 'tight')\n",
    "    plt.close(fig)\n",
    "    \n",
    "    for panss_scale in panss_order:\n",
    "        fig = plot_horizontal_tasks(reformed_d, \n",
    "                                    f'cross-task comparison for {m_type} metrics on {panss_scale}', \n",
    "                                    scale=panss_scale, measure='r', \n",
    "                                    plot_abs=plot_abs, m_type=m_type, figparams=figparams)\n",
    "        plt.savefig(f'{path}{m_type}/{ab}r_{panss_scale}.png', dpi=dpi, bbox_inches = 'tight')\n",
    "        plt.close(fig)\n",
    "\n",
    "    \n",
    "    fig = plot_horizontal_tasks(reformed_d, \n",
    "                                f'cross-task comparison for {m_type} metrics of pseudo r squared for dep severity', \n",
    "                                scale='panss_o', measure='ps_r_dep.severity', \n",
    "                                m_type=m_type, xname='pseudo r squared', r=0.09, figparams=figparams)\n",
    "    plt.savefig(f'{path}{m_type}/ps_r_dep_severity.png', dpi=dpi, bbox_inches = 'tight')\n",
    "    plt.close(fig)\n",
    "    fig = plot_horizontal_tasks(reformed_d, \n",
    "                                f'cross-task comparison for {m_type} metrics of pseudo r squared for td severity', scale='panss_o', \n",
    "                                measure='ps_r_td.severity', \n",
    "                                m_type=m_type, xname='pseudo r squared', r=0.09, figparams=figparams)\n",
    "    plt.savefig(f'{path}{m_type}/ps_r_td_severity.png', dpi=dpi, bbox_inches = 'tight')\n",
    "    plt.close(fig)"
   ]
  },
  {
   "cell_type": "code",
   "execution_count": 203,
   "id": "24e30f87",
   "metadata": {},
   "outputs": [],
   "source": [
    "for m_type in reformed_d.index.unique(level=0):\n",
    "    plot_all_scales(reformed_d, m_type, plot_abs=True)\n",
    "    plot_all_scales(reformed_d, m_type, plot_abs=False)\n",
    "\n",
    "# plot_all_scales(reformed_d, 'LM', plot_abs=True)"
   ]
  },
  {
   "cell_type": "code",
   "execution_count": 204,
   "id": "80729083",
   "metadata": {},
   "outputs": [],
   "source": [
    "def plot_horizontal_scales_for_task(df, title, measure, m_type='syntactic', plot_abs=False, figparams=figprms):\n",
    "    absolute_value = f' (absolute r value)' if plot_abs else ''\n",
    "    figsize, wspace, hspace, yt = get_fparams(m_type, 3, 2, figparams)\n",
    "    fig, axes = plt.subplots(3, 2, figsize=figsize)\n",
    "    fig.suptitle(title+ absolute_value, y=yt)\n",
    "    plt.subplots_adjust(wspace=wspace, hspace=hspace*2)\n",
    "    ab = 'abs ' if plot_abs else ''\n",
    "    axs = axes.flatten()\n",
    "    \n",
    "    for i, scale in enumerate(panss_order):\n",
    "        ax = axs[i]\n",
    "        d = prep_horizontal_pointplot_errobar_data(df[scale].loc[m_type], measure, plot_abs=plot_abs)\n",
    "        pointplot_horizontal(d, x=measure, ax=ax)\n",
    "        ax.set_title(f'{ab}{measure} {scale}')\n",
    "        if i > 0:\n",
    "            ax.sharex(axes[0, 0])\n",
    "\n",
    "    add_grey(axes[:2, :])\n",
    "    \n",
    "    if plot_abs:\n",
    "        for ax in axes[:2, :].reshape(-1): \n",
    "            ax.set_xlabel('abs ' + measure)\n",
    "\n",
    "    d = prep_horizontal_pointplot_errobar_data(df['panss_o'].loc[m_type], 'ps_r_td.severity')\n",
    "    pointplot_horizontal(d, x='ps_r_td.severity', ax=axes[2, 0])\n",
    "    axes[2, 0].set_xlabel('pseudo r squared');\n",
    "    axes[2, 0].set_title(f'pseudo r squared td severity')\n",
    "\n",
    "    d = prep_horizontal_pointplot_errobar_data(df['panss_o'].loc[m_type], 'ps_r_dep.severity')\n",
    "    pointplot_horizontal(d, x='ps_r_dep.severity', ax=axes[2, 1])\n",
    "    axes[2, 1].set_xlabel('pseudo r squared');\n",
    "    axes[2, 1].set_title(f'pseudo r squared dep severity')\n",
    "    axes[2, 1].sharex(axes[2, 0])\n",
    "\n",
    "    add_grey(axes[2, :], r=0.09)\n",
    "    return fig"
   ]
  },
  {
   "cell_type": "code",
   "execution_count": 205,
   "id": "bd167e85",
   "metadata": {},
   "outputs": [],
   "source": [
    "# m_type='syntactic'\n",
    "# fig = plot_horizontal_scales_for_task(reformed_d['chair'], 'chair scale correlation', 'r', plot_abs=True, m_type=m_type)"
   ]
  },
  {
   "cell_type": "code",
   "execution_count": 206,
   "id": "551c65cc",
   "metadata": {},
   "outputs": [],
   "source": [
    "def plot_all_scales_for_task(df, m_type='syntactic', task='chair', \n",
    "                             path=PATH_FIG, dpi=150, plot_abs=False, figparams=figprms):\n",
    "    ab = 'abs_' if plot_abs else ''\n",
    "    absolute_value = f' (absolute r value)' if plot_abs else ''\n",
    "    fig = plot_horizontal_scales_for_task(df[task], \n",
    "                                          f'cross-scale comparison for {m_type} metrics on {task} task', \n",
    "                                          m_type = m_type,\n",
    "                                          measure='r', plot_abs=plot_abs,\n",
    "                                          figparams=figparams)\n",
    "    plt.savefig(f'{path}{m_type}/{task}/{ab}scale_r.png', dpi=dpi, bbox_inches = 'tight')\n",
    "    plt.close(fig)\n",
    "    \n",
    "    figsize, wspace, hspace, yt = get_fparams(m_type, 1, 1, figparams)\n",
    "    d_t = prep_horizontal_pointplot_errobar_data(df[task]['panss_o'].loc[m_type], 't')\n",
    "    fig, ax = plt.subplots(1, 1, figsize=figsize)\n",
    "    fig.suptitle(f'group difference (t-test) for {m_type} metrics on {task} task')\n",
    "    pointplot_horizontal(d_t, x='t', ax=ax)\n",
    "    add_grey(ax, r=2)\n",
    "    plt.savefig(f'{path}{m_type}/{task}/t.png', dpi=dpi, bbox_inches = 'tight')\n",
    "    plt.close(fig)\n",
    "    \n",
    "    d_c = prep_horizontal_pointplot_errobar_data(df[task]['panss_o'].loc[m_type], 'r_corr_w_control', \n",
    "                                                 plot_abs=plot_abs)\n",
    "    fig, ax = plt.subplots(1, 1, figsize=figsize)\n",
    "    fig.suptitle(f'correlation with mean sentence length{absolute_value} for {m_type} metrics on {task} task')\n",
    "    pointplot_horizontal(d_c, x='r_corr_w_control', ax=ax)\n",
    "    ax.set_xlabel('r' if not plot_abs else 'abs r')\n",
    "    add_grey(ax)\n",
    "    plt.savefig(f'{path}{m_type}/{task}/{ab}corr_len.png', dpi=dpi, bbox_inches = 'tight')\n",
    "    plt.close(fig)\n",
    "\n",
    "    figsize, wspace, hspace, yt = get_fparams(m_type, 1, 2, figparams)\n",
    "    fig, axes = plt.subplots(1, 2, figsize=figsize)\n",
    "    fig.suptitle(f'group difference and correlation with mean sentence length{absolute_value} for {m_type} metrics on {task} task')\n",
    "    plt.subplots_adjust(wspace=wspace, hspace=hspace)\n",
    "    pointplot_horizontal(d_t, x='t', ax=axes[0])\n",
    "    axes[0].set_title('group difference (t-test)')\n",
    "    pointplot_horizontal(d_c, x='r_corr_w_control', ax=axes[1])\n",
    "    axes[1].set_title('correlation with mean sentence length')\n",
    "    axes[1].set_xlabel('r' if not plot_abs else 'abs r')\n",
    "    add_grey(axes[0], r=2)\n",
    "    add_grey(axes[1])\n",
    "    plt.savefig(f'{path}{m_type}/{task}/{ab}t_test_corr_len.png', dpi=dpi, bbox_inches = 'tight')\n",
    "    plt.close(fig)"
   ]
  },
  {
   "cell_type": "code",
   "execution_count": 207,
   "id": "05bab509",
   "metadata": {},
   "outputs": [],
   "source": [
    "for task in TASKS:\n",
    "    for m_type in reformed_d.index.unique(level=0):\n",
    "        plot_all_scales_for_task(reformed_d, task=task, m_type=m_type, plot_abs=True)\n",
    "        plot_all_scales_for_task(reformed_d, task=task, m_type=m_type, plot_abs=False)"
   ]
  },
  {
   "cell_type": "code",
   "execution_count": 208,
   "id": "3b5e8a77",
   "metadata": {},
   "outputs": [],
   "source": [
    "# m_type = 'lexical'\n",
    "# task = 'chair'\n",
    "# plot_abs = False\n",
    "# figsize_cross_scale = (18, 10)\n",
    "# fig = plot_horizontal_scales_for_task(reformed_d[task], \n",
    "#                                           f'cross-scale comparison for {m_type} metrics on {task} task', \n",
    "#                                           m_type = m_type,\n",
    "#                                           measure='r', plot_abs=plot_abs,\n",
    "#                                           figsize=figsize_cross_scale)"
   ]
  },
  {
   "cell_type": "code",
   "execution_count": 209,
   "id": "b38c4273",
   "metadata": {},
   "outputs": [],
   "source": [
    "def plot_LM_scales_for_task(df, title, measure='r', plot_abs=False, figsize=(18, 18), order=order):\n",
    "    ab = 'abs ' if plot_abs else ''\n",
    "    absolute_value = f' (absolute r value)' if plot_abs else ''\n",
    "    fig, axes = plt.subplots(3, 2, figsize=figsize)\n",
    "    fig.suptitle(title + absolute_value, y=0.915)\n",
    "    plt.subplots_adjust(wspace=0.12, hspace=0.2)\n",
    "    \n",
    "    axs = axes.flatten()\n",
    "    \n",
    "    for i, scale in enumerate(panss_order):\n",
    "        ax = axs[i]\n",
    "        d = prep_LM_pointplot(df.loc['LM', scale], measure, plot_abs=plot_abs)\n",
    "        pointplot(d, x='model', y=measure, hue='metric', ax=ax, order=order, use_errorbar=True)\n",
    "        ax.set_title(f'{ab}{measure} {scale}')\n",
    "    \n",
    "    add_grey(axes[:2, :], line_dir='h')\n",
    "    for ax in axes[:2, :].reshape(-1):\n",
    "        ax.sharey(axes[0, 0])\n",
    "#         axes[0, 1].sharey(axes[0, 0])\n",
    "#         axes[1, 0].sharey(axes[0, 0])\n",
    "#         axes[1, 1].sharey(axes[0, 0])\n",
    "    \n",
    "    if plot_abs:\n",
    "        for ax in axes[:2, :].reshape(-1): \n",
    "            ax.set_ylabel('abs ' + measure)\n",
    "\n",
    "    d = prep_LM_pointplot(df.loc['LM', 'panss_o'], 'ps_r_td.severity', plot_abs=plot_abs)\n",
    "    pointplot(d, x='model', y='ps_r_td.severity', hue='metric', ax=axes[2, 0], order=order, use_errorbar=True)\n",
    "    axes[2, 0].set_title(f'pseudo r squared td severity')\n",
    "    axes[2, 0].set_ylabel('pseudo r squared')\n",
    "    \n",
    "    d = prep_LM_pointplot(df.loc['LM', 'panss_o'], 'ps_r_dep.severity', plot_abs=plot_abs)\n",
    "    pointplot(d, x='model', y='ps_r_dep.severity', hue='metric', ax=axes[2, 1], order=order, use_errorbar=True)\n",
    "    axes[2, 1].set_title(f'pseudo r squared dep severity')\n",
    "    axes[2, 1].set_ylabel('pseudo r squared')\n",
    "    axes[2, 1].sharey(axes[2, 0])\n",
    "\n",
    "    add_grey(axes[2, :], line_dir='h', r=0.09)\n",
    "\n",
    "    return fig"
   ]
  },
  {
   "cell_type": "code",
   "execution_count": 210,
   "id": "5aef618f",
   "metadata": {},
   "outputs": [],
   "source": [
    "# task = 'present'\n",
    "# fig = plot_LM_scales_for_task(reformed_d[task], f'cross-scale comparison for LM metrics across models on {task} task')\n",
    "# plt.savefig(f'{PATH_FIG}LM/{task}/model/scale_r.png', dpi=150, bbox_inches = 'tight')\n",
    "# plt.close(fig)\n",
    "# fig = plot_LM_scales_for_task(reformed_d[task], f'cross-scale comparison for LM metrics across models on {task} task (absolute values)', plot_abs=True)\n",
    "# plt.savefig(f'{PATH_FIG}LM/{task}/model/abs_scale_r.png', dpi=150, bbox_inches = 'tight')\n",
    "# plt.close(fig)"
   ]
  },
  {
   "cell_type": "code",
   "execution_count": 211,
   "id": "52017414",
   "metadata": {
    "scrolled": false
   },
   "outputs": [],
   "source": [
    "# fig = plot_LM_scales_for_task(reformed_d['chair'], 'corr long long long long long long long long long long long long')"
   ]
  },
  {
   "cell_type": "code",
   "execution_count": 212,
   "id": "7d018c74",
   "metadata": {},
   "outputs": [],
   "source": [
    "def plot_all_LM_for_task(df, task, path=PATH_FIG, dpi=150, plot_abs=False, figsize=(9, 6)):\n",
    "    \n",
    "    ab = 'abs_' if plot_abs else ''\n",
    "    absolute_value = f' (absolute r value)' if plot_abs else ''\n",
    "    \n",
    "    fig = plot_LM_scales_for_task(df, f'cross-scale comparison for LM metrics across models on {task} task', \n",
    "                                  plot_abs=plot_abs)\n",
    "    plt.savefig(f'{path}LM/{task}/model/{ab}scale_r.png', dpi=dpi, bbox_inches = 'tight')\n",
    "    plt.close(fig)\n",
    "    \n",
    "    d_lm_t = prep_LM_pointplot(df.loc['LM', 'panss_o'], 't')\n",
    "    fig, ax = plt.subplots(1, 1, figsize=figsize)\n",
    "    fig.suptitle(f'group difference (t-test) for LM metrics across models on {task} task')\n",
    "    pointplot(d_lm_t, x='model', y='t', hue='metric', ax=ax, order=order, use_errorbar=True)\n",
    "    add_grey(ax, r=2, line_dir='h')\n",
    "    plt.savefig(f'{path}LM/{task}/model/t.png', dpi=dpi, bbox_inches = 'tight')\n",
    "    plt.close(fig)\n",
    "    \n",
    "    d_lm_c = prep_LM_pointplot(df.loc['LM', 'panss_o'], 'r_corr_w_control', plot_abs=plot_abs)\n",
    "    fig, ax = plt.subplots(1, 1, figsize=figsize)\n",
    "    fig.suptitle(f'correlation with mean sentence length{absolute_value} for LM metrics across models on {task} task')\n",
    "    pointplot(d_lm_c, x='model', y='r_corr_w_control', hue='metric', ax=ax, order=order, \n",
    "              use_errorbar=True)\n",
    "    add_grey(ax, line_dir='h')\n",
    "    ax.set_ylabel('r' if not plot_abs else 'abs r')\n",
    "    plt.savefig(f'{path}LM/{task}/model/{ab}corr_len.png', dpi=dpi, bbox_inches = 'tight')\n",
    "    plt.close(fig)\n",
    "    \n",
    "\n",
    "    fig, axes = plt.subplots(1, 2, figsize=(14, 5))\n",
    "    fig.suptitle(f'group difference and correlation with mean sentence length{absolute_value} '\n",
    "                 f'of LM metrcis across models on {task} task')\n",
    "\n",
    "    pointplot(d_lm_t, x='model', y='t', hue='metric', ax=axes[0], order=order, use_errorbar=True)\n",
    "    axes[0].set_title('group difference (t-test)')\n",
    "\n",
    "    pointplot(d_lm_c, x='model', y='r_corr_w_control', hue='metric', ax=axes[1], order=order, use_errorbar=True)\n",
    "    axes[1].set_title('correlation with mean sentence length')\n",
    "    axes[1].set_ylabel('r' if not plot_abs else 'abs r')\n",
    "    add_grey(axes[0], r=2, line_dir='h')\n",
    "    add_grey(axes[1], line_dir='h')\n",
    "    plt.savefig(f'{path}LM/{task}/model/{ab}t_test_corr_len.png', dpi=dpi, bbox_inches = 'tight')\n",
    "    plt.close(fig)"
   ]
  },
  {
   "cell_type": "code",
   "execution_count": 213,
   "id": "125f093a",
   "metadata": {},
   "outputs": [],
   "source": [
    "for task in TASKS:\n",
    "    for m_type in reformed_d.index.unique(level=0):\n",
    "        plot_all_LM_for_task(reformed_d[task], task=task, plot_abs=True)\n",
    "        plot_all_LM_for_task(reformed_d[task], task=task, plot_abs=False)"
   ]
  },
  {
   "cell_type": "code",
   "execution_count": 214,
   "id": "2879b9fb",
   "metadata": {},
   "outputs": [],
   "source": [
    "# fig, axes = plt.subplots(3, 2, figsize=(18, 18), sharey=True)\n",
    "# d = prep_LM_pointplot(reformed_d['adventure'].loc['LM', 'panss_o'], 'ps_r_dep.severity', plot_abs=True)\n",
    "# pointplot(d, x='model', y='ps_r_dep.severity', hue='metric', ax=axes[2, 0], order=order, use_errorbar=True)\n",
    "# axes[2, 0].set_title(f'pseudo r squared dep.severity')\n",
    "    "
   ]
  },
  {
   "cell_type": "code",
   "execution_count": 215,
   "id": "a30729ce",
   "metadata": {},
   "outputs": [],
   "source": [
    "# tsk = 'sportsman'\n",
    "# d_lm_t = prep_LM_pointplot(reformed_d[tsk].loc['LM', 'panss_o'], 't')\n",
    "# d_lm_c = prep_LM_pointplot(reformed_d[tsk].loc['LM', 'panss_o'], 'r_corr_w_control', plot_abs=True)\n",
    "\n",
    "# fig, axes = plt.subplots(1, 2, figsize=(14, 5))\n",
    "# fig.suptitle('t and corr len')\n",
    "\n",
    "# pointplot(d_lm_t, x='model', y='t', hue='metric', ax=axes[0], order=order, use_errorbar=True)\n",
    "# axes[0].set_title('t')\n",
    "\n",
    "# pointplot(d_lm_c, x='model', y='r_corr_w_control', hue='metric', ax=axes[1], order=order, use_errorbar=True)\n",
    "# axes[1].set_title('r corr with len')\n",
    "# axes[1].set_ylabel('r')\n",
    "# add_grey(axes[0], r=2, line_dir='h')\n",
    "# add_grey(axes[1], line_dir='h')"
   ]
  },
  {
   "cell_type": "markdown",
   "id": "2272da5d",
   "metadata": {},
   "source": [
    "### values"
   ]
  },
  {
   "cell_type": "code",
   "execution_count": 216,
   "id": "e9fb204f",
   "metadata": {},
   "outputs": [],
   "source": [
    "def mean_model_metric_medians(median_df, tsk, ignore_sprob_in_model=False):\n",
    "    resp_d_model = pd.DataFrame(columns=[f'{sc} abs r' for sc in panss_] + list(sc_ind_), index=models_)\n",
    "    resp_d_metric = pd.DataFrame(columns=[f'{sc} abs r' for sc in panss_] + list(sc_ind_), index=metrics_)\n",
    "    for scale in panss_:\n",
    "        ex_d = prep_LM_pointplot(median_df.loc['LM', (tsk, scale)], col='r', use_errorbar=False, plot_abs=True)\n",
    "        if ignore_sprob_in_model:\n",
    "                drop_sprob = ex_d.drop(ex_d[ex_d['metric'] == 'sprob'].index)\n",
    "        for model in models_:\n",
    "            if ignore_sprob_in_model:\n",
    "                resp_d_model.loc[model, f'{scale} abs r'] = np.nanmean(drop_sprob[drop_sprob['model'] == model]['r'])\n",
    "            else:\n",
    "                resp_d_model.loc[model, f'{scale} abs r'] = np.nanmean(ex_d[ex_d['model'] == model]['r'])\n",
    "        for metric in metrics_:\n",
    "            resp_d_metric.loc[metric, f'{scale} abs r'] = np.nanmean(ex_d[ex_d['metric'] == metric]['r'])\n",
    "    for sc_ind in sc_ind_:\n",
    "        if ignore_sprob_in_model:\n",
    "                drop_sprob = ex_d.drop(ex_d[ex_d['metric'] == 'sprob'].index)\n",
    "        for model in models_:\n",
    "            if ignore_sprob_in_model:\n",
    "                resp_d_model.loc[model, sc_ind] = np.nanmean(drop_sprob[drop_sprob['model'] == model][sc_ind])\n",
    "            else:\n",
    "                resp_d_model.loc[model, sc_ind] = np.nanmean(ex_d[ex_d['model'] == model][sc_ind])\n",
    "        for metric in metrics_:\n",
    "            resp_d_metric.loc[metric, sc_ind] = np.nanmean(ex_d[ex_d['metric'] == metric][sc_ind])\n",
    "    return resp_d_model, resp_d_metric\n"
   ]
  },
  {
   "cell_type": "code",
   "execution_count": 217,
   "id": "bea8e60c",
   "metadata": {},
   "outputs": [],
   "source": [
    "dfs_model = []\n",
    "dfs_metric = []\n",
    "\n",
    "for task in TASKS:\n",
    "    resp_d_model, resp_d_metric = mean_model_metric_medians(median_bootstrap, task, ignore_sprob_in_model=True)\n",
    "    dfs_model.append(resp_d_model)\n",
    "    dfs_metric.append(resp_d_metric)\n",
    "    \n",
    "df_model = pd.concat(dfs_model, keys=TASKS, names=['task'], axis=1)\n",
    "df_metric = pd.concat(dfs_metric, keys=TASKS, names=['task'], axis=1)"
   ]
  },
  {
   "cell_type": "code",
   "execution_count": 218,
   "id": "745a1d04",
   "metadata": {},
   "outputs": [
    {
     "data": {
      "text/html": [
       "<style type=\"text/css\">\n",
       "#T_00fed_row0_col0, #T_00fed_row0_col1, #T_00fed_row0_col2, #T_00fed_row0_col3, #T_00fed_row0_col4, #T_00fed_row0_col7, #T_00fed_row3_col6, #T_00fed_row4_col5 {\n",
       "  background-color: #08306b;\n",
       "  color: #f1f1f1;\n",
       "}\n",
       "#T_00fed_row0_col5, #T_00fed_row1_col0, #T_00fed_row1_col4, #T_00fed_row1_col6, #T_00fed_row1_col7, #T_00fed_row2_col1, #T_00fed_row2_col2, #T_00fed_row2_col3 {\n",
       "  background-color: #f7fbff;\n",
       "  color: #000000;\n",
       "}\n",
       "#T_00fed_row0_col6 {\n",
       "  background-color: #cde0f1;\n",
       "  color: #000000;\n",
       "}\n",
       "#T_00fed_row1_col1 {\n",
       "  background-color: #4695c8;\n",
       "  color: #f1f1f1;\n",
       "}\n",
       "#T_00fed_row1_col2 {\n",
       "  background-color: #99c7e0;\n",
       "  color: #000000;\n",
       "}\n",
       "#T_00fed_row1_col3 {\n",
       "  background-color: #84bcdb;\n",
       "  color: #000000;\n",
       "}\n",
       "#T_00fed_row1_col5 {\n",
       "  background-color: #82bbdb;\n",
       "  color: #000000;\n",
       "}\n",
       "#T_00fed_row2_col0 {\n",
       "  background-color: #2373b6;\n",
       "  color: #f1f1f1;\n",
       "}\n",
       "#T_00fed_row2_col4 {\n",
       "  background-color: #f1f7fd;\n",
       "  color: #000000;\n",
       "}\n",
       "#T_00fed_row2_col5 {\n",
       "  background-color: #2474b7;\n",
       "  color: #f1f1f1;\n",
       "}\n",
       "#T_00fed_row2_col6 {\n",
       "  background-color: #77b5d9;\n",
       "  color: #000000;\n",
       "}\n",
       "#T_00fed_row2_col7 {\n",
       "  background-color: #c8dcf0;\n",
       "  color: #000000;\n",
       "}\n",
       "#T_00fed_row3_col0 {\n",
       "  background-color: #3b8bc2;\n",
       "  color: #f1f1f1;\n",
       "}\n",
       "#T_00fed_row3_col1 {\n",
       "  background-color: #3989c1;\n",
       "  color: #f1f1f1;\n",
       "}\n",
       "#T_00fed_row3_col2 {\n",
       "  background-color: #79b5d9;\n",
       "  color: #000000;\n",
       "}\n",
       "#T_00fed_row3_col3 {\n",
       "  background-color: #5ca4d0;\n",
       "  color: #f1f1f1;\n",
       "}\n",
       "#T_00fed_row3_col4, #T_00fed_row4_col3, #T_00fed_row4_col6 {\n",
       "  background-color: #a0cbe2;\n",
       "  color: #000000;\n",
       "}\n",
       "#T_00fed_row3_col5 {\n",
       "  background-color: #084488;\n",
       "  color: #f1f1f1;\n",
       "}\n",
       "#T_00fed_row3_col7 {\n",
       "  background-color: #e3eef9;\n",
       "  color: #000000;\n",
       "}\n",
       "#T_00fed_row4_col0 {\n",
       "  background-color: #4997c9;\n",
       "  color: #f1f1f1;\n",
       "}\n",
       "#T_00fed_row4_col1 {\n",
       "  background-color: #a5cde3;\n",
       "  color: #000000;\n",
       "}\n",
       "#T_00fed_row4_col2 {\n",
       "  background-color: #94c4df;\n",
       "  color: #000000;\n",
       "}\n",
       "#T_00fed_row4_col4 {\n",
       "  background-color: #c7dbef;\n",
       "  color: #000000;\n",
       "}\n",
       "#T_00fed_row4_col7 {\n",
       "  background-color: #4090c5;\n",
       "  color: #f1f1f1;\n",
       "}\n",
       "</style>\n",
       "<table id=\"T_00fed\">\n",
       "  <thead>\n",
       "    <tr>\n",
       "      <th class=\"blank level0\" >&nbsp;</th>\n",
       "      <th id=\"T_00fed_level0_col0\" class=\"col_heading level0 col0\" >panss_pos abs r</th>\n",
       "      <th id=\"T_00fed_level0_col1\" class=\"col_heading level0 col1\" >panss_neg abs r</th>\n",
       "      <th id=\"T_00fed_level0_col2\" class=\"col_heading level0 col2\" >panss_o abs r</th>\n",
       "      <th id=\"T_00fed_level0_col3\" class=\"col_heading level0 col3\" >panss_total abs r</th>\n",
       "      <th id=\"T_00fed_level0_col4\" class=\"col_heading level0 col4\" >t</th>\n",
       "      <th id=\"T_00fed_level0_col5\" class=\"col_heading level0 col5\" >r_corr_w_control</th>\n",
       "      <th id=\"T_00fed_level0_col6\" class=\"col_heading level0 col6\" >ps_r_dep.severity</th>\n",
       "      <th id=\"T_00fed_level0_col7\" class=\"col_heading level0 col7\" >ps_r_td.severity</th>\n",
       "    </tr>\n",
       "  </thead>\n",
       "  <tbody>\n",
       "    <tr>\n",
       "      <th id=\"T_00fed_level0_row0\" class=\"row_heading level0 row0\" >bert</th>\n",
       "      <td id=\"T_00fed_row0_col0\" class=\"data row0 col0\" >0.137929</td>\n",
       "      <td id=\"T_00fed_row0_col1\" class=\"data row0 col1\" >0.144775</td>\n",
       "      <td id=\"T_00fed_row0_col2\" class=\"data row0 col2\" >0.149566</td>\n",
       "      <td id=\"T_00fed_row0_col3\" class=\"data row0 col3\" >0.145274</td>\n",
       "      <td id=\"T_00fed_row0_col4\" class=\"data row0 col4\" >0.429598</td>\n",
       "      <td id=\"T_00fed_row0_col5\" class=\"data row0 col5\" >0.314053</td>\n",
       "      <td id=\"T_00fed_row0_col6\" class=\"data row0 col6\" >0.019869</td>\n",
       "      <td id=\"T_00fed_row0_col7\" class=\"data row0 col7\" >0.023103</td>\n",
       "    </tr>\n",
       "    <tr>\n",
       "      <th id=\"T_00fed_level0_row1\" class=\"row_heading level0 row1\" >glove_tf</th>\n",
       "      <td id=\"T_00fed_row1_col0\" class=\"data row1 col0\" >0.018632</td>\n",
       "      <td id=\"T_00fed_row1_col1\" class=\"data row1 col1\" >0.104372</td>\n",
       "      <td id=\"T_00fed_row1_col2\" class=\"data row1 col2\" >0.088828</td>\n",
       "      <td id=\"T_00fed_row1_col3\" class=\"data row1 col3\" >0.087441</td>\n",
       "      <td id=\"T_00fed_row1_col4\" class=\"data row1 col4\" >0.041688</td>\n",
       "      <td id=\"T_00fed_row1_col5\" class=\"data row1 col5\" >0.502166</td>\n",
       "      <td id=\"T_00fed_row1_col6\" class=\"data row1 col6\" >0.016616</td>\n",
       "      <td id=\"T_00fed_row1_col7\" class=\"data row1 col7\" >0.012458</td>\n",
       "    </tr>\n",
       "    <tr>\n",
       "      <th id=\"T_00fed_level0_row2\" class=\"row_heading level0 row2\" >glove_avg</th>\n",
       "      <td id=\"T_00fed_row2_col0\" class=\"data row2 col0\" >0.106723</td>\n",
       "      <td id=\"T_00fed_row2_col1\" class=\"data row2 col1\" >0.040614</td>\n",
       "      <td id=\"T_00fed_row2_col2\" class=\"data row2 col2\" >0.050345</td>\n",
       "      <td id=\"T_00fed_row2_col3\" class=\"data row2 col3\" >0.042436</td>\n",
       "      <td id=\"T_00fed_row2_col4\" class=\"data row2 col4\" >0.054562</td>\n",
       "      <td id=\"T_00fed_row2_col5\" class=\"data row2 col5\" >0.628264</td>\n",
       "      <td id=\"T_00fed_row2_col6\" class=\"data row2 col6\" >0.023785</td>\n",
       "      <td id=\"T_00fed_row2_col7\" class=\"data row2 col7\" >0.015005</td>\n",
       "    </tr>\n",
       "    <tr>\n",
       "      <th id=\"T_00fed_level0_row3\" class=\"row_heading level0 row3\" >w2v_tf</th>\n",
       "      <td id=\"T_00fed_row3_col0\" class=\"data row3 col0\" >0.096123</td>\n",
       "      <td id=\"T_00fed_row3_col1\" class=\"data row3 col1\" >0.108970</td>\n",
       "      <td id=\"T_00fed_row3_col2\" class=\"data row3 col2\" >0.096841</td>\n",
       "      <td id=\"T_00fed_row3_col3\" class=\"data row3 col3\" >0.098505</td>\n",
       "      <td id=\"T_00fed_row3_col4\" class=\"data row3 col4\" >0.184227</td>\n",
       "      <td id=\"T_00fed_row3_col5\" class=\"data row3 col5\" >0.707914</td>\n",
       "      <td id=\"T_00fed_row3_col6\" class=\"data row3 col6\" >0.031798</td>\n",
       "      <td id=\"T_00fed_row3_col7\" class=\"data row3 col7\" >0.013529</td>\n",
       "    </tr>\n",
       "    <tr>\n",
       "      <th id=\"T_00fed_level0_row4\" class=\"row_heading level0 row4\" >w2v_avg</th>\n",
       "      <td id=\"T_00fed_row4_col0\" class=\"data row4 col0\" >0.090773</td>\n",
       "      <td id=\"T_00fed_row4_col1\" class=\"data row4 col1\" >0.077277</td>\n",
       "      <td id=\"T_00fed_row4_col2\" class=\"data row4 col2\" >0.090087</td>\n",
       "      <td id=\"T_00fed_row4_col3\" class=\"data row4 col3\" >0.080255</td>\n",
       "      <td id=\"T_00fed_row4_col4\" class=\"data row4 col4\" >0.137622</td>\n",
       "      <td id=\"T_00fed_row4_col5\" class=\"data row4 col5\" >0.740210</td>\n",
       "      <td id=\"T_00fed_row4_col6\" class=\"data row4 col6\" >0.022216</td>\n",
       "      <td id=\"T_00fed_row4_col7\" class=\"data row4 col7\" >0.019192</td>\n",
       "    </tr>\n",
       "  </tbody>\n",
       "</table>\n"
      ],
      "text/plain": [
       "<pandas.io.formats.style.Styler at 0x7faf756e6fd0>"
      ]
     },
     "execution_count": 218,
     "metadata": {},
     "output_type": "execute_result"
    }
   ],
   "source": [
    "style(df_model['sportsman'])"
   ]
  },
  {
   "cell_type": "code",
   "execution_count": 219,
   "id": "5d44b46b",
   "metadata": {},
   "outputs": [
    {
     "data": {
      "text/html": [
       "<style type=\"text/css\">\n",
       "#T_f9f04_row0_col0, #T_f9f04_row0_col4, #T_f9f04_row1_col5, #T_f9f04_row4_col1, #T_f9f04_row4_col2, #T_f9f04_row4_col3, #T_f9f04_row5_col6, #T_f9f04_row5_col7 {\n",
       "  background-color: #08306b;\n",
       "  color: #f1f1f1;\n",
       "}\n",
       "#T_f9f04_row0_col1 {\n",
       "  background-color: #9ac8e0;\n",
       "  color: #000000;\n",
       "}\n",
       "#T_f9f04_row0_col2 {\n",
       "  background-color: #cadef0;\n",
       "  color: #000000;\n",
       "}\n",
       "#T_f9f04_row0_col3 {\n",
       "  background-color: #549fcd;\n",
       "  color: #f1f1f1;\n",
       "}\n",
       "#T_f9f04_row0_col5 {\n",
       "  background-color: #084e98;\n",
       "  color: #f1f1f1;\n",
       "}\n",
       "#T_f9f04_row0_col6, #T_f9f04_row2_col7, #T_f9f04_row3_col1, #T_f9f04_row5_col0, #T_f9f04_row5_col2, #T_f9f04_row5_col3, #T_f9f04_row5_col4, #T_f9f04_row5_col5 {\n",
       "  background-color: #f7fbff;\n",
       "  color: #000000;\n",
       "}\n",
       "#T_f9f04_row0_col7 {\n",
       "  background-color: #4f9bcb;\n",
       "  color: #f1f1f1;\n",
       "}\n",
       "#T_f9f04_row1_col0 {\n",
       "  background-color: #c9ddf0;\n",
       "  color: #000000;\n",
       "}\n",
       "#T_f9f04_row1_col1 {\n",
       "  background-color: #a8cee4;\n",
       "  color: #000000;\n",
       "}\n",
       "#T_f9f04_row1_col2 {\n",
       "  background-color: #ecf4fb;\n",
       "  color: #000000;\n",
       "}\n",
       "#T_f9f04_row1_col3 {\n",
       "  background-color: #b9d6ea;\n",
       "  color: #000000;\n",
       "}\n",
       "#T_f9f04_row1_col4, #T_f9f04_row2_col2 {\n",
       "  background-color: #d0e2f2;\n",
       "  color: #000000;\n",
       "}\n",
       "#T_f9f04_row1_col6 {\n",
       "  background-color: #e0ecf8;\n",
       "  color: #000000;\n",
       "}\n",
       "#T_f9f04_row1_col7 {\n",
       "  background-color: #d7e6f5;\n",
       "  color: #000000;\n",
       "}\n",
       "#T_f9f04_row2_col0 {\n",
       "  background-color: #dce9f6;\n",
       "  color: #000000;\n",
       "}\n",
       "#T_f9f04_row2_col1 {\n",
       "  background-color: #bad6eb;\n",
       "  color: #000000;\n",
       "}\n",
       "#T_f9f04_row2_col3 {\n",
       "  background-color: #a5cde3;\n",
       "  color: #000000;\n",
       "}\n",
       "#T_f9f04_row2_col4 {\n",
       "  background-color: #ccdff1;\n",
       "  color: #000000;\n",
       "}\n",
       "#T_f9f04_row2_col5 {\n",
       "  background-color: #08519c;\n",
       "  color: #f1f1f1;\n",
       "}\n",
       "#T_f9f04_row2_col6 {\n",
       "  background-color: #084285;\n",
       "  color: #f1f1f1;\n",
       "}\n",
       "#T_f9f04_row3_col0 {\n",
       "  background-color: #dae8f6;\n",
       "  color: #000000;\n",
       "}\n",
       "#T_f9f04_row3_col2, #T_f9f04_row3_col7 {\n",
       "  background-color: #eef5fc;\n",
       "  color: #000000;\n",
       "}\n",
       "#T_f9f04_row3_col3 {\n",
       "  background-color: #dfebf7;\n",
       "  color: #000000;\n",
       "}\n",
       "#T_f9f04_row3_col4 {\n",
       "  background-color: #f0f6fd;\n",
       "  color: #000000;\n",
       "}\n",
       "#T_f9f04_row3_col5 {\n",
       "  background-color: #083a7a;\n",
       "  color: #f1f1f1;\n",
       "}\n",
       "#T_f9f04_row3_col6 {\n",
       "  background-color: #d9e7f5;\n",
       "  color: #000000;\n",
       "}\n",
       "#T_f9f04_row4_col0 {\n",
       "  background-color: #6fb0d7;\n",
       "  color: #f1f1f1;\n",
       "}\n",
       "#T_f9f04_row4_col4 {\n",
       "  background-color: #e3eef8;\n",
       "  color: #000000;\n",
       "}\n",
       "#T_f9f04_row4_col5 {\n",
       "  background-color: #dbe9f6;\n",
       "  color: #000000;\n",
       "}\n",
       "#T_f9f04_row4_col6 {\n",
       "  background-color: #6aaed6;\n",
       "  color: #f1f1f1;\n",
       "}\n",
       "#T_f9f04_row4_col7 {\n",
       "  background-color: #3e8ec4;\n",
       "  color: #f1f1f1;\n",
       "}\n",
       "#T_f9f04_row5_col1 {\n",
       "  background-color: #c4daee;\n",
       "  color: #000000;\n",
       "}\n",
       "</style>\n",
       "<table id=\"T_f9f04\">\n",
       "  <thead>\n",
       "    <tr>\n",
       "      <th class=\"blank level0\" >&nbsp;</th>\n",
       "      <th id=\"T_f9f04_level0_col0\" class=\"col_heading level0 col0\" >panss_pos abs r</th>\n",
       "      <th id=\"T_f9f04_level0_col1\" class=\"col_heading level0 col1\" >panss_neg abs r</th>\n",
       "      <th id=\"T_f9f04_level0_col2\" class=\"col_heading level0 col2\" >panss_o abs r</th>\n",
       "      <th id=\"T_f9f04_level0_col3\" class=\"col_heading level0 col3\" >panss_total abs r</th>\n",
       "      <th id=\"T_f9f04_level0_col4\" class=\"col_heading level0 col4\" >t</th>\n",
       "      <th id=\"T_f9f04_level0_col5\" class=\"col_heading level0 col5\" >r_corr_w_control</th>\n",
       "      <th id=\"T_f9f04_level0_col6\" class=\"col_heading level0 col6\" >ps_r_dep.severity</th>\n",
       "      <th id=\"T_f9f04_level0_col7\" class=\"col_heading level0 col7\" >ps_r_td.severity</th>\n",
       "    </tr>\n",
       "  </thead>\n",
       "  <tbody>\n",
       "    <tr>\n",
       "      <th id=\"T_f9f04_level0_row0\" class=\"row_heading level0 row0\" >cgcoh</th>\n",
       "      <td id=\"T_f9f04_row0_col0\" class=\"data row0 col0\" >0.183196</td>\n",
       "      <td id=\"T_f9f04_row0_col1\" class=\"data row0 col1\" >0.116198</td>\n",
       "      <td id=\"T_f9f04_row0_col2\" class=\"data row0 col2\" >0.119935</td>\n",
       "      <td id=\"T_f9f04_row0_col3\" class=\"data row0 col3\" >0.142023</td>\n",
       "      <td id=\"T_f9f04_row0_col4\" class=\"data row0 col4\" >0.346000</td>\n",
       "      <td id=\"T_f9f04_row0_col5\" class=\"data row0 col5\" >0.565037</td>\n",
       "      <td id=\"T_f9f04_row0_col6\" class=\"data row0 col6\" >0.017241</td>\n",
       "      <td id=\"T_f9f04_row0_col7\" class=\"data row0 col7\" >0.024013</td>\n",
       "    </tr>\n",
       "    <tr>\n",
       "      <th id=\"T_f9f04_level0_row1\" class=\"row_heading level0 row1\" >gcoh</th>\n",
       "      <td id=\"T_f9f04_row1_col0\" class=\"data row1 col0\" >0.074448</td>\n",
       "      <td id=\"T_f9f04_row1_col1\" class=\"data row1 col1\" >0.110492</td>\n",
       "      <td id=\"T_f9f04_row1_col2\" class=\"data row1 col2\" >0.082811</td>\n",
       "      <td id=\"T_f9f04_row1_col3\" class=\"data row1 col3\" >0.088487</td>\n",
       "      <td id=\"T_f9f04_row1_col4\" class=\"data row1 col4\" >0.144488</td>\n",
       "      <td id=\"T_f9f04_row1_col5\" class=\"data row1 col5\" >0.629161</td>\n",
       "      <td id=\"T_f9f04_row1_col6\" class=\"data row1 col6\" >0.019156</td>\n",
       "      <td id=\"T_f9f04_row1_col7\" class=\"data row1 col7\" >0.015445</td>\n",
       "    </tr>\n",
       "    <tr>\n",
       "      <th id=\"T_f9f04_level0_row2\" class=\"row_heading level0 row2\" >lcoh</th>\n",
       "      <td id=\"T_f9f04_row2_col0\" class=\"data row2 col0\" >0.060411</td>\n",
       "      <td id=\"T_f9f04_row2_col1\" class=\"data row2 col1\" >0.102516</td>\n",
       "      <td id=\"T_f9f04_row2_col2\" class=\"data row2 col2\" >0.112975</td>\n",
       "      <td id=\"T_f9f04_row2_col3\" class=\"data row2 col3\" >0.100362</td>\n",
       "      <td id=\"T_f9f04_row2_col4\" class=\"data row2 col4\" >0.150293</td>\n",
       "      <td id=\"T_f9f04_row2_col5\" class=\"data row2 col5\" >0.559926</td>\n",
       "      <td id=\"T_f9f04_row2_col6\" class=\"data row2 col6\" >0.032537</td>\n",
       "      <td id=\"T_f9f04_row2_col7\" class=\"data row2 col7\" >0.012190</td>\n",
       "    </tr>\n",
       "    <tr>\n",
       "      <th id=\"T_f9f04_level0_row3\" class=\"row_heading level0 row3\" >scoh</th>\n",
       "      <td id=\"T_f9f04_row3_col0\" class=\"data row3 col0\" >0.061496</td>\n",
       "      <td id=\"T_f9f04_row3_col1\" class=\"data row3 col1\" >0.060989</td>\n",
       "      <td id=\"T_f9f04_row3_col2\" class=\"data row3 col2\" >0.080538</td>\n",
       "      <td id=\"T_f9f04_row3_col3\" class=\"data row3 col3\" >0.055040</td>\n",
       "      <td id=\"T_f9f04_row3_col4\" class=\"data row3 col4\" >0.104229</td>\n",
       "      <td id=\"T_f9f04_row3_col5\" class=\"data row3 col5\" >0.606570</td>\n",
       "      <td id=\"T_f9f04_row3_col6\" class=\"data row3 col6\" >0.019740</td>\n",
       "      <td id=\"T_f9f04_row3_col7\" class=\"data row3 col7\" >0.013102</td>\n",
       "    </tr>\n",
       "    <tr>\n",
       "      <th id=\"T_f9f04_level0_row4\" class=\"row_heading level0 row4\" >sprob</th>\n",
       "      <td id=\"T_f9f04_row4_col0\" class=\"data row4 col0\" >0.110585</td>\n",
       "      <td id=\"T_f9f04_row4_col1\" class=\"data row4 col1\" >0.204950</td>\n",
       "      <td id=\"T_f9f04_row4_col2\" class=\"data row4 col2\" >0.285809</td>\n",
       "      <td id=\"T_f9f04_row4_col3\" class=\"data row4 col3\" >0.226406</td>\n",
       "      <td id=\"T_f9f04_row4_col4\" class=\"data row4 col4\" >0.120900</td>\n",
       "      <td id=\"T_f9f04_row4_col5\" class=\"data row4 col5\" >0.158209</td>\n",
       "      <td id=\"T_f9f04_row4_col6\" class=\"data row4 col6\" >0.025500</td>\n",
       "      <td id=\"T_f9f04_row4_col7\" class=\"data row4 col7\" >0.025189</td>\n",
       "    </tr>\n",
       "    <tr>\n",
       "      <th id=\"T_f9f04_level0_row5\" class=\"row_heading level0 row5\" >pppl</th>\n",
       "      <td id=\"T_f9f04_row5_col0\" class=\"data row5 col0\" >0.040897</td>\n",
       "      <td id=\"T_f9f04_row5_col1\" class=\"data row5 col1\" >0.097839</td>\n",
       "      <td id=\"T_f9f04_row5_col2\" class=\"data row5 col2\" >0.070937</td>\n",
       "      <td id=\"T_f9f04_row5_col3\" class=\"data row5 col3\" >0.031355</td>\n",
       "      <td id=\"T_f9f04_row5_col4\" class=\"data row5 col4\" >0.095336</td>\n",
       "      <td id=\"T_f9f04_row5_col5\" class=\"data row5 col5\" >0.081011</td>\n",
       "      <td id=\"T_f9f04_row5_col6\" class=\"data row5 col6\" >0.033634</td>\n",
       "      <td id=\"T_f9f04_row5_col7\" class=\"data row5 col7\" >0.032495</td>\n",
       "    </tr>\n",
       "  </tbody>\n",
       "</table>\n"
      ],
      "text/plain": [
       "<pandas.io.formats.style.Styler at 0x7faf5b0d47c0>"
      ]
     },
     "execution_count": 219,
     "metadata": {},
     "output_type": "execute_result"
    }
   ],
   "source": [
    "style(df_metric['sportsman'])"
   ]
  },
  {
   "cell_type": "code",
   "execution_count": 220,
   "id": "3352f98b",
   "metadata": {},
   "outputs": [
    {
     "data": {
      "text/html": [
       "<style type=\"text/css\">\n",
       "#T_03c87_row0_col0, #T_03c87_row0_col2, #T_03c87_row0_col3, #T_03c87_row0_col4, #T_03c87_row2_col1 {\n",
       "  background-color: #f7fbff;\n",
       "  color: #000000;\n",
       "}\n",
       "#T_03c87_row0_col1 {\n",
       "  background-color: #57a0ce;\n",
       "  color: #f1f1f1;\n",
       "}\n",
       "#T_03c87_row1_col0 {\n",
       "  background-color: #abd0e6;\n",
       "  color: #000000;\n",
       "}\n",
       "#T_03c87_row1_col1 {\n",
       "  background-color: #6fb0d7;\n",
       "  color: #f1f1f1;\n",
       "}\n",
       "#T_03c87_row1_col2 {\n",
       "  background-color: #dce9f6;\n",
       "  color: #000000;\n",
       "}\n",
       "#T_03c87_row1_col3 {\n",
       "  background-color: #82bbdb;\n",
       "  color: #000000;\n",
       "}\n",
       "#T_03c87_row1_col4 {\n",
       "  background-color: #c6dbef;\n",
       "  color: #000000;\n",
       "}\n",
       "#T_03c87_row2_col0 {\n",
       "  background-color: #bad6eb;\n",
       "  color: #000000;\n",
       "}\n",
       "#T_03c87_row2_col2 {\n",
       "  background-color: #2979b9;\n",
       "  color: #f1f1f1;\n",
       "}\n",
       "#T_03c87_row2_col3 {\n",
       "  background-color: #2474b7;\n",
       "  color: #f1f1f1;\n",
       "}\n",
       "#T_03c87_row2_col4 {\n",
       "  background-color: #aacfe5;\n",
       "  color: #000000;\n",
       "}\n",
       "#T_03c87_row3_col0 {\n",
       "  background-color: #549fcd;\n",
       "  color: #f1f1f1;\n",
       "}\n",
       "#T_03c87_row3_col1 {\n",
       "  background-color: #2f7fbc;\n",
       "  color: #f1f1f1;\n",
       "}\n",
       "#T_03c87_row3_col2 {\n",
       "  background-color: #60a7d2;\n",
       "  color: #f1f1f1;\n",
       "}\n",
       "#T_03c87_row3_col3 {\n",
       "  background-color: #084488;\n",
       "  color: #f1f1f1;\n",
       "}\n",
       "#T_03c87_row3_col4 {\n",
       "  background-color: #3b8bc2;\n",
       "  color: #f1f1f1;\n",
       "}\n",
       "#T_03c87_row4_col0, #T_03c87_row4_col1, #T_03c87_row4_col2, #T_03c87_row4_col3, #T_03c87_row4_col4 {\n",
       "  background-color: #08306b;\n",
       "  color: #f1f1f1;\n",
       "}\n",
       "</style>\n",
       "<table id=\"T_03c87\">\n",
       "  <thead>\n",
       "    <tr>\n",
       "      <th class=\"blank level0\" >&nbsp;</th>\n",
       "      <th id=\"T_03c87_level0_col0\" class=\"col_heading level0 col0\" >adventure</th>\n",
       "      <th id=\"T_03c87_level0_col1\" class=\"col_heading level0 col1\" >chair</th>\n",
       "      <th id=\"T_03c87_level0_col2\" class=\"col_heading level0 col2\" >present</th>\n",
       "      <th id=\"T_03c87_level0_col3\" class=\"col_heading level0 col3\" >sportsman</th>\n",
       "      <th id=\"T_03c87_level0_col4\" class=\"col_heading level0 col4\" >mean</th>\n",
       "    </tr>\n",
       "  </thead>\n",
       "  <tbody>\n",
       "    <tr>\n",
       "      <th id=\"T_03c87_level0_row0\" class=\"row_heading level0 row0\" >bert</th>\n",
       "      <td id=\"T_03c87_row0_col0\" class=\"data row0 col0\" >0.290023</td>\n",
       "      <td id=\"T_03c87_row0_col1\" class=\"data row0 col1\" >0.400884</td>\n",
       "      <td id=\"T_03c87_row0_col2\" class=\"data row0 col2\" >0.211072</td>\n",
       "      <td id=\"T_03c87_row0_col3\" class=\"data row0 col3\" >0.314053</td>\n",
       "      <td id=\"T_03c87_row0_col4\" class=\"data row0 col4\" >0.304008</td>\n",
       "    </tr>\n",
       "    <tr>\n",
       "      <th id=\"T_03c87_level0_row1\" class=\"row_heading level0 row1\" >glove_tf</th>\n",
       "      <td id=\"T_03c87_row1_col0\" class=\"data row1 col0\" >0.389357</td>\n",
       "      <td id=\"T_03c87_row1_col1\" class=\"data row1 col1\" >0.373258</td>\n",
       "      <td id=\"T_03c87_row1_col2\" class=\"data row1 col2\" >0.254513</td>\n",
       "      <td id=\"T_03c87_row1_col3\" class=\"data row1 col3\" >0.502166</td>\n",
       "      <td id=\"T_03c87_row1_col4\" class=\"data row1 col4\" >0.379823</td>\n",
       "    </tr>\n",
       "    <tr>\n",
       "      <th id=\"T_03c87_level0_row2\" class=\"row_heading level0 row2\" >glove_avg</th>\n",
       "      <td id=\"T_03c87_row2_col0\" class=\"data row2 col0\" >0.375163</td>\n",
       "      <td id=\"T_03c87_row2_col1\" class=\"data row2 col1\" >0.182697</td>\n",
       "      <td id=\"T_03c87_row2_col2\" class=\"data row2 col2\" >0.438119</td>\n",
       "      <td id=\"T_03c87_row2_col3\" class=\"data row2 col3\" >0.628264</td>\n",
       "      <td id=\"T_03c87_row2_col4\" class=\"data row2 col4\" >0.406061</td>\n",
       "    </tr>\n",
       "    <tr>\n",
       "      <th id=\"T_03c87_level0_row3\" class=\"row_heading level0 row3\" >w2v_tf</th>\n",
       "      <td id=\"T_03c87_row3_col0\" class=\"data row3 col0\" >0.459295</td>\n",
       "      <td id=\"T_03c87_row3_col1\" class=\"data row3 col1\" >0.454097</td>\n",
       "      <td id=\"T_03c87_row3_col2\" class=\"data row3 col2\" >0.379155</td>\n",
       "      <td id=\"T_03c87_row3_col3\" class=\"data row3 col3\" >0.707914</td>\n",
       "      <td id=\"T_03c87_row3_col4\" class=\"data row3 col4\" >0.500115</td>\n",
       "    </tr>\n",
       "    <tr>\n",
       "      <th id=\"T_03c87_level0_row4\" class=\"row_heading level0 row4\" >w2v_avg</th>\n",
       "      <td id=\"T_03c87_row4_col0\" class=\"data row4 col0\" >0.587036</td>\n",
       "      <td id=\"T_03c87_row4_col1\" class=\"data row4 col1\" >0.571427</td>\n",
       "      <td id=\"T_03c87_row4_col2\" class=\"data row4 col2\" >0.525579</td>\n",
       "      <td id=\"T_03c87_row4_col3\" class=\"data row4 col3\" >0.740210</td>\n",
       "      <td id=\"T_03c87_row4_col4\" class=\"data row4 col4\" >0.606063</td>\n",
       "    </tr>\n",
       "  </tbody>\n",
       "</table>\n"
      ],
      "text/plain": [
       "<pandas.io.formats.style.Styler at 0x7fb0340b6d00>"
      ]
     },
     "execution_count": 220,
     "metadata": {},
     "output_type": "execute_result"
    }
   ],
   "source": [
    "df_corr_len = pd.DataFrame()\n",
    "for task in TASKS:\n",
    "    df_corr_len[task] = df_model[task]['r_corr_w_control']\n",
    "df_corr_len['mean'] = df_corr_len.apply(np.nanmean, axis=1)\n",
    "style(df_corr_len)"
   ]
  },
  {
   "cell_type": "code",
   "execution_count": 221,
   "id": "7aa524e4",
   "metadata": {},
   "outputs": [
    {
     "data": {
      "text/html": [
       "<style type=\"text/css\">\n",
       "#T_23878_row0_col0 {\n",
       "  background-color: #1c6bb0;\n",
       "  color: #f1f1f1;\n",
       "}\n",
       "#T_23878_row0_col1, #T_23878_row3_col4 {\n",
       "  background-color: #084b93;\n",
       "  color: #f1f1f1;\n",
       "}\n",
       "#T_23878_row0_col2, #T_23878_row0_col4, #T_23878_row2_col4 {\n",
       "  background-color: #0b559f;\n",
       "  color: #f1f1f1;\n",
       "}\n",
       "#T_23878_row0_col3 {\n",
       "  background-color: #084e98;\n",
       "  color: #f1f1f1;\n",
       "}\n",
       "#T_23878_row1_col0, #T_23878_row1_col1, #T_23878_row1_col2, #T_23878_row1_col3, #T_23878_row1_col4 {\n",
       "  background-color: #08306b;\n",
       "  color: #f1f1f1;\n",
       "}\n",
       "#T_23878_row2_col0, #T_23878_row3_col3 {\n",
       "  background-color: #083a7a;\n",
       "  color: #f1f1f1;\n",
       "}\n",
       "#T_23878_row2_col1 {\n",
       "  background-color: #1562a9;\n",
       "  color: #f1f1f1;\n",
       "}\n",
       "#T_23878_row2_col2 {\n",
       "  background-color: #1966ad;\n",
       "  color: #f1f1f1;\n",
       "}\n",
       "#T_23878_row2_col3 {\n",
       "  background-color: #08519c;\n",
       "  color: #f1f1f1;\n",
       "}\n",
       "#T_23878_row3_col0 {\n",
       "  background-color: #08509b;\n",
       "  color: #f1f1f1;\n",
       "}\n",
       "#T_23878_row3_col1 {\n",
       "  background-color: #084c95;\n",
       "  color: #f1f1f1;\n",
       "}\n",
       "#T_23878_row3_col2 {\n",
       "  background-color: #0f5aa3;\n",
       "  color: #f1f1f1;\n",
       "}\n",
       "#T_23878_row4_col0, #T_23878_row4_col4 {\n",
       "  background-color: #e6f0f9;\n",
       "  color: #000000;\n",
       "}\n",
       "#T_23878_row4_col1, #T_23878_row5_col0, #T_23878_row5_col1, #T_23878_row5_col2, #T_23878_row5_col3, #T_23878_row5_col4 {\n",
       "  background-color: #f7fbff;\n",
       "  color: #000000;\n",
       "}\n",
       "#T_23878_row4_col2 {\n",
       "  background-color: #e3eef8;\n",
       "  color: #000000;\n",
       "}\n",
       "#T_23878_row4_col3 {\n",
       "  background-color: #dbe9f6;\n",
       "  color: #000000;\n",
       "}\n",
       "</style>\n",
       "<table id=\"T_23878\">\n",
       "  <thead>\n",
       "    <tr>\n",
       "      <th class=\"blank level0\" >&nbsp;</th>\n",
       "      <th id=\"T_23878_level0_col0\" class=\"col_heading level0 col0\" >adventure</th>\n",
       "      <th id=\"T_23878_level0_col1\" class=\"col_heading level0 col1\" >chair</th>\n",
       "      <th id=\"T_23878_level0_col2\" class=\"col_heading level0 col2\" >present</th>\n",
       "      <th id=\"T_23878_level0_col3\" class=\"col_heading level0 col3\" >sportsman</th>\n",
       "      <th id=\"T_23878_level0_col4\" class=\"col_heading level0 col4\" >mean</th>\n",
       "    </tr>\n",
       "  </thead>\n",
       "  <tbody>\n",
       "    <tr>\n",
       "      <th id=\"T_23878_level0_row0\" class=\"row_heading level0 row0\" >cgcoh</th>\n",
       "      <td id=\"T_23878_row0_col0\" class=\"data row0 col0\" >0.382158</td>\n",
       "      <td id=\"T_23878_row0_col1\" class=\"data row0 col1\" >0.414156</td>\n",
       "      <td id=\"T_23878_row0_col2\" class=\"data row0 col2\" >0.364896</td>\n",
       "      <td id=\"T_23878_row0_col3\" class=\"data row0 col3\" >0.565037</td>\n",
       "      <td id=\"T_23878_row0_col4\" class=\"data row0 col4\" >0.431562</td>\n",
       "    </tr>\n",
       "    <tr>\n",
       "      <th id=\"T_23878_level0_row1\" class=\"row_heading level0 row1\" >gcoh</th>\n",
       "      <td id=\"T_23878_row1_col0\" class=\"data row1 col0\" >0.465470</td>\n",
       "      <td id=\"T_23878_row1_col1\" class=\"data row1 col1\" >0.457315</td>\n",
       "      <td id=\"T_23878_row1_col2\" class=\"data row1 col2\" >0.421594</td>\n",
       "      <td id=\"T_23878_row1_col3\" class=\"data row1 col3\" >0.629161</td>\n",
       "      <td id=\"T_23878_row1_col4\" class=\"data row1 col4\" >0.493385</td>\n",
       "    </tr>\n",
       "    <tr>\n",
       "      <th id=\"T_23878_level0_row2\" class=\"row_heading level0 row2\" >lcoh</th>\n",
       "      <td id=\"T_23878_row2_col0\" class=\"data row2 col0\" >0.451052</td>\n",
       "      <td id=\"T_23878_row2_col1\" class=\"data row2 col1\" >0.375811</td>\n",
       "      <td id=\"T_23878_row2_col2\" class=\"data row2 col2\" >0.338795</td>\n",
       "      <td id=\"T_23878_row2_col3\" class=\"data row2 col3\" >0.559926</td>\n",
       "      <td id=\"T_23878_row2_col4\" class=\"data row2 col4\" >0.431396</td>\n",
       "    </tr>\n",
       "    <tr>\n",
       "      <th id=\"T_23878_level0_row3\" class=\"row_heading level0 row3\" >scoh</th>\n",
       "      <td id=\"T_23878_row3_col0\" class=\"data row3 col0\" >0.420371</td>\n",
       "      <td id=\"T_23878_row3_col1\" class=\"data row3 col1\" >0.411622</td>\n",
       "      <td id=\"T_23878_row3_col2\" class=\"data row3 col2\" >0.357981</td>\n",
       "      <td id=\"T_23878_row3_col3\" class=\"data row3 col3\" >0.606570</td>\n",
       "      <td id=\"T_23878_row3_col4\" class=\"data row3 col4\" >0.449136</td>\n",
       "    </tr>\n",
       "    <tr>\n",
       "      <th id=\"T_23878_level0_row4\" class=\"row_heading level0 row4\" >sprob</th>\n",
       "      <td id=\"T_23878_row4_col0\" class=\"data row4 col0\" >0.130660</td>\n",
       "      <td id=\"T_23878_row4_col1\" class=\"data row4 col1\" >0.034709</td>\n",
       "      <td id=\"T_23878_row4_col2\" class=\"data row4 col2\" >0.069659</td>\n",
       "      <td id=\"T_23878_row4_col3\" class=\"data row4 col3\" >0.158209</td>\n",
       "      <td id=\"T_23878_row4_col4\" class=\"data row4 col4\" >0.098309</td>\n",
       "    </tr>\n",
       "    <tr>\n",
       "      <th id=\"T_23878_level0_row5\" class=\"row_heading level0 row5\" >pppl</th>\n",
       "      <td id=\"T_23878_row5_col0\" class=\"data row5 col0\" >0.098261</td>\n",
       "      <td id=\"T_23878_row5_col1\" class=\"data row5 col1\" >0.035813</td>\n",
       "      <td id=\"T_23878_row5_col2\" class=\"data row5 col2\" >0.028494</td>\n",
       "      <td id=\"T_23878_row5_col3\" class=\"data row5 col3\" >0.081011</td>\n",
       "      <td id=\"T_23878_row5_col4\" class=\"data row5 col4\" >0.060895</td>\n",
       "    </tr>\n",
       "  </tbody>\n",
       "</table>\n"
      ],
      "text/plain": [
       "<pandas.io.formats.style.Styler at 0x7faf5b0d4760>"
      ]
     },
     "execution_count": 221,
     "metadata": {},
     "output_type": "execute_result"
    }
   ],
   "source": [
    "df_corr_len = pd.DataFrame()\n",
    "for task in TASKS:\n",
    "    df_corr_len[task] = df_metric[task]['r_corr_w_control']\n",
    "df_corr_len['mean'] = df_corr_len.apply(np.nanmean, axis=1)\n",
    "style(df_corr_len)"
   ]
  },
  {
   "cell_type": "markdown",
   "id": "e879c407",
   "metadata": {},
   "source": [
    "### cross-metric comparison"
   ]
  },
  {
   "cell_type": "code",
   "execution_count": 222,
   "id": "5b7edaef",
   "metadata": {},
   "outputs": [],
   "source": [
    "def select_ok_metrics(row, r=0.3, rc=0.3):\n",
    "    ok_corr = False\n",
    "    ok_len = pd.isna(row['panss_total', 'r_corr_w_control']) or abs(row['panss_total', 'r_corr_w_control']) <= rc\n",
    "    for scale in panss_:\n",
    "        if abs(row[scale, 'r']) >= r:\n",
    "            ok_corr = True \n",
    "            break\n",
    "    for scale in ('ps_r_dep.severity', 'ps_r_td.severity'):\n",
    "        if abs(row['panss_total', scale]) >= r**2:\n",
    "            ok_corr = True \n",
    "            break\n",
    "    return ok_corr and ok_len"
   ]
  },
  {
   "cell_type": "code",
   "execution_count": 223,
   "id": "3d63b5e0",
   "metadata": {},
   "outputs": [],
   "source": [
    "def select_ok_metrics_for_one_scale(row, scale, r=0.3, rc=0.3):\n",
    "    ok_corr = False\n",
    "    ok_len = pd.isna(row['panss_total', 'r_corr_w_control']) or abs(row['panss_total', 'r_corr_w_control']) <= rc\n",
    "    if scale in ('ps_r_dep.severity', 'ps_r_td.severity'):\n",
    "        ok_corr = abs(row['panss_total', scale]) >= r\n",
    "    else:\n",
    "        ok_corr = abs(row[scale, 'r']) >= r\n",
    "    return ok_corr and ok_len"
   ]
  },
  {
   "cell_type": "code",
   "execution_count": 224,
   "id": "dd6ef953",
   "metadata": {},
   "outputs": [],
   "source": [
    "def select_control_corr_ms_better_than_len_for_one_scale(row, row_len, scale, r=0.3, rc=0.3):\n",
    "    if select_ok_metrics(row, r=r, rc=rc):\n",
    "        return False\n",
    "    ok_len = pd.isna(row['panss_total', 'r_corr_w_control']) or abs(row['panss_total', 'r_corr_w_control']) <= rc\n",
    "    if not ok_len:\n",
    "        if scale not in ('ps_r_dep.severity', 'ps_r_td.severity'):\n",
    "            if abs(row[scale, 'r']) >= abs(row_len[scale, 'r']) and abs(row[scale, 'r']) >= r:\n",
    "                return True\n",
    "\n",
    "        else:\n",
    "            if abs(row['panss_total', scale]) >=  abs(row_len['panss_total', scale]) \\\n",
    "                and abs(row['panss_total', scale]) >= r**2:\n",
    "                return True \n",
    "    return False"
   ]
  },
  {
   "cell_type": "code",
   "execution_count": 225,
   "id": "41323d1a",
   "metadata": {},
   "outputs": [],
   "source": [
    "def select_bad_len_metrics(row, rc=0.3):\n",
    "    ok_len = pd.isna(row['panss_total', 'r_corr_w_control']) or abs(row['panss_total', 'r_corr_w_control']) <= rc\n",
    "    return not ok_len"
   ]
  },
  {
   "cell_type": "code",
   "execution_count": 226,
   "id": "15195f5e",
   "metadata": {},
   "outputs": [],
   "source": [
    "idxs = {}\n",
    "idxs_scale = {scale: set() for scale in panss_ + ('ps_r_dep.severity', 'ps_r_td.severity')}\n",
    "idxs_task_scale = {task: {} for task in TASKS} \n",
    "idxs_bb_task_scale = {task: {} for task in TASKS} \n",
    "idxs_corr_len = {task: {} for task in TASKS}\n",
    "for task in TASKS:\n",
    "    row_len = median_bootstrap[task].loc[('syntactic', 'mean_sent_len')]\n",
    "    ids = median_bootstrap[task][median_bootstrap[task].apply(select_ok_metrics, axis=1)].index\n",
    "    idxs[task] = ids\n",
    "    ids_bad = median_bootstrap[task][median_bootstrap[task].apply(select_bad_len_metrics, axis=1)].index\n",
    "    idxs_corr_len[task] = ids_bad\n",
    "    for scale in panss_:\n",
    "        ids_task_scale = median_bootstrap[task][median_bootstrap[task].apply(lambda x: select_ok_metrics_for_one_scale(x, scale=scale), axis=1)].index\n",
    "        idxs_scale[scale].update(set(ids_task_scale))\n",
    "        idxs_task_scale[task][scale] = ids_task_scale\n",
    "        idxs_bb_task_scale[task][scale] = median_bootstrap[task][median_bootstrap[task].apply(lambda x: select_control_corr_ms_better_than_len_for_one_scale(x, row_len=row_len, scale=scale), axis=1)].index\n",
    "    for scale in ('ps_r_dep.severity', 'ps_r_td.severity'):\n",
    "        ids_task_scale = median_bootstrap[task][median_bootstrap[task].apply(lambda x: select_ok_metrics_for_one_scale(x, scale=scale, r=0.09), axis=1)].index\n",
    "        idxs_scale[scale].update(set(ids_task_scale))\n",
    "        idxs_task_scale[task][scale] = ids_task_scale\n",
    "        idxs_bb_task_scale[task][scale] = median_bootstrap[task][median_bootstrap[task].apply(lambda x: select_control_corr_ms_better_than_len_for_one_scale(x, row_len=row_len, scale=scale), axis=1)].index\n",
    "\n",
    "idxs_scale = {scale: list(idxs_scale[scale]) for scale in idxs_scale}"
   ]
  },
  {
   "cell_type": "code",
   "execution_count": 227,
   "id": "dd9d1c11",
   "metadata": {},
   "outputs": [],
   "source": [
    "bad_ms = sorted(list(set([y for x in idxs_corr_len.values() for y in x])))"
   ]
  },
  {
   "cell_type": "code",
   "execution_count": 228,
   "id": "a22646c5",
   "metadata": {},
   "outputs": [],
   "source": [
    "idxs_bb_scale = {scale: set() for scale in idxs_scale}\n",
    "for task_scales in idxs_bb_task_scale.values():\n",
    "    for scale, scale_vals in task_scales.items():\n",
    "        if len(scale) > 0:\n",
    "            idxs_bb_scale[scale].update(set(scale_vals))\n",
    "            \n",
    "idxs_bb_scale = {scale: list(idxs_bb_scale[scale]) for scale in idxs_scale}"
   ]
  },
  {
   "cell_type": "code",
   "execution_count": 229,
   "id": "d3741e45",
   "metadata": {},
   "outputs": [],
   "source": [
    "idxs_bb_task = {}\n",
    "for task in idxs_bb_task_scale:\n",
    "    idxs_bb_task[task] = set([m for scale in idxs_bb_task_scale[task].values() for m in scale])      "
   ]
  },
  {
   "cell_type": "code",
   "execution_count": 230,
   "id": "37b3fa28",
   "metadata": {},
   "outputs": [],
   "source": [
    "def scale_by_task(idxs_task_scale, idxs_task, idxs_scale):\n",
    "    x = {t: {s: len(idxs_task_scale[t][s]) for s in idxs_task_scale[t]} for t in idxs_task_scale}\n",
    "    d = pd.DataFrame.from_dict(x)\n",
    "    d.loc['total'] = {t: len(idxs_task[t]) for t in idxs_task}\n",
    "    d['total'] = pd.Series({t: len(idxs_scale[t]) for t in idxs_scale})\n",
    "    return d"
   ]
  },
  {
   "cell_type": "code",
   "execution_count": 231,
   "id": "7584f87f",
   "metadata": {},
   "outputs": [
    {
     "data": {
      "text/html": [
       "<style type=\"text/css\">\n",
       "#T_9ca7e_row0_col0, #T_9ca7e_row1_col0 {\n",
       "  background-color: #6aaed6;\n",
       "  color: #f1f1f1;\n",
       "}\n",
       "#T_9ca7e_row0_col1, #T_9ca7e_row0_col3, #T_9ca7e_row2_col0, #T_9ca7e_row2_col4, #T_9ca7e_row3_col0, #T_9ca7e_row3_col1, #T_9ca7e_row3_col4, #T_9ca7e_row6_col0, #T_9ca7e_row6_col1, #T_9ca7e_row6_col2, #T_9ca7e_row6_col3 {\n",
       "  background-color: #08306b;\n",
       "  color: #f1f1f1;\n",
       "}\n",
       "#T_9ca7e_row0_col2, #T_9ca7e_row5_col2 {\n",
       "  background-color: #4695c8;\n",
       "  color: #f1f1f1;\n",
       "}\n",
       "#T_9ca7e_row0_col4, #T_9ca7e_row1_col4, #T_9ca7e_row5_col4 {\n",
       "  background-color: #084387;\n",
       "  color: #f1f1f1;\n",
       "}\n",
       "#T_9ca7e_row1_col1 {\n",
       "  background-color: #abd0e6;\n",
       "  color: #000000;\n",
       "}\n",
       "#T_9ca7e_row1_col2, #T_9ca7e_row2_col1 {\n",
       "  background-color: #3787c0;\n",
       "  color: #f1f1f1;\n",
       "}\n",
       "#T_9ca7e_row1_col3, #T_9ca7e_row3_col3 {\n",
       "  background-color: #08509b;\n",
       "  color: #f1f1f1;\n",
       "}\n",
       "#T_9ca7e_row2_col2, #T_9ca7e_row3_col2 {\n",
       "  background-color: #2979b9;\n",
       "  color: #f1f1f1;\n",
       "}\n",
       "#T_9ca7e_row2_col3 {\n",
       "  background-color: #2070b4;\n",
       "  color: #f1f1f1;\n",
       "}\n",
       "#T_9ca7e_row4_col0, #T_9ca7e_row4_col1, #T_9ca7e_row4_col2, #T_9ca7e_row4_col3, #T_9ca7e_row4_col4, #T_9ca7e_row5_col0, #T_9ca7e_row5_col1 {\n",
       "  background-color: #f7fbff;\n",
       "  color: #000000;\n",
       "}\n",
       "#T_9ca7e_row5_col3 {\n",
       "  background-color: #9dcae1;\n",
       "  color: #000000;\n",
       "}\n",
       "#T_9ca7e_row6_col4 {\n",
       "  background-color: #000000;\n",
       "  color: #f1f1f1;\n",
       "  color: white;\n",
       "  background-color: white;\n",
       "}\n",
       "</style>\n",
       "<table id=\"T_9ca7e\">\n",
       "  <thead>\n",
       "    <tr>\n",
       "      <th class=\"blank level0\" >&nbsp;</th>\n",
       "      <th id=\"T_9ca7e_level0_col0\" class=\"col_heading level0 col0\" >adventure</th>\n",
       "      <th id=\"T_9ca7e_level0_col1\" class=\"col_heading level0 col1\" >chair</th>\n",
       "      <th id=\"T_9ca7e_level0_col2\" class=\"col_heading level0 col2\" >present</th>\n",
       "      <th id=\"T_9ca7e_level0_col3\" class=\"col_heading level0 col3\" >sportsman</th>\n",
       "      <th id=\"T_9ca7e_level0_col4\" class=\"col_heading level0 col4\" >total</th>\n",
       "    </tr>\n",
       "  </thead>\n",
       "  <tbody>\n",
       "    <tr>\n",
       "      <th id=\"T_9ca7e_level0_row0\" class=\"row_heading level0 row0\" >panss_pos</th>\n",
       "      <td id=\"T_9ca7e_row0_col0\" class=\"data row0 col0\" >1</td>\n",
       "      <td id=\"T_9ca7e_row0_col1\" class=\"data row0 col1\" >5</td>\n",
       "      <td id=\"T_9ca7e_row0_col2\" class=\"data row0 col2\" >11</td>\n",
       "      <td id=\"T_9ca7e_row0_col3\" class=\"data row0 col3\" >8</td>\n",
       "      <td id=\"T_9ca7e_row0_col4\" class=\"data row0 col4\" >15.000000</td>\n",
       "    </tr>\n",
       "    <tr>\n",
       "      <th id=\"T_9ca7e_level0_row1\" class=\"row_heading level0 row1\" >panss_neg</th>\n",
       "      <td id=\"T_9ca7e_row1_col0\" class=\"data row1 col0\" >1</td>\n",
       "      <td id=\"T_9ca7e_row1_col1\" class=\"data row1 col1\" >3</td>\n",
       "      <td id=\"T_9ca7e_row1_col2\" class=\"data row1 col2\" >12</td>\n",
       "      <td id=\"T_9ca7e_row1_col3\" class=\"data row1 col3\" >7</td>\n",
       "      <td id=\"T_9ca7e_row1_col4\" class=\"data row1 col4\" >15.000000</td>\n",
       "    </tr>\n",
       "    <tr>\n",
       "      <th id=\"T_9ca7e_level0_row2\" class=\"row_heading level0 row2\" >panss_o</th>\n",
       "      <td id=\"T_9ca7e_row2_col0\" class=\"data row2 col0\" >2</td>\n",
       "      <td id=\"T_9ca7e_row2_col1\" class=\"data row2 col1\" >4</td>\n",
       "      <td id=\"T_9ca7e_row2_col2\" class=\"data row2 col2\" >13</td>\n",
       "      <td id=\"T_9ca7e_row2_col3\" class=\"data row2 col3\" >6</td>\n",
       "      <td id=\"T_9ca7e_row2_col4\" class=\"data row2 col4\" >16.000000</td>\n",
       "    </tr>\n",
       "    <tr>\n",
       "      <th id=\"T_9ca7e_level0_row3\" class=\"row_heading level0 row3\" >panss_total</th>\n",
       "      <td id=\"T_9ca7e_row3_col0\" class=\"data row3 col0\" >2</td>\n",
       "      <td id=\"T_9ca7e_row3_col1\" class=\"data row3 col1\" >5</td>\n",
       "      <td id=\"T_9ca7e_row3_col2\" class=\"data row3 col2\" >13</td>\n",
       "      <td id=\"T_9ca7e_row3_col3\" class=\"data row3 col3\" >7</td>\n",
       "      <td id=\"T_9ca7e_row3_col4\" class=\"data row3 col4\" >16.000000</td>\n",
       "    </tr>\n",
       "    <tr>\n",
       "      <th id=\"T_9ca7e_level0_row4\" class=\"row_heading level0 row4\" >ps_r_dep.severity</th>\n",
       "      <td id=\"T_9ca7e_row4_col0\" class=\"data row4 col0\" >0</td>\n",
       "      <td id=\"T_9ca7e_row4_col1\" class=\"data row4 col1\" >2</td>\n",
       "      <td id=\"T_9ca7e_row4_col2\" class=\"data row4 col2\" >0</td>\n",
       "      <td id=\"T_9ca7e_row4_col3\" class=\"data row4 col3\" >0</td>\n",
       "      <td id=\"T_9ca7e_row4_col4\" class=\"data row4 col4\" >2.000000</td>\n",
       "    </tr>\n",
       "    <tr>\n",
       "      <th id=\"T_9ca7e_level0_row5\" class=\"row_heading level0 row5\" >ps_r_td.severity</th>\n",
       "      <td id=\"T_9ca7e_row5_col0\" class=\"data row5 col0\" >0</td>\n",
       "      <td id=\"T_9ca7e_row5_col1\" class=\"data row5 col1\" >2</td>\n",
       "      <td id=\"T_9ca7e_row5_col2\" class=\"data row5 col2\" >11</td>\n",
       "      <td id=\"T_9ca7e_row5_col3\" class=\"data row5 col3\" >3</td>\n",
       "      <td id=\"T_9ca7e_row5_col4\" class=\"data row5 col4\" >15.000000</td>\n",
       "    </tr>\n",
       "    <tr>\n",
       "      <th id=\"T_9ca7e_level0_row6\" class=\"row_heading level0 row6\" >total</th>\n",
       "      <td id=\"T_9ca7e_row6_col0\" class=\"data row6 col0\" >2</td>\n",
       "      <td id=\"T_9ca7e_row6_col1\" class=\"data row6 col1\" >5</td>\n",
       "      <td id=\"T_9ca7e_row6_col2\" class=\"data row6 col2\" >18</td>\n",
       "      <td id=\"T_9ca7e_row6_col3\" class=\"data row6 col3\" >8</td>\n",
       "      <td id=\"T_9ca7e_row6_col4\" class=\"data row6 col4\" >nan</td>\n",
       "    </tr>\n",
       "  </tbody>\n",
       "</table>\n"
      ],
      "text/plain": [
       "<pandas.io.formats.style.Styler at 0x7fafa965c820>"
      ]
     },
     "execution_count": 231,
     "metadata": {},
     "output_type": "execute_result"
    }
   ],
   "source": [
    "style(scale_by_task(idxs_task_scale, idxs, idxs_scale))"
   ]
  },
  {
   "cell_type": "code",
   "execution_count": 232,
   "id": "4a765768",
   "metadata": {},
   "outputs": [],
   "source": [
    "# style(scale_by_task(idxs_bb_task_scale, idxs_bb_task, idxs_bb_scale))"
   ]
  },
  {
   "cell_type": "code",
   "execution_count": 233,
   "id": "46099891",
   "metadata": {},
   "outputs": [
    {
     "data": {
      "text/html": [
       "<style type=\"text/css\">\n",
       "#T_10152_row0_col0 {\n",
       "  background-color: #e3eef9;\n",
       "  color: #000000;\n",
       "}\n",
       "#T_10152_row0_col1, #T_10152_row3_col1 {\n",
       "  background-color: #3d8dc4;\n",
       "  color: #f1f1f1;\n",
       "}\n",
       "#T_10152_row0_col2, #T_10152_row5_col2 {\n",
       "  background-color: #56a0ce;\n",
       "  color: #f1f1f1;\n",
       "}\n",
       "#T_10152_row0_col3, #T_10152_row3_col4, #T_10152_row6_col0, #T_10152_row6_col1, #T_10152_row6_col2, #T_10152_row6_col3 {\n",
       "  background-color: #08306b;\n",
       "  color: #f1f1f1;\n",
       "}\n",
       "#T_10152_row0_col4 {\n",
       "  background-color: #2b7bba;\n",
       "  color: #f1f1f1;\n",
       "}\n",
       "#T_10152_row1_col0, #T_10152_row1_col3, #T_10152_row3_col3 {\n",
       "  background-color: #1764ab;\n",
       "  color: #f1f1f1;\n",
       "}\n",
       "#T_10152_row1_col1 {\n",
       "  background-color: #dbe9f6;\n",
       "  color: #000000;\n",
       "}\n",
       "#T_10152_row1_col2 {\n",
       "  background-color: #2373b6;\n",
       "  color: #f1f1f1;\n",
       "}\n",
       "#T_10152_row1_col4, #T_10152_row2_col4 {\n",
       "  background-color: #084990;\n",
       "  color: #f1f1f1;\n",
       "}\n",
       "#T_10152_row2_col0, #T_10152_row2_col3 {\n",
       "  background-color: #2e7ebc;\n",
       "  color: #f1f1f1;\n",
       "}\n",
       "#T_10152_row2_col1 {\n",
       "  background-color: #539ecd;\n",
       "  color: #f1f1f1;\n",
       "}\n",
       "#T_10152_row2_col2, #T_10152_row3_col2 {\n",
       "  background-color: #1a68ae;\n",
       "  color: #f1f1f1;\n",
       "}\n",
       "#T_10152_row3_col0 {\n",
       "  background-color: #084a91;\n",
       "  color: #f1f1f1;\n",
       "}\n",
       "#T_10152_row4_col0, #T_10152_row4_col2, #T_10152_row4_col3, #T_10152_row4_col4, #T_10152_row5_col0, #T_10152_row5_col1 {\n",
       "  background-color: #f7fbff;\n",
       "  color: #000000;\n",
       "}\n",
       "#T_10152_row4_col1 {\n",
       "  background-color: #89bedc;\n",
       "  color: #000000;\n",
       "}\n",
       "#T_10152_row5_col3 {\n",
       "  background-color: #94c4df;\n",
       "  color: #000000;\n",
       "}\n",
       "#T_10152_row5_col4 {\n",
       "  background-color: #75b4d8;\n",
       "  color: #000000;\n",
       "}\n",
       "#T_10152_row6_col4 {\n",
       "  background-color: #000000;\n",
       "  color: #f1f1f1;\n",
       "  color: white;\n",
       "  background-color: white;\n",
       "}\n",
       "</style>\n",
       "<table id=\"T_10152\">\n",
       "  <thead>\n",
       "    <tr>\n",
       "      <th class=\"blank level0\" >&nbsp;</th>\n",
       "      <th id=\"T_10152_level0_col0\" class=\"col_heading level0 col0\" >adventure</th>\n",
       "      <th id=\"T_10152_level0_col1\" class=\"col_heading level0 col1\" >chair</th>\n",
       "      <th id=\"T_10152_level0_col2\" class=\"col_heading level0 col2\" >present</th>\n",
       "      <th id=\"T_10152_level0_col3\" class=\"col_heading level0 col3\" >sportsman</th>\n",
       "      <th id=\"T_10152_level0_col4\" class=\"col_heading level0 col4\" >total</th>\n",
       "    </tr>\n",
       "  </thead>\n",
       "  <tbody>\n",
       "    <tr>\n",
       "      <th id=\"T_10152_level0_row0\" class=\"row_heading level0 row0\" >panss_pos</th>\n",
       "      <td id=\"T_10152_row0_col0\" class=\"data row0 col0\" >1</td>\n",
       "      <td id=\"T_10152_row0_col1\" class=\"data row0 col1\" >12</td>\n",
       "      <td id=\"T_10152_row0_col2\" class=\"data row0 col2\" >13</td>\n",
       "      <td id=\"T_10152_row0_col3\" class=\"data row0 col3\" >10</td>\n",
       "      <td id=\"T_10152_row0_col4\" class=\"data row0 col4\" >24.000000</td>\n",
       "    </tr>\n",
       "    <tr>\n",
       "      <th id=\"T_10152_level0_row1\" class=\"row_heading level0 row1\" >panss_neg</th>\n",
       "      <td id=\"T_10152_row1_col0\" class=\"data row1 col0\" >8</td>\n",
       "      <td id=\"T_10152_row1_col1\" class=\"data row1 col1\" >5</td>\n",
       "      <td id=\"T_10152_row1_col2\" class=\"data row1 col2\" >17</td>\n",
       "      <td id=\"T_10152_row1_col3\" class=\"data row1 col3\" >8</td>\n",
       "      <td id=\"T_10152_row1_col4\" class=\"data row1 col4\" >28.000000</td>\n",
       "    </tr>\n",
       "    <tr>\n",
       "      <th id=\"T_10152_level0_row2\" class=\"row_heading level0 row2\" >panss_o</th>\n",
       "      <td id=\"T_10152_row2_col0\" class=\"data row2 col0\" >7</td>\n",
       "      <td id=\"T_10152_row2_col1\" class=\"data row2 col1\" >11</td>\n",
       "      <td id=\"T_10152_row2_col2\" class=\"data row2 col2\" >18</td>\n",
       "      <td id=\"T_10152_row2_col3\" class=\"data row2 col3\" >7</td>\n",
       "      <td id=\"T_10152_row2_col4\" class=\"data row2 col4\" >28.000000</td>\n",
       "    </tr>\n",
       "    <tr>\n",
       "      <th id=\"T_10152_level0_row3\" class=\"row_heading level0 row3\" >panss_total</th>\n",
       "      <td id=\"T_10152_row3_col0\" class=\"data row3 col0\" >9</td>\n",
       "      <td id=\"T_10152_row3_col1\" class=\"data row3 col1\" >12</td>\n",
       "      <td id=\"T_10152_row3_col2\" class=\"data row3 col2\" >18</td>\n",
       "      <td id=\"T_10152_row3_col3\" class=\"data row3 col3\" >8</td>\n",
       "      <td id=\"T_10152_row3_col4\" class=\"data row3 col4\" >30.000000</td>\n",
       "    </tr>\n",
       "    <tr>\n",
       "      <th id=\"T_10152_level0_row4\" class=\"row_heading level0 row4\" >ps_r_dep.severity</th>\n",
       "      <td id=\"T_10152_row4_col0\" class=\"data row4 col0\" >0</td>\n",
       "      <td id=\"T_10152_row4_col1\" class=\"data row4 col1\" >9</td>\n",
       "      <td id=\"T_10152_row4_col2\" class=\"data row4 col2\" >0</td>\n",
       "      <td id=\"T_10152_row4_col3\" class=\"data row4 col3\" >0</td>\n",
       "      <td id=\"T_10152_row4_col4\" class=\"data row4 col4\" >9.000000</td>\n",
       "    </tr>\n",
       "    <tr>\n",
       "      <th id=\"T_10152_level0_row5\" class=\"row_heading level0 row5\" >ps_r_td.severity</th>\n",
       "      <td id=\"T_10152_row5_col0\" class=\"data row5 col0\" >0</td>\n",
       "      <td id=\"T_10152_row5_col1\" class=\"data row5 col1\" >3</td>\n",
       "      <td id=\"T_10152_row5_col2\" class=\"data row5 col2\" >13</td>\n",
       "      <td id=\"T_10152_row5_col3\" class=\"data row5 col3\" >4</td>\n",
       "      <td id=\"T_10152_row5_col4\" class=\"data row5 col4\" >19.000000</td>\n",
       "    </tr>\n",
       "    <tr>\n",
       "      <th id=\"T_10152_level0_row6\" class=\"row_heading level0 row6\" >total</th>\n",
       "      <td id=\"T_10152_row6_col0\" class=\"data row6 col0\" >10</td>\n",
       "      <td id=\"T_10152_row6_col1\" class=\"data row6 col1\" >17</td>\n",
       "      <td id=\"T_10152_row6_col2\" class=\"data row6 col2\" >23</td>\n",
       "      <td id=\"T_10152_row6_col3\" class=\"data row6 col3\" >10</td>\n",
       "      <td id=\"T_10152_row6_col4\" class=\"data row6 col4\" >nan</td>\n",
       "    </tr>\n",
       "  </tbody>\n",
       "</table>\n"
      ],
      "text/plain": [
       "<pandas.io.formats.style.Styler at 0x7fb0a561e280>"
      ]
     },
     "execution_count": 233,
     "metadata": {},
     "output_type": "execute_result"
    }
   ],
   "source": [
    "x = {t: {s: len(idxs_bb_task_scale[t][s]) + len(idxs_task_scale[t][s]) for s in idxs_bb_task_scale[t]} for t in idxs_bb_task_scale}\n",
    "d = pd.DataFrame.from_dict(x)\n",
    "d.loc['total'] = {t: len(idxs[t]) + len(idxs_bb_task[t]) for t in idxs}\n",
    "d['total'] = pd.Series({t: len(idxs_bb_scale[t]) + len(idxs_scale[t]) for t in idxs_scale})\n",
    "style(d) "
   ]
  },
  {
   "cell_type": "code",
   "execution_count": 234,
   "id": "f84d022f",
   "metadata": {},
   "outputs": [
    {
     "data": {
      "text/html": [
       "<div>\n",
       "<style scoped>\n",
       "    .dataframe tbody tr th:only-of-type {\n",
       "        vertical-align: middle;\n",
       "    }\n",
       "\n",
       "    .dataframe tbody tr th {\n",
       "        vertical-align: top;\n",
       "    }\n",
       "\n",
       "    .dataframe thead th {\n",
       "        text-align: right;\n",
       "    }\n",
       "</style>\n",
       "<table border=\"1\" class=\"dataframe\">\n",
       "  <thead>\n",
       "    <tr style=\"text-align: right;\">\n",
       "      <th></th>\n",
       "      <th>adventure</th>\n",
       "      <th>chair</th>\n",
       "      <th>present</th>\n",
       "      <th>sportsman</th>\n",
       "      <th>total</th>\n",
       "    </tr>\n",
       "  </thead>\n",
       "  <tbody>\n",
       "    <tr>\n",
       "      <th>panss_pos</th>\n",
       "      <td>1 (1)</td>\n",
       "      <td>12 (5)</td>\n",
       "      <td>13 (11)</td>\n",
       "      <td>10 (8)</td>\n",
       "      <td>24 (15)</td>\n",
       "    </tr>\n",
       "    <tr>\n",
       "      <th>panss_neg</th>\n",
       "      <td>8 (1)</td>\n",
       "      <td>5 (3)</td>\n",
       "      <td>17 (12)</td>\n",
       "      <td>8 (7)</td>\n",
       "      <td>28 (15)</td>\n",
       "    </tr>\n",
       "    <tr>\n",
       "      <th>panss_o</th>\n",
       "      <td>7 (2)</td>\n",
       "      <td>11 (4)</td>\n",
       "      <td>18 (13)</td>\n",
       "      <td>7 (6)</td>\n",
       "      <td>28 (16)</td>\n",
       "    </tr>\n",
       "    <tr>\n",
       "      <th>panss_total</th>\n",
       "      <td>9 (2)</td>\n",
       "      <td>12 (5)</td>\n",
       "      <td>18 (13)</td>\n",
       "      <td>8 (7)</td>\n",
       "      <td>30 (16)</td>\n",
       "    </tr>\n",
       "    <tr>\n",
       "      <th>ps_r_dep.severity</th>\n",
       "      <td>0 (0)</td>\n",
       "      <td>9 (2)</td>\n",
       "      <td>0 (0)</td>\n",
       "      <td>0 (0)</td>\n",
       "      <td>9 (2)</td>\n",
       "    </tr>\n",
       "    <tr>\n",
       "      <th>ps_r_td.severity</th>\n",
       "      <td>0 (0)</td>\n",
       "      <td>3 (2)</td>\n",
       "      <td>13 (11)</td>\n",
       "      <td>4 (3)</td>\n",
       "      <td>19 (15)</td>\n",
       "    </tr>\n",
       "    <tr>\n",
       "      <th>total</th>\n",
       "      <td>10 (2)</td>\n",
       "      <td>17 (5)</td>\n",
       "      <td>23 (18)</td>\n",
       "      <td>10 (8)</td>\n",
       "      <td>NaN</td>\n",
       "    </tr>\n",
       "  </tbody>\n",
       "</table>\n",
       "</div>"
      ],
      "text/plain": [
       "                  adventure   chair  present sportsman    total\n",
       "panss_pos             1 (1)  12 (5)  13 (11)    10 (8)  24 (15)\n",
       "panss_neg             8 (1)   5 (3)  17 (12)     8 (7)  28 (15)\n",
       "panss_o               7 (2)  11 (4)  18 (13)     7 (6)  28 (16)\n",
       "panss_total           9 (2)  12 (5)  18 (13)     8 (7)  30 (16)\n",
       "ps_r_dep.severity     0 (0)   9 (2)    0 (0)     0 (0)    9 (2)\n",
       "ps_r_td.severity      0 (0)   3 (2)  13 (11)     4 (3)  19 (15)\n",
       "total                10 (2)  17 (5)  23 (18)    10 (8)      NaN"
      ]
     },
     "execution_count": 234,
     "metadata": {},
     "output_type": "execute_result"
    }
   ],
   "source": [
    "st = pd.DataFrame(columns=TASKS + ['total'], index=d.index)\n",
    "ncr = scale_by_task(idxs_task_scale, idxs, idxs_scale)\n",
    "for t in TASKS + ['total']:\n",
    "    for i in st.index:\n",
    "        if i != t:\n",
    "            st.loc[i][t] = f'{int(d.loc[i][t])} ({int(ncr.loc[i][t])})'\n",
    "st"
   ]
  },
  {
   "cell_type": "code",
   "execution_count": 235,
   "id": "dd5b6920",
   "metadata": {},
   "outputs": [],
   "source": [
    "def metric_by_task(idxs_task_scale, idxs_task):\n",
    "    ms = sorted(list(set([y for x in idxs_task.values() for y in x])))\n",
    "    d = pd.DataFrame([tuple(sum(1 if m in idxs_task_scale[t][scale] else 0 \n",
    "                                for scale in idxs_task_scale[t]) \n",
    "                            for t in TASKS) \n",
    "                      for m in ms], \n",
    "                     index=ms, columns=TASKS)\n",
    "    d.index = pd.MultiIndex.from_tuples(d.index)\n",
    "    d['total_tasks'] = d.apply(lambda x: len([el for el in x if el > 0]), axis=1)\n",
    "    d['total'] = d.apply(sum, axis=1)\n",
    "    return d"
   ]
  },
  {
   "cell_type": "code",
   "execution_count": 236,
   "id": "86821023",
   "metadata": {},
   "outputs": [
    {
     "data": {
      "text/html": [
       "<style type=\"text/css\">\n",
       "#T_ace1f_row0_col0, #T_ace1f_row0_col1, #T_ace1f_row0_col3, #T_ace1f_row0_col4, #T_ace1f_row1_col0, #T_ace1f_row1_col1, #T_ace1f_row1_col3, #T_ace1f_row1_col4, #T_ace1f_row2_col0, #T_ace1f_row2_col1, #T_ace1f_row2_col3, #T_ace1f_row2_col4, #T_ace1f_row3_col0, #T_ace1f_row3_col1, #T_ace1f_row3_col3, #T_ace1f_row3_col4, #T_ace1f_row3_col5, #T_ace1f_row4_col0, #T_ace1f_row4_col1, #T_ace1f_row4_col3, #T_ace1f_row4_col4, #T_ace1f_row5_col0, #T_ace1f_row5_col2, #T_ace1f_row5_col3, #T_ace1f_row5_col4, #T_ace1f_row6_col0, #T_ace1f_row6_col1, #T_ace1f_row7_col0, #T_ace1f_row7_col1, #T_ace1f_row8_col0, #T_ace1f_row8_col2, #T_ace1f_row9_col0, #T_ace1f_row9_col1, #T_ace1f_row9_col3, #T_ace1f_row9_col4, #T_ace1f_row10_col0, #T_ace1f_row10_col1, #T_ace1f_row10_col3, #T_ace1f_row10_col4, #T_ace1f_row11_col0, #T_ace1f_row11_col1, #T_ace1f_row12_col0, #T_ace1f_row12_col1, #T_ace1f_row13_col0, #T_ace1f_row13_col1, #T_ace1f_row13_col3, #T_ace1f_row13_col4, #T_ace1f_row14_col1, #T_ace1f_row15_col0, #T_ace1f_row15_col1, #T_ace1f_row15_col3, #T_ace1f_row15_col4, #T_ace1f_row15_col5, #T_ace1f_row16_col0, #T_ace1f_row16_col1, #T_ace1f_row16_col3, #T_ace1f_row16_col4, #T_ace1f_row16_col5, #T_ace1f_row17_col0, #T_ace1f_row18_col0, #T_ace1f_row18_col3 {\n",
       "  background-color: #f7fbff;\n",
       "  color: #000000;\n",
       "}\n",
       "#T_ace1f_row0_col2, #T_ace1f_row1_col2, #T_ace1f_row5_col1, #T_ace1f_row6_col2, #T_ace1f_row7_col2, #T_ace1f_row11_col2, #T_ace1f_row12_col2, #T_ace1f_row13_col2, #T_ace1f_row14_col0, #T_ace1f_row14_col2, #T_ace1f_row14_col3, #T_ace1f_row14_col5, #T_ace1f_row17_col1, #T_ace1f_row19_col3, #T_ace1f_row19_col4 {\n",
       "  background-color: #08306b;\n",
       "  color: #f1f1f1;\n",
       "}\n",
       "#T_ace1f_row0_col5, #T_ace1f_row1_col5, #T_ace1f_row5_col5, #T_ace1f_row13_col5 {\n",
       "  background-color: #c1d9ed;\n",
       "  color: #000000;\n",
       "}\n",
       "#T_ace1f_row2_col2, #T_ace1f_row10_col2, #T_ace1f_row17_col2 {\n",
       "  background-color: #94c4df;\n",
       "  color: #000000;\n",
       "}\n",
       "#T_ace1f_row2_col5, #T_ace1f_row10_col5 {\n",
       "  background-color: #eaf2fb;\n",
       "  color: #000000;\n",
       "}\n",
       "#T_ace1f_row3_col2, #T_ace1f_row15_col2, #T_ace1f_row16_col2, #T_ace1f_row17_col3, #T_ace1f_row19_col2 {\n",
       "  background-color: #d0e1f2;\n",
       "  color: #000000;\n",
       "}\n",
       "#T_ace1f_row4_col2, #T_ace1f_row6_col5, #T_ace1f_row7_col5, #T_ace1f_row8_col1, #T_ace1f_row9_col2, #T_ace1f_row11_col5, #T_ace1f_row12_col5, #T_ace1f_row17_col5 {\n",
       "  background-color: #4a98c9;\n",
       "  color: #f1f1f1;\n",
       "}\n",
       "#T_ace1f_row4_col5, #T_ace1f_row9_col5 {\n",
       "  background-color: #dceaf6;\n",
       "  color: #000000;\n",
       "}\n",
       "#T_ace1f_row6_col3, #T_ace1f_row7_col3, #T_ace1f_row8_col3, #T_ace1f_row11_col3, #T_ace1f_row12_col3, #T_ace1f_row18_col1, #T_ace1f_row18_col2, #T_ace1f_row19_col1 {\n",
       "  background-color: #1764ab;\n",
       "  color: #f1f1f1;\n",
       "}\n",
       "#T_ace1f_row6_col4, #T_ace1f_row7_col4, #T_ace1f_row8_col4, #T_ace1f_row11_col4, #T_ace1f_row12_col4, #T_ace1f_row18_col4 {\n",
       "  background-color: #abd0e6;\n",
       "  color: #000000;\n",
       "}\n",
       "#T_ace1f_row8_col5 {\n",
       "  background-color: #79b5d9;\n",
       "  color: #000000;\n",
       "}\n",
       "#T_ace1f_row14_col4, #T_ace1f_row17_col4 {\n",
       "  background-color: #3787c0;\n",
       "  color: #f1f1f1;\n",
       "}\n",
       "#T_ace1f_row18_col5 {\n",
       "  background-color: #60a7d2;\n",
       "  color: #f1f1f1;\n",
       "}\n",
       "#T_ace1f_row19_col0 {\n",
       "  background-color: #6aaed6;\n",
       "  color: #f1f1f1;\n",
       "}\n",
       "#T_ace1f_row19_col5 {\n",
       "  background-color: #084285;\n",
       "  color: #f1f1f1;\n",
       "}\n",
       "</style>\n",
       "<table id=\"T_ace1f\">\n",
       "  <thead>\n",
       "    <tr>\n",
       "      <th class=\"blank\" >&nbsp;</th>\n",
       "      <th class=\"blank level0\" >&nbsp;</th>\n",
       "      <th id=\"T_ace1f_level0_col0\" class=\"col_heading level0 col0\" >adventure</th>\n",
       "      <th id=\"T_ace1f_level0_col1\" class=\"col_heading level0 col1\" >chair</th>\n",
       "      <th id=\"T_ace1f_level0_col2\" class=\"col_heading level0 col2\" >present</th>\n",
       "      <th id=\"T_ace1f_level0_col3\" class=\"col_heading level0 col3\" >sportsman</th>\n",
       "      <th id=\"T_ace1f_level0_col4\" class=\"col_heading level0 col4\" >total_tasks</th>\n",
       "      <th id=\"T_ace1f_level0_col5\" class=\"col_heading level0 col5\" >total</th>\n",
       "    </tr>\n",
       "  </thead>\n",
       "  <tbody>\n",
       "    <tr>\n",
       "      <th id=\"T_ace1f_level0_row0\" class=\"row_heading level0 row0\" rowspan=\"5\">LM</th>\n",
       "      <th id=\"T_ace1f_level1_row0\" class=\"row_heading level1 row0\" >bert_cgcoh</th>\n",
       "      <td id=\"T_ace1f_row0_col0\" class=\"data row0 col0\" >0</td>\n",
       "      <td id=\"T_ace1f_row0_col1\" class=\"data row0 col1\" >0</td>\n",
       "      <td id=\"T_ace1f_row0_col2\" class=\"data row0 col2\" >5</td>\n",
       "      <td id=\"T_ace1f_row0_col3\" class=\"data row0 col3\" >0</td>\n",
       "      <td id=\"T_ace1f_row0_col4\" class=\"data row0 col4\" >1</td>\n",
       "      <td id=\"T_ace1f_row0_col5\" class=\"data row0 col5\" >6</td>\n",
       "    </tr>\n",
       "    <tr>\n",
       "      <th id=\"T_ace1f_level1_row1\" class=\"row_heading level1 row1\" >bert_gcoh</th>\n",
       "      <td id=\"T_ace1f_row1_col0\" class=\"data row1 col0\" >0</td>\n",
       "      <td id=\"T_ace1f_row1_col1\" class=\"data row1 col1\" >0</td>\n",
       "      <td id=\"T_ace1f_row1_col2\" class=\"data row1 col2\" >5</td>\n",
       "      <td id=\"T_ace1f_row1_col3\" class=\"data row1 col3\" >0</td>\n",
       "      <td id=\"T_ace1f_row1_col4\" class=\"data row1 col4\" >1</td>\n",
       "      <td id=\"T_ace1f_row1_col5\" class=\"data row1 col5\" >6</td>\n",
       "    </tr>\n",
       "    <tr>\n",
       "      <th id=\"T_ace1f_level1_row2\" class=\"row_heading level1 row2\" >bert_pppl</th>\n",
       "      <td id=\"T_ace1f_row2_col0\" class=\"data row2 col0\" >0</td>\n",
       "      <td id=\"T_ace1f_row2_col1\" class=\"data row2 col1\" >0</td>\n",
       "      <td id=\"T_ace1f_row2_col2\" class=\"data row2 col2\" >2</td>\n",
       "      <td id=\"T_ace1f_row2_col3\" class=\"data row2 col3\" >0</td>\n",
       "      <td id=\"T_ace1f_row2_col4\" class=\"data row2 col4\" >1</td>\n",
       "      <td id=\"T_ace1f_row2_col5\" class=\"data row2 col5\" >3</td>\n",
       "    </tr>\n",
       "    <tr>\n",
       "      <th id=\"T_ace1f_level1_row3\" class=\"row_heading level1 row3\" >bert_scoh</th>\n",
       "      <td id=\"T_ace1f_row3_col0\" class=\"data row3 col0\" >0</td>\n",
       "      <td id=\"T_ace1f_row3_col1\" class=\"data row3 col1\" >0</td>\n",
       "      <td id=\"T_ace1f_row3_col2\" class=\"data row3 col2\" >1</td>\n",
       "      <td id=\"T_ace1f_row3_col3\" class=\"data row3 col3\" >0</td>\n",
       "      <td id=\"T_ace1f_row3_col4\" class=\"data row3 col4\" >1</td>\n",
       "      <td id=\"T_ace1f_row3_col5\" class=\"data row3 col5\" >2</td>\n",
       "    </tr>\n",
       "    <tr>\n",
       "      <th id=\"T_ace1f_level1_row4\" class=\"row_heading level1 row4\" >w2v_tf_scoh</th>\n",
       "      <td id=\"T_ace1f_row4_col0\" class=\"data row4 col0\" >0</td>\n",
       "      <td id=\"T_ace1f_row4_col1\" class=\"data row4 col1\" >0</td>\n",
       "      <td id=\"T_ace1f_row4_col2\" class=\"data row4 col2\" >3</td>\n",
       "      <td id=\"T_ace1f_row4_col3\" class=\"data row4 col3\" >0</td>\n",
       "      <td id=\"T_ace1f_row4_col4\" class=\"data row4 col4\" >1</td>\n",
       "      <td id=\"T_ace1f_row4_col5\" class=\"data row4 col5\" >4</td>\n",
       "    </tr>\n",
       "    <tr>\n",
       "      <th id=\"T_ace1f_level0_row5\" class=\"row_heading level0 row5\" rowspan=\"8\">graph</th>\n",
       "      <th id=\"T_ace1f_level1_row5\" class=\"row_heading level1 row5\" >L3</th>\n",
       "      <td id=\"T_ace1f_row5_col0\" class=\"data row5 col0\" >0</td>\n",
       "      <td id=\"T_ace1f_row5_col1\" class=\"data row5 col1\" >5</td>\n",
       "      <td id=\"T_ace1f_row5_col2\" class=\"data row5 col2\" >0</td>\n",
       "      <td id=\"T_ace1f_row5_col3\" class=\"data row5 col3\" >0</td>\n",
       "      <td id=\"T_ace1f_row5_col4\" class=\"data row5 col4\" >1</td>\n",
       "      <td id=\"T_ace1f_row5_col5\" class=\"data row5 col5\" >6</td>\n",
       "    </tr>\n",
       "    <tr>\n",
       "      <th id=\"T_ace1f_level1_row6\" class=\"row_heading level1 row6\" >LCC</th>\n",
       "      <td id=\"T_ace1f_row6_col0\" class=\"data row6 col0\" >0</td>\n",
       "      <td id=\"T_ace1f_row6_col1\" class=\"data row6 col1\" >0</td>\n",
       "      <td id=\"T_ace1f_row6_col2\" class=\"data row6 col2\" >5</td>\n",
       "      <td id=\"T_ace1f_row6_col3\" class=\"data row6 col3\" >4</td>\n",
       "      <td id=\"T_ace1f_row6_col4\" class=\"data row6 col4\" >2</td>\n",
       "      <td id=\"T_ace1f_row6_col5\" class=\"data row6 col5\" >11</td>\n",
       "    </tr>\n",
       "    <tr>\n",
       "      <th id=\"T_ace1f_level1_row7\" class=\"row_heading level1 row7\" >LSC</th>\n",
       "      <td id=\"T_ace1f_row7_col0\" class=\"data row7 col0\" >0</td>\n",
       "      <td id=\"T_ace1f_row7_col1\" class=\"data row7 col1\" >0</td>\n",
       "      <td id=\"T_ace1f_row7_col2\" class=\"data row7 col2\" >5</td>\n",
       "      <td id=\"T_ace1f_row7_col3\" class=\"data row7 col3\" >4</td>\n",
       "      <td id=\"T_ace1f_row7_col4\" class=\"data row7 col4\" >2</td>\n",
       "      <td id=\"T_ace1f_row7_col5\" class=\"data row7 col5\" >11</td>\n",
       "    </tr>\n",
       "    <tr>\n",
       "      <th id=\"T_ace1f_level1_row8\" class=\"row_heading level1 row8\" >PE</th>\n",
       "      <td id=\"T_ace1f_row8_col0\" class=\"data row8 col0\" >0</td>\n",
       "      <td id=\"T_ace1f_row8_col1\" class=\"data row8 col1\" >3</td>\n",
       "      <td id=\"T_ace1f_row8_col2\" class=\"data row8 col2\" >0</td>\n",
       "      <td id=\"T_ace1f_row8_col3\" class=\"data row8 col3\" >4</td>\n",
       "      <td id=\"T_ace1f_row8_col4\" class=\"data row8 col4\" >2</td>\n",
       "      <td id=\"T_ace1f_row8_col5\" class=\"data row8 col5\" >9</td>\n",
       "    </tr>\n",
       "    <tr>\n",
       "      <th id=\"T_ace1f_level1_row9\" class=\"row_heading level1 row9\" >degree_average</th>\n",
       "      <td id=\"T_ace1f_row9_col0\" class=\"data row9 col0\" >0</td>\n",
       "      <td id=\"T_ace1f_row9_col1\" class=\"data row9 col1\" >0</td>\n",
       "      <td id=\"T_ace1f_row9_col2\" class=\"data row9 col2\" >3</td>\n",
       "      <td id=\"T_ace1f_row9_col3\" class=\"data row9 col3\" >0</td>\n",
       "      <td id=\"T_ace1f_row9_col4\" class=\"data row9 col4\" >1</td>\n",
       "      <td id=\"T_ace1f_row9_col5\" class=\"data row9 col5\" >4</td>\n",
       "    </tr>\n",
       "    <tr>\n",
       "      <th id=\"T_ace1f_level1_row10\" class=\"row_heading level1 row10\" >degree_std</th>\n",
       "      <td id=\"T_ace1f_row10_col0\" class=\"data row10 col0\" >0</td>\n",
       "      <td id=\"T_ace1f_row10_col1\" class=\"data row10 col1\" >0</td>\n",
       "      <td id=\"T_ace1f_row10_col2\" class=\"data row10 col2\" >2</td>\n",
       "      <td id=\"T_ace1f_row10_col3\" class=\"data row10 col3\" >0</td>\n",
       "      <td id=\"T_ace1f_row10_col4\" class=\"data row10 col4\" >1</td>\n",
       "      <td id=\"T_ace1f_row10_col5\" class=\"data row10 col5\" >3</td>\n",
       "    </tr>\n",
       "    <tr>\n",
       "      <th id=\"T_ace1f_level1_row11\" class=\"row_heading level1 row11\" >number_of_edges</th>\n",
       "      <td id=\"T_ace1f_row11_col0\" class=\"data row11 col0\" >0</td>\n",
       "      <td id=\"T_ace1f_row11_col1\" class=\"data row11 col1\" >0</td>\n",
       "      <td id=\"T_ace1f_row11_col2\" class=\"data row11 col2\" >5</td>\n",
       "      <td id=\"T_ace1f_row11_col3\" class=\"data row11 col3\" >4</td>\n",
       "      <td id=\"T_ace1f_row11_col4\" class=\"data row11 col4\" >2</td>\n",
       "      <td id=\"T_ace1f_row11_col5\" class=\"data row11 col5\" >11</td>\n",
       "    </tr>\n",
       "    <tr>\n",
       "      <th id=\"T_ace1f_level1_row12\" class=\"row_heading level1 row12\" >number_of_nodes</th>\n",
       "      <td id=\"T_ace1f_row12_col0\" class=\"data row12 col0\" >0</td>\n",
       "      <td id=\"T_ace1f_row12_col1\" class=\"data row12 col1\" >0</td>\n",
       "      <td id=\"T_ace1f_row12_col2\" class=\"data row12 col2\" >5</td>\n",
       "      <td id=\"T_ace1f_row12_col3\" class=\"data row12 col3\" >4</td>\n",
       "      <td id=\"T_ace1f_row12_col4\" class=\"data row12 col4\" >2</td>\n",
       "      <td id=\"T_ace1f_row12_col5\" class=\"data row12 col5\" >11</td>\n",
       "    </tr>\n",
       "    <tr>\n",
       "      <th id=\"T_ace1f_level0_row13\" class=\"row_heading level0 row13\" rowspan=\"2\">lexical</th>\n",
       "      <th id=\"T_ace1f_level1_row13\" class=\"row_heading level1 row13\" >LTR</th>\n",
       "      <td id=\"T_ace1f_row13_col0\" class=\"data row13 col0\" >0</td>\n",
       "      <td id=\"T_ace1f_row13_col1\" class=\"data row13 col1\" >0</td>\n",
       "      <td id=\"T_ace1f_row13_col2\" class=\"data row13 col2\" >5</td>\n",
       "      <td id=\"T_ace1f_row13_col3\" class=\"data row13 col3\" >0</td>\n",
       "      <td id=\"T_ace1f_row13_col4\" class=\"data row13 col4\" >1</td>\n",
       "      <td id=\"T_ace1f_row13_col5\" class=\"data row13 col5\" >6</td>\n",
       "    </tr>\n",
       "    <tr>\n",
       "      <th id=\"T_ace1f_level1_row14\" class=\"row_heading level1 row14\" >n_words</th>\n",
       "      <td id=\"T_ace1f_row14_col0\" class=\"data row14 col0\" >4</td>\n",
       "      <td id=\"T_ace1f_row14_col1\" class=\"data row14 col1\" >0</td>\n",
       "      <td id=\"T_ace1f_row14_col2\" class=\"data row14 col2\" >5</td>\n",
       "      <td id=\"T_ace1f_row14_col3\" class=\"data row14 col3\" >5</td>\n",
       "      <td id=\"T_ace1f_row14_col4\" class=\"data row14 col4\" >3</td>\n",
       "      <td id=\"T_ace1f_row14_col5\" class=\"data row14 col5\" >17</td>\n",
       "    </tr>\n",
       "    <tr>\n",
       "      <th id=\"T_ace1f_level0_row15\" class=\"row_heading level0 row15\" rowspan=\"5\">syntactic</th>\n",
       "      <th id=\"T_ace1f_level1_row15\" class=\"row_heading level1 row15\" >CCONJ</th>\n",
       "      <td id=\"T_ace1f_row15_col0\" class=\"data row15 col0\" >0</td>\n",
       "      <td id=\"T_ace1f_row15_col1\" class=\"data row15 col1\" >0</td>\n",
       "      <td id=\"T_ace1f_row15_col2\" class=\"data row15 col2\" >1</td>\n",
       "      <td id=\"T_ace1f_row15_col3\" class=\"data row15 col3\" >0</td>\n",
       "      <td id=\"T_ace1f_row15_col4\" class=\"data row15 col4\" >1</td>\n",
       "      <td id=\"T_ace1f_row15_col5\" class=\"data row15 col5\" >2</td>\n",
       "    </tr>\n",
       "    <tr>\n",
       "      <th id=\"T_ace1f_level1_row16\" class=\"row_heading level1 row16\" >DET</th>\n",
       "      <td id=\"T_ace1f_row16_col0\" class=\"data row16 col0\" >0</td>\n",
       "      <td id=\"T_ace1f_row16_col1\" class=\"data row16 col1\" >0</td>\n",
       "      <td id=\"T_ace1f_row16_col2\" class=\"data row16 col2\" >1</td>\n",
       "      <td id=\"T_ace1f_row16_col3\" class=\"data row16 col3\" >0</td>\n",
       "      <td id=\"T_ace1f_row16_col4\" class=\"data row16 col4\" >1</td>\n",
       "      <td id=\"T_ace1f_row16_col5\" class=\"data row16 col5\" >2</td>\n",
       "    </tr>\n",
       "    <tr>\n",
       "      <th id=\"T_ace1f_level1_row17\" class=\"row_heading level1 row17\" >PART</th>\n",
       "      <td id=\"T_ace1f_row17_col0\" class=\"data row17 col0\" >0</td>\n",
       "      <td id=\"T_ace1f_row17_col1\" class=\"data row17 col1\" >5</td>\n",
       "      <td id=\"T_ace1f_row17_col2\" class=\"data row17 col2\" >2</td>\n",
       "      <td id=\"T_ace1f_row17_col3\" class=\"data row17 col3\" >1</td>\n",
       "      <td id=\"T_ace1f_row17_col4\" class=\"data row17 col4\" >3</td>\n",
       "      <td id=\"T_ace1f_row17_col5\" class=\"data row17 col5\" >11</td>\n",
       "    </tr>\n",
       "    <tr>\n",
       "      <th id=\"T_ace1f_level1_row18\" class=\"row_heading level1 row18\" >mean_sent_len</th>\n",
       "      <td id=\"T_ace1f_row18_col0\" class=\"data row18 col0\" >0</td>\n",
       "      <td id=\"T_ace1f_row18_col1\" class=\"data row18 col1\" >4</td>\n",
       "      <td id=\"T_ace1f_row18_col2\" class=\"data row18 col2\" >4</td>\n",
       "      <td id=\"T_ace1f_row18_col3\" class=\"data row18 col3\" >0</td>\n",
       "      <td id=\"T_ace1f_row18_col4\" class=\"data row18 col4\" >2</td>\n",
       "      <td id=\"T_ace1f_row18_col5\" class=\"data row18 col5\" >10</td>\n",
       "    </tr>\n",
       "    <tr>\n",
       "      <th id=\"T_ace1f_level1_row19\" class=\"row_heading level1 row19\" >n_sents</th>\n",
       "      <td id=\"T_ace1f_row19_col0\" class=\"data row19 col0\" >2</td>\n",
       "      <td id=\"T_ace1f_row19_col1\" class=\"data row19 col1\" >4</td>\n",
       "      <td id=\"T_ace1f_row19_col2\" class=\"data row19 col2\" >1</td>\n",
       "      <td id=\"T_ace1f_row19_col3\" class=\"data row19 col3\" >5</td>\n",
       "      <td id=\"T_ace1f_row19_col4\" class=\"data row19 col4\" >4</td>\n",
       "      <td id=\"T_ace1f_row19_col5\" class=\"data row19 col5\" >16</td>\n",
       "    </tr>\n",
       "  </tbody>\n",
       "</table>\n"
      ],
      "text/plain": [
       "<pandas.io.formats.style.Styler at 0x7faff36c99d0>"
      ]
     },
     "execution_count": 236,
     "metadata": {},
     "output_type": "execute_result"
    }
   ],
   "source": [
    "style(metric_by_task(idxs_task_scale, idxs))"
   ]
  },
  {
   "cell_type": "code",
   "execution_count": 237,
   "id": "05a7b9de",
   "metadata": {},
   "outputs": [],
   "source": [
    "# style(metric_by_task(idxs_bb_task_scale, idxs_bb_task))"
   ]
  },
  {
   "cell_type": "code",
   "execution_count": 238,
   "id": "557a43fb",
   "metadata": {},
   "outputs": [],
   "source": [
    "def metric_by_task_w_corr_len(idxs_task_scale, idxs_bb_task_scale, idxs_task, idxs_bb_task):\n",
    "    ms = [y for x in idxs_task.values() for y in x] + [y for x in idxs_bb_task.values() for y in x]\n",
    "    ms = sorted(list(set(ms)))\n",
    "\n",
    "    d = pd.DataFrame([tuple(sum(1 if m in idxs_task_scale[t][scale] or m in idxs_bb_task_scale[t][scale] else 0 \n",
    "                                for scale in idxs_task_scale[t]) \n",
    "                            for t in TASKS) \n",
    "                      for m in ms], \n",
    "                     index=ms, columns=TASKS)\n",
    "    d.index = pd.MultiIndex.from_tuples(d.index)\n",
    "    d['total_tasks'] = d.apply(lambda x: len([el for el in x if el > 0]), axis=1)\n",
    "    d['total'] = d.apply(sum, axis=1)\n",
    "    return d"
   ]
  },
  {
   "cell_type": "code",
   "execution_count": 239,
   "id": "abd7bc46",
   "metadata": {},
   "outputs": [],
   "source": [
    "# style(metric_by_task_w_corr_len(idxs_task_scale, idxs_bb_task_scale, idxs, idxs_bb_task))"
   ]
  },
  {
   "cell_type": "code",
   "execution_count": 240,
   "id": "8ab560c8",
   "metadata": {},
   "outputs": [],
   "source": [
    "# fig, ax = plt.subplots(1, 1, figsize=(6, 8))\n",
    "# ax.set_xticks([0, 1, 2, 3, 4])\n",
    "\n",
    "# d = metric_by_task(idxs_task_scale, idxs)\n",
    "# d_l = metric_by_task_w_corr_len(idxs_task_scale, idxs_bb_task_scale, idxs, idxs_bb_task)\n",
    "# for i in d_l.index:\n",
    "#     if i not in d.index:\n",
    "#         d.loc[i, 'total_tasks'] = 0 \n",
    "\n",
    "# d['metric'] = [': '.join(x) for x in d.index]\n",
    "# d_l['metric'] = [': '.join(x) for x in d_l.index]\n",
    "# pointplot_horizontal_wo_errorbar(d, x='total_tasks', ax=ax, markers='o')\n",
    "# pointplot_horizontal_wo_errorbar(d_l, x='total_tasks', ax=ax, markers='x')"
   ]
  },
  {
   "cell_type": "code",
   "execution_count": 241,
   "id": "a66387d5",
   "metadata": {},
   "outputs": [],
   "source": [
    "def metric_by_scale(idxs_scale, idxs_task_scale):\n",
    "    ms = sorted(list(set([y for x in idxs_scale.values() for y in x])))\n",
    "    d = pd.DataFrame([tuple(sum(1 if m in idxs_task_scale[t][scale] else 0 for t in TASKS) \n",
    "                            for scale in idxs_scale) \n",
    "                      for m in ms], index=ms, columns=idxs_scale.keys())\n",
    "    d.index = pd.MultiIndex.from_tuples(d.index)\n",
    "    d['total_scales'] = d.apply(lambda x: len([el for el in x if el > 0]), axis=1)\n",
    "    d['total'] = d.apply(sum, axis=1)\n",
    "    return d"
   ]
  },
  {
   "cell_type": "code",
   "execution_count": 242,
   "id": "0a1bc6f0",
   "metadata": {},
   "outputs": [
    {
     "data": {
      "text/html": [
       "<style type=\"text/css\">\n",
       "#T_7ba74_row0_col0, #T_7ba74_row0_col1, #T_7ba74_row0_col2, #T_7ba74_row0_col3, #T_7ba74_row1_col0, #T_7ba74_row1_col1, #T_7ba74_row1_col2, #T_7ba74_row1_col3, #T_7ba74_row2_col2, #T_7ba74_row3_col2, #T_7ba74_row4_col1, #T_7ba74_row4_col2, #T_7ba74_row4_col3, #T_7ba74_row5_col0, #T_7ba74_row5_col1, #T_7ba74_row5_col2, #T_7ba74_row5_col3, #T_7ba74_row8_col1, #T_7ba74_row9_col0, #T_7ba74_row9_col3, #T_7ba74_row10_col0, #T_7ba74_row10_col3, #T_7ba74_row13_col0, #T_7ba74_row13_col1, #T_7ba74_row13_col2, #T_7ba74_row13_col3, #T_7ba74_row15_col2, #T_7ba74_row16_col1, #T_7ba74_row17_col1, #T_7ba74_row17_col2, #T_7ba74_row18_col0 {\n",
       "  background-color: #abd0e6;\n",
       "  color: #000000;\n",
       "}\n",
       "#T_7ba74_row0_col4, #T_7ba74_row1_col4, #T_7ba74_row2_col0, #T_7ba74_row2_col1, #T_7ba74_row2_col3, #T_7ba74_row2_col4, #T_7ba74_row3_col0, #T_7ba74_row3_col1, #T_7ba74_row3_col3, #T_7ba74_row3_col4, #T_7ba74_row3_col5, #T_7ba74_row3_col6, #T_7ba74_row3_col7, #T_7ba74_row4_col0, #T_7ba74_row4_col4, #T_7ba74_row4_col5, #T_7ba74_row5_col4, #T_7ba74_row6_col4, #T_7ba74_row7_col4, #T_7ba74_row8_col2, #T_7ba74_row9_col1, #T_7ba74_row9_col2, #T_7ba74_row9_col4, #T_7ba74_row10_col1, #T_7ba74_row10_col2, #T_7ba74_row10_col4, #T_7ba74_row10_col5, #T_7ba74_row11_col4, #T_7ba74_row12_col4, #T_7ba74_row13_col4, #T_7ba74_row14_col4, #T_7ba74_row15_col0, #T_7ba74_row15_col1, #T_7ba74_row15_col3, #T_7ba74_row15_col4, #T_7ba74_row15_col5, #T_7ba74_row15_col6, #T_7ba74_row15_col7, #T_7ba74_row16_col0, #T_7ba74_row16_col2, #T_7ba74_row16_col3, #T_7ba74_row16_col4, #T_7ba74_row16_col5, #T_7ba74_row16_col6, #T_7ba74_row16_col7, #T_7ba74_row17_col4, #T_7ba74_row18_col4 {\n",
       "  background-color: #f7fbff;\n",
       "  color: #000000;\n",
       "}\n",
       "#T_7ba74_row0_col5, #T_7ba74_row1_col5, #T_7ba74_row2_col5, #T_7ba74_row5_col5, #T_7ba74_row6_col5, #T_7ba74_row7_col5, #T_7ba74_row8_col5, #T_7ba74_row9_col5, #T_7ba74_row11_col5, #T_7ba74_row12_col5, #T_7ba74_row13_col5, #T_7ba74_row17_col5, #T_7ba74_row18_col5, #T_7ba74_row19_col5 {\n",
       "  background-color: #6aaed6;\n",
       "  color: #f1f1f1;\n",
       "}\n",
       "#T_7ba74_row0_col6, #T_7ba74_row1_col6, #T_7ba74_row5_col6, #T_7ba74_row6_col6, #T_7ba74_row7_col6, #T_7ba74_row8_col6, #T_7ba74_row11_col6, #T_7ba74_row12_col6, #T_7ba74_row13_col6, #T_7ba74_row14_col6, #T_7ba74_row17_col6, #T_7ba74_row18_col6 {\n",
       "  background-color: #1764ab;\n",
       "  color: #f1f1f1;\n",
       "}\n",
       "#T_7ba74_row0_col7, #T_7ba74_row1_col7, #T_7ba74_row5_col7, #T_7ba74_row13_col7 {\n",
       "  background-color: #77b5d9;\n",
       "  color: #000000;\n",
       "}\n",
       "#T_7ba74_row2_col6, #T_7ba74_row10_col6 {\n",
       "  background-color: #d0e1f2;\n",
       "  color: #000000;\n",
       "}\n",
       "#T_7ba74_row2_col7, #T_7ba74_row10_col7 {\n",
       "  background-color: #dfecf7;\n",
       "  color: #000000;\n",
       "}\n",
       "#T_7ba74_row4_col6, #T_7ba74_row9_col6 {\n",
       "  background-color: #94c4df;\n",
       "  color: #000000;\n",
       "}\n",
       "#T_7ba74_row4_col7, #T_7ba74_row9_col7 {\n",
       "  background-color: #c9ddf0;\n",
       "  color: #000000;\n",
       "}\n",
       "#T_7ba74_row6_col0, #T_7ba74_row6_col1, #T_7ba74_row6_col2, #T_7ba74_row6_col3, #T_7ba74_row7_col0, #T_7ba74_row7_col1, #T_7ba74_row7_col2, #T_7ba74_row7_col3, #T_7ba74_row8_col0, #T_7ba74_row8_col3, #T_7ba74_row11_col0, #T_7ba74_row11_col1, #T_7ba74_row11_col2, #T_7ba74_row11_col3, #T_7ba74_row12_col0, #T_7ba74_row12_col1, #T_7ba74_row12_col2, #T_7ba74_row12_col3, #T_7ba74_row17_col3, #T_7ba74_row18_col1, #T_7ba74_row18_col2, #T_7ba74_row18_col3, #T_7ba74_row19_col0, #T_7ba74_row19_col1 {\n",
       "  background-color: #3787c0;\n",
       "  color: #f1f1f1;\n",
       "}\n",
       "#T_7ba74_row6_col7, #T_7ba74_row7_col7, #T_7ba74_row11_col7, #T_7ba74_row12_col7 {\n",
       "  background-color: #2d7dbb;\n",
       "  color: #f1f1f1;\n",
       "}\n",
       "#T_7ba74_row8_col4, #T_7ba74_row14_col0, #T_7ba74_row14_col1, #T_7ba74_row14_col2, #T_7ba74_row14_col3, #T_7ba74_row14_col5, #T_7ba74_row14_col7, #T_7ba74_row17_col0, #T_7ba74_row19_col2, #T_7ba74_row19_col3, #T_7ba74_row19_col4, #T_7ba74_row19_col6 {\n",
       "  background-color: #08306b;\n",
       "  color: #f1f1f1;\n",
       "}\n",
       "#T_7ba74_row8_col7 {\n",
       "  background-color: #4e9acb;\n",
       "  color: #f1f1f1;\n",
       "}\n",
       "#T_7ba74_row17_col7, #T_7ba74_row18_col7 {\n",
       "  background-color: #3c8cc3;\n",
       "  color: #f1f1f1;\n",
       "}\n",
       "#T_7ba74_row19_col7 {\n",
       "  background-color: #084082;\n",
       "  color: #f1f1f1;\n",
       "}\n",
       "</style>\n",
       "<table id=\"T_7ba74\">\n",
       "  <thead>\n",
       "    <tr>\n",
       "      <th class=\"blank\" >&nbsp;</th>\n",
       "      <th class=\"blank level0\" >&nbsp;</th>\n",
       "      <th id=\"T_7ba74_level0_col0\" class=\"col_heading level0 col0\" >panss_pos</th>\n",
       "      <th id=\"T_7ba74_level0_col1\" class=\"col_heading level0 col1\" >panss_neg</th>\n",
       "      <th id=\"T_7ba74_level0_col2\" class=\"col_heading level0 col2\" >panss_o</th>\n",
       "      <th id=\"T_7ba74_level0_col3\" class=\"col_heading level0 col3\" >panss_total</th>\n",
       "      <th id=\"T_7ba74_level0_col4\" class=\"col_heading level0 col4\" >ps_r_dep.severity</th>\n",
       "      <th id=\"T_7ba74_level0_col5\" class=\"col_heading level0 col5\" >ps_r_td.severity</th>\n",
       "      <th id=\"T_7ba74_level0_col6\" class=\"col_heading level0 col6\" >total_scales</th>\n",
       "      <th id=\"T_7ba74_level0_col7\" class=\"col_heading level0 col7\" >total</th>\n",
       "    </tr>\n",
       "  </thead>\n",
       "  <tbody>\n",
       "    <tr>\n",
       "      <th id=\"T_7ba74_level0_row0\" class=\"row_heading level0 row0\" rowspan=\"5\">LM</th>\n",
       "      <th id=\"T_7ba74_level1_row0\" class=\"row_heading level1 row0\" >bert_cgcoh</th>\n",
       "      <td id=\"T_7ba74_row0_col0\" class=\"data row0 col0\" >1</td>\n",
       "      <td id=\"T_7ba74_row0_col1\" class=\"data row0 col1\" >1</td>\n",
       "      <td id=\"T_7ba74_row0_col2\" class=\"data row0 col2\" >1</td>\n",
       "      <td id=\"T_7ba74_row0_col3\" class=\"data row0 col3\" >1</td>\n",
       "      <td id=\"T_7ba74_row0_col4\" class=\"data row0 col4\" >0</td>\n",
       "      <td id=\"T_7ba74_row0_col5\" class=\"data row0 col5\" >1</td>\n",
       "      <td id=\"T_7ba74_row0_col6\" class=\"data row0 col6\" >5</td>\n",
       "      <td id=\"T_7ba74_row0_col7\" class=\"data row0 col7\" >10</td>\n",
       "    </tr>\n",
       "    <tr>\n",
       "      <th id=\"T_7ba74_level1_row1\" class=\"row_heading level1 row1\" >bert_gcoh</th>\n",
       "      <td id=\"T_7ba74_row1_col0\" class=\"data row1 col0\" >1</td>\n",
       "      <td id=\"T_7ba74_row1_col1\" class=\"data row1 col1\" >1</td>\n",
       "      <td id=\"T_7ba74_row1_col2\" class=\"data row1 col2\" >1</td>\n",
       "      <td id=\"T_7ba74_row1_col3\" class=\"data row1 col3\" >1</td>\n",
       "      <td id=\"T_7ba74_row1_col4\" class=\"data row1 col4\" >0</td>\n",
       "      <td id=\"T_7ba74_row1_col5\" class=\"data row1 col5\" >1</td>\n",
       "      <td id=\"T_7ba74_row1_col6\" class=\"data row1 col6\" >5</td>\n",
       "      <td id=\"T_7ba74_row1_col7\" class=\"data row1 col7\" >10</td>\n",
       "    </tr>\n",
       "    <tr>\n",
       "      <th id=\"T_7ba74_level1_row2\" class=\"row_heading level1 row2\" >bert_pppl</th>\n",
       "      <td id=\"T_7ba74_row2_col0\" class=\"data row2 col0\" >0</td>\n",
       "      <td id=\"T_7ba74_row2_col1\" class=\"data row2 col1\" >0</td>\n",
       "      <td id=\"T_7ba74_row2_col2\" class=\"data row2 col2\" >1</td>\n",
       "      <td id=\"T_7ba74_row2_col3\" class=\"data row2 col3\" >0</td>\n",
       "      <td id=\"T_7ba74_row2_col4\" class=\"data row2 col4\" >0</td>\n",
       "      <td id=\"T_7ba74_row2_col5\" class=\"data row2 col5\" >1</td>\n",
       "      <td id=\"T_7ba74_row2_col6\" class=\"data row2 col6\" >2</td>\n",
       "      <td id=\"T_7ba74_row2_col7\" class=\"data row2 col7\" >4</td>\n",
       "    </tr>\n",
       "    <tr>\n",
       "      <th id=\"T_7ba74_level1_row3\" class=\"row_heading level1 row3\" >bert_scoh</th>\n",
       "      <td id=\"T_7ba74_row3_col0\" class=\"data row3 col0\" >0</td>\n",
       "      <td id=\"T_7ba74_row3_col1\" class=\"data row3 col1\" >0</td>\n",
       "      <td id=\"T_7ba74_row3_col2\" class=\"data row3 col2\" >1</td>\n",
       "      <td id=\"T_7ba74_row3_col3\" class=\"data row3 col3\" >0</td>\n",
       "      <td id=\"T_7ba74_row3_col4\" class=\"data row3 col4\" >0</td>\n",
       "      <td id=\"T_7ba74_row3_col5\" class=\"data row3 col5\" >0</td>\n",
       "      <td id=\"T_7ba74_row3_col6\" class=\"data row3 col6\" >1</td>\n",
       "      <td id=\"T_7ba74_row3_col7\" class=\"data row3 col7\" >2</td>\n",
       "    </tr>\n",
       "    <tr>\n",
       "      <th id=\"T_7ba74_level1_row4\" class=\"row_heading level1 row4\" >w2v_tf_scoh</th>\n",
       "      <td id=\"T_7ba74_row4_col0\" class=\"data row4 col0\" >0</td>\n",
       "      <td id=\"T_7ba74_row4_col1\" class=\"data row4 col1\" >1</td>\n",
       "      <td id=\"T_7ba74_row4_col2\" class=\"data row4 col2\" >1</td>\n",
       "      <td id=\"T_7ba74_row4_col3\" class=\"data row4 col3\" >1</td>\n",
       "      <td id=\"T_7ba74_row4_col4\" class=\"data row4 col4\" >0</td>\n",
       "      <td id=\"T_7ba74_row4_col5\" class=\"data row4 col5\" >0</td>\n",
       "      <td id=\"T_7ba74_row4_col6\" class=\"data row4 col6\" >3</td>\n",
       "      <td id=\"T_7ba74_row4_col7\" class=\"data row4 col7\" >6</td>\n",
       "    </tr>\n",
       "    <tr>\n",
       "      <th id=\"T_7ba74_level0_row5\" class=\"row_heading level0 row5\" rowspan=\"8\">graph</th>\n",
       "      <th id=\"T_7ba74_level1_row5\" class=\"row_heading level1 row5\" >L3</th>\n",
       "      <td id=\"T_7ba74_row5_col0\" class=\"data row5 col0\" >1</td>\n",
       "      <td id=\"T_7ba74_row5_col1\" class=\"data row5 col1\" >1</td>\n",
       "      <td id=\"T_7ba74_row5_col2\" class=\"data row5 col2\" >1</td>\n",
       "      <td id=\"T_7ba74_row5_col3\" class=\"data row5 col3\" >1</td>\n",
       "      <td id=\"T_7ba74_row5_col4\" class=\"data row5 col4\" >0</td>\n",
       "      <td id=\"T_7ba74_row5_col5\" class=\"data row5 col5\" >1</td>\n",
       "      <td id=\"T_7ba74_row5_col6\" class=\"data row5 col6\" >5</td>\n",
       "      <td id=\"T_7ba74_row5_col7\" class=\"data row5 col7\" >10</td>\n",
       "    </tr>\n",
       "    <tr>\n",
       "      <th id=\"T_7ba74_level1_row6\" class=\"row_heading level1 row6\" >LCC</th>\n",
       "      <td id=\"T_7ba74_row6_col0\" class=\"data row6 col0\" >2</td>\n",
       "      <td id=\"T_7ba74_row6_col1\" class=\"data row6 col1\" >2</td>\n",
       "      <td id=\"T_7ba74_row6_col2\" class=\"data row6 col2\" >2</td>\n",
       "      <td id=\"T_7ba74_row6_col3\" class=\"data row6 col3\" >2</td>\n",
       "      <td id=\"T_7ba74_row6_col4\" class=\"data row6 col4\" >0</td>\n",
       "      <td id=\"T_7ba74_row6_col5\" class=\"data row6 col5\" >1</td>\n",
       "      <td id=\"T_7ba74_row6_col6\" class=\"data row6 col6\" >5</td>\n",
       "      <td id=\"T_7ba74_row6_col7\" class=\"data row6 col7\" >14</td>\n",
       "    </tr>\n",
       "    <tr>\n",
       "      <th id=\"T_7ba74_level1_row7\" class=\"row_heading level1 row7\" >LSC</th>\n",
       "      <td id=\"T_7ba74_row7_col0\" class=\"data row7 col0\" >2</td>\n",
       "      <td id=\"T_7ba74_row7_col1\" class=\"data row7 col1\" >2</td>\n",
       "      <td id=\"T_7ba74_row7_col2\" class=\"data row7 col2\" >2</td>\n",
       "      <td id=\"T_7ba74_row7_col3\" class=\"data row7 col3\" >2</td>\n",
       "      <td id=\"T_7ba74_row7_col4\" class=\"data row7 col4\" >0</td>\n",
       "      <td id=\"T_7ba74_row7_col5\" class=\"data row7 col5\" >1</td>\n",
       "      <td id=\"T_7ba74_row7_col6\" class=\"data row7 col6\" >5</td>\n",
       "      <td id=\"T_7ba74_row7_col7\" class=\"data row7 col7\" >14</td>\n",
       "    </tr>\n",
       "    <tr>\n",
       "      <th id=\"T_7ba74_level1_row8\" class=\"row_heading level1 row8\" >PE</th>\n",
       "      <td id=\"T_7ba74_row8_col0\" class=\"data row8 col0\" >2</td>\n",
       "      <td id=\"T_7ba74_row8_col1\" class=\"data row8 col1\" >1</td>\n",
       "      <td id=\"T_7ba74_row8_col2\" class=\"data row8 col2\" >0</td>\n",
       "      <td id=\"T_7ba74_row8_col3\" class=\"data row8 col3\" >2</td>\n",
       "      <td id=\"T_7ba74_row8_col4\" class=\"data row8 col4\" >1</td>\n",
       "      <td id=\"T_7ba74_row8_col5\" class=\"data row8 col5\" >1</td>\n",
       "      <td id=\"T_7ba74_row8_col6\" class=\"data row8 col6\" >5</td>\n",
       "      <td id=\"T_7ba74_row8_col7\" class=\"data row8 col7\" >12</td>\n",
       "    </tr>\n",
       "    <tr>\n",
       "      <th id=\"T_7ba74_level1_row9\" class=\"row_heading level1 row9\" >degree_average</th>\n",
       "      <td id=\"T_7ba74_row9_col0\" class=\"data row9 col0\" >1</td>\n",
       "      <td id=\"T_7ba74_row9_col1\" class=\"data row9 col1\" >0</td>\n",
       "      <td id=\"T_7ba74_row9_col2\" class=\"data row9 col2\" >0</td>\n",
       "      <td id=\"T_7ba74_row9_col3\" class=\"data row9 col3\" >1</td>\n",
       "      <td id=\"T_7ba74_row9_col4\" class=\"data row9 col4\" >0</td>\n",
       "      <td id=\"T_7ba74_row9_col5\" class=\"data row9 col5\" >1</td>\n",
       "      <td id=\"T_7ba74_row9_col6\" class=\"data row9 col6\" >3</td>\n",
       "      <td id=\"T_7ba74_row9_col7\" class=\"data row9 col7\" >6</td>\n",
       "    </tr>\n",
       "    <tr>\n",
       "      <th id=\"T_7ba74_level1_row10\" class=\"row_heading level1 row10\" >degree_std</th>\n",
       "      <td id=\"T_7ba74_row10_col0\" class=\"data row10 col0\" >1</td>\n",
       "      <td id=\"T_7ba74_row10_col1\" class=\"data row10 col1\" >0</td>\n",
       "      <td id=\"T_7ba74_row10_col2\" class=\"data row10 col2\" >0</td>\n",
       "      <td id=\"T_7ba74_row10_col3\" class=\"data row10 col3\" >1</td>\n",
       "      <td id=\"T_7ba74_row10_col4\" class=\"data row10 col4\" >0</td>\n",
       "      <td id=\"T_7ba74_row10_col5\" class=\"data row10 col5\" >0</td>\n",
       "      <td id=\"T_7ba74_row10_col6\" class=\"data row10 col6\" >2</td>\n",
       "      <td id=\"T_7ba74_row10_col7\" class=\"data row10 col7\" >4</td>\n",
       "    </tr>\n",
       "    <tr>\n",
       "      <th id=\"T_7ba74_level1_row11\" class=\"row_heading level1 row11\" >number_of_edges</th>\n",
       "      <td id=\"T_7ba74_row11_col0\" class=\"data row11 col0\" >2</td>\n",
       "      <td id=\"T_7ba74_row11_col1\" class=\"data row11 col1\" >2</td>\n",
       "      <td id=\"T_7ba74_row11_col2\" class=\"data row11 col2\" >2</td>\n",
       "      <td id=\"T_7ba74_row11_col3\" class=\"data row11 col3\" >2</td>\n",
       "      <td id=\"T_7ba74_row11_col4\" class=\"data row11 col4\" >0</td>\n",
       "      <td id=\"T_7ba74_row11_col5\" class=\"data row11 col5\" >1</td>\n",
       "      <td id=\"T_7ba74_row11_col6\" class=\"data row11 col6\" >5</td>\n",
       "      <td id=\"T_7ba74_row11_col7\" class=\"data row11 col7\" >14</td>\n",
       "    </tr>\n",
       "    <tr>\n",
       "      <th id=\"T_7ba74_level1_row12\" class=\"row_heading level1 row12\" >number_of_nodes</th>\n",
       "      <td id=\"T_7ba74_row12_col0\" class=\"data row12 col0\" >2</td>\n",
       "      <td id=\"T_7ba74_row12_col1\" class=\"data row12 col1\" >2</td>\n",
       "      <td id=\"T_7ba74_row12_col2\" class=\"data row12 col2\" >2</td>\n",
       "      <td id=\"T_7ba74_row12_col3\" class=\"data row12 col3\" >2</td>\n",
       "      <td id=\"T_7ba74_row12_col4\" class=\"data row12 col4\" >0</td>\n",
       "      <td id=\"T_7ba74_row12_col5\" class=\"data row12 col5\" >1</td>\n",
       "      <td id=\"T_7ba74_row12_col6\" class=\"data row12 col6\" >5</td>\n",
       "      <td id=\"T_7ba74_row12_col7\" class=\"data row12 col7\" >14</td>\n",
       "    </tr>\n",
       "    <tr>\n",
       "      <th id=\"T_7ba74_level0_row13\" class=\"row_heading level0 row13\" rowspan=\"2\">lexical</th>\n",
       "      <th id=\"T_7ba74_level1_row13\" class=\"row_heading level1 row13\" >LTR</th>\n",
       "      <td id=\"T_7ba74_row13_col0\" class=\"data row13 col0\" >1</td>\n",
       "      <td id=\"T_7ba74_row13_col1\" class=\"data row13 col1\" >1</td>\n",
       "      <td id=\"T_7ba74_row13_col2\" class=\"data row13 col2\" >1</td>\n",
       "      <td id=\"T_7ba74_row13_col3\" class=\"data row13 col3\" >1</td>\n",
       "      <td id=\"T_7ba74_row13_col4\" class=\"data row13 col4\" >0</td>\n",
       "      <td id=\"T_7ba74_row13_col5\" class=\"data row13 col5\" >1</td>\n",
       "      <td id=\"T_7ba74_row13_col6\" class=\"data row13 col6\" >5</td>\n",
       "      <td id=\"T_7ba74_row13_col7\" class=\"data row13 col7\" >10</td>\n",
       "    </tr>\n",
       "    <tr>\n",
       "      <th id=\"T_7ba74_level1_row14\" class=\"row_heading level1 row14\" >n_words</th>\n",
       "      <td id=\"T_7ba74_row14_col0\" class=\"data row14 col0\" >3</td>\n",
       "      <td id=\"T_7ba74_row14_col1\" class=\"data row14 col1\" >3</td>\n",
       "      <td id=\"T_7ba74_row14_col2\" class=\"data row14 col2\" >3</td>\n",
       "      <td id=\"T_7ba74_row14_col3\" class=\"data row14 col3\" >3</td>\n",
       "      <td id=\"T_7ba74_row14_col4\" class=\"data row14 col4\" >0</td>\n",
       "      <td id=\"T_7ba74_row14_col5\" class=\"data row14 col5\" >2</td>\n",
       "      <td id=\"T_7ba74_row14_col6\" class=\"data row14 col6\" >5</td>\n",
       "      <td id=\"T_7ba74_row14_col7\" class=\"data row14 col7\" >19</td>\n",
       "    </tr>\n",
       "    <tr>\n",
       "      <th id=\"T_7ba74_level0_row15\" class=\"row_heading level0 row15\" rowspan=\"5\">syntactic</th>\n",
       "      <th id=\"T_7ba74_level1_row15\" class=\"row_heading level1 row15\" >CCONJ</th>\n",
       "      <td id=\"T_7ba74_row15_col0\" class=\"data row15 col0\" >0</td>\n",
       "      <td id=\"T_7ba74_row15_col1\" class=\"data row15 col1\" >0</td>\n",
       "      <td id=\"T_7ba74_row15_col2\" class=\"data row15 col2\" >1</td>\n",
       "      <td id=\"T_7ba74_row15_col3\" class=\"data row15 col3\" >0</td>\n",
       "      <td id=\"T_7ba74_row15_col4\" class=\"data row15 col4\" >0</td>\n",
       "      <td id=\"T_7ba74_row15_col5\" class=\"data row15 col5\" >0</td>\n",
       "      <td id=\"T_7ba74_row15_col6\" class=\"data row15 col6\" >1</td>\n",
       "      <td id=\"T_7ba74_row15_col7\" class=\"data row15 col7\" >2</td>\n",
       "    </tr>\n",
       "    <tr>\n",
       "      <th id=\"T_7ba74_level1_row16\" class=\"row_heading level1 row16\" >DET</th>\n",
       "      <td id=\"T_7ba74_row16_col0\" class=\"data row16 col0\" >0</td>\n",
       "      <td id=\"T_7ba74_row16_col1\" class=\"data row16 col1\" >1</td>\n",
       "      <td id=\"T_7ba74_row16_col2\" class=\"data row16 col2\" >0</td>\n",
       "      <td id=\"T_7ba74_row16_col3\" class=\"data row16 col3\" >0</td>\n",
       "      <td id=\"T_7ba74_row16_col4\" class=\"data row16 col4\" >0</td>\n",
       "      <td id=\"T_7ba74_row16_col5\" class=\"data row16 col5\" >0</td>\n",
       "      <td id=\"T_7ba74_row16_col6\" class=\"data row16 col6\" >1</td>\n",
       "      <td id=\"T_7ba74_row16_col7\" class=\"data row16 col7\" >2</td>\n",
       "    </tr>\n",
       "    <tr>\n",
       "      <th id=\"T_7ba74_level1_row17\" class=\"row_heading level1 row17\" >PART</th>\n",
       "      <td id=\"T_7ba74_row17_col0\" class=\"data row17 col0\" >3</td>\n",
       "      <td id=\"T_7ba74_row17_col1\" class=\"data row17 col1\" >1</td>\n",
       "      <td id=\"T_7ba74_row17_col2\" class=\"data row17 col2\" >1</td>\n",
       "      <td id=\"T_7ba74_row17_col3\" class=\"data row17 col3\" >2</td>\n",
       "      <td id=\"T_7ba74_row17_col4\" class=\"data row17 col4\" >0</td>\n",
       "      <td id=\"T_7ba74_row17_col5\" class=\"data row17 col5\" >1</td>\n",
       "      <td id=\"T_7ba74_row17_col6\" class=\"data row17 col6\" >5</td>\n",
       "      <td id=\"T_7ba74_row17_col7\" class=\"data row17 col7\" >13</td>\n",
       "    </tr>\n",
       "    <tr>\n",
       "      <th id=\"T_7ba74_level1_row18\" class=\"row_heading level1 row18\" >mean_sent_len</th>\n",
       "      <td id=\"T_7ba74_row18_col0\" class=\"data row18 col0\" >1</td>\n",
       "      <td id=\"T_7ba74_row18_col1\" class=\"data row18 col1\" >2</td>\n",
       "      <td id=\"T_7ba74_row18_col2\" class=\"data row18 col2\" >2</td>\n",
       "      <td id=\"T_7ba74_row18_col3\" class=\"data row18 col3\" >2</td>\n",
       "      <td id=\"T_7ba74_row18_col4\" class=\"data row18 col4\" >0</td>\n",
       "      <td id=\"T_7ba74_row18_col5\" class=\"data row18 col5\" >1</td>\n",
       "      <td id=\"T_7ba74_row18_col6\" class=\"data row18 col6\" >5</td>\n",
       "      <td id=\"T_7ba74_row18_col7\" class=\"data row18 col7\" >13</td>\n",
       "    </tr>\n",
       "    <tr>\n",
       "      <th id=\"T_7ba74_level1_row19\" class=\"row_heading level1 row19\" >n_sents</th>\n",
       "      <td id=\"T_7ba74_row19_col0\" class=\"data row19 col0\" >2</td>\n",
       "      <td id=\"T_7ba74_row19_col1\" class=\"data row19 col1\" >2</td>\n",
       "      <td id=\"T_7ba74_row19_col2\" class=\"data row19 col2\" >3</td>\n",
       "      <td id=\"T_7ba74_row19_col3\" class=\"data row19 col3\" >3</td>\n",
       "      <td id=\"T_7ba74_row19_col4\" class=\"data row19 col4\" >1</td>\n",
       "      <td id=\"T_7ba74_row19_col5\" class=\"data row19 col5\" >1</td>\n",
       "      <td id=\"T_7ba74_row19_col6\" class=\"data row19 col6\" >6</td>\n",
       "      <td id=\"T_7ba74_row19_col7\" class=\"data row19 col7\" >18</td>\n",
       "    </tr>\n",
       "  </tbody>\n",
       "</table>\n"
      ],
      "text/plain": [
       "<pandas.io.formats.style.Styler at 0x7faff36c9790>"
      ]
     },
     "execution_count": 242,
     "metadata": {},
     "output_type": "execute_result"
    }
   ],
   "source": [
    "style(metric_by_scale(idxs_scale, idxs_task_scale))"
   ]
  },
  {
   "cell_type": "code",
   "execution_count": 243,
   "id": "a411e2d9",
   "metadata": {},
   "outputs": [],
   "source": [
    "# style(metric_by_scale(idxs_bb_scale, idxs_bb_task_scale))"
   ]
  },
  {
   "cell_type": "code",
   "execution_count": 244,
   "id": "1761510e",
   "metadata": {},
   "outputs": [],
   "source": [
    "def metric_by_scale_w_corr_len(idxs_scale, idxs_bb_scale, idxs_task_scale, idxs_bb_task_scale):\n",
    "    ms = sorted(list(set([y for x in idxs_scale.values() for y in x] + [y for x in idxs_bb_scale.values() for y in x])))\n",
    "    d = pd.DataFrame([tuple(sum(1 if m in idxs_task_scale[t][scale] or m in idxs_bb_task_scale[t][scale] else 0 \n",
    "                                for t in TASKS) \n",
    "                            for scale in idxs_scale) \n",
    "                      for m in ms], index=ms, columns=idxs_scale.keys())\n",
    "    d.index = pd.MultiIndex.from_tuples(d.index)\n",
    "    d['total_scales'] = d.apply(lambda x: len([el for el in x if el > 0]), axis=1)\n",
    "    d['total'] = d.apply(sum, axis=1)\n",
    "    return d"
   ]
  },
  {
   "cell_type": "code",
   "execution_count": 245,
   "id": "6b96cf60",
   "metadata": {},
   "outputs": [],
   "source": [
    "# fig, ax = plt.subplots(1, 1, figsize=(6, 8))\n",
    "# ax.set_xticks([0, 1, 2, 3, 4, 5, 6])\n",
    "\n",
    "# d = metric_by_scale(idxs_scale, idxs_task_scale)\n",
    "# d_l = metric_by_scale_w_corr_len(idxs_scale, idxs_bb_scale, idxs_task_scale, idxs_bb_task_scale)\n",
    "# for i in d_l.index:\n",
    "#     if i not in d.index:\n",
    "#         d.loc[i, 'total_scales'] = 0 \n",
    "# d['metric'] = [': '.join(x) for x in d.index]\n",
    "# d_l['metric'] = [': '.join(x) for x in d_l.index]\n",
    "\n",
    "# pointplot_horizontal_wo_errorbar(d, x='total_scales', ax=ax, markers='o')\n",
    "# pointplot_horizontal_wo_errorbar(d_l, x='total_scales', ax=ax, markers='x')"
   ]
  },
  {
   "cell_type": "code",
   "execution_count": 246,
   "id": "bed54878",
   "metadata": {},
   "outputs": [],
   "source": [
    "# sum_ticks = 5 + 7 + 26\n",
    "# fig, axes = plt.subplots(1, 3, figsize=(20, 8), sharey=True, \n",
    "#                          width_ratios=[5/sum_ticks, 7/sum_ticks, 26/sum_ticks])\n",
    "# plt.subplots_adjust(wspace=0.08)\n",
    "# plt.suptitle('best metric performance across scales and tasks', y=0.925)\n",
    "\n",
    "# axes[0].set_xticks(np.arange(5))\n",
    "# d = metric_by_task(idxs_task_scale, idxs)\n",
    "# d_l = metric_by_task_w_corr_len(idxs_task_scale, idxs_bb_task_scale, idxs, idxs_bb_task)\n",
    "# for i in d_l.index:\n",
    "#     if i not in d.index:\n",
    "#         d.loc[i, 'total_tasks'] = 0 \n",
    "\n",
    "# d['metric'] = [': '.join(x) for x in d.index]\n",
    "# d_l['metric'] = [': '.join(x) for x in d_l.index]\n",
    "# pointplot_horizontal_wo_errorbar(d, x='total_tasks', ax=axes[0], markers='o')\n",
    "# pointplot_horizontal_wo_errorbar(d_l, x='total_tasks', ax=axes[0], markers='x')\n",
    "\n",
    "# axes[1].set_xticks(np.arange(7))\n",
    "# d = metric_by_scale(idxs_scale, idxs_task_scale)\n",
    "# d_l = metric_by_scale_w_corr_len(idxs_scale, idxs_bb_scale, idxs_task_scale, idxs_bb_task_scale)\n",
    "# for i in d_l.index:\n",
    "#     if i not in d.index:\n",
    "#         d.loc[i, 'total_scales'] = 0 \n",
    "#         d.loc[i, 'total'] = 0 \n",
    "# d['metric'] = [': '.join(x) for x in d.index]\n",
    "# d_l['metric'] = [': '.join(x) for x in d_l.index]\n",
    "\n",
    "# pointplot_horizontal_wo_errorbar(d, x='total_scales', ax=axes[1], markers='o')\n",
    "# pointplot_horizontal_wo_errorbar(d_l, x='total_scales', ax=axes[1], markers='x')\n",
    "\n",
    "# axes[2].set_xticks(np.arange(26))\n",
    "# pointplot_horizontal_wo_errorbar(d, x='total', ax=axes[2], markers='o')\n",
    "# pointplot_horizontal_wo_errorbar(d_l, x='total', ax=axes[2], markers='x')"
   ]
  },
  {
   "cell_type": "code",
   "execution_count": 247,
   "id": "66f9f343",
   "metadata": {},
   "outputs": [
    {
     "data": {
      "image/png": "[encoded data removed]",
      "text/plain": [
       "<Figure size 1296x1008 with 5 Axes>"
      ]
     },
     "metadata": {},
     "output_type": "display_data"
    }
   ],
   "source": [
    "fig, axd = plt.subplot_mosaic([['left', 'right'],['bottom', 'bottom']],\n",
    "                              constrained_layout=True, figsize=(18, 14),\n",
    "                              width_ratios=[5/12, 7/12])\n",
    "plt.suptitle('best metric performance across scales and tasks')\n",
    "\n",
    "axd['left'].set_xticks(np.arange(5))\n",
    "axd['left'].set_xlabel('total tasks')\n",
    "d = metric_by_task(idxs_task_scale, idxs)\n",
    "d_l = metric_by_task_w_corr_len(idxs_task_scale, idxs_bb_task_scale, idxs, idxs_bb_task)\n",
    "for i in d_l.index:\n",
    "    if i not in d.index:\n",
    "        d.loc[i, 'total_tasks'] = 0 \n",
    "\n",
    "d['metric'] = [': '.join(x) for x in d.index]\n",
    "d_l['metric'] = [': '.join(x) for x in d_l.index]\n",
    "pointplot_horizontal_wo_errorbar(d, x='total_tasks', ax=axd['left'], markers='o')\n",
    "pointplot_horizontal_wo_errorbar(d_l, x='total_tasks', ax=axd['left'], markers='x')\n",
    "\n",
    "\n",
    "axd['right'].set_xticks(np.arange(7))\n",
    "axd['right'].set_yticks([])\n",
    "axd['right'].set_xlabel('total scales')\n",
    "d = metric_by_scale(idxs_scale, idxs_task_scale)\n",
    "d_l = metric_by_scale_w_corr_len(idxs_scale, idxs_bb_scale, idxs_task_scale, idxs_bb_task_scale)\n",
    "for i in d_l.index:\n",
    "    if i not in d.index:\n",
    "        d.loc[i, 'total_scales'] = 0 \n",
    "        d.loc[i, 'total'] = 0 \n",
    "d['metric'] = [': '.join(x) for x in d.index]\n",
    "d_l['metric'] = [': '.join(x) for x in d_l.index]\n",
    "ax2 = axd['right'].twinx()\n",
    "pointplot_horizontal_wo_errorbar(d, x='total_scales', ax=ax2, markers='o')\n",
    "pointplot_horizontal_wo_errorbar(d_l, x='total_scales', ax=ax2, markers='x')\n",
    "\n",
    "\n",
    "axd['bottom'].set_xticks(np.arange(26))\n",
    "pointplot_horizontal_wo_errorbar(d, x='total', ax=axd['bottom'], markers='o')\n",
    "ax3 = axd['bottom'].twinx()\n",
    "pointplot_horizontal_wo_errorbar(d_l, x='total', ax=ax3, markers='x')\n",
    "plt.savefig(f'{PATH_FIG}/cross_task_compare_performance.png', dpi=150, bbox_inches = 'tight')"
   ]
  },
  {
   "cell_type": "code",
   "execution_count": 248,
   "id": "8e3ff85f",
   "metadata": {},
   "outputs": [],
   "source": [
    "# fig, ax = plt.subplots(1, 1, figsize=(10, 8))\n",
    "\n",
    "# d = metric_by_scale(idxs_scale, idxs_task_scale)\n",
    "# for i in d_l.index:\n",
    "#     if i not in d.index:\n",
    "#         d.loc[i, 'total'] = 0 \n",
    "\n",
    "# d['metric'] = [': '.join(x) for x in d.index]\n",
    "# d_l['metric'] = [': '.join(x) for x in d_l.index]\n",
    "# pointplot_horizontal_wo_errorbar(d, x='total', ax=ax, markers='o')\n",
    "# pointplot_horizontal_wo_errorbar(d_l, x='total', ax=ax, markers='x')"
   ]
  },
  {
   "cell_type": "code",
   "execution_count": 249,
   "id": "6cba292f",
   "metadata": {},
   "outputs": [
    {
     "name": "stdout",
     "output_type": "stream",
     "text": [
      "LM\n",
      "\t bert_cgcoh\n",
      "\t bert_gcoh\n",
      "\t bert_pppl\n",
      "\t bert_scoh\n",
      "\t w2v_tf_scoh\n",
      "\t glove_avg_scoh\n",
      "\t glove_tf_gcoh\n",
      "\t glove_tf_lcoh\n",
      "\t glove_tf_scoh\n",
      "\t w2v_avg_lcoh\n",
      "\t w2v_avg_scoh\n",
      "graph\n",
      "\t L3\n",
      "\t LCC\n",
      "\t LSC\n",
      "\t PE\n",
      "\t degree_average\n",
      "\t degree_std\n",
      "\t number_of_edges\n",
      "\t number_of_nodes\n",
      "lexical\n",
      "\t LTR\n",
      "\t n_words\n",
      "\t MALTR\n",
      "syntactic\n",
      "\t CCONJ\n",
      "\t DET\n",
      "\t PART\n",
      "\t mean_sent_len\n",
      "\t n_sents\n",
      "\t NOUN\n",
      "\t max_sent_len\n",
      "\t std_sent_len\n"
     ]
    }
   ],
   "source": [
    "for i in d.index.levels[0]:\n",
    "    print(i)\n",
    "    for j in d.loc[i].index:\n",
    "        print('\\t', j)"
   ]
  },
  {
   "cell_type": "code",
   "execution_count": 250,
   "id": "d645f2c0",
   "metadata": {},
   "outputs": [],
   "source": [
    "def sort_index(idxs):\n",
    "    ms = sorted(idxs)\n",
    "    for s in ('syntactic: mean_sent_len', 'mean_sent_len', ('syntactic', 'mean_sent_len')):\n",
    "        if s in ms:\n",
    "            ms.remove(s)\n",
    "            ms.append(s)\n",
    "    return ms "
   ]
  },
  {
   "cell_type": "code",
   "execution_count": 251,
   "id": "6ed3b810",
   "metadata": {},
   "outputs": [],
   "source": [
    "abs_med_df = median_bootstrap.applymap(abs)"
   ]
  },
  {
   "cell_type": "code",
   "execution_count": 252,
   "id": "8d5e5b8c",
   "metadata": {},
   "outputs": [],
   "source": [
    "panss_idx = [(task, scale, 'r') for task in TASKS for scale in panss_]\n",
    "ord_idx = [(task, 'panss_total', scale) for task in TASKS for scale in ('ps_r_dep.severity', 'ps_r_td.severity')]\n",
    "corr_len_idx = [(task, 'panss_total', 'r_corr_w_control') for task in TASKS]"
   ]
  },
  {
   "cell_type": "code",
   "execution_count": 253,
   "id": "3107ebdb",
   "metadata": {},
   "outputs": [],
   "source": [
    "mean_abs_corr_len = abs_med_df[corr_len_idx].apply(np.nanmean, axis=1)"
   ]
  },
  {
   "cell_type": "code",
   "execution_count": 254,
   "id": "f7411cac",
   "metadata": {},
   "outputs": [],
   "source": [
    "mean_across_tasks = pd.DataFrame(index=abs_med_df.index)\n",
    "for scale in panss_:\n",
    "    mean_across_tasks[(scale, 'r')] = median_bootstrap[panss_idx].apply(lambda row: [row[task][scale]['r'] for task in TASKS], axis=1)\n",
    "for scale in ('ps_r_dep.severity', 'ps_r_td.severity'):\n",
    "    mean_across_tasks[('panss_total', scale)] = median_bootstrap[ord_idx].apply(lambda row: [row[task]['panss_total'][scale] for task in TASKS], axis=1)\n",
    "mean_across_tasks.columns = pd.MultiIndex.from_tuples(mean_across_tasks.columns)"
   ]
  },
  {
   "cell_type": "code",
   "execution_count": 255,
   "id": "169e16bc",
   "metadata": {},
   "outputs": [
    {
     "data": {
      "text/plain": [
       "r    [-0.11520089152391391, -0.3085175410820099, -0...\n",
       "Name: (syntactic, mean_sent_len), dtype: object"
      ]
     },
     "execution_count": 255,
     "metadata": {},
     "output_type": "execute_result"
    }
   ],
   "source": [
    "mean_across_tasks['panss_pos'].loc[('syntactic', 'mean_sent_len')]"
   ]
  },
  {
   "cell_type": "code",
   "execution_count": 256,
   "id": "9126948d",
   "metadata": {},
   "outputs": [],
   "source": [
    "def add_len_lines_no_task(ax, df, scale, add_neg=True):\n",
    "    if scale not in ('ps_r_dep.severity', 'ps_r_td.severity'): \n",
    "        median = np.median(df[scale].loc[('syntactic', 'mean_sent_len')]['r'])\n",
    "    else:\n",
    "        median = np.median(df['panss_total'].loc[('syntactic', 'mean_sent_len')][scale])\n",
    "    ax.axvline(median, linestyle='--')\n",
    "    if add_neg:\n",
    "        ax.axvline(-median, linestyle='--')"
   ]
  },
  {
   "cell_type": "code",
   "execution_count": 257,
   "id": "4f37cbc5",
   "metadata": {},
   "outputs": [],
   "source": [
    "def check_m(m, scale, scales_df, mean_abs_corr_len, r=0.3, rc=0.3):\n",
    "    if scale not in ('ps_r_dep.severity', 'ps_r_td.severity'): \n",
    "        median = np.median(scales_df[scale].loc[m]['r'])\n",
    "    else:\n",
    "        median = np.median(scales_df['panss_total'].loc[m][scale])\n",
    "    ok_corr = mean_abs_corr_len.loc[m] < rc\n",
    "    mr = abs(median) \n",
    "    ok_scale = mr > r\n",
    "#     if not ok_corr:\n",
    "#         if abs(np.nanmean(scales_df[scale].loc[('syntactic', 'mean_sent_len')]['r'])) < mr:\n",
    "#             ok_corr = True\n",
    "    return ok_corr and ok_scale"
   ]
  },
  {
   "cell_type": "code",
   "execution_count": 258,
   "id": "72a2c2ec",
   "metadata": {},
   "outputs": [],
   "source": [
    "def plot_subplot(ax, measure, scale, mean_across_tasks, mean_abs_corr_len, idxs, plot_abs=False, ax_share=None):\n",
    "    if abs(np.nanmean(mean_across_tasks[scale].loc[('syntactic', 'mean_sent_len')]['r'])) > 0.3:\n",
    "        add_len_lines_no_task(ax, mean_across_tasks, scale)\n",
    "    markers = ['o' if check_m(m, scale, mean_across_tasks, mean_abs_corr_len) else 'x' for m in idxs]\n",
    "    d = prep_horizontal_pointplot_errobar_data(mean_across_tasks[scale].loc[idxs], measure, plot_abs=plot_abs)\n",
    "    pointplot_horizontal(d, x=measure, ax=ax, markers=markers, estimator='mean', errorbar=\"sd\")\n",
    "    ax.set_title(f'{measure} {scale}')\n",
    "    if ax_share:\n",
    "        ax.sharex(ax_share)"
   ]
  },
  {
   "cell_type": "code",
   "execution_count": 259,
   "id": "021ec7f6",
   "metadata": {},
   "outputs": [],
   "source": [
    "fig, axes = plt.subplots(3, 2, figsize=(22, 18))\n",
    "fig.suptitle(f'cross-scale cross-type metric comparison averaged across tasks', y=0.91)\n",
    "plt.subplots_adjust(wspace=0.3) \n",
    "ms = sorted(list(set([y for x in idxs_scale.values() for y in x] + [y for x in idxs_bb_scale.values() for y in x])))\n",
    "\n",
    "idxs_ = sort_index(ms)\n",
    "\n",
    "measure = 'r'\n",
    "plot_abs = False\n",
    "\n",
    "axs = axes.flatten()\n",
    "for i, scale in enumerate(panss_order):\n",
    "    ax = axs[i]\n",
    "    plot_subplot(ax, measure, scale, mean_across_tasks, mean_abs_corr_len, idxs_)\n",
    "\n",
    "add_grey(axes[:2, :])\n",
    "\n",
    "scale = 'ps_r_td.severity'\n",
    "ax = axes[2, 0]\n",
    "if abs(np.nanmean(mean_across_tasks['panss_total'].loc[('syntactic', 'mean_sent_len')][scale])) > 0.09:\n",
    "    add_len_lines_no_task(ax, mean_across_tasks, scale)\n",
    "markers = ['o' if check_m(m, scale, mean_across_tasks, mean_abs_corr_len, r=0.09) else 'x' for m in idxs_]\n",
    "d = prep_horizontal_pointplot_errobar_data(mean_across_tasks['panss_total'].loc[idxs_], 'ps_r_td.severity')\n",
    "pointplot_horizontal(d, x='ps_r_td.severity', ax=ax, markers=markers, estimator='mean', errorbar=\"sd\")\n",
    "ax.set_xlabel('pseudo r squared')\n",
    "ax.set_title(f'td severity')\n",
    "\n",
    "scale = 'ps_r_dep.severity'\n",
    "ax = axes[2, 1]\n",
    "if abs(np.nanmean(mean_across_tasks['panss_total'].loc[('syntactic', 'mean_sent_len')][scale])) > 0.09:\n",
    "    add_len_lines_no_task(ax, mean_across_tasks, scale)\n",
    "markers = ['o' if check_m(m, scale, mean_across_tasks, mean_abs_corr_len, r=0.09) else 'x' for m in idxs_]\n",
    "d = prep_horizontal_pointplot_errobar_data(mean_across_tasks['panss_total'].loc[idxs_], 'ps_r_dep.severity')\n",
    "pointplot_horizontal(d, x='ps_r_dep.severity', ax=ax, markers=markers, estimator='mean', errorbar=\"sd\")\n",
    "ax.set_xlabel('pseudo r squared')\n",
    "ax.set_title(f'dep severity')\n",
    "ax.sharex(axes[2, 0])\n",
    "add_grey(axes[2, :], r=0.09)\n",
    "\n",
    "plt.savefig(f'{PATH_FIG}/cross_task_average_compare_r.png', dpi=150, bbox_inches = 'tight')\n",
    "plt.close(fig)"
   ]
  },
  {
   "cell_type": "code",
   "execution_count": 260,
   "id": "c326ecfd",
   "metadata": {},
   "outputs": [
    {
     "data": {
      "image/png": "[encoded data removed]",
      "text/plain": [
       "<Figure size 720x576 with 1 Axes>"
      ]
     },
     "metadata": {},
     "output_type": "display_data"
    }
   ],
   "source": [
    "ms = sorted(list(set([y for x in idxs_scale.values() for y in x] + [y for x in idxs_bb_scale.values() for y in x])))\n",
    "markers = ['o' if pd.isna(mean_abs_corr_len[m]) or mean_abs_corr_len[m] <= 0.3 else 'x' for m in sort_index(ms)]\n",
    "median_asb_r = pd.DataFrame(abs_med_df.loc[ms][panss_idx].apply(lambda x: x.to_list(), axis=1), columns=['mean of median abs r'])\n",
    "\n",
    "d = prep_horizontal_pointplot_errobar_data(median_asb_r, 'mean of median abs r')\n",
    "fig, ax = plt.subplots(1, 1, figsize=(10, 8))\n",
    "pointplot_horizontal(d, 'mean of median abs r', ax, markers=markers)\n",
    "add_grey(ax)\n",
    "fig.suptitle('average of median r values across tasks and panss scales', y=0.925);\n",
    "plt.savefig(f'{PATH_FIG}/cross_task_compare_r.png', dpi=150, bbox_inches = 'tight')"
   ]
  },
  {
   "cell_type": "code",
   "execution_count": 261,
   "id": "ecd07b97",
   "metadata": {},
   "outputs": [
    {
     "data": {
      "text/plain": [
       "30"
      ]
     },
     "execution_count": 261,
     "metadata": {},
     "output_type": "execute_result"
    }
   ],
   "source": [
    "len(ms)"
   ]
  },
  {
   "cell_type": "code",
   "execution_count": 262,
   "id": "8b6ad3a3",
   "metadata": {},
   "outputs": [
    {
     "data": {
      "text/plain": [
       "20"
      ]
     },
     "execution_count": 262,
     "metadata": {},
     "output_type": "execute_result"
    }
   ],
   "source": [
    "len(set([y for x in idxs_scale.values() for y in x]))"
   ]
  },
  {
   "cell_type": "code",
   "execution_count": 263,
   "id": "fbcdea4e",
   "metadata": {},
   "outputs": [],
   "source": [
    "# ms = sorted(list(set([y for x in idxs_scale.values() for y in x] + [y for x in idxs_bb_scale.values() for y in x])))\n",
    "# markers = ['o' if pd.isna(mean_abs_corr_len[m]) or mean_abs_corr_len[m] <= 0.3 else 'x' for m in sort_index(ms)]\n",
    "# median_asb_r = pd.DataFrame(abs_med_df.loc[ms][ord_idx].apply(lambda x: x.to_list(), axis=1), columns=['mean of median abs r'])\n",
    "# d = prep_horizontal_pointplot_errobar_data(median_asb_r, 'mean of median abs r')\n",
    "# fig, ax = plt.subplots(1, 1, figsize=(10, 8))\n",
    "# pointplot_horizontal(d, 'mean of median abs r', ax, markers=markers)\n",
    "# add_grey(ax, r=0.09)\n",
    "# fig.suptitle('average of median r values across tasks and ordered scales', y=0.925);"
   ]
  },
  {
   "cell_type": "code",
   "execution_count": 264,
   "id": "79f82ec6",
   "metadata": {},
   "outputs": [],
   "source": [
    "def add_len_lines(ax, df, task, scale, add_neg=True):\n",
    "    if scale not in ('ps_r_dep.severity', 'ps_r_td.severity'): \n",
    "        median = np.median(df[task][scale].loc[('syntactic', 'mean_sent_len')]['r'])\n",
    "    else:\n",
    "        median = np.median(df[task]['panss_total'].loc[('syntactic', 'mean_sent_len')][scale])\n",
    "    ax.axvline(median, linestyle='--')\n",
    "    if add_neg:\n",
    "        ax.axvline(-median, linestyle='--')"
   ]
  },
  {
   "cell_type": "code",
   "execution_count": 265,
   "id": "f501c257",
   "metadata": {},
   "outputs": [],
   "source": [
    "def plot_one_scale_for_all_tasks_across_best_metrics(df, idxs, idxs_task_scale, scale, \n",
    "                                                     measure='r', plot_abs=False, r=0.3, title=None,\n",
    "                                                     xname=None, figsize=(18, 6),\n",
    "                                                     add_neg=True):\n",
    "    fig, axes = plt.subplots(2, 2, figsize=figsize, sharex=True)\n",
    "    tit_scale = scale if measure == 'r' else measure\n",
    "    if title is None:\n",
    "        title=f'cross-task cross-type metric comparison for {tit_scale}'\n",
    "    fig.suptitle(title, y=0.95)\n",
    "    plt.subplots_adjust(wspace=0.4, hspace=0.1) #left=None, bottom=None, right=None, top=None, wspace=None, hspace=None)\n",
    "\n",
    "    idxs = sort_index(idxs)\n",
    "    \n",
    "    axs = axes.flatten()\n",
    "    for i, task in enumerate(TASKS):\n",
    "        ax = axs[i]\n",
    "        if ('syntactic', 'mean_sent_len') in idxs_task_scale[task][tit_scale]:\n",
    "            add_len_lines(ax, df, task, tit_scale, add_neg=add_neg)\n",
    "        markers = ['o' if m in idxs_task_scale[task][tit_scale] else 'x' for m in idxs]\n",
    "        d = prep_horizontal_pointplot_errobar_data(df[task][scale].loc[idxs], measure, plot_abs=plot_abs)\n",
    "        pointplot_horizontal(d, x=measure, ax=ax, markers=markers)\n",
    "        ax.set_title(task)\n",
    "    add_grey(axes, r=r)\n",
    "    \n",
    "    \n",
    "    if xname is None:\n",
    "        xname = measure\n",
    "    \n",
    "    for ax in axes.reshape(-1): \n",
    "        label = 'abs ' + xname if plot_abs else xname\n",
    "        ax.set_xlabel(label)\n",
    "    \n",
    "    return fig\n",
    "    # plt.savefig(f'{PATH_FIG}/compare_r.png', dpi=150, bbox_inches = 'tight')"
   ]
  },
  {
   "cell_type": "code",
   "execution_count": 266,
   "id": "75e15ffe",
   "metadata": {},
   "outputs": [],
   "source": [
    "# fig = plot_one_scale_for_all_tasks_across_best_metrics(reformed_d, \n",
    "#                                                        set(idxs_scale['panss_pos'] + idxs_bb_scale['panss_pos']), \n",
    "#                                                        idxs_task_scale, scale='panss_pos')\n",
    "    "
   ]
  },
  {
   "cell_type": "code",
   "execution_count": 267,
   "id": "a873b361",
   "metadata": {},
   "outputs": [],
   "source": [
    "for p_scale in panss_:\n",
    "    fig = plot_one_scale_for_all_tasks_across_best_metrics(reformed_d, \n",
    "                                                           set(idxs_scale[scale] + idxs_bb_scale[scale]), \n",
    "                                                           idxs_task_scale, scale=p_scale)\n",
    "    plt.savefig(f'{PATH_FIG}/compare_{p_scale}.png', dpi=150, bbox_inches = 'tight')\n",
    "    plt.close(fig)"
   ]
  },
  {
   "cell_type": "code",
   "execution_count": 268,
   "id": "787ab732",
   "metadata": {},
   "outputs": [],
   "source": [
    "# _ = plot_one_scale_for_all_tasks_across_best_metrics(reformed_d, idxs_scale['panss_pos'], idxs_task_scale, scale='panss_pos')"
   ]
  },
  {
   "cell_type": "code",
   "execution_count": 269,
   "id": "fba2b31a",
   "metadata": {},
   "outputs": [],
   "source": [
    "fig = plot_one_scale_for_all_tasks_across_best_metrics(reformed_d, \n",
    "                                                       set(idxs_scale['ps_r_dep.severity'] \n",
    "                                                           + idxs_bb_scale['ps_r_dep.severity']), \n",
    "                                                       idxs_task_scale, \n",
    "                                                     scale='panss_pos', measure='ps_r_dep.severity', r=0.09, \n",
    "                                                     title='cross-task cross-type metric comparison for dep severity',\n",
    "                                                     xname='pseudo r squared', add_neg=False)\n",
    "plt.savefig(f'{PATH_FIG}/compare_dep_severity.png', dpi=150, bbox_inches = 'tight')\n",
    "plt.close(fig)"
   ]
  },
  {
   "cell_type": "code",
   "execution_count": 270,
   "id": "be172f07",
   "metadata": {
    "scrolled": true
   },
   "outputs": [],
   "source": [
    "fig = plot_one_scale_for_all_tasks_across_best_metrics(reformed_d, \n",
    "                                                       set(idxs_scale['ps_r_td.severity']\n",
    "                                                           + idxs_bb_scale['ps_r_td.severity']),\n",
    "                                                       idxs_task_scale, scale='panss_pos', \n",
    "                                                       measure='ps_r_td.severity', r=0.09, \n",
    "                                                       title='cross-task cross-type metric comparison for td severity',\n",
    "                                                       xname='pseudo r squared', add_neg=False)\n",
    "plt.savefig(f'{PATH_FIG}/compare_td_severity.png', dpi=150, bbox_inches = 'tight')\n",
    "plt.close(fig)"
   ]
  },
  {
   "cell_type": "code",
   "execution_count": 271,
   "id": "73505e4a",
   "metadata": {},
   "outputs": [],
   "source": [
    "fig = plot_one_scale_for_all_tasks_across_best_metrics(reformed_d, bad_ms, \n",
    "                                                       {t: {'r_corr_w_control': idxs_corr_len[t]} for t in idxs_corr_len}, \n",
    "                                                         scale='panss_pos', measure='r_corr_w_control', \n",
    "                                                         title='cross-task cross-type metric comparison for correlation with mean sent len',\n",
    "                                                         xname='r', figsize=(20, 20))\n",
    "plt.savefig(f'{PATH_FIG}/compare_corr_len.png', dpi=150, bbox_inches = 'tight')\n",
    "plt.close(fig)"
   ]
  },
  {
   "cell_type": "code",
   "execution_count": 272,
   "id": "54d6b968",
   "metadata": {},
   "outputs": [],
   "source": [
    "def plot_all_scales_for_task_across_best_metrics(df, idxs, idxs_task_scale, task, \n",
    "                                                 measure='r', plot_abs=False, figsize=(18, 8)):\n",
    "    absolute_value = f' (absolute r value)' if plot_abs else ''\n",
    "    ab = 'abs ' if plot_abs else ''\n",
    "    fig, axes = plt.subplots(3, 2, figsize=figsize)\n",
    "    fig.suptitle(f'cross-scale cross-type metric comparison {absolute_value} for {task} task', y=0.925)\n",
    "    plt.subplots_adjust(wspace=0.4, hspace=0.3)\n",
    "    \n",
    "    idxs = sort_index(idxs)\n",
    "    \n",
    "    scale = 'panss_pos'\n",
    "    if ('syntactic', 'mean_sent_len') in idxs_task_scale[task][scale]:\n",
    "        add_len_lines(axes[0, 0], df, task, scale)\n",
    "    markers = ['o' if m in idxs_task_scale[task][scale] else 'x' for m in idxs]\n",
    "    d = prep_horizontal_pointplot_errobar_data(df[task][scale].loc[idxs], measure, plot_abs=plot_abs)\n",
    "    pointplot_horizontal(d, x=measure, ax=axes[0, 0], markers=markers)\n",
    "    axes[0, 0].set_title(f'{ab}{measure} {scale}')\n",
    "\n",
    "    scale = 'panss_neg'\n",
    "    if ('syntactic', 'mean_sent_len') in idxs_task_scale[task][scale]:\n",
    "        add_len_lines(axes[0, 1], df, task, scale)\n",
    "    markers = ['o' if m in idxs_task_scale[task][scale] else 'x' for m in idxs]\n",
    "    d = prep_horizontal_pointplot_errobar_data(df[task][scale].loc[idxs], measure, plot_abs=plot_abs)\n",
    "    pointplot_horizontal(d, x=measure, ax=axes[0, 1], markers=markers)\n",
    "    axes[0, 1].set_title(f'{ab}{measure} {scale}')\n",
    "    axes[0, 1].sharex(axes[0, 0])\n",
    "\n",
    "    scale = 'panss_o'\n",
    "    if ('syntactic', 'mean_sent_len') in idxs_task_scale[task][scale]:\n",
    "        add_len_lines(axes[1, 0], df, task, scale)\n",
    "    markers = ['o' if m in idxs_task_scale[task][scale] else 'x' for m in idxs]\n",
    "    d = prep_horizontal_pointplot_errobar_data(df[task][scale].loc[idxs], measure, plot_abs=plot_abs)\n",
    "    pointplot_horizontal(d, x=measure, ax=axes[1, 0], markers=markers)\n",
    "    axes[1, 0].set_title(f'{ab}{measure} {scale}')\n",
    "    axes[1, 0].sharex(axes[0, 0])\n",
    "\n",
    "    scale = 'panss_total'\n",
    "    if ('syntactic', 'mean_sent_len') in idxs_task_scale[task][scale]:\n",
    "        add_len_lines(axes[1, 1], df, task, scale)\n",
    "    markers = ['o' if m in idxs_task_scale[task][scale] else 'x' for m in idxs]\n",
    "    d = prep_horizontal_pointplot_errobar_data(df[task][scale].loc[idxs], measure, plot_abs=plot_abs)\n",
    "    pointplot_horizontal(d, x=measure, ax=axes[1, 1], markers=markers)\n",
    "    axes[1, 1].set_title(f'{ab}{measure} {scale}')\n",
    "    axes[1, 1].sharex(axes[0, 0])\n",
    "    add_grey(axes[:2, :])\n",
    "    \n",
    "    if plot_abs:\n",
    "        for ax in axes[:2, :].reshape(-1): \n",
    "            ax.set_xlabel('abs ' + measure);\n",
    "\n",
    "    scale = 'ps_r_td.severity'\n",
    "    if ('syntactic', 'mean_sent_len') in idxs_task_scale[task][scale]:\n",
    "        add_len_lines(axes[2, 0], df, task, scale, add_neg=False)\n",
    "    markers = ['o' if m in idxs_task_scale[task][scale] else 'x' for m in idxs]\n",
    "    d = prep_horizontal_pointplot_errobar_data(df[task]['panss_total'].loc[idxs], 'ps_r_td.severity')\n",
    "    pointplot_horizontal(d, x='ps_r_td.severity', ax=axes[2, 0], markers=markers)\n",
    "    axes[2, 0].set_xlabel('pseudo r squared');\n",
    "    axes[2, 0].set_title(f'td severity')\n",
    "\n",
    "    scale = 'ps_r_dep.severity'\n",
    "    if ('syntactic', 'mean_sent_len') in idxs_task_scale[task][scale]:\n",
    "        add_len_lines(axes[2, 1], df, task, scale, add_neg=False)\n",
    "    markers = ['o' if m in idxs_task_scale[task][scale] else 'x' for m in idxs]\n",
    "    d = prep_horizontal_pointplot_errobar_data(df[task]['panss_total'].loc[idxs], 'ps_r_dep.severity')\n",
    "    pointplot_horizontal(d, x='ps_r_dep.severity', ax=axes[2, 1], markers=markers)\n",
    "    axes[2, 1].set_xlabel('pseudo r squared');\n",
    "    axes[2, 1].set_title(f'dep severity')\n",
    "    axes[2, 1].sharex(axes[2, 0])\n",
    "    add_grey(axes[2, :], r=0.09)\n",
    "    \n",
    "    return fig"
   ]
  },
  {
   "cell_type": "code",
   "execution_count": 273,
   "id": "a60f673a",
   "metadata": {},
   "outputs": [],
   "source": [
    "figsizes = {\n",
    "    'adventure': (18, 8),\n",
    "    'chair': (18, 13),\n",
    "    'present': (18, 15),\n",
    "    'sportsman': (18, 10),\n",
    "}\n",
    "for task in TASKS:\n",
    "    fig = plot_all_scales_for_task_across_best_metrics(reformed_d, \n",
    "                                                       set(idxs[task]).union(idxs_bb_task[task]),\n",
    "                                                       idxs_task_scale, task, figsize=figsizes[task])\n",
    "    plt.savefig(f'{PATH_FIG}/compare_{task}.png', dpi=150, bbox_inches = 'tight')\n",
    "    plt.close(fig)"
   ]
  },
  {
   "cell_type": "code",
   "execution_count": 274,
   "id": "278e6bbd",
   "metadata": {},
   "outputs": [],
   "source": [
    "# plot_all_scales_for_task_across_best_metrics(reformed_d, set(idxs['chair']).union(idxs_bb_task['chair']), idxs_task_scale, 'chair')"
   ]
  },
  {
   "cell_type": "code",
   "execution_count": 275,
   "id": "df366e83",
   "metadata": {},
   "outputs": [],
   "source": [
    "def select_ok_metrics_t(row, low=0.25, high=0.75):\n",
    "    q_low = np.quantile(row['panss_total', 't'], low)\n",
    "    q_high = np.quantile(row['panss_total', 't'], high)\n",
    "    return q_low > 0 or q_high < 0"
   ]
  },
  {
   "cell_type": "code",
   "execution_count": 276,
   "id": "cb7e1844",
   "metadata": {},
   "outputs": [
    {
     "data": {
      "text/plain": [
       "MultiIndex([], )"
      ]
     },
     "execution_count": 276,
     "metadata": {},
     "output_type": "execute_result"
    }
   ],
   "source": [
    "reformed_d['chair'][reformed_d['chair'].apply(select_ok_metrics_t, axis=1)].index"
   ]
  },
  {
   "cell_type": "code",
   "execution_count": 277,
   "id": "28096ba0",
   "metadata": {},
   "outputs": [
    {
     "data": {
      "text/plain": [
       "MultiIndex([], )"
      ]
     },
     "execution_count": 277,
     "metadata": {},
     "output_type": "execute_result"
    }
   ],
   "source": [
    "reformed_d['adventure'][reformed_d['adventure'].apply(select_ok_metrics_t, axis=1)].index"
   ]
  },
  {
   "cell_type": "code",
   "execution_count": 278,
   "id": "dfd1ec58",
   "metadata": {},
   "outputs": [
    {
     "data": {
      "text/plain": [
       "MultiIndex([], )"
      ]
     },
     "execution_count": 278,
     "metadata": {},
     "output_type": "execute_result"
    }
   ],
   "source": [
    "reformed_d['sportsman'][reformed_d['sportsman'].apply(select_ok_metrics_t, axis=1)].index"
   ]
  },
  {
   "cell_type": "code",
   "execution_count": 279,
   "id": "265cfd88",
   "metadata": {},
   "outputs": [
    {
     "data": {
      "text/plain": [
       "MultiIndex([], )"
      ]
     },
     "execution_count": 279,
     "metadata": {},
     "output_type": "execute_result"
    }
   ],
   "source": [
    "reformed_d['present'][reformed_d['present'].apply(select_ok_metrics_t, axis=1)].index"
   ]
  }
 ],
 "metadata": {
  "kernelspec": {
   "display_name": "Python 3 (ipykernel)",
   "language": "python",
   "name": "python3"
  },
  "language_info": {
   "codemirror_mode": {
    "name": "ipython",
    "version": 3
   },
   "file_extension": ".py",
   "mimetype": "text/x-python",
   "name": "python",
   "nbconvert_exporter": "python",
   "pygments_lexer": "ipython3",
   "version": "3.9.7"
  }
 },
 "nbformat": 4,
 "nbformat_minor": 5
}
